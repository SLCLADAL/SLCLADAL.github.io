{
    "cells": [
        {
            "cell_type": "markdown",
            "metadata": {},
            "source": [
                "![An interactive LADAL notebook](https://slcladal.github.io/images/uq1.jpg)\n",
                "\n",
                "# Analyzing Co-Occurrences and Collocations\n",
                "\n",
                "This tutorial is the interactive Jupyter notebook accompanying the [*Language Technology and Data Analysis Laboratory* (LADAL) tutorial *Analyzing Co-Occurrences and Collocations in R*](https://ladal.edu.au/coll.html). \n",
                "\n",
                "\n",
                "\n",
                "\n",
                "**Preparation and session set up**\n",
                "\n",
                "We set up our session by activating the packages we need for this tutorial. \n"
            ]
        },
        {
            "cell_type": "code",
            "execution_count": null,
            "metadata": {},
            "outputs": [],
            "source": [
                "# load packages\n",
                "library(GGally)\n",
                "library(ggdendro)\n",
                "library(Matrix)\n",
                "library(quanteda)\n",
                "library(quanteda.textplots)\n",
                "library(dplyr)\n",
                "library(stringr)\n",
                "library(tm)\n",
                "library(tidytext)\n"
            ]
        },
        {
            "cell_type": "markdown",
            "metadata": {},
            "source": [
                "Once you have initiated the session by executing the code shown above, you are good to go.\n",
                "\n",
                "If you are using this notebook on your own computer and you have not already installed the R packages listed above, you need to install them. You can install them by replacing the `library` command with `install.packages` and putting the name of the package into quotation marks like this: `install.packages(\"dplyr\")`. Then, you simply run this command and R will install the package you specified.\n",
                "\n",
                "\n",
                "\n",
                "# Extracting N-Grams and Collocations\n",
                "\n",
                "Collocations are terms that co-occur (significantly) more often together than would be expected by chance. A typical example of a collocation is *Merry Christmas* because the words *merry* and *Christmas* occur together more frequently together than would be expected, if words were just randomly stringed together.  \n",
                "\n",
                "N-grams are related to collocates in that they represent words that occur together (bi-grams are two words that occur together, tri-grams three words and so on). Fortunately, creating N-gram lists is very easy. We will use the Charles Darwin's *On the Origin of Species by Means of Natural Selection* as a data source and begin by generating a bi-gram list. As a first step, we load the data and split it into individual words.\n"
            ]
        },
        {
            "cell_type": "code",
            "execution_count": null,
            "metadata": {},
            "outputs": [],
            "source": [
                "# read in text\n",
                "darwin <- base::readRDS(url(\"https://slcladal.github.io/data/cdo.rda\", \"rb\")) %>%\n",
                "  paste0(collapse = \" \") %>%\n",
                "  stringr::str_squish() %>%\n",
                "  stringr::str_remove_all(\"- \")\n",
                "# split text into words\n",
                "darwin_split <- darwin %>% \n",
                "  as_tibble() %>%\n",
                "  tidytext::unnest_tokens(words, value)\n",
                "# inspect\n",
                "head(darwin_split)  \n"
            ]
        },
        {
            "cell_type": "markdown",
            "metadata": {},
            "source": [
                "***\n",
                "\n",
                "## Using your own data\n",
                "\n",
                "While the tutorial uses data from the LADAL website, you can also use your own data. You can see below what you need to do to upload and use your own data.\n",
                "\n",
                "The code chunk below allows you to upload two files from your own computer. To be able to load your own data, you need to click on the folder symbol to the left of the screen:\n",
                "\n",
                "![Binder Folder Symbol](https://slcladal.github.io/images/binderfolder.JPG)\n",
                "\n",
                "\n",
                "Then on the upload symbol.\n",
                "\n",
                "![Binder Upload Symbol](https://slcladal.github.io/images/binderupload.JPG)\n",
                "\n",
                "Next, upload the files you want to analyze and then the respective files names in the file argument of the scan function. When you then execute the code (like to code chunk below, you will upload your own data.\n"
            ]
        },
        {
            "cell_type": "code",
            "execution_count": null,
            "metadata": {},
            "outputs": [],
            "source": [
                "mytext1 <- scan(file = \"linguistics01.txt\",\n",
                "            what = \"char\", \n",
                "            sep = \"\", \n",
                "            quote = \"\", \n",
                "            quiet = T, \n",
                "            skipNul = T) %>%\n",
                "            paste0(collapse = \" \")\n",
                "mytext2 <- scan(file = \"linguistics02.txt\",\n",
                "            what = \"char\", \n",
                "            sep = \"\", \n",
                "            quote = \"\", \n",
                "            quiet = T, \n",
                "            skipNul = T) %>%\n",
                "            paste0(collapse = \" \")\n",
                "# inspect\n",
                "mytext1; mytext2\n"
            ]
        },
        {
            "cell_type": "markdown",
            "metadata": {},
            "source": [
                "**Keep in mind though that you need to adapt the names of the texts in the code chunks below so that the code below work on your own texts!**\n",
                "\n",
                "***\n",
                "\n",
                "\n",
                "## Extracting N-Grams with quanteda\n",
                "\n",
                "The `quanteda` package offers excellent and very fast functions for extracting bigrams.\n"
            ]
        },
        {
            "cell_type": "code",
            "execution_count": null,
            "metadata": {},
            "outputs": [],
            "source": [
                "#clean corpus\n",
                "darwin_clean <- darwin %>%\n",
                "  stringr::str_to_title()\n",
                "# tokenize corpus\n",
                "darwin_tokzd <- quanteda::tokens(darwin_clean)\n",
                "# extract bigrams\n",
                "BiGrams <- darwin_tokzd %>% \n",
                "       quanteda::tokens_remove(stopwords(\"en\")) %>% \n",
                "       quanteda::tokens_select(pattern = \"^[A-Z]\", \n",
                "                               valuetype = \"regex\",\n",
                "                               case_insensitive = FALSE, \n",
                "                               padding = TRUE) %>% \n",
                "       quanteda.textstats::textstat_collocations(min_count = 5, tolower = FALSE)\n",
                "# inspect\n",
                "head(BiGrams)\n"
            ]
        },
        {
            "cell_type": "markdown",
            "metadata": {},
            "source": [
                "We can also extract bigrams very easily using the `tokens_compound` function which understands that we are looking for two-word expressions.\n",
                "\n"
            ]
        },
        {
            "cell_type": "code",
            "execution_count": null,
            "metadata": {},
            "outputs": [],
            "source": [
                "ngram_extract <- quanteda::tokens_compound(darwin_tokzd, pattern = BiGrams)\n",
                "\n"
            ]
        },
        {
            "cell_type": "markdown",
            "metadata": {},
            "source": [
                "We can now generate concordances (and clean the resulting kwic table - the keyword-in-context table).\n",
                "\n"
            ]
        },
        {
            "cell_type": "code",
            "execution_count": null,
            "metadata": {},
            "outputs": [],
            "source": [
                "ngram_kwic <- kwic(ngram_extract, pattern = c(\"Natural_Selection\", \"South_America\")) %>%\n",
                "  as.data.frame() %>%\n",
                "  dplyr::select(-to, -from, -pattern)\n",
                "# inspect\n",
                "head(ngram_kwic)\n"
            ]
        },
        {
            "cell_type": "markdown",
            "metadata": {},
            "source": [
                "The disadvantage here is that we are strictly speaking only extracting N-Grams but not collocates as collocates do not necessarily have to occur in direct adjacency. The following section shows how to expand the extraction of n-grams to the extraction of collocates.\n",
                "\n",
                "# Finding Collocations\n",
                "\n",
                "Both N-grams and collocations are not only an important concept in language teaching but they are also fundamental in Text Analysis and many other research areas working with language data. Unfortunately, words that collocate do not have to be immediately adjacent but can also encompass several slots. This is unfortunate because it makes retrieval of collocates substantially more difficult compared with a situation in which we only need to extract words that occur right next to each other.\n",
                "\n",
                "In the following, we will extract collocations from Charles Darwin's *On the Origin of Species by Means of Natural Selection*. In a first step, we will split the Origin into individual sentences.\n"
            ]
        },
        {
            "cell_type": "code",
            "execution_count": null,
            "metadata": {},
            "outputs": [],
            "source": [
                "# read in and process text\n",
                "darwinsentences <- darwin %>%\n",
                "  stringr::str_squish() %>%\n",
                "  tokenizers::tokenize_sentences(.) %>%\n",
                "  unlist() %>%\n",
                "  stringr::str_remove_all(\"- \") %>%\n",
                "  stringr::str_replace_all(\"\\\\W\", \" \") %>%\n",
                "  stringr::str_squish()\n",
                "# inspect data\n",
                "head(darwinsentences)\n"
            ]
        },
        {
            "cell_type": "markdown",
            "metadata": {},
            "source": [
                "The first element does not represent a full sentence because we selected a sample of the text which began in the middle of a sentence rather than at its beginning. In a next step, we will create a matrix that shows how often each word co-occurred with each other word in the data.\n",
                "\n"
            ]
        },
        {
            "cell_type": "code",
            "execution_count": null,
            "metadata": {},
            "outputs": [],
            "source": [
                "# convert into corpus\n",
                "darwincorpus <- Corpus(VectorSource(darwinsentences))\n",
                "# create vector with words to remove\n",
                "extrawords <- c(\"the\", \"can\", \"get\", \"got\", \"can\", \"one\", \n",
                "                \"dont\", \"even\", \"may\", \"but\", \"will\", \n",
                "                \"much\", \"first\", \"but\", \"see\", \"new\", \n",
                "                \"many\", \"less\", \"now\", \"well\", \"like\", \n",
                "                \"often\", \"every\", \"said\", \"two\")\n",
                "# clean corpus\n",
                "darwincorpusclean <- darwincorpus %>%\n",
                "  tm::tm_map(removePunctuation) %>%\n",
                "  tm::tm_map(removeNumbers) %>%\n",
                "  tm::tm_map(tolower) %>%\n",
                "  tm::tm_map(removeWords, stopwords()) %>%\n",
                "  tm::tm_map(removeWords, extrawords)\n",
                "# create document term matrix\n",
                "darwindtm <- DocumentTermMatrix(darwincorpusclean, control=list(bounds = list(global=c(1, Inf)), weighting = weightBin))\n",
                "\n",
                "# convert dtm into sparse matrix\n",
                "darwinsdtm <- Matrix::sparseMatrix(i = darwindtm$i, j = darwindtm$j, \n",
                "                           x = darwindtm$v, \n",
                "                           dims = c(darwindtm$nrow, darwindtm$ncol),\n",
                "                           dimnames = dimnames(darwindtm))\n",
                "# calculate co-occurrence counts\n",
                "coocurrences <- t(darwinsdtm) %*% darwinsdtm\n",
                "# convert into matrix\n",
                "collocates <- as.matrix(coocurrences)\n",
                "# inspect\n",
                "collocates[1:10, 1:10] %>%\n",
                "  as.data.frame() %>%\n",
                "   tibble::rownames_to_column(\"Word\")\n"
            ]
        },
        {
            "cell_type": "markdown",
            "metadata": {},
            "source": [
                "We can inspect this co-occurrence matrix and check how many terms (words or elements) it represents using the `ncol` function from base R. We can also check how often terms occur in the data using the `summary` function from base R. The output of the `summary` function tells us that the minimum frequency of a word in the data is 1 with a maximum of 25,435. The difference between the median (36.00) and the mean (74.47) indicates that the frequencies are distributed very non-normally - which is common for language data. \n",
                "\n"
            ]
        },
        {
            "cell_type": "code",
            "execution_count": null,
            "metadata": {},
            "outputs": [],
            "source": [
                "# inspect size of matrix\n",
                "ncol(collocates)\n",
                "summary(rowSums(collocates))\n"
            ]
        },
        {
            "cell_type": "markdown",
            "metadata": {},
            "source": [
                "The `ncol` function reports that the data represents 8,638 words and that the most frequent word occurs 25,435 times in the text.\n",
                "\n",
                "# Visualizing Collocations\n",
                "\n",
                "We will now use an example of one individual word (*selection*) to show, how collocation strength for individual terms is calculated and how it can be visualized. The function `calculateCoocStatistics` is taken from [this tutorial](https://tm4ss.github.io/docs/Tutorial_5_Co-occurrence.html) written by Gregor Wiedemann and Andreas Niekler (see also Wiedemann and Niekler 2017).\n"
            ]
        },
        {
            "cell_type": "code",
            "execution_count": null,
            "metadata": {},
            "outputs": [],
            "source": [
                "# load function for co-occurrence calculation\n",
                "source(\"https://slcladal.github.io/rscripts/calculateCoocStatistics.R\")\n",
                "# define term\n",
                "coocTerm <- \"selection\"\n",
                "# calculate co-occurrence statistics\n",
                "coocs <- calculateCoocStatistics(coocTerm, darwinsdtm, measure=\"LOGLIK\")\n",
                "# inspect results\n",
                "coocs[1:20]\n"
            ]
        },
        {
            "cell_type": "markdown",
            "metadata": {},
            "source": [
                "The output shows that the word most strongly associated with *selection* in Charles Darwin's *Origin* is unsurprisingly *natural* - given the substantive strength of the association between *natural* and *selection* these term are definitely collocates and almost - if not already - a lexicalized construction (at least in this text).\n",
                "\n",
                "There are various visualizations options for collocations. Which visualization method is appropriate depends on what the visualizations should display. \n",
                "\n",
                "## Association Strength\n",
                "\n",
                "We start with the most basic and visualize the collocation strength using a simple dot chart. We use the vector of association strengths generated above and transform it into a table. Also, we exclude elements with an association strength lower than 30.\n"
            ]
        },
        {
            "cell_type": "code",
            "execution_count": null,
            "metadata": {},
            "outputs": [],
            "source": [
                "coocdf <- coocs %>%\n",
                "  as.data.frame() %>%\n",
                "  dplyr::mutate(CollStrength = coocs,\n",
                "                Term = names(coocs)) %>%\n",
                "  dplyr::filter(CollStrength > 30)\n",
                "# inspect\n",
                "coocdf %>%\n",
                "  as.data.frame() %>%\n",
                "  dplyr::select(-.) %>%\n",
                "  dplyr::relocate(Term, CollStrength) %>%\n",
                "  head()\n"
            ]
        },
        {
            "cell_type": "markdown",
            "metadata": {},
            "source": [
                "We can now visualize the association strengths as shown in the code chunk below.\n",
                "\n"
            ]
        },
        {
            "cell_type": "code",
            "execution_count": null,
            "metadata": {},
            "outputs": [],
            "source": [
                "ggplot(coocdf, aes(x = reorder(Term, CollStrength, mean), y = CollStrength)) +\n",
                "  geom_point() +\n",
                "  coord_flip() +\n",
                "  theme_bw() +\n",
                "  labs(y = \"\")\n"
            ]
        },
        {
            "cell_type": "markdown",
            "metadata": {},
            "source": [
                "The dot chart shows that *natural* is collocating more strongly with *selection* compared to any other term. This confirms that *natural* and *selection* form a collocation in Darwin's *Origin*.\n",
                "\n",
                "## Dendrograms\n",
                "\n",
                "Another method for visualizing collocations are dendrograms. Dendrograms (also called tree-diagrams) show how similar elements are based on one or many features. As such, dendrograms are used to indicate groupings as they show elements (words) that are notably similar or different with respect to their association strength. To use this method, we first need to generate a distance matrix from our co-occurrence matrix.\n"
            ]
        },
        {
            "cell_type": "code",
            "execution_count": null,
            "metadata": {},
            "outputs": [],
            "source": [
                "coolocs <- c(coocdf$Term, \"selection\")\n",
                "# remove non-collocating terms\n",
                "collocates_redux <- collocates[rownames(collocates) %in% coolocs, ]\n",
                "collocates_redux <- collocates_redux[, colnames(collocates_redux) %in% coolocs]\n",
                "# create distance matrix\n",
                "distmtx <- dist(collocates_redux)\n",
                "\n",
                "clustertexts <- hclust(    # hierarchical cluster object\n",
                "  distmtx,                 # use distance matrix as data\n",
                "  method=\"ward.D2\")        # ward.D as linkage method\n",
                "\n",
                "ggdendrogram(clustertexts) +\n",
                "  ggtitle(\"Terms strongly collocating with *selection*\")\n"
            ]
        },
        {
            "cell_type": "markdown",
            "metadata": {},
            "source": [
                "## Network Graphs\n",
                "\n",
                "Network graphs are a very useful tool to show relationships (or the absence of relationships) between elements. Network graphs are highly useful when it comes to displaying the relationships that words have among each other and which properties these networks of words have.\n",
                "\n",
                "### Basic Network Graphs\n",
                "\n",
                "In order to display a network, we use the `quanteda` package and convert the co-occurrence matrix into a document-feature matrix (dfm) and then into a feature-co-occurence matrix.\n"
            ]
        },
        {
            "cell_type": "code",
            "execution_count": null,
            "metadata": {},
            "outputs": [],
            "source": [
                "# create a document feature matrix\n",
                "cooc_dfm <- quanteda::as.dfm(collocates_redux)\n",
                "# create feature co-occurrence matrix\n",
                "cooc_fcm <- quanteda::fcm(cooc_dfm)\n",
                "# inspect data\n",
                "head(cooc_fcm)\n"
            ]
        },
        {
            "cell_type": "markdown",
            "metadata": {},
            "source": [
                "Next, we use the `textplot_network` function from the `quanteda.textplots` to generate a network graph.\n",
                "\n"
            ]
        },
        {
            "cell_type": "code",
            "execution_count": null,
            "metadata": {},
            "outputs": [],
            "source": [
                "quanteda.textplots::textplot_network(romeo_fcm, \n",
                "                                     min_freq = .5, \n",
                "                                     edge_alpha = 0.8, \n",
                "                                     edge_color = \"gray\",\n",
                "                                     vertex_labelsize = log(rowSums(romeo_fcm))/2,\n",
                "                                     edge_size = 2)\n"
            ]
        },
        {
            "cell_type": "markdown",
            "metadata": {},
            "source": [
                "# Determining Significance\n",
                "\n",
                "In order to identify which words occur together significantly more frequently than would be expected by chance, we have to determine if their co-occurrence frequency is statistical significant. This can be done wither for specific key terms or it can be done for the entire data. In this example, we will continue to focus on the key word *selection*.\n",
                "\n",
                "To determine which terms collocate significantly with the key term (*selection*), we use multiple (or repeated) Fisher's Exact tests which require the following information:\n",
                "\n",
                "* a = Number of times `coocTerm` occurs with term j\n",
                "\n",
                "* b = Number of times `coocTerm` occurs without  term j\n",
                "\n",
                "* c = Number of times other terms occur with term j\n",
                "\n",
                "* d = Number of terms that are not `coocTerm` or term j\n",
                "\n",
                "In a first step, we create a table which holds these quantities.\n"
            ]
        },
        {
            "cell_type": "code",
            "execution_count": null,
            "metadata": {},
            "outputs": [],
            "source": [
                "# convert to data frame\n",
                "coocdf <- as.data.frame(as.matrix(collocates))\n",
                "# reduce data\n",
                "diag(coocdf) <- 0\n",
                "coocdf <- coocdf[which(rowSums(coocdf) > 10),]\n",
                "coocdf <- coocdf[, which(colSums(coocdf) > 10)]\n",
                "# extract stats\n",
                "cooctb <- coocdf %>%\n",
                "  dplyr::mutate(Term = rownames(coocdf)) %>%\n",
                "  tidyr::gather(CoocTerm, TermCoocFreq,\n",
                "                colnames(coocdf)[1]:colnames(coocdf)[ncol(coocdf)]) %>%\n",
                "  dplyr::mutate(Term = factor(Term),\n",
                "                CoocTerm = factor(CoocTerm)) %>%\n",
                "  dplyr::mutate(AllFreq = sum(TermCoocFreq)) %>%\n",
                "  dplyr::group_by(Term) %>%\n",
                "  dplyr::mutate(TermFreq = sum(TermCoocFreq)) %>%\n",
                "  dplyr::ungroup(Term) %>%\n",
                "  dplyr::group_by(CoocTerm) %>%\n",
                "  dplyr::mutate(CoocFreq = sum(TermCoocFreq)) %>%\n",
                "  dplyr::arrange(Term) %>%\n",
                "  dplyr::mutate(a = TermCoocFreq,\n",
                "                b = TermFreq - a,\n",
                "                c = CoocFreq - a, \n",
                "                d = AllFreq - (a + b + c)) %>%\n",
                "  dplyr::mutate(NRows = nrow(coocdf))\n",
                "# inspect\n",
                "head(cooctb)\n"
            ]
        },
        {
            "cell_type": "markdown",
            "metadata": {},
            "source": [
                "We now select the key term (*selection*). If we wanted to find all collocations that are present in the data, we would use the entire data rather than only the subset that contains  *selection*. \n",
                "\n"
            ]
        },
        {
            "cell_type": "code",
            "execution_count": null,
            "metadata": {},
            "outputs": [],
            "source": [
                "cooctb_redux <- cooctb %>%\n",
                "  dplyr::filter(Term == coocTerm)\n"
            ]
        },
        {
            "cell_type": "markdown",
            "metadata": {},
            "source": [
                "Next, we calculate which terms are (significantly) over- and under-proportionately used with *selection*. It is important to note that this procedure informs about both: over- and under-use! This is especially crucial when analyzing if specific words are attracted o repelled by certain constructions. Of course, this approach is not restricted to analyses of constructions and it can easily be generalized across domains and has also been used in machine learning applications.\n",
                "\n"
            ]
        },
        {
            "cell_type": "code",
            "execution_count": null,
            "metadata": {},
            "outputs": [],
            "source": [
                "coocStatz <- cooctb_redux %>%\n",
                "  dplyr::rowwise() %>%\n",
                "  dplyr::mutate(p = as.vector(unlist(fisher.test(matrix(c(a, b, c, d), \n",
                "                                                        ncol = 2, byrow = T))[1]))) %>%\n",
                "    dplyr::mutate(x2 = as.vector(unlist(chisq.test(matrix(c(a, b, c, d),                                                           ncol = 2, byrow = T))[1]))) %>%\n",
                "  dplyr::mutate(phi = sqrt((x2/(a + b + c + d)))) %>%\n",
                "      dplyr::mutate(expected = as.vector(unlist(chisq.test(matrix(c(a, b, c, d), \n",
                "                                                                  ncol = 2, byrow = T))$expected[1]))) %>%\n",
                "  dplyr::mutate(Significance = dplyr::case_when(p <= .001 ~ \"p<.001\",\n",
                "                                                p <= .01 ~ \"p<.01\",\n",
                "                                                p <= .05 ~ \"p<.05\", \n",
                "                                                FALSE ~ \"n.s.\"))\n",
                "# inspect\n",
                "head(coocStatz)\n"
            ]
        },
        {
            "cell_type": "markdown",
            "metadata": {},
            "source": [
                "We now add information to the table and remove superfluous columns s that the table can be more easily parsed. \n",
                "\n"
            ]
        },
        {
            "cell_type": "code",
            "execution_count": null,
            "metadata": {},
            "outputs": [],
            "source": [
                "coocStatz <- coocStatz %>%\n",
                "  dplyr::ungroup() %>%\n",
                "  dplyr::arrange(p) %>%\n",
                "  dplyr::mutate(j = 1:n()) %>%\n",
                "  # perform benjamini-hochberg correction\n",
                "  dplyr::mutate(corr05 = ((j/NRows)*0.05)) %>%\n",
                "  dplyr::mutate(corr01 = ((j/NRows)*0.01)) %>%\n",
                "  dplyr::mutate(corr001 = ((j/NRows)*0.001)) %>%\n",
                "  # calculate corrected significance status\n",
                "  dplyr::mutate(CorrSignificance = dplyr::case_when(p <= corr001 ~ \"p<.001\",\n",
                "                                                    p <= corr01 ~ \"p<.01\",\n",
                "                                                    p <= corr05 ~ \"p<.05\", \n",
                "                                                    FALSE ~ \"n.s.\")) %>%\n",
                "  dplyr::mutate(p = round(p, 6)) %>%\n",
                "  dplyr::mutate(x2 = round(x2, 1)) %>%\n",
                "  dplyr::mutate(phi = round(phi, 2)) %>%\n",
                "  dplyr::arrange(p) %>%\n",
                "  dplyr::select(-a, -b, -c, -d, -j, -NRows, -corr05, -corr01, -corr001) %>%\n",
                "  dplyr::mutate(Type = ifelse(expected > TermCoocFreq, \"Antitype\", \"Type\"))\n",
                "# inspect\n",
                "head(coocStatz)\n"
            ]
        },
        {
            "cell_type": "markdown",
            "metadata": {},
            "source": [
                "The results show that *selection* collocates significantly with *selection* (of course) but also, as expected, with *natural*. The corrected p-values shows that after Benjamini-Hochberg correction for multiple/repeated testing (see Field, Miles, and Field 2012) these are the only significant collocates of *selection*. Corrections are necessary when performing multiple tests because otherwise, the reliability of the test result would be strongly impaired as repeated testing causes substantive $\\alpha$-error inflation. The Benjamini-Hochberg correction that has been used here is preferable over the more popular Bonferroni correction because it is less conservative and therefore less likely to result in $\\beta$-errors (see again Field, Miles, and Field 2012).\n",
                "\n",
                "\n",
                "***\n",
                "\n",
                "[Back to LADAL](https://ladal.edu.au/coll.html)\n",
                "\n",
                "***\n",
                "\n",
                "# References\n",
                "\n",
                "Field, Andy, Jeremy Miles, and Zoe Field. 2012. *Discovering Statistics Using R*. Sage.\n",
                "\n",
                "Wiedemann, Gregor, and Andreas Niekler. 2017. Hands-on: A Five Day Text Mining Course for Humanists and Social Scientists in R. In *Proceedings of the Workshop on Teaching NLP for Digital Humanities (Teach4DH)*, Berlin, Germany, September 12, 2017., 57–65. http://ceur-ws.org/Vol-1918/wiedemann.pdf.\n"
            ]
        }
    ],
    "metadata": {
        "anaconda-cloud": "",
        "kernelspec": {
            "display_name": "R",
            "langauge": "R",
            "name": "ir"
        },
        "language_info": {
            "codemirror_mode": "r",
            "file_extension": ".r",
            "mimetype": "text/x-r-source",
            "name": "R",
            "pygments_lexer": "r",
            "version": "3.4.1"
        }
    },
    "nbformat": 4,
    "nbformat_minor": 1
}
