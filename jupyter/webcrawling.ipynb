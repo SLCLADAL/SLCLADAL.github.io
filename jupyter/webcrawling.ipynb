{
    "cells": [
        {
            "cell_type": "markdown",
            "metadata": {},
            "source": [
                "<!--html_preserve-->\n",
                "<!-- Global site tag (gtag.js) - Google Analytics -->\n",
                "<script async src=\"https://www.googletagmanager.com/gtag/js?id=UA-130562131-1\"><\/script>\n",
                "<script>\n",
                "  window.dataLayer = window.dataLayer || [];\n",
                "  function gtag(){dataLayer.push(arguments);}\n",
                "  gtag('js', new Date());\n",
                "\n",
                "  gtag('config', 'UA-130562131-1');\n",
                "<\/script>\n",
                "<!--/html_preserve-->\n"
            ]
        },
        {
            "cell_type": "code",
            "execution_count": null,
            "metadata": {},
            "outputs": [],
            "source": [
                "knitr::include_graphics(\"https://slcladal.github.io/images/uq1.jpg\")\n",
                "\n"
            ]
        },
        {
            "cell_type": "markdown",
            "metadata": {},
            "source": [
                "# Introduction{-}\n",
                "\n",
                "This tutorial introduces how to extract and process text data from social media sites, web pages, or other documents for later analysis. The entire R markdown document for the present tutorial can be downloaded [here](https://slcladal.github.io/webcrawling.Rmd). This tutorial builds heavily on and uses materials from  [this tutorial](https://tm4ss.github.io/docs/Tutorial_2_Web_crawling.html) on web crawling and scraping using R by Andreas Niekler and Gregor Wiedemann [see @WN17]. [The tutorial](https://tm4ss.github.io/docs/index.html) by Andreas Niekler and Gregor Wiedemann is more thorough, goes into more detail than this tutorial, and overs many more very useful text mining methods. An alternative approach for web crawling and scraping would be to use the `RCrawler` package [@khalil2017rcrawler] which is not introduced here thought (inspecting the `RCrawler` package and its functions is, however, also highly recommended). For a more in-depth introduction to web crawling in scraping, @miner2012practical is a very useful introduction.\n",
                "\n",
                "The automated download of HTML pages is called *Crawling*. The extraction of the textual data and/or metadata (for example, article date, headlines, author names, article text) from the HTML source code (or the DOM document object model of the website) is called *Scraping* [see @olston2010web]. \n",
                "\n",
                "## Preparation and session set up{-}\n",
                "\n",
                "This tutorial is based on R. If you have not installed R or are new to it, you will find an introduction to and more information how to use R [here](https://slcladal.github.io/IntroR_workshop.html). For this tutorials, we need to install certain *packages* from an R *library* so that the scripts shown below are executed without errors. Before turning to the code below, please install the packages by running the code below this paragraph. If you have already installed the packages mentioned below, then you can skip ahead ignore this section. To install the necessary packages, simply run the following code - it may take some time (between 1 and 5 minutes to install all of the libraries so you do not need to worry if it takes some time).\n"
            ]
        },
        {
            "cell_type": "code",
            "execution_count": null,
            "metadata": {},
            "outputs": [],
            "source": [
                "# clean current workspace\n",
                "rm(list=ls(all=T))\n",
                "# set options\n",
                "options(stringsAsFactors = F)\n",
                "# install libraries\n",
                "install.packages(c(\"rvest\", \"readtext\"))\n"
            ]
        },
        {
            "cell_type": "markdown",
            "metadata": {},
            "source": [
                "## Getting started{-}\n",
                "\n",
                "For web crawling and scraping, we use the package `rvest` and to extract text data from various formats such as PDF, DOC, DOCX and TXT files with the `readtext` package. The tasks described int his section consist of:\n",
                "\n",
                "1. Download a single web page and extract its content\n",
                "\n",
                "2. Extract links from a overview page and extract articles\n",
                "\n",
                "3. Extract text data from PDF and other formats on disk\n",
                "\n",
                "# Crawl single webpage{-}\n",
                "\n",
                "As a first step, we will download a single web page from *The Guardian* and extract text together with relevant metadata such as the article date. Let's define the URL of the article of interest and load the `rvest` package, which provides very useful functions for web crawling and scraping.\n"
            ]
        },
        {
            "cell_type": "code",
            "execution_count": null,
            "metadata": {},
            "outputs": [],
            "source": [
                "url <- \"https://www.theguardian.com/world/2017/jun/26/angela-merkel-and-donald-trump-head-for-clash-at-g20-summit\"\n",
                "require(\"rvest\")\n"
            ]
        },
        {
            "cell_type": "markdown",
            "metadata": {},
            "source": [
                "A convenient method to download and parse a webpage is provided by the function `read_html` which accepts a URL as its main argument. The function downloads the page and interprets the html source code as an HTML or XML object. \n",
                "\n"
            ]
        },
        {
            "cell_type": "code",
            "execution_count": null,
            "metadata": {},
            "outputs": [],
            "source": [
                "html_document <- read_html(url)\n",
                "\n"
            ]
        },
        {
            "cell_type": "markdown",
            "metadata": {},
            "source": [
                "HTML and XML objects are a structured representation of HTML/XML source code, which allows to extract single elements (headlines e.g. `<h1>`, paragraphs `<p>`, links `<a>`, ...), their attributes (e.g. `<a href=\"http://...\">`) or text wrapped in between elements (e.g. `<p>my text...<\/p>`). Elements can be extracted in XML objects with XPATH-expressions. \n",
                "\n",
                "XPATH (see [here]( https://en.wikipedia.org/wiki/XPath)) is a query language that parses XML-tree structures and we use it to select the headline element from the HTML page.\n",
                "\n",
                "The following xpath expression queries for first-order-headline elements `h1`, anywhere in the tree `//` which fulfill a certain condition `[...]`, namely that the `class` attribute of the `h1` element must contain the value `content__headline`.\n",
                "\n",
                "The next expression uses R pipe operator %>%, which takes the input from the left side of the expression and passes it on to the function ion the right side as its first argument. The result of this function is either passed onto the next function, via a pipe (`%>%`) or it is assigned to variable, if it is the last operation in a pipe. Our pipe takes the `html_document` object, passes it to the `html_node` function, which extracts the first node fitting the given xpath expression. The resulting node object is passed to the `html_text` function which extracts the text wrapped in the `h1`-element.\n"
            ]
        },
        {
            "cell_type": "code",
            "execution_count": null,
            "metadata": {},
            "outputs": [],
            "source": [
                "title_xpath <- \"//h1[contains(@class, 'content__headline')]\"\n",
                "title_text <- html_document %>%\n",
                "  html_node(xpath = title_xpath) %>%\n",
                "  html_text(trim = T)\n"
            ]
        },
        {
            "cell_type": "markdown",
            "metadata": {},
            "source": [
                "Let's see, what the title_text contains:\n",
                "\n"
            ]
        },
        {
            "cell_type": "code",
            "execution_count": null,
            "metadata": {},
            "outputs": [],
            "source": [
                "cat(title_text)\n",
                "\n"
            ]
        },
        {
            "cell_type": "markdown",
            "metadata": {},
            "source": [
                "Now we modify the xpath expressions, to extract the article info, the paragraphs of the body text and the article date. Note that there are multiple paragraphs in the article. To extract not only the first, but all paragraphs we utilize the `html_nodes` function and glue the resulting single text vectors of each paragraph together with the `paste0` function.\n",
                "\n"
            ]
        },
        {
            "cell_type": "code",
            "execution_count": null,
            "metadata": {},
            "outputs": [],
            "source": [
                "intro_xpath <- \"//div[contains(@class, 'content__standfirst')]//p\"\n",
                "intro_text <- html_document %>%\n",
                "  html_node(xpath = intro_xpath) %>%\n",
                "  html_text(trim = T)\n",
                "cat(intro_text)\n",
                "body_xpath <- \"//div[contains(@class, 'content__article-body')]//p\"\n",
                "body_text <- html_document %>%\n",
                "  html_nodes(xpath = body_xpath) %>%\n",
                "  html_text(trim = T) %>%\n",
                "  paste0(collapse = \"\\n\")\n"
            ]
        },
        {
            "cell_type": "markdown",
            "metadata": {},
            "source": [
                "Now, let's inspect the first 150 elements of the text body.\n",
                "\n"
            ]
        },
        {
            "cell_type": "code",
            "execution_count": null,
            "metadata": {},
            "outputs": [],
            "source": [
                "cat(substr(body_text, 0, 150))\n",
                "\n"
            ]
        },
        {
            "cell_type": "markdown",
            "metadata": {},
            "source": [
                "We now extract the date from the html document.\n",
                "\n"
            ]
        },
        {
            "cell_type": "code",
            "execution_count": null,
            "metadata": {},
            "outputs": [],
            "source": [
                "date_xpath <- \"//time\"\n",
                "date_object <- html_document %>%\n",
                "  html_node(xpath = date_xpath) %>%\n",
                "  html_attr(name = \"datetime\") %>%\n",
                "  as.Date()\n",
                "cat(format(date_object, \"%Y-%m-%d\"))\n"
            ]
        },
        {
            "cell_type": "markdown",
            "metadata": {},
            "source": [
                "The variables `title_text`, `intro_text`, `body_text` and `date_object` now contain the raw data for any subsequent text processing.\n",
                "\n",
                "\n",
                "# Following links{-}\n",
                "\n",
                "Usually, we do not want download a single document, but a series of documents. In our second exercise, we want to download all Guardian articles tagged with *Angela Merkel*. Instead of a tag page, we could also be interested in downloading results of a site-search engine or any other link collection. The task is always two-fold: First, we download and parse the tag overview page to extract all links to articles of interest: \n"
            ]
        },
        {
            "cell_type": "code",
            "execution_count": null,
            "metadata": {},
            "outputs": [],
            "source": [
                "url <- \"https://www.theguardian.com/world/angela-merkel\"\n",
                "html_document <- read_html(url)\n"
            ]
        },
        {
            "cell_type": "markdown",
            "metadata": {},
            "source": [
                "Second, we download and scrape each individual article page. For this, we extract all `href`-attributes from `a`-elements fitting a certain CSS-class. To select the right contents via XPATH-selectors, you need to investigate the HTML-structure of your specific page. Modern browsers such as Firefox and Chrome support you in that task by a function called \"Inspect Element\" (or similar), available through a right-click on the page element.\n",
                "\n"
            ]
        },
        {
            "cell_type": "code",
            "execution_count": null,
            "metadata": {},
            "outputs": [],
            "source": [
                "links <- html_document %>%\n",
                "  html_nodes(xpath = \"//div[contains(@class, 'fc-item__container')]/a\") %>%\n",
                "  html_attr(name = \"href\")\n"
            ]
        },
        {
            "cell_type": "markdown",
            "metadata": {},
            "source": [
                "Now, `links` contains a list of `r length(links)` hyperlinks to single articles tagged with Angela Merkel. \n",
                "\n"
            ]
        },
        {
            "cell_type": "code",
            "execution_count": null,
            "metadata": {},
            "outputs": [],
            "source": [
                "head(links, 3)\n",
                "\n"
            ]
        },
        {
            "cell_type": "markdown",
            "metadata": {},
            "source": [
                "But stop! There is not only one page of links to tagged articles. If you have a look on the page in your browser, the tag overview page has several more than 60 sub pages, accessible via a paging navigator at the bottom. By clicking on the second page, we see a different URL-structure, which now contains a link to a specific paging number. We can use that format to create links to all sub pages by combining the base URL with the page numbers.\n",
                "\n"
            ]
        },
        {
            "cell_type": "code",
            "execution_count": null,
            "metadata": {},
            "outputs": [],
            "source": [
                "page_numbers <- 1:3\n",
                "base_url <- \"https://www.theguardian.com/world/angela-merkel?page=\"\n",
                "paging_urls <- paste0(base_url, page_numbers)\n",
                "# View first 3 urls\n",
                "head(paging_urls, 3)\n"
            ]
        },
        {
            "cell_type": "markdown",
            "metadata": {},
            "source": [
                "Now we can iterate over all URLs of tag overview pages, to collect more/all links to articles tagged with Angela Merkel. We iterate with a for-loop over all URLs and append results from each single URL to a vector of all links.\n",
                "\n"
            ]
        },
        {
            "cell_type": "code",
            "execution_count": null,
            "metadata": {},
            "outputs": [],
            "source": [
                "all_links <- NULL\n",
                "for (url in paging_urls) {\n",
                "  # download and parse single ta overview page\n",
                "  html_document <- read_html(url)\n",
                "  # extract links to articles\n",
                "  links <- html_document %>%\n",
                "    html_nodes(xpath = \"//div[contains(@class, 'fc-item__container')]/a\") %>%\n",
                "    html_attr(name = \"href\")\n",
                "  \n",
                "  # append links to vector of all links\n",
                "  all_links <- c(all_links, links)\n",
                "}\n"
            ]
        },
        {
            "cell_type": "markdown",
            "metadata": {},
            "source": [
                "An effective way of programming is to encapsulate repeatedly used code in a specific function. This function then can be called with specific parameters, process something and return a result. We use this here, to encapsulate the downloading and parsing of a Guardian article given a specific URL. The code is the same as in our exercise 1 above, only that we combine the extracted texts and metadata in a data.frame and wrap the entire process in a function-Block.\n",
                "\n"
            ]
        },
        {
            "cell_type": "code",
            "execution_count": null,
            "metadata": {},
            "outputs": [],
            "source": [
                "scrape_guardian_article <- function(url) {\n",
                "  \n",
                "  html_document <- read_html(url)\n",
                "  \n",
                "  title_xpath <- \"//h1[contains(@class, 'content__headline')]\"\n",
                "  title_text <- html_document %>%\n",
                "    html_node(xpath = title_xpath) %>%\n",
                "    html_text(trim = T)\n",
                "  \n",
                "  intro_xpath <- \"//div[contains(@class, 'content__standfirst')]//p\"\n",
                "  intro_text <- html_document %>%\n",
                "    html_node(xpath = intro_xpath) %>%\n",
                "    html_text(trim = T)\n",
                "  \n",
                "  body_xpath <- \"//div[contains(@class, 'content__article-body')]//p\"\n",
                "  body_text <- html_document %>%\n",
                "    html_nodes(xpath = body_xpath) %>%\n",
                "    html_text(trim = T) %>%\n",
                "    paste0(collapse = \"\\n\")\n",
                "  \n",
                "  date_xpath <- \"//time\"\n",
                "  date_text <- html_document %>%\n",
                "    html_node(xpath = date_xpath) %>%\n",
                "    html_attr(name = \"datetime\") %>%\n",
                "    as.Date()\n",
                "  \n",
                "  article <- data.frame(\n",
                "    url = url,\n",
                "    date = date_text,\n",
                "    title = title_text,\n",
                "    body = paste0(intro_text, \"\\n\", body_text)\n",
                "  )\n",
                "  \n",
                "  return(article)\n",
                "  \n",
                "}\n"
            ]
        },
        {
            "cell_type": "markdown",
            "metadata": {},
            "source": [
                "Now we can use that function `scrape_guardian_article` in any other part of our script. For instance, we can loop over each of our collected links. We use a running variable i, taking values from 1 to `length(all_links)` to access the single links in `all_links` and write some progress output.\n",
                "\n"
            ]
        },
        {
            "cell_type": "code",
            "execution_count": null,
            "metadata": {},
            "outputs": [],
            "source": [
                "all_articles <- data.frame()\n",
                "for (i in 1:length(all_links)) {\n",
                "  cat(\"Downloading\", i, \"of\", length(all_links), \"URL:\", all_links[i], \"\\n\")\n",
                "  article <- scrape_guardian_article(all_links[i])\n",
                "  # Append current article data.frame to the data.frame of all articles\n",
                "  all_articles <- rbind(all_articles, article)\n",
                "}\n"
            ]
        },
        {
            "cell_type": "markdown",
            "metadata": {},
            "source": "\n"
        },
        {
            "cell_type": "code",
            "execution_count": null,
            "metadata": {},
            "outputs": [],
            "source": [
                "all_articles <- data.frame()\n",
                "for (i in 1:10) {\n",
                "  if (i < 4) {\n",
                "    cat(\"Downloading\", i, \"of\", length(all_links), \"URL:\", all_links[i], \"\\n\")\n",
                "  }\n",
                "  article <- scrape_guardian_article(all_links[i])\n",
                "  # Append current article data.frame to the data.frame of all articles\n",
                "  all_articles <- rbind(all_articles, article)\n",
                "}\n"
            ]
        },
        {
            "cell_type": "markdown",
            "metadata": {},
            "source": [
                "We now inspect the first three articles and save the data to our disc.\n",
                "\n"
            ]
        },
        {
            "cell_type": "code",
            "execution_count": null,
            "metadata": {},
            "outputs": [],
            "source": [
                "head(all_articles, 3)\n",
                "# Write articles to disk\n",
                "write.csv2(all_articles, file = \"data/guardian_merkel.csv\")\n"
            ]
        },
        {
            "cell_type": "markdown",
            "metadata": {},
            "source": [
                "The last command write the extracted articles to a CSV-file in the data directory for any later use.\n",
                "\n",
                "# Read various file formats{-}\n",
                "\n",
                "In case you have already a collection of text data files on your disk, you can import them into R in a very convenient provided by the `readtext` package. The package depends on some other programs or libraries in your system, to provide extraction for Word- and PDF-documents. So there may be some hurdles to install the package.\n",
                "\n",
                "But once it is successfully installed, it allows for very easy extraction of text data from various file formats. Fist, we request a list of files in the directory to extract text from. For demonstration purpose, we provide in `data/documents` a random selection of various text formats.\n"
            ]
        },
        {
            "cell_type": "code",
            "execution_count": null,
            "metadata": {},
            "outputs": [],
            "source": [
                "data_files <- list.files(path = \"data/documents\", full.names = T, recursive = T)\n",
                "# View first file paths\n",
                "head(data_files, 3)\n"
            ]
        },
        {
            "cell_type": "markdown",
            "metadata": {},
            "source": [
                "The `readtext` function from the package with the same name, detects automatically file formats of the given files list and extracts the content into a data.frame. The parameter `docvarsfrom` allows you to set metadata variables by splitting path names. In our example, `docvar3` contains a source type variable derived from the sub folder name. \n",
                "\n"
            ]
        },
        {
            "cell_type": "code",
            "execution_count": null,
            "metadata": {},
            "outputs": [],
            "source": [
                "require(readtext)\n",
                "extracted_texts <- readtext(data_files, docvarsfrom = \"filepaths\", dvsep = \"/\")\n",
                "# View first rows of the extracted texts\n",
                "head(extracted_texts)\n",
                "# View beginning of tenth extracted text\n",
                "substr(trimws(extracted_texts$text[10]) , 0, 100)\n"
            ]
        },
        {
            "cell_type": "markdown",
            "metadata": {},
            "source": [
                "Again, the `extracted_texts` can be written by `write.csv2` to disk for later use.\n",
                "\n",
                "# Citation & Session Info {-}\n",
                "\n",
                "Schweinberger, Martin. 2020. *Web Crawling and Scraping using R*. Brisbane: The University of Queensland. url: https://slcladal.github.io/webcrawling.html (Version 2020.12.03).\n"
            ]
        },
        {
            "cell_type": "code",
            "execution_count": null,
            "metadata": {},
            "outputs": [],
            "source": [
                "@manual{schweinberger2020webc,\n",
                "  author = {Schweinberger, Martin},\n",
                "  title = {Web Crawling and Scraping using R},\n",
                "  note = {https://slcladal.github.io/webcrawling.html},\n",
                "  year = {2020},\n",
                "  organization = \"The University of Queensland, School of Languages and Cultures},\n",
                "  address = {Brisbane},\n",
                "  edition = {2020/12/203}\n",
                "}\n"
            ]
        },
        {
            "cell_type": "markdown",
            "metadata": {},
            "source": "\n"
        },
        {
            "cell_type": "code",
            "execution_count": null,
            "metadata": {},
            "outputs": [],
            "source": [
                "sessionInfo()\n",
                "\n"
            ]
        },
        {
            "cell_type": "markdown",
            "metadata": {},
            "source": [
                "# References {-}\n",
                "\n",
                "***\n",
                "\n",
                "[Main page](https://slcladal.github.io/index.html)\n",
                "\n",
                "***\n"
            ]
        }
    ],
    "metadata": {
        "anaconda-cloud": "",
        "kernelspec": {
            "display_name": "R",
            "langauge": "R",
            "name": "ir"
        },
        "language_info": {
            "codemirror_mode": "r",
            "file_extension": ".r",
            "mimetype": "text/x-r-source",
            "name": "R",
            "pygments_lexer": "r",
            "version": "3.4.1"
        }
    },
    "nbformat": 4,
    "nbformat_minor": 1
}
