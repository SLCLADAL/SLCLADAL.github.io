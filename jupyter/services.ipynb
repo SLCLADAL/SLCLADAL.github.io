{
    "cells": [
        {
            "cell_type": "markdown",
            "metadata": {},
            "source": [
                "<!--html_preserve-->\n",
                "<!-- Global site tag (gtag.js) - Google Analytics -->\n",
                "<script async src=\"https://www.googletagmanager.com/gtag/js?id=UA-130562131-1\"><\/script>\n",
                "<script>\n",
                "  window.dataLayer = window.dataLayer || [];\n",
                "  function gtag(){dataLayer.push(arguments);}\n",
                "  gtag('js', new Date());\n",
                "\n",
                "  gtag('config', 'UA-130562131-1');\n",
                "<\/script>\n",
                "<!--/html_preserve-->\n",
                "\n",
                "LADAL offers services to members of the School of Languages and Cultures of UQ as well as to external partners or customers including institutions, businesses, teams, or individual researchers and the public. These services include:  \n",
                "  \n",
                "***\n",
                "\n",
                "# WE OFFER{-}\n",
                "\n",
                "***\n",
                "  \n"
            ]
        },
        {
            "cell_type": "code",
            "execution_count": null,
            "metadata": {},
            "outputs": [],
            "source": [
                "knitr::include_graphics(\"https://slcladal.github.io/images/consult.jpg\")\n",
                "\n"
            ]
        },
        {
            "cell_type": "markdown",
            "metadata": {},
            "source": [
                "<br>\n",
                "\n",
                "- **Access to resources**\n",
                "\n",
                "- **Presentations, workshops and training**\n",
                "\n",
                "- **Consultations (face-2-face and online)**\n",
                "\n",
                "\n",
                "<br>\n",
                "\n",
                "<br>\n",
                "\n",
                "If you are interested or would like to learn more, please contact the LADAL team via ladal\\@uq.edu.au.\n",
                " \n",
                "<br> \n",
                "\n",
                "***\n",
                "\n",
                "# BECOMING A CONTRIBUTOR!{-}\n",
                "\n",
                "***\n",
                "\n",
                "You have an idea for a tutorial and would like us to integrate it into LADAL? No worries! You can simply download this [skeleton Rmd](https://slcladal.github.io/base.Rmd) and write your own LADAL tutorial. You can then send us the Rmd file (with any additional files we need to knit the document) and we will then check it. Once your tutorial has been approved, it will be published asa proper LADAL tutorial. \n",
                "\n",
                "\n",
                "***\n",
                "\n",
                "# REPORTING AND FIXING ERRORS{-}\n",
                "\n",
                "***\n",
                "\n",
                "You have found a mistake or an error in one of our tutorials? No worries! You can report the error or even fix it yourself without much hustle!  Depending on how tech savvy you are and how much time or willingness to contribute you have, there are different options for point out out errors or even correcting them. Below you find descriptions of how you can report and fix bugs on the LADAL pages.\n"
            ]
        },
        {
            "cell_type": "code",
            "execution_count": null,
            "metadata": {},
            "outputs": [],
            "source": [
                "knitr::include_graphics(\"https://slcladal.github.io/images/email.jpg\")\n",
                "\n"
            ]
        },
        {
            "cell_type": "markdown",
            "metadata": {},
            "source": [
                "## Reporting errors via Email{-}\n",
                "\n",
                "If you simply want to report an error, you can contact the LADAL team via **ladal\\@uq.edu.au** or you can contact Martin via **m.schweinberger\\@uq.edu.au**. \n",
                "\n",
                "It may take some time until we manage to check and fix the bug, but we try to be as swift as possible and we will get to it eventually. \n",
                "\n",
                "## Fixing bugs directly on GitHub{-}\n",
                "\n",
                "An even better option than reporting an error is to fix the bug via GitHub. That way, we receive an email that someone found an error and has submitted a fix which we can then review and accept (or decline). Below is a detailed description of how exactly you can do that.\n",
                "\n",
                "To be able to correct errors via GitHub, you need a GitHub account (you can register and sign in [here](https://github.com/)). We will create a tutorial in which we show you how to do this - in the mean time, we have to rely on your skills to try and find out how to do this yourself.\n",
                "\n",
                "\n",
                "\n",
                "***\n",
                "\n",
                "# CONSULTATION{-}\n",
                "\n",
                "***\n",
                "\n",
                "LADAL offers consultations on matters relating to computational (language) data analytics. If you are a student or staff of the School of Languages and Cultures at UQ, these consultations are free. If you are not a affiliated with the School of Languages and Cultures at UQ, the fees for consultations depend on the complexity and workload that is associated with the consultation. \n",
                "\n",
                "***\n",
                "\n",
                "LADAL offers consulting in the following areas:\n",
                "\n",
                "+ Text Analytics and Text Mining (e.g. Sentiment Analysis, Topic Modeling, Entity Extraction)\n",
                "\n",
                "+ Digital Humanities (e.g. ORC, Digitization)\n",
                "\n",
                "+ Research Design (e.g. Creating Questionnaires and Surveys, Designing Experiments)\n",
                "\n",
                "+ Data Analytics (Statistics, Data Visualization)\n",
                "\n",
                "+ Data Science (e.g. Data Management, Reproducible Research, Version Control)\n",
                "\n",
                "***\n",
                "\n",
                "# CONTACT{-}\n",
                "\n",
                "***\n"
            ]
        },
        {
            "cell_type": "code",
            "execution_count": null,
            "metadata": {},
            "outputs": [],
            "source": [
                "knitr::include_graphics(\"https://slcladal.github.io/images/email.jpg\")\n",
                "\n"
            ]
        },
        {
            "cell_type": "markdown",
            "metadata": {},
            "source": [
                "When  contacting the LADAL team, please provide a description of what you would like to consult us on. This includes information on:\n",
                "\n",
                "+ **What is your main issue?** (e.g. I am not sure on which statistical test I should use)\n",
                "\n",
                "+ **What is the data you use?** (e.g. I am working with questionnaire data containing answers to 45 questions from 150 respondents)\n",
                "\n",
                "+ **What are the variables?** (e.g. My data consists of nominal, categorical, and numeric variables but my dependent variable is numeric)\n",
                "\n",
                "+ **What is your main question?** (e.g. My main question is if students that have studied abroad have an advantage over students that have not spent any time abroad)\n",
                "\n",
                "+ **What is your time frame?** (e.g. I would need help within the next three weeks)\n",
                "\n",
                "+ **What is your budget?** (e.g. I could maximally spend 200$ on this)\n",
                "\n",
                "If you are interested or would like to learn more, please contact the LADAL team via **ladal\\@uq.edu.au**. \n",
                "\n",
                "***\n",
                "\n",
                "[Main page](https://slcladal.github.io/index.html)\n"
            ]
        }
    ],
    "metadata": {
        "anaconda-cloud": "",
        "kernelspec": {
            "display_name": "R",
            "langauge": "R",
            "name": "ir"
        },
        "language_info": {
            "codemirror_mode": "r",
            "file_extension": ".r",
            "mimetype": "text/x-r-source",
            "name": "R",
            "pygments_lexer": "r",
            "version": "3.4.1"
        }
    },
    "nbformat": 4,
    "nbformat_minor": 1
}
