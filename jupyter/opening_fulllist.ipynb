{
    "cells": [
        {
            "cell_type": "markdown",
            "metadata": {},
            "source": [
                " \n",
                "<!--html_preserve-->\n",
                "<!-- Global site tag (gtag.js) - Google Analytics -->\n",
                "<script async src=\"https://www.googletagmanager.com/gtag/js?id=UA-130562131-1\"><\/script>\n",
                "<script>\n",
                "  window.dataLayer = window.dataLayer || [];\n",
                "  function gtag(){dataLayer.push(arguments);}\n",
                "  gtag('js', new Date());\n",
                "\n",
                "  gtag('config', 'UA-130562131-1');\n",
                "<\/script>\n",
                "<!--/html_preserve-->\n"
            ]
        },
        {
            "cell_type": "code",
            "execution_count": null,
            "metadata": {},
            "outputs": [],
            "source": [
                "knitr::include_graphics(\"https://slcladal.github.io/images/LadalPurple.png\")\n",
                "\n"
            ]
        },
        {
            "cell_type": "markdown",
            "metadata": {},
            "source": [
                "<br> \n",
                "\n",
                "The **[LADAL Opening](https://slcladal.github.io/opening.html)** event will consist of weekly presentations from eminent figures in linguistics, data science, and computational humanities and will cover a wide range of topics related to LADAL-relevant issues!\n",
                "\n",
                "The first event of the LADAL Opening is a presentation by [Stefan Th. Gries](http://www.stgries.info/) on MuPADRF (*Multifactorial Prediction and Deviation Analysis Using Regression/Random Forests*) on **June 3, 2021, 5pm Brisbane time** The event will take place on Zoom (the Zoom link will be announced here, on Twitter (\\@slcladal), and via our collaborators). \n",
                "\n",
                "**For more information about the weekly LADAL Opening presentations, click [HERE](https://slcladal.github.io/opening.html)**\n",
                " \n",
                "\n",
                "<br> <br>\n",
                "\n",
                "***\n",
                "\n",
                "# UPCOMING PRESENTATIONS{-}\n",
                "\n",
                "***\n",
                "\n",
                "## 2021/06/03: Stefan Gries {-}\n",
                "\n",
                "**MuPADRF (*Multifactorial Prediction and Deviation Analysis Using Regression/Random Forests*)**\n",
                "\n",
                "**Abstract**\n",
                "\n",
                "In this talk, I will give a brief and relatively practical introduction to an approach called MuPDAR(F) (for *Multifactorial Prediction and Deviation Analysis using Regressions/Random Forests*) that I developed (see @gries2014using, @gries2014subject for the first applications). The main part of the talk involves using a version of the data in @gries2014subject to exemplify how this protocol works and how it can be done in R. Second, I will discuss a few recent extensions proposed in  @gries2020theresmore and  @griestamupdar, which have to do with \n",
                "\n",
                "(i) how to deal with situations with more than two linguistic choices, \n",
                "\n",
                "(ii) how predictions are made, and\n",
                "\n",
                "(iii) how deviations are quantified. \n",
                "\n",
                "Finally, I will briefly comment on exploring individual variation among the target speakers (based on @gries2021examining).\n"
            ]
        },
        {
            "cell_type": "code",
            "execution_count": null,
            "metadata": {},
            "outputs": [],
            "source": [
                "knitr::include_graphics(\"https://slcladal.github.io/images/STG.jpg\")\n",
                "\n"
            ]
        },
        {
            "cell_type": "markdown",
            "metadata": {},
            "source": [
                "  \n",
                "**About Stefan**\n",
                "\n",
                "Stefan Th. Gries is full professor at the University of California, Santa Barbara (UCSB), as well as Honorary Liebig-Professor and Chair of English Linguistics at the Justus-Liebig-Universität Giessen. Stefan has held several prestigious visiting professorships at top universities and, methodologically, he is a quantitative corpus linguist at the intersection of corpus linguistics, cognitive linguistics, and computational linguistics. Stefan has applied a variety of different statistical methods to investigate a wide range of linguistic topics and much of his work involves the open-source software R. Stefan has produced more than 200 publications (articles, chapters, books, and edited volumes), he is an active member of various editorial boards as well as academic societies. \n",
                "\n",
                "\n",
                "<br><br>\n",
                "<\/details>\n",
                "\n",
                "## 2021/6/10 Martin Schweinberger & Michael Haugh{-}\n",
                "\n",
                "<details>\n",
                "<summary>**The Australian Text Analytics Platform (ATAP) and the Language Technology and Data Analysis Laboratory (LADAL) - building computational humanities infrastructures: experiences, problems, and potentials**<\/summary>\n"
            ]
        },
        {
            "cell_type": "code",
            "execution_count": null,
            "metadata": {},
            "outputs": [],
            "source": [
                "knitr::include_graphics(\"https://slcladal.github.io/images/LadalGrey.png\")\n",
                "\n"
            ]
        },
        {
            "cell_type": "markdown",
            "metadata": {},
            "source": [
                "**Abstract**\n",
                "\n",
                "This talk introduces the Language Technology and Data Analysis Laboratory (LADAL) which is a computational humanities resource infrastructure maintained by the School of Languages and Cultures at the University of Queensland. The talk will also provide information about its relations to the Australian Text Analytics Platform (ATAP) which represents an effort to promote text analytics in Australia and to make resources for using text analytics available to a wider community of researchers.\n",
                "\n",
                "**About Martin**\n"
            ]
        },
        {
            "cell_type": "code",
            "execution_count": null,
            "metadata": {},
            "outputs": [],
            "source": [
                "knitr::include_graphics(\"https://slcladal.github.io/images/martinsface.jpg\")\n",
                "\n"
            ]
        },
        {
            "cell_type": "markdown",
            "metadata": {},
            "source": [
                "Martin is a language data scientist with a PhD in English linguistics who has specialized in corpus linguistics and quantitative, computational analyses of language data. Martin is currently an Associate Professor in the AcqVA-Aurora Center at the Arctic University of Norway in Tromsø and he holds a additional appointment as Postdoctoral Research Fellow in Language Technology at the University of Queensland, Australia where he has been establishing the Language Technology and Data Analysis Laboratory (LADAL). \n",
                "\n",
                "<br><br>\n",
                "\n",
                "**About Michael**\n"
            ]
        },
        {
            "cell_type": "code",
            "execution_count": null,
            "metadata": {},
            "outputs": [],
            "source": [
                "knitr::include_graphics(\"https://slcladal.github.io/images/michael.jpg\")\n",
                "\n"
            ]
        },
        {
            "cell_type": "markdown",
            "metadata": {},
            "source": [
                "Michael is Professor of Linguistics and a Fellow of the Australian Academy of the Humanities. His research interests lie primarily in the field of pragmatics, the science of language-in-use. He works with recordings and transcriptions of naturally occurring spoken interactions, as well as data from digitally-mediated forms of communication across a number of languages. An area of emerging importance in his view is the role that language corpora can play in the humanities and social sciences more broadly. He has been involved in the establishment of the [Australian National Corpus](http://www.ausnc.org.au) and the Language Technology and Data Analytics Lab, and is currently leading the establishment of a national language data commons.\n",
                "\n",
                "<br><br>\n",
                "<\/details>\n",
                "\n",
                "## 2021/6/18: Felicity Meakins{-}\n",
                "\n",
                "<details>\n",
                "<summary>**Field-based methods for collecting quantitative data**<\/summary>\n"
            ]
        },
        {
            "cell_type": "code",
            "execution_count": null,
            "metadata": {},
            "outputs": [],
            "source": [
                "knitr::include_graphics(\"https://slcladal.github.io/images/felicity.jpeg\")\n",
                "\n"
            ]
        },
        {
            "cell_type": "markdown",
            "metadata": {},
            "source": [
                "**Abstract**\n",
                "  \n",
                "\n",
                "**About Felicity**\n",
                "\n",
                "<br><br>\n",
                "<\/details>\n",
                "\n",
                "## 2021/6/27: Gerold Schneider{-}\n",
                "\n",
                "<details>\n",
                "<summary>**Text Crunching Center (TCC): Data-driven methods for linguists, social science and digital humanities**<\/summary>\n"
            ]
        },
        {
            "cell_type": "code",
            "execution_count": null,
            "metadata": {},
            "outputs": [],
            "source": [
                "knitr::include_graphics(\"https://slcladal.github.io/images/gerold.jpg\")\n",
                "\n"
            ]
        },
        {
            "cell_type": "markdown",
            "metadata": {},
            "source": [
                "**Abstract**\n",
                "\n",
                "\n",
                "**About Gerold**\n",
                "\n",
                "<br><br>\n",
                "<\/details>\n",
                "\n",
                "## 2021/7/1: Monika Bednarek{-}\n",
                "\n",
                "<details>\n",
                "<summary>**Corpus-based media linguistics: A case study of linguistic diversity in Australian television**<\/summary>\n"
            ]
        },
        {
            "cell_type": "code",
            "execution_count": null,
            "metadata": {},
            "outputs": [],
            "source": [
                "knitr::include_graphics(\"https://slcladal.github.io/images/ladallogo.png\")\n",
                "\n"
            ]
        },
        {
            "cell_type": "markdown",
            "metadata": {},
            "source": [
                "**Abstract**\n",
                "\n",
                "\n",
                "**About Monika**\n",
                "\n",
                "<br><br>\n",
                "<\/details>\n",
                "\n",
                "## 2021/7/8: Natalia Levshina{-}\n",
                "\n",
                "<details>\n",
                "<summary>**TBA**<\/summary>\n"
            ]
        },
        {
            "cell_type": "code",
            "execution_count": null,
            "metadata": {},
            "outputs": [],
            "source": [
                "knitr::include_graphics(\"https://slcladal.github.io/images/ladallogo.png\")\n",
                "\n"
            ]
        },
        {
            "cell_type": "markdown",
            "metadata": {},
            "source": [
                "  \n",
                "**Abstract**\n",
                "\n",
                "\n",
                "**About Natalia**\n",
                "\n",
                "<br><br>\n",
                "<\/details>\n",
                "\n",
                "## 2021/7/15: Stéphane Guillou{-}\n",
                "\n",
                "<details>\n",
                "<summary>**Git and GitHub/Gitlab for versioning and collaborating**<\/summary>\n"
            ]
        },
        {
            "cell_type": "code",
            "execution_count": null,
            "metadata": {},
            "outputs": [],
            "source": [
                "knitr::include_graphics(\"https://slcladal.github.io/images/ladallogo.png\")\n",
                "\n"
            ]
        },
        {
            "cell_type": "markdown",
            "metadata": {},
            "source": [
                "**Abstract**\n",
                "\n",
                "\n",
                "**About Stephane**\n",
                "\n",
                "<br><br>\n",
                "<\/details>\n",
                "\n",
                "## 2021/7/22: Julie Toohey & Amanda Miotto{-}\n",
                "\n",
                "<details>\n",
                "<summary>**Reproducible research, Open Science, and Pre-Publication**<\/summary>\n"
            ]
        },
        {
            "cell_type": "code",
            "execution_count": null,
            "metadata": {},
            "outputs": [],
            "source": [
                "knitr::include_graphics(\"https://slcladal.github.io/images/ladallogo.png\")\n",
                "\n"
            ]
        },
        {
            "cell_type": "markdown",
            "metadata": {},
            "source": [
                "**Abstract**\n",
                "\n",
                "\n",
                "**About Julie**\n",
                "\n",
                "**About Amanda**\n",
                "\n",
                "<br><br>\n",
                "<\/details>\n",
                "\n",
                "## 2021/7/28: Vincent DeLuca, Toms Voits, & Jason Rothman{-}\n",
                "\n",
                "<details>\n",
                "<summary>**Neurocognitve effects of bilingual experience**<\/summary>\n"
            ]
        },
        {
            "cell_type": "code",
            "execution_count": null,
            "metadata": {},
            "outputs": [],
            "source": [
                "knitr::include_graphics(\"https://slcladal.github.io/images/ladallogo.png\")\n",
                "\n"
            ]
        },
        {
            "cell_type": "markdown",
            "metadata": {},
            "source": [
                "**Abstract**\n",
                "\n",
                "\n",
                "**About Vincent**\n",
                "\n",
                "\n",
                "**About Toms**\n",
                "\n",
                "\n",
                "**About Jason**\n",
                "\n",
                "\n",
                "<br><br>\n",
                "<\/details>\n",
                "\n",
                "## 2021/8/2: Simon Musgrave & Tias Allard{-}\n",
                "\n",
                "<details>\n",
                "<summary>**Starting to work with networks**<\/summary>\n"
            ]
        },
        {
            "cell_type": "code",
            "execution_count": null,
            "metadata": {},
            "outputs": [],
            "source": [
                "knitr::include_graphics(\"https://slcladal.github.io/images/ladallogo.png\")\n",
                "\n"
            ]
        },
        {
            "cell_type": "markdown",
            "metadata": {},
            "source": [
                "<br><br>\n",
                "<\/details>\n",
                "\n",
                "## 2021/8/19: Mikko Laitinen{-}\n",
                "\n",
                "<details>\n",
                "<summary>**TBA**<\/summary>\n"
            ]
        },
        {
            "cell_type": "code",
            "execution_count": null,
            "metadata": {},
            "outputs": [],
            "source": [
                "knitr::include_graphics(\"https://slcladal.github.io/images/ladallogo.png\")\n",
                "\n"
            ]
        },
        {
            "cell_type": "markdown",
            "metadata": {},
            "source": [
                "**Abstract**\n",
                "\n",
                "\n",
                "\n",
                "**About Mikko**\n",
                "\n",
                "<br><br>\n",
                "<\/details>\n",
                "\n",
                "## 2021/8/26: Peter Crosthwaite{-}\n",
                "\n",
                "<details>\n",
                "<summary>**Data-driven learning for younger learners: Boosting schoolgirls’ knowledge of passive voice constructions for STEM education**<\/summary>\n"
            ]
        },
        {
            "cell_type": "code",
            "execution_count": null,
            "metadata": {},
            "outputs": [],
            "source": [
                "knitr::include_graphics(\"https://slcladal.github.io/images/ladallogo.png\")\n",
                "\n"
            ]
        },
        {
            "cell_type": "markdown",
            "metadata": {},
            "source": [
                "**Abstract**\n",
                "\n",
                "\n",
                "\n",
                "**About Peter**\n",
                "\n",
                "\n",
                "<br><br>\n",
                "<\/details>\n",
                "\n",
                "## 2021/9/2: Laura Janda{-}\n",
                "\n",
                "<details>\n",
                "<summary>**TBA**<\/summary>\n"
            ]
        },
        {
            "cell_type": "code",
            "execution_count": null,
            "metadata": {},
            "outputs": [],
            "source": [
                "knitr::include_graphics(\"https://slcladal.github.io/images/ladallogo.png\")\n",
                "\n"
            ]
        },
        {
            "cell_type": "markdown",
            "metadata": {},
            "source": [
                "**Abstract**\n",
                "\n",
                "\n",
                "\n",
                "**About Laura**\n",
                "\n",
                "\n",
                "<br><br>\n",
                "<\/details>\n",
                "\n",
                "## 2021/9/13: Gregor Wiedemann{-}\n",
                "\n",
                "<details>\n",
                "<summary>**Text classification for automatic detection of hate speech, counter speech, and protest events**<\/summary>\n"
            ]
        },
        {
            "cell_type": "code",
            "execution_count": null,
            "metadata": {},
            "outputs": [],
            "source": [
                "knitr::include_graphics(\"https://slcladal.github.io/images/ladallogo.png\")\n",
                "\n"
            ]
        },
        {
            "cell_type": "markdown",
            "metadata": {},
            "source": [
                "**Abstract**\n",
                "\n",
                "\n",
                "\n",
                "**About Gregor**\n",
                "\n",
                "<br><br>\n",
                "<\/details>\n",
                "\n",
                "## 2021/9/21: Terttu Nevalainen, Turo Hiltunen & Aatu Liimatta{-}\n",
                "\n",
                "<details>\n",
                "<summary>**VARIENG team**<\/summary>\n"
            ]
        },
        {
            "cell_type": "code",
            "execution_count": null,
            "metadata": {},
            "outputs": [],
            "source": [
                "knitr::include_graphics(\"https://slcladal.github.io/images/ladallogo.png\")\n",
                "\n"
            ]
        },
        {
            "cell_type": "markdown",
            "metadata": {},
            "source": [
                "**Abstract**\n",
                "\n",
                "\n",
                "\n",
                "**About Terttu**\n",
                "\n",
                "\n",
                "**About Turo**\n",
                "\n",
                "\n",
                "**About Aatu**\n",
                "\n",
                "<br><br>\n",
                "<\/details>\n",
                "\n",
                "## 2021/9/27: Laurence Anthony{-}\n",
                "\n",
                "<details>\n",
                "<summary>**AntConc: Version 4**<\/summary>\n"
            ]
        },
        {
            "cell_type": "code",
            "execution_count": null,
            "metadata": {},
            "outputs": [],
            "source": [
                "knitr::include_graphics(\"https://slcladal.github.io/images/ladallogo.png\")\n",
                "\n"
            ]
        },
        {
            "cell_type": "markdown",
            "metadata": {},
            "source": [
                "**Abstract**\n",
                "\n",
                "\n",
                "\n",
                "**About Laurence**\n",
                "\n",
                "\n",
                "<br><br>\n",
                "<\/details>\n",
                "\n",
                "## 2021/10/2: Guillaume Desagulier{-}\n",
                "\n",
                "<details>\n",
                "<summary>**Doing diachronic linguistics with distributional semantic models in R**<\/summary>\n"
            ]
        },
        {
            "cell_type": "code",
            "execution_count": null,
            "metadata": {},
            "outputs": [],
            "source": [
                "knitr::include_graphics(\"https://slcladal.github.io/images/ladallogo.png\")\n",
                "\n"
            ]
        },
        {
            "cell_type": "markdown",
            "metadata": {},
            "source": [
                "**Abstract**\n",
                "\n",
                "\n",
                "\n",
                "**About Guillaume**\n",
                "\n",
                "<br><br>\n",
                "<\/details>\n",
                "\n",
                "## 2021/10/15: Tanja Säily{-}\n",
                "\n",
                "<details>\n",
                "<summary>**Analysing 18th-century publications and publishing networks**<\/summary>\n"
            ]
        },
        {
            "cell_type": "code",
            "execution_count": null,
            "metadata": {},
            "outputs": [],
            "source": [
                "knitr::include_graphics(\"https://slcladal.github.io/images/ladallogo.png\")\n",
                "\n"
            ]
        },
        {
            "cell_type": "markdown",
            "metadata": {},
            "source": [
                "**Abstract**\n",
                "\n",
                "\n",
                "**About Tanja**\n",
                "\n",
                "\n",
                "<br><br>\n",
                "<\/details>\n",
                "\n",
                "\n",
                "\n",
                "***\n",
                "\n",
                "# PAST PRESENTATIONS{-}\n",
                "\n",
                "***\n",
                "\n",
                "\n",
                " \n",
                "***\n",
                "\n",
                "[Back to top](#announcements)\n",
                "\n",
                "[Back to HOME](https://slcladal.github.io/index.html)\n",
                "\n",
                "*** \n",
                "\n",
                "# References {-}\n"
            ]
        }
    ],
    "metadata": {
        "anaconda-cloud": "",
        "kernelspec": {
            "display_name": "R",
            "langauge": "R",
            "name": "ir"
        },
        "language_info": {
            "codemirror_mode": "r",
            "file_extension": ".r",
            "mimetype": "text/x-r-source",
            "name": "R",
            "pygments_lexer": "r",
            "version": "3.4.1"
        }
    },
    "nbformat": 4,
    "nbformat_minor": 1
}
