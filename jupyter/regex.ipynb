{
    "cells": [
        {
            "cell_type": "markdown",
            "metadata": {},
            "source": [
                "<!--html_preserve-->\n",
                "<!-- Global site tag (gtag.js) - Google Analytics -->\n",
                "<script async src=\"https://www.googletagmanager.com/gtag/js?id=UA-130562131-1\"><\/script>\n",
                "<script>\n",
                "  window.dataLayer = window.dataLayer || [];\n",
                "  function gtag(){dataLayer.push(arguments);}\n",
                "  gtag('js', new Date());\n",
                "\n",
                "  gtag('config', 'UA-130562131-1');\n",
                "<\/script>\n",
                "<!--/html_preserve-->\n"
            ]
        },
        {
            "cell_type": "code",
            "execution_count": null,
            "metadata": {},
            "outputs": [],
            "source": [
                "knitr::include_graphics(\"https://slcladal.github.io/images/uq1.jpg\")\n",
                "\n"
            ]
        },
        {
            "cell_type": "markdown",
            "metadata": {},
            "source": [
                "# Introduction\n",
                "\n",
                "This tutorial introduces regular expressions and how they can be used when working with language data. The entire R markdown document for the sections below can be downloaded [here](https://slcladal.github.io/regex.Rmd).\n",
                "\n",
                "How can you search texts for complex patterns or combinations of patterns? This question will answered in this tutorial and at the end you will be able to perform very complex searches yourself. The key concept of this tutorial is that of a regular expression. A regular expression (in short also called *regex* or *regexp*) is a special sequence of characters (or string) for describing a search pattern. You can think of regular expressions as very powerful combinations of wildcards or as wildcards on steroids. \n",
                "\n",
                "If you would like to get deeper into regular expressions, I can recommend @friedl2006mastering and, in particular, chapter 17 of @peng2016r for further study (although the latter uses base R rather than tidyverse functions, but this does not affect the utility of the discussion of regular expressions in any major or meaningful manner). Also, [here](https://rstudio.com/wp-content/uploads/2016/09/RegExCheatsheet.pdf) is a so-called *cheatsheet* about regular expressions written by  Ian Kopacka and provided by RStudio.\n",
                "\n",
                "**Preparation and session set up**\n",
                "\n",
                "This tutorial is based on R. If you have not installed R or are new to it, you will find an introduction to and more information how to use R [here](https://slcladal.github.io/Intror.html). For this tutorials, we need to install certain *packages* from an R *library* so that the scripts shown below are executed without errors. Before turning to the code below, please install the packages by running the code below this paragraph. If you have already installed the packages mentioned below, then you can skip ahead and ignore this section. To install the necessary packages, simply run the following code - it may take some time (between 1 and 5 minutes to install all of the libraries so you do not need to worry if it takes some time).\n"
            ]
        },
        {
            "cell_type": "code",
            "execution_count": null,
            "metadata": {},
            "outputs": [],
            "source": [
                "# set options\n",
                "options(stringsAsFactors = F)\n",
                "# load packages\n",
                "library(tidyverse)\n"
            ]
        },
        {
            "cell_type": "markdown",
            "metadata": {},
            "source": "\n"
        },
        {
            "cell_type": "code",
            "execution_count": null,
            "metadata": {},
            "outputs": [],
            "source": [
                "library(kableExtra)\n",
                "library(knitr)\n",
                "library(DT)\n"
            ]
        },
        {
            "cell_type": "markdown",
            "metadata": {},
            "source": [
                "Once you have installed R-Studio and have initiated the session by executing the code shown above, you are good to go.\n",
                "\n",
                "# Getting started with Regular Expressions\n",
                "\n",
                "To put regular expressions into practice, we need some text that we will perform out searches on. In this tutorial, we will use texts from wikipedia about grammar.\n"
            ]
        },
        {
            "cell_type": "code",
            "execution_count": null,
            "metadata": {},
            "outputs": [],
            "source": [
                "# read in first text\n",
                "text1 <- readLines(\"https://slcladal.github.io/data/testcorpus/linguistics02.txt\")\n",
                "et <-  paste(text1, sep = \" \", collapse = \" \")\n",
                "# inspect example text\n",
                "et\n"
            ]
        },
        {
            "cell_type": "markdown",
            "metadata": {},
            "source": [
                "In addition, we will split the example text into words to have another resource we can use to understand regular expressions\n",
                "\n"
            ]
        },
        {
            "cell_type": "code",
            "execution_count": null,
            "metadata": {},
            "outputs": [],
            "source": [
                "# split example text\n",
                "set <- str_split(et, \" \") %>%\n",
                "  unlist()\n",
                "# inspect\n",
                "head(set)\n"
            ]
        },
        {
            "cell_type": "markdown",
            "metadata": {},
            "source": [
                "Before we delve into using regular expressions, we will have a look at the regular expressions that can be used in R and also check what they stand for.\n",
                "\n",
                "There are three basic types of regular expressions:\n",
                "\n",
                "* regular expressions that stand for individual symbols and determine frequencies\n",
                "\n",
                "* regular expressions that stand for classes of symbols\n",
                "\n",
                "* regular expressions that stand for structural properties\n",
                "\n",
                "The regular expressions below show the first type of regular expressions, i.e. regular expressions that stand for individual symbols and determine frequencies.\n"
            ]
        },
        {
            "cell_type": "code",
            "execution_count": null,
            "metadata": {},
            "outputs": [],
            "source": [
                "symbols1 <- c(fixed(\"?\"), fixed(\"*\"), fixed(\"+\"), \"{n}\", \"{n,}\", \"{n,m}\")\n",
                "explanation1 <- c(\"The preceding item is optional and will be matched at most once\", \"The preceding item will be matched zero or more times\", \"The preceding item will be matched one or more times\", \"The preceding item is matched exactly n times\", \"The preceding item is matched n or more times\", \"The preceding item is matched at least n times, but not more than m times\")\n",
                "example1 <- c(\"walk[a-z]? = walk, walks\", \n",
                "             \"walk[a-z]* = walk, walks, walked, walking\", \n",
                "             \"walk[a-z]+ = walks, walked, walking\", \n",
                "             \"walk[a-z]{2} = walked\", \n",
                "             \"walk[a-z]{2,} = walked, walking\", \n",
                "             \"walk[a-z]{2,3} = walked, walking\")\n",
                "df_regex <- data.frame(symbols1, explanation1, example1)\n",
                "colnames(df_regex) <- c(\"RegEx Symbol/Sequence\", \"Explanation\", \"Example\")\n",
                "datatable(df_regex, rownames = FALSE, filter=\"none\", options = list(pageLength = 6, scrollX=T), caption = \"Regular expressions that stand for individual symbols and determine frequencies.\")\n"
            ]
        },
        {
            "cell_type": "markdown",
            "metadata": {},
            "source": [
                "The regular expressions below show the second type of regular expressions, i.e. regular expressions that stand for classes of symbols.\n",
                "\n"
            ]
        },
        {
            "cell_type": "code",
            "execution_count": null,
            "metadata": {},
            "outputs": [],
            "source": [
                "symbols2 <- c(\"[ab]\", \"[a-z]\", \"[AB]\", \"[A-Z]\", \"[12]\", \"[0-9]\", \"[:digit:]\", \"[:lower:]\", \"[:upper:]\", \"[:alpha:]\", \"[:alnum:]\", \"[:punct:]\", \"[:graph:]\", \"[:blank:]\", \"[:space:]\", \"[:print:]\")\n",
                "explanations2 <- c(\"lower case a and b\",\n",
                "                   \"all lower case characters from a to z\",\n",
                "                   \"upper case a and b\",\n",
                "                   \"all upper case characters from A to Z\",\n",
                "                   \"digits 1 and 2\", \n",
                "                   \"digits: 0 1 2 3 4 5 6 7 8 9\",\n",
                "                   \"digits: 0 1 2 3 4 5 6 7 8 9\", \n",
                "                   \"lower case characters: a–z\", \n",
                "                   \"upper case characters: A–Z\", \n",
                "                   \"alphabetic characters: a–z and A–Z\", \n",
                "                   \"digits and alphabetic characters\", \n",
                "                   \"punctuation characters: . , ; etc.\", \n",
                "                   \"graphical characters: [:alnum:] and [:punct:]\", \n",
                "                   \"blank characters: Space and tab\", \n",
                "                   \"space characters: Space, tab, newline, and other space characters\", \n",
                "                   \"printable characters: [:alnum:], [:punct:] and [:space:]\")\n",
                "df_regex <- data.frame(symbols2, explanations2)\n",
                "colnames(df_regex) <- c(\"RegEx Symbol/Sequence\", \"Explanation\")\n",
                "datatable(df_regex, rownames = FALSE, filter=\"none\", options = list(pageLength = 16, scrollX=T), caption = \"Regular expressions that stand for classes of symbols.\")\n"
            ]
        },
        {
            "cell_type": "markdown",
            "metadata": {},
            "source": [
                "The regular expressions that denote classes of symbols are enclosed in `[]` and `:`. The last type of regular expressions, i.e. regular expressions that stand for structural properties are shown below.\n",
                "\n"
            ]
        },
        {
            "cell_type": "code",
            "execution_count": null,
            "metadata": {},
            "outputs": [],
            "source": [
                "symbols3 <- c(fixed(\"\\\\\\\\w\"), fixed(\"\\\\\\\\W\"), fixed(\"\\\\\\\\s\"), fixed(\"\\\\\\\\S\"), \n",
                "              fixed(\"\\\\\\\\d\"), fixed(\"\\\\\\\\D\"), fixed(\"\\\\\\\\b\"), fixed(\"\\\\\\\\B\"), \n",
                "              fixed(\"<\"), fixed(\">\"), fixed(\"^\"), fixed(\"$\"))\n",
                "explanations3 <- c(\"Word characters: [[:alnum:]_]\",\n",
                "                   \"No word characters: [^[:alnum:]_]\",\n",
                "                   \"Space characters: [[:blank:]]\",\n",
                "                   \"No space characters: [^[:blank:]]\",\n",
                "                   \"Digits: [[:digit:]]\",\n",
                "                   \"No digits: [^[:digit:]]\",\n",
                "                   \"Word edge\",\n",
                "                   \"No word edge\",\n",
                "                   \"Word beginning\",\n",
                "                   \"Word end\",\n",
                "                   \"Beginning of a string\",\n",
                "                   \"End of a string\")\n",
                "df_regex <- data.frame(symbols3, explanations3)\n",
                "colnames(df_regex) <- c(\"RegEx Symbol/Sequence\", \"Explanation\")\n",
                "datatable(df_regex, rownames = FALSE, filter=\"none\", options = list(pageLength = 13, scrollX=T), caption = \"Regular expressions that stand for structural properties.\")\n"
            ]
        },
        {
            "cell_type": "markdown",
            "metadata": {},
            "source": [
                "# Practice\n",
                "\n",
                "In this section, we will explore how to use regular expressions.\n",
                "\n",
                "Show all words in the split example text that contain `a` or `n`.\n"
            ]
        },
        {
            "cell_type": "code",
            "execution_count": null,
            "metadata": {},
            "outputs": [],
            "source": [
                "set[str_detect(set, \"[an]\")]\n",
                "\n"
            ]
        },
        {
            "cell_type": "markdown",
            "metadata": {},
            "source": [
                "Show all words in the split example text that begin with a lower case `a`.\n",
                "\n"
            ]
        },
        {
            "cell_type": "code",
            "execution_count": null,
            "metadata": {},
            "outputs": [],
            "source": [
                "set[str_detect(set, \"^a\")]\n",
                "\n"
            ]
        },
        {
            "cell_type": "markdown",
            "metadata": {},
            "source": [
                "Show all words in the split example text that end in a lower case `s`.\n",
                "\n"
            ]
        },
        {
            "cell_type": "code",
            "execution_count": null,
            "metadata": {},
            "outputs": [],
            "source": [
                "set[str_detect(set, \"s$\")]\n",
                "\n"
            ]
        },
        {
            "cell_type": "markdown",
            "metadata": {},
            "source": [
                "Show all words in the split example text in which there is an `e`, then any other character, and than another `n`.\n",
                "\n"
            ]
        },
        {
            "cell_type": "code",
            "execution_count": null,
            "metadata": {},
            "outputs": [],
            "source": [
                "set[str_detect(set, \"e.n\")]\n",
                "\n"
            ]
        },
        {
            "cell_type": "markdown",
            "metadata": {},
            "source": [
                "Show all words in the split example text in which there is an `e`, then two other characters, and than another `n`.\n",
                "\n"
            ]
        },
        {
            "cell_type": "code",
            "execution_count": null,
            "metadata": {},
            "outputs": [],
            "source": [
                "set[str_detect(set, \"e.{2,2}n\")]\n",
                "\n"
            ]
        },
        {
            "cell_type": "markdown",
            "metadata": {},
            "source": [
                "Show all words that consist of exactly three alphabetical characters in the split example text.\n",
                "\n"
            ]
        },
        {
            "cell_type": "code",
            "execution_count": null,
            "metadata": {},
            "outputs": [],
            "source": [
                "set[str_detect(set, \"^[:alpha:]{3,3}$\")]\n",
                "\n"
            ]
        },
        {
            "cell_type": "markdown",
            "metadata": {},
            "source": [
                "Show all words that consist of six or more alphabetical characters in the split example text.\n",
                "\n"
            ]
        },
        {
            "cell_type": "code",
            "execution_count": null,
            "metadata": {},
            "outputs": [],
            "source": [
                "set[str_detect(set, \"^[:alpha:]{6,}$\")]\n",
                "\n"
            ]
        },
        {
            "cell_type": "markdown",
            "metadata": {},
            "source": [
                "Replace all lower case `a`s with upper case `E`s in the example text.\n",
                "\n"
            ]
        },
        {
            "cell_type": "code",
            "execution_count": null,
            "metadata": {},
            "outputs": [],
            "source": [
                "str_replace_all(et, \"a\", \"E\")\n",
                "\n"
            ]
        },
        {
            "cell_type": "markdown",
            "metadata": {},
            "source": [
                "Remove all non-alphabetical characters in the split example text.\n",
                "\n"
            ]
        },
        {
            "cell_type": "code",
            "execution_count": null,
            "metadata": {},
            "outputs": [],
            "source": [
                "str_remove_all(set, \"\\\\W\")\n",
                "\n"
            ]
        },
        {
            "cell_type": "markdown",
            "metadata": {},
            "source": [
                "Remove all white spaces in the example text.\n",
                "\n"
            ]
        },
        {
            "cell_type": "code",
            "execution_count": null,
            "metadata": {},
            "outputs": [],
            "source": [
                "str_remove_all(et, \" \")\n",
                "\n"
            ]
        },
        {
            "cell_type": "markdown",
            "metadata": {},
            "source": [
                "**Highlighting patterns**\n",
                "\n",
                "We use the `str_view` and `str_view_all` functions to show the occurrences of regular expressions in the example text.\n",
                "\n",
                "To begin with, we match an exactly defined pattern (`ang`).\n"
            ]
        },
        {
            "cell_type": "code",
            "execution_count": null,
            "metadata": {},
            "outputs": [],
            "source": [
                "str_view_all(et, \"ang\")\n",
                "\n"
            ]
        },
        {
            "cell_type": "markdown",
            "metadata": {},
            "source": [
                "Now, we include . which stands for any symbol (except a new line symbol).\n",
                "\n"
            ]
        },
        {
            "cell_type": "code",
            "execution_count": null,
            "metadata": {},
            "outputs": [],
            "source": [
                "str_view_all(et, \".n.\")\n",
                "\n"
            ]
        },
        {
            "cell_type": "markdown",
            "metadata": {},
            "source": [
                "# Citation & Session Info {-}\n",
                "\n",
                "Schweinberger, Martin. `r format(Sys.time(), '%Y')`. *Regular Expressions in R*. Brisbane: The University of Queensland. url: https://slcladal.github.io/regex.html (Version `r format(Sys.time(), '%Y.%m.%d')`).\n"
            ]
        },
        {
            "cell_type": "code",
            "execution_count": null,
            "metadata": {},
            "outputs": [],
            "source": [
                "@manual{schweinberger`r format(Sys.time(), '%Y')`regex,\n",
                "  author = {Schweinberger, Martin},\n",
                "  title = {Regular Expressions in R},\n",
                "  note = {https://slcladal.github.io/regex.html},\n",
                "  year = {`r format(Sys.time(), '%Y')`},\n",
                "  organization = {The University of Queensland, School of Languages and Cultures},\n",
                "  address = {Brisbane},\n",
                "  edition = {`r format(Sys.time(), '%Y.%m.%d')`}\n",
                "}\n"
            ]
        },
        {
            "cell_type": "markdown",
            "metadata": {},
            "source": [
                "\n",
                "\n"
            ]
        },
        {
            "cell_type": "code",
            "execution_count": null,
            "metadata": {},
            "outputs": [],
            "source": [
                "sessionInfo()\n",
                "\n"
            ]
        },
        {
            "cell_type": "markdown",
            "metadata": {},
            "source": [
                "***\n",
                "\n",
                "[Back to top](#introduction)\n",
                "\n",
                "[Back to HOME](https://slcladal.github.io/index.html)\n",
                "\n",
                "***\n",
                "\n",
                "# References {-}\n"
            ]
        }
    ],
    "metadata": {
        "anaconda-cloud": "",
        "kernelspec": {
            "display_name": "R",
            "langauge": "R",
            "name": "ir"
        },
        "language_info": {
            "codemirror_mode": "r",
            "file_extension": ".r",
            "mimetype": "text/x-r-source",
            "name": "R",
            "pygments_lexer": "r",
            "version": "3.4.1"
        }
    },
    "nbformat": 4,
    "nbformat_minor": 1
}
