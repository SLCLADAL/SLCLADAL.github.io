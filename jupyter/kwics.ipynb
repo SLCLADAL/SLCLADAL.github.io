{
    "cells": [
        {
            "cell_type": "markdown",
            "metadata": {},
            "source": [
                "<!--html_preserve-->\n",
                "<!-- Global site tag (gtag.js) - Google Analytics -->\n",
                "<script async src=\"https://www.googletagmanager.com/gtag/js?id=UA-130562131-1\"><\/script>\n",
                "<script>\n",
                "  window.dataLayer = window.dataLayer || [];\n",
                "  function gtag(){dataLayer.push(arguments);}\n",
                "  gtag('js', new Date());\n",
                "\n",
                "  gtag('config', 'UA-130562131-1');\n",
                "<\/script>\n",
                "<!--/html_preserve-->\n"
            ]
        },
        {
            "cell_type": "code",
            "execution_count": null,
            "metadata": {},
            "outputs": [],
            "source": [
                "knitr::include_graphics(\"https://slcladal.github.io/images/uq1.jpg\")\n",
                "\n"
            ]
        },
        {
            "cell_type": "markdown",
            "metadata": {},
            "source": [
                "# Introduction{-}\n",
                "\n",
                "This tutorial introduces how to extract concordances and keyword-in-context (KWIC) displays with R. The entire R-markdown document for the tutorial can be downloaded [here](https://slcladal.github.io/kwics.Rmd).  \n",
                "\n",
                "In the language sciences, concordancing refers to the extraction of words from a given text or texts [@lindquist2009corpus 5]. Commonly, concordances are displayed in the form of keyword-in-context displays (KWICs) where the search term is shown in context, i.e. with preceding and following words. Concordancing are central to analyses of text and they often represents the first step in more sophisticated analyses of language data [@stafanowitsch2020corpus]. The play such a key role in the language sciences because concordances are extremely valuable for understanding how a word or phrase is used, how often it is used, and in which contexts is used. As concordances allow us to analyze the context in which a word or phrase occurs and provide frequency information about word use, they also enable us to analyze collocations or the collocational profiles of words and phrases [@stafanowitsch2020corpus 50-51]. Finally, concordances can also be used to extract examples and it is a very common procedure. \n"
            ]
        },
        {
            "cell_type": "code",
            "execution_count": null,
            "metadata": {},
            "outputs": [],
            "source": [
                "knitr::include_graphics(\"https://slcladal.github.io/images/AntConcConcordance.png\")\n",
                "\n"
            ]
        },
        {
            "cell_type": "markdown",
            "metadata": {},
            "source": [
                "There are various very good software packages that can be used to create concordances - both for offline use (e.g. [*AntConc*](https://www.laurenceanthony.net/software/antconc/) [@anthony2004antconc], [*SketchEngine*](https://www.sketchengine.eu/)[@kilgarriff2004itri], [*MONOCONC*](https://www.monoconc.com/)[@barlow1999monoconc], and [*ParaConc*](https://paraconc.com/))[@barlow2002paraconc] and online use (see e.g. [here](https://lextutor.ca/conc/)). \n",
                "\n",
                "\n",
                "In addition, many corpora that are available such as the [BYU corpora](https://corpus.byu.edu/overview.asp) can be accessed via a web interface that have in-built concordancing functions.  \n",
                "  \n"
            ]
        },
        {
            "cell_type": "code",
            "execution_count": null,
            "metadata": {},
            "outputs": [],
            "source": [
                "knitr::include_graphics(\"https://slcladal.github.io/images/KwicCocaLanguage.png\")\n",
                "\n"
            ]
        },
        {
            "cell_type": "markdown",
            "metadata": {},
            "source": [
                "  \n",
                "While these packages are very user-friendly, offer various additional functionalities, and almost everyone who is engaged in analyzing language has used concordance software, they all suffer from shortcomings that render R a viable alternative. Such issues include that these applications  \n",
                "  \n",
                "* are black boxes that researchers do not have full control over or do not know what is going on within the software\n",
                "\n",
                "* they are not open source\n",
                "\n",
                "* they hinder replication because the replications is more time consuming compared to analyses based on Notebooks.\n",
                "\n",
                "* they are commonly not free-of charge or have other restrictions on use (a notable exception is *AntConc*)\n",
                "\n",
                "\n",
                "R represents an alternative to ready-made concordancing applications because it:\n",
                "\n",
                "* is extremely flexible and enables researchers to perform their entire analysis in a single environment\n",
                "\n",
                "* allows full transparency and documentation as analyses can be based on Notebooks\n",
                "\n",
                "* offer version control measures (this means that the specific versions of the involved software are traceable)\n",
                "\n",
                "* makes research more replicable as entire analyses can be reproduced by simply running the Notebooks that the research is based on \n",
                "\n",
                "Especially the aspect that R enables full transparency and replicability is relevant given the ongoing *Replication Crisis* [@atlantic2018psychology; @fivethirtyeight2018replication; @noba2019replication; @physorg2018replication; @sciencealert2018replication]. The Replication Crisis is a ongoing methodological crisis primarily affecting parts of the social and life sciences beginning in the early 2010s [see also @fanelli2009fraud]. Replication is important so that other researchers, or the public for that matter, can see or, indeed, reproduce, exactly what you have done. Fortunately, R allows you to document your entire workflow as you can store everything you do in what is called a script or a notebook (in fact, this document was originally a R notebook). If someone is then interested in how you conducted your analysis, you can simply share this notebook or the script you have written with that person.\n",
                "\n",
                "## Preparation and session set up{-}\n",
                "\n",
                "This tutorial is based on R. If you have not installed R or are new to it, you will find an introduction to and more information how to use R [here](https://slcladal.github.io/IntroR_workshop.html). For this tutorials, we need to install certain *packages* from an R *library* so that the scripts shown below are executed without errors. Before turning to the code below, please install the packages by running the code below this paragraph. If you have already installed the packages mentioned below, then you can skip ahead ignore this section. To install the necessary packages, simply run the following code - it may take some time (between 1 and 5 minutes to install all of the libraries so you do not need to worry if it takes some time).\n"
            ]
        },
        {
            "cell_type": "code",
            "execution_count": null,
            "metadata": {},
            "outputs": [],
            "source": [
                "# clean current workspace\n",
                "rm(list=ls(all=T))\n",
                "# set options\n",
                "options(stringsAsFactors = F)         # no automatic data transformation\n",
                "options(\"scipen\" = 100, \"digits\" = 4) # suppress math annotation\n",
                "# install libraries\n",
                "install.packages(c(\"quanteda\", \"dplyr\", \"stringr\", \"knitr\", \"kableExtra\", \"gutenbergr\"))\n"
            ]
        },
        {
            "cell_type": "markdown",
            "metadata": {},
            "source": [
                "Once you have installed R-Studio and initiated the session by executing the code shown above, you are good to go.\n",
                "\n",
                "## Loading and processing textual data{-}\n",
                "\n",
                "Before creating concordances or kwics, we load the necessary packages from the R library which will help to download, process, and display the data as well as create the concordances.\n"
            ]
        },
        {
            "cell_type": "code",
            "execution_count": null,
            "metadata": {},
            "outputs": [],
            "source": [
                "# activate packages\n",
                "library(quanteda)\n",
                "library(dplyr)\n",
                "library(stringr)\n",
                "library(knitr)\n",
                "library(kableExtra)\n",
                "library(gutenbergr)\n"
            ]
        },
        {
            "cell_type": "markdown",
            "metadata": {},
            "source": [
                "For this tutorial, we will use Charles Darwin's *On the Origin of Species by means of Natural Selection* which we download from the [Project Gutenberg](https://www.gutenberg.org/) archive [see @stroube2003literary]. Thus, Darwin's *Origin of Species* forms the basis of our analysis. You can use the code below to download this text into R (but you have to have access to the internet to do so).\n",
                "\n"
            ]
        },
        {
            "cell_type": "code",
            "execution_count": null,
            "metadata": {},
            "outputs": [],
            "source": [
                "origin <- gutenberg_works(gutenberg_id == \"1228\") %>%\n",
                "  gutenberg_download(meta_fields = \"gutenberg_id\", \n",
                "                     mirror = \"http://mirrors.xmission.com/gutenberg/\")\n",
                "# inspect data\n",
                "kable(head(origin), caption = \"First 6 rows of the text\") %>%\n",
                "  kable_styling(bootstrap_options = \"striped\", full_width = T, position = \"left\")\n"
            ]
        },
        {
            "cell_type": "markdown",
            "metadata": {},
            "source": [
                "The table above shows that Darwin's *Origin of Species* requires formatting so that we can use it. Therefore, we collapse it into a single object (or text) and remove superfluous white spaces.\n",
                "\n"
            ]
        },
        {
            "cell_type": "code",
            "execution_count": null,
            "metadata": {},
            "outputs": [],
            "source": [
                "origin <- origin$text %>%\n",
                "  paste0(collapse = \" \") %>%\n",
                "  str_squish()\n",
                "str(origin)\n"
            ]
        },
        {
            "cell_type": "markdown",
            "metadata": {},
            "source": [
                "The result confirms that the entire text is now combined into a single character object. \n",
                "\n",
                "## Creating simple concordances{-}\n",
                "\n",
                "Now that we have loaded the data, we can easily extract concordances using the `kwic` function from the `quanteda` package. The `kwic` function takes the text (`x`) and the search pattern (`pattern`) as it main arguments but it also allows the specification of the context window, i.e. how many words/elements are show to the left and right of the key word (we will go over this later on).\n"
            ]
        },
        {
            "cell_type": "code",
            "execution_count": null,
            "metadata": {},
            "outputs": [],
            "source": [
                "kwic_natural <- kwic(x = origin, pattern = \"selection\")\n",
                "# inspect data\n",
                "kable(head(kwic_natural), caption = \"First 6 concordances for the keyword *natural*.\") %>%\n",
                "  kable_styling(bootstrap_options = \"striped\", full_width = T, position = \"left\")\n"
            ]
        },
        {
            "cell_type": "markdown",
            "metadata": {},
            "source": [
                "We can easily extract the frequency of the search term (*selection*) using the `nrow` or the `length` functions which provide the number of rows of a tables (`nrow`) or the length of a vector (`length`).\n",
                "\n"
            ]
        },
        {
            "cell_type": "code",
            "execution_count": null,
            "metadata": {},
            "outputs": [],
            "source": [
                "nrow(kwic_natural)\n",
                "\n"
            ]
        },
        {
            "cell_type": "markdown",
            "metadata": {},
            "source": [
                "\n",
                "\n"
            ]
        },
        {
            "cell_type": "code",
            "execution_count": null,
            "metadata": {},
            "outputs": [],
            "source": [
                "length(kwic_natural$keyword)\n",
                "\n"
            ]
        },
        {
            "cell_type": "markdown",
            "metadata": {},
            "source": [
                "The results show that there are 414 instances of the search term (*selection*) but we can also find out how often different variants (lower case versus upper case) of the search term were found using the `table` function. This is especially useful when searches involve many different search terms (while it is, admittedly, less useful in the present example). \n",
                "\n"
            ]
        },
        {
            "cell_type": "code",
            "execution_count": null,
            "metadata": {},
            "outputs": [],
            "source": [
                "table(kwic_natural$keyword)\n",
                "\n"
            ]
        },
        {
            "cell_type": "markdown",
            "metadata": {},
            "source": [
                "To get a better understanding of the use of a word, it is often useful to extract more context. This is easily done by increasing size of the context window. To do this, we specify the `window` argument of the `kwic` function. In the example below, we set the context window size to 10 words/elements rather than using the default (which is 5 word/elements).\n",
                "\n"
            ]
        },
        {
            "cell_type": "code",
            "execution_count": null,
            "metadata": {},
            "outputs": [],
            "source": [
                "kwic_natural_longer <- kwic(x = origin, pattern = \"selection\", window = 10)\n",
                "# inspect data\n",
                "kable(head(kwic_natural_longer), \n",
                "      caption = \"First 6 concordances for the keyword *natural* with an extended context (10 elements).\") %>%\n",
                "  kable_styling(bootstrap_options = \"striped\", full_width = T, position = \"left\")\n"
            ]
        },
        {
            "cell_type": "markdown",
            "metadata": {},
            "source": [
                "## Extracting more than single words{-}\n",
                "\n",
                "While extracting single words is very common, you may want to extract more than just one word. To extract phrases, all you need to so is to specify that the pattern you are looking for is a phrase, as shown below.\n"
            ]
        },
        {
            "cell_type": "code",
            "execution_count": null,
            "metadata": {},
            "outputs": [],
            "source": [
                "kwic_naturalselection <- kwic(origin, pattern = phrase(\"natural selection\"))\n",
                "# inspect data\n",
                "kable(head(kwic_naturalselection), caption = \"First 6 concordances for the key phrase *natural selection*.\") %>%\n",
                "  kable_styling(bootstrap_options = \"striped\", full_width = T, position = \"left\")\n"
            ]
        },
        {
            "cell_type": "markdown",
            "metadata": {},
            "source": [
                "Of course you can extend this to longer sequences such as entire sentences. However, you may want to extract more or less concrete patterns rather than words or phrases. To search for patterns rather than words, you need to include regular expressions in your search pattern. \n",
                "\n",
                "## Searches using regular expressions{-}\n",
                "\n",
                "Regular expressions allow you to search for abstract patterns rather than concrete words or phrases which provides you with an extreme flexibility in what you can retrieve. A regular expression (in short also called *regex* or *regexp*) is a special sequence of characters that stand for are that describe a pattern. You can think of regular expressions as very powerful combinations of wildcards or as wildcards on steroids. For example, the sequence `[a-z]{1,3}` is a regular expression that stands for one up to three lower case characters and if you searched for this regular expression, you would get, for instance, *is*, *a*, *an*, *of*, *the*, *my*, *our*, *etc*, and many other short words as results.\n",
                "\n",
                "There are three basic types of regular expressions:\n",
                "\n",
                "* regular expressions that stand for individual symbols and determine frequencies\n",
                "\n",
                "* regular expressions that stand for classes of symbols\n",
                "\n",
                "* regular expressions that stand for structural properties\n",
                "\n",
                "The regular expressions below show the first type of regular expressions, i.e. regular expressions that stand for individual symbols and determine frequencies.\n"
            ]
        },
        {
            "cell_type": "code",
            "execution_count": null,
            "metadata": {},
            "outputs": [],
            "source": [
                "symbols1 <- c(\"?\", \"\\\\*\", \"\\\\+\", \"{n}\", \"{n,}\", \"{n,m}\")\n",
                "explanation1 <- c(\"The preceding item is optional and will be matched at most once\", \"The preceding item will be matched zero or more times\", \"The preceding item will be matched one or more times\", \"The preceding item is matched exactly n times\", \"The preceding item is matched n or more times\", \"The preceding item is matched at least n times, but not more than m times\")\n",
                "example1 <- c(\"walk[a-z]? = walk, walks\", \n",
                "             \"walk[a-z]* = walk, walks, walked, walking\", \n",
                "             \"walk[a-z]+ = walks, walked, walking\", \n",
                "             \"walk[a-z]{2} = walked\", \n",
                "             \"walk[a-z]{2,} = walked, walking\", \n",
                "             \"walk[a-z]{2,3} = walked, walking\")\n",
                "df_regex <- data.frame(symbols1, explanation1, example1)\n",
                "colnames(df_regex) <- c(\"RegEx Symbol/Sequence\", \"Explanation\", \"Example\")\n",
                "kable(df_regex, \n",
                "      caption = \"Regular expressions that stand for individual symbols and determine frequencies.\") %>%\n",
                "  kable_styling(bootstrap_options = \"striped\", full_width = T, position = \"left\")\n"
            ]
        },
        {
            "cell_type": "markdown",
            "metadata": {},
            "source": [
                "The regular expressions below show the second type of regular expressions, i.e. regular expressions that stand for classes of symbols.\n",
                "\n"
            ]
        },
        {
            "cell_type": "code",
            "execution_count": null,
            "metadata": {},
            "outputs": [],
            "source": [
                "symbols2 <- c(\"[ab]\", \"[AB]\", \"[12]\", \"[:digit:]\", \"[:lower:]\", \"[:upper:]\", \"[:alpha:]\", \"[:alnum:]\", \"[:punct:]\", \"[:graph:]\", \"[:blank:]\", \"[:space:]\", \"[:print:]\")\n",
                "explanations2 <- c(\"lower case a and b\", \n",
                "                   \"upper case a and b\", \n",
                "                   \"digits 1 and 2\", \n",
                "                   \"digits: 0 1 2 3 4 5 6 7 8 9\", \n",
                "                   \"lower case characters: a–z\", \n",
                "                   \"upper case characters: A–Z\", \n",
                "                   \"alphabetic characters: a–z and A–Z\", \n",
                "                   \"digits and alphabetic characters\", \n",
                "                   \"punctuation characters: . , ; etc.\", \n",
                "                   \"graphical characters: [:alnum:] and [:punct:]\", \n",
                "                   \"blank characters: Space and tab\", \n",
                "                   \"space characters: Space, tab, newline, and other space characters\", \n",
                "                   \"printable characters: [:alnum:], [:punct:] and [:space:]\")\n",
                "df_regex <- data.frame(symbols2, explanations2)\n",
                "colnames(df_regex) <- c(\"RegEx Symbol/Sequence\", \"Explanation\")\n",
                "kable(df_regex, \n",
                "      caption = \"Regular expressions that stand for classes of symbols.\") %>%\n",
                "  kable_styling(bootstrap_options = \"striped\", full_width = T, position = \"left\")\n"
            ]
        },
        {
            "cell_type": "markdown",
            "metadata": {},
            "source": [
                "The regular expressions that denote classes of symbols are enclosed in `[]` and `:`. The last type of regular expressions, i.e. regular expressions that stand for structural properties are shown below.\n",
                "\n"
            ]
        },
        {
            "cell_type": "code",
            "execution_count": null,
            "metadata": {},
            "outputs": [],
            "source": [
                "symbols3 <- c(\"\\\\\\\\\\\\w\", \"\\\\\\\\\\\\W\", \"\\\\\\\\\\\\s\", \"\\\\\\\\\\\\S\", \"\\\\\\\\\\\\d\", \"\\\\\\\\\\\\D\", \"\\\\\\\\\\\\b\", \"\\\\\\\\\\\\B\", \"\\\\\\\\<\", \"\\\\\\\\>\", \"^\", \"$\")\n",
                "explanations3 <- c(\"Word characters: [[:alnum:]_]\",\n",
                "                   \"No word characters: [^[:alnum:]_]\",\n",
                "                   \"Space characters: [[:blank:]]\",\n",
                "                   \"No space characters: [^[:blank:]]\",\n",
                "                   \"Digits: [[:digit:]]\",\n",
                "                   \"No digits: [^[:digit:]]\",\n",
                "                   \"Word edge\",\n",
                "                   \"No word edge\",\n",
                "                   \"Word beginning\",\n",
                "                   \"Word end\",\n",
                "                   \"Beginning of a string\",\n",
                "                   \"End of a string\")\n",
                "df_regex <- data.frame(symbols3, explanations3)\n",
                "colnames(df_regex) <- c(\"RegEx Symbol/Sequence\", \"Explanation\")\n",
                "kable(df_regex, \n",
                "      caption = \"Regular expressions that stand for structural properties.\") %>%\n",
                "  kable_styling(bootstrap_options = \"striped\", full_width = T, position = \"left\")\n"
            ]
        },
        {
            "cell_type": "markdown",
            "metadata": {},
            "source": [
                "To include regular expressions in your KWIC searches, you include them in your search pattern and set the argument `valuetype` to `\"regex\"`. The search pattern `\"\\\\bnatu.*|\\\\bselec.*\"` retrieves elements that contain `natu` and `selec` followed by any characters and where the `n` in `natu` and the `s` in `selec` are at a word boundary, i.e. where they are the first letters of a word. Hence, our serach would not retrieve words like *unnatural* or *deselect*. The `|` is an operator (like `+`, `-`, or `*`) that stands for *or*.\n",
                "\n"
            ]
        },
        {
            "cell_type": "code",
            "execution_count": null,
            "metadata": {},
            "outputs": [],
            "source": [
                "# define search patterns\n",
                "patterns <- c(\"\\\\bnatu.*|\\\\bselec.*\")\n",
                "kwic_regex <- kwic(origin, patterns, valuetype = \"regex\")\n",
                "# inspect data\n",
                "kable(head(kwic_regex), caption = \"First 6 concordances for the regular expression \\\\bnatu.*.\") %>%\n",
                "  kable_styling(bootstrap_options = \"striped\", full_width = T, position = \"left\")\n"
            ]
        },
        {
            "cell_type": "markdown",
            "metadata": {},
            "source": [
                "## Piping concordances{-}\n",
                "\n",
                "Quite often, we only want to retrieve patterns if they occur in a certain context. For instance, we might be interested in instances of *selection* but only if the preceding word is *natural*. Such conditional concordances could be extracted using regular expressions but they are easier to retrieve by piping. Piping is done using the `%>%` function from the `dplyr` package and the piping sequence can be translated as *and then*. We can then filter those concordances that contain *natural* using the `filter` function from the `dplyr` package. Note the the `$` stands for the end of a string so that *natural$* means that *natural* is the last element in the string that is preceding the keyword.\n"
            ]
        },
        {
            "cell_type": "code",
            "execution_count": null,
            "metadata": {},
            "outputs": [],
            "source": [
                "kwic_pipe <- kwic(x = origin, pattern = \"selection\") %>%\n",
                "  dplyr::filter(stringr::str_detect(pre, \"natural$|NATURAL$\"))\n",
                "# inspect data\n",
                "kable(head(kwic_pipe), caption = \"First 6 concordances for instances of *selection* that are preceeded by *natural*.\") %>%\n",
                "  kable_styling(bootstrap_options = \"striped\", full_width = T, position = \"left\")\n"
            ]
        },
        {
            "cell_type": "markdown",
            "metadata": {},
            "source": [
                "Piping is a very useful helper function and it is very frequently used in R - not only in the context of text processing but in all data science related domains.\n",
                "\n",
                "## Arranging concordances and adding frequency information{-}\n",
                "\n",
                "When inspecting concordances, it is useful to re-order the concordances so that they do not appear in the order that they appeared in the text or texts but by the context. To reorder concordances, we can use the `arrange` function from the `dplyr` package which takes the column according to which we want to re-arrange the data as it main argument. \n",
                "\n",
                "In the example below, we extract all instances of *natural* and then arrange the instances according to the content of the `post` column in alphabetical.\n"
            ]
        },
        {
            "cell_type": "code",
            "execution_count": null,
            "metadata": {},
            "outputs": [],
            "source": [
                "kwic_ordered <- kwic(x = origin, pattern = \"natural\") %>%\n",
                "  dplyr::arrange(post)\n",
                "# inspect data\n",
                "kable(head(kwic_ordered), caption = \"First 6 re-ordered concordances for instances of *natural*.\") %>%\n",
                "  kable_styling(bootstrap_options = \"striped\", full_width = T, position = \"left\")\n"
            ]
        },
        {
            "cell_type": "markdown",
            "metadata": {},
            "source": [
                "Arranging concordances according to alphabetical properties may, however, not be the most useful option. A more useful option may be to arrange concordances according to the frequency of co-occurring terms or collocates. In order to do this, we need to extract the co-occurring words and calculate their frequency. We can do this by combining the  `mutate`, `group_by`, `n()` functions from the `dplyr` package with the `str_remove_all` function from the `stringr` package. Then, we arrange the concordances by the frequency of the collocates in descending order (that is why we put a `-` in the arrange function). In order to do this, we need to \n",
                "\n",
                "1. create a new variable or column which represents the word that co-occurs with, or, as in the example below, immediately follows the search term. In the example below, we use the `mutate` function to create a new column called `post_word`. We then use the `str_remove_all` function to remove everything except for the word that immediately follows the search term (we simply remove everything and including a white space).\n",
                "\n",
                "2. group the data by the word that immediately follows the search term.\n",
                "\n",
                "3. create a new column called `post_word_freq` which represents the frequencies of all the words that immediately follow the search term.\n",
                "\n",
                "4. arrange the concordances by the frequency of the collocates in descending order.\n"
            ]
        },
        {
            "cell_type": "code",
            "execution_count": null,
            "metadata": {},
            "outputs": [],
            "source": [
                "kwic_ordered_coll <- kwic(x = origin, pattern = \"natural\") %>%\n",
                "  dplyr::mutate(post_word = str_remove_all(pre, \" .*\")) %>%\n",
                "  dplyr::group_by(post_word) %>%\n",
                "  dplyr::mutate(post_word_freq = n()) %>%\n",
                "  dplyr::arrange(-post_word_freq)\n",
                "# inspect data\n",
                "kable(head(kwic_ordered_coll), caption = \"First 6 re-ordered concordances for instances of *natural*.\") %>%\n",
                "  kable_styling(bootstrap_options = \"striped\", full_width = T, position = \"left\")\n"
            ]
        },
        {
            "cell_type": "markdown",
            "metadata": {},
            "source": [
                "We add more columns according to which we could arrange the concordance following the same schema. For example, we could add another column that represented the frequency of words that immediately preceded the search term and then arrange according to this column.\n",
                "\n",
                "## Concordances from transcriptions{-}\n",
                "\n",
                "As many analyses use transcripts as their primary data and because transcripts have features that require additional processing, we will now perform concordancing based on on transcripts. As a first step, we load five example transcripts that represent the first five files from the Irish component of the [International Corpus of English](https://www.ice-corpora.uzh.ch/en.html).\n"
            ]
        },
        {
            "cell_type": "code",
            "execution_count": null,
            "metadata": {},
            "outputs": [],
            "source": [
                "# define corpus files\n",
                "files <- paste(\"https://slcladal.github.io/data/ICEIrelandSample/S1A-00\", 1:5, \".txt\", sep = \"\")\n",
                "# load corpus files\n",
                "transcripts <- sapply(files, function(x){\n",
                "  x <- readLines(x)\n",
                "})\n",
                "# inspect first ten lines of the first transcript\n",
                "transcripts[[1]][1:10]\n"
            ]
        },
        {
            "cell_type": "markdown",
            "metadata": {},
            "source": [
                "The first ten lines shown above let us know that, after the header (`<S1A-001 Riding>`) and the symbol which indicates the start of the transcript (`<I>`), each utterance is preceded by a sequence which indicates the section, file, and speaker (e.g. `<S1A-001$A>`). The first utterance is thus uttered by speaker `A` in file `001` of section `S1A`. In addition, there are several sequences that provide meta-linguistic information which indicate the beginning of a speech unit (`<#>`), pauses (`<,>`), and laughter (`<&> laughter <\/&>`).\n",
                "\n",
                "To perform the concordancing, we need to change the format of the transcripts because the `kwic` function only works on character, corpus, tokens object- in their present form, the transcripts represent a list which contains vectors of strings. To change the format, we collapse the individual utterances into a single character vector for each transcript.\n"
            ]
        },
        {
            "cell_type": "code",
            "execution_count": null,
            "metadata": {},
            "outputs": [],
            "source": [
                "transcripts_collapsed <- sapply(files, function(x){\n",
                "  x <- readLines(x)\n",
                "  x <- paste0(x, collapse = \" \")\n",
                "  x <- str_squish(x)\n",
                "})\n",
                "# inspect data\n",
                "str(transcripts_collapsed)\n"
            ]
        },
        {
            "cell_type": "markdown",
            "metadata": {},
            "source": [
                "We can now extract the concordances.\n",
                "\n"
            ]
        },
        {
            "cell_type": "code",
            "execution_count": null,
            "metadata": {},
            "outputs": [],
            "source": [
                "kwic_trans <- kwic(x = transcripts_collapsed, pattern = phrase(\"you know\"))\n",
                "# inspect data\n",
                "kable(head(kwic_trans), caption = \"First 6 concordances for *you know* in three example transcripts.\") %>%\n",
                "  kable_styling(bootstrap_options = \"striped\", full_width = T, position = \"left\")\n"
            ]
        },
        {
            "cell_type": "markdown",
            "metadata": {},
            "source": [
                "The results show that each non-alphanumeric character is counted as a single word which reduces the context of the keyword substantially. Also, the docname column contains the full path to the data which make it hard to parse the content of the table. To address the first issue, we remove symbols by adding `remove_symbols = T` and  remove punctuation by adding `remove_punct = T`. In addition, we clean the docname column and extract only the file name.\n",
                "\n"
            ]
        },
        {
            "cell_type": "code",
            "execution_count": null,
            "metadata": {},
            "outputs": [],
            "source": [
                "kwic_trans <- quanteda::kwic(x = transcripts_collapsed, pattern = phrase(\"you know\"),\n",
                "                   remove_symbols = T, remove_punct = T)\n",
                "# clean docnames\n",
                "kwic_trans$docname <- kwic_trans$docname %>%\n",
                "  str_replace_all(\".*/([A-Z][0-9][A-Z]-[0-9]{1,3}).txt\", \"\\\\1\") \n",
                "# inspect data\n",
                "kable(head(kwic_trans), caption = \"First 6 concordances for *you know* in three example transcripts.\") %>%\n",
                "  kable_styling(bootstrap_options = \"striped\", full_width = T, position = \"left\")\n"
            ]
        },
        {
            "cell_type": "markdown",
            "metadata": {},
            "source": [
                "We could also extend the context window and merge the symbols that the `kwic` function has separated. \n",
                "\n",
                "\n",
                "Extending the context can also be used to identify the speaker that has uttered the search pattern that we are interested in. We will do just that as this is a common task in linguistics analyses.\n",
                "\n",
                "To extract speakers, we need to follow these steps:\n",
                "\n",
                "1. Create normal concordances of the pattern that we are interested in.\n",
                "\n",
                "2. Generate concordances of the pattern that we are interested in with a substantially enlarged context window size.\n",
                "\n",
                "3. Extract the speakers from the enlarged context window size.\n",
                "\n",
                "4. Add the speakers to the normal concordances using the `left-join` function from the `dplyr` package.\n"
            ]
        },
        {
            "cell_type": "code",
            "execution_count": null,
            "metadata": {},
            "outputs": [],
            "source": [
                "kwic_normal <- quanteda::kwic(transcripts_collapsed, phrase(\"you know\"))\n",
                "kwic_long <- quanteda::kwic(transcripts_collapsed, phrase(\"you know\"), window = 500) %>%\n",
                "  dplyr::mutate(pre = str_remove_all(pre, \".*\\\\$\")) %>%\n",
                "  dplyr::mutate(pre = str_remove_all(pre, \"\\\\>.*\"),\n",
                "         speaker = str_squish(pre)) %>%\n",
                "  dplyr::select(docname, speaker)\n",
                "# add speaker to normal kwic\n",
                "kwic_combined <- dplyr::left_join(kwic_normal, kwic_long) %>%\n",
                "  dplyr::mutate(docname = stringr::str_replace_all(docname, \".*/([A-Z][0-9][A-Z]-[0-9]{1,3}).txt\", \"\\\\1\")) \n",
                "# inspect data\n",
                "kable(head(kwic_combined), caption = \"First 6 concordances for *you know* with speakers that uttered them.\") %>%\n",
                "  kable_styling(bootstrap_options = \"striped\", full_width = T, position = \"left\")\n"
            ]
        },
        {
            "cell_type": "markdown",
            "metadata": {},
            "source": [
                "The resulting table shows that we have successfully extracted the speakers (identified by the letters in the `speaker` column) and cleaned the file names (in the `docnames` column).\n",
                "\n",
                "## Customizing concordances{-}\n",
                "\n",
                "As R represents a fully-fledged programming environment, we can, of course, also write our own, customized concordance function. The code below shows how you could go about doing so. Note, however, that this function only works if you enter more than a single file. \n"
            ]
        },
        {
            "cell_type": "code",
            "execution_count": null,
            "metadata": {},
            "outputs": [],
            "source": [
                "mykwic <- function(txts, pattern, context) {\n",
                "  # activate packages\n",
                "  require(stringr)\n",
                "  require(plyr)\n",
                "  # list files\n",
                "  conc <- sapply(txts, function(x) {\n",
                "    # determine length of text\n",
                "    lngth <- as.vector(unlist(nchar(x)))\n",
                "    # determine position of hits\n",
                "    idx <- str_locate_all(x, pattern)\n",
                "    idx <- idx[[1]]\n",
                "    ifelse(nrow(idx) >= 1, idx <- idx, return(\"No hits found\"))\n",
                "    # define start position of hit\n",
                "    token.start <- idx[,1]\n",
                "    # define end position of hit\n",
                "    token.end <- idx[,2]\n",
                "    # define start position of preceding context\n",
                "    pre.start <- ifelse(token.start-context < 1, 1, token.start-context)\n",
                "    # define end position of preceding context\n",
                "    pre.end <- token.start-1\n",
                "    # define start position of subsequent context\n",
                "    post.start <- token.end+1\n",
                "    # define end position of subsequent context\n",
                "    post.end <- ifelse(token.end+context > lngth, lngth, token.end+context)\n",
                "    # extract the texts defined by the positions\n",
                "    PreceedingContext <- substring(x, pre.start, pre.end)\n",
                "    Token <- substring(x, token.start, token.end)\n",
                "    SubsequentContext <- substring(x, post.start, post.end)\n",
                "    conc <- cbind(PreceedingContext, Token, SubsequentContext)\n",
                "    # return concordance\n",
                "    return(conc)\n",
                "    })\n",
                "  concdf <- ldply(conc, data.frame)\n",
                "  colnames(concdf)[1]<- \"File\"\n",
                "  return(concdf)\n",
                "}\n"
            ]
        },
        {
            "cell_type": "markdown",
            "metadata": {},
            "source": [
                "We can now try if this function works by searching for the sequence *you know* in the transcripts that we have loaded earlier. One difference between the `kwic` function provided by the `quanteda` package and the customized concordance function used here is that the `kwic` function uses the number of words to define the context window, while the `mykwic` function uses the number of characters or symbols instead (which is why we use a notably higher number to define the context window).\n",
                "\n"
            ]
        },
        {
            "cell_type": "code",
            "execution_count": null,
            "metadata": {},
            "outputs": [],
            "source": [
                "myconcordances <- mykwic(transcripts_collapsed, \"you know\", 50)\n",
                "# inspect data\n",
                "kable(head(myconcordances), caption = \"First 6 concordances for you know extracted using the mykwic function.\") %>%\n",
                "  kable_styling(bootstrap_options = \"striped\", full_width = T, position = \"left\")\n"
            ]
        },
        {
            "cell_type": "markdown",
            "metadata": {},
            "source": [
                "As this concordance function only works for more than one text, we split the text of Darwin's *On the Origin of Species* into chapters and assign each section a name.\n",
                "\n"
            ]
        },
        {
            "cell_type": "code",
            "execution_count": null,
            "metadata": {},
            "outputs": [],
            "source": [
                "# read in text\n",
                "origin_split <- origin %>%\n",
                "  stringr::str_squish() %>%\n",
                "  stringr::str_split(\"[CHAPTER]{7,7} [XVI]{1,7}\\\\. \") %>%\n",
                "  unlist()\n",
                "origin_split <- origin_split[which(nchar(origin_split) > 2000)]\n",
                "# add names\n",
                "names(origin_split) <- paste0(\"text\", 1:length(origin_split))\n",
                "# inspect data\n",
                "nchar(origin_split)\n"
            ]
        },
        {
            "cell_type": "markdown",
            "metadata": {},
            "source": [
                "Now that we have named elements, we can search for the pattern *natural selection*. We also need to clean the concordance as some sections do not contain any instances of the search pattern. To clean the data, we select only the columns `File`, `PreceedingContext`, `Token`, and `SubsequentContext` and then remove all rows where information is missing. \n",
                "\n"
            ]
        },
        {
            "cell_type": "code",
            "execution_count": null,
            "metadata": {},
            "outputs": [],
            "source": [
                "natsel_conc <- mykwic(origin_split, \"natural selection\", 50) %>%\n",
                "  dplyr::select(File, PreceedingContext, Token, SubsequentContext) %>%\n",
                "  na.omit()\n",
                "# inspect data\n",
                "kable(head(natsel_conc), caption = \"First 6 concordances for *natural selection* extracted using the mykwic function.\") %>%\n",
                "  kable_styling(bootstrap_options = \"striped\", full_width = T, position = \"left\")\n"
            ]
        },
        {
            "cell_type": "markdown",
            "metadata": {},
            "source": [
                "You can go ahead and modify the customized concordance function to suit your needs. \n",
                "\n",
                "\n",
                "# Citation & Session Info {-}\n",
                "\n",
                "Schweinberger, Martin. 2020. *Concordancing with R*. Brisbane: The University of Queensland. url: https://slcladal.github.io/kwics.html  (Version `r format(Sys.time(), '%Y.%m.%d')`).\n"
            ]
        },
        {
            "cell_type": "code",
            "execution_count": null,
            "metadata": {},
            "outputs": [],
            "source": [
                "@manual{schweinberger2021kwics,\n",
                "  author = {Schweinberger, Martin},\n",
                "  title = {Concordancing with R},\n",
                "  note = {https://slcladal.github.io/kwics.html},\n",
                "  year = {2021},\n",
                "  organization = \"The University of Queensland, School of Languages and Cultures},\n",
                "  address = {Brisbane},\n",
                "  edition = {`r format(Sys.time(), '%Y.%m.%d')`}\n",
                "}\n"
            ]
        },
        {
            "cell_type": "markdown",
            "metadata": {},
            "source": [
                "\n",
                "\n"
            ]
        },
        {
            "cell_type": "code",
            "execution_count": null,
            "metadata": {},
            "outputs": [],
            "source": [
                "sessionInfo()\n",
                "\n"
            ]
        },
        {
            "cell_type": "markdown",
            "metadata": {},
            "source": [
                "***\n",
                "\n",
                "[Back to top](#introduction)\n",
                "\n",
                "[Back to HOME](https://slcladal.github.io/index.html)\n",
                "\n",
                "***\n",
                "\n",
                "# References {-}\n"
            ]
        }
    ],
    "metadata": {
        "anaconda-cloud": "",
        "kernelspec": {
            "display_name": "R",
            "langauge": "R",
            "name": "ir"
        },
        "language_info": {
            "codemirror_mode": "r",
            "file_extension": ".r",
            "mimetype": "text/x-r-source",
            "name": "R",
            "pygments_lexer": "r",
            "version": "3.4.1"
        }
    },
    "nbformat": 4,
    "nbformat_minor": 1
}
