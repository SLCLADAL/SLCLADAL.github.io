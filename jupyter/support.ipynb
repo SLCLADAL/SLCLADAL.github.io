{
    "cells": [
        {
            "cell_type": "markdown",
            "metadata": {},
            "source": [
                "<!--html_preserve-->\n",
                "<!-- Global site tag (gtag.js) - Google Analytics -->\n",
                "<script async src=\"https://www.googletagmanager.com/gtag/js?id=UA-130562131-1\"><\/script>\n",
                "<script>\n",
                "  window.dataLayer = window.dataLayer || [];\n",
                "  function gtag(){dataLayer.push(arguments);}\n",
                "  gtag('js', new Date());\n",
                "\n",
                "  gtag('config', 'UA-130562131-1');\n",
                "<\/script>\n",
                "<!--/html_preserve-->\n"
            ]
        },
        {
            "cell_type": "code",
            "execution_count": null,
            "metadata": {},
            "outputs": [],
            "source": [
                "knitr::include_graphics(\"images/slc.png\")\n",
                "\n"
            ]
        },
        {
            "cell_type": "markdown",
            "metadata": {},
            "source": [
                "<br>\n",
                "\n",
                "The LADAL is a collaborative effort that is sponsored by the [School of Languages and Cultures](https://languages-cultures.uq.edu.au/) at the [University of Queensland](https://www.uq.edu.au/). If you are interested in becoming an affiliate member or even a contributor contact the LADAL team via email (ladal\\@uq.edu.au).\n",
                "\n",
                "<br>\n",
                "\n",
                "***\n",
                "\n",
                "# SUPPORT{-}\n",
                "\n",
                "\n",
                "\n",
                "  \n",
                "\n",
                "***\n",
                "\n",
                "# FEEDBACK{-}\n",
                "\n",
                "\n",
                "  \n",
                "***\n",
                " \n",
                "# BECOME A CONTRIBUTOR{-}\n",
                "\n",
                "If you are interested in becoming an affiliate member or even a contributor contact the LADAL team via email (ladal\\@uq.edu.au).\n",
                "\n",
                "***\n",
                "\n",
                "[Main page](https://slcladal.github.io/index.html)\n"
            ]
        }
    ],
    "metadata": {
        "anaconda-cloud": "",
        "kernelspec": {
            "display_name": "R",
            "langauge": "R",
            "name": "ir"
        },
        "language_info": {
            "codemirror_mode": "r",
            "file_extension": ".r",
            "mimetype": "text/x-r-source",
            "name": "R",
            "pygments_lexer": "r",
            "version": "3.4.1"
        }
    },
    "nbformat": 4,
    "nbformat_minor": 1
}
