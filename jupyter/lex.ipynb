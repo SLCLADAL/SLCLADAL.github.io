{
    "cells": [
        {
            "cell_type": "markdown",
            "metadata": {},
            "source": [
                "<!--html_preserve-->\n",
                "<!-- Global site tag (gtag.js) - Google Analytics -->\n",
                "<script async src=\"https://www.googletagmanager.com/gtag/js?id=UA-130562131-1\"><\/script>\n",
                "<script>\n",
                "  window.dataLayer = window.dataLayer || [];\n",
                "  function gtag(){dataLayer.push(arguments);}\n",
                "  gtag('js', new Date());\n",
                "\n",
                "  gtag('config', 'UA-130562131-1');\n",
                "<\/script>\n",
                "<!--/html_preserve-->\n"
            ]
        },
        {
            "cell_type": "code",
            "execution_count": null,
            "metadata": {},
            "outputs": [],
            "source": [
                "knitr::include_graphics(\"https://slcladal.github.io/images/uq1.jpg\")\n",
                "\n"
            ]
        },
        {
            "cell_type": "markdown",
            "metadata": {},
            "source": [
                "# Introduction{-}\n",
                "\n",
                "This tutorial introduces lexicography with R and shows how to use R to create dictionaries and find synonyms through determining semantic similarity in R. While the initial example focuses on English, subsequent sections show how easily this approach can be generalized to languages other than English (e.g. German, French, Spanish, Italian, or Dutch). The entire R-markdown document for the sections below can be downloaded [here](https://slcladal.github.io/lex.Rmd).\n",
                "\n",
                "Traditionally, dictionaries are listing of words that are commonly arranged alphabetically, which may include information on definitions, usage, etymologies, pronunciations, translation, etc. [see @agnes2002webster; @steiner1985dictionaries]. If such dictionaries, that are typically published as books contain translations of words in other languages, they are referred to as lexicons. Therefore, lexicographical references show the inter-relationships among lexical data, i.e. words.\n",
                "\n",
                "Similarly, in computational linguistics, dictionaries represent a specific format of data where elements are linked to or paired with other elements in a  systematic way. *Computational lexicology* refers to a branch of computational linguistics, which is concerned with the use of computers in the study of lexicons. Hence, computational lexicology has been defined as the use of computers in the study of machine-readable dictionaries  [see e.g. @amsler1981structure]. Computational lexicology is distinguished from *computational lexicography*, which can be defined as the use of computers in the construction of dictionaries which is the focus of this tutorial. It should be noted, thought, that computational lexicology and computational lexicography are often used synonymously. \n",
                "\n",
                "## Preparation and session set up{-}\n",
                "\n",
                "This tutorial is based on R. If you have not installed R or are new to it, you will find an introduction to and more information how to use R [here](https://slcladal.github.io/Intror.html). For this tutorials, we need to install certain *packages* from an R *library* so that the scripts shown below are executed without errors. Before turning to the code below, please install the packages by running the code below this paragraph. If you have already installed the packages mentioned below, then you can skip ahead and ignore this section. To install the necessary packages, simply run the following code - it may take some time (between 1 and 5 minutes to install all of the packages so you do not need to worry if it takes some time).\n"
            ]
        },
        {
            "cell_type": "code",
            "execution_count": null,
            "metadata": {},
            "outputs": [],
            "source": [
                "# set options\n",
                "options(stringsAsFactors = F)         # no automatic data transformation\n",
                "options(\"scipen\" = 100, \"digits\" = 4) # suppress math annotation\n",
                "# install packages\n",
                "install.packages(c(\"tidyverse\", \"tidytext\", \"textdata\", \"quanteda\", \"koRpus\", \n",
                "                   \"koRpus.lang.en\",  \"hunspell\", \"coop\", \"tm\", \"cluster\",\n",
                "                   \"tidyr\"))\n"
            ]
        },
        {
            "cell_type": "markdown",
            "metadata": {},
            "source": "\n"
        },
        {
            "cell_type": "code",
            "execution_count": null,
            "metadata": {},
            "outputs": [],
            "source": [
                "# load packages for website\n",
                "library(knitr) \n",
                "library(kableExtra) \n",
                "library(DT)\n"
            ]
        },
        {
            "cell_type": "markdown",
            "metadata": {},
            "source": [
                "Once you have installed R and RStudio and once you have initiated the session by executing the code shown above, you are good to go.\n",
                "\n",
                "# Creating dictionaries\n",
                "\n",
                "In a first step, we load the necessary packages from the library and define the location of the engine which we use for the part-of-speech tagging. In this case, we will use the TreeTagger [see @schmid1994treetagger; @schmid2007enriched,; @schmid2013probabilistic]. How to install and then use the TreeTagger for English as well as for German, French, Spanish, Italian, and Dutch is demonstrated and explained [here](https://slcladal.github.io/tagging.html#TreeTagger:_pos-tagging_languages_other_than_English).\n",
                "\n",
                "***\n",
                "\n",
                "NOTE\n",
                "\n",
                "You will have to install TreeTagger and change the path used below (`\"C:\\\\TreeTagger\\\\bin\\\\tag-english.bat\"`) to the location where you have installed TreeTagger on your machine. If you do not know how to install TreeTagger or encounter problems, read [this tutorial](https://slcladal.github.io/tagging.html)!\n",
                "\n",
                "In addition, you can download the pos-tagged text [here](https://slcladal.github.io/data/orwell.txt) so you can simply skip the next code chunk and load the data as shown below.\n",
                "\n",
                "***\n"
            ]
        },
        {
            "cell_type": "code",
            "execution_count": null,
            "metadata": {},
            "outputs": [],
            "source": [
                "# activate packages\n",
                "library(tidyr)\n",
                "library(tidytext)\n",
                "library(tidyverse)\n",
                "library(textdata)\n",
                "library(quanteda)\n",
                "library(koRpus)\n",
                "library(koRpus.lang.en)\n",
                "library(hunspell)\n",
                "library(coop)\n",
                "library(tm)\n",
                "library(cluster)\n",
                "# define location of pos-tagger engine\n",
                "# WARNING: this needs to be the path to the TreeTagger on YOUR machine!\n",
                "set.kRp.env(TT.cmd=\"C:\\\\TreeTagger\\\\bin\\\\tag-english.bat\", lang=\"en\") \n"
            ]
        },
        {
            "cell_type": "markdown",
            "metadata": {},
            "source": "\n"
        },
        {
            "cell_type": "code",
            "execution_count": null,
            "metadata": {},
            "outputs": [],
            "source": [
                "library(DT)\n",
                "\n"
            ]
        },
        {
            "cell_type": "markdown",
            "metadata": {},
            "source": [
                "In a next step, we load and process the data which in this tutorial represents the text from George Orwell's *Nineteen Eighty-Four*. We will not pre-process the data by for instance repairing broken or otherwise compromised words and continue by directly implementing the part-of-speech tagger.\n",
                "\n"
            ]
        },
        {
            "cell_type": "code",
            "execution_count": null,
            "metadata": {},
            "outputs": [],
            "source": [
                "# load and pos-tag data\n",
                "orwell_pos <- treetag(\"https://slcladal.github.io/data/orwell.txt\")\n",
                "# select data frame\n",
                "orwell_pos <- orwell_pos@tokens\n"
            ]
        },
        {
            "cell_type": "markdown",
            "metadata": {},
            "source": "\n"
        },
        {
            "cell_type": "code",
            "execution_count": null,
            "metadata": {},
            "outputs": [],
            "source": [
                "orwell_pos <- base::readRDS(url(\"https://slcladal.github.io/data/orwell_pos.rda\", \"rb\"))\n",
                "#orwell_pos <- orwell_pos$tokens\n",
                "# inspect data\n",
                "orwell_pos %>%\n",
                "  head(15) %>%\n",
                "  kable(caption = \"First 15 rows of orwell_pos.\") %>%\n",
                "  kableExtra::kable_styling(bootstrap_options = c(\"striped\", \"hover\", \"condensed\", \"responsive\"), \n",
                "                            full_width = F)\n"
            ]
        },
        {
            "cell_type": "markdown",
            "metadata": {},
            "source": [
                "If you could not pos-tag the text, you can simply execute the following code chunk which loads the pos-tagged text from the LADAL repository.\n",
                "\n"
            ]
        },
        {
            "cell_type": "code",
            "execution_count": null,
            "metadata": {},
            "outputs": [],
            "source": [
                "# load pos-taged data\n",
                "orwell_pos <- base::readRDS(url(\"https://slcladal.github.io/data/orwell_pos.rda\", \"rb\"))\n"
            ]
        },
        {
            "cell_type": "markdown",
            "metadata": {},
            "source": "\n"
        },
        {
            "cell_type": "code",
            "execution_count": null,
            "metadata": {},
            "outputs": [],
            "source": [
                "# inspect data\n",
                "orwell_pos %>%\n",
                "  head(10) %>%\n",
                "  kable(caption = \"First 10 rows of orwell_pos.\") %>%\n",
                "  kableExtra::kable_styling(bootstrap_options = c(\"striped\", \"hover\", \"condensed\", \"responsive\"), \n",
                "                            full_width = F)\n"
            ]
        },
        {
            "cell_type": "markdown",
            "metadata": {},
            "source": [
                "We can now use the resulting table to generate a first, basic dictionary that holds information about the word form (*token*), the part-of speech tag (*tag*), the lemmatized word type (*lemma*), the general word category (*wclass*), and the frequency with which the word form is used as that part-of speech.\n",
                "\n"
            ]
        },
        {
            "cell_type": "code",
            "execution_count": null,
            "metadata": {},
            "outputs": [],
            "source": [
                "# generate dictionary\n",
                "orwell_dic_raw <- orwell_pos %>%\n",
                "  dplyr::select(token, tag, lemma, wclass) %>%\n",
                "  dplyr::group_by(token, tag, lemma, wclass) %>%\n",
                "  dplyr::summarise(frequency = dplyr::n()) %>%\n",
                "  dplyr::arrange(lemma)\n"
            ]
        },
        {
            "cell_type": "markdown",
            "metadata": {},
            "source": "\n"
        },
        {
            "cell_type": "code",
            "execution_count": null,
            "metadata": {},
            "outputs": [],
            "source": [
                "# inspect data\n",
                "orwell_dic_raw %>%\n",
                "  head(15) %>%\n",
                "  kable(caption = \"First 15 rows of orwell_dic_raw.\") %>%\n",
                "  kableExtra::kable_styling(bootstrap_options = c(\"striped\", \"hover\", \"condensed\", \"responsive\"), \n",
                "                            full_width = F)\n"
            ]
        },
        {
            "cell_type": "markdown",
            "metadata": {},
            "source": [
                "## Cleaning dictionary entries{-}\n",
                "\n",
                "However, as the resulting table shows, the data is still very noisy, i.e. it contains a lot of *non-words*, i.e words that may be mis-spelled, broken, or otherwise compromised. In order to get rid of these, we can simply check if the word lemma exists in an existing dictionary. When you aim to identify exactly those words that are not yet part of an established dictionary, you could of course do it the other way around and remove all words that are already present in an existing dictionary.\n"
            ]
        },
        {
            "cell_type": "code",
            "execution_count": null,
            "metadata": {},
            "outputs": [],
            "source": [
                "# generate dictionary\n",
                "orwell_dic_clean <- orwell_dic_raw %>%\n",
                "  dplyr::filter(hunspell_check(lemma)) %>%\n",
                "  dplyr::filter(!stringr::str_detect(lemma, \"\\\\W\\\\w{1,}\"))\n"
            ]
        },
        {
            "cell_type": "markdown",
            "metadata": {},
            "source": "\n"
        },
        {
            "cell_type": "code",
            "execution_count": null,
            "metadata": {},
            "outputs": [],
            "source": [
                "# inspect data\n",
                "orwell_dic_clean %>%\n",
                "  head(15) %>%\n",
                "  kable(caption = \"First 15 rows of orwell_dic_clean.\") %>%\n",
                "  kableExtra::kable_styling(bootstrap_options = c(\"striped\", \"hover\", \"condensed\", \"responsive\"), \n",
                "                            full_width = F)\n"
            ]
        },
        {
            "cell_type": "markdown",
            "metadata": {},
            "source": [
                "We have now checked the entries against an existing dictionary and removed non-word elements. As such, we are left with a clean dictionary based on George Orwell's *Nineteen Eighty-Four*. \n",
                "\n",
                "\n",
                "## Extending dictionaries{-}\n",
                "\n",
                "Extending dictionaries, that is adding additional layers of information or other types of annotation, e.g. url's to relevant references or sources,  is fortunately very easy in R and can be done without much additional computing. \n",
                "\n",
                "We will begin to extend our dictionary by adding an additional column (called `annotation`) in which we will add information.\n"
            ]
        },
        {
            "cell_type": "code",
            "execution_count": null,
            "metadata": {},
            "outputs": [],
            "source": [
                "# generate dictionary\n",
                "orwell_dic_ext <- orwell_dic_clean %>%\n",
                "  dplyr::mutate(annotation = NA) %>%\n",
                "  dplyr::mutate(annotation = ifelse(token == \"3rd\", \"also 3.\",\n",
                "                                    ifelse(token == \"4th\", \"also 4.\", annotation)))\n"
            ]
        },
        {
            "cell_type": "markdown",
            "metadata": {},
            "source": "\n"
        },
        {
            "cell_type": "code",
            "execution_count": null,
            "metadata": {},
            "outputs": [],
            "source": [
                "# inspect data\n",
                "orwell_dic_ext %>%\n",
                "  head(15) %>%\n",
                "  kable(caption = \"First 15 rows of orwell_dic_ext.\") %>%\n",
                "  kableExtra::kable_styling(bootstrap_options = c(\"striped\", \"hover\", \"condensed\", \"responsive\"), \n",
                "                            full_width = F)\n"
            ]
        },
        {
            "cell_type": "markdown",
            "metadata": {},
            "source": [
                "To make it a bit more interesting but also keep this tutorial simple and straight-forward, we will add information about the polarity and emotionally of the words in our dictionary. We can do this by performing a sentiment analysis on the lemmas using the `tidytext` package.\n",
                "\n",
                "The `tidytext` package contains three sentiment dictionaries (`nrc`, `bing`, and `afinn`). For the present purpose, we use the `ncr`dictionary which represents the Word-Emotion Association Lexicon [@@mohammad2013crowdsourcing]. The Word-Emotion Association Lexicon which comprises 10,170 terms, and in which lexical elements are assigned scores based on ratings gathered through the crowd-sourced Amazon Mechanical Turk service. For the Word-Emotion Association Lexicon raters were asked whether a given word was associated with one of eight emotions. The resulting associations between terms and emotions are based on 38,726 ratings from 2,216 raters who answered a sequence of questions for each word which were then fed into the emotion association rating (see @mohammad2013crowdsourcing). Each term was rated 5 times. For 85 percent of words, at least 4 raters provided identical ratings. For instance, the word *cry* or *tragedy* are more readily associated with SADNESS while words such as *happy* or *beautiful* are indicative of JOY and words like *fit* or *burst* may indicate ANGER. This means that the sentiment analysis here allows us to investigate the expression of certain core emotions rather than merely classifying statements along the lines of a crude positive-negative distinction.\n",
                "\n",
                "To be able to use the Word-Emotion Association Lexicon we need to add another column to our data frame called `word` which simply contains the lemmatized word. The reason is that the lexicon expects this column and only works if it finds a word column in the data. The code below shows how to add the emotion and polarity entries to our dictionary.\n"
            ]
        },
        {
            "cell_type": "code",
            "execution_count": null,
            "metadata": {},
            "outputs": [],
            "source": [
                "# generate dictionary\n",
                "orwell_dic_ext <- orwell_dic_ext %>%\n",
                "  dplyr::mutate(word = lemma) %>%\n",
                "  dplyr::left_join(get_sentiments(\"nrc\")) %>%\n",
                "  tidyr::spread(sentiment, sentiment)\n"
            ]
        },
        {
            "cell_type": "markdown",
            "metadata": {},
            "source": [
                "\n",
                "\n"
            ]
        },
        {
            "cell_type": "code",
            "execution_count": null,
            "metadata": {},
            "outputs": [],
            "source": [
                "# inspect data\n",
                "orwell_dic_ext %>%\n",
                "  head(15) %>%\n",
                "  kable(caption = \"First 15 rows of orwell_dic_ext.\") %>%\n",
                "  kableExtra::kable_styling(bootstrap_options = c(\"striped\", \"hover\", \"condensed\", \"responsive\"), \n",
                "                            full_width = F)\n"
            ]
        },
        {
            "cell_type": "markdown",
            "metadata": {},
            "source": [
                "The resulting extended dictionary now contains not only the token, the pos-tag, the lemma, and the generalized word class, but also the emotional and polarity scores from the Word-Emotion Association Lexicon.\n",
                "\n",
                "## Generating dictionaries for other languages{-}\n",
                "\n",
                "As mentioned above, the procedure for generating dictionaries can easily be applied to languages other than English. If you want to follow exactly the procedure described above, then the language set of the TreeTagger is the limiting factors as its R implementation only supports English, German, French, Italian, Spanish, and Dutch. fa part-of-speech tagged text in another language is already available to you, and you do not require the TreeTagger for the part-of-speech tagging, then you can skip the code chunk that is related to the tagging and you can modify the procedure described above to virtually any language.\n",
                "\n",
                "We will now briefly create a German dictionary based on a subsection of the fairy tales collected by the brothers Grimm to show how the above procedure can be applied to a language other than English. In a  first step, we load a German text into R. \n"
            ]
        },
        {
            "cell_type": "code",
            "execution_count": null,
            "metadata": {},
            "outputs": [],
            "source": [
                "grimm <- readLines(\"data/GrimmsFairytales.txt\")# %>%\n",
                "#  str_replace_all(fixed(\"u<U+0364>\"), \"ü\") %>%\n",
                "#  str_replace_all(fixed(\"a<U+0364>\"), \"ä\") %>%\n",
                "#  str_replace_all(fixed(\"<U+017F>\"), \"s\") %>%\n",
                "#  paste0(sep = \" \", collapse = \" \") %>%\n",
                "#  str_squish() %>%\n",
                "#  str_remove(\".*Freimund. Vorrede. \")\n",
                "str(grimm)\n",
                "\n",
                "writeLines(grimm, here::here(\"data\", \"grimm.txt\"))\n"
            ]
        },
        {
            "cell_type": "markdown",
            "metadata": {},
            "source": [
                "\n",
                "\n"
            ]
        },
        {
            "cell_type": "code",
            "execution_count": null,
            "metadata": {},
            "outputs": [],
            "source": [
                "# install german language package\n",
                "#install.koRpus.lang(\"de\")\n",
                "# activate german language package\n",
                "library(koRpus.lang.de)\n",
                "# define location of pos-tagger engine\n",
                "set.kRp.env(TT.cmd=\"C:\\\\TreeTagger\\\\bin\\\\tag-german.bat\", lang=\"de\") \n"
            ]
        },
        {
            "cell_type": "markdown",
            "metadata": {},
            "source": [
                "***\n",
                ">\n",
                ">**NOTE**: You would need to adapt the path to the TreeTagger engine (see previous code chunk) as well as the path to the data (see follwoing code chunk)! The paths below are specified to my computer.\n",
                "> \n",
                "\n",
                "***\n"
            ]
        },
        {
            "cell_type": "code",
            "execution_count": null,
            "metadata": {},
            "outputs": [],
            "source": [
                "# pos-tag data\n",
                "grimm_pos <- treetag(file = \"data/grimm.txt\")\n"
            ]
        },
        {
            "cell_type": "markdown",
            "metadata": {},
            "source": [
                "For other languages, you would need to adapt the path to the pos-tagger engine to match the language of your text. The code chunk below shows how you would do that for French, Spanish, Italian, and Dutch. Again note that you would need to adapt the path to the TreeTagger engine as well as the path to the data! The paths below are specified to my computer.\n",
                "\n"
            ]
        },
        {
            "cell_type": "code",
            "execution_count": null,
            "metadata": {},
            "outputs": [],
            "source": [
                "# French\n",
                "# install french language package\n",
                "install.koRpus.lang(\"fr\")\n",
                "# activate french language package\n",
                "library(koRpus.lang.fr)\n",
                "# define location of pos-tagger engine\n",
                "set.kRp.env(TT.cmd=\"C:\\\\TreeTagger\\\\bin\\\\tag-french.bat\", lang=\"fr\") \n",
                "# pos-tag data\n",
                "text_pos <- treetag(\"PathToFrenchText.txt\")\n",
                "\n",
                "# Spanish\n",
                "# install spanish language package\n",
                "install.koRpus.lang(\"es\")\n",
                "# activate spanish language package\n",
                "library(koRpus.lang.es)\n",
                "# define location of pos-tagger engine\n",
                "set.kRp.env(TT.cmd=\"C:\\\\TreeTagger\\\\bin\\\\tag-spanish.bat\", lang=\"es\") \n",
                "# pos-tag data\n",
                "text_pos <- treetag(\"PathToSpanishText.txt\")\n",
                "\n",
                "# Italian\n",
                "# install italian language package\n",
                "install.koRpus.lang(\"it\")\n",
                "# activate italian language package\n",
                "library(koRpus.lang.it)\n",
                "# define location of pos-tagger engine\n",
                "set.kRp.env(TT.cmd=\"C:\\\\TreeTagger\\\\bin\\\\tag-italian.bat\", lang=\"it\") \n",
                "# pos-tag data\n",
                "text_pos <- treetag(\"PathToItalianText.txt\")\n",
                "\n",
                "# Dutch\n",
                "# install dutch language package\n",
                "install.koRpus.lang(\"nl\")\n",
                "# activate dutch language package\n",
                "library(koRpus.lang.nl)\n",
                "# define location of pos-tagger engine\n",
                "set.kRp.env(TT.cmd=\"C:\\\\TreeTagger\\\\bin\\\\tag-dutch.bat\", lang=\"nl\") \n",
                "# pos-tag data\n",
                "text_pos <- treetag(\"PathToDutchText.txt\")\n"
            ]
        },
        {
            "cell_type": "markdown",
            "metadata": {},
            "source": [
                "We will now continue with generating the dictionary based on teh brothers' Grimm fairy tales. We go through the same steps as for the English dictionary and collapse all the steps into a single code block. \n",
                "\n"
            ]
        },
        {
            "cell_type": "code",
            "execution_count": null,
            "metadata": {},
            "outputs": [],
            "source": [
                "# select data frame\n",
                "grimm_pos <- grimm_pos@tokens\n",
                "# generate dictionary\n",
                "grimm_dic_raw <- grimm_pos %>%\n",
                "  dplyr::select(token, tag, lemma, wclass) %>%\n",
                "  dplyr::group_by(token, tag, lemma, wclass) %>%\n",
                "  dplyr::summarise(frequency = dplyr::n()) %>%\n",
                "  dplyr::arrange(lemma)\n",
                "# clean dictionary\n",
                "grimm_dic_clean <- grimm_dic_raw %>%\n",
                "  dplyr::filter(!stringr::str_detect(lemma, \"\\\\W\\\\w{1,}\")) %>%\n",
                "  dplyr::filter(!stringr::str_detect(lemma, \"\\\\W{1,}\")) %>%\n",
                "  dplyr::filter(!stringr::str_detect(lemma, \"[:digit:]{1,}\")) %>%\n",
                "  dplyr::filter(nchar(token) > 1)\n"
            ]
        },
        {
            "cell_type": "markdown",
            "metadata": {},
            "source": [
                "\n",
                "\n"
            ]
        },
        {
            "cell_type": "code",
            "execution_count": null,
            "metadata": {},
            "outputs": [],
            "source": [
                "# inspect data\n",
                "grimm_dic_clean %>%\n",
                "  head(15) %>%\n",
                "  kable(caption = \"First 15 rows of grimm_dic_clean.\") %>%\n",
                "  kableExtra::kable_styling(bootstrap_options = c(\"striped\", \"hover\", \"condensed\", \"responsive\"), \n",
                "                            full_width = F)\n"
            ]
        },
        {
            "cell_type": "markdown",
            "metadata": {},
            "source": [
                "As with the English dictionary, we have created a customized German dictionary based of a subsample of the brothers' Grimm fairy tales holding the word form(*token*), the part-of-speech tag (*tag*), the lemmatized word type (*lemma*), the general word class (*wclass*), ad the frequency with which a word form occurs as a part-of-speech in the data (*frequency*).\n",
                "\n",
                "# Finding synonyms: creating a thesaurus\n",
                "\n",
                "Another task that is quite common in lexicography is to determine if words share some form of relationship such as whether they are synonyms or antonyms. In computational linguistics, this is commonly determined based on the collocational profiles of words. These collocational profiles are also called *word vectors* or *word embeddings* and approaches which determine semantic similarity based on collocational profiles or word embeddings are called distributional approaches (or distributional semantics). The basic assumption of distributional approaches is that words that occur in the same context and therefore have similar collocational profiles are also semantically similar. In fact, various packages, such as `qdap` or , `wordnet` already provide synonyms for terms (all of which are based on similar collocational profiles) but we would like to determine if words are similar without knowing it in advance. \n",
                "\n",
                "In this example, we want to determine if two degree adverbs (such as *very*, *really*, *so*, *completely*, *totally*, *amazingly*, etc.) are synonymous and can therefore be exchanged without changing the meaning of the sentence (or, at least, not changing it dramatically). This is relevant in lexicography as such terms can then be linked to each other and inform readers that these words are interchangeable. \n",
                "\n",
                "As a first step, we load the data which contains three columns: \n",
                "\n",
                "* one column holding the degree adverbs which is called *pint* \n",
                "\n",
                "* one column called *adjs* holding the adjectives that the degree adverbs have modified\n",
                "\n",
                "* one column called *remove* which contains the word *keep* and which we will remove as it is not relevant for this tutorial\n",
                "\n",
                "When loading the data, we \n",
                "\n",
                "* remove the *remove* column \n",
                "\n",
                "* rename the *pint* column as *degree_adverb* \n",
                "\n",
                "* rename the *adjs* column as *adjectives*\n",
                "\n",
                "* filter out all instances where the degree adverb column has the value `0` (which means that the adjective was not modified)\n",
                " * remove instances where *well* functions as a degree adverb (because it behaves rather differently from other degree adverbs)\n",
                " \n"
            ]
        },
        {
            "cell_type": "code",
            "execution_count": null,
            "metadata": {},
            "outputs": [],
            "source": [
                "# load data\n",
                "degree_adverbs <- read.delim(\"https://slcladal.github.io/data/data04.txt\", sep = \"\\t\", header = T) %>%\n",
                "  dplyr::select(-remove) %>%\n",
                "  dplyr::rename(degree_adverb = pint,\n",
                "                adjective = adjs) %>%\n",
                "  dplyr::filter(degree_adverb != \"0\",\n",
                "                degree_adverb != \"well\")\n"
            ]
        },
        {
            "cell_type": "markdown",
            "metadata": {},
            "source": "\n"
        },
        {
            "cell_type": "code",
            "execution_count": null,
            "metadata": {},
            "outputs": [],
            "source": [
                "# inspect data\n",
                "degree_adverbs %>%\n",
                "  head(15) %>%\n",
                "  kable(caption = \"First 15 rows of degree_adverbs.\") %>%\n",
                "  kableExtra::kable_styling(bootstrap_options = c(\"striped\", \"hover\", \"condensed\", \"responsive\"), \n",
                "                            full_width = F)\n"
            ]
        },
        {
            "cell_type": "markdown",
            "metadata": {},
            "source": [
                "In a next step, we create a matrix from this data frame which maps how often a given amplifier co-occurred with a given adjective. In text mining, this format is called a text-document matrix or tdm (which is a transposed [document-term matrix](https://en.wikipedia.org/wiki/Document-term_matrix) of dtm).\n",
                "\n"
            ]
        },
        {
            "cell_type": "code",
            "execution_count": null,
            "metadata": {},
            "outputs": [],
            "source": [
                "# tabulate data (create term-document matrix)\n",
                "tdm <- ftable(degree_adverbs$adjective, degree_adverbs$degree_adverb)\n",
                "# extract amplifiers and adjectives \n",
                "amplifiers <- as.vector(unlist(attr(tdm, \"col.vars\")[1]))\n",
                "adjectives <- as.vector(unlist(attr(tdm, \"row.vars\")[1]))\n",
                "# attach row and column names to tdm\n",
                "rownames(tdm) <- adjectives\n",
                "colnames(tdm) <- amplifiers\n",
                "# inspect data\n",
                "tdm[1:5, 1:5]\n"
            ]
        },
        {
            "cell_type": "markdown",
            "metadata": {},
            "source": [
                "In a next step, we extract the expected values of the co-occurrences if the amplifiers were distributed homogeneously and calculate the *Pointwise Mutual Information* (PMI) score and use that to then calculate the *Positive Pointwise Mutual Information* (PPMI) scores. According to @levshina2015linguistics 327 - referring to @bullinaria2007extracting - PPMI perform better than PMI as negative values are replaced with zeros. In a next step, we calculate the cosine similarity which will for the bases for the subsequent clustering.\n",
                "\n"
            ]
        },
        {
            "cell_type": "code",
            "execution_count": null,
            "metadata": {},
            "outputs": [],
            "source": [
                "# compute expected values\n",
                "tdm.exp <- chisq.test(tdm)$expected\n",
                "# calculate PMI and PPMI\n",
                "PMI <- log2(tdm/tdm.exp)\n",
                "PPMI <- ifelse(PMI < 0, 0, PMI)\n",
                "# calculate cosine similarity\n",
                "cosinesimilarity <- cosine(PPMI)\n",
                "# inspect cosine values\n",
                "cosinesimilarity[1:5, 1:5]\n"
            ]
        },
        {
            "cell_type": "markdown",
            "metadata": {},
            "source": [
                "As we have now obtained a similarity measure, we can go ahead and perform a cluster analysis on these similarity values. However, as we have to extract the maximum values in the similarity matrix that is not 1 as we will use this to create a distance matrix. While we could also have simply subtracted the cosine similarity values from 1 to convert the similarity matrix into a distance matrix, we follow the procedure proposed by @levshina2015linguistics.\n",
                "\n"
            ]
        },
        {
            "cell_type": "code",
            "execution_count": null,
            "metadata": {},
            "outputs": [],
            "source": [
                "# find max value that is not 1\n",
                "cosinesimilarity.test <- apply(cosinesimilarity, 1, function(x){\n",
                "  x <- ifelse(x == 1, 0, x) } )\n",
                "maxval <- max(cosinesimilarity.test)\n",
                "# create distance matrix\n",
                "amplifier.dist <- 1 - (cosinesimilarity/maxval)\n",
                "clustd <- as.dist(amplifier.dist)\n"
            ]
        },
        {
            "cell_type": "markdown",
            "metadata": {},
            "source": [
                "In a next step, we visualize the results of the semantic vector space model as a dendrogram.\n",
                "\n"
            ]
        },
        {
            "cell_type": "code",
            "execution_count": null,
            "metadata": {},
            "outputs": [],
            "source": [
                "# create cluster object\n",
                "cd <- hclust(clustd, method=\"ward.D\")    \n",
                "# plot cluster object\n",
                "plot(cd, main = \"\", sub = \"\", yaxt = \"n\", ylab = \"\", xlab = \"\", cex = .8)\n"
            ]
        },
        {
            "cell_type": "markdown",
            "metadata": {},
            "source": [
                "The clustering solution shows that, as expected, *completely*, *extremely*, and *totally* - while similar to each other and thus interchangeable with each other - form a separate cluster from all other amplifiers. In addition, *real* and *really* form a cluster together. The clustering of *very*, *pretty*, *so*, *really*, and *real* suggest that these amplifiers are more or less interchangeable with each other but not with *totally*, *completely*, and *extremely*. \n",
                "\n",
                "To extract synonyms automatically, we can use the cosine similarity matrix that a´we generated before. This is what we need to do:\n",
                "\n",
                "* generate a column called word\n",
                "* replace the perfect similarity values of the diagonal with 0\n",
                "* look up the lowest value, i.e. the word that has the lowest distance to a given word\n",
                "* create a vector which holds those words (the synonym candidates).\n"
            ]
        },
        {
            "cell_type": "code",
            "execution_count": null,
            "metadata": {},
            "outputs": [],
            "source": [
                "syntb <- cosinesimilarity %>%\n",
                "  as.data.frame() %>%\n",
                "  dplyr::mutate(word = colnames(cosinesimilarity)) %>%\n",
                "  dplyr::mutate_each(funs(replace(., . == 1, 0))) %>%\n",
                "  dplyr::mutate(synonym = colnames(.)[apply(.,1,which.max)]) %>%\n",
                "  dplyr::select(word, synonym)\n",
                "syntb\n"
            ]
        },
        {
            "cell_type": "markdown",
            "metadata": {},
            "source": [
                "***\n",
                "\n",
                ">**NOTE**: Remember that this is only a tutorial! A proper study would have to take the syntactic context into account because, while we can say *This really great tutorial helped me a lot*. we probably would not say *This so great tutorial helped me a lot*. This is because so syntactically more restricted and is strongly disfavored in attributive contexts. Therefore, the syntactic context would have to be considered in a more thorough study.\n",
                ">\n",
                "\n",
                "***\n",
                "\n",
                "There are many more useful methods for identifying semantic similarity. A very useful method (which we have implemented here but only superficially is Semantic Vector Space Modeling. If you want to know more about this, this [tutorial by Gede Primahadi Wijaya Rajeg, Karlina Denistia, and Simon Musgrave](https://gederajeg.github.io/vector_space_model_indonesian/) [@rajeg2020semvec] is highly recommended and will give a better understanding of SVM but this should suffice to get you started.\n",
                "\n",
                "# Creating bilingual dictionaries\n",
                "\n",
                "Dictionaries commonly contain information about elements. Bilingual or translation dictionaries represent a sub-category of dictionaries that provide a specific type of information about a given word: the translation of that word in another language. In principle, generating translation dictionaries is relatively easy and straight forward. However, not only is the devil hidden in the details but the generation of data-driven translation dictionaries also require a substantial data set consisting of sentences and their translation. This is often quite tricky as well aligned translations are unfortunately, and unexpectedly, rather hard to come by. \n",
                "\n",
                "Despite these issues, if you have access to clean and well aligned, parallel multilingual data, then you simply need to check which correlation between the word in language A and language B is the highest and you have a likely candidate for its translation. The same procedure can be extended to generate multilingual dictionaries. Problems arise due to grammatical differences between languages, idiomatic expressions, homonymy and polysemy as well as due to word class issues. The latter, word class issues, can be solved by part-of-speech tagging and then only considering words that belong to the same (or realistically similar) parts-of speech. The other issues can also be solved but require substantial amounts of (annotated) data.   \n",
                "\n",
                "To explore how to generate a multilingual lexicon, we load a sample of English sentences and their German translations.\n"
            ]
        },
        {
            "cell_type": "code",
            "execution_count": null,
            "metadata": {},
            "outputs": [],
            "source": [
                "# load translations\n",
                "translations <- readLines(\"https://slcladal.github.io/data/translation.txt\",\n",
                "                          encoding = \"UTF-8\", skipNul = T)\n",
                "# inspect table\n",
                "head(translations, 10)\n"
            ]
        },
        {
            "cell_type": "markdown",
            "metadata": {},
            "source": [
                "In a next step, we generate separate tables which hold the German and English sentences. However, the sentences and their translations are identified by an identification number (*id*) so that we keep the information about which sentence is linked to which translation.\n",
                "\n"
            ]
        },
        {
            "cell_type": "code",
            "execution_count": null,
            "metadata": {},
            "outputs": [],
            "source": [
                "# german sentences\n",
                "german <- str_remove_all(translations, \" — .*\") %>%\n",
                "  str_remove_all(., \"[:punct:]\")\n",
                "# english sentences\n",
                "english <- str_remove_all(translations, \".* — \") %>%\n",
                "  str_remove_all(., \"[:punct:]\")\n",
                "# sentence id\n",
                "sentence <- 1:length(german)\n",
                "# combine into table\n",
                "germantb <- data.frame(sentence, german)\n",
                "# sentence id\n",
                "sentence <- 1:length(english)\n",
                "# combine into table\n",
                "englishtb <- data.frame(sentence, english)\n"
            ]
        },
        {
            "cell_type": "markdown",
            "metadata": {},
            "source": "\n"
        },
        {
            "cell_type": "code",
            "execution_count": null,
            "metadata": {},
            "outputs": [],
            "source": [
                "# inspect data\n",
                "germantb %>%\n",
                "  head(15) %>%\n",
                "  kable(caption = \"First 15 rows of germantb.\") %>%\n",
                "  kableExtra::kable_styling(bootstrap_options = c(\"striped\", \"hover\", \"condensed\", \"responsive\"), \n",
                "                            full_width = F)\n"
            ]
        },
        {
            "cell_type": "markdown",
            "metadata": {},
            "source": [
                "We now unnest the tokens (split the sentences into words) and subsequently add the translations which we again unnest. The resulting table consists of two columns holding German and English words. The relevant point here is that each German word is linked with each English word that occurs in the translated sentence.\n",
                "\n"
            ]
        },
        {
            "cell_type": "code",
            "execution_count": null,
            "metadata": {},
            "outputs": [],
            "source": [
                "library(plyr)\n",
                "# tokenize by sentence: german\n",
                "transtb <- germantb %>%\n",
                "  unnest_tokens(word, german) %>%\n",
                "  # add english data\n",
                "  plyr::join(., englishtb, by = \"sentence\") %>%\n",
                "  unnest_tokens(trans, english) %>%\n",
                "  dplyr::rename(german = word,\n",
                "                english = trans) %>%\n",
                "  dplyr::select(german, english) %>%\n",
                "  dplyr::mutate(german = factor(german),\n",
                "                english = factor(english))\n"
            ]
        },
        {
            "cell_type": "markdown",
            "metadata": {},
            "source": "\n"
        },
        {
            "cell_type": "code",
            "execution_count": null,
            "metadata": {},
            "outputs": [],
            "source": [
                "# inspect data\n",
                "transtb %>%\n",
                "  head(15) %>%\n",
                "  kable(caption = \"First 15 rows of transtb.\") %>%\n",
                "  kableExtra::kable_styling(bootstrap_options = c(\"striped\", \"hover\", \"condensed\", \"responsive\"), \n",
                "                            full_width = F)\n"
            ]
        },
        {
            "cell_type": "markdown",
            "metadata": {},
            "source": [
                "Based on this table, we can now generate a term-document matrix which shows how frequently each word co-occurred in the translation of any of the sentences. For instance, the German word *alles* occurred one time in a translation of a sentence which contained the English word *all*.\n",
                "\n"
            ]
        },
        {
            "cell_type": "code",
            "execution_count": null,
            "metadata": {},
            "outputs": [],
            "source": [
                "# tabulate data (create term-document matrix)\n",
                "tdm <- ftable(transtb$german, transtb$english)\n",
                "# extract amplifiers and adjectives \n",
                "german <- as.vector(unlist(attr(tdm, \"col.vars\")[1]))\n",
                "english <- as.vector(unlist(attr(tdm, \"row.vars\")[1]))\n",
                "# attach row and column names to tdm\n",
                "rownames(tdm) <- english\n",
                "colnames(tdm) <- german\n",
                "# inspect data\n",
                "tdm[1:10, 1:10]\n"
            ]
        },
        {
            "cell_type": "markdown",
            "metadata": {},
            "source": [
                "Now, we reformat this co-occurrence matrix so that we have the frequency information that is necessary for setting up 2x2 contingency tables which we will use to calculate the co-occurrence strength between each word and its potential translation. \n",
                "\n"
            ]
        },
        {
            "cell_type": "code",
            "execution_count": null,
            "metadata": {},
            "outputs": [],
            "source": [
                "coocdf <- as.data.frame(as.matrix(tdm))\n",
                "cooctb <- coocdf %>%\n",
                "  dplyr::mutate(German = rownames(coocdf)) %>%\n",
                "  tidyr::gather(English, TermCoocFreq,\n",
                "                colnames(coocdf)[1]:colnames(coocdf)[ncol(coocdf)]) %>%\n",
                "  dplyr::mutate(German = factor(German),\n",
                "                English = factor(English)) %>%\n",
                "  dplyr::mutate(AllFreq = sum(TermCoocFreq)) %>%\n",
                "  dplyr::group_by(German) %>%\n",
                "  dplyr::mutate(TermFreq = sum(TermCoocFreq)) %>%\n",
                "  dplyr::ungroup(German) %>%\n",
                "  dplyr::group_by(English) %>%\n",
                "  dplyr::mutate(CoocFreq = sum(TermCoocFreq)) %>%\n",
                "  dplyr::arrange(German) %>%\n",
                "  dplyr::mutate(a = TermCoocFreq,\n",
                "                b = TermFreq - a,\n",
                "                c = CoocFreq - a, \n",
                "                d = AllFreq - (a + b + c)) %>%\n",
                "  dplyr::mutate(NRows = nrow(coocdf))%>%\n",
                "  dplyr::filter(TermCoocFreq > 0)\n"
            ]
        },
        {
            "cell_type": "markdown",
            "metadata": {},
            "source": [
                "\n",
                "\n"
            ]
        },
        {
            "cell_type": "code",
            "execution_count": null,
            "metadata": {},
            "outputs": [],
            "source": [
                "# inspect data\n",
                "cooctb %>%\n",
                "  head(15) %>%\n",
                "  kable(caption = \"First 15 rows of cooctb.\") %>%\n",
                "  kableExtra::kable_styling(bootstrap_options = c(\"striped\", \"hover\", \"condensed\", \"responsive\"), \n",
                "                            full_width = F)\n"
            ]
        },
        {
            "cell_type": "markdown",
            "metadata": {},
            "source": [
                "In a final step, we extract those potential translations that correlate most strongly with each given term. The results then form a list of words and their most likely translation. \n",
                "\n"
            ]
        },
        {
            "cell_type": "code",
            "execution_count": null,
            "metadata": {},
            "outputs": [],
            "source": [
                "translationtb <- cooctb  %>%\n",
                "  dplyr::rowwise() %>%\n",
                "  dplyr::mutate(p = round(as.vector(unlist(fisher.test(matrix(c(a, b, c, d), ncol = 2, byrow = T))[1])), 5), \n",
                "                x2 = round(as.vector(unlist(chisq.test(matrix(c(a, b, c, d), ncol = 2, byrow = T))[1])), 3)) %>%\n",
                "  dplyr::mutate(phi = round(sqrt((x2/(a + b + c + d))), 3),\n",
                "                expected = as.vector(unlist(chisq.test(matrix(c(a, b, c, d), ncol = 2, byrow = T))$expected[1]))) %>%\n",
                "  dplyr::filter(TermCoocFreq > expected) %>%\n",
                "  dplyr::arrange(-phi) %>%\n",
                "  dplyr::select(-AllFreq, -a, -b, -c, -d, -NRows, -expected)\n"
            ]
        },
        {
            "cell_type": "markdown",
            "metadata": {},
            "source": "\n"
        },
        {
            "cell_type": "code",
            "execution_count": null,
            "metadata": {},
            "outputs": [],
            "source": [
                "# inspect data\n",
                "translationtb %>%\n",
                "  head(15) %>%\n",
                "  kable(caption = \"First 15 rows of translationtb.\") %>%\n",
                "  kableExtra::kable_styling(bootstrap_options = c(\"striped\", \"hover\", \"condensed\", \"responsive\"), \n",
                "                            full_width = F)\n"
            ]
        },
        {
            "cell_type": "markdown",
            "metadata": {},
            "source": [
                "The results show that even using the very limited data base can produce some very reasonable results. In fact, based on the data that we used here, the first translations appear to be very sensible, but the mismatches also show that more data is required to disambiguate potential translations.\n",
                "\n",
                "While this method still requires manual correction, it is a very handy and useful tool for generating custom bilingual dictionaries that can be extended to any set of languages as long as these languages can be represented as distinct words and as long as parallel data is available. \n",
                "\n",
                "\n",
                "# Going further: crowd-sourced dictionaries with R and Git\n",
                "\n",
                "While it would go beyond the scope of this tutorial, it should be noted that the approach for creating dictionaries can be applied to crowed-sourced dictionaries. To do this, you could, e.g. upload your dictionary to a Git repository such as [GitHub](https://github.com/) or [GitLab](https://about.gitlab.com/) which would then allow everybody with an account on either of these platforms to add content to the dictionary. \n"
            ]
        },
        {
            "cell_type": "code",
            "execution_count": null,
            "metadata": {},
            "outputs": [],
            "source": [
                "knitr::include_graphics(\"https://slcladal.github.io/images/git.png\")\n",
                "\n"
            ]
        },
        {
            "cell_type": "markdown",
            "metadata": {},
            "source": [
                "To add to the dictionary, contributors would simply have to fork the repository of the dictionary and then merge with the existing, original dictionary repository. The quality of the data would meanwhile remain under control of the owner of the original repository he they can decide on a case-by-case basis which change they would like to accept. In addition, and because Git is a version control environment, the owner could also go back to previous versions, if they think they erroneously accepted a change (merge).\n",
                "\n",
                "This option is particularly interesting for the approach to creating dictionaries presented here because R Studio has an integrated and very easy to use pipeline to Git (see, e.g.,  [here](https://support.rstudio.com/hc/en-us/articles/200532077-Version-Control-with-Git-and-SVN) and [here](https://happygitwithr.com/rstudio-git-github.html))\n",
                "\n",
                "We have reached the end of this tutorial and you now know how to create and modify networks in R and how you can highlight aspects of your data. \n",
                "\n",
                "<br><br>\n",
                "\n",
                "# Citation & Session Info {-}\n",
                "\n",
                "Schweinberger, Martin. `r format(Sys.time(), '%Y')`. *Lexicography with R*. Brisbane: The University of Queensland. url: https://slcladal.github.io/lex.html  (Version `r format(Sys.time(), '%Y.%m.%d')`).\n"
            ]
        },
        {
            "cell_type": "code",
            "execution_count": null,
            "metadata": {},
            "outputs": [],
            "source": [
                "@manual{schweinberger`r format(Sys.time(), '%Y')`lex,\n",
                "  author = {Schweinberger, Martin},\n",
                "  title = {Lexicography with R},\n",
                "  note = {https://slcladal.github.io/lex.html},\n",
                "  year = {`r format(Sys.time(), '%Y')`},\n",
                "  organization = \"The University of Queensland, Australia. School of Languages and Cultures},\n",
                "  address = {Brisbane},\n",
                "  edition = {`r format(Sys.time(), '%Y.%m.%d')`}\n",
                "}\n"
            ]
        },
        {
            "cell_type": "markdown",
            "metadata": {},
            "source": "\n"
        },
        {
            "cell_type": "code",
            "execution_count": null,
            "metadata": {},
            "outputs": [],
            "source": [
                "sessionInfo()\n",
                "\n"
            ]
        },
        {
            "cell_type": "markdown",
            "metadata": {},
            "source": [
                "# References{-}\n",
                "\n",
                "***\n",
                "\n",
                "[Back to top](#introduction)\n",
                "\n",
                "[Back to HOME](https://slcladal.github.io/index.html)\n",
                "\n",
                "***\n"
            ]
        }
    ],
    "metadata": {
        "anaconda-cloud": "",
        "kernelspec": {
            "display_name": "R",
            "langauge": "R",
            "name": "ir"
        },
        "language_info": {
            "codemirror_mode": "r",
            "file_extension": ".r",
            "mimetype": "text/x-r-source",
            "name": "R",
            "pygments_lexer": "r",
            "version": "3.4.1"
        }
    },
    "nbformat": 4,
    "nbformat_minor": 1
}
