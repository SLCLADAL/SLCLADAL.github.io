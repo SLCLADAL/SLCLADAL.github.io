{
    "cells": [
        {
            "cell_type": "markdown",
            "metadata": {},
            "source": [
                "<!--html_preserve-->\n",
                "<!-- Global site tag (gtag.js) - Google Analytics -->\n",
                "<script async src=\"https://www.googletagmanager.com/gtag/js?id=UA-130562131-1\"><\/script>\n",
                "<script>\n",
                "  window.dataLayer = window.dataLayer || [];\n",
                "  function gtag(){dataLayer.push(arguments);}\n",
                "  gtag('js', new Date());\n",
                "\n",
                "  gtag('config', 'UA-130562131-1');\n",
                "<\/script>\n",
                "<!--/html_preserve-->\n"
            ]
        },
        {
            "cell_type": "code",
            "execution_count": null,
            "metadata": {},
            "outputs": [],
            "source": [
                "knitr::include_graphics(\"https://slcladal.github.io/images/uq1.jpg\")\n",
                "\n"
            ]
        },
        {
            "cell_type": "markdown",
            "metadata": {},
            "source": [
                "# Introduction{-}\n",
                "\n",
                "This tutorial introduces data visualization using R and shows how to modify different types of visualizations in the ggplot framework in R. The entire R-markdown document can be downloaded [here](https://slcladal.github.io/rscripts/introviz.Rmd). \n",
                "\n",
                "When it comes to data visualization, R offers a myriad of options and ways to show and summarize data which makes R an incredibly flexible tool that offers full control over the distinct layers of plots. Rather than showing how to produce different types of plots (e.g. scatter plots, box plots, and line graphs), this introduction will focus on the three main frameworks for data visualization in R (base, lattice, and ggplot) and show how you can modify your visualizations (e.g. changing axes and tick labels, change colors, and showing different plots in one window). How to create different types of plots is shown in [this tutorial](https://slcladal.github.io/basicgraphs.html). We separate between this introduction and showing how to produce different types of visualizations because rather general questions relating to what needs to be kept in mind when visualizing data are discussed. The practical part presents the code used to set up graphs so that they can be recreated and also discusses potential problems that you may encounter when setting up a graph. \n",
                "\n",
                "As there exists a multitude of different ways to visualize data, this section only highlights the different philosophies that underlie the different frameworks for data visualization in R (base, lattice, and ggplot) and how to modify visualizations to match one's individual needs. The major advantage of using R consists in the fact that the code can be stored, distributed, and run very easily. This means that R represents a flexible framework for creating graphs that enables sustainable, reproducible, and transparent procedures. \n",
                "\n",
                "## Basics of data visualization{-}\n",
                "\n",
                "Before turning to the practical issues relating to creating graphs, a few words on what one has to keep in mind when visualizing data are in order. On a very general level, graphs should be used to inform the reader about properties and relationships between variables. This implies that...\n",
                "\n",
                "* graphs, including axes, must be labeled properly to allow the reader to understand the visualization with ease. \n",
                "\n",
                "* there should not be more dimensions in the visualization than there are in the data.\n",
                "\n",
                "* all elements within a graph should be unambiguous.\n",
                "\n",
                "* variable scales should be portrayed accurately (for instance, lines - which imply continuity - should not be used for categorically scaled variables).\n",
                "\n",
                "* graphs should be as intuitive as possible and should not mislead the reader.\n",
                "\n",
                "## Different philosophies: base R, lattice, and ggplot{-}\n",
                "\n",
                "A few words on different frameworks for creating graphics in R are in order. There are three main frameworks in which to create graphics in R. The *basic* framework, the *lattice* framework, and the *ggplot* or *tidyverse* framework. \n",
                "\n",
                "### The base R framework{-}\n",
                "\n",
                "The *base R* framework is the oldest of the three and is included in what is called the `base R` - a collection of about 30 packages that are automatically activated/loaded when you start `R`.  The idea behind the \"base\" environment is that the creation of graphics is seen in analogy to a painter who paints on an empty canvass. Each line or element is added to the graph consecutively which oftentimes leads to code that is very comprehensible but also very long.\n",
                "\n",
                "### The lattice framework{-}\n",
                "\n",
                "The *lattice* environment was a follow-up to the *base* framework and it complements it insofar as it made it much easier to display various variables and variable levels simultaneously. The philosophy of the lattice-package is quite different from the philosophy of *base*: whereas everything had to be specified in *base*, the graphs created in the *lattice* environment require only very little code but are therefore very easily created when one is satisfied with the design but vey labor intensive when it comes to customizing graphs. However, *lattice* is very handy when summarizing relationships between multiple variable and variable levels.\n",
                "\n",
                "### The ggplot framework{-}\n",
                "\n",
                "The *ggplot* environment was written by Hadley Wickham and it combines the positive aspects of both the *base* and the *lattice* package. It was first publicized in the *gplot* and *ggplot1* packages but the latter was soon repackaged and improved in the now most widely used package for data visualization: the *ggplot2* package. The *ggplot* environment implements a philosophy of graphic design described in *The Grammar of Graphics* by Leland Wilkinson [@wilkinson2012grammar].\n",
                "\n",
                "The philosophy of *ggplot2* is to consider graphics as consisting of basic elements (called *aesthetics* and they include, for instance, the data set to be plotted and the axes) and layers that overlaid onto the aesthetics. The idea of the *ggplot2* package can be summarized as taking \"care of many of the fiddly details that make plotting a hassle (like drawing legends) as well as providing a powerful model of graphics that makes it easy to produce complex multi-layered graphics.\"\n",
                "\n",
                "Thus, ggplots typically start with the function call (ggplot) followed by the specification of the data, then the aesthetics (aes), and then a specification of the type of plot that is created (geom_line for line graphs, geom_box for box plots, geom_bar for bar graphs, geom_text for text, etc.). In addition, ggplot makes it possible to specify all elements that the graph consists of (e.g. the theme and axes). \n",
                "\n",
                "As the ggplot framework has become the dominant way to create visualizations in R, we will only focus on this framework in the following practical examples.\n",
                "\n",
                "## Preparation and session set up{-}\n",
                "\n",
                "This tutorial is based on R. If you have not installed R or are new to it, you will find an introduction to and more information how to use R [here](https://slcladal.github.io/intror.html). For this tutorials, we need to install certain *packages* from an R *library* so that the scripts shown below are executed without errors. Before turning to the code below, please install the packages by running the code below this paragraph. If you have already installed the packages mentioned below, then you can skip ahead and ignore this section. To install the necessary packages, simply run the following code - it may take some time (between 1 and 5 minutes to install all of the libraries so you do not need to worry if it takes some time).\n"
            ]
        },
        {
            "cell_type": "code",
            "execution_count": null,
            "metadata": {},
            "outputs": [],
            "source": [
                "# install libraries\n",
                "install.packages(c(\"tidyverse\", \"gridExtra\", \"knitr\", \"kableExtra\"))\n"
            ]
        },
        {
            "cell_type": "markdown",
            "metadata": {},
            "source": [
                "Once you have installed R  and  initiated the session by executing the code shown above, you are good to go.\n",
                "\n",
                "# Getting started{-}\n",
                "\n",
                "Before turning to the graphs, we will load the packages for this tutorial. The data set is called `lmmdata` but we will change the name to `plotdata` for this tutorial. The data set is based on the [*Penn Parsed Corpora of Historical English*](https://www.ling.upenn.edu/hist-corpora/) (PPC) and it contains the date when a text was written (`Date`), the genre of the text (`Genre`), the name of the text (`Text`), the relative frequency of prepositions in the text (`Prepositions`), and the region in which the text was written (`Region`). We also add two more variables to the data called `GenreRedux` and `DateRedux`. `GenreRedux` collapses the existing genres into five main categories (*Conversational*, *Religious*, *Legal*, *Fiction*, and *NonFiction*) while `DateRedux` collapses the dates when the texts were composed into five main periods (1150-1499, 1500-1599, 1600-1699, 1700-1799, and 1800-1913). We also factorize non-numeric variables. \n"
            ]
        },
        {
            "cell_type": "code",
            "execution_count": null,
            "metadata": {},
            "outputs": [],
            "source": [
                "# activate packages\n",
                "library(tidyverse)\n",
                "library(gridExtra)\n",
                "library(knitr) \n",
                "library(kableExtra)\n",
                "# load data\n",
                "plotdata <- read.delim(\"https://slcladal.github.io/data/lmmdata.txt\", header = TRUE) %>%\n",
                "  mutate(GenreRedux = case_when(str_detect(.$Genre, \"Letter\") ~ \"Conversational\",\n",
                "                                Genre == \"Diary\" ~ \"Conversational\",\n",
                "                                Genre == \"Bible\"|Genre == \"Sermon\" ~ \"Religious\",\n",
                "                                Genre == \"Law\"|Genre == \"TrialProceeding\" ~ \"Legal\",\n",
                "                                Genre == \"Fiction\" ~ \"Fiction\",\n",
                "                                TRUE ~ \"NonFiction\")) %>%\n",
                "  mutate(DateRedux = case_when(Date < 1500 ~ \"1150-1499\",\n",
                "                               Date < 1600 ~ \"1500-1599\",\n",
                "                               Date < 1700 ~ \"1600-1699\",\n",
                "                               Date < 1800 ~ \"1700-1799\",\n",
                "                               TRUE ~ \"1800-1913\")) %>%\n",
                "  mutate(Genre = factor(Genre),\n",
                "         Text = factor(Text),\n",
                "         Region = factor(Region),\n",
                "         GenreRedux = factor(GenreRedux),\n",
                "         DateRedux = factor(DateRedux))\n"
            ]
        },
        {
            "cell_type": "markdown",
            "metadata": {},
            "source": [
                "The first six rows of the data look like this:\n",
                "\n"
            ]
        },
        {
            "cell_type": "code",
            "execution_count": null,
            "metadata": {},
            "outputs": [],
            "source": [
                "kable(head(plotdata), caption = \"First 6 rows of the plotdata\") %>%\n",
                "  kable_styling(bootstrap_options = \"striped\", full_width = T, position = \"left\")\n"
            ]
        },
        {
            "cell_type": "markdown",
            "metadata": {},
            "source": [
                "We will now turn to creating the graphs.\n",
                "\n",
                "# Creating a simple graph{-}\n",
                "\n",
                "When creating a visualization with ggplot, we first use the function `ggplot` and define the data that the visualization will use, then, we define the aesthetics which define the layout, i.e. the x- and y-axes. \n"
            ]
        },
        {
            "cell_type": "code",
            "execution_count": null,
            "metadata": {},
            "outputs": [],
            "source": [
                "ggplot(plotdata, aes(x = Date, y = Prepositions))\n",
                "\n"
            ]
        },
        {
            "cell_type": "markdown",
            "metadata": {},
            "source": [
                "In a next step, we add the geom-layer which defines the type of visualization that we want to display. In this case, we use `geom_point` as we want to show points that stand for the frequencies of prepositions in each text. Note that we add the geom-layer by adding a `+` at the end of the line!\n",
                "\n"
            ]
        },
        {
            "cell_type": "code",
            "execution_count": null,
            "metadata": {},
            "outputs": [],
            "source": [
                "ggplot(plotdata, aes(x = Date, y = Prepositions)) +\n",
                "  geom_point()\n"
            ]
        },
        {
            "cell_type": "markdown",
            "metadata": {},
            "source": [
                "We can also add another layer, e.g. a layer which shows a smoothed loess line, and we can change the theme by specifying the theme we want to use. Here, we will use `theme_bw` which stands for the black-and-white theme (we will get into the different types of themes later).\n",
                "\n"
            ]
        },
        {
            "cell_type": "code",
            "execution_count": null,
            "metadata": {},
            "outputs": [],
            "source": [
                "ggplot(plotdata, aes(x = Date, y = Prepositions)) +\n",
                "  geom_point() +\n",
                "  geom_smooth(se = F) +\n",
                "  theme_bw()\n"
            ]
        },
        {
            "cell_type": "markdown",
            "metadata": {},
            "source": [
                "We can also store our plot in an object and then add different layers to it or modify the plot. Here we store the basic graph in an object that we call `p` and then change the axes names.  \n",
                "\n"
            ]
        },
        {
            "cell_type": "code",
            "execution_count": null,
            "metadata": {},
            "outputs": [],
            "source": [
                "p <- ggplot(plotdata, aes(x = Date, y = Prepositions)) +\n",
                "  geom_point()\n",
                "p + labs(x = \"Year\", y = \"Frequency\")\n"
            ]
        },
        {
            "cell_type": "markdown",
            "metadata": {},
            "source": [
                "We can also integrate plots into data processing pipelines as shown below. When you integrate visualizations into pipelines, you should not specify the data as it is clear from the pipe which data the plot is using.\n",
                "\n"
            ]
        },
        {
            "cell_type": "code",
            "execution_count": null,
            "metadata": {},
            "outputs": [],
            "source": [
                "plotdata %>%\n",
                "  dplyr::select(DateRedux, GenreRedux, Prepositions) %>%\n",
                "  dplyr::group_by(DateRedux, GenreRedux) %>%\n",
                "  dplyr::summarise(Frequency = mean(Prepositions)) %>%\n",
                "    ggplot(aes(x = DateRedux, y = Frequency, group = GenreRedux, color = GenreRedux)) +\n",
                "    geom_line()\n"
            ]
        },
        {
            "cell_type": "markdown",
            "metadata": {},
            "source": [
                "# Modifying axes and titles{-}\n",
                "\n",
                "There are different way to modify axes, the easiest way is to specify the axes labels using `labs` (as already shown above). To add a custom title, we can use `ggtitle`.\n"
            ]
        },
        {
            "cell_type": "code",
            "execution_count": null,
            "metadata": {},
            "outputs": [],
            "source": [
                "p + labs(x = \"Year\", y = \"Frequency\") +\n",
                "  ggtitle(\"Preposition use over time\", subtitle=\"based on the PPC corpus\")\n"
            ]
        },
        {
            "cell_type": "markdown",
            "metadata": {},
            "source": [
                "To change the range of the axes, we can specify their limits in the `coord_cartesian` layer.\n",
                "\n"
            ]
        },
        {
            "cell_type": "code",
            "execution_count": null,
            "metadata": {},
            "outputs": [],
            "source": [
                "p + coord_cartesian(xlim = c(1000, 2000), ylim = c(-100, 300))\n",
                "\n"
            ]
        },
        {
            "cell_type": "markdown",
            "metadata": {},
            "source": "\n"
        },
        {
            "cell_type": "code",
            "execution_count": null,
            "metadata": {},
            "outputs": [],
            "source": [
                "p <- ggplot(plotdata, aes(x = Date, y = Prepositions)) +\n",
                "  geom_point() + \n",
                "  labs(x = \"Year\", y = \"Frequency\")\n",
                "p + theme(axis.text.x = element_text(face=\"italic\", color=\"red\", size=8, angle=45),\n",
                "          axis.text.y = element_text(face=\"bold\", color=\"blue\", size=15, angle=90))\n"
            ]
        },
        {
            "cell_type": "markdown",
            "metadata": {},
            "source": [
                "\n",
                "\n"
            ]
        },
        {
            "cell_type": "code",
            "execution_count": null,
            "metadata": {},
            "outputs": [],
            "source": [
                "p + theme(\n",
                "  axis.text.x = element_blank(),\n",
                "  axis.text.y = element_blank(),\n",
                "  axis.ticks = element_blank())\n"
            ]
        },
        {
            "cell_type": "markdown",
            "metadata": {},
            "source": [
                "\n",
                "\n"
            ]
        },
        {
            "cell_type": "code",
            "execution_count": null,
            "metadata": {},
            "outputs": [],
            "source": [
                "p + scale_x_discrete(name =\"Year of composition\", limits=seq(1150, 1900, 50)) +\n",
                "  scale_y_discrete(name =\"Relative Frequency\", limits=seq(70, 190, 20))\n"
            ]
        },
        {
            "cell_type": "markdown",
            "metadata": {},
            "source": [
                "# Modifying colors{-}\n",
                "\n",
                "To modify colors, you can include a color specification in the main aesthetics.\n"
            ]
        },
        {
            "cell_type": "code",
            "execution_count": null,
            "metadata": {},
            "outputs": [],
            "source": [
                "ggplot(plotdata, aes(x = Date, y = Prepositions, color = GenreRedux)) +\n",
                "  geom_point() \n"
            ]
        },
        {
            "cell_type": "markdown",
            "metadata": {},
            "source": [
                "Or you can specify the color in the aesthetics of the geom-layer.\n",
                "\n"
            ]
        },
        {
            "cell_type": "code",
            "execution_count": null,
            "metadata": {},
            "outputs": [],
            "source": [
                "p + geom_point(aes(color = GenreRedux))\n",
                "\n"
            ]
        },
        {
            "cell_type": "markdown",
            "metadata": {},
            "source": [
                "To change the default colors manually, you can use `scale_color_manual` and define the colors you want to use in the `values` argument and specify the variable levels that want to distinguish by colors in the `breaks` argument. You can find an overview of the colors that you can define in R [here](http://www.stat.columbia.edu/~tzheng/files/Rcolor.pdf).\n",
                "\n"
            ]
        },
        {
            "cell_type": "code",
            "execution_count": null,
            "metadata": {},
            "outputs": [],
            "source": [
                "ggplot(plotdata, aes(x = Date, y = Prepositions, color = GenreRedux)) +\n",
                "  geom_point()  + \n",
                "  scale_color_manual(values = c(\"red\", \"gray30\", \"blue\", \"orange\", \"gray80\"),\n",
                "                       breaks = c(\"Conversational\", \"Fiction\", \"Legal\", \"NonFiction\", \"Religious\"))\n"
            ]
        },
        {
            "cell_type": "markdown",
            "metadata": {},
            "source": [
                "When the variable that you want to colorize does not have discrete levels, you use `scale_color_continuous` instead of `scale_color_manual`.\n",
                "\n"
            ]
        },
        {
            "cell_type": "code",
            "execution_count": null,
            "metadata": {},
            "outputs": [],
            "source": [
                "p + geom_point(aes(color = Prepositions)) + \n",
                "  scale_color_continuous()\n"
            ]
        },
        {
            "cell_type": "markdown",
            "metadata": {},
            "source": [
                "You can also change colors by specifying color `palettes`. Color `palettes` are predefined vectors of colors and there are many different color `palettes` available. Below are some examples using the `Brewer` color palette.\n",
                "\n"
            ]
        },
        {
            "cell_type": "code",
            "execution_count": null,
            "metadata": {},
            "outputs": [],
            "source": [
                "p + geom_point(aes(color = GenreRedux)) + \n",
                "  scale_color_brewer()\n"
            ]
        },
        {
            "cell_type": "markdown",
            "metadata": {},
            "source": "\n"
        },
        {
            "cell_type": "code",
            "execution_count": null,
            "metadata": {},
            "outputs": [],
            "source": [
                "p + geom_point(aes(color = GenreRedux)) + \n",
                "  scale_color_brewer(palette = 2)\n"
            ]
        },
        {
            "cell_type": "markdown",
            "metadata": {},
            "source": "\n"
        },
        {
            "cell_type": "code",
            "execution_count": null,
            "metadata": {},
            "outputs": [],
            "source": [
                "p + geom_point(aes(color = GenreRedux)) + \n",
                "  scale_color_brewer(palette = 3)\n"
            ]
        },
        {
            "cell_type": "markdown",
            "metadata": {},
            "source": [
                "We now use the `viridis` color palette to show how you can use another palette. The example below uses the viridis palette for a discrete variable (GenreRedux).\n",
                "\n"
            ]
        },
        {
            "cell_type": "code",
            "execution_count": null,
            "metadata": {},
            "outputs": [],
            "source": [
                "p + geom_point(aes(color = GenreRedux)) + \n",
                "  scale_color_viridis_d()\n"
            ]
        },
        {
            "cell_type": "markdown",
            "metadata": {},
            "source": [
                "To use the viridis palette for continuous variables you need to use `scale_color_viridis_c` instead of `scale_color_viridis_d`.\n",
                "\n"
            ]
        },
        {
            "cell_type": "code",
            "execution_count": null,
            "metadata": {},
            "outputs": [],
            "source": [
                "p + geom_point(aes(color = Prepositions)) + \n",
                "  scale_color_viridis_c()\n"
            ]
        },
        {
            "cell_type": "markdown",
            "metadata": {},
            "source": [
                "The `Brewer` color palette (see below) is the most commonly used color palette but there are many more. You can find an overview of the color palettes that are available [here](https://www.datanovia.com/en/blog/top-r-color-palettes-to-know-for-great-data-visualization/).\n",
                "\n"
            ]
        },
        {
            "cell_type": "code",
            "execution_count": null,
            "metadata": {},
            "outputs": [],
            "source": [
                "library(RColorBrewer)\n",
                "display.brewer.all()\n"
            ]
        },
        {
            "cell_type": "markdown",
            "metadata": {},
            "source": [
                "# Modifying lines & symbols{-}\n",
                "\n"
            ]
        },
        {
            "cell_type": "code",
            "execution_count": null,
            "metadata": {},
            "outputs": [],
            "source": [
                "ggplot(plotdata, aes(x = Date, y = Prepositions, shape = GenreRedux)) +\n",
                "  geom_point() \n"
            ]
        },
        {
            "cell_type": "markdown",
            "metadata": {},
            "source": "\n"
        },
        {
            "cell_type": "code",
            "execution_count": null,
            "metadata": {},
            "outputs": [],
            "source": [
                "ggplot(plotdata, aes(x = Date, y = Prepositions)) + \n",
                "  geom_point(aes(shape = GenreRedux)) + \n",
                "  scale_shape_manual(values = 1:5)\n"
            ]
        },
        {
            "cell_type": "markdown",
            "metadata": {},
            "source": [
                "Similarly, if you want to change the lines in a line plot, you define the `linetype` in the aesthetics.\n",
                "\n"
            ]
        },
        {
            "cell_type": "code",
            "execution_count": null,
            "metadata": {},
            "outputs": [],
            "source": [
                "plotdata %>%\n",
                "  dplyr::select(GenreRedux, DateRedux, Prepositions) %>%\n",
                "  dplyr::group_by(GenreRedux, DateRedux) %>%\n",
                "  dplyr::summarize(Frequency = mean(Prepositions)) %>%\n",
                "  ggplot(aes(x = DateRedux, y = Frequency, group = GenreRedux, linetype = GenreRedux)) +\n",
                "  geom_line()\n"
            ]
        },
        {
            "cell_type": "markdown",
            "metadata": {},
            "source": [
                "You can of course also manually specify the line types.\n",
                "\n"
            ]
        },
        {
            "cell_type": "code",
            "execution_count": null,
            "metadata": {},
            "outputs": [],
            "source": [
                "plotdata %>%\n",
                "  dplyr::select(GenreRedux, DateRedux, Prepositions) %>%\n",
                "  dplyr::group_by(GenreRedux, DateRedux) %>%\n",
                "  dplyr::summarize(Frequency = mean(Prepositions)) %>%\n",
                "  ggplot(aes(x = DateRedux, y = Frequency, group = GenreRedux, linetype = GenreRedux)) +\n",
                "  geom_line() +\n",
                "  scale_linetype_manual(values = c(\"twodash\", \"longdash\", \"solid\", \"dotted\", \"dashed\"))\n"
            ]
        },
        {
            "cell_type": "markdown",
            "metadata": {},
            "source": [
                "Here is an overview of the most commonly used linetypes in R.\n",
                "\n"
            ]
        },
        {
            "cell_type": "code",
            "execution_count": null,
            "metadata": {},
            "outputs": [],
            "source": [
                "d=data.frame(lt=c(\"blank\", \"solid\", \"dashed\", \"dotted\", \"dotdash\", \"longdash\", \"twodash\", \"1F\", \"F1\", \"4C88C488\", \"12345678\"))\n",
                "ggplot() +\n",
                "scale_x_continuous(name=\"\", limits=c(0,1)) +\n",
                "scale_y_discrete(name=\"linetype\") +\n",
                "scale_linetype_identity() +\n",
                "geom_segment(data=d, mapping=aes(x=0, xend=1, y=lt, yend=lt, linetype=lt))\n"
            ]
        },
        {
            "cell_type": "markdown",
            "metadata": {},
            "source": [
                "To make your layers transparent, you need to specify `alpha` values.\n",
                "\n"
            ]
        },
        {
            "cell_type": "code",
            "execution_count": null,
            "metadata": {},
            "outputs": [],
            "source": [
                "ggplot(plotdata, aes(x = Date, y = Prepositions)) + \n",
                "  geom_point(alpha = .2)\n"
            ]
        },
        {
            "cell_type": "markdown",
            "metadata": {},
            "source": [
                "Transparency can be particularly useful when using different layers that add different types of visualizations.\n",
                "\n"
            ]
        },
        {
            "cell_type": "code",
            "execution_count": null,
            "metadata": {},
            "outputs": [],
            "source": [
                "ggplot(plotdata, aes(x = Date, y = Prepositions)) + \n",
                "  geom_point(alpha = .1) + \n",
                "  geom_smooth(se = F)\n"
            ]
        },
        {
            "cell_type": "markdown",
            "metadata": {},
            "source": [
                "Transparency can also be linked to other variables.\n",
                "\n"
            ]
        },
        {
            "cell_type": "code",
            "execution_count": null,
            "metadata": {},
            "outputs": [],
            "source": [
                "ggplot(plotdata, aes(x = Date, y = Prepositions, alpha = Region)) + \n",
                "  geom_point()\n"
            ]
        },
        {
            "cell_type": "markdown",
            "metadata": {},
            "source": [
                "\n",
                "\n"
            ]
        },
        {
            "cell_type": "code",
            "execution_count": null,
            "metadata": {},
            "outputs": [],
            "source": [
                "ggplot(plotdata, aes(x = Date, y = Prepositions, alpha = Prepositions)) + \n",
                "  geom_point()\n"
            ]
        },
        {
            "cell_type": "markdown",
            "metadata": {},
            "source": [
                "# Adapting sizes{-}\n",
                "\n"
            ]
        },
        {
            "cell_type": "code",
            "execution_count": null,
            "metadata": {},
            "outputs": [],
            "source": [
                "ggplot(plotdata, aes(x = Date, y = Prepositions, size = Region, color = GenreRedux)) +\n",
                "  geom_point() \n"
            ]
        },
        {
            "cell_type": "markdown",
            "metadata": {},
            "source": "\n"
        },
        {
            "cell_type": "code",
            "execution_count": null,
            "metadata": {},
            "outputs": [],
            "source": [
                "ggplot(plotdata, aes(x = Date, y = Prepositions, color = GenreRedux, size = Prepositions)) +\n",
                "  geom_point() \n"
            ]
        },
        {
            "cell_type": "markdown",
            "metadata": {},
            "source": [
                "# Adding text{-}\n",
                "\n"
            ]
        },
        {
            "cell_type": "code",
            "execution_count": null,
            "metadata": {},
            "outputs": [],
            "source": [
                "plotdata %>%\n",
                "  dplyr::filter(Genre == \"Fiction\") %>%\n",
                "  ggplot(aes(x = Date, y = Prepositions, label = Prepositions, color = Region)) +\n",
                "  geom_text(size = 3) +\n",
                "  theme_bw()\n"
            ]
        },
        {
            "cell_type": "markdown",
            "metadata": {},
            "source": "\n"
        },
        {
            "cell_type": "code",
            "execution_count": null,
            "metadata": {},
            "outputs": [],
            "source": [
                "plotdata %>%\n",
                "  dplyr::filter(Genre == \"Fiction\") %>%\n",
                "  ggplot(aes(x = Date, y = Prepositions, label = Prepositions)) +\n",
                "  geom_text(size = 3, hjust=1.2) +\n",
                "  geom_point() +\n",
                "  theme_bw()\n"
            ]
        },
        {
            "cell_type": "markdown",
            "metadata": {},
            "source": [
                "\n",
                "\n"
            ]
        },
        {
            "cell_type": "code",
            "execution_count": null,
            "metadata": {},
            "outputs": [],
            "source": [
                "plotdata %>%\n",
                "  dplyr::filter(Genre == \"Fiction\") %>%\n",
                "  ggplot(aes(x = Date, y = Prepositions, label = Prepositions)) +\n",
                "  geom_text(size = 3, nudge_x = -15, check_overlap = T) +\n",
                "  geom_point() +\n",
                "  theme_bw()\n"
            ]
        },
        {
            "cell_type": "markdown",
            "metadata": {},
            "source": [
                "\n",
                "\n"
            ]
        },
        {
            "cell_type": "code",
            "execution_count": null,
            "metadata": {},
            "outputs": [],
            "source": [
                "plotdata %>%\n",
                "  dplyr::filter(Genre == \"Fiction\") %>%\n",
                "  ggplot(aes(x = Date, y = Prepositions, label = Prepositions)) +\n",
                "  geom_text(size = 3, nudge_x = -15, check_overlap = T) +\n",
                "  geom_point() +\n",
                "  theme_bw()\n"
            ]
        },
        {
            "cell_type": "markdown",
            "metadata": {},
            "source": [
                "\n",
                "\n"
            ]
        },
        {
            "cell_type": "code",
            "execution_count": null,
            "metadata": {},
            "outputs": [],
            "source": [
                "ggplot(plotdata, aes(x = Date, y = Prepositions)) +\n",
                "  geom_point() +\n",
                "  ggplot2::annotate(geom = \"text\", label = \"Some text\", x = 1200, y = 175, color = \"orange\") +\n",
                "  ggplot2::annotate(geom = \"text\", label = \"More text\", x = 1850, y = 75, color = \"lightblue\", size = 8) +\n",
                "    theme_bw()\n"
            ]
        },
        {
            "cell_type": "markdown",
            "metadata": {},
            "source": [
                "\n",
                "\n"
            ]
        },
        {
            "cell_type": "code",
            "execution_count": null,
            "metadata": {},
            "outputs": [],
            "source": [
                "plotdata %>%\n",
                "  dplyr::group_by(GenreRedux) %>%\n",
                "  dplyr::summarise(Frequency = round(mean(Prepositions), 1)) %>%\n",
                "  ggplot(aes(x = GenreRedux, y = Frequency, label = Frequency)) +\n",
                "  geom_bar(stat=\"identity\") +\n",
                "  geom_text(vjust=-1.6, color = \"black\") +\n",
                "  coord_cartesian(ylim = c(0, 180)) +\n",
                "  theme_bw()\n"
            ]
        },
        {
            "cell_type": "markdown",
            "metadata": {},
            "source": [
                "\n",
                "\n"
            ]
        },
        {
            "cell_type": "code",
            "execution_count": null,
            "metadata": {},
            "outputs": [],
            "source": [
                "plotdata %>%\n",
                "  dplyr::group_by(Region, GenreRedux) %>%\n",
                "  dplyr::summarise(Frequency = round(mean(Prepositions), 1)) %>%\n",
                "  ggplot(aes(x = GenreRedux, y = Frequency, group = Region, fill = Region, label = Frequency)) +\n",
                "  geom_bar(stat=\"identity\", position = \"dodge\") +\n",
                "  geom_text(vjust=1.6, position = position_dodge(0.9)) + \n",
                "  theme_bw()\n"
            ]
        },
        {
            "cell_type": "markdown",
            "metadata": {},
            "source": [
                "\n",
                "\n"
            ]
        },
        {
            "cell_type": "code",
            "execution_count": null,
            "metadata": {},
            "outputs": [],
            "source": [
                "plotdata %>%\n",
                "  dplyr::filter(Genre == \"Fiction\") %>%\n",
                "  ggplot(aes(x = Date, y = Prepositions, label = Prepositions)) +\n",
                "  geom_label(size = 3, vjust=1.2) +\n",
                "  geom_point() +\n",
                "  theme_bw()\n"
            ]
        },
        {
            "cell_type": "markdown",
            "metadata": {},
            "source": [
                "# Combining multiple plots{-}\n",
                "\n"
            ]
        },
        {
            "cell_type": "code",
            "execution_count": null,
            "metadata": {},
            "outputs": [],
            "source": [
                "ggplot(plotdata, aes(x = Date, y = Prepositions)) +\n",
                "  facet_grid(~GenreRedux) +\n",
                "  geom_point() + \n",
                "  theme_bw()\n"
            ]
        },
        {
            "cell_type": "markdown",
            "metadata": {},
            "source": "\n"
        },
        {
            "cell_type": "code",
            "execution_count": null,
            "metadata": {},
            "outputs": [],
            "source": [
                "ggplot(plotdata, aes(x = Date, y = Prepositions)) +\n",
                "  facet_wrap(vars(Region, GenreRedux), ncol = 5) +\n",
                "  geom_point() + \n",
                "  theme_bw()\n"
            ]
        },
        {
            "cell_type": "markdown",
            "metadata": {},
            "source": "\n"
        },
        {
            "cell_type": "code",
            "execution_count": null,
            "metadata": {},
            "outputs": [],
            "source": [
                "p1 <- ggplot(plotdata, aes(x = Date, y = Prepositions)) + geom_point() + theme_bw()\n",
                "p2 <- ggplot(plotdata, aes(x = GenreRedux, y = Prepositions)) + geom_boxplot() + theme_bw()\n",
                "p3 <- ggplot(plotdata, aes(x = DateRedux, group = GenreRedux)) + geom_bar() + theme_bw()\n",
                "p4 <- ggplot(plotdata, aes(x = Date, y = Prepositions)) + geom_point() + geom_smooth(se = F) + theme_bw()\n",
                "grid.arrange(p1, p2, nrow = 1)\n"
            ]
        },
        {
            "cell_type": "markdown",
            "metadata": {},
            "source": "\n"
        },
        {
            "cell_type": "code",
            "execution_count": null,
            "metadata": {},
            "outputs": [],
            "source": [
                "grid.arrange(grobs = list(p4, p2, p3), \n",
                "             widths = c(2, 1), \n",
                "             layout_matrix = rbind(c(1, 1), c(2, 3)))\n"
            ]
        },
        {
            "cell_type": "markdown",
            "metadata": {},
            "source": [
                "# Available themes{-}\n",
                "\n"
            ]
        },
        {
            "cell_type": "code",
            "execution_count": null,
            "metadata": {},
            "outputs": [],
            "source": [
                "p <- ggplot(plotdata, aes(x = Date, y = Prepositions)) + geom_point() + labs(x = \"\", y= \"\") +\n",
                "  ggtitle(\"Default\") + theme(axis.text.x = element_text(size=6, angle=90))\n",
                "p1 <- p + theme_bw() + ggtitle(\"theme_bw\") + theme(axis.text.x = element_text(size=6, angle=90))\n",
                "p2 <- p + theme_classic() + ggtitle(\"theme_classic\") + theme(axis.text.x = element_text(size=6, angle=90))\n",
                "p3 <- p + theme_minimal() + ggtitle(\"theme_minimal\") + theme(axis.text.x = element_text(size=6, angle=90))\n",
                "p4 <- p + theme_light() + ggtitle(\"theme_light\") + theme(axis.text.x = element_text(size=6, angle=90))\n",
                "p5 <- p + theme_dark() + ggtitle(\"theme_dark\") + theme(axis.text.x = element_text(size=6, angle=90))\n",
                "p6 <- p + theme_void() + ggtitle(\"theme_void\") + theme(axis.text.x = element_text(size=6, angle=90))\n",
                "p7 <- p + theme_gray() + ggtitle(\"theme_gray\") + theme(axis.text.x = element_text(size=6, angle=90))\n",
                "grid.arrange(p, p1, p2, p3, p4, p5, p6, p7, ncol = 4)\n"
            ]
        },
        {
            "cell_type": "markdown",
            "metadata": {},
            "source": [
                "\n",
                "\n"
            ]
        },
        {
            "cell_type": "code",
            "execution_count": null,
            "metadata": {},
            "outputs": [],
            "source": [
                "ggplot(plotdata, aes(x = Date, y = Prepositions, color = GenreRedux)) +\n",
                "  geom_point() + \n",
                "  theme(panel.background = element_rect(fill = \"white\", colour = \"red\"))\n"
            ]
        },
        {
            "cell_type": "markdown",
            "metadata": {},
            "source": [
                "Extensive information about how to modify themes can be found  [here](https://ggplot2.tidyverse.org/reference/theme.html).\n",
                "\n",
                "# Modifying legends{-}\n"
            ]
        },
        {
            "cell_type": "code",
            "execution_count": null,
            "metadata": {},
            "outputs": [],
            "source": [
                "ggplot(plotdata, aes(x = Date, y = Prepositions, color = GenreRedux)) +\n",
                "  geom_point() + \n",
                "  theme(legend.position = \"top\")\n"
            ]
        },
        {
            "cell_type": "markdown",
            "metadata": {},
            "source": "\n"
        },
        {
            "cell_type": "code",
            "execution_count": null,
            "metadata": {},
            "outputs": [],
            "source": [
                "ggplot(plotdata, aes(x = Date, y = Prepositions, color = GenreRedux)) +\n",
                "  geom_point() + \n",
                "  theme(legend.position = \"none\")\n"
            ]
        },
        {
            "cell_type": "markdown",
            "metadata": {},
            "source": "\n"
        },
        {
            "cell_type": "code",
            "execution_count": null,
            "metadata": {},
            "outputs": [],
            "source": [
                "ggplot(plotdata, aes(x = Date, y = Prepositions, linetype = GenreRedux, color = GenreRedux)) +\n",
                "  geom_smooth(se = F) +  \n",
                "  theme(legend.position = c(0.2, 0.7)) \n"
            ]
        },
        {
            "cell_type": "markdown",
            "metadata": {},
            "source": [
                "\n",
                "\n"
            ]
        },
        {
            "cell_type": "code",
            "execution_count": null,
            "metadata": {},
            "outputs": [],
            "source": [
                "ggplot(plotdata, aes(x = Date, y = Prepositions, linetype = GenreRedux, color = GenreRedux)) +\n",
                "  geom_smooth(se = F) + \n",
                "  guides(color=guide_legend(override.aes=list(fill=NA))) +  \n",
                "  theme(legend.position = \"top\", \n",
                "        legend.text = element_text(color = \"green\")) +\n",
                "  scale_linetype_manual(values=1:5, \n",
                "                        name=c(\"Genre\"),\n",
                "                        breaks = names(table(plotdata$GenreRedux)),\n",
                "                        labels = names(table(plotdata$GenreRedux))) + \n",
                "  scale_colour_manual(values=c(\"red\", \"gray30\", \"blue\", \"orange\", \"gray80\"),\n",
                "                      name=c(\"Genre\"),\n",
                "                      breaks=names(table(plotdata$GenreRedux)),  \n",
                "                      labels = names(table(plotdata$GenreRedux)))\n"
            ]
        },
        {
            "cell_type": "markdown",
            "metadata": {},
            "source": [
                "# Citation & Session Info {-}\n",
                "\n",
                "Schweinberger, Martin. 2020. *Introduction to Data Visualization in R*. Brisbane: The University of Queensland. url: https://slcladal.github.io/introviz.html  (Version `r format(Sys.time(), '%Y.%m.%d')`).\n"
            ]
        },
        {
            "cell_type": "code",
            "execution_count": null,
            "metadata": {},
            "outputs": [],
            "source": [
                "@manual{schweinberger2021introviz,\n",
                "  author = {Schweinberger, Martin},\n",
                "  title = {Introduction to Data Visualization in R},\n",
                "  note = {https://slcladal.github.io/introviz.html},\n",
                "  year = {2021},\n",
                "  organization = \"The University of Queensland, School of Languages and Cultures},\n",
                "  address = {Brisbane},\n",
                "  edition = {`r format(Sys.time(), '%Y.%m.%d')`}\n",
                "}\n"
            ]
        },
        {
            "cell_type": "markdown",
            "metadata": {},
            "source": [
                "\n",
                "\n"
            ]
        },
        {
            "cell_type": "code",
            "execution_count": null,
            "metadata": {},
            "outputs": [],
            "source": [
                "sessionInfo()\n",
                "\n"
            ]
        },
        {
            "cell_type": "markdown",
            "metadata": {},
            "source": [
                "***\n",
                "\n",
                "[Back to top](#introduction)\n",
                "\n",
                "[Back to HOME](https://slcladal.github.io/index.html)\n",
                "\n",
                "***\n",
                "\n",
                "# References {-}\n"
            ]
        }
    ],
    "metadata": {
        "anaconda-cloud": "",
        "kernelspec": {
            "display_name": "R",
            "langauge": "R",
            "name": "ir"
        },
        "language_info": {
            "codemirror_mode": "r",
            "file_extension": ".r",
            "mimetype": "text/x-r-source",
            "name": "R",
            "pygments_lexer": "r",
            "version": "3.4.1"
        }
    },
    "nbformat": 4,
    "nbformat_minor": 1
}
