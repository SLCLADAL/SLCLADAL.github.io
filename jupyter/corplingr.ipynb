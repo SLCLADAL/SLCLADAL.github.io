{
    "cells": [
        {
            "cell_type": "markdown",
            "metadata": {},
            "source": [
                "<!--html_preserve-->\n",
                "<!-- Global site tag (gtag.js) - Google Analytics -->\n",
                "<script async src=\"https://www.googletagmanager.com/gtag/js?id=UA-130562131-1\"><\/script>\n",
                "<script>\n",
                "  window.dataLayer = window.dataLayer || [];\n",
                "  function gtag(){dataLayer.push(arguments);}\n",
                "  gtag('js', new Date());\n",
                "\n",
                "  gtag('config', 'UA-130562131-1');\n",
                "<\/script>\n",
                "<!--/html_preserve-->\n"
            ]
        },
        {
            "cell_type": "code",
            "execution_count": null,
            "metadata": {},
            "outputs": [],
            "source": [
                "knitr::include_graphics(\"https://slcladal.github.io/images/uq1.jpg\")\n",
                "\n"
            ]
        },
        {
            "cell_type": "markdown",
            "metadata": {},
            "source": [
                "# Introduction{-}\n",
                "\n",
                "This section presents different case studies or use cases that highlight how to do corpus-based analyses by implementing procedures shown in other LADAL tutorials. In other words, here we aim to show how the content of other tutorials can be put into practice. However, please keep in mind that the case studies  merely aim to exemplify ways in which R can be used in language-based research - rather than providing detailed procedures on how to do corpus-based research. The R markdown document of this case study can be downloaded [here](https://slcladal.github.io/rscripts/corplingr.Rmd).\n",
                "\n",
                "# What is Corpus Linguistics?{-}\n"
            ]
        },
        {
            "cell_type": "code",
            "execution_count": null,
            "metadata": {},
            "outputs": [],
            "source": [
                "knitr::include_graphics(\"https://slcladal.github.io/images/antconc.png\")\n",
                "\n"
            ]
        },
        {
            "cell_type": "markdown",
            "metadata": {},
            "source": [
                "Corpus Linguistics (CL) can be considered both a methodology and a field of study. The defining feature of corpus linguistics research is the use of corpora (plural of corpus) to understand language [@biber1998corpus]. A corpus is a collection of machine-readable (electronic) texts and CL emerged in the 1960s, but only really expanded since the 1990s when the use fo computers and software made it possible for researchers to analyze corpora efficiently [@lindquist2009corpus].\n",
                "\n",
                "The texts represented in a corpus can be very different in nature and reflect many different uses of language - texts in corpora can, for example, represent news paper articles, parliamentary debates, dinner conversations, mothers talking to children, interviews, student essays, letters, lectures, etc. [@mcenery2001corpuslinguistics].\n",
                "\n",
                "Corpora can also be very different. *Monitor corpora*, for example, aim to represent the whole variety of contexts in which people speaking a particular language, e.g. English, use that language. *Specialized corpora*, however, try to reflect language use in a specific context or register, for example the use of English in Academia or in business transactions or, for instance, how parents talk with children. \n"
            ]
        },
        {
            "cell_type": "code",
            "execution_count": null,
            "metadata": {},
            "outputs": [],
            "source": [
                "knitr::include_graphics(\"https://slcladal.github.io/images/quantcl_gries.png\")\n",
                "\n"
            ]
        },
        {
            "cell_type": "markdown",
            "metadata": {},
            "source": [
                "In addition, we can differentiate between diachronic (or historical) and synchronic corpora: *diachronic corpora* contain language samples collected across different points in time so that changes in the use of language can be studied. *Synchronic corpora* represent language samples collected at one point (or period) in time and aim to reflect the state of language use during that one period (monitor corpora are typically synchronic). \n",
                "\n",
                "\n",
                "In addition to providing examples of actual, naturally occurring language use, corpora offer frequency and probability information. In other words, corpora provide information of how frequent certain phenomena or linguistic variants are compared to other phenomena and which factors condition their use  [@gries2009whatiscorpuslinguistics]. \n",
                "\n",
                "The use of corpora has increased dramatically as corpora offer a relatively cheap, comparatively easy, flexible, and externally valid method for analyzing language use and testing hypotheses about linguistic behavior.\n",
                "\n",
                "## Notes on loading corpus data into R{-}\n",
                "\n",
                "Before we continue with the case studies, it is important to see how what we will be doing in the case studies differs from what you will most likely do if you conduct corpus-based research.\n",
                "\n",
                "If a corpus is not accessed via a web application, corpora (collections of electronic language samples) typically - almost always - come in the form of text or audio files in a folder. That is, when using corpora, researchers typically download that corpus from a repository (for instance a website) or from some other storage media (for instance a CD, USB-stick, etc.). This means that non-web-based corpora are typically somewhere on a researcher's computer where they can then be loaded into some software, e.g. AntConc. \n",
                "\n",
                "For the present tutorial, however, we will simply load data that is available via the LADAL GitHub repository. Nonetheless, it is important to know how to load corpus data into R - which is why I will show this below. \n",
                "\n",
                "Loading corpus data into R consists of two steps: \n",
                "\n",
                "1. create a list of paths of the corpus files\n",
                "\n",
                "2. loop over these paths and load the data in the files identified by the paths.\n",
                "\n",
                "To create a list of corpus files, you could use the code chunk below (the code chunk assumes that the corpus data is in a folder called *Corpus* in the *data* sub-folder of your Rproject folder).\n"
            ]
        },
        {
            "cell_type": "code",
            "execution_count": null,
            "metadata": {},
            "outputs": [],
            "source": [
                "corpusfiles <- list.files(here::here(\"data/Corpus\"), # path to the corpus data\n",
                "                          # file types you want to analyze, e.g. txt-files\n",
                "                          pattern = \".*.txt\",\n",
                "                          # full paths - not just the names of the files\n",
                "                          full.names = T)            \n"
            ]
        },
        {
            "cell_type": "markdown",
            "metadata": {},
            "source": [
                "You can then use the `sapply` function to loop over the paths and load the data int R using e.g. the `scan` function as shown below. In addition to loading the file content, we also paste all the content together using the `paste0` function and remove superfluous white spaces using the `str_squish` function from the `stringr` package.\n",
                "\n"
            ]
        },
        {
            "cell_type": "code",
            "execution_count": null,
            "metadata": {},
            "outputs": [],
            "source": [
                "corpus <- sapply(corpusfiles, function(x){\n",
                "  x <- scan(x, \n",
                "            what = \"char\", \n",
                "            sep = \"\", \n",
                "            quote = \"\", \n",
                "            quiet = T, \n",
                "            skipNul = T)\n",
                "  x <- paste0(x, sep = \" \", collapse = \" \")\n",
                "  x <- stringr::str_squish(x)\n",
                "})\n"
            ]
        },
        {
            "cell_type": "markdown",
            "metadata": {},
            "source": [
                "Once you have loaded your data into R, you can then continue with processing and transforming the data according to your needs.\n",
                "\n",
                "> NOTE\n",
                "> \n",
                "> There are many different ways in which you can load text data into R. What I have shown above is just one way of doing this. However, I found this procedure to load text data very useful. In the  case study which exemplifies how you can analyze sociolinguistic variation, we show how you can load text data in a very similar yet slightly different way (the tidyverse style of loading text data).\n",
                "\n",
                "## Preparation and session set up{-}\n",
                "\n",
                "The case studies shown below are based on R. Thus, you should already be familiar with R and Rstudio. If you have not installed R or are new to it, you will find an introduction to and more information how to use R [here](https://slcladal.github.io/intror.html). In addition, it is recommended to be familiar with regular expressions ([this tutorials](https://slcladal.github.io/regex.html) contains an overview of regular expressions that are used in this tutorial). \n",
                "\n",
                "You should also have downloaded  and installed R and RStudio. [This tutorial](https://slcladal.github.io/intror.html) contains links to detailed how-tos on how to download and install R and RStudio.\n",
                "\n",
                "For this case study, we need to install certain *packages* from an R *library* so that the scripts shown below are executed without errors. Before turning to the code below, please install the packages by running the code below this paragraph. If you have already installed the packages mentioned below, then you can skip ahead ignore this section. To install the necessary packages, simply run the following code - it may take some time (between 1 and 5 minutes to install all of the libraries so you do not need to worry if it takes some time).\n"
            ]
        },
        {
            "cell_type": "code",
            "execution_count": null,
            "metadata": {},
            "outputs": [],
            "source": [
                "# installing packages\n",
                "install.packages(\"tidyverse\")\n",
                "install.packages(\"flextable\")\n",
                "install.packages(\"knitr\")\n",
                "install.packages(\"here\"))\n",
                "install.packages(\"quanteda\")\n",
                "install.packages(\"cfa\")\n"
            ]
        },
        {
            "cell_type": "markdown",
            "metadata": {},
            "source": "\n"
        },
        {
            "cell_type": "code",
            "execution_count": null,
            "metadata": {},
            "outputs": [],
            "source": [
                "# set options\n",
                "options(stringsAsFactors = F)         # no automatic data transformation\n",
                "options(\"scipen\" = 100, \"digits\" = 4) # suppress math annotation\n",
                "# load packages\n",
                "library(tidyverse)\n",
                "library(flextable)\n",
                "library(knitr)\n",
                "library(here)\n",
                "library(quanteda)\n",
                "library(cfa)\n"
            ]
        },
        {
            "cell_type": "markdown",
            "metadata": {},
            "source": [
                "Once you have installed R-Studio and initiated the session by executing the code shown above, you are good to go.\n",
                "\n",
                "# Studying First Language Acquisiton{-}\n",
                "\n",
                "This case study shows how you can use and analyze the *Child Language Data Exchange System* (CHILDES) [@macwhinney1996childes] data base using R to show case how you can use it in your own studies. This section of the tutorials consists of two parts: \n",
                "\n",
                "* in the first part, we load, process, and transform the data so that we have all pieces of information in a tidy table format. \n",
                "\n",
                "* in the second part, we perform selected case studies showing how to extract information form the table we have created out of the corpus files.\n",
                "\n",
                "The first part is necessary because the corpus data comes in the CHILDSE comes in a special format that makes it somewhat tedious to extract information from it. Thus, we want to separate all information in different columns. In the end, the corpus data should have the following format:\n"
            ]
        },
        {
            "cell_type": "code",
            "execution_count": null,
            "metadata": {},
            "outputs": [],
            "source": [
                "id <- data.frame(1:6)\n",
                "id <- id %>%\n",
                "  dplyr::rename(\"id\" = colnames(id)[1]) %>%\n",
                "  dplyr::mutate(file = c(\"aab\", \"aab\", \"aab\", \"aab\", \"aab\", \"aab\"),\n",
                "                childage = c(\"4;6\", \"4;6\", \"4;6\", \"4;6\", \"4;6\", \"4;6\"),\n",
                "                child = c(\"ben\", \"ben\", \"ben\", \"ben\", \"ben\", \"ben\"),\n",
                "                speaker = c(\"MOT\", \"MOT\", \"ben\", \"MOT\", \"ben\", \"MOT\"),\n",
                "                utterance = c(\"How are you ?\", \"Ben ?\", \"Okay\", \"Are you hungry ?\", \"No\", \"Sure ?\"),\n",
                "                tagged = c(\"How|WH are|BE you|PN ?|PC\", \"Ben|NNP ?|PC\", \"Okay|RB\", \"Are|BE you|PN hungry|JJ ?|PC\", \"No|NG\", \"Sure|RB ?|PC\"),\n",
                "                comment = c(\"\", \"\", \"\", \"\", \"shakes head\", \"\"))\n",
                "# inspect data\n",
                "flextable::flextable(id) %>%\n",
                "  flextable::autofit()\n"
            ]
        },
        {
            "cell_type": "markdown",
            "metadata": {},
            "source": [
                "So, after the processing, the data should contain each utterance in a separate line and each line should also contain information about the speaker and the file.\n",
                "\n",
                "\n",
                "## Using CHILDES data{-}\n",
                "\n",
                "The [*Child Language Data Exchange System* (CHILDES)](https://childes.talkbank.org/) [@macwhinney1996childes] is a browsable data base which provides corpora consisting of transcripts of conversations with children. CHILDES was established in 1984 by Brian MacWhinney and Catherine Snow and it represents the central repository for data of first language acquisition. Its earliest transcripts date from the 1960s, and it now has contents (transcripts, audio, and video) in 26 languages from 130 different corpora, all of which are publicly available worldwide. \n"
            ]
        },
        {
            "cell_type": "code",
            "execution_count": null,
            "metadata": {},
            "outputs": [],
            "source": [
                "knitr::include_graphics(\"https://slcladal.github.io/images/childes01.png\")\n",
                "\n"
            ]
        },
        {
            "cell_type": "markdown",
            "metadata": {},
            "source": [
                "CHILDES is the child language part of the TalkBank system which is a system for sharing and studying conversational interactions.\n",
                "\n",
                "<br><br>\n",
                "\n",
                "To download corpora from CHILDES:\n",
                "\n",
                "* Go to the [CHILDES website](https://childes.talkbank.org/) - the landing page looks like the website shown in the image to the right. For the present tutorial, the only relevant part of that website is section labeled *Database* which contains the links to the different CHILDS corpora that you can download fro free. \n",
                "\n",
                "\n",
                "* In the section called *Database* click on *Index to Corpora* which will take you to a table which contains links to different kinds of corpora - all containing transcripts of children's speech. The types of corpora available cover many different language, including monolingual and bilingual children, children with speech disorders, transcripts of frog stories, etc. \n"
            ]
        },
        {
            "cell_type": "code",
            "execution_count": null,
            "metadata": {},
            "outputs": [],
            "source": [
                "knitr::include_graphics(\"https://slcladal.github.io/images/childes02.png\")\n",
                "\n"
            ]
        },
        {
            "cell_type": "markdown",
            "metadata": {},
            "source": [
                "* To download a corpus, click on one of the section, e.g. on *Eng-NA* which stands for *English recorded in North America* (but you can, of course, also download other CHILDES corpora), and then scroll down to the corpus you are interested in and click on it, e.g. scroll down to and click on *HSLLD*. \n",
                "\n"
            ]
        },
        {
            "cell_type": "code",
            "execution_count": null,
            "metadata": {},
            "outputs": [],
            "source": [
                "knitr::include_graphics(\"https://slcladal.github.io/images/childes03.png\")\n",
                "\n"
            ]
        },
        {
            "cell_type": "markdown",
            "metadata": {},
            "source": [
                "* Click on *Download transcripts* and then download and store the zip-folder somewhere on your computer.\n",
                "\n",
                "* Next, unzip the zip-file and store the resulting unzipped corpus in the *data* sub-folder in your Rproject folder.\n",
                "\n",
                "Once you have downloaded, stored the data on your computer, and unzipped it, you are good to go and you can now access and analyze data from CHILDES.\n",
                "\n",
                "<br><br>\n",
                "\n",
                "## HSLLD corpus{-}\n",
                "\n",
                "For this case study, we will use data from the *Home-School Study of Language and Literacy Development* corpus (HSLLD)  which part of the CHILDES data base. The *Home-School Study of Language and Literacy Development* began in 1987 under the leadership of  Patton Tabors and with Catherine E. Snow and David K. Dickinson as  primary investigators. The original purpose of the HSLLD was to investigate the social prerequisites to literacy success. \n",
                "\n",
                "The initial number of participants was 83 American English speaking, racially diverse, preschool age children from low-income families growing up in or around Boston, Massachusetts. Seventy-four of these children were still participating at age 5. The sample consists of 38 girls and 36 boys. Forty-seven children were Caucasian, 16 were African American, six were of Hispanic origin, and five were biracial. \n",
                "\n",
                "Children were visited once a year in their home from age 3 – 5 and then again when they were in 2nd and 4th grade. Each visit lasted between one and three hours. Home visits consisted of a number of different tasks depending on the year. An outline of the different tasks for each visit is presented below. \n",
                "\n",
                "Activities during **Home Visit 1** (HV1): Book reading (BR), Elicited report (ER), Mealtime (MT), Toy Play (TP)  \n",
                "\n",
                "Activities during **Home Visit 2** (HV2): Book reading (BR), Elicited report (ER), Mealtime (MT), Toy Play (TP)  \n",
                "\n",
                "Activities during **Home Visit 3** (HV3): Book reading (BR), Elicited report (ER), Experimental task (ET), Mealtime (MT), Reading (RE), Toy play (TP)  \n",
                "\n",
                "Activities during **Home Visit 5** (HV5): Book reading (BR), Letter writing (LW), Mealtime (MT)  \n",
                "\n",
                "Activities during **Home Visit 7** (HV7): Experimental task (ET), Letter writing (LW), Mother definitions (MD), Mealtime (MT)  \n",
                "\n",
                "## Data processing{-}\n",
                "\n",
                "We now load the data and inspect its structure using the `str` function - as the HSLLD has many files, we will only check the first 3.\n"
            ]
        },
        {
            "cell_type": "code",
            "execution_count": null,
            "metadata": {},
            "outputs": [],
            "source": [
                "url = \"https://slcladal.github.io/data/hslld.rda\"\n",
                "download.file(url,\"hslld.rds\", method=\"curl\")\n",
                "hslld <- readRDS(\"hslld.rds\")\n",
                "# inspect\n",
                "str(hslld[1:3])\n"
            ]
        },
        {
            "cell_type": "markdown",
            "metadata": {},
            "source": [
                "We continue and split the data up into files. The `sapply` function loops each element in the `hslld` object and performs specified actions on the (here, loading the content via the `scan` function, getting rid of white spaces and splitting the files when it finds the following sequences `*ABC1:` or `%ABC:`)\n",
                "\n"
            ]
        },
        {
            "cell_type": "code",
            "execution_count": null,
            "metadata": {},
            "outputs": [],
            "source": [
                "# create version of corpus fit for concordancing\n",
                "corpus <- sapply(hslld, function(x) {\n",
                "  # clean data\n",
                "  x <- stringr::str_trim(x, side = \"both\") # remove superfluous white spaces at the edges of strings\n",
                "  x <- stringr::str_squish(x)              # remove superfluous white spaces within strings\n",
                "  x <- paste0(x, collapse = \" \")           # paste all utterances ina file together\n",
                "  # split files into indivisual utterances\n",
                "  x <- strsplit(gsub(\"([%|*][a-z|A-Z]{2,4}[0-9]{0,1}:)\", \"~~~\\\\1\", x), \"~~~\")\n",
                "})\n",
                "# inspect results\n",
                "str(corpus[1:3])\n"
            ]
        },
        {
            "cell_type": "markdown",
            "metadata": {},
            "source": [
                "We have now loaded the files into R, but the format is not yet structured in a wqy thatwe can use it - remember: we want the data to be in a tabular format.\n",
                "\n",
                "**Extract file information**\n",
                "\n",
                "Now, we extract information about the recording, e.g., the participants, the age of the child, the date of the recording etc. For this, we extract the first element of each file (because this first element contains all the relevant information bout the recording). To do this, we again use the `sapply` function (which is our looping function) and then tell R that it shall only retain the first element of each element (`x <- x[1]`).\n"
            ]
        },
        {
            "cell_type": "code",
            "execution_count": null,
            "metadata": {},
            "outputs": [],
            "source": [
                "# extract file info for each file\n",
                "fileinfo <- sapply(corpus, function(x){ \n",
                "  # extract first element of each corpus file because this contains the file info\n",
                "  x <- x[1]\n",
                "  })\n",
                "#inspect\n",
                "fileinfo[1:3]\n"
            ]
        },
        {
            "cell_type": "markdown",
            "metadata": {},
            "source": [
                "Now, we have one element for each file that contains all the relevant information about the file, like when the recording took place, how old the target child was, how was present during the recording etc.\n",
                "\n",
                "**Extract file content**\n",
                "\n",
                "Now, we extract the raw content from which we will extract the speaker, the utterance, the pos-tagged utterance, and any comments.Here, we loop over the `corpus` object with the `sapply` function and we remove the first element in each list (and we retain the second to last element of each element (`x <- x[2:length(x)]`)), then we paste everything else together using the `paste0` function and then, we split the whole conversation into utterances that start with a speaker id (e.g. `*MOT:`). The latter is done by the sequence `stringr::str_split(stringr::str_replace_all(x, \"(\\\\*[A-Z])\", \"~~~\\\\1\"), \"~~~\")`.\n",
                "\n",
                "  \n"
            ]
        },
        {
            "cell_type": "code",
            "execution_count": null,
            "metadata": {},
            "outputs": [],
            "source": [
                "content <- sapply(corpus, function(x){\n",
                "  x <- x[2:length(x)]\n",
                "  x <- paste0(x, collapse = \" \")\n",
                "  x <- stringr::str_split(stringr::str_replace_all(x, \"(\\\\*[A-Z])\", \"~~~\\\\1\"), \"~~~\")\n",
                "})\n",
                "# inspect data\n",
                "content[[1]][1:6]\n"
            ]
        },
        {
            "cell_type": "markdown",
            "metadata": {},
            "source": [
                "The data now consists of utterances but also the pos-tagged utterances and any comments. However, we use this form of the data to extract the clean utterances, the pos-tagged utterances and the comments and store them in different columns. \n",
                "\n",
                "\n",
                "**Extract information**\n",
                "\n",
                "Now, we extract how many elements (or utterances) there are in each file by looping over the `content` object and extracting the number of elements within each element of the `content` object by using the `lenght` function. \n"
            ]
        },
        {
            "cell_type": "code",
            "execution_count": null,
            "metadata": {},
            "outputs": [],
            "source": [
                "elements <- sapply(content, function(x){\n",
                "  x <- length(x)\n",
                "})\n",
                "# inspect\n",
                "head(elements)\n"
            ]
        },
        {
            "cell_type": "markdown",
            "metadata": {},
            "source": [
                "**Generate table**\n",
                "\n",
                "We now have the file names, the metadata for each file, and the content of each file (that is split into utterances). We use this information to generate a first table which holds the file name in one column, the file information in one column, and the raw file content in another column. To combine these three pieces of information though, we need to repeat the file names and the file information as often as there are utterances in each file. We perform this repetition using the `rep` function. Once we have as many file names and file information as there are utterances in each file, we can combine these three vectors into a table using the `data.frame` function. \n"
            ]
        },
        {
            "cell_type": "code",
            "execution_count": null,
            "metadata": {},
            "outputs": [],
            "source": [
                "files <- rep(names(elements), elements)\n",
                "fileinfo <- rep(fileinfo, elements)\n",
                "rawcontent <- as.vector(unlist(content))\n",
                "chitb <- data.frame(1:length(rawcontent),\n",
                "                    files,\n",
                "                    fileinfo,\n",
                "                    rawcontent)\n"
            ]
        },
        {
            "cell_type": "markdown",
            "metadata": {},
            "source": [
                "The table in its current form is shown below. We can see that the table has three columns: the first column holds the path to each file, the second contains the file information, and the third the utterances.\n",
                "\n"
            ]
        },
        {
            "cell_type": "code",
            "execution_count": null,
            "metadata": {},
            "outputs": [],
            "source": [
                "# inspect data\n",
                "chitb %>% \n",
                "  head(3) %>%\n",
                "  flextable::flextable() %>%\n",
                "  flextable::set_table_properties(width = .75, layout = \"autofit\") %>%\n",
                "  flextable::theme_zebra() %>%\n",
                "  flextable::fontsize(size = 12) %>%\n",
                "  flextable::fontsize(size = 12, part = \"header\") %>%\n",
                "  flextable::align_text_col(align = \"center\") %>%\n",
                "  flextable::border_outer()\n"
            ]
        },
        {
            "cell_type": "markdown",
            "metadata": {},
            "source": [
                "**Process table**\n",
                "\n",
                "We can now use the information in the two last columns to extract specific pieces of information from the data (which we will store in additional columns that we add to the table). But first, we rename the `id` column (which is simply an index of each utterance) using the `rename` function from the `dplyr` package. Then, we clean the file name column (called `files`) so that it only contains the name of the file, so we remove the rest of the path information that we do not need anymore. We do this by using the `mutate` function from the `dplyr` package  (which changes columns or creates new columns). Within the `mutate` function, we use the `gsub` function which substitutes something with something else: here the full path is replaced with on that part of the path that contains the file name. The `gsub` function has the following form\n",
                "\n",
                "> gsub(*look for pattern*, *replacement of the pattern*, object)\n",
                "\n",
                "This means that the `gsub` function needs an object and in that object it looks for a pattern and then replaces instances f that pattern with something.\n",
                "\n",
                "In our case, that what we look for is the file name which is located between the symbol `/` and the file ending (`.cha`). So, we extract everything that comes between a `/` and a `.cha` in the path and keep that what is between the `/` and a `.cha`  in R's memory (this is done by placing something in round brackets in a regular expression). Then, we paste that what we have extracted back (and which is stored in memory) by using the `\\\\1` which grabs the first element that is in memory and puts it into the *replace with* part of the `gsub` function. \n"
            ]
        },
        {
            "cell_type": "code",
            "execution_count": null,
            "metadata": {},
            "outputs": [],
            "source": [
                "hslld <- chitb %>%\n",
                "  # rename id column\n",
                "  dplyr::rename(id = colnames(chitb)[1]) %>%\n",
                "  # clean file names\n",
                "  dplyr::mutate(files = gsub(\".*/(.*?).cha\", \"\\\\1\", files))\n"
            ]
        },
        {
            "cell_type": "markdown",
            "metadata": {},
            "source": [
                "Let's have a look at the data.\n",
                "\n"
            ]
        },
        {
            "cell_type": "code",
            "execution_count": null,
            "metadata": {},
            "outputs": [],
            "source": [
                "# inspect data\n",
                "# inspect data\n",
                "hslld %>% \n",
                "  head() %>%\n",
                "  flextable::flextable() %>%\n",
                "  flextable::set_table_properties(width = .75, layout = \"autofit\") %>%\n",
                "  flextable::theme_zebra() %>%\n",
                "  flextable::fontsize(size = 12) %>%\n",
                "  flextable::fontsize(size = 12, part = \"header\") %>%\n",
                "  flextable::align_text_col(align = \"center\") %>%\n",
                "  flextable::border_outer()\n"
            ]
        },
        {
            "cell_type": "markdown",
            "metadata": {},
            "source": [
                "We now continue in the same manner (by remove what is before what interests us and what comes after) and thereby extract pieces of information that we store in new columns.\n",
                "\n",
                "Creating a speaker column. We create a new column called `speaker` using the `mutate` function from the `dplyr` package. Then, we use the `str_replace_all` function from the `stringr` package to remove everything that comes after a `:`. *Everything that comes after* can be defined by a regular expression - in this case the sequence `.*`. The `.` is a regular expression that stands for *any symbol* - be it a letter, or a number, or any punctuation symbol, or a white space. The `*` is a numerating regular expression that tells R how many times the regular expression (the `.`) is repeated - in our case, the `*` stands for *zero to an infinite number*. So the sequence `.*` stands for any symbol, repeated zero to an infinite number of times. In combination, the sequence `:.*` stands for *look for a colon and anything that comes after. And because we have put this into the `str_replace_all` function, the colon adn everything that comes after is removed.\n"
            ]
        },
        {
            "cell_type": "code",
            "execution_count": null,
            "metadata": {},
            "outputs": [],
            "source": [
                "hslld <- hslld %>%  \n",
                "  dplyr::mutate(speaker = stringr::str_remove_all(rawcontent, \":.*\"),\n",
                "                speaker = stringr::str_remove_all(speaker, \"\\\\W\"))\n"
            ]
        },
        {
            "cell_type": "markdown",
            "metadata": {},
            "source": [
                "In the following, we will create many different columns, but we will always follow the same scheme: generate a new column using the `mutate` function from the `dplyr` package and then remove stuff that we do not need by using the `str_remove_all` function from the `stringr` package or just the `gsub` function - which is a simple replacement function. We can also use `str_squish` to get rid of superfluous white spaces. We will always remove sequences that are defined by a string (a sequence of characters and a regular expression consisting of the regular expression that determines what type of symbol R is supposed to look for and a numerator which tells R how many times that symbol can occur). For example, `%mor:.*` tells R to look for the sequence `%mor:` and any symbol, repeated between zero and an infinite number of times, that comes after the `%mor:` sequence. As thsi is put into the `str_replace_all` function and applied to the `rawcontent` file, it will replace everything that comes after `%mor:` and the sequence `%mor:` itself.\n",
                "\n",
                "Creating an utterance column.\n"
            ]
        },
        {
            "cell_type": "code",
            "execution_count": null,
            "metadata": {},
            "outputs": [],
            "source": [
                "hslld <- hslld %>%  \n",
                "  dplyr::mutate(utterance = stringr::str_remove_all(rawcontent, \"%mor:.*\"),\n",
                "                utterance = stringr::str_remove_all(utterance, \"%.*\"),\n",
                "                utterance = stringr::str_remove_all(utterance, \"\\\\*\\\\w{2,6}:\"),\n",
                "                utterance = stringr::str_squish(utterance))\n"
            ]
        },
        {
            "cell_type": "markdown",
            "metadata": {},
            "source": [
                "Creating a column with the pos-tagged utterances.\n",
                "\n"
            ]
        },
        {
            "cell_type": "code",
            "execution_count": null,
            "metadata": {},
            "outputs": [],
            "source": [
                "hslld <- hslld %>%  \n",
                "  dplyr::mutate(postag = stringr::str_remove_all(rawcontent, \".*%mor:\"),\n",
                "                postag = stringr::str_remove_all(postag, \"%.*\"),\n",
                "                postag = stringr::str_remove_all(postag, \"\\\\*\\\\w{2,6}:\"),\n",
                "                postag = stringr::str_squish(postag))\n"
            ]
        },
        {
            "cell_type": "markdown",
            "metadata": {},
            "source": [
                "Creating a  column with comments. In the following chunk, we use the `?` in combination with `.*`. In this case, the `?` does not mean the literal symbol `?` but it tells R to be what is called *non-greedy* which means that R will look for something until the first occurrence of something. So the sequence `.*?%` tells R to look for any symbol repeated between zero and an infinite number of times until *the first occurrence*(!) of the symbol `%`. If we did not include the `?`, R would look until the last (not the first) occurrence of `%`.\n",
                "\n"
            ]
        },
        {
            "cell_type": "code",
            "execution_count": null,
            "metadata": {},
            "outputs": [],
            "source": [
                "hslld <- hslld %>%  \n",
                "  dplyr::mutate(comment = stringr::str_remove_all(rawcontent, \".*%mor:\"),\n",
                "                comment = stringr::str_remove(comment, \".*?%\"),\n",
                "                comment = stringr::str_remove_all(comment, \".*|.*\"),\n",
                "                comment = stringr::str_squish(comment))\n"
            ]
        },
        {
            "cell_type": "markdown",
            "metadata": {},
            "source": [
                "Creating a  column with the participants that were present during the recording.\n",
                "\n"
            ]
        },
        {
            "cell_type": "code",
            "execution_count": null,
            "metadata": {},
            "outputs": [],
            "source": [
                "hslld <- hslld %>%  \n",
                "  dplyr::mutate(participants = gsub(\".*@Participants:(.*?)@.*\", \"\\\\1\", fileinfo))\n"
            ]
        },
        {
            "cell_type": "markdown",
            "metadata": {},
            "source": [
                "Creating a  column with the age of the target child. In the following, the sequence `[0-9]{1,3}` means look for any sequence containing between 1 and 3 (this is defined by the `{1,3}`) numbers (the numbers are defined by the `[0-9]` part). Also, when we put `\\\\` before something, then we tell R that this refers to the actual symbol and not its meaning as a regular expression. For example, the symbol `|` is a regular expression that means *or* as in *You can paint my walls blue OR orange*, but if we put `\\\\` before `|`, we tell R that we really mean the symbol `|`.\n",
                "\n"
            ]
        },
        {
            "cell_type": "code",
            "execution_count": null,
            "metadata": {},
            "outputs": [],
            "source": [
                "hslld <- hslld %>%\n",
                "  dplyr::mutate(age_targetchild = gsub(\".*\\\\|([0-9]{1,3};[0-9]{1,3}\\\\.[0-9]{1,3})\\\\|.*\", \"\\\\1\", fileinfo)) \n"
            ]
        },
        {
            "cell_type": "markdown",
            "metadata": {},
            "source": [
                "Creating a  column with the age of the target child in years.\n",
                "\n"
            ]
        },
        {
            "cell_type": "code",
            "execution_count": null,
            "metadata": {},
            "outputs": [],
            "source": [
                "hslld <- hslld %>%\n",
                "  dplyr::mutate(age_years_targetchild = stringr::str_remove_all(age_targetchild, \";.*\")) \n"
            ]
        },
        {
            "cell_type": "markdown",
            "metadata": {},
            "source": [
                "Creating a  column with the gender of the target child.\n",
                "\n"
            ]
        },
        {
            "cell_type": "code",
            "execution_count": null,
            "metadata": {},
            "outputs": [],
            "source": [
                "hslld <- hslld %>%\n",
                "  dplyr::mutate(gender_targetchild = gsub(\".*\\\\|([female]{4,6})\\\\|.*\", \"\\\\1\", fileinfo))\n"
            ]
        },
        {
            "cell_type": "markdown",
            "metadata": {},
            "source": [
                "Creating columns with the date-of-birth of the target child, more comments, and the date of the recording.\n",
                "\n"
            ]
        },
        {
            "cell_type": "code",
            "execution_count": null,
            "metadata": {},
            "outputs": [],
            "source": [
                "hslld <- hslld %>%  \n",
                "  # create dob_targetchild column\n",
                "  dplyr::mutate(dob_targetchild = gsub(\".*@Birth of CHI:(.*?)@.*\",\"\\\\1\", fileinfo)) %>%\n",
                "  # create comment_file column\n",
                "  dplyr::mutate(comment_file = gsub(\".*@Comment: (.*?)@.*\", \"\\\\1\", fileinfo)) %>%\n",
                "  # create date column\n",
                "  dplyr::mutate(date = gsub(\".*@Date: (.*?)@.*\", \"\\\\1\", fileinfo))\n"
            ]
        },
        {
            "cell_type": "markdown",
            "metadata": {},
            "source": [
                "Creating columns with the location where the recording took place and the situation type of the recording.\n",
                "\n"
            ]
        },
        {
            "cell_type": "code",
            "execution_count": null,
            "metadata": {},
            "outputs": [],
            "source": [
                "hslld <- hslld %>%  \n",
                "  # create location column,\n",
                "  dplyr::mutate(location = gsub(\".*@Location: (.*?)@.*\", \"\\\\1\", fileinfo)) %>%\n",
                "  # create situation column\n",
                "  dplyr::mutate(situation = gsub(\".*@Situation: (.*?)@.*\", \"\\\\1\", fileinfo))\n"
            ]
        },
        {
            "cell_type": "markdown",
            "metadata": {},
            "source": [
                "Creating columns with the activity during the recording and the homevisit number.\n",
                "\n"
            ]
        },
        {
            "cell_type": "code",
            "execution_count": null,
            "metadata": {},
            "outputs": [],
            "source": [
                "hslld <- hslld %>%  \n",
                "  # create homevisit_activity column\n",
                "  dplyr::mutate(homevisit_activity = stringr::str_remove_all(situation, \";.*\")) %>%\n",
                "  # create activity column\n",
                "  dplyr::mutate(activity = gsub(\".*@Activities: (.*?)@.*\", \"\\\\1\", fileinfo)) %>%\n",
                "  # create homevisit column\n",
                "  dplyr::mutate(homevisit = stringr::str_sub(files, 4, 6))\n"
            ]
        },
        {
            "cell_type": "markdown",
            "metadata": {},
            "source": [
                "Creating a column with the number of words in each utterance.\n",
                "\n"
            ]
        },
        {
            "cell_type": "code",
            "execution_count": null,
            "metadata": {},
            "outputs": [],
            "source": [
                "hslld <- hslld %>%  \n",
                "  # create words column\n",
                "  dplyr::mutate(words = stringr::str_replace_all(utterance, \"\\\\W\", \" \"),\n",
                "                words = stringr::str_squish(words),\n",
                "                words = stringr::str_count(words, \"\\\\w+\"))\n"
            ]
        },
        {
            "cell_type": "markdown",
            "metadata": {},
            "source": [
                "Cleaning the data: removing rows without speakers, rows where the age of the target child was incorrect, and removing superfluous columns.\n",
                "\n"
            ]
        },
        {
            "cell_type": "code",
            "execution_count": null,
            "metadata": {},
            "outputs": [],
            "source": [
                "hslld <- hslld %>%  \n",
                "  # remove rows without speakers (contain only metadata)\n",
                "  dplyr::filter(speaker != \"\") %>%\n",
                "  # remove rows with incorrect age of child\n",
                "  dplyr::filter(nchar(age_years_targetchild) < 5) %>%\n",
                "  # remove superfluous columns\n",
                "  dplyr::select(-fileinfo, -rawcontent, -situation)  %>%\n",
                "  # create words column\n",
                "  dplyr::mutate(collection = \"EngNA\",\n",
                "                corpus = \"HSLLD\") %>%\n",
                "  dplyr::rename(transcript_id = files) %>%\n",
                "    # code activity\n",
                "  dplyr::mutate(visit = substr(transcript_id, 6, 6)) %>%\n",
                "  dplyr::mutate(situation = substr(transcript_id, 4, 5),\n",
                "                situation = str_replace_all(situation, \"br\", \"Book reading\"),\n",
                "                situation = str_replace_all(situation, \"er\", \"Elicited report\"),\n",
                "                situation = str_replace_all(situation, \"et\", \"Experimental task\"),\n",
                "                situation = str_replace_all(situation, \"lw\", \"Letter writing\"),\n",
                "                situation = str_replace_all(situation, \"md\", \"Mother defined situation\"),\n",
                "                situation = str_replace_all(situation, \"mt\", \"Meal time\"),\n",
                "                situation = str_replace_all(situation, \"re\", \"Reading\"),\n",
                "                situation = str_replace_all(situation, \"tp\", \"Toy play\"))\n"
            ]
        },
        {
            "cell_type": "markdown",
            "metadata": {},
            "source": "\n"
        },
        {
            "cell_type": "code",
            "execution_count": null,
            "metadata": {},
            "outputs": [],
            "source": [
                "# inspect data\n",
                "hslld %>% \n",
                "  head() %>%\n",
                "  flextable::flextable() %>%\n",
                "  flextable::set_table_properties(width = .75, layout = \"autofit\") %>%\n",
                "  flextable::theme_zebra() %>%\n",
                "  flextable::fontsize(size = 12) %>%\n",
                "  flextable::fontsize(size = 12, part = \"header\") %>%\n",
                "  flextable::align_text_col(align = \"center\") %>%\n",
                "  flextable::border_outer()\n"
            ]
        },
        {
            "cell_type": "markdown",
            "metadata": {},
            "source": [
                "Now that we have the data in a format that we can use, we can use this table to continue with our case studies.\n",
                "\n",
                "## Case study 1: Use of NO {-}\n",
                "\n",
                "To extract all instances of a single word, in this example the word *no*, that are uttered by a specific interlocutor we filter by speaker and define that we only want rows where the speaker is equal to `CHI` (target child).\n"
            ]
        },
        {
            "cell_type": "code",
            "execution_count": null,
            "metadata": {},
            "outputs": [],
            "source": [
                "no <- hslld %>%\n",
                "  dplyr::filter(speaker == \"CHI\") %>%\n",
                "  dplyr::filter(stringr::str_detect(utterance, \"\\\\b[Nn][Oo]\\\\b\")) \n"
            ]
        },
        {
            "cell_type": "markdown",
            "metadata": {},
            "source": [
                "\n",
                "\n"
            ]
        },
        {
            "cell_type": "code",
            "execution_count": null,
            "metadata": {},
            "outputs": [],
            "source": [
                "# inspect data\n",
                "no %>% \n",
                "  head() %>%\n",
                "  flextable::flextable() %>%\n",
                "  flextable::set_table_properties(width = .75, layout = \"autofit\") %>%\n",
                "  flextable::theme_zebra() %>%\n",
                "  flextable::fontsize(size = 12) %>%\n",
                "  flextable::fontsize(size = 12, part = \"header\") %>%\n",
                "  flextable::align_text_col(align = \"center\") %>%\n",
                "  flextable::border_outer()\n"
            ]
        },
        {
            "cell_type": "markdown",
            "metadata": {},
            "source": [
                "We summarize the results in a table. \n",
                "\n"
            ]
        },
        {
            "cell_type": "code",
            "execution_count": null,
            "metadata": {},
            "outputs": [],
            "source": [
                "no_no <- no %>%\n",
                "  dplyr::group_by(transcript_id, gender_targetchild, age_years_targetchild) %>%\n",
                "  dplyr::summarise(nos = nrow(.))\n",
                "head(no_no)\n"
            ]
        },
        {
            "cell_type": "markdown",
            "metadata": {},
            "source": [
                "We can also extract the number of words uttered by children to check if the use of *no* shows a relative increase or decrease over time.\n",
                "\n"
            ]
        },
        {
            "cell_type": "code",
            "execution_count": null,
            "metadata": {},
            "outputs": [],
            "source": [
                "no_words <- hslld %>%\n",
                "  dplyr::filter(speaker == \"CHI\") %>%\n",
                "  dplyr::group_by(transcript_id, gender_targetchild, age_years_targetchild) %>%\n",
                "  dplyr::mutate(nos = stringr::str_detect(utterance, \"\\\\b[Nn][Oo]\\\\b\")) %>%\n",
                "  dplyr::summarise(nos = sum(nos),\n",
                "                   words = sum(words)) %>%\n",
                "  # add relative frequency\n",
                "  dplyr::mutate(freq = round(nos/words*1000, 3))\n",
                "# inspect data\n",
                "head(no_words)\n"
            ]
        },
        {
            "cell_type": "markdown",
            "metadata": {},
            "source": [
                "We can also visualize the trends using the `ggplot` function . To learn how to visualize data in R see [this tutorial](https://slcladal.github.io/dviz.html).\n",
                "\n"
            ]
        },
        {
            "cell_type": "code",
            "execution_count": null,
            "metadata": {},
            "outputs": [],
            "source": [
                "no_words %>%\n",
                "  dplyr::mutate(age_years_targetchild = as.numeric(age_years_targetchild)) %>%\n",
                "  ggplot(aes(x = age_years_targetchild, y = freq)) +\n",
                "  geom_smooth() +\n",
                "  theme_bw() +\n",
                "  labs(x = \"Age of target child\", y = \"Relative frequency of NOs \\n (per 1,000 words)\")\n"
            ]
        },
        {
            "cell_type": "markdown",
            "metadata": {},
            "source": [
                "## Case study 2: extracting questions {-}\n",
                "\n",
                "Here, we want to extract all questions uttered by mothers. We operationalize questions as utterances containing a question mark.\n"
            ]
        },
        {
            "cell_type": "code",
            "execution_count": null,
            "metadata": {},
            "outputs": [],
            "source": [
                "questions <- hslld %>%\n",
                "  dplyr::filter(speaker == \"MOT\") %>%\n",
                "  dplyr::filter(stringr::str_detect(utterance, \"\\\\?\"))\n",
                "# inspect data\n",
                "head(questions)\n"
            ]
        },
        {
            "cell_type": "markdown",
            "metadata": {},
            "source": [
                "We could now check if the rate of questions changes over time.\n",
                "\n"
            ]
        },
        {
            "cell_type": "code",
            "execution_count": null,
            "metadata": {},
            "outputs": [],
            "source": [
                "qmot <- hslld %>%\n",
                "  dplyr::filter(speaker == \"MOT\") %>%\n",
                "  dplyr::mutate(questions = ifelse(stringr::str_detect(utterance, \"\\\\?\") == T, 1,0),\n",
                "                utterances = 1) %>%\n",
                "  dplyr::group_by(age_years_targetchild) %>%\n",
                "  dplyr::summarise(utterances = sum(utterances),\n",
                "                questions = sum(questions),\n",
                "                percent = round(questions/utterances*100, 2))\n",
                "# inspect data\n",
                "head(qmot)\n"
            ]
        },
        {
            "cell_type": "markdown",
            "metadata": {},
            "source": "\n"
        },
        {
            "cell_type": "code",
            "execution_count": null,
            "metadata": {},
            "outputs": [],
            "source": [
                "qmot %>%\n",
                "  dplyr::mutate(age_years_targetchild = as.numeric(age_years_targetchild)) %>%\n",
                "  ggplot(aes(x = age_years_targetchild, y = percent)) +\n",
                "  geom_smooth() +\n",
                "  theme_bw() +\n",
                "  labs(x = \"Age of target child\", y = \"Percent \\n (questions)\")\n"
            ]
        },
        {
            "cell_type": "markdown",
            "metadata": {},
            "source": [
                "## Case study 3: extracting aux + parts {-}\n",
                "\n",
                "Here we want to extract all occurrences of an auxiliary plus a participle (e.g. *is swimming*) produced by mothers.\n"
            ]
        },
        {
            "cell_type": "code",
            "execution_count": null,
            "metadata": {},
            "outputs": [],
            "source": [
                "auxv <- hslld %>%\n",
                "  dplyr::filter(speaker == \"MOT\") %>%\n",
                "  dplyr::filter(stringr::str_detect(postag, \"aux\\\\|\\\\S{1,} part\\\\|\"))\n",
                "# inspect data\n",
                "head(auxv)\n"
            ]
        },
        {
            "cell_type": "markdown",
            "metadata": {},
            "source": [
                "We can now extract all the particle forms from the pos-tagged utterance\n",
                "\n"
            ]
        },
        {
            "cell_type": "code",
            "execution_count": null,
            "metadata": {},
            "outputs": [],
            "source": [
                "auxv_verbs <- auxv %>%\n",
                "  dplyr::mutate(participle = gsub(\".*part\\\\|(\\\\w{1,})-.*\", \"\\\\1\", postag)) %>%\n",
                "  dplyr::pull(participle)\n",
                "head(auxv_verbs)\n"
            ]
        },
        {
            "cell_type": "markdown",
            "metadata": {},
            "source": "\n"
        },
        {
            "cell_type": "code",
            "execution_count": null,
            "metadata": {},
            "outputs": [],
            "source": [
                "auxv_verbs_df <- auxv_verbs %>%\n",
                "  as.data.frame(.)  %>%\n",
                "  dplyr::rename(\"verb\" = colnames(.)[1]) %>%\n",
                "  dplyr::group_by(verb) %>%\n",
                "  dplyr::summarise(freq = n()) %>%\n",
                "  dplyr::arrange(-freq) %>%\n",
                "  head(20)\n",
                "# inspect\n",
                "head(auxv_verbs_df)\n"
            ]
        },
        {
            "cell_type": "markdown",
            "metadata": {},
            "source": [
                "We can again visualize the results. In this case, we create a bar plot (see the `geom_bar`).\n",
                "\n"
            ]
        },
        {
            "cell_type": "code",
            "execution_count": null,
            "metadata": {},
            "outputs": [],
            "source": [
                "auxv_verbs_df %>%\n",
                "  ggplot(aes(x = reorder(verb, -freq), y = freq)) +\n",
                "  geom_bar(stat = \"identity\") +\n",
                "  theme_bw() +\n",
                "  labs(x = \"Verb\", y = \"Frequency\") +\n",
                "  theme(axis.text.x = element_text(angle = 90))\n"
            ]
        },
        {
            "cell_type": "markdown",
            "metadata": {},
            "source": [
                "## Case study 4: ratio of verbs to words {-}\n",
                "\n",
                "Here we extract all lexical verbs and words uttered by children by year and then see if the rate of verbs changes over time.\n"
            ]
        },
        {
            "cell_type": "code",
            "execution_count": null,
            "metadata": {},
            "outputs": [],
            "source": [
                "nverbs <- hslld %>%\n",
                "  dplyr::filter(speaker == \"CHI\") %>%\n",
                "  dplyr::mutate(nverbs = stringr::str_count(postag, \"^v\\\\|| v\\\\|\"),\n",
                "  age_years_targetchild = as.numeric(age_years_targetchild)) %>%\n",
                "  dplyr::group_by(age_years_targetchild) %>%\n",
                "  dplyr::summarise(words = sum(words),\n",
                "                verbs = sum(nverbs)) %>%\n",
                "  dplyr::mutate(verb.word.ratio = round(verbs/words, 3))\n",
                "# inspect data\n",
                "nverbs\n"
            ]
        },
        {
            "cell_type": "markdown",
            "metadata": {},
            "source": [
                "We can also visualize the results to show any changes over time. \n",
                "\n"
            ]
        },
        {
            "cell_type": "code",
            "execution_count": null,
            "metadata": {},
            "outputs": [],
            "source": [
                "nverbs %>%\n",
                "  ggplot(aes(x = age_years_targetchild, y = verb.word.ratio)) +\n",
                "  geom_line() +\n",
                "  coord_cartesian(ylim = c(0, 0.2)) +\n",
                "  theme_bw() +\n",
                "  labs(x = \"Age of target child\", y = \"Verb-Word Ratio\")\n"
            ]
        },
        {
            "cell_type": "markdown",
            "metadata": {},
            "source": [
                "## Case study 5: type-token ratio over time {-}\n",
                "\n",
                "Here we extract all tokens (words with repetition) and types (words without repetition) uttered by children by year and then see if the type-token ratio changes over time.\n",
                "\n",
                "In a first step, we create a table with the age of the children in years, we then collapse all utterances of the children into one long utterance and then clean this long utterance by removing digits and superfluous white spaces.\n",
                "\n",
                "> Tip: A more accurate way of doing this would be to create one utterance for each child per home visit as this would give us a dsitribution of type-token rtaiosn rather than a single value.\n"
            ]
        },
        {
            "cell_type": "code",
            "execution_count": null,
            "metadata": {},
            "outputs": [],
            "source": [
                "utterance_tb <- hslld %>%\n",
                "  dplyr::filter(speaker == \"CHI\") %>%\n",
                "  dplyr::group_by(age_years_targetchild) %>%\n",
                "  dplyr::summarise(allutts = paste0(utterance, collapse = \" \")) %>%\n",
                "  dplyr::ungroup() %>%\n",
                "  dplyr::mutate(age_years_targetchild = as.numeric(age_years_targetchild),\n",
                "                # clean utterance\n",
                "                allutts = stringr::str_replace_all(allutts, \"\\\\W\", \" \"),\n",
                "                allutts = stringr::str_replace_all(allutts, \"\\\\d\", \" \"),\n",
                "                allutts = stringr::str_remove_all(allutts, \"xxx\"),\n",
                "                allutts = stringr::str_remove_all(allutts, \"zzz\"),\n",
                "                allutts = tolower(allutts)) %>%\n",
                "  # remove superfluous white spaces\n",
                "  dplyr::mutate(allutts = gsub(\" {2,}\", \" \", allutts)) %>%\n",
                "  dplyr::mutate(allutts = stringr::str_squish(allutts))\n",
                "# inspect data\n",
                "head(utterance_tb)\n"
            ]
        },
        {
            "cell_type": "markdown",
            "metadata": {},
            "source": [
                "Extract the number of tokens, the number of types and calculating the type-token ratio.\n",
                "\n"
            ]
        },
        {
            "cell_type": "code",
            "execution_count": null,
            "metadata": {},
            "outputs": [],
            "source": [
                "tokens <- stringr::str_count(utterance_tb$allutts, \" \") +1\n",
                "types <- stringr::str_split(utterance_tb$allutts, \" \")\n",
                "types <- sapply(types, function(x){\n",
                "  x <- length(names(table(x)))\n",
                "})\n",
                "ttr <- utterance_tb %>%\n",
                "  dplyr::mutate(tokens = tokens,\n",
                "                types = types) %>%\n",
                "  dplyr::select(-allutts) %>%\n",
                "  dplyr::mutate(TypeTokenRatio = round(types/tokens, 3))\n",
                "# inspect \n",
                "ttr\n"
            ]
        },
        {
            "cell_type": "markdown",
            "metadata": {},
            "source": [
                "Plot the type-token ratio against age of the target child.\n",
                "\n"
            ]
        },
        {
            "cell_type": "code",
            "execution_count": null,
            "metadata": {},
            "outputs": [],
            "source": [
                "ttr %>%\n",
                "  ggplot(aes(x = age_years_targetchild, y = TypeTokenRatio)) +\n",
                "  geom_line() +\n",
                "  coord_cartesian(ylim = c(0, 0.75)) +\n",
                "  theme_bw() +\n",
                "  labs(x = \"Age of target child\", y = \"Type-Token Ratio\")\n"
            ]
        },
        {
            "cell_type": "markdown",
            "metadata": {},
            "source": [
                "# Studying Sociolinguistic Variation{-}\n",
                "\n",
                "This case study represents a corpus-based study of sociolinguistic variation that aims to answer if swearing differs across social groups. In particular, this case study analyzes if speakers coming from different age groups and genders, i.e. whether old or young or men or women swear more, differ in tehir sue of swear words based on a sub-sample of the Irish component of the [International Corpus of English (ICE)](https://www.ice-corpora.uzh.ch/en.html). The case study represents a simplified version of the analysis of [paper](https://www.sciencedirect.com/science/article/pii/S0024384117304357) [@schweinberger2018swearing].\n",
                "\n",
                "## Data processing{-}\n",
                "\n",
                "In a first step, we load the load the data into R. The way that the corpus data is loaded in this example is somewhat awkward because the data is in a server directory rather than on a hard drive on a simple PC. If the corpus data is not stored in a directory of a server, then you should not use the code shown immediately below but code in the window following the code immediately below.  \n"
            ]
        },
        {
            "cell_type": "code",
            "execution_count": null,
            "metadata": {},
            "outputs": [],
            "source": [
                "# load txt tidyr style\n",
                "tbl <- list.files(pattern = \"*.txt\") %>% \n",
                "        map_chr(~ read_file(.)) %>% \n",
                "        data_frame(text = .)\n"
            ]
        },
        {
            "cell_type": "markdown",
            "metadata": {},
            "source": "\n"
        },
        {
            "cell_type": "code",
            "execution_count": null,
            "metadata": {},
            "outputs": [],
            "source": [
                "# define path to corpus\n",
                "corpuspath <- \"https://slcladal.github.io/data/ICEIrelandSample/\"\n",
                "# define corpusfiles\n",
                "files <- paste(corpuspath, \"S1A-00\", 1:20, \".txt\", sep = \"\")\n",
                "files <- gsub(\"[0-9]([0-9][0-9][0-9])\", \"\\\\1\", files)\n",
                "# load corpus files\n",
                "corpus <- sapply(files, function(x){\n",
                "  x <- readLines(x)\n",
                "  x <- paste(x, collapse = \" \")\n",
                "  x <- tolower(x)\n",
                "})\n",
                "# inspect corpus\n",
                "str(corpus)\n"
            ]
        },
        {
            "cell_type": "markdown",
            "metadata": {},
            "source": [
                "If the corpus data is stored on your own computer (on not on a serves as is the case in the present example), you need to adapt the path though as the code below only works on my computer. Just exchange the `corpuspath` with the path to the data on your computer (e.g. with `\"D:\\\\Uni\\\\UQ\\\\LADAL\\\\SLCLADAL.github.io\\\\data\\\\ICEIrelandSample\"`).\n",
                "\n",
                "\n",
                "**Data processing and extraction**\n",
                "\n",
                "Now that the corpus data is loaded, we can prepare the searches by defining the search patterns. We will use regular expressions to retrieve all variants of the swear words. The sequence `\\\\b` denotes word boundaries while the sequence `[a-z]{0,3}` means that the sequences *ass* can be followed by a string consisting of any character symbol that is maximally three characters long (so that the search would also retrieve *asses*). We separate the search patters by `|` as this means *or*.\n"
            ]
        },
        {
            "cell_type": "code",
            "execution_count": null,
            "metadata": {},
            "outputs": [],
            "source": [
                "searchpatterns <- c(\"\\\\bass[ingedholes]{0,6}\\\\b|\\\\bbitch[a-z]{0,3}\\\\b|\\\\b[a-z]{0,}fuck[a-z]{0,3}\\\\b|\\\\bshit[a-z]{0,3}\\\\b|\\\\bcock[a-z]{0,3}\\\\b|\\\\bwanker[a-z]{0,3}\\\\b|\\\\bboll[io]{1,1}[a-z]{0,3}\\\\b|\\\\bcrap[a-z]{0,3}\\\\b|\\\\bbugger[a-z]{0,3}\\\\b|\\\\bcunt[a-z]{0,3}\\\\b\")\n",
                "\n"
            ]
        },
        {
            "cell_type": "markdown",
            "metadata": {},
            "source": [
                "After defining the search pattern(s), we extract the kwics (keyword(s) in context) of the swear words. \n",
                "\n"
            ]
        },
        {
            "cell_type": "code",
            "execution_count": null,
            "metadata": {},
            "outputs": [],
            "source": [
                "# extract kwic\n",
                "kwicswears <- quanteda::kwic(corpus, searchpatterns,window = 10, valuetype = \"regex\")\n"
            ]
        },
        {
            "cell_type": "markdown",
            "metadata": {},
            "source": [
                "\n",
                "\n"
            ]
        },
        {
            "cell_type": "code",
            "execution_count": null,
            "metadata": {},
            "outputs": [],
            "source": [
                "# inspect data\n",
                "kwicswears %>%\n",
                "  as.data.frame() %>%\n",
                "  head(10) %>%\n",
                "  flextable::flextable() %>%\n",
                "  flextable::set_table_properties(width = .75, layout = \"autofit\") %>%\n",
                "  flextable::theme_zebra() %>%\n",
                "  flextable::fontsize(size = 12) %>%\n",
                "  flextable::fontsize(size = 12, part = \"header\") %>%\n",
                "  flextable::align_text_col(align = \"center\") %>%\n",
                "  flextable::border_outer()\n"
            ]
        },
        {
            "cell_type": "markdown",
            "metadata": {},
            "source": [
                "We now clean the kwic so that it is easier to see the relevant information.\n",
                "\n"
            ]
        },
        {
            "cell_type": "code",
            "execution_count": null,
            "metadata": {},
            "outputs": [],
            "source": [
                "kwicswearsclean <- kwicswears %>%\n",
                "  as.data.frame() %>%\n",
                "  dplyr::rename(\"File\" = colnames(.)[1], \n",
                "                \"StartPosition\" = colnames(.)[2], \n",
                "                \"EndPosition\" = colnames(.)[3], \n",
                "                \"PreviousContext\" = colnames(.)[4], \n",
                "                \"Token\" = colnames(.)[5], \n",
                "                \"FollowingContext\" = colnames(.)[6], \n",
                "                \"SearchPattern\" = colnames(.)[7]) %>%\n",
                "  dplyr::select(-StartPosition, -EndPosition, -SearchPattern) %>%\n",
                "  dplyr::mutate(File = str_remove_all(File, \".*/\"),\n",
                "                File = stringr::str_remove_all(File, \".txt\"))\n"
            ]
        },
        {
            "cell_type": "markdown",
            "metadata": {},
            "source": [
                "\n",
                "\n"
            ]
        },
        {
            "cell_type": "code",
            "execution_count": null,
            "metadata": {},
            "outputs": [],
            "source": [
                "# inspect data\n",
                "kwicswearsclean %>% \n",
                "  head(10) %>%\n",
                "  flextable::flextable() %>%\n",
                "  flextable::set_table_properties(width = .75, layout = \"autofit\") %>%\n",
                "  flextable::theme_zebra() %>%\n",
                "  flextable::fontsize(size = 12) %>%\n",
                "  flextable::fontsize(size = 12, part = \"header\") %>%\n",
                "  flextable::align_text_col(align = \"center\") %>%\n",
                "  flextable::border_outer()\n"
            ]
        },
        {
            "cell_type": "markdown",
            "metadata": {},
            "source": [
                "We now create another kwic but with much more context because we want to extract the speaker that has uttered the swear word. To this end, we remove everything that proceeds the `$` symbol as the speakers are identified by characters that follow the `$` symbol, remove everything that follows the `>` symbol which end the speaker identification sequence, remove remaining white spaces, and convert the remaining character to upper case. \n",
                "\n"
            ]
        },
        {
            "cell_type": "code",
            "execution_count": null,
            "metadata": {},
            "outputs": [],
            "source": [
                "# extract kwic\n",
                "kwiclong <- kwic(corpus, searchpatterns,window = 1000, valuetype = \"regex\")\n",
                "kwiclong <- as.data.frame(kwiclong)\n",
                "colnames(kwiclong) <- c(\"File\", \"StartPosition\", \"EndPosition\", \"PreviousContext\", \"Token\", \"FollowingContext\", \"SearchPattern\")\n",
                "kwiclong <- kwiclong %>%\n",
                "  dplyr::select(-StartPosition, -EndPosition, -SearchPattern) %>%\n",
                "  dplyr::mutate(File = str_remove_all(File, \".*/\"),\n",
                "         File = str_remove_all(File, \".txt\"),\n",
                "         Speaker = str_remove_all(PreviousContext, \".*\\\\$\"),\n",
                "         Speaker = str_remove_all(Speaker, \">.*\"),\n",
                "         Speaker = str_squish(Speaker),\n",
                "         Speaker = toupper(Speaker)) %>%\n",
                "  dplyr::select(Speaker)\n",
                "# inspect results\n",
                "head(kwiclong)\n"
            ]
        },
        {
            "cell_type": "markdown",
            "metadata": {},
            "source": [
                "We now add the Speaker to our initial kwic. This way, we combine the swear word kwic with the speaker and as we already have the file, we can use the file plus speaker idenification to check if the speaker was a man or a woman.\n",
                "\n"
            ]
        },
        {
            "cell_type": "code",
            "execution_count": null,
            "metadata": {},
            "outputs": [],
            "source": [
                "swire <- cbind(kwicswearsclean, kwiclong)\n",
                "\n"
            ]
        },
        {
            "cell_type": "markdown",
            "metadata": {},
            "source": "\n"
        },
        {
            "cell_type": "code",
            "execution_count": null,
            "metadata": {},
            "outputs": [],
            "source": [
                "# inspect data\n",
                "swire %>% \n",
                "  head(10) %>%\n",
                "  flextable::flextable() %>%\n",
                "  flextable::set_table_properties(width = .75, layout = \"autofit\") %>%\n",
                "  flextable::theme_zebra() %>%\n",
                "  flextable::fontsize(size = 12) %>%\n",
                "  flextable::fontsize(size = 12, part = \"header\") %>%\n",
                "  flextable::align_text_col(align = \"center\") %>%\n",
                "  flextable::border_outer()\n"
            ]
        },
        {
            "cell_type": "markdown",
            "metadata": {},
            "source": [
                "Now, we inspect the extracted swear word tokens to check if our search strings have indeed captured swear words. \n",
                "\n"
            ]
        },
        {
            "cell_type": "code",
            "execution_count": null,
            "metadata": {},
            "outputs": [],
            "source": [
                "# convert tokens to lower case\n",
                "swire$Token <- tolower(swire$Token)\n",
                "# inspect tokens\n",
                "table(swire$Token)\n"
            ]
        },
        {
            "cell_type": "markdown",
            "metadata": {},
            "source": [
                "FUCK and its variants is by far the most common swear word in our corpus. However, we do not need the type of swear word to answer our research question and we thus summarize the table to show which speaker in which files has used how many swear words.\n",
                "\n"
            ]
        },
        {
            "cell_type": "code",
            "execution_count": null,
            "metadata": {},
            "outputs": [],
            "source": [
                "swire <- swire %>%\n",
                "  dplyr::group_by(File, Speaker) %>%\n",
                "  dplyr::summarise(Swearwords = n())\n"
            ]
        },
        {
            "cell_type": "markdown",
            "metadata": {},
            "source": [
                "\n",
                "\n"
            ]
        },
        {
            "cell_type": "code",
            "execution_count": null,
            "metadata": {},
            "outputs": [],
            "source": [
                "# inspect data\n",
                "swire %>% \n",
                "  head(10) %>%\n",
                "  flextable::flextable() %>%\n",
                "  flextable::set_table_properties(width = .75, layout = \"autofit\") %>%\n",
                "  flextable::theme_zebra() %>%\n",
                "  flextable::fontsize(size = 12) %>%\n",
                "  flextable::fontsize(size = 12, part = \"header\") %>%\n",
                "  flextable::align_text_col(align = \"center\") %>%\n",
                "  flextable::border_outer()\n"
            ]
        },
        {
            "cell_type": "markdown",
            "metadata": {},
            "source": [
                "Now that we extract how many swear words the speakers in the corpus have used, we can load the biodata of the speakers.\n",
                "\n"
            ]
        },
        {
            "cell_type": "code",
            "execution_count": null,
            "metadata": {},
            "outputs": [],
            "source": [
                "# load bio data\n",
                "bio <- read.table(\"https://slcladal.github.io/data/data01.txt\", header = T, sep = \"\\t\")\n"
            ]
        },
        {
            "cell_type": "markdown",
            "metadata": {},
            "source": "\n"
        },
        {
            "cell_type": "code",
            "execution_count": null,
            "metadata": {},
            "outputs": [],
            "source": [
                "# inspect data\n",
                "bio %>% \n",
                "  head(10) %>%\n",
                "  flextable::flextable() %>%\n",
                "  flextable::set_table_properties(width = .75, layout = \"autofit\") %>%\n",
                "  flextable::theme_zebra() %>%\n",
                "  flextable::fontsize(size = 12) %>%\n",
                "  flextable::fontsize(size = 12, part = \"header\") %>%\n",
                "  flextable::align_text_col(align = \"center\") %>%\n",
                "  flextable::border_outer()\n"
            ]
        },
        {
            "cell_type": "markdown",
            "metadata": {},
            "source": [
                "\n",
                "\n"
            ]
        },
        {
            "cell_type": "code",
            "execution_count": null,
            "metadata": {},
            "outputs": [],
            "source": [
                "bio <- bio %>%\n",
                "  dplyr::rename(File = text.id, \n",
                "         Speaker = spk.ref,\n",
                "         Gender = sex,\n",
                "         Age = age,\n",
                "         Words = word.count) %>%\n",
                "  dplyr::select(File, Speaker, Gender, Age, Words)\n"
            ]
        },
        {
            "cell_type": "markdown",
            "metadata": {},
            "source": "\n"
        },
        {
            "cell_type": "code",
            "execution_count": null,
            "metadata": {},
            "outputs": [],
            "source": [
                "# inspect data\n",
                "bio %>% \n",
                "  head(10) %>%\n",
                "  flextable::flextable() %>%\n",
                "  flextable::set_table_properties(width = .75, layout = \"autofit\") %>%\n",
                "  flextable::theme_zebra() %>%\n",
                "  flextable::fontsize(size = 12) %>%\n",
                "  flextable::fontsize(size = 12, part = \"header\") %>%\n",
                "  flextable::align_text_col(align = \"center\") %>%\n",
                "  flextable::border_outer()\n"
            ]
        },
        {
            "cell_type": "markdown",
            "metadata": {},
            "source": [
                "In a next step, we combine the table with the speaker information with the table showing the swear word use.\n",
                "\n"
            ]
        },
        {
            "cell_type": "code",
            "execution_count": null,
            "metadata": {},
            "outputs": [],
            "source": [
                "# combine frequencies and biodata\n",
                "swire <- dplyr::left_join(bio, swire, by = c(\"File\", \"Speaker\")) %>%\n",
                "  # replace NA with 0\n",
                "  dplyr::mutate(Swearwords = ifelse(is.na(Swearwords), 0, Swearwords),\n",
                "                File = factor(File),\n",
                "                Speaker = factor(Speaker),\n",
                "                Gender = factor(Gender),\n",
                "                Age = factor(Age))\n",
                "# inspect data\n",
                "head(swire)\n"
            ]
        },
        {
            "cell_type": "markdown",
            "metadata": {},
            "source": [
                "\n",
                "\n"
            ]
        },
        {
            "cell_type": "code",
            "execution_count": null,
            "metadata": {},
            "outputs": [],
            "source": [
                "# inspect data\n",
                "swire %>% \n",
                "  head(10) %>%\n",
                "  flextable::flextable() %>%\n",
                "  flextable::set_table_properties(width = .75, layout = \"autofit\") %>%\n",
                "  flextable::theme_zebra() %>%\n",
                "  flextable::fontsize(size = 12) %>%\n",
                "  flextable::fontsize(size = 12, part = \"header\") %>%\n",
                "  flextable::align_text_col(align = \"center\") %>%\n",
                "  flextable::border_outer()\n"
            ]
        },
        {
            "cell_type": "markdown",
            "metadata": {},
            "source": [
                "We now clean the table by removing speakers for which we do not have any information on their age and gender. Also, we summarize the table to extract the mean frequencies of swear words (per 1,000 words) by age and gender.\n",
                "\n"
            ]
        },
        {
            "cell_type": "code",
            "execution_count": null,
            "metadata": {},
            "outputs": [],
            "source": [
                "# clean data\n",
                "swire <- swire %>%\n",
                "  dplyr::filter(is.na(Gender) == F,\n",
                "         is.na(Age) == F) %>%\n",
                "  dplyr::group_by(Age, Gender) %>%\n",
                "  dplyr::mutate(SumWords = sum(Words),\n",
                "                SumSwearwords = sum(Swearwords),\n",
                "                FrequencySwearwords = round(SumSwearwords/SumWords*1000, 3)) \n"
            ]
        },
        {
            "cell_type": "markdown",
            "metadata": {},
            "source": "\n"
        },
        {
            "cell_type": "code",
            "execution_count": null,
            "metadata": {},
            "outputs": [],
            "source": [
                "# inspect data\n",
                "swire %>% \n",
                "  head(10) %>%\n",
                "  flextable::flextable() %>%\n",
                "  flextable::set_table_properties(width = .75, layout = \"autofit\") %>%\n",
                "  flextable::theme_zebra() %>%\n",
                "  flextable::fontsize(size = 12) %>%\n",
                "  flextable::fontsize(size = 12, part = \"header\") %>%\n",
                "  flextable::align_text_col(align = \"center\") %>%\n",
                "  flextable::border_outer()\n"
            ]
        },
        {
            "cell_type": "markdown",
            "metadata": {},
            "source": [
                "**Tabulating and visualizing the data**\n",
                "\n",
                "We now summarize and visualize the data and exclude speakers between the ages of 0 and 18 as there are too few speakers within that age range to be representative.\n"
            ]
        },
        {
            "cell_type": "code",
            "execution_count": null,
            "metadata": {},
            "outputs": [],
            "source": [
                "swire %>%\n",
                "  dplyr::filter(Age != \"0-18\") %>%\n",
                "  dplyr::group_by(Age, Gender) %>%\n",
                "  dplyr::summarise(Swears_ptw = SumSwearwords/SumWords*1000) %>%\n",
                "  unique() %>%\n",
                "  tidyr::spread(Gender, Swears_ptw)\n"
            ]
        },
        {
            "cell_type": "markdown",
            "metadata": {},
            "source": [
                "Now that we have prepared our data, we can plot swear word use by gender. \n",
                "\n"
            ]
        },
        {
            "cell_type": "code",
            "execution_count": null,
            "metadata": {},
            "outputs": [],
            "source": [
                "swire %>%\n",
                "  dplyr::filter(Age != \"0-18\") %>%\n",
                "  dplyr::group_by(Age, Gender) %>%\n",
                "  dplyr::summarise(Swears_ptw = SumSwearwords/SumWords*1000) %>%\n",
                "  unique() %>%\n",
                "ggplot(aes(x = Age, y = Swears_ptw, group = Gender, fill = Gender)) +\n",
                "  geom_bar(stat = \"identity\", position = position_dodge()) +\n",
                "  theme_bw() +\n",
                "  scale_fill_manual(values = c(\"orange\", \"darkgrey\")) +\n",
                "  labs(y = \"Relative frequency \\n swear words per 1,000 words\")\n"
            ]
        },
        {
            "cell_type": "markdown",
            "metadata": {},
            "source": [
                "The graph suggests that the genders do not differ in their use of swear words except for the age bracket from 26 to 41: men swear more among speakers aged between 26 and 33 while women swear more between 34 and 41 years of age. \n",
                "\n",
                "## Statistical analysis{-}\n",
                "\n",
                "We  now perform a statistical test, e.g. a Configural Frequency Analysis (CFA)  to check if specifically which groups in the data significantly over and under-use swearwords.\n"
            ]
        },
        {
            "cell_type": "code",
            "execution_count": null,
            "metadata": {},
            "outputs": [],
            "source": [
                "cfa_swear <- swire %>%\n",
                "  dplyr::group_by(Gender, Age) %>%\n",
                "  dplyr::summarise(Words = sum(Words),\n",
                "                   Swearwords = sum(Swearwords)) %>%\n",
                "  dplyr::mutate(Words = Words - Swearwords) %>%\n",
                "  tidyr::gather(Type, Frequency,Words:Swearwords) %>%\n",
                "  dplyr::filter(Age != \"0-18\")\n"
            ]
        },
        {
            "cell_type": "markdown",
            "metadata": {},
            "source": [
                "After transforming the data, it has the following format.\n",
                "\n"
            ]
        },
        {
            "cell_type": "code",
            "execution_count": null,
            "metadata": {},
            "outputs": [],
            "source": [
                "# inspect data\n",
                "head(cfa_swear, 20) %>%  \n",
                "  as.data.frame() %>%\n",
                "  flextable() %>%\n",
                "  flextable::set_table_properties(width = .75, layout = \"autofit\") %>%\n",
                "  flextable::theme_zebra() %>%\n",
                "  flextable::fontsize(size = 12) %>%\n",
                "  flextable::fontsize(size = 12, part = \"header\") %>%\n",
                "  flextable::align_text_col(align = \"center\") %>%\n",
                "  flextable::border_outer()\n"
            ]
        },
        {
            "cell_type": "markdown",
            "metadata": {},
            "source": "\n"
        },
        {
            "cell_type": "code",
            "execution_count": null,
            "metadata": {},
            "outputs": [],
            "source": [
                "# define configurations\n",
                "configs <- cfa_swear %>%\n",
                "  dplyr::select(Age, Gender, Type)\n",
                "# define counts\n",
                "counts <- cfa_swear$Frequency\n"
            ]
        },
        {
            "cell_type": "markdown",
            "metadata": {},
            "source": [
                "Now that configurations and counts are separated, we can perform the configural frequency analysis.\n",
                "\n"
            ]
        },
        {
            "cell_type": "code",
            "execution_count": null,
            "metadata": {},
            "outputs": [],
            "source": [
                "# perform cfa\n",
                "cfa(configs,counts)$table %>%\n",
                "  as.data.frame() %>%\n",
                "  dplyr::filter(p.chisq < .1,\n",
                "                stringr::str_detect(label, \"Swear\")) %>%\n",
                "  dplyr::select(-z, -p.z, -sig.z, -sig.chisq, -Q)\n"
            ]
        },
        {
            "cell_type": "markdown",
            "metadata": {},
            "source": [
                "After filtering out significant over use of non-swear words from the results of the CFA, we find that men and women in the age bracket 26 to 33 use significantly more swear words and other groups in the data.\n",
                "\n",
                "It has to be borne in mind, though, that this is merely a case study and that a more fine-grained analysis on a substantially larger data set were necessary to get a more reliable impression.\n",
                "\n",
                "# Citation & Session Info {-}\n",
                "\n",
                "Schweinberger, Martin. `r format(Sys.time(), '%Y')`. *Corpus Linguistics with R*. Brisbane: The University of Queensland. url: https://slcladal.github.io/corplingr.html   (Version `r format(Sys.time(), '%Y.%m.%d')`).\n"
            ]
        },
        {
            "cell_type": "code",
            "execution_count": null,
            "metadata": {},
            "outputs": [],
            "source": [
                "@manual{schweinberger2021cl,\n",
                "  author = {Schweinberger, Martin},\n",
                "  title = {Corpus Linguistics with R},\n",
                "  note = {https://slcladal.github.io/corplingr.html},\n",
                "  year = {`r format(Sys.time(), '%Y')`},\n",
                "  organization = \"The University of Queensland, Australia. School of Languages and Cultures},\n",
                "  address = {Brisbane},\n",
                "  edition = {`r format(Sys.time(), '%Y.%m.%d')`}\n",
                "}\n"
            ]
        },
        {
            "cell_type": "markdown",
            "metadata": {},
            "source": "\n"
        },
        {
            "cell_type": "code",
            "execution_count": null,
            "metadata": {},
            "outputs": [],
            "source": [
                "sessionInfo()\n",
                "\n"
            ]
        },
        {
            "cell_type": "markdown",
            "metadata": {},
            "source": [
                "***\n",
                "\n",
                "[Back to top](#introduction)\n",
                "\n",
                "[Back to HOME](https://slcladal.github.io/index.html)\n",
                "\n",
                "***\n",
                "\n",
                "\n",
                "# References{-}\n"
            ]
        }
    ],
    "metadata": {
        "anaconda-cloud": "",
        "kernelspec": {
            "display_name": "R",
            "langauge": "R",
            "name": "ir"
        },
        "language_info": {
            "codemirror_mode": "r",
            "file_extension": ".r",
            "mimetype": "text/x-r-source",
            "name": "R",
            "pygments_lexer": "r",
            "version": "3.4.1"
        }
    },
    "nbformat": 4,
    "nbformat_minor": 1
}
