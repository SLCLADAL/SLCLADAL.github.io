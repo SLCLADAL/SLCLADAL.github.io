{
    "cells": [
        {
            "cell_type": "markdown",
            "metadata": {},
            "source": [
                "<!--html_preserve-->\n",
                "<!-- Global site tag (gtag.js) - Google Analytics -->\n",
                "<script async src=\"https://www.googletagmanager.com/gtag/js?id=UA-130562131-1\"><\/script>\n",
                "<script>\n",
                "  window.dataLayer = window.dataLayer || [];\n",
                "  function gtag(){dataLayer.push(arguments);}\n",
                "  gtag('js', new Date());\n",
                "\n",
                "  gtag('config', 'UA-130562131-1');\n",
                "<\/script>\n",
                "<!--/html_preserve-->\n"
            ]
        },
        {
            "cell_type": "code",
            "execution_count": null,
            "metadata": {},
            "outputs": [],
            "source": [
                "knitr::include_graphics(\"https://slcladal.github.io/images/uq1.jpg\")\n",
                "\n"
            ]
        },
        {
            "cell_type": "markdown",
            "metadata": {},
            "source": [
                "# Introduction{-}\n",
                "\n",
                "This tutorial introduces geo-spatial data visualization in R. The entire R markdown document for this tutorial can be downloaded [here](https://slcladal.github.io/maps.Rmd).\n",
                "\n",
                "This tutorial is based on R. If you have not installed R or are new to it, you will find an introduction to and more information how to use R [here](https://slcladal.github.io/Intror.html). For this tutorials, we need to install certain *packages* from an R *library* so that the scripts shown below are executed without errors. Before turning to the code below, please install the packages by running the code below this paragraph. If you have already installed the packages mentioned below, then you can skip ahead and ignore this section. To install the necessary packages, simply run the following code - it may take some time (between 1 and 5 minutes to install all of the libraries so you do not need to worry if it takes some time).\n"
            ]
        },
        {
            "cell_type": "code",
            "execution_count": null,
            "metadata": {},
            "outputs": [],
            "source": [
                "# set options\n",
                "options(stringsAsFactors = F)         # no automatic data transformation\n",
                "options(\"scipen\" = 100, \"digits\" = 4) # suppress math annotation\n",
                "op <- options(gvis.plot.tag='chart')  # set gViz options\n",
                "# install libraries\n",
                "install.packages(c(\"OpenStreetMap\", \"DT\", \"RColorBrewer\", \"mapproj\", \"sf\", \"RgoogleMaps\", \n",
                "                   \"scales\", \"rworldmap\", \"maps\", \"tidyverse\", \"rnaturalearth\", \n",
                "                   \"rnaturalearthdata\", \"rgeos\", \"ggspatial\", \"maptools\", \"leaflet\", \"sf\", \n",
                "                   \"tmap\", \"here\", \"rgdal\", \"scales\"))\n",
                "# install package from github\n",
                "devtools::install_github(\"dkahle/ggmap\", ref = \"tidyup\")\n"
            ]
        },
        {
            "cell_type": "markdown",
            "metadata": {},
            "source": "\n"
        },
        {
            "cell_type": "code",
            "execution_count": null,
            "metadata": {},
            "outputs": [],
            "source": [
                "op <- options(gvis.plot.tag='chart')  # set gViz options\n",
                "\n"
            ]
        },
        {
            "cell_type": "markdown",
            "metadata": {},
            "source": [
                "Depending on the maps that are used in the visualization, it may also be necessary to access other data bases. One very useful data base for maps is, of course, Google Maps. However, to access Google Maps materials, installation and setting up other pieces of software is necessary. How to get access to Google's data is discussed below. In the following section, methods that do not require installation of software other than R.   \n",
                "\n",
                "# Getting started with maps\n",
                "\n",
                "The most basic way to display geospatial data is to simply download and display a map. In order to do that, we load the libraries necessary for extracting and plotting the map.\n",
                "\n",
                "The package `OpenStreetMap` offers a range of maps with different features. To access the `OpenStreetMap` data base, it is necessary to install the package. Once the package is installed, we can simply extract the map and define the region we want to plot by defining the longitude and latitude of the upper left and lower right corner of the region we want to display. The argument `minNumTiles` defines the accuracy of the map, the higher the number of tiles, the higher the resolution. The type of map is defined by the `type` argument. The type argument defines from which server the map is extracted. Once we have extracted a map, we can plot it using the \"plot\" function. \n"
            ]
        },
        {
            "cell_type": "code",
            "execution_count": null,
            "metadata": {},
            "outputs": [],
            "source": [
                "# load library\n",
                "library(OpenStreetMap)\n",
                "# extract map\n",
                "AustraliaMap <- openmap(c(-8,110),\n",
                "\tc(-45,160),\n",
                "#\ttype = \"osm\",\n",
                "#\ttype = \"esri\",\n",
                "\ttype = \"nps\",\n",
                "\tminNumTiles=7)\n",
                "# plot map\n",
                "plot(AustraliaMap)\n"
            ]
        },
        {
            "cell_type": "markdown",
            "metadata": {},
            "source": [
                "In order to obtain different map types, we change the `type` argument. The following options are available for type: \n",
                "\n"
            ]
        },
        {
            "cell_type": "code",
            "execution_count": null,
            "metadata": {},
            "outputs": [],
            "source": [
                "# load package \n",
                "library(DT)\n",
                "opt <- c(\"osm\", \"osm-bw\",\"maptoolkit-topo\", \"waze\", \"bing\", \"stamen-toner\", \"stamen-terrain\", \"stamen-watercolor\", \"osm-german\", \"osm-wanderreitkarte\", \"mapbox\", \"esri\", \"esri-topo\", \"nps\", \"apple-iphoto\", \"skobbler\", \"hillshade\", \"opencyclemap\", \"osm-transport\", \"osm-public-transport\", \"osm-bbike\", \"osm-bbike-german\")\n",
                "opt <- data.frame(opt)\n",
                "datatable(opt, rownames = FALSE, options = list(pageLength = 5, scrollX=T), filter = \"none\")\n"
            ]
        },
        {
            "cell_type": "markdown",
            "metadata": {},
            "source": [
                "Unfortunately, not all options work. If they do not work, then an error message is shown telling us that the number of tiles is not supported.\n",
                "\n",
                "We can zoom in or out by either changing the \"zoom\" or the \"minNumTiles\" arguments - in both cases, the higher the number, the more fine-grained the dispalyed map. Let's check out some examples for maps of Queensland.\n"
            ]
        },
        {
            "cell_type": "code",
            "execution_count": null,
            "metadata": {},
            "outputs": [],
            "source": [
                "# extract map\n",
                "queensland1 <- openmap(c(-8,135),\n",
                "\tc(-30,160),\n",
                "\ttype = \"osm\",\n",
                "\tminNumTiles=6)\n",
                "queensland2 <- openmap(c(-8,135),\n",
                "\tc(-30,160),\n",
                "\ttype = \"esri\",\n",
                "\tminNumTiles=6)\n",
                "# plot maps\n",
                "par(mfrow = c(1, 2)) # display plots in 1 row/2 columns\n",
                "plot(queensland1); plot(queensland2); par(mfrow = c(1, 1)) # restore original settings\n"
            ]
        },
        {
            "cell_type": "markdown",
            "metadata": {},
            "source": [
                "## Generating maps with rworldmap and base R{-}\n",
                "\n",
                "Another data base that is very useful when certain maps is the `rworldmap` package. The `rworldmap` package contains the shape files for countries but also more fine grained-shape files that display the states of selected countries. The most basic data, however, simply represents the shapes of the countries in the world.\n",
                "\n",
                "Using the `worldmap` package has the advantage that one is not dependent on third parties and their servers but can operate within R without being denied access due to e.g. copy right issues or server maintenance.\n"
            ]
        },
        {
            "cell_type": "code",
            "execution_count": null,
            "metadata": {},
            "outputs": [],
            "source": [
                "# load library\n",
                "library(rworldmap)\n",
                "# get map\n",
                "worldmap <- getMap(resolution = \"coarse\")\n",
                "# plot world map\n",
                "plot(worldmap, col = \"lightgrey\", \n",
                "     fill = T, border = \"darkgray\",\n",
                "     xlim = c(-180, 180), ylim = c(-90, 90),\n",
                "     bg = \"aliceblue\",\n",
                "     asp = 1, wrap=c(-180,180))\n"
            ]
        },
        {
            "cell_type": "markdown",
            "metadata": {},
            "source": [
                "The basic map shown above can then be modified and enriched with color coding to convey geospatial data. The following shows how to customize the world map.\n",
                "\n"
            ]
        },
        {
            "cell_type": "code",
            "execution_count": null,
            "metadata": {},
            "outputs": [],
            "source": [
                "# load package\n",
                "library(maps)\n",
                "# plot maps\n",
                "par(mfrow = c(1, 2)) # display plots in 1 row/3 columns\n",
                "# show map with Latitude 200 as center\n",
                "map('world', xlim = c(100, 300))\n",
                "# add axes\n",
                "map.axes()\n",
                "# show filled map with Latitude 200 as center\n",
                "ww2 <- map('world', wrap=c(0,360), plot=FALSE, fill=TRUE)\n",
                "map(ww2, xlim = c(100, 300), fill=TRUE)\n",
                "par(mfrow = c(1, 1)) # restore original settings\n"
            ]
        },
        {
            "cell_type": "markdown",
            "metadata": {},
            "source": [
                "## Generating maps with rnaturalearth and ggplot2{-}\n",
                "\n",
                "We can also use the data provided by the `rnaturalearth` and the `rnaturalearthdata` and use `ggplot` function from the `ggplot2` package as well as the `sf` package to create very nice visualizations of geospatial data. The advantage over using `rworldmap` and base R lies in the fact that the code is easier to interpret and the visualizations are more appealing.\n"
            ]
        },
        {
            "cell_type": "code",
            "execution_count": null,
            "metadata": {},
            "outputs": [],
            "source": [
                "# load packages\n",
                "library(tidyverse)\n",
                "library(rnaturalearth)\n",
                "library(rnaturalearthdata)\n",
                "# load data\n",
                "world <- ne_countries(scale = \"medium\", returnclass = \"sf\")\n",
                "# gene world map\n",
                "ggplot(data = world) +\n",
                "  geom_sf() +\n",
                "  labs( x = \"Longitude\", y = \"Latitude\") +\n",
                "  ggtitle(\"World map\", subtitle = paste0(\"(\", length(unique(world$admin)), \" countries)\"))\n"
            ]
        },
        {
            "cell_type": "markdown",
            "metadata": {},
            "source": [
                "We can also easily zoom in on certain areas in the map using the `coord_sf` function and also prettify the map by adding some custom features such as a compass. \n",
                "\n"
            ]
        },
        {
            "cell_type": "code",
            "execution_count": null,
            "metadata": {},
            "outputs": [],
            "source": [
                "# load packages\n",
                "library(sf)\n",
                "library(rgeos)\n",
                "library(ggspatial)\n",
                "# gene world map\n",
                "ggplot(data = world) +\n",
                "  geom_sf() +\n",
                "  labs( x = \"Longitude\", y = \"Latitude\") +\n",
                "  coord_sf(xlim = c(100.00, 160.00), ylim = c(-45.00, -10.00), expand = FALSE) +\n",
                "  annotation_scale(location = \"bl\", width_hint = 0.5) +\n",
                "  annotation_north_arrow(location = \"bl\", which_north = \"true\", \n",
                "                         pad_x = unit(0.75, \"in\"), pad_y = unit(0.5, \"in\"),\n",
                "                         style = north_arrow_fancy_orienteering) +\n",
                "  theme_bw()\n"
            ]
        },
        {
            "cell_type": "markdown",
            "metadata": {},
            "source": [
                "We will now customize these basic maps and add information to them.\n",
                "\n",
                "# Customizing Maps\n",
                "\n",
                "Displaying basic maps is usually less interesting because, typically, we want to add different layers to a map. In order to add layers to a map, we need to have a shape file, i.e. a file which contains information about borders or locations that can then be displayed in different colors. In other words, we need to have a shape object to add information to the map.\n"
            ]
        },
        {
            "cell_type": "code",
            "execution_count": null,
            "metadata": {},
            "outputs": [],
            "source": [
                "# extract locations\n",
                "world_points<- st_centroid(world)\n",
                "# extract labels\n",
                "world_points <- cbind(world, st_coordinates(st_centroid(world$geometry)))\n",
                "# generate annotated world map\n",
                "ggplot(data = world) +\n",
                "  geom_sf(fill= \"gray90\") +\n",
                "  labs( x = \"Longitude\", y = \"Latitude\") +\n",
                "  coord_sf(xlim = c(100.00, 180.00), ylim = c(-45.00, -10.00), expand = FALSE) +\n",
                "  annotation_scale(location = \"bl\", width_hint = 0.5) +\n",
                "  annotation_north_arrow(location = \"bl\", which_north = \"true\", \n",
                "                         pad_x = unit(0.75, \"in\"), pad_y = unit(0.5, \"in\"),\n",
                "                         style = north_arrow_fancy_orienteering) +\n",
                "  coord_sf(xlim = c(100.00, 180.00), ylim = c(-45.00, -10.00)) +\n",
                "   theme(panel.grid.major = element_line(color = \"gray60\", linetype = \"dashed\", size = 0.25), \n",
                "         panel.background = element_rect(fill = \"aliceblue\")) +\n",
                "  geom_text(data= world_points,aes(x=X, y=Y, label=name),\n",
                "            color = \"gray20\", fontface = \"italic\", check_overlap = T, size = 3)\n"
            ]
        },
        {
            "cell_type": "markdown",
            "metadata": {},
            "source": [
                "However, it is often the case that we want to add information that is not already available. Therefore, we load the `airports` data set which contains the longitude and latitude of airports across the world. We will then use this data to show the locations of airports across the globe. \n",
                "\n"
            ]
        },
        {
            "cell_type": "code",
            "execution_count": null,
            "metadata": {},
            "outputs": [],
            "source": [
                "# load data\n",
                "airports <- read.delim(\"https://slcladal.github.io/data/airports.txt\", sep = \"\\t\", header = T) %>%\n",
                "  dplyr::mutate(ID = as.character(ID))\n",
                "# inspect data\n",
                "datatable(airports, rownames = FALSE, options = list(pageLength = 5, scrollX=T), filter = \"none\")\n"
            ]
        },
        {
            "cell_type": "markdown",
            "metadata": {},
            "source": [
                "To display the locations of airports on a map, we first plot the map and then add a layer of points to indicate the location of airports. In addition, the \"plot\" functions offers various arguments for customizing the display, e.g. by changing the background color (bg), defining the color of borders (borders), defining the color of the shapes (fill and col). \n",
                "\n"
            ]
        },
        {
            "cell_type": "code",
            "execution_count": null,
            "metadata": {},
            "outputs": [],
            "source": [
                "# plot data on world map\n",
                "plot(worldmap, xlim = c(-80, 160), ylim = c(-50, 100), \n",
                "     asp = 1, bg = \"lightblue\", col = \"black\", fill = T)\n",
                "# add points\n",
                "points(airports$Longitude, airports$Latitude, \n",
                "       col = \"red\", cex = .01)\n"
            ]
        },
        {
            "cell_type": "markdown",
            "metadata": {},
            "source": [
                "It is, of course, also possible to highlight individual countries. \n",
                "\n"
            ]
        },
        {
            "cell_type": "code",
            "execution_count": null,
            "metadata": {},
            "outputs": [],
            "source": [
                "# create data frame with iso3 country codes and number of visits\n",
                "countriesvisited <- data.frame(country = c(\"AUS\", \"JPN\", \"FIN\", \n",
                "                                           \"CZE\", \"POL\", \"AUT\", \n",
                "                                           \"USA\", \"GBR\", \"IRL\", \n",
                "                                           \"DEU\", \"DNK\", \"FRA\", \n",
                "                                           \"NDL\", \"BEL\", \"ESP\",\n",
                "                                           \"HRV\", \"SVN\", \"NOR\", \n",
                "                                           \"ITA\", \"HUN\", \"ROU\", \n",
                "                                           \"BGR\", \"GRC\", \"TUR\", \n",
                "                                           \"CHE\", \"ARE\"),\n",
                "  visited = c(5, 1, 2, 1, 1, 3, 4, 4, 5, 11, 1, 1, 2, 2, 4, 4, \n",
                "              1, 1, 3, 1, 1, 2, 1, 1, 3, 2))\n",
                "# inspect data\n",
                "datatable(countriesvisited, rownames = FALSE, options = list(pageLength = 5, scrollX=T), filter = \"none\")\n"
            ]
        },
        {
            "cell_type": "markdown",
            "metadata": {},
            "source": "\n"
        },
        {
            "cell_type": "code",
            "execution_count": null,
            "metadata": {},
            "outputs": [],
            "source": [
                "# combine data frame with map\n",
                "visitedMap <- joinCountryData2Map(countriesvisited, \n",
                "                                  joinCode = \"ISO3\",\n",
                "                                  nameJoinColumn = \"country\")\n",
                "# def. map parameters, e.g. def. colors\n",
                "mapParams <- mapCountryData(visitedMap, \n",
                "                            nameColumnToPlot=\"visited\",\n",
                "                            oceanCol = \"azure2\",\n",
                "                            catMethod = \"categorical\",\n",
                "                            missingCountryCol = gray(.8),\n",
                "                            colourPalette = c(\"coral\",\n",
                "                                              \"coral2\",\n",
                "                                              \"coral3\", \"orangered\", \n",
                "                                              \"orangered3\", \"orangered4\"),\n",
                "                            addLegend = F,\n",
                "                            mapTitle = \"\",\n",
                "                            border = NA)\n",
                "# add legend and display map\n",
                "do.call(addMapLegendBoxes, c(mapParams,\n",
                "                             x = 'bottom',\n",
                "                             title = \"No. of visits\",\n",
                "                             horiz = TRUE,\n",
                "                             bg = \"transparent\",\n",
                "                             bty = \"n\"))\n"
            ]
        },
        {
            "cell_type": "markdown",
            "metadata": {},
            "source": [
                "It is, of course also possible to show only a part of the map by defining the x- and y-axes limits of the plot window. \n",
                "\n"
            ]
        },
        {
            "cell_type": "code",
            "execution_count": null,
            "metadata": {},
            "outputs": [],
            "source": [
                "# get map\n",
                "newmap <- getMap(resolution = \"low\")\n",
                "# plot map\n",
                "plot(newmap, xlim = c(-20, 59), ylim = c(35, 71), \n",
                "     asp = 1, fill = T, border = \"darkgray\", \n",
                "     col = \"wheat2\", bg = \"gray95\")\n",
                "# add points\n",
                "points(airports$Longitude, airports$Latitude, col = \"red\", cex = .5, pch = 20)\n"
            ]
        },
        {
            "cell_type": "markdown",
            "metadata": {},
            "source": [
                "This is of course also possible to show Australian airports.\n",
                "\n"
            ]
        },
        {
            "cell_type": "code",
            "execution_count": null,
            "metadata": {},
            "outputs": [],
            "source": [
                "# plot data on world map\n",
                "plot(worldmap, xlim = c(110, 160), ylim = c(-45, -10), \n",
                "     asp = 1, bg = \"azure2\", border = \"lightgrey\", col = \"wheat1\", \n",
                "     fill = T, wrap=c(-180,180))\n",
                "points(airports$Longitude, airports$Latitude, \n",
                "       col = \"darkblue\", cex = .5, pch = 20)\n"
            ]
        },
        {
            "cell_type": "markdown",
            "metadata": {},
            "source": [
                "In addition to the location of airports, it is also possible to show how many flights arrive at an airport. As this information is not provided in the airport data, we load the routes data which contains information about the routes that airlines fly. \n",
                "\n"
            ]
        },
        {
            "cell_type": "code",
            "execution_count": null,
            "metadata": {},
            "outputs": [],
            "source": [
                "# read in routes data\n",
                "routes <- read.delim(\"https://slcladal.github.io/data/routes.txt\", sep = \"\\t\", header=T)\n",
                "# inspect data\n",
                "datatable(routes, rownames = FALSE, options = list(pageLength = 5, scrollX=T), filter = \"none\")\n"
            ]
        },
        {
            "cell_type": "markdown",
            "metadata": {},
            "source": [
                "To show the number of arrivals at an airport (only in terms of how mayn routes end at that airport), we extract the number of routes that end in each airport.\n",
                "\n"
            ]
        },
        {
            "cell_type": "code",
            "execution_count": null,
            "metadata": {},
            "outputs": [],
            "source": [
                "# extract number of flights per airport\n",
                "arrivals <- routes %>%\n",
                "  dplyr::group_by(destinationAirportID) %>%\n",
                "  dplyr::summarise(flights = n()) %>%\n",
                "  dplyr::ungroup() %>%\n",
                "  dplyr::rename(ID = destinationAirportID)\n",
                "# inspect data\n",
                "datatable(arrivals, rownames = FALSE, options = list(pageLength = 5, scrollX=T), filter = \"none\")\n"
            ]
        },
        {
            "cell_type": "markdown",
            "metadata": {},
            "source": [
                "We can now merge the airports and the arrival data set to combine the information about the location with the information about the number of routes that end at each airport.\n",
                "\n"
            ]
        },
        {
            "cell_type": "code",
            "execution_count": null,
            "metadata": {},
            "outputs": [],
            "source": [
                "# combine tables\n",
                "airportA <- dplyr::left_join(airports, arrivals, by = \"ID\")\n",
                "# inspect data\n",
                "datatable(airportA, rownames = FALSE, options = list(pageLength = 5, scrollX=T), filter = \"none\")\n"
            ]
        },
        {
            "cell_type": "markdown",
            "metadata": {},
            "source": [
                "This table allows us to plot not only the location of airports but also the number of routes that end there.\n",
                "\n"
            ]
        },
        {
            "cell_type": "code",
            "execution_count": null,
            "metadata": {},
            "outputs": [],
            "source": [
                "# get map\n",
                "australia <- getMap(resolution = \"low\")\n",
                "# plot data on world map\n",
                "plot(australia, xlim = c(110, 160), ylim = c(-45, -10), \n",
                "     asp = 1, bg = \"azure1\", border = \"darkgrey\", \n",
                "     col = \"wheat2\", fill = T)\n",
                "# add points\n",
                "points(airportA$Longitude, airportA$Latitude,\n",
                "       # define colors as transparent\n",
                "       col = rgb(red = 0, green = 0, blue = 1, alpha = 0.3),\n",
                "       # define size as number of flights div. by 50\n",
                "       cex = airportA$flights/50, pch = 20)\n"
            ]
        },
        {
            "cell_type": "markdown",
            "metadata": {},
            "source": [
                "The same map can also be created using the `ggplot2` package which offers a very high degree of flexibility and allows for easy customization. \n",
                "\n"
            ]
        },
        {
            "cell_type": "code",
            "execution_count": null,
            "metadata": {},
            "outputs": [],
            "source": [
                "# create a layer of borders\n",
                "ggplot(airportA, aes(x=Longitude, y= Latitude)) +   \n",
                "  borders(\"world\", colour=NA, fill=\"wheat1\")  +\n",
                "  geom_point(color=\"blue\", alpha = .2, size = airportA$flights/20) +\n",
                "  scale_x_continuous(name=\"Longitude\", limits=c(110, 160)) +\n",
                "  scale_y_continuous(name=\"Latitude\", limits=c(-45, -10)) +\n",
                "  theme(panel.background = element_rect(fill = \"azure1\", colour = \"azure1\")) +\n",
                "  geom_text(aes(x=Longitude, y= Latitude, label=City),\n",
                "            color = \"gray20\", check_overlap = T, size = 3)\n"
            ]
        },
        {
            "cell_type": "markdown",
            "metadata": {},
            "source": [
                "In addition, it may be useful to overlay an area with shading to indicate the density of airports orflights.\n",
                "\n"
            ]
        },
        {
            "cell_type": "code",
            "execution_count": null,
            "metadata": {},
            "outputs": [],
            "source": [
                "# create map with density layer\n",
                "ggplot(airportA, (aes(x = Longitude, y= Latitude))) +   \n",
                "  borders(\"world\", colour=NA, fill=\"antiquewhite\")  +\n",
                "  stat_density2d(aes(fill = ..level..,  alpha = I(.2)),\n",
                "                 size = 1, bins = 5, data = airportA,\n",
                "                 geom = \"polygon\") +\n",
                "  geom_point(color=\"red\", alpha = .2, size=airportA$flights/100) +\n",
                "  # define color of density polygons\n",
                "  scale_fill_gradient(low = \"grey50\", high = \"grey20\") +\n",
                "  theme(panel.background = element_rect(fill = \"lightblue\",\n",
                "                                colour = \"lightblue\"),\n",
                "        panel.grid.major = element_blank(), \n",
                "        panel.grid.minor = element_blank(),\n",
                "        # surpress legend\n",
                "        legend.position = \"none\",\n",
                "        axis.line=element_blank(),\n",
                "        axis.text.x=element_blank(),\n",
                "        axis.text.y=element_blank(),\n",
                "        axis.ticks=element_blank(),\n",
                "        axis.title.x=element_blank(),\n",
                "        axis.title.y=element_blank()) +\n",
                "  geom_text(aes(x=Longitude, y= Latitude, label=Name),\n",
                "            color = \"gray20\", fontface = \"italic\", check_overlap = T, size = 2,\n",
                "            alpha = sqrt(airportA$flights)/10)\n"
            ]
        },
        {
            "cell_type": "markdown",
            "metadata": {},
            "source": [
                "You can also overlay maps to show densities (e.g. of airports) as shown below.\n",
                "\n"
            ]
        },
        {
            "cell_type": "code",
            "execution_count": null,
            "metadata": {},
            "outputs": [],
            "source": [
                "# load library\n",
                "library(ggmap)\n",
                "# define box\n",
                "sbbox <- make_bbox(lon = c(115, 155), lat = c(-12.5, -42), f = .1)\n",
                "# get map\n",
                "ausbg = get_map(location=sbbox, zoom=4,\n",
                "                \n",
                "                # possible sources\n",
                "                source = \"osm\",\n",
                "                #source = \"google\",\n",
                "                #source = \"stamen\",\n",
                "                \n",
                "                # possible coloring\n",
                "                #color = \"bw\",\n",
                "                color = \"color\",\n",
                "                \n",
                "                # possible maptypes\n",
                "                maptype=\"satellite\")\n",
                "                #maptype=\"terrain\")\n",
                "                #maptype=\"terrain-background\")\n",
                "                #maptype=\"hybrid\")\n",
                "                #maptype=\"toner\")\n",
                "                #maptype=\"hybrid\")\n",
                "                #maptype=\"terrain-labels\")\n",
                "                #maptype=\"roadmap\")\n",
                "# create map\n",
                "ausbg = ggmap(ausbg)\n",
                "# display map\n",
                "ausbg +\n",
                "  stat_density2d(data = airportA, aes(x = Longitude, y= Latitude, \n",
                "                     fill = ..level..,  alpha = I(.2)),\n",
                "                 size = 1, bins = 5, geom = \"polygon\") +\n",
                "  geom_point(data = airportA, mapping = aes(x=Longitude, y= Latitude), \n",
                "             color=\"red\", alpha = .2, size=airportA$flights/20) +\n",
                "  # define color of density polygons\n",
                "  scale_fill_gradient(low = \"grey50\", high = \"grey20\") +\n",
                "  theme(axis.line=element_blank(),\n",
                "        axis.text.x=element_blank(),\n",
                "        axis.text.y=element_blank(),\n",
                "        axis.ticks=element_blank(),\n",
                "        axis.title.x=element_blank(),\n",
                "        axis.title.y=element_blank(),\n",
                "        panel.background = element_rect(fill = \"aliceblue\",\n",
                "                                colour = \"aliceblue\"),\n",
                "        panel.grid.major = element_blank(), \n",
                "        panel.grid.minor = element_blank(),\n",
                "        # surpress legend\n",
                "        legend.position = \"none\")\n"
            ]
        },
        {
            "cell_type": "markdown",
            "metadata": {},
            "source": [
                "If you simply want to generate a map of a place, then you can use the `ggmap` package to do this.\n",
                "\n"
            ]
        },
        {
            "cell_type": "code",
            "execution_count": null,
            "metadata": {},
            "outputs": [],
            "source": [
                "# define box\n",
                "sbbox <- make_bbox(lon = c(152.8, 153.4), lat = c(-27.1, -27.7), f = .1)\n",
                "# get map\n",
                "brisbane = get_map(location=sbbox, zoom=10, maptype=\"terrain\")\n",
                "# create map\n",
                "brisbanemap = ggmap(brisbane)\n",
                "# display map\n",
                "brisbanemap +\n",
                "  geom_point(data = airportA, mapping = aes(x = Longitude, y = Latitude), \n",
                "               color = \"red\") +\n",
                "  geom_text(data = airportA, \n",
                "            mapping = aes(x = Longitude+0.1,\n",
                "                          y = Latitude,\n",
                "                          label = \"Brisbane Airport\"),\n",
                "            size = 2, color = \"gray20\", \n",
                "            fontface = \"bold\", \n",
                "            check_overlap = T) \n"
            ]
        },
        {
            "cell_type": "markdown",
            "metadata": {},
            "source": [
                "# Color Coding Geospatial Information\n",
                "\n",
                "We can also use color coding of countries to convey information about different features of countries such as their population size (or results of political elections, etc.).\n",
                "\n",
                "We use the data provided in the `rnaturalearthdata` and `rnaturalearth` packages, which contain information about the population size of countries, to color code and thus visualize differences in population size by country.\n"
            ]
        },
        {
            "cell_type": "code",
            "execution_count": null,
            "metadata": {},
            "outputs": [],
            "source": [
                "# extract world data\n",
                "world <- ne_countries(scale = \"medium\", returnclass = \"sf\")\n",
                "# create cut off points in Population\n",
                "world$pop_estC <- base::cut(world$pop_est,\n",
                "                        breaks = c(0, 500000, 1000000, 10000000, \n",
                "                                   100000000, 200000000, 500000000,\n",
                "                                   10000000000), \n",
                "                        labels = 1:7, right = F, ordered_result = T)\n",
                "# load package for colors\n",
                "library(RColorBrewer)\n",
                "# define colors\n",
                "palette = colorRampPalette(brewer.pal(n=7, name='Oranges'))(7)\n",
                "palette = c(\"white\", palette)\n",
                "# create map\n",
                "worldpopmap <- ggplot() +\n",
                "  geom_sf(data = world, aes(fill = pop_estC)) +\n",
                "  scale_fill_manual(values = palette) +\n",
                "  # customize legend title\n",
                "  labs(fill = \"Population Size\") +\n",
                "  theme(panel.grid.major = element_blank(), \n",
                "        panel.grid.minor = element_blank(),\n",
                "        # surpress legend\n",
                "        legend.position = \"none\")\n",
                "# display map\n",
                "worldpopmap\n"
            ]
        },
        {
            "cell_type": "markdown",
            "metadata": {},
            "source": [
                "We can also scale the colors and add a legend to assist with the interpretation of the map.\n",
                "\n"
            ]
        },
        {
            "cell_type": "code",
            "execution_count": null,
            "metadata": {},
            "outputs": [],
            "source": [
                "# start plot\n",
                "ggplot(data = world) +\n",
                "    geom_sf(aes(fill = pop_est)) +\n",
                "  scale_fill_viridis_c(option = \"plasma\", trans = \"sqrt\") +\n",
                "  # customize legend title\n",
                "  labs(fill = \"Population Size\")\n"
            ]
        },
        {
            "cell_type": "markdown",
            "metadata": {},
            "source": [
                "It is relatively easy to combine color coding with points. However, it is also relatively easy to color countries if all countries have values. If this is not the case (as in the example below), we need to include an additional step so that countries that are not mentioned also receive a color coding. In this example, the data contain countries and cities that I have visited along with their latitude and longitude.\n",
                "\n"
            ]
        },
        {
            "cell_type": "code",
            "execution_count": null,
            "metadata": {},
            "outputs": [],
            "source": [
                "# create vector with places I have visited\n",
                "visited <- data.frame(matrix(c(\n",
                "  \"Australia\", \"AUS\", \"Brisbane\", -27.455, 153.0351,\n",
                "  \"Australia\", \"AUS\", \"Adelaide\",\t-34.935,\t138.6,\n",
                "  \"Australia\", \"AUS\", \"Canberra\",\t-35.283,\t149.129,\n",
                "  \"Australia\", \"AUS\", \"Sydney\",\t-33.92,\t151.1852,\n",
                "  \"Australia\", \"AUS\", \"Melbourne\",\t-37.82,\t144.975,\n",
                "  \"Japan\", \"JPN\", \"Tokyo\",\t35.685,\t139.7514,\n",
                "  \"Finland\", \"FIN\", \"Helsinki\",\t60.1756,\t24.9341,\n",
                "  \"Finland\", \"FIN\", \"Tampere\",\t61.5,\t23.75,\n",
                "  \"Czech Republic\", \"CZE\", \"Prague\",\t50.0833,\t14.466,\n",
                "  \"Poland\", \"POL\", \"Poznan\",\t52.4058,\t16.8999,\n",
                "  \"Austria\", \"AUT\", \"Vienna\",\t48.2,\t16.3666,\n",
                "  \"Austria\", \"AUT\", \"Innsbruck\",\t47.2804,\t11.41,\n",
                "  \"Austria\", \"AUT\", \"Salzburg\",\t47.79941, 13.04399,\n",
                "  \"United States\", \"USA\", \"New York\",\t40.6943,\t-73.9249,\n",
                "  \"United States\", \"USA\", \"Kansas City\",\t39.1239,\t-94.5541,\n",
                "  \"United States\", \"USA\", \"St. Louis\",\t38.627003, -90.199402,\n",
                "  \"United States\", \"USA\", \"Chicago\",\t41.881832, -87.623177,\n",
                "  \"United Kingdom\", \"GBR\", \"London\",\t51.500,\t-0.1167,\n",
                "  \"United Kingdom\", \"GBR\", \"Cardiff\",\t51.481583, -3.179090,\n",
                "  \"Ireland\", \"IRL\", \"Galway\",\t53.2724,\t-9.0488,\n",
                "  \"Ireland\", \"IRL\", \"Dublin\",\t53.3331,\t-6.2489,\n",
                "  \"Ireland\", \"IRL\", \"Limerick\",\t52.668018, -8.630498,\n",
                "  \"Ireland\", \"IRL\", \"Athlone\",\t53.423933, -7.94069,\n",
                "  \"Ireland\", \"IRL\", \"Bray\",\t53.20278, -6.09833,\n",
                "  \"United Kingdom\", \"GBR\", \"Belfast\",\t54.607868, -5.926437,\n",
                "  \"United Kingdom\", \"GBR\", \"Derry\",\t54.9981, -7.30934,\n",
                "  \"Germany\", \"DEU\", \"Hamburg\",\t53.55,\t10.00,\n",
                "  \"Germany\", \"DEU\", \"Kassel\", 51.31667, 9.5,\n",
                "  \"Germany\", \"DEU\", \"Berlin\",\t52.5218,\t13.4015,\n",
                "  \"Germany\", \"DEU\", \"Cologne\",\t50.93,\t6.95,\n",
                "  \"Germany\", \"DEU\", \"Munich\",\t48.1299,\t11.575,\n",
                "  \"Germany\", \"DEU\", \"Mainz\",\t49.98419, 8.2791,\n",
                "  \"Germany\", \"DEU\", \"Frankfurt\",\t50.11552, 8.68417,\n",
                "  \"Germany\", \"DEU\", \"Hannover\",\t52.37052, 9.73322,\n",
                "  \"Germany\", \"DEU\", \"Bremen\",\t53.07516, 8.80777,\n",
                "  \"Germany\", \"DEU\", \"Bonn\",\t50.73438, 7.09549,\n",
                "  \"Germany\", \"DEU\", \"Greifswald\",\t54.09311, 13.38786,\n",
                "  \"Denmark\", \"DNK\", \"Copenhagen\", 55.67594, 12.56553,\n",
                "  \"France\", \"FRA\", \"Paris\",\t48.8667,\t2.3333,\n",
                "  \"Netherlands\", \"NDL\", \"Amsterdam\",\t52.35,\t4.9166,\n",
                "  \"Netherlands\", \"NDL\", \"Arnhem\",\t51.98, 5.91111,\n",
                "  \"Belgium\", \"BEL\", \"Antwerpen\",\t51.2204,\t4.415,\n",
                "  \"Belgium\", \"BEL\", \"Leuven\",\t50.87959, 4.70093,\n",
                "  \"Spain\", \"ESP\", \"Madrid\",\t40.4,\t-3.6834,\n",
                "  \"Spain\", \"ESP\", \"Gibraltar\",\t35.946339, -5.655601,\n",
                "  \"Spain\", \"ESP\", \"Mallorca\",\t39.56939, 2.65024,\n",
                "  \"Spain\", \"ESP\", \"Fuerteventura\",\t28.413460, -14.008890, \n",
                "  \"Croatia\", \"HRV\", \"Zagreb\",\t45.8,\t16,\n",
                "  \"Croatia\", \"HRV\", \"Novi Vinodolski\", 45.12806, 14.78889,\n",
                "  \"Croatia\", \"HRV\", \"Djakovo\", 45.309997, 18.409782,\n",
                "  \"Croatia\", \"HRV\", \"Rieka\", 45.34306, 14.40917,\n",
                "  \"Slovenia\", \"SVN\", \"Maribor\", 46.55472, 15.64667,\n",
                "  \"Norway\", \"NOR\", \"Bergen\",\t60.391,\t5.3245,\n",
                "  \"Italy\", \"ITA\", \"Rome\",\t41.896,\t12.4833,\n",
                "  \"Italy\", \"ITA\", \"Venice\",\t45.43713, 12.33265,\n",
                "  \"Italy\", \"ITA\", \"Trieste\",\t45.64325, 13.7903,\n",
                "  \"Hungary\", \"HUN\", \"Budapest\",\t47.5,\t19.0833,\n",
                "  \"Romania\", \"ROU\", \"Bucarest\",\t44.439663, 26.096306,\n",
                "  \"Bulgaria\", \"BGR\", \"Sofia\",\t42.698334, 23.319941,\n",
                "  \"Bulgaria\", \"BGR\", \"Varna\",\t43.204666, 27.910543,\n",
                "  \"Greece\", \"GRC\", \"Athens\",\t37.9833,\t23.7333,\n",
                "  \"Turkey\", \"TUR\", \"Istanbul\",\t41.105,\t29.01,\n",
                "  \"Switzerland\", \"CHE\", \"Zurich\",\t47.38,\t8.55,\n",
                "  \"Switzerland\", \"CHE\", \"Basel\",\t47.5804,\t7.59,\n",
                "  \"United Arab Emirates\", \"ARE\", \"Dubai\",\t25.23,\t55.28,\n",
                "  \"United Arab Emirates\", \"ARE\", \"Abu Dhabi\",\t24.4667,\t54.3666,\n",
                "  \"United Kingdom\", \"GBR\", \"Edinburgh\", 55.953251, -3.188267), \n",
                "  ncol = 5, byrow = T))\n",
                "colnames(visited) <- c(\"Country\", \"ISO3\", \"City\", \"Latitude\", \"Longitude\")\n",
                "visited$Longitude  <- as.numeric(visited$Longitude)\n",
                "visited$Latitude <- as.numeric(visited$Latitude)\n",
                "# order table\n",
                "visited <- visited[order(visited$Country, visited$City),]\n",
                "# write to disc\n",
                "write.table(visited, \"D:\\\\Uni\\\\UQ\\\\LADAL\\\\SLCLADAL.github.io\\\\data/visited.txt\", sep = \"\\t\", col.names=T, row.names = F)\n",
                "# inspect data\n",
                "datatable(visited, rownames = FALSE, options = list(pageLength = 5, scrollX=T), filter = \"none\")\n"
            ]
        },
        {
            "cell_type": "markdown",
            "metadata": {},
            "source": [
                "\n",
                "\n"
            ]
        },
        {
            "cell_type": "code",
            "execution_count": null,
            "metadata": {},
            "outputs": [],
            "source": [
                "# load data\n",
                "visited <- read.delim(\"https://slcladal.github.io/data/visited.txt\", \n",
                "                      sep = \"\\t\", header = T)\n",
                "# inspect data\n",
                "datatable(visited, rownames = FALSE, options = list(pageLength = 5, scrollX=T), filter = \"none\")\n"
            ]
        },
        {
            "cell_type": "markdown",
            "metadata": {},
            "source": [
                "After loading the data, we determine how many cities I have visited in a given country and add this frequency to the data set.\n",
                "\n"
            ]
        },
        {
            "cell_type": "code",
            "execution_count": null,
            "metadata": {},
            "outputs": [],
            "source": [
                "# determine how often a country was visited\n",
                "ncountry <- as.data.frame(table(visited$ISO3))\n",
                "colnames(ncountry)[1] <- \"ISO3\" \n",
                "# add frequency to visited\n",
                "visited <- merge(visited, ncountry, by = \"ISO3\")\n",
                "# inspect data\n",
                "datatable(visited, rownames = FALSE, options = list(pageLength = 5, scrollX=T), filter = \"none\")\n"
            ]
        },
        {
            "cell_type": "markdown",
            "metadata": {},
            "source": [
                "The next part is tricky as we do not only need to determine the color for the countries I have visited but also the color for those that I have not visited. In order to do that, we load the data set that underlies the world map that will be displayed.\n",
                "\n"
            ]
        },
        {
            "cell_type": "code",
            "execution_count": null,
            "metadata": {},
            "outputs": [],
            "source": [
                "# load package\n",
                "library(maptools)\n",
                "# load world data for plotting \n",
                "data(wrld_simpl)\n",
                "# def. color (bias for contrast)\n",
                "pal <- colorRampPalette(brewer.pal(6, 'Greens'), \n",
                "                        bias = 10)(length(visited$Freq))\n",
                "pal <- pal[with(visited, findInterval(Freq, sort(unique(Freq))))]\n",
                "# define color for countries not in visited\n",
                "countrycolor <- rep(\"white\", length(wrld_simpl@data$NAME))\n",
                "# define colors for countries in visited\n",
                "countrycolor[match(visited$Country, wrld_simpl@data$NAME)] <- pal\n"
            ]
        },
        {
            "cell_type": "markdown",
            "metadata": {},
            "source": [
                "After assigning colors to all countries, we can proceed by plotting the color coded map along with points for the locations of the cities I have visited.\n",
                "\n"
            ]
        },
        {
            "cell_type": "code",
            "execution_count": null,
            "metadata": {},
            "outputs": [],
            "source": [
                "# plot map\n",
                "plot(wrld_simpl, ylim=c(-40, 85), xlim = c(-180, 180),\n",
                "     mar=c(0,0,0,0), bg=\"gray40\", border = NA, \n",
                "     col=countrycolor)\n",
                "# add points\n",
                "points(visited$Longitude, visited$Latitude, col=\"red\", pch=20, cex = .5)\n"
            ]
        },
        {
            "cell_type": "markdown",
            "metadata": {},
            "source": [
                "A slightly more elegent way to achive the same goal is to plot the information using the `ggplot2` package.\n",
                "\n"
            ]
        },
        {
            "cell_type": "code",
            "execution_count": null,
            "metadata": {},
            "outputs": [],
            "source": [
                "# use the contry name instead of 3-letter ISO as id\n",
                "wrld_simpl@data$id <- wrld_simpl@data$NAME\n",
                "wrld <- fortify(wrld_simpl, region=\"id\") %>%\n",
                "  dplyr::filter(id != \"Antarctica\")\n",
                "# change column names of visited\n",
                "visited <- visited %>%\n",
                "  dplyr::rename(id = Country)\n",
                "# combine visited and wrld\n",
                "worlddata <- dplyr::left_join(wrld, visited, by = \"id\")\n",
                "# change NA to 0\n",
                "worlddata <- worlddata %>%\n",
                "  dplyr::mutate(Freq = ifelse(is.na(Freq), 0, Freq),\n",
                "                Freq = as.factor(Freq))\n",
                "# start plotting\n",
                "ggmapplot <- ggplot() + \n",
                "  geom_map(data=worlddata, map=worlddata, \n",
                "           aes(map_id=id, x=long, y=lat, \n",
                "           fill=Freq), color=NA, size=0.25) + \n",
                "  geom_point(data = visited,\n",
                "             aes(x = Longitude, y = Latitude), \n",
                "             col = \"red\", size = .75) +\n",
                "  scale_fill_manual(values=c(\"white\", \"gray80\", \"gray75\", \n",
                "                             \"gray70\",  \"gray65\", \"gray60\", \"gray55\"), \n",
                "                    name=\"No. cities visited\") + \n",
                "#  coord_map(\"gilbert\") +  # spherical\n",
                "  coord_map() +           # for normal Mercator projection\n",
                "  labs(x=\"\", y=\"\") + \n",
                "  theme(plot.background = element_rect(fill = \"grey40\", colour = NA),\n",
                "                   panel.border = element_blank(),\n",
                "                   panel.background = \n",
                "          element_rect(fill = \"transparent\", colour = NA),\n",
                "                   panel.grid = element_blank(),\n",
                "                   axis.text = element_blank(),\n",
                "                   axis.ticks = element_blank(),\n",
                "                   legend.position = \"right\")\n",
                "ggmapplot\n"
            ]
        },
        {
            "cell_type": "markdown",
            "metadata": {},
            "source": [
                "# Interactive Maps\n",
                "\n",
                "You can also use the `leaflet` package to create interactive maps. The `leaflet` function from the `leaflet` package creates a leaflet-map using html-widgets. The widget can be rendered on HTML pages generated from R Markdown, Shiny, or other applications. The advantage in using this function lies in the fact that it offers very detailed maps which enable zooming in to very specific locations.\n"
            ]
        },
        {
            "cell_type": "code",
            "execution_count": null,
            "metadata": {},
            "outputs": [],
            "source": [
                "# load package\n",
                "library(leaflet)\n",
                "# load library\n",
                "m <- leaflet() %>% setView(lng = 153.05, lat = -27.45, zoom = 12)\n",
                "# display map\n",
                "m %>% addTiles()\n"
            ]
        },
        {
            "cell_type": "markdown",
            "metadata": {},
            "source": [
                "Another option is to display information about different countries. In this case, we can use the information provided in the `maptools` package which comes with a `SpatialPolygonsDataFrame` of the world and the population by country (in 2005). To make the visualization a bit more appealing, we will calculate the population density, add this variable to the data which underlies the visualization, and then display the information interactively. In this case, this means that you can use *mouse-over* or *hoover* effects so that you see the population density in each country if you put the curser on that country (given the information is available for that country).\n",
                "\n",
                "We start by loading the required package from the library, adding population density to the data, and removing data points without meaningful information (e.g. we set values like Inf to NA).\n"
            ]
        },
        {
            "cell_type": "code",
            "execution_count": null,
            "metadata": {},
            "outputs": [],
            "source": [
                "# load data\n",
                "data(wrld_simpl)\n",
                "# calculate population density and add it to the data \n",
                "wrld_simpl@data$PopulationDensity <- round(wrld_simpl@data$POP2005/wrld_simpl@data$AREA,2)\n",
                "wrld_simpl@data$PopulationDensity <- ifelse(wrld_simpl@data$PopulationDensity == \"Inf\", NA, wrld_simpl@data$PopulationDensity)\n",
                "wrld_simpl@data$PopulationDensity <- ifelse(wrld_simpl@data$PopulationDensity == \"NaN\", NA, wrld_simpl@data$PopulationDensity)\n",
                "# inspect data\n",
                "head(wrld_simpl@data)\n"
            ]
        },
        {
            "cell_type": "markdown",
            "metadata": {},
            "source": [
                "We can now display the data.\n",
                "\n"
            ]
        },
        {
            "cell_type": "code",
            "execution_count": null,
            "metadata": {},
            "outputs": [],
            "source": [
                "# define colors\n",
                "qpal <- colorQuantile(rev(viridis::viridis(10)),\n",
                "                      wrld_simpl$PopulationDensity, n=10)\n",
                "# generate visualization\n",
                "l <- leaflet(wrld_simpl, options =\n",
                "               leafletOptions(attributionControl = FALSE, minzoom=1.5)) %>%\n",
                "  addPolygons(\n",
                "    label=~stringr::str_c(\n",
                "      NAME, ' ',\n",
                "      formatC(PopulationDensity, big.mark = ',', format='d')),\n",
                "    labelOptions= labelOptions(direction = 'auto'),\n",
                "    weight=1, color='#333333', opacity=1,\n",
                "    fillColor = ~qpal(PopulationDensity), fillOpacity = 1,\n",
                "    highlightOptions = highlightOptions(\n",
                "      color='#000000', weight = 2,\n",
                "      bringToFront = TRUE, sendToBack = TRUE)\n",
                "    ) %>%\n",
                "  addLegend(\n",
                "    \"topright\", pal = qpal, values = ~PopulationDensity,\n",
                "    title = htmltools::HTML(\"Population density <br> (2005)\"),\n",
                "    opacity = 1 )\n",
                "# display visualization\n",
                "l\n"
            ]
        },
        {
            "cell_type": "markdown",
            "metadata": {},
            "source": [
                "# Creating Maps with tmap and Shape Files\n",
                "\n",
                "When creating more sophisticated maps, it is common to use shape files. Shape files define the edges of polygons and can be very complex depending on the number of edges of a polygon. \n",
                "\n",
                "> WARNING: you need to download the shape file from  https://slcladal.github.io/data/shapes/AshmoreAndCartierIslands.shp and store it on your computer!\n",
                ">\n",
                ">  Once you have downloaded and stored the shp-file on your machine, you need to adapt the path so that R loads the shp-file from the location on your computer. \n",
                "> \n",
                "> The path below works for my computer but it will not work for yours! You cannot download this shp-file from the GitHub repository and directly display it - you need to download it first. \n",
                "> \n",
                "\n",
                "We begin by loading the packages from the library and loading the shp-file into R. Once we have loaded the shp-file, we can simply plot it as shown below. \n"
            ]
        },
        {
            "cell_type": "code",
            "execution_count": null,
            "metadata": {},
            "outputs": [],
            "source": [
                "# load packages\n",
                "library(tmap) \n",
                "library(here)\n",
                "# load shape file\n",
                "ausstates <- sf::st_read(here::here(\"data/shapes\", \"AshmoreAndCartierIslands.shp\"), stringsAsFactors = F)\n",
                "# plot australian admin shape file\n",
                "tm_shape(ausstates) +\n",
                "  tm_fill() +\n",
                "  tm_borders()\n"
            ]
        },
        {
            "cell_type": "markdown",
            "metadata": {},
            "source": [
                "You can also load additional shape files are display them over the initial states. Below, we load shape-files for administrative districts which can be very interesting when analyzing voter behavior during elections.\n",
                "\n",
                "> WARNING: you need to download the shape file from  https://slcladal.github.io/data/shapes/AshmoreAndCartierIslands.shp as well as from https://slcladal.github.io/data/shapes/Australia_admin_6.shp and store them on your computer!\n",
                ">\n",
                ">  Once you have downloaded and stored the shp-files on your machine, you need to adapt the paths so that R loads the shp files from the locations on your computer. \n",
                "> \n",
                "> The paths below work for my computer but they will not work for yours! You cannot download these shp-files from the GitHub repository directly when you generate the visualizations. \n",
                "> \n"
            ]
        },
        {
            "cell_type": "code",
            "execution_count": null,
            "metadata": {},
            "outputs": [],
            "source": [
                "# load package\n",
                "library(rgdal)\n",
                "# load shape files\n",
                "ozmap <- readOGR(dsn = here::here(\"data/shapes\", \"AshmoreAndCartierIslands.shp\"), stringsAsFactors = F)\n",
                "ozadmin <- readOGR(dsn = here::here(\"data/shapes\", \"Australia_admin_6.shp\"), stringsAsFactors = F)\n",
                "# plot australia with administartive districts\n",
                "ggplot() + \n",
                "  geom_polygon(data = ozmap, \n",
                "               aes(x = long, y = lat, group = group),\n",
                "               colour = \"black\", fill = \"gray90\") +\n",
                "  geom_polygon(data = ozadmin, \n",
                "                 aes(x = long, y = lat, group = group), \n",
                "                 colour = \"red\", fill = \"gray80\") +\n",
                "  theme_void()\n"
            ]
        },
        {
            "cell_type": "markdown",
            "metadata": {},
            "source": [
                "Shape-files re not as easily inspected as, for example, data frames or matrices. However, you can inspect shape elements as shown below to get a better understanding of their structure and what they contain.\n",
                "\n"
            ]
        },
        {
            "cell_type": "code",
            "execution_count": null,
            "metadata": {},
            "outputs": [],
            "source": [
                "# inspect shape file\n",
                "summary(ozmap@data)\n"
            ]
        },
        {
            "cell_type": "markdown",
            "metadata": {},
            "source": "\n"
        },
        {
            "cell_type": "code",
            "execution_count": null,
            "metadata": {},
            "outputs": [],
            "source": [
                "table(ozmap@data$name)\n",
                "\n"
            ]
        },
        {
            "cell_type": "markdown",
            "metadata": {},
            "source": [
                "You can also modify the visualizations that you generate with shape-files. Here, we plot the names of the states above the map and also color-code the different states and territories. We begin by converting the data into a format that we can use.\n",
                "\n"
            ]
        },
        {
            "cell_type": "code",
            "execution_count": null,
            "metadata": {},
            "outputs": [],
            "source": [
                "# convert the data into tidy format\n",
                "ozmapt <- broom::tidy(ozmap, region = \"name\")\n",
                "# inspect data\n",
                "head(ozmapt)\n"
            ]
        },
        {
            "cell_type": "markdown",
            "metadata": {},
            "source": [
                "Now, we extract the names of the states and territories as well as the longitudes and latitudes where we want to display the labels. Then, we display the information on the map.\n",
                "\n"
            ]
        },
        {
            "cell_type": "code",
            "execution_count": null,
            "metadata": {},
            "outputs": [],
            "source": [
                "# extract names of states and tehir long and lat\n",
                "cnames <- ozmapt %>%\n",
                "  dplyr::group_by(id) %>%\n",
                "  dplyr::summarise(long = mean(long),\n",
                "                   lat = mean(lat))\n",
                "# define colors\n",
                "library(scales)\n",
                "clrs <- viridis_pal()(15)\n",
                "# plot ozmap\n",
                "p <- ggplot() +\n",
                "  # plot map\n",
                "  geom_polygon(data = ozmapt, \n",
                "               aes(x = long, y = lat, group = group, fill = id), \n",
                "               asp = 1, colour = NA) +\n",
                "  # add text\n",
                "  geom_text(data = cnames, aes(x = long, y = lat, label = id), \n",
                "            size = 2, color = \"gray20\", fontface = \"bold\", \n",
                "            check_overlap = T) +\n",
                "  # color states\n",
                "  scale_fill_manual(values = clrs) +\n",
                "  # define theme and axes\n",
                "  theme_void() +\n",
                "  scale_x_continuous(name = \"Longitude\", limits = c(112, 155)) +\n",
                "  scale_y_continuous(name = \"Latitude\", limits = c(-45, -10)) +\n",
                "  # def. background color\n",
                "  theme(panel.background = element_rect(fill = \"slategray1\",\n",
                "                                        colour = \"slategray1\",\n",
                "                                        size = 0.5, linetype = \"solid\"),\n",
                "        legend.position = \"none\")\n",
                "# show plot\n",
                "p\n"
            ]
        },
        {
            "cell_type": "markdown",
            "metadata": {},
            "source": [
                "You can create customized polygons by defining longitudes and latitudes. In fact, you can generate very complex polygons like this. However, in this example, we only create a very basic one as a poof-of-concept.\n",
                "\n"
            ]
        },
        {
            "cell_type": "code",
            "execution_count": null,
            "metadata": {},
            "outputs": [],
            "source": [
                "# create data frame with longitude and latitude values\n",
                "lat <- c(-25, -27.5, -25, -30, -30, -35, -25)\n",
                "long <- c(150, 140, 130, 135, 140, 147.5, 150)\n",
                "mypolygon <- as.data.frame(cbind(long, lat))\n",
                "# inspect data\n",
                "mypolygon\n"
            ]
        },
        {
            "cell_type": "markdown",
            "metadata": {},
            "source": [
                "We can now plot out polygon over the map produced above.\n",
                "\n"
            ]
        },
        {
            "cell_type": "code",
            "execution_count": null,
            "metadata": {},
            "outputs": [],
            "source": [
                "p + \n",
                "  geom_polygon(data=mypolygon,\n",
                "               aes(x = long, y = lat),\n",
                "               alpha = 0.2, \n",
                "               colour = \"gray20\", \n",
                "               fill = \"red\") +\n",
                "  ggplot2::annotate(\"text\", \n",
                "                    x = mean(long),\n",
                "                    y = mean(lat),\n",
                "                    label = \"My Polygon Area\", \n",
                "                    colour=\"white\", \n",
                "                    size=3)\n"
            ]
        },
        {
            "cell_type": "markdown",
            "metadata": {},
            "source": [
                "\n",
                "\n"
            ]
        },
        {
            "cell_type": "code",
            "execution_count": null,
            "metadata": {},
            "outputs": [],
            "source": [
                "# Using and customizing Google maps in R\n",
                "\n",
                "Unfortunately, Google made accessing their database more restrictive which means that we need to register an API accessing the database. Before we can start creating maps we therefore need to obtain an (API key from Google)[https://developers.google.com/maps/documentation/geocoding/get-api-key]. Go to the (registration page)[https://cloud.google.com/maps-platform/#get-started], and follow the instructions (select all mapping options). The geocoding API is a free service, but you nevertheless need to associate a credit card with the account.\n",
                "\n",
                "# Installing the ggmap package\n",
                "\n",
                "The existing CRAN version of ggmap is 2.6.1. This version does unfortunately not yet enable using the Google API. The current version on GitHub is further advanced and fixes the issue. To install the GitHub version, you need to use the devtools package.\n"
            ]
        },
        {
            "cell_type": "markdown",
            "metadata": {},
            "source": "\n"
        },
        {
            "cell_type": "code",
            "execution_count": null,
            "metadata": {},
            "outputs": [],
            "source": [
                "# load packages\n",
                "library(RgoogleMaps)\n",
                "library(ggmap)\n",
                "library(mapproj)\n",
                "# retrieve map\n",
                "map <- get_map(location = 'Australia', zoom = 4)\n",
                "ggmap(map)\n"
            ]
        },
        {
            "cell_type": "markdown",
            "metadata": {},
            "source": "\n"
        },
        {
            "cell_type": "code",
            "execution_count": null,
            "metadata": {},
            "outputs": [],
            "source": [
                "map <- get_map(location = 'Europe', zoom = 4)\n",
                "ggmap(map)\n"
            ]
        },
        {
            "cell_type": "markdown",
            "metadata": {},
            "source": [
                "\n",
                "\n"
            ]
        },
        {
            "cell_type": "code",
            "execution_count": null,
            "metadata": {},
            "outputs": [],
            "source": [
                "#map <- get_map(location = \"Europe\")\n",
                "# plot map and layers\n",
                "mapPoints <- ggmap() + map\n",
                "  geom_point(aes(x = lon, y = lat, \n",
                "                 size = sqrt(flights)), \n",
                "             data = airportD, alpha = .5)\n",
                "mapPointsLegend <- mapPoints +\n",
                "  scale_area(breaks = sqrt(c(1, 5, 10, 50, 100, 500)), \n",
                "             labels = c(1, 5, 10, 50, 100, 500), \n",
                "             name = \"departing routes\")\n",
                "mapPointsLegend\n",
                "\n",
                "\n",
                "# create the data set containing both departures and arrivals\n",
                "airportD$type <- \"departures\"\n",
                "airportA$type <- \"arrivals\"\n",
                "airportDA <- rbind(airportD, airportA)\n",
                "\n",
                "# map the data\n",
                "# map + data points\n",
                "mapPointsDA <- ggmap(map) +\n",
                "  geom_point(aes(x = lon, y = lat, size = sqrt(flights)), \n",
                "             data = airportDA, alpha = .5)\n",
                "# adjust the legend\n",
                "mapPointsLegendDA <- mapPointsDA +\n",
                "  scale_area(breaks = sqrt(c(1, 5, 10, 50, 100, 500)), \n",
                "             labels = c(1, 5, 10, 50, 100, 500), name = \"routes\")\n",
                "# panels according to type (departure/arrival)\n",
                "mapPointsFacetsDA <- mapPointsLegendDA +\n",
                "  facet_grid(. ~ type)\n",
                "# plot the map\n",
                "mapPointsFacetsDA\n"
            ]
        },
        {
            "cell_type": "markdown",
            "metadata": {},
            "source": [
                "In a final step, we reset the graphics parameter that we customized at the beginning of this tutorial.\n",
                "\n"
            ]
        },
        {
            "cell_type": "code",
            "execution_count": null,
            "metadata": {},
            "outputs": [],
            "source": [
                "## Set options back to original options\n",
                "options(op)\n"
            ]
        },
        {
            "cell_type": "markdown",
            "metadata": {},
            "source": [
                "# Citation & Session Info {-}\n",
                "\n",
                "Schweinberger, Martin. `r format(Sys.time(), '%Y')`. *Displaying Geo-Spatial Data with R*. Brisbane: The University of Queensland. url: https://slcladal.github.io/maps.html  (Version `r format(Sys.time(), '%Y.%m.%d')`).\n"
            ]
        },
        {
            "cell_type": "code",
            "execution_count": null,
            "metadata": {},
            "outputs": [],
            "source": [
                "@manual{schweinberger2021maps,\n",
                "  author = {Schweinberger, Martin},\n",
                "  title = {Displaying Geo-Spatial Data with R},\n",
                "  note = {https://slcladal.github.io/maps.html},\n",
                "  year = {`r format(Sys.time(), '%Y')`},\n",
                "  organization = \"The University of Queensland, Australia. School of Languages and Cultures},\n",
                "  address = {Brisbane},\n",
                "  edition = {`r format(Sys.time(), '%Y.%m.%d')`}\n",
                "}\n"
            ]
        },
        {
            "cell_type": "markdown",
            "metadata": {},
            "source": "\n"
        },
        {
            "cell_type": "code",
            "execution_count": null,
            "metadata": {},
            "outputs": [],
            "source": [
                "sessionInfo()\n",
                "\n"
            ]
        },
        {
            "cell_type": "markdown",
            "metadata": {},
            "source": [
                "***\n",
                "\n",
                "[Back to top](#introduction)\n",
                "\n",
                "[Back to HOME](https://slcladal.github.io/index.html)\n",
                "\n",
                "***\n",
                "\n",
                "# References {-}\n"
            ]
        }
    ],
    "metadata": {
        "anaconda-cloud": "",
        "kernelspec": {
            "display_name": "R",
            "langauge": "R",
            "name": "ir"
        },
        "language_info": {
            "codemirror_mode": "r",
            "file_extension": ".r",
            "mimetype": "text/x-r-source",
            "name": "R",
            "pygments_lexer": "r",
            "version": "3.4.1"
        }
    },
    "nbformat": 4,
    "nbformat_minor": 1
}
