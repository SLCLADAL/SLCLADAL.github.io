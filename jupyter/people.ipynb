{
    "cells": [
        {
            "cell_type": "markdown",
            "metadata": {},
            "source": [
                "<!--html_preserve-->\n",
                "<!-- Global site tag (gtag.js) - Google Analytics -->\n",
                "<script async src=\"https://www.googletagmanager.com/gtag/js?id=UA-130562131-1\"><\/script>\n",
                "<script>\n",
                "  window.dataLayer = window.dataLayer || [];\n",
                "  function gtag(){dataLayer.push(arguments);}\n",
                "  gtag('js', new Date());\n",
                "\n",
                "  gtag('config', 'UA-130562131-1');\n",
                "<\/script>\n",
                "<!--/html_preserve-->\n"
            ]
        },
        {
            "cell_type": "code",
            "execution_count": null,
            "metadata": {},
            "outputs": [],
            "source": [
                "knitr::include_graphics(\"https://slcladal.github.io/images/slc.png\")\n",
                "\n"
            ]
        },
        {
            "cell_type": "markdown",
            "metadata": {},
            "source": [
                "<br>\n",
                "\n",
                "The LADAL is a collaborative effort that is sponsored by the [School of Languages and Cultures](https://languages-cultures.uq.edu.au/) at the [University of Queensland](https://www.uq.edu.au/). If you are interested in becoming an affiliate member or even a contributor contact the LADAL team via email (ladal\\@uq.edu.au).\n",
                "\n",
                "<br>\n",
                "\n",
                "***\n",
                "\n",
                "# DIRECTORS{-}\n",
                "\n",
                "\n",
                "[Martin Schweinberger](https://languages-cultures.uq.edu.au/profile/4295/martin-schweinberger)\n"
            ]
        },
        {
            "cell_type": "code",
            "execution_count": null,
            "metadata": {},
            "outputs": [],
            "source": [
                "knitr::include_graphics(\"https://slcladal.github.io/images/martinschweinberger.jpeg\")\n",
                "\n"
            ]
        },
        {
            "cell_type": "markdown",
            "metadata": {},
            "source": [
                "<br> \n",
                "\n",
                "+ Martin is Associate Professor and Lab Director at the [AcqVA-Aurora Center](https://uit.no/research/acqva?p_document_id=665279) at [Arctic University of Norway in Tromsø](https://uit.no/startsida) as well as Postdoctoral Research Fellow for Language Technology at the [School of Languages and Cultures](https://languages-cultures.uq.edu.au/) at the [University of Queensland, Australia](https://www.uq.edu.au/).\n",
                "\n",
                "+ Martin has initiated and established LADAL and is its leading proponent. His role at LADAL encompasses creating content, supervising team members, and directing the activities at LADAL.\n",
                "\n",
                "+ He is a language data scientist with a PhD in English linguistics specialized in corpus linguistics, computational analyses and visualization of linguistic data. \n",
                "\n",
                "Martin's research focuses on language variation and change, determinants of language use and linguistic variability, as well as language acquisition.  \n",
                "  \n",
                "\n",
                "[Michael Haugh ](https://languages-cultures.uq.edu.au/profile/1498/michael-haugh)\n"
            ]
        },
        {
            "cell_type": "code",
            "execution_count": null,
            "metadata": {},
            "outputs": [],
            "source": [
                "knitr::include_graphics(\"https://slcladal.github.io/images/michaelhaugh.jpeg\")\n",
                "\n"
            ]
        },
        {
            "cell_type": "markdown",
            "metadata": {},
            "source": [
                "<br>\n",
                "\n",
                "+ Michael is supervising and managing the activities of LADAL and overseeing its promotion across Australia \n",
                "\n",
                "+ Michael is Professor of Linguistics at [School of Languages and Cultures](https://languages-cultures.uq.edu.au/) and a Fellow of the Australian Academy of the Humanities\n",
                "\n",
                "+ He is a long-standing proponent of Digital Humanities in Australia and globally with a special focus on data management and accessibility and usability of language data\n",
                "\n",
                "Michael's research interests lie primarily in the field of pragmatics, with a focus on analyzing face, (im)politeness, teasing and humor, indirectness, and intention. He has been involved in the establishment of the [Australian National Corpus](http://www.ausnc.org.au), and is interested in further developing methods in corpus-assisted pragmatics.  \n",
                "\n",
                "***\n",
                "\n",
                "# CONTRIBUTORS{-}\n",
                "\n",
                "Contributors are actively engaged in the LADAL and assist in the development of LADAL infrastructure or resources.\n",
                "\n",
                "[Erich Round](https://researchers.uq.edu.au/researcher/1761)\n"
            ]
        },
        {
            "cell_type": "code",
            "execution_count": null,
            "metadata": {},
            "outputs": [],
            "source": [
                "knitr::include_graphics(\"https://slcladal.github.io/images/people_erich.png\")\n",
                "\n"
            ]
        },
        {
            "cell_type": "markdown",
            "metadata": {},
            "source": [
                "+ Erich is a senior lecturer in linguistics at UQ, and from 2021 is a British Academy Global Professor in linguistics at the University of Surrey, UK.\n",
                "\n",
                "+ His research is in phonology and morphology, especially of Australian Indigenous languages, and the modeling of language evolution and diversification.\n",
                "\n",
                "+ He is an active creator and analyzer of large scale cross-linguistic data sets, for investigating the nature and origins of linguistic diversity. \n",
                "\n",
                "<br> \n",
                "\n",
                "[Stefan Th. Gries](http://www.stgries.info/)\n"
            ]
        },
        {
            "cell_type": "code",
            "execution_count": null,
            "metadata": {},
            "outputs": [],
            "source": [
                "knitr::include_graphics(\"https://slcladal.github.io/images/STG.jpg\")\n",
                "\n"
            ]
        },
        {
            "cell_type": "markdown",
            "metadata": {},
            "source": [
                "+ Stefan is full professor of linguistics in the Department of Linguistics at the University of California, Santa Barbara (UCSB), Honorary Liebig-Professor and Chair of English Linguistics at the Justus-Liebig-Universität Giessen, Germany.\n",
                "\n",
                "+ His research is mainly situated at the intersection of quantitative corpus linguistics, cognitive linguistics, computational linguistics, and L1/Ln acquisition. Stefan's research also uses experimental methods. \n",
                "\n",
                "+ Stefan is a major proponent of using the open source software R in language data science.\n",
                "\n",
                "\n",
                "[Stephane Guillou](https://gitlab.com/stragu)\n"
            ]
        },
        {
            "cell_type": "code",
            "execution_count": null,
            "metadata": {},
            "outputs": [],
            "source": [
                "knitr::include_graphics(\"https://slcladal.github.io/images/people_stephane.png\")\n",
                "\n"
            ]
        },
        {
            "cell_type": "markdown",
            "metadata": {},
            "source": [
                "<br> \n",
                "\n",
                "+ Stephane is the leading proponent of computational up-skilling at the UQ library\n",
                "\n",
                "+ He has extensive experience in several programming environments and teaching courses on computation at various levels of competence\n",
                " \n",
                "<br>\n",
                "\n",
                "<br>\n",
                "\n",
                "[Joeseph Flanagan](https://www.helsinki.fi/en/people/people-finder/joseph-flanagan-9073190)\n"
            ]
        },
        {
            "cell_type": "code",
            "execution_count": null,
            "metadata": {},
            "outputs": [],
            "source": [
                "knitr::include_graphics(\"https://slcladal.github.io/images/people_joe.jpg\")\n",
                "\n"
            ]
        },
        {
            "cell_type": "markdown",
            "metadata": {},
            "source": [
                "<br>\n",
                "\n",
                "+ Joe is a Senior Lecturer and computational linguist at the [University of Helsinki](https://www.helsinki.fi/en)\n",
                "\n",
                "+ His research interests primarily center on issues related to English phonetics and phonology, reproducible research, and the digital humanities. \n",
                "\n",
                "+ Teaching-wise, he is especially interested in exploring how digital technology can enhance student learning.\n",
                " \n",
                "<br>\n",
                "\n",
                "<br> \n",
                "\n",
                "\n",
                "[Gregor Wiedemann](https://www.hans-bredow-institut.de/en/staff/gregor-wiedemann)\n"
            ]
        },
        {
            "cell_type": "code",
            "execution_count": null,
            "metadata": {},
            "outputs": [],
            "source": [
                "knitr::include_graphics(\"https://slcladal.github.io/images/people_gregor.jpg\")\n",
                "\n"
            ]
        },
        {
            "cell_type": "markdown",
            "metadata": {},
            "source": [
                "+ Gregor is a Senior Researcher in Computational Social Science at the Leibniz Institute for Media Research │ Hans Bredow Institute (HBI). \n",
                "\n",
                "+ Together with Sascha Hölig he heads the Media Research Methods Lab (MRML) where he focuses on the development of methods and applications of natural language processing and text mining for empirical social and media research.\n",
                "\n",
                "+ After studying in Leipzig and Miami, USA, Gregor worked at the Computer Science departments of the universities of Leipzig and Hamburg.\n",
                "\n",
                "<br>\n",
                "\n",
                "<br> \n",
                "\n",
                "\n",
                "\n",
                "***\n",
                " \n",
                "# AFFILIATE MEMBERS{-}\n",
                "\n",
                "Affiliate members support the LADAL and are informed about events, workshops, and training opportunities at LADAL.\n",
                "\n",
                "[Gerold Schneider](https://www.cl.uzh.ch/de/people/team/compling/gschneid.html) (University of Zurich, Switzerland)\n",
                "\n",
                "[Monika Bednarek](https://www.sydney.edu.au/arts/about/our-people/academic-staff/monika-bednarek.html) (University of Sydney, Australia)\n",
                "\n",
                "[Laurence Anthony](https://www.laurenceanthony.net/) (Waseda University, Japan)\n",
                "\n",
                "[Peter Crosthwaite](http://researchers.uq.edu.au/researcher/18390) (The University of Queensland, Australia)\n",
                "\n",
                "[Simon Musgave](https://research.monash.edu/en/persons/simon-musgrave) (Monash University, Australia) \n",
                "\n",
                "***\n",
                "\n",
                "# COLLABORATIONS{-}\n",
                "\n",
                "Collaborating institutions and organizations support LADAL and share information or resources with LADAL.\n"
            ]
        },
        {
            "cell_type": "code",
            "execution_count": null,
            "metadata": {},
            "outputs": [],
            "source": [
                "knitr::include_graphics(\"https://slcladal.github.io/images/slc.png\")\n",
                "\n"
            ]
        },
        {
            "cell_type": "markdown",
            "metadata": {},
            "source": [
                "  \n",
                "<br>\n",
                "\n",
                "The [School of Languages and Cultures](https://languages-cultures.uq.edu.au/) at the [University of Queensland](https://www.uq.edu.au/)\n",
                "\n",
                "<br><br>\n"
            ]
        },
        {
            "cell_type": "code",
            "execution_count": null,
            "metadata": {},
            "outputs": [],
            "source": [
                "knitr::include_graphics(\"https://slcladal.github.io/images/tcc.png\")\n",
                "\n"
            ]
        },
        {
            "cell_type": "markdown",
            "metadata": {},
            "source": [
                "  \n",
                "<br>\n",
                "\n",
                "The [Text Crunching Center](https://www.cl.uzh.ch/en/TCC.html) at the [University of Zurich (UZH)](https://www.uzh.ch/en.html)\n",
                "  \n",
                "<br><br><br><br>\n"
            ]
        },
        {
            "cell_type": "code",
            "execution_count": null,
            "metadata": {},
            "outputs": [],
            "source": [
                "knitr::include_graphics(\"https://slcladal.github.io/images/scl.png\")\n",
                "\n"
            ]
        },
        {
            "cell_type": "markdown",
            "metadata": {},
            "source": [
                "<br>\n",
                "\n",
                "The [Sydney Corpus Lab](https://sydneycorpuslab.com/) at [The University of Sydney](https://www.sydney.edu.au/) \n",
                "\n",
                "<br><br>\n"
            ]
        },
        {
            "cell_type": "code",
            "execution_count": null,
            "metadata": {},
            "outputs": [],
            "source": [
                "knitr::include_graphics(\"https://slcladal.github.io/images/varieng.png\")\n",
                "\n"
            ]
        },
        {
            "cell_type": "markdown",
            "metadata": {},
            "source": [
                "  \n",
                "<br>\n",
                "\n",
                "[VARIENG](https://www.helsinki.fi/en/researchgroups/varieng) at the [University of Helsinki](https://www.helsinki.fi/en)\n",
                "\n",
                "<br><br>\n"
            ]
        },
        {
            "cell_type": "code",
            "execution_count": null,
            "metadata": {},
            "outputs": [],
            "source": [
                "knitr::include_graphics(\"https://slcladal.github.io/images/acqvalab.png\")\n",
                "\n"
            ]
        },
        {
            "cell_type": "markdown",
            "metadata": {},
            "source": [
                "<br>\n",
                "\n",
                "The [AcqVA Aurora Lab](https://site.uit.no/acqvalab) in the [UiT Aurora Center for Language Acquisition, Variation & Attrition](https://uit.no/research/acqva) at [The Arctic University of Norway in Tromsø](https://uit.no/startsida).\n",
                "\n",
                "<br><br>\n"
            ]
        },
        {
            "cell_type": "code",
            "execution_count": null,
            "metadata": {},
            "outputs": [],
            "source": [
                "knitr::include_graphics(\"https://slcladal.github.io/images/Logo_HBI.jpg\")\n",
                "\n"
            ]
        },
        {
            "cell_type": "markdown",
            "metadata": {},
            "source": [
                "<br>\n",
                "\n",
                "The [Media Research Methods Lab (MRML)](https://leibniz-hbi.de/en/research/research-programmes/media-research-methods-lab) at the [Leibniz Institute for Media Research │ Hans Bredow Institute (HBI)](https://leibniz-hbi.de/en).\n",
                ".\n",
                "\n",
                "<br><br>\n",
                "\n",
                "***\n",
                "\n",
                "# FORMER MEMBERS{-}\n",
                "\n",
                "Former members were engaged with LADAL but have taken up new positions, changed affiliations, or moved institutions resulting in parting trajectories.\n",
                "\n",
                "[Katherine Dallaston](https://kjdallaston.com/)\n",
                "\n",
                "[Restuadi Restuadi](https://github.com/restuadi311)\n",
                "\n",
                "[Katy McHugh](https://www.linkedin.com/in/katymchugh/?originalSubdomain=au)\n",
                "\n",
                "[Alex Trueman](https://languages-cultures.uq.edu.au/profile/3789/alexandra-trueman)\n",
                "\n",
                "[Dattatreya Majumdar](https://languages-cultures.uq.edu.au/profile/6182/dattatreya-majumdar)\n",
                "\n",
                "[Stephen Kennedy-Clark](https://www.linkedin.com/in/stephenkclark/?originalSubdomain=au)\n",
                "\n",
                "[Liam Crowhurst](https://www.linkedin.com/in/liam-crowhurst-3aaa56121/?originalSubdomain=au) \n",
                "\n",
                "***\n",
                "\n",
                "[Back to top](#directors)\n",
                "\n",
                "[Back to HOME](https://slcladal.github.io/index.html)\n",
                "\n",
                "***\n"
            ]
        }
    ],
    "metadata": {
        "anaconda-cloud": "",
        "kernelspec": {
            "display_name": "R",
            "langauge": "R",
            "name": "ir"
        },
        "language_info": {
            "codemirror_mode": "r",
            "file_extension": ".r",
            "mimetype": "text/x-r-source",
            "name": "R",
            "pygments_lexer": "r",
            "version": "3.4.1"
        }
    },
    "nbformat": 4,
    "nbformat_minor": 1
}
