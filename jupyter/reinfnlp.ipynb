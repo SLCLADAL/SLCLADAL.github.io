{
    "cells": [
        {
            "cell_type": "markdown",
            "metadata": {},
            "source": [
                "<!--html_preserve-->\n",
                "<!-- Global site tag (gtag.js) - Google Analytics -->\n",
                "<script async src=\"https://www.googletagmanager.com/gtag/js?id=UA-130562131-1\"><\/script>\n",
                "<script>\n",
                "  window.dataLayer = window.dataLayer || [];\n",
                "  function gtag(){dataLayer.push(arguments);}\n",
                "  gtag('js', new Date());\n",
                "\n",
                "  gtag('config', 'UA-130562131-1');\n",
                "<\/script>\n",
                "<!--/html_preserve-->\n"
            ]
        },
        {
            "cell_type": "code",
            "execution_count": null,
            "metadata": {},
            "outputs": [],
            "source": [
                "knitr::include_graphics(\"https://slcladal.github.io/images/uq1.jpg\")\n",
                "\n"
            ]
        },
        {
            "cell_type": "markdown",
            "metadata": {},
            "source": [
                "# Introduction{-}\n",
                "\n",
                "This tutorial introduces the concept of Reinforcement Learning (RL) [see @sutton2018reinforcement; @wu2018study; @paulus2017deep], and how it can be applied in the domain of Natural Language Processing (NLP) and linguistics.The code for this tutorial is provided in the following link. [here](https://slcladal.github.io/reinfnlp.Rmd). \n",
                "\n",
                "## Preparation and session set up{-}\n",
                "\n",
                "This tutorial is based on R. If you have not installed R or are new to it, you will find an introduction to and more information how to use R [here](https://slcladal.github.io/IntroR_workshop.html). For this tutorials, we need to install certain *packages* from an R *library* so that the scripts in this tutorial are executed without errors. Before continuing, please install the packages by running the code below this paragraph. If you have already installed the packages mentioned below, then you can skip ahead ignore this section. To install the necessary packages, simply run the following code - it may take some time (between 1 and 5 minutes to install all of the libraries so you do not need to worry if it takes some time).\n",
                "\n",
                "For this tutorial we will be primarily requiring four packages: *tidytext* for text manipulations, *tidyverse* for general tasks, *textrank* for the implementation of the TextRank algorithm and *rvest* to scrape through an article to use as an example. For this analysis an article for Time has been selected.\n"
            ]
        },
        {
            "cell_type": "code",
            "execution_count": null,
            "metadata": {},
            "outputs": [],
            "source": [
                "# clean current workspace\n",
                "rm(list=ls(all=T))\n",
                "# set options\n",
                "options(stringsAsFactors = F)\n",
                "# install libraries\n",
                "install.packages(c(\"tidytext\",\"tidyverse\",\"textrank\",\"rvest\",\"ggplot2\"))\n"
            ]
        },
        {
            "cell_type": "markdown",
            "metadata": {},
            "source": [
                "Once you have installed R Studio and initiated the session by executing the code shown above, you are good to go.\n",
                "\n",
                "# Reinforment Learning{-}\n",
                "\n",
                "Reinforcement Learning enables a machines and software agents to independently determine the optimal behavior depending on a specific concept to enhance the overall performance. The system requires a reward feedback to learn its behavior which is known as reinforcement signal. The schematic diagram of Reinforcement Learning is provided below: -\n"
            ]
        },
        {
            "cell_type": "code",
            "execution_count": null,
            "metadata": {},
            "outputs": [],
            "source": [
                "knitr::include_graphics(\"https://slcladal.github.io/images/Reinforcement.PNG\")\n",
                "\n"
            ]
        },
        {
            "cell_type": "markdown",
            "metadata": {},
            "source": [
                "Any RL framework comprises of 3 major components:\n",
                "\n",
                "- *Action* determines all possible moves that the agent can make which is normally expressed as a mathematical function.\n",
                "- *State* it is an explicit and quick circumstance that the agent can find itself in posed by the environment or any future circumstance\n",
                "- *Reward* it is the feedback input from the environment which measure the achievement or failure of the agent's activities.\n",
                "\n",
                "The are three broad categories of RL:\n",
                "\n",
                "- *Value Based* which determines the optimal value function and it is the maximum value achievable under any policy.\n",
                "- *Policy Based* which identifies the optimal policy achieving maximum future reward\n",
                "- *Model Based* involves a model which predicts attributes or provides representation of the environment\n",
                "\n",
                "Without going into the mathematical intricacies of RL we will focus on possible applications of deep RL to linguistic data this tutorial. In its current form, RL plays a pivotal role in various Natural Language Processing (NLP) applications some of which are:\n",
                "\n",
                "- Article Summarisation\n",
                "- Question Answering (QA)\n",
                "- Dialogue Generation\n",
                "- Dialogue System\n",
                "- Knowledge-based QA\n",
                "- Machine Translation\n",
                "- Text Generation\n",
                "\n",
                "In the following sections we will explore some use cases of RL and interpret how deep RL can implement them.\n",
                "\n",
                "## Text Summarisation{-}\n",
                "\n",
                "A deep reinforced model for text summarisation involves sequence of input tokens *x={x~1~,x~2~,...,x~n~}* and produces a sequence of output (summary) tokens. A schematic presentation of the process is shown below:\n"
            ]
        },
        {
            "cell_type": "code",
            "execution_count": null,
            "metadata": {},
            "outputs": [],
            "source": [
                "knitr::include_graphics(\"https://slcladal.github.io/images/deeprlartsumm.PNG\")\n",
                "\n"
            ]
        },
        {
            "cell_type": "markdown",
            "metadata": {},
            "source": [
                "For the article summarisation objective the deep RL has the following components:\n",
                "\n",
                "- *Action* which involves a function *u~t~* which copies and generates summary output *y~t~*\n",
                "- *State* it encapsulates the hidden states of encoder and previous outputs\n",
                "- *Reward* which generates a rough score determining the performance of the summarisation\n",
                "\n",
                "Text summarisation [see @mihalcea2004textrank] is highly critical in extracting important information from large texts. \n",
                "\n",
                "In case of text summarisation there are broadly two categories:\n",
                "\n",
                "- Extractive Summarisation\n",
                "- Abstractive Summarisation\n",
                "\n",
                "In case of *Extractive Summarisation* words and sentences are scored according to a specific metric and then utilizing that information for summarizing based copying or pasting the most informative parts of the text.\n",
                "\n",
                "On the other hand *Abstractive Summarisation* involves building a semantic representation of the text and then incorporating natural language generation techniques to generate text highlighting the informative parts of the parent text document.\n",
                "\n",
                "Here, we will be focusing on an extractive summarisation method called *TextRank* which is hinged upon the *PageRank* algorithm which was developed by Google to rank websites based on their importance.\n",
                "\n",
                "**The TextRank Algorithm**\n",
                "\n",
                "TextRank is a graph-based ranking algorithm for NLP. Graph-based ranking algorithms evaluate the importance of a vertex within a graph, based on global information extracted recursively from the entire graph. When one vertex is associated with another it is actually casting a vote for that vertex. The higher the number of votes cast for a vertex, the higher importance of that vertex.\n",
                "\n",
                "In the NLP case it is necessary to define vertices and edges. In this tutorial we will be using sentences as vertices and words as edges. Thus sentences with words present in many other sentences will have higher priority\n"
            ]
        },
        {
            "cell_type": "code",
            "execution_count": null,
            "metadata": {},
            "outputs": [],
            "source": [
                "library(tidyverse)\n",
                "library(tidytext)\n",
                "library(textrank)\n",
                "library(rvest)\n",
                "# define url\n",
                "url <- \"http://time.com/5196761/fitbit-ace-kids-fitness-tracker/\"\n",
                "# read in data\n",
                "article <- read_html(url) %>%\n",
                "  html_nodes('div[class=\"padded\"]') %>%\n",
                "  html_text()\n"
            ]
        },
        {
            "cell_type": "markdown",
            "metadata": {},
            "source": [
                "Next the article is loaded into a tibble. Then tokenisation is implemented according to sentences. Although this tokenisation is fully perfect it has a lower number of dependencies and is suitable for this case. Finally we add column for sentence number and switch the order of the columns. \n",
                "\n"
            ]
        },
        {
            "cell_type": "code",
            "execution_count": null,
            "metadata": {},
            "outputs": [],
            "source": [
                "article_sentences <- tibble(text = article) %>%\n",
                "  tidytext::unnest_tokens(sentence, text, token = \"sentences\") %>%\n",
                "  dplyr::mutate(sentence_id = row_number()) %>%\n",
                "  dplyr::select(sentence_id, sentence)\n",
                "article_sentences\n"
            ]
        },
        {
            "cell_type": "markdown",
            "metadata": {},
            "source": [
                "Next we will tokenize based on words.\n",
                "\n"
            ]
        },
        {
            "cell_type": "code",
            "execution_count": null,
            "metadata": {},
            "outputs": [],
            "source": [
                "article_words <- article_sentences %>%\n",
                "  tidytext::unnest_tokens(word, sentence)\n",
                "article_words\n"
            ]
        },
        {
            "cell_type": "markdown",
            "metadata": {},
            "source": [
                "We have one last step left is to remove the stop words in *article_words* as they are prone to result in redundancy.\n",
                "\n"
            ]
        },
        {
            "cell_type": "code",
            "execution_count": null,
            "metadata": {},
            "outputs": [],
            "source": [
                "article_words <- article_words %>%\n",
                "  dplyr::anti_join(stop_words, by = \"word\")\n",
                "article_words\n"
            ]
        },
        {
            "cell_type": "markdown",
            "metadata": {},
            "source": [
                "Using the textrank package it is really easy to implement the TextRank algorithm. The *textrank_sentences* function requires only 2 inputs:\n",
                "\n",
                "- A data frame with sentences\n",
                "- A data frame with tokens which are part of each sentence\n"
            ]
        },
        {
            "cell_type": "code",
            "execution_count": null,
            "metadata": {},
            "outputs": [],
            "source": [
                "article_summary <- textrank_sentences(data = article_sentences, \n",
                "                                      terminology = article_words)\n",
                "# inspect the summary\n",
                "article_summary\n"
            ]
        },
        {
            "cell_type": "markdown",
            "metadata": {},
            "source": [
                "Lets have a look where these important sentences appear in the article:\n",
                "\n"
            ]
        },
        {
            "cell_type": "code",
            "execution_count": null,
            "metadata": {},
            "outputs": [],
            "source": [
                "library(ggplot2)\n",
                "article_summary[[\"sentences\"]] %>%\n",
                "  ggplot(aes(textrank_id, textrank, fill = textrank_id)) +\n",
                "  geom_col() +\n",
                "  theme_minimal() +\n",
                "  scale_fill_viridis_c() +\n",
                "  guides(fill = \"none\") +\n",
                "  labs(x = \"Sentence\",\n",
                "       y = \"TextRank score\",\n",
                "       title = \"Most informative sentences appear within first half of sentences\",\n",
                "       subtitle = 'In article \"Fitbits Newest Fitness Tracker Is Just for Kids\"',\n",
                "       caption = \"Source: http://time.com/5196761/fitbit-ace-kids-fitness-tracker/\")\n"
            ]
        },
        {
            "cell_type": "markdown",
            "metadata": {},
            "source": [
                "## Other Applications of RL{-}\n",
                "\n",
                "### Dialogue Generation{-}\n",
                "\n",
                "In today's digital world dialogue generation is a widely used application especially in chatbots. One widely used model in this regard is the Long Short Term Memory (LSTM) sequence-to-sequence (SEQ2SEQ) model. It is a neural generative model that maximizes the probability of generating a response given the previous dialogue. However SEQ2SEQ model has some constraints:\n",
                "\n",
                "- They tend to generate highly generic responses\n",
                "- Often they are stuck in an infinite loop of repetitive responses\n",
                "\n",
                "This is where deep RL is much more efficient as it can integrate developer-defined rewards which efficiently mimics the true goal of chatbot development. In case of dialogue generation the component:\n",
                "\n",
                "- *Action* which involves a function that generates sequences of arbitrary lengths\n",
                "- *State* it comprises of previous 2 dialogue turns [p~i~,q~i~]\n",
                "- *Reward* which determines the ease of answering, information flow and semantic coherence\n",
                "\n",
                "The schematic diagram highlighting the dialogue simulation between 2 agents using deep RL is shown below:\n"
            ]
        },
        {
            "cell_type": "code",
            "execution_count": null,
            "metadata": {},
            "outputs": [],
            "source": [
                "knitr::include_graphics(\"https://slcladal.github.io/images/dlsimrl.PNG\")\n",
                "\n"
            ]
        },
        {
            "cell_type": "markdown",
            "metadata": {},
            "source": [
                "### Neural Machine Translation{-}\n",
                "\n",
                "Most of Neural Machine Translation (NMT) models are based encoder-decoder framework with attention mechanism. The encoder initially maps a source sentence *x={x~1~,x~2~,...,x~n~}* to a set of continuous representations *z={z~1~,z~2~,...,z~n~}* . Given *z* the decoder then generates a target sentence *y={y~1~,y~2~,...,y~m~}* of word tokens one by one. RL is used to bridge the gap between training and inference of of NMT by directly optimizing the loss function at training time. In this scenario the NMT model acts as the *agent* which interacts with the *environment* which in this case are the previous words and the context vector *z* available at each step *t*. This is a a policy based RL and in place of a state a policy will be assigned in every iteration. The critical components of the RL for NMT are discussed below:\n",
                "\n",
                "- *Policy* which is a conditional probability defined by the parameters of the agent\n",
                "- *Action* is decided by the agent based on the policy and it will pick up a candidate word from the vocabulary\n",
                "- *Reward* is evaluated once the agent generates a complete sequence which in case of machine translation is *Bilingual Evaluation Understudy (BLEU)*.BLEU is defined by comparing the generated sequence with the ground truth sequence.\n",
                "\n",
                "The schematic of the overall process is depicted below:\n"
            ]
        },
        {
            "cell_type": "code",
            "execution_count": null,
            "metadata": {},
            "outputs": [],
            "source": [
                "knitr::include_graphics(\"https://slcladal.github.io/images/NMT.PNG\")\n",
                "\n"
            ]
        },
        {
            "cell_type": "markdown",
            "metadata": {},
            "source": [
                "# Citation & Session Info {-}\n",
                "\n",
                "Majumdar, Dattatreya. 2020. *Reinforcement Learning in NLP*. Brisbane: The University of Queensland. url: https://slcladal.github.io/reinfnlp.html (Version 2020.11.20).\n"
            ]
        },
        {
            "cell_type": "code",
            "execution_count": null,
            "metadata": {},
            "outputs": [],
            "source": [
                "@manual{Majumdar2020ta,\n",
                "  author = {Majumdar, Dattatreya},\n",
                "  title = {Reinforcement Learning in NLP},\n",
                "  note = {https://slcladal.github.io/reinfnlp.html},\n",
                "  year = {2020},\n",
                "  organization = \"The University of Queensland, Australia. School of Languages and Cultures},\n",
                "  address = {Brisbane},\n",
                "  edition = {2020/11/20}\n",
                "}\n"
            ]
        },
        {
            "cell_type": "markdown",
            "metadata": {},
            "source": [
                "\n",
                "\n"
            ]
        },
        {
            "cell_type": "code",
            "execution_count": null,
            "metadata": {},
            "outputs": [],
            "source": [
                "sessionInfo()\n",
                "\n"
            ]
        },
        {
            "cell_type": "markdown",
            "metadata": {},
            "source": [
                "***\n",
                "\n",
                "[Main page](https://slcladal.github.io/index.html)\n",
                "\n",
                "***\n",
                "\n",
                "# References {-}\n"
            ]
        }
    ],
    "metadata": {
        "anaconda-cloud": "",
        "kernelspec": {
            "display_name": "R",
            "langauge": "R",
            "name": "ir"
        },
        "language_info": {
            "codemirror_mode": "r",
            "file_extension": ".r",
            "mimetype": "text/x-r-source",
            "name": "R",
            "pygments_lexer": "r",
            "version": "3.4.1"
        }
    },
    "nbformat": 4,
    "nbformat_minor": 1
}
