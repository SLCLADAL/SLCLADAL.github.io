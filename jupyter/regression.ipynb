{
    "cells": [
        {
            "cell_type": "markdown",
            "metadata": {},
            "source": [
                "<!--html_preserve-->\n",
                "<!-- Global site tag (gtag.js) - Google Analytics -->\n",
                "<script async src=\"https://www.googletagmanager.com/gtag/js?id=UA-130562131-1\"><\/script>\n",
                "<script>\n",
                "  window.dataLayer = window.dataLayer || [];\n",
                "  function gtag(){dataLayer.push(arguments);}\n",
                "  gtag('js', new Date());\n",
                "\n",
                "  gtag('config', 'UA-130562131-1');\n",
                "<\/script>\n",
                "<!--/html_preserve-->\n"
            ]
        },
        {
            "cell_type": "code",
            "execution_count": null,
            "metadata": {},
            "outputs": [],
            "source": [
                "knitr::include_graphics(\"https://slcladal.github.io/images/uq1.jpg\")\n",
                "\n"
            ]
        },
        {
            "cell_type": "markdown",
            "metadata": {},
            "source": [
                "# Introduction{-}\n",
                "\n",
                "This tutorial introduces regression analyses (also called regression modeling) using R. Regression models are among the most widely used quantitative methods in the language sciences to assess if and how predictors (variables or interactions between variables) correlate with a certain response. The R-markdown document for the tutorial can be downloaded [here](https://slcladal.github.io/regression.Rmd).\n",
                "\n",
                "Regression models are so popular because they can\n",
                "\n",
                "* incorporate many predictors in a single model (multivariate: allows to test the impact of one predictor while the impact of (all) other predictors is controlled for)\n",
                "\n",
                "* extremely flexible and and can be fitted to different types of predictors and dependent variables\n",
                "\n",
                "* provide output that can be easily interpreted\n",
                "\n",
                "* conceptually relative simple and not overly complex from a  mathematical perspective\n",
                "\n",
                "R offers various ready-made functions with which implementing different types of regression models is very easy.\n",
                "\n",
                "The most widely use regression models are\n",
                "\n",
                "* linear regression (dependent variable is numeric, no outliers)\n",
                "\n",
                "* logistic regression (dependent variable is binary)\n",
                "\n",
                "* ordinal regression (dependent variable represents an ordered factor, e.g. Likert items)\n",
                "\n",
                "* multinomial regression (dependent variable is categorical)\n",
                "\n",
                "\n",
                "The major difference between these types of models is that they take different types of dependent variables: linear regressions take numeric, logistic regressions take nominal variables, ordinal regressions take ordinal variables, and Poisson regressions take dependent variables that reflect counts of (rare) events. Robust regression, in contrast, is a simple multiple linear regression that is able to handle outliers due to a weighing procedure.\n",
                "\n",
                "If regression models contain a random effect structure which is used to model nestedness or dependence among data points, the regression models are called *mixed-effect models*. Regressions that do not have a random effect component to model  nestedness or dependence are referred to as fixed-effect regressions (we will have a closer look at the difference between fixed and random effects below).\n",
                "\n",
                "There are two basic types of regression models: fixed-effects regression models and mixed-effects regression models.  Fixed-effects regression models are models that assume a non-hierarchical data structure, i.e. data where data points are not nested or grouped in higher order categories (e.g. students within classes). The first part of this tutorial focuses on fixed-effects regression models while the second part focuses on mixed-effects regression models.\n",
                "\n",
                "There exists a wealth of literature focusing on  regression analysis and the concepts it is based on.  For instance, there are @achen1982interpreting, @bortz2006statistik, @crawley2005statistics, @faraway2002practical, @field2012discovering (my personal favorite), @gries2021statistics, @levshina2015linguistics,  and @wilcox2009basic to name just a few. Introductions to regression modeling in R are @baayen2008analyzing, @crawley2012r, @gries2021statistics, or @levshina2015linguistics.\n",
                "\n",
                "**The basic principle**\n",
                "\n",
                "The idea behind regression analysis is expressed formally in the equation below where $f_{(x)}$ is the $y$-value we want to predict, $\\alpha$ is the intercept (the point where the regression line crosses the $y$-axis), $\\beta$ is the coefficient (the slope of the regression line). \n",
                "\n",
                "$f_{(x)} = \\alpha + \\beta_{i}x + \\epsilon$\n",
                "\n",
                "To understand what this means, let us imagine that we have collected information about the how tall people are and what they weigh. Now we want to predict the weight of people of a certain height - let's say 180cm.\n"
            ]
        },
        {
            "cell_type": "code",
            "execution_count": null,
            "metadata": {},
            "outputs": [],
            "source": [
                "library(knitr)\n",
                "library(kableExtra)\n",
                "library(tidyverse)\n",
                "Height <- c(173, 169, 176, 166, 161, 164, 160, 158, 180, 187)\n",
                "Weight <- c(80, 68, 72, 75, 70, 65, 62, 60, 85, 92) \n",
                "df <- data.frame(Height, Weight)\n",
                "# inspect data\n",
                "df %>%\n",
                "  kable(caption = \"Weigth and height of a random sample of people.\") %>%\n",
                "  kableExtra::kable_styling(bootstrap_options = c(\"striped\", \"hover\", \"condensed\", \"responsive\"), full_width = F)\n"
            ]
        },
        {
            "cell_type": "markdown",
            "metadata": {},
            "source": [
                "We can run a simple linear regression on the data and we get the following output:\n",
                "\n"
            ]
        },
        {
            "cell_type": "code",
            "execution_count": null,
            "metadata": {},
            "outputs": [],
            "source": [
                "# model for upper panels\n",
                "summary(glm(Weight ~ 1, data = df))\n"
            ]
        },
        {
            "cell_type": "markdown",
            "metadata": {},
            "source": [
                "To estimate how much some weights who is 180cm tall, we would multiply the coefficent (slope of the line) with 180 ($x$) and add the value of the intercept (point where line crosses the $y$-axis). If we plug in the numbers from the regression model below, we get\n",
                "\n",
                "-93.77 + 0.98 ∗ 180 = 83.33 (kg)\n",
                "\n",
                "A person who is 180cm tall is predicted to weigh 83.33kg. Thus, the predictions of the weights are visualized as the red line in the figure below. Such lines are called *regression lines*. Regression lines are those lines where the sum of the red lines should be minimal. The slope of the regression line is called *coefficient* and the point where the regression line crosses the y-axis is called the *intercept*. Other important concepts in regression analysis are *variance* and *residuals*. *Residuals* are the distance between the line and the points (the red lines) and it is also called *variance*.\n"
            ]
        },
        {
            "cell_type": "code",
            "execution_count": null,
            "metadata": {},
            "outputs": [],
            "source": [
                "# load package\n",
                "library(ggpubr)\n",
                "library(vip)\n",
                "# generate data\n",
                "Height <- c(173, 169, 176, 166, 161, 164, 160, 158, 180, 187)\n",
                "Weight <- c(80, 68, 72, 75, 70, 65, 62, 60, 85, 92) \n",
                "df <- data.frame(Height, Weight) %>%\n",
                "  dplyr::mutate(Pred = predict(lm(Weight ~ Height)))\n",
                "# generate plots\n",
                "p <- ggplot(df, aes(Height, Weight)) +\n",
                "  geom_point() +\n",
                "  theme_bw() +\n",
                "  theme(panel.grid.major = element_blank(), panel.grid.minor = element_blank())\n",
                "p1 <- p\n",
                "p2 <- p +\n",
                "  geom_hline(yintercept=mean(Weight), color = \"blue\") + \n",
                "  geom_segment(aes(xend = Height, yend = mean(Weight)), color = \"red\") +\n",
                "  ggplot2::annotate(geom = \"text\", label = \"Residual Deviance = 946.9\", x = 170, y = 100, size = 3) \n",
                "p3 <- p +\n",
                "    geom_smooth(color = \"blue\", se = F, method = \"lm\", size = .5)\n",
                "p4 <- p3 +\n",
                "  geom_segment(aes(xend = Height, yend = Pred), color = \"red\") +\n",
                "  ggplot2::annotate(geom = \"text\", label = \"Residual Deviance = 164.3\", x = 170, y = 100, size = 3)\n",
                "ggpubr::ggarrange(p1, p2, p3, p4, ncol = 2, nrow = 2)\n"
            ]
        },
        {
            "cell_type": "markdown",
            "metadata": {},
            "source": [
                "Now that we are familiar with the basic principle of regression modeling - i.e. finding the line through data that has the smallest sum of residuals, we will apply this to a linguistic example.\n",
                "\n",
                "### Preparation and session set up{-}\n",
                "\n",
                "This tutorial is based on R. If you have not installed R or are new to it, you will find an introduction to and more information how to use R [here](https://slcladal.github.io/intror.html). For this tutorials, we need to install certain *packages* from an R *library* so that the scripts shown below are executed without errors. Before turning to the code below, please install the packages by running the code below this paragraph. If you have already installed the packages mentioned below, then you can skip ahead and ignore this section. To install the necessary packages, simply run the following code - it may take some time (between 1 and 5 minutes to install all of the libraries so you do not need to worry if it takes some time).\n"
            ]
        },
        {
            "cell_type": "code",
            "execution_count": null,
            "metadata": {},
            "outputs": [],
            "source": [
                "# set options\n",
                "options(stringsAsFactors = F)         # no automatic data transformation\n",
                "options(\"scipen\" = 100, \"digits\" = 10) # suppress math annotation\n",
                "# install packages\n",
                "install.packages(c(\"boot\", \"car\", \"caret\", \"tidyverse\",  \"effects\", \"foreign\", \n",
                "                   \"Hmisc\", \"DT\", \"knitr\", \"lme4\", \"MASS\", \"mlogit\", \"msm\", \n",
                "                   \"QuantPsyc\", \"reshape2\", \"rms\", \"sandwich\", \"robustbase\", \"sjPlot\", \n",
                "                   \"vcd\", \"visreg\", \"MuMIn\"))\n"
            ]
        },
        {
            "cell_type": "markdown",
            "metadata": {},
            "source": "\n"
        },
        {
            "cell_type": "code",
            "execution_count": null,
            "metadata": {},
            "outputs": [],
            "source": [
                "# set options\n",
                "options(stringsAsFactors = F)         # no automatic data transformation\n",
                "options(\"scipen\" = 100, \"digits\" = 12) # suppress math annotation\n"
            ]
        },
        {
            "cell_type": "markdown",
            "metadata": {},
            "source": [
                "Once you have installed R and RStudio and initiated the session by executing the code shown above, you are good to go.\n",
                "\n",
                "# Fixed Effects Regression\n",
                "\n",
                "Before turning to mixed-effects models which are able to represent hierarchical data structures, we will focus on traditional fixed effects regression models and begin with multiple linear regression. \n",
                "\n",
                "\n",
                "## Simple Linear Regression\n",
                " \n",
                "This section focuses on a very widely used statistical method which is called regression. Regressions are used when we try to understand how independent variables correlate with a dependent or outcome variable. So, if you want to investigate how a certain factor affects an outcome, then a regression is the way to go. We will have a look at two simple examples to understand what the concepts underlying a regression mean and how a regression works. The R-code, that we will use, is adapted from @field2012discovering  - which is highly recommended for understanding regression analyses! In addition to @field2012discovering, there are various introductions which also focus on regression (among other types of analyses), for example, @gries2021statistics,  @winter2019statistics, @levshina2015linguistics, or @wilcox2009basic. @baayen2008analyzing is also very good but probably not the first book one should read about statistics.\n",
                "\n",
                "Although the basic logic underlying regressions is identical to the conceptual underpinnings of *analysis of variance* (ANOVA), a related method, sociolinguistists have traditionally favored regression analysis in their studies while ANOVAs have been the method of choice in psycholinguistics. The preference for either method is grounded in historical happenstances and the culture of these subdisciplines rather than in methodological reasoning. However, ANOVA are more restricted in that they can only take numeric dependent variables and they have stricter model assumptions that are violated more readily. In addition, a minor difference between regressions and ANOVA lies in the fact that regressions are based on the $t$-distribution while ANOVAs use the F-distribution (however, the F-value is simply the value of t squared or t^2^). Both t- and F-values report on the ratio between explained and unexplained variance.\n",
                "\n",
                "The idea behind regression analysis is expressed formally in the equation below where$f_{(x)}$ is the y-value we want to predict, $\\alpha$ is the intercept (the point where the regression line crosses the y-axis), $\\beta$ is the coefficient (the slope of the regression line). \n",
                "\n",
                "$f_{(x)} = \\alpha + \\beta_{i}x + \\epsilon$\n",
                "\n",
                "In other words, to estimate how much some weights who is 180cm tall, we would multiply the coefficient (slope of the line) with 180 (x) and add the value of the intercept (point where line crosses the y-axis). \n",
                "\n",
                "However, the idea behind regressions can best be described graphically: imagine a cloud of points (like the points in the scatterplot in the upper left panel below). Regressions aim to find that line which has the minimal summed distance between points and the line (like the line in the lower panels). Technically speaking, the aim of a regression is to find the line with the minimal deviance (or the line with the minimal sum of residuals). Residuals are the distance between the line and the points (the red lines) and it is also called *variance*. \n",
                "\n",
                "Thus, regression lines are those lines where the sum of the red lines should be minimal. The slope of the regression line is called *coefficient* and the point where the regression line crosses the y-axis is called the *intercept*.\n"
            ]
        },
        {
            "cell_type": "code",
            "execution_count": null,
            "metadata": {},
            "outputs": [],
            "source": [
                "# load package\n",
                "library(tidyverse)\n",
                "library(ggpubr)\n",
                "# generate data\n",
                "Height <- c(173, 169, 176, 166, 161, 164, 160, 158, 180, 187)\n",
                "Weight <- c(80, 68, 72, 75, 70, 65, 62, 60, 85, 92) \n",
                "df <- data.frame(Height, Weight) %>%\n",
                "  dplyr::mutate(Pred = predict(lm(Weight ~ Height)))\n",
                "# generate plots\n",
                "p <- ggplot(df, aes(Height, Weight)) +\n",
                "  geom_point() +\n",
                "  theme_bw() +\n",
                "  theme(panel.grid.major = element_blank(), panel.grid.minor = element_blank())\n",
                "p1 <- p\n",
                "p2 <- p +\n",
                "  geom_hline(yintercept=mean(Weight), color = \"blue\") + \n",
                "  geom_segment(aes(xend = Height, yend = mean(Weight)), color = \"red\") +\n",
                "  ggplot2::annotate(geom = \"text\", label = \"Residual Deviance = 30.8\", x = 170, y = 100, size = 3) \n",
                "p3 <- p +\n",
                "  geom_smooth(color = \"blue\", se = F, method = \"lm\", size = .5)\n",
                "p4 <- p3 +\n",
                "  geom_segment(aes(xend = Height, yend = Pred), color = \"red\") +\n",
                "  ggplot2::annotate(geom = \"text\", label = \"Residual Deviance = 12.8\", x = 170, y = 100, size = 3)\n",
                "ggpubr::ggarrange(p1, p2, p3, p4, ncol = 2, nrow = 2)\n"
            ]
        },
        {
            "cell_type": "markdown",
            "metadata": {},
            "source": [
                "A word about standard errors (SE) is in order here because most commonly used statistics programs will provide SE values when reporting regression models. The SE is a measure that tells us how much the coefficients were to vary if the same regression were applied to many samples from the same population. A relatively small SE value therefore indicates that the coefficients will remain very stable if the same regression model is fitted to many different samples with identical parameters. In contrast, a large SE tells you that the model is volatile and not very stable or reliable as the coefficients vary substantially if the model is applied to many samples. \n",
                "\n",
                "\n",
                "Mathematically, the SE is the standard deviation (SD) divided by the square root of the sample size (N) (see below).The SD is the square root of the deviance (that is, the SD is the square root of the sum of the mean \\bar{x} minus each data point (x_{i}) squared divided by the sample size (N) minus 1).\n",
                "\n",
                "Standard Error (SE) = $\\frac{\\sum (\\bar{x}-x_{i})^2/N-1}{\\sqrt{N}} = \\frac{SD}{\\sqrt{N}}$\n",
                "\n",
                "\n",
                "### Example 1: Preposition Use across Real-Time{-}\n",
                "\n",
                "We will now turn to our first example. In this example, we will investigate whether the frequency of prepositions has changed from Middle English to Late Modern English. The reasoning behind this example is that Old English was highly synthetic compared with Present-Day English which comparatively analytic. In other words, while Old English speakers used case to indicate syntactic relations, speakers of Present-Day English use word order and prepositions to indicate syntactic relationships. This means that the loss of case had to be compensated by different strategies and maybe these strategies continued to develop and increase in frequency even after the change from synthetic to analytic had been mostly accomplished. And this prolonged change in compensatory strategies is what this example will focus on. \n",
                "\n",
                "The analysis is based on data extracted from the *Penn Corpora of Historical English* (see http://www.ling.upenn.edu/hist-corpora/), that consists of 603 texts written between 1125 and 1900. In preparation of this example, all elements that were part-of-speech tagged as prepositions were extracted from the PennCorpora. \n",
                "\n",
                "Then, the relative frequencies (per 1,000 words) of prepositions per text were calculated. This frequency of prepositions per 1,000 words represents our dependent variable. In a next step, the date when each letter had been written was extracted. The resulting two vectors were combined into a table which thus contained for each text, when it was written (independent variable) and its relative frequency of prepositions (dependent or outcome variable).\n",
                "\n",
                "A regression analysis will follow the steps described below: \n",
                "\n",
                "1. Extraction and processing of the data\n",
                "\n",
                "2. Data visualization\n",
                "\n",
                "3. Applying the regression analysis to the data\n",
                "\n",
                "4. Diagnosing the regression model and checking whether or not basic model assumptions have been violated.\n",
                "\n",
                "In a first step, we load the packages and functions.\n"
            ]
        },
        {
            "cell_type": "code",
            "execution_count": null,
            "metadata": {},
            "outputs": [],
            "source": [
                "# load packages\n",
                "library(car)\n",
                "library(tidyverse)\n",
                "# load functions\n",
                "source(\"https://slcladal.github.io/rscripts/slrsummary.r\")\n"
            ]
        },
        {
            "cell_type": "markdown",
            "metadata": {},
            "source": "\n"
        },
        {
            "cell_type": "code",
            "execution_count": null,
            "metadata": {},
            "outputs": [],
            "source": [
                "# load packages for website\n",
                "library(knitr) \n",
                "library(kableExtra) \n",
                "library(DT)\n"
            ]
        },
        {
            "cell_type": "markdown",
            "metadata": {},
            "source": [
                "After preparing our session, we can now load and inspect the data to get a first impression of its properties.\n",
                "\n"
            ]
        },
        {
            "cell_type": "code",
            "execution_count": null,
            "metadata": {},
            "outputs": [],
            "source": [
                "# load data\n",
                "slrdata <- read.delim(\"https://slcladal.github.io/data/lmmdata.txt\", header = TRUE)\n"
            ]
        },
        {
            "cell_type": "markdown",
            "metadata": {},
            "source": "\n"
        },
        {
            "cell_type": "code",
            "execution_count": null,
            "metadata": {},
            "outputs": [],
            "source": [
                "# inspect data\n",
                "slrdata %>%\n",
                "  head(20) %>%\n",
                "  kable(caption = \"First 20 rows of slrdata.\") %>%\n",
                "  kableExtra::kable_styling(bootstrap_options = c(\"striped\", \"hover\", \"condensed\", \"responsive\"), \n",
                "                            full_width = F)\n"
            ]
        },
        {
            "cell_type": "markdown",
            "metadata": {},
            "source": [
                "Inspecting the data is very important because it can happen that a data set may not load completely or that variables which should be numeric have been converted to character variables. If unchecked, then such issues could go unnoticed and cause trouble.\n",
                "\n",
                "We will now plot the data to get a better understanding of what the data looks like.\n"
            ]
        },
        {
            "cell_type": "code",
            "execution_count": null,
            "metadata": {},
            "outputs": [],
            "source": [
                "p1 <- ggplot(slrdata, aes(Date, Prepositions)) +\n",
                "  geom_point() +\n",
                "  theme_bw() +\n",
                "  labs(x = \"Year\") +\n",
                "  labs(y = \"Prepositions per 1,000 words\") +\n",
                "  geom_smooth()\n",
                "p2 <- ggplot(slrdata, aes(Date, Prepositions)) +\n",
                "  geom_point() +\n",
                "  theme_bw() +\n",
                "  labs(x = \"Year\") +\n",
                "  labs(y = \"Prepositions per 1,000 words\") +\n",
                "  geom_smooth(method = \"lm\") # with linear model smoothing!\n",
                "# display plots\n",
                "ggpubr::ggarrange(p1, p2, ncol = 2, nrow = 1)\n"
            ]
        },
        {
            "cell_type": "markdown",
            "metadata": {},
            "source": [
                "Before beginning with the regression analysis, we will center the year. We center the values of year by subtracting each value from the mean of year. This can be useful when dealing with numeric variables because if we did not center year, we would get estimated values for year 0 (a year when English did not even exist yet). If a variable is centered, the regression provides estimates of the model refer to the mean of that numeric variable. In other words, centering can be very helpful, especially with respect to the interpretation of the results that regression models report.\n",
                "\n"
            ]
        },
        {
            "cell_type": "code",
            "execution_count": null,
            "metadata": {},
            "outputs": [],
            "source": [
                "# center date\n",
                "slrdata$Date <- slrdata$Date - mean(slrdata$Date) \n"
            ]
        },
        {
            "cell_type": "markdown",
            "metadata": {},
            "source": [
                "We will now begin the regression analysis by generating a first regression model and inspect its results. \n",
                "\n"
            ]
        },
        {
            "cell_type": "code",
            "execution_count": null,
            "metadata": {},
            "outputs": [],
            "source": [
                "# create initial model\n",
                "m1.lm <- lm(Prepositions ~ Date, data = slrdata)\n",
                "# inspect results\n",
                "summary(m1.lm)\n"
            ]
        },
        {
            "cell_type": "markdown",
            "metadata": {},
            "source": [
                "The summary output starts by repeating the regression equation. Then, the model provides the distribution of the residuals. The residuals should be distributed normally with the absolute values of the Min and Max as well as the 1Q (first quartile) and 3Q (third quartile) being similar or ideally identical. In our case, the values are very similar which suggests that the residuals are distributed evenly and follow a normal distribution. The next part of the report is the coefficients table. The Estimate for the intercept is the value of y at x = 0 (or, if the y-axis is located at x = 0, the value of y where the regression line crosses the y-axis). The estimate for Date represents the slope of the regression line and tells us that with each year, the predicted frequency of prepositions increase by .01732 prepositions. The t-value is the Estimate divided by the standard error (Std. Error). Based on the t-value, the p-value can be calculated manually as shown below.\n",
                "\n"
            ]
        },
        {
            "cell_type": "code",
            "execution_count": null,
            "metadata": {},
            "outputs": [],
            "source": [
                "# use pt function (which uses t-values and the degrees of freedom)\n",
                "2*pt(-2.383, nrow(slrdata)-1)\n"
            ]
        },
        {
            "cell_type": "markdown",
            "metadata": {},
            "source": [
                "The R^2^-values tell us how much variance is explained by our model. The baseline value represents a model that uses merely the mean. 0.0105 means that our model explains only 1.05 percent of the variance (0.010 x 100) - which is a tiny amount. The problem of the multiple R^2^ is that it will increase even if we add variables that explain almost no variance. Hence, multiple R^2^ encourages the inclusion of *junk* variables.\n",
                "\n",
                "$R^2 = R^2_{multiple} = 1 - \\frac{\\sum (y_i - \\hat{y_i})^2}{\\sum (y_i - \\bar y)^2}$\n",
                "\n",
                "The adjusted R^2^-value takes the number of predictors into account and, thus, the adjusted R^2^ will always be lower than the multiple R^2^. This is so because the adjusted R^2^ penalizes models for having predictors. The equation for the adjusted R^2^ below shows that the amount of variance that is explained by all the variables in the model (the top part of the fraction) must outweigh the inclusion of the number of variables (k) (lower part of the fraction). Thus, the  adjusted R^2^ will decrease when variables are added that explain little or even no variance while it will increase if variables are added that explain a lot of variance.\n",
                "\n",
                "\n",
                "$R^2_{adjusted} = 1 - (\\frac{(1 - R^2)(n - 1)}{n - k - 1})$\n",
                "\n",
                "\n",
                "If there is a big difference between the two R^2^-values, then the model contains (many) predictors that do not explain much variance which is not good. The F-statistic and the associated p-value tell us that the model, despite explaining almost no variance, is still significantly better than an intercept-only base-line model (or using the overall mean to predict the frequency of prepositions per text).\n",
                "\n",
                "We can test this and also see where the F-values comes from by comparing the \n",
                " \n"
            ]
        },
        {
            "cell_type": "code",
            "execution_count": null,
            "metadata": {},
            "outputs": [],
            "source": [
                "# create intercept-only base-line model\n",
                "m0.lm <- lm(Prepositions ~ 1, data = slrdata)\n",
                "# compare the base-line and the more saturated model\n",
                "anova(m1.lm, m0.lm, test = \"F\")\n"
            ]
        },
        {
            "cell_type": "markdown",
            "metadata": {},
            "source": [
                "The F- and p-values are exactly those reported by the summary which shows where the F-values comes from and what it means; namely it denote the difference between the base-line and the more saturated model.\n",
                "\n",
                "\n",
                "The degrees of freedom associated with the residual standard error are the number of cases in the model minus the number of predictors (including the intercept). The residual standard error is square root of the sum of the squared residuals of the model divided by the degrees of freedom. Have a look at he following to clear this up:\n"
            ]
        },
        {
            "cell_type": "code",
            "execution_count": null,
            "metadata": {},
            "outputs": [],
            "source": [
                "# DF = N - number of predictors (including intercept)\n",
                "DegreesOfFreedom <- nrow(slrdata)-length(coef(m1.lm))\n",
                "# sum of the squared residuals\n",
                "SumSquaredResiduals <- sum(resid(m1.lm)^2)\n",
                "# Residual Standard Error\n",
                "sqrt(SumSquaredResiduals/DegreesOfFreedom); DegreesOfFreedom\n"
            ]
        },
        {
            "cell_type": "markdown",
            "metadata": {},
            "source": [
                "We will now check if mathematical assumptions have been violated (homogeneity of variance) or whether the data contains outliers. We check this using diagnostic plots.\n",
                "\n"
            ]
        },
        {
            "cell_type": "code",
            "execution_count": null,
            "metadata": {},
            "outputs": [],
            "source": [
                "# generate data\n",
                "df2 <- data.frame(id = 1:length(resid(m1.lm)),\n",
                "                 residuals = resid(m1.lm),\n",
                "                 standard = rstandard(m1.lm),\n",
                "                 studend = rstudent(m1.lm))\n",
                "# generate plots\n",
                "p1 <- ggplot(df2, aes(x = id, y = residuals)) + \n",
                "  theme(panel.grid.major = element_blank(), panel.grid.minor = element_blank()) +\n",
                "  geom_point() +\n",
                "  labs(y = \"Residuals\", x = \"Index\")\n",
                "p2 <- ggplot(df2, aes(x = id, y = standard)) + \n",
                "  theme(panel.grid.major = element_blank(), panel.grid.minor = element_blank()) +\n",
                "  geom_point() +\n",
                "  labs(y = \"Standardized Residuals\", x = \"Index\")\n",
                "p3 <- ggplot(df2, aes(x = id, y = studend)) + \n",
                "  theme(panel.grid.major = element_blank(), panel.grid.minor = element_blank()) +\n",
                "  geom_point() +\n",
                "  labs(y = \"Studentized Residuals\", x = \"Index\")\n",
                "# display plots\n",
                "ggpubr::ggarrange(p1, p2, p3, ncol = 3, nrow = 1)\n"
            ]
        },
        {
            "cell_type": "markdown",
            "metadata": {},
            "source": [
                "The left graph shows the residuals of the model (i.e., the differences between the observed and the values predicted by the regression model). The problem with this plot is that the residuals are not standardized and so they cannot be compared to the residuals of other models. To remedy this deficiency, residuals are normalized by dividing the residuals by their standard deviation. Then, the normalized residuals can be plotted against the observed values (centre panel). In this way, not only are standardized residuals obtained, but the values of the residuals are transformed into z-values, and one can use the z-distribution to find problematic data points. There are three rules of thumb regarding finding problematic data points through standardized residuals [@field2012discovering 268-269]:\n",
                "\n",
                "* Points with values higher than 3.29 should be removed from the data.\n",
                "\n",
                "* If more than 1% of the data points have values higher than 2.58, then the error rate of our model is too high.\n",
                "\n",
                "* If more than 5% of the data points have values greater than 1.96, then the error rate of our model is too high.\n",
                "\n",
                "\n",
                "The right panel shows the * studentized residuals* (adjusted predicted values: each data point is divided by the standard error of the residuals). In this way, it is possible to use Student's t-distribution to diagnose our model.\n",
                "\n",
                "Adjusted predicted values are residuals of a special kind: the model is calculated without a data point and then used to predict this data point. The difference between the observed data point and its predicted value is then called the adjusted predicted value. In summary, studentized residuals are very useful because they allow us to identify influential data points.\n",
                "\n",
                "The plots show that there are two potentially problematic data points (the top-most and bottom-most point). These two points are clearly different from the other data points and may therefore be outliers. We will test later if these points need to be removed.\n",
                "\n",
                "We will now generate more diagnostic plots.\n"
            ]
        },
        {
            "cell_type": "code",
            "execution_count": null,
            "metadata": {},
            "outputs": [],
            "source": [
                "# load package\n",
                "library(ggfortify)\n",
                "# generate plots\n",
                "autoplot(m1.lm) + \n",
                "  theme(panel.grid.major = element_blank(), panel.grid.minor = element_blank()) \n"
            ]
        },
        {
            "cell_type": "markdown",
            "metadata": {},
            "source": [
                "The diagnostic plots are very positive and we will go through why this is so for each panel. The graph in the upper left panel is useful for finding outliers or for determining the correlation between residuals and predicted values: when a trend becomes visible in the line or points (e.g., a rising trend or a zigzag line), then this would indicate that the model would be problematic (in such cases, it can help to remove data points that are too influential (outliers)).\n",
                "\n",
                "The graphic in the upper right panel indicates whether the residuals are normally distributed (which is desirable) or whether the residuals do not follow a normal distribution. If the points lie on the line, the residuals follow a normal distribution. For example, if the points are not on the line at the top and bottom, it shows that the model does not predict small and large values well and that it therefore does not have a good fit.\n",
                "\n",
                "The graphic in the lower left panel provides information about *homoscedasticity*. Homoscedasticity means that the variance of the residuals remains constant and does not correlate with any independent variable. In unproblematic cases, the graphic shows a flat line. If there is a trend in the line, we are dealing with heteroscedasticity, that is, a correlation between independent variables and the residuals, which is very problematic for regressions.\n",
                "\n",
                "The graph in the lower right panel shows problematic influential data points that disproportionately affect the regression (this would be problematic). If such influential data points are present, they should be either weighted (one could generate a robust rather than a simple linear regression) or they must be removed. The graph displays Cook's distance, which shows how the regression changes when a model without this data point is calculated. The cook distance thus shows the influence a data point has on the regression as a whole. Data points that have a Cook's distance value greater than 1 are problematic [@field2012discovering 269].\n",
                "\n",
                "The so-called leverage is also a measure that indicates how strongly a data point affects the accuracy of the regression. Leverage values range between 0 (no influence) and 1 (strong influence: suboptimal!). To test whether a specific data point has a high leverage value, we calculate a cut-off point that indicates whether the leverage is too strong or still acceptable. The following two formulas are used for this:\n",
                "\n",
                "\n",
                "Leverage = $\\frac{3(k + 1)}{n} |  \\frac{2(k + 1)}{n}$\n",
                "\n",
                "\n",
                "We will look more closely at leverage in the context of multiple linear regression and will therefore end the current analysis by summarizing the results of the regression analysis in a table.\n"
            ]
        },
        {
            "cell_type": "code",
            "execution_count": null,
            "metadata": {},
            "outputs": [],
            "source": [
                "# create summary table\n",
                "slrsummary(m1.lm)  \n"
            ]
        },
        {
            "cell_type": "markdown",
            "metadata": {},
            "source": "\n"
        },
        {
            "cell_type": "code",
            "execution_count": null,
            "metadata": {},
            "outputs": [],
            "source": [
                "# generate table\n",
                "slrsummary(m1.lm) %>%\n",
                "  kable(caption = \"Results of a simple linear regression analysis.\") %>%\n",
                "  kableExtra::kable_styling(bootstrap_options = c(\"striped\", \"hover\", \"condensed\", \"responsive\"))\n"
            ]
        },
        {
            "cell_type": "markdown",
            "metadata": {},
            "source": [
                "An alternative but less informative summary table of the results of a regression analysis can be generated using the `tab_model` function from the `sjPlot` package (as is shown below).\n",
                "\n"
            ]
        },
        {
            "cell_type": "code",
            "execution_count": null,
            "metadata": {},
            "outputs": [],
            "source": [
                "#load package\n",
                "library(sjPlot)\n",
                "# generate summary table\n",
                "sjPlot::tab_model(m1.lm) \n"
            ]
        },
        {
            "cell_type": "markdown",
            "metadata": {},
            "source": [
                "***\n",
                "\n",
                "Typically, the results of regression analyses are presented in such tables as they include all important measures of model quality and significance, as well as the magnitude of the effects.\n",
                "\n",
                "In addition, the results of simple linear regressions should be summarized in writing. An example of how the results of a regression analysis can be written up is provided below.\n",
                "\n",
                "A simple linear regression has been fitted to the data. A visual assessment of the model diagnostic graphics did not indicate any problematic or disproportionately influential data points (outliers) and performed significantly better compared to an intercept-only base line model but only explained .87 percent of the variance (adjusted R^2^: .0087, F-statistic (1, 535): 5,68, p-value: 0.0175\\*). The final minimal adequate linear regression model is based on 537 data points and confirms a significant and positive correlation between the year in which the text was written and the relative frequency of prepositions (coefficient estimate: .02, SE: 0.01, t-value: 2.38, p-value: .0175\\*).\n",
                "\n",
                "### Example 2: Teaching Styles{-}\n",
                "\n",
                "In the previous example, we dealt with two numeric variables, while the following example deals with a categorical independent variable and a numeric dependent variable. The ability for regressions to handle very different types of variables makes regressions a widely used and robust method of analysis.\n",
                "\n",
                "In this example, we are dealing with two groups of students that have been randomly assigned to be exposed to different teaching methods. Both groups undergo a language learning test after the lesson with a maximum score of 20 points. \n",
                "\n",
                "The question that we will try to answer is whether the students in group A have performed significantly better than those in group B which would indicate that the teaching method to which group A was exposed works better than the teaching method to which group B was exposed.\n",
                "\n",
                "Let's move on to implementing the regression in R. In a first step, we load the data set and inspect its structure.\n"
            ]
        },
        {
            "cell_type": "code",
            "execution_count": null,
            "metadata": {},
            "outputs": [],
            "source": [
                "# load data\n",
                "slrdata2 <- read.delim(\"https://slcladal.github.io/data/slrdata2.txt\", sep = \"\\t\", header = T)\n"
            ]
        },
        {
            "cell_type": "markdown",
            "metadata": {},
            "source": [
                "\n",
                "\n"
            ]
        },
        {
            "cell_type": "code",
            "execution_count": null,
            "metadata": {},
            "outputs": [],
            "source": [
                "# inspect data\n",
                "head(slrdata2) %>%\n",
                "  kable(caption = \"First 6 rows of the teaching styles data set.\") %>%\n",
                "  kableExtra::kable_styling(bootstrap_options = c(\"striped\", \"hover\", \"condensed\", \"responsive\"), full_width = F)\n"
            ]
        },
        {
            "cell_type": "markdown",
            "metadata": {},
            "source": [
                "Now, we graphically display the data. In this case, a boxplot represents a good way to visualize the data.\n",
                "\n"
            ]
        },
        {
            "cell_type": "code",
            "execution_count": null,
            "metadata": {},
            "outputs": [],
            "source": [
                "# extract means\n",
                "slrdata2 %>%\n",
                "  dplyr::group_by(Group) %>%\n",
                "  dplyr::mutate(Mean = round(mean(Score), 1), SD = round(sd(Score), 1)) %>%\n",
                "  ggplot(aes(Group, Score)) + \n",
                "  geom_boxplot(fill=c(\"orange\", \"darkgray\")) +\n",
                "  geom_text(aes(label = paste(\"M = \", Mean, sep = \"\"), y = 1)) +\n",
                "  geom_text(aes(label = paste(\"SD = \", SD, sep = \"\"), y = 0)) +\n",
                "  theme_bw(base_size = 15) +\n",
                "  labs(x = \"Group\") +                      \n",
                "  labs(y = \"Test score (Points)\", cex = .75) +   \n",
                "  coord_cartesian(ylim = c(0, 20)) +  \n",
                "  guides(fill = FALSE)                \n"
            ]
        },
        {
            "cell_type": "markdown",
            "metadata": {},
            "source": [
                "The data indicate that group A did significantly better than group B. We will test this impression by generating the regression model and creating the model and extracting the model summary. \n",
                "\n"
            ]
        },
        {
            "cell_type": "code",
            "execution_count": null,
            "metadata": {},
            "outputs": [],
            "source": [
                "# generate regression model\n",
                "m2.lm <- lm(Score ~ Group, data = slrdata2) \n",
                "# inspect results\n",
                "summary(m2.lm)                             \n"
            ]
        },
        {
            "cell_type": "markdown",
            "metadata": {},
            "source": [
                "The model summary reports that Group B performed significantly better compared with Group A. This is shown by the fact that the p -value (the value in the column with the header (Pr(>|t|)) is smaller than .001 as indicated by the three \\* after the p-values). Also, the negative Estimate for Group B indicates that Group B has fewer errors than Group A. We will now generate the diagnostic graphics.\n",
                "\n"
            ]
        },
        {
            "cell_type": "code",
            "execution_count": null,
            "metadata": {},
            "outputs": [],
            "source": [
                "par(mfrow = c(1, 3))        # plot window: 1 plot/row, 3 plots/column\n",
                "plot(resid(m2.lm))     # generate diagnostic plot\n",
                "plot(rstandard(m2.lm)) # generate diagnostic plot\n",
                "plot(rstudent(m2.lm)); par(mfrow = c(1, 1))  # restore normal plot window\n"
            ]
        },
        {
            "cell_type": "markdown",
            "metadata": {},
            "source": [
                "The graphics do not indicate outliers or other issues, so we can continue with more diagnostic graphics.\n",
                "\n"
            ]
        },
        {
            "cell_type": "code",
            "execution_count": null,
            "metadata": {},
            "outputs": [],
            "source": [
                "par(mfrow = c(2, 2)) # generate a plot window with 2x2 panels\n",
                "plot(m2.lm); par(mfrow = c(1, 1)) # restore normal plot window\n"
            ]
        },
        {
            "cell_type": "markdown",
            "metadata": {},
            "source": [
                "These graphics also show no problems. In this case, the data can be summarized in the next step.\n",
                "\n"
            ]
        },
        {
            "cell_type": "code",
            "execution_count": null,
            "metadata": {},
            "outputs": [],
            "source": [
                "# tabulate results\n",
                "slrsummary(m2.lm)\n"
            ]
        },
        {
            "cell_type": "markdown",
            "metadata": {},
            "source": "\n"
        },
        {
            "cell_type": "code",
            "execution_count": null,
            "metadata": {},
            "outputs": [],
            "source": [
                "slrsummary(m2.lm) %>%\n",
                "  kable(caption = \"Results of the regression analysis.\") %>%\n",
                "  kableExtra::kable_styling(bootstrap_options = c(\"striped\", \"hover\", \"condensed\", \"responsive\"), full_width = F)\n"
            ]
        },
        {
            "cell_type": "markdown",
            "metadata": {},
            "source": [
                "***\n",
                "\n",
                "The results of this second simple linear regressions can be summarized as follows: \n",
                "\n",
                "A simple linear regression was fitted to the data. A visual assessment of the model diagnostics did not indicate any problematic or disproportionately influential data points (outliers). The final linear regression model is based on 60 data points, performed significantly better than an intercept-only base line model (F (1, 58): 17.55, p-value <. 001^$***$^), and reported that the model explained 21.9 percent of variance which confirmed a good model fit. According to this final model, group A scored significantly better on the language learning test than group B (coefficient: -3.17, SE: 0.48, t-value: -4.19, p-value <. 001^$***$^).\n",
                "\n",
                "\n",
                "## Multiple Linear Regression\n",
                "\n",
                "In contrast to simple linear regression, which estimates the effect of a single predictor, multiple linear regression estimates the effect of various predictor (see the equation below). A multiple linear regression can thus test the effects of various predictors simultaneously.\n",
                "\n",
                "\\begin{equation}\n",
                "\n",
                "f_{(x)} = \\alpha + \\beta_{1}x_{i} + \\beta_{2}x_{i+1} + \\dots + \\beta_{n}x_{i+n} + \\epsilon\n",
                "\n",
                "\\end{equation}\n",
                "\n",
                "There exists a wealth of literature focusing on multiple linear regressions and the concepts it is based on.  For instance, there are @achen1982interpreting, @bortz2006statistik, @crawley2005statistics, @faraway2002practical, @field2012discovering (my personal favorite), @gries2021statistics, @levshina2015linguistics,  and @wilcox2009basic to name just a few. Introductions to regression modeling in R are @baayen2008analyzing, @crawley2012r, @gries2021statistics, or @levshina2015linguistics.\n",
                "\n",
                "The model diagnostics we are dealing with here are partly identical to the diagnostic methods discussed in the section on simple linear regression. Because of this overlap, diagnostics will only be described in more detail if they have not been described in the section on simple linear regression.\n",
                "\n",
                "A brief note on minimum necessary sample or data set size appears necessary here. Although there appears to be a general assumption that 25 data points per group are sufficient, this is not necessarily correct (it is merely a general rule of thumb that is actually often incorrect). Such rules of thumb are inadequate because the required sample size depends on the number of variables in a given model, the size of the effect and the variance of the effect. If a model contains many variables, then this requires a larger sample size than a model which only uses very few predictors. Also, to detect an effect with a very minor effect size, one needs a substantially larger sample compared to cases where the effect is very strong. In fact, when dealing with small effects, model require a minimum of 600 cases to reliably detect these effects. Finally, effects that are very robust and do not vary much require a much smaller sample size compared with effects that are spurious and vary substantially. Since the sample size depends on the effect size and variance as well as the number of variables, there is no final one-size-fits-all answer to what the best sample size is.\n",
                "\n",
                "Another, slightly better but still incorrect, rule of thumb is that the more data, the better. This is not correct because models based on too many cases are prone for overfitting and thus report correlations as being significant that are not. However, given that there are procedures that can correct for overfitting, larger data sets are still preferable to data sets that are simply too small to warrant reliable results. In conclusion, it remains true that the sample size depends on the effect under investigation.\n",
                "\n",
                "Despite there being no ultimate rule of thumb, @field2012discovering[273-275], based on @green1991many, provide data-driven suggestions for the minimal size of data required for regression models that aim to find medium sized effects (k = number of predictors; categorical variables with more than two levels should be transformed into dummy variables):\n",
                "\n",
                "* If one is merely interested in the overall model fit (something I have not encountered), then the sample size should be at least 50 + k (k = number of predictors in model).\n",
                "\n",
                "*  If one is only interested in the effect of specific variables, then the sample size should be at least 104 + k (k = number of predictors in model).\n",
                "\n",
                "*  If one is only interested in both model fit and the effect of specific variables, then the sample size should be at least the higher value of 50 + k or 104 + k (k = number of predictors in model).\n",
                "\n",
                "You will see in the R code below that there is already a function that tests whether the sample size is sufficient.\n",
                "\n",
                "### Example: Gifts and Availability{-}\n",
                "\n",
                "The example we will go through here is taken from @field2012discovering. In this example, the research question is if the money that men spend on presents for women depends on the women's attractiveness and their relationship status. To answer this research question, we will implement a multiple linear regression and start by preparing the R-session (activating necessary packages, and loading functions).\n"
            ]
        },
        {
            "cell_type": "code",
            "execution_count": null,
            "metadata": {},
            "outputs": [],
            "source": [
                "# load packages\n",
                "library(car)\n",
                "library(tidyverse)\n"
            ]
        },
        {
            "cell_type": "markdown",
            "metadata": {},
            "source": "\n"
        },
        {
            "cell_type": "code",
            "execution_count": null,
            "metadata": {},
            "outputs": [],
            "source": [
                "# load packages for website\n",
                "library(DT)\n",
                "library(knitr)\n",
                "library(gridExtra)\n"
            ]
        },
        {
            "cell_type": "markdown",
            "metadata": {},
            "source": [
                "After preparing the session, we can now load the data and inspect its structure and properties.\n",
                "\n"
            ]
        },
        {
            "cell_type": "code",
            "execution_count": null,
            "metadata": {},
            "outputs": [],
            "source": [
                "# load data\n",
                "mlrdata <- read.delim(\"https://slcladal.github.io/data/mlrdata.txt\", header = TRUE)\n"
            ]
        },
        {
            "cell_type": "markdown",
            "metadata": {},
            "source": "\n"
        },
        {
            "cell_type": "code",
            "execution_count": null,
            "metadata": {},
            "outputs": [],
            "source": [
                "# inspect data\n",
                "mlrdata %>%\n",
                "  head(20) %>%\n",
                "  kable(caption = \"First 20 rows of slrdata.\") %>%\n",
                "  kableExtra::kable_styling(bootstrap_options = c(\"striped\", \"hover\", \"condensed\", \"responsive\"), \n",
                "                            full_width = F)\n"
            ]
        },
        {
            "cell_type": "markdown",
            "metadata": {},
            "source": [
                "The data set consist of three variables stored in three columns. The first column contains the relationship status of the women, the second whether the man is interested in the woman, and the third column represents the money spend on the present. The data set represents 100 cases and the mean amount of money spend on a present is 88.38 dollars. In a next step, we visualize the data to get a more detailed impression of the relationships between variables.\n",
                "\n"
            ]
        },
        {
            "cell_type": "code",
            "execution_count": null,
            "metadata": {},
            "outputs": [],
            "source": [
                "# load packages\n",
                "library(vip)\n",
                "# create plots\n",
                "p1 <- ggplot(mlrdata, aes(status, money)) +   # data + x/y-axes\n",
                "  geom_boxplot(fill=c(\"grey30\", \"grey70\")) +  # def. col.\n",
                "  theme_bw(base_size = 8)+   # black and white theme\n",
                "  labs(x = \"\") +                              # x-axis label\n",
                "  labs(y = \"Money spent on present (AUD)\", cex = .75) +   # y-axis label\n",
                "  coord_cartesian(ylim = c(0, 250)) +         # y-axis range\n",
                "  guides(fill = FALSE) +                      # no legend\n",
                "  ggtitle(\"Status\")                           # title\n",
                "# plot 2\n",
                "p2 <- ggplot(mlrdata, aes(attraction, money)) +\n",
                "  geom_boxplot(fill=c(\"grey30\", \"grey70\")) +\n",
                "  theme_bw(base_size = 8) +\n",
                "  labs(x = \"\") +                              # x-axis label\n",
                "  labs(y = \"Money spent on present (AUD)\") +  # y-axis label\n",
                "  coord_cartesian(ylim = c(0, 250)) +\n",
                "  guides(fill = FALSE) +\n",
                "  ggtitle(\"Attraction\")\n",
                "# plot 3\n",
                "p3 <- ggplot(mlrdata, aes(x = money)) +\n",
                "  geom_histogram(aes(y=..density..),          # add density statistic\n",
                "                 binwidth = 10,               # def. bin width\n",
                "                 colour = \"black\",            # def. bar edge colour\n",
                "                 fill = \"white\") +            # def. bar col.\n",
                "  theme_bw() +                                # black-white theme\n",
                "  geom_density(alpha=.2, fill = \"gray50\") +   # def. col. of overlay\n",
                "  labs(x = \"Money spent on present (AUD)\") +\n",
                "  labs(y = \"Density of frequency\")\n",
                "# plot 4\n",
                "p4 <- ggplot(mlrdata, aes(status, money)) +\n",
                "  geom_boxplot(notch = F, aes(fill = factor(status))) + # create boxplot\n",
                "  scale_fill_manual(values = c(\"grey30\", \"grey70\")) +   # def. col. palette\n",
                "  facet_wrap(~ attraction, nrow = 1) +        # separate panels for attraction\n",
                "  labs(x = \"\") +\n",
                "  labs(y = \"Money spent on present (AUD)\") +\n",
                "  coord_cartesian(ylim = c(0, 250)) +\n",
                "  guides(fill = FALSE) +\n",
                "  theme_bw(base_size = 8)\n",
                "# show plots\n",
                "vip::grid.arrange(grobs = list(p1, p2, p3, p4), widths = c(1, 1), layout_matrix = rbind(c(1, 2), c(3, 4)))\n"
            ]
        },
        {
            "cell_type": "markdown",
            "metadata": {},
            "source": [
                "The upper left figure consists of a boxplot which shows how much money was spent by relationship status. The figure suggests that men spend more on women who are not in a relationship. The next figure shows the relationship between the money spend on presents and whether or not the men were interested in the women.\n",
                "\n",
                "The boxplot in the upper right panel suggests that men spend substantially more on women if the men are interested in them. The next figure depicts the distribution of the amounts of money spend on women. In addition, the figure indicates the existence of two outliers (dots in the boxplot)\n",
                "\n",
                "The histogram in the lower left panel shows that, although the mean amount of money spent on presents is 88.38 dollars, the distribution peaks around 50 dollars indicating that on average, men spend about 50 dollars on presents. Finally, we will plot the amount of money spend on presents against relationship status by attraction in order to check whether the money spent on presents is affected by an interaction between attraction and relationship status.\n",
                "\n",
                "The boxplot in the lower right panel confirms the existence of an interaction (a non-additive term) as men only spend more money on single women if the men are interested in the women. If men are not interested in the women, then the relationship has no effect as they spend an equal amount of money on the women regardless of whether they are in a relationship or not.\n",
                "\n",
                "We will now start to implement the regression model. In a first step, we create two saturated models that contain all possible predictors (main effects and interactions). The two models are identical but one is generated with the `lm` and the other with the `glm` function as these functions offer different model parameters in their output.\n"
            ]
        },
        {
            "cell_type": "code",
            "execution_count": null,
            "metadata": {},
            "outputs": [],
            "source": [
                "m1.mlr = lm(                      # generate lm regression object\n",
                "  money ~ 1 + attraction*status,  # def. rgression formula (1 = intercept)\n",
                "  data = mlrdata)                 # def. data\n",
                "m1.glm = glm(                     # generate glm regression object\n",
                "  money ~ 1 + attraction*status,  # def. rgression formula (1 = intercept)\n",
                "  family = gaussian,              # def. linkage function\n",
                "  data = mlrdata)                 # def. data\n"
            ]
        },
        {
            "cell_type": "markdown",
            "metadata": {},
            "source": [
                "After generating the saturated models we can now start with the model fitting. Model fitting refers to a process that aims at find the model that explains a maximum of variance with a minimum of predictors [see @field2012discovering 318]. Model fitting is therefore based on the *principle of parsimony* which is related to Occam's razor according to which explanations that require fewer assumptions are more likely to be true.\n",
                "\n",
                "### Automatic Model Fitting and Why You Should Not Use It{-}\n",
                "\n",
                "In this section, we will use a step-wise step-down procedure that uses decreases in AIC (*Akaike Information Criterion*) as the criterion to minimize the model in a step-wise manner. This procedure aims at finding the model with the lowest AIC values by evaluating - step-by-step - whether the removal of a predictor (term) leads to a lower AIC value.\n",
                "\n",
                "We use this method here just so that you know it exists and how to implement it but you should rather avoid using automated model fitting. The reason for avoiding automated model fitting is that the algorithm only checks if the AIC has decreased but not if the model is stable or reliable. Thus, automated model fitting has the problem that you can never be sure that the way that lead you to the final model is reliable and that all models were indeed stable. Imagine you want to climb down from a roof top and you have a ladder. The problem is that you do not know if and how many steps are broken. This is similar to using automated model fitting. In other sections, we will explore better methods to fit models (manual step-wise step-up and step-down procedures, for example).\n",
                "\n",
                "The AIC is calculated using the equation below. The lower the AIC value, the better the balance between explained variance and the number of predictors. AIC values can and should only be compared for models that are fit on the same data set with the same (number of) cases (*LL* stands for *logged likelihood* or *LogLikelihood* and *k* represents the number of predictors in the model (including the intercept); the LL represents a measure of how good the model fits the data).\n",
                "\n",
                "Akaike Information Criterion (AIC) = $-2LL + 2k$\n",
                "\n",
                "An alternative to the AIC is the BIC (Bayesian Information Criterion). Both AIC and BIC penalize models for including variables in a model. The penalty of the BIC is bigger than the penalty of the AIC and it includes the number of cases in the model (*LL* stands for *logged likelihood* or *LogLikelihood*, *k* represents the number of predictors in the model (including the intercept), and *N* represents the number of cases in the model). \n",
                "\n",
                "Bayesian Information Criterion (BIC) = $-2LL + 2k * log(N)$\n",
                "\n",
                "Interactions are evaluated first and only if all insignificant interactions have been removed would the procedure start removing insignificant main effects (that are not part of significant interactions). Other model fitting procedures (forced entry, step-wise step up, hierarchical) are discussed during the implementation of other regression models. We cannot discuss all procedures here as model fitting is rather complex and a discussion of even the most common procedures would to lengthy and time consuming at this point. It is important to note though that there is not perfect model fitting procedure and automated approaches should be handled with care as they are likely to ignore violations of model parameters that can be detected during manual - but time consuming - model fitting procedures. As a general rule of thumb, it is advisable to fit models as carefully and deliberately as possible. We will now begin to fit the model.\n"
            ]
        },
        {
            "cell_type": "code",
            "execution_count": null,
            "metadata": {},
            "outputs": [],
            "source": [
                "# automated AIC based model fitting\n",
                "step(m1.mlr, direction = \"both\")\n"
            ]
        },
        {
            "cell_type": "markdown",
            "metadata": {},
            "source": [
                "The automated model fitting procedure informs us that removing predictors has not caused a decrease in the AIC. The saturated model is thus also the final minimal adequate model. We will now inspect the final minimal model and go over the model report.\n",
                "\n"
            ]
        },
        {
            "cell_type": "code",
            "execution_count": null,
            "metadata": {},
            "outputs": [],
            "source": [
                "m2.mlr = lm(                       # generate lm regression object\n",
                "  money ~ (status + attraction)^2, # def. regression formula\n",
                "  data = mlrdata)                  # def. data\n",
                "m2.glm = glm(                      # generate glm regression object\n",
                "  money ~ (status + attraction)^2, # def. regression formula\n",
                "  family = gaussian,               # def. linkage function\n",
                "  data = mlrdata)                  # def. data\n",
                "# inspect final minimal model\n",
                "summary(m2.mlr)\n"
            ]
        },
        {
            "cell_type": "markdown",
            "metadata": {},
            "source": [
                "The first element of the report is called *Call* and it reports the regression formula of the model. Then, the report provides the residual distribution (the range, median and quartiles of the residuals) which allows drawing inferences about the distribution of differences between observed and expected values. If the residuals are distributed non-normally, then this is a strong indicator that the model is unstable and unreliable because mathematical assumptions on which the model is based are violated.\n",
                "\n",
                "Next, the model summary reports the most important part: a table with model statistics of the fixed-effects structure of the model. The table contains the estimates (coefficients of the predictors), standard errors, t-values, and the p-values which show whether a predictor significantly correlates with the dependent variable that the model investigates.\n",
                "\n",
                "All main effects (status and attraction) as well as the interaction between status and attraction is reported as being significantly correlated with the dependent variable (money). An interaction occurs if a correlation between the dependent variable and a predictor is affected by another predictor.\n",
                "\n",
                "The top most term is called intercept and has a value of 99.15 which represents the base estimate to which all other estimates refer. To exemplify what this means, let us consider what the model would predict a man would spend on a present for a women who is single but the man is not attracted to her: The amount he would spend (based on the model would be 99.15 dollars (the intercept) plus 57.69 dollars (because she is single)  minus 47.66 dollars (because he is not interested in her) minus 63.18 dollars because of the interaction between status and attraction.\n"
            ]
        },
        {
            "cell_type": "code",
            "execution_count": null,
            "metadata": {},
            "outputs": [],
            "source": [
                "#intercept  Single  NotInterested  Single:NotInterested\n",
                "99.15     + 57.69  + 0           + 0     # 156.8 single + interested\n",
                "99.15     + 57.69  - 47.66       - 63.18 # 46.00 single + not interested\n",
                "99.15     - 0      + 0           - 0     # 99.15 relationship + interested\n",
                "99.15     - 0      - 47.66       - 0     # 51.49 relationship + not interested\n"
            ]
        },
        {
            "cell_type": "markdown",
            "metadata": {},
            "source": [
                "Interestingly, the model predicts that a man would invest even less money in a woman that he is not interested in if she were single compared to being in a relationship! We can derive the same results easier using the `predict` function.\n",
                "\n"
            ]
        },
        {
            "cell_type": "code",
            "execution_count": null,
            "metadata": {},
            "outputs": [],
            "source": [
                "# make prediction based on the model for original data\n",
                "prediction <- predict(m2.mlr, newdata = mlrdata)\n",
                "# inspect predictions\n",
                "table(round(prediction,2))\n"
            ]
        },
        {
            "cell_type": "markdown",
            "metadata": {},
            "source": [
                "Below the table of coefficients, the regression summary reports model statistics that provide information about how well the model performs. The difference between the values and the values in the coefficients table is that the model statistics refer to the model as a whole rather than focusing on individual predictors.\n",
                "\n",
                "The multiple R^2^-value is a measure of how much variance the model explains. A multiple R^2^-value of 0 would inform us that the model does not explain any variance while a value of .852 mean that the model explains 85.2 percent of the variance. A value of 1 would inform us that the model explains 100 percent of the variance and that the predictions of the model match the observed values perfectly. Multiplying the multiple R^2^-value thus provides the percentage of explained variance. Models that have a multiple R^2^-value equal or higher than .05 are deemed substantially significant [see @szmrecsanyi2006morphosyntactic 55]. It has been claimed that models should explain a minimum of 5 percent of variance but this is problematic as it is not uncommon for models to have very low explanatory power while still performing significantly and systematically better than chance. In addition, the total amount of variance is negligible in cases where one is interested in very weak but significant effects. It is much more important for model to perform significantly better than minimal base-line models because if this is not the case, then the model does not have any predictive and therefore no explanatory power.\n",
                "\n",
                "The adjusted R^2^-value considers the amount of explained variance in light of the number of predictors in the model (it is thus somewhat similar to the AIC and BIC) and informs about how well the model would perform if it were applied to the population that the sample is drawn from. Ideally, the difference between multiple and adjusted R^2^-value should be very small as this means that the model is not overfitted. If, however, the difference between multiple and adjusted R^2^-value is substantial, then this would strongly suggest that the model is unstable and overfitted to the data while being inadequate for drawing inferences about the population. Differences between multiple and adjusted R^2^-values indicate that the data contains outliers that cause the distribution of the data on which the model is based to differ from the distributions that the model mathematically requires to provide reliable estimates. The difference between multiple and adjusted R^2^-value in our model is very small (85.2-84.7=.05) and should not cause concern.\n",
                "\n",
                "Before continuing, we will calculate the confidence intervals of the coefficients.\n"
            ]
        },
        {
            "cell_type": "code",
            "execution_count": null,
            "metadata": {},
            "outputs": [],
            "source": [
                "# extract confidence intervals of the coefficients\n",
                "confint(m2.mlr)\n",
                "# create and compare baseline- and minimal adequate model\n",
                "m0.mlr <- lm(money ~1, data = mlrdata)\n",
                "anova(m0.mlr, m2.mlr)\n"
            ]
        },
        {
            "cell_type": "markdown",
            "metadata": {},
            "source": [
                "Now, we compare the final minimal adequate model to the base-line model to test whether then final model significantly outperforms the baseline model.\n",
                "\n"
            ]
        },
        {
            "cell_type": "code",
            "execution_count": null,
            "metadata": {},
            "outputs": [],
            "source": [
                "# compare baseline- and minimal adequate model\n",
                "Anova(m0.mlr, m2.mlr, type = \"III\")\n"
            ]
        },
        {
            "cell_type": "markdown",
            "metadata": {},
            "source": [
                "The comparison between the two model confirms that the minimal adequate model performs significantly better (makes significantly more accurate estimates of the outcome variable) compared with the baseline model.\n",
                "\n",
                "### Outlier Detection{-}\n",
                "\n",
                "After implementing the multiple regression, we now need to look for outliers and perform the model diagnostics by testing whether removing data points disproportionately decreases model fit. To begin with, we generate diagnostic plots.\n"
            ]
        },
        {
            "cell_type": "code",
            "execution_count": null,
            "metadata": {},
            "outputs": [],
            "source": [
                "# load package\n",
                "library(ggfortify)\n",
                "# generate plots\n",
                "autoplot(m2.mlr) + \n",
                "  theme(panel.grid.major = element_blank(), panel.grid.minor = element_blank()) +\n",
                "  theme_bw()\n"
            ]
        },
        {
            "cell_type": "markdown",
            "metadata": {},
            "source": [
                "The plots do not show severe problems such as funnel shaped patterns or drastic deviations from the diagonal line in Normal Q-Q plot (have a look at the explanation of what to look for and how to interpret these diagnostic plots in the section on simple linear regression) but data points 52, 64, and 83 are repeatedly indicated as potential outliers. \n",
                "\n"
            ]
        },
        {
            "cell_type": "code",
            "execution_count": null,
            "metadata": {},
            "outputs": [],
            "source": [
                "# determine a cutoff for data points that have D-values higher than 4/(n-k-1)\n",
                "cutoff <- 4/((nrow(mlrdata)-length(m2.mlr$coefficients)-2))\n",
                "# start plotting\n",
                "par(mfrow = c(1, 2))           # display plots in 3 rows/2 columns\n",
                "qqPlot(m2.mlr, main=\"QQ Plot\") # create qq-plot\n",
                "plot(m2.mlr, which=4, cook.levels = cutoff); par(mfrow = c(1, 1))\n"
            ]
        },
        {
            "cell_type": "markdown",
            "metadata": {},
            "source": [
                "The graphs indicate that data points 52, 64, and 83 may be problematic. We will therefore statistically evaluate whether these data points need to be removed. In order to find out which data points require removal, we extract the influence measure statistics and add them to out data set.\n",
                "\n"
            ]
        },
        {
            "cell_type": "code",
            "execution_count": null,
            "metadata": {},
            "outputs": [],
            "source": [
                "# extract influence statistics\n",
                "infl <- influence.measures(m2.mlr)\n",
                "# add infl. statistics to data\n",
                "mlrdata <- data.frame(mlrdata, infl[[1]], infl[[2]])\n",
                "# annotate too influential data points\n",
                "remove <- apply(infl$is.inf, 1, function(x) {\n",
                "  ifelse(x == TRUE, return(\"remove\"), return(\"keep\")) } )\n",
                "# add annotation to data\n",
                "mlrdata <- data.frame(mlrdata, remove)\n",
                "# number of rows before removing outliers\n",
                "nrow(mlrdata)\n",
                "# remove outliers\n",
                "mlrdata <- mlrdata[mlrdata$remove == \"keep\", ]\n",
                "# number of rows after removing outliers\n",
                "nrow(mlrdata)\n"
            ]
        },
        {
            "cell_type": "markdown",
            "metadata": {},
            "source": [
                "The difference in row in the data set before and after removing data points indicate that two data points which represented outliers have been removed.\n",
                "\n",
                ">\n",
                "> Note: In general, outliers should not simply be removed unless there are good reasons for it (this could be that the outliers represent measurement errors). If a data set contains outliers, one should rather switch to methods that are better at handling outliers, e.g. by using weights to account for data points with high leverage. One alternative would be to switch to a robust regression (see [here](https://slcladal.github.io/regression.html#16_Robust_Regression)). However, here we show how to proceed by removing outliers as this is a common, though potententially problematic, method of dealing with outliers.\n",
                ">\n",
                "\n",
                "### Rerun Regression{-}\n",
                "\n",
                "As we have decided to remove the outliers which means that we are now dealing with a different data set, we need to rerun the regression analysis. As the steps are identical to the regression analysis performed above, the steps will not be described in greater detail.\n"
            ]
        },
        {
            "cell_type": "code",
            "execution_count": null,
            "metadata": {},
            "outputs": [],
            "source": [
                "# recreate regression models on new data\n",
                "m0.mlr = lm(money ~ 1, data = mlrdata)\n",
                "m0.glm = glm(money ~ 1, family = gaussian, data = mlrdata)\n",
                "m1.mlr = lm(money ~ (status + attraction)^2, data = mlrdata)\n",
                "m1.glm = glm(money ~ status * attraction, family = gaussian,\n",
                "             data = mlrdata)\n",
                "# automated AIC based model fitting\n",
                "step(m1.mlr, direction = \"both\")\n"
            ]
        },
        {
            "cell_type": "markdown",
            "metadata": {},
            "source": [
                "\n",
                "\n"
            ]
        },
        {
            "cell_type": "code",
            "execution_count": null,
            "metadata": {},
            "outputs": [],
            "source": [
                "# create new final models\n",
                "m2.mlr = lm(money ~ (status + attraction)^2, data = mlrdata)\n",
                "m2.glm = glm(money ~ status * attraction, family = gaussian,\n",
                "             data = mlrdata)\n",
                "# inspect final minimal model\n",
                "summary(m2.mlr)\n"
            ]
        },
        {
            "cell_type": "markdown",
            "metadata": {},
            "source": "\n"
        },
        {
            "cell_type": "code",
            "execution_count": null,
            "metadata": {},
            "outputs": [],
            "source": [
                "# extract confidence intervals of the coefficients\n",
                "confint(m2.mlr)\n"
            ]
        },
        {
            "cell_type": "markdown",
            "metadata": {},
            "source": "\n"
        },
        {
            "cell_type": "code",
            "execution_count": null,
            "metadata": {},
            "outputs": [],
            "source": [
                "# compare baseline with final model\n",
                "anova(m0.mlr, m2.mlr)\n"
            ]
        },
        {
            "cell_type": "markdown",
            "metadata": {},
            "source": "\n"
        },
        {
            "cell_type": "code",
            "execution_count": null,
            "metadata": {},
            "outputs": [],
            "source": [
                "# compare baseline with final model\n",
                "Anova(m0.mlr, m2.mlr, type = \"III\")\n"
            ]
        },
        {
            "cell_type": "markdown",
            "metadata": {},
            "source": [
                "### Additional Model Diagnostics{-}\n",
                "\n",
                "After rerunning the regression analysis on the updated data set, we again create diagnostic plots in order to check whether there are potentially problematic data points.\n"
            ]
        },
        {
            "cell_type": "code",
            "execution_count": null,
            "metadata": {},
            "outputs": [],
            "source": [
                "# generate plots\n",
                "autoplot(m2.mlr) + \n",
                "  theme(panel.grid.major = element_blank(), panel.grid.minor = element_blank()) +\n",
                "  theme_bw()\n"
            ]
        },
        {
            "cell_type": "markdown",
            "metadata": {},
            "source": [
                "\n",
                "\n"
            ]
        },
        {
            "cell_type": "code",
            "execution_count": null,
            "metadata": {},
            "outputs": [],
            "source": [
                "# determine a cutoff for data points that have\n",
                "# D-values higher than 4/(n-k-1)\n",
                "cutoff <- 4/((nrow(mlrdata)-length(m2.mlr$coefficients)-2))\n",
                "# start plotting\n",
                "par(mfrow = c(1, 2))           # display plots in 1 row/2 columns\n",
                "qqPlot(m2.mlr, main=\"QQ Plot\") # create qq-plot\n",
                "plot(m2.mlr, which=4, cook.levels = cutoff); par(mfrow = c(1, 1))\n"
            ]
        },
        {
            "cell_type": "markdown",
            "metadata": {},
            "source": [
                "Although the diagnostic plots indicate that additional points may be problematic, but these data points deviate substantially less from the trend than was the case with the data points that have already been removed. To make sure that retaining the data points that are deemed potentially problematic by the diagnostic plots, is acceptable, we extract diagnostic statistics and add them to the data.\n",
                "\n"
            ]
        },
        {
            "cell_type": "code",
            "execution_count": null,
            "metadata": {},
            "outputs": [],
            "source": [
                "# add model diagnostics to the data\n",
                "mlrdata <- mlrdata %>%\n",
                "  dplyr::mutate(residuals = resid(m2.mlr),\n",
                "                standardized.residuals = rstandard(m2.mlr),\n",
                "                studentized.residuals = rstudent(m2.mlr),\n",
                "                cooks.distance = cooks.distance(m2.mlr),\n",
                "                dffit = dffits(m2.mlr),\n",
                "                leverage = hatvalues(m2.mlr),\n",
                "                covariance.ratios = covratio(m2.mlr),\n",
                "                fitted = m2.mlr$fitted.values)\n"
            ]
        },
        {
            "cell_type": "markdown",
            "metadata": {},
            "source": [
                "We can now use these diagnostic statistics to create more precise diagnostic plots.\n",
                "\n"
            ]
        },
        {
            "cell_type": "code",
            "execution_count": null,
            "metadata": {},
            "outputs": [],
            "source": [
                "# plot 5\n",
                "p5 <- ggplot(mlrdata,\n",
                "             aes(studentized.residuals)) +\n",
                "  theme(legend.position = \"none\")+\n",
                "  geom_histogram(aes(y=..density..),\n",
                "                 binwidth = .2,\n",
                "                 colour=\"black\",\n",
                "                 fill=\"gray90\") +\n",
                "  labs(x = \"Studentized Residual\", y = \"Density\") +\n",
                "  stat_function(fun = dnorm,\n",
                "                args = list(mean = mean(mlrdata$studentized.residuals, na.rm = TRUE),\n",
                "                            sd = sd(mlrdata$studentized.residuals, na.rm = TRUE)),\n",
                "                colour = \"red\", size = 1) +\n",
                "  theme_bw(base_size = 8)\n",
                "# plot 6\n",
                "p6 <- ggplot(mlrdata, aes(fitted, studentized.residuals)) +\n",
                "  geom_point() +\n",
                "  geom_smooth(method = \"lm\", colour = \"Red\")+\n",
                "  theme_bw(base_size = 8)+\n",
                "  labs(x = \"Fitted Values\",\n",
                "       y = \"Studentized Residual\")\n",
                "# plot 7\n",
                "p7 <- qplot(sample = mlrdata$studentized.residuals, stat=\"qq\") +\n",
                "  theme_bw(base_size = 8) +\n",
                "  labs(x = \"Theoretical Values\",\n",
                "       y = \"Observed Values\")\n",
                "vip::grid.arrange(p5, p6, p7, nrow = 1)\n"
            ]
        },
        {
            "cell_type": "markdown",
            "metadata": {},
            "source": [
                "The new diagnostic plots do not indicate outliers that require removal. With respect to such data points the following parameters should be considered:\n",
                "\n",
                "1) Data points with standardized residuals > 3.29 should be removed [@field2012discovering 269]\n",
                "\n",
                "2) If more than 1 percent of data points have standardized residuals exceeding values > 2.58, then the error rate of the model is unacceptable [@field2012discovering 269].\n",
                "\n",
                "3) If more than 5 percent of data points have standardized residuals exceeding values   > 1.96, then the error rate of the model is unacceptable [@field2012discovering 269]\n",
                "\n",
                "4) In addition, data points with Cook's D-values > 1 should be removed [@field2012discovering 269]\n",
                "\n",
                "5) Also, data points with leverage values $3(k + 1)/N$ or $2(k + 1)/N$ (k = Number of predictors, N = Number of cases in model) should be removed [@field2012discovering 270]\n",
                "\n",
                "6) There should not be (any) autocorrelation among predictors. This means that independent variables cannot be correlated with itself (for instance, because data points come from the same subject). If there is autocorrelation among predictors, then a Repeated Measures Design or a (hierarchical) mixed-effects model should be implemented instead.\n",
                "\n",
                "7) Predictors cannot substantially correlate with each other (multicollinearity). If a model contains predictors that have variance inflation factors (VIF) > 10 the model is unreliable [@myers1990classical] and predictors causing such VIFs should be removed. Indeed, even VIFs of 2.5 can be problematic [@szmrecsanyi2006morphosyntactic 215; @zuur2010protocol] proposes that variables with VIFs exceeding 3 should be removed! \n",
                "\n",
                ">\n",
                "> However, (multi-)collinearity is only an issue if one is interested in interpreting regression results!  If the interpretation is irrelevant because what is relevant is prediction(!), then it does not matter if the model contains collinear predictors! See @gries2021statistics for a more elaborate explanation.\n",
                ">\n",
                "\n",
                "8) The mean value of VIFs should be $~$ 1 [@bowerman1990linear].\n"
            ]
        },
        {
            "cell_type": "code",
            "execution_count": null,
            "metadata": {},
            "outputs": [],
            "source": [
                "# 1: optimal = 0\n",
                "# (listed data points should be removed)\n",
                "which(mlrdata$standardized.residuals > 3.29)\n",
                "\n",
                "# 2: optimal = 1\n",
                "# (listed data points should be removed)\n",
                "stdres_258 <- as.vector(sapply(mlrdata$standardized.residuals, function(x) {\n",
                "ifelse(sqrt((x^2)) > 2.58, 1, 0) } ))\n",
                "(sum(stdres_258) / length(stdres_258)) * 100\n",
                "\n",
                "# 3: optimal = 5\n",
                "# (listed data points should be removed)\n",
                "stdres_196 <- as.vector(sapply(mlrdata$standardized.residuals, function(x) {\n",
                "ifelse(sqrt((x^2)) > 1.96, 1, 0) } ))\n",
                "(sum(stdres_196) / length(stdres_196)) * 100\n",
                "\n",
                "# 4: optimal = 0\n",
                "# (listed data points should be removed)\n",
                "which(mlrdata$cooks.distance > 1)\n",
                "\n",
                "# 5: optimal = 0\n",
                "# (data points should be removed if cooks distance is close to 1)\n",
                "which(mlrdata$leverage >= (3*mean(mlrdata$leverage)))\n",
                "\n",
                "# 6: checking autocorrelation:\n",
                "# Durbin-Watson test (optimal: grosser p-wert)\n",
                "dwt(m2.mlr)\n",
                "\n",
                "# 7: test multicolliniarity 1\n",
                "vif(m2.mlr)\n",
                "\n",
                "# 8: test multicolliniarity 2\n",
                "1/vif(m2.mlr)\n",
                "\n",
                "# 9: mean vif should not exceed 1\n",
                "mean(vif(m2.mlr))\n"
            ]
        },
        {
            "cell_type": "markdown",
            "metadata": {},
            "source": [
                "Except for the mean VIF value (2.307) which should not exceed 1, all diagnostics are acceptable. We will now test whether the sample size is sufficient for our model. With respect to the minimal sample size and based on @green1991many, @field2012discovering[273-274] offer the following rules of thumb  (k = number of predictors; categorical predictors with more than two levels should be recoded as dummy variables):\n",
                "\n",
                "### Evaluation of Sample Size{-}\n",
                "\n",
                "After performing the diagnostics, we will now test whether the sample size is adequate and what the values of R would be based on a random distribution in order to be able to estimate how likely a $\\beta$-error is given the present sample size [see @field2012discovering 274]. Beta errors (or $\\beta$-errors) refer to the erroneous assumption that a predictor is not significant (based on the analysis and given the sample) although it does have an effect in the population. In other words, $\\beta$-error means to overlook a significant effect because of weaknesses of the analysis. The test statistics ranges between 0 and 1 where lower values are better. If the values approximate 1, then there is serious concern as the model is not reliable given the sample size. In such cases, unfortunately, the best option is to increase the sample size.\n"
            ]
        },
        {
            "cell_type": "code",
            "execution_count": null,
            "metadata": {},
            "outputs": [],
            "source": [
                "# load functions\n",
                "source(\"https://slcladal.github.io/rscripts/SampleSizeMLR.r\")\n",
                "source(\"https://slcladal.github.io/rscripts/ExpR.r\")\n",
                "# check if sample size is sufficient\n",
                "smplesz(m2.mlr)\n",
                "# check beta-error likelihood\n",
                "expR(m2.mlr)\n"
            ]
        },
        {
            "cell_type": "markdown",
            "metadata": {},
            "source": [
                "The function `smplesz` reports that the sample size is insufficient by 9 data points according to @green1991many. The likelihood of $\\beta$-errors, however, is very small (0.0309). As a last step, we summarize the results of the regression analysis.\n",
                "\n"
            ]
        },
        {
            "cell_type": "code",
            "execution_count": null,
            "metadata": {},
            "outputs": [],
            "source": [
                "# load package\n",
                "library(sjPlot)\n",
                "# tabulate model results\n",
                "tab_model(m0.glm, m2.glm)\n"
            ]
        },
        {
            "cell_type": "markdown",
            "metadata": {},
            "source": [
                "***\n",
                "\n",
                ">\n",
                "><span style=\"color: red;\">Note<\/span>: The R^2^ values in this report is incorrect! As we have seen above the correct R^2^ values are: multiple R^2^ 0.8574, adjusted R^2^ 0.8528:\n",
                ">\n",
                "\n",
                "***\n"
            ]
        },
        {
            "cell_type": "code",
            "execution_count": null,
            "metadata": {},
            "outputs": [],
            "source": [
                "summary(m2.mlr)\n",
                "\n"
            ]
        },
        {
            "cell_type": "markdown",
            "metadata": {},
            "source": [
                "Although @field2012discovering suggest that the main effects of the predictors involved in the interaction should not be interpreted, they are interpreted here to illustrate how the results of a multiple linear regression can be reported. Accordingly, the results of the regression analysis performed above can be summarized as follows:\n",
                "\n",
                "A multiple linear regression was fitted to the data using an automated, step-wise, AIC-based (Akaike's Information Criterion) procedure. The model fitting arrived at a final minimal model. During the model diagnostics, two outliers were detected and removed. Further diagnostics did not find other issues after the removal.\n",
                "\n",
                "The final minimal adequate regression model is based on 98 data points and performs highly significantly better than a minimal baseline model (multiple R^2^: .857, adjusted R^2^: .853, F-statistic (3, 94): 154.4, AIC: 850.4, BIC: 863.32, p<.001^$***$^). The final minimal adequate regression model reports *attraction* and *status* as significant main effects. The relationship status of women correlates highly significantly and positively with the amount of money spend on the women's presents (SE: 5.14, t-value: 10.87, p<.001^$***$^). This shows that men spend 156.8 dollars on presents are single while they spend 99,15 dollars if the women are in a relationship. Whether men are attracted to women also correlates highly significantly and positively with the money they spend on women (SE: 5.09, t-values: -9.37, p<.001^$***$^). If men are not interested in women, they spend 47.66 dollar less on a present for women compared with women the men are interested in.\n",
                "\n",
                "Furthermore, the final minimal adequate regression model reports a highly significant interaction between relationship *status* and *attraction* (SE: 7.27, t-value: -8.18, p<.001^$***$^): If women are single but man are not interested in them, men spend 59.46 dollars less on their presents compared to all other constellations.\n",
                "\n",
                "## Multiple Binomial Logistic Regression\n",
                "\n",
                "Logistic regression is a multivariate analysis technique that builds on and is very similar in terms of its implementation to linear regression but logistic regressions take dependent variables that represent nominal rather than numeric scaling [@harrell2015regression]. The difference requires that the linear regression must be modified in certain ways to avoid producing non-sensical outcomes. The most fundamental difference between logistic and linear regressions is that logistic regression work on the probabilities of an outcome (the likelihood), rather than the outcome itself. In addition, the likelihoods on which the logistic regression works must be logged (logarithmized) in order to avoid produce predictions that produce values greater than 1 (instance occurs) and 0 (instance does not occur). You can check this by logging the values from -10 to 10 using the `plogis` function as shown below.\n"
            ]
        },
        {
            "cell_type": "code",
            "execution_count": null,
            "metadata": {},
            "outputs": [],
            "source": [
                "round(plogis(-10:10), 5)\n",
                "\n"
            ]
        },
        {
            "cell_type": "markdown",
            "metadata": {},
            "source": [
                "If we visualize these logged values, we get an S-shaped curve which reflects the logistic function.\n",
                "\n"
            ]
        },
        {
            "cell_type": "code",
            "execution_count": null,
            "metadata": {},
            "outputs": [],
            "source": [
                "plogis(-10:10) %>%\n",
                "  as.data.frame() %>%\n",
                "  dplyr::mutate(id = 1:n()) %>%\n",
                "  dplyr::rename(values = 1) %>%\n",
                "  ggplot(aes(y = values, x = id)) +\n",
                "  geom_line(color = \"gray50\", size = 1) +\n",
                "  geom_point(color = \"red\", size = 2)+\n",
                "  labs(x = \"\", y = \"\") +\n",
                "  theme(panel.grid.major = element_blank(), \n",
                "        panel.grid.minor = element_blank(),\n",
                "        axis.text.x=element_blank(),\n",
                "        axis.ticks.x=element_blank())\n"
            ]
        },
        {
            "cell_type": "markdown",
            "metadata": {},
            "source": [
                "To understand what this mean, we will use a very simple example. In this example, we want to see whether the height of men affect their likelihood of being in a relationship. The data we use represents a data set consisting of two variables: height and relationship.\n",
                "\n"
            ]
        },
        {
            "cell_type": "code",
            "execution_count": null,
            "metadata": {},
            "outputs": [],
            "source": [
                "# set seed\n",
                "set.seed(12345)\n",
                "# generates 20 values, with mean of 30 & s.d.=2\n",
                "bodyheight=rnorm(20,175,20) \n",
                "# sorts these values in ascending order\n",
                "bodyheight=sort(bodyheight) \n",
                "# assign 'survival' to these 20 individuals non-randomly\n",
                "# most mortality occurs at smaller body size\n",
                "relationship=c(0,0,0,0,0,1,0,1,0,0,1,1,0,1,1,1,0,1,1,1) \n",
                "# saves data frame with two columns: body size, survival\n",
                "blrdata=as.data.frame(cbind(bodyheight,relationship)) \n",
                "# load package\n",
                "library(tidyverse)\n",
                "# generate models\n",
                "lm1 <- lm(relationship ~ bodyheight, data = blrdata)\n",
                "blr1 <- glm(relationship ~ bodyheight, family = binomial, data = blrdata)\n",
                "blrdata <- blrdata %>%\n",
                "  dplyr::mutate(Pred_lm = predict(lm1, blrdata),\n",
                "                Pred_blm = predict(blr1, blrdata)) %>%\n",
                "  dplyr::mutate(Prob_lm = plogis(predict(lm1, blrdata)),\n",
                "                Prob_blm = plogis(predict(blr1, blrdata)),\n",
                "                Pred_blm2 = ifelse(predict(blr1, blrdata, type = \"response\") >= .5, 1, 0))\n",
                "# plot \n",
                "p1 <- ggplot(blrdata, aes(x = bodyheight, y =  relationship)) +\n",
                "  geom_point() +\n",
                "  geom_abline(intercept = coef(lm1)[1], slope = coef(lm1)[2], color = \"red\", size = .5) +\n",
                "  geom_point(aes(x = bodyheight, y = Pred_lm), color = \"blue\") +\n",
                "  theme_bw(base_size = 8)+\n",
                "  coord_cartesian(ylim = c(-0.2, 1.2), xlim = c(125, 225)) +\n",
                "  scale_y_continuous(breaks=seq(0, 1, 1), labels = c(\"Single\", \"Relationship\")) +\n",
                "  guides(fill = FALSE) +\n",
                "  labs(title = \"Predictions and \\nregression line of lm.\", x = \"Height\", y = \"\")\n",
                "\n",
                "p2 <- ggplot(blrdata, aes(x = bodyheight, y =  relationship)) +\n",
                "  geom_point() +\n",
                "  geom_abline(intercept = coef(blr1)[1], slope = coef(blr1)[2], color = \"red\", size = .5) +\n",
                "  geom_point(aes(x = bodyheight, y = Pred_blm), color = \"blue\") +\n",
                "  theme_bw(base_size = 8)+\n",
                "  coord_cartesian(ylim = c(-0.2, 1.2), xlim = c(125, 225)) +\n",
                "  scale_y_continuous(breaks=seq(0, 1, 1), labels = c(\"Single\", \"Relationship\")) +\n",
                "  guides(fill = FALSE) +\n",
                "  labs(title = \"Predictions and \\nregression line of blm.\", x = \"Height\", y = \"\")\n",
                "\n",
                "\n",
                "p3 <- ggplot(blrdata, aes(x = bodyheight, y =  relationship)) +\n",
                "  geom_point() +\n",
                "  geom_point(aes(x = bodyheight, y = Prob_blm), color = \"blue\") +\n",
                "  geom_smooth(method = \"glm\", method.args = list(family = \"binomial\"), \n",
                "              se = FALSE, color = \"red\", size = .5) +\n",
                "  geom_segment(aes(xend = bodyheight, yend = Prob_blm), color = \"red\", alpha = .2) +\n",
                "  theme_bw(base_size = 8) +\n",
                "  coord_cartesian(ylim = c(-0.2, 1.2), xlim = c(125, 225)) +\n",
                "  scale_y_continuous(breaks=seq(0, 1, 1), labels = c(\"Single\", \"Relationship\")) +\n",
                "  guides(fill = FALSE) +\n",
                "  labs(title = \"Logged Probabilities and \\nlogged regression line of blm.\", x = \"Height\", y = \"\")\n",
                "\n",
                "\n",
                "# show plot\n",
                "ggpubr::ggarrange(p1, p2, p3, nrow = 3)\n"
            ]
        },
        {
            "cell_type": "markdown",
            "metadata": {},
            "source": [
                "The left panel of the Figure above shows that a linear model would predict values for the relationship status, which represents a factor (0 = Single and 1 = In a Relationship), that are nonsensical because values above 1 or below 0 do not make sense. In contrast to a linear regression, which predicts actual values, such as the frequencies of prepositions in a certain text, a logistic regression predicts *probabilities* of events (for example, being in a relationship) rather than actual values. The center panel shows the predictions of a logistic regression and we see that a logistic regression also has an intercept and a (very steep) slope but that the regression line also predicts values that are above 1 and below 0. However, when we log the predicted values we these predicted values are transformed into probabilities with values between 0 and 1. And the logged regression line has a S-shape which reflects the logistic function. Furthermore, we can then find the optimal line (the line with the lowest residual deviance) by comparing the sum of residuals - just as we did for a simple linear model and that way, we find the regression line for a logistic regression. \n",
                "\n",
                "### Example 1: EH in Kiwi English{-}\n",
                "\n",
                "To exemplify how to implement a logistic regression in R [see @agresti1996introduction; @agresti2011categorical] for very good and thorough introductions to this topic], we will analyze the use of the discourse particle *eh* in New Zealand English and test which factors correlate with its occurrence. The data set represents speech units in a corpus that were coded for the speaker who uttered a given speech unit, the gender, ethnicity, and age of that speaker and whether or not the speech unit contained an *eh*. To begin with, we clean the current work space, set option, install and activate relevant packages, load customized functions, and load the example data set.\n"
            ]
        },
        {
            "cell_type": "code",
            "execution_count": null,
            "metadata": {},
            "outputs": [],
            "source": [
                "# load data\n",
                "blrdata <- read.table(\"https://slcladal.github.io/data/blrdata.txt\",\n",
                "                      comment.char = \"\",  # data does not contain comments\n",
                "                      quote = \"\",         # data does not contain quotes\n",
                "                      sep = \"\\t\",         # data is tab separated\n",
                "                      header = T)         # variables have headers\n"
            ]
        },
        {
            "cell_type": "markdown",
            "metadata": {},
            "source": "\n"
        },
        {
            "cell_type": "code",
            "execution_count": null,
            "metadata": {},
            "outputs": [],
            "source": [
                "# inspect data\n",
                "blrdata %>%\n",
                "  head(20) %>%\n",
                "  kable(caption = \"\") %>%\n",
                "  kableExtra::kable_styling(bootstrap_options = c(\"striped\", \"hover\", \"condensed\", \"responsive\"), \n",
                "                            full_width = F)\n"
            ]
        },
        {
            "cell_type": "markdown",
            "metadata": {},
            "source": [
                "The summary of the data show that the data set contains 25,821 observations of five variables. The variable `ID` contains strings that represent a combination file and speaker of a speech unit. The second variable represents the gender, the third the age, and the fourth the ethnicity of speakers. The fifth variable represents whether or not a speech unit contained the discourse particle *eh*. \n",
                "\n",
                "Next, we factorize the variables in our data set. In other words, we specify that the strings represent variable levels and define new reference levels because as a default `R` will use the variable level which first occurs in alphabet ordering as the reference level for each variable, we redefine the variable levels for Age and Ethnicity.\n"
            ]
        },
        {
            "cell_type": "code",
            "execution_count": null,
            "metadata": {},
            "outputs": [],
            "source": [
                "blrdata <- blrdata %>%\n",
                "  # factorize variables\n",
                "  dplyr::mutate(Age = factor(Age),\n",
                "                Gender = factor(Gender),\n",
                "                Ethnicity = factor(Ethnicity),\n",
                "                ID = factor(ID),\n",
                "                EH = factor(EH)) %>%\n",
                "  # relevel Age (Reference = Young) and Ethnicity (Reference= Pakeha))\n",
                "  dplyr::mutate(Age = relevel(Age, \"Young\"),\n",
                "                Ethnicity = relevel(Ethnicity, \"Pakeha\"))\n"
            ]
        },
        {
            "cell_type": "markdown",
            "metadata": {},
            "source": [
                "After preparing the data, we will now plot the data to get an overview of potential relationships between variables.\n",
                "\n"
            ]
        },
        {
            "cell_type": "code",
            "execution_count": null,
            "metadata": {},
            "outputs": [],
            "source": [
                "blrdata %>%\n",
                "  dplyr::mutate(EH = ifelse(EH == \"0\", 0, 1)) %>%\n",
                "  ggplot(aes(Age, EH, color = Gender)) +\n",
                "  facet_wrap(~Ethnicity) +\n",
                "  stat_summary(fun = mean, geom = \"point\") +\n",
                "  stat_summary(fun.data = mean_cl_boot, geom = \"errorbar\", width = 0.2) +\n",
                "  theme_set(theme_bw(base_size = 10)) +\n",
                "  theme(legend.position = \"top\") +\n",
                "  labs(x = \"\", y = \"Observed Probabilty of eh\") +\n",
                "  scale_color_manual(values = c(\"gray20\", \"gray70\"))\n"
            ]
        },
        {
            "cell_type": "markdown",
            "metadata": {},
            "source": [
                "With respect to main effects, the Figure above indicates that men use *eh* more frequently than women, that young speakers use it more frequently compared with old speakers, and that speakers that are descendants of European settlers (Pakeha) use *eh* more frequently compared with Maori (the native inhabitants of New Zealand).\n",
                "\n",
                "The plots in the lower panels do not indicate significant interactions between use of *eh* and the Age, Gender, and Ethnicity of speakers. In a next step, we will start building the logistic regression model.\n",
                "\n",
                "### Model Building{-}\n",
                "\n",
                "As a first step, we need to define contrasts and use the `datadist` function to store aspects of our variables that can be accessed later when plotting and summarizing the model. Contrasts define what and how variable levels should be compared and therefore influences how the results of the regression analysis are presented. In this case, we use treatment contrasts which are in-built. Treatment contrasts mean that we assess the significance of levels of a predictor against a baseline which is the reference level of a predictor. @field2012discovering [414-427] and @gries2021statistics provide very good and accessible explanations of contrasts and how to manually define contrasts if you would like to know more. \n"
            ]
        },
        {
            "cell_type": "code",
            "execution_count": null,
            "metadata": {},
            "outputs": [],
            "source": [
                "# load packages\n",
                "library(rms)\n",
                "# set contrasts\n",
                "options(contrasts  =c(\"contr.treatment\", \"contr.poly\"))\n",
                "# create distance matrix\n",
                "blrdata.dist <- datadist(blrdata)\n",
                "# include distance matrix in options\n",
                "options(datadist = \"blrdata.dist\")\n"
            ]
        },
        {
            "cell_type": "markdown",
            "metadata": {},
            "source": [
                "Next, we generate a minimal model that predicts the use of *eh* solely based on the intercept.\n",
                "\n"
            ]
        },
        {
            "cell_type": "code",
            "execution_count": null,
            "metadata": {},
            "outputs": [],
            "source": [
                "# baseline glm model\n",
                "m0.glm = glm(EH ~ 1, family = binomial, data = blrdata)\n"
            ]
        },
        {
            "cell_type": "markdown",
            "metadata": {},
            "source": [
                "### Model fitting{-}\n",
                "\n",
                "We will now start with the model fitting procedure. In the present case, we will use a manual step-wise step-up procedure during which predictors are added to the model if they significantly improve the model fit. In addition, we will perform diagnostics as we fit the model at each step of the model fitting process rather than after the fitting.\n",
                "\n",
                "We will test two things in particular: whether the data has incomplete information or complete separation and if the model suffers from (multi-)collinearity. \n",
                "\n",
                "Incomplete information or complete separation means that the data does not contain all combinations of the predictor or the dependent variable. This is important because if the data does not contain cases of all combinations, the model will assume that it has found a perfect predictor. In such cases the model overestimates the effect of that that predictor and the results of that model are no longer reliable. For example, if *eh* was only used by young speakers in the data, the model would jump on that fact and say *Ha! If there is an old speaker, that means that that speaker will never ever and under no circumstances say *eh* - I can therefore ignore all other factors!* \n",
                "\n",
                "Multicollinearity means that predictors correlate and have shared variance. This means that whichever predictor is included first will take all the variance that it can explain and the remaining part of the variable that is shared will not be attributed to the other predictor. This may lead to reporting that a factor is not significant because all of the variance it can explain is already accounted for. However, if the other predictor were included first, then the original predictor would be returned as insignificant. This means that- depending on the order in which predictors are added - the results of the regression can differ dramatically and the model is therefore not reliable. Multicollinearity is actually a very common problem and there are various ways to deal with it but it cannot be ignored (at least in regression analyses).\n",
                "\n",
                "We will start by adding *Age* to the minimal adequate model.\n"
            ]
        },
        {
            "cell_type": "code",
            "execution_count": null,
            "metadata": {},
            "outputs": [],
            "source": [
                "# check incomplete information\n",
                "ifelse(min(ftable(blrdata$Age, blrdata$EH)) == 0, \"not possible\", \"possible\")\n",
                "# add age to the model\n",
                "m1.glm = glm(EH ~ Age, family = binomial, data = blrdata)\n",
                "# check multicollinearity (vifs should have values of 3 or lower for main effects)\n",
                "ifelse(max(vif(m1.glm)) <= 3,  \"vifs ok\", \"WARNING: high vifs!\") # VIFs ok\n",
                "# check if adding Age significantly improves model fit\n",
                "anova(m1.glm, m0.glm, test = \"Chi\")\n"
            ]
        },
        {
            "cell_type": "markdown",
            "metadata": {},
            "source": [
                "As the data does not contain incomplete information, the vif values are below 3, and adding *Age* has significantly improved the model fit (the p-value of the ANOVA is lower than .05). We therefore proceed with *Age* included.\n",
                "\n",
                "We continue by adding *Gender*. We add a second ANOVA test to see if including Gender affects the significance of other predictors in the model. If this were the case - if adding Gender would cause Age to become insignificant - then we could change the ordering in which we include predictors into our model.\n"
            ]
        },
        {
            "cell_type": "code",
            "execution_count": null,
            "metadata": {},
            "outputs": [],
            "source": [
                "ifelse(min(ftable(blrdata$Gender, blrdata$EH)) == 0, \"not possible\", \"possible\")\n",
                "m2.glm <- update(m1.glm, . ~ . +Gender)\n",
                "ifelse(max(vif(m2.glm)) <= 3,  \"vifs ok\", \"WARNING: high vifs!\") # VIFs ok\n",
                "anova(m2.glm, m1.glm, test = \"Chi\")\n",
                "Anova(m2.glm, test = \"LR\")\n"
            ]
        },
        {
            "cell_type": "markdown",
            "metadata": {},
            "source": [
                "Again, including *Gender* significantly improves model fit and the data does not contain incomplete information or complete separation. Also, including *Gender* does not affect the significance of *Age*. Now, we include *Ethnicity*.\n",
                "\n"
            ]
        },
        {
            "cell_type": "code",
            "execution_count": null,
            "metadata": {},
            "outputs": [],
            "source": [
                "ifelse(min(ftable(blrdata$Ethnicity, blrdata$EH)) == 0, \"not possible\", \"possible\")\n",
                "m3.glm <- update(m2.glm, . ~ . +Ethnicity)\n",
                "ifelse(max(vif(m3.glm)) <= 3,  \"vifs ok\", \"WARNING: high vifs!\") # VIFs ok\n",
                "anova(m3.glm, m2.glm, test = \"Chi\")\n"
            ]
        },
        {
            "cell_type": "markdown",
            "metadata": {},
            "source": [
                "Since adding *Ethnicity* does not significantly improve the model fit, we do not need to test if its inclusion affects the significance of other predictors. We continue without *Ethnicity* and include the interaction between *Age* and *Gender*.\n",
                "\n"
            ]
        },
        {
            "cell_type": "code",
            "execution_count": null,
            "metadata": {},
            "outputs": [],
            "source": [
                "ifelse(min(ftable(blrdata$Age, blrdata$Gender, blrdata$EH)) == 0, \"not possible\", \"possible\")\n",
                "m4.glm <- update(m2.glm, . ~ . +Age*Gender)\n",
                "ifelse(max(vif(m4.glm)) <= 3,  \"vifs ok\", \"WARNING: high vifs!\") # VIFs ok\n",
                "anova(m4.glm, m2.glm, test = \"Chi\")\n"
            ]
        },
        {
            "cell_type": "markdown",
            "metadata": {},
            "source": [
                "The interaction between *Age* and *Gender* is not significant which means that men and women do not behave differently with respect to their use of `EH` as they age. Also, the data does not contain incomplete information and the model does not suffer from multicollinerity - the predictors are not collinear. We can now include if there is a significant interaction between *Age* and *Ethnicity*.\n",
                "\n"
            ]
        },
        {
            "cell_type": "code",
            "execution_count": null,
            "metadata": {},
            "outputs": [],
            "source": [
                "ifelse(min(ftable(blrdata$Age, blrdata$Ethnicity, blrdata$EH)) == 0, \"not possible\", \"possible\")\n",
                "m5.glm <- update(m2.glm, . ~ . +Age*Ethnicity)\n",
                "ifelse(max(vif(m5.glm)) <= 3,  \"vifs ok\", \"WARNING: high vifs!\") # VIFs ok\n",
                "anova(m5.glm, m2.glm, test = \"Chi\")\n"
            ]
        },
        {
            "cell_type": "markdown",
            "metadata": {},
            "source": [
                "Again, no incomplete information or multicollinearity and no significant interaction. Now, we test if there exists a significant interaction between *Gender* and *Ethnicity*.\n",
                "\n"
            ]
        },
        {
            "cell_type": "code",
            "execution_count": null,
            "metadata": {},
            "outputs": [],
            "source": [
                "ifelse(min(ftable(blrdata$Gender, blrdata$Ethnicity, blrdata$EH)) == 0, \"not possible\", \"possible\")\n",
                "m6.glm <- update(m2.glm, . ~ . +Gender*Ethnicity)\n",
                "ifelse(max(vif(m6.glm)) <= 3,  \"vifs ok\", \"WARNING: high vifs!\") # VIFs ok\n",
                "anova(m6.glm, m2.glm, test = \"Chi\")\n"
            ]
        },
        {
            "cell_type": "markdown",
            "metadata": {},
            "source": [
                "As the interaction between *Gender* and *Ethnicity* is not significant, we continue without it. In a final step, we include the three-way interaction between *Age*, *Gender*, and *Ethnicity*.\n",
                "\n"
            ]
        },
        {
            "cell_type": "code",
            "execution_count": null,
            "metadata": {},
            "outputs": [],
            "source": [
                "ifelse(min(ftable(blrdata$Age, blrdata$Gender, blrdata$Ethnicity, blrdata$EH)) == 0, \"not possible\", \"possible\")\n",
                "m7.glm <- update(m2.glm, . ~ . +Gender*Ethnicity)\n",
                "ifelse(max(vif(m7.glm)) <= 3,  \"vifs ok\", \"WARNING: high vifs!\") # VIFs ok\n",
                "anova(m7.glm, m2.glm, test = \"Chi\")\n"
            ]
        },
        {
            "cell_type": "markdown",
            "metadata": {},
            "source": [
                "We have found our final minimal adequate model because the 3-way interaction is also insignificant. As we have now arrived at the final minimal adequate model (m2.glm), we generate a final minimal model using the lrm function.\n",
                "\n"
            ]
        },
        {
            "cell_type": "code",
            "execution_count": null,
            "metadata": {},
            "outputs": [],
            "source": [
                "m2.lrm <- lrm(EH ~ Age+Gender, data = blrdata, x = T, y = T, linear.predictors = T)\n",
                "m2.lrm\n"
            ]
        },
        {
            "cell_type": "markdown",
            "metadata": {},
            "source": [
                "\n",
                "\n"
            ]
        },
        {
            "cell_type": "code",
            "execution_count": null,
            "metadata": {},
            "outputs": [],
            "source": [
                "anova(m2.lrm)\n",
                "\n"
            ]
        },
        {
            "cell_type": "markdown",
            "metadata": {},
            "source": [
                "After fitting the model, we validate the model to avoid arriving at a final minimal model that is overfitted to the data at hand.\n",
                "\n",
                "### Model Validation{-}\n",
                "\n",
                "To validate a model, you can apply the `validate` function and apply it to a saturated model. The output of the `validate` function shows how often predictors are retained if the sample is re-selected with the same size but with placing back drawn data points. The execution of the function requires some patience as it is rather computationally expensive and it is, therefore, commented out below.\n"
            ]
        },
        {
            "cell_type": "code",
            "execution_count": null,
            "metadata": {},
            "outputs": [],
            "source": [
                "# model validation (remove # to activate: output too long for website)\n",
                "m7.lrm <- lrm(EH ~ (Age+Gender+Ethnicity)^3, data = blrdata, x = T, y = T, linear.predictors = T)\n",
                "#validate(m7.lrm, bw = T, B = 200)\n"
            ]
        },
        {
            "cell_type": "markdown",
            "metadata": {},
            "source": [
                "The `validate` function shows that retaining two predictors (Age and Gender) is the best option and thereby confirms our final minimal adequate model as the best minimal model. In addition, we check whether we need to include a penalty for data points because they have too strong of an impact of the model fit. To see whether a penalty is warranted, we apply the `pentrace` function to the final minimal adequate model.\n",
                "\n"
            ]
        },
        {
            "cell_type": "code",
            "execution_count": null,
            "metadata": {},
            "outputs": [],
            "source": [
                "pentrace(m2.lrm, seq(0, 0.8, by = 0.05)) # determine penalty\n",
                "\n"
            ]
        },
        {
            "cell_type": "markdown",
            "metadata": {},
            "source": [
                "The values are so similar  that a penalty is unnecessary. In a next step, we rename the final models.\n",
                "\n"
            ]
        },
        {
            "cell_type": "code",
            "execution_count": null,
            "metadata": {},
            "outputs": [],
            "source": [
                "lr.glm <- m2.glm  # rename final minimal adequate glm model\n",
                "lr.lrm <- m2.lrm  # rename final minimal adequate lrm model\n"
            ]
        },
        {
            "cell_type": "markdown",
            "metadata": {},
            "source": [
                "Now, we calculate a Model Likelihood Ratio Test to check if the final model performs significantly better than the initial minimal base-line model. The result of this test is provided as a default if we call a summary of the lrm object.\n",
                "\n"
            ]
        },
        {
            "cell_type": "code",
            "execution_count": null,
            "metadata": {},
            "outputs": [],
            "source": [
                "modelChi <- lr.glm$null.deviance - lr.glm$deviance\n",
                "chidf <- lr.glm$df.null - lr.glm$df.residual\n",
                "chisq.prob <- 1 - pchisq(modelChi, chidf)\n",
                "modelChi; chidf; chisq.prob\n"
            ]
        },
        {
            "cell_type": "markdown",
            "metadata": {},
            "source": [
                "The code above provides three values: a $\\chi$^2^, the degrees of freedom, and a p-value. The p-value is lower than .05 and the results of the Model Likelihood Ratio Test therefore confirm that the final minimal adequate model performs significantly better than the initial minimal base-line model. Another way to extract the model likelihood test statistics is to use an ANOVA to compare the final minimal adequate model to the minimal base-line model.\n",
                "\n",
                "A handier way to get thses statistics is by performing an ANOVA on the final minimal model which, if used this way, is identical to a Model Likelihood Ratio test.\n"
            ]
        },
        {
            "cell_type": "code",
            "execution_count": null,
            "metadata": {},
            "outputs": [],
            "source": [
                "anova(m0.glm, lr.glm, test = \"Chi\") # Model Likelihood Ratio Test\n",
                "\n"
            ]
        },
        {
            "cell_type": "markdown",
            "metadata": {},
            "source": [
                "In a next step, we calculate pseudo-R^2^ values which represent the amount of residual variance that is explained by the final minimal adequate model. We cannot use the ordinary R^2^ because the model works on the logged probabilities rather than the values of the dependent variable.\n",
                "\n"
            ]
        },
        {
            "cell_type": "code",
            "execution_count": null,
            "metadata": {},
            "outputs": [],
            "source": [
                "# calculate pseudo R^2\n",
                "# number of cases\n",
                "ncases <- length(fitted(lr.glm))\n",
                "R2.hl <- modelChi/lr.glm$null.deviance\n",
                "R.cs <- 1 - exp ((lr.glm$deviance - lr.glm$null.deviance)/ncases)\n",
                "R.n <- R.cs /( 1- ( exp (-(lr.glm$null.deviance/ ncases))))\n",
                "# function for extracting pseudo-R^2\n",
                "logisticPseudoR2s <- function(LogModel) {\n",
                "  dev <- LogModel$deviance\n",
                "\tnullDev <- LogModel$null.deviance\n",
                "\tmodelN <-  length(LogModel$fitted.values)\n",
                "\tR.l <-  1 -  dev / nullDev\n",
                "\tR.cs <- 1- exp ( -(nullDev - dev) / modelN)\n",
                "\tR.n <- R.cs / ( 1 - ( exp (-(nullDev / modelN))))\n",
                "\tcat(\"Pseudo R^2 for logistic regression\\n\")\n",
                "\tcat(\"Hosmer and Lemeshow R^2  \", round(R.l, 3), \"\\n\")\n",
                "\tcat(\"Cox and Snell R^2        \", round(R.cs, 3), \"\\n\")\n",
                "\tcat(\"Nagelkerke R^2           \", round(R.n, 3),    \"\\n\") }\n",
                "logisticPseudoR2s(lr.glm)\n"
            ]
        },
        {
            "cell_type": "markdown",
            "metadata": {},
            "source": [
                "The low pseudo-R^2^ values show that our model has very low explanatory power. For instance, the value of Hosmer and Lemeshow R^2^ (0.026) \"is the proportional reduction in the absolute value of the log-likelihood measure and as such it is a measure of how much the badness of fit improves as a result of the inclusion of the predictor variables\" [@field2012discovering 317]. In essence, all the pseudo-R^2^ values are measures of how substantive the model is (how much better it is compared to a baseline model). Next, we extract the confidence intervals for the coefficients of the model.\n",
                "\n"
            ]
        },
        {
            "cell_type": "code",
            "execution_count": null,
            "metadata": {},
            "outputs": [],
            "source": [
                "# extract the confidence intervals for the coefficients\n",
                "confint(lr.glm)\n"
            ]
        },
        {
            "cell_type": "markdown",
            "metadata": {},
            "source": [
                "Despite having low explanatory and predictive power, the age of speakers and their gender are significant as the confidence intervals of the coefficients do not overlap with 0.\n",
                "\n",
                "### Effect Size{-}\n",
                "\n",
                "In a next step, we compute odds ratios and their confidence intervals. Odds Ratios represent a common measure of effect size and can be used to compare effect sizes across models. Odds ratios rang between 0 and infinity. Values of 1 indicate that there is no effect. The further away the values are from 1, the stronger the effect. If the values are lower than 1, then the variable level correlates negatively with the occurrence of the outcome (the probability decreases) while values above 1 indicate a positive correlation and show that the variable level causes an increase in the probability of the outcome (the occurrence of EH).\n"
            ]
        },
        {
            "cell_type": "code",
            "execution_count": null,
            "metadata": {},
            "outputs": [],
            "source": [
                "exp(lr.glm$coefficients) # odds ratios\n",
                "exp(confint(lr.glm))     # confidence intervals of the odds ratios\n"
            ]
        },
        {
            "cell_type": "markdown",
            "metadata": {},
            "source": [
                "The odds ratios confirm that older speakers use *eh* significantly less often compared with younger speakers and that women use *eh* less frequently than men as the confidence intervals of the odds rations do not overlap with 1. In a next step, we calculate the prediction accuracy of the model.\n",
                "\n",
                "### Prediction Accuracy{-}\n",
                "\n",
                "In order to calculate the prediction accuracy of the model, we generate a variable called *Prediction* that contains the predictions of pour model and which we add to the data. Then, we use the `confusionMatrix` function from the `caret` package to extract the prediction accuracy. \n"
            ]
        },
        {
            "cell_type": "code",
            "execution_count": null,
            "metadata": {},
            "outputs": [],
            "source": [
                "# create variable with contains the prediction of the model\n",
                "blrdata <- blrdata %>%\n",
                "  dplyr::mutate(Prediction = predict(lr.glm, type = \"response\"),\n",
                "                Prediction = ifelse(Prediction > .5, 1, 0),\n",
                "                Prediction = factor(Prediction, levels = c(\"0\", \"1\")),\n",
                "                EH = factor(EH, levels = c(\"0\", \"1\")))\n",
                "# create a confusion matrix with compares observed against predicted values\n",
                "caret::confusionMatrix(blrdata$Prediction, blrdata$EH)\n"
            ]
        },
        {
            "cell_type": "markdown",
            "metadata": {},
            "source": [
                "We can see that out model has never predicted the use of *eh* which is common when dealing with rare phenomena. This is expected as the event s so rare that the probability of it not occurring substantively outweighs the probability of it occurring. As such, the prediction accuracy of our model is not significantly better compared to the prediction accuracy of the baseline model which is the no-information rate (NIR)) (p = 0.5029).\n",
                "\n",
                "We can use the `plot_model` function from the `sjPlot` package to visualize the effects.\n"
            ]
        },
        {
            "cell_type": "code",
            "execution_count": null,
            "metadata": {},
            "outputs": [],
            "source": [
                "# predicted probability\n",
                "efp1 <- plot_model(lr.glm, type = \"pred\", terms = c(\"Age\"), axis.lim = c(0, 1)) \n",
                "# predicted percentage\n",
                "efp2 <- plot_model(lr.glm, type = \"pred\", terms = c(\"Gender\"), axis.lim = c(0, 1)) \n",
                "grid.arrange(efp1, efp2, nrow = 1)\n"
            ]
        },
        {
            "cell_type": "markdown",
            "metadata": {},
            "source": [
                "And we can also combine the visualization of the effects in a single plot as shown below.\n",
                "\n"
            ]
        },
        {
            "cell_type": "code",
            "execution_count": null,
            "metadata": {},
            "outputs": [],
            "source": [
                "sjPlot::plot_model(lr.glm, type = \"pred\", terms = c(\"Age\", \"Gender\"), axis.lim = c(0, 1)) +\n",
                "  theme(legend.position = \"top\") +\n",
                "  labs(x = \"\", y = \"Predicted Probabilty of eh\", title = \"\") +\n",
                "  scale_color_manual(values = c(\"gray20\", \"gray70\"))\n"
            ]
        },
        {
            "cell_type": "markdown",
            "metadata": {},
            "source": [
                "### Model Diagnostics{-}\n",
                "\n",
                "We are now in a position to perform model diagnostics and test if the model violates distributional requirements. In a first step, we test for the existence of multicollinearity.\n",
                "\n",
                "### Multicollinearity{-}\n",
                "\n",
                "Multicollinearity means that predictors in a model can be predicted by other predictors in the model. If this is the case, the model results are unreliable because the presence of absence of one predictor has substantive effects on at least one other predictor. \n",
                "\n",
                "To check whether the final minimal model contains predictors that correlate with each other, we extract variance inflation factors (VIF). If a model contains predictors that have variance inflation factors (VIF) > 10 the model is unreliable [@myers1990classical]. @gries2021statistics shows that a VIF of 10 means that that predictor is explainable (predictable) from the other predictors in the model with an R^2^ of .9 (a VIF of 5 means that predictor is explainable (predictable) from the other predictors in the model with an R^2^ of .8).Indeed, predictors with VIF values greater than 4 are usually already problematic but, for large data sets, even VIFs greater than 2 can lead inflated standard errors ([Jaeger 2013](http://wiki.bcs.rochester.edu/HlpLab/LSA2013Regression?action=AttachFile&do=view&target=LSA13-Lecture6-CommonIssuesAndSolutions.pdf)). Also, VIFs of 2.5 can be problematic [@szmrecsanyi2006morphosyntactic 215] and [@zuur2010protocol] proposes that variables with VIFs exceeding 3 should be removed.\n",
                "\n",
                ">\n",
                "> However, (multi-)collinearity is only an issue if one is interested in interpreting regression results!  If the interpretation is irrelevant because what is relevant is prediction(!), then it does not matter if the model contains collinear predictors! See @gries2021statistics for a more elaborate explanation.\n",
                ">\n"
            ]
        },
        {
            "cell_type": "code",
            "execution_count": null,
            "metadata": {},
            "outputs": [],
            "source": [
                "vif(lr.glm)\n",
                "\n"
            ]
        },
        {
            "cell_type": "markdown",
            "metadata": {},
            "source": [
                "In addition, predictors with 1/VIF values $<$ .1 must be removed (data points with values above .2 are considered problematic) [@menard1995applied] and the mean value of VIFs should be $~$ 1 [@bowerman1990linear].\n",
                "\n"
            ]
        },
        {
            "cell_type": "code",
            "execution_count": null,
            "metadata": {},
            "outputs": [],
            "source": [
                "mean(vif(lr.glm))\n",
                "\n"
            ]
        },
        {
            "cell_type": "markdown",
            "metadata": {},
            "source": [
                "### Outlier detection{-}\n",
                "\n",
                "In order to detect potential outliers, we will calculate diagnostic parameters and add these to our data set.\n"
            ]
        },
        {
            "cell_type": "code",
            "execution_count": null,
            "metadata": {},
            "outputs": [],
            "source": [
                "infl <- influence.measures(lr.glm) # calculate influence statistics\n",
                "blrdata <- data.frame(blrdata, infl[[1]], infl[[2]]) # add influence statistics\n"
            ]
        },
        {
            "cell_type": "markdown",
            "metadata": {},
            "source": [
                "In a next step, we use these diagnostic parameters to check if there are data points which should be removed as they unduly affect the model fit.  \n",
                "\n",
                "\n",
                "### Sample Size{-}\n",
                "\n",
                "We now check whether the sample size is sufficient for our analysis [@green1991many].\n",
                "\n",
                "* if you are interested in the overall model: 50 + 8k (k = number of predictors)\n",
                "\n",
                "* if you are interested in individual predictors: 104 + k\n",
                "\n",
                "* if you are interested in both: take the higher value!\n"
            ]
        },
        {
            "cell_type": "code",
            "execution_count": null,
            "metadata": {},
            "outputs": [],
            "source": [
                "# function to evaluate sample size\n",
                "smplesz <- function(x) {\n",
                "  ifelse((length(x$fitted) < (104 + ncol(summary(x)$coefficients)-1)) == TRUE,\n",
                "    return(\n",
                "      paste(\"Sample too small: please increase your sample by \",\n",
                "      104 + ncol(summary(x)$coefficients)-1 - length(x$fitted),\n",
                "      \" data points\", collapse = \"\")),\n",
                "    return(\"Sample size sufficient\")) }\n",
                "# apply unction to model\n",
                "smplesz(lr.glm)\n"
            ]
        },
        {
            "cell_type": "markdown",
            "metadata": {},
            "source": [
                "According to rule of thumb provided in @green1991many, the sample size is sufficient for our analysis.\n",
                "\n",
                "### Summarizing Results{-}\n",
                "\n",
                "As a final step, we summarize our findings in tabulated form.\n"
            ]
        },
        {
            "cell_type": "code",
            "execution_count": null,
            "metadata": {},
            "outputs": [],
            "source": [
                "sjPlot::tab_model(lr.glm)\n",
                "\n"
            ]
        },
        {
            "cell_type": "markdown",
            "metadata": {},
            "source": [
                "***\n",
                "\n",
                "A more detailed summary table can be retrieved as follows:\n"
            ]
        },
        {
            "cell_type": "code",
            "execution_count": null,
            "metadata": {},
            "outputs": [],
            "source": [
                "# load function\n",
                "source(\"https://slcladal.github.io/rscripts/blrsummary.r\")\n",
                "# calculate accuracy \n",
                "predict.acc <- caret::confusionMatrix(blrdata$Prediction, blrdata$EH)\n",
                "predict.acc <- predict.acc[3]$overall[[1]]\n",
                "# create summary table\n",
                "blrsummary(lr.glm, lr.lrm, predict.acc) \n"
            ]
        },
        {
            "cell_type": "markdown",
            "metadata": {},
            "source": "\n"
        },
        {
            "cell_type": "code",
            "execution_count": null,
            "metadata": {},
            "outputs": [],
            "source": [
                "# load function\n",
                "source(\"https://slcladal.github.io/rscripts/blrsummary.r\")\n",
                "# calculate accuracy \n",
                "predict.acc <- caret::confusionMatrix(blrdata$Prediction, blrdata$EH)\n",
                "predict.acc <- predict.acc[3]$overall[[1]]\n",
                "# create summary table \n",
                "blrsummary <- blrsummary(lr.glm, lr.lrm, predict.acc) \n",
                "# generate table\n",
                "blrsummary %>%\n",
                "  kable(caption = \"Results of the binomial logistic regression analysis.\") %>%\n",
                "  kableExtra::kable_styling(bootstrap_options = c(\"striped\", \"hover\", \"condensed\", \"responsive\"))\n"
            ]
        },
        {
            "cell_type": "markdown",
            "metadata": {},
            "source": [
                "**R^2^ (Hosmer & Lemeshow)**\n",
                "\n",
                "Hosmer and Lemeshow's R^2^ \"is the proportional reduction in the absolute value of the log-likelihood  measure and as such it is a measure of how much the badness of fit improves  as a result of the inclusion of the predictor variables. It can vary between 0 (indicating that the predictors are useless at predicting the outcome variable) and 1 (indicating that the model predicts the outcome variable perfectly)\" [@field2012discovering 317].\n",
                "\n",
                "**R^2^ (Cox & Snell)**\n",
                "\n",
                " \"Cox and Snell's R^2^ (1989) is based on the deviance of the model (-2LL(new»)\n",
                " and the deviance of the baseline model (-2LL(baseline), and the sample size,\n",
                " n [...]. However, this statistic never reaches its theoretical maximum of 1.\n",
                "\n",
                "**R2 (Nagelkerke)**\n",
                "\n",
                " Since R^2^ (Cox & Snell) never reaches its theoretical maximum of 1,\n",
                " Nagelkerke (1991) suggested Nagelkerke's R^2^ [@field2012discovering 317-318].\n",
                "\n",
                "**Somers’ D~xy~**\n",
                "\n",
                " Somers’ D~xy~ is a rank correlation between predicted probabilities and observed\n",
                " responses ranges between 0 (randomness) and 1 (perfect prediction). Somers' D~xy~ should have a value higher than .5 for the model to be meaningful [@baayen2008analyzing 204].\n",
                "\n",
                "**C**\n",
                "\n",
                " C is an index of concordance between the predicted probability and the\n",
                " observed response. When C takes the value 0.5, the predictions are random,\n",
                " when it is 1, prediction is perfect. A value above 0.8 indicates that the\n",
                " model may have some real predictive capacity [@baayen2008analyzing 204].\n",
                "\n",
                "**Akaike information criteria (AIC)**\n",
                "\n",
                "Akaike information criteria (AlC = -2LL + 2k) provide a value that reflects a ratio between the number of predictors in the model and the variance that is explained by these predictors. Changes in AIC can serve as a measure of whether the inclusion of a variable leads to a significant increase in the amount of variance that is explained by the model. \"You can think of this as the price you pay for something: you get a better value of R^2^, but you pay a higher price, and was that higher price worth it?  These information criteria help you to decide. The BIC is the same as the AIC but adjusts the penalty included in the AlC (i.e., 2k) by the number of cases: BlC = -2LL + 2k x log(n) in which n is the number of cases in the model\" [@field2012discovering 318].\n",
                "\n",
                "\n",
                "## Ordinal Regression\n",
                "\n",
                "Ordinal regression is very similar to multiple linear regression but takes an ordinal dependent variable [@agresti2010analysis]. For this reason, ordinal regression is one of the key methods in analysing Likert data. \n",
                "\n",
                "To see how an ordinal regression is implemented in R, we load and inspect the ´ordinaldata´ data set. The data set consists of 400 observations of students that were either educated at this school (Internal = 1) or not (Internal = 0). Some of the students have been abroad (Exchange = 1) while other have not (Exchange = 0). In addition, the data set contains the students' final score of a language test (FinalScore) and the dependent variable which the recommendation of a committee for an additional, very prestigious program. The recommendation has three levels (*very likely*, *somewhat likely*, and *unlikely*) and reflects the committees’ assessment of whether the student is likely to succeed in the program.\n"
            ]
        },
        {
            "cell_type": "code",
            "execution_count": null,
            "metadata": {},
            "outputs": [],
            "source": [
                "# load data\n",
                "ordata <- read.delim(\"https://slcladal.github.io/data/ordinaldata.txt\", sep = \"\\t\", header = T) %>%\n",
                "dplyr::rename(Recommend = 1, \n",
                "              Internal = 2, \n",
                "              Exchange = 3, \n",
                "              FinalScore = 4) %>%\n",
                "  dplyr::mutate(FinalScore = round(FinalScore, 2))\n"
            ]
        },
        {
            "cell_type": "markdown",
            "metadata": {},
            "source": "\n"
        },
        {
            "cell_type": "code",
            "execution_count": null,
            "metadata": {},
            "outputs": [],
            "source": [
                "# inspect data\n",
                "ordata %>%\n",
                "  head(20) %>%\n",
                "  kable(caption = \"\") %>%\n",
                "  kableExtra::kable_styling(bootstrap_options = c(\"striped\", \"hover\", \"condensed\", \"responsive\"), \n",
                "                            full_width = F)\n"
            ]
        },
        {
            "cell_type": "markdown",
            "metadata": {},
            "source": [
                "In a first step, we need to relevel the ordinal variable to represent an ordinal factor (or a progression from \"unlikely\" over \"somewhat likely\" to \"very likely\". And we will also factorize Internal and Exchange to make it easier to interpret the output later on.\n",
                "\n"
            ]
        },
        {
            "cell_type": "code",
            "execution_count": null,
            "metadata": {},
            "outputs": [],
            "source": [
                "# relevel data\n",
                "ordata <- ordata %>%\n",
                "  dplyr::mutate(Recommend = factor(Recommend, \n",
                "                           levels=c(\"unlikely\", \"somewhat likely\", \"very likely\"),\n",
                "                           labels=c(\"unlikely\",  \"somewhat likely\",  \"very likely\"))) %>%\n",
                "  dplyr::mutate(Exchange = ifelse(Exchange == 1, \"Exchange\", \"NoExchange\")) %>%\n",
                "  dplyr::mutate(Internal = ifelse(Internal == 1, \"Internal\", \"External\"))\n"
            ]
        },
        {
            "cell_type": "markdown",
            "metadata": {},
            "source": [
                "Now that the dependent variable is releveled, we check the distribution of the variable levels by tabulating the data. To get a better understanding of the data we create frequency tables across variables rather than viewing the variables in isolation.\n",
                "\n"
            ]
        },
        {
            "cell_type": "code",
            "execution_count": null,
            "metadata": {},
            "outputs": [],
            "source": [
                "## three way cross tabs (xtabs) and flatten the table\n",
                "ftable(xtabs(~ Exchange + Recommend + Internal, data = ordata))\n"
            ]
        },
        {
            "cell_type": "markdown",
            "metadata": {},
            "source": [
                "We also check the mean and standard deviation of the final score as final score is a numeric variable and cannot be tabulated (unless we convert it to a factor).\n",
                "\n"
            ]
        },
        {
            "cell_type": "code",
            "execution_count": null,
            "metadata": {},
            "outputs": [],
            "source": [
                "summary(ordata$FinalScore); sd(ordata$FinalScore)\n",
                "\n"
            ]
        },
        {
            "cell_type": "markdown",
            "metadata": {},
            "source": [
                "The lowest score is 1.9 and the highest score is a 4.0 with a mean of approximately 3. Finally, we inspect the distributions graphically.\n",
                "\n"
            ]
        },
        {
            "cell_type": "code",
            "execution_count": null,
            "metadata": {},
            "outputs": [],
            "source": [
                "# visualize data\n",
                "ggplot(ordata, aes(x = Recommend, y = FinalScore)) +\n",
                "  geom_boxplot(size = .75) +\n",
                "  geom_jitter(alpha = .5) +\n",
                "  facet_grid(Exchange ~ Internal, margins = TRUE) +\n",
                "  theme(axis.text.x = element_text(angle = 45, hjust = 1, vjust = 1))\n"
            ]
        },
        {
            "cell_type": "markdown",
            "metadata": {},
            "source": [
                "We see that we have only few students that have taken part in an exchange program and there are also only few internal students overall. With respect to recommendations, only few students are considered to very likely succeed in the program. We can now start with the modeling by using the `polr` function. To make things easier for us, we will only consider the main effects here as this tutorial only aims to how to implement an ordinal regression but not how it should be done in a proper study - then, the model fitting and diagnostic procedures would have to be performed accurately, of course. \n",
                "\n"
            ]
        },
        {
            "cell_type": "code",
            "execution_count": null,
            "metadata": {},
            "outputs": [],
            "source": [
                "# load package\n",
                "library(MASS)\n",
                "# fit ordered logit model and store results 'm'\n",
                "m <- polr(Recommend ~ Internal + Exchange + FinalScore, data = ordata, Hess=TRUE)\n",
                "# summarize model\n",
                "summary(m)\n"
            ]
        },
        {
            "cell_type": "markdown",
            "metadata": {},
            "source": [
                "The results show that having studied here at this school increases the chances of receiving a positive recommendation but that having been on an exchange has a negative but insignificant effect on the recommendation. The final score also correlates positively with a positive recommendation but not as much as having studied here.\n",
                "\n"
            ]
        },
        {
            "cell_type": "code",
            "execution_count": null,
            "metadata": {},
            "outputs": [],
            "source": [
                "## store table\n",
                "(ctable <- coef(summary(m)))\n"
            ]
        },
        {
            "cell_type": "markdown",
            "metadata": {},
            "source": [
                "As the regression report does not provide p-values, we have to calculate them separately (after having calculated them, we add them to the coefficient table).\n",
                "\n"
            ]
        },
        {
            "cell_type": "code",
            "execution_count": null,
            "metadata": {},
            "outputs": [],
            "source": [
                "## calculate and store p values\n",
                "p <- pnorm(abs(ctable[, \"t value\"]), lower.tail = FALSE) * 2\n",
                "## combined table\n",
                "(ctable <- cbind(ctable, \"p value\" = p))\n"
            ]
        },
        {
            "cell_type": "markdown",
            "metadata": {},
            "source": [
                "As predicted, Exchange does not have a significant effect but FinalScore and Internal both correlate significantly with the likelihood of receiving a positive recommendation.\n",
                "\n"
            ]
        },
        {
            "cell_type": "code",
            "execution_count": null,
            "metadata": {},
            "outputs": [],
            "source": [
                "# extract profiled confidence intervals\n",
                "ci <- confint(m)\n",
                "# calculate odds ratios and combine them with profiled CIs\n",
                "exp(cbind(OR = coef(m), ci))\n"
            ]
        },
        {
            "cell_type": "markdown",
            "metadata": {},
            "source": [
                "The odds ratios show that internal students are 2.85 times or 285 percent as likely as non-internal students to receive positive evaluations and that a 1-point increase in the test score lead to a 1.85 times or 185 percent increase in the chances of receiving a positive recommendation. The effect of an exchange is slightly negative but, as we have seen above, not significant.\n",
                "\n",
                "## Poisson Regression\n",
                "\n",
                "This section is based on [this tutorials](https://stats.idre.ucla.edu/r/dae/poisson-regression/) on how to perform a Poisson regression in R. \n",
                "\n",
                ">\n",
                "> Poisson regressions are used to analyze data where the dependent variable represents counts. \n",
                ">\n",
                "\n",
                "This applied particularly to counts that are based on observations of something that is measured in set intervals. For instances the number of pauses in two-minute-long conversations. Poisson regressions are particularly appealing when dealing with rare events, i.e. when something only occurs very infrequently. In such cases, normal linear regressions do not work because the instances that do occur are automatically considered outliers. Therefore, it is useful to check if the data conform to a Poisson distribution.\n",
                "\n",
                "However, the tricky thing about Poisson regressions is that the data has to conform to the Poisson distribution which is, according to my experience, rarely the case, unfortunately. The Gaussian Normal Distribution is very flexible because it is defined by two parameters, the mean (mu, i.e. $\\mu$) and the standard deviation (sigma, i.e. $\\sigma$). This allows the normal distribution to take very different shapes (for example, very high and slim (compressed) or very wide and flat). In contrast, the Poisson is defined by only one parameter (lambda, i.e. $\\lambda$) which mean that if we have a mean of 2, then the standard deviation is also 2 (actually we would have to say that the mean is $\\lambda$ and the standard deviation is also  $\\lambda$ or $\\lambda$ = $\\mu$ = $\\sigma$). This is much trickier for natural data as this means that the Poisson distribution is very rigid.\n"
            ]
        },
        {
            "cell_type": "code",
            "execution_count": null,
            "metadata": {},
            "outputs": [],
            "source": [
                "# plot poisson\n",
                "Count <- 1:10\n",
                "Lambda1 <- dpois(Count, 1)\n",
                "Lambda2 <- dpois(Count, 2)\n",
                "Lambda3 <- dpois(Count, 3)\n",
                "Lambda4 <- dpois(Count, 4)\n",
                "Lambda5 <- dpois(Count, 5)\n",
                "pdata <- data.frame(Count, Lambda1, Lambda2, Lambda3, Lambda4, Lambda5)\n",
                "pdata <- pdata %>%\n",
                "  dplyr::group_by(Count) %>%\n",
                "  tidyr::gather(Lambda, Value, Lambda1:Lambda5) %>%\n",
                "  dplyr::mutate(Lambda = str_replace_all(Lambda, \"Lambda\", \"\"))   %>%\n",
                "  dplyr::mutate(Lambda = factor(Lambda))\n",
                "# plot poisson with different lambdas\n",
                "ggplot(pdata, aes(x = Count, y = Value, color = Lambda)) +\n",
                "  geom_smooth(alpha=.5, se = F) +\n",
                "  guides(color=guide_legend(override.aes=list(fill=NA))) + \n",
                "  theme_set(theme_bw(base_size = 10)) +\n",
                "  theme(legend.position=\"top\") +\n",
                "  scale_colour_manual(values=c(\"goldenrod2\", \"gray40\", \"blue\",\n",
                "                               \"indianred4\", \"gray80\"), name=\"Lambda\") +\n",
                "  labs(x = \"Number of Instances\")  + \n",
                "  scale_x_continuous(breaks=1:10, labels=1:10) +\n",
                "  scale_y_continuous(name=\"Probability\", limits=c(0, .4))\n"
            ]
        },
        {
            "cell_type": "markdown",
            "metadata": {},
            "source": [
                "As we can see, as $\\lambda$ takes on higher values, the distribution becomes wider and flatter - a compressed distribution with a high mean can therefore not be Poisson-distributed. We will now start by loading the data.\n",
                "\n"
            ]
        },
        {
            "cell_type": "code",
            "execution_count": null,
            "metadata": {},
            "outputs": [],
            "source": [
                "# load data\n",
                "poissondata <- read.delim(\"https://slcladal.github.io/data/posdata.txt\", sep = \"\\t\", header = T, skipNul = T, quote = \"\")\n"
            ]
        },
        {
            "cell_type": "markdown",
            "metadata": {},
            "source": "\n"
        },
        {
            "cell_type": "code",
            "execution_count": null,
            "metadata": {},
            "outputs": [],
            "source": [
                "# inspect data\n",
                "poissondata %>%\n",
                "  head(20) %>%\n",
                "  kable(caption = \"First 20 rows of poissondata.\") %>%\n",
                "  kableExtra::kable_styling(bootstrap_options = c(\"striped\", \"hover\", \"condensed\", \"responsive\"), \n",
                "                            full_width = F)\n"
            ]
        },
        {
            "cell_type": "markdown",
            "metadata": {},
            "source": [
                "We will clean the data by factorizing Id which is currently considered a numeric variable rather than a factor.\n",
                "\n"
            ]
        },
        {
            "cell_type": "code",
            "execution_count": null,
            "metadata": {},
            "outputs": [],
            "source": [
                "# process data\n",
                "poissondata <- poissondata %>%\n",
                "  mutate(Id = factor(Id, levels = 1:200, labels = 1:200))\n",
                "# inspect data\n",
                "str(poissondata)\n"
            ]
        },
        {
            "cell_type": "markdown",
            "metadata": {},
            "source": [
                "First, we check if the conditions for a Poisson regression are met.\n",
                "\n"
            ]
        },
        {
            "cell_type": "code",
            "execution_count": null,
            "metadata": {},
            "outputs": [],
            "source": [
                "# output the results\n",
                "gf = vcd::goodfit(poissondata$Pauses, \n",
                "                  type= \"poisson\", \n",
                "                  method= \"ML\")\n",
                "# inspect results\n",
                "summary(gf)\n"
            ]
        },
        {
            "cell_type": "markdown",
            "metadata": {},
            "source": [
                "If the p-values is smaller than .05, then data is not Poisson distributed which means that it differs significantly from a Poisson distribution and is very likely over-dispersed. We will check the divergence from a Poisson distribution visually by plotting the observed counts against the expected counts if the data were Poisson distributed.\n",
                "\n"
            ]
        },
        {
            "cell_type": "code",
            "execution_count": null,
            "metadata": {},
            "outputs": [],
            "source": [
                "plot(gf,main=\"Count data vs Poisson distribution\")\n",
                "\n"
            ]
        },
        {
            "cell_type": "markdown",
            "metadata": {},
            "source": [
                "Although the goodfit function reported that the data differs significantly from the Poisson distribution, the fit is rather good. We can use an additional Levene's test to check if variance homogeneity is given. \n",
                "\n",
                "*** \n",
                ">\n",
                "> The use of Levene's test to check if the model is heteroscedastic is generally not recommended as it is too lax when dealing with few observations (because in such cases it does not have the power to identify heteroscedasticity) while it is too harsh when dealing with many observations (when heteroscedasticity typically is not a severe problem). \n",
                ">\n",
                "\n",
                "***\n"
            ]
        },
        {
            "cell_type": "code",
            "execution_count": null,
            "metadata": {},
            "outputs": [],
            "source": [
                "# check homogeneity\n",
                "leveneTest(poissondata$Pauses, poissondata$Language, center = mean)\n"
            ]
        },
        {
            "cell_type": "markdown",
            "metadata": {},
            "source": [
                "The Levene's test indicates that variance homogeneity is also violated. Since both the approximation to a Poisson distribution and variance homogeneity are violated, we should switch either to a quasi-Poisson model or a negative binomial model. However, as we are only interested in how to implement a Poisson model here, we continue despite the fact that this could not be recommended if we were actually interested in accurate results based on a reliable model. \n",
                "\n",
                "In a next step, we summarize Progression by inspecting the means and standard deviations of the individual variable levels.\n"
            ]
        },
        {
            "cell_type": "code",
            "execution_count": null,
            "metadata": {},
            "outputs": [],
            "source": [
                "# extract mean and standard devaiation\n",
                "with(poissondata, tapply(Pauses, Language, function(x) {\n",
                "  sprintf(\"M (SD) = %1.2f (%1.2f)\", mean(x), sd(x))\n",
                "}))\n"
            ]
        },
        {
            "cell_type": "markdown",
            "metadata": {},
            "source": [
                "Now, we visualize the data.\n",
                "\n"
            ]
        },
        {
            "cell_type": "code",
            "execution_count": null,
            "metadata": {},
            "outputs": [],
            "source": [
                "# plot data\n",
                "ggplot(poissondata, aes(Pauses, fill = Language)) +\n",
                "  geom_histogram(binwidth=.5, position=\"dodge\") +\n",
                "  scale_fill_manual(values=c(\"gray30\", \"gray50\", \"gray70\"))\n"
            ]
        },
        {
            "cell_type": "markdown",
            "metadata": {},
            "source": "\n"
        },
        {
            "cell_type": "code",
            "execution_count": null,
            "metadata": {},
            "outputs": [],
            "source": [
                "# calculate poissant regression\n",
                "m1.poisson <- glm(Pauses ~ Language + Alcohol, family=\"poisson\", data=poissondata)\n",
                "# inspect model\n",
                "summary(m1.poisson)\n"
            ]
        },
        {
            "cell_type": "markdown",
            "metadata": {},
            "source": [
                "In addition to the Estimates for the coefficients, we could also calculate the confidence intervals for the coefficients (LL stands for lower limit and UL for upper limit in the table below).\n",
                "\n"
            ]
        },
        {
            "cell_type": "code",
            "execution_count": null,
            "metadata": {},
            "outputs": [],
            "source": [
                "# load package\n",
                "library(sandwich)\n",
                "# calculate model\n",
                "cov.m1 <- sandwich::vcovHC(m1.poisson, type=\"HC0\")\n",
                "# extract standard error\n",
                "std.err <- sqrt(diag(cov.m1))\n",
                "# extract robust estimates\n",
                "r.est <- cbind(Estimate= coef(m1.poisson), \n",
                "               \"Robust SE\" = std.err,\n",
                "               \"Pr(>|z|)\" = 2 * pnorm(abs(coef(m1.poisson)/std.err),\n",
                "                                      lower.tail=FALSE),\n",
                "LL = coef(m1.poisson) - 1.96 * std.err,\n",
                "UL = coef(m1.poisson) + 1.96 * std.err)\n",
                "# inspect data\n",
                "r.est\n"
            ]
        },
        {
            "cell_type": "markdown",
            "metadata": {},
            "source": [
                "We can now calculate the p-value of the model.\n",
                "\n"
            ]
        },
        {
            "cell_type": "code",
            "execution_count": null,
            "metadata": {},
            "outputs": [],
            "source": [
                "with(m1.poisson, cbind(res.deviance = deviance, df = df.residual,\n",
                "  p = pchisq(deviance, df.residual, lower.tail=FALSE)))\n"
            ]
        },
        {
            "cell_type": "markdown",
            "metadata": {},
            "source": [
                "Now, we check, if removing Language leads to a significant decreasein model fit.\n",
                "\n"
            ]
        },
        {
            "cell_type": "code",
            "execution_count": null,
            "metadata": {},
            "outputs": [],
            "source": [
                "# remove Language from the model\n",
                "m2.poisson <- update(m1.poisson, . ~ . -Language)\n",
                "# check if dropping Language causes a significant decarse in model fit\n",
                "anova(m2.poisson, m1.poisson, test=\"Chisq\")\n"
            ]
        },
        {
            "cell_type": "markdown",
            "metadata": {},
            "source": [
                "We now calculate robust coefficients using the `msm` package.\n",
                "\n"
            ]
        },
        {
            "cell_type": "code",
            "execution_count": null,
            "metadata": {},
            "outputs": [],
            "source": [
                "# load package\n",
                "library(msm)\n",
                "# get estimates\n",
                "s <- msm::deltamethod(list(~ exp(x1), ~ exp(x2), ~ exp(x3), ~ exp(x4)), \n",
                "                                                coef(m1.poisson), cov.m1)\n",
                "# exponentiate old estimates dropping the p values\n",
                "rexp.est <- exp(r.est[, -3])\n",
                "# replace SEs with estimates for exponentiated coefficients\n",
                "rexp.est[, \"Robust SE\"] <- s\n",
                "# display results\n",
                "rexp.est\n"
            ]
        },
        {
            "cell_type": "markdown",
            "metadata": {},
            "source": [
                "\n",
                "\n"
            ]
        },
        {
            "cell_type": "code",
            "execution_count": null,
            "metadata": {},
            "outputs": [],
            "source": [
                "# extract predicted values\n",
                "(s1 <- data.frame(Alcohol = mean(poissondata$Alcohol),\n",
                "  Language = factor(1:3, levels = 1:3, labels = names(table(poissondata$Language)))))\n",
                "# shpw results\n",
                "predict(m1.poisson, s1, type=\"response\", se.fit=TRUE)\n"
            ]
        },
        {
            "cell_type": "markdown",
            "metadata": {},
            "source": [
                "\n",
                "\n"
            ]
        },
        {
            "cell_type": "code",
            "execution_count": null,
            "metadata": {},
            "outputs": [],
            "source": [
                "## calculate and store predicted values\n",
                "poissondata$Predicted <- predict(m1.poisson, type=\"response\")\n",
                "## order by program and then by math\n",
                "poissondata <- poissondata[with(poissondata, order(Language, Alcohol)), ]\n"
            ]
        },
        {
            "cell_type": "markdown",
            "metadata": {},
            "source": "\n"
        },
        {
            "cell_type": "code",
            "execution_count": null,
            "metadata": {},
            "outputs": [],
            "source": [
                "## create the plot\n",
                "ggplot(poissondata, aes(x = Alcohol, y = Predicted, colour = Language)) +\n",
                "  geom_point(aes(y = Pauses), alpha=.5, \n",
                "             position=position_jitter(h=.2)) +\n",
                "  geom_line(size = 1) +\n",
                "  labs(x = \"Alcohol (ml)\", y = \"Expected number of pauses\") +\n",
                "  scale_color_manual(values=c(\"gray30\", \"gray50\", \"gray70\"))\n"
            ]
        },
        {
            "cell_type": "markdown",
            "metadata": {},
            "source": [
                "## Robust Regression\n",
                "\n",
                "Robust regression represent an alternative to simple linear models which can handle overly influential data points (outliers). Robust regressions allow us to retain outliers in the data rather than having to remove them from the data by adding weights [@rousseeuw2005robust]. Thus, robust regressions are used when there are outliers present in ethe data and we can thus not use traditional models but we have no good argument to remove these data points. \n",
                "\n",
                ">\n",
                "> Robust regressions allow us to handle overly influential data points (outliers) by using weights. Thus, robust reressions enalbe us to retain all data points.\n",
                ">\n",
                "\n",
                "We begin by loading a data set (the mlrdata set which have used for multiple linear regression).\n"
            ]
        },
        {
            "cell_type": "code",
            "execution_count": null,
            "metadata": {},
            "outputs": [],
            "source": [
                "# load data\n",
                "robustdata <- read.delim(\"https://slcladal.github.io/data/mlrdata.txt\", sep = \"\\t\", header = T)\n"
            ]
        },
        {
            "cell_type": "markdown",
            "metadata": {},
            "source": "\n"
        },
        {
            "cell_type": "code",
            "execution_count": null,
            "metadata": {},
            "outputs": [],
            "source": [
                "# inspect data\n",
                "robustdata %>%\n",
                "  head(20) %>%\n",
                "  kable(caption = \"First 20 rows of robustdata.\") %>%\n",
                "  kableExtra::kable_styling(bootstrap_options = c(\"striped\", \"hover\", \"condensed\", \"responsive\"), \n",
                "                            full_width = F)\n"
            ]
        },
        {
            "cell_type": "markdown",
            "metadata": {},
            "source": [
                "We first fit an ordinary linear model (and although we know from the section on multiple regression that the interaction between status and attraction is significant, we will disregard this for now as this will help to explain the weighing procedure which is the focus of this section).\n",
                "\n"
            ]
        },
        {
            "cell_type": "code",
            "execution_count": null,
            "metadata": {},
            "outputs": [],
            "source": [
                "# create model\n",
                "slm <- lm(money ~ status+attraction, data = robustdata)\n",
                "# inspect model\n",
                "summary(slm)\n"
            ]
        },
        {
            "cell_type": "markdown",
            "metadata": {},
            "source": [
                "We now check whether the model is well fitted using diagnostic plots.\n",
                "\n"
            ]
        },
        {
            "cell_type": "code",
            "execution_count": null,
            "metadata": {},
            "outputs": [],
            "source": [
                "# generate plots\n",
                "autoplot(slm) + \n",
                "  theme(panel.grid.major = element_blank(), panel.grid.minor = element_blank()) \n"
            ]
        },
        {
            "cell_type": "markdown",
            "metadata": {},
            "source": [
                "The diagnostic plots indicate that there are three outliers in the data (data points 52, 83 and possibly 64). Therefore, we need to evaluate if the outliers severely affect the fit of the model.\n",
                "\n"
            ]
        },
        {
            "cell_type": "code",
            "execution_count": null,
            "metadata": {},
            "outputs": [],
            "source": [
                "robustdata[c(52, 64, 83),]\n",
                "\n"
            ]
        },
        {
            "cell_type": "markdown",
            "metadata": {},
            "source": [
                "We can now calculate Cook's distance and standardized residuals check if the values of the potentially problematic points have unacceptably high values (-2 < ok < 2).\n",
                "\n"
            ]
        },
        {
            "cell_type": "code",
            "execution_count": null,
            "metadata": {},
            "outputs": [],
            "source": [
                "CooksDistance <- cooks.distance(slm)\n",
                "StandardizedResiduals <- stdres(slm)\n",
                "a <- cbind(robustdata, CooksDistance, StandardizedResiduals)\n",
                "a[CooksDistance > 4/100, ]\n"
            ]
        },
        {
            "cell_type": "markdown",
            "metadata": {},
            "source": [
                "We will calculate the absolute value and reorder the table so that it is easier to check the values.\n",
                "\n"
            ]
        },
        {
            "cell_type": "code",
            "execution_count": null,
            "metadata": {},
            "outputs": [],
            "source": [
                "AbsoluteStandardizedResiduals <- abs(StandardizedResiduals)\n",
                "a <- cbind(robustdata, CooksDistance, StandardizedResiduals, AbsoluteStandardizedResiduals)\n",
                "asorted <- a[order(-AbsoluteStandardizedResiduals), ]\n",
                "asorted[1:10, ]\n"
            ]
        },
        {
            "cell_type": "markdown",
            "metadata": {},
            "source": [
                "As Cook's distance and the standardized residuals do have unacceptable values, we re-calculate the linear model as a robust regression and inspect the results\n",
                "\n"
            ]
        },
        {
            "cell_type": "code",
            "execution_count": null,
            "metadata": {},
            "outputs": [],
            "source": [
                "# load package\n",
                "library(robustbase)\n",
                "# create robust regression model\n",
                "rmodel <- robustbase::lmrob(money ~ status + attraction, data = robustdata)\n",
                "# inspect model\n",
                "summary(rmodel)\n"
            ]
        },
        {
            "cell_type": "markdown",
            "metadata": {},
            "source": [
                "The output shows that both status and attraction are significant but, as we have seen above, the effect that really matters is the interaction between status and attraction. \n",
                "\n",
                "We will briefly check the weights to understand the process of weighing better. The idea of weighing is to downgrade data points that are too influential while not punishing data points that have a good fit and are thus less influential. This means that the problematic data points should have lower weights than other data points (the maximum is 1 - so points can only be made \"lighter\"). \n"
            ]
        },
        {
            "cell_type": "code",
            "execution_count": null,
            "metadata": {},
            "outputs": [],
            "source": [
                "hweights <- data.frame(status = robustdata$status, resid = rmodel$resid, weight = rmodel$rweights)\n",
                "hweights2 <- hweights[order(rmodel$rweights), ]\n",
                "hweights2[1:15, ]\n"
            ]
        },
        {
            "cell_type": "markdown",
            "metadata": {},
            "source": [
                "The values of the weights support our assumption that those data points that were deemed too influential are made *lighter* as they now only have weights of `r hweights2[1,3]` and `r hweights2[2,3]` respectively. This was, however, not the focus of this sections as this section merely served to introduce the concept of weights and how they can be used in the context of a robust linear regression.\n",
                "\n",
                "# Mixed-Effects Regression\n",
                "\n",
                "In contrast to fixed-effects regression models, mixed-effects models assume a hierarchical data structure in which data points are grouped or nested in higher order categories (e.g. students within classes). Mixed-effects models are rapidly increasing in use in data analysis because they allow us to incorporate hierarchical or nested data structures. Mixed-effects models are, of course, an extension of fixed-effects regression models and also multivariate and come in different types. \n",
                "\n",
                "In the following, we will go over the most relevant and frequently used types of mixed-effect regression models, mixed-effects linear regression models and mixed-effects binomial logistic regression models. \n",
                "\n",
                "The major difference between these types of models is that they take different types of dependent variables. While linear models take numeric dependent variables, logistic models take nominal variables.\n",
                "\n",
                "\n",
                "## Linear Mixed-Effects Regression\n",
                "\n",
                "The following focuses on an extension of ordinary multiple linear regressions: mixed-effects regression linear regression. Mixed-effects models have the following advantages over simpler statistical tests: \n",
                "\n",
                "* Mixed-effects models are multivariate, i.e. they test the effect of several predictors simultaneously while controlling for the effect of all other predictors. \n",
                "\n",
                "* Mixed models allow to statistically incorporate within-speaker variability and are thus fit to model hierarchical or nested data structures. This applies if several observations are produced by an individual speaker, for instance.\n",
                "\n",
                "* Mixed-models provide a wealth of diagnostic statistics which enables us to control e.g. (multi-)collinearity, i.e. correlations between predictors, and to test whether conditions or requirements are violated (e.g. homogeneity of variance, etc.). \n",
                "\n",
                "Major disadvantages of mixed-effects regression modeling are that they are prone to producing high $\\beta$-errors [see @johnson2009getting] and that they require rather large data sets. \n",
                "\n",
                "### Introduction{-}\n",
                "\n",
                "So far, the regression models that we have used only had fixed-effects. Having only fixed-effects means that all data points are treated as if they are completely independent and thus on the same hierarchical level. However, it is very common that the data is nested in the sense that data points are not independent because they are, for instance produced by the same speaker or are grouped by some other characteristic. In such cases, the data is considered hierarchical and statistical models should incorporate such structural features of the data they work upon. With respect to regression modeling, hierarchical structures are incorporated by what is called *random effects*. When models only have a fixed-effects structure, then they make use of only a single intercept and/or slope (as in the left panel in the figure below), while mixed effects models have intercepts for each level of a random effect. If the random effect structure represents speakers then this would mean that a mixed-model would have a separate intercept and/or slope for each speaker (in addition to the overall intercept that is shown as an orange line in the figure below). \n"
            ]
        },
        {
            "cell_type": "code",
            "execution_count": null,
            "metadata": {},
            "outputs": [],
            "source": [
                "library(lme4)\n",
                "Height <- c(169, 171, 164, 160, 158, 173, 166, 161, 180, 187, 170, 177, 163, 161, 157)\n",
                "Weight <- c(68, 67, 65, 66, 64, 80, 75, 70, 85, 92, 86, 87, 85, 82, 80) \n",
                "Group <- c(\"a\", \"a\", \"a\", \"a\", \"a\", \"b\", \"b\", \"b\", \"b\", \"b\", \"c\", \"c\", \"c\", \"c\", \"c\")\n",
                "# create data sets\n",
                "tb <- data.frame(Height,Weight, Group)\n",
                "m1 <- lm(Weight ~ Height + Group, data = tb)\n",
                "m2 <- lmer(Weight ~ Height + (1|Group), data = tb)\n",
                "tb <- tb %>%\n",
                "  dplyr::mutate(PWeight = predict(m1, tb),\n",
                "                PWeight_lme = predict(m2, tb))\n",
                "# plot\n",
                "p1 <- ggplot(tb, aes(Height, Weight)) +\n",
                "  geom_point(size = 2)\n",
                "p2 <- ggplot(tb, aes(Height, Weight)) +\n",
                "  geom_abline(intercept = summary(m2)$coefficients[1], slope = summary(m2)$coefficients[2], \n",
                "              color=\"orange\", size = .75) +\n",
                "  geom_point(size = 2) +\n",
                "  ggtitle(\"Fixed-effects model \\n(with fixed intercept)\")\n",
                "\n",
                "p3 <- ggplot(tb, aes(Height, Weight)) +\n",
                "  geom_point(size = 2, aes(shape = Group, color = Group)) +\n",
                "  geom_abline(intercept = fixef(m2)[1], slope = fixef(m2)[2], \n",
                "              color=\"orange\", size = .75) +\n",
                "  geom_smooth(method = \"lm\", se = F, aes(x = Height, y = PWeight, color = Group), size = .5) +\n",
                "  theme(legend.position = \"none\") +\n",
                "  ggtitle(\"Mixed-effects model \\n (with random intercepts)\")\n",
                "\n",
                "p4 <- ggplot(tb, aes(Height, Weight)) +\n",
                "  geom_smooth(se = F, method = \"lm\", size = .5, aes(shape = Group, color = Group))  +\n",
                "  geom_abline(intercept = fixef(m2)[1], slope = fixef(m2)[2], \n",
                "              color=\"orange\", size = .75) +\n",
                "  geom_point(size = 2, aes(shape = Group, color = Group)) + \n",
                "  theme(legend.position = \"none\") +\n",
                "  ggtitle(\"Mixed-effects model \\n(with random intercepts + \\nrandom slops)\")\n",
                "# show plot\n",
                "ggpubr::ggarrange(p2, p3, p4, ncol = 3)\n"
            ]
        },
        {
            "cell_type": "markdown",
            "metadata": {},
            "source": [
                "The idea behind regression analysis is expressed formally in the equation below where$f_{(x)}$ is the y-value we want to predict, $\\alpha$ is the intercept (the point where the regression line crosses the y-axis), $\\beta$ is the coefficient (the slope of the regression line), and x is the value of a predictor (e.g. 180cm - if we would like to predict the weight of a person based on their height). The $\\epsilon$ is an error term that reflects the difference between the predicted value and the (actually) observed value ($\\epsilon$ is thus a residual that is important as regressions assume that residuals are, e.g., normally distributed). \n",
                "\n",
                "$f_{(x)} = \\alpha + \\beta x + \\epsilon$\n",
                "\n",
                "In other words, to estimate how much some weights who is 180cm tall, we would multiply the coefficient (slope of the line) with 180 ($x$) and add the value of the intercept (point where line crosses the y-axis). \n",
                "\n",
                "The equation below represents a formal representation of a mixed-effects regression with varying intercepts [see @winter2019statistics, 235].\n",
                "\n",
                "$f_{(x)} = \\alpha_{i} + \\beta x + \\epsilon$\n",
                "\n",
                "In this random intercept model, each level of a random variable has a different intercept. To predict the value of a data point, we would thus take the appropriate intercept value (the model intercept + the intercept of the random effect) and add the product of the predictor coefficient and the value of x. \n",
                "\n",
                "Finally, the equation below represents a formal representation of a mixed-effects regression with varying intercepts and varying slopes [see @winter2019statistics, 235].\n",
                "\n",
                "$f_{(x)} = \\alpha_{i} + \\beta_{i}x + \\epsilon$\n",
                "\n",
                "In this last model, each level of a random variable has a different intercept and a different slope. To predict the value of a data point, we would thus take the appropriate intercept value (the model intercept + the intercept of the random effect) and add the coefficient of that random effect level multiplied by the value of x. \n",
                "\n",
                "### Random Effects{-}\n",
                "\n",
                "*Random Effects* can be visualized using two parameters: the intercept (the point where the regression line crosses the y-axis at x equals 0) and the slope (the acclivity of the regression line). In contrast to fixed-effects models, that have only 1 intercept and one slope (left panel in the figure above), mixed-effects models can therefore have various *random intercepts* (center panel) or various *random slopes*, or both, various *random intercepts* and various *random slopes* (right panel). \n",
                "\n",
                "What features do distinguish random and fixed effects? \n",
                "\n",
                "1) Random effects represent a higher level variable under which data points are grouped. This implies that random effects must be categorical (or nominal but *they a´cannot be continuous*!) [see @winter2019statistics, p. 236].\n",
                "\n",
                "2) Random effects represent a sample of an infinite number of possible levels. For instance, speakers, trials, items, subjects, or words represent a potentially infinite pool of elements from which many different samples can be drawn. Thus, random effects represent a random sample sample. Fixed effects, on the other hand, typically do not represent a random sample but a fixed set of variable levels (e.g. Age groups, or parts-of-speech).\n",
                "\n",
                "3) Random effects typically represent many different levels while fixed effects typically have only a few. @zuur2013beginner propose that a variable may be used as a fixed effect if it has less than 5 levels while it should be treated as a random effect if it has more than 10 levels. Variables with 5 to 10 levels can be used as both. However, this is a rule of thumb and ignores the theoretical reasons (random sample and nestedness) for considering something as a random effect and it also is at odds with the way that repeated measures are models (namely as mixed effects) although they typically only have very few levels.  \n",
                "\n",
                "4) Fixed effects represent an effect that if we draw many samples, the effect would be consistent across samples [@winter2019statistics] while random effects should vary for each new sample that is drawn.\n",
                "\n",
                "In the following, we will only focus on models with random intercepts because this is the more common method and because including both random intercepts and random slopes requires larger data sets (but have a better fit because intercepts are not forced to be parallel and the lines therefore have a better fit). You should, however, always think about what random effects structure is appropriate for your model - a very recommendable explanation of how to chose which random effects structure is best (and about what the determining factors for this decision are) is give in @winter2019statistics[241-244]. Also, consider the center and the right plots above to understand what is meant by *random intercepts* and *random slopes*.\n",
                "\n",
                "After adding random intercepts, predictors (or fixed effects) are added to the model (just like with multiple regression). So mixed-effects are called mixed-effects because they contain both random and fixed effects.\n",
                "\n",
                "In terms of general procedure, random effects are added first, and only after we have ascertained that including random effects is warranted, we test whether including fixed-effects is warranted [@field2012discovering]. We test whether including random effects is warranted by comparing a model, that bases its estimates of the depended variable solely on the base intercept (the mean), with a model, that bases its estimates of the dependent variable solely on the intercepts of the random effect. If the random-effect model explains significantly more variance than the simple model without random effect structure, then we continue with the mixed-effects model. In other words, including random effects is justified if they reduce residual deviance.\n",
                "\n",
                "### Example: Preposition Use across Time by Genre{-}\n",
                "\n",
                "To explore how to implement a mixed-effects model in R we revisit the preposition data that contains relative frequencies of prepositions in English texts written between 1150 and 1913. As a first step, and to prepare our analysis, we load necessary R packages, specify options, and load as well as provide an overview of the data.\n"
            ]
        },
        {
            "cell_type": "code",
            "execution_count": null,
            "metadata": {},
            "outputs": [],
            "source": [
                "# suppress scientific notation\n",
                "options(\"scipen\" = 100, \"digits\" = 4)      \n",
                "# do not convert strings into factors\n",
                "options(stringsAsFactors = F)              \n",
                "# read in data\n",
                "lmmdata <- read.delim(\"https://slcladal.github.io/data/lmmdata.txt\", header = TRUE) %>%\n",
                "# convert date into a numeric variable\n",
                "    dplyr::mutate(Date = as.numeric(Date))\n"
            ]
        },
        {
            "cell_type": "markdown",
            "metadata": {},
            "source": "\n"
        },
        {
            "cell_type": "code",
            "execution_count": null,
            "metadata": {},
            "outputs": [],
            "source": [
                "# inspect data\n",
                "lmmdata %>%\n",
                "  head(20) %>%\n",
                "  kable(caption = \"First 20 rows of lmmdata.\") %>%\n",
                "  kableExtra::kable_styling(bootstrap_options = c(\"striped\", \"hover\", \"condensed\", \"responsive\"), full_width = F)\n"
            ]
        },
        {
            "cell_type": "markdown",
            "metadata": {},
            "source": [
                "The data set contains the date when the text was written (*Date*), the genre of the text (*Genre*), the name of the text (*Text*), the relative frequency of prepositions in the text (*Prepositions*), and the region in which the text was written (*Region*). We now plot the data to get a first impression of its structure.\n",
                "\n"
            ]
        },
        {
            "cell_type": "code",
            "execution_count": null,
            "metadata": {},
            "outputs": [],
            "source": [
                "p1 <- ggplot(lmmdata, aes(x = Date, y = Prepositions)) +\n",
                "  geom_point() +\n",
                "  geom_smooth(method = \"lm\", se = F, color = \"red\", linetype = \"dashed\") +\n",
                "  theme_bw() +\n",
                "  labs(y = \"Frequency\\n(Prepositions)\")\n",
                "p2 <- ggplot(lmmdata, aes(x = reorder(Genre, -Prepositions), y = Prepositions)) +\n",
                "  geom_boxplot() +\n",
                "  theme_bw() + \n",
                "  theme(axis.text.x = element_text(angle=90)) +\n",
                "  labs(x = \"Genre\", y = \"Frequency\\n(Prepositions)\")\n",
                "p3 <- ggplot(lmmdata, aes(Prepositions)) +\n",
                "  geom_histogram() +\n",
                "  theme_bw() + \n",
                "  labs(y = \"Count\", x = \"Frequency (Prepositions)\")\n",
                "grid.arrange(grobs = list(p1, p2, p3), widths = c(1, 1), layout_matrix = rbind(c(1, 1), c(2, 3)))\n"
            ]
        },
        {
            "cell_type": "markdown",
            "metadata": {},
            "source": [
                "The scatter plot in the upper panel indicates that the use of prepositions has moderately increased over time while the boxplots in the lower left panel show that the genres differ quite substantially with respect to their median frequencies of prepositions per text. Finally, the histogram in the lower right panel show that preposition use is distributed normally with a mean of 132.2 prepositions per text. \n",
                "\n"
            ]
        },
        {
            "cell_type": "code",
            "execution_count": null,
            "metadata": {},
            "outputs": [],
            "source": [
                "p4 <- ggplot(lmmdata, aes(Date, Prepositions)) +\n",
                "  geom_point() +\n",
                "  labs(x = \"Year\", y = \"Prepositions per 1,000 words\") +\n",
                "  geom_smooth(method = \"lm\")  + \n",
                "  theme_bw()\n",
                "p5 <- ggplot(lmmdata, aes(Region, Prepositions)) +\n",
                "  geom_boxplot() +\n",
                "  labs(x = \"Region\", y = \"Prepositions per 1,000 words\") +\n",
                "  geom_smooth(method = \"lm\")  + \n",
                "  theme_bw()\n",
                "grid.arrange(p4, p5, nrow = 1)\n"
            ]
        },
        {
            "cell_type": "markdown",
            "metadata": {},
            "source": "\n"
        },
        {
            "cell_type": "code",
            "execution_count": null,
            "metadata": {},
            "outputs": [],
            "source": [
                "ggplot(lmmdata, aes(Date, Prepositions)) +\n",
                "  geom_point() +\n",
                "  facet_wrap(~ Genre, nrow = 4) +\n",
                "  geom_smooth(method = \"lm\") +\n",
                "  theme_bw() +\n",
                "  labs(x = \"Date of composition\", y = \"Prepositions per 1,000 words\") +\n",
                "  coord_cartesian(ylim = c(0, 220))\n"
            ]
        },
        {
            "cell_type": "markdown",
            "metadata": {},
            "source": [
                "Centering or even scaling numeric variables is useful for later interpretation of regression models: if the date variable were not centered, the regression would show the effects of variables at year 0(!). If numeric variables are centered, other variables are variables are considered relative not to 0 but to the mean of that variable (in this case the mean of years in our data). Centering simply means that the mean of the numeric variable is subtracted from each value.\n",
                "\n"
            ]
        },
        {
            "cell_type": "code",
            "execution_count": null,
            "metadata": {},
            "outputs": [],
            "source": [
                "lmmdata$DateUnscaled <- lmmdata$Date\n",
                "lmmdata$Date <- scale(lmmdata$Date, scale = F)\n"
            ]
        },
        {
            "cell_type": "markdown",
            "metadata": {},
            "source": [
                "\n",
                "\n"
            ]
        },
        {
            "cell_type": "code",
            "execution_count": null,
            "metadata": {},
            "outputs": [],
            "source": [
                "# inspect data\n",
                "lmmdata %>%\n",
                "  head(20) %>%\n",
                "  kable(caption = \"First 20 rows of lmmdata.\") %>%\n",
                "  kableExtra::kable_styling(bootstrap_options = c(\"striped\", \"hover\", \"condensed\", \"responsive\"), \n",
                "                            full_width = F)\n"
            ]
        },
        {
            "cell_type": "markdown",
            "metadata": {},
            "source": [
                "We now set up a fixed-effects model with the `glm` function and a mixed-effects model using the `glmer` function with Genre as a random effect.\n",
                "\n"
            ]
        },
        {
            "cell_type": "code",
            "execution_count": null,
            "metadata": {},
            "outputs": [],
            "source": [
                "# Load package\n",
                "library(lme4)\n",
                "# generate models\n",
                "m0.glm <- glm(Prepositions ~ 1, family = gaussian, data = lmmdata)\n",
                "m0.lmer = lmer(Prepositions ~ 1 + (1|Genre), REML = T, data = lmmdata)\n"
            ]
        },
        {
            "cell_type": "markdown",
            "metadata": {},
            "source": [
                "Now that we have created the base-line models, we will test whether including a random effect structure is mathematically justified. It is important to note here that we are not going to test if including a random effect structure is theoretically motivated but simply if it causes a decrease in variance.\n",
                "\n",
                "\n",
                "### Testing Random Effects{-}\n",
                "\n",
                "As a first step in the modeling process, we now need to determine whether or not including a random effect structure is justified. We do so by comparing the AIC of the base-line model without random intercepts to the AIC of the model with random intercepts. \n"
            ]
        },
        {
            "cell_type": "code",
            "execution_count": null,
            "metadata": {},
            "outputs": [],
            "source": [
                "AIC(logLik(m0.glm))\n",
                "AIC(logLik(m0.lmer))\n"
            ]
        },
        {
            "cell_type": "markdown",
            "metadata": {},
            "source": [
                "The inclusion of a random effect structure with random intercepts is justified as the AIC of the model with random intercepts is substantially lower than the AIC of the model without random intercepts. \n",
                "\n",
                "While I do not how how to *test* if including a random effect is justified, there are often situations, which require to test exactly which random effect structure is best. When doing this, it is important to use *restricted\n",
                "maximum likelihood* (`REML = TRUE` or `method = REML`) rather than maximum likelihood [see @pinheiro2000mixedmodels; @winter2019statistics, 226].\n"
            ]
        },
        {
            "cell_type": "code",
            "execution_count": null,
            "metadata": {},
            "outputs": [],
            "source": [
                "# generate models with 2 different random effect structures\n",
                "ma.lmer = lmer(Prepositions ~ Date + (1|Genre), REML = T, data = lmmdata)\n",
                "mb.lmer = lmer(Prepositions ~ Date + (1 + Date | Genre), REML = T, data = lmmdata)\n",
                "# compare models\n",
                "anova(ma.lmer, mb.lmer, test = \"Chisq\", refit = F)\n"
            ]
        },
        {
            "cell_type": "markdown",
            "metadata": {},
            "source": [
                "The model comparison shows that the model with the more complex random effect structure has a significantly better fit to the data compared with the model with the simpler random effect structure. However, we will continue with the model with the simpler structure because this is just an example. \n",
                "\n",
                ">\n",
                "> In a real analysis, we would switch to a model with random intercepts and random slopes for Genre because it has a significantly better fit to the data. \n",
                ">\n",
                "\n",
                "\n",
                "### Model Fitting{-}\n",
                "\n",
                "After having determined that including a random effect structure is justified, we can continue by fitting the model and including diagnostics as we go. Including diagnostics in the model fitting process can save time and prevent relying on models which only turn out to be unstable if we would perform the diagnostics after the fact.\n",
                "\n",
                "We begin fitting our model by adding *Date* as a fixed effect and compare this model to our mixed-effects base-line model to see if *Date* improved the model fit by explaining variance and if *Date* significantly correlates with our dependent variable (this means that the difference between the models is the effect (size) of *Date*!)\n"
            ]
        },
        {
            "cell_type": "code",
            "execution_count": null,
            "metadata": {},
            "outputs": [],
            "source": [
                "m1.lmer <- lmer(Prepositions ~ (1|Genre) + Date, REML = T, data = lmmdata)\n",
                "anova(m1.lmer, m0.lmer, test = \"Chi\")\n"
            ]
        },
        {
            "cell_type": "markdown",
            "metadata": {},
            "source": "\n"
        },
        {
            "cell_type": "code",
            "execution_count": null,
            "metadata": {},
            "outputs": [],
            "source": [
                "mc1 <- anova(m1.lmer, m0.lmer, test = \"Chi\")\n",
                "\n"
            ]
        },
        {
            "cell_type": "markdown",
            "metadata": {},
            "source": [
                "The model with *Date* is the better model (significant p-value and lower AIC). The significant p-value shows that *Date* correlates significantly with *Prepositions* ($\\chi$^2^(`r as.vector(unlist(mc1))[14][1]`): `r mc1$Chisq[2]`, p  = `r round(as.vector(unlist(mc1))[16][1], 5)`) . The $\\chi$^2^ value here is labeled *Chisq* and the degrees of freedom are calculated by subtracting the smaller number of DFs from the larger number of DFs.\n",
                "\n",
                "We now test whether *Region* should also be part of the final minimal adequate model. The easiest way to add predictors is by using the `update` function (it saves time and typing).\n"
            ]
        },
        {
            "cell_type": "code",
            "execution_count": null,
            "metadata": {},
            "outputs": [],
            "source": [
                "# generate model\n",
                "m2.lmer <- update(m1.lmer, .~.+ Region)\n",
                "# test vifs\n",
                "car::vif(m2.lmer)\n",
                "# compare models                \n",
                "anova(m2.lmer, m1.lmer, test = \"Chi\")\n"
            ]
        },
        {
            "cell_type": "markdown",
            "metadata": {},
            "source": [
                "Three things tell us that *Region* should not be included: \n",
                "\n",
                "1. the AIC does not decrease, \n",
                "\n",
                "2. the BIC increases(!), and \n",
                "\n",
                "3. the p-value is higher than .05. \n",
                "\n",
                "This means, that we will continue fitting the model without having *Region* included. Well... not quite - just as a note on including variables: while *Region* is not significant as a main effect, it must still be included in a model if it were part of a significant interaction. To test if this is indeed the case, we fit another model with the interaction between *Date* and *Region* as predictor.\n"
            ]
        },
        {
            "cell_type": "code",
            "execution_count": null,
            "metadata": {},
            "outputs": [],
            "source": [
                "# generate model\n",
                "m3.lmer <- update(m1.lmer, .~.+ Region*Date)\n",
                "# extract vifs\n",
                "car::vif(m3.lmer)\n",
                "# compare models                \n",
                "anova(m3.lmer, m1.lmer, test = \"Chi\")\n"
            ]
        },
        {
            "cell_type": "markdown",
            "metadata": {},
            "source": [
                "Again, the high p-value and the increase in AIC and BIC show that we have found our minimal adequate model with only contains *Date* as a main effect. In a next step, we can inspect the final minimal adequate model, i.e. the most parsimonious (the model that explains a maximum of variance with a minimum of predictors).\n",
                "\n"
            ]
        },
        {
            "cell_type": "code",
            "execution_count": null,
            "metadata": {},
            "outputs": [],
            "source": [
                "# inspect results\n",
                "summary(m1.lmer)\n"
            ]
        },
        {
            "cell_type": "markdown",
            "metadata": {},
            "source": [
                "### Model Diagnostics{-}\n",
                "\n",
                "We can now evaluate the goodness of fit of the model and check if mathematical requirements and assumptions have been violated. In a first step, we generate diagnostic plots that focus on the random effect structure.\n"
            ]
        },
        {
            "cell_type": "code",
            "execution_count": null,
            "metadata": {},
            "outputs": [],
            "source": [
                "plot(m1.lmer, Genre ~ resid(.), abline = 0 ) # generate diagnostic plots\n",
                "\n"
            ]
        },
        {
            "cell_type": "markdown",
            "metadata": {},
            "source": [
                "The plot shows that there are some outliers (points outside the boxes) and that the variability within letters is greater than in other genres we therefore examine the genres in isolation standardized residuals versus fitted values [@pinheiro2000mixedmodels 175].\n",
                "\n"
            ]
        },
        {
            "cell_type": "code",
            "execution_count": null,
            "metadata": {},
            "outputs": [],
            "source": [
                "plot(m1.lmer, resid(., type = \"pearson\") ~ fitted(.) | Genre, id = 0.05, \n",
                "     adj = -0.3, pch = 20, col = \"gray40\")\n"
            ]
        },
        {
            "cell_type": "markdown",
            "metadata": {},
            "source": [
                "The plot shows the standardized residuals (or Pearson's residuals) versus fitted values and suggests that there are outliers in the data (the names elements in the plots). To check if these outliers are a cause for concern, we will now use a Levene's test to check if the variance is distributed homogeneously (homoscedasticity) or whether the assumption of variance homogeneity is violated (due to the outliers).\n",
                "\n",
                "*** \n",
                ">\n",
                "> The use of Levene's test to check if the model is heteroscedastic is generally not recommended as it is too lax when dealing with few observations (because in such cases it does not have the power to identify heteroscedasticity) while it is too harsh when dealing with many observations (when heteroscedasticity typically is not a severe problem). \n",
                ">\n",
                "\n",
                "***\n",
                "\n",
                "We use Levene's test here merely to check if it substantiates the impressions we got from the visual inspection. \n"
            ]
        },
        {
            "cell_type": "code",
            "execution_count": null,
            "metadata": {},
            "outputs": [],
            "source": [
                "# check homogeneity\n",
                "leveneTest(lmmdata$Prepositions, lmmdata$Genre, center = mean)\n"
            ]
        },
        {
            "cell_type": "markdown",
            "metadata": {},
            "source": [
                "The Levene's test shows that the variance is distributed unevenly across genres which means that we do not simply continue but should either remove problematic data points (outliers) or use a weighing method. \n",
                "\n",
                "In this case, we create a new model which uses weights to compensate for heterogeneity of variance and thus the influence of outliers - which is an alternative to removing the data points and rerunning the analysis [@pinheiro2000mixedmodels 177]. However, to do so, we need to use a different function (the `lme` function) which means that we have to create two models: the *old* minimal adequate model and the *new* minimal adequate model with added weights. After we have created these models, we will compare them to see if including weights has improved the fit.\n"
            ]
        },
        {
            "cell_type": "code",
            "execution_count": null,
            "metadata": {},
            "outputs": [],
            "source": [
                "# load package\n",
                "library(nlme)\n",
                "# generate models\n",
                "m4.lme = lme(Prepositions ~ Date, random = ~1|Genre, data = lmmdata, method = \"ML\")\n",
                "m5.lme <- update(m4.lme, weights = varIdent(form = ~ 1 | Genre))\n",
                "# compare models\n",
                "anova(m5.lme, m4.lme)\n"
            ]
        },
        {
            "cell_type": "markdown",
            "metadata": {},
            "source": [
                "The weight model (m5.lme) that uses weights to account for unequal variance is performing significantly better than the model without weights (m4.lme) and we therefore switch to the weight model and inspect its parameters.\n",
                "\n"
            ]
        },
        {
            "cell_type": "code",
            "execution_count": null,
            "metadata": {},
            "outputs": [],
            "source": [
                "# inspect results\n",
                "summary(m5.lme)        \n"
            ]
        },
        {
            "cell_type": "markdown",
            "metadata": {},
            "source": [
                "We can also use an ANOVA display which is more to the point. \n",
                "\n"
            ]
        },
        {
            "cell_type": "code",
            "execution_count": null,
            "metadata": {},
            "outputs": [],
            "source": [
                "anova(m5.lme)          \n",
                "\n"
            ]
        },
        {
            "cell_type": "markdown",
            "metadata": {},
            "source": [
                "As we did before, we now check, whether the final minimal model (with weights) outperforms an intercept-only base-line model.\n",
                "\n"
            ]
        },
        {
            "cell_type": "code",
            "execution_count": null,
            "metadata": {},
            "outputs": [],
            "source": [
                "# generate base-line model\n",
                "m0.lme = lme(Prepositions ~ 1, random = ~1|Genre, data = lmmdata, method = \"ML\", weights = varIdent(form = ~ 1 | Genre))\n",
                "anova(m0.lme, m5.lme)  # test if date is significant\n"
            ]
        },
        {
            "cell_type": "markdown",
            "metadata": {},
            "source": [
                "Our final minimal adequate model with weights performs significantly better than an intercept only base-line model. Before doing the final diagnostics, we well inspect the estimates for the random effect structure to check if there are values which require further inspection (e.g. because they are drastically different from all other values).\n",
                "\n"
            ]
        },
        {
            "cell_type": "code",
            "execution_count": null,
            "metadata": {},
            "outputs": [],
            "source": [
                "# extract estimates and sd for fixed and random effects\n",
                "intervals(m5.lme)      \n"
            ]
        },
        {
            "cell_type": "markdown",
            "metadata": {},
            "source": [
                "The random effect estimates do not show any outliers or drastically increased or decreased values which means that the random effect structure is fine.\n",
                "\n",
                "### Effect Sizes{-}\n",
                "\n",
                "We will now extract effect sizes (in the example: the effect size of *Date*) and calculate normalized effect size measures (this effect size measure works for all fixed effects). When you have factorial design, you can take the square root of the squared t-value divided by the t-value squared plus the degrees of freedom to calculate the effect size: \n",
                "\n",
                "r = $\\sqrt{ \\frac{ t^2}{(t^2 + df) } }$ = $\\sqrt{ \\frac{ 3.99^2}{(3.99^2 + 520) } }$ = `r round(sqrt(3.99^2/(3.99^2+520)), 3)`\n",
                "\n",
                "***\n",
                "> \n",
                "> Two words of warning though: \n",
                ">\n",
                ">\n",
                "> 1. In our case, the effect we are interested in is not factorial but continuous which means that we should not use this effect size measure. We only show this here as an example for how you can calculate the effect size measure r.\n",
                ">\n",
                ">\n",
                "> 2. Only apply this function to main effects that are not involved in interactions as they are meaningless because the amount of variance explained by main effects involved in interactions is unclear [@field2012discovering 641].\n",
                ">\n",
                "\n",
                "***\n"
            ]
        },
        {
            "cell_type": "code",
            "execution_count": null,
            "metadata": {},
            "outputs": [],
            "source": [
                "# WARNING: disfunct!\n",
                "# calculate effect size \n",
                "#ggeffects::ggpredict(m5.lme, terms = \"Date\")\n",
                "effects::predictorEffects(m5.lme)\n"
            ]
        },
        {
            "cell_type": "markdown",
            "metadata": {},
            "source": "\n"
        },
        {
            "cell_type": "code",
            "execution_count": null,
            "metadata": {},
            "outputs": [],
            "source": [
                "sjPlot::tab_model(m5.lme)\n",
                "\n"
            ]
        },
        {
            "cell_type": "markdown",
            "metadata": {},
            "source": [
                "***\n",
                ">\n",
                "> The R^2^ values of the summary table are incorrect (as indicated by the missing conditional R^2^ value). The more appropriate conditional and marginal coefficient of determination for generalized mixed-effect models can be extracted using the `r.squaredGLMM` function from the `MuMIn` package. \n",
                ">\n",
                "\n",
                "***\n",
                "\n",
                "The *marginal R^2^* (marginal coefficient of determination) represents the variance explained by the fixed effects while the *conditional R^2^* is interpreted as a variance explained by the entire model, including both fixed and random effects [@barton2020mumin].\n",
                "\n",
                "The respective call for the model is:\n"
            ]
        },
        {
            "cell_type": "code",
            "execution_count": null,
            "metadata": {},
            "outputs": [],
            "source": [
                "# load package\n",
                "library(MuMIn)\n",
                "# extract R2s\n",
                "r.squaredGLMM(m1.lmer)\n"
            ]
        },
        {
            "cell_type": "markdown",
            "metadata": {},
            "source": [
                "The effects can be visualized using the `plot_model` function from the `sjPlot` package.\n",
                "\n"
            ]
        },
        {
            "cell_type": "code",
            "execution_count": null,
            "metadata": {},
            "outputs": [],
            "source": [
                "sjPlot::plot_model(m5.lme, type = \"pred\", terms = c(\"Date\")) +\n",
                "  # show uncentered date rather than centered date\n",
                "  scale_x_continuous(name = \"Date\", \n",
                "                     breaks = seq(-500, 300, 100), \n",
                "                     labels = seq(1150, 1950, 100))\n"
            ]
        },
        {
            "cell_type": "markdown",
            "metadata": {},
            "source": [
                "While we have already shown that the effect of *Date* is significant, it is small which means that the number of prepositions per text does not correlate very strongly with time. This suggests that other factors that are not included in the model also impact the frequency of prepositions (and probably more meaningfully, too).\n",
                "\n",
                "Before turning to the diagnostics, we will use the fitted (or predicted) and the observed values with a regression line for the predicted values. This will not only show how good the model fit the data but also the direction and magnitude of the effect.\n"
            ]
        },
        {
            "cell_type": "code",
            "execution_count": null,
            "metadata": {},
            "outputs": [],
            "source": [
                "# extract predicted values\n",
                "lmmdata$Predicted <- predict(m5.lme, lmmdata)\n",
                "# plot predicted values\n",
                "ggplot(lmmdata, aes(DateUnscaled, Predicted)) +\n",
                "  facet_wrap(~Genre) +\n",
                "  geom_point(aes(x = DateUnscaled, y = Prepositions), color = \"gray80\", size = .5) +\n",
                "  geom_smooth(aes(y = Predicted), color = \"gray20\", linetype = \"solid\", \n",
                "              se = T, method = \"lm\") +\n",
                "  guides(color=guide_legend(override.aes=list(fill=NA))) +  \n",
                "  theme_set(theme_bw(base_size = 10)) +\n",
                "  theme(legend.position=\"top\", legend.title = element_blank(),\n",
                "        panel.grid.major = element_blank(),\n",
                "        panel.grid.minor = element_blank()) + \n",
                "  xlab(\"Date of composition\")\n"
            ]
        },
        {
            "cell_type": "markdown",
            "metadata": {},
            "source": [
                "### Model Diagnostics{-}\n",
                "\n",
                "We now create diagnostic plots. What we wish to see in the diagnostic plots is a cloud of dots in the middle of the window without any structure. What we do not want to see is a funnel-shaped cloud because this indicates an increase of the errors/residuals with an increase of the predictor(s) (because this would indicate heteroscedasticity) [@pinheiro2000mixedmodels 182].\n"
            ]
        },
        {
            "cell_type": "code",
            "execution_count": null,
            "metadata": {},
            "outputs": [],
            "source": [
                "# start plotting\n",
                "par(mfrow = c(2, 2))           # display plots in 2 rows and 2 columns\n",
                "plot(m5.lme, pch = 20, col = \"black\", lty = \"dotted\"); par(mfrow = c(1, 1))\n"
            ]
        },
        {
            "cell_type": "markdown",
            "metadata": {},
            "source": [
                "What a wonderful unstructured cloud - the lack of structure tells us that the model is \"healthy\" and does not suffer from heteroscedasticity. We will now create more diagnostic plots to find potential problems [@pinheiro2000mixedmodels 21].\n",
                "\n"
            ]
        },
        {
            "cell_type": "code",
            "execution_count": null,
            "metadata": {},
            "outputs": [],
            "source": [
                "# fitted values by Genre\n",
                "plot(m5.lme, form = resid(., type = \"p\") ~ fitted(.) | Genre, abline = 0, \n",
                "     cex = .5, pch = 20, col = \"black\")\n"
            ]
        },
        {
            "cell_type": "markdown",
            "metadata": {},
            "source": [
                "In contrast to the unweight model, no data points are named which indicates that the outliers do no longer have unwarranted influence on the model. Now, we check the residuals of fitted values against observed values [@pinheiro2000mixedmodels 179]. What we would like to see is a straight, upwards going line.\n",
                "\n"
            ]
        },
        {
            "cell_type": "code",
            "execution_count": null,
            "metadata": {},
            "outputs": [],
            "source": [
                "# residuals of fitted values against observed\n",
                "qqnorm(m5.lme, pch = 20, col = \"black\")\n"
            ]
        },
        {
            "cell_type": "markdown",
            "metadata": {},
            "source": [
                "A beautiful, straight line! The qqplot does not indicate any problems. It is, unfortunately, rather common that the dots deviate from the straight line at the very bottom or the very top which means that the model is good at estimating values around the middle of the dependent variable but rather bad at estimating lower or higher values. Next, we check the residuals by \"Genre\" [@pinheiro2000mixedmodels 179].\n",
                "\n"
            ]
        },
        {
            "cell_type": "code",
            "execution_count": null,
            "metadata": {},
            "outputs": [],
            "source": [
                "# residuals by genre\n",
                "qqnorm(m5.lme, ~resid(.) | Genre, pch = 20, col = \"black\" )\n"
            ]
        },
        {
            "cell_type": "markdown",
            "metadata": {},
            "source": [
                "Beautiful straight lines - perfection! Now, we inspect the observed responses versus the within-group fitted values [@pinheiro2000mixedmodels 178].\n",
                "\n"
            ]
        },
        {
            "cell_type": "code",
            "execution_count": null,
            "metadata": {},
            "outputs": [],
            "source": [
                "# observed responses versus the within-group fitted values\n",
                "plot(m5.lme, Prepositions ~ fitted(.), id = 0.05, adj = -0.3, \n",
                "     xlim = c(80, 220), cex = .8, pch = 20, col = \"blue\")\n"
            ]
        },
        {
            "cell_type": "markdown",
            "metadata": {},
            "source": [
                "Although some data points are named, the plot does not show any structure, like a funnel, which would have been problematic. \n",
                "\n",
                "### Reporting Results {-}\n",
                "\n",
                "Before we do the write-up, we have a look at the model summary as this will provide us with at least some of the parameters that we want to report. \n"
            ]
        },
        {
            "cell_type": "code",
            "execution_count": null,
            "metadata": {},
            "outputs": [],
            "source": [
                "summary(m5.lme)\n",
                "\n"
            ]
        },
        {
            "cell_type": "markdown",
            "metadata": {},
            "source": "\n"
        },
        {
            "cell_type": "code",
            "execution_count": null,
            "metadata": {},
            "outputs": [],
            "source": [
                "tab_model(m5.lme)\n",
                "\n"
            ]
        },
        {
            "cell_type": "markdown",
            "metadata": {},
            "source": [
                "***\n",
                "\n",
                "> \n",
                "> The R^2^ values of the summary table are incorrect (as indicated by the missing conditional R^2^ value). The more appropriate conditional and marginal coefficient of determination for generalized mixed-effect models can be extracted using the `r.squaredGLMM` function from the `MuMIn` package. \n",
                ">\n",
                "\n",
                "***\n",
                "\n",
                "The respective call for the model is:\n"
            ]
        },
        {
            "cell_type": "code",
            "execution_count": null,
            "metadata": {},
            "outputs": [],
            "source": [
                "r.squaredGLMM(m5.lme)\n",
                "\n"
            ]
        },
        {
            "cell_type": "markdown",
            "metadata": {},
            "source": [
                "A mixed-effect linear regression model which contained the genre of texts as random effect was fit to the data in a step-wise-step up procedure. Due to the presence of outliers in the data, weights were included into the model which led to a significantly improved model fit compared to an un-weight model ($\\chi$^2^(2): 39.17, p: 0.0006). The final minimal adequate model performed significantly better than an intercept-only base-line model ($\\chi$^2^(1): 12.44, p =.0004) and showed that the frequency of prepositions increases significantly but only marginally with the date of composition (Estimate: 0.02, CI: 0.01-0.03, p < .001, marginal R^2^ =  0.0174, conditional R^2^ =  0.4324). Neither the region where the text was composed nor a higher order interaction between genre and region significantly correlated with the use of prepositions in the data. \n",
                "\n",
                "### Remarks on Prediction{-}\n",
                "\n",
                "While the number of intercepts, the model reports, and the way how mixed- and fixed-effects arrive at predictions differ, their predictions are extremely similar and almost identical (at least when dealing with a simple random effect structure). Consider the following example where we create analogous fixed and mixed effect models and plot their predicted frequencies of prepositions per genre across the un-centered date of composition. The predictions of the mixed-effects model are plotted as a solid red line, while the predictions of the fixed-effects model are plotted as dashed blue lines.  \n"
            ]
        },
        {
            "cell_type": "code",
            "execution_count": null,
            "metadata": {},
            "outputs": [],
            "source": [
                "# creat lm model\n",
                "m5.lmeunweight <- lm(Prepositions ~ DateUnscaled + Genre, data = lmmdata)\n",
                "lmmdata$lmePredictions <- fitted(m5.lmeunweight, lmmdata)\n",
                "m5.lm <- lm(Prepositions ~ DateUnscaled + Genre, data = lmmdata)\n",
                "lmmdata$lmPredictions <- fitted(m5.lm, lmmdata)\n",
                "# plot predictions\n",
                "ggplot(lmmdata, aes(x = DateUnscaled, y = lmePredictions, group = Genre)) +\n",
                "  geom_line(aes(y = lmmdata$lmePredictions), linetype = \"solid\", color = \"red\") +\n",
                "  geom_line(aes(y = lmmdata$lmPredictions), linetype = \"dashed\", color = \"blue\") +\n",
                "  facet_wrap(~ Genre, nrow = 4) +\n",
                "  theme_bw() +\n",
                "  labs(x = \"Date of composition\") +\n",
                "  labs(y = \"Prepositions per 1,000 words\") +\n",
                "  coord_cartesian(ylim = c(0, 220))\n"
            ]
        },
        {
            "cell_type": "markdown",
            "metadata": {},
            "source": [
                "The predictions overlap almost perfectly which means that the predictions of both are almost identical - irrespective of whether genre is part of the mixed or the fixed effects structure. \n",
                "\n",
                "## Mixed-Effects Binomial Logistic Regression\n",
                "\n",
                "We now turn to an extension of binomial logistic regression: mixed-effects binomial logistic regression. As is the case with linear mixed-effects models logistic mixed effects models have the following advantages over simpler statistical tests: \n",
                "\n",
                "* Mixed-effects models are multivariate, i.e. they test the effect of several predictors simultaneously while controlling for the effect of all other predictors. \n",
                "\n",
                "* Mixed models allow to statistically incorporate within-speaker variability and are thus fit to model hierarchical or nested data structures. This applies if several observations are produced by an individual speaker, for instance.\n",
                "\n",
                "* Mixed-models provide a wealth of diagnostic statistics which enables us to control e.g. multicollinearity, i.e. correlations between predictors, and to test whether conditions or requirements are violated (e.g. homogeneity of variance, etc.). \n",
                "\n",
                "Major disadvantages of regression modeling are that they are prone to producing high $\\beta$-errors [see @johnson2009getting] and that they require rather large data sets. \n",
                "\n",
                "### Introduction {-}\n",
                "\n",
                "As is the case with linear mixed-effects models, binomial logistic mixed-effect models are multivariate analyses that treat data points as hierarchical or grouped in some way. In other words, they take into account that the data is nested in the sense that data points are produced by the same speaker or are grouped by some other characteristics. In mixed-models, hierarchical structures are modelled as *random effects*. If the random effect structure represents speakers then this means that a mixed-model would have a separate intercept and/or slope for each speaker. \n",
                "\n",
                "*Random Effects* in linear models can be visualized using two parameters: the intercept (the point where the regression line crosses the y-axis at x = 0) and the slope (the acclivity of the regression line). In contrast to linear mixed-effects models, random effects differ in the position and the slope of the logistic function that is applied to the likelihood of the dependent variable.  *random intercepts* (center left panel \\ref{fig:mem02}) or various *random slopes* (center right panel \\ref{fig:mem02}), or both, various *random intercepts* and various *random slopes* (right panel \\ref{fig:mem02}). In the following, we will only focus on models with random intercepts because this is the by far more common method and because including both random intercepts and random slopes requires huge amounts of data. Consider the Figure below to understand what is meant by \"random intercepts\".\n"
            ]
        },
        {
            "cell_type": "code",
            "execution_count": null,
            "metadata": {},
            "outputs": [],
            "source": [
                "x1 <- c(62, 63, 64, 65, 66, 67, 68, 69, 70, 71, 72, 73, 74, 75, 72.5, 73.5, 74.5, 75, 76, 77, 78, 79, 80, 81, 82, 83, 84, 85, 86)\n",
                "x2 <- x1-2\n",
                "x3 <- x2-2\n",
                "x4 <- x3-2\n",
                "x5 <- x1+2\n",
                "x6 <- x5+2\n",
                "x7 <- x6+2\n",
                "x11 <- x1-(mean(x1)-x1)\n",
                "x12 <- x1-(mean(x1)-x1)*1.5\n",
                "x13 <- x1-(mean(x1)-x1)*3\n",
                "x14 <- x1-(mean(x1)-x1)^1.5\n",
                "x15 <- x1-(mean(x1)-x1)^1.75\n",
                "x16 <- x1-(mean(x1)-x1)^.9\n",
                "x17 <- x1-(mean(x1)-x1)^.5\n",
                "x21 <- x1-(mean(x1)-x1)\n",
                "x22 <- x1-(mean(x1)-x1)*1.5\n",
                "x23 <- x1-(mean(x1)-x1)*3\n",
                "x24 <- x1-(mean(x1)-x1)*1.5\n",
                "x25 <- x1-(mean(x1)-x1)*2\n",
                "x26 <- x1-(mean(x1)-x1)*.9\n",
                "x27 <- x1-(mean(x1)-x1)*.5\n",
                "y <- c(\"A\", \"A\", \"A\", \"A\", \"A\", \"A\", \"A\", \"A\", \"A\", \"A\", \"A\", \"A\", \"A\", \"A\", \"B\", \"B\", \"B\", \"B\", \"B\", \"B\", \"B\", \"B\", \"B\", \"B\", \"B\", \"B\", \"B\", \"B\", \"B\")\n",
                "yn <- c(0, 0, 0, 0, 0, 0, 0, 0, 0, 0, 0, 0, 0, 0, 1, 1, 1, 1, 1, 1, 1, 1, 1, 1, 1, 1, 1, 1, 1) \n",
                "logd <- data.frame(x1, x2, x3, x4, x5, x6, x7, y, yn)\n",
                "colnames(logd) <- c(\"x1\", \"x2\", \"x3\", \"x4\", \"x5\", \"x6\", \"x7\", \"y\", \"yn\")\n",
                "\n",
                "p1 <- logd %>%\n",
                "  ggplot(aes(y = yn, x = x1)) +\n",
                "  geom_smooth(method = \"glm\", method.args = list(family = \"binomial\"), \n",
                "              se = FALSE, color = \"red\", size = .5) +\n",
                "  labs(title = \"Fixed-Effects Model:\\n1 Intercept + 1 Slope\",\n",
                "       x = \"\", y = \"Probability\") +\n",
                "  theme_bw() +\n",
                "  theme(panel.grid.major = element_blank(), \n",
                "        panel.grid.minor = element_blank(),\n",
                "        axis.text.x=element_blank(),\n",
                "        axis.ticks.x=element_blank(),\n",
                "        plot.title = element_text(size=9))\n",
                "\n",
                "p2 <- logd %>%\n",
                "  ggplot(aes(y = yn, x = x1)) +\n",
                "  geom_smooth(method = \"glm\", method.args = list(family = \"binomial\"), se = FALSE, color = \"red\", size = .5) +\n",
                "  geom_smooth(aes(x = x2), method = \"glm\", method.args = list(family = \"binomial\"), se = FALSE, color = \"gray\", size = .5, alpha = .2) +\n",
                "  geom_smooth(aes(x = x3), method = \"glm\", method.args = list(family = \"binomial\"), se = FALSE, color = \"gray\", size = .5, alpha = .2) +\n",
                "  geom_smooth(aes(x = x4), method = \"glm\", method.args = list(family = \"binomial\"), se = FALSE, color = \"gray\", size = .5, alpha = .2) +\n",
                "  geom_smooth(aes(x = x5), method = \"glm\", method.args = list(family = \"binomial\"), se = FALSE, color = \"gray\", size = .5, alpha = .2) +\n",
                "  geom_smooth(aes(x = x6), method = \"glm\", method.args = list(family = \"binomial\"), se = FALSE, color = \"gray\", size = .5, alpha = .2) +\n",
                "  geom_smooth(aes(x = x7), method = \"glm\", method.args = list(family = \"binomial\"), se = FALSE, color = \"gray\", size = .5, alpha = .2) +\n",
                "  labs(title = \"Mixed-Effects Model:\\n1 Intercept per Random Effect Level + 1 Slope\",\n",
                "       x = \"\", y = \"\") +\n",
                "  theme_bw() +\n",
                "  theme(panel.grid.major = element_blank(), \n",
                "        panel.grid.minor = element_blank(),\n",
                "        axis.text.x=element_blank(),\n",
                "        axis.ticks.x=element_blank(),\n",
                "        plot.title = element_text(size=9))\n",
                "\n",
                "p3 <- logd %>%\n",
                "  ggplot(aes(y = yn, x = x1)) +\n",
                "  geom_smooth(method = \"glm\", method.args = list(family = \"binomial\"), se = FALSE, color = \"gray\", size = .5, alpha = .2) +\n",
                "  geom_smooth(aes(x = x21), method = \"glm\", method.args = list(family = \"binomial\"), se = FALSE, color = \"gray\", size = .5, alpha = .2) +\n",
                "  geom_smooth(aes(x = x22), method = \"glm\", method.args = list(family = \"binomial\"), se = FALSE, color = \"gray\", size = .5, alpha = .2) +\n",
                "  geom_smooth(aes(x = x23), method = \"glm\", method.args = list(family = \"binomial\"), se = FALSE, color = \"gray\", size = .5, alpha = .2) +\n",
                "  geom_smooth(aes(x = x24), method = \"glm\", method.args = list(family = \"binomial\"), se = FALSE, color = \"gray\", size = .5, alpha = .2) +\n",
                "  geom_smooth(aes(x = x25), method = \"glm\", method.args = list(family = \"binomial\"), se = FALSE, color = \"gray\", size = .5, alpha = .2) +\n",
                "  geom_smooth(aes(x = x26), method = \"glm\", method.args = list(family = \"binomial\"), se = FALSE, color = \"gray\", size = .5, alpha = .2) +\n",
                "  geom_smooth(aes(x = x27), method = \"glm\", method.args = list(family = \"binomial\"), se = FALSE, color = \"gray\", size = .5, alpha = .2) +\n",
                "  geom_smooth(aes(x = x24), method = \"glm\", method.args = list(family = \"binomial\"), se = FALSE, color = \"red\", size = .5) +\n",
                "  labs(title = \"Mixed-Effects Model:\\n1 Intercept + 1 Slope per Random Effect Level\",\n",
                "       x = \"\", y = \"Probability\") +\n",
                "  theme_bw() +\n",
                "  theme(panel.grid.major = element_blank(), \n",
                "        panel.grid.minor = element_blank(),\n",
                "        axis.text.x=element_blank(),\n",
                "        axis.ticks.x=element_blank(),\n",
                "        plot.title = element_text(size=9))\n",
                "\n",
                "p4 <- logd %>%\n",
                "  ggplot(aes(y = yn, x = x1)) +\n",
                "  geom_smooth(method = \"glm\", method.args = list(family = \"binomial\"), se = FALSE, color = \"red\", size = .5) +\n",
                "  geom_smooth(aes(x = x11), method = \"glm\", method.args = list(family = \"binomial\"), se = FALSE, color = \"gray\", size = .5, alpha = .2) +\n",
                "  geom_smooth(aes(x = x12), method = \"glm\", method.args = list(family = \"binomial\"), se = FALSE, color = \"gray\", size = .5, alpha = .2) +\n",
                "  geom_smooth(aes(x = x4), method = \"glm\", method.args = list(family = \"binomial\"), se = FALSE, color = \"gray\", size = .5, alpha = .2) +\n",
                "  geom_smooth(aes(x = x5), method = \"glm\", method.args = list(family = \"binomial\"), se = FALSE, color = \"gray\", size = .5, alpha = .2) +\n",
                "  labs(title = \"Mixed-Effects Model:\\n1 Intercept and 1 Slope per Random Effect Level\",\n",
                "       x = \"\", y = \"\") +\n",
                "  theme_bw() +\n",
                "  theme(panel.grid.major = element_blank(), \n",
                "        panel.grid.minor = element_blank(),\n",
                "        axis.text.x=element_blank(),\n",
                "        axis.ticks.x=element_blank(),\n",
                "        plot.title = element_text(size=9))\n",
                "\n",
                "ggpubr::ggarrange(p1, p2, p3, p4, ncol = 2, nrow = 2)\n"
            ]
        },
        {
            "cell_type": "markdown",
            "metadata": {},
            "source": [
                "The upper left panel merely shows the logistic curve representing the predictions of a fixed-effects logistic regression with a single intercept and slope. The upper right panel shows the logistic curves representing the predictions of a of a mixed-effects logistic regression with random intercepts for each level of a grouping variable. The lower left panel shows the logistic curves representing the predictions of a mixed-effects logistic regression with one intercept but random slopes for each level of a grouping variable. The lower right panel shows the logistic curves representing the predictions of a mixed-effects logistic regression with random intercepts and random slopes for each level of a grouping variable.\n",
                "\n",
                "After adding random intercepts, predictors (or fixed effects) are added to the model (just like with multiple regression). So mixed-effects are called mixed-effects because they contain both random and fixed effects.\n",
                "\n",
                "In terms of general procedure, random effects are added first, and only after we have ascertained that including random effects is warranted, we test whether including fixed-effects is warranted [@field2012discovering]. We test whether including random effects is warranted by comparing a model, that bases its estimates of the dependent variable solely on the base intercept, with a model that bases its estimates of the dependent variable solely on the intercepts of the random effect. If the mixed-effects model explains significantly more variance than the fixed-effects model without random effect structure, then we continue with the mixed-effects model. In other words, including random effects is justified.\n",
                "\n",
                "### Example: Discourse LIKE in Irish English{-}\n",
                "\n",
                "In this example we will investigate which factors correlate with the use of *final discourse like* (e.g. \"*The weather is shite, like!*\") in Irish English. The data set represents speech units in a corpus that were coded for the speaker who uttered a given speech unit, the gender (Gender: Men versus Women) and age of that speaker (Age: Old versus Young), whether the interlocutors were of the same or a different gender (ConversationType: SameGender  versus MixedGender), and whether another *final discourse like* had been used up to three speech units before (Priming: NoPrime versus Prime), whether or not the speech unit contained an *final discourse like* (SUFLike: 1 = yes, 0 = no. To begin with, we load the data and inspect the structure of the data set,\n"
            ]
        },
        {
            "cell_type": "code",
            "execution_count": null,
            "metadata": {},
            "outputs": [],
            "source": [
                "# load data\n",
                "mblrdata <- read.table(\"https://slcladal.github.io/data/mblrdata.txt\", \n",
                "                       comment.char = \"\",# data does not contain comments\n",
                "                       quote = \"\",       # data does not contain quotes\n",
                "                       sep = \"\\t\",       # data is tab separated\n",
                "                       header = T)       # data has column names\n"
            ]
        },
        {
            "cell_type": "markdown",
            "metadata": {},
            "source": "\n"
        },
        {
            "cell_type": "code",
            "execution_count": null,
            "metadata": {},
            "outputs": [],
            "source": [
                "# inspect data\n",
                "DT::datatable(mblrdata, rownames = FALSE, options = list(pageLength = 5, scrollX=T), filter = \"none\")\n"
            ]
        },
        {
            "cell_type": "markdown",
            "metadata": {},
            "source": [
                "As all variables except for the dependent variable (`SUFlike`) are character strings, we\n",
                "factorize the independent variables.\n"
            ]
        },
        {
            "cell_type": "code",
            "execution_count": null,
            "metadata": {},
            "outputs": [],
            "source": [
                "# def. variables to be factorized\n",
                "vrs <- c(\"ID\", \"Age\", \"Gender\", \"ConversationType\", \"Priming\")\n",
                "# def. vector with variables\n",
                "fctr <- which(colnames(mblrdata) %in% vrs)     \n",
                "# factorize variables\n",
                "mblrdata[,fctr] <- lapply(mblrdata[,fctr], factor)\n",
                "# relevel Age (Young = Reference)\n",
                "mblrdata$Age <- relevel(mblrdata$Age, \"Young\")\n",
                "# order data by ID\n",
                "mblrdata <- mblrdata %>%\n",
                "  dplyr::arrange(ID)\n"
            ]
        },
        {
            "cell_type": "markdown",
            "metadata": {},
            "source": "\n"
        },
        {
            "cell_type": "code",
            "execution_count": null,
            "metadata": {},
            "outputs": [],
            "source": [
                "# inspect data\n",
                "DT::datatable(mblrdata, rownames = FALSE, options = list(pageLength = 5, scrollX=T), filter = \"none\")\n"
            ]
        },
        {
            "cell_type": "markdown",
            "metadata": {},
            "source": [
                "Before continuing, a few words about the minimum number of random effect levels and the minimum number of observations per random effect level are in order.\n",
                "\n",
                "While many data points per random variable level increases statistical power and thus to more robust estimates of the random effects [@austin2018multilevel], it has been shown that small numbers of observations per random effect variable level do not cause serious bias and it does not negatively affect the estimates of the fixed-effects coefficients  [@bell2008multilevel; @clarke2008can; @clarke2007addressing; @maas2005sufficient]. The minimum number of observations per random effect variable level is therefore 1.\n",
                "\n",
                "In simulation study, [@bell2008multilevel] tested the impact of random variable levels with only a single observation ranging from 0 to 70 percent. As long as there was a relatively high number of random effect variable levels (500 or more), small numbers of observations had almost no impact on bias and Type 1 error control.\n",
                "\n",
                "We now plot the data to inspect the relationships within the data set. \n"
            ]
        },
        {
            "cell_type": "code",
            "execution_count": null,
            "metadata": {},
            "outputs": [],
            "source": [
                "ggplot(mblrdata, aes(Gender, SUFlike, color = Priming)) +\n",
                "  facet_wrap(Age~ConversationType) +\n",
                "  stat_summary(fun = mean, geom = \"point\") +\n",
                "  stat_summary(fun.data = mean_cl_boot, geom = \"errorbar\", width = 0.2) +\n",
                "  theme_set(theme_bw(base_size = 10)) +\n",
                "  theme(legend.position = \"top\") +\n",
                "  labs(x = \"\", y = \"Observed Probabilty of discourse like\") +\n",
                "  scale_color_manual(values = c(\"gray20\", \"gray70\"))\n"
            ]
        },
        {
            "cell_type": "markdown",
            "metadata": {},
            "source": [
                "The upper left panel in the Figure above indicates that men use discourse *like* more frequently than women. The center right panel suggests that priming significantly increases the likelihood of discourse like being used. The center left panel suggests that speakers use discourse like more frequently in mixed-gender conversations.  However, the lower right panel indicates an interaction between gender and conversation type as women appear to use discourse like less frequently in same gender conversations while the conversation type does not seem to have an effect on men. After visualizing the data, we will now turn to the model building process.\n",
                "\n",
                "### Model Building{-}\n",
                "\n",
                "In a first step, we set the options.\n"
            ]
        },
        {
            "cell_type": "code",
            "execution_count": null,
            "metadata": {},
            "outputs": [],
            "source": [
                "# set options\n",
                "options(contrasts  =c(\"contr.treatment\", \"contr.poly\"))\n",
                "mblrdata.dist <- datadist(mblrdata)\n",
                "options(datadist = \"mblrdata.dist\")\n"
            ]
        },
        {
            "cell_type": "markdown",
            "metadata": {},
            "source": [
                "In a next step, we generate fixed-effects minimal base-line models and a base-line mixed-model using the \"glmer\" function with a random intercept for ID (a lmer object of the final minimal adequate model will be created later).\n",
                "\n"
            ]
        },
        {
            "cell_type": "code",
            "execution_count": null,
            "metadata": {},
            "outputs": [],
            "source": [
                "# baseline model glm\n",
                "m0.glm = glm(SUFlike ~ 1, family = binomial, data = mblrdata) \n",
                "# base-line mixed-model\n",
                "m0.glmer = glmer(SUFlike ~ (1|ID), data = mblrdata, family = binomial) \n"
            ]
        },
        {
            "cell_type": "markdown",
            "metadata": {},
            "source": [
                "### Testing the Random Effect{-}\n",
                "\n",
                "Now, we check if including the random effect is permitted by comparing the AICs from the glm to AIC from the glmer model. If the AIC of the glmer object is smaller than the AIC of the glm object, then this indicates that including random intercepts is justified.\n"
            ]
        },
        {
            "cell_type": "code",
            "execution_count": null,
            "metadata": {},
            "outputs": [],
            "source": [
                "aic.glmer <- AIC(logLik(m0.glmer))\n",
                "aic.glm <- AIC(logLik(m0.glm))\n",
                "aic.glmer; aic.glm\n"
            ]
        },
        {
            "cell_type": "markdown",
            "metadata": {},
            "source": [
                "The AIC of the glmer object is smaller which shows that including the random intercepts is justified. To confirm whether the AIC reduction is sufficient for justifying the inclusion of a random-effect structure, we also test whether the mixed-effects minimal base-line model explains significantly more variance by applying a Model Likelihood Ratio Test to the fixed- and the mixed effects minimal base-line models.\n",
                "\n"
            ]
        },
        {
            "cell_type": "code",
            "execution_count": null,
            "metadata": {},
            "outputs": [],
            "source": [
                "# test random effects\n",
                "null.id = -2 * logLik(m0.glm) + 2 * logLik(m0.glmer)\n",
                "pchisq(as.numeric(null.id), df=1, lower.tail=F) \n",
                "# sig m0.glmer better than m0.glm\n"
            ]
        },
        {
            "cell_type": "markdown",
            "metadata": {},
            "source": [
                "The p-value of the Model Likelihood Ratio Test is lower than .05 which shows that the inclusion of the random-effects structure is warranted. We can now continue with the model fitting process.\n",
                "\n",
                "### Model Fitting{-}\n",
                "\n",
                "The next step is to fit the model which means that we aim to find the \"best\" model, i.e. the minimal adequate model. In this case, we will use a manual step-wise step-up, forward elimination procedure.\n",
                "Before we begin with the model fitting process we need to add ´control = glmerControl(optimizer = \"bobyqa\")´ to avoid unnecessary failures to converge.\n"
            ]
        },
        {
            "cell_type": "code",
            "execution_count": null,
            "metadata": {},
            "outputs": [],
            "source": [
                "m0.glmer <- glmer(SUFlike ~ 1+ (1|ID), family = binomial, data = mblrdata, control=glmerControl(optimizer=\"bobyqa\"))\n",
                "\n"
            ]
        },
        {
            "cell_type": "markdown",
            "metadata": {},
            "source": [
                "During each step of the fitting procedure, we test whether certain assumptions on which the model relies are violated. To avoid *incomplete information* (a combination of variables does not occur in the data), we tabulate the variables we intend to include and make sure that all possible combinations are present in the data. Including variables although not all combinations are present in the data would lead to unreliable models that report (vastly) inaccurate results. A special case of incomplete information is *complete separation* which occurs if one predictor perfectly explains an outcome (in that case the incomplete information would be caused by a level of the dependent variable). In addition, we make sure that the VIFs do not exceed a maximum of 3 for main effects [@zuur2010protocol] - @booth1994regression suggest that VIFs should ideally be lower than 3 for as higher values would indicate multicollinearity and thus that the model is unstable. The value of 3 should be taken with a pinch of salt because there is no clear consensus about what the maximum VIF for interactions should be or if it should be considered at all. The reason is that we would, of course, expect the VIFs to increase when we are dealing with interactions as the main effects that are part of the interaction are very likely to correlate with the interaction itself. However, if the VIFs are too high, then this will still cause the issues with the attribution of variance. The value of 3 was chosen based on recommendations in the standard literature on multicollinearity [@zuur2009mixedmodels; @neter1990vif]. Only once we have confirmed that the incomplete information, complete separation, and *multicollinearity* are not a major concern, we generate the more saturated model and test whether the inclusion of a predictor leads to a significant reduction in residual deviance. If the predictor explains a significant amount of variance, it is retained in the model while being disregarded in case it does not explain a sufficient quantity of variance.  \n",
                "\n"
            ]
        },
        {
            "cell_type": "code",
            "execution_count": null,
            "metadata": {},
            "outputs": [],
            "source": [
                "# add Priming\n",
                "ifelse(min(ftable(mblrdata$Priming, mblrdata$SUFlike)) == 0, \"incomplete information\", \"okay\")\n",
                "m1.glmer <- update(m0.glmer, .~.+Priming)\n",
                "anova(m1.glmer, m0.glmer, test = \"Chi\") \n"
            ]
        },
        {
            "cell_type": "markdown",
            "metadata": {},
            "source": [
                "Since the tests do not show problems relating to incomplete information, because including *Priming* significantly improves the model fit (decrease in AIC and BIC values), and since it correlates significantly with our dependent variable, we include *Priming* into our model.\n",
                "\n"
            ]
        },
        {
            "cell_type": "code",
            "execution_count": null,
            "metadata": {},
            "outputs": [],
            "source": [
                "# add Age\n",
                "ifelse(min(ftable(mblrdata$Age, mblrdata$SUFlike)) == 0, \"incomplete information\", \"okay\")\n",
                "m2.glmer <- update(m1.glmer, .~.+ Age)\n",
                "ifelse(max(car::vif(m2.glmer)) <= 3,  \"VIFs okay\", \"VIFs unacceptable\") \n",
                "anova(m2.glmer, m1.glmer, test = \"Chi\")   \n",
                "Anova(m2.glmer, test = \"Chi\")\n"
            ]
        },
        {
            "cell_type": "markdown",
            "metadata": {},
            "source": [
                "The ANOVAs show that *Age* is not significant and the first ANOVA also shows that the BIC has increased which indicates that *Age* does not decrease variance. In such cases, the variable should not be included. \n",
                "\n",
                "However, if the second ANOVA would report *Age* as being marginally significant, a case could be made for including it but it would be better to change the ordering in which predictors are added to the model. This is, however, just a theoretical issue here as *Age* is clearly not significant.\n"
            ]
        },
        {
            "cell_type": "code",
            "execution_count": null,
            "metadata": {},
            "outputs": [],
            "source": [
                "# add Gender\n",
                "ifelse(min(ftable(mblrdata$Gender, mblrdata$SUFlike)) == 0, \"incomplete information\", \"okay\")\n",
                "m3.glmer <- update(m1.glmer, .~.+Gender)\n",
                "ifelse(max(car::vif(m3.glmer)) <= 3,  \"VIFs okay\", \"VIFs unacceptable\") \n",
                "anova(m3.glmer, m1.glmer, test = \"Chi\")\n",
                "Anova(m3.glmer, test = \"Chi\")\n"
            ]
        },
        {
            "cell_type": "markdown",
            "metadata": {},
            "source": [
                "*Gender* is significant and will therefore be included as a predictor (you can also observe that including Gender has substantially decreased both AIC and BIC).\n",
                "\n"
            ]
        },
        {
            "cell_type": "code",
            "execution_count": null,
            "metadata": {},
            "outputs": [],
            "source": [
                "# add ConversationType\n",
                "ifelse(min(ftable(mblrdata$ConversationType, mblrdata$SUFlike)) == 0, \"incomplete information\", \"okay\")\n",
                "m4.glmer <- update(m3.glmer, .~.+ConversationType)\n",
                "ifelse(max(car::vif(m4.glmer)) <= 3,  \"VIFs okay\", \"VIFs unacceptable\") \n",
                "anova(m4.glmer, m3.glmer, test = \"Chi\") \n",
                "Anova(m4.glmer, test = \"Chi\")\n"
            ]
        },
        {
            "cell_type": "markdown",
            "metadata": {},
            "source": [
                "*ConversationType* improves model fit (AIC and BIC decrease and it is reported as being significant) and will, therefore, be included in the model.\n",
                "\n"
            ]
        },
        {
            "cell_type": "code",
            "execution_count": null,
            "metadata": {},
            "outputs": [],
            "source": [
                "# add Priming*Age\n",
                "ifelse(min(ftable(mblrdata$Priming, mblrdata$Age, mblrdata$SUFlike)) == 0, \"incomplete information\", \"okay\")\n",
                "m5.glmer <- update(m4.glmer, .~.+Priming*Age)\n",
                "ifelse(max(car::vif(m5.glmer)) <= 3,  \"VIFs okay\", \"WARNING: high VIFs!\") \n",
                "anova(m5.glmer, m4.glmer, test = \"Chi\") \n"
            ]
        },
        {
            "cell_type": "markdown",
            "metadata": {},
            "source": [
                "The interaction between *Priming* and *Age* is not significant and we thus not be included.\n",
                "\n"
            ]
        },
        {
            "cell_type": "code",
            "execution_count": null,
            "metadata": {},
            "outputs": [],
            "source": [
                "# add Priming*Gender\n",
                "ifelse(min(ftable(mblrdata$Priming, mblrdata$Gender, mblrdata$SUFlike)) == 0, \"incomplete information\", \"okay\")\n",
                "m6.glmer <- update(m4.glmer, .~.+Priming*Gender)\n",
                "ifelse(max(car::vif(m6.glmer)) <= 3,  \"VIFs okay\", \"WARNING: high VIFs!\") \n"
            ]
        },
        {
            "cell_type": "markdown",
            "metadata": {},
            "source": [
                "We get the warning that the VIFs are high (>= 3) which means that the model suffers from (multi-)collinearity. We thus check the VIFs to determine how to proceed. If the VIFs are > 10, then we definitely cannot use the model as the multicollinearity is excessive. \n",
                "\n"
            ]
        },
        {
            "cell_type": "code",
            "execution_count": null,
            "metadata": {},
            "outputs": [],
            "source": [
                "car::vif(m6.glmer)\n",
                "\n"
            ]
        },
        {
            "cell_type": "markdown",
            "metadata": {},
            "source": [
                "The VIFs are below 5 which is not good (VIFs of 5 mean \"that column in the model matrix is explainable from the others with an\n",
                "R^2^ of 0.8\" [@gries2021statistics]) but it is still arguably acceptable and we will thus check if including the interaction between *Priming* and *Gender* significantly improved model fit. \n"
            ]
        },
        {
            "cell_type": "code",
            "execution_count": null,
            "metadata": {},
            "outputs": [],
            "source": [
                "anova(m6.glmer, m4.glmer, test = \"Chi\") \n",
                "Anova(m6.glmer, test = \"Chi\")\n"
            ]
        },
        {
            "cell_type": "markdown",
            "metadata": {},
            "source": [
                "The interaction between *Priming* and *Gender* improved model fit (AIC and BIC reduction) and significantly correlates with the use of speech-unit final *like*. It will therefore be included in the model.\n",
                "\n"
            ]
        },
        {
            "cell_type": "code",
            "execution_count": null,
            "metadata": {},
            "outputs": [],
            "source": [
                "# add Priming*ConversationType\n",
                "ifelse(min(ftable(mblrdata$Priming, mblrdata$ConversationType, mblrdata$SUFlike)) == 0, \"incomplete information\", \"okay\")\n",
                "m7.glmer <- update(m6.glmer, .~.+Priming*ConversationType)\n",
                "ifelse(max(car::vif(m7.glmer)) <= 3,  \"VIFs okay\", \"WARNING: high VIFs!\") \n"
            ]
        },
        {
            "cell_type": "markdown",
            "metadata": {},
            "source": [
                "When including the interaction between *Priming* and *ConversationType* we get a warning that there are high VIFs (multicollinearity) so we inspect the VIFs in more detail.\n",
                "\n"
            ]
        },
        {
            "cell_type": "code",
            "execution_count": null,
            "metadata": {},
            "outputs": [],
            "source": [
                "# check VIFs\n",
                "car::vif(m7.glmer) \n"
            ]
        },
        {
            "cell_type": "markdown",
            "metadata": {},
            "source": [
                "The VIF of *Priming* is above 5 so we would normally continue without checking if including the interaction between *Priming* and *ConversationType* leads to a significant improvement in model fit. However, given that this is just a practical example, we check if including this interaction significantly improves model fit.\n",
                "\n"
            ]
        },
        {
            "cell_type": "code",
            "execution_count": null,
            "metadata": {},
            "outputs": [],
            "source": [
                "anova(m7.glmer, m6.glmer, test = \"Chi\")\n",
                "\n"
            ]
        },
        {
            "cell_type": "markdown",
            "metadata": {},
            "source": [
                "The interaction between *Priming* and *ConversationType* does not significantly correlate with the use of speech-unit final *like* and it does not explain much variance (AIC and BIC increase). It will be not be included in the model.\n",
                "\n"
            ]
        },
        {
            "cell_type": "code",
            "execution_count": null,
            "metadata": {},
            "outputs": [],
            "source": [
                "# add Age*Gender\n",
                "ifelse(min(ftable(mblrdata$Age, mblrdata$Gender, mblrdata$SUFlike)) == 0, \"incomplete information\", \"okay\")\n",
                "m8.glmer <- update(m6.glmer, .~.+Age*Gender)\n",
                "ifelse(max(car::vif(m8.glmer)) <= 3,  \"VIFs okay\", \"WARNING: high VIFs!\") \n"
            ]
        },
        {
            "cell_type": "markdown",
            "metadata": {},
            "source": [
                "When including the interaction between *Age* and *Gender* we get a warning that there are high VIFs (multicollinearity) so we inspect the VIFs in more detail.\n",
                "\n"
            ]
        },
        {
            "cell_type": "code",
            "execution_count": null,
            "metadata": {},
            "outputs": [],
            "source": [
                "# check VIFs\n",
                "car::vif(m8.glmer)\n"
            ]
        },
        {
            "cell_type": "markdown",
            "metadata": {},
            "source": [
                "The VIFs are all below 5 so we test if including the interaction between *Gender* and *Age* significantly improves model fit.\n",
                "\n"
            ]
        },
        {
            "cell_type": "code",
            "execution_count": null,
            "metadata": {},
            "outputs": [],
            "source": [
                "anova(m8.glmer, m6.glmer, test = \"Chi\") \n",
                "\n"
            ]
        },
        {
            "cell_type": "markdown",
            "metadata": {},
            "source": [
                "The interaction between *Age* and *Gender* is not significant and will thus continue without it.\n",
                "\n"
            ]
        },
        {
            "cell_type": "code",
            "execution_count": null,
            "metadata": {},
            "outputs": [],
            "source": [
                "# add Age*ConversationType\n",
                "ifelse(min(ftable(mblrdata$Age, mblrdata$ConversationType, mblrdata$SUFlike)) == 0, \"incomplete information\", \"okay\")\n",
                "m9.glmer <- update(m6.glmer, .~.+Age*ConversationType)\n",
                "ifelse(max(car::vif(m9.glmer)) <= 3,  \"VIFs okay\", \"WARNING: high VIFs!\") \n"
            ]
        },
        {
            "cell_type": "markdown",
            "metadata": {},
            "source": [
                "When including the interaction between *Age* and *ConversationType* we get a warning that there are high VIFs (multicollinearity) so we inspect the VIFs in more detail.\n",
                "\n"
            ]
        },
        {
            "cell_type": "code",
            "execution_count": null,
            "metadata": {},
            "outputs": [],
            "source": [
                "# check VIFs\n",
                "car::vif(m9.glmer)\n"
            ]
        },
        {
            "cell_type": "markdown",
            "metadata": {},
            "source": [
                "The VIFs are all below 5 so we test if including the interaction between *ConversationType* and *Age* significantly improves model fit.\n",
                "\n"
            ]
        },
        {
            "cell_type": "code",
            "execution_count": null,
            "metadata": {},
            "outputs": [],
            "source": [
                "anova(m9.glmer, m6.glmer, test = \"Chi\") \n",
                "\n"
            ]
        },
        {
            "cell_type": "markdown",
            "metadata": {},
            "source": [
                "The interaction between *Age* and *ConversationType* is insignificant and does not improve model fit (AIC and BIC reduction). It will therefore not be included in the model.\n",
                "\n"
            ]
        },
        {
            "cell_type": "code",
            "execution_count": null,
            "metadata": {},
            "outputs": [],
            "source": [
                "# add Gender*ConversationType\n",
                "ifelse(min(ftable(mblrdata$Gender, mblrdata$ConversationType, mblrdata$SUFlike)) == 0, \"incomplete information\", \"okay\")\n",
                "m10.glmer <- update(m6.glmer, .~.+Gender*ConversationType)\n",
                "ifelse(max(car::vif(m10.glmer)) <= 3,  \"VIFs okay\", \"WARNING: high VIFs!\")\n"
            ]
        },
        {
            "cell_type": "markdown",
            "metadata": {},
            "source": [
                "When including the interaction between *Gender* and *ConversationType* we get a warning that there are high VIFs (multicollinearity) so we inspect the VIFs in more detail.\n",
                "\n"
            ]
        },
        {
            "cell_type": "code",
            "execution_count": null,
            "metadata": {},
            "outputs": [],
            "source": [
                "# check VIFs\n",
                "car::vif(m10.glmer) \n"
            ]
        },
        {
            "cell_type": "markdown",
            "metadata": {},
            "source": [
                "The highest VIF is almost 10 (`r as.vector(car::vif(m10.glmer)[5])`) which is why the interaction between *Gender* and *ConversationType* will not be included in the model.\n",
                "\n"
            ]
        },
        {
            "cell_type": "code",
            "execution_count": null,
            "metadata": {},
            "outputs": [],
            "source": [
                "# add Priming*Age*Gender\n",
                "ifelse(min(ftable(mblrdata$Priming,mblrdata$Age, mblrdata$Gender, mblrdata$SUFlike)) == 0, \"incomplete information\", \"okay\")\n",
                "m11.glmer <- update(m6.glmer, .~.+Priming*Age*Gender)\n",
                "ifelse(max(car::vif(m11.glmer)) <= 3,  \"VIFs okay\", \"WARNING: high VIFs!\") \n"
            ]
        },
        {
            "cell_type": "markdown",
            "metadata": {},
            "source": [
                "When including the interaction between *Priming*, *Age*, and *Gender* we get a warning that there are high VIFs (multicollinearity) so we inspect the VIFs in more detail.\n",
                "\n"
            ]
        },
        {
            "cell_type": "code",
            "execution_count": null,
            "metadata": {},
            "outputs": [],
            "source": [
                "# check VIFs\n",
                "car::vif(m11.glmer)\n"
            ]
        },
        {
            "cell_type": "markdown",
            "metadata": {},
            "source": [
                "There are several VIFs with values greater than 5 and we will thus continue without including the interaction between *Priming*, *Age*, and *Gender* into the model.\n",
                "\n"
            ]
        },
        {
            "cell_type": "code",
            "execution_count": null,
            "metadata": {},
            "outputs": [],
            "source": [
                "# add Priming*Age*ConversationType\n",
                "ifelse(min(ftable(mblrdata$Priming,mblrdata$Age, mblrdata$ConversationType, mblrdata$SUFlike)) == 0, \"incomplete information\", \"okay\")\n",
                "m12.glmer <- update(m6.glmer, .~.+Priming*Age*ConversationType)\n",
                "ifelse(max(car::vif(m12.glmer)) <= 3,  \"VIFs okay\", \"WARNING: high VIFs!\") \n"
            ]
        },
        {
            "cell_type": "markdown",
            "metadata": {},
            "source": [
                "When including the interaction between *Priming*, *Age*, and *Gender* we get a warning that there are high VIFs (multicollinearity) so we inspect the VIFs in more detail.\n",
                "\n"
            ]
        },
        {
            "cell_type": "code",
            "execution_count": null,
            "metadata": {},
            "outputs": [],
            "source": [
                "# check VIFs\n",
                "car::vif(m12.glmer)\n"
            ]
        },
        {
            "cell_type": "markdown",
            "metadata": {},
            "source": [
                "The VIF of Priming is very high (`r as.vector(car::vif(m12.glmer)[1])`) which is why we will thus continue without including the interaction between *Priming*, *Age*, and *Gender* in the model.\n",
                "\n"
            ]
        },
        {
            "cell_type": "code",
            "execution_count": null,
            "metadata": {},
            "outputs": [],
            "source": [
                "# add Priming*Gender*ConversationType\n",
                "ifelse(min(ftable(mblrdata$Priming,mblrdata$Gender, mblrdata$ConversationType, mblrdata$SUFlike)) == 0, \"incomplete information\", \"okay\")\n",
                "m13.glmer <- update(m6.glmer, .~.+Priming*Gender*ConversationType)\n",
                "ifelse(max(car::vif(m13.glmer)) <= 3,  \"VIFs okay\", \"WARNING: high VIFs!\") \n"
            ]
        },
        {
            "cell_type": "markdown",
            "metadata": {},
            "source": [
                "The VIFs are excessive with a maximum value is `r max(car::vif(m13.glmer))` which shows an unacceptable degree of multicollinearity so that we abort and move on the next model.\n",
                "\n"
            ]
        },
        {
            "cell_type": "code",
            "execution_count": null,
            "metadata": {},
            "outputs": [],
            "source": [
                "car::vif(m13.glmer)\n",
                "\n"
            ]
        },
        {
            "cell_type": "markdown",
            "metadata": {},
            "source": [
                "The VIFs are excessive with a maximum value is `r max(car::vif(m13.glmer))` which shows an unacceptable degree of multicollinearity so that we abort and move on the next model.\n",
                "\n"
            ]
        },
        {
            "cell_type": "code",
            "execution_count": null,
            "metadata": {},
            "outputs": [],
            "source": [
                "# add Age*Gender*ConversationType\n",
                "ifelse(min(ftable(mblrdata$Age,mblrdata$Gender, mblrdata$ConversationType, mblrdata$SUFlike)) == 0, \"incomplete information\", \"okay\")\n",
                "m14.glmer <- update(m6.glmer, .~.+Age*Gender*ConversationType)\n",
                "ifelse(max(car::vif(m14.glmer)) <= 3,  \"VIFs okay\", \"WARNING: high VIFs!\") \n"
            ]
        },
        {
            "cell_type": "markdown",
            "metadata": {},
            "source": [
                "When including the interaction between *Age*, *Gender*, *ConversationType*, we get a warning that there are high VIFs (multicollinearity) so we inspect the VIFs in more detail.\n",
                "\n"
            ]
        },
        {
            "cell_type": "code",
            "execution_count": null,
            "metadata": {},
            "outputs": [],
            "source": [
                "car::vif(m14.glmer)\n",
                "\n"
            ]
        },
        {
            "cell_type": "markdown",
            "metadata": {},
            "source": [
                "Again, the VIFs are excessive with a maximum value of `r max(car::vif(m14.glmer))` which shows an unacceptable degree of multicollinearity so that we abort and move on the next model.\n",
                "\n"
            ]
        },
        {
            "cell_type": "code",
            "execution_count": null,
            "metadata": {},
            "outputs": [],
            "source": [
                "# add Priming*Age*Gender*ConversationType\n",
                "ifelse(min(ftable(mblrdata$Priming,mblrdata$Age,mblrdata$Gender, mblrdata$ConversationType, mblrdata$SUFlike)) == 0, \"incomplete information\", \"okay\")\n"
            ]
        },
        {
            "cell_type": "markdown",
            "metadata": {},
            "source": [
                "The model suffers from incomplete information! As this was the last possible model, we have found our final minimal adequate model in m6.glmer.\n",
                "\n",
                "In a next step, we create an overview of model comparisons which serves as a summary for the model fitting process and provides AIC, BIC, and $\\chi$^2^ values.\n"
            ]
        },
        {
            "cell_type": "code",
            "execution_count": null,
            "metadata": {},
            "outputs": [],
            "source": [
                "source(\"https://slcladal.github.io/rscripts/ModelFittingSummarySWSU.r\") \n",
                "# comparisons of glmer objects\n",
                "m1.m0 <- anova(m1.glmer, m0.glmer, test = \"Chi\") \n",
                "m2.m1 <- anova(m2.glmer, m1.glmer, test = \"Chi\")   \n",
                "m3.m1 <- anova(m3.glmer, m1.glmer, test = \"Chi\")\n",
                "m4.m3 <- anova(m4.glmer, m3.glmer, test = \"Chi\") \n",
                "m5.m4 <- anova(m5.glmer, m4.glmer, test = \"Chi\") \n",
                "m6.m4 <- anova(m6.glmer, m4.glmer, test = \"Chi\") \n",
                "m7.m6 <- anova(m7.glmer, m6.glmer, test = \"Chi\")\n",
                "m8.m6 <- anova(m8.glmer, m6.glmer, test = \"Chi\") \n",
                "m9.m6 <- anova(m9.glmer, m6.glmer, test = \"Chi\") \n",
                "# create a list of the model comparisons\n",
                "mdlcmp <- list(m1.m0, m2.m1, m3.m1, m4.m3, m5.m4, m6.m4, m7.m6, m8.m6, m9.m6)\n",
                "# summary table for model fitting\n",
                "mdlft <- mdl.fttng.swsu(mdlcmp)\n",
                "mdlft <- mdlft[,-2]\n"
            ]
        },
        {
            "cell_type": "markdown",
            "metadata": {},
            "source": "\n"
        },
        {
            "cell_type": "code",
            "execution_count": null,
            "metadata": {},
            "outputs": [],
            "source": [
                "# inspect data\n",
                "mdlft %>%\n",
                "  head(20) %>%\n",
                "  kable(caption = \"\") %>%\n",
                "  kableExtra::kable_styling(bootstrap_options = c(\"striped\", \"hover\", \"condensed\", \"responsive\"), \n",
                "                            full_width = F)\n"
            ]
        },
        {
            "cell_type": "markdown",
            "metadata": {},
            "source": [
                "We now rename our final minimal adequate model, test whether it performs significantly better than the minimal base-line model, and print the regression summary.\n",
                "\n"
            ]
        },
        {
            "cell_type": "code",
            "execution_count": null,
            "metadata": {},
            "outputs": [],
            "source": [
                "# rename final minimal adequate model\n",
                "mlr.glmer <- m6.glmer \n",
                "# final model better than base-line model\n",
                "sigfit <- anova(mlr.glmer, m0.glmer, test = \"Chi\") \n",
                "# inspect\n",
                "sigfit\n"
            ]
        },
        {
            "cell_type": "markdown",
            "metadata": {},
            "source": "\n"
        },
        {
            "cell_type": "code",
            "execution_count": null,
            "metadata": {},
            "outputs": [],
            "source": [
                "# inspect final minimal adequate model\n",
                "print(mlr.glmer, corr = F)\n"
            ]
        },
        {
            "cell_type": "markdown",
            "metadata": {},
            "source": [
                "To extract the effect sizes of the significant fixed effects, we compare the model with that effect to a model without that effect. This can be problematic when checking the effect of main effects that are involved in significant interactions though [@field2012discovering 622].\n",
                "\n"
            ]
        },
        {
            "cell_type": "code",
            "execution_count": null,
            "metadata": {},
            "outputs": [],
            "source": [
                "# effect of ConversationType\n",
                "ef_conv <- anova(m4.glmer, m3.glmer, test = \"Chi\") \n",
                "# inspect\n",
                "ef_conv\n"
            ]
        },
        {
            "cell_type": "markdown",
            "metadata": {},
            "source": "\n"
        },
        {
            "cell_type": "code",
            "execution_count": null,
            "metadata": {},
            "outputs": [],
            "source": [
                "# effect of Priming:Gender\n",
                "ef_prigen <- anova(m6.glmer, m4.glmer, test = \"Chi\")\n",
                "# inspect\n",
                "ef_prigen\n"
            ]
        },
        {
            "cell_type": "markdown",
            "metadata": {},
            "source": [
                "### Visualizing Effects{-}\n",
                "\n",
                "As we will see the effects in the final summary, we visualize the effects here by showing the probability of discourse *like* based on the predicted values.\n"
            ]
        },
        {
            "cell_type": "code",
            "execution_count": null,
            "metadata": {},
            "outputs": [],
            "source": [
                "# extract predicted values\n",
                "mblrdata$Predicted <- predict(m6.glmer, mblrdata, type = \"response\")\n",
                "# plot\n",
                "ggplot(mblrdata, aes(ConversationType, Predicted)) +\n",
                "  stat_summary(fun = mean, geom = \"point\") +\n",
                "  stat_summary(fun.data = mean_cl_boot, geom = \"errorbar\", width = 0.2) +\n",
                "  theme_set(theme_bw(base_size = 10)) +\n",
                "  theme(legend.position = \"top\") +\n",
                "    ylim(0, .75) +\n",
                "  labs(x = \"\", y = \"Predicted Probabilty of discourse like\") +\n",
                "  scale_color_manual(values = c(\"gray20\", \"gray70\"))\n"
            ]
        },
        {
            "cell_type": "markdown",
            "metadata": {},
            "source": [
                "A proper visualization of the marginal effects can be extracted using the `sjPlot` package.\n",
                "\n"
            ]
        },
        {
            "cell_type": "code",
            "execution_count": null,
            "metadata": {},
            "outputs": [],
            "source": [
                "plot_model(m6.glmer, type = \"pred\", terms = c(\"Priming\", \"Gender\"))\n",
                "\n"
            ]
        },
        {
            "cell_type": "markdown",
            "metadata": {},
            "source": [
                "We can see that discourse like is more likely to surface in primed contexts but that in contrast to women and men in same-gender conversations as well as women in mixed-gender conversations, priming appears to affect the use of discourse like by men in mixed-gender conversations only very little. \n",
                "\n",
                "### Extracting Model Fit Parameters{-}\n",
                "\n",
                "We now  extract model fit parameters [@baayen2008analyzing 281].\n"
            ]
        },
        {
            "cell_type": "code",
            "execution_count": null,
            "metadata": {},
            "outputs": [],
            "source": [
                "probs = 1/(1+exp(-fitted(mlr.glmer)))\n",
                "probs = binomial()$linkinv(fitted(mlr.glmer))\n",
                "somers2(probs, as.numeric(mblrdata$SUFlike))\n"
            ]
        },
        {
            "cell_type": "markdown",
            "metadata": {},
            "source": [
                "The two lines that start with `probs` are simply two different ways to do the same thing (you only need one of these).\n",
                "\n",
                "The model fit parameters indicate a suboptimal fit. Both the C-value and Somers's D~xy~ show poor fit between predicted and observed occurrences of discourse *like*.  If the C-value is 0.5, the predictions are random, while the predictions are perfect if the C-value is 1. C-values above 0.8 indicate real predictive capacity [@baayen2008analyzing 204]. Somers’ D~xy~ is a value that represents a rank correlation between predicted probabilities and observed responses. Somers’ D~xy~ values range between 0, which indicates complete randomness, and 1, which indicates perfect prediction [@baayen2008analyzing 204]. The C.value of `r as.vector(somers2(probs, as.numeric(mblrdata$SUFlike))[1])` suggests that the model has some predictive and explanatory power, but not at an optimal level. We will now perform the model diagnostics.\n",
                "\n",
                "### Model Diagnostics{-}\n",
                "\n",
                "We begin the model diagnostics by generating a diagnostic that plots the fitted or predicted values against the residuals.\n"
            ]
        },
        {
            "cell_type": "code",
            "execution_count": null,
            "metadata": {},
            "outputs": [],
            "source": [
                "plot(mlr.glmer, pch = 20, col = \"black\", lty = \"dotted\")\n",
                "\n"
            ]
        },
        {
            "cell_type": "markdown",
            "metadata": {},
            "source": [
                "As a final step, we summarize our findings in tabulated form.\n",
                "\n"
            ]
        },
        {
            "cell_type": "code",
            "execution_count": null,
            "metadata": {},
            "outputs": [],
            "source": [
                "# summarize final model\n",
                "sjPlot::tab_model(mlr.glmer)\n"
            ]
        },
        {
            "cell_type": "markdown",
            "metadata": {},
            "source": [
                "*** \n",
                "\n",
                "A mixed-effect binomial logistic regression model with random intercepts for speakers was fit to the data in a step-wise-step up procedure. The final minimal adequate model performed significantly better than an intercept-only base line model ($\\chi$^2^(`r as.vector(unlist(sigfit))[14][1]`): `r sigfit$Chisq[2]`, p  = `r round(as.vector(unlist(sigfit))[16][1], 5)`) and a good but not optimal fit (C: `r somers2(probs, as.numeric(mblrdata$SUFlike))[1]`, Somers' D~xy~: `r somers2(probs, as.numeric(mblrdata$SUFlike))[2]`). The final minimal adequate model reported that speakers use more discourse *like* in mixed-gender conversations compared to same-gender conversations ($\\chi$^2^(`r as.vector(unlist(ef_conv))[14][1]`): `r `r ef_conv$Chisq[2]`, p  = `r round(as.vector(unlist(ef_conv))[16][1], 5)`) and that there is an interaction between priming and gender with men using more discourse *like* in un-primed contexts while this gender difference is not present in primed contexts where speakers more more likely to use discourse *like* regardless of gender ($\\chi$^2^(`r as.vector(unlist(ef_prigen))[14][1]`): `r ef_prigen$Chisq[2]`, p  = `r round(as.vector(unlist(ef_prigen))[16][1], 5)`). \n",
                "\n",
                "## Mixed-Effects (Quasi-)Poisson and Negative-Binomial Regression\n",
                "\n",
                "Like fixed-effects Poisson models, mixed-effects Poisson models take counts as dependent variables. The data for this analysis was collected on three separate evenings (Trial). The number of the filler *uhm* (UHM) was counted in two-minute conversations that were either in English, German, Russian, or Mandarin (Language). In addition, the number of shots that speakers drank before they talked was recorded (Shots).\n"
            ]
        },
        {
            "cell_type": "code",
            "execution_count": null,
            "metadata": {},
            "outputs": [],
            "source": [
                "# load data\n",
                "countdata <- read.table(\"https://slcladal.github.io/data/countdata.txt\", \n",
                "                       comment.char = \"\",quote = \"\", sep = \"\\t\", header = T) \n",
                "# inspect data\n",
                "str(countdata)\n"
            ]
        },
        {
            "cell_type": "markdown",
            "metadata": {},
            "source": [
                "Since the data contains character variables, we need to factorize the data before we can analyse it further and we also remove the ID column.\n",
                "\n"
            ]
        },
        {
            "cell_type": "code",
            "execution_count": null,
            "metadata": {},
            "outputs": [],
            "source": [
                "# factorize variables\n",
                "countdata <- countdata %>%\n",
                "  dplyr::select(-ID)\n",
                "clfct <- c(\"Trial\", \"Language\", \"Gender\")\n",
                "countdata[clfct] <- lapply(countdata[clfct], factor)\n",
                " # inspect data\n",
                "str(countdata); head(countdata)\n"
            ]
        },
        {
            "cell_type": "markdown",
            "metadata": {},
            "source": [
                "After the data is factorized, we can visualize the data.\n",
                "\n"
            ]
        },
        {
            "cell_type": "code",
            "execution_count": null,
            "metadata": {},
            "outputs": [],
            "source": [
                "countdata %>%\n",
                "  # prepare data\n",
                "  dplyr::select(Language, Shots) %>%\n",
                "  dplyr::group_by(Language) %>%\n",
                "  dplyr::mutate(Mean = round(mean(Shots), 1)) %>%\n",
                "  dplyr::mutate(SD = round(sd(Shots), 1)) %>%\n",
                "  # start plot\n",
                "  ggplot(aes(Language, Shots, color = Language, fill = Language)) +\n",
                "  geom_violin(trim=FALSE, color = \"gray20\")+ \n",
                "  geom_boxplot(width=0.1, fill=\"white\", color = \"gray20\") +\n",
                "  geom_text(aes(y=-4,label=paste(\"mean: \", Mean, sep = \"\")), size = 3, color = \"black\") +\n",
                "  geom_text(aes(y=-5,label=paste(\"SD: \", SD, sep = \"\")), size = 3, color = \"black\") +\n",
                "  scale_fill_manual(values=rep(\"grey90\",4)) + \n",
                "  theme_set(theme_bw(base_size = 10)) +\n",
                "  theme(legend.position=\"none\", legend.title = element_blank(),\n",
                "        panel.grid.major = element_blank(),\n",
                "        panel.grid.minor = element_blank()) + \n",
                "  ylim(-5, 15) +\n",
                "  labs(x = \"Language\", y = \"Shots\")\n"
            ]
        },
        {
            "cell_type": "markdown",
            "metadata": {},
            "source": [
                "The violin plots show that the English speakers drank more shots than speakers of other languages with Mandarin speakers drinking the fewest shots.\n",
                "\n",
                "In the present case, we will a Boruta variable selection procedure to streamline the model fitting process. Thus, before fitting the model, we will test which variables have any kind of relationship with the dependent variable and therefore deserve to be evaluated in the regression modeling. As this is just an example, we will only consider variables which are deemed important and disregard both unimportant and tentative variables. We start the Boruta analysis by setting a seed and running an initial Boruta analysis.\n"
            ]
        },
        {
            "cell_type": "code",
            "execution_count": null,
            "metadata": {},
            "outputs": [],
            "source": [
                "# load package\n",
                "library(Boruta)\n",
                "# perform variable selection\n",
                "set.seed(20191220)\n",
                "boruta <- Boruta(UHM ~.,data=countdata)\n",
                "print(boruta)\n"
            ]
        },
        {
            "cell_type": "markdown",
            "metadata": {},
            "source": [
                "As only Shots is confirmed as important, we will only check for the effect of Shots and include Language as a random effect in the regression modeling. Including Language as a random effect is probably not justified statistically (given that the Boruta analysis showed that it only has a tentative effect) but for theoretical reasons as the speakers are nested into Languages. Before we start with the modeling, however, we proceed by checking if the data does indeed approximate a Poisson distribution. \n",
                "\n"
            ]
        },
        {
            "cell_type": "code",
            "execution_count": null,
            "metadata": {},
            "outputs": [],
            "source": [
                "# load package\n",
                "library(vcd)\n",
                "# output the results\n",
                "gf = goodfit(countdata$UHM,type= \"poisson\", method= \"ML\")\n",
                "plot(gf,main=\"Count data vs Poisson distribution\")\n"
            ]
        },
        {
            "cell_type": "markdown",
            "metadata": {},
            "source": [
                "The data does not perfectly match a distribution that would be expected if the data approximated a Poisson distribution. We will use a goodness-of-fit test to check if the data does indeed diverge significantly from being Poisson distributed. If the p-values of the goodness-of-fit test is smaller than .05, then the distribution of the data differs significantly from a Poisson distribution and, given the visualization is likely over-dispersed. \n",
                "\n",
                "In case of overdispersion, we may have to use a quasi-Poisson or, even better, a negative binomial model but we will, for now continue with the Poisson model and perform diagnostics later to check if we have to switch to a more robust method. \n",
                "One effect of overdispersion is that the standard errors of a model are biased and quasi-Poisson models scale the standard errors to compensate bias. However, @zuur2013beginner suggest to use negative-binomial model instead. This is so because the scaling of the standard errors performed by quasi-Poisson models only affects the significance of coefficients (the p-values) but it does not affect the coefficients which, however, may be affected themselves by overdispersion. Thus, the coefficients of Poisson as well as quasi-Poisson models (which are identical) may be unreliable when dealing with overdispersion. Negative binomial models, in contrast, include an additional dispersion or heterogeneity parameter which accommodates overdispersion better than merely scaling the standard errors [see @zuur2013beginner 21].\n"
            ]
        },
        {
            "cell_type": "code",
            "execution_count": null,
            "metadata": {},
            "outputs": [],
            "source": [
                "summary(gf)\n",
                "\n"
            ]
        },
        {
            "cell_type": "markdown",
            "metadata": {},
            "source": [
                "The p-value is indeed smaller than .05 which means that we should indeed use a negative-binomial model rather than a Poisson model. We will ignore this, for now, and proceed to fit a Poisson mixed-effects model and check what happens if a Poisson model is fit to over-dispersed data.\n",
                "\n",
                "### Mixed-Effects Poisson Regression{-}\n",
                "\n",
                "In a first step, we create mixed-effect intercept-only baseline models and then test if including \"Shots\" significantly improves model fit and, thus, has a significant impact on the number of *uhms*.\n"
            ]
        },
        {
            "cell_type": "code",
            "execution_count": null,
            "metadata": {},
            "outputs": [],
            "source": [
                "# base-line mixed-model\n",
                "m0.glmer = glmer(UHM ~ 1 + (1 | Language), data = countdata, family = poisson,\n",
                "                 control=glmerControl(optimizer=\"bobyqa\"))\n",
                "# add Shots\n",
                "m1.glmer <- update(m0.glmer, .~.+ Shots)\n",
                "Anova(m1.glmer, test = \"Chi\")           \n"
            ]
        },
        {
            "cell_type": "markdown",
            "metadata": {},
            "source": [
                "The ANOVA confirms that Shots have a significant impact on the number of instances of *uhm*. \n",
                "However, we get the warning that the fitted mixed model is (almost / near) singular. In such cases, the model should not be reported. As this is only an example, we will continue by having a look at the model summary.\n"
            ]
        },
        {
            "cell_type": "code",
            "execution_count": null,
            "metadata": {},
            "outputs": [],
            "source": [
                "summary(m1.glmer)\n",
                "\n"
            ]
        },
        {
            "cell_type": "markdown",
            "metadata": {},
            "source": [
                "The model summary confirms that the number of shots does have a significantly positive effect on the number of occurrences of *uhm*. Furthermore, the scaled residuals are distributed very unevenly which suggests overdispersion. Including Language as a random effect is not justified given that they have 0 variance and a standard deviation of 0 (which means that Language does not account for or explain any additional variance). \n",
                "\n",
                "We now check if the model suffers from overdispersion following @zuur2013beginner[138].\n"
            ]
        },
        {
            "cell_type": "code",
            "execution_count": null,
            "metadata": {},
            "outputs": [],
            "source": [
                "# extract pearson residuals\n",
                "PearsonResiduals <- resid(m1.glmer, type = \"pearson\")\n",
                "# extract number of cases in model\n",
                "Cases <- nrow(countdata)\n",
                "# extract number of predictors (plus intercept)\n",
                "NumberOfPredictors <- length(fixef(m1.glmer)) +1\n",
                "# calculate overdispersion\n",
                "Overdispersion <- sum(PearsonResiduals^2) / (Cases-NumberOfPredictors)\n",
                "# inspect overdispersion\n",
                "Overdispersion\n"
            ]
        },
        {
            "cell_type": "markdown",
            "metadata": {},
            "source": [
                "The data is slightly over-dispersed. It would also be advisable to plot the Cook's distance (which should not show data points with values > 1). If there are data points with high Cook's D values, we could exclude them which would, very likely reduce the overdispersion [see @zuur2013beginner 22]. We ignore this, for now, and use diagnostic plots to check if the plots indicate problems.\n",
                "\n"
            ]
        },
        {
            "cell_type": "code",
            "execution_count": null,
            "metadata": {},
            "outputs": [],
            "source": [
                "diag_data <- data.frame(PearsonResiduals, fitted(m1.glmer)) %>%\n",
                "  dplyr::rename(Pearson = 1,\n",
                "                Fitted = 2)\n",
                "p9 <- ggplot(diag_data, aes(x = Fitted, y = Pearson)) +\n",
                "  geom_point() +\n",
                "  geom_hline(yintercept = 0, linetype = \"dotted\")\n",
                "p10 <- ggplot(countdata, aes(x = Shots, y = diag_data$Pearson)) +\n",
                "  geom_point()  +\n",
                "  geom_hline(yintercept = 0, linetype = \"dotted\") +\n",
                "  labs(y = \"Pearson\")\n",
                "p11 <- ggplot(countdata, aes(x = Language, y = diag_data$Pearson)) +\n",
                "  geom_boxplot() +\n",
                "  labs(y = \"Pearson\") + \n",
                "  theme(axis.text.x = element_text(angle=90))\n",
                "grid.arrange(p9, p10, p11, nrow = 1)\n"
            ]
        },
        {
            "cell_type": "markdown",
            "metadata": {},
            "source": [
                "The diagnostic plots show problems as the dots in the first two plots are not random but show a pattern in the lower left corner. In addition, the variance of English (left boxplot) is notable larger than the variance of Russian (right boxplot). As a final step, we plot the predicted vales of the model to check if the predictions make sense.\n",
                "\n"
            ]
        },
        {
            "cell_type": "code",
            "execution_count": null,
            "metadata": {},
            "outputs": [],
            "source": [
                "plot_model(m1.glmer, type = \"pred\", terms = c(\"Shots\"))\n",
                "\n"
            ]
        },
        {
            "cell_type": "markdown",
            "metadata": {},
            "source": [
                "The model predicts that the instances of *uhm* increase with the number of shots. Note that the increase is not homogeneous as the y-axis labels indicate! We now compare the predicted number of *uhm* with the actually observed instances of *uhm* to check if the results of the model make sense.\n",
                "\n"
            ]
        },
        {
            "cell_type": "code",
            "execution_count": null,
            "metadata": {},
            "outputs": [],
            "source": [
                "countdata %>%\n",
                "  mutate(Predicted = predict(m1.glmer, type = \"response\")) %>%\n",
                "  dplyr::rename(Observed = UHM) %>%\n",
                "  tidyr::gather(Type, Frequency, c(Observed, Predicted)) %>%\n",
                "  dplyr::mutate(Shots = factor(Shots),\n",
                "                Type = factor(Type)) %>%\n",
                "  dplyr::group_by(Shots, Type) %>%\n",
                "  dplyr::summarize(Frequency = mean(Frequency)) %>%\n",
                "  ggplot(aes(Shots, Frequency, group = Type, color = Type, linetype = Type)) +\n",
                "  geom_line(size = 1.2) +\n",
                "  scale_color_manual(values = c(\"orange\", \"lightblue\")) \n"
            ]
        },
        {
            "cell_type": "markdown",
            "metadata": {},
            "source": [
                "The comparison between the observed and the predicted uses of *uhm* becomes somewhat volatile and shows fluctuations after eight shots. We will now summarize the results as if the violations (overdispersion measure > 1 and excessive multicollinearity (singular fit)) had NOT occurred(!) - again: this is only because we are practicing here - this would be absolutely unacceptable in a proper write-up of an analysis!\n",
                "\n",
                "The summary of the model can be extracted using the tab_model function from the sjPlot package.\n"
            ]
        },
        {
            "cell_type": "code",
            "execution_count": null,
            "metadata": {},
            "outputs": [],
            "source": [
                "tab_model(m1.glmer)\n",
                "\n"
            ]
        },
        {
            "cell_type": "markdown",
            "metadata": {},
            "source": [
                "***\n",
                "\n",
                "> \n",
                "> The R^2^ values of the summary table are incorrect (as indicated by the missing conditional R^2^ value). The correct R^2^ values can be extracted using the `r.squaredGLMM` function from the `MuMIn` package. The respective call for the model is:\n",
                ">\n",
                "\n",
                "***\n"
            ]
        },
        {
            "cell_type": "code",
            "execution_count": null,
            "metadata": {},
            "outputs": [],
            "source": [
                "r.squaredGLMM(m1.glmer)\n",
                "\n"
            ]
        },
        {
            "cell_type": "markdown",
            "metadata": {},
            "source": [
                "Also note that our model suffers from a serious problem (near singular fit). If this were not just an example, you should not(!) report this model!\n",
                "\n",
                "### Mixed-Effects Quasi-Possion Regression{-}\n",
                "\n",
                "The Quasi-Poisson Regression is a generalization of the Poisson regression and is used when modeling an overdispersed count variable. Poisson models are based on the Poisson distribution which is defined as a distribution where the variance is equal to the mean (which is very restrictive and not often the case). Quasi-Poisson models scale the standard errors which has a positive effect when dealing with overdispersed data. \n",
                "\n",
                "Therefore, when the variance is greater than the mean, a Quasi-Poisson model, which assumes that the variance is a linear function of the mean, is more appropriate as it handles over-dispersed data better than normal Poisson-models. \n",
                "\n",
                "We begin the model fitting process by creating a mixed- and a fixed-effects intercept-only base-line model. Unfortunately, there is not yet a procedure in place for quasi-Poisson models to test if the inclusion of random effects is justified. However, here the Boruta also provides valuable information: Language was only considered tentative but not important which suggests that it will not explain variance which means that including Language as a random effect may not be justified. This would require further inspection. Because we are only dealing with an example here, we ignore this fact (which you should not do in proper analyses) and continue right away with adding shots. \n"
            ]
        },
        {
            "cell_type": "code",
            "execution_count": null,
            "metadata": {},
            "outputs": [],
            "source": [
                "# base-line mixed-model\n",
                "m0.glmer = glmmPQL(UHM ~ 1, random = ~ 1 | Language, data = countdata, \n",
                "                   family = quasipoisson(link='log'))\n",
                "# add Shots\n",
                "m1.glmer <- update(m0.glmer, .~.+ Shots)\n",
                "Anova(m1.glmer, test = \"Chi\")           # SIG! (p<0.0000000000000002 ***)\n"
            ]
        },
        {
            "cell_type": "markdown",
            "metadata": {},
            "source": [
                "The ANOVA confirms that Shots have a significant impact on the number of instances of *uhm*. We will now have a look at the model summary.\n",
                "\n"
            ]
        },
        {
            "cell_type": "code",
            "execution_count": null,
            "metadata": {},
            "outputs": [],
            "source": [
                "summary(m1.glmer)\n",
                "\n"
            ]
        },
        {
            "cell_type": "markdown",
            "metadata": {},
            "source": [
                "The model summary does not provide much information such as,e.g. AIC or BIC values. The coefficient for *Shots* is highly significant (p <.001) and the data is notably over-dispersed (the Standardized Within-Group Residuals deviate substantially from a normal distribution with higher values having a thick tail). Also, in contrast to the Poisson model, Language does explain at least a minimal share of the variance now as the mean and standard deviation are no longer 0. Note also, that the coefficients are identical to the Poisson coefficients but the standard errors and p-values differ (the model provides t- rather than z-values).\n",
                "\n",
                "In a next step, we will calculate the odds ratios of the coefficient (as we only have one). We will use the coefficients from the fixed-effects model as the coefficients for mixed- and fixed-effects models are identical (the random effect structure only affects the standard error and p-values but not the coefficients; you can check by uncommenting the summary command).\n"
            ]
        },
        {
            "cell_type": "code",
            "execution_count": null,
            "metadata": {},
            "outputs": [],
            "source": [
                "m1.glm = glm(UHM ~ Shots, data = countdata, family = quasipoisson(link='log'))\n",
                "exp(coef(m1.glm))\n"
            ]
        },
        {
            "cell_type": "markdown",
            "metadata": {},
            "source": [
                "The standardized or $\\beta$-coefficient tells us that the likelihood of *uhm* increases by 1.26 (or 26.32 percent) with each additional shot.\n",
                "\n",
                "Before inspecting the relationship between Shots and *uhm*, we will check if the overdispersion was reduced.\n"
            ]
        },
        {
            "cell_type": "code",
            "execution_count": null,
            "metadata": {},
            "outputs": [],
            "source": [
                "# extract pearson residuals\n",
                "PearsonResiduals <- resid(m1.glmer, type = \"pearson\")\n",
                "# extract number of cases in model\n",
                "Cases <- nrow(countdata)\n",
                "# extract number of predictors (plus intercept)\n",
                "NumberOfPredictors <- length(fixef(m1.glmer)) +1\n",
                "# calculate overdispersion\n",
                "Overdispersion <- sum(PearsonResiduals^2) / (Cases-NumberOfPredictors)\n",
                "# inspect overdispersion\n",
                "Overdispersion\n"
            ]
        },
        {
            "cell_type": "markdown",
            "metadata": {},
            "source": [
                "The overdispersion has indeed decreased and is not so close to 1 that overdispersion is no longer an issue. \n",
                "\n",
                "We continue to diagnose the model by plotting the Pearson's residuals against fitted values. This diagnostic plot should not show a funnel-like structure or patterning as we observed in the case of the Poisson model.\n"
            ]
        },
        {
            "cell_type": "code",
            "execution_count": null,
            "metadata": {},
            "outputs": [],
            "source": [
                "# diagnostic plot\n",
                "plot(m1.glmer, pch = 20, col = \"black\", lty= \"dotted\", ylab = \"Pearson's residuals\")\n"
            ]
        },
        {
            "cell_type": "markdown",
            "metadata": {},
            "source": [
                "Indeed, the plot exhibits a (slight) funnel shape (but not drastically so) and thus indicates heteroscedasticity. However, the patterning that we observed with the Poisson model has disappeared. We continue by plotting the random effect adjustments.\n",
                "\n"
            ]
        },
        {
            "cell_type": "code",
            "execution_count": null,
            "metadata": {},
            "outputs": [],
            "source": [
                "# generate diagnostic plots\n",
                "plot(m1.glmer, Language ~ resid(.), abline = 0, fill = \"gray70\") \n"
            ]
        },
        {
            "cell_type": "markdown",
            "metadata": {},
            "source": [
                "The adjustments by \"Language\" are marginal (which was somewhat expected given that Language was only deemed tentative), which shows that there is very little variation between the languages and that we have no statistical reason to include Language as a random effect. \n",
                "\n",
                "In a final step, we plot the fixed-effect of \"Shots\" using the \"predictorEffects\" function from the \"effects\" package.\n"
            ]
        },
        {
            "cell_type": "code",
            "execution_count": null,
            "metadata": {},
            "outputs": [],
            "source": [
                "plot_model(m1.glmer, type = \"pred\", terms = c(\"Shots\"))\n",
                "\n"
            ]
        },
        {
            "cell_type": "markdown",
            "metadata": {},
            "source": [
                "The effects plot shows that the number of *uhms* increases exponentially with the number of shots a speaker has had. We now compare the predicted number of *uhm* with the actually observed instances of *uhm* to check if the results of the model make sense.\n",
                "\n"
            ]
        },
        {
            "cell_type": "code",
            "execution_count": null,
            "metadata": {},
            "outputs": [],
            "source": [
                "countdata %>%\n",
                "  mutate(Predicted = predict(m1.glmer, type = \"response\")) %>%\n",
                "  dplyr::rename(Observed = UHM) %>%\n",
                "  tidyr::gather(Type, Frequency, c(Observed, Predicted)) %>%\n",
                "  dplyr::mutate(Shots = factor(Shots),\n",
                "                Type = factor(Type)) %>%\n",
                "  dplyr::group_by(Shots, Type) %>%\n",
                "  dplyr::summarize(Frequency = mean(Frequency)) %>%\n",
                "  ggplot(aes(Shots, Frequency, group = Type, color = Type, linetype = Type)) +\n",
                "  geom_line(size = 1.2) +\n",
                "  scale_color_manual(values = c(\"orange\", \"lightblue\")) \n"
            ]
        },
        {
            "cell_type": "markdown",
            "metadata": {},
            "source": [
                "Given that the overdispersion measure of this Quasi-Poisson model is close to 1, that the model did not suffer from excessive multicollinearity (singular fit), and because this model shows improvements compared to the Poisson model with respect to the model diagnostics (some adjustments by Language and less patterning in the diagnostic plots), we would choose this quasi-Poisson model over the Poisson model. \n",
                "\n",
                "Finally, we extract the summary table of this model.\n"
            ]
        },
        {
            "cell_type": "code",
            "execution_count": null,
            "metadata": {},
            "outputs": [],
            "source": [
                "tab_model(m1.glmer)\n",
                "\n"
            ]
        },
        {
            "cell_type": "markdown",
            "metadata": {},
            "source": [
                "***\n",
                "\n",
                ">\n",
                "><span style=\"color: red;\">Note<\/span>: The summary tables does not provide R^2^ values. The R^2^ values can be extracted using the `r.squaredGLMM` function from the `MuMIn` package. The respective call for the model is:\n",
                ">\n",
                "\n",
                "***\n"
            ]
        },
        {
            "cell_type": "code",
            "execution_count": null,
            "metadata": {},
            "outputs": [],
            "source": [
                "r.squaredGLMM(m1.glmer)\n",
                "\n"
            ]
        },
        {
            "cell_type": "markdown",
            "metadata": {},
            "source": [
                "### Mixed-Effects Negative Binomial Regression{-}\n",
                "\n",
                "Negative binomial regression models are a generalization of Poisson regression which loosens the restrictive assumption that the variance is equal to the mean made by the Poisson model. This is a major advantage as the most common issue that one faces with Poisson regressions is that the data deviate too substantially from the assumed Poisson distribution. \n",
                "\n",
                "To implement a Negative-Binomial Mixed-Effects Regression, we first create a mixed-effects intercept-only baseline model and then test if including `Shots` significantly improves model fit and, thus, has a significant impact on the number of *uhms*.\n"
            ]
        },
        {
            "cell_type": "code",
            "execution_count": null,
            "metadata": {},
            "outputs": [],
            "source": [
                "# base-line mixed-model\n",
                "m0.glmer = glmer.nb(UHM ~ 1 + (1 | Language), data = countdata)\n",
                "# add Shots\n",
                "m1.glmer <- update(m0.glmer, .~.+ Shots)\n",
                "Anova(m1.glmer, test = \"Chi\")           \n"
            ]
        },
        {
            "cell_type": "markdown",
            "metadata": {},
            "source": [
                "The negative-binomial model also reports a significant impact of shots on the number of *uhms*. We will now inspect the summary.\n",
                "\n"
            ]
        },
        {
            "cell_type": "code",
            "execution_count": null,
            "metadata": {},
            "outputs": [],
            "source": [
                "# inspect model\n",
                "summary(m1.glmer)           \n"
            ]
        },
        {
            "cell_type": "markdown",
            "metadata": {},
            "source": [
                "In a next step, we calculate the overdispersion.\n",
                "\n"
            ]
        },
        {
            "cell_type": "code",
            "execution_count": null,
            "metadata": {},
            "outputs": [],
            "source": [
                "# extract pearson residuals\n",
                "PearsonResiduals <- resid(m1.glmer, type = \"pearson\")\n",
                "# extract number of betas + predictors + sigma\n",
                "NumberOfPredictors <- 2+1+1\n",
                "# extract number of cases in model\n",
                "Cases <- nrow(countdata)\n",
                "# caluculate overdispersion parameter\n",
                "Overdispersion <- sum(PearsonResiduals^2) / (Cases / NumberOfPredictors)# show overdispersion parameter\n",
                "Overdispersion\n"
            ]
        },
        {
            "cell_type": "markdown",
            "metadata": {},
            "source": [
                "The overdispersion has increased which is rather suboptimal. In this case, we would report the  Quasi-Poisson Regression rather than the Negative Binomial Model (which is rather rare as Negative Binomial Models typically perform better than (Quasi-)Poisson models. However, this tutorial focuses merely on how to implement a Negative Binomial Mixed-Effects Regression and we thus continue with generating diagnostic plots to check for problems.\n",
                "\n"
            ]
        },
        {
            "cell_type": "code",
            "execution_count": null,
            "metadata": {},
            "outputs": [],
            "source": [
                "diag_data <- data.frame(PearsonResiduals, fitted(m1.glmer)) %>%\n",
                "  dplyr::rename(Pearson = 1,\n",
                "                Fitted = 2)\n",
                "p9 <- ggplot(diag_data, aes(x = Fitted, y = Pearson)) +\n",
                "  geom_point() +\n",
                "  geom_hline(yintercept = 0, linetype = \"dotted\")\n",
                "p10 <- ggplot(countdata, aes(x = Shots, y = diag_data$Pearson)) +\n",
                "  geom_point()  +\n",
                "  geom_hline(yintercept = 0, linetype = \"dotted\") +\n",
                "  labs(y = \"Pearson\")\n",
                "p11 <- ggplot(countdata, aes(x = Language, y = diag_data$Pearson)) +\n",
                "  geom_boxplot() +\n",
                "  labs(y = \"Pearson\") + \n",
                "  theme(axis.text.x = element_text(angle=90))\n",
                "grid.arrange(p9, p10, p11, nrow = 1)\n"
            ]
        },
        {
            "cell_type": "markdown",
            "metadata": {},
            "source": [
                "The diagnostics show patterning similar to the one we saw with the Poisson model which suggest that the negative binomial model is also not an optimal model for our data. We continue by plotting the predicted values and, subsequently, summarize the analysis. \n",
                "\n"
            ]
        },
        {
            "cell_type": "code",
            "execution_count": null,
            "metadata": {},
            "outputs": [],
            "source": [
                "plot_model(m1.glmer, type = \"pred\", terms = c(\"Shots\"))\n",
                "\n"
            ]
        },
        {
            "cell_type": "markdown",
            "metadata": {},
            "source": [
                "The effect plot shows that the predicted number of shots increases exponentially with each shot. We now compare the predicted number of *uhm* with the actually observed instances of *uhm* to check if the results of the model make sense.\n",
                "\n"
            ]
        },
        {
            "cell_type": "code",
            "execution_count": null,
            "metadata": {},
            "outputs": [],
            "source": [
                "countdata %>%\n",
                "  mutate(Predicted = predict(m1.glmer, type = \"response\")) %>%\n",
                "  dplyr::rename(Observed = UHM) %>%\n",
                "  tidyr::gather(Type, Frequency, c(Observed, Predicted)) %>%\n",
                "  dplyr::mutate(Shots = factor(Shots),\n",
                "                Type = factor(Type)) %>%\n",
                "  dplyr::group_by(Shots, Type) %>%\n",
                "  dplyr::summarize(Frequency = mean(Frequency)) %>%\n",
                "  ggplot(aes(Shots, Frequency, group = Type, color = Type, linetype = Type)) +\n",
                "  geom_line(size = 1.2) +\n",
                "  scale_color_manual(values = c(\"orange\", \"lightblue\")) \n"
            ]
        },
        {
            "cell_type": "markdown",
            "metadata": {},
            "source": [
                "The comparison between the observed and the predicted uses of *uhm* becomes somewhat volatile and shows fluctuations after eight shots. We will now summarize the results as if the violations had NOT occurred(!) - again: this is only because we are practicing here - this would be absolutely unacceptable in a proper write-up of an analysis!\n",
                "\n",
                "And, we extract the summary table of this model.\n"
            ]
        },
        {
            "cell_type": "code",
            "execution_count": null,
            "metadata": {},
            "outputs": [],
            "source": [
                "tab_model(m1.glmer)\n",
                "\n"
            ]
        },
        {
            "cell_type": "markdown",
            "metadata": {},
            "source": [
                "***\n",
                "\n",
                ">\n",
                "> The R^2^ values of the summary table are incorrect (as indicated by the missing conditional R^2^ value). The correct R^2^ values can be extracted using the `r.squaredGLMM` function from the `MuMIn` package. The respective call for the model is:\n",
                ">\n"
            ]
        },
        {
            "cell_type": "code",
            "execution_count": null,
            "metadata": {},
            "outputs": [],
            "source": [
                "r.squaredGLMM(m1.glmer)\n",
                "\n"
            ]
        },
        {
            "cell_type": "markdown",
            "metadata": {},
            "source": [
                "***\n",
                "\n",
                "A mixed-effect negative binomial regression model which contained the language in which the conversation took place as random effect was fit to the data. Prior to the regression modeling, a Boruta analysis was applied to determine whether any of the predictors had a meaningful relationship with the dependent variable (instances of *uhm*). Since the Boruta analysis indicated that only the number of shots a speaker had was important, only \"Shots\" was tested during model fitting. The final minimal adequate model showed that the number of *uhm* as fillers increases significantly, and near-linearly with the number of shots speakers had ($\\chi$^2^(1):83.0, p <.0001, $\\beta$: 0.2782). An inspection of the random effect structure conveyed that there was almost no variability between languages and language did not contribute meaningfully to the model fit.\n",
                "\n",
                "# Citation & Session Info {-}\n",
                "\n",
                "Schweinberger, Martin. `r format(Sys.time(), '%Y')`. *Fixed- and Mixed-Effects Regression Models in R*. Brisbane: The University of Queensland. url: https://slcladal.github.io/regression.html (Version `r format(Sys.time(), '%Y.%m.%d')`).\n"
            ]
        },
        {
            "cell_type": "code",
            "execution_count": null,
            "metadata": {},
            "outputs": [],
            "source": [
                "@manual{schweinberger`r format(Sys.time(), '%Y')`regression,\n",
                "  author = {Schweinberger, Martin},\n",
                "  title = {Fixed- and Mixed-Effects Regression Models in R},\n",
                "  note = {https://slcladal.github.io/regression.html},\n",
                "  year = {2021},\n",
                "  organization = \"The University of Queensland, Australia. School of Languages and Cultures},\n",
                "  address = {Brisbane},\n",
                "  edition = {`r format(Sys.time(), '%Y.%m.%d')`}\n",
                "}\n"
            ]
        },
        {
            "cell_type": "markdown",
            "metadata": {},
            "source": "\n"
        },
        {
            "cell_type": "code",
            "execution_count": null,
            "metadata": {},
            "outputs": [],
            "source": [
                "sessionInfo()\n",
                "\n"
            ]
        },
        {
            "cell_type": "markdown",
            "metadata": {},
            "source": [
                "***\n",
                "\n",
                "[Back to top](#introduction)\n",
                "\n",
                "[Back to HOME](https://slcladal.github.io/index.html)\n",
                "\n",
                "***\n",
                "\n",
                "\n",
                "# References{-}\n"
            ]
        }
    ],
    "metadata": {
        "anaconda-cloud": "",
        "kernelspec": {
            "display_name": "R",
            "langauge": "R",
            "name": "ir"
        },
        "language_info": {
            "codemirror_mode": "r",
            "file_extension": ".r",
            "mimetype": "text/x-r-source",
            "name": "R",
            "pygments_lexer": "r",
            "version": "3.4.1"
        }
    },
    "nbformat": 4,
    "nbformat_minor": 1
}
