{
    "cells": [
        {
            "cell_type": "markdown",
            "metadata": {},
            "source": [
                " \n",
                "<!--html_preserve-->\n",
                "<!-- Global site tag (gtag.js) - Google Analytics -->\n",
                "<script async src=\"https://www.googletagmanager.com/gtag/js?id=UA-130562131-1\"><\/script>\n",
                "<script>\n",
                "  window.dataLayer = window.dataLayer || [];\n",
                "  function gtag(){dataLayer.push(arguments);}\n",
                "  gtag('js', new Date());\n",
                "\n",
                "  gtag('config', 'UA-130562131-1');\n",
                "<\/script>\n",
                "<!--/html_preserve-->\n"
            ]
        },
        {
            "cell_type": "code",
            "execution_count": null,
            "metadata": {},
            "outputs": [],
            "source": [
                "knitr::include_graphics(\"https://slcladal.github.io/images/network.jpg\")\n",
                "\n"
            ]
        },
        {
            "cell_type": "markdown",
            "metadata": {},
            "source": [
                "This page contains links to resources relevant for language technology, text analytics, data management and reproducibility, language data science and natural language processing.\n",
                "\n",
                "\n",
                "<br><br> <br> \n",
                "\n",
                "# Centers | Labs{-}\n",
                "\n",
                "## Text Crunching Centre{-}\n",
                "\n",
                "At the [Text Crunching Centre](https://www.cl.uzh.ch/en/TCC.html), a team of experts in Natural Language Processing supports your text technology needs. The TCC is part of the Department of Computational Linguistics at the University of Zurich and it is a service offered to all departments of the University of Zurich as well as to external partners or customers. \n",
                "\n",
                "## VARIENG{-}\n",
                "\n",
                "[VARIENG](https://www.helsinki.fi/en/researchgroups/varieng) stands for the *Research Unit for the Study of Variation, Contacts and Change in English*. It also stands for innovative thinking and team work in English corpus linguistics and the study of language variation and change. VARIENG members study the English language, its uses and users, both today and in the past. \n",
                "\n",
                "## AcqVA Aurora Lab{-}\n",
                "\n",
                "The [AcqVA Aurora Lab](https://site.uit.no/acqvalab), is the lab of the [UiT Aurora Center for Language Acquisition, Variation & Attrition](https://uit.no/research/acqva) at [The Arctic University of Norway in Tromsø](https://uit.no/startsida). Together with the Psycholinguistics of Language Representation (PoLaR) lab, the AcqVA Lab provides methodological support for researchers at the AcqVA Aurora Center.\n",
                "\n",
                "\n",
                "## Sydney Corpus Lab{-}\n",
                "\n",
                "The [Sydney Corpus Lab](https://sydneycorpuslab.com/) aims to promote corpus linguistics in Australia. It’s a virtual, rather than a physical lab, and is an online platform for connecting computer-based linguists across the University of Sydney and beyond. Its mission is to build research capacity in corpus linguistics at the University of Sydney, to connect Australian corpus linguists, and to promote the method in Australia, both in linguistics and in other disciplines. We have strong links with the Sydney Centre for Language Research (Computational Approaches to Language node) and the Sydney Digital Humanities Research Group. \n",
                "\n",
                "## AntLab{-}\n",
                "\n",
                "Laurence Anthony's [AntLab](https://www.laurenceanthony.net/) contains a conglomeration of extremely useful and very user-friendly software tools, such as [AntConc](https://www.laurenceanthony.net/software/antconc/) that help and facilitate the analysis of textual data.\n",
                "\n",
                "## Media Research Methods Lab{-} \n",
                "\n",
                "The [Media Research Methods Lab (MRML)](https://leibniz-hbi.de/en/research/research-programmes/media-research-methods-lab) at the Leibniz Institute for Media Research │ Hans Bredow Institute (HBI) is designed as a method-oriented lab, which focuses on linking established social science methods (surveys, observations, content analysis, experiments) with new digital methods from the field of computational social science (e.g. automated content analysis, network analysis, log data analysis, experience sampling) across topics and disciplines. \n",
                "\n",
                "\n",
                "# Websites{-}\n",
                "\n",
                "## Quick-R{-}\n",
                "\n",
                "[Quick-R](https://www.statmethods.net/) by DataCamp and maintained by Rob Kabacoff that contains tutorial and R code on R, data management, statistics, and data visualization. The site is extremely helpful and recommendable for everyone that looks for code snippets that can be adapted for your own use.\n",
                "\n",
                "## STHDA{-}\n",
                "\n",
                "[Statistical Tools For High-Throughput Data Analysis (STHDA)](http://www.sthda.com/english/) is a website containing various tutorials on the implementation of statistical methods in R. It is particularly useful due to the wide range of topics and procedures it covers.\n",
                "\n",
                "\n",
                "## Introduction to Cultural Analytics & Python{-}\n",
                "\n",
                "The [Introduction to Cultural Analytics & Python](https://melaniewalsh.github.io/Intro-Cultural-Analytics/welcome.html) is a website established by Melanie Walsh that hosts an online textbook which offers an introduction to the programming language Python that is specifically designed for people interested in the humanities and social sciences.\n",
                "\n",
                "\n",
                "***\n",
                "\n",
                "[Back to top](#announcements)\n",
                "\n",
                "[Back to HOME](https://slcladal.github.io/index.html)\n",
                "\n",
                "*** \n"
            ]
        }
    ],
    "metadata": {
        "anaconda-cloud": "",
        "kernelspec": {
            "display_name": "R",
            "langauge": "R",
            "name": "ir"
        },
        "language_info": {
            "codemirror_mode": "r",
            "file_extension": ".r",
            "mimetype": "text/x-r-source",
            "name": "R",
            "pygments_lexer": "r",
            "version": "3.4.1"
        }
    },
    "nbformat": 4,
    "nbformat_minor": 1
}
