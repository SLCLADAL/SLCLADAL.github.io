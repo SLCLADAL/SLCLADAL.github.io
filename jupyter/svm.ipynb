{
    "cells": [
        {
            "cell_type": "markdown",
            "metadata": {},
            "source": [
                "<!--html_preserve-->\n",
                "<!-- Global site tag (gtag.js) - Google Analytics -->\n",
                "<script async src=\"https://www.googletagmanager.com/gtag/js?id=UA-130562131-1\"><\/script>\n",
                "<script>\n",
                "  window.dataLayer = window.dataLayer || [];\n",
                "  function gtag(){dataLayer.push(arguments);}\n",
                "  gtag('js', new Date());\n",
                "\n",
                "  gtag('config', 'UA-130562131-1');\n",
                "<\/script>\n",
                "<!--/html_preserve-->\n"
            ]
        },
        {
            "cell_type": "code",
            "execution_count": null,
            "metadata": {},
            "outputs": [],
            "source": [
                "knitr::include_graphics(\"https://slcladal.github.io/images/uq1.jpg\")\n",
                "\n"
            ]
        },
        {
            "cell_type": "markdown",
            "metadata": {},
            "source": [
                "# Introduction{-}\n",
                "\n",
                "This tutorial introduces Semantic Vector Space (SVM) modeling R. The entire R markdown document for this tutorial can be downloaded [here](https://slcladal.github.io/svm.Rmd). \n",
                "\n",
                "SVMs are used to find groups or patterns in data or to predict group membership. As such, they are widely used and applied in machine learning. In linguistics, SVMs are used frequently in distributional semantics to identify and analyzse synonymy and in grammar-based analyses of determine group membership of specific words or word classes.. \n",
                "\n",
                "## Preparation and session set up{-}\n",
                "\n",
                "This tutorial is based on R. If you have not installed R or are new to it, you will find an introduction to and more information how to use R [here](https://slcladal.github.io/IntroR_workshop.html). For this tutorials, we need to install certain *packages* from an R *library* so that the scripts shown below are executed without errors. Before turning to the code below, please install the packages by running the code below this paragraph. If you have already installed the packages mentioned below, then you can skip ahead ignore this section. To install the necessary packages, simply run the following code - it may take some time (between 1 and 5 minutes to install all of the libraries so you do not need to worry if it takes some time).\n"
            ]
        },
        {
            "cell_type": "code",
            "execution_count": null,
            "metadata": {},
            "outputs": [],
            "source": [
                "# clean current workspace\n",
                "rm(list=ls(all=T))\n",
                "# set options\n",
                "options(stringsAsFactors = F)         # no automatic data transformation\n",
                "options(\"scipen\" = 100, \"digits\" = 4) # suppress math annotation\n",
                "# install libraries\n",
                "install.packages(c(\"cluster\", \"factoextra\", \"cluster\", \n",
                "                   \"seriation\", \"pvclust\", \"ape\", \"vcd\", \n",
                "                   \"exact2x2\", \"factoextra\", \"seriation\", \n",
                "                   \"NbClust\", \"pvclust\"))\n"
            ]
        },
        {
            "cell_type": "markdown",
            "metadata": {},
            "source": [
                "Once you have installed R-Studio and initiated the session by executing the code shown above, you are good to go.\n",
                "\n",
                "# Vector Space Models\n",
                "\n",
                "Vector Space Models are particularly useful when dealing with language data as they provide very accurate estimates of *semantic* similarity based on *word embeddings* (or co-occurrence profiles). Word embeddings refer to the vectors which hold the frequency information about how frequently a given word has co-occurred with other words. If the ordering of co-occurring words remains constant, then the vectors can be used to determine which words have similar profiles. \n",
                "\n",
                "To show how vector space models work, we will follow the procedure described in @levshina2015linguistics. However, we will not use her `Rling` package, which is not supported my R version 4.0.2, to calculate cosine similarities but rather the `coop` package [see @coop]. In this tutorial, we investigate similarities among amplifiers based on their co-occurrences (word embeddings) with adjectives. Adjective amplifiers are elements such as those in 1. to 5.\n",
                "\n",
                "1. The *very*~amplifier~ *nice*~adjective~ man.\n",
                "2. A *truely*~amplifier~ *remarkable*~adjective~ woman. \n",
                "2. He was *really*~amplifier~ *hesitant*~adjective~.\n",
                "4. The child was *awefully*~amplifier~ *loud*~adjective~.\n",
                "5. The festival was *so*~amplifier~ *amazing*~adjective~!\n",
                "\n",
                "The similarity among adjective amplifiers can then be used to find clusters or groups of amplifiers that \"behave\" similarly and are interchangeable. To elaborate, adjective amplifiers are interchangeable with some variants but not with others (consider 6. to 8.; the question mark signifies that the example is unlikely to be used or grammatically not acceptable by L1 speakers of English).\n",
                "\n",
                "6. The *very*~amplifier~ *nice*~adjective~ man.\n",
                "7. The *really*~amplifier~ *nice*~adjective~ man.\n",
                "8. ^?^The *completely*~amplifier~ *nice*~adjective~ man.\n",
                "\n",
                "We start by loading the required packages, the data, and then displaying the data which is called \"vsmdata\" and consist of 5,000 observations of adjectives and contains two columns: one column with the adjectives (Adjectives) and another column which has the amplifiers (\"0\" means that the adjective occurred without an amplifier). \n"
            ]
        },
        {
            "cell_type": "code",
            "execution_count": null,
            "metadata": {},
            "outputs": [],
            "source": [
                "# load packages\n",
                "library(coop)\n",
                "library(dplyr)\n",
                "library(tm)\n",
                "library(cluster)\n",
                "library(DT)\n",
                "# load data\n",
                "vsmdata <- read.delim(\"https://slcladal.github.io/data/vsmdata.txt\", sep = \"\\t\", header = T)\n",
                "# inspect data\n",
                "datatable(vsmdata, rownames = FALSE, filter=\"top\", options = list(pageLength = 5, scrollX=T))\n"
            ]
        },
        {
            "cell_type": "markdown",
            "metadata": {},
            "source": [
                "For this tutorial, we will reduce the number of amplifiers and adjectives and thus simplify the data to render it easier to understand what is going on. To simplify the data, we remove \n",
                "\n",
                "+ all non-amplified adjectives\n",
                "+ the adjectives many and much\n",
                "+ adjectives that are amplified less than 10 times\n",
                "\n",
                "In addition, we collapse all amplifiers that occur less than 20 times into a bin category (*other*).\n"
            ]
        },
        {
            "cell_type": "code",
            "execution_count": null,
            "metadata": {},
            "outputs": [],
            "source": [
                "# simplify data\n",
                "vsmdata_simp <- vsmdata %>%\n",
                "  # remove non-amplifier adjectives\n",
                "  dplyr::filter(Amplifier != 0,\n",
                "         Adjective != \"many\",\n",
                "         Adjective != \"much\") %>%\n",
                "  # collapse infrequent amplifiers\n",
                "  dplyr::group_by(Amplifier) %>%\n",
                "  dplyr::mutate(AmpFreq = dplyr::n()) %>%\n",
                "  dplyr::ungroup() %>%\n",
                "  dplyr::mutate(Amplifier = ifelse(AmpFreq > 20, Amplifier, \"other\")) %>%\n",
                "  # collapse infrequent adjectives\n",
                "  dplyr::group_by(Adjective) %>%\n",
                "  dplyr::mutate(AdjFreq = dplyr::n()) %>%\n",
                "  dplyr::ungroup() %>%\n",
                "  dplyr::mutate(Adjective = ifelse(AdjFreq > 10, Adjective, \"other\")) %>%\n",
                "  dplyr::filter(Adjective != \"other\") %>%\n",
                "  dplyr::select(-AmpFreq, -AdjFreq)\n",
                "# inspect data\n",
                "datatable(vsmdata_simp, rownames = FALSE, filter=\"top\", options = list(pageLength = 5, scrollX=T))\n"
            ]
        },
        {
            "cell_type": "markdown",
            "metadata": {},
            "source": [
                "In a next step, we create a matrix from this data frame which maps how often a given amplifier co-occurred with a given adjective. In text mining, this format is called a text-document matrix or tdm (which is a transposed [document-term matrix](https://en.wikipedia.org/wiki/Document-term_matrix) of dtm).\n",
                "\n"
            ]
        },
        {
            "cell_type": "code",
            "execution_count": null,
            "metadata": {},
            "outputs": [],
            "source": [
                "# tabulate data (create term-document matrix)\n",
                "tdm <- ftable(vsmdata_simp$Adjective, vsmdata_simp$Amplifier)\n",
                "# extract amplifiers and adjectives \n",
                "amplifiers <- as.vector(unlist(attr(tdm, \"col.vars\")[1]))\n",
                "adjectives <- as.vector(unlist(attr(tdm, \"row.vars\")[1]))\n",
                "# attach row and column names to tdm\n",
                "rownames(tdm) <- adjectives\n",
                "colnames(tdm) <- amplifiers\n",
                "# inspect data\n",
                "tdm[1:5, 1:5]\n"
            ]
        },
        {
            "cell_type": "markdown",
            "metadata": {},
            "source": [
                "Now that we have a term document matrix, we want to remove adjectives that were never amplified. Note however that if we were interested in classifying adjectives (rather than amplifiers) according to their co-occurrence with amplifiers, we would, of course, not do this, as not being amplified would be a relevant feature for adjectives. But since we are interested in classifying amplifiers, not amplified adjectives do not have any information value.\n",
                "\n"
            ]
        },
        {
            "cell_type": "code",
            "execution_count": null,
            "metadata": {},
            "outputs": [],
            "source": [
                "# convert frequencies greater than 1 into 1\n",
                "tdm <- t(apply(tdm, 1, function(x){ifelse(x > 1, 1, x)}))\n",
                "# remove adjectives that we never amplified\n",
                "tdm <- tdm[which(rowSums(tdm) > 1),]\n",
                "# transpose tdm because we are interested in amplifiers not adjectives\n",
                "tdm <- t(tdm)\n",
                "# inspect data\n",
                "tdm[1:5, 1:5]\n"
            ]
        },
        {
            "cell_type": "markdown",
            "metadata": {},
            "source": [
                "In a next step, we extract the expected values of the co-occurrences if the amplifiers were distributed homogeneously and calculate the *Pointwise Mutual Information* (PMI) score and use that to then calculate the *Positive Pointwise Mutual Information* (PPMI) scores. According to @levshina2015linguistics 327 - referring to @bullinaria2007extracting - PPMI perform better than PMI as negative values are replaced with zeros. In a next step, we calculate the cosine similarity which will for the bases for the subsequent clustering.\n",
                "\n"
            ]
        },
        {
            "cell_type": "code",
            "execution_count": null,
            "metadata": {},
            "outputs": [],
            "source": [
                "# compute expected values\n",
                "tdm.exp <- chisq.test(tdm)$expected\n",
                "# calculate PMI and PPMI\n",
                "PMI <- log2(tdm/tdm.exp)\n",
                "PPMI <- ifelse(PMI < 0, 0, PMI)\n",
                "# calculate cosine similarity\n",
                "cosinesimilarity <- cosine(PPMI)\n",
                "# inspect cosine values\n",
                "cosinesimilarity[1:5, 1:5]\n"
            ]
        },
        {
            "cell_type": "markdown",
            "metadata": {},
            "source": [
                "As we have now obtained a similarity measure, we can go ahead and perform a cluster analysis on these similarity values. However, as we have to extract the maximum values in the similarity matrix that is not 1 as we will use this to create a distance matrix. While we could also have simply subtracted the cosine similarity values from 1 to convert the similarity matrix into a distance matrix, we follow the procedure proposed by @levshina2015linguistics.\n",
                "\n"
            ]
        },
        {
            "cell_type": "code",
            "execution_count": null,
            "metadata": {},
            "outputs": [],
            "source": [
                "# find max value that is not 1\n",
                "cosinesimilarity.test <- apply(cosinesimilarity, 1, function(x){\n",
                "  x <- ifelse(x == 1, 0, x) } )\n",
                "maxval <- max(cosinesimilarity.test)\n",
                "# create distance matrix\n",
                "amplifier.dist <- 1 - (cosinesimilarity/maxval)\n",
                "clustd <- as.dist(amplifier.dist)\n"
            ]
        },
        {
            "cell_type": "markdown",
            "metadata": {},
            "source": [
                "In a next step, we want to determine the optimal number of clusters. This has two reasons: firstly, we need to establish that we have reason to assume that the data is not homogeneous (this would occur if the optimal number of clusters were 1), and, secondly, we want check how many meaningful clusters there are in our data.\n",
                "\n"
            ]
        },
        {
            "cell_type": "code",
            "execution_count": null,
            "metadata": {},
            "outputs": [],
            "source": [
                "# find optimal number of clusters\n",
                "asw <- as.vector(unlist(sapply(2:nrow(tdm)-1, function(x) pam(clustd, k = x)$silinfo$avg.width)))\n",
                "# determine the optimal number of clusters (max width is optimal)\n",
                "optclust <- which(asw == max(asw))+1 # optimal number of clusters\n",
                "# inspect clustering with optimal number of clusters\n",
                "amplifier.clusters <- pam(clustd, optclust)\n",
                "# inspect cluster solution\n",
                "amplifier.clusters$clustering\n"
            ]
        },
        {
            "cell_type": "markdown",
            "metadata": {},
            "source": [
                "In a next step, we visualize the results of the semantic vector space model as a dendrogram.\n",
                "\n"
            ]
        },
        {
            "cell_type": "code",
            "execution_count": null,
            "metadata": {},
            "outputs": [],
            "source": [
                "# create cluster object\n",
                "cd <- hclust(clustd, method=\"ward.D\")    \n",
                "# plot cluster object\n",
                "plot(cd, main = \"\", sub = \"\", yaxt = \"n\", ylab = \"\", xlab = \"\", cex = .8)\n",
                "# add colored ractangles around clusters\n",
                "rect.hclust(cd, k = 6, border = \"gray60\")\n"
            ]
        },
        {
            "cell_type": "markdown",
            "metadata": {},
            "source": [
                "The clustering solution shows that, as expected, *completely* and *totally* - while similar to each other and thus interchangeable with each other - form a separate cluster from all other amplifiers. In addition, *very* and *really* form a cluster together with the zero variant. This is likely so because *really*, *very*, and the zero variant are the most frequent \"variants\" but also co-occur with the most variety of adjectives. The results can be interpreted to suggest that *really* and *very* are \"default\" amplifiers that lack distinct semantic profiles.\n",
                "\n",
                "There are many more useful methods for classifying and grouping data and the [tutorial by Gede Primahadi Wijaya Rajeg, Karlina Denistia, and Simon Musgrave](https://gederajeg.github.io/vector_space_model_indonesian/) [@rajeg2020semvec] highly recommended to get a better understanding of SVM but this should suffice to get you started.\n"
            ]
        },
        {
            "cell_type": "code",
            "execution_count": null,
            "metadata": {},
            "outputs": [],
            "source": [
                "# Principal Component Analysis\n",
                "\n",
                "# inspect data\n",
                "data(iris)\n",
                "head(iris, 3)\n"
            ]
        },
        {
            "cell_type": "markdown",
            "metadata": {},
            "source": "\n"
        },
        {
            "cell_type": "code",
            "execution_count": null,
            "metadata": {},
            "outputs": [],
            "source": [
                "# log transform \n",
                "log.ir <- log(iris[, 1:4])\n",
                "ir.species <- iris[, 5]\n",
                " \n",
                "# apply PCA - scale. = TRUE is highly \n",
                "# advisable, but default is FALSE. \n",
                "ir.pca <- prcomp(log.ir, center = TRUE, scale. = TRUE) \n"
            ]
        },
        {
            "cell_type": "markdown",
            "metadata": {},
            "source": [
                "\n",
                "\n"
            ]
        },
        {
            "cell_type": "code",
            "execution_count": null,
            "metadata": {},
            "outputs": [],
            "source": [
                "# print method\n",
                "print(ir.pca)\n"
            ]
        },
        {
            "cell_type": "markdown",
            "metadata": {},
            "source": [
                "\n",
                "\n"
            ]
        },
        {
            "cell_type": "code",
            "execution_count": null,
            "metadata": {},
            "outputs": [],
            "source": [
                "# plot method\n",
                "plot(ir.pca, type = \"l\")\n"
            ]
        },
        {
            "cell_type": "markdown",
            "metadata": {},
            "source": "\n"
        },
        {
            "cell_type": "code",
            "execution_count": null,
            "metadata": {},
            "outputs": [],
            "source": [
                "# summary method\n",
                "summary(ir.pca)\n"
            ]
        },
        {
            "cell_type": "markdown",
            "metadata": {},
            "source": "\n"
        },
        {
            "cell_type": "code",
            "execution_count": null,
            "metadata": {},
            "outputs": [],
            "source": [
                "# predict PCs\n",
                "predict(ir.pca, newdata=tail(log.ir, 2))\n"
            ]
        },
        {
            "cell_type": "markdown",
            "metadata": {},
            "source": [
                "\n",
                "\n"
            ]
        },
        {
            "cell_type": "code",
            "execution_count": null,
            "metadata": {},
            "outputs": [],
            "source": [
                "# load library\n",
                "library(devtools)\n",
                "# install library from github\n",
                "install_github(\"vqv/ggbiplot\")\n",
                "# load installed library\n",
                "library(ggbiplot)\n",
                "# create plot\n",
                "g <- ggbiplot(ir.pca, obs.scale = 1, var.scale = 1, \n",
                "              groups = ir.species, ellipse = TRUE, \n",
                "              circle = TRUE)\n",
                "g <- g + scale_color_discrete(name = '')\n",
                "g <- g + theme(legend.direction = 'horizontal', \n",
                "               legend.position = 'top')\n",
                "print(g)\n"
            ]
        },
        {
            "cell_type": "markdown",
            "metadata": {},
            "source": "\n"
        },
        {
            "cell_type": "code",
            "execution_count": null,
            "metadata": {},
            "outputs": [],
            "source": [
                "require(caret)\n",
                "trans = preProcess(iris[,1:4], \n",
                "                   method=c(\"BoxCox\", \"center\", \n",
                "                            \"scale\", \"pca\"))\n",
                "PC = predict(trans, iris[,1:4])\n"
            ]
        },
        {
            "cell_type": "markdown",
            "metadata": {},
            "source": [
                "\n",
                "\n"
            ]
        },
        {
            "cell_type": "code",
            "execution_count": null,
            "metadata": {},
            "outputs": [],
            "source": [
                "# inspect retained PCs\n",
                "head(PC, 3)\n",
                "\n",
                "# inspect loadings\n",
                "trans$rotation\n"
            ]
        },
        {
            "cell_type": "markdown",
            "metadata": {},
            "source": [
                "\n",
                "\n"
            ]
        },
        {
            "cell_type": "code",
            "execution_count": null,
            "metadata": {},
            "outputs": [],
            "source": [
                "# Multidimensional Scaling \n",
                "\n",
                "\n",
                "# Classical MDS\n",
                "# N rows (objects) x p columns (variables)\n",
                "# each row identified by a unique row name\n",
                "\n",
                "d <- dist(clus) # Euclidean distances between the rows\n",
                "fit <- cmdscale(d,eig=TRUE, k=2) # k is the number of dim\n",
                "fit # view results\n",
                "\n",
                "# plot solution\n",
                "x <- fit$points[,1]\n",
                "y <- fit$points[,2]\n",
                "plot(x, y, xlab=\"Coordinate 1\", ylab=\"Coordinate 2\",\n",
                "  main=\"Metric MDS\", type=\"n\")\n",
                "text(x, y, labels = row.names(clus), cex=.7) \n"
            ]
        },
        {
            "cell_type": "markdown",
            "metadata": {},
            "source": [
                "\n",
                "\n"
            ]
        },
        {
            "cell_type": "code",
            "execution_count": null,
            "metadata": {},
            "outputs": [],
            "source": [
                "# Nonmetric MDS\n",
                "# N rows (objects) x p columns (variables)\n",
                "# each row identified by a unique row name\n",
                "\n",
                "library(MASS)\n",
                "d <- dist(clus) # Euclidean distances between the rows\n",
                "fit <- isoMDS(d, k=2) # k is the number of dim\n",
                "fit # view results\n",
                "\n",
                "# plot solution\n",
                "x <- fit$points[,1]\n",
                "y <- fit$points[,2]\n",
                "plot(x, y, xlab=\"Coordinate 1\", ylab=\"Coordinate 2\",\n",
                "  main=\"Nonmetric MDS\", type=\"n\")\n",
                "text(x, y, labels = row.names(clus), cex=.7) \n"
            ]
        },
        {
            "cell_type": "markdown",
            "metadata": {},
            "source": [
                "# Citation & Session Info {-}\n",
                "\n",
                "Schweinberger, Martin. 2020. *Semantic Vector Space Models in R*. Brisbane: The University of Queensland. url: https://slcladal.github.io/svm.html (Version 2020.12.03).\n"
            ]
        },
        {
            "cell_type": "code",
            "execution_count": null,
            "metadata": {},
            "outputs": [],
            "source": [
                "@manual{schweinberger2020svm,\n",
                "  author = {Schweinberger, Martin},\n",
                "  title = {Semantic Vector Space Models in R},\n",
                "  note = {https://slcladal.github.io/svm.html},\n",
                "  year = {2020},\n",
                "  organization = \"The University of Queensland, Australia. School of Languages and Cultures},\n",
                "  address = {Brisbane},\n",
                "  edition = {2020/12/03}\n",
                "}\n"
            ]
        },
        {
            "cell_type": "markdown",
            "metadata": {},
            "source": "\n"
        },
        {
            "cell_type": "code",
            "execution_count": null,
            "metadata": {},
            "outputs": [],
            "source": [
                "sessionInfo()\n",
                "\n"
            ]
        },
        {
            "cell_type": "markdown",
            "metadata": {},
            "source": [
                "***\n",
                "\n",
                "[Main page](https://slcladal.github.io/index.html)\n",
                "\n",
                "***\n",
                "\n",
                "\n",
                "# References{-}\n"
            ]
        }
    ],
    "metadata": {
        "anaconda-cloud": "",
        "kernelspec": {
            "display_name": "R",
            "langauge": "R",
            "name": "ir"
        },
        "language_info": {
            "codemirror_mode": "r",
            "file_extension": ".r",
            "mimetype": "text/x-r-source",
            "name": "R",
            "pygments_lexer": "r",
            "version": "3.4.1"
        }
    },
    "nbformat": 4,
    "nbformat_minor": 1
}
