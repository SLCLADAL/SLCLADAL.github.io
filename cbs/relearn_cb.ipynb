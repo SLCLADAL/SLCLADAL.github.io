{
    "cells": [
        {
            "cell_type": "markdown",
            "metadata": {},
            "source": [
                "# Introduction{-}\n",
                "\n",
                "This tutorial introduces the concept of Reinforcement Learning [see @sutton2018reinforcement; @wu2018study; @paulus2017deep], and how it can be applied in the domain of Natural Language Processing and linguistics.The code for this tutorial is provided in the following link. [here](https://slcladal.github.io/reinfnlp.Rmd). \n",
                "\n",
                "Reinforcement Learning enables a machines and software agents to independently determine the optimal behaviour depending on a specific concept to enhance the overall performance. The system requires a reward feedback to learn its behaviour which is known as reinforcement signal. The schematic diagram of Reinforcement Learning (RL)is provided below: -\n"
            ]
        },
        {
            "cell_type": "code",
            "execution_count": null,
            "metadata": {},
            "outputs": [],
            "source": [
                "knitr::include_graphics(\"https://slcladal.github.io/images/Reinforcement.PNG\")\n",
                "\n"
            ]
        },
        {
            "cell_type": "markdown",
            "metadata": {},
            "source": [
                "Any RL framework comprises of 3 major components:\n",
                "\n",
                "- *Action* determines all possible moves that the agent can make which is normally expressed as a mathematical function.\n",
                "- *State* it is an explicit and quick circumstance that the agent can find itself in posed by the environment or any future circumstance\n",
                "- *Reward* it is the feedback input from the environment which measure the achievement or failure of the agent's activities.\n",
                "\n",
                "The are three broad categories of RL:\n",
                "\n",
                "- *Value Based* which determines the optimal value function and it is the maximum value achievable under any policy.\n",
                "- *Policy Based* which identifies the optimal policy achieving maximum future reward\n",
                "- *Model Based* involves a model which predicts attributes or provides representation of the environment\n",
                "\n",
                "Without going into the mathematical intricacies of RL we will focus on this tutorial the applications of deep RL on linguistic data. RL as of now is playing a pivotal role in various NLP applications some of which are highlighted below:\n",
                "\n",
                "- Article Summarisation\n",
                "- Question Answering (QA)\n",
                "- Dialogue Generation\n",
                "- Dialogue System\n",
                "- Knowledge-based QA\n",
                "- Machine Translation\n",
                "- Text Generation\n",
                "\n",
                "In the following sections we will explore some of these use cases and interpret how deep RL can implement them.\n",
                "\n",
                "## Article Summarisation{-}\n",
                "\n",
                "A deep reinforced model for abstractive summarisation involves sequence of input tokens *x={x~1~,x~2~,...,x~n~}* and produces a sequence of output (summary) tokens. A schematic presentation of the process is shown below:\n"
            ]
        },
        {
            "cell_type": "code",
            "execution_count": null,
            "metadata": {},
            "outputs": [],
            "source": [
                "knitr::include_graphics(\"https://slcladal.github.io/images/deeprlartsumm.PNG\")\n",
                "\n"
            ]
        },
        {
            "cell_type": "markdown",
            "metadata": {},
            "source": [
                "For the article summarisation objective the deep RL has the following components:\n",
                "\n",
                "- *Action* which involves a function *u~t~* which copies and generates summary output *y~t~*\n",
                "- *State* it encapsulates the hidden states of encoder and previous outputs\n",
                "- *Reward* which generates a rough score determining the performance of the summarisation\n",
                "\n",
                "## Dialogue Generation{-}\n",
                "\n",
                "In today's digital world dialogue generation is a widely used application especially in chatbots. One widely used model in this regard is the Long Short Term Memory (LSTM) sequence-to-sequence (SEQ2SEQ) model. It is a neural generative model that maximizes the probability of generating a response given the previous dialogue. However SEQ2SEQ model has some constraints:\n",
                "\n",
                "- They tend to generate highly generic responses\n",
                "- Often they are stuck in an infinite loop of repetitive responses\n",
                "\n",
                "This is where deep RL is much more efficient as it can integrate developer-defined rewards which efficiently mimics the true goal of chatbot development. In case of dialogue generation the component:\n",
                "\n",
                "- *Action* which involves a function that generates sequences of arbitrary lengths\n",
                "- *State* it comprises of previous 2 dialogue turns [p~i~,q~i~]\n",
                "- *Reward* which determines the ease of answering, information flow and semantic coherence\n",
                "\n",
                "The schematic diagram highlighting the dialogue simulation between 2 agents using deep RL is shown below:\n"
            ]
        },
        {
            "cell_type": "code",
            "execution_count": null,
            "metadata": {},
            "outputs": [],
            "source": [
                "knitr::include_graphics(\"https://slcladal.github.io/images/dlsimrl.PNG\")\n",
                "\n"
            ]
        },
        {
            "cell_type": "markdown",
            "metadata": {},
            "source": [
                "## Neural Machine Translation{-}\n",
                "\n",
                "Most of Neural Machine Translation (NMT) models are based encoder-decoder framework with attention mechanism. The encoder initially maps a source sentence *x={x~1~,x~2~,...,x~n~}* to a set of continuous representations *z={z~1~,z~2~,...,z~n~}* . Given *z* the decoder then generates a target sentence *y={y~1~,y~2~,...,y~m~}* of word tokens one by one. RL is used to bridge the gap between training and inference of of NMT by directly optimizing the loss function at training time. In this scenario the NMT model acts as the *agent* which interacts with the *environment* which in this case are the previous words and the context vector *z* available at each step *t*. This is a a policy based RL and in place of a state a policy will be assigned in every iteration. The critical components of the RL for NMT are discussed below:\n",
                "\n",
                "- *Policy* which is a conditional probability defined by the parameters of the agent\n",
                "- *Action* is decided by the agent based on the policy and it will pick up a candidate word from the vocabulary\n",
                "- *Reward* is evaluated once the agent generates a complete sequence which in case of machine translation is *Bilingual Evaluation Understudy (BLEU)*.BLEU is defined by comparing the generated sequence with the ground truth sequence.\n",
                "\n",
                "The schematic of the overall process is depicted below:\n"
            ]
        },
        {
            "cell_type": "code",
            "execution_count": null,
            "metadata": {},
            "outputs": [],
            "source": [
                "knitr::include_graphics(\"https://slcladal.github.io/images/NMT.PNG\")\n",
                "\n"
            ]
        },
        {
            "cell_type": "markdown",
            "metadata": {},
            "source": [
                "# Citation & Session Info {-}\n",
                "\n",
                "Majumdar, Dattatreya. 2020. *Reinforcement Learning in NLP*. Brisbane: The University of Queensland. url: https://slcladal.github.io/reinfnlp.html (Version 2020.11.20).\n"
            ]
        },
        {
            "cell_type": "code",
            "execution_count": null,
            "metadata": {},
            "outputs": [],
            "source": [
                "@manual{Majumdar2020ta,\n",
                "  author = {Majumdar, Dattatreya},\n",
                "  title = {Reinforcement Learning in NLP},\n",
                "  note = {https://slcladal.github.io/reinfnlp.html},\n",
                "  year = {2020},\n",
                "  organization = \"The University of Queensland, Australia. School of Languages and Cultures},\n",
                "  address = {Brisbane},\n",
                "  edition = {2020/11/20}\n",
                "}\n"
            ]
        },
        {
            "cell_type": "markdown",
            "metadata": {},
            "source": [
                "\n",
                "\n"
            ]
        },
        {
            "cell_type": "code",
            "execution_count": null,
            "metadata": {},
            "outputs": [],
            "source": [
                "sessionInfo()\n",
                "\n"
            ]
        },
        {
            "cell_type": "markdown",
            "metadata": {},
            "source": [
                "***\n",
                "\n",
                "[Main page](https://slcladal.github.io/index.html)\n",
                "\n",
                "***\n",
                "\n",
                "# References {-}\n"
            ]
        }
    ],
    "metadata": {
        "anaconda-cloud": "",
        "kernelspec": {
            "display_name": "R",
            "langauge": "R",
            "name": "ir"
        },
        "language_info": {
            "codemirror_mode": "r",
            "file_extension": ".r",
            "mimetype": "text/x-r-source",
            "name": "R",
            "pygments_lexer": "r",
            "version": "3.4.1"
        }
    },
    "nbformat": 4,
    "nbformat_minor": 1
}
