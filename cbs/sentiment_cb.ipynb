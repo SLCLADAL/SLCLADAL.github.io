{
    "cells": [
        {
            "cell_type": "markdown",
            "metadata": {},
            "source": [
                "![An interactive LADAL notebook.](https://slcladal.github.io/images/uq1.jpg)\n",
                "\n",
                "# Sentiment Analysis in R\n",
                "\n",
                "***\n",
                "\n",
                "Please copy this Jupyter notebook so that you are able to edit it.\n",
                "\n",
                "Simply go to: File > Save a copy in Drive.\n",
                "\n",
                "If you want to run this notebook on your own computer, you need to do 2 things:\n",
                "\n",
                "1. Make sure that you have R installed.\n",
                "\n",
                "2. You need to download the [bibliography file](https://slcladal.github.io/bibliography.bib) and store it in the same folder where you store the Rmd file.\n",
                "\n",
                "Once you have done that, you are good to go.\n",
                "\n",
                "***\n",
                "\n",
                "This tutorial introduces sentiment analysis (SA) and show how to perform a SA in R. The entire Rmarkdown document for the tutorial can be downloaded [here](https://slcladal.github.io/cbs/sentiment_cb.Rmd). SA is a cover term for approaches which extract information on emotion or opinion from natural language (Silge and Robinson 2017). SA have been successfully applied to analysis of language data in a wide range of disciplines such as psychology, economics, education, as well as political and social sciences. Commonly SA are used to determine the stance of a larger group of speakers towards a given phenomenon such as political candidates or parties, product lines or situations. Crucially, SA are employed in these domains because they have advantages compared to alternative methods investigating the verbal expression of emotion. One advantage of SA is that the emotion coding of SA is fully replicable.\n",
                "\n",
                "**Preparation and session set up**\n",
                "\n",
                "This tutorial is based on R. If you have not installed R or are new to it, you will find an introduction to and more information how to use R [here](https://slcladal.github.io/intror.html). For this tutorials, we need to install certain *packages* from an R *library* so that the scripts shown below are executed without errors. Before turning to the code below, please install the packages by running the code below this paragraph. If you have already installed the packages mentioned below, then you can skip ahead and ignore this section. To install the necessary packages, simply run the following code - it may take some time (between 1 and 5 minutes to install all of the packages so you do not need to worry if it takes some time).\n"
            ]
        },
        {
            "cell_type": "code",
            "execution_count": null,
            "metadata": {},
            "outputs": [],
            "source": [
                "# install packages\n",
                "install.packages(\"tidyverse\")\n",
                "install.packages(\"readr\")\n",
                "install.packages(\"tidytext\")\n",
                "install.packages(\"zoo\")\n",
                "install.packages(\"Hmisc\")\n",
                "install.packages(\"sentimentr\")\n"
            ]
        },
        {
            "cell_type": "markdown",
            "metadata": {},
            "source": [
                "Now that we have installed the packages, we activate them as shown below.\n",
                "\n"
            ]
        },
        {
            "cell_type": "code",
            "execution_count": null,
            "metadata": {},
            "outputs": [],
            "source": [
                "# set options\n",
                "options(stringsAsFactors = F)          # no automatic data transformation\n",
                "options(\"scipen\" = 100, \"digits\" = 12) # suppress math annotation\n",
                "# activate packages\n",
                "library(tidyverse)\n",
                "library(readr)\n",
                "library(tidytext)\n",
                "library(zoo)\n",
                "library(Hmisc)\n",
                "library(sentimentr)\n"
            ]
        },
        {
            "cell_type": "markdown",
            "metadata": {},
            "source": [
                "Once you have installed R and RStudio and once you have also initiated the session by executing the code shown above, you are good to go.\n",
                "\n",
                "# Sentiment Analysis\n",
                "\n",
                "Sentiment Analysis (SA) extracts information on emotion or opinion from natural language (Silge and Robinson 2017). Most forms of SA provides information about positive or negative polarity, e.g. whether a tweet is *positive* or *negative*. As such, SA represents a type of classifier that assigns values to texts. As most SA only provide information about polarity, SA is often regarded as rather coarse-grained and, thus, rather irrelevant for the types of research questions in linguistics. \n",
                "\n",
                "In the language sciences, SA can also be a very helpful tool if the type of SA provides more fine-grained information. In the following, we will perform such a information-rich SA. The SA used here does not only provide information about polarity but it will also provide association values for eight core emotions. \n",
                "\n",
                "The more fine-grained output is made possible by relying on the Word-Emotion Association Lexicon (Mohammad and Turney 2013), which comprises 10,170 terms, and in which lexical elements are assigned scores based on ratings gathered through the crowd-sourced Amazon Mechanical Turk service. For the Word-Emotion Association Lexicon raters were asked whether a given word was associated with one of eight emotions. The resulting associations between terms and emotions are based on 38,726 ratings from 2,216 raters who answered a sequence of questions for each word which were then fed into the emotion association rating (cf. Mohammad and Turney 2013). Each term was rated 5 times. For 85 percent of words, at least 4 raters provided identical ratings. For instance, the word *cry* or *tragedy* are more readily associated with SADNESS while words such as *happy* or *beautiful* are indicative of JOY and words like *fit* or *burst* may indicate ANGER. This means that the SA here allows us to investigate the expression of certain core emotions rather than merely classifying statements along the lines of a crude positive-negative distinction. \n",
                "\n",
                "## Getting started\n",
                "\n",
                "In the following, we will perform a SA to investigate the emotionality of five different novels. We will start with the first example and load five pieces of literature. \n"
            ]
        },
        {
            "cell_type": "code",
            "execution_count": null,
            "metadata": {},
            "outputs": [],
            "source": [
                "darwin <- base::readRDS(url(\"https://slcladal.github.io/data/origindarwin.rda\", \"rb\"))\n",
                "twain <- base::readRDS(url(\"https://slcladal.github.io/data/twainhuckfinn.rda\", \"rb\"))\n",
                "orwell <- base::readRDS(url(\"https://slcladal.github.io/data/orwell.rda\", \"rb\"))\n",
                "lovecraft <- base::readRDS(url(\"https://slcladal.github.io/data/lovecraftcolor.rda\", \"rb\"))\n",
                "# inspect\n",
                "head(darwin)\n"
            ]
        },
        {
            "cell_type": "markdown",
            "metadata": {},
            "source": [
                "The code chunk below allows you to upload two files from your own computer. To be able to load your own data, you need to click on the folder symbol to the left of the screen:\n",
                "\n",
                "![Colab Folder Symbol](https://slcladal.github.io/images/ColabFolder.png)\n",
                "\n",
                "Then on the upload symbol. \n",
                "\n",
                "![Colab Upload Symbol](https://slcladal.github.io/images/ColabUpload.png)\n",
                "\n",
                "Next, upload the files you want to analyze and then the respective files names in the `file` argument of the `scan` function. When you then execute the code (like to code chunk below, you will upload your own data.\n"
            ]
        },
        {
            "cell_type": "code",
            "execution_count": null,
            "metadata": {},
            "outputs": [],
            "source": [
                "mytext1 <- scan(file = \"BGSU1001.txt\",\n",
                "            what = \"char\", \n",
                "            sep = \"\", \n",
                "            quote = \"\", \n",
                "            quiet = T, \n",
                "            skipNul = T) %>%\n",
                "            paste0(collapse = \" \")\n",
                "mytext2 <- scan(file = \"BGSU1002.txt\",\n",
                "            what = \"char\", \n",
                "            sep = \"\", \n",
                "            quote = \"\", \n",
                "            quiet = T, \n",
                "            skipNul = T) %>%\n",
                "            paste0(collapse = \" \")\n",
                "# inspect\n",
                "mytext1\n"
            ]
        },
        {
            "cell_type": "markdown",
            "metadata": {},
            "source": [
                "To apply the code and functions below to your own data, you will need to modify the code chunks and replace the data we use here with your own data object. \n",
                "\n",
                "\n",
                "Write function to clean data\n"
            ]
        },
        {
            "cell_type": "code",
            "execution_count": null,
            "metadata": {},
            "outputs": [],
            "source": [
                "txtclean <- function(x, title){\n",
                "  require(dplyr)\n",
                "  x <- x %>%\n",
                "    tolower() %>%\n",
                "    paste0(collapse = \" \") %>%\n",
                "    stringr::str_squish()%>%\n",
                "    stringr::str_split(\" \") %>%\n",
                "    unlist() %>%\n",
                "    tibble() %>%\n",
                "    dplyr::select(word = 1, everything()) %>%\n",
                "    dplyr::mutate(novel = title) %>%\n",
                "    dplyr::anti_join(stop_words) %>%\n",
                "    dplyr::mutate(word = str_remove_all(word, \"\\\\W\")) %>%\n",
                "    dplyr::filter(word != \"\")\n",
                "}\n"
            ]
        },
        {
            "cell_type": "markdown",
            "metadata": {},
            "source": [
                "Process and clean texts.\n",
                "\n"
            ]
        },
        {
            "cell_type": "code",
            "execution_count": null,
            "metadata": {},
            "outputs": [],
            "source": [
                "# process text data\n",
                "darwin_clean <- txtclean(darwin, \"darwin\")\n",
                "lovecraft_clean <- txtclean(lovecraft, \"lovecraft\")\n",
                "orwell_clean <- txtclean(orwell, \"orwell\")\n",
                "twain_clean <- txtclean(twain, \"twain\")\n",
                "# inspect\n",
                "head(darwin_clean)\n"
            ]
        },
        {
            "cell_type": "markdown",
            "metadata": {},
            "source": [
                "# Basic Sentiment Analysis\n",
                "\n",
                "In a next step, we clean the data, convert it to lower case, and split it into individual words. \n"
            ]
        },
        {
            "cell_type": "code",
            "execution_count": null,
            "metadata": {},
            "outputs": [],
            "source": [
                "# hack to download the dictionary\n",
                "tns <- getNamespace(\"textdata\")\n",
                "assignInNamespace(x = \"printer\", value = function(...) 1, ns = tns)\n",
                "# extract n of words and sentiments\n",
                "novels_anno <- rbind(darwin_clean, twain_clean, orwell_clean, lovecraft_clean) %>%\n",
                "  dplyr::group_by(novel) %>%\n",
                "  dplyr::mutate(words = n()) %>%\n",
                "  dplyr::left_join(tidytext::get_sentiments(\"nrc\")) %>%\n",
                "  dplyr::mutate(novel = factor(novel),\n",
                "         sentiment = factor(sentiment))\n",
                "# inspect\n",
                "head(novels_anno, 10)\n"
            ]
        },
        {
            "cell_type": "markdown",
            "metadata": {},
            "source": [
                "We will now summarize the results of the SA and calculate the percentages of the prevalence of emotions across the books.\n",
                "\n"
            ]
        },
        {
            "cell_type": "code",
            "execution_count": null,
            "metadata": {},
            "outputs": [],
            "source": [
                "novels <- novels_anno %>%\n",
                "  dplyr::group_by(novel, sentiment) %>%\n",
                "  dplyr::summarise(sentiment = unique(sentiment),\n",
                "                   sentiment_freq = n(),\n",
                "                   words = unique(words)) %>%\n",
                "  dplyr::filter(is.na(sentiment) == F) %>%\n",
                "  dplyr::mutate(percentage = round(sentiment_freq/words*100, 1))\n",
                "# inspect\n",
                "head(novels)\n"
            ]
        },
        {
            "cell_type": "markdown",
            "metadata": {},
            "source": [
                "After performing the SA, visualize the results and show the scores for each core emotion by book.\n",
                "\n"
            ]
        },
        {
            "cell_type": "code",
            "execution_count": null,
            "metadata": {},
            "outputs": [],
            "source": [
                "novels %>%\n",
                "  dplyr::filter(sentiment != \"positive\",\n",
                "         sentiment != \"negative\") %>%\n",
                "    dplyr::group_by(novel) %>%\n",
                "  slice_max(percentage, n = 15) %>%\n",
                "  dplyr::ungroup() %>%\n",
                "  ggplot(aes(sentiment, percentage, fill = novel)) +    \n",
                "  geom_bar(stat=\"identity\",   \n",
                "           position=position_dodge()) + \n",
                "  scale_fill_manual(name = \"\", values=c(\"orange\", \"gray70\", \"red\", \"grey30\")) +\n",
                "  theme_bw() +\n",
                "  theme(legend.position = \"top\")\n"
            ]
        },
        {
            "cell_type": "markdown",
            "metadata": {},
            "source": [
                "We can also display the emotions by book and re-level sentiment so that the different core emotions are ordered from more negative (*red*) to more positive (*blue*).\n",
                "\n"
            ]
        },
        {
            "cell_type": "code",
            "execution_count": null,
            "metadata": {},
            "outputs": [],
            "source": [
                "novels %>%\n",
                "  dplyr::filter(sentiment != \"positive\",\n",
                "         sentiment != \"negative\") %>%\n",
                "  dplyr::mutate(sentiment = factor(sentiment, \n",
                "                            levels = c(\"anger\", \"fear\", \"disgust\", \"sadness\",\n",
                "                                   \"surprise\", \"anticipation\", \"trust\", \"joy\"))) %>%\n",
                "  ggplot(aes(novel, percentage, fill = sentiment)) +    \n",
                "  geom_bar(stat=\"identity\", position=position_dodge()) + \n",
                "  scale_fill_brewer(palette = \"RdBu\") +\n",
                "  theme_bw() +\n",
                "  theme(legend.position = \"right\") +\n",
                "  coord_flip()\n"
            ]
        },
        {
            "cell_type": "markdown",
            "metadata": {},
            "source": [
                "# Identifying important emotives\n",
                "\n",
                "We now check, which words have contributed to the emotionality scores. In other words, we investigate, which words are most important for the emotion scores within each novel. For the sake of interpretability, we will remove several core emotion categories and also the polarity.\n"
            ]
        },
        {
            "cell_type": "code",
            "execution_count": null,
            "metadata": {},
            "outputs": [],
            "source": [
                "novels_impw <- novels_anno %>%\n",
                "  dplyr::filter(!is.na(sentiment),\n",
                "         sentiment != \"anticipation\",\n",
                "         sentiment != \"surprise\",\n",
                "         sentiment != \"disgust\",\n",
                "         sentiment != \"negative\",\n",
                "         sentiment != \"sadness\",\n",
                "         sentiment != \"positive\") %>%\n",
                "  dplyr::mutate(sentiment = factor(sentiment, levels = c(\"anger\", \"fear\",  \"trust\", \"joy\"))) %>%\n",
                "  dplyr::group_by(novel) %>%\n",
                "  dplyr::count(word, sentiment, sort = TRUE) %>%\n",
                "  dplyr::group_by(novel, sentiment) %>%\n",
                "  dplyr::top_n(30) %>%\n",
                "  dplyr::mutate(score = n/sum(n))\n",
                "# inspect\n",
                "head(novels_impw)\n"
            ]
        },
        {
            "cell_type": "markdown",
            "metadata": {},
            "source": [
                "We can now visualize the top three words for the remaining core emotion categories. \n",
                "\n"
            ]
        },
        {
            "cell_type": "code",
            "execution_count": null,
            "metadata": {},
            "outputs": [],
            "source": [
                "novels_impw %>%\n",
                "  dplyr::group_by(novel) %>%\n",
                "  slice_max(score, n = 20) %>%\n",
                "  dplyr::arrange(desc(score)) %>%\n",
                "  dplyr::ungroup() %>%\n",
                "  ggplot(aes(x = reorder(word, score), y = score, fill = word)) +\n",
                "  facet_wrap(novel~sentiment, ncol = 4, scales = \"free_y\") +\n",
                "  geom_col(show.legend = FALSE) +\n",
                "  coord_flip() +\n",
                "  labs(x = \"Words\")\n"
            ]
        },
        {
            "cell_type": "markdown",
            "metadata": {},
            "source": [
                "# Calculating and dispalying polarity\n",
                "\n",
                "Now, we visualize the polarity of each book, i.e. the ratio of the number of positive emotion words divided by the number of negative words.\n"
            ]
        },
        {
            "cell_type": "code",
            "execution_count": null,
            "metadata": {},
            "outputs": [],
            "source": [
                "novels %>%\n",
                "  dplyr::filter(sentiment == \"positive\" | sentiment == \"negative\") %>%\n",
                "  dplyr::select(-percentage, -words) %>%\n",
                "  dplyr::mutate(sentiment_sum = sum(sentiment_freq),\n",
                "         positive = sentiment_sum-sentiment_freq) %>%\n",
                "  dplyr::filter(sentiment != \"positive\") %>%\n",
                "  dplyr::rename(negative = sentiment_freq) %>%\n",
                "  dplyr::select(novel, positive, negative) %>%\n",
                "  dplyr::group_by(novel) %>%\n",
                "  dplyr::summarise(polarity = positive/negative) %>%\n",
                "  ggplot(aes(reorder(novel, polarity, mean), polarity)) +    \n",
                "  geom_point(size = 3) + \n",
                "  theme_bw() +\n",
                "  labs(y = \"polarity\\n\\nmore negative                                more positive\\n\",\n",
                "       x = \"novel\")\n"
            ]
        },
        {
            "cell_type": "markdown",
            "metadata": {},
            "source": [
                "Overall, all books are in the positive range (the polarity score is not negative) and we see that *lovecraft* is the book with the most negative emotion words while *darwin* is the most positive book as it has the highest average polarity ratio.\n",
                "\n",
                "# Calculating and dispalying changes in polarity\n",
                "\n",
                "There are two main methods for tracking changes in polarity: binning and moving averages. binning splits the data up into sections and calculates the polarity ration within each bin. Moving averages calculate the mean within windows that are then shifted forward. We begin with an exemplification of binning and then move on to calculating moving averages. \n",
                "\n",
                "## Binning\n"
            ]
        },
        {
            "cell_type": "code",
            "execution_count": null,
            "metadata": {},
            "outputs": [],
            "source": [
                "novels_bin <- novels_anno %>%\n",
                "  dplyr::group_by(novel) %>%\n",
                "  dplyr::filter(is.na(sentiment) | sentiment == \"negative\" | sentiment == \"positive\") %>%\n",
                "  dplyr::mutate(sentiment = as.character(sentiment),\n",
                "         sentiment = case_when(is.na(sentiment) ~ \"0\", \n",
                "                               TRUE ~ sentiment),\n",
                "         sentiment= case_when(sentiment == \"0\" ~ 0,\n",
                "                              sentiment == \"positive\" ~ 1,\n",
                "                              TRUE ~ -1),\n",
                "         id = 1:n(),\n",
                "         index = as.numeric(cut2(id, m=100))) %>%\n",
                "  dplyr::group_by(novel, index) %>%\n",
                "  dplyr::summarize(index = unique(index),\n",
                "            polarity = mean(sentiment))\n",
                "# inspect\n",
                "head(novels_bin)\n"
            ]
        },
        {
            "cell_type": "markdown",
            "metadata": {},
            "source": [
                "We now have an average polarity for each bin and can plot this polarity over the development of the story.\n",
                "\n"
            ]
        },
        {
            "cell_type": "code",
            "execution_count": null,
            "metadata": {},
            "outputs": [],
            "source": [
                "ggplot(novels_bin, aes(index, polarity)) + \n",
                "  facet_wrap(vars(novel), scales=\"free_x\") +\n",
                "  geom_smooth(se = F, col = \"black\") + \n",
                "  theme_bw() +\n",
                "  labs(y = \"polarity ratio (mean by bin)\",\n",
                "       x = \"index (bin)\")\n"
            ]
        },
        {
            "cell_type": "markdown",
            "metadata": {},
            "source": [
                "## Moving average\n",
                "\n",
                "Another method for tracking changes in polarity over time is to calculate rolling or moving means. It should be noted thought that rolling means are not an optimal method fro tracking changes over time and rather represent a method for smoothing chaotic time-series data. However, they can be used to complement the analysis of changes that are detected by binning.  \n",
                "\n",
                "To calculate moving averages, we will assign words with positive polarity a value +1 and words with negative polarity a value of -1 (neutral words are coded as 0). A rolling mean calculates the mean over a fixed window span. Once the initial mean is calculated, the window is shifted to the next position and the mean is calculated for that window of values, and so on. We set the window size to 100 words which represents an arbitrary value.\n"
            ]
        },
        {
            "cell_type": "code",
            "execution_count": null,
            "metadata": {},
            "outputs": [],
            "source": [
                "novels_change <- novels_anno %>%\n",
                "  dplyr::filter(is.na(sentiment) | sentiment == \"negative\" | sentiment == \"positive\") %>%\n",
                "  dplyr::group_by(novel) %>%\n",
                "  dplyr::mutate(sentiment = as.character(sentiment),\n",
                "         sentiment = case_when(is.na(sentiment) ~ \"0\", \n",
                "                               TRUE ~ sentiment),\n",
                "         sentiment= case_when(sentiment == \"0\" ~ 0,\n",
                "                              sentiment == \"positive\" ~ 1,\n",
                "                              TRUE ~ -1),\n",
                "         id = 1:n()) %>%\n",
                "  dplyr::summarise(id = id,\n",
                "                 rmean=rollapply(sentiment, 100, mean, align='right', fill=NA)) %>%\n",
                "  na.omit()\n",
                "# inspect\n",
                "head(novels_change)\n"
            ]
        },
        {
            "cell_type": "markdown",
            "metadata": {},
            "source": [
                "We will now display the values of the rolling mean to check if three are notable trends in how the polarity shifts over the course of the unfolding of the story within George Orwell's *Nineteen Eighty-Four*.\n",
                "\n"
            ]
        },
        {
            "cell_type": "code",
            "execution_count": null,
            "metadata": {},
            "outputs": [],
            "source": [
                "ggplot(novels_change, aes(id, rmean)) +    \n",
                "  facet_wrap(vars(novel), scales=\"free_x\") +\n",
                "  geom_smooth(se = F, col = \"black\") + \n",
                "  theme_bw() +\n",
                "  labs(y = \"polarity ratio (rolling mean, k = 100)\",\n",
                "       x = \"index (word in monograph)\")\n"
            ]
        },
        {
            "cell_type": "markdown",
            "metadata": {},
            "source": [
                "The difference between the rolling mean and the binning is quite notable and results from the fact, that rolling means represent a smoothing method rather than a method to track changes over time. \n",
                "\n",
                "# Neutralizing negation\n",
                "\n",
                "So far we have ignored that negation affects the meaning and also the sentiment that is expressed by words. In practice, this means that the sentence *You are a good boy* and *You are not a good boy* would receive the same scores as we strictly focused on the use of emotive but ignored how words interact and how the context affects word meaning.\n",
                "\n",
                "In fact, we removed *not* and other such negators (e.g. *none*, *never*, or *neither*) when we removed stop words. In this section, we want to discover how we can incorporate context in our SA. Unfortunately, we have to restrict this example to an analysis of polarity as performing a context-sensitive sentiment analysis that would extend the *Word-Emotion Association Lexicon* would be quite complex and require generating our own sentiment dictionary.\n",
                "\n",
                "We begin by cleaning George Orwell's *Nineteen Eighty-Four*, then splitting it into sentences, and selecting the first 50 sentences as the sample that we will be working with.\n"
            ]
        },
        {
            "cell_type": "code",
            "execution_count": null,
            "metadata": {},
            "outputs": [],
            "source": [
                "# split text into sentences\n",
                "orwell_sent <- orwell %>%\n",
                "  iconv(to = \"latin1\") %>%\n",
                "  paste0(collapse = \" \") %>%\n",
                "  stringr::str_replace_all(., \"([a-z])- ([a-z])\", \"\\\\1\\\\2\") %>%\n",
                "  stringr::str_squish() %>%\n",
                "  tibble() %>%\n",
                "  dplyr::select(text = 1, everything()) %>%\n",
                "  tidytext::unnest_tokens(sentence, text, token = \"sentences\") %>%\n",
                "  dplyr::top_n(50)\n",
                "# inspect\n",
                "head(orwell_sent)\n"
            ]
        },
        {
            "cell_type": "markdown",
            "metadata": {},
            "source": [
                "In a next step, we load the `sentimentr` package which allows us to extract negation-sensitive polarity scores for each sentences. In addition, we apply the `sentimentr` function to each sentence and extract their polarity scores.\n",
                "\n"
            ]
        },
        {
            "cell_type": "code",
            "execution_count": null,
            "metadata": {},
            "outputs": [],
            "source": [
                "orwell_sent_class <- orwell_sent %>%\n",
                "  dplyr::mutate(ressent = sentiment(sentence)$sentiment)\n",
                "# inspect\n",
                "head(orwell_sent_class)\n"
            ]
        },
        {
            "cell_type": "markdown",
            "metadata": {},
            "source": [
                "If you are interested in learning more about SA in R, @silge2017text is highly recommended as it goes more into detail and offers additional information.\n",
                "\n",
                "# Citation & Session Info \n",
                "\n",
                "Schweinberger, Martin. 2021 *Sentiment Analysis in R*. Brisbane: The University of Queensland. url: https://slcladal.github.io/sentiment.html.\n"
            ]
        },
        {
            "cell_type": "code",
            "execution_count": null,
            "metadata": {},
            "outputs": [],
            "source": [
                "sessionInfo()\n",
                "\n"
            ]
        },
        {
            "cell_type": "markdown",
            "metadata": {},
            "source": [
                "***\n",
                "\n",
                "\n",
                "# References\n",
                "\n",
                "Mohammad, S. M., & Turney, P. D. (2013). Crowdsourcing a word–emotion association lexicon. *Computational intelligence*, 29(3), 436-465.\n",
                "\n",
                "Silge, J., & Robinson, D. (2017). *Text mining with R: A tidy approach*. O'Reilly.\n"
            ]
        }
    ],
    "metadata": {
        "anaconda-cloud": "",
        "kernelspec": {
            "display_name": "R",
            "langauge": "R",
            "name": "ir"
        },
        "language_info": {
            "codemirror_mode": "r",
            "file_extension": ".r",
            "mimetype": "text/x-r-source",
            "name": "R",
            "pygments_lexer": "r",
            "version": "3.4.1"
        }
    },
    "nbformat": 4,
    "nbformat_minor": 1
}
