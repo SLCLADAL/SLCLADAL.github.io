{
    "cells": [
        {
            "cell_type": "markdown",
            "metadata": {},
            "source": "\n"
        },
        {
            "cell_type": "code",
            "execution_count": null,
            "metadata": {},
            "outputs": [],
            "source": [
                "![uq](https://slcladal.github.io/images/uq1.jpg)\n",
                "\n",
                "***\n",
                "\n",
                "# WELCOME\n"
            ]
        },
        {
            "cell_type": "markdown",
            "metadata": {},
            "source": "knitr::include_graphics(\"https://slcladal.github.io/images/slc.png\")\n"
        },
        {
            "cell_type": "code",
            "execution_count": null,
            "metadata": {},
            "outputs": [],
            "source": [
                "Welcome to the website of the *Language Technology and Data Analysis Laboratory (LADAL)*. The LADAL (pronouced *lah'dahl*) is a school-based, collaborative support infrastructure for digital and computational humanities established 2019 by the [School of Languages and Cultures](https://languages-cultures.uq.edu.au/) at the [University of Queensland](https://www.uq.edu.au/). The LADAL assists with data processing, visualization, and analysis and offers guidance on matters relating to language technology and digital research tools. \n",
                "\n",
                "***\n",
                "\n",
                "<div class=\"warning\" style='padding:0.1em; background-color:#f2f2f2; color:#51247a'>\n",
                "<span>\n",
                "<p style='margin-top:1em; text-align:center'>\n",
                "Since going public January 1, 2021, LADAL has received more than **100,000 unique page views** of more than **60,000 users** in more than **85,000 sessions**! The majority of LADAL users access the LADAL website from the USA (app. 50%), Great Britain (app. 15%), Germany (app. 3%), and China (app. 2.5%). The highest number of unique users was April 27, 2021 with 824 unique users.<\/p>\n",
                "<p style='margin-left:1em;'>\n",
                "<\/p><\/span>\n",
                "<\/div>\n",
                "\n",
                "***\n",
                "\n",
                "***\n"
            ]
        },
        {
            "cell_type": "markdown",
            "metadata": {},
            "source": "knitr::include_graphics(\"https://slcladal.github.io/images/goals2.jpg\")\n"
        },
        {
            "cell_type": "code",
            "execution_count": null,
            "metadata": {},
            "outputs": [],
            "source": [
                "# Goals\n",
                "\n",
                "The LADAL aims to help develop computational and digital skills by providing information and practical, hands-on tutorials on data and text analytics as well as on statistical methods relevant for language research. In addition, the LADAL provides self-guided study materials relevant for computational Natural Language Processing. In order to be attractive to both beginners and people with advanced skills, the LADAL website covers topics and introduces methods relevant for people coming with different degrees of prior knowledge and experience - ranging from  introductions to concepts of quantitative reasoning to step-by-step guides on advanced statistical modeling.\n",
                "\n",
                "Since the primary concern of the LADAL is to introduce computational methods that are relevant to research involving natural language, the focus of this website is placed on linguistic data and methods relevant for text analytics. As such, the LADAL provides resources for (computational) text analytics and offers introductions to quantitative reasoning, research designs, and computational methods including data visualization and statistics. The areas covered on the LADAL website are \n"
            ]
        },
        {
            "cell_type": "markdown",
            "metadata": {},
            "source": "knitr::include_graphics(\"https://slcladal.github.io/images/dataviz.jpg\")\n"
        },
        {
            "cell_type": "code",
            "execution_count": null,
            "metadata": {},
            "outputs": [],
            "source": [
                "<br>\n",
                "\n",
                "* introductions to quantitative reasoning and basic concepts in empirical language studies.\n",
                "\n",
                "* introductions to R as programming environment for processing natural language data.\n",
                "\n",
                "* tutorials on data visualization and data analytics (statistics and machine learning).\n",
                "\n",
                "* tutorials on text analysis, text mining, distant reading, and corpus linguistics.\n",
                "\n",
                "<br>\n",
                "\n",
                "***\n",
                "\n",
                "<div class=\"warning\" style='padding:0.1em; background-color:#f2f2f2; color:#51247a'>\n",
                "<span>\n",
                "<p style='margin-top:1em; text-align:center'>\n",
                "<b>USER STORIES<\/b><br>We are currently looking for **user stories** (also known as **testimonials**) to see and show what people use LADAL resources for. If you have used LADAL resources - be it by simply copying some code, attending a workshop, learning about a method using a tutorial, or in any other way - we would be extremely grateful, if you would send us your user story! <br><br>To submit your user story, simply write up a paragraph describing how you have used LADAL resources and what you have used them for and send it to slcladal\\@uq.edu.au. We really appreciate any feedback from you about this!<\/p>\n",
                "<p style='margin-left:1em;'>\n",
                "<\/p><\/span>\n",
                "<\/div>\n",
                "\n",
                "***\n",
                "\n",
                "***\n"
            ]
        },
        {
            "cell_type": "markdown",
            "metadata": {},
            "source": "knitr::include_graphics(\"https://slcladal.github.io/images/audience.jpg\")\n"
        },
        {
            "cell_type": "code",
            "execution_count": null,
            "metadata": {},
            "outputs": [],
            "source": [
                "# Audience\n",
                "\n",
                "The LADAL resources are aimed at researchers in HASS (Humanities, Arts, and the Social Sciences) and we aspire to attract complete novices as well as expert users. And, while the focus of the LADAL website is placed on handling data that represents natural language, anyone who has an interest in quantitative methods, data visualization, statistics, or R is welcome to explore this webpage. \n",
                "\n",
                "<br>\n"
            ]
        },
        {
            "cell_type": "markdown",
            "metadata": {},
            "source": "knitr::include_graphics(\"https://slcladal.github.io/images/youtube.png\")\n"
        },
        {
            "cell_type": "code",
            "execution_count": null,
            "metadata": {},
            "outputs": [],
            "source": [
                "# Outreach\n",
                "\n",
                "At LADAL, we aim to reach out and make our resources available to the research community and anyone interested Language Technology, Data Analysis, and using computational means to extract, process, visualize and analyze language data. To this end, we offer workshops, give presentations and talks, organize webinars (see, e.g., the [LADAL Webinar Series 2021](https://slcladal.github.io/opening.html)). \n"
            ]
        },
        {
            "cell_type": "markdown",
            "metadata": {},
            "source": "knitr::include_graphics(\"https://slcladal.github.io/images/facebook.png\")\n"
        },
        {
            "cell_type": "code",
            "execution_count": null,
            "metadata": {},
            "outputs": [],
            "source": [
                "In addition, we provide resources on the LADAL website and on the [**LADAL YouTube  channel**](https://www.youtube.com/channel/UCrPUPT8UvOAxUnorC95-F4Q), we announce updates on **Twitter (\\@slcladal)** as well as on our [NEWS site](https://slcladal.github.io/news.html) and via our  [**Facebook** page](https://www.facebook.com/profile.php?id=100073328753218). To get in touch, you can contact us on Twitter or send us an email via slcladal\\@uq.edu.au.\n",
                "\n",
                "<br>\n",
                "\n",
                "***\n"
            ]
        },
        {
            "cell_type": "markdown",
            "metadata": {},
            "source": "knitr::include_graphics(\"https://slcladal.github.io/images/rcran.jpg\")\n"
        },
        {
            "cell_type": "code",
            "execution_count": null,
            "metadata": {},
            "outputs": [],
            "source": [
                "# Programming \n",
                "\n",
                "  \n",
                "The LADAL primarily uses the programming language R because R is extremely flexible, relatively easy to learn, free and open source, and R has a substantive and very friendly user community. R is not merely a software package but a fully-fledged programming environment which allows complex Natural Language Processing, statistics and data visualizations and it can also be used to create websites or apps, and has direct pipelines for version control (Git). This website as well as the self-guided study materials offered by the LADAL use are written in R-markdown - a way to combine R-code with text. The flexibility of R makes it a sensible choice for researchers that strive for high quality and extreme flexibility while following best practices that enable complete replicability and full transparency.  \n"
            ]
        },
        {
            "cell_type": "markdown",
            "metadata": {},
            "source": "knitr::include_graphics(\"https://slcladal.github.io/images/rstudiologo.png\")\n"
        },
        {
            "cell_type": "code",
            "execution_count": null,
            "metadata": {},
            "outputs": [],
            "source": [
                "As computation is becoming ever more prevalent across disciplines as well as in both the social and economic domains, the LADAL offers a resource space for R that make it accessible to lay users as well as expert programmers. That said, we will expand the resources provided by the LADAL to other tools and environments and include tutorials based on Python in the future. \n",
                "\n",
                "<br>\n",
                "\n",
                "***\n"
            ]
        },
        {
            "cell_type": "markdown",
            "metadata": {},
            "source": "knitr::include_graphics(\"https://slcladal.github.io/images/license.png\")\n"
        },
        {
            "cell_type": "code",
            "execution_count": null,
            "metadata": {},
            "outputs": [],
            "source": [
                "# Licensing \n",
                "\n",
                "The LADAL website was created by Martin Schweinberger. It was freely released under [GNU General Public License, Version 3, June 2007](https://slcladal.netlify.com/license.html). \n",
                "\n",
                "***\n",
                "\n",
                "# Citation \n",
                "\n",
                "If you use (parts of) it for your own research or in your teaching materials, please cite the individual subpages as shown at the bottom of each page or reference it as:\n",
                "\n",
                "Schweinberger, Martin. `r format(Sys.time(), '%Y')`. *The Language Technology and Data Analysis Laboratory (LADAL)*. Brisbane: The University of Queensland, School of Languages and Cultures. url: https://slcladal.github.io/index.html (Version `r format(Sys.time(), '%Y.%m.%d')`).\n"
            ]
        },
        {
            "cell_type": "markdown",
            "metadata": {},
            "source": [
                "@manual{uqslc`r format(Sys.time(), '%Y')`ladal,\n",
                "  author = {Schweinberger, Martin},\n",
                "  title = {The Language Technology and Data Analysis Laboratory (LADAL)},\n",
                "  note = {https://slcladal.github.io/index.html},\n",
                "  year = {`r format(Sys.time(), '%Y')`},\n",
                "  organization = {The University of Queensland, School of Languages and Cultures},\n",
                "  address = {Brisbane},\n",
                "  edition = {`r format(Sys.time(), '%Y.%m.%d')`}\n",
                "}\n"
            ]
        },
        {
            "cell_type": "code",
            "execution_count": null,
            "metadata": {},
            "outputs": [],
            "source": [
                "***\n",
                "\n",
                "# DISCLAIMER\n"
            ]
        },
        {
            "cell_type": "markdown",
            "metadata": {},
            "source": "knitr::include_graphics(\"https://slcladal.github.io/images/uq_campus.jpg\")\n"
        },
        {
            "cell_type": "code",
            "execution_count": null,
            "metadata": {},
            "outputs": [],
            "source": [
                "<br>\n",
                "\n",
                "The content of this website is free and comes with ABSOLUTELY NO WARRANTY. You are welcome to redistribute the content of LADAL resources given you adhere to the licensing. The content of this website is distributed under the terms of the [GNU General Public License, Version 3, June 2007](https://slcladal.netlify.com/license.html). \n",
                "\n",
                "<br><br>\n",
                "\n",
                "***\n",
                "\n",
                "**Share and Enjoy!**  \n",
                "\n",
                "***\n",
                "\n",
                "[Back to top](#welcome)\n"
            ]
        }
    ],
    "metadata": {
        "anaconda-cloud": "",
        "kernelspec": {
            "display_name": "R",
            "langauge": "R",
            "name": "ir"
        },
        "language_info": {
            "codemirror_mode": "r",
            "file_extension": ".r",
            "mimetype": "text/x-r-source",
            "name": "R",
            "pygments_lexer": "r",
            "version": "3.4.1"
        }
    },
    "nbformat": 4,
    "nbformat_minor": 1
}
