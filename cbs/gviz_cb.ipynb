{
    "cells": [
        {
            "cell_type": "markdown",
            "metadata": {},
            "source": [
                "![An interactive LADAL notebook](https://slcladal.github.io/images/uq1.jpg)\n",
                "\n",
                "# Introduction to Geospatial Data Visualization with R\n",
                "\n",
                "\n",
                "This tutorial is the interactive Jupyter notebook accompanying the [*Language Technology and Data Analysis Laboratory* (LADAL) tutorial *Introduction to Geospatial Data Visualization with R*](https://ladal.edu.au/gviz.html). The tutorial provides more details and background information while this interactive notebook focuses strictly on practical aspects.\n",
                "\n",
                "\n",
                "***\n",
                "\n",
                "\n",
                "**Preparation and session set up**\n",
                "\n",
                "We set up our session by activating the packages we need for this tutorial.\n"
            ]
        },
        {
            "cell_type": "code",
            "execution_count": null,
            "metadata": {},
            "outputs": [],
            "source": [
                "# activate packages\n",
                "library(sf)\n",
                "library(raster)\n",
                "library(dplyr)\n",
                "library(spData)\n",
                "library(spDataLarge)\n",
                "library(tmap)  \n",
                "library(ggplot2)\n",
                "library(ggspatial)\n",
                "library(rnaturalearth)\n",
                "library(ggmap)\n",
                "library(leaflet)\n",
                "library(maptools)\n",
                "library(rgdal)\n",
                "library(scales)\n"
            ]
        },
        {
            "cell_type": "markdown",
            "metadata": {},
            "source": [
                "Once you have initiated the session by executing the code shown above, you are good to go.\n",
                "\n",
                "If you are using this notebook on your own computer and you have not already installed the R packages listed above, you need to install them. You can install them by replacing the `library` command with `install.packages` and putting the name of the package into quotation marks like this: `install.packages(\"quanteda\")`. Then, you simply run this command and R will install the package you specified.\n",
                "\n",
                "\n",
                "\n",
                "\n",
                "# Creating Basic Maps \n",
                "\n",
                "We will start by generating maps of the world using a in-build `world` data set that is part of the `spData` package and the `plot` function for generating the map.\n"
            ]
        },
        {
            "cell_type": "code",
            "execution_count": null,
            "metadata": {},
            "outputs": [],
            "source": [
                "plot(world)\n",
                "\n"
            ]
        },
        {
            "cell_type": "markdown",
            "metadata": {},
            "source": [
                "We see that the  `world` data set contains information on various factors, such as information about regions (e.g., `continent` or `subregion`), country names (`name_long`),  population size (`pop`) or life expectancy (`lifeExp`). We can use this information to show a specific map as shown below.\n",
                "\n"
            ]
        },
        {
            "cell_type": "code",
            "execution_count": null,
            "metadata": {},
            "outputs": [],
            "source": [
                "plot(world[\"lifeExp\"])\n",
                "\n"
            ]
        },
        {
            "cell_type": "markdown",
            "metadata": {},
            "source": [
                "We can use the `world` data set and filter for specific features, e.g., we can visualize only a single continent by filtering for the continent we are interested in. In addition, we define the x-axis and y-axis limits so that we zoom in on the region of interest.\n",
                "\n"
            ]
        },
        {
            "cell_type": "code",
            "execution_count": null,
            "metadata": {},
            "outputs": [],
            "source": [
                "# extract europe (exclude russia and iceland)\n",
                "world_eur <- world %>%\n",
                "  dplyr::filter(continent == \"Europe\", \n",
                "                name_long != \"Russian Federation\", \n",
                "                name_long != \"Iceland\") %>%\n",
                "  dplyr::select(name_long, geom)\n",
                "# plot\n",
                "plot(world_eur,\n",
                "     xlim = c(5, 10),\n",
                "     ylim = c(30, 70),\n",
                "     main = \"\")\n"
            ]
        },
        {
            "cell_type": "markdown",
            "metadata": {},
            "source": [
                "We can also overlay information such as population size over continents and countries as shown below.\n",
                "\n"
            ]
        },
        {
            "cell_type": "code",
            "execution_count": null,
            "metadata": {},
            "outputs": [],
            "source": [
                "# plot world map\n",
                "plot(world[\"continent\"], reset = FALSE)\n",
                "# define size bases on population size\n",
                "cex <- sqrt(world$pop) / 10000\n",
                "# center world map\n",
                "world_cents <- sf::st_centroid(world, of_largest = TRUE)\n",
                "# plot\n",
                "plot(sf::st_geometry(world_cents), \n",
                "     add = TRUE, \n",
                "     cex = cex)\n"
            ]
        },
        {
            "cell_type": "markdown",
            "metadata": {},
            "source": [
                "Overlaying is interesting because it allows us to highlight certain regions or countries as shown below.\n",
                "\n"
            ]
        },
        {
            "cell_type": "code",
            "execution_count": null,
            "metadata": {},
            "outputs": [],
            "source": [
                "# extract map of europe\n",
                "world_eur <- world %>%\n",
                "  dplyr::filter(continent == \"Europe\")\n",
                "# extract germany\n",
                "ger <- world %>%\n",
                "  dplyr::filter(name_long == \"Germany\")\n",
                "# plot germany\n",
                "plot(sf::st_geometry(ger), expandBB = c(.2, .2, .2, .2), col = \"gray\", lwd = 3)\n",
                "# plot europe\n",
                "plot(world_eur[0], add = TRUE)\n"
            ]
        },
        {
            "cell_type": "markdown",
            "metadata": {},
            "source": [
                "We can also add information to the `world` data set and use the added information to generate customized plots.\n",
                "\n"
            ]
        },
        {
            "cell_type": "code",
            "execution_count": null,
            "metadata": {},
            "outputs": [],
            "source": [
                "# countries I have been to\n",
                "countries <- c(\"United States\", \"Norway\", \"France\", \"United Arab Emirates\", \n",
                "             \"Qatar\", \"Sweden\", \"Poland\", \"Austria\", \"Hungary\", \"Romania\", \n",
                "             \"Germany\", \"Bulgaria\", \"Greece\", \"Turkey\", \"Croatia\", \n",
                "             \"Switzerland\", \"Belgium\", \"Netherlands\", \"Spain\", \"Ireland\", \n",
                "             \"Australia\", \"China\", \"Italy\", \"Denmark\", \"United Kingdom\", \n",
                "             \"Slovenia\", \"Finland\", \"Slovakia\", \"Czech Republic\", \"Japan\", \n",
                "             \"Saudi Arabia\", \"Serbia\")\n",
                "# data frame with countries I have visited\n",
                "visited <- world %>%\n",
                "  dplyr::filter(name_long %in% countries)\n",
                "# plot world\n",
                "plot(world[0], col = \"lightgray\")\n",
                "# overlay countries I have visited in orange \n",
                "plot(sf::st_geometry(visited), add = TRUE, col = \"orange\")\n"
            ]
        },
        {
            "cell_type": "markdown",
            "metadata": {},
            "source": [
                "# Creating Maps with ggplot2 \n",
                "\n",
                "So far, we have used the base `plot` function to generate maps. However, it is also possible to use `ggplot2` to generate maps and the easiest way is to use `borders` to draw a map. \n"
            ]
        },
        {
            "cell_type": "code",
            "execution_count": null,
            "metadata": {},
            "outputs": [],
            "source": [
                "# plot map\n",
                "ggplot() +\n",
                "  borders()\n"
            ]
        },
        {
            "cell_type": "markdown",
            "metadata": {},
            "source": [
                "Another option is to add `geom_sf` to a `ggplot2` object as shown below. A nice feature is that we can add perspective and projection.\n",
                "\n"
            ]
        },
        {
            "cell_type": "code",
            "execution_count": null,
            "metadata": {},
            "outputs": [],
            "source": [
                "# plot map\n",
                "ggplot(data = world) +\n",
                "  geom_sf(fill = \"white\") +\n",
                "  coord_sf(crs = \"+proj=laea +lat_1=-28 +lat_2=-36 +lat_0=-32 +lon_0=135 +x_0=1000000 +y_0=2000000 +ellps=GRS80 +towgs84=0,0,0,0,0,0,0 +units=m +no_defs\")\n"
            ]
        },
        {
            "cell_type": "markdown",
            "metadata": {},
            "source": [
                "Or have a map that shows the world in a bit of an unusual perspective due to the Labert projection.\n",
                "\n"
            ]
        },
        {
            "cell_type": "code",
            "execution_count": null,
            "metadata": {},
            "outputs": [],
            "source": [
                "# plot map\n",
                "ggplot(data = world) +\n",
                "  geom_sf(fill = \"beige\") +\n",
                "  coord_sf(crs = \"+proj=lcc +lat_1=-28 +lat_2=-36 +lat_0=-32 +lon_0=135 +x_0=1000000 +y_0=2000000 +ellps=GRS80 +towgs84=0,0,0,0,0,0,0 +units=m +no_defs\") +\n",
                "  theme(panel.grid.major = element_line(color = \"gray50\", \n",
                "                                         size = 0.25),\n",
                "        panel.background = element_rect(fill = \"aliceblue\"))\n"
            ]
        },
        {
            "cell_type": "markdown",
            "metadata": {},
            "source": [
                "The nice thing about `ggplot2` is, of course, that it is very easy to add layers and create very pretty visualizations. \n",
                "\n"
            ]
        },
        {
            "cell_type": "code",
            "execution_count": null,
            "metadata": {},
            "outputs": [],
            "source": [
                "# plot map\n",
                "ggplot(data = world) +\n",
                "  geom_sf() + \n",
                "  theme_bw() +\n",
                "  # adding axes title\n",
                "  labs(x = \"Longitude\", y = \"Latitude\") +\n",
                "  # adding title and subtitle\n",
                "  ggtitle(\"A map of Australia\") +\n",
                "  # defining coordinates\n",
                "  coord_sf(xlim = c(100.00, 160.00), \n",
                "           ylim = c(-45.00, -10.00), \n",
                "           expand = T) +\n",
                "  # add distance measure\n",
                "  annotation_scale(location = \"bl\", width_hint = 0.5) +\n",
                "  # add compass \n",
                "  annotation_north_arrow(location = \"br\")\n"
            ]
        },
        {
            "cell_type": "markdown",
            "metadata": {},
            "source": [
                "Again, we can customize the map according to what we want. In addition, we load a map with a higher resolution using the `ne_countries` function from the `rnaturalearth` package.\n",
                "\n"
            ]
        },
        {
            "cell_type": "code",
            "execution_count": null,
            "metadata": {},
            "outputs": [],
            "source": [
                "# load data\n",
                "world <- rnaturalearth::ne_countries(returnclass = \"sf\") \n",
                "# add to prevent errors\n",
                "sf::sf_use_s2(FALSE)\n",
                "# extract locations\n",
                "world_points<- st_centroid(world)\n",
                "# extract labels\n",
                "world_points <- cbind(world, sf::st_coordinates(sf::st_centroid(world$geometry)))\n",
                "# generate annotated world map\n",
                "ggplot(data = world) +\n",
                "  # land is gray\n",
                "  geom_sf(fill= \"gray90\") +\n",
                "  # axes labels\n",
                "  labs(x = \"Longitude\", y = \"Latitude\") +\n",
                "  # define zoom\n",
                "  coord_sf(xlim = c(100.00, 180.00), \n",
                "           ylim = c(-45.00, -10.00), expand = T) +\n",
                "  # add scale bar\n",
                "  annotation_scale(location = \"bl\", width_hint = 0.5) +\n",
                "  # add compass\n",
                "  annotation_north_arrow(location = \"br\", which_north = \"true\", \n",
                "                         style = north_arrow_fancy_orienteering) +\n",
                "  # define theme (add grid lines)\n",
                "  theme(panel.grid.major = element_line(color = \"gray60\", \n",
                "                                         linetype = \"dashed\", \n",
                "                                         size = 0.25),\n",
                "        # define background color\n",
                "         panel.background = element_rect(fill = \"aliceblue\")) +\n",
                "  # add text\n",
                "  geom_text(data= world_points,aes(x=X, y=Y, label=name),\n",
                "            color = \"gray20\", fontface = \"italic\", check_overlap = T, size = 3)\n"
            ]
        },
        {
            "cell_type": "markdown",
            "metadata": {},
            "source": [
                "We can explore other designs and maps and show different regions of the world.\n",
                "\n"
            ]
        },
        {
            "cell_type": "code",
            "execution_count": null,
            "metadata": {},
            "outputs": [],
            "source": [
                "# load data\n",
                "europe <- ne_countries(scale = \"medium\", continent='europe', returnclass = \"sf\") \n",
                "# plot map\n",
                "ggplot(data = europe) +\n",
                "  # add map and define filling\n",
                "  geom_sf(mapping = aes(fill = ifelse(name_long == \"Germany\", \"0\", \"1\"))) +\n",
                "  # simply black and white background\n",
                "  theme_bw() +\n",
                "  # adding axes title\n",
                "  labs(x = \"Longitude\", y = \"Latitude\") +\n",
                "  # adding title and subtitle\n",
                "  ggtitle(\"A map of central Europe\") +\n",
                "  # defining coordinates\n",
                "  coord_sf(xlim = c(-10, 30), \n",
                "           ylim = c(40, 60)) +\n",
                "  # add distance measure\n",
                "  annotation_scale(location = \"bl\", width_hint = 0.5) +\n",
                "  # add compass \n",
                "  annotation_north_arrow(location = \"br\",\n",
                "                         # make compass fancy\n",
                "                         style = north_arrow_fancy_orienteering) +\n",
                "  theme(legend.position = \"none\",\n",
                "        # add background color\n",
                "        panel.background = element_rect(fill = \"lightblue\"),\n",
                "        # remove grid lines\n",
                "        panel.grid.major = element_blank(), \n",
                "        panel.grid.minor = element_blank()) +\n",
                "  # define fill colors\n",
                "  scale_fill_manual(name = \"Country\", values = c(\"darkgray\", \"beige\")) +\n",
                "  # add text\n",
                "  geom_sf_text(aes(label = name_long), size=2.5, color = \"gray20\")\n"
            ]
        },
        {
            "cell_type": "markdown",
            "metadata": {},
            "source": [
                "# Adding External Information \n",
                "\n",
                "While being very useful, displaying basic maps is usually less relevant because, typically, we want to add different layers to a map. In order to add layers to a map, we need to combine the existing data with some data that we would like to lay over the existing map. \n",
                "\n",
                "We will now lad external information which contains the locations of Australian airports.\n"
            ]
        },
        {
            "cell_type": "code",
            "execution_count": null,
            "metadata": {},
            "outputs": [],
            "source": [
                "# load data\n",
                "airports <- base::readRDS(url(\"https://slcladal.github.io/data/apd.rda\", \"rb\")) %>%\n",
                "  dplyr::mutate(ID = as.character(ID)) %>%\n",
                "  dplyr::filter(Country == \"Australia\")\n",
                "# inspect\n",
                "head(airports)\n"
            ]
        },
        {
            "cell_type": "markdown",
            "metadata": {},
            "source": [
                "Next, we load an additional data set about the route volume of Australian airports (how many routes go in and out of these airports).\n",
                "\n"
            ]
        },
        {
            "cell_type": "code",
            "execution_count": null,
            "metadata": {},
            "outputs": [],
            "source": [
                "# read in routes data\n",
                "routes <- base::readRDS(url(\"https://slcladal.github.io/data/ard.rda\", \"rb\")) %>%\n",
                "  dplyr::rename(ID = destinationAirportID) %>%\n",
                "  dplyr::group_by(ID) %>%\n",
                "  dplyr::summarise(flights = n())\n",
                "# inspect\n",
                "head(routes)\n"
            ]
        },
        {
            "cell_type": "markdown",
            "metadata": {},
            "source": [
                "We can now merge the airports and the route volume data sets to combine the information about the location with the information about the number of routes that end at each airport.\n",
                "\n"
            ]
        },
        {
            "cell_type": "code",
            "execution_count": null,
            "metadata": {},
            "outputs": [],
            "source": [
                "# combine tables\n",
                "arrivals <- dplyr::left_join(airports, routes, by = \"ID\") %>%\n",
                "  na.omit()\n",
                "# inspect\n",
                "head(arrivals)\n"
            ]
        },
        {
            "cell_type": "markdown",
            "metadata": {},
            "source": [
                "Now that we have that data (which contains geolocations (longitudes and latitudes), we can visualize the location of the airports on a map and add information about the route volume of the airports in the form of, e.g., points that we plot over the airport - the bigger the point, the higher the route volume. In addition, we add the locations as texts and also make these labels correspond to the route volume.\n",
                "\n"
            ]
        },
        {
            "cell_type": "code",
            "execution_count": null,
            "metadata": {},
            "outputs": [],
            "source": [
                "# create a layer of borders\n",
                "ggplot(arrivals, aes(x=Longitude, y= Latitude)) +   \n",
                "  borders(\"world\", colour=\"gray20\", fill=\"wheat1\")  +\n",
                "  geom_point(color=\"blue\", alpha = .3, size = log(arrivals$flights)) +\n",
                "  scale_x_continuous(name=\"Longitude\", limits=c(110, 160)) +\n",
                "  scale_y_continuous(name=\"Latitude\", limits=c(-45, -10)) +\n",
                "  theme(panel.background = element_rect(fill = \"azure1\", colour = \"azure1\")) +\n",
                "  geom_text(aes(x=Longitude, y= Latitude, label=City),\n",
                "            color = \"gray20\", check_overlap = T, size = log(arrivals$flights))\n"
            ]
        },
        {
            "cell_type": "markdown",
            "metadata": {},
            "source": [
                "# Creating Maps with ggmap \n",
                "\n",
                "If you simply want to show specific locations on existing maps, then the `ggmap` package is an easy way to take on this talk.\n"
            ]
        },
        {
            "cell_type": "code",
            "execution_count": null,
            "metadata": {},
            "outputs": [],
            "source": [
                "# define box\n",
                "sbbox <- ggmap::make_bbox(lon = c(152.8, 153.4), lat = c(-27.1, -27.7), f = .1)\n",
                "# get map\n",
                "brisbane = ggmap::get_map(location=sbbox, zoom=10, maptype=\"terrain\")\n",
                "# create map\n",
                "brisbanemap = ggmap::ggmap(brisbane)\n",
                "# display map\n",
                "brisbanemap +\n",
                "  geom_point(data = arrivals, mapping = aes(x = Longitude, y = Latitude), \n",
                "               color = \"red\", size = 2) +\n",
                "  geom_text(data = arrivals, \n",
                "            mapping = aes(x = Longitude+0.1,\n",
                "                          y = Latitude,\n",
                "                          label = \"Brisbane Airport\"),\n",
                "            size = 3, color = \"gray20\", \n",
                "            fontface = \"bold\", \n",
                "            check_overlap = T) +\n",
                "  labs(x = \"Longitude\", y = \"Latitude\")\n"
            ]
        },
        {
            "cell_type": "markdown",
            "metadata": {},
            "source": [
                "# Interactive Maps with leaflet and maptools \n",
                "\n",
                "The `leaflet` package offers very easy-to use options for generating interactive maps ([here](https://raw.githubusercontent.com/rstudio/cheatsheets/main/leaflet.pdf) is the link to the leaflet cheat sheet provided by RStudio). The interactivity is achieved by the `leaflet` function from the `leaflet` package which creates a leaflet-map with html-widgets which can be used, e.g., in html rendered R Notebooks or Shiny applications. The advantage of using this function lies in the fact that it offers very detailed maps which enable zooming in on  specific locations.\n"
            ]
        },
        {
            "cell_type": "code",
            "execution_count": null,
            "metadata": {},
            "outputs": [],
            "source": [
                "# generate basic leaflet map\n",
                "m <- leaflet() %>% \n",
                "  leaflet::setView(lng = 153.05, lat = -27.45, zoom = 12)%>% \n",
                "  leaflet::addTiles()\n",
                "# show map\n",
                "m\n"
            ]
        },
        {
            "cell_type": "markdown",
            "metadata": {},
            "source": [
                "Another option for interactive geospatial visualizations is provided by the `maptools` package which comes with a `SpatialPolygonsDataFrame` of the world and the population by country (in 2005). To make the visualization a bit more appealing, we will calculate the population density, add this variable to the data which underlies the visualization, and then display the information interactively. In this case, this means that you can use *mouse-over* or *hoover* effects so that you see the population density in each country if you put the cursor on that country (given the information is available for that country).\n",
                "\n",
                "We start by loading the required package from the library, adding population density to the data, and removing data points without meaningful information (e.g. we set values like Inf to NA).\n"
            ]
        },
        {
            "cell_type": "code",
            "execution_count": null,
            "metadata": {},
            "outputs": [],
            "source": [
                "# load data\n",
                "data(wrld_simpl)\n",
                "# calculate population density and add it to the data \n",
                "wrld_simpl@data$PopulationDensity <- round(wrld_simpl@data$POP2005/wrld_simpl@data$AREA,2)\n",
                "wrld_simpl@data$PopulationDensity <- ifelse(wrld_simpl@data$PopulationDensity == \"Inf\", NA, wrld_simpl@data$PopulationDensity)\n",
                "wrld_simpl@data$PopulationDensity <- ifelse(wrld_simpl@data$PopulationDensity == \"NaN\", NA, wrld_simpl@data$PopulationDensity)\n",
                "# inspect\n",
                "head(wrld_simpl@data, 10)\n"
            ]
        },
        {
            "cell_type": "markdown",
            "metadata": {},
            "source": [
                "We can now display the data and use color coding to indicate the different population densities.\n",
                "\n"
            ]
        },
        {
            "cell_type": "code",
            "execution_count": null,
            "metadata": {},
            "outputs": [],
            "source": [
                "# define colors\n",
                "qpal <- colorQuantile(rev(viridis::viridis(10)),\n",
                "                      wrld_simpl$PopulationDensity, n=10)\n",
                "# generate visualization\n",
                "l <- leaflet(wrld_simpl, options =\n",
                "               leafletOptions(attributionControl = FALSE, minzoom=1.5)) %>%\n",
                "  addPolygons(\n",
                "    label=~stringr::str_c(\n",
                "      NAME, ' ',\n",
                "      formatC(PopulationDensity, big.mark = ',', format='d')),\n",
                "    labelOptions= labelOptions(direction = 'auto'),\n",
                "    weight=1, color='#333333', opacity=1,\n",
                "    fillColor = ~qpal(PopulationDensity), fillOpacity = 1,\n",
                "    highlightOptions = highlightOptions(\n",
                "      color='#000000', weight = 2,\n",
                "      bringToFront = TRUE, sendToBack = TRUE)\n",
                "    ) %>%\n",
                "  addLegend(\n",
                "    \"topright\", pal = qpal, values = ~PopulationDensity,\n",
                "    title = htmltools::HTML(\"Population density <br> (2005)\"),\n",
                "    opacity = 1 )\n",
                "# display visualization\n",
                "l\n"
            ]
        },
        {
            "cell_type": "markdown",
            "metadata": {},
            "source": [
                "# Adding Shapes to Maps \n",
                "\n",
                "\n",
                "<div class=\"warning\" style='padding:0.1em; background-color:#f2f2f2; color:#51247a'>\n",
                "<span>\n",
                "<p style='margin-top:1em; text-align:center'>\n",
                "<b>NOTE<\/b><br>You you need to download a shape file (shmoreAndCartierIslands.shp) via the following to url:<br><br> https://slcladal.github.io/data/shapes/AshmoreAndCartierIslands.shp<br><br>\n",
                "Once you have downloaded these shape files, store them on your computer. When you read in the files, make sure that you have adapted the paths so that R can find the shape files on your computer. The paths below work for my computer but they will not work for yours. You need to download the shape files because, unfortunately, the readOGR function does not allow you to download the shp-files from the web - it requires you to have them stored on your machine.<\/p><\/p>\n",
                "<p style='margin-left:1em;'>\n",
                "<\/p><\/span>\n",
                "<\/div>\n",
                "\n",
                "<br>\n"
            ]
        },
        {
            "cell_type": "code",
            "execution_count": null,
            "metadata": {},
            "outputs": [],
            "source": [
                "# load shape files\n",
                "australia <- rgdal::readOGR(dsn = here::here(\"data/shapes\",\n",
                "                                             \"AshmoreAndCartierIslands.shp\"),\n",
                "                            stringsAsFactors = F)\n"
            ]
        },
        {
            "cell_type": "markdown",
            "metadata": {},
            "source": [
                "We can now generate a first map based on the shape file we downloaded.\n",
                "\n"
            ]
        },
        {
            "cell_type": "code",
            "execution_count": null,
            "metadata": {},
            "outputs": [],
            "source": [
                "# plot australia based on shp file\n",
                "ggplot() + \n",
                "  geom_polygon(data = australia, \n",
                "               aes(x = long, y = lat, group = group),\n",
                "               colour = \"black\", fill = \"gray90\") +\n",
                "  theme_void()\n"
            ]
        },
        {
            "cell_type": "markdown",
            "metadata": {},
            "source": [
                "Next, we convert the data set into a tidy format.\n",
                "\n"
            ]
        },
        {
            "cell_type": "code",
            "execution_count": null,
            "metadata": {},
            "outputs": [],
            "source": [
                "# convert the data into tidy format\n",
                "australia_tidy <- broom::tidy(australia, region = \"name\")\n",
                "# inspect data\n",
                "head(australia_tidy)\n"
            ]
        },
        {
            "cell_type": "markdown",
            "metadata": {},
            "source": [
                "Now, we extract the names of the states and territories as well as the longitudes and latitudes where we want to display the labels. Then, we display the information on the map.\n",
                "\n"
            ]
        },
        {
            "cell_type": "code",
            "execution_count": null,
            "metadata": {},
            "outputs": [],
            "source": [
                "# extract names of states and their long and lat\n",
                "australia_states <- australia_tidy %>%\n",
                "  dplyr::group_by(id) %>%\n",
                "  dplyr::summarise(long = mean(long),\n",
                "                   lat = mean(lat))\n"
            ]
        },
        {
            "cell_type": "markdown",
            "metadata": {},
            "source": [
                "We can now generate a map based on the shp-file. In addition, we define colors for the states and territories and customize the map.\n",
                "\n"
            ]
        },
        {
            "cell_type": "code",
            "execution_count": null,
            "metadata": {},
            "outputs": [],
            "source": [
                "# define colors\n",
                "clrs <- viridis_pal()(15)\n",
                "# plot map\n",
                "p <- ggplot() +\n",
                "  # plot map\n",
                "  geom_polygon(data = australia_tidy, \n",
                "               aes(x = long, y = lat, group = group, fill = id, alpha = .75), \n",
                "               asp = 1, colour = \"gray50\") +\n",
                "  # add text\n",
                "  geom_text(data = australia_states, aes(x = long, y = lat, label = id), \n",
                "            size = 3, color = \"gray20\", fontface = \"bold\", \n",
                "            check_overlap = T) +\n",
                "  geom_text(data= world_points,aes(x=X, y=Y, label=name),\n",
                "            color = \"gray20\", fontface = \"bold\", check_overlap = T, size = 5) +\n",
                "  # color states\n",
                "  scale_fill_manual(values = clrs) +\n",
                "  # define theme and axes\n",
                "  theme_void() +\n",
                "  scale_x_continuous(name = \"Longitude\", limits = c(110, 160)) +\n",
                "  scale_y_continuous(name = \"Latitude\", limits = c(-45, -10)) +\n",
                "  theme(panel.grid.major = element_line(color = \"gray60\", \n",
                "                                         linetype = \"dashed\", \n",
                "                                         size = 0.25),\n",
                "        # define background color\n",
                "        panel.background = element_rect(fill = \"aliceblue\"),\n",
                "        legend.position = \"none\")+ \n",
                "  # add compass\n",
                "  annotation_north_arrow(location = \"tl\", which_north = \"true\", \n",
                "                         style = north_arrow_fancy_orienteering)\n",
                "# show plot\n",
                "p\n"
            ]
        },
        {
            "cell_type": "markdown",
            "metadata": {},
            "source": [
                "You can create customized polygons by defining longitudes and latitudes. In fact, you can generate very complex polygons like this. However, in this example, we only create a very basic one as a poof-of-concept.\n",
                "\n"
            ]
        },
        {
            "cell_type": "code",
            "execution_count": null,
            "metadata": {},
            "outputs": [],
            "source": [
                "# create data frame with longitude and latitude values\n",
                "lat <- c(-25, -27.5, -25, -30, -30, -35, -25)\n",
                "long <- c(150, 140, 130, 135, 140, 147.5, 150)\n",
                "mypolygon <- as.data.frame(cbind(long, lat))\n",
                "# inspect data\n",
                "mypolygon\n"
            ]
        },
        {
            "cell_type": "markdown",
            "metadata": {},
            "source": [
                "We can now plot out polygon over the map produced above.\n",
                "\n"
            ]
        },
        {
            "cell_type": "code",
            "execution_count": null,
            "metadata": {},
            "outputs": [],
            "source": [
                "p + \n",
                "  geom_polygon(data=mypolygon,\n",
                "               aes(x = long, y = lat),\n",
                "               alpha = 0.2, \n",
                "               colour = \"gray20\", \n",
                "               fill = \"red\") +\n",
                "  ggplot2::annotate(\"text\", \n",
                "                    x = mean(long),\n",
                "                    y = mean(lat),\n",
                "                    label = \"My Polygon Area\", \n",
                "                    colour=\"white\", \n",
                "                    size=3)\n"
            ]
        },
        {
            "cell_type": "markdown",
            "metadata": {},
            "source": [
                "\n",
                "\n"
            ]
        },
        {
            "cell_type": "code",
            "execution_count": null,
            "metadata": {},
            "outputs": [],
            "source": [
                "# install library\n",
                "#install.packages(\"oz\")\n",
                "# activate library\n",
                "library(oz)\n",
                "# show map\n",
                "oz::oz( states=TRUE, col=\"orange\")\n"
            ]
        },
        {
            "cell_type": "markdown",
            "metadata": {},
            "source": [
                "\n",
                "\n"
            ]
        },
        {
            "cell_type": "code",
            "execution_count": null,
            "metadata": {},
            "outputs": [],
            "source": [
                "# DOES NOT WORK: dependency (rnaturalearthhires) not available for R>=4.2\n",
                "# install package\n",
                "#install.packages(\"devtools\")\n",
                "devtools::install_github(\"RobertMyles/flag_fillr\")\n",
                "# activate package\n",
                "library(flagfillr)\n",
                "# map of europe\n",
                "flag_fillr_continent(\"Asia\")\n"
            ]
        },
        {
            "cell_type": "markdown",
            "metadata": {},
            "source": [
                "\n",
                "\n"
            ]
        },
        {
            "cell_type": "code",
            "execution_count": null,
            "metadata": {},
            "outputs": [],
            "source": [
                "# Development version of ggspatial\n",
                "# devtools::install_github(\"paleolimbot/ggspatial\")\n",
                "library(ggspatial)\n",
                "library(ggplot2)\n",
                "library(giscoR)\n",
                "library(dplyr)\n",
                "library(rasterpic)\n",
                "\n",
                "# For country names\n",
                "library(countrycode)\n",
                "\n",
                "world <- gisco_get_countries(epsg = 3857)\n",
                "europe <- gisco_get_countries(region = \"Europe\", epsg = 3857)\n",
                "\n",
                "# Base map of Africa\n",
                "plot <- ggplot(world) +\n",
                "  geom_sf(fill = \"grey90\") +\n",
                "  theme_minimal() +\n",
                "  theme(panel.background = element_rect(fill = \"lightblue\"))\n",
                "\n",
                "plot +\n",
                "  # Zoom on Europe\n",
                "  coord_sf(\n",
                "    xlim = c(-2000000, 5000000),\n",
                "    ylim = c(3500000, 8000000)\n",
                "  )\n"
            ]
        },
        {
            "cell_type": "markdown",
            "metadata": {},
            "source": [
                "\n",
                "\n"
            ]
        },
        {
            "cell_type": "code",
            "execution_count": null,
            "metadata": {},
            "outputs": [],
            "source": [
                "# We paste the ISO2 code to each african country\n",
                "europe$iso2 <- countrycode(europe$ISO3_CODE, \"iso3c\", \"iso2c\")\n",
                "\n",
                "# Get flags from repo - low quality to speed up the code\n",
                "flagrepo <- \"https://raw.githubusercontent.com/hjnilsson/country-flags/master/png250px/\"\n",
                "\n",
                "# Loop and add\n",
                "for (iso in europe$iso2) {\n",
                "  # Download pic and plot\n",
                "  imgurl <- paste0(flagrepo, tolower(iso), \".png\")\n",
                "  tmpfile <- tempfile(fileext = \".png\")\n",
                "  download.file(imgurl, tmpfile, quiet = TRUE, mode = \"wb\")\n",
                "\n",
                "  # Raster\n",
                "  x <- europe %>% filter(iso2 == iso)\n",
                "  x_rast <- rasterpic_img(x, tmpfile, crop = TRUE, mask = TRUE)\n",
                "  plot <- plot + layer_spatial(x_rast)\n",
                "}\n",
                "\n",
                "plot +\n",
                "  geom_sf(data = europe, fill = NA) +\n",
                "  # Zoom on Africa\n",
                "  coord_sf(\n",
                "    xlim = c(-2000000, 5000000),\n",
                "    ylim = c(3500000, 8000000)\n",
                "  )\n"
            ]
        },
        {
            "cell_type": "markdown",
            "metadata": {},
            "source": [
                "We will end this introduction here but if you want to want to learn more, check out the detailed resources for geospatial data visualization using R can be found [here](https://keen-swartz-3146c4.netlify.app/) or [here](https://geocompr.robinlovelace.net/index.html).\n",
                "\n",
                "\n",
                "***\n",
                "\n",
                "[Back to LADAL](https://ladal.edu.au/gviz.html)\n",
                "\n",
                "***\n"
            ]
        }
    ],
    "metadata": {
        "anaconda-cloud": "",
        "kernelspec": {
            "display_name": "R",
            "langauge": "R",
            "name": "ir"
        },
        "language_info": {
            "codemirror_mode": "r",
            "file_extension": ".r",
            "mimetype": "text/x-r-source",
            "name": "R",
            "pygments_lexer": "r",
            "version": "3.4.1"
        }
    },
    "nbformat": 4,
    "nbformat_minor": 1
}
