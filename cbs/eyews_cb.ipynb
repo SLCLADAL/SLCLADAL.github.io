{
    "cells": [
        {
            "cell_type": "markdown",
            "metadata": {},
            "source": "\n"
        },
        {
            "cell_type": "code",
            "execution_count": null,
            "metadata": {},
            "outputs": [],
            "source": [
                "knitr::include_graphics(\"https://slcladal.github.io/images/acqva.jpg\")\n",
                "\n"
            ]
        },
        {
            "cell_type": "markdown",
            "metadata": {},
            "source": [
                "# Introduction{-}\n",
                "\n",
                "This workshop introduces data processing and analysis for eye-tracking data in  R. The R Markdown document for the tutorial can be downloaded [here](https://slcladal.github.io/eyews.Rmd) and the bib library [here](https://slcladal.github.io/bibliography.bib). You can also download a shortened version of the R Markdown document with only contains the processing chain [here](https://slcladal.github.io/etpro.Rmd) ([here](https://slcladal.github.io/etpro.html) is the link to the html file of the document). You will find very helpful and detailed tutorials on how to perform analyses and visualize eye-tracking data using `eyetrackeR` [here](http://www.eyetracking-r.com/). \n",
                "\n",
                "\n",
                "We will go through the following steps:\n",
                "\n",
                "* preparing the analysis\n",
                "* loading and combining xls spreadsheets\n",
                "* determining image boundaries \n",
                "* loading the master file\n",
                "* processing the data\n",
                "  + defining AOIs \n",
                "  + on- as well as off-target gazes\n",
                "  + removing imprecisions\n",
                "  + time binning\n",
                "  + cleaning\n",
                "* visualizing the data\n",
                "* analyzing the data (e.g., using a mixed-effects binomial logistic regression)\n",
                "* using the `eyetrackeR` package for data visualization and analysis\n",
                "\n",
                "We will not address issues relating to adequate sample size and power. If you are interested in that, please check out [this tutorial](https://slcladal.github.io/pwr.html) on the [Language Technology and Data Analysis Laboratory website](https://slcladal.github.io/index.html).\n",
                "\n",
                "## Preparation\n",
                "\n",
                "This tutorial is based on R. If you have not installed R or RStudio or if you are new to either of them, you will find an introduction to and more information how to use R and RStudio [here](https://slcladal.github.io/intror.html). For this tutorials, we need to install certain packages into an R library on our computer so that the scripts shown below are executed without errors. Before turning to the code below, please install the packages by running the code below this paragraph. If you have already installed the packages mentioned below, then you can skip ahead and ignore this section. To install the necessary packages, simply run the following code - it may take some time (between 1 and 5 minutes to install all of the libraries so you do not need to worry if it takes some time).\n"
            ]
        },
        {
            "cell_type": "code",
            "execution_count": null,
            "metadata": {},
            "outputs": [],
            "source": [
                "install.packages(c(\"tidyverse\", \"eyetrackingR\", \"data.table\", \"itsadug\", \"sjPlot\", \"lme4\", \"multcomp\")\n",
                "\n"
            ]
        },
        {
            "cell_type": "markdown",
            "metadata": {},
            "source": [
                "Once you have installed R and RStudio and initiated the session by executing the code shown above, you are good to go.\n",
                "\n",
                "Once you have installed the packages, please load them and set useful options as shown below.\n"
            ]
        },
        {
            "cell_type": "code",
            "execution_count": null,
            "metadata": {},
            "outputs": [],
            "source": [
                "# set options\n",
                "options(stringsAsFactors = F)          # no automatic data transformation\n",
                "options(\"scipen\" = 100, \"digits\" = 10) # suppress math annotation\n",
                "# load packages\n",
                "library(tidyverse)\n",
                "library(eyetrackingR)\n",
                "library(data.table)\n",
                "library(itsadug)\n",
                "library(lme4)\n",
                "library(sjPlot)\n",
                "library(multcomp)\n"
            ]
        },
        {
            "cell_type": "markdown",
            "metadata": {},
            "source": "\n"
        },
        {
            "cell_type": "code",
            "execution_count": null,
            "metadata": {},
            "outputs": [],
            "source": [
                "# load packages for website\n",
                "library(knitr) \n",
                "library(kableExtra) \n",
                "library(DT)\n"
            ]
        },
        {
            "cell_type": "markdown",
            "metadata": {},
            "source": [
                "Now that we have prepared out session, we can start with the data processing.\n",
                "\n",
                "# Data processing\n",
                "\n",
                "During data processing, we load and prepare the data for further analysis and visualization.\n",
                "\n",
                "## Define paths{-}\n",
                "\n",
                "In a first step, we define the paths to the spreadsheets (datapath) and to the masterfile (csv file with information about the experiment). In my case, I have the spreadsheets in a folder called `uploads` which is a folder called `data_exp_50674-v2` in my `data` folder. The masterfile is also in the folder called `data_exp_50674-v2` in my `data` folder but it is not in my `uploads` folder.\n"
            ]
        },
        {
            "cell_type": "code",
            "execution_count": null,
            "metadata": {},
            "outputs": [],
            "source": [
                "datapath <- here::here(\"data/data_exp_50674-v2\", \"uploads\")\n",
                "masterpath <- here::here(\"data/data_exp_50674-v2\", \"data_exp_50674-v2_task-etfm.csv\")\n"
            ]
        },
        {
            "cell_type": "markdown",
            "metadata": {},
            "source": [
                "Now that we have defined the paths, we continue.\n",
                "\n",
                "## Load data{-}\n",
                "\n",
                "In a first step we want to load the data which in our case consists of several spreadsheets (files ending in `xlsx`). \n",
                "\n",
                "We begin by extracting a list of these xlsx files (the paths where these files are located on your computer).\n"
            ]
        },
        {
            "cell_type": "code",
            "execution_count": null,
            "metadata": {},
            "outputs": [],
            "source": [
                "fls <- list.files(datapath, full.names = T)\n",
                "fls <- fls[2:length(fls)]\n",
                "# inspect files\n",
                "head(fls)\n"
            ]
        },
        {
            "cell_type": "markdown",
            "metadata": {},
            "source": [
                "Next, we can use this list (the paths) to load the files. In addition, we will also create two new columns: a column called `idname` which contains the path to the file and a column called `trial` which tells us what trial the data is from.\n",
                "\n"
            ]
        },
        {
            "cell_type": "code",
            "execution_count": null,
            "metadata": {},
            "outputs": [],
            "source": [
                "datls <- lapply(fls, function(x){\n",
                "  name <- x\n",
                "  x <- readxl::read_xlsx(x) %>%\n",
                "    # create id column (contains path)\n",
                "    dplyr::mutate(idname = name) %>%\n",
                "    # code trial\n",
                "    dplyr::mutate(trial = stringr::str_remove_all(name, \".*collection-\"))  %>%\n",
                "    dplyr::mutate(trial = stringr::str_remove_all(trial, \"-.*\"))\n",
                "  })\n",
                "# inspect data\n",
                "head(datls[1])\n"
            ]
        },
        {
            "cell_type": "markdown",
            "metadata": {},
            "source": [
                "We can now merge all the spreadsheets into one file and also add a column called `id` that gives each row a unique identifier. Furthermore, we convert the `participant_id` and the `trial` column into factors.\n",
                "\n"
            ]
        },
        {
            "cell_type": "code",
            "execution_count": null,
            "metadata": {},
            "outputs": [],
            "source": [
                "edat <- data.table::rbindlist(datls) %>%\n",
                "  # add id\n",
                "  dplyr::mutate(id = 1:nrow(.)) %>%\n",
                "  # convert participant_id and trial into factors\n",
                "  dplyr::mutate(participant_id = factor(participant_id),\n",
                "                trial = factor(trial))\n"
            ]
        },
        {
            "cell_type": "markdown",
            "metadata": {},
            "source": "\n"
        },
        {
            "cell_type": "code",
            "execution_count": null,
            "metadata": {},
            "outputs": [],
            "source": [
                "edat %>%\n",
                "  head(6) %>%\n",
                "  kable(caption = \"First 6 rows of edat.\") %>%\n",
                "  kableExtra::kable_styling(bootstrap_options = c(\"striped\", \"hover\", \"condensed\", \"responsive\"), \n",
                "                            full_width = F)\n"
            ]
        },
        {
            "cell_type": "markdown",
            "metadata": {},
            "source": [
                "## Determine image boundaries{-}\n",
                "\n",
                "### Non-normalized{-}\n",
                "\n",
                "In a next step, we define image boundaries. In our example, we are dealing with two images: one to the right and one to the left. We now use the `zone_y`, `zone_x`, `zone_height`, and `zone_width` columns to calculate the edges of the images.\n",
                "\n",
                "* top (upper border) = 246 (zone_y)\n",
                "\n",
                "* bottom (lower border) = 246 + 329 (zone_y + zone_height)\n",
                "\n",
                "* left (left border) = 774 (zone_x)\n",
                "\n",
                "* right (right border) = 774 + 438 (zone_x + zone_width)\n"
            ]
        },
        {
            "cell_type": "code",
            "execution_count": null,
            "metadata": {},
            "outputs": [],
            "source": [
                "ibs <- edat %>%\n",
                "  dplyr::select(participant_id, trial, zone_name, zone_x, zone_y,zone_width, zone_height) %>%\n",
                "  # get rid of superfluous rows\n",
                "  dplyr::filter(zone_name == \"Right\"|zone_name == \"Left\") %>%\n",
                "  na.omit() %>%\n",
                "  # define image boundaries\n",
                "  dplyr::mutate(top = zone_y,\n",
                "                bottom = zone_y + zone_width,\n",
                "                left = zone_x,\n",
                "                right = zone_x + zone_width) %>%\n",
                "  # remove superfluous columns\n",
                "  dplyr::select(-zone_x, -zone_y, -zone_width, -zone_height)\n"
            ]
        },
        {
            "cell_type": "markdown",
            "metadata": {},
            "source": [
                "\n",
                "\n"
            ]
        },
        {
            "cell_type": "code",
            "execution_count": null,
            "metadata": {},
            "outputs": [],
            "source": [
                "ibs %>%\n",
                "  head(10) %>%\n",
                "  kable(caption = \"First 10 rows of ibs.\") %>%\n",
                "  kableExtra::kable_styling(bootstrap_options = c(\"striped\", \"hover\", \"condensed\", \"responsive\"), \n",
                "                            full_width = F)\n"
            ]
        },
        {
            "cell_type": "markdown",
            "metadata": {},
            "source": [
                "### Normalized{-}\n",
                "\n",
                "We can also use the normalized values. \n",
                "\n",
                "***\n",
                ">If you do this, then it is very crucial, that you use **x_pred_normalised** and \t**y_pred_normalised** and **not** *x_pred* and\t*y_pred* in your analysis!\n",
                "\n",
                "***\n",
                "\n",
                "In a next step, we define image boundaries. In our example, we are dealing with two images: one to the right and one to the left. We now use the `zone_y_normalised`, `zone_x_normalised`, `zone_height_normalised`, and `zone_width_normalised` columns to calculate the edges of the images.\n",
                "\n",
                "* top (upper border) = 246 (zone_y_normalised)\n",
                "\n",
                "* bottom (lower border) = 246 + 329 (zone_y_normalised + zone_height_normalised)\n",
                "\n",
                "* left (left border) = 774 (zone_x_normalised)\n",
                "\n",
                "* right (right border) = 774 + 438 (zone_x_normalised + zone_width_normalised)\n"
            ]
        },
        {
            "cell_type": "code",
            "execution_count": null,
            "metadata": {},
            "outputs": [],
            "source": [
                "ibs_norm <- edat %>%\n",
                "  dplyr::select(participant_id, trial, zone_name, zone_x_normalised, \n",
                "                zone_y_normalised, zone_width_normalised, zone_height_normalised) %>%\n",
                "  # get rid of superfluous rows\n",
                "  dplyr::filter(zone_name == \"Right\"|zone_name == \"Left\") %>%\n",
                "  na.omit() %>%\n",
                "  # define image boundaries\n",
                "  dplyr::mutate(top = zone_y_normalised,\n",
                "                bottom = zone_y_normalised + zone_width_normalised,\n",
                "                left = zone_x_normalised,\n",
                "                right = zone_x_normalised + zone_width_normalised) %>%\n",
                "  # remove superfluous columns\n",
                "  dplyr::select(-zone_x_normalised, -zone_y_normalised, -zone_width_normalised, -zone_height_normalised)\n"
            ]
        },
        {
            "cell_type": "markdown",
            "metadata": {},
            "source": [
                "\n",
                "\n"
            ]
        },
        {
            "cell_type": "code",
            "execution_count": null,
            "metadata": {},
            "outputs": [],
            "source": [
                "ibs_norm %>%\n",
                "  head(10) %>%\n",
                "  kable(caption = \"First 10 rows of ibs.\") %>%\n",
                "  kableExtra::kable_styling(bootstrap_options = c(\"striped\", \"hover\", \"condensed\", \"responsive\"), \n",
                "                            full_width = F)\n"
            ]
        },
        {
            "cell_type": "markdown",
            "metadata": {},
            "source": [
                "### Adding edges{-}\n",
                "\n",
                "We now transform the data so that we have the information about the edges in separate columns. Thus, we have four columns for the right and the left image: bottomedge, leftedge, rightedge, and topedge.\n"
            ]
        },
        {
            "cell_type": "code",
            "execution_count": null,
            "metadata": {},
            "outputs": [],
            "source": [
                "ibs <- ibs %>%\n",
                "  dplyr::mutate(position = tolower(zone_name)) %>%\n",
                "  tidyr::gather(edge, coordinate, top:right) %>%\n",
                "  dplyr::mutate(position_edge = paste0(position, \"_\", edge, \"edge\")) %>%\n",
                "  dplyr::select(-zone_name, -position, -edge) %>%\n",
                "  tidyr::spread(position_edge, coordinate) %>%\n",
                "  dplyr::group_by(participant_id, trial) %>%\n",
                "  dplyr::summarise(left_bottomedge = left_bottomedge,\n",
                "                   left_leftedge = left_leftedge,\n",
                "                   left_rightedge = left_rightedge,\n",
                "                   left_topedge = left_topedge,\n",
                "                   right_bottomedge = right_bottomedge,\n",
                "                   right_leftedge = right_leftedge,\n",
                "                   right_rightedge = right_rightedge,\n",
                "                   right_topedge = right_topedge)\n"
            ]
        },
        {
            "cell_type": "markdown",
            "metadata": {},
            "source": [
                "\n",
                "\n"
            ]
        },
        {
            "cell_type": "code",
            "execution_count": null,
            "metadata": {},
            "outputs": [],
            "source": [
                "ibs %>%\n",
                "  head(10) %>%\n",
                "  kable(caption = \"First 10 rows of ibs.\") %>%\n",
                "  kableExtra::kable_styling(bootstrap_options = c(\"striped\", \"hover\", \"condensed\", \"responsive\"), \n",
                "                            full_width = F)\n"
            ]
        },
        {
            "cell_type": "markdown",
            "metadata": {},
            "source": [
                "## Process master file{-}\n",
                "\n",
                "Now that we have processed the data and defined the image boundaries, we load the master file. The master file contains information about the experiment, the individual trials, and the computer and browser used by the participant. We now load master file (in our example this is called `data_exp_50674-v2_task-etfm.csv`) from the folder called `data_exp_50674-v2` which is located in the `data` folder.\n"
            ]
        },
        {
            "cell_type": "code",
            "execution_count": null,
            "metadata": {},
            "outputs": [],
            "source": [
                "mstr <- read_csv(masterpath) %>%\n",
                "  # create participant column that matches the participant column in the data \n",
                "  dplyr::mutate(participant_id = `Participant Private ID`)\n"
            ]
        },
        {
            "cell_type": "markdown",
            "metadata": {},
            "source": "\n"
        },
        {
            "cell_type": "code",
            "execution_count": null,
            "metadata": {},
            "outputs": [],
            "source": [
                "mstr %>%\n",
                "  head(10) %>%\n",
                "  kable(caption = \"First 10 rows of mstr.\") %>%\n",
                "  kableExtra::kable_styling(bootstrap_options = c(\"striped\", \"hover\", \"condensed\", \"responsive\"), \n",
                "                            full_width = F)\n"
            ]
        },
        {
            "cell_type": "markdown",
            "metadata": {},
            "source": [
                "The master file contains a lot of information. As retaining columns with unnecessary information renders it difficult to parse and work with data, we remove columns that we do not need. We would like to retain the following columns though: \n",
                "`participant_id`,  `trial_number`,  `condition`,  `target_gender`,  `target_position`,  `Zone Type`,  `Response`, and  `Correct`.\n"
            ]
        },
        {
            "cell_type": "code",
            "execution_count": null,
            "metadata": {},
            "outputs": [],
            "source": [
                "mstr_redux <- mstr %>%\n",
                "  # select columns you need\n",
                "  dplyr::select(participant_id, `trial number`, condition, target_gender, \n",
                "                target_position, `Zone Type`, Response, Correct, target_item) %>%\n",
                "  # filter unique \n",
                "  unique() %>%\n",
                "  # remove rows containing NA\n",
                "  na.omit() %>%\n",
                "  # filter out superfluous rows\n",
                "  dplyr::filter(`Zone Type` == \"response_button_image\") %>%\n",
                "  dplyr::rename(trial = `trial number`) %>%\n",
                "  dplyr::mutate(trial = as.character(trial)) %>%\n",
                "  # convert participant_id and trial into factors\n",
                "  dplyr::mutate(participant_id = factor(participant_id),\n",
                "                trial = factor(trial))\n"
            ]
        },
        {
            "cell_type": "markdown",
            "metadata": {},
            "source": "\n"
        },
        {
            "cell_type": "code",
            "execution_count": null,
            "metadata": {},
            "outputs": [],
            "source": [
                "mstr_redux %>%\n",
                "  head(10) %>%\n",
                "  kable(caption = \"First 10 rows of mstr_redux.\") %>%\n",
                "  kableExtra::kable_styling(bootstrap_options = c(\"striped\", \"hover\", \"condensed\", \"responsive\"), \n",
                "                            full_width = F)\n"
            ]
        },
        {
            "cell_type": "markdown",
            "metadata": {},
            "source": [
                "## Join data and masterfile{-}\n",
                "\n",
                "The next step consists in joining (or merging) the data (`edat`) with the information about the image boundaries (`ibs`). Before joining these two data sets, we will clean the dat in the `edat` file by \n",
                "\n",
                "* removing columns we do not need\n",
                "\n",
                "* factorizing participants and trials\n",
                "\n",
                "* removing rows without gaze information\n"
            ]
        },
        {
            "cell_type": "code",
            "execution_count": null,
            "metadata": {},
            "outputs": [],
            "source": [
                "edat <- edat %>%\n",
                "  # remove superfluous columns\n",
                "  dplyr::select(-`0`, -filename, -spreadsheet_row, -time_stamp, -screen_index, \n",
                "                -convergence, -zone_x, -zone_y, -zone_width,\n",
                "                -zone_height, -zone_x_normalised, -zone_y_normalised, -zone_width_normalised,\n",
                "                -zone_height_normalised, -idname, \n",
                "                \n",
                "                # WARNING: If you work with normalized values, REPLACE the following \n",
                "                # with their non-normalized counterparts!\n",
                "                \n",
                "                -x_pred_normalised, -y_pred_normalised) %>%\n",
                "  # convert participant_id and trial into factors\n",
                "  dplyr::mutate(participant_id = factor(participant_id),\n",
                "                trial = factor(trial)) %>%\n",
                "  # remove rows without gaze information\n",
                "  dplyr::filter(x_pred != 0,\n",
                "                y_pred != 0)\n"
            ]
        },
        {
            "cell_type": "markdown",
            "metadata": {},
            "source": [
                "\n",
                "\n"
            ]
        },
        {
            "cell_type": "code",
            "execution_count": null,
            "metadata": {},
            "outputs": [],
            "source": [
                "edat %>%\n",
                "  head(10) %>%\n",
                "  kable(caption = \"First 10 rows of edat.\") %>%\n",
                "  kableExtra::kable_styling(bootstrap_options = c(\"striped\", \"hover\", \"condensed\", \"responsive\"), \n",
                "                            full_width = F)\n"
            ]
        },
        {
            "cell_type": "markdown",
            "metadata": {},
            "source": [
                "Now, we can join (or merge) `edat` with `ibs` (image boundaries).\n",
                "\n"
            ]
        },
        {
            "cell_type": "code",
            "execution_count": null,
            "metadata": {},
            "outputs": [],
            "source": [
                "edatibs <- left_join(edat, ibs, by = c(\"participant_id\", \"trial\"))\n",
                "\n"
            ]
        },
        {
            "cell_type": "markdown",
            "metadata": {},
            "source": "\n"
        },
        {
            "cell_type": "code",
            "execution_count": null,
            "metadata": {},
            "outputs": [],
            "source": [
                "edatibs %>%\n",
                "  head(10) %>%\n",
                "  kable(caption = \"First 10 rows of edatibs.\") %>%\n",
                "  kableExtra::kable_styling(bootstrap_options = c(\"striped\", \"hover\", \"condensed\", \"responsive\"), \n",
                "                            full_width = F)\n"
            ]
        },
        {
            "cell_type": "markdown",
            "metadata": {},
            "source": [
                "## Remove imprecision{-}\n",
                "\n",
                "It is also useful, to remove data points that have low precision. We thus remove data points with a predicted accuracy lower than .5 (`face_conf` should greater than .5).\n"
            ]
        },
        {
            "cell_type": "code",
            "execution_count": null,
            "metadata": {},
            "outputs": [],
            "source": [
                "edatibs <- edatibs %>%\n",
                "  # filter imprecise data points\n",
                "  dplyr::filter(face_conf >= .5)\n",
                "# inspect\n",
                "head(edatibs)\n"
            ]
        },
        {
            "cell_type": "markdown",
            "metadata": {},
            "source": "\n"
        },
        {
            "cell_type": "code",
            "execution_count": null,
            "metadata": {},
            "outputs": [],
            "source": [
                "edatibs %>%\n",
                "  head(5) %>%\n",
                "  kable(caption = \"First 5 rows of edatibs.\") %>%\n",
                "  kableExtra::kable_styling(bootstrap_options = c(\"striped\", \"hover\", \"condensed\", \"responsive\"), \n",
                "                            full_width = F)\n"
            ]
        },
        {
            "cell_type": "markdown",
            "metadata": {},
            "source": [
                "## Combining the data and metadata{-}\n",
                "\n",
                "Now we combine the collected data (`edatibs` = `edat` plus image boundaries `ibs`) with the metadata (the information from the reduced master file `mstr_redux`)\n"
            ]
        },
        {
            "cell_type": "code",
            "execution_count": null,
            "metadata": {},
            "outputs": [],
            "source": [
                "dat <- dplyr::left_join(edatibs, mstr_redux, by = c(\"participant_id\", \"trial\"))\n",
                "# inspect\n",
                "head(dat)\n"
            ]
        },
        {
            "cell_type": "markdown",
            "metadata": {},
            "source": "\n"
        },
        {
            "cell_type": "code",
            "execution_count": null,
            "metadata": {},
            "outputs": [],
            "source": [
                "dat %>%\n",
                "  head(10) %>%\n",
                "  kable(caption = \"First 10 rows of dat.\") %>%\n",
                "  kableExtra::kable_styling(bootstrap_options = c(\"striped\", \"hover\", \"condensed\", \"responsive\"), \n",
                "                            full_width = F)\n"
            ]
        },
        {
            "cell_type": "markdown",
            "metadata": {},
            "source": [
                "## AOI\n",
                "\n",
                "We now use the edges of the images to determine if gazes were in the AOI\n"
            ]
        },
        {
            "cell_type": "code",
            "execution_count": null,
            "metadata": {},
            "outputs": [],
            "source": [
                "dat <- dat %>%\n",
                "  # determine if participant's gaze was in AOI\n",
                "  dplyr::mutate(AOI = ifelse(\n",
                "    # if target is left image\n",
                "    target_position == \"left\" &\n",
                "      y_pred > left_topedge & \n",
                "      y_pred < left_bottomedge & \n",
                "      x_pred > left_leftedge & \n",
                "      x_pred < left_rightedge, 1,\n",
                "    # if target is right image\n",
                "    ifelse(target_position == \"right\" &\n",
                "             y_pred > right_topedge   & \n",
                "             y_pred < right_bottomedge &\n",
                "             x_pred  > right_leftedge & \n",
                "             x_pred <  right_rightedge, 1,\n",
                "           0)))\n"
            ]
        },
        {
            "cell_type": "markdown",
            "metadata": {},
            "source": "\n"
        },
        {
            "cell_type": "code",
            "execution_count": null,
            "metadata": {},
            "outputs": [],
            "source": [
                "dat %>%\n",
                "  head(5) %>%\n",
                "  kable(caption = \"First 5 rows of dat.\") %>%\n",
                "  kableExtra::kable_styling(bootstrap_options = c(\"striped\", \"hover\", \"condensed\", \"responsive\"), \n",
                "                            full_width = F)\n"
            ]
        },
        {
            "cell_type": "markdown",
            "metadata": {},
            "source": [
                "## Binning{-}\n",
                "\n",
                "Define time bins (here 100 ms)\n"
            ]
        },
        {
            "cell_type": "code",
            "execution_count": null,
            "metadata": {},
            "outputs": [],
            "source": [
                "dat <- dat %>%\n",
                "  # arrange by participant, trial, and time\n",
                "  dplyr::arrange(participant_id, trial, time_elapsed) %>%\n",
                "  # bin times into .2 time bins\n",
                "  dplyr::mutate(TimeBin = itsadug::timeBins(time_elapsed, 100, pos=0))\n"
            ]
        },
        {
            "cell_type": "markdown",
            "metadata": {},
            "source": "\n"
        },
        {
            "cell_type": "code",
            "execution_count": null,
            "metadata": {},
            "outputs": [],
            "source": [
                "dat %>%\n",
                "  head(5) %>%\n",
                "  kable(caption = \"First 5 rows of dat.\") %>%\n",
                "  kableExtra::kable_styling(bootstrap_options = c(\"striped\", \"hover\", \"condensed\", \"responsive\"), \n",
                "                            full_width = F)\n"
            ]
        },
        {
            "cell_type": "markdown",
            "metadata": {},
            "source": [
                "## Cleaning{-}\n",
                "\n"
            ]
        },
        {
            "cell_type": "code",
            "execution_count": null,
            "metadata": {},
            "outputs": [],
            "source": [
                "dat <- dat %>%\n",
                "  # clean condition (spelling error!)\n",
                "  dplyr::mutate(condition = dplyr::case_when(condition == \"color\" ~ \"color\",\n",
                "                                             condition == \"same\" ~ \"same\",\n",
                "                                             condition == \"different\" ~ \"different\",\n",
                "                                             condition == \"differernt\" ~ \"different\",\n",
                "                                             TRUE ~ condition)) %>%\n",
                "  # change correct from 0 vs 1 into correct vs incorrect\n",
                "  dplyr::mutate(Correct = ifelse(Correct == 1, \"Correct\",\n",
                "                                 ifelse(Correct == 0, \"Incorrect\", Correct)),\n",
                "                Correct = factor(Correct))\n"
            ]
        },
        {
            "cell_type": "markdown",
            "metadata": {},
            "source": "\n"
        },
        {
            "cell_type": "code",
            "execution_count": null,
            "metadata": {},
            "outputs": [],
            "source": [
                "dat %>%\n",
                "  head(5) %>%\n",
                "  kable(caption = \"First 5 rows of dat.\") %>%\n",
                "  kableExtra::kable_styling(bootstrap_options = c(\"striped\", \"hover\", \"condensed\", \"responsive\"), \n",
                "                            full_width = F)\n"
            ]
        },
        {
            "cell_type": "markdown",
            "metadata": {},
            "source": [
                "## Getting rid of incorrect observations\n",
                "\n"
            ]
        },
        {
            "cell_type": "code",
            "execution_count": null,
            "metadata": {},
            "outputs": [],
            "source": [
                "dat <- dat %>%\n",
                "  dplyr::filter(Correct != \"Incorrect\")\n"
            ]
        },
        {
            "cell_type": "markdown",
            "metadata": {},
            "source": [
                "\n",
                "\n"
            ]
        },
        {
            "cell_type": "code",
            "execution_count": null,
            "metadata": {},
            "outputs": [],
            "source": [
                "dat %>%\n",
                "  head(5) %>%\n",
                "  kable(caption = \"First 5 rows of dat.\") %>%\n",
                "  kableExtra::kable_styling(bootstrap_options = c(\"striped\", \"hover\", \"condensed\", \"responsive\"), \n",
                "                            full_width = F)\n"
            ]
        },
        {
            "cell_type": "markdown",
            "metadata": {},
            "source": [
                "#' Saving the data{-}\n",
                "\n",
                "You can now save the data in your `data` folder, if you like.\n"
            ]
        },
        {
            "cell_type": "code",
            "execution_count": null,
            "metadata": {},
            "outputs": [],
            "source": [
                "write.table(dat, here::here(\"data\", \"dat.txt\"), sep = \"\\t\", row.names = F)\n",
                "\n"
            ]
        },
        {
            "cell_type": "markdown",
            "metadata": {},
            "source": [
                "To re-load this data, you would have use the following command:\n",
                "\n"
            ]
        },
        {
            "cell_type": "code",
            "execution_count": null,
            "metadata": {},
            "outputs": [],
            "source": [
                "reload <- read.delim(here::here(\"data\", \"dat.txt\"), sep = \"\\t\")\n",
                "# inspect\n",
                "reload[1:4, 1:4]\n"
            ]
        },
        {
            "cell_type": "markdown",
            "metadata": {},
            "source": [
                "# Data Viz\n",
                "\n",
                "Prepare data for a visualization\n"
            ]
        },
        {
            "cell_type": "code",
            "execution_count": null,
            "metadata": {},
            "outputs": [],
            "source": [
                "f1 <- dat %>%\n",
                "  # remove \"weird\" data points\n",
                "  dplyr::filter(x_pred > 0,\n",
                "                y_pred > 0,\n",
                "                time_elapsed < 4200) %>%\n",
                "  # grouping\n",
                "  dplyr::group_by(condition, TimeBin, Correct, target_gender) %>%\n",
                "  # summarise: calculate proportion of looks in AOI\n",
                "  dplyr::summarise(Proportion = mean(AOI))\n",
                "# inspect data\n",
                "head(f1, 10)\n"
            ]
        },
        {
            "cell_type": "markdown",
            "metadata": {},
            "source": "\n"
        },
        {
            "cell_type": "code",
            "execution_count": null,
            "metadata": {},
            "outputs": [],
            "source": [
                "f1 %>%\n",
                "  head(5) %>%\n",
                "  kable(caption = \"First 5 rows of f1.\") %>%\n",
                "  kableExtra::kable_styling(bootstrap_options = c(\"striped\", \"hover\", \"condensed\", \"responsive\"), \n",
                "                            full_width = F)\n"
            ]
        },
        {
            "cell_type": "markdown",
            "metadata": {},
            "source": [
                "## Line plot{-}\n",
                "\n"
            ]
        },
        {
            "cell_type": "code",
            "execution_count": null,
            "metadata": {},
            "outputs": [],
            "source": [
                "ggplot(f1, aes(y = Proportion, x = TimeBin, color = condition)) +\n",
                "  # lines for proportions\n",
                "  geom_line() +\n",
                "  # add vertical line\n",
                "  geom_vline(xintercept = 1900, linetype=\"dotted\", color = \"darkgrey\", size=.75) +\n",
                "  # add vertical line\n",
                "  geom_vline(xintercept = 3450, linetype=\"dotted\", color = \"darkgrey\", size=.75) +\n",
                "  # add text\n",
                "  ggplot2::annotate(geom = \"text\", label = \"Object\", x = 2800, y = .85, color = \"gray20\", size = 5) +\n",
                "  # separate panels for each target_gender\n",
                "  facet_grid(target_gender ~ .) +\n",
                "  # black and white theme\n",
                "  theme_bw() + \n",
                "  # no grid lines\n",
                "  theme(panel.grid.major = element_blank(), \n",
                "        panel.grid.minor = element_blank(),\n",
                "        legend.position = \"top\",\n",
                "        # define x-axis tick labels\n",
                "        axis.text.x = element_text(angle = 45, vjust=0.6, size = 10)) +\n",
                "  # define x-axis\n",
                "  scale_x_continuous(name = \"Time in Trial (ms)\", \n",
                "                     limits = c(0,4000), \n",
                "                     breaks = seq(0,4000,1000), \n",
                "                     labels = seq(0, 4000, 1000)) +\n",
                "  # define y-axis\n",
                "  scale_y_continuous(name = \"Proportion in AOI\", \n",
                "                     limits = c(0, 1), \n",
                "                     breaks = seq(0, 1,.2), \n",
                "                     labels = seq(0, 1, .2)) +\n",
                "  # save plot\n",
                "  ggsave(file = here::here(\"images\",\"Fig01.png\"), \n",
                "       height = 5,  width = 10,  dpi = 320)\n"
            ]
        },
        {
            "cell_type": "markdown",
            "metadata": {},
            "source": [
                "## Lineplot with errorbars\n",
                "\n"
            ]
        },
        {
            "cell_type": "code",
            "execution_count": null,
            "metadata": {},
            "outputs": [],
            "source": [
                "# scatter plot with error bars\n",
                "ggplot(dat, aes(x=TimeBin, y= AOI,  group = condition, color = condition)) +                 \n",
                "  stat_summary(fun = mean, geom = \"line\", aes(group= condition, color = condition)) +          \n",
                "  stat_summary(fun.data = mean_cl_boot, geom = \"errorbar\", width = 0.2) +\n",
                "  # add vertical line\n",
                "  geom_vline(xintercept = 1900, linetype=\"dotted\", color = \"darkgrey\", size=.75) +\n",
                "  # add vertical line\n",
                "  geom_vline(xintercept = 3450, linetype=\"dotted\", color = \"darkgrey\", size=.75) +\n",
                "  # add text\n",
                "  ggplot2::annotate(geom = \"text\", label = \"Object\", x = 2800, y = .85, color = \"gray20\", size = 5) +            \n",
                "  # def. font size\n",
                "  theme_bw(base_size = 15) +  \n",
                "  theme(axis.text.x = element_text(size=10, angle = 90),  \n",
                "        axis.text.y = element_text(size=10, face=\"plain\"),\n",
                "        legend.position = \"top\",\n",
                "        panel.grid.major = element_blank(), \n",
                "        panel.grid.minor = element_blank()) +  \n",
                "  # define x-axis\n",
                "  scale_x_continuous(name = \"Time in Trial (ms)\", \n",
                "                     limits = c(0,4000), \n",
                "                     breaks = seq(0,4000,1000), \n",
                "                     labels = seq(0, 4000, 1000)) +\n",
                "  # define y-axis\n",
                "  scale_y_continuous(name = \"Proportion in AOI\", \n",
                "                     limits = c(0, 1), \n",
                "                     breaks = seq(0, 1,.2), \n",
                "                     labels = seq(0, 1, .2)) +\n",
                "  # save plot\n",
                "  ggsave(file = here::here(\"images\",\"Fig02.png\"), \n",
                "       height = 5,  width = 10,  dpi = 320)    \n"
            ]
        },
        {
            "cell_type": "markdown",
            "metadata": {},
            "source": [
                "## Smoothed line plot{-}\n",
                "\n"
            ]
        },
        {
            "cell_type": "code",
            "execution_count": null,
            "metadata": {},
            "outputs": [],
            "source": [
                "ggplot(f1, aes(y = Proportion, x = TimeBin, color = condition, fill = condition)) +\n",
                "  # lines for proportions\n",
                "  geom_smooth(span = .2, alpha = .2) +\n",
                "  # add vertical line\n",
                "  geom_vline(xintercept = 1900, linetype=\"dotted\", color = \"darkgrey\", size=.75) +\n",
                "  # add vertical line\n",
                "  geom_vline(xintercept = 3450, linetype=\"dotted\", color = \"darkgrey\", size=.75) +\n",
                "  # add text\n",
                "  ggplot2::annotate(geom = \"text\", label = \"Object\", x = 2700, y = 1.1, color = \"gray20\", size = 5) +\n",
                "  # separate panels for each condition\n",
                "  facet_grid(~target_gender) +\n",
                "  # black and white theme\n",
                "  theme_bw() + \n",
                "  # no grid lines\n",
                "  theme(panel.grid.major = element_blank(), \n",
                "        panel.grid.minor = element_blank(),\n",
                "        legend.position = \"top\",\n",
                "        # define x-axis tick labels\n",
                "        axis.text.x = element_text(angle = 45, vjust=0.6, size = 10)) +\n",
                "  # define x-axis\n",
                "  scale_x_continuous(name = \"Time in Trial (ms)\", \n",
                "                     limits = c(0,4000), \n",
                "                     breaks = seq(0,4000,1000), \n",
                "                     labels = seq(0, 4000, 1000)) +\n",
                "  # define y-axis\n",
                "  scale_y_continuous(name = \"Proportion in AOI\", \n",
                "                     limits = c(-.3, 1.2), \n",
                "                     breaks = seq(-.1, 1,.2), \n",
                "                     labels = seq(0, 1, .2)) +\n",
                "  # save plot\n",
                "  ggsave(file = here::here(\"images\",\"Fig03.png\"), \n",
                "       height = 5,  width = 10,  dpi = 320)\n"
            ]
        },
        {
            "cell_type": "markdown",
            "metadata": {},
            "source": [
                "# Statz\n",
                "\n",
                "We use a mixed-effects binomial logistic regression, to check if the conditions affect the proportion of AOI gazes during a period of interest (after the stimulus was shown).\n",
                "\n",
                "We go over this without much explanation. However, if you want to know more about how mixed-effects model work, what to consider, and how to interpret them, @gries2021statistics, @winter2019statistics, or @field2012discovering are highly recommendable resources! You can also find additional information [here](https://slcladal.github.io/mmws.html) or [here](https://slcladal.github.io/regression.html#2_Mixed-Effects_Regression).\n"
            ]
        },
        {
            "cell_type": "code",
            "execution_count": null,
            "metadata": {},
            "outputs": [],
            "source": [
                "# set options\n",
                "options(contrasts  = c(\"contr.treatment\", \"contr.poly\"))\n",
                "#options(contrasts  = c(\"contr.helmert\", \"contr.poly\"))\n",
                "#options(contrasts  = c(\"contr.sum\", \"contr.poly\"))\n"
            ]
        },
        {
            "cell_type": "markdown",
            "metadata": {},
            "source": [
                "\n",
                "\n"
            ]
        },
        {
            "cell_type": "code",
            "execution_count": null,
            "metadata": {},
            "outputs": [],
            "source": [
                "statzdat <- dat %>%\n",
                "  dplyr::filter(time_elapsed > 1900 &\n",
                "                  time_elapsed < 3450)\n"
            ]
        },
        {
            "cell_type": "markdown",
            "metadata": {},
            "source": [
                "Generate base-line model.\n",
                "\n"
            ]
        },
        {
            "cell_type": "code",
            "execution_count": null,
            "metadata": {},
            "outputs": [],
            "source": [
                "# generate model\n",
                "m0 <- glmer(AOI ~ (1  | trial) + (1 | target_item), \n",
                "                  family = binomial, \n",
                "                  data = statzdat, \n",
                "                  control=glmerControl(optimizer=\"bobyqa\"))\n"
            ]
        },
        {
            "cell_type": "markdown",
            "metadata": {},
            "source": [
                "Generate final model.\n",
                "\n"
            ]
        },
        {
            "cell_type": "code",
            "execution_count": null,
            "metadata": {},
            "outputs": [],
            "source": [
                "# generate model\n",
                "m1 <- update(m0, .~.+ condition * target_gender)\n"
            ]
        },
        {
            "cell_type": "markdown",
            "metadata": {},
            "source": [
                "Summarize the final model.\n",
                "\n"
            ]
        },
        {
            "cell_type": "code",
            "execution_count": null,
            "metadata": {},
            "outputs": [],
            "source": [
                "# generate model\n",
                "summary(m1)\n"
            ]
        },
        {
            "cell_type": "markdown",
            "metadata": {},
            "source": [
                "Run Post-hoc tests\n",
                "\n"
            ]
        },
        {
            "cell_type": "code",
            "execution_count": null,
            "metadata": {},
            "outputs": [],
            "source": [
                "summary(glht(m1, mcp(condition=\"Tukey\")))\n",
                "\n"
            ]
        },
        {
            "cell_type": "markdown",
            "metadata": {},
            "source": [
                "We now tabulate the results of the final model.\n",
                "\n"
            ]
        },
        {
            "cell_type": "code",
            "execution_count": null,
            "metadata": {},
            "outputs": [],
            "source": [
                "# generate summary table\n",
                "sjPlot::tab_model(m0, m1)\n"
            ]
        },
        {
            "cell_type": "markdown",
            "metadata": {},
            "source": [
                "***\n",
                "\n",
                "And we visualize the fixed effects.\n"
            ]
        },
        {
            "cell_type": "code",
            "execution_count": null,
            "metadata": {},
            "outputs": [],
            "source": [
                "sjPlot::plot_model(m1)\n",
                "\n"
            ]
        },
        {
            "cell_type": "markdown",
            "metadata": {},
            "source": [
                "# eyetrackeR\n",
                "\n",
                "Once the data is in in a proper format, we can also use the `eyetrackeR` package for our analysis. The advantage of using the `eyetrackeR` package is that is has many in-built functions that make the analysis of eye-tracking data a lot easier. Also, there are [very helpful and detailed tutorials](http://www.eyetracking-r.com/) on how to perform analyses and visualize eye-tracking data using `eyetrackeR`.\n",
                "\n",
                "Before we can use the `eyetrackeR` package, however, we need to create certain columns in our data that the `eyetrackeR` package expects.  \n",
                "\n",
                "In our case, we need to create a \n",
                "\n",
                "* column specifying if a gaze was in the AOI (which we will call `OnTarget`)\n",
                "\n",
                "* column specifying if a gaze was not in  the AOI (which we will call `OffTarget`).\n",
                "\n",
                "* `trackloss_column` (which we will call `Trackloss`). This column contains information about data point that we want to remove during the analysis. In our case, we will code data points that have negative x- and y-coordinates as well as data points that occurred after 4200ms as TRUE (meaning that we consider them cases of trackloss).\n"
            ]
        },
        {
            "cell_type": "code",
            "execution_count": null,
            "metadata": {},
            "outputs": [],
            "source": [
                "dat <- dat %>%\n",
                "  dplyr::mutate(TrackLoss = dplyr::case_when(x_pred < 0 ~ TRUE,\n",
                "                                             y_pred < 0 ~ TRUE,\n",
                "                                             time_elapsed > 4200 ~ TRUE,\n",
                "                                             TRUE ~ FALSE)) %>%\n",
                "  dplyr::mutate(OnTarget = dplyr::case_when(AOI == 1 ~ 1,\n",
                "                                            TRUE ~ 0),\n",
                "                OffTarget = dplyr::case_when(AOI == 1 ~ 0,\n",
                "                                            TRUE ~ 1))\n"
            ]
        },
        {
            "cell_type": "markdown",
            "metadata": {},
            "source": [
                "Now that we have generated the required columns in our data, we can generate an `eyetrackingr_data` and specify the columns that the `eyetraceR` package wants us to specify.\n",
                "\n"
            ]
        },
        {
            "cell_type": "code",
            "execution_count": null,
            "metadata": {},
            "outputs": [],
            "source": [
                "data <- make_eyetrackingr_data(dat, \n",
                "                       participant_column = \"participant_id\",\n",
                "                       trial_column = \"trial\",\n",
                "                       time_column = \"time_elapsed\",\n",
                "                       trackloss_column = \"TrackLoss\",\n",
                "                       aoi_columns = c('OnTarget','OffTarget'),\n",
                "                       treat_non_aoi_looks_as_missing = TRUE\n",
                ")\n",
                "# inspect data\n",
                "head(data)\n"
            ]
        },
        {
            "cell_type": "markdown",
            "metadata": {},
            "source": [
                "We can also tabulate the number of `*on target* gazes that remain in the data using the `table` function.\n",
                "\n"
            ]
        },
        {
            "cell_type": "code",
            "execution_count": null,
            "metadata": {},
            "outputs": [],
            "source": [
                "table(data$OnTarget)\n",
                "\n"
            ]
        },
        {
            "cell_type": "markdown",
            "metadata": {},
            "source": [
                "In a next step, we specify the window that we want to inspect (in our case, we want to check the window starting at 1900 ms and ending at 3450 ms).\n",
                "\n"
            ]
        },
        {
            "cell_type": "code",
            "execution_count": null,
            "metadata": {},
            "outputs": [],
            "source": [
                "# subset to response window post word-onset\n",
                "response_window <- subset_by_window(data, \n",
                "                                    window_start_time = 1900, \n",
                "                                    window_end_time = 3450, \n",
                "                                    rezero = FALSE)\n"
            ]
        },
        {
            "cell_type": "markdown",
            "metadata": {},
            "source": [
                "We now check to see if we need to remove data points.\n",
                "\n"
            ]
        },
        {
            "cell_type": "code",
            "execution_count": null,
            "metadata": {},
            "outputs": [],
            "source": [
                "# analyze amount of trackloss by subjects and trials\n",
                "(trackloss <- trackloss_analysis(data = response_window))\n"
            ]
        },
        {
            "cell_type": "markdown",
            "metadata": {},
            "source": [
                "Remove trackloss (trial_prop_thresh greater than or equal to .25).\n",
                "\n"
            ]
        },
        {
            "cell_type": "code",
            "execution_count": null,
            "metadata": {},
            "outputs": [],
            "source": [
                "# remove trials with > 25% of trackloss\n",
                "response_window_clean <- clean_by_trackloss(data = response_window, \n",
                "                                            trial_prop_thresh = .25)\n"
            ]
        },
        {
            "cell_type": "markdown",
            "metadata": {},
            "source": [
                "Extract response data.\n",
                "\n"
            ]
        },
        {
            "cell_type": "code",
            "execution_count": null,
            "metadata": {},
            "outputs": [],
            "source": [
                "# aggregate across trials within subjects in time analysis\n",
                "response <- make_time_sequence_data(response_window_clean, \n",
                "                                    time_bin_size = 50,\n",
                "                                    predictor_columns = c(\"condition\", \"Correct\"),\n",
                "                                    aois = c(\"OnTarget\", \"OffTarget\")\n",
                "                            )\n"
            ]
        },
        {
            "cell_type": "markdown",
            "metadata": {},
            "source": [
                "Visualize response data.\n",
                "\n"
            ]
        },
        {
            "cell_type": "code",
            "execution_count": null,
            "metadata": {},
            "outputs": [],
            "source": [
                "# visualize time results\n",
                "plot(response, \n",
                "     predictor_column = \"condition\") + \n",
                "  theme_light() +\n",
                "  coord_cartesian(ylim = c(0,1))\n"
            ]
        },
        {
            "cell_type": "markdown",
            "metadata": {},
            "source": [
                "# Citation & Session Info {-}\n",
                "\n",
                "Schweinberger, Martin. `r format(Sys.time(), '%Y')`. *Processing and Analyzing Eye-Tracking Data in R. Workshop at UIT AcqVA Aurora*. Tromsø: The Artic University of Norway. url: https://slcladal.github.io/eyews.html (Version `r format(Sys.time(), '%Y.%m.%d')`).\n"
            ]
        },
        {
            "cell_type": "code",
            "execution_count": null,
            "metadata": {},
            "outputs": [],
            "source": [
                "@manual{schweinberger`r format(Sys.time(), '%Y')`eyews,\n",
                "  author = {Schweinberger, Martin},\n",
                "  title = {Processing and Analyzing Eye-Tracking Data in R},\n",
                "  note = {https://slcladal.github.io/eyews.html},\n",
                "  year = {2021},\n",
                "  organization = \"Arctic University of Norway, AcqVA Aurora Center},\n",
                "  address = {Tromsø},\n",
                "  edition = {`r format(Sys.time(), '%Y.%m.%d')`}\n",
                "}\n"
            ]
        },
        {
            "cell_type": "markdown",
            "metadata": {},
            "source": "\n"
        },
        {
            "cell_type": "code",
            "execution_count": null,
            "metadata": {},
            "outputs": [],
            "source": [
                "sessionInfo()\n",
                "\n"
            ]
        },
        {
            "cell_type": "markdown",
            "metadata": {},
            "source": [
                "***\n",
                "\n",
                "[Back to top](#introduction)\n",
                "\n",
                "***\n",
                "\n",
                "# References{-}\n"
            ]
        }
    ],
    "metadata": {
        "anaconda-cloud": "",
        "kernelspec": {
            "display_name": "R",
            "langauge": "R",
            "name": "ir"
        },
        "language_info": {
            "codemirror_mode": "r",
            "file_extension": ".r",
            "mimetype": "text/x-r-source",
            "name": "R",
            "pygments_lexer": "r",
            "version": "3.4.1"
        }
    },
    "nbformat": 4,
    "nbformat_minor": 1
}
