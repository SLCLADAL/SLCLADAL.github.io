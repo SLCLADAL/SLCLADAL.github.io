{
    "cells": [
        {
            "cell_type": "markdown",
            "metadata": {},
            "source": [
                "This is a test notebook to see how to convert a R markdown document (a R Notebook) into a Jupyter Notebook.\n",
                "\n",
                "On the conversion from a Rmd to a ipynb, we can find several answers on StackOverflow suggesting, for example, [this procedure](https://stackoverflow.com/questions/57777009/how-can-i-convert-a-rmd-document-to-a-jupyter-notebook):\n",
                "\n",
                ">\n",
                ">After checking the silver bullet seems to be jupytext It allows you to convert from/to mardown, rmarkdown, python, ipynb, ... This can actually allow you a pretty neat workflow\n",
                ">\n",
                ">    1. write a simple R script.R script that you can spin into a Rmd document\n",
                ">    2. use knitr::spin('script.R', knit = FALSE) to transform it to Rmd\n",
                ">    3. use jupytext --to notebook script.Rmd to create script.ipynb\n",
                ">    4. share or execute the notebook\n",
                ">\n",
                "\n",
                "However, this did not work and we us this approach that is described [here](https://medium.datadriveninvestor.com/transforming-your-rmd-to-ipynb-file-r-markdown-to-python-jupyter-b1306646f50b) .\n"
            ]
        },
        {
            "cell_type": "code",
            "execution_count": null,
            "metadata": {},
            "outputs": [],
            "source": [
                "install.packages(\"here\")\n",
                "install.packages(\"devtools\")\n"
            ]
        },
        {
            "cell_type": "markdown",
            "metadata": {},
            "source": "\n"
        },
        {
            "cell_type": "code",
            "execution_count": null,
            "metadata": {},
            "outputs": [],
            "source": [
                "library(devtools)\n",
                "devtools::install_github(\"mkearney/rmd2jupyter\")\n"
            ]
        },
        {
            "cell_type": "markdown",
            "metadata": {},
            "source": [
                "Load packages\n",
                "\n"
            ]
        },
        {
            "cell_type": "code",
            "execution_count": null,
            "metadata": {},
            "outputs": [],
            "source": [
                "# activate packages\n",
                "library(here)\n",
                "library(devtools)\n",
                "library(rmd2jupyter)\n"
            ]
        },
        {
            "cell_type": "markdown",
            "metadata": {},
            "source": [
                "Generate list of Rmd files\n",
                "\n"
            ]
        },
        {
            "cell_type": "code",
            "execution_count": null,
            "metadata": {},
            "outputs": [],
            "source": [
                "ladalrmds <- list.files(pattern = \".Rmd\")\n",
                "ladalrmds\n"
            ]
        },
        {
            "cell_type": "markdown",
            "metadata": {},
            "source": [
                "\n",
                "\n"
            ]
        },
        {
            "cell_type": "code",
            "execution_count": null,
            "metadata": {},
            "outputs": [],
            "source": [
                "# convert 1 notebook\n",
                "rmd2jupyter::rmd2jupyter(\"convertrmd2jupyter.Rmd\")\n"
            ]
        },
        {
            "cell_type": "markdown",
            "metadata": {},
            "source": [
                "This worked and a ipynb-file is now in our directory.\n",
                "\n"
            ]
        },
        {
            "cell_type": "code",
            "execution_count": null,
            "metadata": {},
            "outputs": [],
            "source": [
                "# convert many notebooks\n",
                "for (f in ladalrmds) rmd2jupyter::rmd2jupyter(f)\n"
            ]
        },
        {
            "cell_type": "markdown",
            "metadata": {},
            "source": [
                "\n",
                "\n"
            ]
        }
    ],
    "metadata": {
        "anaconda-cloud": "",
        "kernelspec": {
            "display_name": "R",
            "langauge": "R",
            "name": "ir"
        },
        "language_info": {
            "codemirror_mode": "r",
            "file_extension": ".r",
            "mimetype": "text/x-r-source",
            "name": "R",
            "pygments_lexer": "r",
            "version": "3.4.1"
        }
    },
    "nbformat": 4,
    "nbformat_minor": 1
}
