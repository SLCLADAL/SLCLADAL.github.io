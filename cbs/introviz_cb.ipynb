{
    "cells": [
        {
            "cell_type": "markdown",
            "metadata": {},
            "source": [
                "![An interactive LADAL notebook](https://slcladal.github.io/images/uq1.jpg)\n",
                "\n",
                "\n",
                "This tutorial is the interactive Jupyter notebook accompanying the [*Language Technology and Data Analysis Laboratory* (LADAL) tutorial *Introduction to Data Visualization in R*](https://ladal.edu.au/introviz.html). \n",
                "\n",
                "\n",
                "**Preparation and session set up**\n",
                "\n",
                "We set up our session by activating the packages we need for this tutorial. \n"
            ]
        },
        {
            "cell_type": "code",
            "execution_count": null,
            "metadata": {},
            "outputs": [],
            "source": [
                "library(stringr)\n",
                "library(dplyr)\n",
                "library(tidyr)\n",
                "library(ggplot2)\n",
                "library(gridExtra)\n",
                "library(RColorBrewer)\n",
                "library(openxlsx)\n"
            ]
        },
        {
            "cell_type": "markdown",
            "metadata": {},
            "source": [
                "Once you have initiated the session by executing the code shown above, you are good to go.\n",
                "\n",
                "If you are using this notebook on your own computer and you have not already installed the R packages listed above, you need to install them. You can install them by replacing the `library` command with `install.packages` and putting the name of the package into quotation marks like this: `install.packages(\"stringr\")`. Then, you simply run this command and R will install the package you specified.\n",
                "\n",
                "# Getting started\n",
                "\n",
                "Before turning to the graphs, we load the data (see the [LADAL tutorial](https://ladal.edu.au/introviz.html) for more information about what the data represents). \n"
            ]
        },
        {
            "cell_type": "code",
            "execution_count": null,
            "metadata": {},
            "outputs": [],
            "source": [
                "# load data\n",
                "pdat  <- base::readRDS(url(\"https://slcladal.github.io/data/pvd.rda\", \"rb\"))\n",
                "# inspect data\n",
                "head(pdat)\n"
            ]
        },
        {
            "cell_type": "markdown",
            "metadata": {},
            "source": [
                "***\n",
                "\n",
                "## Using your own data\n",
                "\n",
                "While the tutorial uses data from the LADAL website, you can also use your own data. You can see below what you need to do to upload and use your own data.\n",
                "\n",
                "The code chunk below allows you to upload two files from your own computer. To be able to load your own data, you need to click on the folder symbol to the left of the screen:\n",
                "\n",
                "![Binder Folder Symbol](https://slcladal.github.io/images/binderfolder.JPG)\n",
                "\n",
                "\n",
                "Then on the upload symbol.\n",
                "\n",
                "![Binder Upload Symbol](https://slcladal.github.io/images/binderupload.JPG)\n",
                "\n",
                "Next, upload the files you want to analyze and then the respective files names in the file argument of the scan function. When you then execute the code (like to code chunk below, you will upload your own data.\n"
            ]
        },
        {
            "cell_type": "code",
            "execution_count": null,
            "metadata": {},
            "outputs": [],
            "source": [
                "mytable1 <- openxlsx::read.xlsx(\"testdata1.xlsx\", sheet = 1)\n",
                "# inspect\n",
                "mytable1\n"
            ]
        },
        {
            "cell_type": "markdown",
            "metadata": {},
            "source": [
                "**Keep in mind though that you need to adapt the names of the texts in the code chunks below so that the code below work on your own texts!**\n",
                "\n",
                "***\n",
                "\n",
                "\n",
                "\n",
                "We will now turn to creating the graphs.\n",
                "\n",
                "# Creating a simple graph\n",
                "\n",
                "When creating a visualization with ggplot, we first use the function `ggplot` and define the data that the visualization will use, then, we define the aesthetics which define the layout, i.e. the x- and y-axes. \n"
            ]
        },
        {
            "cell_type": "code",
            "execution_count": null,
            "metadata": {},
            "outputs": [],
            "source": [
                "ggplot(pdat, aes(x = Date, y = Prepositions))\n",
                "\n"
            ]
        },
        {
            "cell_type": "markdown",
            "metadata": {},
            "source": [
                "In a next step, we add the geom-layer which defines the type of visualization that we want to display. In this case, we use `geom_point` as we want to show points that stand for the frequencies of prepositions in each text. Note that we add the geom-layer by adding a `+` at the end of the line!\n",
                "\n"
            ]
        },
        {
            "cell_type": "code",
            "execution_count": null,
            "metadata": {},
            "outputs": [],
            "source": [
                "ggplot(pdat, aes(x = Date, y = Prepositions)) +\n",
                "  geom_point()\n"
            ]
        },
        {
            "cell_type": "markdown",
            "metadata": {},
            "source": [
                "We can also add another layer, e.g. a layer which shows a smoothed loess line, and we can change the theme by specifying the theme we want to use. Here, we will use `theme_bw` which stands for the black-and-white theme (we will get into the different types of themes later).\n",
                "\n"
            ]
        },
        {
            "cell_type": "code",
            "execution_count": null,
            "metadata": {},
            "outputs": [],
            "source": [
                "ggplot(pdat, aes(x = Date, y = Prepositions)) +\n",
                "  geom_point() +\n",
                "  geom_smooth(se = F) +\n",
                "  theme_bw()\n"
            ]
        },
        {
            "cell_type": "markdown",
            "metadata": {},
            "source": [
                "We can also store our plot in an object and then add different layers to it or modify the plot. Here we store the basic graph in an object that we call `p` and then change the axes names.  \n",
                "\n"
            ]
        },
        {
            "cell_type": "code",
            "execution_count": null,
            "metadata": {},
            "outputs": [],
            "source": [
                "# store plot in object p\n",
                "p <- ggplot(pdat, aes(x = Date, y = Prepositions)) +\n",
                "  geom_point() +\n",
                "  theme_bw()\n",
                "# add layer with nicer axes titles to p\n",
                "p + labs(x = \"Year\", y = \"Frequency\")\n"
            ]
        },
        {
            "cell_type": "markdown",
            "metadata": {},
            "source": [
                "We can also integrate plots into data processing pipelines as shown below. When you integrate visualizations into pipelines, you should not specify the data as it is clear from the pipe which data the plot is using.\n",
                "\n"
            ]
        },
        {
            "cell_type": "code",
            "execution_count": null,
            "metadata": {},
            "outputs": [],
            "source": [
                "pdat %>%\n",
                "  dplyr::select(DateRedux, GenreRedux, Prepositions) %>%\n",
                "  dplyr::group_by(DateRedux, GenreRedux) %>%\n",
                "  dplyr::summarise(Frequency = mean(Prepositions)) %>%\n",
                "    ggplot(aes(x = DateRedux, y = Frequency, group = GenreRedux, color = GenreRedux)) +\n",
                "    geom_line()\n"
            ]
        },
        {
            "cell_type": "markdown",
            "metadata": {},
            "source": [
                "# Modifying axes and titles\n",
                "\n",
                "There are different way to modify axes, the easiest way is to specify the axes labels using `labs` (as already shown above). To add a custom title, we can use `ggtitle`.\n"
            ]
        },
        {
            "cell_type": "code",
            "execution_count": null,
            "metadata": {},
            "outputs": [],
            "source": [
                "p + labs(x = \"Year\", y = \"Frequency\") +\n",
                "  ggtitle(\"Preposition use over time\", subtitle=\"based on the PPC corpus\")\n"
            ]
        },
        {
            "cell_type": "markdown",
            "metadata": {},
            "source": [
                "To change the range of the axes, we can specify their limits in the `coord_cartesian` layer.\n",
                "\n"
            ]
        },
        {
            "cell_type": "code",
            "execution_count": null,
            "metadata": {},
            "outputs": [],
            "source": [
                "p + coord_cartesian(xlim = c(1000, 2000), ylim = c(-100, 300))\n",
                "\n"
            ]
        },
        {
            "cell_type": "markdown",
            "metadata": {},
            "source": "\n"
        },
        {
            "cell_type": "code",
            "execution_count": null,
            "metadata": {},
            "outputs": [],
            "source": [
                "p + \n",
                "  labs(x = \"Year\", y = \"Frequency\") +\n",
                "  theme(axis.text.x = element_text(face=\"italic\", color=\"red\", size=8, angle=45),\n",
                "          axis.text.y = element_text(face=\"bold\", color=\"blue\", size=15, angle=90))\n"
            ]
        },
        {
            "cell_type": "markdown",
            "metadata": {},
            "source": [
                "\n",
                "\n"
            ]
        },
        {
            "cell_type": "code",
            "execution_count": null,
            "metadata": {},
            "outputs": [],
            "source": [
                "p + theme(\n",
                "  axis.text.x = element_blank(),\n",
                "  axis.text.y = element_blank(),\n",
                "  axis.ticks = element_blank())\n"
            ]
        },
        {
            "cell_type": "markdown",
            "metadata": {},
            "source": [
                "\n",
                "\n"
            ]
        },
        {
            "cell_type": "code",
            "execution_count": null,
            "metadata": {},
            "outputs": [],
            "source": [
                "p + scale_x_discrete(name =\"Year of composition\", limits=seq(1150, 1900, 50)) +\n",
                "  scale_y_discrete(name =\"Relative Frequency\", limits=seq(70, 190, 20))\n"
            ]
        },
        {
            "cell_type": "markdown",
            "metadata": {},
            "source": [
                "# Modifying colors\n",
                "\n",
                "To modify colors, you can include a color specification in the main aesthetics.\n"
            ]
        },
        {
            "cell_type": "code",
            "execution_count": null,
            "metadata": {},
            "outputs": [],
            "source": [
                "ggplot(pdat, aes(x = Date, y = Prepositions, color = GenreRedux)) +\n",
                "  geom_point() \n"
            ]
        },
        {
            "cell_type": "markdown",
            "metadata": {},
            "source": [
                "Or you can specify the color in the aesthetics of the geom-layer.\n",
                "\n"
            ]
        },
        {
            "cell_type": "code",
            "execution_count": null,
            "metadata": {},
            "outputs": [],
            "source": [
                "p + geom_point(aes(color = GenreRedux))\n",
                "\n"
            ]
        },
        {
            "cell_type": "markdown",
            "metadata": {},
            "source": [
                "To change the default colors manually, you can use `scale_color_manual` and define the colors you want to use in the `values` argument and specify the variable levels that want to distinguish by colors in the `breaks` argument. You can find an overview of the colors that you can define in R [here](http://www.stat.columbia.edu/~tzheng/files/Rcolor.pdf).\n",
                "\n"
            ]
        },
        {
            "cell_type": "code",
            "execution_count": null,
            "metadata": {},
            "outputs": [],
            "source": [
                "ggplot(pdat, aes(x = Date, y = Prepositions, color = GenreRedux)) +\n",
                "  geom_point()  + \n",
                "  scale_color_manual(values = c(\"red\", \"gray30\", \"blue\", \"orange\", \"gray80\"),\n",
                "                       breaks = c(\"Conversational\", \"Fiction\", \"Legal\", \"NonFiction\", \"Religious\"))\n"
            ]
        },
        {
            "cell_type": "markdown",
            "metadata": {},
            "source": [
                "When the variable that you want to colorize does not have discrete levels, you use `scale_color_continuous` instead of `scale_color_manual`.\n",
                "\n"
            ]
        },
        {
            "cell_type": "code",
            "execution_count": null,
            "metadata": {},
            "outputs": [],
            "source": [
                "p + geom_point(aes(color = Prepositions)) + \n",
                "  scale_color_continuous()\n"
            ]
        },
        {
            "cell_type": "markdown",
            "metadata": {},
            "source": [
                "You can also change colors by specifying color `palettes`. Color `palettes` are predefined vectors of colors and there are many different color `palettes` available. Below are some examples using the `Brewer` color palette.\n",
                "\n"
            ]
        },
        {
            "cell_type": "code",
            "execution_count": null,
            "metadata": {},
            "outputs": [],
            "source": [
                "p + geom_point(aes(color = GenreRedux)) + \n",
                "  scale_color_brewer()\n"
            ]
        },
        {
            "cell_type": "markdown",
            "metadata": {},
            "source": "\n"
        },
        {
            "cell_type": "code",
            "execution_count": null,
            "metadata": {},
            "outputs": [],
            "source": [
                "p + geom_point(aes(color = GenreRedux)) + \n",
                "  scale_color_brewer(palette = 2)\n"
            ]
        },
        {
            "cell_type": "markdown",
            "metadata": {},
            "source": "\n"
        },
        {
            "cell_type": "code",
            "execution_count": null,
            "metadata": {},
            "outputs": [],
            "source": [
                "p + geom_point(aes(color = GenreRedux)) + \n",
                "  scale_color_brewer(palette = 3)\n"
            ]
        },
        {
            "cell_type": "markdown",
            "metadata": {},
            "source": [
                "We now use the `viridis` color palette to show how you can use another palette. The example below uses the viridis palette for a discrete variable (GenreRedux).\n",
                "\n"
            ]
        },
        {
            "cell_type": "code",
            "execution_count": null,
            "metadata": {},
            "outputs": [],
            "source": [
                "p + geom_point(aes(color = GenreRedux)) + \n",
                "  scale_color_viridis_d()\n"
            ]
        },
        {
            "cell_type": "markdown",
            "metadata": {},
            "source": [
                "To use the viridis palette for continuous variables you need to use `scale_color_viridis_c` instead of `scale_color_viridis_d`.\n",
                "\n"
            ]
        },
        {
            "cell_type": "code",
            "execution_count": null,
            "metadata": {},
            "outputs": [],
            "source": [
                "p + geom_point(aes(color = Prepositions)) + \n",
                "  scale_color_viridis_c()\n"
            ]
        },
        {
            "cell_type": "markdown",
            "metadata": {},
            "source": [
                "The `Brewer` color palette (see below) is the most commonly used color palette but there are many more. You can find an overview of the color palettes that are available [here](https://www.datanovia.com/en/blog/top-r-color-palettes-to-know-for-great-data-visualization/).\n",
                "\n"
            ]
        },
        {
            "cell_type": "code",
            "execution_count": null,
            "metadata": {},
            "outputs": [],
            "source": [
                "display.brewer.all()\n",
                "\n"
            ]
        },
        {
            "cell_type": "markdown",
            "metadata": {},
            "source": [
                "# Modifying lines & symbols\n",
                "\n"
            ]
        },
        {
            "cell_type": "code",
            "execution_count": null,
            "metadata": {},
            "outputs": [],
            "source": [
                "ggplot(pdat, aes(x = Date, y = Prepositions, shape = GenreRedux)) +\n",
                "  geom_point() \n"
            ]
        },
        {
            "cell_type": "markdown",
            "metadata": {},
            "source": "\n"
        },
        {
            "cell_type": "code",
            "execution_count": null,
            "metadata": {},
            "outputs": [],
            "source": [
                "ggplot(pdat, aes(x = Date, y = Prepositions)) + \n",
                "  geom_point(aes(shape = GenreRedux)) + \n",
                "  scale_shape_manual(values = 1:5)\n"
            ]
        },
        {
            "cell_type": "markdown",
            "metadata": {},
            "source": [
                "Similarly, if you want to change the lines in a line plot, you define the `linetype` in the aesthetics.\n",
                "\n"
            ]
        },
        {
            "cell_type": "code",
            "execution_count": null,
            "metadata": {},
            "outputs": [],
            "source": [
                "pdat %>%\n",
                "  dplyr::select(GenreRedux, DateRedux, Prepositions) %>%\n",
                "  dplyr::group_by(GenreRedux, DateRedux) %>%\n",
                "  dplyr::summarize(Frequency = mean(Prepositions)) %>%\n",
                "  ggplot(aes(x = DateRedux, y = Frequency, group = GenreRedux, linetype = GenreRedux)) +\n",
                "  geom_line()\n"
            ]
        },
        {
            "cell_type": "markdown",
            "metadata": {},
            "source": [
                "You can of course also manually specify the line types.\n",
                "\n"
            ]
        },
        {
            "cell_type": "code",
            "execution_count": null,
            "metadata": {},
            "outputs": [],
            "source": [
                "pdat %>%\n",
                "  dplyr::select(GenreRedux, DateRedux, Prepositions) %>%\n",
                "  dplyr::group_by(GenreRedux, DateRedux) %>%\n",
                "  dplyr::summarize(Frequency = mean(Prepositions)) %>%\n",
                "  ggplot(aes(x = DateRedux, y = Frequency, group = GenreRedux, linetype = GenreRedux)) +\n",
                "  geom_line() +\n",
                "  scale_linetype_manual(values = c(\"twodash\", \"longdash\", \"solid\", \"dotted\", \"dashed\"))\n"
            ]
        },
        {
            "cell_type": "markdown",
            "metadata": {},
            "source": [
                "Here is an overview of the most commonly used linetypes in R.\n",
                "\n"
            ]
        },
        {
            "cell_type": "code",
            "execution_count": null,
            "metadata": {},
            "outputs": [],
            "source": [
                "d=data.frame(lt=c(\"blank\", \"solid\", \"dashed\", \"dotted\", \"dotdash\", \"longdash\", \"twodash\", \"1F\", \"F1\", \"4C88C488\", \"12345678\"))\n",
                "ggplot() +\n",
                "scale_x_continuous(name=\"\", limits=c(0,1)) +\n",
                "scale_y_discrete(name=\"linetype\") +\n",
                "scale_linetype_identity() +\n",
                "geom_segment(data=d, mapping=aes(x=0, xend=1, y=lt, yend=lt, linetype=lt))\n"
            ]
        },
        {
            "cell_type": "markdown",
            "metadata": {},
            "source": [
                "To make your layers transparent, you need to specify `alpha` values.\n",
                "\n"
            ]
        },
        {
            "cell_type": "code",
            "execution_count": null,
            "metadata": {},
            "outputs": [],
            "source": [
                "ggplot(pdat, aes(x = Date, y = Prepositions)) + \n",
                "  geom_point(alpha = .2)\n"
            ]
        },
        {
            "cell_type": "markdown",
            "metadata": {},
            "source": [
                "Transparency can be particularly useful when using different layers that add different types of visualizations.\n",
                "\n"
            ]
        },
        {
            "cell_type": "code",
            "execution_count": null,
            "metadata": {},
            "outputs": [],
            "source": [
                "ggplot(pdat, aes(x = Date, y = Prepositions)) + \n",
                "  geom_point(alpha = .1) + \n",
                "  geom_smooth(se = F)\n"
            ]
        },
        {
            "cell_type": "markdown",
            "metadata": {},
            "source": [
                "Transparency can also be linked to other variables.\n",
                "\n"
            ]
        },
        {
            "cell_type": "code",
            "execution_count": null,
            "metadata": {},
            "outputs": [],
            "source": [
                "ggplot(pdat, aes(x = Date, y = Prepositions, alpha = Region)) + \n",
                "  geom_point()\n"
            ]
        },
        {
            "cell_type": "markdown",
            "metadata": {},
            "source": [
                "\n",
                "\n"
            ]
        },
        {
            "cell_type": "code",
            "execution_count": null,
            "metadata": {},
            "outputs": [],
            "source": [
                "ggplot(pdat, aes(x = Date, y = Prepositions, alpha = Prepositions)) + \n",
                "  geom_point()\n"
            ]
        },
        {
            "cell_type": "markdown",
            "metadata": {},
            "source": [
                "# Adapting sizes\n",
                "\n"
            ]
        },
        {
            "cell_type": "code",
            "execution_count": null,
            "metadata": {},
            "outputs": [],
            "source": [
                "ggplot(pdat, aes(x = Date, y = Prepositions, size = Region, color = GenreRedux)) +\n",
                "  geom_point() \n"
            ]
        },
        {
            "cell_type": "markdown",
            "metadata": {},
            "source": "\n"
        },
        {
            "cell_type": "code",
            "execution_count": null,
            "metadata": {},
            "outputs": [],
            "source": [
                "ggplot(pdat, aes(x = Date, y = Prepositions, color = GenreRedux, size = Prepositions)) +\n",
                "  geom_point() \n"
            ]
        },
        {
            "cell_type": "markdown",
            "metadata": {},
            "source": [
                "# Adding text\n",
                "\n"
            ]
        },
        {
            "cell_type": "code",
            "execution_count": null,
            "metadata": {},
            "outputs": [],
            "source": [
                "pdat %>%\n",
                "  dplyr::filter(Genre == \"Fiction\") %>%\n",
                "  ggplot(aes(x = Date, y = Prepositions, label = Prepositions, color = Region)) +\n",
                "  geom_text(size = 3) +\n",
                "  theme_bw()\n"
            ]
        },
        {
            "cell_type": "markdown",
            "metadata": {},
            "source": "\n"
        },
        {
            "cell_type": "code",
            "execution_count": null,
            "metadata": {},
            "outputs": [],
            "source": [
                "pdat %>%\n",
                "  dplyr::filter(Genre == \"Fiction\") %>%\n",
                "  ggplot(aes(x = Date, y = Prepositions, label = Prepositions)) +\n",
                "  geom_text(size = 3, hjust=1.2) +\n",
                "  geom_point() +\n",
                "  theme_bw()\n"
            ]
        },
        {
            "cell_type": "markdown",
            "metadata": {},
            "source": [
                "\n",
                "\n"
            ]
        },
        {
            "cell_type": "code",
            "execution_count": null,
            "metadata": {},
            "outputs": [],
            "source": [
                "pdat %>%\n",
                "  dplyr::filter(Genre == \"Fiction\") %>%\n",
                "  ggplot(aes(x = Date, y = Prepositions, label = Prepositions)) +\n",
                "  geom_text(size = 3, nudge_x = -15, check_overlap = T) +\n",
                "  geom_point() +\n",
                "  theme_bw()\n"
            ]
        },
        {
            "cell_type": "markdown",
            "metadata": {},
            "source": [
                "\n",
                "\n"
            ]
        },
        {
            "cell_type": "code",
            "execution_count": null,
            "metadata": {},
            "outputs": [],
            "source": [
                "pdat %>%\n",
                "  dplyr::filter(Genre == \"Fiction\") %>%\n",
                "  ggplot(aes(x = Date, y = Prepositions, label = Prepositions)) +\n",
                "  geom_text(size = 3, nudge_x = -15, check_overlap = T) +\n",
                "  geom_point() +\n",
                "  theme_bw()\n"
            ]
        },
        {
            "cell_type": "markdown",
            "metadata": {},
            "source": [
                "\n",
                "\n"
            ]
        },
        {
            "cell_type": "code",
            "execution_count": null,
            "metadata": {},
            "outputs": [],
            "source": [
                "ggplot(pdat, aes(x = Date, y = Prepositions)) +\n",
                "  geom_point() +\n",
                "  ggplot2::annotate(geom = \"text\", label = \"Some text\", x = 1200, y = 175, color = \"orange\") +\n",
                "  ggplot2::annotate(geom = \"text\", label = \"More text\", x = 1850, y = 75, color = \"lightblue\", size = 8) +\n",
                "    theme_bw()\n"
            ]
        },
        {
            "cell_type": "markdown",
            "metadata": {},
            "source": [
                "\n",
                "\n"
            ]
        },
        {
            "cell_type": "code",
            "execution_count": null,
            "metadata": {},
            "outputs": [],
            "source": [
                "pdat %>%\n",
                "  dplyr::group_by(GenreRedux) %>%\n",
                "  dplyr::summarise(Frequency = round(mean(Prepositions), 1)) %>%\n",
                "  ggplot(aes(x = GenreRedux, y = Frequency, label = Frequency)) +\n",
                "  geom_bar(stat=\"identity\") +\n",
                "  geom_text(vjust=-1.6, color = \"black\") +\n",
                "  coord_cartesian(ylim = c(0, 180)) +\n",
                "  theme_bw()\n"
            ]
        },
        {
            "cell_type": "markdown",
            "metadata": {},
            "source": [
                "\n",
                "\n"
            ]
        },
        {
            "cell_type": "code",
            "execution_count": null,
            "metadata": {},
            "outputs": [],
            "source": [
                "pdat %>%\n",
                "  dplyr::group_by(Region, GenreRedux) %>%\n",
                "  dplyr::summarise(Frequency = round(mean(Prepositions), 1)) %>%\n",
                "  ggplot(aes(x = GenreRedux, y = Frequency, group = Region, fill = Region, label = Frequency)) +\n",
                "  geom_bar(stat=\"identity\", position = \"dodge\") +\n",
                "  geom_text(vjust=1.6, position = position_dodge(0.9)) + \n",
                "  theme_bw()\n"
            ]
        },
        {
            "cell_type": "markdown",
            "metadata": {},
            "source": [
                "\n",
                "\n"
            ]
        },
        {
            "cell_type": "code",
            "execution_count": null,
            "metadata": {},
            "outputs": [],
            "source": [
                "pdat %>%\n",
                "  dplyr::filter(Genre == \"Fiction\") %>%\n",
                "  ggplot(aes(x = Date, y = Prepositions, label = Prepositions)) +\n",
                "  geom_label(size = 3, vjust=1.2) +\n",
                "  geom_point() +\n",
                "  theme_bw()\n"
            ]
        },
        {
            "cell_type": "markdown",
            "metadata": {},
            "source": [
                "# Combining multiple plots\n",
                "\n"
            ]
        },
        {
            "cell_type": "code",
            "execution_count": null,
            "metadata": {},
            "outputs": [],
            "source": [
                "ggplot(pdat, aes(x = Date, y = Prepositions)) +\n",
                "  facet_grid(~GenreRedux) +\n",
                "  geom_point() + \n",
                "  theme_bw()\n"
            ]
        },
        {
            "cell_type": "markdown",
            "metadata": {},
            "source": "\n"
        },
        {
            "cell_type": "code",
            "execution_count": null,
            "metadata": {},
            "outputs": [],
            "source": [
                "ggplot(pdat, aes(x = Date, y = Prepositions)) +\n",
                "  facet_wrap(vars(Region, GenreRedux), ncol = 5) +\n",
                "  geom_point() + \n",
                "  theme_bw()\n"
            ]
        },
        {
            "cell_type": "markdown",
            "metadata": {},
            "source": "\n"
        },
        {
            "cell_type": "code",
            "execution_count": null,
            "metadata": {},
            "outputs": [],
            "source": [
                "p1 <- ggplot(pdat, aes(x = Date, y = Prepositions)) + geom_point() + theme_bw()\n",
                "p2 <- ggplot(pdat, aes(x = GenreRedux, y = Prepositions)) + geom_boxplot() + theme_bw()\n",
                "p3 <- ggplot(pdat, aes(x = DateRedux, group = GenreRedux)) + geom_bar() + theme_bw()\n",
                "p4 <- ggplot(pdat, aes(x = Date, y = Prepositions)) + geom_point() + geom_smooth(se = F) + theme_bw()\n",
                "grid.arrange(p1, p2, nrow = 1)\n"
            ]
        },
        {
            "cell_type": "markdown",
            "metadata": {},
            "source": "\n"
        },
        {
            "cell_type": "code",
            "execution_count": null,
            "metadata": {},
            "outputs": [],
            "source": [
                "grid.arrange(grobs = list(p4, p2, p3), \n",
                "             widths = c(2, 1), \n",
                "             layout_matrix = rbind(c(1, 1), c(2, 3)))\n"
            ]
        },
        {
            "cell_type": "markdown",
            "metadata": {},
            "source": [
                "# Available themes\n",
                "\n"
            ]
        },
        {
            "cell_type": "code",
            "execution_count": null,
            "metadata": {},
            "outputs": [],
            "source": [
                "p <- ggplot(pdat, aes(x = Date, y = Prepositions)) + geom_point() + labs(x = \"\", y= \"\") +\n",
                "  ggtitle(\"Default\") + theme(axis.text.x = element_text(size=6, angle=90))\n",
                "p1 <- p + theme_bw() + ggtitle(\"theme_bw\") + theme(axis.text.x = element_text(size=6, angle=90))\n",
                "p2 <- p + theme_classic() + ggtitle(\"theme_classic\") + theme(axis.text.x = element_text(size=6, angle=90))\n",
                "p3 <- p + theme_minimal() + ggtitle(\"theme_minimal\") + theme(axis.text.x = element_text(size=6, angle=90))\n",
                "p4 <- p + theme_light() + ggtitle(\"theme_light\") + theme(axis.text.x = element_text(size=6, angle=90))\n",
                "p5 <- p + theme_dark() + ggtitle(\"theme_dark\") + theme(axis.text.x = element_text(size=6, angle=90))\n",
                "p6 <- p + theme_void() + ggtitle(\"theme_void\") + theme(axis.text.x = element_text(size=6, angle=90))\n",
                "p7 <- p + theme_gray() + ggtitle(\"theme_gray\") + theme(axis.text.x = element_text(size=6, angle=90))\n",
                "grid.arrange(p, p1, p2, p3, p4, p5, p6, p7, ncol = 4)\n"
            ]
        },
        {
            "cell_type": "markdown",
            "metadata": {},
            "source": [
                "\n",
                "\n"
            ]
        },
        {
            "cell_type": "code",
            "execution_count": null,
            "metadata": {},
            "outputs": [],
            "source": [
                "ggplot(pdat, aes(x = Date, y = Prepositions, color = GenreRedux)) +\n",
                "  geom_point() + \n",
                "  theme(panel.background = element_rect(fill = \"white\", colour = \"red\"))\n"
            ]
        },
        {
            "cell_type": "markdown",
            "metadata": {},
            "source": [
                "Extensive information about how to modify themes can be found  [here](https://ggplot2.tidyverse.org/reference/theme.html).\n",
                "\n",
                "# Modifying legends\n"
            ]
        },
        {
            "cell_type": "code",
            "execution_count": null,
            "metadata": {},
            "outputs": [],
            "source": [
                "ggplot(pdat, aes(x = Date, y = Prepositions, color = GenreRedux)) +\n",
                "  geom_point() + \n",
                "  theme(legend.position = \"top\")\n"
            ]
        },
        {
            "cell_type": "markdown",
            "metadata": {},
            "source": "\n"
        },
        {
            "cell_type": "code",
            "execution_count": null,
            "metadata": {},
            "outputs": [],
            "source": [
                "ggplot(pdat, aes(x = Date, y = Prepositions, color = GenreRedux)) +\n",
                "  geom_point() + \n",
                "  theme(legend.position = \"none\")\n"
            ]
        },
        {
            "cell_type": "markdown",
            "metadata": {},
            "source": "\n"
        },
        {
            "cell_type": "code",
            "execution_count": null,
            "metadata": {},
            "outputs": [],
            "source": [
                "ggplot(pdat, aes(x = Date, y = Prepositions, linetype = GenreRedux, color = GenreRedux)) +\n",
                "  geom_smooth(se = F) +  \n",
                "  theme(legend.position = c(0.2, 0.7)) \n"
            ]
        },
        {
            "cell_type": "markdown",
            "metadata": {},
            "source": [
                "\n",
                "\n"
            ]
        },
        {
            "cell_type": "code",
            "execution_count": null,
            "metadata": {},
            "outputs": [],
            "source": [
                "ggplot(pdat, aes(x = Date, y = Prepositions, linetype = GenreRedux, color = GenreRedux)) +\n",
                "  geom_smooth(se = F) + \n",
                "  guides(color=guide_legend(override.aes=list(fill=NA))) +  \n",
                "  theme(legend.position = \"top\", \n",
                "        legend.text = element_text(color = \"green\")) +\n",
                "  scale_linetype_manual(values=1:5, \n",
                "                        name=c(\"Genre\"),\n",
                "                        breaks = names(table(pdat$GenreRedux)),\n",
                "                        labels = names(table(pdat$GenreRedux))) + \n",
                "  scale_colour_manual(values=c(\"red\", \"gray30\", \"blue\", \"orange\", \"gray80\"),\n",
                "                      name=c(\"Genre\"),\n",
                "                      breaks=names(table(pdat$GenreRedux)),  \n",
                "                      labels = names(table(pdat$GenreRedux)))\n"
            ]
        },
        {
            "cell_type": "markdown",
            "metadata": {},
            "source": [
                "***\n",
                "\n",
                "[Back to LADAL](https://ladal.edu.au/introviz.html)\n",
                "\n",
                "***\n"
            ]
        }
    ],
    "metadata": {
        "anaconda-cloud": "",
        "kernelspec": {
            "display_name": "R",
            "langauge": "R",
            "name": "ir"
        },
        "language_info": {
            "codemirror_mode": "r",
            "file_extension": ".r",
            "mimetype": "text/x-r-source",
            "name": "R",
            "pygments_lexer": "r",
            "version": "3.4.1"
        }
    },
    "nbformat": 4,
    "nbformat_minor": 1
}
