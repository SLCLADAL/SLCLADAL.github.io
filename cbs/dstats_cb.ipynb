{
    "cells": [
        {
            "cell_type": "markdown",
            "metadata": {},
            "source": [
                "![An interactive LADAL notebook](https://slcladal.github.io/images/uq1.jpg)\n",
                "\n",
                "\n",
                "This tutorial is the interactive Jupyter notebook accompanying the [*Language Technology and Data Analysis Laboratory* (LADAL) tutorial *Descriptive Statistics with R*](https://ladal.edu.au/dstats.html). The tutorial provides more details and background information while this interactive notebook focuses strictly on practical aspects.\n",
                "\n",
                "\n",
                "**Preparation and session set up**\n",
                "\n",
                "We set up our session by activating the packages we need for this tutorial. \n"
            ]
        },
        {
            "cell_type": "code",
            "execution_count": null,
            "metadata": {},
            "outputs": [],
            "source": [
                "# activate packages\n",
                "library(boot)\n",
                "library(DescTools)\n",
                "library(dplyr)\n",
                "library(stringr)\n",
                "library(ggplot2)\n",
                "library(flextable)\n",
                "library(ggpubr)\n",
                "library(psych)\n",
                "library(Rmisc)\n"
            ]
        },
        {
            "cell_type": "markdown",
            "metadata": {},
            "source": [
                "Once you have initiated the session by executing the code shown above, you are good to go.\n",
                "\n",
                "If you are using this notebook on your own computer and you have not already installed the R packages listed above, you need to install them. You can install them by replacing the `library` command with `install.packages` and putting the name of the package into quotation marks like this: `install.packages(\"dplyr\")`. Then, you simply run this command and R will install the package you specified.\n",
                "\n",
                "\n",
                "\n",
                "\n",
                "***\n",
                "\n",
                "## Using your own data\n",
                "\n",
                "While the tutorial uses data from the LADAL website, you can also use your own data. You can see below what you need to do to upload and use your own data.\n",
                "\n",
                "The code chunk below allows you to upload two files from your own computer. To be able to load your own data, you need to click on the folder symbol to the left of the screen:\n",
                "\n",
                "![Binder Folder Symbol](https://slcladal.github.io/images/binderfolder.JPG)\n",
                "\n",
                "\n",
                "Then on the upload symbol.\n",
                "\n",
                "![Binder Upload Symbol](https://slcladal.github.io/images/binderupload.JPG)\n",
                "\n",
                "Next, upload the files you want to analyze and then the respective files names in the file argument of the scan function. When you then execute the code (like to code chunk below, you will upload your own data.\n"
            ]
        },
        {
            "cell_type": "code",
            "execution_count": null,
            "metadata": {},
            "outputs": [],
            "source": [
                "mytable1 <- openxlsx::read.xlsx(\"testdata1.xlsx\", sheet = 1)\n",
                "# inspect\n",
                "mytable1\n"
            ]
        },
        {
            "cell_type": "markdown",
            "metadata": {},
            "source": [
                "**Keep in mind though that you need to adapt the names of the files in the code chunks below so that the code below work on your own data!**\n",
                "\n",
                "***\n",
                "\n",
                "\n",
                "\n",
                "# Measures of Centrality\n",
                "\n",
                "In linguistics three measures of centrality or measures of central tendency are of particular relevance: the *mean*, the *median* and the *mode*. What measure is appropriate depends on the type of variable scaling, the distribution of the data, and what is the intended aim of the data summary.\n",
                "\n",
                "\n",
                "## Mean\n",
                "\n",
                "The mean is used when the data is numeric and normally distributed. The mean is calculated by applying the formula shown below.\n",
                "\n",
                "\\begin{equation}\n",
                "  \\bar{x}=\\frac{1}{n} \\sum_{i=1}^n x_i = \\frac{x_{1}+x_{2}+ \\dots + x_{n}}{n}\n",
                "\\end{equation}\n",
                "\n",
                "To calculate the mean, sum up all values and divide by the number of values. In R, the *mean* is calculated as follows.\n"
            ]
        },
        {
            "cell_type": "code",
            "execution_count": null,
            "metadata": {},
            "outputs": [],
            "source": [
                "# create numeric vector\n",
                "frequencies <- c(3, 40, 15, 87)\n",
                "# calculate mean\n",
                "mean(frequencies)\n"
            ]
        },
        {
            "cell_type": "markdown",
            "metadata": {},
            "source": [
                "The mean is the most common way to summarize numeric variables and it is very easy and intuitive to understand. A disadvantage of the mean is that it is very strongly affected by outliers which is why the median is the preferable measure of centrality when dealing with data that is not normal or that contains outliers.\n",
                "\n",
                "\n",
                "## Median\n",
                "\n",
                "The median can be used for both numeric and ordinal variables. In contrast to the mean, it is more robust and not as easily affected by outliers. \n",
                "\n",
                "\\begin{equation}\n",
                "median_{x}=\n",
                "\\begin{cases}\n",
                "x_{\\frac{n+1}{2}} & n\\text{ uneven} \\\\\n",
                "\\frac{1}{2}\\bigl(x_{\\frac{n}{2}}+x_{\\frac{n+1}{2}}\\bigr) & n\\text{ even}\n",
                "\\end{cases}\n",
                "\\label{eq:median}\n",
                "\\end{equation}\n",
                "\n",
                "\n",
                "In R, the *median* is calculated as shown below.\n"
            ]
        },
        {
            "cell_type": "code",
            "execution_count": null,
            "metadata": {},
            "outputs": [],
            "source": [
                "# create a vector consisting out of ranks\n",
                "ranks <- c(rep(1, 9), rep(2, 160), rep(3, 70), rep(4, 15), rep(5, 9), rep(6, 57))\n",
                "# calculate median\n",
                "median(ranks)\n"
            ]
        },
        {
            "cell_type": "markdown",
            "metadata": {},
            "source": [
                "In our case, the median age is *19-25* because the 160^th^ speaker belongs to the 2^nd^ age group, i.e. the age group with speakers between 19 and 25 years old.  \n",
                "\n",
                "\n",
                "## Mode\n",
                "\n",
                "The mode is typically used when dealing with categorical variables and it reports which level of a factor or a categorical variable is the most frequent. \n",
                "\n",
                "In R the *mode* is calculated as shown below:\n"
            ]
        },
        {
            "cell_type": "code",
            "execution_count": null,
            "metadata": {},
            "outputs": [],
            "source": [
                "# create a factor with the current residence of speakers\n",
                "CurrentResidence <- c(rep(\"Belfast\", 98),         # repeat \"Belfast\" 98 times\n",
                "                      rep(\"Down\", 20),            # repeat \"Down\" 20 times\n",
                "                      rep(\"Dublin (city)\", 110),  # repeat \"Dublin (city)\" 110 times\n",
                "                      rep(\"Limerick\", 13),        # repeat \"Limerick\" 13 times\n",
                "                      rep(\"Tipperary\", 19))       # repeat \"Tipperary\" 19 times\n",
                "# calculate mode\n",
                "names(which.max(table(CurrentResidence)))         # extract which level occurs most frequently\n"
            ]
        },
        {
            "cell_type": "markdown",
            "metadata": {},
            "source": [
                "A word of warning is in order here as only the first(!) maximal value is provided by R even if several categories have the same frequency. \n",
                "\n",
                "\n",
                "\n",
                "# Measures of Variability\n",
                "\n",
                "Measures of variability provide information about the distribution of values such as whether the data are distributed evenly and do not differ substantially or whether the data are rather heterogeneous and are distributed very unevenly. In the following, we will have a look at the *range*, *variance*, and the *standard deviation*. \n",
                "\n",
                "## Range\n",
                "\n",
                "The range is the simplest measure of variability and reports the lowest and highest value of a distribution. That is, the range provides minimum and maximum of a vector to show the span of values within a distribution.\n",
                "\n",
                "In R, the *range* is extracted as shown below.\n"
            ]
        },
        {
            "cell_type": "code",
            "execution_count": null,
            "metadata": {},
            "outputs": [],
            "source": [
                "# create a numeric vector\n",
                "Moscow <- c(-5, -12, 5, 12, 15, 18, 22, 23, 20, 16, 8, 1)\n",
                "min(Moscow); max(Moscow) # extract range\n"
            ]
        },
        {
            "cell_type": "markdown",
            "metadata": {},
            "source": [
                "The lowest temperature value for Moscow is -12 degrees Celsius and the highest value is 23 degrees Celsius. The range thus spans from -12 to 23. \n",
                "\n",
                "## Interquartile range (IQR)\n",
                "\n",
                "The interquartile range (IQR) denotes the range that encompasses the central 50 percent of data points and thus  informs about how values are distributed. \n",
                "\n",
                "The easiest way to extract the IQR in R is to apply the `summary` function to a vector as shown below and then subtract the value of the  1^st^ quartile from the value of the 3^rd^ quartile.\n"
            ]
        },
        {
            "cell_type": "code",
            "execution_count": null,
            "metadata": {},
            "outputs": [],
            "source": [
                "summary(Moscow) # extract IQR\n",
                "\n"
            ]
        },
        {
            "cell_type": "markdown",
            "metadata": {},
            "source": [
                "The `summary` function reports that the minimum temperature is -12 degrees Celsius and that the maximum temperature is 23 degrees Celsius. Also, the lower 25 percent of the data fall within -12 and 4 degrees Celsius (from the minimum value to the 1^st^ quartile) and the upper 25 percent fall within 18.5 and 23 degrees Celsius (from the 3^rd^ quartile to the maximum value). The IQR range represents a range that encompasses the central 50% of the data and thus represents the value that can be calculated by subtracting the value of the 1^st^ from the value of the 3^rd^ quartile..\n",
                "\n",
                "Thus, the IQR is 18.5 - 4 = 14.5 \n",
                "\n",
                ".\n",
                "\n",
                "## Variance\n",
                "\n",
                "The variance is calculated according to the formula below. To calculate the variance, each value is subtracted from the mean and the result is squared. The squared values are then added and the resulting sum is divided by the number of values minus 1.\n",
                "\n",
                "\n",
                "$s = \\sigma^2 = \\frac{1}{n-1} \\sum_{i=1}^{n} (x_i - \\bar{x})^{2}$\n",
                "\n",
                "\n",
                "For our example, the variance of temperatures for Moscow is 123.6591 and 9.477273 for Hamburg.\n",
                "\n",
                "In R, the *variance* is calculated as shown below.\n"
            ]
        },
        {
            "cell_type": "code",
            "execution_count": null,
            "metadata": {},
            "outputs": [],
            "source": [
                "sd(Moscow)^2\n",
                "\n"
            ]
        },
        {
            "cell_type": "markdown",
            "metadata": {},
            "source": [
                "## Standard deviation\n",
                "\n",
                "The standard deviation (abbreviated with capital $sigma$ $\\sigma$) is calculated according to first equation shown below or, alternatively, according to second equation shown below and it is the square root of the squared variance.\n",
                "\n",
                "$\\sigma = \\sqrt{s} = \\sqrt{\\frac{1}{n-1} \\sum_{i=1}^{n} (x_i - \\bar{x})^2}$\n",
                "\n",
                "$\\sigma = \\sqrt{\\frac{ \\sum_{i=1}^{n} (x_i - \\bar{x})^2}{n-1}}$\n",
                "\n",
                "For our example, the first equation shown above provides a standard deviation of 11.12 for Moscow and a standard deviation of 3.08 for Hamburg.\n",
                "\n",
                "In R, the *standard deviation* is calculated as shown below.\n"
            ]
        },
        {
            "cell_type": "code",
            "execution_count": null,
            "metadata": {},
            "outputs": [],
            "source": [
                "# calculate standard deviation\n",
                "sd(Moscow) \n"
            ]
        },
        {
            "cell_type": "markdown",
            "metadata": {},
            "source": [
                "The standard deviation of temperature values of Moscow is 11.12.\n",
                "\n",
                "\n",
                "\n",
                "## Standard Error\n",
                "\n",
                "The standard error is a measure of variability and it reports the average distance from some parameters (most often from the mean). It is calculated as the standard deviation of the residuals of the parameter in question. To exemplify the standard error, we will have a look at reaction times which show how fast participants realized that a sequence of letters were either existing words or just a sequence of letters. \n"
            ]
        },
        {
            "cell_type": "code",
            "execution_count": null,
            "metadata": {},
            "outputs": [],
            "source": [
                "set.seed(12345)\n",
                "RT = c(rnorm(5, 400, 50), rnorm(5, 380, 50), rnorm(5, 450, 50), rnorm(5, 480, 50))\n",
                "State = c(rep(\"Sober\", 10), rep(\"Drunk\", 10))\n",
                "Gender = rep(c(rep(\"Male\", 5), rep(\"Female\", 5)), 2)\n",
                "rts <- data.frame(RT, State, Gender) %>%\n",
                "  dplyr::mutate(RT = round(RT, 3))\n",
                "# show data\n",
                "rts\n"
            ]
        },
        {
            "cell_type": "markdown",
            "metadata": {},
            "source": [
                "The standard error of the mean is calculated using the equation below.\n",
                "\n",
                "\\begin{equation}\n",
                "\\sigma~{\\bar{x}}~ =\\frac{\\sigma}{\\sqrt{n}} \n",
                "\\end{equation}\n",
                "\n",
                "The standard error can be calculated manually (see below) by implementing the equation from above.\n"
            ]
        },
        {
            "cell_type": "code",
            "execution_count": null,
            "metadata": {},
            "outputs": [],
            "source": [
                "sd(rts$RT, na.rm=TRUE) /  \n",
                "   sqrt(length(rts$RT[!is.na(rts$RT)]))  \n"
            ]
        },
        {
            "cell_type": "markdown",
            "metadata": {},
            "source": [
                "An easier way to extract standard errors is to use the `describe` function from the `psych` package (see below)\n",
                "\n"
            ]
        },
        {
            "cell_type": "code",
            "execution_count": null,
            "metadata": {},
            "outputs": [],
            "source": [
                "# describe data\n",
                "psych::describe(rts$RT, type=2)\n"
            ]
        },
        {
            "cell_type": "markdown",
            "metadata": {},
            "source": [
                "# Confidence Intervals\n",
                "\n",
                "Confidence intervals provide an estimation of in-between which values the reported value would lie in the population with a confidence of, e.g., 95 percent. \n",
                "\n",
                "\\begin{equation}\n",
                "  \\bar{x} \\mp z \\frac{s}{\\sqrt{n}}\n",
                "\\end{equation}\n",
                "\n",
                "The z-value for 95% probability (a two-tailed) of a normal distribution is 1.96. To check this, we can use the `qnorm` function and extract the z-value for a probability of .975 - we do not use .95 because we want 2.5% of the lower tail (-1.96) and 2.5% of the higher tail (1.96). \n"
            ]
        },
        {
            "cell_type": "code",
            "execution_count": null,
            "metadata": {},
            "outputs": [],
            "source": [
                "qnorm(0.975)   \n",
                "\n"
            ]
        },
        {
            "cell_type": "markdown",
            "metadata": {},
            "source": [
                "This means that for a 95% confidence interval for normally distributed data, we can use the formula shown below.\n",
                "\n",
                "\\begin{equation}\n",
                "  \\bar{x} \\mp 1.96 \\frac{s}{\\sqrt{n}}\n",
                "\\end{equation}\n",
                "\n",
                "If we have a vector of values (e.g., 4,5,2,3,1,4,3,6,3,2,4,1), we can easily calculate the confidence intervals for the mean as follows.\n"
            ]
        },
        {
            "cell_type": "code",
            "execution_count": null,
            "metadata": {},
            "outputs": [],
            "source": [
                "# calculate mean\n",
                "m <- mean(c(4,5,2,3,1,4,3,6,3,2,4,1))\n",
                "# calculate standard deviation\n",
                "s <- sd(c(4,5,2,3,1,4,3,6,3,2,4,1))\n",
                "# calculate n\n",
                "n <- length(c(4,5,2,3,1,4,3,6,3,2,4,1))\n",
                "# calculate lower and upper ci\n",
                "lower <- m-1.96*(s/sqrt(n))\n",
                "upper <- m+1.96*(s/sqrt(n))\n",
                "# show lower ci, mean, and upper ci\n",
                "lower; m; upper\n"
            ]
        },
        {
            "cell_type": "markdown",
            "metadata": {},
            "source": [
                "There are several functions in R to extract confidence intervals. To show how you can do this for different types of elements, we will continue to work with the reaction times data.\n",
                "\n",
                "\n",
                "## Confidence Intervals for Simple Vectors\n",
                "\n",
                "Confidence intervals (CIs) give a range that’s likely to include a population value with a certain degree of confidence. As such, CIs tell us how likely it is to get a value within a certain range if we drew another sample from the same population. \n",
                "\n",
                "One easy method for extracting confidence intervals is to apply the `CI` function from the `Rmisc` package.\n"
            ]
        },
        {
            "cell_type": "code",
            "execution_count": null,
            "metadata": {},
            "outputs": [],
            "source": [
                "# extract mean and confidence intervals\n",
                "Rmisc::CI(rts$RT, ci=0.95)   \n"
            ]
        },
        {
            "cell_type": "markdown",
            "metadata": {},
            "source": [
                "\n",
                "\n"
            ]
        },
        {
            "cell_type": "code",
            "execution_count": null,
            "metadata": {},
            "outputs": [],
            "source": [
                "# extract mean and confidence intervals\n",
                "tt <- Rmisc::CI(rts$RT, ci=0.95)  \n"
            ]
        },
        {
            "cell_type": "markdown",
            "metadata": {},
            "source": [
                "The ´CI´ function provides the mean reaction time (`r tt[2]`) and the 95 percent confidence band. With 95 percent confidence, the mean reaction time will have a mean between `r round(tt[3], 2)`  and `r round(tt[1], 2)` milliseconds (ms).\n",
                "\n",
                "Another way to extract the mean and its confidence intervals is by using  `t.test` function.  \n"
            ]
        },
        {
            "cell_type": "code",
            "execution_count": null,
            "metadata": {},
            "outputs": [],
            "source": [
                "# extract mean and confidence intervals\n",
                "stats::t.test(rts$RT, conf.level=0.95)  \n"
            ]
        },
        {
            "cell_type": "markdown",
            "metadata": {},
            "source": [
                "Another alternative to extract the man ans the confidence interval from a range of values is to use the `MeanCI` function from the `DescTools` package.\n",
                "\n"
            ]
        },
        {
            "cell_type": "code",
            "execution_count": null,
            "metadata": {},
            "outputs": [],
            "source": [
                "# extract mean and confidence intervals\n",
                "DescTools::MeanCI(rts$RT, conf.level=0.95)   \n"
            ]
        },
        {
            "cell_type": "markdown",
            "metadata": {},
            "source": [
                "This method is particularly interesting because it uses bootstrapping or resampling the data. As such, it is an empirical method to extract the mean and the confidence intervals. The values will differ given how many samples are drawn and we can get very precise estimates using this method.\n",
                "\n"
            ]
        },
        {
            "cell_type": "code",
            "execution_count": null,
            "metadata": {},
            "outputs": [],
            "source": [
                "# extract mean CIs\n",
                "DescTools::MeanCI(rts$RT, method=\"boot\", type=\"norm\", R=1000)\n"
            ]
        },
        {
            "cell_type": "markdown",
            "metadata": {},
            "source": [
                "Because this is a data-driven approach, the results will vary, depending on the characteristics of the resampled data. To illustrate, compare the values provided above to the values generated below.\n",
                "\n"
            ]
        },
        {
            "cell_type": "code",
            "execution_count": null,
            "metadata": {},
            "outputs": [],
            "source": [
                "# extract mean CIs\n",
                "DescTools::MeanCI(rts$RT, method=\"boot\", type=\"norm\", R=1000)\n"
            ]
        },
        {
            "cell_type": "markdown",
            "metadata": {},
            "source": [
                "Another method for extracting the mean and the confidence intervals from a range of values using bootstrapping is to use the `boot` function from the `boot` package.\n",
                "\n"
            ]
        },
        {
            "cell_type": "code",
            "execution_count": null,
            "metadata": {},
            "outputs": [],
            "source": [
                "# function to extract values\n",
                "BootFunction = function(x, index) {                        \n",
                "                  return(c(mean(x[index]),\n",
                "                           var(x[index]) / length(index)))\n",
                "}\n",
                "# apply function to data\n",
                "Bootstrapped = boot(data=rts$RT,     \n",
                "                    statistic=BootFunction,\n",
                "                    R=1000)\n",
                "# extract values\n",
                "mean(Bootstrapped$t[,1])                                   \n",
                "# alternative to extract values\n",
                "boot.ci(Bootstrapped, conf=0.95)                           \n"
            ]
        },
        {
            "cell_type": "markdown",
            "metadata": {},
            "source": [
                "The advantage of using bootstrapping methods lies in the fact that the data is (frequently) not distributed normally which is not an issue for the bootstrapping and it will thus provide more reliable results as it does not rely on distributional assumptions about the data. \n",
                "\n",
                "## Confidence Intervals for Grouped Data\n",
                "\n",
                "To extract the confidence intervals for grouped data, we can sue the `summarySE` function from the `Rmisc` package.\n"
            ]
        },
        {
            "cell_type": "code",
            "execution_count": null,
            "metadata": {},
            "outputs": [],
            "source": [
                "# apply summarySE function to data\n",
                "Rmisc::summarySE(data=rts,   \n",
                "                 # define variable representing frequencies\n",
                "                 measurevar=\"RT\", \n",
                "                 # define grouping variable\n",
                "                 groupvars=\"Gender\",\n",
                "                 # extract standard deviation, standard error, and confidence intervals\n",
                "                 conf.interval = 0.95)   \n"
            ]
        },
        {
            "cell_type": "markdown",
            "metadata": {},
            "source": [
                "## Confidence Intervals for Nominal Data\n",
                "\n",
                "We now turn to confidence intervals for nominal data. When dealing with nominal data, confidence intervals can be determined with the `binom.test` function in the in-built `stats` package. Alternative methods are available via the `BinomCI` and `MultinomCI` functions from the `DescTools` package.  More advanced techniques for confidence intervals on nominal data are available via the `PropCIs` package.\n"
            ]
        },
        {
            "cell_type": "code",
            "execution_count": null,
            "metadata": {},
            "outputs": [],
            "source": [
                "stats::binom.test(2, 20, 0.5,              # binom.test(x, n, p = 0.5, ...)\n",
                "                  alternative=\"two.sided\", # define sidedness\n",
                "                  conf.level=0.95)         # define confidence level\n"
            ]
        },
        {
            "cell_type": "markdown",
            "metadata": {},
            "source": [
                "Another way to use the `BinomCI` function is shown below.\n",
                " \n"
            ]
        },
        {
            "cell_type": "code",
            "execution_count": null,
            "metadata": {},
            "outputs": [],
            "source": [
                "# extract CIs                  \n",
                "BinomCI(2, 20,                        # apply BinomCI function\n",
                "        conf.level = 0.95,            # define ci\n",
                "        method = \"modified wilson\")   # define method for ci extraction\n"
            ]
        },
        {
            "cell_type": "markdown",
            "metadata": {},
            "source": [
                "## Confidence Intervals for Multinomial Data\n",
                "\n",
                "We use the `MultinomCI` function to extract the confidence intervals form multinominal data.\n"
            ]
        },
        {
            "cell_type": "code",
            "execution_count": null,
            "metadata": {},
            "outputs": [],
            "source": [
                "observed = c(35,74,22,69)       # define multinominal vector\n",
                "MultinomCI(observed,            # apply MultinomCI function\n",
                "           conf.level=0.95,     # define ci\n",
                "           method=\"goodman\")    # define method for ci extraction\n"
            ]
        },
        {
            "cell_type": "markdown",
            "metadata": {},
            "source": [
                "***\n",
                "\n",
                "[Back to LADAL](https://ladal.edu.au/dstats.html)\n",
                "\n",
                "***\n"
            ]
        }
    ],
    "metadata": {
        "anaconda-cloud": "",
        "kernelspec": {
            "display_name": "R",
            "langauge": "R",
            "name": "ir"
        },
        "language_info": {
            "codemirror_mode": "r",
            "file_extension": ".r",
            "mimetype": "text/x-r-source",
            "name": "R",
            "pygments_lexer": "r",
            "version": "3.4.1"
        }
    },
    "nbformat": 4,
    "nbformat_minor": 1
}
