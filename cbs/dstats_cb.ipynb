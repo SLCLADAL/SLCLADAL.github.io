{
    "cells": [
        {
            "cell_type": "markdown",
            "metadata": {},
            "source": [
                "<!--html_preserve-->\n",
                "<!-- Global site tag (gtag.js) - Google Analytics -->\n",
                "<script async src=\"https://www.googletagmanager.com/gtag/js?id=UA-130562131-1\"><\/script>\n",
                "<script>\n",
                "  window.dataLayer = window.dataLayer || [];\n",
                "  function gtag(){dataLayer.push(arguments);}\n",
                "  gtag('js', new Date());\n",
                "\n",
                "  gtag('config', 'UA-130562131-1');\n",
                "<\/script>\n",
                "<!--/html_preserve-->\n"
            ]
        },
        {
            "cell_type": "code",
            "execution_count": null,
            "metadata": {},
            "outputs": [],
            "source": [
                "knitr::include_graphics(\"https://slcladal.github.io/images/uq1.jpg\")\n",
                "\n"
            ]
        },
        {
            "cell_type": "markdown",
            "metadata": {},
            "source": [
                "# Introduction\n",
                "\n",
                "This tutorial focuses on how to describe and summarize data [see e.g. @bickel2012descriptive; @thompson2009descriptive]. The entire R markdown document for this tutorial can be downloaded [here](https://slcladal.github.io/dstats.Rdm).\n",
                "\n",
                "To show why data summaries are useful, think of the following: you are teaching two different classes in the same school, in the same grade, and at the same level. Both classes take the same exam and, after correcting and grading the exams, someone asks you which class performed better. You could of course say something along the lines of *Well, class A had 5 Bs, 10 Cs, 12 Ds, and 2 Fs while class B had 2 As, 8 Bs, 10 Ds, and 4 Fs* but this answer is not really satisfying. Descriptive statistics enable you to summarize complex data sets in very few words and using only very basic, and easy to understand, concepts. And this is what we will be dealing with in the following. \n",
                "\n",
                "Before delving deeper into what descriptive statistics is, it is useful to have a general idea of how it can be contextualized. Thus, on a more general note, we will be dealing only with one particular subbranch of statistics. Statistics in general can be defined as a branch of mathematics that deals with data collection, organization, analysis, interpretation, and presentation. As such, statistics can be subdivided into two main areas. *Descriptive statistics* deals with the description of data and their visualization, while *inferential statistics* deals with data analysis and interpretation. Typically, this means testing assumptions about correlations between variables (see for example [here](https://slcladal.github.io/basicstatzregression.html)). As stated above, here, we will be dealing with the description of data, especially with *measures of central tendency*, *measures of variability* and *confidence intervals*.\n",
                "\n",
                "**Preparation and session set up**\n",
                "\n",
                "This tutorial is based on R. If you have not installed R or are new to it, you will find an introduction to and more information how to use R [here](https://slcladal.github.io/intror.html). For this tutorials, we need to install certain *packages* from an R *library* so that the scripts shown below are executed without errors. Before turning to the code below, please install the packages by running the code below this paragraph. If you have already installed the packages mentioned below, then you can skip ahead and ignore this section. To install the necessary packages, simply run the following code - it may take some time (between 1 and 5 minutes to install all of the libraries so you do not need to worry if it takes some time).\n"
            ]
        },
        {
            "cell_type": "code",
            "execution_count": null,
            "metadata": {},
            "outputs": [],
            "source": [
                "# install packages\n",
                "install.packages(\"tidyverse\")\n",
                "install.packages(\"boot\")\n",
                "install.packages(\"DescTools\")\n",
                "install.packages(\"tidyverse\")\n",
                "install.packages(\"psych\")\n",
                "install.packages(\"Rmisc\")\n",
                "install.packages(\"ggpubr\")\n",
                "install.packages(\"flextable\")\n",
                "# install klippy for copy-to-clipboard button in code chunks\n",
                "remotes::install_github(\"rlesur/klippy\")\n"
            ]
        },
        {
            "cell_type": "markdown",
            "metadata": {},
            "source": [
                "Now that we have installed the packages, we activate them as shown below.\n",
                "\n"
            ]
        },
        {
            "cell_type": "code",
            "execution_count": null,
            "metadata": {},
            "outputs": [],
            "source": [
                "# set options\n",
                "options(stringsAsFactors = F)          # no automatic data transformation\n",
                "options(\"scipen\" = 100, \"digits\" = 12) # suppress math annotation\n",
                "# activate packages\n",
                "library(boot)\n",
                "library(DescTools)\n",
                "library(tidyverse)\n",
                "library(flextable)\n",
                "library(psych)\n",
                "library(Rmisc)\n",
                "library(ggpubr)\n",
                "# activate klippy for copy-to-clipboard button\n",
                "klippy::klippy()\n"
            ]
        },
        {
            "cell_type": "markdown",
            "metadata": {},
            "source": [
                "Once you have installed R and RStudio and initiated the session by executing the code shown above, you are good to go.\n",
                "\n",
                "\n",
                "# Measures of Centrality\n",
                "\n",
                "In linguistics three measures of centrality or measures of central tendency are of particular relevance: the *mean*, the *median* and the *mode* [@gaddis1990introduction]. In addition, there are two more measures of central tendency, the geometric and the harmonic mean which we will only briefly discuss as they are not that relevant for language research. What measure is appropriate depends on the type of variable scaling, the distribution of the data, and what is the intended aim of the data summary.\n"
            ]
        },
        {
            "cell_type": "code",
            "execution_count": null,
            "metadata": {},
            "outputs": [],
            "source": [
                "Means <- c(\"(Arithmetic) mean (average)\", \"Median (middle value)\", \"Mode (most frequent value)\", \"Geometric mean (average factor)\", \"Harmonic mean (average rate)\")\n",
                "Use <- c(\"Description of normally distributed numeric variables (most common measure of central tendency)\", \"Description of non-normal numeric variables or ordinal variables (skewed data or influential outliers)\", \"Description of nominal and categorical variables\", \"Description of dynamic processes such as growth rates\", \"Description of dynamic processes such as velocities\")\n",
                "df <- data.frame(Means, Use)\n"
            ]
        },
        {
            "cell_type": "markdown",
            "metadata": {},
            "source": "\n"
        },
        {
            "cell_type": "code",
            "execution_count": null,
            "metadata": {},
            "outputs": [],
            "source": [
                "# inspect data\n",
                "df %>%\n",
                "  as.data.frame() %>%\n",
                "  flextable::flextable() %>%\n",
                "  flextable::set_table_properties(width = .95, layout = \"autofit\") %>%\n",
                "  flextable::theme_zebra() %>%\n",
                "  flextable::fontsize(size = 12) %>%\n",
                "  flextable::fontsize(size = 12, part = \"header\") %>%\n",
                "  flextable::align_text_col(align = \"center\") %>%\n",
                "  flextable::set_caption(caption = \"Measures of central tendency and their use.\")  %>%\n",
                "  flextable::border_outer()\n"
            ]
        },
        {
            "cell_type": "markdown",
            "metadata": {},
            "source": [
                "In the following we will go over these types of measures of central tendencies, exemplify their use, describe their strengths and weaknesses, and show how to calculate them in R.\n",
                "\n",
                "## Mean{-}\n",
                "\n",
                "The mean is used when the data is numeric and normally distributed. The mean is calculated by applying the formula shown below.\n",
                "\n",
                "\\begin{equation}\n",
                "  \\bar{x}=\\frac{1}{n} \\sum_{i=1}^n x_i = \\frac{x_{1}+x_{2}+ \\dots + x_{n}}{n}\n",
                "\\end{equation}\n",
                "\n",
                "To calculate the mean, sum up all values and divide by the number of values. See the example below for clarification. \n"
            ]
        },
        {
            "cell_type": "code",
            "execution_count": null,
            "metadata": {},
            "outputs": [],
            "source": [
                "df <- data.frame(id = rep(1:4, 2),\n",
                "           g = c(rep(\"x1\", 4), rep(\"x2\", 4)),\n",
                "           freq = c(2, 8, 4, 6, 5, 5, 5, 5)) %>%\n",
                "  dplyr::rename(id = 1, g = 2, freq = 3)\n",
                "df %>%\n",
                "  ggplot(aes(x = id, y = freq, label = freq, fill = g)) +\n",
                "  geom_bar(stat = \"identity\") +\n",
                "  facet_grid(~g) +\n",
                "  theme_void() +\n",
                "  theme(legend.position = \"none\",\n",
                "        strip.background = element_blank(),\n",
                "        strip.text.x = element_blank()) +\n",
                "  ggtitle(\"(Arithmetic) Mean\") +\n",
                "  geom_text(vjust=-1.6, color = \"black\") +\n",
                "  coord_cartesian(ylim = c(0, 9)) +\n",
                "  scale_fill_manual(breaks = \"g\", values = c(x1 = \"gray80\", x2 = \"red\"))\n"
            ]
        },
        {
            "cell_type": "markdown",
            "metadata": {},
            "source": [
                "Consider, we are interested in the mean length of sentences in a short text, then the first thing we could do would be to list the sentences and their length in a table.\n",
                "\n"
            ]
        },
        {
            "cell_type": "code",
            "execution_count": null,
            "metadata": {},
            "outputs": [],
            "source": [
                "Sentences <- c(\"Call me Ishmael\", \"Some years ago -- never mind how long precisely -- having little or no money in my purse, and nothing particular to interest me on shore, I thought I would sail about a little and see the watery part of the world.\", \"It is a way I have of driving off the spleen, and regulating the circulation.\", \"Whenever I find myself growing grim about the mouth; whenever it is a damp, drizzly November in my soul; whenever I find myself involuntarily pausing before coffin warehouses, and bringing up the rear of every funeral I meet; and especially whenever my hypos get such an upper hand of me, that it requires a strong moral principle to prevent me from deliberately stepping into the street, and methodically knocking people's hats off--then, I account it high time to get to sea as soon as I can.\")\n",
                "Words <- c(3, 40, 15, 87)\n",
                "df <- data.frame(Sentences, Words)\n"
            ]
        },
        {
            "cell_type": "markdown",
            "metadata": {},
            "source": [
                "\n",
                "\n"
            ]
        },
        {
            "cell_type": "code",
            "execution_count": null,
            "metadata": {},
            "outputs": [],
            "source": [
                "# inspect data\n",
                "df %>%\n",
                "  as.data.frame() %>%\n",
                "  flextable::flextable() %>%\n",
                "  flextable::set_table_properties(width = .95, layout = \"autofit\") %>%\n",
                "  flextable::theme_zebra() %>%\n",
                "  flextable::fontsize(size = 12) %>%\n",
                "  flextable::fontsize(size = 12, part = \"header\") %>%\n",
                "  flextable::align_text_col(align = \"left\") %>%\n",
                "  flextable::set_caption(caption = \"Sentences of the first paragraph of Herman Melville's *Moby Dick* and the number of words in each sentence.\")  %>%\n",
                "  flextable::border_outer()\n"
            ]
        },
        {
            "cell_type": "markdown",
            "metadata": {},
            "source": [
                "To calculate the mean, we need to divide the sum of the number of words per sentence (145) by the number of sentences (7) (see the equation below).\n",
                "\n",
                "\\begin{equation}\n",
                "\\frac{3+40+15+87}{4} = \\frac{145}{4} = 36.25\n",
                "\\label{eq:mittel2}\n",
                "\\end{equation}\n",
                "\n",
                "The mean sentences length in our example is 36.25 words\n",
                "\n",
                "In R, the *mean* is calculated as follows.\n"
            ]
        },
        {
            "cell_type": "code",
            "execution_count": null,
            "metadata": {},
            "outputs": [],
            "source": [
                "# create numeric vector\n",
                "frequencies <- c(3, 40, 15, 87)\n",
                "# calculate mean\n",
                "mean(frequencies)\n"
            ]
        },
        {
            "cell_type": "markdown",
            "metadata": {},
            "source": [
                "The mean is the most common way to summarize numeric variables and it is very easy and intuitive to understand. A disadvantage of the mean is that it is very strongly affected by outliers which is why the median is the preferable measure of centrality when dealing with data that is not normal or that contains outliers.\n",
                "\n",
                "***\n",
                "\n",
                "<div class=\"warning\" style='padding:0.1em; background-color:#51247a; color:#f2f2f2'>\n",
                "<span>\n",
                "<p style='margin-top:1em; text-align:center'>\n",
                "<b>EXERCISE TIME!<\/b><\/p>\n",
                "<p style='margin-left:1em;'>\n",
                "<\/p><\/span>\n",
                "<\/div>\n",
                "\n",
                "<div class=\"question\">` \n",
                "\n",
                "\n",
                "\n",
                "1. Calculate the arithmetic mean: 1, 2, 3, 4, 5, 6<br>\n",
                "\n",
                "<details>\n",
                "  <summary>Answer<\/summary>\n",
                "  ```{r ex1_1, class.source = NULL, eval = T}\n",
                "  (1 + 2 + 3 + 4 + 5 + 6)/6\n",
                "  ```\n",
                "<\/details>\n",
                "\n",
                "\n",
                "2. Calculate the arithmetic mean for the following values using the `mean` function: 4, 3, 6, 2, 1, 5, 6, 8<br>\n",
                "\n",
                "<details>\n",
                "  <summary>Answer<\/summary>\n",
                "  ```{r ex1_2, class.source = NULL, eval = T}\n",
                "  mean(c(4, 3, 6, 2, 1, 5, 6, 8))\n",
                "  ```\n",
                "<\/details>\n",
                "\n",
                "\n",
                "3. Create a vector out of the following values and calculate the arithmetic mean using the `mean` function: 1, 5, 5, 9<br>\n",
                "\n",
                "<details>\n",
                "  <summary>Answer<\/summary>\n",
                "  ```{r  ex1_3, class.source = NULL, eval = T}\n",
                "  vec <- c(1, 5, 5, 9)\n",
                "  mean(vec)\n",
                "  ```\n",
                "<\/details>\n",
                "\n",
                "<\/div>`\n",
                "\n",
                "***\n",
                "\n",
                "\n",
                "## Median{-}\n",
                "\n",
                "The median can be used for both numeric and ordinal variables. In contract to the mean, it is more robust and not as easily affected by outliers. While the mean is commonly associated with numeric data that is normally distributed, the median is typically used when dealing with non-normal numeric or ordinal variables, i.e. variables that are ordered but not truly numeric. The median is the central value in a de- or increasing ordering of values in a vector. In other words, 50 percent of values are above and 50 percent of values are below the median in a given vector.\n",
                "\n",
                "If the vector contains an even number of elements, then the two central values are summed up and divided by 2. If the vector contains an uneven number of elements, the median represents the central value.\n",
                "\n",
                "\\begin{equation}\n",
                "median_{x}=\n",
                "\\begin{cases}\n",
                "x_{\\frac{n+1}{2}} & n\\text{ uneven} \\\\\n",
                "\\frac{1}{2}\\bigl(x_{\\frac{n}{2}}+x_{\\frac{n+1}{2}}\\bigr) & n\\text{ even}\n",
                "\\end{cases}\n",
                "\\label{eq:median}\n",
                "\\end{equation}\n"
            ]
        },
        {
            "cell_type": "code",
            "execution_count": null,
            "metadata": {},
            "outputs": [],
            "source": [
                "data.frame(id = rep(1:9, 2),\n",
                "           g = c(rep(\"x1\", 9), rep(\"x2\", 9)),\n",
                "           freq = c(5, 2, 9, 7, 1, 3, 8, 4, 6, 1, 2, 3, 4, 5, 6, 7, 8, 9),\n",
                "           clr = c(rep(\"g\", 13), \"r\", rep(\"g\", 4)))  %>%\n",
                "  ggplot(aes(x = id, y = freq, label = freq, fill = clr)) +\n",
                "  geom_bar(stat = \"identity\") +\n",
                "  facet_grid(~g) +\n",
                "  theme_void() +\n",
                "  theme(legend.position = \"none\",\n",
                "        strip.background = element_blank(),\n",
                "        strip.text.x = element_blank()) +\n",
                "  ggtitle(\"Median\") +\n",
                "  scale_fill_manual(breaks = \"clr\", values = c(g = \"gray80\", r = \"red\")) +\n",
                "  geom_text(vjust=-1.6, color = \"black\") +\n",
                "  coord_cartesian(ylim = c(0, 10))\n"
            ]
        },
        {
            "cell_type": "markdown",
            "metadata": {},
            "source": [
                "Let's have a look at an example. Consider you are interested in the age stratification of speakers in the private dialogue section of the Irish component of the *International Corpus of English* (ICE). When tabulating and plotting the age variable you get the following table and graph.\n",
                "\n"
            ]
        },
        {
            "cell_type": "code",
            "execution_count": null,
            "metadata": {},
            "outputs": [],
            "source": [
                "Age <- c(\"0-18\", \"19-25\", \"26-33\", \"34-41\", \"42-49\", \"50+\")\n",
                "Counts <- c(9, 160, 70, 15, 9, 57)\n",
                "df <- data.frame(Age, Counts)\n",
                "# inspect data\n",
                "df  %>%\n",
                "  as.data.frame() %>%\n",
                "  flextable::flextable() %>%\n",
                "  flextable::set_table_properties(width = .5, layout = \"autofit\") %>%\n",
                "  flextable::theme_zebra() %>%\n",
                "  flextable::fontsize(size = 12) %>%\n",
                "  flextable::fontsize(size = 12, part = \"header\") %>%\n",
                "  flextable::align_text_col(align = \"center\") %>%\n",
                "  flextable::set_caption(caption = \"Number of speakers across age groups in the private dialogue section of the Irish component of the  *International Corpus of English* (ICE).\")  %>%\n",
                "  flextable::border_outer()\n"
            ]
        },
        {
            "cell_type": "markdown",
            "metadata": {},
            "source": [
                "\n",
                "\n"
            ]
        },
        {
            "cell_type": "code",
            "execution_count": null,
            "metadata": {},
            "outputs": [],
            "source": [
                "Age <- c(\"0-18\", \"19-25\", \"26-33\", \"34-41\", \"42-49\", \"50+\")\n",
                "Counts <- c(9, 160, 70, 15, 9, 57)\n",
                "data.frame(Age, Counts) %>%\n",
                "  ggplot(aes(Age, Counts, label = Counts)) +\n",
                "  geom_bar(stat = \"identity\") +\n",
                "  geom_text(vjust=-1.6, color = \"black\") +\n",
                "  coord_cartesian(ylim = c(0, 200)) +\n",
                "  theme_bw() +\n",
                "  labs(x = \"\", y = \"Frequency\") +\n",
                "  theme(panel.grid.major = element_blank(), panel.grid.minor = element_blank())\n"
            ]
        },
        {
            "cell_type": "markdown",
            "metadata": {},
            "source": [
                "The age groups represent an order factor which means that there are categories with a natural order (here from old to young or vice versa). If we order speakers according to their age from young to old, we get a vector of length 320. If we then take the central value, i.e. the value of the 160^th^ speaker, we get the median age in the private dialogue section of the Irish component of the *International Corpus of English* (ICE). \n",
                "\n",
                "In R, the *median* is calculated as shown below.\n"
            ]
        },
        {
            "cell_type": "code",
            "execution_count": null,
            "metadata": {},
            "outputs": [],
            "source": [
                "# create a vector consisting out of ranks\n",
                "ranks <- c(rep(1, 9), rep(2, 160), rep(3, 70), rep(4, 15), rep(5, 9), rep(6, 57))\n",
                "# calculate median\n",
                "median(ranks)\n"
            ]
        },
        {
            "cell_type": "markdown",
            "metadata": {},
            "source": [
                "In our case, the median age is *19-25* because the 160^th^ speaker belongs to the 2^nd^ age group, i.e. the age group with speakers between 19 and 25 years old.  \n",
                "\n",
                "***\n",
                "\n",
                "<div class=\"warning\" style='padding:0.1em; background-color:#51247a; color:#f2f2f2'>\n",
                "<span>\n",
                "<p style='margin-top:1em; text-align:center'>\n",
                "<b>EXERCISE TIME!<\/b><\/p>\n",
                "<p style='margin-left:1em;'>\n",
                "<\/p><\/span>\n",
                "<\/div>\n",
                "\n",
                "<div class=\"question\">` \n",
                "\n",
                "\n",
                "\n",
                "1. Calculate the median: 1, 2, 3, 4, 5, 6<br>\n",
                "\n",
                "<details>\n",
                "  <summary>Answer<\/summary>\n",
                "  ```{r ex2_1, class.source = NULL, eval = T}\n",
                "  (3 + 4)/2\n",
                "  ```\n",
                "<\/details>\n",
                "\n",
                "\n",
                "2. Calculate the median for the following values using the `median` function: 4, 3, 6, 2, 1, 5, 6, 8<br>\n",
                "\n",
                "<details>\n",
                "  <summary>Answer<\/summary>\n",
                "  ```{r ex2_2, class.source = NULL, eval = T}\n",
                "  median(c(4, 3, 6, 2, 1, 5, 6, 8))\n",
                "  ```\n",
                "<\/details>\n",
                "\n",
                "\n",
                "3. Create a vector out of the following values and calculate the median using the `median` function: 1, 5, 5, 9<br>\n",
                "\n",
                "<details>\n",
                "  <summary>Answer<\/summary>\n",
                "  ```{r  ex12_3, class.source = NULL, eval = T}\n",
                "  vec <- c(1, 5, 5, 9)\n",
                "  median(vec)\n",
                "  ```\n",
                "<\/details>\n",
                "\n",
                "<\/div>`\n",
                "\n",
                "***\n",
                "\n",
                "## Mode{-}\n",
                "\n",
                "The mode is typically used when dealing with categorical variables and it reports which level of a factor or a categorical variable is the most frequent. \n"
            ]
        },
        {
            "cell_type": "code",
            "execution_count": null,
            "metadata": {},
            "outputs": [],
            "source": [
                "data.frame(id = rep(1:9, 2),\n",
                "           g = c(rep(\"x1\", 9), rep(\"x2\", 9)),\n",
                "           freq = c(5, 2, 9, 7, 1, 3, 8, 4, 6, 1, 2, 3, 4, 5, 6, 7, 8, 9),\n",
                "           clr = c(rep(\"g\", 17), \"r\"))  %>%\n",
                "  ggplot(aes(x = id, y = freq, label = freq, fill = clr)) +\n",
                "  geom_bar(stat = \"identity\") +\n",
                "  facet_grid(~g) +\n",
                "  theme_void() +\n",
                "  theme(legend.position = \"none\",\n",
                "        strip.background = element_blank(),\n",
                "        strip.text.x = element_blank()) +\n",
                "  ggtitle(\"Mode\") +\n",
                "  scale_fill_manual(breaks = \"clr\", values = c(g = \"gray80\", r = \"red\")) +\n",
                "  geom_text(vjust=-1.6, color = \"black\") +\n",
                "  coord_cartesian(ylim = c(0, 10))\n"
            ]
        },
        {
            "cell_type": "markdown",
            "metadata": {},
            "source": [
                "Here is an example to illustrate the mode. Consider you are interested where most speakers in the private dialogue section of the Irish component of the *International Corpus of English* are currently residing and you get the following distribution.\n",
                "\n"
            ]
        },
        {
            "cell_type": "code",
            "execution_count": null,
            "metadata": {},
            "outputs": [],
            "source": [
                "CurrentResidence <- c(\"Belfast\", \"Down\", \"Dublin (city)\", \"Limerick\", \"Tipperary\")\n",
                "Speakers <- c(98, 20, 110, 13, 19)\n",
                "df <- data.frame(CurrentResidence, Speakers) \n",
                "df  %>%\n",
                "  as.data.frame() %>%\n",
                "  flextable::flextable() %>%\n",
                "  flextable::set_table_properties(width = .5, layout = \"autofit\") %>%\n",
                "  flextable::theme_zebra() %>%\n",
                "  flextable::fontsize(size = 12) %>%\n",
                "  flextable::fontsize(size = 12, part = \"header\") %>%\n",
                "  flextable::align_text_col(align = \"center\") %>%\n",
                "  flextable::set_caption(caption = \"Number of speakers across counties of current residency in the private dialogue section of the Irish component of the  *International Corpus of English* (ICE).\")  %>%\n",
                "  flextable::border_outer()\n"
            ]
        },
        {
            "cell_type": "markdown",
            "metadata": {},
            "source": [
                "\n",
                "\n"
            ]
        },
        {
            "cell_type": "code",
            "execution_count": null,
            "metadata": {},
            "outputs": [],
            "source": [
                "df %>%\n",
                "  ggplot(aes(CurrentResidence, Speakers, label = Speakers)) +\n",
                "  geom_bar(stat = \"identity\") +\n",
                "  geom_text(vjust=-1.6, color = \"black\") +\n",
                "  coord_cartesian(ylim = c(0, 200)) +\n",
                "  theme_bw() +\n",
                "  labs(x = \"\", y = \"Frequency\") +\n",
                "  theme(panel.grid.major = element_blank(), panel.grid.minor = element_blank())\n"
            ]
        },
        {
            "cell_type": "markdown",
            "metadata": {},
            "source": [
                "The tabulated and visualized data show that the mode is *Dublin (City)*, because the largest group (110 speakers) of speakers in the corpus are speakers from the city of Dublin. This means that the *average* speaker in in the private dialogue section of the Irish component of the *International Corpus of English* (ICE) is from Dublin city.\n",
                "\n",
                "In R the *mode* is calculated as shown below:\n"
            ]
        },
        {
            "cell_type": "code",
            "execution_count": null,
            "metadata": {},
            "outputs": [],
            "source": [
                "# create a factor with the current residence of speakers\n",
                "CurrentResidence <- c(rep(\"Belfast\", 98),         # repeat \"Belfast\" 98 times\n",
                "                      rep(\"Down\", 20),            # repeat \"Down\" 20 times\n",
                "                      rep(\"Dublin (city)\", 110),  # repeat \"Dublin (city)\" 110 times\n",
                "                      rep(\"Limerick\", 13),        # repeat \"Limerick\" 13 times\n",
                "                      rep(\"Tipperary\", 19))       # repeat \"Tipperary\" 19 times\n",
                "# calculate mode\n",
                "names(which.max(table(CurrentResidence)))         # extract which level occurs most frequently\n"
            ]
        },
        {
            "cell_type": "markdown",
            "metadata": {},
            "source": [
                "A word of warning is in order here as only the first(!) maximal value is provided by R even if several categories have the same frequency. \n",
                "\n",
                "## Geometric mean{-}\n",
                "\n",
                "The geometric mean represents a measure of central tendency that is used when dealing with dynamic processes where the later elements are dependent on the previous elements. The geometric mean is calculated according to the equation below.\n",
                "\n",
                "\\begin{equation}\n",
                "\\bar{x}_{geometric} = \\sqrt[n]{x_1 \\times x_{i+1} \\times \\dots \\times x_n}\n",
                "\\end{equation}\n",
                "\n",
                "Imagine you have the option to buy two different stock packages and you have to buy one of them. Which one would you buy?\n"
            ]
        },
        {
            "cell_type": "code",
            "execution_count": null,
            "metadata": {},
            "outputs": [],
            "source": [
                "Year <- c(\"Year 1\", \"Year 2\", \"Year 3\", \"Year 4\")\n",
                "Package1 <- c(\"+5%\", \"-5%\", \"+5%\", \"-5%\")\n",
                "Package2 <- c(\"+20%\", \"-20%\", \"+20%\", \"-20%\")\n",
                "df <- data.frame(Year, Package1, Package2)\n",
                "df %>%\n",
                "  as.data.frame() %>%\n",
                "  flextable::flextable() %>%\n",
                "  flextable::set_table_properties(width = .75, layout = \"autofit\") %>%\n",
                "  flextable::theme_zebra() %>%\n",
                "  flextable::fontsize(size = 12) %>%\n",
                "  flextable::fontsize(size = 12, part = \"header\") %>%\n",
                "  flextable::align_text_col(align = \"center\") %>%\n",
                "  flextable::set_caption(caption = \"Performance of two stock packages.\")  %>%\n",
                "  flextable::border_outer()\n"
            ]
        },
        {
            "cell_type": "markdown",
            "metadata": {},
            "source": [
                "Is one package better than the other? Did one package perform better than the other?\n",
                "\n",
                "\n",
                "* Package 1:\n",
                "    + Return: $1.05 \\times .95 \\times 1.05 \\times .95  = .995$ (0.5% loss)\n",
                "    + Year-over-year average: $.995^{1/4}$ = ~0.125% loss per year\n",
                "* Package 2:\n",
                "    + Return: $1.2 \\times .8 \\times 1.2 \\times .8 = 0.9216$ (7.84% loss)\n",
                "    + Year-over-year average: $.9216^{1/4}$ = ~2% loss per year.\n",
                "\n",
                "Package 2 performs substantially worse because here, the changes in growth depend on the previous growth rates.\n",
                "\n",
                "## Harmonic mean{-}\n",
                "\n",
                "The harmonic mean is a measure of central tendency that provides us with the average rate and is used when dealing with dynamic processes that involve velocities and distances. The harmonic mean is calculated according to the equation below.\n",
                "\n",
                "\\begin{equation}\n",
                "\\bar{x}_{harmonic} = \n",
                "\\frac{n}{\\frac{1}{x_i} + \\frac{1}{x_{i+1}} + \\frac{1}{x_{i+\\dots}} + \\frac{1}{x_n}}\n",
                "\\end{equation}\n",
                "\n",
                "Let's use an example to see what the harmonic mean describes. Imagine you assign group projects to students and you are interested in the average time it takes them to finalize the projects. The crucial thing is that the end state is the same: the finished project.\n",
                "\n",
                "Let us say there are two groups, group A and group B. It takes group A 30 hours and group B 60 hours to finish their project. What is the average rate at which these two groups have finished their projects? If we used the arithmetic mean, we would say it takes them on average 45 hours to finish their projects but this is not appropriate in the present case.\n",
                "\n",
                "\\begin{equation}\n",
                "\\bar{x}_{harmonic} = \n",
                "\\frac{2}{\\frac{1}{30} + \\frac{1}{60}} = \\frac{2}{\\frac{2}{60} + \\frac{1}{60}} = \\frac{2}{\\frac{3}{60}} = \\frac{2}{1} \\times \\frac{60}{3} = \\frac{120}{3} = 40\n",
                "\\end{equation}\n",
                "\n",
                "The harmonic mean is used when two rates contribute to the same workload (for instance when we download a file). Each installment is in a relay race and contributes the same amount to the issue. For example, we make a round trip to work and back. The way to work is 60 kilometers. On the way to work, we can only travel at 30 kph while we can go 60 kph on the way back. The distance is the same. Half of the results (distance traveled) comes from the first rate (30 kilometers per hour) and the other half from the second rate (60 kilometers per hour). The result is that is takes us 3 hours to get to work and back.\n",
                "\n",
                "The reason why using the arithmetic mean is inappropriate in such cases is the following: The idea behind the arithmetic mean is that we calculate a single value that can replace all values in a given distribution and the sum of the mean values is identical to the sum of the observed values. So, the average is a single element that replaces each element. In our example, we have to drive at 40 kilometers per hour (instead of 30) to work and 40 kilometers per hour (instead of 60) to get back from work in the same amount of time. If we went with 45 kilometers per hour, then the result would not be 3 hours but 2 hours and 40 minutes so that the result would not be the same.\n",
                "\n",
                "## Notes on Measures of Centrality{-}\n",
                "\n",
                "As suggested above, the mean is strongly affected by outliers (which is why in sch cases, the median is the more appropriate measure fo central tendency). To illustrate this, imagine you are interested whether the use of discourse particles differs across two corpora. The two corpora represent the speech of the same five speakers but in different situations and the speech thus represents different registers. In a first step, you calculate the relative frequency of discourse particle use and both corpora have a mean of 13.4 particles per 1,000 words. Given the mean, the two corpora do not seem to differ. However, when tabulating and plotting the use of particles by speaker and across these two corpora, it becomes immediately clear that the mean is not the appropriate measure of  central tendency as the distributions are very dissimilar.  \n"
            ]
        },
        {
            "cell_type": "code",
            "execution_count": null,
            "metadata": {},
            "outputs": [],
            "source": [
                "# create data\n",
                "Corpus <- c(rep(\"C1\", 5), \n",
                "            rep(\"C2\", 5))\n",
                "Speaker <- rep(c(\"A\", \"B\", \"C\", \"D\", \"E\"), 2)  \n",
                "Frequency <- c(11.4, 5.2, 27.1, 9.6, 13.7, 0.2, 0.0, 1.1, 65.3, 0.4)  \n",
                "particletable <- data.frame(Corpus, Speaker, Frequency)\n",
                "# show data\n",
                "particletable %>%\n",
                "  as.data.frame() %>%\n",
                "  flextable::flextable() %>%\n",
                "  flextable::set_table_properties(width = .5, layout = \"autofit\") %>%\n",
                "  flextable::theme_zebra() %>%\n",
                "  flextable::fontsize(size = 12) %>%\n",
                "  flextable::fontsize(size = 12, part = \"header\") %>%\n",
                "  flextable::align_text_col(align = \"center\") %>%\n",
                "  flextable::set_caption(caption = \"Relative frequencies of discourse particles per speaker in two corpora.\")  %>%\n",
                "  flextable::border_outer()\n"
            ]
        },
        {
            "cell_type": "markdown",
            "metadata": {},
            "source": [
                "\n",
                "\n"
            ]
        },
        {
            "cell_type": "code",
            "execution_count": null,
            "metadata": {},
            "outputs": [],
            "source": [
                "pdat1 <- particletable %>%\n",
                "  dplyr::group_by(Corpus) %>%\n",
                "  dplyr::mutate(Median = median(Frequency),\n",
                "                Mean = mean(Frequency))\n",
                "pdat1 %>%\n",
                "  ggplot(aes(x = Speaker, y = Frequency, label = Frequency, fill = Corpus)) +\n",
                "  geom_bar(stat = \"identity\", position = position_dodge()) +\n",
                "  theme_bw() +\n",
                "  labs(title = \"Use of discourse particles across two corpora.\", y = \"Relative Frequency\") +\n",
                "  scale_fill_manual(breaks = Corpus, values = c(C1 = \"gray80\", C2 = \"red\")) +\n",
                "  geom_text(aes(y = -5, label = Frequency), position = position_dodge(0.9)) +\n",
                "  coord_cartesian(ylim = c(-10, 80)) +\n",
                "  theme(legend.position = \"top\")\n"
            ]
        },
        {
            "cell_type": "markdown",
            "metadata": {},
            "source": [
                "\n",
                "\n"
            ]
        },
        {
            "cell_type": "code",
            "execution_count": null,
            "metadata": {},
            "outputs": [],
            "source": [
                "pdat1 %>%\n",
                "  ggplot(aes(x = Speaker, y = Frequency, label = Frequency, fill = Corpus)) +\n",
                "  geom_bar(stat = \"identity\", position = position_dodge()) +\n",
                "  theme_bw() +\n",
                "  geom_hline(aes(yintercept = Mean), col = \"black\", linetype = 2, size = 1) +\n",
                "  geom_text(aes(.75, Mean, label = paste0(\"Mean = \", Mean), vjust = -1)) +\n",
                "  geom_hline(data = pdat1 %>% filter(Corpus == \"C1\"),\n",
                "             aes(yintercept = Median), col = \"darkgray\", linetype = 3, size = 1) +\n",
                "  geom_hline(data = pdat1 %>% filter(Corpus == \"C2\"),\n",
                "             aes(yintercept = Median), col = \"red\", linetype = 3, size = 1) +\n",
                "  geom_text(aes(.75, Mean, label = paste0(\"Mean = \", Mean), vjust = -1)) +\n",
                "  geom_text(data = pdat1 %>% filter(Corpus == \"C1\"),\n",
                "             aes(5, Median, label = paste0(\"Median C1 = \", Median)), vjust = 1) +\n",
                "  geom_text(data = pdat1 %>% filter(Corpus == \"C2\"),\n",
                "             aes(5, Median, label = paste0(\"Median C2 = \", Median)), vjust = 0) +\n",
                "  labs(title = \"Use of discourse particles across two corpora.\", y = \"Relative Frequency\") +\n",
                "  scale_fill_manual(breaks = Corpus, values = c(C1 = \"gray80\", C2 = \"red\")) +\n",
                "  geom_text(aes(y = -5, label = Frequency), position = position_dodge(0.9)) +\n",
                "  coord_cartesian(ylim = c(-10, 80)) +\n",
                "  theme(legend.position = \"top\")\n"
            ]
        },
        {
            "cell_type": "markdown",
            "metadata": {},
            "source": [
                "The Figure above shows that the use of discourse particles is distributed rather evenly across speakers in Corpus 1 while the distribution is very uneven in corpus 2. In corpus 2, 4 out of 5 speakers use almost no discourse particles and only one speaker, speaker D, makes excessive use of discourse particles in corpus 2. The high usage frequency of discourse particles by speaker D in corpus 2 causes the mean of corpus 2 to be identical to the mean reported for corpus 1 although the distribution of usage rates differs drastically. This means that reporting the median in addition to the mean can be useful if the distribution of values is very uneven (or non-normal or skewed).\n",
                "\n",
                "To exemplify, we will summarize the distribution of discourse particles in the two corpora: the use of discourse particles in corpus 1 (mean = 13.4, median = 11.4) is substantially different from the use of discourse particles in corpus 2 (mean = 13.4, median = 0.4).\n",
                "\n",
                "\n",
                "# Measures of Variability\n",
                "\n",
                "Measures of variability provide information about the distribution of values such as whether the data are distributed evenly and do not differ substantially or whether the data are rather heterogeneous and are distributed very unevenly [@thompson2009descriptive]. In the following, we will have a look at the *variance* and the *standard deviation*. \n",
                "\n",
                "As before, we will use a practical example to see the usefulness of applying measures of variability. Imagine you dealing with two cities, let's say Moscow and Hamburg, that have the same mean temperature per year. However, the variability of temperatures varies differs dramatically between the Moscow and Hamburg.\n"
            ]
        },
        {
            "cell_type": "code",
            "execution_count": null,
            "metadata": {},
            "outputs": [],
            "source": [
                "Month <- c(\"January\", \"February\", \"March\", \"April\", \"May\", \"June\", \"July\", \"August\", \"September\", \"October\", \"November\", \"December\", \"Mean\")\n",
                "Moscow <- c(-5, -12, 5, 12, 15, 18, 22, 23, 20, 16, 8, 1, 10.25)  \n",
                "Hamburg <- c(7, 7, 8, 9, 10, 13, 15, 15, 13, 11, 8, 7, 10.25)  \n",
                "temprature <- data.frame(Month, Moscow, Hamburg)\n",
                "# show data\n",
                "temprature %>%\n",
                "  as.data.frame() %>%\n",
                "  flextable::flextable() %>%\n",
                "  flextable::set_table_properties(width = .75, layout = \"autofit\") %>%\n",
                "  flextable::theme_zebra() %>%\n",
                "  flextable::fontsize(size = 12) %>%\n",
                "  flextable::fontsize(size = 12, part = \"header\") %>%\n",
                "  flextable::align_text_col(align = \"center\") %>%\n",
                "  flextable::set_caption(caption = \"Average temperature in Hamburg and Moscow by month.\")  %>%\n",
                "  flextable::border_outer()\n"
            ]
        },
        {
            "cell_type": "markdown",
            "metadata": {},
            "source": "\n"
        },
        {
            "cell_type": "code",
            "execution_count": null,
            "metadata": {},
            "outputs": [],
            "source": [
                "Temperature <- c(-5, -12, 5, 12, 15, 18, 22, 23,  20, 16, 8, 1,\n",
                "                 7, 7,  8,  9, 10, 13, 15, 15,  13, 11,  8, 7)\n",
                "Month <- rep(c(\"January\", \"February\", \"March\", \"April\", \"May\", \"June\", \"July\", \"August\", \"September\", \"October\", \"November\", \"December\"), 2)\n",
                "City = c(rep(\"Moscow\", 12), rep(\"Hamburg\", 12))\n",
                "# combine data in data frame\n",
                "lineplotdata <- data.frame(City, Month, Temperature) %>%\n",
                "  dplyr::mutate(Month = factor(Month, levels = c(\"January\", \"February\", \"March\", \n",
                "                                                 \"April\", \"May\", \"June\", \"July\", \"August\", \n",
                "                                                 \"September\", \"October\", \"November\", \"December\")))\n",
                "lineplotdata %>%\n",
                "  ggplot(aes(x = Month, y = Temperature, group = City, color = City,  linetype = City)) +\n",
                "  geom_line(size = 1) +\n",
                "  theme_bw() +\n",
                "  theme(legend.position = \"top\", \n",
                "        panel.grid.major = element_blank(), \n",
                "        panel.grid.minor = element_blank(),\n",
                "        axis.text.x = element_text(angle = 45, hjust = 1)) +\n",
                "  labs(x = \"\") +\n",
                "  scale_color_manual(name = \"City\",\n",
                "                     labels = c(\"Moscow\", \"Hamburg\"), \n",
                "                     breaks = c(\"Moscow\", \"Hamburg\"), \n",
                "                     values = c(\"gray80\", \"red\"))  +\n",
                "  scale_linetype_manual(name = \"City\",\n",
                "                     labels = c(\"Moscow\", \"Hamburg\"), \n",
                "                     breaks = c(\"Moscow\", \"Hamburg\"), \n",
                "                     values = c(\"dashed\", \"solid\"))\n"
            ]
        },
        {
            "cell_type": "markdown",
            "metadata": {},
            "source": [
                "In the following, we will discuss and calculate different measures of variability for the two cities.\n",
                "\n",
                "## Range{-}\n",
                "\n",
                "The range is the simplest measure of variability and reports the lowest and highest value of a distribution. That is, the range provides minimum and maximum of a vector to show the span of values within a distribution.\n",
                "\n",
                "In R, the *range* is extracted as shown below.\n"
            ]
        },
        {
            "cell_type": "code",
            "execution_count": null,
            "metadata": {},
            "outputs": [],
            "source": [
                "# create a numeric vector\n",
                "Moscow <- c(-5, -12, 5, 12, 15, 18, 22, 23, 20, 16, 8, 1)\n",
                "min(Moscow); max(Moscow) # extract range\n"
            ]
        },
        {
            "cell_type": "markdown",
            "metadata": {},
            "source": [
                "The lowest temperature value for Moscow is -12 degrees Celsius and the highest value is 23 degrees Celsius. The range thus spans from -12 to 23. \n",
                "\n",
                "## Interquartile range (IQR){-}\n",
                "\n",
                "The interquartile range (IQR) denotes the range that encompasses the central 50 percent of data points and thus  informs about how values are distributed. This means that the IQR spans from the first quartile that encompasses 25 percent of the data to the third quartile that encompasses 75 percent of the data. \n",
                "\n",
                "The easiest way to extract the IQR in R is to apply the `summary` function to a vector as shown below and then subtract the value of the  1^st^ quartile from the value of the 3^rd^ quartile.\n"
            ]
        },
        {
            "cell_type": "code",
            "execution_count": null,
            "metadata": {},
            "outputs": [],
            "source": [
                "summary(Moscow) # extract IQR\n",
                "\n"
            ]
        },
        {
            "cell_type": "markdown",
            "metadata": {},
            "source": [
                "The `summary` function reports that the minimum temperature is -12 degrees Celsius and that the maximum temperature is 23 degrees Celsius. Also, the lower 25 percent of the data fall within -12 and 4 degrees Celsius (from the minimum value to the 1^st^ quartile) and the upper 25 percent fall within 18.5 and 23 degrees Celsius (from the 3^rd^ quartile to the maximum value). The IQR range represents a range that encompasses the central 50% of the data and thus represents the value that can be calculated by subtracting the value of the 1^st^ from the value of the 3^rd^ quartile..\n",
                "\n",
                "Thus, the IQR is 18.5 - 4 = 14.5 \n",
                "\n",
                ".\n",
                "\n",
                "## Variance{-}\n",
                "\n",
                "The variance is calculated according to the formula below. To calculate the variance, each value is subtracted from the mean and the result is squared. The squared values are then added and the resulting sum is divided by the number of values minus 1.\n",
                "\n",
                "\n",
                "$s = \\sigma^2 = \\frac{1}{n-1} \\sum_{i=1}^{n} (x_i - \\bar{x})^{2}$\n",
                "\n",
                "\n",
                "For our example, the variance of temperatures for Moscow is 123.6591 and 9.477273 for Hamburg.\n",
                "\n",
                "In R, the *variance* is calculated as shown below.\n"
            ]
        },
        {
            "cell_type": "code",
            "execution_count": null,
            "metadata": {},
            "outputs": [],
            "source": [
                "sd(Moscow)^2\n",
                "\n"
            ]
        },
        {
            "cell_type": "markdown",
            "metadata": {},
            "source": [
                "## Standard deviation{-}\n",
                "\n",
                "The standard deviation (abbreviated with capital $sigma$ $\\sigma$) is calculated according to first equation shown below or, alternatively, according to second equation shown below and it is the square root of the squared variance.\n",
                "\n",
                "$\\sigma = \\sqrt{s} = \\sqrt{\\frac{1}{n-1} \\sum_{i=1}^{n} (x_i - \\bar{x})^2}$\n",
                "\n",
                "$\\sigma = \\sqrt{\\frac{ \\sum_{i=1}^{n} (x_i - \\bar{x})^2}{n-1}}$\n",
                "\n",
                "For our example, the first equation shown above provides a standard deviation of 11.12 for Moscow and a standard deviation of 3.08 for Hamburg.\n",
                "\n",
                "In R, the *standard deviation* is calculated as shown below.\n"
            ]
        },
        {
            "cell_type": "code",
            "execution_count": null,
            "metadata": {},
            "outputs": [],
            "source": [
                "# calculate standard deviation\n",
                "sd(Moscow) \n"
            ]
        },
        {
            "cell_type": "markdown",
            "metadata": {},
            "source": [
                "The standard deviation of temperature values of Moscow is 11.12.\n",
                "\n",
                "\n",
                "***\n",
                "\n",
                "<div class=\"warning\" style='padding:0.1em; background-color:#51247a; color:#f2f2f2'>\n",
                "<span>\n",
                "<p style='margin-top:1em; text-align:center'>\n",
                "<b>EXERCISE TIME!<\/b><\/p>\n",
                "<p style='margin-left:1em;'>\n",
                "<\/p><\/span>\n",
                "<\/div>\n",
                "\n",
                "<div class=\"question\">` \n",
                "\n",
                "\n",
                "\n",
                "1. Calculate the mean, median, and mode as well as the standard deviation for the following two vectors<br>A: 1, 3, 6, 2, 1, 1, 6, 8, 4, 2, 3, 5, 0, 0, 2, 1, 2, 1, 0<br>B: 3, 2, 5, 1, 1, 4, 0, 0, 2, 3, 0, 3, 0, 5, 4, 5, 3, 3, 4<br>\n",
                "\n",
                "<details>\n",
                "  <summary>Answer<\/summary>\n",
                "  ```{r ex1, class.source = NULL, eval = FALSE}\n",
                "  A <- c(1, 3, 6, 2, 1, 1, 6, 8, 4, 2, 3, 5, 0, 0, 2, 1, 2, 1, 0)\n",
                "  B <- c(3, 2, 5, 1, 1, 4, 0, 0, 2, 3, 0, 3, 0, 5, 4, 5, 3, 3, 4)\n",
                "  mean(A)\n",
                "  median(A)\n",
                "  max(A)\n",
                "  sd(A)\n",
                "  mean(B)\n",
                "  median(B)\n",
                "  max(B)\n",
                "  sd(B)\n",
                "  ```\n",
                "<\/details>\n",
                "\n",
                "\n",
                "2. Find a partner and discuss which measure of central tendency is appropriate when dealing with grades. Then, find another partner and see whether they have come to the same conclusion or discuss why if not. Finally, discuss the advantages and disadvantages of calculating the mean when dealing with grades.\n",
                "\n",
                "<details>\n",
                "  <summary>Answer<\/summary>\n",
                "  The problem is that - strictly speaking - grades are ordinal and not numeric (i.e., interval- or ratio-scaled). This means that calculating the arithmetic mean is somewhat controversial. To resolve this issue, it is recommendable to either calculate the median (rather than the mean) or to be transparent about this issue and inform readers that the mean was used despite dealing with an ordinal variable.\n",
                "<\/details>\n",
                "\n",
                "\n",
                "3. Where are mean, median, and mode when dealing with normal data (i.e., when the data approximate a normal distribution)?\n",
                "\n",
                "<details>\n",
                "  <summary>Answer<\/summary>\n",
                "  When dealing with normally distributed data, the arithmetic mean, median, and mode would ideally be identical (which is extremely rare when working with empirical data) or, at least, very similar.\n",
                "<\/details>\n",
                "\n",
                "4. Go and find a partner and discuss what it means - on a conceptual level rather than on a statistical/mathematical level - that two groups have different ranges for a certain feature (be careful, this is not as trivial as it may seem!).\n",
                "\n",
                "<\/div>`\n",
                "\n",
                "***\n",
                "\n",
                "## Standard Error{-}\n",
                "\n",
                "The standard error is a measure of variability and it reports the average distance from some parameters (most often from the mean). It is calculated as the standard deviation of the residuals of the parameter in question. To exemplify the standard error, we will have a look at reaction times which show how fast participants realized that a sequence of letters were either existing words or just a sequence of letters. \n"
            ]
        },
        {
            "cell_type": "code",
            "execution_count": null,
            "metadata": {},
            "outputs": [],
            "source": [
                "set.seed(12345)\n",
                "RT = c(rnorm(5, 400, 50), rnorm(5, 380, 50), rnorm(5, 450, 50), rnorm(5, 480, 50))\n",
                "State = c(rep(\"Sober\", 10), rep(\"Drunk\", 10))\n",
                "Gender = rep(c(rep(\"Male\", 5), rep(\"Female\", 5)), 2)\n",
                "rts <- data.frame(RT, State, Gender) %>%\n",
                "  dplyr::mutate(RT = round(RT, 3))\n",
                "# show data\n",
                "rts %>%\n",
                "  as.data.frame() %>%\n",
                "  head(20) %>%\n",
                "  flextable::flextable() %>%\n",
                "  flextable::set_table_properties(width = .75, layout = \"autofit\") %>%\n",
                "  flextable::theme_zebra() %>%\n",
                "  flextable::fontsize(size = 12) %>%\n",
                "  flextable::fontsize(size = 12, part = \"header\") %>%\n",
                "  flextable::align_text_col(align = \"center\") %>%\n",
                "  flextable::set_caption(caption = \"Reaction times while sober and drunk.\")  %>%\n",
                "  flextable::border_outer()\n"
            ]
        },
        {
            "cell_type": "markdown",
            "metadata": {},
            "source": [
                "The standard error of the mean is calculated using the equation below.\n",
                "\n",
                "\\begin{equation}\n",
                "\\sigma~{\\bar{x}}~ =\\frac{\\sigma}{\\sqrt{n}} \n",
                "\\end{equation}\n",
                "\n",
                "The standard error can be calculated manually (see below) by implementing the equation from above.\n"
            ]
        },
        {
            "cell_type": "code",
            "execution_count": null,
            "metadata": {},
            "outputs": [],
            "source": [
                "sd(rts$RT, na.rm=TRUE) /  \n",
                "   sqrt(length(rts$RT[!is.na(rts$RT)]))  \n"
            ]
        },
        {
            "cell_type": "markdown",
            "metadata": {},
            "source": [
                "An easier way to extract standard errors is to use the `describe` function from the `psych` package (see below)\n",
                "\n"
            ]
        },
        {
            "cell_type": "code",
            "execution_count": null,
            "metadata": {},
            "outputs": [],
            "source": [
                "# describe data\n",
                "psych::describe(rts$RT, type=2)\n"
            ]
        },
        {
            "cell_type": "markdown",
            "metadata": {},
            "source": [
                "# Confidence Intervals\n",
                "\n",
                "Confidence intervals provide an estimation of in-between which values the reported value would lie in the population with a confidence of, e.g., 95 percent. \n",
                "\n",
                "\\begin{equation}\n",
                "  \\bar{x} \\mp z \\frac{s}{\\sqrt{n}}\n",
                "\\end{equation}\n",
                "\n",
                "The z-value for 95% probability (a two-tailed) of a normal distribution is 1.96. To check this, we can use the `qnorm` function and extract the z-value for a probability of .975 - we do not use .95 because we want 2.5% of the lower tail (-1.96) and 2.5% of the higher tail (1.96). \n"
            ]
        },
        {
            "cell_type": "code",
            "execution_count": null,
            "metadata": {},
            "outputs": [],
            "source": [
                "qnorm(0.975)   \n",
                "\n"
            ]
        },
        {
            "cell_type": "markdown",
            "metadata": {},
            "source": [
                "This means that for a 95% confidence interval for normally distributed data, we can use the formula shown below.\n",
                "\n",
                "\\begin{equation}\n",
                "  \\bar{x} \\mp 1.96 \\frac{s}{\\sqrt{n}}\n",
                "\\end{equation}\n",
                "\n",
                "If we have a vector of values (e.g., 4,5,2,3,1,4,3,6,3,2,4,1), we can easily calculate the confidence intervals for the mean as follows.\n"
            ]
        },
        {
            "cell_type": "code",
            "execution_count": null,
            "metadata": {},
            "outputs": [],
            "source": [
                "# calculate mean\n",
                "m <- mean(c(4,5,2,3,1,4,3,6,3,2,4,1))\n",
                "# calculate standard deviation\n",
                "s <- sd(c(4,5,2,3,1,4,3,6,3,2,4,1))\n",
                "# calculate n\n",
                "n <- length(c(4,5,2,3,1,4,3,6,3,2,4,1))\n",
                "# calculate lower and upper ci\n",
                "lower <- m-1.96*(s/sqrt(n))\n",
                "upper <- m+1.96*(s/sqrt(n))\n",
                "# show lower ci, mean, and upper ci\n",
                "lower; m; upper\n"
            ]
        },
        {
            "cell_type": "markdown",
            "metadata": {},
            "source": [
                "There are several functions in R to extract confidence intervals. To show how you can do this for different types of elements, we will continue to work with the reaction times data.\n",
                "\n",
                "***\n",
                "\n",
                "<div class=\"warning\" style='padding:0.1em; background-color:#51247a; color:#f2f2f2'>\n",
                "<span>\n",
                "<p style='margin-top:1em; text-align:center'>\n",
                "<b>EXERCISE TIME!<\/b><\/p>\n",
                "<p style='margin-left:1em;'>\n",
                "<\/p><\/span>\n",
                "<\/div>\n",
                "\n",
                "<div class=\"question\">` \n",
                "\n",
                "1. Calculate the mean and confidence interval: 1, 2, 3, 4, 5, 6, 7, 8, 9<br>\n",
                "\n",
                "<details>\n",
                "  <summary>Answer<\/summary>\n",
                "  ```{r ex11_1, class.source = NULL, eval = T}\n",
                "  # calculate mean\n",
                "  m <- mean(c(1, 2, 3, 4, 5, 6, 7, 8, 9))\n",
                "  # calculate standard deviation\n",
                "  s <- sd(c(1, 2, 3, 4, 5, 6, 7, 8, 9))\n",
                "  # calculate n\n",
                "  n <- length(c(1, 2, 3, 4, 5, 6, 7, 8, 9))\n",
                "  # calculate lower and upper ci\n",
                "  lower <- m-1.96*(s/sqrt(n))\n",
                "  upper <- m+1.96*(s/sqrt(n))\n",
                "  # show lower ci, mean, and upper ci\n",
                "  lower; m; upper\n",
                "  ```\n",
                "<\/details>\n",
                "\n",
                "2. Calculate the mean and confidence interval: 3, 4, 5, 4, 3, 4, 5, 4, 3<br>\n",
                "\n",
                "<details>\n",
                "  <summary>Answer<\/summary>\n",
                "  ```{r ex11_2, class.source = NULL, eval = T}\n",
                "  # calculate mean\n",
                "  m <- mean(c(3, 4, 5, 4, 3, 4, 5, 4, 3))\n",
                "  # calculate standard deviation\n",
                "  s <- sd(c(3, 4, 5, 4, 3, 4, 5, 4, 3))\n",
                "  # calculate n\n",
                "  n <- length(c(3, 4, 5, 4, 3, 4, 5, 4, 3))\n",
                "  # calculate lower and upper ci\n",
                "  lower <- m-1.96*(s/sqrt(n))\n",
                "  upper <- m+1.96*(s/sqrt(n))\n",
                "  # show lower ci, mean, and upper ci\n",
                "  lower; m; upper\n",
                "  ```\n",
                "<\/details>\n",
                "\n",
                "<\/div>`\n",
                "\n",
                "***\n",
                "\n",
                "## Confidence Intervals for Simple Vectors{-}\n",
                "\n",
                "Confidence intervals (CIs) give a range that’s likely to include a population value with a certain degree of confidence. As such, CIs tell us how likely it is to get a value within a certain range if we drew another sample from the same population. \n",
                "\n",
                "One easy method for extracting confidence intervals is to apply the `CI` function from the `Rmisc` package.\n"
            ]
        },
        {
            "cell_type": "code",
            "execution_count": null,
            "metadata": {},
            "outputs": [],
            "source": [
                "# extract mean and confidence intervals\n",
                "Rmisc::CI(rts$RT, ci=0.95)   \n"
            ]
        },
        {
            "cell_type": "markdown",
            "metadata": {},
            "source": [
                "\n",
                "\n"
            ]
        },
        {
            "cell_type": "code",
            "execution_count": null,
            "metadata": {},
            "outputs": [],
            "source": [
                "# extract mean and confidence intervals\n",
                "tt <- Rmisc::CI(rts$RT, ci=0.95)  \n"
            ]
        },
        {
            "cell_type": "markdown",
            "metadata": {},
            "source": [
                "The ´CI´ function provides the mean reaction time (`r tt[2]`) and the 95 percent confidence band. With 95 percent confidence, the mean reaction time will have a mean between `r round(tt[3], 2)`  and `r round(tt[1], 2)` miliseconds (ms).\n",
                "\n",
                "Another way to extract the mean and its confidence intervals is by using  `t.test` function.  \n"
            ]
        },
        {
            "cell_type": "code",
            "execution_count": null,
            "metadata": {},
            "outputs": [],
            "source": [
                "# extract mean and confidence intervals\n",
                "stats::t.test(rts$RT, conf.level=0.95)  \n"
            ]
        },
        {
            "cell_type": "markdown",
            "metadata": {},
            "source": [
                "Another alternative to extract the man ans the confidence interval from a range of values is to use the `MeanCI` function from the `DescTools` package.\n",
                "\n"
            ]
        },
        {
            "cell_type": "code",
            "execution_count": null,
            "metadata": {},
            "outputs": [],
            "source": [
                "# extract mean and confidence intervals\n",
                "DescTools::MeanCI(rts$RT, conf.level=0.95)   \n"
            ]
        },
        {
            "cell_type": "markdown",
            "metadata": {},
            "source": [
                "A very interesting alternative to extract the mean and the confidence intervals from a range of values is to apply the `MeanCI` function from the `DescTools` package. This method is particularly interesting because it uses bootstrapping or resampling the data. As such, it is an empirical method to extract the mean and the confidence intervals. The values will differ given how many samples are drawn and we can get very precise estimates using this method.\n",
                "\n"
            ]
        },
        {
            "cell_type": "code",
            "execution_count": null,
            "metadata": {},
            "outputs": [],
            "source": [
                "# extract mean CIs\n",
                "DescTools::MeanCI(rts$RT, method=\"boot\", type=\"norm\", R=1000)\n"
            ]
        },
        {
            "cell_type": "markdown",
            "metadata": {},
            "source": [
                "Because this is a data-driven approach, the results will vary, depending on the characteristics of the resampled data. To illustrate, compare the values provided above to the values generated below.\n",
                "\n"
            ]
        },
        {
            "cell_type": "code",
            "execution_count": null,
            "metadata": {},
            "outputs": [],
            "source": [
                "# extract mean CIs\n",
                "DescTools::MeanCI(rts$RT, method=\"boot\", type=\"norm\", R=1000)\n"
            ]
        },
        {
            "cell_type": "markdown",
            "metadata": {},
            "source": [
                "Another method for extracting the mean and the confidence intervals from a range of values using bootstrapping is to use the `boot` function from the `boot` package.\n",
                "\n"
            ]
        },
        {
            "cell_type": "code",
            "execution_count": null,
            "metadata": {},
            "outputs": [],
            "source": [
                "# function to extract values\n",
                "BootFunction = function(x, index) {                        \n",
                "                  return(c(mean(x[index]),\n",
                "                           var(x[index]) / length(index)))\n",
                "}\n",
                "# apply function to data\n",
                "Bootstrapped = boot(data=rts$RT,     \n",
                "                    statistic=BootFunction,\n",
                "                    R=1000)\n",
                "# extract values\n",
                "mean(Bootstrapped$t[,1])                                   \n",
                "# alternative to extract values\n",
                "boot.ci(Bootstrapped, conf=0.95)                           \n"
            ]
        },
        {
            "cell_type": "markdown",
            "metadata": {},
            "source": [
                "The advantage of using bootstrapping methods lies in the fact that the data is (frequently) not distributed normally which is not an issue for the bootstrapping and it will thus provide more reliable results as it does not rely on distributional assumptions about the data. \n",
                "\n",
                "## Confidence Intervals for Grouped Data{-}\n",
                "\n",
                "To extract the confidence intervals for grouped data, we can sue the `summarySE` function from the `Rmisc` package.\n"
            ]
        },
        {
            "cell_type": "code",
            "execution_count": null,
            "metadata": {},
            "outputs": [],
            "source": [
                "# apply summarySE function to data\n",
                "Rmisc::summarySE(data=rts,   \n",
                "                 # define variable representing frequencies\n",
                "                 measurevar=\"RT\", \n",
                "                 # define grouping variabel\n",
                "                 groupvars=\"Gender\",\n",
                "                 # extract standard deviation, standard error, and confidence intervals\n",
                "                 conf.interval = 0.95)   \n"
            ]
        },
        {
            "cell_type": "markdown",
            "metadata": {},
            "source": [
                "## Confidence Intervals for Nominal Data{-}\n",
                "\n",
                "We now turn to confidence intervals for nominal data [see also @thomas1975confidence]. When dealing with nominal data, confidence intervals can be determined with the `binom.test` function in the in-built `stats` package. Alternative methods are available via the `BinomCI` and `MultinomCI` functions from the `DescTools` package.  More advanced techniques for confidence intervals on nominal data are available via the `PropCIs` package.\n"
            ]
        },
        {
            "cell_type": "code",
            "execution_count": null,
            "metadata": {},
            "outputs": [],
            "source": [
                "stats::binom.test(2, 20, 0.5,              # binom.test(x, n, p = 0.5, ...)\n",
                "                  alternative=\"two.sided\", # define sidedness\n",
                "                  conf.level=0.95)         # define confidence level\n"
            ]
        },
        {
            "cell_type": "markdown",
            "metadata": {},
            "source": [
                "Another way to use the `BinomCI` function is shown below.\n",
                " \n"
            ]
        },
        {
            "cell_type": "code",
            "execution_count": null,
            "metadata": {},
            "outputs": [],
            "source": [
                "# extract CIs                  \n",
                "BinomCI(2, 20,                        # apply BinomCI function\n",
                "        conf.level = 0.95,            # define ci\n",
                "        method = \"modified wilson\")   # define method for ci extraction\n"
            ]
        },
        {
            "cell_type": "markdown",
            "metadata": {},
            "source": [
                "## Confidence Intervals for Multinomial Data{-}\n",
                "\n",
                "We use the `MultinomCI` function to extract the confidence intervals form multinominal data.\n"
            ]
        },
        {
            "cell_type": "code",
            "execution_count": null,
            "metadata": {},
            "outputs": [],
            "source": [
                "observed = c(35,74,22,69)       # define multinominal vector\n",
                "MultinomCI(observed,            # apply MultinomCI function\n",
                "           conf.level=0.95,     # define ci\n",
                "           method=\"goodman\")    # define method for ci extraction\n"
            ]
        },
        {
            "cell_type": "markdown",
            "metadata": {},
            "source": [
                "# Citation & Session Info {-}\n",
                "\n",
                "Schweinberger, Martin. `r format(Sys.time(), '%Y')`. *Descriptive Statistics with R*. Brisbane: The University of Queensland. url: https://slcladal.github.io/dstats.html (Version `r format(Sys.time(), '%Y.%m.%d')`).\n"
            ]
        },
        {
            "cell_type": "code",
            "execution_count": null,
            "metadata": {},
            "outputs": [],
            "source": [
                "@manual{schweinberger`r format(Sys.time(), '%Y')`desc,\n",
                "  author = {Schweinberger, Martin},\n",
                "  title = {Descriptive Statistics with R},\n",
                "  note = {https://slcladal.github.io/dstats.html},\n",
                "  year = {`r format(Sys.time(), '%Y')`},\n",
                "  organization = \"The University of Queensland, Australia. School of Languages and Cultures},\n",
                "  address = {Brisbane},\n",
                "  edition = {`r format(Sys.time(), '%Y.%m.%d')`}\n",
                "}\n"
            ]
        },
        {
            "cell_type": "markdown",
            "metadata": {},
            "source": [
                "\n",
                "\n"
            ]
        },
        {
            "cell_type": "code",
            "execution_count": null,
            "metadata": {},
            "outputs": [],
            "source": [
                "sessionInfo()\n",
                "\n"
            ]
        },
        {
            "cell_type": "markdown",
            "metadata": {},
            "source": [
                "***\n",
                "\n",
                "[Back to top](#introduction)\n",
                "\n",
                "[Back to HOME](https://slcladal.github.io/index.html)\n",
                "\n",
                "***\n",
                "\n",
                "\n",
                "# References{-}\n"
            ]
        }
    ],
    "metadata": {
        "anaconda-cloud": "",
        "kernelspec": {
            "display_name": "R",
            "langauge": "R",
            "name": "ir"
        },
        "language_info": {
            "codemirror_mode": "r",
            "file_extension": ".r",
            "mimetype": "text/x-r-source",
            "name": "R",
            "pygments_lexer": "r",
            "version": "3.4.1"
        }
    },
    "nbformat": 4,
    "nbformat_minor": 1
}
