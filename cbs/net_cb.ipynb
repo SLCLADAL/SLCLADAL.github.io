{
    "cells": [
        {
            "cell_type": "markdown",
            "metadata": {},
            "source": [
                "![An interactive LADAL notebook](https://slcladal.github.io/images/uq1.jpg)\n",
                "\n",
                "\n",
                "This tutorial is the interactive Jupyter notebook accompanying the [Language Technology and Data Analysis Laboratory (LADAL) tutorial *Network Analysis using R*](https://ladal.edu.au/net.html). \n",
                "\n",
                "\n",
                "\n",
                "**Preparation and session set up**\n",
                "\n",
                "We set up our session by activating the packages we need for this tutorial. \n"
            ]
        },
        {
            "cell_type": "code",
            "execution_count": null,
            "metadata": {},
            "outputs": [],
            "source": [
                "# set options\n",
                "options(warn=-1)  # do not show warnings or messages\n",
                "# activate packages\n",
                "library(dplyr)    # for table processing\n",
                "library(openxlsx) # for reading and saving xlsx files\n",
                "library(quanteda) # for generating dfm and fcm\n",
                "library(quanteda.textplots)  # for generating network graphs \n",
                "library(ggplot2)  # for visualisation\n",
                "library(stringr)  # for text processing\n",
                "library(tidyr)    # for table processing\n",
                "library(here)     # for path generation and processing\n",
                "library(igraph)   # for generating network graphs\n",
                "library(tidygraph)  # for generating network graphs\n",
                "library(ggraph)   # for generating network graphs\n",
                "library(readxl)   # for reading data\n",
                "library(writexl)  # for saving data\n"
            ]
        },
        {
            "cell_type": "markdown",
            "metadata": {},
            "source": [
                "# Loading data\n",
                "\n",
                "For a network visualization, you need at least one table indicating the co-occurrence frequency of items (nodes). The default that that we provide below represents the frequency of co-occurrence (appearance in the same scene) of characters in William Shakespeare's *Romeo and Juliet*. \n",
                "\n",
                "# Loading example data\n",
                "\n",
                "We load the example data and add row names. The data is a co-occurrence matrix that represents the frequency of co-occurrences of characters in the same scene. \n"
            ]
        },
        {
            "cell_type": "code",
            "execution_count": null,
            "metadata": {},
            "outputs": [],
            "source": [
                "# load data\n",
                "dat <- openxlsx::read.xlsx(\"https://slcladal.github.io/data/romeo.xlsx\")\n",
                "# add row names\n",
                "rownames(dat) <- colnames(dat)\n",
                "# inspect data (first 5 rows and first 5 columns)\n",
                "dat[1:5, 1:5] \n"
            ]
        },
        {
            "cell_type": "markdown",
            "metadata": {},
            "source": [
                "## Using your own data\n",
                "\n",
                "<div class=\"warning\" style='padding:0.1em; background-color: rgba(215,209,204,.3); color:#51247a'>\n",
                "<span>\n",
                "<p style='margin-top:1em; text-align:center'>\n",
                "\n",
                "While the tutorial uses data from the LADAL website, you can also **use your own data**. To use your own data, click on the folder called `MyData` (it is in the menu to the left of the screen) and then simply drag and drop your xlsx-files into the folder. When you then execute the code chunk below, you will upload your own data and you can then use it in this notebook.<br>\n",
                "<br>\n",
                "You can upload <b>only xlsx-files<\/b> (MS Excel spreadsheets)! <br>\n",
                "<br>\n",
                "<b>IMPORTANT<\/b>: Be sure to to then <b>replace `mydat` with `dat` in the code chunk below and do not execute the following code chunk which loads an example table<\/b> so that you work with your and not the sample data!<br><br>\n",
                "Also, make sure that <b>your xlsx- file does not contain row names and only co-occurrence frequencies<\/b>. The columns must be the same as the rows (e.g. in the example data, the first row represents the co-occurrences of BALTHASAR, the second row the co-occurrences of BENVOLIO, the third row the co-occurrences of CAPULET etc.). <\/b><br>\n",
                "<\/p>\n",
                "<p style='margin-left:1em;'>\n",
                "<\/p><\/span>\n",
                "<\/div>\n",
                "\n",
                "<br>\n"
            ]
        },
        {
            "cell_type": "code",
            "execution_count": null,
            "metadata": {},
            "outputs": [],
            "source": [
                "myfiles <- list.files(here::here(\"notebooks/MyTables\"), # path to the corpus data\n",
                "                          # full paths - not just the names of the files\n",
                "                          full.names = T) \n",
                "# loop over the vector 'myfiles' that contains paths to the data\n",
                "mydat <- sapply(myfiles, function(x){\n",
                "\n",
                "  # read the content of each file using 'read_xlsx' from the 'readxl' package\n",
                "  x <- readxl::read_xlsx(x)      \n",
                "\n",
                "})\n",
                "\n",
                "# inspect the structure of the text object\n",
                "str(mydat)\n"
            ]
        },
        {
            "cell_type": "markdown",
            "metadata": {},
            "source": [
                "# Quanteda Networks \n",
                "\n",
                "We generate a first network using the `quanteda` package which contains the `textplot_network` function which provides a very handy way to display networks.    \n",
                "\n",
                "In a first step, we transform the data into a document-feature matrix using the `dfm ` function. \n"
            ]
        },
        {
            "cell_type": "code",
            "execution_count": null,
            "metadata": {},
            "outputs": [],
            "source": [
                "# create a document feature matrix and save result as `dat_dfm`\n",
                "quanteda::as.dfm(dat) -> dat_dfm\n",
                "  # create feature co-occurrence matrix and save result as `dat_fcm`\n",
                "  quanteda::fcm(dat_dfm) -> dat_fcm\n",
                "# inspect data\n",
                "head(dat_fcm)\n"
            ]
        },
        {
            "cell_type": "markdown",
            "metadata": {},
            "source": [
                "We feed the resulting feature-co-occurrence matrix into the `textplot_network` function that generates a nice network graph. \n",
                "\n",
                "Now we generate a network graph using the `textplot_network` function from the `quanteda.textplots` package. This function has the following arguments: \n",
                "\n",
                "+ `x`: a fcm or dfm object  \n",
                "+ `min_freq`: a frequency count threshold or proportion for co-occurrence frequencies of features to be included (default = 0.5),  \n",
                "+ `omit_isolated`: if TRUE, features do not occur more frequent than min_freq will be omitted (default = TRUE),  \n",
                "+ `edge_color`: color of edges that connect vertices (default = \"#1F78B4\"),\n",
                "+ `edge_alpha`: opacity of edges ranging from 0 to 1.0 (default = 0.5),\n",
                "+ `edge_size`: size of edges for most frequent co-occurrence (default = 2),\n",
                "+ `vertex_color`: color of vertices (default = \"#4D4D4D\"),\n",
                "+ `vertex_size`: size of vertices (default = 2),\n",
                "+ `vertex_labelcolor`: color of texts. Defaults to the same as vertex_color,\n",
                "+ `vertex_labelfont`: font-family of texts,\n",
                "+ `vertex_labelsize`: size of vertex labels in mm. Defaults to size 5. Supports both integer values and vector values (default = 5),\n",
                "+ `offset`: if NULL (default), the distance between vertices and texts are determined automatically,\n"
            ]
        },
        {
            "cell_type": "code",
            "execution_count": null,
            "metadata": {},
            "outputs": [],
            "source": [
                "quanteda.textplots::textplot_network(\n",
                "  x = dat_fcm,                    # a fcm or dfm object\n",
                "  min_freq = 0.5,                   # frequency count threshold or proportion for co-occurrence frequencies (default = 0.5)\n",
                "  edge_alpha = 0.5,                 # opacity of edges ranging from 0 to 1.0 (default = 0.5)\n",
                "  edge_color = \"purple\",            # color of edges that connect vertices (default = \"#1F78B4\")\n",
                "  edge_size = 2,                    # size of edges for most frequent co-occurrence (default = 2)\n",
                "# calculate the size of vertex labels for the network plot\n",
                "vertex_labelsize = dat_dfm %>%\n",
                "  # convert the dfm object to a data frame\n",
                "  as.data.frame() %>% \n",
                "  # exclude the 'doc_id' column\n",
                "  dplyr::select(-doc_id) %>%\n",
                "  # calculate the sum of row values for each row\n",
                "  rowSums() %>%\n",
                "  # apply the natural logarithm to the resulting sums\n",
                "  log(),\n",
                "  vertex_color = \"#4D4D4D\",         # color of vertices (default = \"#4D4D4D\")\n",
                "  vertex_size = 2                   # size of vertices (default = 2)\n",
                ")\n"
            ]
        },
        {
            "cell_type": "markdown",
            "metadata": {},
            "source": [
                "## Exporting images\n",
                "\n",
                "To export network graph as an png-file, we use `ggsave`. Be aware that we use the `here` function to save the file in the `MyOutput` folder.\n",
                "\n",
                "The `ggsave` function has the following main arguments:\n",
                "\n",
                "+ `filename`: File name to create on disk.    \n",
                "+ `device`: Device to use. Can either be a device function (e.g. png), or one of \"eps\", \"ps\", \"tex\" (pictex), \"pdf\", \"jpeg\", \"tiff\", \"png\", \"bmp\", \"svg\" or \"wmf\" (windows only). If NULL (default), the device is guessed based on the filename extension  \n",
                "+ `path`: Path of the directory to save plot to: path and filename are combined to create the fully qualified file name. Defaults to the working directory.  \n",
                "+ `width, height`: Plot size in units expressed by the units argument. If not supplied, uses the size of the current graphics device.  \n",
                "+ `units`: One of the following units in which the width and height arguments are expressed: \"in\", \"cm\", \"mm\" or \"px\".  \n",
                "+ `dpi`: Plot resolution. Also accepts a string input: \"retina\" (320), \"print\" (300), or \"screen\" (72). Applies only to raster output types.  \n",
                "+ `bg`: Background colour. If NULL, uses the plot.background fill value from the plot theme.  \n"
            ]
        },
        {
            "cell_type": "code",
            "execution_count": null,
            "metadata": {},
            "outputs": [],
            "source": [
                "# save network graph for MyOutput folder\n",
                "ggsave(here::here(\"notebooks/MyOutput/image_01.png\"), bg = \"white\")\n"
            ]
        },
        {
            "cell_type": "markdown",
            "metadata": {},
            "source": [
                "<div class=\"warning\" style='padding:0.1em; background-color: rgba(215,209,204,.3); color:#51247a'>\n",
                "<span>\n",
                "<p style='margin-top:1em; text-align:center'>\n",
                "<b>You will find the image-file named *image_01.png* in the `MyOutput` folder (located on the left side of the screen).<\/b> <br><br>Simply double-click the `MyOutput` folder icon, then right-click on the *image_01.png* file, and choose Download from the dropdown menu to download the file. <br>\n",
                "<\/p>\n",
                "<p style='margin-left:1em;'>\n",
                "<\/p><\/span>\n",
                "<\/div>\n",
                "\n",
                "<br>\n",
                "\n",
                "\n",
                "# Tidy Networks\n",
                "\n",
                "We now turn to a different method for generating networks that is extremely flexible.\n",
                "\n",
                "First, we define the *nodes* and we can also add information about the nodes that we can use later on (such as frequency information).\n"
            ]
        },
        {
            "cell_type": "code",
            "execution_count": null,
            "metadata": {},
            "outputs": [],
            "source": [
                "# create a new data frame 'va' using the 'dat' data\n",
                "va <- dat %>%\n",
                "  # add a new column 'Persona' with row names and another column 'Occurrences' with row sums\n",
                "  dplyr::mutate(Persona = rownames(.),\n",
                "                Occurrences = rowSums(.)) %>%\n",
                "  # select only the 'Persona' and 'Occurrences' columns\n",
                "  dplyr::select(Persona, Occurrences) %>%\n",
                "  # filter out rows where 'Persona' contains the substring \"SCENE\"\n",
                "  dplyr::filter(!stringr::str_detect(Persona, \"SCENE\"))\n",
                "\n",
                "# show the resulting nodes table as a data frame\n",
                "va %>%\n",
                "  as.data.frame()\n"
            ]
        },
        {
            "cell_type": "markdown",
            "metadata": {},
            "source": [
                "The next part is optional but it can help highlight important information. We add a column with additional information to our nodes table.\n",
                "\n"
            ]
        },
        {
            "cell_type": "code",
            "execution_count": null,
            "metadata": {},
            "outputs": [],
            "source": [
                "# define family\n",
                "mon <- c(\"ABRAM\", \"BALTHASAR\", \"BENVOLIO\", \"LADY MONTAGUE\", \"MONTAGUE\", \"ROMEO\")\n",
                "cap <- c(\"CAPULET\", \"CAPULET’S COUSIN\", \"FIRST SERVANT\", \"GREGORY\", \"JULIET\", \"LADY CAPULET\", \"NURSE\", \"PETER\", \"SAMPSON\", \"TYBALT\")\n",
                "oth <- c(\"APOTHECARY\", \"CHORUS\", \"FIRST CITIZEN\", \"FIRST MUSICIAN\", \"FIRST WATCH\", \"FRIAR JOHN\" , \"FRIAR LAWRENCE\", \"MERCUTIO\", \"PAGE\", \"PARIS\", \"PRINCE\", \"SECOND MUSICIAN\", \"SECOND SERVANT\", \"SECOND WATCH\", \"SERVANT\", \"THIRD MUSICIAN\")\n",
                "# create color vectors\n",
                "va <- va %>%\n",
                "  dplyr::mutate(Family = dplyr::case_when(Persona %in% mon ~ \"MONTAGUE\",\n",
                "                                          Persona %in% cap ~ \"CAPULET\",\n",
                "                                          TRUE ~ \"Other\"))\n",
                "# inspect updates nodes table\n",
                "va\n"
            ]
        },
        {
            "cell_type": "markdown",
            "metadata": {},
            "source": [
                "Now, we define the *edges*, i.e., the connections between nodes and, again, we can add information in separate variables that we can use later on. \n",
                "\n"
            ]
        },
        {
            "cell_type": "code",
            "execution_count": null,
            "metadata": {},
            "outputs": [],
            "source": [
                "# create a new data frame 'ed' using the 'dat' data\n",
                "ed <- dat %>%\n",
                "  # add a new column 'from' with row names\n",
                "  dplyr::mutate(from = rownames(.)) %>%\n",
                "  # reshape the data from wide to long format using 'gather'\n",
                "  tidyr::gather(to, Frequency, BALTHASAR:TYBALT) %>%\n",
                "  # remove zero frequencies \n",
                "  dplyr::filter(Frequency != 0)\n",
                "\n",
                "# display the first 10 rows of the resulting edge table as a data frame\n",
                "ed %>%\n",
                "  as.data.frame() %>%\n",
                "  head(10)\n"
            ]
        },
        {
            "cell_type": "markdown",
            "metadata": {},
            "source": [
                "Now that we have generated tables for the edges and the nodes, we can generate a graph object.\n",
                "\n"
            ]
        },
        {
            "cell_type": "code",
            "execution_count": null,
            "metadata": {},
            "outputs": [],
            "source": [
                "ig <- igraph::graph_from_data_frame(d=ed, vertices=va, directed = FALSE)\n",
                "\n"
            ]
        },
        {
            "cell_type": "markdown",
            "metadata": {},
            "source": [
                "We will also add labels to the nodes as follows:\n",
                "\n"
            ]
        },
        {
            "cell_type": "code",
            "execution_count": null,
            "metadata": {},
            "outputs": [],
            "source": [
                "tg <- tidygraph::as_tbl_graph(ig) %>% \n",
                "  tidygraph::activate(nodes) %>% \n",
                "  dplyr::mutate(label=name)\n"
            ]
        },
        {
            "cell_type": "markdown",
            "metadata": {},
            "source": [
                "When we now plot our network, it looks as shown below.\n",
                "\n"
            ]
        },
        {
            "cell_type": "code",
            "execution_count": null,
            "metadata": {},
            "outputs": [],
            "source": [
                "# set seed (so that the exact same network graph is created every time)\n",
                "set.seed(12345)\n",
                "\n",
                "# create a graph using the 'tg' data frame with the Fruchterman-Reingold layout\n",
                "tg %>%\n",
                "  ggraph(layout = \"fr\") +\n",
                "  \n",
                "  # add arcs for edges with various aesthetics\n",
                "  geom_edge_arc(colour = \"gray50\",\n",
                "                lineend = \"round\",\n",
                "                strength = .1,\n",
                "                aes(edge_width = ed$Frequency,\n",
                "                    alpha = ed$Frequency)) +\n",
                "  \n",
                "  # add points for nodes with size based on log-transformed 'v.size' and color based on 'va$Family'\n",
                "  geom_node_point(size = log(va$Occurrences) * 2, \n",
                "                  aes(color = va$Family)) +\n",
                "  \n",
                "  # add text labels for nodes with various aesthetics\n",
                "  geom_node_text(aes(label = name), \n",
                "                 repel = TRUE, \n",
                "                 point.padding = unit(0.2, \"lines\"), \n",
                "                 size = sqrt(va$Occurrences), \n",
                "                 colour = \"gray10\") +\n",
                "  \n",
                "  # adjust edge width and alpha scales\n",
                "  scale_edge_width(range = c(0, 2.5)) +\n",
                "  scale_edge_alpha(range = c(0, .3)) +\n",
                "  \n",
                "  # set graph background color to white\n",
                "  theme_graph(background = \"white\") +\n",
                "  \n",
                "  # adjust legend position to the top\n",
                "  theme(legend.position = \"top\", \n",
                "        # suppress legend title\n",
                "        legend.title = element_blank()) +\n",
                "  \n",
                "  # remove edge width and alpha guides from the legend\n",
                "  guides(edge_width = FALSE,\n",
                "         edge_alpha = FALSE)\n"
            ]
        },
        {
            "cell_type": "markdown",
            "metadata": {},
            "source": [
                "As we did above, we use the `ggsave` function to save the network in the `MyOutput` folder.\n",
                "\n"
            ]
        },
        {
            "cell_type": "code",
            "execution_count": null,
            "metadata": {},
            "outputs": [],
            "source": [
                "# save network graph for MyOutput folder\n",
                "ggsave(here::here(\"notebooks/MyOutput/image_02.png\"))\n"
            ]
        },
        {
            "cell_type": "markdown",
            "metadata": {},
            "source": [
                "<div class=\"warning\" style='padding:0.1em; background-color: rgba(215,209,204,.3); color:#51247a'>\n",
                "<span>\n",
                "<p style='margin-top:1em; text-align:center'>\n",
                "<b>You will find the image-file named *image_02.png* in the `MyOutput` folder (located on the left side of the screen).<\/b> <br><br>Simply double-click the `MyOutput` folder icon, then right-click on the *image_02.png* file, and choose Download from the dropdown menu to download the file. <br>\n",
                "<\/p>\n",
                "<p style='margin-left:1em;'>\n",
                "<\/p><\/span>\n",
                "<\/div>\n",
                "\n",
                "<br>\n",
                "\n",
                "\n",
                "# Network Statistics\n",
                "\n",
                "Network statistics tell us about structural properties of networks. \n",
                "\n",
                "To extract the statistics, we use the edge object generated above (called `ed`) and then repeat each combination as often as it occurred based on the value in the `Frequency` column.\n"
            ]
        },
        {
            "cell_type": "code",
            "execution_count": null,
            "metadata": {},
            "outputs": [],
            "source": [
                "dg <- ed[rep(seq_along(ed$Frequency), ed$Frequency), 1:2]\n",
                "rownames(dg) <- NULL\n",
                "# inspect data\n",
                "dg %>%\n",
                "  as.data.frame() %>%\n",
                "  head(15)\n"
            ]
        },
        {
            "cell_type": "markdown",
            "metadata": {},
            "source": [
                "### Degree centrality\n",
                "\n",
                "We now generate an edge list from the `dg` object and then extract the *degree centrality*. The *degree centrality* reflects how many edges each node has with the most central node having the highest value.\n"
            ]
        },
        {
            "cell_type": "code",
            "execution_count": null,
            "metadata": {},
            "outputs": [],
            "source": [
                "dgg <- graph.edgelist(as.matrix(dg), directed = T)\n",
                "# extract degree centrality\n",
                "igraph::degree(dgg) %>%\n",
                "  as.data.frame() %>%\n",
                "  dplyr::rename(`degree centrality` = 1) %>%\n",
                "  dplyr::arrange(-`degree centrality`) -> dc_tbl\n",
                "# inspect results\n",
                "dc_tbl\n"
            ]
        },
        {
            "cell_type": "markdown",
            "metadata": {},
            "source": [
                "# Exporting tables\n",
                "\n",
                "To export a table as an MS Excel spreadsheet, we use `write_xlsx`. Be aware that we use the `here` function to  save the file in the current working directory.\n"
            ]
        },
        {
            "cell_type": "code",
            "execution_count": null,
            "metadata": {},
            "outputs": [],
            "source": [
                "# save data for MyOutput folder\n",
                "write_xlsx(dc_tbl, here::here(\"notebooks/MyOutput/dc_tbl.xlsx\"))\n"
            ]
        },
        {
            "cell_type": "markdown",
            "metadata": {},
            "source": [
                "<div class=\"warning\" style='padding:0.1em; background-color: rgba(215,209,204,.3); color:#51247a'>\n",
                "<span>\n",
                "<p style='margin-top:1em; text-align:center'>\n",
                "<b>You will find the generated MS Excel spreadsheet named *dc_tbl.xlsx* in the `MyOutput` folder (located on the left side of the screen).<\/b> <br><br>Simply double-click the `MyOutput` folder icon, then right-click on the *dc_tbl.xlsx* file, and choose Download from the dropdown menu to download the file. <br>\n",
                "<\/p>\n",
                "<p style='margin-left:1em;'>\n",
                "<\/p><\/span>\n",
                "<\/div>\n",
                "\n",
                "<br>\n",
                "\n",
                "### Central node\n",
                "\n",
                "Next, we extract the most *central node*.\n"
            ]
        },
        {
            "cell_type": "code",
            "execution_count": null,
            "metadata": {},
            "outputs": [],
            "source": [
                "names(igraph::degree(dgg))[which(igraph::degree(dgg) == max(igraph::degree(dgg)))]\n",
                "\n"
            ]
        },
        {
            "cell_type": "markdown",
            "metadata": {},
            "source": [
                "### Betweenness centrality\n",
                "\n",
                "We now  extract the *betweenness centrality*. *Betweenness centrality* provides a measure of how important nodes are for information flow between nodes in a  network. The node with the highest betweenness centrality creates the shortest  paths in the network.  The higher a node’s *betweenness centrality*, the more important it is for the efficient flow of goods in a network.\n"
            ]
        },
        {
            "cell_type": "code",
            "execution_count": null,
            "metadata": {},
            "outputs": [],
            "source": [
                "igraph::betweenness(dgg) %>%\n",
                "  as.data.frame() %>%\n",
                "  dplyr::rename(`betweenness centrality` = 1) %>%\n",
                "  dplyr::arrange(-`betweenness centrality`) -> bc_tbl\n",
                "# inspect results\n",
                "bc_tbl\n"
            ]
        },
        {
            "cell_type": "markdown",
            "metadata": {},
            "source": [
                "To export a table as an MS Excel spreadsheet, we use `write_xlsx`. Be aware that we use the `here` function to  save the file in the current working directory.\n",
                "\n"
            ]
        },
        {
            "cell_type": "code",
            "execution_count": null,
            "metadata": {},
            "outputs": [],
            "source": [
                "# save data for MyOutput folder\n",
                "write_xlsx(bc_tbl, here::here(\"notebooks/MyOutput/bc_tbl.xlsx\"))\n"
            ]
        },
        {
            "cell_type": "markdown",
            "metadata": {},
            "source": [
                "<div class=\"warning\" style='padding:0.1em; background-color: rgba(215,209,204,.3); color:#51247a'>\n",
                "<span>\n",
                "<p style='margin-top:1em; text-align:center'>\n",
                "<b>You will find the generated MS Excel spreadsheet named *dc_tbl.xlsx* in the `MyOutput` folder (located on the left side of the screen).<\/b> <br>\n",
                "<br>\n",
                "<\/p>\n",
                "<p style='margin-left:1em;'>\n",
                "<\/p><\/span>\n",
                "<\/div>\n",
                "\n",
                "<br>\n",
                "\n",
                "\n",
                "We now extract the node with the highest *betweenness centrality*.\n"
            ]
        },
        {
            "cell_type": "code",
            "execution_count": null,
            "metadata": {},
            "outputs": [],
            "source": [
                "names(igraph::betweenness(dgg))[which(igraph::betweenness(dgg) == max(igraph::betweenness(dgg)))]\n",
                "\n"
            ]
        },
        {
            "cell_type": "markdown",
            "metadata": {},
            "source": [
                "### Closeness\n",
                "\n",
                "In addition, we extract the closeness statistic of all edges in the `dg` object by using the `closeness` function from the `igraph` package. Closeness centrality refers to the shortest paths between nodes. The distance between two nodes represents the length of the shortest path between them. The closeness of a node is the average distance from that node to all other nodes. \n"
            ]
        },
        {
            "cell_type": "code",
            "execution_count": null,
            "metadata": {},
            "outputs": [],
            "source": [
                "igraph::closeness(dgg) %>%\n",
                "  dplyr::rename(`closeness` = 1) %>%\n",
                "  dplyr::arrange(-`closeness`) -> c_tbl\n",
                "# inspect results\n",
                "c_tbl\n"
            ]
        },
        {
            "cell_type": "markdown",
            "metadata": {},
            "source": [
                "To export a table as an MS Excel spreadsheet, we use `write_xlsx`. Be aware that we use the `here` function to  save the file in the current working directory.\n",
                "\n"
            ]
        },
        {
            "cell_type": "code",
            "execution_count": null,
            "metadata": {},
            "outputs": [],
            "source": [
                "# save data for MyOutput folder\n",
                "write_xlsx(c_tbl, here::here(\"notebooks/MyOutput/c_tbl.xlsx\"))\n"
            ]
        },
        {
            "cell_type": "markdown",
            "metadata": {},
            "source": [
                "<div class=\"warning\" style='padding:0.1em; background-color: rgba(215,209,204,.3); color:#51247a'>\n",
                "<span>\n",
                "<p style='margin-top:1em; text-align:center'>\n",
                "<b>You will find the generated MS Excel spreadsheet named *c_tbl.xlsx* in the `MyOutput` folder (located on the left side of the screen).<\/b> <br>\n",
                "<br>\n",
                "<\/p>\n",
                "<p style='margin-left:1em;'>\n",
                "<\/p><\/span>\n",
                "<\/div>\n",
                "\n",
                "<br>\n",
                "\n",
                "We now extract the node with the highest closeness.\n"
            ]
        },
        {
            "cell_type": "code",
            "execution_count": null,
            "metadata": {},
            "outputs": [],
            "source": [
                "names(igraph::closeness(dgg))[which(igraph::closeness(dgg) == max(igraph::closeness(dgg)))]\n",
                "\n"
            ]
        },
        {
            "cell_type": "markdown",
            "metadata": {},
            "source": [
                "***\n",
                "\n",
                "[Back to LADAL](https://ladal.edu.au/net.html)\n",
                "\n",
                "***\n"
            ]
        }
    ],
    "metadata": {
        "anaconda-cloud": "",
        "kernelspec": {
            "display_name": "R",
            "langauge": "R",
            "name": "ir"
        },
        "language_info": {
            "codemirror_mode": "r",
            "file_extension": ".r",
            "mimetype": "text/x-r-source",
            "name": "R",
            "pygments_lexer": "r",
            "version": "3.4.1"
        }
    },
    "nbformat": 4,
    "nbformat_minor": 1
}
