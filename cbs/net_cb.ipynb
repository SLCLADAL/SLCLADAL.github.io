{
    "cells": [
        {
            "cell_type": "markdown",
            "metadata": {},
            "source": [
                "![An interactive LADAL notebook](https://slcladal.github.io/images/uq1.jpg)\n",
                "\n",
                "***\n",
                "\n",
                "Please copy this Jupyter notebook so that you are able to edit it.\n",
                "\n",
                "Simply go to: File > Save a copy in Drive.\n",
                "\n",
                "Once you have done that, you are good to go.\n",
                "\n",
                "***\n",
                "\n",
                "This tutorial is the interactive Jupyter notebook accompanying the [Language Technology and Data Analysis Laboratory (LADAL) tutorial *Network Analysis using R*](https://ladal.edu.au/net.html). \n",
                "\n",
                "\n",
                "\n",
                "***\n",
                "\n",
                "\n",
                "**Preparation and session set up**\n",
                "\n",
                "If you are using this notebook on Google Colab or your own computer and you have not already installed the R packages listed below, you need to install them. You can install them by running the code chunk below. \n"
            ]
        },
        {
            "cell_type": "code",
            "execution_count": null,
            "metadata": {},
            "outputs": [],
            "source": [
                "# install packages\n",
                "install.packages(\"GGally\")\n",
                "install.packages(\"ggraph\")\n",
                "install.packages(\"igraph\")\n",
                "install.packages(\"Matrix\")\n",
                "install.packages(\"network\")\n",
                "install.packages(\"quanteda\")\n",
                "install.packages(\"sna\")\n",
                "install.packages(\"tidygraph\")\n",
                "install.packages(\"tidyverse\")\n",
                "install.packages(\"tm\")\n",
                "install.packages(\"tibble\")\n",
                "install.packages(\"quanteda.textplots\")\n"
            ]
        },
        {
            "cell_type": "markdown",
            "metadata": {},
            "source": [
                "***\n",
                "\n"
            ]
        },
        {
            "cell_type": "code",
            "execution_count": null,
            "metadata": {},
            "outputs": [],
            "source": [
                "# activate packages\n",
                "library(GGally)\n",
                "library(ggraph)\n",
                "library(igraph)\n",
                "library(Matrix)\n",
                "library(network)\n",
                "library(quanteda)\n",
                "library(sna)\n",
                "library(tidygraph)\n",
                "library(dplyr)\n",
                "library(tidyr)\n",
                "library(tm)\n",
                "library(tibble)\n"
            ]
        },
        {
            "cell_type": "markdown",
            "metadata": {},
            "source": [
                "Once you have initiated the session by executing the code shown above, you are good to go.\n",
                "\n",
                "***\n",
                "\n",
                "\n",
                "# Data preparation\n",
                "\n",
                "\n",
                "\n",
                "This section shows how to create a network visualization with the `network` and the `GGally` packages. The network we will generate shows how often characters in William Shakespeare's *Romeo and Juliet* occurred in the same scene. The issue we want to investigate here relates to networks of personas in Shakespeare's *Romeo and Juliet* and we thus load this famous work of fiction. \n",
                "\n",
                "\n",
                "## Loading data\n",
                "\n",
                "Now that we have loaded the data, we need to split the data into scenes. Scenes during which personas leave or enter will have to be split too so that we arrive at a table that contains the personas that are present during a sub-scene.\n"
            ]
        },
        {
            "cell_type": "code",
            "execution_count": null,
            "metadata": {},
            "outputs": [],
            "source": [
                "# load data\n",
                "rom <- read.delim(\"https://slcladal.github.io/data/romeo_tidy.txt\", sep = \"\\t\")\n",
                "# inspect data\n",
                "rom %>%\n",
                "  as.data.frame() %>%\n",
                "  head(15)\n"
            ]
        },
        {
            "cell_type": "markdown",
            "metadata": {},
            "source": [
                "## Using your own data\n",
                "\n",
                "While the tutorial uses data from the LADAL website, you can also use your own data. You can see below what you need to do to upload and use your own data.\n",
                "\n",
                "The code chunk below allows you to upload two files from your own computer. To be able to load your own data, you need to click on the folder symbol to the left of the screen:\n",
                "\n",
                "![Colab Folder Symbol](https://slcladal.github.io/images/ColabFolder.png)\n",
                "\n",
                "Then on the upload symbol.\n",
                "\n",
                "![Colab Upload Symbol](https://slcladal.github.io/images/ColabUpload.png)\n",
                "\n",
                "Next, upload the files you want to analyze and then the respective files names in the file argument of the scan function. When you then execute the code (like to code chunk below, you will upload your own data.\n"
            ]
        },
        {
            "cell_type": "code",
            "execution_count": null,
            "metadata": {},
            "outputs": [],
            "source": [
                "mytext1 <- scan(file = \"linguistics01.txt\",\n",
                "            what = \"char\", \n",
                "            sep = \"\", \n",
                "            quote = \"\", \n",
                "            quiet = T, \n",
                "            skipNul = T) %>%\n",
                "            paste0(collapse = \" \")\n",
                "mytext2 <- scan(file = \"linguistics02.txt\",\n",
                "            what = \"char\", \n",
                "            sep = \"\", \n",
                "            quote = \"\", \n",
                "            quiet = T, \n",
                "            skipNul = T) %>%\n",
                "            paste0(collapse = \" \")\n",
                "# inspect\n",
                "mytext1; mytext2\n"
            ]
        },
        {
            "cell_type": "markdown",
            "metadata": {},
            "source": [
                "**Keep in mind though that you need to adapt the names of the texts in the code chunks below so that the code below work on your own texts!**\n",
                "\n",
                "***\n",
                "\n",
                "## Creating a matrix\n",
                "\n",
                "We now transform that table into a co-occurrence matrix.\n"
            ]
        },
        {
            "cell_type": "code",
            "execution_count": null,
            "metadata": {},
            "outputs": [],
            "source": [
                "rome <- crossprod(table(rom[1:2]))\n",
                "diag(rome) <- 0\n",
                "romeo <- as.data.frame(rome)\n",
                "# inspect data\n",
                "romeo[1:5, 1:5]%>%\n",
                "  as.data.frame() %>%\n",
                "  tibble::rownames_to_column(\"Persona\")\n"
            ]
        },
        {
            "cell_type": "markdown",
            "metadata": {},
            "source": [
                "The data shows how often a character has appeared with each other character in the play - only Friar Lawrence and Friar John were excluded because they only appear in one scene where they talk to each other. \n",
                "\n",
                "# Network Visualization\n",
                "\n",
                "There are various different ways to visualize a network structure. We will focus on two packages for network visualization here and exemplify how you can visualize networks in R. \n",
                "\n",
                "## Tidy Networks\n",
                "\n",
                "A great way to generate network graphs is to combine functions from the `igraph`, the `ggraph`, and the `tidygraph` packages. The advantages are that the syntax of for creating the networks aligns with the tidyverse style of writing R and that the graphs can be modified very easily.\n",
                "\n",
                "To generate network graphs in this way, we define the *nodes* and we can also add information about the odes that we can use later on (such as frequency information).\n"
            ]
        },
        {
            "cell_type": "code",
            "execution_count": null,
            "metadata": {},
            "outputs": [],
            "source": [
                "va <- romeo %>%\n",
                "  dplyr::mutate(Persona = rownames(.),\n",
                "                Occurrences = rowSums(.)) %>%\n",
                "  dplyr::select(Persona, Occurrences) %>%\n",
                "  dplyr::filter(!str_detect(Persona, \"SCENE\"))\n",
                "va %>%\n",
                "  as.data.frame()\n"
            ]
        },
        {
            "cell_type": "markdown",
            "metadata": {},
            "source": [
                "Now, we define the *edges*, i.e., the connections between nodes and, again, we can add information in separate variables that we can use later on. \n",
                "\n"
            ]
        },
        {
            "cell_type": "code",
            "execution_count": null,
            "metadata": {},
            "outputs": [],
            "source": [
                "ed <- romeo %>%\n",
                "  dplyr::mutate(from = rownames(.)) %>%\n",
                "  tidyr::gather(to, Frequency, BALTHASAR:TYBALT) %>%\n",
                "  dplyr::mutate(Frequency = ifelse(Frequency == 0, NA, Frequency))\n",
                "ed %>%\n",
                "  as.data.frame() %>%\n",
                "  head(15)\n"
            ]
        },
        {
            "cell_type": "markdown",
            "metadata": {},
            "source": [
                "Now that we have generated tables for the edges and the nodes, we can generate a graph object.\n",
                "\n"
            ]
        },
        {
            "cell_type": "code",
            "execution_count": null,
            "metadata": {},
            "outputs": [],
            "source": [
                "ig <- igraph::graph_from_data_frame(d=ed, vertices=va, directed = FALSE)\n",
                "\n"
            ]
        },
        {
            "cell_type": "markdown",
            "metadata": {},
            "source": [
                "We will also add labels to the nodes as follows:\n",
                "\n"
            ]
        },
        {
            "cell_type": "code",
            "execution_count": null,
            "metadata": {},
            "outputs": [],
            "source": [
                "tg <- tidygraph::as_tbl_graph(ig) %>% \n",
                "  tidygraph::activate(nodes) %>% \n",
                "  dplyr::mutate(label=name)\n"
            ]
        },
        {
            "cell_type": "markdown",
            "metadata": {},
            "source": [
                "When we now plot our network, it looks as shown below.\n",
                "\n"
            ]
        },
        {
            "cell_type": "code",
            "execution_count": null,
            "metadata": {},
            "outputs": [],
            "source": [
                "# set seed\n",
                "set.seed(12345)\n",
                "# edge size shows frequency of co-occurrence\n",
                "tg %>%\n",
                "   ggraph(layout = \"fr\") +\n",
                "   geom_edge_arc(colour= \"gray50\",\n",
                "                 lineend = \"round\",\n",
                "                 strength = .1,\n",
                "                 alpha = .1) +\n",
                "   geom_node_text(aes(label = name), \n",
                "                  repel = TRUE, \n",
                "                  point.padding = unit(0.2, \"lines\"), \n",
                "                  colour=\"gray10\") +\n",
                "  theme_graph(background = \"white\") +\n",
                "  guides(edge_width = FALSE,\n",
                "         edge_alpha = FALSE)\n"
            ]
        },
        {
            "cell_type": "markdown",
            "metadata": {},
            "source": [
                "Now, we use the number of occurrences to define vertex size (or node size): the more often a character appears, the bigger it will appear in the graph.\n",
                "\n"
            ]
        },
        {
            "cell_type": "code",
            "execution_count": null,
            "metadata": {},
            "outputs": [],
            "source": [
                "v.size <- V(tg)$Occurrences\n",
                "# inspect\n",
                "v.size\n"
            ]
        },
        {
            "cell_type": "markdown",
            "metadata": {},
            "source": [
                "When we include this into our network, it looks as shown below.\n",
                "\n"
            ]
        },
        {
            "cell_type": "code",
            "execution_count": null,
            "metadata": {},
            "outputs": [],
            "source": [
                "# set seed\n",
                "set.seed(12345)\n",
                "# edge size shows frequency of co-occurrence\n",
                "tg %>%\n",
                "   ggraph(layout = \"fr\") +\n",
                "   geom_edge_arc(colour= \"gray50\",\n",
                "                  lineend = \"round\",\n",
                "                 strength = .1) +\n",
                "   geom_node_point(size=log(v.size)*2) +\n",
                "   geom_node_text(aes(label = name), \n",
                "                  repel = TRUE, \n",
                "                  point.padding = unit(0.2, \"lines\"), \n",
                "                  size=sqrt(v.size), \n",
                "                  colour=\"gray10\") +\n",
                "  scale_edge_width(range = c(0, 2.5)) +\n",
                "  scale_edge_alpha(range = c(0, .3)) +\n",
                "  theme_graph(background = \"white\") +\n",
                "  guides(edge_width = FALSE,\n",
                "         edge_alpha = FALSE)\n"
            ]
        },
        {
            "cell_type": "markdown",
            "metadata": {},
            "source": [
                "Next, we modify the edges by using frequency information to define weights: the more often two characters appear in the same scene, the bigger the edge.\n",
                "\n"
            ]
        },
        {
            "cell_type": "code",
            "execution_count": null,
            "metadata": {},
            "outputs": [],
            "source": [
                "E(tg)$weight <- E(tg)$Frequency\n",
                "# inspect weights\n",
                "head(E(tg)$weight, 10)\n"
            ]
        },
        {
            "cell_type": "markdown",
            "metadata": {},
            "source": [
                "When we include this into our network, it looks as shown below.\n",
                "\n"
            ]
        },
        {
            "cell_type": "code",
            "execution_count": null,
            "metadata": {},
            "outputs": [],
            "source": [
                "# set seed\n",
                "set.seed(12345)\n",
                "# edge size shows frequency of co-occurrence\n",
                "tg %>%\n",
                "   ggraph(layout = \"fr\") +\n",
                "   geom_edge_arc(colour= \"gray50\",\n",
                "                  lineend = \"round\",\n",
                "                 strength = .1,\n",
                "                 aes(edge_width = weight,\n",
                "                     alpha = weight)) +\n",
                "   geom_node_point(size=log(v.size)*2) +\n",
                "   geom_node_text(aes(label = name), \n",
                "                  repel = TRUE, \n",
                "                  point.padding = unit(0.2, \"lines\"), \n",
                "                  size=sqrt(v.size), \n",
                "                  colour=\"gray10\") +\n",
                "  scale_edge_width(range = c(0, 2.5)) +\n",
                "  scale_edge_alpha(range = c(0, .3)) +\n",
                "  theme_graph(background = \"white\") +\n",
                "  theme(legend.position = \"top\") +\n",
                "  guides(edge_width = FALSE,\n",
                "         edge_alpha = FALSE)\n"
            ]
        },
        {
            "cell_type": "markdown",
            "metadata": {},
            "source": [
                "Finally, we define colors so that characters belonging to the same family have the same color.\n",
                "\n"
            ]
        },
        {
            "cell_type": "code",
            "execution_count": null,
            "metadata": {},
            "outputs": [],
            "source": [
                "# define colors (by family)\n",
                "mon <- c(\"ABRAM\", \"BALTHASAR\", \"BENVOLIO\", \"LADY MONTAGUE\", \"MONTAGUE\", \"ROMEO\")\n",
                "cap <- c(\"CAPULET\", \"CAPULET’S COUSIN\", \"FIRST SERVANT\", \"GREGORY\", \"JULIET\", \"LADY CAPULET\", \"NURSE\", \"PETER\", \"SAMPSON\", \"TYBALT\")\n",
                "oth <- c(\"APOTHECARY\", \"CHORUS\", \"FIRST CITIZEN\", \"FIRST MUSICIAN\", \"FIRST WATCH\", \"FRIAR JOHN\" , \"FRIAR LAWRENCE\", \"MERCUTIO\", \"PAGE\", \"PARIS\", \"PRINCE\", \"SECOND MUSICIAN\", \"SECOND SERVANT\", \"SECOND WATCH\", \"SERVANT\", \"THIRD MUSICIAN\")\n",
                "# create color vectors\n",
                "Family <- dplyr::case_when(sapply(tg, \"[\")$nodes$name %in% mon ~ \"MONTAGUE\",\n",
                "                           sapply(tg, \"[\")$nodes$name %in% cap ~ \"CAPULET\",\n",
                "                           TRUE ~ \"Other\")\n",
                "# inspect colors\n",
                "Family\n"
            ]
        },
        {
            "cell_type": "markdown",
            "metadata": {},
            "source": [
                "Now, that we have created the different objects and defined their properties, we can finally visualize the finished network.\n",
                "\n"
            ]
        },
        {
            "cell_type": "code",
            "execution_count": null,
            "metadata": {},
            "outputs": [],
            "source": [
                "# set seed\n",
                "set.seed(12345)\n",
                "# edge size shows frequency of co-occurrence\n",
                "tg %>%\n",
                "   ggraph(layout = \"fr\") +\n",
                "   geom_edge_arc(colour= \"gray50\",\n",
                "                  lineend = \"round\",\n",
                "                 strength = .1,\n",
                "                 aes(edge_width = weight,\n",
                "                     alpha = weight)) +\n",
                "   geom_node_point(size=log(v.size)*2, \n",
                "                   aes(color=Family)) +\n",
                "   geom_node_text(aes(label = name), \n",
                "                  repel = TRUE, \n",
                "                  point.padding = unit(0.2, \"lines\"), \n",
                "                  size=sqrt(v.size), \n",
                "                  colour=\"gray10\") +\n",
                "  scale_edge_width(range = c(0, 2.5)) +\n",
                "  scale_edge_alpha(range = c(0, .3)) +\n",
                "  theme_graph(background = \"white\") +\n",
                "  theme(legend.position = \"top\") +\n",
                "  guides(edge_width = FALSE,\n",
                "         edge_alpha = FALSE)\n"
            ]
        },
        {
            "cell_type": "markdown",
            "metadata": {},
            "source": [
                "## Quanteda Networks \n",
                "\n",
                "The `quanteda` package contains many very useful functions for analyzing texts. Among these functions is the `textplot_network` function which provides a very handy way to display networks. The advantage of the network plots provided by or generated with the `quanteda` package is that you can create them with very little code. However, this comes at a cost as  these visualizations cannot be modified easily (which means that their design is not very flexible compared to other methods for generating network visualizations).    \n",
                "\n",
                "In a first step, we transform the text vectors of the `romeo` data into a document-feature matrix using the `dfm ` function. \n"
            ]
        },
        {
            "cell_type": "code",
            "execution_count": null,
            "metadata": {},
            "outputs": [],
            "source": [
                "# create a document feature matrix\n",
                "romeo_dfm <- quanteda::as.dfm(romeo)\n",
                "# create feature co-occurrence matrix\n",
                "romeo_fcm <- quanteda::fcm(romeo_dfm)\n",
                "# inspect data\n",
                "head(romeo_fcm)\n"
            ]
        },
        {
            "cell_type": "markdown",
            "metadata": {},
            "source": [
                "This feature-co-occurrence matrix can then serve as the input for the `textplot_network` function which already generates a nice network graph. The network graph can then be modified or customized easily by defining the arguments of the `textplot_network` function. To see how and which arguments can be modified, you can use `?textplot_network`.\n",
                "\n"
            ]
        },
        {
            "cell_type": "code",
            "execution_count": null,
            "metadata": {},
            "outputs": [],
            "source": [
                "quanteda.textplots::textplot_network(romeo_fcm, \n",
                "                                     min_freq = .5, \n",
                "                                     edge_alpha = 0.5, \n",
                "                                     edge_color = \"purple\",\n",
                "                                     vertex_labelsize = log(rowSums(romeo_fcm)),\n",
                "                                     edge_size = 2)\n"
            ]
        },
        {
            "cell_type": "markdown",
            "metadata": {},
            "source": [
                "# Network Statistics\n",
                "\n",
                "In addition to visualizing networks, we will analyze the network and extract certain statistics about the network that tell us about structural properties of networks. In the present case, we will extract \n",
                "\n",
                "To extract the statistics, we use the edge object generated above (called `ed`) and remove all rows that contain missing values (`NA`) and then repeat each combination as often as it occurred based on the value in the `Frequency` column.\n"
            ]
        },
        {
            "cell_type": "code",
            "execution_count": null,
            "metadata": {},
            "outputs": [],
            "source": [
                "dg <- ed %>%\n",
                "  tidyr::drop_na()\n",
                "dg <- dg[rep(seq_along(dg$Frequency), dg$Frequency), 1:2]\n",
                "rownames(dg) <- NULL\n",
                "# inspect data\n",
                "dg %>%\n",
                "  as.data.frame() %>%\n",
                "  head(15)\n"
            ]
        },
        {
            "cell_type": "markdown",
            "metadata": {},
            "source": [
                "We now generate an edge list from the `dg` object and then extract the *degree centrality* of all edges in the `dg` object by using the `degree` function from the `igraph` package. The *degree centrality* reflects the counts of how many edges each node has. The most central node is the one with with the highest value of ties.\n",
                "\n"
            ]
        },
        {
            "cell_type": "code",
            "execution_count": null,
            "metadata": {},
            "outputs": [],
            "source": [
                "dgg <- graph.edgelist(as.matrix(dg), directed = T)\n",
                "# extract degree centrality\n",
                "igraph::degree(dgg) \n"
            ]
        },
        {
            "cell_type": "markdown",
            "metadata": {},
            "source": [
                "To extract the most central node, we can use the `max()` function to extract the name of the node with the most edges.\n",
                "\n"
            ]
        },
        {
            "cell_type": "code",
            "execution_count": null,
            "metadata": {},
            "outputs": [],
            "source": [
                "names(igraph::degree(dgg))[which(igraph::degree(dgg) == max(igraph::degree(dgg)))]\n",
                "\n"
            ]
        },
        {
            "cell_type": "markdown",
            "metadata": {},
            "source": [
                "We now  extract the *betweenness centrality* of all edges in the `dg` object by using the `betweenness` function from the `igraph` package. *Betweenness centrality* reflects how connected nodes are. More precisely, it provides a measure of how important noes are for information flow between nodes in a  network. The node with the highest betweenness centrality creates the shortest  paths in the network. For any two nodes we can find the shortest path, i.e. the path with the lowest number of steps that are necessary to get from the node A to node B. If a node C facilitates the shortest path between A and B, then it means C is important to the efficient flow of information between A and B. \n",
                "\n",
                "Thus, betweenness effectively counts how many shortest paths each node is on. The higher a node’s betweenness, the more important they are for the efficient flow of goods in a network.\n"
            ]
        },
        {
            "cell_type": "code",
            "execution_count": null,
            "metadata": {},
            "outputs": [],
            "source": [
                "igraph::betweenness(dgg)\n",
                "\n"
            ]
        },
        {
            "cell_type": "markdown",
            "metadata": {},
            "source": [
                "To extract the most central node, we can use the `max()` function to extract the name of the node with the most edges.\n",
                "\n"
            ]
        },
        {
            "cell_type": "code",
            "execution_count": null,
            "metadata": {},
            "outputs": [],
            "source": [
                "names(igraph::betweenness(dgg))[which(igraph::betweenness(dgg) == max(igraph::betweenness(dgg)))]\n",
                "\n"
            ]
        },
        {
            "cell_type": "markdown",
            "metadata": {},
            "source": [
                "In addition, we extract the closeness statistic of all edges in the `dg` object by using the `closeness` function from the `igraph` package. Closeness centrality refers to the shortest paths between nodes. The distance between two nodes represents the length of the shortest path between them. The closeness of a node is the average distance from that node to all other nodes. \n",
                "\n"
            ]
        },
        {
            "cell_type": "code",
            "execution_count": null,
            "metadata": {},
            "outputs": [],
            "source": [
                "igraph::closeness(dgg)\n",
                "\n"
            ]
        },
        {
            "cell_type": "markdown",
            "metadata": {},
            "source": [
                "To extract the node with the highest closeness, we can use the `max()` function to extract the name of the node with the most edges.\n",
                "\n"
            ]
        },
        {
            "cell_type": "code",
            "execution_count": null,
            "metadata": {},
            "outputs": [],
            "source": [
                "names(igraph::closeness(dgg))[which(igraph::closeness(dgg) == max(igraph::closeness(dgg)))]\n",
                "\n"
            ]
        },
        {
            "cell_type": "markdown",
            "metadata": {},
            "source": [
                "We have reached the end of this tutorial and you now know how to create and modify networks in R and how you can highlight aspects of your data. \n",
                "\n",
                "\n",
                "***\n",
                "\n",
                "[Back to LADAL](https://ladal.edu.au/net.html)\n",
                "\n",
                "***\n"
            ]
        }
    ],
    "metadata": {
        "anaconda-cloud": "",
        "kernelspec": {
            "display_name": "R",
            "langauge": "R",
            "name": "ir"
        },
        "language_info": {
            "codemirror_mode": "r",
            "file_extension": ".r",
            "mimetype": "text/x-r-source",
            "name": "R",
            "pygments_lexer": "r",
            "version": "3.4.1"
        }
    },
    "nbformat": 4,
    "nbformat_minor": 1
}
