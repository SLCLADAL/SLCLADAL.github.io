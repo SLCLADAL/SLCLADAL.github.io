{
    "cells": [
        {
            "cell_type": "markdown",
            "metadata": {},
            "source": [
                "<!--html_preserve-->\n",
                "<!-- Global site tag (gtag.js) - Google Analytics -->\n",
                "<script async src=\"https://www.googletagmanager.com/gtag/js?id=UA-130562131-1\"><\/script>\n",
                "<script>\n",
                "  window.dataLayer = window.dataLayer || [];\n",
                "  function gtag(){dataLayer.push(arguments);}\n",
                "  gtag('js', new Date());\n",
                "\n",
                "  gtag('config', 'UA-130562131-1');\n",
                "<\/script>\n",
                "<!--/html_preserve-->\n"
            ]
        },
        {
            "cell_type": "code",
            "execution_count": null,
            "metadata": {},
            "outputs": [],
            "source": [
                "knitr::include_graphics(\"https://slcladal.github.io/images/uq1.jpg\")\n",
                "\n"
            ]
        },
        {
            "cell_type": "markdown",
            "metadata": {},
            "source": [
                "# Introduction{-}\n",
                "\n",
                "This tutorial shows how to generate interactive data visualizations in R. The entire R markdown document for this tutorial can be downloaded [here](https://slcladal.github.io/motion.Rmd). Interactive visualization refers to a type of graphic visualization that allows the viewer to interact with the data or the information that is visualized. As such, interactive visualizations are more engaging or appealing compared with non-interactive visualization. However, interactive visualizations cannot be implemented in reports that are printed on paper but are restricted to digital formats (e.g. websites, presentations, etc.).\n",
                "\n",
                "There are various options to generate interactive data visualizations in R. The most popular option is to create a `shiny` app [@beeley2013web]. This tutorial will not use `shiny` because `shiny` requires that the computation on which the computation that underlies the visualization is performed on a server. Rather, we will use `GooleViz` [@gesmann2011using] for generating interactive visualizations that use the computer  (or the browser) of the viewer to perform the computation. Thus, the interactive visualizations shown here do not require an external server.\n",
                "\n",
                "## Preparation and session set up{-}\n",
                "\n",
                "This tutorial is based on [R](@rcran). If you have not installed R or are new to it, you will find an introduction to and more information how to use R [here](https://slcladal.github.io/intror.html). For this tutorials, we need to install certain *packages* from an R *library* so that the scripts shown below are executed without errors. Before turning to the code below, please install the packages by running the code below this paragraph. If you have already installed the packages mentioned below, then you can skip ahead ignore this section. To install the necessary packages, simply run the following code - it may take some time (between 1 and 5 minutes to install all of the packages so you do not need to worry if it takes some time).\n"
            ]
        },
        {
            "cell_type": "code",
            "execution_count": null,
            "metadata": {},
            "outputs": [],
            "source": [
                "# install packages\n",
                "install.packages(\"googleVis\")\n",
                "install.packages(\"tidyverse\")\n",
                "install.packages(\"DT\")\n",
                "install.packages(\"flextable\")\n",
                "install.packages(\"ggplot2\")\n",
                "install.packages(\"gganimate\")\n",
                "install.packages(\"gapminder\")\n",
                "install.packages(\"maptools\")\n",
                "install.packages(\"plotly\")\n",
                "install.packages(\"leaflet\")\n",
                "# install klippy for copy-to-clipboard button in code chunks\n",
                "remotes::install_github(\"rlesur/klippy\")\n"
            ]
        },
        {
            "cell_type": "markdown",
            "metadata": {},
            "source": [
                "Now that we have installed the packages, we activate them as shown below.\n",
                "\n"
            ]
        },
        {
            "cell_type": "code",
            "execution_count": null,
            "metadata": {},
            "outputs": [],
            "source": [
                "# set options\n",
                "options(stringsAsFactors = F)          # no automatic data transformation\n",
                "options(\"scipen\" = 100, \"digits\" = 12) # suppress math annotation\n",
                "# Warning: the following option adaptation requires re-setting during session outro!\n",
                "op <- options(gvis.plot.tag='chart')  # set gViz options\n",
                "# activate packages\n",
                "library(googleVis)\n",
                "library(tidyverse)\n",
                "library(DT)\n",
                "library(flextable)\n",
                "library(ggplot2)\n",
                "library(gganimate)\n",
                "library(gapminder)\n",
                "library(maptools)\n",
                "library(plotly)\n",
                "library(leaflet)\n",
                "# activate klippy for copy-to-clipboard button\n",
                "klippy::klippy()\n"
            ]
        },
        {
            "cell_type": "markdown",
            "metadata": {},
            "source": [
                "Once you have installed R and RStudio and initiated the session by executing the code shown above, you are good to go.\n",
                "\n",
                "## Getting Started{-}\n",
                "\n",
                "To get started with motion charts, we load the `googleVis` package for the visualizations, the `tidyverse` package for data processing, and we load a data set called `coocdata`. The `coocdata` contains information about how often adjectives were amplified by a degree adverb across time (see below). \n"
            ]
        },
        {
            "cell_type": "code",
            "execution_count": null,
            "metadata": {},
            "outputs": [],
            "source": [
                "# load data\n",
                "coocdata  <- base::readRDS(url(\"https://slcladal.github.io/data/coo.rda\", \"rb\"))\n"
            ]
        },
        {
            "cell_type": "markdown",
            "metadata": {},
            "source": "\n"
        },
        {
            "cell_type": "code",
            "execution_count": null,
            "metadata": {},
            "outputs": [],
            "source": [
                "# inspect data\n",
                "coocdata %>%\n",
                "  as.data.frame() %>%\n",
                "  head(15) %>%\n",
                "  flextable::flextable() %>%\n",
                "  flextable::set_table_properties(width = .95, layout = \"autofit\") %>%\n",
                "  flextable::theme_zebra() %>%\n",
                "  flextable::fontsize(size = 12) %>%\n",
                "  flextable::fontsize(size = 12, part = \"header\") %>%\n",
                "  flextable::align_text_col(align = \"center\") %>%\n",
                "  flextable::set_caption(caption = \"First 15 rows of teh coocdata data.\")  %>%\n",
                "  flextable::border_outer()\n"
            ]
        },
        {
            "cell_type": "markdown",
            "metadata": {},
            "source": [
                "The `coocdata` is rather complex and requires some processing. First, we rename the columns to render their naming more meaningful. In this context we rename the *OBS* column *Frequency* and the *Amp* column *Amplifier*. As we are only interested if an adjective was amplified by *very*, we collapse all amplifiers that are not *very* in a bin category called *other*. We then calculate the frequency of the adjective within each time period and also the frequency with which each adjective is amplified by either *very* or *other* amplifiers. Then, we calculate the percentage with which each adjective is amplified by *very*.\n",
                "\n"
            ]
        },
        {
            "cell_type": "code",
            "execution_count": null,
            "metadata": {},
            "outputs": [],
            "source": [
                "# process data\n",
                "coocs <- coocdata %>%\n",
                "  dplyr::select(Decade, Amp, Adjective, OBS) %>%\n",
                "  dplyr::rename(Frequency = OBS,\n",
                "         Amplifier = Amp) %>%\n",
                "  dplyr::mutate(Amplifier = ifelse(Amplifier == \"very\", \"very\", \"other\")) %>%\n",
                "  dplyr::group_by(Decade, Adjective, Amplifier) %>%\n",
                "  dplyr::summarise(Frequency = sum(Frequency)) %>%\n",
                "  dplyr::ungroup() %>%\n",
                "  tidyr::spread(Amplifier, Frequency) %>%\n",
                "  dplyr::group_by(Decade, Adjective) %>%\n",
                "  dplyr::mutate(Frequency_Adjective = sum(other + very),\n",
                "         Percent_very = round(very/(other+very)*100, 2)) %>%\n",
                "  dplyr::mutate(Percent_very = ifelse(is.na(Percent_very), 0, Percent_very),\n",
                "         Adjective = factor(Adjective))\n",
                "# inspect data\n",
                "head(coocs, 10)\n"
            ]
        },
        {
            "cell_type": "markdown",
            "metadata": {},
            "source": "\n"
        },
        {
            "cell_type": "code",
            "execution_count": null,
            "metadata": {},
            "outputs": [],
            "source": [
                "# inspect data\n",
                "coocs %>%\n",
                "  as.data.frame() %>%\n",
                "  head(10) %>%\n",
                "  flextable::flextable() %>%\n",
                "  flextable::set_table_properties(width = .95, layout = \"autofit\") %>%\n",
                "  flextable::theme_zebra() %>%\n",
                "  flextable::fontsize(size = 12) %>%\n",
                "  flextable::fontsize(size = 12, part = \"header\") %>%\n",
                "  flextable::align_text_col(align = \"center\") %>%\n",
                "  flextable::set_caption(caption = \"First 10 rows of teh coocs data.\")  %>%\n",
                "  flextable::border_outer()\n"
            ]
        },
        {
            "cell_type": "markdown",
            "metadata": {},
            "source": [
                "We now have a data set that we can use to generate interactive visualization.\n",
                "\n",
                "# Basic Interactive Graphs\n",
                "\n",
                "\n",
                "\n",
                "## Scatter Plots{-}\n",
                "\n",
                "Scatter plots show the relationship between two numeric variables if you have more than one observation per variable level (if the data is not grouped by another variable). This means that you can use scatter plots to display data when you have, e.g. more than one observation for each data in your data set. If you only have a single observation, you could also use a line graph (which we will turn to below).\n"
            ]
        },
        {
            "cell_type": "code",
            "execution_count": null,
            "metadata": {},
            "outputs": [],
            "source": [
                "scdat <- coocs %>%\n",
                "  dplyr::group_by(Decade) %>%\n",
                "  dplyr::summarise(Precent_very = mean(Percent_very))\n",
                "# create scatter plot\n",
                "SC <- gvisScatterChart(scdat, \n",
                "                       options=list(\n",
                "                         title=\"Interactive Scatter Plot\",\n",
                "                         legend=\"none\",\n",
                "                         pointSize=5))\n"
            ]
        },
        {
            "cell_type": "markdown",
            "metadata": {},
            "source": [
                "If you want to display the visualization in a Notebook environment, you can use the `plot` function as shown below.\n",
                "\n"
            ]
        },
        {
            "cell_type": "code",
            "execution_count": null,
            "metadata": {},
            "outputs": [],
            "source": [
                "plot(SC)\n",
                "\n"
            ]
        },
        {
            "cell_type": "markdown",
            "metadata": {},
            "source": [
                "However, if you want to display the visualization on a website, you must use the `print` function rather than the `plot` function and specify that you want to print a `chart`.\n",
                "\n"
            ]
        },
        {
            "cell_type": "code",
            "execution_count": null,
            "metadata": {},
            "outputs": [],
            "source": [
                "print(SC, 'chart')\n",
                "\n"
            ]
        },
        {
            "cell_type": "markdown",
            "metadata": {},
            "source": [
                "## Line Graphs{-}\n",
                "\n",
                "To create an interactive line chart, we use the `gvisLineChart` function as shown below.\n"
            ]
        },
        {
            "cell_type": "code",
            "execution_count": null,
            "metadata": {},
            "outputs": [],
            "source": [
                "# create scatter plot\n",
                "SC <- gvisLineChart(scdat, \n",
                "                    options=list(\n",
                "                      title=\"Interactive Scatter Plot\",\n",
                "                      legend=\"none\"))\n"
            ]
        },
        {
            "cell_type": "markdown",
            "metadata": {},
            "source": [
                "If you want to display the visualization in a Notebook environment, you can use the `plot` function. For website, you must use the `print` function and specify that you want to print a `chart`.\n",
                "\n"
            ]
        },
        {
            "cell_type": "code",
            "execution_count": null,
            "metadata": {},
            "outputs": [],
            "source": [
                "print(SC, 'chart')\n",
                "\n"
            ]
        },
        {
            "cell_type": "markdown",
            "metadata": {},
            "source": [
                "## Bar Plots{-}\n",
                "\n",
                "To create an interactive bar chart, we use the `gvisBarChart` function as shown below.\n"
            ]
        },
        {
            "cell_type": "code",
            "execution_count": null,
            "metadata": {},
            "outputs": [],
            "source": [
                "# create scatter plot\n",
                "SC <- gvisBarChart(scdat, \n",
                "                       options=list(\n",
                "                         title=\"Interactive Bar chart\",\n",
                "                         legend=\"right\",\n",
                "                         pointSize=10))\n"
            ]
        },
        {
            "cell_type": "markdown",
            "metadata": {},
            "source": [
                "Normally, you would use the `plot` function to display the interactive chart but you must use the `print` function with the `chart` argument if you want to display the result on a  website.\n",
                "\n"
            ]
        },
        {
            "cell_type": "code",
            "execution_count": null,
            "metadata": {},
            "outputs": [],
            "source": [
                "print(SC, 'chart')\n",
                "\n"
            ]
        },
        {
            "cell_type": "markdown",
            "metadata": {},
            "source": [
                "# Animations\n",
                "\n",
                "Animations or GIFs (Graphics Interchange Format) can be generated using the `gganimate` package written by  Thomas Lin Pedersen and David Robinson. The `gganimate` package allows to track changes over time while simultaneously displaying several variables in one visualization. As we will create animations using the `ggplot2` package, we also load that package from the library. In this case, we use the gapminder data set which comes with the `gapminder` package and which contains information about different countries, such as the average life expectancy, the population, or the gross domestic product (GDP), across time.\n"
            ]
        },
        {
            "cell_type": "code",
            "execution_count": null,
            "metadata": {},
            "outputs": [],
            "source": [
                "# set options\n",
                "theme_set(theme_bw())\n"
            ]
        },
        {
            "cell_type": "markdown",
            "metadata": {},
            "source": "\n"
        },
        {
            "cell_type": "code",
            "execution_count": null,
            "metadata": {},
            "outputs": [],
            "source": [
                "# inspect data\n",
                "gapminder %>%\n",
                "  as.data.frame() %>%\n",
                "  head(10) %>%\n",
                "  flextable::flextable() %>%\n",
                "  flextable::set_table_properties(width = .95, layout = \"autofit\") %>%\n",
                "  flextable::theme_zebra() %>%\n",
                "  flextable::fontsize(size = 12) %>%\n",
                "  flextable::fontsize(size = 12, part = \"header\") %>%\n",
                "  flextable::align_text_col(align = \"center\") %>%\n",
                "  flextable::set_caption(caption = \"First 10 rows of the gapminder data.\")  %>%\n",
                "  flextable::border_outer()\n"
            ]
        },
        {
            "cell_type": "markdown",
            "metadata": {},
            "source": [
                "After loading the data, we create static plot so that we can check what the data looks like at one point in time.\n",
                "\n"
            ]
        },
        {
            "cell_type": "code",
            "execution_count": null,
            "metadata": {},
            "outputs": [],
            "source": [
                "p <- ggplot(\n",
                "  gapminder, \n",
                "  aes(x = gdpPercap, y=lifeExp, size = pop, colour = country)\n",
                "  ) +\n",
                "  geom_point(show.legend = FALSE, alpha = 0.7) +\n",
                "  scale_color_viridis_d() +\n",
                "  scale_size(range = c(2, 12)) +\n",
                "  scale_x_log10() +\n",
                "  labs(x = \"GDP per capita\", y = \"Life expectancy\")\n",
                "p\n"
            ]
        },
        {
            "cell_type": "markdown",
            "metadata": {},
            "source": [
                "We can then turn static plot into animation by defining the content of the `transition_time` object.\n",
                "\n"
            ]
        },
        {
            "cell_type": "code",
            "execution_count": null,
            "metadata": {},
            "outputs": [],
            "source": [
                "gif <- p + transition_time(year) +\n",
                "  labs(title = \"Year: {frame_time}\")\n",
                "# show gif\n",
                "gif\n"
            ]
        },
        {
            "cell_type": "markdown",
            "metadata": {},
            "source": [
                "![](https://slcladal.github.io/images/gif.gif)\n",
                "\n",
                "\n",
                "Another way to generate animations is to use the `plotly` package as shown below. While I personally do not find the visualizations created by the `plot_ly` function as visually appealing, it has the advantage that it allows mouse-over effects.\n"
            ]
        },
        {
            "cell_type": "code",
            "execution_count": null,
            "metadata": {},
            "outputs": [],
            "source": [
                "fig <- gapminder %>%\n",
                "  plot_ly(\n",
                "    x = ~gdpPercap, \n",
                "    y = ~lifeExp, \n",
                "    size = ~pop, \n",
                "    color = ~continent, \n",
                "    frame = ~year, \n",
                "    text = ~country, \n",
                "    hoverinfo = \"text\",\n",
                "    type = 'scatter',\n",
                "    mode = 'markers'\n",
                "  )\n",
                "fig <- fig %>% layout(\n",
                "    xaxis = list(\n",
                "      type = \"log\"\n",
                "    )\n",
                "  )\n",
                "\n",
                "fig\n"
            ]
        },
        {
            "cell_type": "markdown",
            "metadata": {},
            "source": [
                "# Interactive Maps\n",
                "\n",
                "You can also use the `leaflet` package to create interactive maps. In this example, we display the beautiful city of Brisbane and the visualization allows you to zoom in and out. \n"
            ]
        },
        {
            "cell_type": "code",
            "execution_count": null,
            "metadata": {},
            "outputs": [],
            "source": [
                "# generate visulization\n",
                "m <- leaflet() %>% \n",
                "  setView(lng = 153.05, lat = -27.45, zoom = 12)\n",
                "# display map\n",
                "m %>% addTiles()\n"
            ]
        },
        {
            "cell_type": "markdown",
            "metadata": {},
            "source": [
                "Another option is to display information about different countries. In this case, we can use the information provided in the `maptools` package which comes with a `SpatialPolygonsDataFrame` of the world and the population by country (in 2005). To make the visualization a bit more appealing, we will calculate the population density, add this variable to the data which underlies the visualization, and then display the information interactively. In this case, this means that you can use *mouse-over* or *hoover* effects so that you see the population density in each country if you put the curser on that country (given the information is available for that country).\n",
                "\n",
                "We start by loading the required package from the library, adding population density to the data, and removing data points without meaningful information (e.g. we set values like Inf to NA).\n"
            ]
        },
        {
            "cell_type": "code",
            "execution_count": null,
            "metadata": {},
            "outputs": [],
            "source": [
                "# load data\n",
                "data(wrld_simpl)\n",
                "# calculate population density and add it to the data \n",
                "wrld_simpl@data$PopulationDensity <- round(wrld_simpl@data$POP2005/wrld_simpl@data$AREA,2)\n",
                "wrld_simpl@data$PopulationDensity <- ifelse(wrld_simpl@data$PopulationDensity == \"Inf\", NA, wrld_simpl@data$PopulationDensity)\n",
                "wrld_simpl@data$PopulationDensity <- ifelse(wrld_simpl@data$PopulationDensity == \"NaN\", NA, wrld_simpl@data$PopulationDensity)\n",
                "# inspect data\n",
                "head(wrld_simpl@data)\n"
            ]
        },
        {
            "cell_type": "markdown",
            "metadata": {},
            "source": [
                "We can now display the data.\n",
                "\n"
            ]
        },
        {
            "cell_type": "code",
            "execution_count": null,
            "metadata": {},
            "outputs": [],
            "source": [
                "# define colors\n",
                "qpal <- colorQuantile(rev(viridis::viridis(10)),\n",
                "                      wrld_simpl$PopulationDensity, n=10)\n",
                "# generate visualization\n",
                "l <- leaflet(wrld_simpl, options =\n",
                "               leafletOptions(attributionControl = FALSE, minzoom=1.5)) %>%\n",
                "  addPolygons(\n",
                "    label=~stringr::str_c(\n",
                "      NAME, ' ',\n",
                "      formatC(PopulationDensity, big.mark = ',', format='d')),\n",
                "    labelOptions= labelOptions(direction = 'auto'),\n",
                "    weight=1, color='#333333', opacity=1,\n",
                "    fillColor = ~qpal(PopulationDensity), fillOpacity = 1,\n",
                "    highlightOptions = highlightOptions(\n",
                "      color='#000000', weight = 2,\n",
                "      bringToFront = TRUE, sendToBack = TRUE)\n",
                "    ) %>%\n",
                "  addLegend(\n",
                "    \"topright\", pal = qpal, values = ~PopulationDensity,\n",
                "    title = htmltools::HTML(\"Population density <br> (2005)\"),\n",
                "    opacity = 1 )\n",
                "# display visualization\n",
                "l\n"
            ]
        },
        {
            "cell_type": "markdown",
            "metadata": {},
            "source": [
                "## Session Outro{-}\n",
                "\n",
                "When generating interactive maps, it is important that you reset the default graphics parameters which had to be adapted in the session set-up. Therefore, in a final step, we restore the default graphics options.\n"
            ]
        },
        {
            "cell_type": "code",
            "execution_count": null,
            "metadata": {},
            "outputs": [],
            "source": [
                "## Set options back to original options\n",
                "options(op)\n"
            ]
        },
        {
            "cell_type": "markdown",
            "metadata": {},
            "source": [
                "# Citation & Session Info {-}\n",
                "\n",
                "Schweinberger, Martin. `r format(Sys.time(), '%Y')`. *Creating Interactive Visualization in R*. Brisbane: The University of Queensland. url: https://slcladal.github.io/motion.html (Version `r format(Sys.time(), '%Y.%m.%d')`)\n"
            ]
        },
        {
            "cell_type": "code",
            "execution_count": null,
            "metadata": {},
            "outputs": [],
            "source": [
                "@manual{schweinberger2021motion,\n",
                "  author = {Schweinberger, Martin},\n",
                "  title = {Creating motion charts using R},\n",
                "  note = {https://slcladal.github.io/motion.html},\n",
                "  year = {`r format(Sys.time(), '%Y')`},\n",
                "  organization = \"The University of Queensland, Australia. School of Languages and Cultures},\n",
                "  address = {Brisbane},\n",
                "  edition = {`r format(Sys.time(), '%Y.%m.%d')`}\n",
                "}\n"
            ]
        },
        {
            "cell_type": "markdown",
            "metadata": {},
            "source": [
                "\n",
                "\n"
            ]
        },
        {
            "cell_type": "code",
            "execution_count": null,
            "metadata": {},
            "outputs": [],
            "source": [
                "sessionInfo()\n",
                "\n"
            ]
        },
        {
            "cell_type": "markdown",
            "metadata": {},
            "source": [
                "***\n",
                "\n",
                "[Back to top](#introduction)\n",
                "\n",
                "[Back to HOME](https://slcladal.github.io/index.html)\n",
                "\n",
                "***\n",
                "\n",
                "# References {-}\n"
            ]
        }
    ],
    "metadata": {
        "anaconda-cloud": "",
        "kernelspec": {
            "display_name": "R",
            "langauge": "R",
            "name": "ir"
        },
        "language_info": {
            "codemirror_mode": "r",
            "file_extension": ".r",
            "mimetype": "text/x-r-source",
            "name": "R",
            "pygments_lexer": "r",
            "version": "3.4.1"
        }
    },
    "nbformat": 4,
    "nbformat_minor": 1
}
