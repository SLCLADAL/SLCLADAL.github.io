{
    "cells": [
        {
            "cell_type": "markdown",
            "metadata": {},
            "source": [
                "\n",
                "\n"
            ]
        },
        {
            "cell_type": "code",
            "execution_count": null,
            "metadata": {},
            "outputs": [],
            "source": [
                "knitr::include_graphics(\"https://slcladal.github.io/images/uq1.jpg\")\n",
                "\n"
            ]
        },
        {
            "cell_type": "markdown",
            "metadata": {},
            "source": [
                "# Introduction{-}\n",
                "\n",
                "This tutorial shows how to convert PDFs to simple txt (editor) files. The R Notebook for this tutorial can be downloaded [here](https://slcladal.github.io/convertpdf2txt.Rmd). \n",
                "\n",
                "## Preparation and session set up{-}\n",
                "\n",
                "This tutorial is based on R. If you have not installed R or are new to it, you will find an introduction to and more information how to use R [here](https://slcladal.github.io/IntroR_workshop.html). For this tutorials, we need to install certain *packages* from an R *library* so that the scripts shown below are executed without errors. Before turning to the code below, please install the packages by running the code below this paragraph. If you have already installed the packages mentioned below, then you can skip ahead ignore this section. To install the necessary packages, simply run the following code - it may take some time (between 1 and 5 minutes to install all of the libraries so you do not need to worry if it takes some time).\n"
            ]
        },
        {
            "cell_type": "code",
            "execution_count": null,
            "metadata": {},
            "outputs": [],
            "source": [
                "# clean current workspace\n",
                "rm(list=ls(all=T))\n",
                "# set options\n",
                "options(stringsAsFactors = F)\n",
                "# install libraries\n",
                "install.packages(c(\"pdftools\", \"dplyr\", \"stringr\", \"httr\", \"jsonlite\"))\n"
            ]
        },
        {
            "cell_type": "markdown",
            "metadata": {},
            "source": [
                "Once you have installed R-Studio and have also initiated the session by executing the code shown above, you are good to go.\n",
                "\n",
                "## How to use the R Notebook for this tutorial{-}\n",
                "\n",
                "To follow this tutorial interactively (by using the R Notebook), follow the instructions listed below.\n",
                "\n",
                "1. Create a folder somewhere on your computer\n",
                "2. Download the [R Notebook](https://slcladal.github.io//convertpdf2txt.Rmd) and save it in the folder you have just created\n",
                "3. Open R Studio\n",
                "4. Click on `File` in the upper left corner of the R Studio interface\n",
                "5. Click on `New Project...`\n",
                "6. Select `Existing Directory`\n",
                "7. Browse to the folder you have just created and click on `Open`\n",
                "8. Now click on `Files` above the lower right panel\n",
                "9. Click on the file `convertpdf2txt.Rmd`\n",
                "  + The Markdown file of this tutorial should now be open in the upper left panel of R Studio. To execute the code which prepare the session, load the data, create the graphs, and perform the statistics, simply click on the green arrows in the top right corner of the code boxes.\n",
                "  + To render a PDF of this tutorial, simply click on `Knit` above the upper left panel in R Studio.\n",
                "\n",
                "# Converting PDFs into txt files{-}\n",
                "\n",
                "Now, we load the packages and inspect the data. \n"
            ]
        },
        {
            "cell_type": "code",
            "execution_count": null,
            "metadata": {},
            "outputs": [],
            "source": [
                "# activate packages\n",
                "library(pdftools)\n",
                "library(dplyr)\n",
                "library(stringr)\n"
            ]
        },
        {
            "cell_type": "markdown",
            "metadata": {},
            "source": [
                "Next, we define a path and convert the pdf that is located the path into a txt.\n",
                "\n"
            ]
        },
        {
            "cell_type": "code",
            "execution_count": null,
            "metadata": {},
            "outputs": [],
            "source": [
                "# you can use an url or a path that leads to a pdf dcument\n",
                "pdf_path <- \"https://slcladal.github.io/data/PDFs/pdf0.pdf\"\n",
                "# extract text\n",
                "txt_output <- pdftools::pdf_text(pdf_path) %>%\n",
                "  paste(sep = \" \") %>%\n",
                "  stringr::str_replace_all(fixed(\"\\n\"), \" \") %>%\n",
                "  stringr::str_replace_all(fixed(\"\\r\"), \" \") %>%\n",
                "  stringr::str_replace_all(fixed(\"\\t\"), \" \") %>%\n",
                "  stringr::str_replace_all(fixed(\"\\\"\"), \" \") %>%\n",
                "  paste(sep = \" \", collapse = \" \") %>%\n",
                "  stringr::str_squish() %>%\n",
                "  stringr::str_replace_all(\"- \", \"\") \n",
                "# inspect\n",
                "str(txt_output)\n"
            ]
        },
        {
            "cell_type": "markdown",
            "metadata": {},
            "source": [
                "To convert many pdf-files, we write a function that preforms the conversion for many documents.\n",
                "\n"
            ]
        },
        {
            "cell_type": "code",
            "execution_count": null,
            "metadata": {},
            "outputs": [],
            "source": [
                "convertpdf2txt <- function(dirpath){\n",
                "  files <- list.files(dirpath, full.names = T)\n",
                "  x <- sapply(files, function(x){\n",
                "  x <- pdftools::pdf_text(x) %>%\n",
                "  paste(sep = \" \") %>%\n",
                "  stringr::str_replace_all(fixed(\"\\n\"), \" \") %>%\n",
                "  stringr::str_replace_all(fixed(\"\\r\"), \" \") %>%\n",
                "  stringr::str_replace_all(fixed(\"\\t\"), \" \") %>%\n",
                "  stringr::str_replace_all(fixed(\"\\\"\"), \" \") %>%\n",
                "  paste(sep = \" \", collapse = \" \") %>%\n",
                "  stringr::str_squish() %>%\n",
                "  stringr::str_replace_all(\"- \", \"\") \n",
                "  return(x)\n",
                "    })\n",
                "}\n"
            ]
        },
        {
            "cell_type": "markdown",
            "metadata": {},
            "source": [
                "We can now apply the function to the folder in which we have stored the PDFs. The output is a vector with the texts of the PDFs. \n",
                "\n"
            ]
        },
        {
            "cell_type": "code",
            "execution_count": null,
            "metadata": {},
            "outputs": [],
            "source": [
                "# apply function\n",
                "txts <- convertpdf2txt(\"data/PDFs/\")\n",
                "# inspect the structure of the txts element\n",
                "str(txts)\n"
            ]
        },
        {
            "cell_type": "markdown",
            "metadata": {},
            "source": [
                "The output of the `str()` function shows that we have converted 4 PDFs into txt-files. \n",
                "\n",
                "# Saving the txt-files on your computer{-}\n",
                "\n",
                "To save the txt-files on your disc, simply replace the predefined location (\"D:\\\\Uni\\\\UQ\\\\SLC\\\\LADAL\\\\SLCLADAL.github.io\\\\data/\") with the folder where you want to store the txt files and then execute the code below. Also, we will name the txts-elements as text plus their number.\n"
            ]
        },
        {
            "cell_type": "code",
            "execution_count": null,
            "metadata": {},
            "outputs": [],
            "source": [
                "# add names to txt files\n",
                "names(txts) <- paste(\"text\", 1:length(txts), sep = \"\")\n",
                "# save result to disc\n",
                "lapply(seq_along(txts), function(i)writeLines(text = unlist(txts[i]),\n",
                "    con = paste(\"D:\\\\Uni\\\\UQ\\\\SLC\\\\LADAL\\\\SLCLADAL.github.io\\\\data/\", names(txts)[i],\".txt\", sep = \"\")))\n"
            ]
        },
        {
            "cell_type": "markdown",
            "metadata": {},
            "source": [
                "# Citation & Session Info {-}\n",
                "\n",
                "Schweinberger, Martin. 2020. *Converting PDFs to txt files with R*. Brisbane: The University of Queensland. url: https://slcladal.github.io/convertpdf2txt.html (Version 2020.12.03).\n"
            ]
        },
        {
            "cell_type": "code",
            "execution_count": null,
            "metadata": {},
            "outputs": [],
            "source": [
                "  author = {Schweinberger, Martin},\n",
                "  title = {Converting PDFs to txt files with R},\n",
                "  note = {https://slcladal.github.io/convertpdf2txt.html},\n",
                "  year = {2020},\n",
                "  organization = \"The University of Queensland, Australia. School of Languages and Cultures},\n",
                "  address = {Brisbane},\n",
                "  edition = {2020/12/03}\n",
                "}\n"
            ]
        },
        {
            "cell_type": "markdown",
            "metadata": {},
            "source": "\n"
        },
        {
            "cell_type": "code",
            "execution_count": null,
            "metadata": {},
            "outputs": [],
            "source": [
                "sessionInfo()\n",
                "\n"
            ]
        },
        {
            "cell_type": "markdown",
            "metadata": {},
            "source": [
                "***\n",
                "\n",
                "[Main page](https://slcladal.github.io/index.html)\n",
                "\n",
                "***\n"
            ]
        }
    ],
    "metadata": {
        "anaconda-cloud": "",
        "kernelspec": {
            "display_name": "R",
            "langauge": "R",
            "name": "ir"
        },
        "language_info": {
            "codemirror_mode": "r",
            "file_extension": ".r",
            "mimetype": "text/x-r-source",
            "name": "R",
            "pygments_lexer": "r",
            "version": "3.4.1"
        }
    },
    "nbformat": 4,
    "nbformat_minor": 1
}
