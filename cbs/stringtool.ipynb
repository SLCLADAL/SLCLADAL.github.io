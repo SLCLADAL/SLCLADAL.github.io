{
    "cells": [
        {
            "cell_type": "markdown",
            "metadata": {},
            "source": [
                "![An interactive LADAL notebook](https://slcladal.github.io/images/uq1.jpg)\n",
                "\n",
                "# String processing and cleaning data in R\n",
                "\n",
                "This notebook-based tool accompanies the [*Language Technology and Data Analysis Laboratory* (LADAL) tutorial *String Processing in R*](https://ladal.edu.au/string.html). \n",
                "\n",
                "\n",
                "<div class=\"warning\" style='padding:0.1em; background-color: rgba(215,209,204,.3); color:#51247a'>\n",
                "<span>\n",
                "<p style='margin-top:1em; text-align:center'>\n",
                "<b>The code chunks below allow you to remove and replace words, tags, and other elements from the text data that you upload. <\/b> \n",
                "<br>\n",
                "<br>\n",
                "<b>IMPORTANT: make sure you are familiar with [regular expressions](https://ladal.edu.au/regex.html) to be able to make the best out of this notebook tool!<\/b>\n",
                "<\/p>\n",
                "<p style='margin-left:1em;'>\n",
                "<\/p><\/span>\n",
                "<\/div>\n",
                "\n",
                "<br>\n",
                "\n",
                "\n",
                "\n",
                "\n",
                "## Using your own data\n",
                "\n",
                "<div class=\"warning\" style='padding:0.1em; background-color: rgba(215,209,204,.3); color:#51247a'>\n",
                "<span>\n",
                "<p style='margin-top:1em; text-align:center'>\n",
                "To <b>use your own data<\/b>, click on the folder called <b>`MyTexts`<\/b> (it is in the menu to the left of the screen) and then simply drag and drop your txt-files into the folder. <br>When you then execute the code chunk below, you will upload your own data and you can then use it in this notebook.<br>You can upload <b>only txt-files<\/b> (simple unformatted files created in or saved by a text editor)! <br>The notebook assumes that you upload some form of text data - not tabular data! \n",
                "<br>\n",
                "<\/p>\n",
                "<p style='margin-left:1em;'>\n",
                "<\/p><\/span>\n",
                "<\/div>\n",
                "\n",
                "<br>\n"
            ]
        },
        {
            "cell_type": "code",
            "execution_count": null,
            "metadata": {},
            "outputs": [],
            "source": [
                "# load function that helps loading texts\n",
                "source(\"https://slcladal.github.io/rscripts/loadtxts.R\")\n",
                "# load texts\n",
                "text <- loadtxts(\"notebooks/MyTexts\")\n",
                "# inspect the structure of the text object\n",
                "str(text)\n"
            ]
        },
        {
            "cell_type": "markdown",
            "metadata": {},
            "source": [
                "## Reformatting\n",
                "\n",
                "Now, we convert the text(s) into a data frame. \n"
            ]
        },
        {
            "cell_type": "code",
            "execution_count": null,
            "metadata": {},
            "outputs": [],
            "source": [
                "# load function that helps loading texts\n",
                "source(\"https://slcladal.github.io/rscripts/formattext.R\")\n",
                "# load texts\n",
                "text_df <- formattext(text)\n",
                "# inspect the structure of the text object\n",
                "str(text_df)\n"
            ]
        },
        {
            "cell_type": "markdown",
            "metadata": {},
            "source": [
                "## Cleaning\n",
                "\n",
                "Now that we've organized the data into a tabular format, the cleaning process becomes straightforward. We work with the data frame, employing `str_remove_all` and `str_replace_all` to eliminate undesired text sequences from the column contents. The distinction lies in their usage:\n",
                "\n",
                "+ `str_remove_all` requires specifying the column to clean and indicating what to remove.  \n",
                "\n",
                "+ `str_replace_all` additionally needs information on the replacement pattern for the specified pattern.  \n",
                "\n",
                "To further clean your data, simply copy the commands and paste them into the code (. Pay attention to the column you are working on! If you want to clean the *clean-text* column, then do not define *text* as the column you want to clean (assuming that the *clean-text* column has been created).\n"
            ]
        },
        {
            "cell_type": "code",
            "execution_count": null,
            "metadata": {},
            "outputs": [],
            "source": [
                "# create a data frame with 'file' and 'text' columns\n",
                "text_df %>%\n",
                "  \n",
                "  # create a new column called 'text_clean'\n",
                "  # clean 'text' column by removing \"<.*?>\"\n",
                "  dplyr::mutate(text_clean = stringr::str_remove_all(text, \"<.*?>\"),\n",
                "                \n",
                "                # replace strings of white spaces with a single white space\n",
                "                text_clean = stringr::str_replace_all(text_clean, \" {2,}\", \" \"),\n",
                "                \n",
                "                # PASTE YOUR CLEANING INSTRUCTIONS BELOW \n",
                "                # USE ONE OF THE TWO FORMATS: \n",
                "                # text_clean = stringr::str_replace_all(text_clean, \"TO BE REPLACED\", \"REPLACEMENT\"),\n",
                "                # OR\n",
                "                # text_clean = stringr::str_remove_all(text_clean, \"TO BE REMOVED\"),\n",
                "                \n",
                "                \n",
                "                # convert clean text to lower case)\n",
                "                text_clean = tolower(text_clean)) -> clean_df  # assign the result to 'clean_df'\n",
                "  \n",
                "# inspect the first 10 rows of the cleaned data frame\n",
                "str(clean_df)\n"
            ]
        },
        {
            "cell_type": "markdown",
            "metadata": {},
            "source": [
                "## Extract text\n",
                "\n",
                "Now, we aggregate the cleaned texts from the 'text_clean' column by file, ensuring we obtain a single consolidated clean text for each file and save the result as `ctext`.\n"
            ]
        },
        {
            "cell_type": "code",
            "execution_count": null,
            "metadata": {},
            "outputs": [],
            "source": [
                "# load function that helps loading texts\n",
                "source(\"https://slcladal.github.io/rscripts/extracttext.R\")\n",
                "# load texts\n",
                "ctext <- extracttext(clean_df)\n",
                "# inspect the structure of the text object\n",
                "str(ctext)\n"
            ]
        },
        {
            "cell_type": "markdown",
            "metadata": {},
            "source": [
                "## Saving to MyOutput\n",
                "\n",
                "As a concluding step, we save the outcomes – the three files housing our cleaned texts – in the 'MyOutput' folder, conveniently visible on the left side of the screen.\n"
            ]
        },
        {
            "cell_type": "code",
            "execution_count": null,
            "metadata": {},
            "outputs": [],
            "source": [
                "# load function that helps loading texts\n",
                "source(\"https://slcladal.github.io/rscripts/savetxts.R\")\n",
                "savetxts(ctext)\n"
            ]
        },
        {
            "cell_type": "markdown",
            "metadata": {},
            "source": [
                "<div class=\"warning\" style='padding:0.1em; background-color: rgba(215,209,204,.3); color:#51247a'>\n",
                "<span>\n",
                "<p style='margin-top:1em; text-align:center'>\n",
                "<b>You will find the txt-files in the `MyOutput` folder (located on the left side of the screen).<\/b> <br><br>Simply double-click the `MyOutput` folder icon, then highlight the files, and choose *Download* from the dropdown menu to download the files. <br>\n",
                "<\/p>\n",
                "<p style='margin-left:1em;'>\n",
                "<\/p><\/span>\n",
                "<\/div>\n",
                "\n",
                "<br>\n",
                "\n",
                "\n",
                "\n",
                "***\n",
                "\n",
                "# Citation & Session Info\n",
                "\n",
                "Schweinberger, Martin. (2024)` *LADAL Corpus-Cleaning Tool*. Brisbane: The University of Queensland. url: https://ladal.edu.au/tools.html (Version 2024.04.21).\n"
            ]
        },
        {
            "cell_type": "code",
            "execution_count": null,
            "metadata": {},
            "outputs": [],
            "source": [
                "@manual{schweinberger2024stringtool,\n",
                "  author = {Schweinberger, Martin},\n",
                "  title = {LADAL Corpus-Cleaning Tool},\n",
                "  note = {https://ladal.edu.au/tools.html},\n",
                "  year = {2024},\n",
                "  organization = {The University of Queensland, School of Languages and Cultures},\n",
                "  address = {Brisbane},\n",
                "  edition = {2024.04.21}\n",
                "}\n"
            ]
        },
        {
            "cell_type": "markdown",
            "metadata": {},
            "source": [
                "[Back to LADAL](https://ladal.edu.au/string.html)\n",
                "\n",
                "***\n"
            ]
        },
        {
            "cell_type": "code",
            "execution_count": null,
            "metadata": {},
            "outputs": [],
            "source": [
                "sessionInfo()\n",
                "\n"
            ]
        }
    ],
    "metadata": {
        "anaconda-cloud": "",
        "kernelspec": {
            "display_name": "R",
            "langauge": "R",
            "name": "ir"
        },
        "language_info": {
            "codemirror_mode": "r",
            "file_extension": ".r",
            "mimetype": "text/x-r-source",
            "name": "R",
            "pygments_lexer": "r",
            "version": "3.4.1"
        }
    },
    "nbformat": 4,
    "nbformat_minor": 1
}
