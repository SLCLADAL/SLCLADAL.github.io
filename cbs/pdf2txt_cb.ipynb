{
    "cells": [
        {
            "cell_type": "markdown",
            "metadata": {},
            "source": "\n"
        },
        {
            "cell_type": "code",
            "execution_count": null,
            "metadata": {},
            "outputs": [],
            "source": [
                "![uq](https://slcladal.github.io/images/uq1.jpg)\n",
                "\n",
                "# Introduction\n",
                "\n",
                "This tutorial shows how to extract text from one or more pdf-files and then saving the text(s) in txt-files on your computer. The RNotebook for this tutorial can be downloaded [here](https://slcladal.github.io/pdf2txt.Rmd). \n",
                "\n",
                "**Preparation and session set up**\n",
                "\n",
                "This tutorial is based on R. If you have not installed R or are new to it, you will find an introduction to and more information how to use R [here](https://slcladal.github.io/intror.html). For this tutorials, we need to install certain *packages* from an R *library* so that the scripts shown below are executed without errors. Before turning to the code below, please install the packages by running the code below this paragraph. If you have already installed the packages mentioned below, then you can skip ahead and ignore this section. To install the necessary packages, simply run the following code - it may take some time (between 1 and 5 minutes to install all of the libraries so you do not need to worry if it takes some time).\n"
            ]
        },
        {
            "cell_type": "markdown",
            "metadata": {},
            "source": [
                "# set options\n",
                "options(stringsAsFactors = F)          # no automatic data transformation\n",
                "options(\"scipen\" = 100, \"digits\" = 12) # suppress math annotation\n",
                "# install packages\n",
                "install.packages(\"pdftools\")\n",
                "install.packages(\"tidyverse\")\n",
                "install.packages(\"here\")\n",
                "# install klippy for copy-to-clipboard button in code chunks\n",
                "remotes::install_github(\"rlesur/klippy\")\n"
            ]
        },
        {
            "cell_type": "code",
            "execution_count": null,
            "metadata": {},
            "outputs": [],
            "source": [
                "Next we activate the packages.\n",
                "\n"
            ]
        },
        {
            "cell_type": "markdown",
            "metadata": {},
            "source": [
                "# activate packages\n",
                "library(pdftools)\n",
                "library(tidyverse)\n",
                "library(here)\n",
                "# activate klippy for copy-to-clipboard button\n",
                "klippy::klippy()\n"
            ]
        },
        {
            "cell_type": "code",
            "execution_count": null,
            "metadata": {},
            "outputs": [],
            "source": [
                "Once you have installed RStudio and have also initiated the session by executing the code shown above, you are good to go.\n",
                "\n",
                "**How to use the RNotebook for this tutorial**\n",
                "\n",
                "To follow this tutorial interactively (by using the RNotebook - or Rmd for short), follow the instructions listed below.\n",
                "\n",
                "**Data and folder set up**\n",
                "\n",
                "1. Create a folder somewhere on your computer\n",
                "2. In that folder create a sub-folder called *data*\n",
                "3. In that *data* folder, create a subfolder called *PDFs* \n",
                "4. Download and  save the following pdf-files in that *PDFs* folder: \n",
                "[pdf0](https://slcladal.github.io/data/PDFs/pdf0.pdf), [pdf1](https://slcladal.github.io/data/PDFs/pdf1.pdf), [pdf2](https://slcladal.github.io/data/PDFs/pdf2.pdf), and [pdf3](https://slcladal.github.io/data/PDFs/pdf3.pdf).\n",
                "\n",
                "**R and RStudio set up**\n",
                "\n",
                "1. Download the [RNotebook](https://slcladal.github.io//pdf2txt.Rmd) and save it in the folder you have just created\n",
                "2. Open RStudio\n",
                "3. Click on `File` in the upper left corner of the R Studio interface\n",
                "4. Click on `New Project...`\n",
                "5. Select `Existing Directory`\n",
                "6. Browse to the folder you have just created and click on `Open`\n",
                "7. Now click on `Files` above the lower right panel\n",
                "8. Click on the file `pdf2txt.Rmd`\n",
                "   + The Markdown file of this tutorial should now be open in the upper left panel of RStudio. To execute the code which prepare the session, load the data, create the graphs, and perform the statistics, simply click on the green arrows in the top right corner of the code boxes.\n",
                "   + To render a PDF of this tutorial, simply click on `Knit` above the upper left panel in RStudio.\n",
                "\n",
                "# Extract text from one pdf\n",
                "\n",
                "The pdf we will convert is a [pdf of the Wikipedia article about corpus linguistics](https://slcladal.github.io/data/PDFs/pdf0.pdf). The first part of that pdf is shown below.\n"
            ]
        },
        {
            "cell_type": "markdown",
            "metadata": {},
            "source": "knitr::include_graphics(\"https://slcladal.github.io/images/pdf0.png\")\n"
        },
        {
            "cell_type": "code",
            "execution_count": null,
            "metadata": {},
            "outputs": [],
            "source": [
                "Given that the pdf contains tables, urls, reference, etc., the text that we will extract from the pdf will be rather messy - cleaning the content of the text would be another matter (it would be data processing rather than extraction) and we will thus only focus on the conversion process here and not focus on the data cleaning and processing aspect. \n",
                "\n",
                "We begin the extraction by defining a path to the pdf. Once we have defined a path, i.e. where R is supposed to look for that file, we continue by extracting the text from the pdf.\n"
            ]
        },
        {
            "cell_type": "markdown",
            "metadata": {},
            "source": [
                "# you can use an url or a path that leads to a pdf document\n",
                "pdf_path <- \"https://slcladal.github.io/data/PDFs/pdf0.pdf\"\n",
                "# extract text\n",
                "txt_output <- pdftools::pdf_text(pdf_path) %>%\n",
                "  paste0(collapse = \" \") %>%\n",
                "  paste0(collapse = \" \") %>%\n",
                "  stringr::str_squish() \n"
            ]
        },
        {
            "cell_type": "code",
            "execution_count": null,
            "metadata": {},
            "outputs": [],
            "source": [
                "\n",
                "\n"
            ]
        },
        {
            "cell_type": "markdown",
            "metadata": {},
            "source": [
                "# show data\n",
                "txt_output %>%\n",
                "  substr(start=1, stop=1000) %>%\n",
                "  as.data.frame() %>%\n",
                "  flextable::flextable() %>%\n",
                "  flextable::set_table_properties(width = .95, layout = \"autofit\") %>%\n",
                "  flextable::theme_zebra() %>%\n",
                "  flextable::fontsize(size = 12) %>%\n",
                "  flextable::fontsize(size = 12, part = \"header\") %>%\n",
                "  flextable::align_text_col(align = \"center\") %>%\n",
                "  flextable::set_caption(caption = \"First 1000 characters of the extracted text from a pdf of the wikipedia article on corpus linguistics.\")  %>%\n",
                "  flextable::border_outer()\n"
            ]
        },
        {
            "cell_type": "code",
            "execution_count": null,
            "metadata": {},
            "outputs": [],
            "source": [
                "# Extracting text from many pdfs\n",
                "\n",
                "To convert many pdf-files, we write a function that preforms the conversion for many documents.\n"
            ]
        },
        {
            "cell_type": "markdown",
            "metadata": {},
            "source": [
                "convertpdf2txt <- function(dirpath){\n",
                "  files <- list.files(dirpath, full.names = T)\n",
                "  x <- sapply(files, function(x){\n",
                "  x <- pdftools::pdf_text(x) %>%\n",
                "  paste0(collapse = \" \") %>%\n",
                "  stringr::str_squish()\n",
                "  return(x)\n",
                "    })\n",
                "}\n"
            ]
        },
        {
            "cell_type": "code",
            "execution_count": null,
            "metadata": {},
            "outputs": [],
            "source": [
                "We can now apply the function to the folder in which we have stored the pdf-files we want to convert. In the present case, I have stored 4 pdf-files of Wikipedia articles in a folder called *PDFs* which is located in my *data* folder as described in the sectionabove which detailed how to set up the Rproject folder on your computer). The output is a vector with the texts of the pdf-files. \n",
                "\n"
            ]
        },
        {
            "cell_type": "markdown",
            "metadata": {},
            "source": [
                "# apply function\n",
                "txts <- convertpdf2txt(here::here(\"data\", \"PDFs/\"))\n"
            ]
        },
        {
            "cell_type": "code",
            "execution_count": null,
            "metadata": {},
            "outputs": [],
            "source": [
                "\n",
                "\n"
            ]
        },
        {
            "cell_type": "markdown",
            "metadata": {},
            "source": [
                "# show data\n",
                "txts %>%\n",
                "  substr(start=1, stop=1000) %>%\n",
                "  as.data.frame() %>%\n",
                "  flextable::flextable() %>%\n",
                "  flextable::set_table_properties(width = .95, layout = \"autofit\") %>%\n",
                "  flextable::theme_zebra() %>%\n",
                "  flextable::fontsize(size = 12) %>%\n",
                "  flextable::fontsize(size = 12, part = \"header\") %>%\n",
                "  flextable::align_text_col(align = \"center\") %>%\n",
                "  flextable::set_caption(caption = \"First 1000 characters of the extracted texts from pdfs of selected wikipedia articles.\")  %>%\n",
                "  flextable::border_outer()\n"
            ]
        },
        {
            "cell_type": "code",
            "execution_count": null,
            "metadata": {},
            "outputs": [],
            "source": [
                "The table above shows the first 1000 characters of the texts extracted from 4 pdf-files of Wikipedia articles associated with language technology (*corpus linguistics*, *linguistics*, *natural language processing*, and *computational linguistics*). \n",
                "\n",
                "# Saving the texts\n",
                "\n",
                "To save the texts in txt-files on your disc, you can simply replace the predefined location (the data folder of your Rproject located by the string `here::here(\"data\")` with the folder where you want to store the txt-files and then execute the code below. Also, we will name the texts (or the txt-files if you like) as *pdftext* plus their index number.\n"
            ]
        },
        {
            "cell_type": "markdown",
            "metadata": {},
            "source": [
                "# add names to txt files\n",
                "names(txts) <- paste0(here::here(\"data\",\"pdftext\"), 1:length(txts), sep = \"\")\n",
                "# save result to disc\n",
                "lapply(seq_along(txts), function(i)writeLines(text = unlist(txts[i]),\n",
                "    con = paste(names(txts)[i],\".txt\", sep = \"\")))\n"
            ]
        },
        {
            "cell_type": "code",
            "execution_count": null,
            "metadata": {},
            "outputs": [],
            "source": [
                "If you check the data folder in your Rproject folder, you should find 4 files called *pdftext1*, *pdftext2*, *pdftext3*, *pdftext4*.\n",
                "\n",
                "# Citation & Session Info \n",
                "\n",
                "Schweinberger, Martin. `r format(Sys.time(), '%Y')`. *Converting PDFs to txt files with R*. Brisbane: The University of Queensland. url: https://slcladal.github.io/pdf2txt.html (Version `r format(Sys.time(), '%Y.%m.%d')`).\n"
            ]
        },
        {
            "cell_type": "markdown",
            "metadata": {},
            "source": [
                "@manual{schweinberger`r format(Sys.time(), '%Y')`pdf2txt,\n",
                "  author = {Schweinberger, Martin},\n",
                "  title = {Converting PDFs to txt files with R},\n",
                "  note = {https://slcladal.github.io/pdf2txt.html},\n",
                "  year = {`r format(Sys.time(), '%Y')`},\n",
                "  organization = \"The University of Queensland, Australia. School of Languages and Cultures},\n",
                "  address = {Brisbane},\n",
                "  edition = {`r format(Sys.time(), '%Y.%m.%d')`}\n",
                "}\n"
            ]
        },
        {
            "cell_type": "code",
            "execution_count": null,
            "metadata": {},
            "outputs": [],
            "source": [
                "\n",
                "\n"
            ]
        },
        {
            "cell_type": "markdown",
            "metadata": {},
            "source": "sessionInfo()\n"
        },
        {
            "cell_type": "code",
            "execution_count": null,
            "metadata": {},
            "outputs": [],
            "source": [
                "***\n",
                "\n",
                "[Back to top](#introduction)\n",
                "\n",
                "[Back to HOME](https://slcladal.github.io/index.html)\n",
                "\n",
                "***\n"
            ]
        }
    ],
    "metadata": {
        "anaconda-cloud": "",
        "kernelspec": {
            "display_name": "R",
            "langauge": "R",
            "name": "ir"
        },
        "language_info": {
            "codemirror_mode": "r",
            "file_extension": ".r",
            "mimetype": "text/x-r-source",
            "name": "R",
            "pygments_lexer": "r",
            "version": "3.4.1"
        }
    },
    "nbformat": 4,
    "nbformat_minor": 1
}
