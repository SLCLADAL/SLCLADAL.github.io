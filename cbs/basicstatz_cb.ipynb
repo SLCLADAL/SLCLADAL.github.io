{
    "cells": [
        {
            "cell_type": "markdown",
            "metadata": {},
            "source": "\n"
        },
        {
            "cell_type": "code",
            "execution_count": null,
            "metadata": {},
            "outputs": [],
            "source": [
                "![uq](https://slcladal.github.io/images/uq1.jpg)\n",
                "\n",
                "# Introduction\n",
                "\n",
                "This tutorial introduces basic inferential procedures for hypothesis testing. The tutorial focuses on the implementation of these statistical tests in R, but it also covers the conceptual underpinnings of the most commonly used tests (such as t-tests and $\\chi^2$-tests. The R-markdown document of this tutorial  can be downloaded [here](https://slcladal.github.io/rscripts/basicstatz.Rmd). After the session preparation, we start by getting to know how to test if the assumptions fro parametric tests are met - this allows us to ascertain if we should use a parametric or a non-parametric test. The next part of this tutorial then focuses on basic parametric tests such as independent and dependent t-tests while the last part of the tutorial introduces on non-parametric tests such as the $\\chi$^2^ family of tests. \n",
                "\n",
                "## Preparation and session set up\n",
                "\n",
                "This tutorial is based on R. If you have not installed R or are new to it, you will find an introduction to and more information how to use R [here](https://slcladal.github.io/intror.html). For this tutorials, we need to install certain *packages* from an R *library* so that the scripts shown below are executed without errors. Before turning to the code below, please install the packages by running the code below this paragraph. If you have already installed the packages mentioned below, then you can skip ahead and ignore this section. To install the necessary packages, simply run the following code - it may take some time (between 1 and 5 minutes to install all of the libraries so you do not need to worry if it takes some time).\n"
            ]
        },
        {
            "cell_type": "markdown",
            "metadata": {},
            "source": [
                "# install packages\n",
                "install.packages(\"tidyverse\")\n",
                "install.packages(\"VGAM\")\n",
                "install.packages(\"fGarch\")\n",
                "install.packages(\"cfa\")\n",
                "install.packages(\"gridExtra\")\n",
                "install.packages(\"lawstat\")\n",
                "install.packages(\"calibrate\")\n",
                "install.packages(\"car\")\n",
                "install.packages(\"QuantPsyc\")\n",
                "install.packages(\"flextable\")\n",
                "install.packages(\"e1071\")\n",
                "install.packages(\"effectsize\")\n",
                "install.packages(\"tibble\")\n",
                "# install klippy for copy-to-clipboard button in code chunks\n",
                "remotes::install_github(\"rlesur/klippy\")\n"
            ]
        },
        {
            "cell_type": "code",
            "execution_count": null,
            "metadata": {},
            "outputs": [],
            "source": [
                "Now, we load the packages that we will need in this tutorial.\n",
                "\n"
            ]
        },
        {
            "cell_type": "markdown",
            "metadata": {},
            "source": [
                "# load packages\n",
                "library(tidyverse)    # for data processing\n",
                "library(tidyr)        # for data transformation\n",
                "library(flextable)    # for creating tables\n",
                "library(here)         # for generating easy paths\n",
                "library(e1071)        # for checking assumptions\n",
                "library(lawstat)      # for statistical tests\n",
                "library(effectsize)   # for calculating effect sizes\n",
                "library(fGarch)       # for statistical tests\n",
                "library(gridExtra)    # for plotting\n",
                "# activate klippy for copy-to-clipboard button\n",
                "klippy::klippy()\n"
            ]
        },
        {
            "cell_type": "code",
            "execution_count": null,
            "metadata": {},
            "outputs": [],
            "source": [
                "Also we load some sample data sets that we will use in this tutorial.\n",
                "\n"
            ]
        },
        {
            "cell_type": "markdown",
            "metadata": {},
            "source": [
                "# data for indep. t-test\n",
                "itdata  <- base::readRDS(url(\"https://slcladal.github.io/data/itdata.rda\", \"rb\"))\n",
                "# data for paired t-test\n",
                "ptdata  <- base::readRDS(url(\"https://slcladal.github.io/data/ptdata.rda\", \"rb\"))\n",
                "# data for fishers exact test\n",
                "fedata  <- base::readRDS(url(\"https://slcladal.github.io/data/fedata.rda\", \"rb\"))\n",
                "# data for mann-whitney u-test\n",
                "mwudata  <- base::readRDS(url(\"https://slcladal.github.io/data/mwudata.rda\", \"rb\"))\n",
                "# data for wilcox test\n",
                "uhmdata  <- base::readRDS(url(\"https://slcladal.github.io/data/uhmdata.rda\", \"rb\"))\n",
                "# data for friedmann-test\n",
                "frdata  <- base::readRDS(url(\"https://slcladal.github.io/data/frdata.rda\", \"rb\"))\n",
                "# data for x2-test\n",
                "x2data  <- base::readRDS(url(\"https://slcladal.github.io/data/x2data.rda\", \"rb\"))\n",
                "# data for extensions of x2-test\n",
                "x2edata  <- base::readRDS(url(\"https://slcladal.github.io/data/x2edata.rda\", \"rb\"))\n",
                "# multi purpose data\n",
                "mdata <- base::readRDS(url(\"https://slcladal.github.io/data/mdata.rda\", \"rb\")) \n"
            ]
        },
        {
            "cell_type": "code",
            "execution_count": null,
            "metadata": {},
            "outputs": [],
            "source": [
                "Once you have installed R, RStudio, and once you have also initiated the session by executing the code shown above, you are good to go.\n",
                "\n",
                "# Checking Assumptions\n",
                "\n",
                "Before we focus on the tests themselves, we will see how to test if the errors are distributed normally, then we focus on selected parametric tests which are frequently used in linguistics. In the later part of this tutorial, we then focus on selected non-parametric tests.\n",
                "\n",
                "Before performing the tests, we will check if the data we want to analyze are normally distributed. There are three basic ways in which can check for normality:\n",
                "\n",
                "* visual inspection (eye-balling)  \n",
                "* statistical parameters  \n",
                "* statistical tests\n",
                "\n",
                "None of these methods are perfect and we will discuss the strengths and weaknesses of each method below. We will begin by investigating how data can be inspected visually to see if the data approximate a normal distribution.\n",
                "\n",
                "## Visual inspection of normality\n",
                "\n",
                "To check if data are distributed normally, we extract a sample of words uttered my 100 men and 100 women from a sample corpus (the details of the sample corpus are represented by the `mdata` data set). \n"
            ]
        },
        {
            "cell_type": "markdown",
            "metadata": {},
            "source": [
                "ndata <- mdata %>%\n",
                "  dplyr::rename(Gender = sex,\n",
                "                Words = word.count) %>%\n",
                "  dplyr::select(Gender, Words) %>%\n",
                "  dplyr::filter(!is.na(Words),\n",
                "                !is.na(Gender)) %>%\n",
                "  dplyr::group_by(Gender) %>%\n",
                "  dplyr::sample_n(100)\n"
            ]
        },
        {
            "cell_type": "code",
            "execution_count": null,
            "metadata": {},
            "outputs": [],
            "source": [
                "The table below shows the first ten lines of the women sample.\n",
                "\n"
            ]
        },
        {
            "cell_type": "markdown",
            "metadata": {},
            "source": [
                " ndata %>%\n",
                "  head(10) %>%\n",
                "  flextable() %>%\n",
                "  flextable::set_table_properties(width = .75, layout = \"autofit\") %>%\n",
                "  flextable::theme_zebra() %>%\n",
                "  flextable::fontsize(size = 12) %>%\n",
                "  flextable::fontsize(size = 12, part = \"header\") %>%\n",
                "  flextable::align_text_col(align = \"center\") %>%\n",
                "  flextable::border_outer()\n"
            ]
        },
        {
            "cell_type": "code",
            "execution_count": null,
            "metadata": {},
            "outputs": [],
            "source": [
                "We can now go ahead and visualize the data to check for normality.\n",
                "\n",
                "### Histograms \n",
                "\n",
                "The first type of visualization we are going to use are histograms (with densities) as histograms will give us an impression about the distribution of the values. If the histograms and density functions follow a symmetric bell-shaped course, then the data are approximately normally distributed.\n"
            ]
        },
        {
            "cell_type": "markdown",
            "metadata": {},
            "source": [
                "ggplot(ndata, aes(x = Words)) +\n",
                "  facet_grid(~Gender) +\n",
                "  geom_histogram(aes(y=..density..)) +\n",
                "  geom_density(aes(y=..density..), color = \"red\") +\n",
                "  theme_bw() +\n",
                "  labs(title = \"Histograms with denisty of words uttered by men and women in a sample corpus\")\n"
            ]
        },
        {
            "cell_type": "code",
            "execution_count": null,
            "metadata": {},
            "outputs": [],
            "source": [
                "The histograms shows that the words uttered by men and women in the sample corpus are non-normal (this means that the errors will also be distributed non-normally).\n",
                "\n",
                "### Quantile-Quantile Plots \n",
                "\n",
                "Quantile-Quantile Plots (or QQ-Plots) compare the quantiles between two distributions - typically the observed distribution and an assumed distribution like the normal distribution. If the points fall on the diagonal line, then the distributions match. If the points differ from the diagonal line, then the distributions differ. \n",
                "\n",
                "A very clear and concise explanation of how to manually create QQ-plots is shown is this [*StatQuest* video](https://www.youtube.com/watch?v=okjYjClSjOg) by Josh Starmer (I can highly recommend all of his really informative, overall fantastic, and entertaining videos!) and explained in this [*TowardsDataScience* post](https://towardsdatascience.com/q-q-plots-explained-5aa8495426c0).\n"
            ]
        },
        {
            "cell_type": "markdown",
            "metadata": {},
            "source": [
                "ggplot(ndata, aes(sample = Words)) +\n",
                "  facet_grid(~Gender) +\n",
                "  geom_qq() +\n",
                "  geom_qq_line(color = \"red\") +\n",
                "  theme_bw() +\n",
                "  labs(title = \"QQ-plot of words uttered by men and women in a sample corpus\", x = \"\", y = \"\")\n"
            ]
        },
        {
            "cell_type": "code",
            "execution_count": null,
            "metadata": {},
            "outputs": [],
            "source": [
                "The deviation of the points from the line show that the data differs substantively from a normal distribution.\n",
                "\n",
                "## Statistical measures\n",
                "\n",
                "Another way to test if data are distributed normally is to calculate certain parameter which tell us about the skewness (whether the distribution is asymmetrical) or the kurtosis (is the data is too spiky or too flat) of the data. \n",
                "\n",
                "### Skewness\n",
                "\n",
                "Skewed distributions are asymmetrical and they can be positively or negatively skewed. The tail of a *negatively skewed distribution* points towards negative values (to the left) which means that the distribution leans towards the right (towards positive values) while the tail of a *positively skewed distribution* points towards positive values (to the right) which means that the distribution leans towards the left (towards negative values). \n",
                "\n",
                "Another characteristic of skewed distributions is that the mean and median of a distribution differ. If the median is greater than the mean, the distribution is negatively skewed (the long tail points towards negative values). If the median is smaller than the mean, the distribution is positively skewed (the long tail points towards positive values).\n",
                "\n",
                "Negatively skewed\n",
                "\n",
                "* Tail points towards negative values (to the left)\n",
                "* Median is greater than the mean\n",
                "\n",
                "Positively skewed\n",
                "\n",
                "* Tail points towards positive values (to the right)\n",
                "* Median is lower than the mean\n"
            ]
        },
        {
            "cell_type": "markdown",
            "metadata": {},
            "source": [
                "skew <- data.frame(rbeta(1000000,10,2)) %>%\n",
                "  mutate(pskew = rbeta(1000000,2,10),\n",
                "         nrm = rbeta(1000000,10,10)) %>%\n",
                "  dplyr::rename(nskew = colnames(.)[1],\n",
                "                pskew = colnames(.)[2],\n",
                "                nrm = colnames(.)[3])\n",
                "# inspect\n",
                "ggplot(skew, aes(x = nskew, alpha = .5)) +\n",
                "  geom_density(fill = \"lightgreen\", alpha = .5, color = \"lightgreen\") +\n",
                "  geom_density(aes(x = pskew), fill = \"orange\", alpha = .5, color = \"orange\") +\n",
                "  geom_density(aes(x = nrm), fill = \"lightgray\", alpha = .5, color = \"lightgray\") +\n",
                "  theme_bw() +\n",
                "  theme(legend.position = \"none\") +\n",
                "  labs(title = \"Positively skewed distribution (orange), \\nnormal, non-skewed distribution (lightgray), \\nnegatively skewed distribution (lightgreen)\", x = \"\", y = \"Density\")\n"
            ]
        },
        {
            "cell_type": "code",
            "execution_count": null,
            "metadata": {},
            "outputs": [],
            "source": [
                "As we need to test skewness within groups, we start by extracting the word counts of only women and then test if the distribution of the women's word counts are normal.\n",
                "\n"
            ]
        },
        {
            "cell_type": "markdown",
            "metadata": {},
            "source": [
                "# extract word counts for one group\n",
                "words_women <- ndata %>%\n",
                "  dplyr::filter(Gender == \"female\") %>%\n",
                "  dplyr::pull(Words)\n",
                "# inspect\n",
                "head(words_women)\n"
            ]
        },
        {
            "cell_type": "code",
            "execution_count": null,
            "metadata": {},
            "outputs": [],
            "source": [
                "To see if a distribution is skewed, we can use the `summary` function to check if the mean and the median differ.\n",
                "\n"
            ]
        },
        {
            "cell_type": "markdown",
            "metadata": {},
            "source": "summary(words_women)\n"
        },
        {
            "cell_type": "code",
            "execution_count": null,
            "metadata": {},
            "outputs": [],
            "source": [
                "In our example, the mean is larger than the median which suggests that the data are positively skewed.\n",
                "\n",
                "We apply the `skewness` function from the `e1071` package to the sample scores to calculated skewness. The `skewness` function  allows to calculate skewness in three different ways:\n",
                "\n",
                "Type 1 (This is the typical definition used in many older textbooks): \n",
                "\\begin{equation}\n",
                "g_1 = m_3 / m_2^{(3/2)}.\n",
                "\\end{equation}\n",
                "\n",
                "Type 2 (Used in SAS and SPSS): \n",
                "\\begin{equation}\n",
                "G_1 = g_1 * sqrt(n(n-1)) / (n-2)\n",
                "\\end{equation}\n",
                "\n",
                "Type 3 (Used in MINITAB and BMDP): \n",
                "\\begin{equation}\n",
                "b_1 = m_3 / s^3 = g_1 ((n-1)/n)^{(3/2)}\n",
                "\\end{equation}\n",
                "\n",
                "All three formulas have in common that the more negative values are, the more strongly positively skewed are the data (distribution leans to the left) and the  more positive the values are, the more strongly negatively skewed are the data (distribution leans to the right). Here we use the second formula (by setting `type = 2`) that is also used in SPSS.\n"
            ]
        },
        {
            "cell_type": "markdown",
            "metadata": {},
            "source": "skewness(words_women, type = 2)            \n"
        },
        {
            "cell_type": "code",
            "execution_count": null,
            "metadata": {},
            "outputs": [],
            "source": [
                "If the reported skewness value is negative, then  the distribution is positively skewed. If the value is positive, then the distribution is negatively skewed. If the value is lower than -1 or greater than +1, then the distribution can be assumed to be substantively skewed [@hair2017dist].  \n",
                "\n",
                "### Kurtosis\n",
                "\n",
                "Another way in which distributions can differ from the normal distribution  relates to the thickness of the tails and the spikiness of the distribution. If distributions are bell-shaped like the normal distribution, they are called *mesokurtic*. If distributions are symmetrical but they are more spiky than the normal distribution, they are called *leptokurtic*. If symmetrical distributions are flatter and have bigger tails than the normal distribution, the distributions are called *platykurtic*. \n"
            ]
        },
        {
            "cell_type": "markdown",
            "metadata": {},
            "source": [
                "kur <- data.frame(x <- seq(-4, 4, length.out = 100)) %>%\n",
                "  mutate(lep = dt(x, 1)^2*5,\n",
                "         nrm = dnorm(x),\n",
                "         thk = dt(x, 1)) %>%\n",
                "  dplyr::rename(x = colnames(.)[1],\n",
                "                lepto = colnames(.)[2],\n",
                "                normal = colnames(.)[3],\n",
                "                platy = colnames(.)[4])\n",
                "ggplot(kur, aes(x, lepto)) + \n",
                "#  geom_line(color = \"orange\", size = 1.5, linetype = 2, alpha = .5) +\n",
                "  geom_ribbon(aes(x = x, ymax = lepto), ymin=0, alpha=0.5, fill = \"orange\") +\n",
                "  geom_ribbon(aes(x = x, ymax = normal), ymin=0, alpha=0.5, fill = \"lightgray\") +\n",
                "  geom_ribbon(aes(x = x, ymax = platy), ymin=0, alpha=0.5, fill = \"lightgreen\") +\n",
                "  theme_bw() + \n",
                "  labs(title = \"Leptokurtic distribution (orange, spicky)\\nMesokurtic distribution (gray, normal)\\nPlatykurtic distribution (green, flattened)\", x = \"\", y = \"\") +\n",
                "  theme(axis.text.x = element_blank(),\n",
                "        axis.text.y = element_blank(),\n",
                "        axis.ticks = element_blank()) +\n",
                "  coord_cartesian(xlim = c(-4,4), ylim = c(0,.5))\n"
            ]
        },
        {
            "cell_type": "code",
            "execution_count": null,
            "metadata": {},
            "outputs": [],
            "source": [
                "To show how we can calculate kurtosis (or if a distribution suffers from kurtosis), we apply the `kurtosis` function from the `e1071` package to the sample scores we generated above /when we calculated skewness).\n",
                "\n"
            ]
        },
        {
            "cell_type": "markdown",
            "metadata": {},
            "source": "kurtosis(words_women)            \n"
        },
        {
            "cell_type": "code",
            "execution_count": null,
            "metadata": {},
            "outputs": [],
            "source": [
                "As the kurtosis value is positive, the distribution is leptokurtic (if it were negative, the distribution would be platykurtic). As a rule of thumb, values greater than +1 indicate that the distribution is too peaked while values lower than –1 indicate that the distribution is substantively platykurtic [@hair2017dist, pp61].\n",
                "\n",
                "The kurtosis score can thius be interpreted as follows:\n",
                "\n",
                "* A values of 0 means that the distribution is perfectly *mesokurtic* with Values between -0.5 and 0.5 suggesting that the distribution is *approximately mesokurtic*\n",
                "\n",
                "* Values between -0.5 and -1 mean that the distribution is *moderately platykurtic* with values smaller than -1 indicating that the distribution is *platykurtic*.\n",
                "\n",
                "* Values between 0.5 and 1 mean that the distribution is *moderately leptokurtic* with values greater than 1 indicating that the distribution is *leptokurtic*\n",
                "\n",
                "## Statistical test of assumptions\n",
                "\n",
                "The two most common tests to check assumptions are the Shapiro-Wilk test, which tests if the data differ significantly from a normal distribution, and the Levene's test which tests if the variances are of two groups are approximately equal.\n",
                "\n",
                "### Shapiro-Wilk test\n",
                "\n",
                "The Shapiro-Wilk test [cf. @shapiro1965analysis] can be used to check if the data differs significantly from a  normal distribution (within groups). However, it has been shown to be too lenient when dealing with small sample sizes (below 50 to 100 cases per variable level), but too strict when dealing with larger sample sizes (500 or more cases per variable level). A such, the Shapiro-Wilk test should only be used in combination with visual inspection on the data.\n",
                "\n",
                "In this example, we will only test if the words uttered by women differ significantly from a normal distribution (we use the `words_women` vector created above). Once we have a a vector of word counts of one group only (in this case the women's word counts), we can continue by performing the  Shapiro-Wilk test.\n"
            ]
        },
        {
            "cell_type": "markdown",
            "metadata": {},
            "source": "shapiro.test(words_women)\n"
        },
        {
            "cell_type": "code",
            "execution_count": null,
            "metadata": {},
            "outputs": [],
            "source": [
                "If the p-value of the Shapiro-Wilk test is greater than .05, the data do not support the hypothesis that they differ from normality. In other words, if the p-value is greater than .05, we can assume that the data are approximately normally distributed.\n",
                "\n",
                "The output of the Shapiro-Wilk test shown above thus indicates that our data differs significantly from normal (W = 0.7925, p < .001***). For more information about the implementation of the Shapiro-Wilk test in R, type `?shapiro.test` into the console.\n",
                "\n",
                "### Levene's test\n",
                "\n",
                "The Levene's test [cf. @levene1961robust] evaluates if the variances of two groups is approximately equal - this is referred to as homoskedasticity. This is important, because unequal variances - or heteroskedasticity - strongly suggest that there is another factor, a confound, that is not included in the model but that significantly affects the dependent variable which renders results of an analysis unreliable.\n",
                "\n",
                "To implement a Levene's test in R, we need to install and load the`lawstat`  package.\n"
            ]
        },
        {
            "cell_type": "markdown",
            "metadata": {},
            "source": "levene.test(mdata$word.count, mdata$sex)\n"
        },
        {
            "cell_type": "code",
            "execution_count": null,
            "metadata": {},
            "outputs": [],
            "source": [
                "If the p-values of the Levene's test is greater than .05, we can assume that the variances are approximately equal. Thus, the output of the Levene's test shown above thus indicates that the variances of men and women in our data are approximately equal (W = 0.005, p = .9436). For more information about the implementation of the Levene's test in R, type `?levene.test` into the console.\n",
                "\n",
                "# Selected Parametric tests\n",
                "\n",
                "So-called parametric tests require the data (or the errors of the dependent variable) within groups to be distributed normally (i.e., the errors need to approximate a normal distribution) and that the data within groups are independent. This is so, because parametric tests rely on assumptions regarding the parameters of the population (thus the name). The *within groups*-part in the first sentence above is important here, because we expect the data between groups to be non-normal (typically bi-model, i.e., with two peaks). In contrast, tests that do not require normal data are referred to as *non-parametric tests* - as they do not rely on assumptions regarding the parameters of the population - and we will have a look at selected non-parametric tests after this section. \n",
                "\n",
                "## Student's t-test\n",
                "\n",
                "There are two basic types of t-tests: the dependent or paired t-test and the independent t-test. Paired t-test are used when the data points are not independent, for example, because they come form the same subjects in a  pre-post test design. In contrast, Independent t-tests are used when the data points are independent and come from two different groups (e.g., from learners and native speakers or from men and women).\n",
                "\n",
                "The assumptions of the Student's t-test are that \n",
                "\n",
                "* the dependent variable is a continuous, numeric variable;\n",
                "* the independent variable is a nominal variable (two levels / groups)\n",
                "* the variances within each group are approximately normal;\n",
                "* the errors within each group are approximately normal (this implies that the distributions of the scores of each group are approximately normal).\n",
                "\n",
                "If the variances are not normal, then this indicates that another important variable is confounding the results. In such cases, you should go back to the data and check what other variable could cause the unequal variances. If you decide to proceed with the analysis, you can switch to a Welch t-test which does not assume equal variances within each group.\n",
                "\n",
                "### Paired t-test\n",
                "\n",
                "Paired t-tests take into account that the scores (or values) come from the same individuals in two conditions (e.g. before and after a treatment).There are two equations for the paired t-test that are used.\n",
                "\n",
                "\\begin{equation}\n",
                "t = \\frac{\\sum D}{\\sqrt{\\frac{N \\sum D^2 - (\\sum D)^2}{N-1}}}\n",
                "\\end{equation}\n",
                "\n",
                "or \n",
                "\n",
                "\\begin{equation}\n",
                "t = \\frac{\\bar D}{\\frac{s_D}{\\sqrt{N}}}\n",
                "\\end{equation}\n",
                "\n",
                "To show how a paired t-tests works, we will test if a treatment (a teaching method) reduces the number of spelling errors in a long essay of 6 students. In a  first step, we generate some data representing the errors in two essays of the same length written before and after the teaching method was used for 8 weeks.\n"
            ]
        },
        {
            "cell_type": "markdown",
            "metadata": {},
            "source": [
                "Pretest <- c(78, 65, 71, 68, 76, 59)\n",
                "Posttest <- c(71, 62, 70, 60, 66, 48)\n",
                "ptd <- data.frame(Pretest, Posttest)\n"
            ]
        },
        {
            "cell_type": "code",
            "execution_count": null,
            "metadata": {},
            "outputs": [],
            "source": [
                "The data look like as shown in the table below.\n",
                "\n"
            ]
        },
        {
            "cell_type": "markdown",
            "metadata": {},
            "source": [
                "ptd %>%\n",
                "  as.data.frame() %>%\n",
                "  flextable() %>%\n",
                "  flextable::set_table_properties(width = .75, layout = \"autofit\") %>%\n",
                "  flextable::theme_zebra() %>%\n",
                "  flextable::fontsize(size = 12) %>%\n",
                "  flextable::fontsize(size = 12, part = \"header\") %>%\n",
                "  flextable::align_text_col(align = \"center\") %>%\n",
                "  flextable::border_outer()\n"
            ]
        },
        {
            "cell_type": "code",
            "execution_count": null,
            "metadata": {},
            "outputs": [],
            "source": [
                "To perform a paired t-test in R, we use the `t.test` function and specify the argument `paired` as TRUE.\n",
                "\n"
            ]
        },
        {
            "cell_type": "markdown",
            "metadata": {},
            "source": [
                "t.test(ptd$Pretest,\n",
                "       ptd$Posttest,\n",
                "       paired=TRUE,\n",
                "       conf.level=0.95)\n"
            ]
        },
        {
            "cell_type": "code",
            "execution_count": null,
            "metadata": {},
            "outputs": [],
            "source": [
                "In addition to testing if the groups differ significantly, we also want to calculate the effect size of the difference. We can use the `effectsize` package to extract Cohen's $d$ which is the standard effect size measure for t-tests.\n",
                "\n"
            ]
        },
        {
            "cell_type": "markdown",
            "metadata": {},
            "source": [
                "effectsize::cohens_d(x = ptd$Pretest, \n",
                "                     y = ptd$Posttest,\n",
                "                     paired = TRUE)\n"
            ]
        },
        {
            "cell_type": "code",
            "execution_count": null,
            "metadata": {},
            "outputs": [],
            "source": [
                "To check if the effect is small or big - that is if a Cohen's $d$ value can be interpreted as being small or big, we can use the following overview.\n",
                "\n"
            ]
        },
        {
            "cell_type": "markdown",
            "metadata": {},
            "source": [
                "EffectSize <- c(\"Very small\", \"Small\", \"Medium\", \"Large\", \"Very large\", \"Huge\")\n",
                "d <- c(0.01, 0.20, 0.50, 0.80, 1.20, 2.0)  \n",
                "Reference <- c(\"Sawilowsky (2009)\", \"Cohen (1988)\", \"Cohen (1988)\", \"Cohen (1988)\",\"Sawilowsky (2009)\", \"Sawilowsky (2009)\")\n",
                "dtb <- data.frame(EffectSize, d, Reference)\n",
                "dtb %>%\n",
                "  flextable() %>%\n",
                "  flextable::set_table_properties(width = .75, layout = \"autofit\") %>%\n",
                "  flextable::theme_zebra() %>%\n",
                "  flextable::fontsize(size = 12) %>%\n",
                "  flextable::fontsize(size = 12, part = \"header\") %>%\n",
                "  flextable::align_text_col(align = \"center\") %>%\n",
                "  flextable::border_outer()\n"
            ]
        },
        {
            "cell_type": "code",
            "execution_count": null,
            "metadata": {},
            "outputs": [],
            "source": [
                "The classification combines @sawilowsky2009new and @cohen1988statistical. The analysis can be summarized as follows: A paired t-test test was applied to the data and it confirmed that the number of spelling errors after the 8 weeks of using the new teaching method significantly decreased (t~5~: 4.1523, p = .009\\*\\*). The treatment had a very large effect (Cohen's $d$ = 0.86 [CIs: -0.35, 2.03]) [cf. @sawilowsky2009new].\n",
                "\n",
                "### Independent t-tests\n",
                "\n",
                "Independent t-tests are used very widely and they determine if the means of two groups are significantly different. As such, t-tests are used when we have a normally distributed (or parametric), numeric dependent variable and a nominal predictor variable.\n",
                "\n",
                "\\begin{equation}\n",
                "t = \\frac{\\bar X_1 - \\bar X_2}{\\sqrt{\\frac{s^2_p}{N_1} + \\frac{s^2_p}{N_2}}}\n",
                "\\end{equation}\n",
                "\n",
                "where\n",
                "\n",
                "\\begin{equation}\n",
                "s^2_p = \\frac{(N_1 - 1)s^2_1 + (N_2 - 1)s^2_2}{N_1 + N_2 - 2}\n",
                "\\end{equation}\n",
                "\n",
                "We now load some data that we can apply a t-test to. The data represents scores on a proficiency test of native speakers and learners of English. We want to use a t-test to determine if the native speakers and learners differ in their proficiency.\n"
            ]
        },
        {
            "cell_type": "markdown",
            "metadata": {},
            "source": [
                "# load data\n",
                "tdata <- base::readRDS(url(\"https://slcladal.github.io/data/d03.rda\", \"rb\")) %>%\n",
                "  dplyr::rename(NativeSpeakers = 1,\n",
                "                Learners = 2) %>%\n",
                "  tidyr::gather(Group, Score, NativeSpeakers:Learners) %>%\n",
                "  dplyr::mutate(Group = factor(Group))\n"
            ]
        },
        {
            "cell_type": "code",
            "execution_count": null,
            "metadata": {},
            "outputs": [],
            "source": [
                "\n",
                "\n"
            ]
        },
        {
            "cell_type": "markdown",
            "metadata": {},
            "source": [
                "# inspect data\n",
                "tdata %>%\n",
                "  as.data.frame() %>%\n",
                "  head(10) %>%\n",
                "  flextable() %>%\n",
                "  flextable::set_table_properties(width = .75, layout = \"autofit\") %>%\n",
                "  flextable::theme_zebra() %>%\n",
                "  flextable::fontsize(size = 12) %>%\n",
                "  flextable::fontsize(size = 12, part = \"header\") %>%\n",
                "  flextable::align_text_col(align = \"center\") %>%\n",
                "  flextable::border_outer()\n"
            ]
        },
        {
            "cell_type": "code",
            "execution_count": null,
            "metadata": {},
            "outputs": [],
            "source": [
                "We now apply an independent t-test to the data.\n",
                "\n"
            ]
        },
        {
            "cell_type": "markdown",
            "metadata": {},
            "source": [
                "t.test(Score ~ Group, \n",
                "       var.equal = T,\n",
                "       data = tdata)\n"
            ]
        },
        {
            "cell_type": "code",
            "execution_count": null,
            "metadata": {},
            "outputs": [],
            "source": [
                "As the p-value is higher than .05, we cannot reject the H-0- and we thus have to conclude that our evidence does not suffice to say that learners and Native Speakers differ in their proficiency. However, we still extract the effect size, again using Cohen's $d$. In contract to the extraction of the effect size for paired t-tests, however, we will set the argument `paired` to `FALSE` (in fact, we could simply leave it out as the `paired = FALSE` is the default).\n",
                "\n"
            ]
        },
        {
            "cell_type": "markdown",
            "metadata": {},
            "source": [
                "effectsize::cohens_d(tdata$Score ~ tdata$Group,\n",
                "                     paired = FALSE)\n"
            ]
        },
        {
            "cell_type": "code",
            "execution_count": null,
            "metadata": {},
            "outputs": [],
            "source": [
                "The analysis can be summarized as follows: An independent t-test test was applied to the data and it reported that the scores between the two groups did not differ significantly (t~18~: -0.0546, p = .9571). In addition to not differing significantly, the effect size of the difference between the groups was also very small (Cohen's $d$ = -0.02 [CIs: -0.90, 0.85]) [cf. @sawilowsky2009new].\n",
                "\n",
                "# Simple Linear Regression\n",
                " \n",
                "Simple linear regression is a very useful and widely used test to determine if predictors correlate with a numeric dependent variable. (Simple) Linear regression outperforms alternatives such as t-tests because it not only determines significance and provides effect sizes but but it also provides model fit statistics (for example, R^2^) and allows to extract model diagnostics. For an elaborate tutorial on (simple) linear regression and how to implement a linear regression in R, have a look at [this tutorial](https://slcladal.github.io/regression.html#11_Simple_Linear_Regression) - we cannot cover it here because we feel that it is too long and requires a separate section.\n",
                "\n",
                "# Selected Non-Parametric Tests\n",
                "\n",
                "Non-parametric tests are used when we the data is non-parametric. This is the case if \n",
                "\n",
                "* the dependent variable does not represent a continuous interval-scaled or ratio-scaled variable  \n",
                "* errors (also called residuals) which represent the difference between the expected or predicted values and the observed values do not approximate a normal distribution  \n",
                "* the dependent variable is ordinal (it represents ranks). \n",
                "\n",
                "Non-parametric tests are frequently used when numeric variables have to be transformed into ordinal variables because the numeric variable is distributed non-normally (well, actually, it is not the distribution of the dependent variable that matters but the distribution of the errors). Thus, when the dependent variable is non-normal, it is advisable to apply tests that are designed to handle ordinal data. In the following, we will therefore briefly touch on bi-variate tests that can handle ordinal dependent variables.\n",
                "\n",
                "## Fisher's Exact Test\n",
                "\n",
                "Fisher's Exact test is very useful because it does not rely on distributional assumptions relying on normality. Instead, Fisher's Exact Test calculates the probabilities of all possible outcomes and uses these to determine significance. To understand how a Fisher's Exact test, we will use a very simple example. \n",
                "\n",
                "Imagine you are interested in adjective modification and you want to find out if *very* and *truly* differ in their collocational preferences. So you extract all instances of *cool*, all instances of *very*, and all instances of *truly* from a corpus. Now that you have gathered this data, you want to test if *truly* and *very* differ with respect to their preference to co-occur with *cool*. Accordingly, you tabulate the results and get the following table.\n"
            ]
        },
        {
            "cell_type": "markdown",
            "metadata": {},
            "source": [
                "# generate data\n",
                "coolmatrix <- matrix(c(\"truly\", \"very\", 5, 17, 40, 41), ncol = 3, byrow = F)\n",
                "colnames(coolmatrix) <- c(\"Adverb\", \"with cool\", \"with other adjectives\")\n",
                "# inspect data\n",
                "coolmatrix %>%\n",
                "  as.data.frame() %>%\n",
                "  flextable() %>%\n",
                "  flextable::set_table_properties(width = .75, layout = \"autofit\") %>%\n",
                "  flextable::theme_zebra() %>%\n",
                "  flextable::fontsize(size = 12) %>%\n",
                "  flextable::fontsize(size = 12, part = \"header\") %>%\n",
                "  flextable::align_text_col(align = \"center\") %>%\n",
                "  flextable::border_outer()\n"
            ]
        },
        {
            "cell_type": "code",
            "execution_count": null,
            "metadata": {},
            "outputs": [],
            "source": [
                "To perform a Fisher's Exact test, we first create a table with these results and then use the `fisher.test` function to perform the Fisher's Exact Test to see if *very* and *truly* differ in their preference to co-occur with *cool* (as shown below). The null hypothesis is that there is no difference between the adverbs.\n",
                "\n"
            ]
        },
        {
            "cell_type": "markdown",
            "metadata": {},
            "source": [
                "# create table\n",
                "coolmx <- matrix(\n",
                "  c(5, 17, 40, 41),\n",
                "  nrow = 2, # number of rows of the table\n",
                "  # def. dimension names\n",
                "  dimnames = list(\n",
                "    Adverbs = c(\"truly\", \"very\"),\n",
                "    Adjectives = c(\"cool\", \"other adjective\"))\n",
                ")\n",
                "# perform test\n",
                "fisher.test(coolmx)\n"
            ]
        },
        {
            "cell_type": "code",
            "execution_count": null,
            "metadata": {},
            "outputs": [],
            "source": [
                "The results of the Fisher's Exact test show that the p-value is lower than .05, which means we reject the null hypothesis, and we are therefore justified in assuming that *very* and *truly* differ in their collocational preferences to co-occur with *cool*.\n",
                "\n",
                "The results of the Fisher's Exact test can be summarized as follows. A Fisher's Exact test was applied to the data to determine if there was a significant difference in the modification of adjective *cool*. Specifically, we tested if the preference of *cool* to be modified by *very* and by *truly* differed significantly. The results of the Fisher's Exact test confirmed that there was a statistically significant difference in the modification preference of *cool*(p: .030\\*). However, the effect size of the preference is small (Odds Ratio: 0.305).\n",
                "\n",
                "## Mann-Whitney U-Test \n",
                "\n",
                "It is actually quite common that numeric depend variables need to be transformed or converted into ranks, i.e. ordinal variables, because the distribution of residuals does not allow the application of parametric tests such as t-tests or linear regression. In such cases, as we are dealing with rank (ordinal) data, the application of a chi-square test is unwarranted and we need to use another test. There are different alternatives depending on whether the data are paired (coming from the same individuals) or if all observations are independent. \n",
                "\n",
                "The non-parametric alternative for independent t-tests, i.e. for data where we are dealing with two separate groups and a numeric dependent variable that violates parametric assumptions (or an ordinal dependent variable), is the Mann-Whitney U-test. In contrast, if the groups under investigation represent identical participants that are tested under two conditions, the appropriate alternative is a Wilcoxon Signed Rank test (which is thus the alternative for paired t-test).\n",
                "\n",
                "Imagine we wanted to determine if two language families differed with respect to the size of their phoneme inventories. You have already ranked the inventory sizes and would now like to now if language family correlates with inventory size. As such, we are dealing with two independent groups and we want to implement a non-parametric alterantiev of a t-test. To answer this question, you create the table shown below.  \n"
            ]
        },
        {
            "cell_type": "markdown",
            "metadata": {},
            "source": [
                "# create table\n",
                "Rank <- c(1,3,5,6,8,9,10,11,17,19, 2,4,7,12,13,14,15,16,18,20)\n",
                "LanguageFamily <- c(rep(\"Kovati\", 10), rep(\"Urudi\", 10))\n",
                "lftb <- data.frame(LanguageFamily, Rank)\n"
            ]
        },
        {
            "cell_type": "code",
            "execution_count": null,
            "metadata": {},
            "outputs": [],
            "source": [
                "\n",
                "\n"
            ]
        },
        {
            "cell_type": "markdown",
            "metadata": {},
            "source": [
                "lftb %>%\n",
                "  flextable() %>%\n",
                "  flextable::set_table_properties(width = .75, layout = \"autofit\") %>%\n",
                "  flextable::theme_zebra() %>%\n",
                "  flextable::fontsize(size = 12) %>%\n",
                "  flextable::fontsize(size = 12, part = \"header\") %>%\n",
                "  flextable::align_text_col(align = \"center\") %>%\n",
                "  flextable::border_outer()\n"
            ]
        },
        {
            "cell_type": "code",
            "execution_count": null,
            "metadata": {},
            "outputs": [],
            "source": [
                "We will also briefly inspect the data visually using a box plot.\n",
                "\n"
            ]
        },
        {
            "cell_type": "markdown",
            "metadata": {},
            "source": [
                "ggplot(lftb, aes(x = LanguageFamily, y = Rank, fill = LanguageFamily)) +\n",
                "  geom_boxplot() +\n",
                "  scale_fill_manual(values = c(\"orange\", \"darkgrey\")) +\n",
                "  theme_bw() +\n",
                "  theme(legend.position = \"none\")\n"
            ]
        },
        {
            "cell_type": "code",
            "execution_count": null,
            "metadata": {},
            "outputs": [],
            "source": [
                "To use the Mann-Whitney U test, the dependent variable (Rank) must be ordinal and independent variable (Group) must be a binary factor. We briefly check this by inspecting the structure of the data.\n",
                "\n"
            ]
        },
        {
            "cell_type": "markdown",
            "metadata": {},
            "source": [
                "# inspect structure\n",
                "str(lftb)\n"
            ]
        },
        {
            "cell_type": "code",
            "execution_count": null,
            "metadata": {},
            "outputs": [],
            "source": [
                "As the variables are what we need them to be, we can now perform the Mann-Whitney U test on the table. The null hypothesis is that there is no difference between the 2 groups.\n",
                "\n"
            ]
        },
        {
            "cell_type": "markdown",
            "metadata": {},
            "source": [
                "# perform test\n",
                "wilcox.test(lftb$Rank ~ lftb$LanguageFamily) \n"
            ]
        },
        {
            "cell_type": "code",
            "execution_count": null,
            "metadata": {},
            "outputs": [],
            "source": [
                "Since the p-value is greater than 0.05, we fail to reject the null hypothesis. The results of the Mann-Whitney U test tell us that the two language families do not differ significantly with respect to their phoneme inventory size.\n",
                "\n",
                "The Mann-Whitney U test can also be used with continuity correction. A continuity correction is necessary when both variables represent numeric values that are non-normal. In the following example, we want to test if the reaction time for identifying a word as real is correlated with its token frequency.\n",
                "\n",
                "For this example, we generate data is deliberately non-normal.\n"
            ]
        },
        {
            "cell_type": "markdown",
            "metadata": {},
            "source": [
                "# generate non-normal skewed numeric data\n",
                "frequency <- 1:100\n",
                "frequency <- round(1/(frequency/20)*1000, 0)\n",
                "normal_reaction <- round(rsnorm(100, 2000, 400), 1)\n",
                "reaction_times <- order(normal_reaction)\n",
                "reaction_times <- reaction_times*1:100\n",
                "# combine into data frame\n",
                "wxdata <- data.frame(frequency, normal_reaction, reaction_times) %>%\n",
                "  dplyr::rename(Frequency = frequency,\n",
                "                NormalizedReaction = normal_reaction,\n",
                "                Reaction= reaction_times)\n"
            ]
        },
        {
            "cell_type": "code",
            "execution_count": null,
            "metadata": {},
            "outputs": [],
            "source": [
                "\n",
                "\n"
            ]
        },
        {
            "cell_type": "markdown",
            "metadata": {},
            "source": [
                " wxdata %>%\n",
                "  head(10) %>%\n",
                "  flextable() %>%\n",
                "  flextable::set_table_properties(width = .75, layout = \"autofit\") %>%\n",
                "  flextable::theme_zebra() %>%\n",
                "  flextable::fontsize(size = 12) %>%\n",
                "  flextable::fontsize(size = 12, part = \"header\") %>%\n",
                "  flextable::align_text_col(align = \"center\") %>%\n",
                "  flextable::border_outer()\n"
            ]
        },
        {
            "cell_type": "code",
            "execution_count": null,
            "metadata": {},
            "outputs": [],
            "source": [
                "When we plot the data, we see that both the frequency of words (Frequency) and the reaction times that it took subjects to recognize the token as a word (Reaction) are non-normal (in this case, the distributions are negative skewed).\n",
                "\n"
            ]
        },
        {
            "cell_type": "markdown",
            "metadata": {},
            "source": [
                "# plot data\n",
                "p1 <- ggplot(wxdata, aes(Frequency)) + # define data\n",
                "  geom_density(fill = \"orange\", alpha = .5) + # define plot type (density)\n",
                "  theme_bw() +                                # black + white background\n",
                "  labs(y=\"Density\", x = \"Frequency\") +        # axes titles\n",
                "  coord_cartesian(ylim = c(0, .002),            # define y-axis coordinates\n",
                "                  xlim = c(-5, 10000))           # define x-axis coordinates\n",
                "p2 <- ggplot(wxdata, aes(Reaction)) +\n",
                "  geom_density(fill = \"lightgray\", alpha = .5) +\n",
                "  theme_bw() +\n",
                "  labs(y=\"Density\", x = \"Reaction Time\") +\n",
                "  coord_cartesian(ylim = c(0, 0.00025), xlim = c(0, 10000))\n",
                "grid.arrange(p1, p2, nrow = 1)             # 2 plots in one window\n"
            ]
        },
        {
            "cell_type": "code",
            "execution_count": null,
            "metadata": {},
            "outputs": [],
            "source": [
                "Both variables are negatively skewed (non-normally distributed) but we can use the `wilcox.test` function to perform the Mann-Whitney U test with continuity correction which takes the skewness into account. The null hypothesis is that there is no difference between the 2 groups. Although the output states that the test that was performed is a *Wilcoxon rank sum test with continuity correction*, we have actually performed a Mann-Whitney U test - this is because the nomenclature for the tests is not unanimous.\n",
                "\n"
            ]
        },
        {
            "cell_type": "markdown",
            "metadata": {},
            "source": [
                "# perform test\n",
                "wilcox.test(wxdata$Reaction, wxdata$Frequency) \n"
            ]
        },
        {
            "cell_type": "code",
            "execution_count": null,
            "metadata": {},
            "outputs": [],
            "source": [
                "The p-value is greater than 0.05, therefore we cannot reject the null hypothesis. There is no statistically significant evidence to assume the groups are different.\n",
                "\n",
                "## Wilcoxon rank sum test\n",
                "\n",
                "The Wilcoxon rank sum test is the non-parametric alternative to a paired or dependent t-test. Thus, a Wilcoxon rank sum test is used when the data represent the same individuals that were tested under two condition. To tell R that we are dealing with paired data, we have to set the argument `paired` to `TRUE` while we can still use the `wilcox.test` function (as we did before when using the Mann-Whitney U test which is applied to independent groups). \n",
                "\n",
                "In this example, the same individuals had to read tongue twisters when they were sober and when they were intoxicated. A Wilcoxon signed rank test with continuity correction is used to test if the number of errors that occur when reading tongue twisters correlates with being sober/intoxicated. Again, we create fictitious data.\n"
            ]
        },
        {
            "cell_type": "markdown",
            "metadata": {},
            "source": [
                "# create data\n",
                "sober <- sample(0:9, 15, replace = T)\n",
                "intoxicated <-  sample(3:12, 15, replace = T) \n",
                "# tabulate data\n",
                "intoxtb <- data.frame(sober, intoxicated) \n"
            ]
        },
        {
            "cell_type": "code",
            "execution_count": null,
            "metadata": {},
            "outputs": [],
            "source": [
                "\n",
                "\n"
            ]
        },
        {
            "cell_type": "markdown",
            "metadata": {},
            "source": [
                "intoxtb %>%\n",
                "  flextable() %>%\n",
                "  flextable::set_table_properties(width = .75, layout = \"autofit\") %>%\n",
                "  flextable::theme_zebra() %>%\n",
                "  flextable::fontsize(size = 12) %>%\n",
                "  flextable::fontsize(size = 12, part = \"header\") %>%\n",
                "  flextable::align_text_col(align = \"center\") %>%\n",
                "  flextable::border_outer()\n"
            ]
        },
        {
            "cell_type": "code",
            "execution_count": null,
            "metadata": {},
            "outputs": [],
            "source": [
                "Now, we briefly plot the data. \n",
                "\n"
            ]
        },
        {
            "cell_type": "markdown",
            "metadata": {},
            "source": [
                "intoxtb2 <- data.frame(c(rep(\"sober\", nrow(intoxtb)),\n",
                "                         rep(\"intoxicated\", nrow(intoxtb))),\n",
                "                       c(intoxtb$sober, intoxtb$intoxicated)) %>%\n",
                "  dplyr::rename(State = 1,\n",
                "                Errors = 2)\n",
                "ggplot(intoxtb2, aes(State, Errors)) +\n",
                "  geom_boxplot(fill = c(\"orange\", \"darkgrey\"), width=0.5) +\n",
                "  labs(y = \"Number of errors\", x = \"State\") +\n",
                "  theme_bw()\n"
            ]
        },
        {
            "cell_type": "code",
            "execution_count": null,
            "metadata": {},
            "outputs": [],
            "source": [
                "The boxes indicate a significant difference. Finally, we perform the Wilcoxon signed rank test with continuity correction. The null hypothesis is that the two groups are the same.\n",
                "\n"
            ]
        },
        {
            "cell_type": "markdown",
            "metadata": {},
            "source": [
                "# perform test\n",
                "wilcox.test(intoxtb$sober, intoxtb$intoxicated, paired=T) \n"
            ]
        },
        {
            "cell_type": "code",
            "execution_count": null,
            "metadata": {},
            "outputs": [],
            "source": [
                "The p-value is lower than 0.05 (rejecting the null hypothesis) which means that the number of errors when reading tongue twisters is affected by one's state (sober/intoxicated) - at least in this fictitious example.\n",
                "\n",
                "## Kruskal-Wallis Rank Sum Test\n",
                "\n",
                "The Kruskal-Wallis rank sum test is a type of ANOVA (Analysis of Variance). For this reason, the Kruskal Wallis Test is also referred to as a *one-way Anova by ranks* which can handle numeric and ordinal data. \n",
                "\n",
                "In the example below, *uhm* represents the number of filled pauses in a short 5 minute interview while *speaker* represents whether the speaker was a native speaker or a learner of English. As before, the data is generated and thus artificial.\n"
            ]
        },
        {
            "cell_type": "markdown",
            "metadata": {},
            "source": [
                "# create data\n",
                "uhms <- c(15, 13, 10, 8, 37, 23, 31, 52, 11, 17)\n",
                "Speaker <- c(rep(\"Learner\", 5), rep(\"NativeSpeaker\", 5))\n",
                "# create table\n",
                "uhmtb <- data.frame(Speaker, uhms)\n"
            ]
        },
        {
            "cell_type": "code",
            "execution_count": null,
            "metadata": {},
            "outputs": [],
            "source": [
                "\n",
                "\n"
            ]
        },
        {
            "cell_type": "markdown",
            "metadata": {},
            "source": [
                "uhmtb %>%\n",
                "  flextable() %>%\n",
                "  flextable::set_table_properties(width = .75, layout = \"autofit\") %>%\n",
                "  flextable::theme_zebra() %>%\n",
                "  flextable::fontsize(size = 12) %>%\n",
                "  flextable::fontsize(size = 12, part = \"header\") %>%\n",
                "  flextable::align_text_col(align = \"center\") %>%\n",
                "  flextable::border_outer()\n"
            ]
        },
        {
            "cell_type": "code",
            "execution_count": null,
            "metadata": {},
            "outputs": [],
            "source": [
                "Now, we briefly plot the data. \n",
                "\n"
            ]
        },
        {
            "cell_type": "markdown",
            "metadata": {},
            "source": [
                "ggplot(uhmtb, aes(Speaker, uhms)) +\n",
                "  geom_boxplot(fill = c(\"orange\", \"darkgrey\")) +\n",
                "  theme_bw() +\n",
                "  labs(x = \"Speaker type\", y = \"Errors\")\n"
            ]
        },
        {
            "cell_type": "code",
            "execution_count": null,
            "metadata": {},
            "outputs": [],
            "source": [
                "Now, we test for statistical significance. The null hypothesis is that there is no difference between the groups.\n",
                "\n"
            ]
        },
        {
            "cell_type": "markdown",
            "metadata": {},
            "source": "kruskal.test(uhmtb$Speaker~uhmtb$uhms) \n"
        },
        {
            "cell_type": "code",
            "execution_count": null,
            "metadata": {},
            "outputs": [],
            "source": [
                "The p-value is greater than 0.05, therefore we fail to reject the null hypothesis. The Kruskal-Wallis test does not report a significant difference for the number of *uhms* produced by native speakers and learners of English in the fictitious data. \n",
                "\n",
                "## The Friedman Rank Sum Test\n",
                "\n",
                "The Friedman rank sum test is also called a randomized block design and it is used when the correlation between a numeric dependent variable, a grouping factor and a blocking factor is tested. The Friedman rank sum test assumes that each combination of the grouping factor (Gender) and the blocking factor (Age) occur only once. Thus, imagine that the values of *uhms* represent the means of the respective groups.\n"
            ]
        },
        {
            "cell_type": "markdown",
            "metadata": {},
            "source": [
                "# create data\n",
                "uhms <- c(7.2, 9.1, 14.6, 13.8)\n",
                "Gender <- c(\"Female\", \"Male\", \"Female\", \"Male\")\n",
                "Age <- c(\"Young\", \"Young\", \"Old\", \"Old\")\n",
                "# create table\n",
                "uhmtb2 <- data.frame(Gender, Age, uhms)\n"
            ]
        },
        {
            "cell_type": "code",
            "execution_count": null,
            "metadata": {},
            "outputs": [],
            "source": [
                "\n",
                "\n"
            ]
        },
        {
            "cell_type": "markdown",
            "metadata": {},
            "source": [
                "uhmtb2 %>%\n",
                "  flextable() %>%\n",
                "  flextable::set_table_properties(width = .75, layout = \"autofit\") %>%\n",
                "  flextable::theme_zebra() %>%\n",
                "  flextable::fontsize(size = 12) %>%\n",
                "  flextable::fontsize(size = 12, part = \"header\") %>%\n",
                "  flextable::align_text_col(align = \"center\") %>%\n",
                "  flextable::border_outer()\n"
            ]
        },
        {
            "cell_type": "code",
            "execution_count": null,
            "metadata": {},
            "outputs": [],
            "source": [
                "We now perform the Friedman rank sum test.\n",
                "\n"
            ]
        },
        {
            "cell_type": "markdown",
            "metadata": {},
            "source": "friedman.test(uhms ~ Age | Gender, data = uhmtb2)\n"
        },
        {
            "cell_type": "code",
            "execution_count": null,
            "metadata": {},
            "outputs": [],
            "source": [
                "In our example, age does not affect the use of filled pauses even if we control for gender as the p-value is higher than .05.\n",
                "\n",
                "## (Pearsons's) Chi-Square Test\n",
                "\n",
                "One of the most frequently used statistical test in linguistics is the $\\chi$^2^ test (or Pearsons's chi-square test, chi-squared test, or chi-square test). We will use a simple, practical example to explore how this test works. In this example, we will test whether speakers of American English (AmE) and speakers of British English (BrE) differ in their use of the near-synonyms *sort of* and *kind of* as in \"*He's sort of stupid*\" and \"*He's kind of stupid*\". As a first step, we formulate the hypothesis that we want to test (H~1~) and its null hypothesis (H~0~). The alternative- or test hypothesis reads:\n",
                "\n",
                "H~1~: Speakers of AmE and BrE differ with respect to their preference for *sort of* and *kind of*.\n",
                "\n",
                "while the Null Hypothesis (H~0~) states \n",
                "\n",
                "H~0~: Speakers of AmE and BrE do not differ with respect to their preference for *sort of* and *kind of*.\n",
                "\n",
                "The H~0~ claims the non-existence of something (which is the more conservative position) and in our example the non-existence of a correlation between variety of English and the use of *sort of* and *kind of*. The question now arises what has to be the case in order to reject the H~0~ in favor of the H~1~.\n",
                "\n",
                "To answer this question, we require information about the probability of error, i.e. the probability that the H~0~ does indeed hold for the entire population. Before performing the chi-square test, we follow the convention that the required significance level is 5 percent. In other words, we will reject the H~0~ if the likelihood for the H$_{0}$ being true is less than 5 percent given the distribution of the data. In that case, i.e. in case that the likelihood for the H~0~ being true is less than 5 percent, we consider the result of the  chi-square test as  statistically significant. This means that the observed distribution makes it very unlikely that there is no correlation between the variety of English and the use of *sort of* and *kind of*.\n",
                "\n",
                "Let us now assume that we have performed a search for *sort of* and *kind of* in two corpora representing American and British English and that we have obtained the following frequencies:\n"
            ]
        },
        {
            "cell_type": "markdown",
            "metadata": {},
            "source": [
                "chidata <- matrix(c(181, 655, 177, 67), nrow = 2, byrow = T)\n",
                "# add column and row names\n",
                "colnames(chidata) <- c(\"BrE\", \"AmE\")\n",
                "rownames(chidata) <- c(\"kindof\", \"sortof\")\n",
                "# inspect data\n",
                "chidata %>%\n",
                "  as.data.frame() %>%\n",
                "  tibble::rownames_to_column(\"Hedge\") %>%\n",
                "  flextable() %>%\n",
                "  flextable::set_table_properties(width = .75, layout = \"autofit\") %>%\n",
                "  flextable::theme_zebra() %>%\n",
                "  flextable::fontsize(size = 12) %>%\n",
                "  flextable::fontsize(size = 12, part = \"header\") %>%\n",
                "  flextable::align_text_col(align = \"center\") %>%\n",
                "  flextable::border_outer()\n"
            ]
        },
        {
            "cell_type": "code",
            "execution_count": null,
            "metadata": {},
            "outputs": [],
            "source": [
                "In a first step, we now have to calculate the row and column sums of our table.\n",
                "\n"
            ]
        },
        {
            "cell_type": "markdown",
            "metadata": {},
            "source": [
                "chidata_extended <- matrix(c(181, 177, 358, 655, 67, 722, 836, 244, 1080), nrow = 3, byrow = F)\n",
                "# add column and row names\n",
                "colnames(chidata_extended) <- c(\"BrE\", \"AmE\", \"Total\")\n",
                "rownames(chidata_extended) <- c(\"kindof\", \"sortof\", \"Total\")\n",
                "# inspect data\n",
                "chidata_extended %>%\n",
                "  as.data.frame() %>%\n",
                "  tibble::rownames_to_column(\"Hedge\") %>%\n",
                "  flextable() %>%\n",
                "  flextable::set_table_properties(width = .75, layout = \"autofit\") %>%\n",
                "  flextable::theme_zebra() %>%\n",
                "  flextable::fontsize(size = 12) %>%\n",
                "  flextable::fontsize(size = 12, part = \"header\") %>%\n",
                "  flextable::align_text_col(align = \"center\") %>%\n",
                "  flextable::border_outer()\n"
            ]
        },
        {
            "cell_type": "code",
            "execution_count": null,
            "metadata": {},
            "outputs": [],
            "source": [
                "Next, we calculate, the values that would have expected if there was no correlation between variety of English and the use of *sort of* and *kind of*. In order to get these *expected* frequencies, we apply the equation below to all cells in our table.\n",
                "\n",
                "\\begin{equation}\n",
                "\\frac{Column total*Row total}{Overall total}\n",
                "\\end{equation}\n",
                "\n",
                "In our example this means that for the cell with `[+]BrE` `[+]kindof` we get:\n",
                "\n",
                "\\begin{equation}\n",
                "\\frac{836*358}{1080} = \\frac{299288}{1080} = 277.1185\n",
                "\\end{equation}\n",
                "\n",
                "For the entire table this means we get the following expected values:\n"
            ]
        },
        {
            "cell_type": "markdown",
            "metadata": {},
            "source": [
                "chidata_expected <- matrix(c(277.1185, 80.88148, 358, 558.8815,163.11852, 722, 836, 244, 1080), nrow = 3, byrow = F)\n",
                "# add column and row names\n",
                "colnames(chidata_expected) <- c(\"BrE\", \"AmE\", \"Total\")\n",
                "rownames(chidata_expected) <- c(\"kindof\", \"sortof\", \"Total\")\n",
                "# inspect data\n",
                "chidata_expected %>%\n",
                "  as.data.frame() %>%\n",
                "  tibble::rownames_to_column(\"Hedge\") %>%\n",
                "  flextable() %>%\n",
                "  flextable::set_table_properties(width = .75, layout = \"autofit\") %>%\n",
                "  flextable::theme_zebra() %>%\n",
                "  flextable::fontsize(size = 12) %>%\n",
                "  flextable::fontsize(size = 12, part = \"header\") %>%\n",
                "  flextable::align_text_col(align = \"center\") %>%\n",
                "  flextable::border_outer()\n"
            ]
        },
        {
            "cell_type": "code",
            "execution_count": null,
            "metadata": {},
            "outputs": [],
            "source": [
                "In a next step, we calculate the contribution of each cell to the overall $\\chi$^2^ value ($\\chi$^2^ contribution). To get $\\chi$^2^ contribution for each cell, we apply the equation below to each cell.\n",
                "\n",
                "\\begin{equation}\n",
                "\\frac{(observed – expected)^{2}}{expected}\n",
                "\\end{equation}\n",
                "\n",
                "In our example this means that for the cell with `[+]BrE` `[+]kindof` we get:\n",
                "\n",
                "\\begin{equation}\n",
                "\\frac{(181 – 277.1185)^{2}}{277.1185} = \\frac{-96.1185^{2}}{277.1185} = \\frac{9238.766}{277.1185} = 33.33868\n",
                "\\end{equation}\n",
                "\n",
                "For the entire table this means we get the following $\\chi^{2}$ values:\n"
            ]
        },
        {
            "cell_type": "markdown",
            "metadata": {},
            "source": [
                "chidata_chi <- matrix(c(33.33869, 114.22602, 147.5647, 16.53082, 56.63839, 73.16921, 49.86951, 170.8644, 220.7339), nrow = 3, byrow = F)\n",
                "# add column and row names\n",
                "colnames(chidata_chi) <- c(\"BrE\", \"AmE\", \"Total\")\n",
                "rownames(chidata_chi) <- c(\"kindof\", \"sortof\", \"Total\")\n",
                "# inspect data\n",
                "chidata_chi %>%\n",
                "  as.data.frame() %>%\n",
                "  tibble::rownames_to_column(\"Hedge\") %>%\n",
                "  flextable() %>%\n",
                "  flextable::set_table_properties(width = .75, layout = \"autofit\") %>%\n",
                "  flextable::theme_zebra() %>%\n",
                "  flextable::fontsize(size = 12) %>%\n",
                "  flextable::fontsize(size = 12, part = \"header\") %>%\n",
                "  flextable::align_text_col(align = \"center\") %>%\n",
                "  flextable::border_outer()\n"
            ]
        },
        {
            "cell_type": "code",
            "execution_count": null,
            "metadata": {},
            "outputs": [],
            "source": [
                "The sum of $\\chi$^2^ contributions in our example is 220.7339. To see if this value is statistically significant, we need to calculate the degrees of freedom because the $\\chi$ distribution differs across degrees of freedom.  Degrees of freedom are calculated according to the equation below.\n",
                "\n",
                "\\begin{equation}\n",
                "DF = (rows -1) * (columns – 1) = (2-1) * (2-1) = 1 * 1 = 1\n",
                "\\end{equation}\n",
                "\n",
                "In a last step, we check whether the $\\chi$^2^ value that we have calculated is higher than a critical value (in which case the correlation in our table is significant). Degrees of freedom are relevant here because the critical values are dependent upon the degrees of freedom: the more degrees of freedom, the higher the critical value, i.e. the harder it is to breach the level of significance.\n",
                "\n",
                "Since there is only 1 degree of freedom in our case, we need to consider only the first column in the table of critical values below.\n"
            ]
        },
        {
            "cell_type": "markdown",
            "metadata": {},
            "source": [
                "critval <- matrix(c(1, 3.84, 6.64, 10.83, 2, 5.99, 9.21, 13.82, 3, 7.82, 11.35, 16.27, 4, 9.49, 13.28, 18.47, 5, 11.07, 15.09, 20.52), ncol = 4, byrow = T)\n",
                "# add column names\n",
                "colnames(critval) <- c(\"DF\", \"p<.05\", \"p<.01\", \"p<.001\")\n",
                "# inspect data\n",
                "critval %>%\n",
                "  as.data.frame() %>%\n",
                "  flextable() %>%\n",
                "  flextable::set_table_properties(width = .75, layout = \"autofit\") %>%\n",
                "  flextable::theme_zebra() %>%\n",
                "  flextable::fontsize(size = 12) %>%\n",
                "  flextable::fontsize(size = 12, part = \"header\") %>%\n",
                "  flextable::align_text_col(align = \"center\") %>%\n",
                "  flextable::border_outer()\n"
            ]
        },
        {
            "cell_type": "code",
            "execution_count": null,
            "metadata": {},
            "outputs": [],
            "source": [
                "Since the $\\chi$^2^ value that we have calculated is much higher than the critical value provided for p<.05, we can reject the H~0~ and may now claim that speakers of AmE and BrE differ with respect to their preference for *sort of* and *kind of*.\n",
                "\n",
                "Before we summarize the results, we will calculate the effect size which is a measure for how strong the correlations are.\n",
                "\n",
                "### Effect Sizes in Chi-Square\n",
                "\n",
                "Effect sizes are important because they correlations may be highly significant but the effect between variables can be extremely weak. The effect size is therefore a measure how strong the correlation or the explanatory and predictive power between variables is.\n",
                "\n",
                "The effect size measure for $\\chi$^2^ tests can be either the $\\phi$-coefficient (phi-coefficient) or Cramer's $\\phi$ (Cramer's phi). The $\\phi$-coefficient is used when dealing with 2x2 tables while Cramer's $\\phi$ is used when dealing with tables with more than 4 cells. The $\\phi$ coefficient can be calculated by using the equation below (N = overall sample size).\n",
                "\n",
                "\\begin{equation}\n",
                "\\phi = \\sqrt{\\frac{\\chi^{2}}{N}}\n",
                "\\end{equation}\n",
                "\n",
                "In our case, this means:\n",
                "\n",
                "\\begin{equation}\n",
                "\\phi = \\sqrt{\\frac{220.7339}{1080}} = \\sqrt{0.2043832} = 0.4520876\n",
                "\\end{equation}\n",
                "\n",
                "The $\\phi$ coefficient varies between 0 (no effect) and 1 (perfect correlation). For the division into weak, moderate and strong effects one can follow the division for $\\omega$ (small omega), so that with values beginning with .1 represent weak, values between 0.3 and .5 represent moderate and values above .5 represent strong effects [@buehner2009statistik, pp. 266]. So, in this example we are dealing with a medium-sized effect/correlation.\n",
                "\n",
                "### Chi-Square in R\n",
                "\n",
                "Before we summarize the results, we will see how to perform a chi-square test in R. In addition to what we have done above, we will also visualize the data. To begin with, we will have a look at the data set (which is the same data we have used above).\n"
            ]
        },
        {
            "cell_type": "markdown",
            "metadata": {},
            "source": [
                "# inspect data\n",
                "chidata %>%\n",
                "  as.data.frame() %>%\n",
                "  tibble::rownames_to_column(\"Hedge\") %>%\n",
                "  flextable() %>%\n",
                "  flextable::set_table_properties(width = .75, layout = \"autofit\") %>%\n",
                "  flextable::theme_zebra() %>%\n",
                "  flextable::fontsize(size = 12) %>%\n",
                "  flextable::fontsize(size = 12, part = \"header\") %>%\n",
                "  flextable::align_text_col(align = \"center\") %>%\n",
                "  flextable::border_outer()\n"
            ]
        },
        {
            "cell_type": "code",
            "execution_count": null,
            "metadata": {},
            "outputs": [],
            "source": [
                "We will now visualize the data with an association. Bars above the dashed line indicate that a feature combination occurs more frequently than expected by chance. The width of the bars indicates the frequency of the feature combination. \n",
                "\n"
            ]
        },
        {
            "cell_type": "markdown",
            "metadata": {},
            "source": "assocplot(as.matrix(chidata))   # association plot\n"
        },
        {
            "cell_type": "code",
            "execution_count": null,
            "metadata": {},
            "outputs": [],
            "source": [
                " \n",
                "The fact that the bars are distributed complimentary (top left red and below bar; top right black above bar; bottom left black above bar; bottom right red below bar) indicates that the use of *sort of* and *kind of* differs across AmE and BrE. We will check whether the mosaic plot confirms this impression.\n",
                " \n"
            ]
        },
        {
            "cell_type": "markdown",
            "metadata": {},
            "source": "mosaicplot(chidata, shade = TRUE, type = \"pearson\", main = \"\")  # mosaic plot\n"
        },
        {
            "cell_type": "code",
            "execution_count": null,
            "metadata": {},
            "outputs": [],
            "source": [
                "The color contrasts in the mosaic plot substantiate the impression that the two varieties of English differ significantly. To ascertain whether the differences are statistically significant, we can now apply the chi-square test.\n",
                "\n"
            ]
        },
        {
            "cell_type": "markdown",
            "metadata": {},
            "source": "chisq.test(chidata, corr = F)  # perform chi square test\n"
        },
        {
            "cell_type": "code",
            "execution_count": null,
            "metadata": {},
            "outputs": [],
            "source": [
                "The results reported by `R` are identical to the results we derived by hand and confirm that BrE and AmE differ significantly in their use of *sort of* and *kind of*. In a next step, we calculate the effect size.\n",
                "\n"
            ]
        },
        {
            "cell_type": "markdown",
            "metadata": {},
            "source": [
                "# calculate effect size\n",
                "sqrt(chisq.test(chidata, corr = F)$statistic / sum(chidata) * (min(dim(chidata))-1))\n"
            ]
        },
        {
            "cell_type": "code",
            "execution_count": null,
            "metadata": {},
            "outputs": [],
            "source": [
                "The phi coefficient of .45 shows that variety of English correlates moderately with the use of *sort of* and *kind of*. We will now summarize the results.\n",
                "\n",
                "### Summarizing Chi-Square Results\n",
                "\n",
                "The results of our analysis can be summarized as follows: A $\\chi$^2^-test confirms a highly significant correlation of moderate size between the variety of English and the use of the near-synonymous hedges *sort of* and *kind of* ($\\chi$^2^ = 220.73, df = 1, p < .001***, $\\phi$ = .452).\n",
                "\n",
                "### Requirements of Chi-Square\n",
                "}\n",
                "Chi-square tests depend on certain requirements that, if violated, negatively affect the reliability of the results of the test. To provide reliable results, 80 percent of cells in a table to which the chi-square test is applied have to have expected values of 5 or higher and at most 20 percent of expected values can be smaller than 5 [see @bortz109verteilungsfreie, pp.  98]. In addition, none of the expected values can be smaller than 1 [see @bortz109verteilungsfreie, pp. 136] because then, the estimation, which relies on the $\\chi$^2^-distribution, becomes too imprecise to allow meaningful inferences [@cochran1954somemethods].  \n",
                "\n",
                "If these requirements are violated, then the *Fisher's Exact Test* is more reliable and offers the additional advantage that these tests can also be applied to data that represent very small sample sizes. When applying the Fisher's Exact Test, the probabilities for all possible outcomes are calculated and the summed probability for the observed or more extreme results are determined. If this sum of probabilities exceeds five percent, then the result is deemed statistically significant.\n",
                "\n",
                "***\n",
                "\n",
                "<div class=\"warning\" style='padding:0.1em; background-color:#51247a; color:#f2f2f2'>\n",
                "<span>\n",
                "<p style='margin-top:1em; text-align:center'>\n",
                "<b>EXERCISE TIME!<\/b><\/p>\n",
                "<p style='margin-left:1em;'>\n",
                "<\/p><\/span>\n",
                "<\/div>\n",
                "\n",
                "<div class=\"question\">` \n",
                "\n",
                "1. Imagine you are interested in whether older or younger speakers tend to refer to themselves linguistically. The underlying hypothesis is that - contrary to common belief - older people are more narcissistic compared with younger people. Given this research question, perform a chi-square test and summarize the results on the data below. \n"
            ]
        },
        {
            "cell_type": "markdown",
            "metadata": {},
            "source": [
                "ex1dat <- matrix(c(\"Young\", 61, 43, 104, \"Old\", 42, 36, 78, \"Total\", 103, 79, 182), ncol = 4, byrow = T)\n",
                "# add column names\n",
                "colnames(ex1dat) <- c(\"Age\", \"1SGPN\", \"PN without 1SG\", \"Total\")\n",
                "# inspect data\n",
                "ex1dat %>%\n",
                "  as.data.frame() %>%\n",
                "  flextable() %>%\n",
                "  flextable::set_table_properties(width = .75, layout = \"autofit\") %>%\n",
                "  flextable::theme_zebra() %>%\n",
                "  flextable::fontsize(size = 12) %>%\n",
                "  flextable::fontsize(size = 12, part = \"header\") %>%\n",
                "  flextable::align_text_col(align = \"center\") %>%\n",
                "  flextable::border_outer()\n"
            ]
        },
        {
            "cell_type": "code",
            "execution_count": null,
            "metadata": {},
            "outputs": [],
            "source": [
                "<details>\n",
                "  <summary>Answer<\/summary>\n",
                "  ```{r ex1_sol, message=FALSE, warning=FALSE}\n",
                "  # generate data\n",
                "  ex1dat <- matrix(c(61, 43,  42, 36), ncol = 2, byrow = T)\n",
                "  # add column names\n",
                "  colnames(ex1dat) <- c(\"1SGPN\", \"PN without 1SG\")\n",
                "  # perform x2-test\n",
                "  x2_ex1 <- chisq.test(ex1dat)\n",
                "  # inspect results\n",
                "  x2_ex1\n",
                "  ```\n",
                "    \n",
                "  Given the data, we cannot reject the H~0~ according to which old people are more narcissistic compared to young people measured by their use of 1^st^ person pronouns in conversation  ($\\chi$~{1}: `r as.vector(x2_ex1$statistic)`, p: `r as.vector(x2_ex1$p.value)`).\n",
                "  \n",
                "<\/details>\n",
                "\n",
                "2. Imagine you are interested in whether young men or young women exhibit a preference for the word *whatever* because you have made the unsystematic, anecdotal observation that young men use this word more frequently than young women. Given this research question, perform a chi-square test and summarize the results on the data below.\n"
            ]
        },
        {
            "cell_type": "markdown",
            "metadata": {},
            "source": [
                "critval <- matrix(c(\"whatever\", 17, 55, 71, \"other words\", 345128, 916552, 1261680, \"Total\", 345145, 916607, 1261752), ncol = 4, byrow = T)\n",
                "# add column names\n",
                "colnames(critval) <- c(\"Item\", \"YoungMales\", \"YoungFemales\", \"Total\")\n",
                "# inspect data\n",
                "critval %>%\n",
                "  as.data.frame() %>%\n",
                "  flextable() %>%\n",
                "  flextable::set_table_properties(width = .75, layout = \"autofit\") %>%\n",
                "  flextable::theme_zebra() %>%\n",
                "  flextable::fontsize(size = 12) %>%\n",
                "  flextable::fontsize(size = 12, part = \"header\") %>%\n",
                "  flextable::align_text_col(align = \"center\") %>%\n",
                "  flextable::border_outer()\n"
            ]
        },
        {
            "cell_type": "code",
            "execution_count": null,
            "metadata": {},
            "outputs": [],
            "source": [
                "<details>\n",
                "  <summary>Answer<\/summary>\n",
                "\n",
                "  ```{r ex2_sol, message=FALSE, warning=FALSE}\n",
                "  # generate data\n",
                "  ex2dat <- matrix(c(17, 55,  345128, 916552), ncol = 2, byrow = T)\n",
                "  # add column names\n",
                "  colnames(ex2dat) <- c(\"YoungMales\", \"YoungFemales\")\n",
                "  # perform x2-test\n",
                "  x2_ex2 <- chisq.test(ex2dat)\n",
                "  # inspect results\n",
                "  x2_ex2\n",
                "  ```\n",
                "  \n",
                "  Given the data, we cannot reject the H~0~ according to which there is no difference between young men and young women in their use of the word *whatever* ($\\chi$~{1}: `r as.vector(x2_ex2$statistic)`, p: `r as.vector(x2_ex2$p.value)`).\n",
                "\n",
                "<\/details>\n",
                "\n",
                "3. Find a partner and discuss the relationship between significance and effect size. Then, go and find another partner and discuss problems that may arise when testing the frequency of certain words compared with the overall frequency of words in a corpus.\n",
                "\n",
                "<\/div>`\n",
                "\n",
                "***\n",
                "\n",
                "## Extensions of Chi-Square\n",
                "\n",
                "In the following, we will have a look at tests and methods that can be used if the requirements for ordinary (Pearson's) chi-square tests are violated and their use would be inappropriate\n",
                "\n",
                "### The Yates-Correction\n",
                "\n",
                "If all requirements for ordinary chi-square tests are acceptable and only the sample size is the issue, then applying a so-called *Yates-correction* may be appropriate. This type of correction is applied in cases where the overall sample size lies in-between 60 and 15 cases [@bortz109verteilungsfreie, pp. 91]. The difference between the ordinary chi-square and a Yates-corrected chi-square lies in the fact that the Yates-corrected chi-square is calculated according to the equation below.\n",
                "\n",
                "\\begin{equation}\n",
                "\\frac{(|observed – expected|-0.5)^{2}}{expected}\n",
                "\\end{equation}\n",
                "\n",
                "According to this formula, we would get the values shown below rather than the values tabulated above. It is important to note here that this is only a demonstration because a Yates-Correction would actually be inappropriate as our sample size exceeds 60 cases. \n"
            ]
        },
        {
            "cell_type": "markdown",
            "metadata": {},
            "source": [
                "critval <- matrix(c(\"kind of\", 32.9927, 113.0407, 146.0335, \"sort of\", 16.3593, 56.0507, 72.4100, \"Total\", 49.3520, 169.0914, 218.4434), ncol = 4, byrow = T)\n",
                "# add column names\n",
                "colnames(critval) <- c(\"Variant\", \"BrE\", \"AmE\", \"Total\")\n",
                "# inspect data\n",
                "critval %>%\n",
                "  as.data.frame() %>%\n",
                "  flextable() %>%\n",
                "  flextable::set_table_properties(width = .75, layout = \"autofit\") %>%\n",
                "  flextable::theme_zebra() %>%\n",
                "  flextable::fontsize(size = 12) %>%\n",
                "  flextable::fontsize(size = 12, part = \"header\") %>%\n",
                "  flextable::align_text_col(align = \"center\") %>%\n",
                "  flextable::border_outer()\n"
            ]
        },
        {
            "cell_type": "code",
            "execution_count": null,
            "metadata": {},
            "outputs": [],
            "source": [
                "If the Yates-correction were applied, then this results in a slightly lower $\\chi$^2^-value and thus in more conservative results compared with the traditional test according to Pearson.\n",
                "\n",
                "### Chi-Square within 2-by-k tables\n",
                "\n",
                "Although the $\\chi$^2^-test is widely used, it is often used inappropriately. This is especially the case when chi-square tests are applied to data representing tables with more than two rows and more than two columns. It is important to note that applying the common Pearson’s' chi-square test to sub-tables of a larger table is inappropriate because, in such cases, a modified variant of Pearson’s' chi-square test is warranted. We will go through two examples that represent different scenarios where we are dealing with sub-samples of larger tables and a modified version of the $\\chi$^2^-test should be used rather than Pearson’s' chi-square. \n",
                "\n",
                "In this first example, we are dealing with a table consisting of two columns and multiple rows, a so-called 2\\*k table (two-by-k table). In order to test if a feature combination, that is represented by a row in the 2\\*k table, is significantly more common compared with other feature combinations, we need to implement the $\\chi$^2^-equation from [@bortz109verteilungsfreie, pp. 126-127]. \n",
                "\n",
                "In this example, we want to find out whether soft and hard X-rays differ in their effect on grasshopper larva. The question is whether the larva reach or do not reach a certain life cycle depending on whether they are exposed to soft X-rays, hard X-rays, light, or beta rays. The data for this example is provided below.\n"
            ]
        },
        {
            "cell_type": "markdown",
            "metadata": {},
            "source": [
                "critval <- matrix(c(\"X-ray soft\",  21, 14, 35, \"X-ray hard\", 18, 13, 31, \"Beta-rays\", 24, 12, 36, \"Light\", 13, 30, 43, \"Total\", 76, 69, 145), ncol = 4, byrow = T)\n",
                "# add column names\n",
                "colnames(critval) <- c(\"Treatment\", \"Mitosis not reached\", \"Mitosis reached\", \"Total\")\n",
                "\n",
                "# inspect data\n",
                "critval %>%\n",
                "  as.data.frame() %>%\n",
                "  flextable() %>%\n",
                "  flextable::set_table_properties(width = .75, layout = \"autofit\") %>%\n",
                "  flextable::theme_zebra() %>%\n",
                "  flextable::fontsize(size = 12) %>%\n",
                "  flextable::fontsize(size = 12, part = \"header\") %>%\n",
                "  flextable::align_text_col(align = \"center\") %>%\n",
                "  flextable::border_outer()\n"
            ]
        },
        {
            "cell_type": "code",
            "execution_count": null,
            "metadata": {},
            "outputs": [],
            "source": [
                "If we would apply an ordinary chi-square test, we would ignore that all data were collected together and using only a sub-sample would ignore the data set of which the sub-sample is part of. In other words, the sub-sample is not independent from the other data (as it represents a subsection of the whole data set). However, for exemplary reasons, we will apply an ordinary chi-square test first and then compare its results to results provided by the correct version of the chi-square test. In a first step, we create a table with all the data.\n",
                "\n"
            ]
        },
        {
            "cell_type": "markdown",
            "metadata": {},
            "source": [
                "# create data\n",
                "wholetable <- matrix(c(21, 14, 18, 13, 24, 12, 13, 30), byrow = T, nrow = 4)\n",
                "colnames(wholetable) <- c(\"reached\", \"notreached\")           # add column names\n",
                "rownames(wholetable) <- c(\"rsoft\", \"rhard\", \"beta\", \"light\") # add row names\n"
            ]
        },
        {
            "cell_type": "code",
            "execution_count": null,
            "metadata": {},
            "outputs": [],
            "source": [
                "\n",
                "\n"
            ]
        },
        {
            "cell_type": "markdown",
            "metadata": {},
            "source": [
                "# inspect data\n",
                "wholetable %>%\n",
                "  as.data.frame() %>%\n",
                "  tibble::rownames_to_column(\"Treatment\") %>%\n",
                "  flextable() %>%\n",
                "  flextable::set_table_properties(width = .75, layout = \"autofit\") %>%\n",
                "  flextable::theme_zebra() %>%\n",
                "  flextable::fontsize(size = 12) %>%\n",
                "  flextable::fontsize(size = 12, part = \"header\") %>%\n",
                "  flextable::align_text_col(align = \"center\") %>%\n",
                "  flextable::border_outer()\n"
            ]
        },
        {
            "cell_type": "code",
            "execution_count": null,
            "metadata": {},
            "outputs": [],
            "source": [
                "Now, we extract the sub-sample from the data.\n",
                "\n"
            ]
        },
        {
            "cell_type": "markdown",
            "metadata": {},
            "source": "subtable <- wholetable[1:2,] # extract subtable\n"
        },
        {
            "cell_type": "code",
            "execution_count": null,
            "metadata": {},
            "outputs": [],
            "source": [
                "\n",
                "\n"
            ]
        },
        {
            "cell_type": "markdown",
            "metadata": {},
            "source": [
                "# inspect data\n",
                "subtable %>%\n",
                "  as.data.frame() %>%\n",
                "  tibble::rownames_to_column(\"Treatment\") %>%\n",
                "  flextable() %>%\n",
                "  flextable::set_table_properties(width = .75, layout = \"autofit\") %>%\n",
                "  flextable::theme_zebra() %>%\n",
                "  flextable::fontsize(size = 12) %>%\n",
                "  flextable::fontsize(size = 12, part = \"header\") %>%\n",
                "  flextable::align_text_col(align = \"center\") %>%\n",
                "  flextable::border_outer()\n"
            ]
        },
        {
            "cell_type": "code",
            "execution_count": null,
            "metadata": {},
            "outputs": [],
            "source": [
                "Next, we apply the ordinary chi-square test to the sub-sample. \n",
                "\n"
            ]
        },
        {
            "cell_type": "markdown",
            "metadata": {},
            "source": [
                "# simple x2-test\n",
                "chisq.test(subtable, corr = F)\n"
            ]
        },
        {
            "cell_type": "code",
            "execution_count": null,
            "metadata": {},
            "outputs": [],
            "source": [
                "Finally, we perform the correct chi-square test.\n",
                "\n"
            ]
        },
        {
            "cell_type": "markdown",
            "metadata": {},
            "source": [
                "# load function for correct chi-square\n",
                "source(\"https://slcladal.github.io/rscripts/x2.2k.r\") \n",
                "x2.2k(wholetable, 1, 2)\n"
            ]
        },
        {
            "cell_type": "code",
            "execution_count": null,
            "metadata": {},
            "outputs": [],
            "source": [
                "Below is a table comparing the results of the two chi-square tests.\n",
                "\n"
            ]
        },
        {
            "cell_type": "markdown",
            "metadata": {},
            "source": [
                "critval <- matrix(c(\"chi-squared\", 0.0255, 0.025, \"p-value\", 0.8732, 0.8744), ncol = 3, byrow = T)\n",
                "# add column names\n",
                "colnames(critval) <- c(\"Statistic\", \"chi-square\" , \"chi-square in 2*k-tables\")\n",
                "# inspect data\n",
                "critval %>%\n",
                "  as.data.frame() %>%\n",
                "  flextable() %>%\n",
                "  flextable::set_table_properties(width = .75, layout = \"autofit\") %>%\n",
                "  flextable::theme_zebra() %>%\n",
                "  flextable::fontsize(size = 12) %>%\n",
                "  flextable::fontsize(size = 12, part = \"header\") %>%\n",
                "  flextable::align_text_col(align = \"center\") %>%\n",
                "  flextable::border_outer()\n"
            ]
        },
        {
            "cell_type": "code",
            "execution_count": null,
            "metadata": {},
            "outputs": [],
            "source": [
                "The comparison shows that, in this example, the results of the two tests are very similar but this may not always be the case.\n",
                "\n",
                "### Chi-Square within z-by-k tables\n",
                "\n",
                "Another application in which the $\\chi$^2^ test is often applied incorrectly is when ordinary Parsons’s $\\chi$^2^ tests are used to test portions of tables with more than two rows and more than two columns, that is z*k tables (z: row, k: column). An example is discussed by @gries2014frequency who also wrote the `R` Script for the correct version of the $\\chi$^2^ test.\n",
                "\n",
                "Let's first load the data discussed in the example of @gries2014frequency 9. The example deals with metaphors across registers. Based on a larger table, a $\\chi$^2^ confirmed that registers differ with respect to the frequency of EMOTION metaphors. The more refined question is whether the use of the metaphors EMOTION IS LIGHT and EMOTION IS A FORCE OF NATURE differs between spoken conversation and fiction.\n"
            ]
        },
        {
            "cell_type": "markdown",
            "metadata": {},
            "source": [
                "# create table\n",
                "wholetable <- matrix(c(8, 31, 44, 36, 5, 14, 25, 38, 4, 22, 17, 12, 8, 11, 16, 24), ncol=4)\n",
                "attr(wholetable, \"dimnames\")<-list(Register=c(\"acad\", \"spoken\", \"fiction\", \"new\"),\n",
                "Metaphor = c(\"Heated fluid\", \"Light\", \"NatForce\", \"Other\"))\n"
            ]
        },
        {
            "cell_type": "code",
            "execution_count": null,
            "metadata": {},
            "outputs": [],
            "source": [
                "Based on the table above, we can extract the following sub-table.\n",
                "\n"
            ]
        },
        {
            "cell_type": "markdown",
            "metadata": {},
            "source": [
                "critval <- matrix(c(\"acad\", 8, 5, 4, 8, \"spoken\", 31, 14, 22, 11, \"fiction\", 44, 25, 17, 16, \"new\", 36, 38, 12, 24), ncol = 5, byrow = T)\n",
                "# add column names\n",
                "colnames(critval) <- c(\"Register\", \"Heated fluid\", \"Light\", \"NatForce\", \"Other\")\n",
                "# inspect data\n",
                "critval %>%\n",
                "  as.data.frame() %>%\n",
                "  flextable() %>%\n",
                "  flextable::set_table_properties(width = .75, layout = \"autofit\") %>%\n",
                "  flextable::theme_zebra() %>%\n",
                "  flextable::fontsize(size = 12) %>%\n",
                "  flextable::fontsize(size = 12, part = \"header\") %>%\n",
                "  flextable::align_text_col(align = \"center\") %>%\n",
                "  flextable::border_outer()\n"
            ]
        },
        {
            "cell_type": "code",
            "execution_count": null,
            "metadata": {},
            "outputs": [],
            "source": [
                "If we used an ordinary Pearson’s  $\\chi$^2^ test (the use of which would be inappropriate here), it would reveal that spoken conversations do not differ significantly from fiction in their use of EMOTION IS LIGHT and EMOTION IS A FORCE OF NATURE ($\\chi$^2^=3.3016, df=1, p=.069, $\\phi$=.2057).\n",
                "\n"
            ]
        },
        {
            "cell_type": "markdown",
            "metadata": {},
            "source": [
                "# create table\n",
                "subtable <- matrix(c(14, 25, 22, 17), ncol=2)\n",
                "chisq.results <- chisq.test(subtable, correct=FALSE) # WRONG!\n",
                "phi.coefficient = sqrt(chisq.results$statistic / sum(subtable) * (min(dim(subtable))-1))\n",
                "chisq.results\n",
                "phi.coefficient\n"
            ]
        },
        {
            "cell_type": "code",
            "execution_count": null,
            "metadata": {},
            "outputs": [],
            "source": [
                "The correct analysis takes into account that it is a sub-table that is not independent of the overall table. This means that the correct analysis should take into account the total number of cases, as well as the row and column totals [cf. @bortz109verteilungsfreie, pp. 144-148].\n",
                "\n",
                "In order to perform the correct analysis, we must either implement the equation proposed in @bortz109verteilungsfreie or read in the function written by @gries2014frequency and apply it to the sub-table.\n"
            ]
        },
        {
            "cell_type": "markdown",
            "metadata": {},
            "source": [
                "# load function for chi square test for subtables\n",
                "source(\"https://slcladal.github.io/rscripts/sub.table.r\") \n",
                "# apply test\n",
                "results <- sub.table(wholetable, 2:3, 2:3, out=\"short\")\n",
                "# inspect results\n",
                "results\n"
            ]
        },
        {
            "cell_type": "code",
            "execution_count": null,
            "metadata": {},
            "outputs": [],
            "source": [
                "The results show that the difference is, in fact, statistically significant at an $\\alpha$-level of .05 ($\\chi^{2}$=3.864, df=1, p<.05*).\n",
                "\n",
                "## Configural Frequency Analysis (CFA)\n",
                "\n",
                "Configural Frequency Analysis (CFA) is a multivariate extension of the $\\chi^{2}$-test. If we perform a $\\chi^{2}$-test on a table with more than 2 rows and 2 columns, the test tells  us that somewhere in that table there is at least one cell tat differs significantly from the expected value. However, we do not know which cell or cells this is. To determine which of the cells differ significantly from the expected value, we use the CFA.\n",
                "\n",
                "To perform a CFA in R, we need to load the `cfa` package and load some data (as shown below).\n"
            ]
        },
        {
            "cell_type": "markdown",
            "metadata": {},
            "source": [
                "# load package\n",
                "library(cfa)\n",
                "# load data\n",
                "cfadata  <- base::readRDS(url(\"https://slcladal.github.io/data/cfd.rda\", \"rb\"))\n"
            ]
        },
        {
            "cell_type": "code",
            "execution_count": null,
            "metadata": {},
            "outputs": [],
            "source": [
                "\n",
                "\n"
            ]
        },
        {
            "cell_type": "markdown",
            "metadata": {},
            "source": [
                "# inspect data\n",
                "cfadata %>%  \n",
                "  as.data.frame() %>%\n",
                "  head(10) %>%\n",
                "  flextable() %>%\n",
                "  flextable::set_table_properties(width = .75, layout = \"autofit\") %>%\n",
                "  flextable::theme_zebra() %>%\n",
                "  flextable::fontsize(size = 12) %>%\n",
                "  flextable::fontsize(size = 12, part = \"header\") %>%\n",
                "  flextable::align_text_col(align = \"center\") %>%\n",
                "  flextable::border_outer()\n"
            ]
        },
        {
            "cell_type": "code",
            "execution_count": null,
            "metadata": {},
            "outputs": [],
            "source": [
                "In a next step, we define the configurations and separate them from the counts. The configurations are the independent variables in this design and the counts represent the dependent variable.\n",
                "\n"
            ]
        },
        {
            "cell_type": "markdown",
            "metadata": {},
            "source": [
                "# define configurations\n",
                "configs <- cfadata %>%\n",
                "  dplyr::select(Variety, Age, Gender, Class)\n",
                "# define counts\n",
                "counts <- cfadata$Frequency\n"
            ]
        },
        {
            "cell_type": "code",
            "execution_count": null,
            "metadata": {},
            "outputs": [],
            "source": [
                "Now that configurations and counts are separated, we can perform the configural frequency analysis.\n",
                "\n"
            ]
        },
        {
            "cell_type": "markdown",
            "metadata": {},
            "source": [
                "# perform cfa\n",
                "cfa(configs,counts)\n"
            ]
        },
        {
            "cell_type": "code",
            "execution_count": null,
            "metadata": {},
            "outputs": [],
            "source": [
                "The output table contains the configurations (here called *lables*), then the observed frequencies (the *counts*) and the expected frequencies, the Q and the $\\chi^{2}$ statistic as well as the p-value associated with the $\\chi^{2}$ value. In addition, the table provides the z-transformed $\\chi^{2}$-values and their p-value.\n",
                "\n",
                "If a p-value is below the level of significance - typically below .05 - the configuration occurs with a frequency that differs significantly from the expected frequency. If the observed value is higher than the expected value, then the configuration occurs significantly more frequently than would be expected by chance. If the observed value is lower than the expected value, then the configuration occurs significantly less frequently than would be expected by chance. \n",
                "\n",
                "## Hierarchical Configural Frequency Analysis (HCFA)\n",
                "\n",
                "A hierarchical alternative to CFA is Hierarchical Configural Frequency Analysis (HCFA). In contrast to CFA, in HCFA, the data is assumed to be nested! We begin by defining the configurations and separate them from the counts.\n"
            ]
        },
        {
            "cell_type": "markdown",
            "metadata": {},
            "source": [
                "# define configurations\n",
                "configs <- cfadata %>%\n",
                "  dplyr::select(Variety, Age, Gender, Class)\n",
                "# define counts\n",
                "counts <- cfadata$Frequency\n"
            ]
        },
        {
            "cell_type": "code",
            "execution_count": null,
            "metadata": {},
            "outputs": [],
            "source": [
                "Now that configurations and counts are separated, we can perform the hierarchical configural frequency analysis.\n",
                "\n"
            ]
        },
        {
            "cell_type": "markdown",
            "metadata": {},
            "source": [
                "# perform cfa\n",
                "hcfa(configs,counts)\n"
            ]
        },
        {
            "cell_type": "code",
            "execution_count": null,
            "metadata": {},
            "outputs": [],
            "source": [
                "According to the HCFA, only a single configuration (Variety : Age : Class) is significant (X2 = 12.21, p = .016). \n",
                "\n",
                "# Citation & Session Info \n",
                "\n",
                "Schweinberger, Martin. `r format(Sys.time(), '%Y')`. *Basic Inferential Statistics with R*. Brisbane: The University of Queensland. url: https://slcladal.github.io/basicstatz.html (Version `r format(Sys.time(), '%Y.%m.%d')`).\n"
            ]
        },
        {
            "cell_type": "markdown",
            "metadata": {},
            "source": [
                "@manual{schweinberger`r format(Sys.time(), '%Y')`basicstatz,\n",
                "  author = {Schweinberger, Martin},\n",
                "  title = {Basic Inferential Statistics using R},\n",
                "  note = {https://slcladal.github.io/basicstatzchi.html},\n",
                "  year = {`r format(Sys.time(), '%Y')`},\n",
                "  organization = \"The University of Queensland, School of Languages and Cultures},\n",
                "  address = {Brisbane},\n",
                "  edition = {`r format(Sys.time(), '%Y.%m.%d')`}\n",
                "}\n"
            ]
        },
        {
            "cell_type": "code",
            "execution_count": null,
            "metadata": {},
            "outputs": [],
            "source": [
                "\n",
                "\n"
            ]
        },
        {
            "cell_type": "markdown",
            "metadata": {},
            "source": "sessionInfo()\n"
        },
        {
            "cell_type": "code",
            "execution_count": null,
            "metadata": {},
            "outputs": [],
            "source": [
                "***\n",
                "\n",
                "[Back to top](#introduction)\n",
                "\n",
                "[Back to HOME](https://slcladal.github.io/index.html)\n",
                "\n",
                "***\n",
                "\n",
                "# References\n"
            ]
        }
    ],
    "metadata": {
        "anaconda-cloud": "",
        "kernelspec": {
            "display_name": "R",
            "langauge": "R",
            "name": "ir"
        },
        "language_info": {
            "codemirror_mode": "r",
            "file_extension": ".r",
            "mimetype": "text/x-r-source",
            "name": "R",
            "pygments_lexer": "r",
            "version": "3.4.1"
        }
    },
    "nbformat": 4,
    "nbformat_minor": 1
}
