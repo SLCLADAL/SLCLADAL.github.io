{
    "cells": [
        {
            "cell_type": "markdown",
            "metadata": {},
            "source": [
                "<!--html_preserve-->\n",
                "<!-- Global site tag (gtag.js) - Google Analytics -->\n",
                "<script async src=\"https://www.googletagmanager.com/gtag/js?id=UA-130562131-1\"><\/script>\n",
                "<script>\n",
                "  window.dataLayer = window.dataLayer || [];\n",
                "  function gtag(){dataLayer.push(arguments);}\n",
                "  gtag('js', new Date());\n",
                "\n",
                "  gtag('config', 'UA-130562131-1');\n",
                "<\/script>\n",
                "<!--/html_preserve-->\n"
            ]
        },
        {
            "cell_type": "code",
            "execution_count": null,
            "metadata": {},
            "outputs": [],
            "source": [
                "knitr::include_graphics(\"https://slcladal.github.io/images/uq1.jpg\")\n",
                "\n"
            ]
        },
        {
            "cell_type": "markdown",
            "metadata": {},
            "source": [
                "# Introduction{-}\n",
                "\n",
                "This tutorial introduces power analysis using R. The entire R markdown document for this tutorial can be downloaded [here](https://slcladal.github.io/pwr.Rmd). The basis for the present tutorial is @green2016simr (which you can find [here](https://besjournals.onlinelibrary.wiley.com/doi/full/10.1111/2041-210X.12504)). @green2016simr is a highly recommendable and thorough tutorial on performing power analysis in R. Recommendable literature on this topic are, e.g. @arnold2011simulation and @johnson2015power and [this tutorial](https://www.journalofcognition.org/articles/10.5334/joc.10/). \n",
                "\n",
                ">\n",
                "> Power analysis is a method primarily used to determine the appropriate sample size for empirical studies. \n",
                ">\n",
                "\n",
                "Power analysis have also been used post-hoc to test if the sample size of studies was sufficient to detect meaningful effects. However, such post-hoc power calculations where the target effect size comes from the data, give misleading results (@hoenig2001abuse) and should thus be treated with extreme care.\n",
                "\n",
                "\n",
                "## What determines if you find an effect?{-}\n",
                "\n",
                "There are different factors that determine if a model finds an effect. The accuracy (i.e., the probability of finding an effect) depends on three main factors:\n",
                "\n",
                "* the size of the effect (bigger effects are easier to detect)\n",
                "* the variability of the effect (less variability makes it easier to detect an effect), and \n",
                "* the sample size (the bigger the sample size, the easier it is to detect an effect); \n",
                "  + number of subjects/participants\n",
                "  + number of items/questions\n",
                "  + number of observations per item within subjects/participants\n",
                "  \n",
                "Now, if a) we dealing with a very big effect, then we need only few participants and few items to accurately find this effect.\n",
                "\n",
                "Or b) if we dealing with an effect that has low variability (it is observable for all subjects with the same strength), then we need only few participants and few items to accurately find this effect.\n",
                "\n",
                "Before we conduct a study, we should figure out, what sample we need to detect a small/medium effect with medium variability so that our model is sufficient to detect this kind of effect. In order to do this, we would generate a data set that mirrors the kind of data that we expect to get (with the properties that we expect to get). We can then fit a model to this data and check if a model would be able to detect the expected effect. However, because a single model does not tell us that much (ift could simply be luck that it happened to find the effect), we run many different models on variations of the data and see how many of them find the effect. As a general rule of thumb, we want a data set that allows a model to find a medium sized effect with at least an accuracy of 80 percent [@field2007making].\n",
                "\n",
                "In the following, we will go through how to determine what sample size we need for an example analysis.\n",
                "\n",
                "\n",
                "## Preparation and session set up{-}\n",
                "\n",
                "This tutorial is based on R. If you have not installed R or are new to it, you will find an introduction to and more information how to use R [here](https://slcladal.github.io/intror.html). For this tutorials, we need to install certain *packages* into the R *library* on your computer so that the scripts shown below are executed without errors. Before turning to the code below, please install the packages by running the code below this paragraph. If you have already installed the packages mentioned below, then you can skip ahead and ignore this section. To install the necessary packages, simply run the following code - it may take some time (between 1 and 5 minutes to install all of the libraries so you do not need to worry if it takes some time).\n"
            ]
        },
        {
            "cell_type": "code",
            "execution_count": null,
            "metadata": {},
            "outputs": [],
            "source": [
                "# set options\n",
                "options(stringsAsFactors = F)         # no automatic data transformation\n",
                "options(\"scipen\" = 100, \"digits\" = 4) # suppress math annotation\n",
                "# install libraries\n",
                "install.packages(c(\"tidyverse\", \"lme4\", \"sjPlot\", \"simr\"))\n"
            ]
        },
        {
            "cell_type": "markdown",
            "metadata": {},
            "source": "\n"
        },
        {
            "cell_type": "code",
            "execution_count": null,
            "metadata": {},
            "outputs": [],
            "source": [
                "library(DT)\n",
                "library(knitr)\n",
                "library(flextable)\n"
            ]
        },
        {
            "cell_type": "markdown",
            "metadata": {},
            "source": [
                "Once you have installed R and RStudio and initiated the session by executing the code shown above, you are good to go.\n",
                "\n",
                "## Generating data{-}\n",
                "\n",
                "In order to perform a  power analysis, we will start by loading the tidyverse package to process the data and by generating a data that we will use to determine the power of a regression model.\n",
                "\n",
                "This simulated data set has\n",
                "\n",
                "* 200 data points\n",
                "* 2 Conditions (Control, Test)\n",
                "* 10 Subjects\n",
                "* 10 Items\n"
            ]
        },
        {
            "cell_type": "code",
            "execution_count": null,
            "metadata": {},
            "outputs": [],
            "source": [
                "# load package\n",
                "library(tidyverse)\n",
                "# generate data\n",
                "simdat <- data.frame(\n",
                "  sub <- rep(paste0(\"Sub\", 1:10), each = 20),\n",
                "  cond <- rep(c(\n",
                "    rep(\"Control\", 10),\n",
                "    rep(\"Test\", 10))\n",
                "    , 10),\n",
                "  itm <- as.character(rep(1:10, 20))\n",
                ") %>%\n",
                "  dplyr::rename(Subject = 1,\n",
                "                Condition = 2,\n",
                "                Item = 3) %>%\n",
                "  dplyr::mutate_if(is.character, factor)\n"
            ]
        },
        {
            "cell_type": "markdown",
            "metadata": {},
            "source": [
                "\n",
                "\n"
            ]
        },
        {
            "cell_type": "code",
            "execution_count": null,
            "metadata": {},
            "outputs": [],
            "source": [
                "# inspect data\n",
                "simdat %>%\n",
                "  head(15) %>%\n",
                "  kable(caption = \"First 15 rows of simdat.\") %>%\n",
                "  kableExtra::kable_styling(bootstrap_options = c(\"striped\", \"hover\", \"condensed\", \"responsive\"), \n",
                "                            full_width = F)\n"
            ]
        },
        {
            "cell_type": "markdown",
            "metadata": {},
            "source": [
                "We add a dependent variable (AOI) which represents the dependent variable in the study. In our case, we determine that Condition has a relatively weak effect (the probability of gazing into the area of interest (AOI) is .7 in the test condition compared to .5 in the control condition). In addition, this effect is only present in half of the subjects to reflect the variability in the effect. \n",
                "\n"
            ]
        },
        {
            "cell_type": "code",
            "execution_count": null,
            "metadata": {},
            "outputs": [],
            "source": [
                "simdat <- simdat %>%\n",
                "  dplyr::arrange(Condition) %>%\n",
                "  dplyr::mutate(\n",
                "  dep <- c(sample(c(\"AOI\", \"NotAOI\"), 50, replace = T, prob = c(.5, .5)),\n",
                "           sample(c(\"AOI\", \"NotAOI\"), 50, replace = T, prob = c(.5, .5)),\n",
                "           sample(c(\"AOI\", \"NotAOI\"), 50, replace = T, prob = c(.5, .5)),\n",
                "           sample(c(\"AOI\", \"NotAOI\"), 50, replace = T, prob = c(.7, .3)))\n",
                "  ) %>%\n",
                "  dplyr::mutate_if(is.character, factor) %>%\n",
                "  dplyr::rename(AOI = 4)\n"
            ]
        },
        {
            "cell_type": "markdown",
            "metadata": {},
            "source": [
                "The data looks like this. \n",
                "\n"
            ]
        },
        {
            "cell_type": "code",
            "execution_count": null,
            "metadata": {},
            "outputs": [],
            "source": [
                "DT::datatable(simdat, rownames = FALSE, filter=\"none\", caption = \"Overview of the data set.\", \n",
                "              options = list(pageLength = 10, scrollX=T))\n"
            ]
        },
        {
            "cell_type": "markdown",
            "metadata": {},
            "source": [
                "# Post-Hoc Power Analysis\n",
                "\n",
                "Now that we have generated some data, we will fit a model to it and perform a power analysis on the observed effects. \n",
                "\n",
                ">\n",
                "> Post-hoc power calculations (where the target effect size comes from the data) give misleading results (@hoenig2001abuse) and should thus be treated with extreme care!\n",
                ">\n",
                "\n",
                "We will fit a first model to the data. Thus, in a first step, we load the `lme4` package to create a model, set a seed (to save the results and so that the results can be replicated), and then create an initial mixed-effects model.\n"
            ]
        },
        {
            "cell_type": "code",
            "execution_count": null,
            "metadata": {},
            "outputs": [],
            "source": [
                "# load package\n",
                "library(lme4)\n",
                "# set seed for replicability\n",
                "set.seed(12345)\n",
                "# fit model\n",
                "m1 <- glmer(AOI ~ (1|Subject) +(1|Item) + Condition, family=\"binomial\", data=simdat)\n",
                "# inspect results\n",
                "summary(m1)\n"
            ]
        },
        {
            "cell_type": "markdown",
            "metadata": {},
            "source": [
                "We now check the effect sizes of the predictors in the model. We can do this by displaying the results of the model using the `tab_model` function from the `sjPlot` package.\n",
                "\n"
            ]
        },
        {
            "cell_type": "code",
            "execution_count": null,
            "metadata": {},
            "outputs": [],
            "source": [
                "# load package\n",
                "library(sjPlot)\n",
                "# tabulate results\n",
                "sjPlot::tab_model(m1)\n"
            ]
        },
        {
            "cell_type": "markdown",
            "metadata": {},
            "source": [
                "Now, we perform power analysis on an observed effect. This analysis tells us how likely the model is to find an observed effect given the data.\n",
                "\n",
                "***\n",
                ">\n",
                "> We use a very low number of simulations (100) and we use the default z-test which is suboptimal for small samples (@bolker2009generalized). In a proper study, you shuld incerase the number of simulations (to at least 1000) and you should use a bootstrapping rather than a z-test (see @halekoh2014kenward).\n",
                ">\n",
                "\n",
                "***\n"
            ]
        },
        {
            "cell_type": "code",
            "execution_count": null,
            "metadata": {},
            "outputs": [],
            "source": [
                "# load package\n",
                "library(simr)\n",
                "# set seed for replicability\n",
                "set.seed(12345)\n",
                "# perform power analysis for present model\n",
                "rsim0 <- powerSim(m1, fixed(\"ConditionTest\", \"z\"), nsim=100)\n"
            ]
        },
        {
            "cell_type": "markdown",
            "metadata": {},
            "source": [
                "Now we can inspect the results. \n",
                "\n"
            ]
        },
        {
            "cell_type": "code",
            "execution_count": null,
            "metadata": {},
            "outputs": [],
            "source": [
                "# inspect results\n",
                "rsim0\n"
            ]
        },
        {
            "cell_type": "markdown",
            "metadata": {},
            "source": [
                "The results of the power analysis show that, given the data at hand, the model would have detected the effect of Conidition:Test with a probability of `r rsim0$x` percent. However, and as stated above, the results of such post-hoc power calculations (where the target effect size comes from the data) give misleading results (@hoenig2001abuse) and should thus be treated with extreme care!\n",
                "\n",
                "# Power Analysis of Set Effects\n",
                "\n",
                "While the effect of Condidition:Test is rather small (given the small number of subjects and items, the small effect size, and the variability in the effect and we would thus not be surprised that out model is not very accurate in detecting this effect), the target accuracy of finding an effect that one is interested in is commonly 80 percent (see @field2012discovering, @green2016simr). The accuracy (i.e., the probability of finding an effect) depends on three main factors:\n",
                "\n",
                "\n",
                "* the size of the effect (bigger effects are easier to detect)\n",
                "* the variability of the effect (less variability makes it easier to detect an effect), and \n",
                "* the sample size (the bigger the sample size, the easier it is to detect an effect); \n",
                "  + number of subjects/participants\n",
                "  + number of items/questions\n",
                "  + number of observations per item within subjects/participants\n",
                "  \n",
                "\n",
                "We will now check if the sample size is sufficient to detect a small effect (Cohen's d 0.2). According to @chen2010big odds ratios of 1.68, 3.47, and 6.71 are equivalent to Cohen's d = 0.2 (small), 0.5 (medium), and 0.8 (large) - the traditional scale is 0.2 for a small, 0.5 for medium sized, and 0.8 for a large or strong effect. We need to determine the odds ratios of the fixed effects and then convert them into Cohen's d values for which we have associations between traditional denominations (small, medium, and large) and effect sife values. \n"
            ]
        },
        {
            "cell_type": "code",
            "execution_count": null,
            "metadata": {},
            "outputs": [],
            "source": [
                "estimatesfixedeffects <- fixef(m1)\n",
                "exp(estimatesfixedeffects)\n"
            ]
        },
        {
            "cell_type": "markdown",
            "metadata": {},
            "source": [
                "We can see that the effect is rather small which makes it very hard to detect an effect. We will now change the size of the effect of ConditionTest to represent a truly *small* effect, i.e. on the brink of being noise but being just strong enough to be considered small. In other words, we will set the effect so that its odds ratio is exactly 1.68.  \n",
                "\n"
            ]
        },
        {
            "cell_type": "code",
            "execution_count": null,
            "metadata": {},
            "outputs": [],
            "source": [
                "# set seed for replicability\n",
                "set.seed(12345)\n",
                "# perform power analysis for small effect\n",
                "fixef(m1)[\"ConditionTest\"] <- 0.519\n",
                "estimatesfixedeffects <- fixef(m1)\n",
                "exp(estimatesfixedeffects)\n"
            ]
        },
        {
            "cell_type": "markdown",
            "metadata": {},
            "source": [
                "Now we can test if the sample size of the model is sufficient to find a small effect. \n",
                "\n"
            ]
        },
        {
            "cell_type": "code",
            "execution_count": null,
            "metadata": {},
            "outputs": [],
            "source": [
                "# set seed for replicability\n",
                "set.seed(12345)\n",
                "# perform power analysis for present model\n",
                "rsim1 <- powerSim(m1, fixed(\"ConditionTest\", \"z\"), nsim=100)\n"
            ]
        },
        {
            "cell_type": "markdown",
            "metadata": {},
            "source": [
                "The results are shown below. \n",
                "\n"
            ]
        },
        {
            "cell_type": "code",
            "execution_count": null,
            "metadata": {},
            "outputs": [],
            "source": [
                "# show results\n",
                "rsim1\n"
            ]
        },
        {
            "cell_type": "markdown",
            "metadata": {},
            "source": [
                "The power analysis shows that the data is sufficient to detect a small effect for Condition:Test with `r rsim1$x` percent accuracy.\n",
                "\n",
                "# Power Analysis of Extended Data\n",
                "\n",
                "We will now extend the data to see what sample size is needed to get to the 80 percent accuracy threshold. We begin by increasing the number of items from 10 to 30 to see if this would lead to a sufficient sample size.\n"
            ]
        },
        {
            "cell_type": "code",
            "execution_count": null,
            "metadata": {},
            "outputs": [],
            "source": [
                "# increase sample size\n",
                "m2 <- extend(m1, along=\"Item\", n=30)\n",
                "# perform power simulation\n",
                "rsim2 <- powerSim(m2, fixed(\"ConditionTest\", \"z\"), nsim=100)\n"
            ]
        },
        {
            "cell_type": "markdown",
            "metadata": {},
            "source": [
                "The results are shown below. \n",
                "\n"
            ]
        },
        {
            "cell_type": "code",
            "execution_count": null,
            "metadata": {},
            "outputs": [],
            "source": [
                "# show results\n",
                "rsim2\n"
            ]
        },
        {
            "cell_type": "markdown",
            "metadata": {},
            "source": [
                "By increasing the number of items to 30, we would now be able to detect a small effect (d=.2) with an accuracy of `r rsim2$x` percent. This means that we would have to add more items as 30 is not yet sufficient.\n",
                "\n",
                "# Power Analysis for Ranges\n",
                "\n",
                "We can also check the accuracy for a range of values as shown below. We begin by extending the number of Items.\n"
            ]
        },
        {
            "cell_type": "code",
            "execution_count": null,
            "metadata": {},
            "outputs": [],
            "source": [
                "pc2 <- powerCurve(m2, fixed(\"ConditionTest\", \"z\"), along = \"Item\", nsim=100)\n",
                "\n"
            ]
        },
        {
            "cell_type": "markdown",
            "metadata": {},
            "source": [
                "The results are shown below. \n",
                "\n"
            ]
        },
        {
            "cell_type": "code",
            "execution_count": null,
            "metadata": {},
            "outputs": [],
            "source": [
                "# show results\n",
                "print(pc2)\n"
            ]
        },
        {
            "cell_type": "markdown",
            "metadata": {},
            "source": [
                "In addition, we can plot the results as follows:\n",
                "\n"
            ]
        },
        {
            "cell_type": "code",
            "execution_count": null,
            "metadata": {},
            "outputs": [],
            "source": [
                "plot(pc2)\n",
                "\n"
            ]
        },
        {
            "cell_type": "markdown",
            "metadata": {},
            "source": [
                "Instead of increasing the number of Items, we could also increase the number of Subjects. So below, we test check the accuracy for up to 30 subjects.\n",
                "\n"
            ]
        },
        {
            "cell_type": "code",
            "execution_count": null,
            "metadata": {},
            "outputs": [],
            "source": [
                "m3 <- extend(m1, along=\"Subject\", n=30)\n",
                "# perform power calculation\n",
                "pc3 <- powerCurve(m3, fixed(\"ConditionTest\", \"z\"), along=\"Subject\", nsim=100)\n"
            ]
        },
        {
            "cell_type": "markdown",
            "metadata": {},
            "source": [
                "The results are shown below. \n",
                "\n"
            ]
        },
        {
            "cell_type": "code",
            "execution_count": null,
            "metadata": {},
            "outputs": [],
            "source": [
                "# print results\n",
                "print(pc3)\n"
            ]
        },
        {
            "cell_type": "markdown",
            "metadata": {},
            "source": [
                "Again, we can also visualize the results.\n",
                "\n"
            ]
        },
        {
            "cell_type": "code",
            "execution_count": null,
            "metadata": {},
            "outputs": [],
            "source": [
                "# visualize results\n",
                "plot(pc3) \n"
            ]
        },
        {
            "cell_type": "markdown",
            "metadata": {},
            "source": [
                "The results show that we breach the 80 percent threshold with 30 subjects.\n",
                "\n",
                "Finally, it may be an option to increase the number of data points within subjects and items (while the number of items and subjects remain constant). \n"
            ]
        },
        {
            "cell_type": "code",
            "execution_count": null,
            "metadata": {},
            "outputs": [],
            "source": [
                "m4 <- extend(m1, within=\"Item+Subject\", n=15)\n",
                "# perform power calculation\n",
                "pc4 <- powerCurve(m4, fixed(\"ConditionTest\", \"z\"), within=\"Item+Subject\", breaks=c(5, 10, 15), nsim=100)\n"
            ]
        },
        {
            "cell_type": "markdown",
            "metadata": {},
            "source": [
                "The results are shown below. \n",
                "\n"
            ]
        },
        {
            "cell_type": "code",
            "execution_count": null,
            "metadata": {},
            "outputs": [],
            "source": [
                "# show results\n",
                "print(pc4)\n"
            ]
        },
        {
            "cell_type": "markdown",
            "metadata": {},
            "source": "\n"
        },
        {
            "cell_type": "code",
            "execution_count": null,
            "metadata": {},
            "outputs": [],
            "source": [
                "# show results\n",
                "plot(pc4)\n"
            ]
        },
        {
            "cell_type": "markdown",
            "metadata": {},
            "source": [
                "The results show that we would have a sufficient data set if we had 14 observations per Subject in each Item because with 10 observations, the accuracy breaches the 80 percent level.\n",
                "\n",
                "# Citation & Session Info {-}\n",
                "\n",
                "Schweinberger, Martin. `r format(Sys.time(), '%Y')`. *Power Analysis in R*. Brisbane: The University of Queensland. url: https://slcladal.github.io/clust.html (Version `r format(Sys.time(), '%Y.%m.%d')`).\n"
            ]
        },
        {
            "cell_type": "code",
            "execution_count": null,
            "metadata": {},
            "outputs": [],
            "source": [
                "@manual{schweinberger`r format(Sys.time(), '%Y')`pwr,\n",
                "  author = {Schweinberger, Martin},\n",
                "  title = {Power Analysis in R},\n",
                "  note = {https://slcladal.github.io/pwr.html},\n",
                "  year = {`r format(Sys.time(), '%Y')`},\n",
                "  organization = \"The University of Queensland, Australia. School of Languages and Cultures},\n",
                "  address = {Brisbane},\n",
                "  edition = {`r format(Sys.time(), '%Y.%m.%d')`}\n",
                "}\n"
            ]
        },
        {
            "cell_type": "markdown",
            "metadata": {},
            "source": [
                "\n",
                "\n"
            ]
        },
        {
            "cell_type": "code",
            "execution_count": null,
            "metadata": {},
            "outputs": [],
            "source": [
                "sessionInfo()\n",
                "\n"
            ]
        },
        {
            "cell_type": "markdown",
            "metadata": {},
            "source": [
                "***\n",
                "\n",
                "[Back to top](#introduction)\n",
                "\n",
                "[Back to HOME](https://slcladal.github.io/index.html)\n",
                "\n",
                "***\n",
                "\n",
                "# References {-}\n"
            ]
        }
    ],
    "metadata": {
        "anaconda-cloud": "",
        "kernelspec": {
            "display_name": "R",
            "langauge": "R",
            "name": "ir"
        },
        "language_info": {
            "codemirror_mode": "r",
            "file_extension": ".r",
            "mimetype": "text/x-r-source",
            "name": "R",
            "pygments_lexer": "r",
            "version": "3.4.1"
        }
    },
    "nbformat": 4,
    "nbformat_minor": 1
}
