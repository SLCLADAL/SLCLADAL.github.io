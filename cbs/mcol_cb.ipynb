{
    "cells": [
        {
            "cell_type": "markdown",
            "metadata": {},
            "source": "\n"
        },
        {
            "cell_type": "code",
            "execution_count": null,
            "metadata": {},
            "outputs": [],
            "source": [
                "knitr::include_graphics(\"https://slcladal.github.io/images/acqva.jpg\")\n",
                "\n"
            ]
        },
        {
            "cell_type": "markdown",
            "metadata": {},
            "source": "\n"
        },
        {
            "cell_type": "code",
            "execution_count": null,
            "metadata": {},
            "outputs": [],
            "source": [
                "# load packages for website\n",
                "library(knitr) \n",
                "library(kableExtra) \n",
                "library(DT)\n"
            ]
        },
        {
            "cell_type": "markdown",
            "metadata": {},
            "source": [
                "# Introduction\n",
                "\n",
                "During the workshop on mixed-effects modeling, we talked about (multi-)collinearity and [Jorge González Alonso](https://en.uit.no/ansatte/person?p_document_id=473118) asked if collinearity reflected shared variance (what I thought) or predictability of variables (what Jorge thought).\n",
                "\n",
                "Well, we are both right.\n",
                "\n",
                "***\n",
                ">(Multi-)collinearity is defined as the correlation between predictors. (Multi-)collinearity is a problem because which predictor is reported as being significant depends on the presence of other predictors in the model.\n",
                "\n",
                "***\n",
                "\n",
                "Because (multi-)collinearity represents a correlation between predictors, it reflects the predictability of predictors based on the values of other predictors. This correlation or predictability is a problem because when predictors correlate, the variance that they explain overlaps which results in unstable models. The instability occurs because what the model reports as significant depends on the presence of other predictors. \n",
                "\n",
                "To test this, I generate a data set with 4 independent variables `a`, `b`, `c`, and `d`. And the data set contains two potential response variables `r1` (which is random) and `r2` (where the first 50 data points are the same as in `r1` but for the second 50 data points I have added 50 to the data points 51 to 100 from `r1`). This means that the predictors a and d should both strongly correlate with `r2` an effect for \n"
            ]
        },
        {
            "cell_type": "code",
            "execution_count": null,
            "metadata": {},
            "outputs": [],
            "source": [
                "# load packages\n",
                "library(tidyverse)\n",
                "library(rms)\n",
                "# create data set\n",
                "# responses\n",
                "# 100 random numbers\n",
                "r1 <- rnorm(100, 50, 10)\n",
                "# 50 smaller + 50 larger numbers\n",
                "r2 <- c(r1[1:50], r1[51:100] + 50)\n",
                "# predictors\n",
                "a <- c(rep(\"1\", 50), rep (\"0\", 50))\n",
                "b <- rep(c(rep(\"1\", 25), rep (\"0\", 25)), 2)\n",
                "c <- rep(c(rep(\"1\", 10), rep(\"0\", 10)), 5)\n",
                "d <- c(rep(\"1\", 47), rep (\"0\", 3), rep (\"0\", 47), rep (\"1\", 3))\n",
                "# create data set\n",
                "df <- data.frame(r1, r2, a, b, c, d)\n"
            ]
        },
        {
            "cell_type": "markdown",
            "metadata": {},
            "source": "\n"
        },
        {
            "cell_type": "code",
            "execution_count": null,
            "metadata": {},
            "outputs": [],
            "source": [
                "# inspect data\n",
                "df %>%\n",
                "  head(10) %>%\n",
                "  kable(caption = \"First 10 rows of df data.\") %>%\n",
                "  kableExtra::kable_styling(bootstrap_options = c(\"striped\", \"hover\", \"condensed\", \"responsive\"), \n",
                "                            full_width = F)\n"
            ]
        },
        {
            "cell_type": "markdown",
            "metadata": {},
            "source": [
                "Here are the visualizations of r1 and r2\n",
                "\n"
            ]
        },
        {
            "cell_type": "code",
            "execution_count": null,
            "metadata": {},
            "outputs": [],
            "source": [
                "plot(r1, pch = 20)\n",
                "plot(r2, pch = 20)\n"
            ]
        },
        {
            "cell_type": "markdown",
            "metadata": {},
            "source": [
                "# Fit first model\n",
                "\n",
                "Now, I fit a first model. As the response is random, we do not expect any of the predictors to have a significant effect and we expect the R^2^ to be rather low.\n"
            ]
        },
        {
            "cell_type": "code",
            "execution_count": null,
            "metadata": {},
            "outputs": [],
            "source": [
                "m1 <- lm(r1 ~ a + b + c + d, data = df)\n",
                "# inspect model\n",
                "summary(m1)\n"
            ]
        },
        {
            "cell_type": "markdown",
            "metadata": {},
            "source": [
                "We now check for (multi-)collinearity using the `vif` function from the `rms` package. Variables `a` and `d` should have high variance inflation factor values (vif-values) because they overlap very much!\n",
                "\n"
            ]
        },
        {
            "cell_type": "code",
            "execution_count": null,
            "metadata": {},
            "outputs": [],
            "source": [
                "# extract vifs\n",
                "rms::vif(m1)\n"
            ]
        },
        {
            "cell_type": "markdown",
            "metadata": {},
            "source": [
                "Variables `a` and `d` do indeed have high vif-values.\n",
                "\n",
                "We now fit a second model to the response which has higher values for the latter part of the response. Both `a` and `d` strongly correlate with the response. **But** because `a` and `d` are collinear, `d` should not be reported as being significant by the model. The R^2^ of the model should be rather high (given the correlation between the response r2 and `a` and `d`).\n"
            ]
        },
        {
            "cell_type": "code",
            "execution_count": null,
            "metadata": {},
            "outputs": [],
            "source": [
                "m2 <- lm(r2 ~ a + b + c + d, data = df)\n",
                "# inspect model\n",
                "summary(m2)\n"
            ]
        },
        {
            "cell_type": "markdown",
            "metadata": {},
            "source": [
                "As predicted, `d` is not  reported as being significant by the model. We look at a model without `a` which should cause `d` to be significant.\n",
                "\n"
            ]
        },
        {
            "cell_type": "code",
            "execution_count": null,
            "metadata": {},
            "outputs": [],
            "source": [
                "m3 <- lm(r2 ~ b + c + d, data = df)\n",
                "# inspect model\n",
                "summary(m3)\n"
            ]
        },
        {
            "cell_type": "markdown",
            "metadata": {},
            "source": [
                "As we suspected, now, `d` is reported as being significant by the model. We return to `m2` and extract the vif-values.\n",
                "\n"
            ]
        },
        {
            "cell_type": "code",
            "execution_count": null,
            "metadata": {},
            "outputs": [],
            "source": [
                "# extract vifs\n",
                "rms::vif(m2)\n"
            ]
        },
        {
            "cell_type": "markdown",
            "metadata": {},
            "source": [
                "The vif-values are identical which shows that what matters is if the variables are predictable. To understand how we arrive at vif-values, we inspect the model matrix.\n",
                "\n"
            ]
        },
        {
            "cell_type": "code",
            "execution_count": null,
            "metadata": {},
            "outputs": [],
            "source": [
                "# inspect model matrix\n",
                "mm <- model.matrix(m2)\n"
            ]
        },
        {
            "cell_type": "markdown",
            "metadata": {},
            "source": "\n"
        },
        {
            "cell_type": "code",
            "execution_count": null,
            "metadata": {},
            "outputs": [],
            "source": [
                "# inspect data\n",
                "mm %>%\n",
                "  head(15) %>%\n",
                "  kable(caption = \"First 15 rows of the model matrix.\") %>%\n",
                "  kableExtra::kable_styling(bootstrap_options = c(\"striped\", \"hover\", \"condensed\", \"responsive\"), \n",
                "                            full_width = F)\n"
            ]
        },
        {
            "cell_type": "markdown",
            "metadata": {},
            "source": [
                "We now fit a linear model in which we predcit `d` from the other predictors in the model matrix.\n",
                "\n"
            ]
        },
        {
            "cell_type": "code",
            "execution_count": null,
            "metadata": {},
            "outputs": [],
            "source": [
                "mt <- lm(mm[,5] ~ mm[,1:4])\n",
                "summary(mt)$r.squared\n"
            ]
        },
        {
            "cell_type": "markdown",
            "metadata": {},
            "source": [
                "The R^2^ shows that the values of `d` are explained to 78.4 percent by the values of the other predictors in the model.\n",
                "\n",
                "Now, we can write a function (taken from @gries2021statistics) that converts this R^2^ value into a vif-value.\n"
            ]
        },
        {
            "cell_type": "code",
            "execution_count": null,
            "metadata": {},
            "outputs": [],
            "source": [
                "R2.to.VIF <- function(some.modelmatrix.r2) {\n",
                "return(1/(1-some.modelmatrix.r2)) } \n",
                "R2.to.VIF(0.784)\n"
            ]
        },
        {
            "cell_type": "markdown",
            "metadata": {},
            "source": [
                "The function outputs the vif-value of `d`. This shows that the vif-value of `d` represents its predictability from the other predictors in the model matrix and not the amount of shared variance (as I thought).\n",
                "\n",
                "# Citation & Session Info \n",
                "\n",
                "Schweinberger, Martin. `r format(Sys.time(), '%Y')`. *What does multicollinearity mean?*. Tromsø: The Artic University of Norway. url: https://slcladal.github.io/mcol.html (Version `r format(Sys.time(), '%Y.%m.%d')`).\n"
            ]
        },
        {
            "cell_type": "code",
            "execution_count": null,
            "metadata": {},
            "outputs": [],
            "source": [
                "@manual{schweinberger`r format(Sys.time(), '%Y')`mmws,\n",
                "  author = {Schweinberger, Martin},\n",
                "  title = {What does multicollinearity mean?},\n",
                "  note = {https://slcladal.github.io/mcol.html},\n",
                "  year = {2021},\n",
                "  organization = \"Arctic University of Norway, AcqVA Aurora Center},\n",
                "  address = {Tromsø},\n",
                "  edition = {`r format(Sys.time(), '%Y.%m.%d')`}\n",
                "}\n"
            ]
        },
        {
            "cell_type": "markdown",
            "metadata": {},
            "source": "\n"
        },
        {
            "cell_type": "code",
            "execution_count": null,
            "metadata": {},
            "outputs": [],
            "source": [
                "sessionInfo()\n",
                "\n"
            ]
        },
        {
            "cell_type": "markdown",
            "metadata": {},
            "source": [
                "***\n",
                "\n",
                "[Back to top](#introduction)\n",
                "\n",
                "***\n",
                "\n",
                "# References\n"
            ]
        }
    ],
    "metadata": {
        "anaconda-cloud": "",
        "kernelspec": {
            "display_name": "R",
            "langauge": "R",
            "name": "ir"
        },
        "language_info": {
            "codemirror_mode": "r",
            "file_extension": ".r",
            "mimetype": "text/x-r-source",
            "name": "R",
            "pygments_lexer": "r",
            "version": "3.4.1"
        }
    },
    "nbformat": 4,
    "nbformat_minor": 1
}
