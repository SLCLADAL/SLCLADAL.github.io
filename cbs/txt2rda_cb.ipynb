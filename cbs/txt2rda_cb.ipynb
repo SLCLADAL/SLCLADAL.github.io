{
    "cells": [
        {
            "cell_type": "markdown",
            "metadata": {},
            "source": [
                "# Tranforming data\n",
                "\n",
                "From txt to rda\n"
            ]
        },
        {
            "cell_type": "code",
            "execution_count": null,
            "metadata": {},
            "outputs": [],
            "source": [
                "data03 <- read.delim(\"https://slcladal.github.io/data/data01.txt\", header = TRUE)\n",
                "base::saveRDS(data01, file = here::here(\"data\", \"d01.rda\"))\n",
                "data01  <- base::readRDS(url(\"https://slcladal.github.io/data/d01.rda\", \"rb\"))\n"
            ]
        },
        {
            "cell_type": "markdown",
            "metadata": {},
            "source": "\n"
        },
        {
            "cell_type": "code",
            "execution_count": null,
            "metadata": {},
            "outputs": [],
            "source": [
                "# data03\n",
                "tdata <- read.delim(\"https://slcladal.github.io/data/data03.txt\", \n",
                "                      header = T, sep = \"\\t\")\n",
                "base::saveRDS(tdata, file = here::here(\"data\", \"d03.rda\"))\n",
                "data03  <- base::readRDS(url(\"https://slcladal.github.io/data/d03.rda\", \"rb\"))\n"
            ]
        },
        {
            "cell_type": "markdown",
            "metadata": {},
            "source": "\n"
        },
        {
            "cell_type": "code",
            "execution_count": null,
            "metadata": {},
            "outputs": [],
            "source": [
                "#data04\n",
                "degree_adverbs <- read.delim(\"https://slcladal.github.io/data/data04.txt\", sep = \"\\t\", header = T)\n",
                "base::saveRDS(degree_adverbs, file = here::here(\"data\", \"dad.rda\"))\n",
                "degree_adverbs  <- base::readRDS(url(\"https://slcladal.github.io/data/dad.rda\", \"rb\"))\n"
            ]
        },
        {
            "cell_type": "markdown",
            "metadata": {},
            "source": "\n"
        },
        {
            "cell_type": "code",
            "execution_count": null,
            "metadata": {},
            "outputs": [],
            "source": [
                "# ldat\n",
                "ldat <- read.delim(\"https://slcladal.github.io/data/likertdata1.txt\", header = TRUE)\n",
                "base::saveRDS(ldat, file = here::here(\"data\", \"lid.rda\"))\n",
                "ldat  <- base::readRDS(url(\"https://slcladal.github.io/data/lid.rda\", \"rb\"))\n"
            ]
        },
        {
            "cell_type": "markdown",
            "metadata": {},
            "source": "\n"
        },
        {
            "cell_type": "code",
            "execution_count": null,
            "metadata": {},
            "outputs": [],
            "source": [
                "#sud\n",
                "surveydata <- read.delim(\"https://slcladal.github.io/data/surveydata1.txt\", sep = \"\\t\", header = T)\n",
                "base::saveRDS(surveydata, file = here::here(\"data\", \"sud.rda\"))\n",
                "sud  <- base::readRDS(url(\"https://slcladal.github.io/data/sud.rda\", \"rb\"))\n"
            ]
        },
        {
            "cell_type": "markdown",
            "metadata": {},
            "source": "\n"
        },
        {
            "cell_type": "code",
            "execution_count": null,
            "metadata": {},
            "outputs": [],
            "source": [
                "#  sud2\n",
                "sdat <- read.delim(\"https://slcladal.github.io/data/survey.txt\", header = TRUE)\n",
                "base::saveRDS(sdat, file = here::here(\"data\", \"sdd.rda\"))\n",
                "sdd  <- base::readRDS(url(\"https://slcladal.github.io/data/sdd.rda\", \"rb\"))\n"
            ]
        },
        {
            "cell_type": "markdown",
            "metadata": {},
            "source": "\n"
        },
        {
            "cell_type": "code",
            "execution_count": null,
            "metadata": {},
            "outputs": [],
            "source": [
                "# German\n",
                "German <- readLines(\"https://slcladal.github.io/data/phonemictext1.txt\")\n",
                "base::saveRDS(German, file = here::here(\"data\", \"ged.rda\"))\n",
                "German  <- base::readRDS(url(\"https://slcladal.github.io/data/ged.rda\", \"rb\"))\n"
            ]
        },
        {
            "cell_type": "markdown",
            "metadata": {},
            "source": "\n"
        },
        {
            "cell_type": "code",
            "execution_count": null,
            "metadata": {},
            "outputs": [],
            "source": [
                "English <- readLines(\"https://slcladal.github.io/data/phonemictext2.txt\")\n",
                "Spanish <- readLines(\"https://slcladal.github.io/data/phonemictext3.txt\")\n",
                "Unknown <- readLines(\"https://slcladal.github.io/data/phonemictext4.txt\")\n",
                "\n",
                "base::saveRDS(English, file = here::here(\"data\", \"end.rda\"))\n",
                "base::saveRDS(Spanish, file = here::here(\"data\", \"spd.rda\"))\n",
                "base::saveRDS(Unknown, file = here::here(\"data\", \"und.rda\"))\n",
                "\n",
                "German  <- base::readRDS(url(\"https://slcladal.github.io/data/ged.rda\", \"rb\"))\n",
                "English  <- base::readRDS(url(\"https://slcladal.github.io/data/end.rda\", \"rb\"))\n",
                "Spanish  <- base::readRDS(url(\"https://slcladal.github.io/data/apd.rda\", \"rb\"))\n",
                "Unknown  <- base::readRDS(url(\"https://slcladal.github.io/data/und.rda\", \"rb\"))\n"
            ]
        },
        {
            "cell_type": "markdown",
            "metadata": {},
            "source": "\n"
        },
        {
            "cell_type": "code",
            "execution_count": null,
            "metadata": {},
            "outputs": [],
            "source": [
                "# cfa data\n",
                "cfadata <- read.delim(\"https://slcladal.github.io/data/cfadata.txt\", header = T, sep = \"\\t\")\n",
                "base::saveRDS(cfadata, file = here::here(\"data\", \"cfd.rda\"))\n",
                "cfadata  <- base::readRDS(url(\"https://slcladal.github.io/data/cfd.rda\", \"rb\"))\n"
            ]
        },
        {
            "cell_type": "markdown",
            "metadata": {},
            "source": "\n"
        },
        {
            "cell_type": "code",
            "execution_count": null,
            "metadata": {},
            "outputs": [],
            "source": [
                "# vector space data\n",
                "vsmdata <- read.delim(\"https://slcladal.github.io/data/vsmdata.txt\", sep = \"\\t\", header = T)\n",
                "base::saveRDS(vsmdata, file = here::here(\"data\", \"vsd.rda\"))\n",
                "vsmdata  <- base::readRDS(url(\"https://slcladal.github.io/data/vsd.rda\", \"rb\"))\n"
            ]
        },
        {
            "cell_type": "markdown",
            "metadata": {},
            "source": "\n"
        },
        {
            "cell_type": "code",
            "execution_count": null,
            "metadata": {},
            "outputs": [],
            "source": [
                "# ampaus\n",
                "ampaus <- read.table(\"https://SLCLADAL.github.io/data/ampaus.txt\",  sep = \"\\t\", header = T)\n",
                "base::saveRDS(ampaus, file = here::here(\"data\", \"ozd.rda\"))\n",
                "vsmdata  <- base::readRDS(url(\"https://slcladal.github.io/data/ozd.rda\", \"rb\"))\n"
            ]
        },
        {
            "cell_type": "markdown",
            "metadata": {},
            "source": "\n"
        },
        {
            "cell_type": "code",
            "execution_count": null,
            "metadata": {},
            "outputs": [],
            "source": [
                "#slrdata2 <- read.delim(\"https://slcladal.github.io/data/slrdata2.txt\", sep = \"\\t\", header = T)\n",
                "#base::saveRDS(slrdata2, file = here::here(\"data\", \"sgd.rda\"))\n",
                "slrdata2  <- base::readRDS(url(\"https://slcladal.github.io/data/sgd.rda\", \"rb\"))\n"
            ]
        },
        {
            "cell_type": "markdown",
            "metadata": {},
            "source": "\n"
        },
        {
            "cell_type": "code",
            "execution_count": null,
            "metadata": {},
            "outputs": [],
            "source": [
                "# load data\n",
                "#mlrdata <- read.delim(\"https://slcladal.github.io/data/mlrdata.txt\", header = TRUE)\n",
                "#base::saveRDS(mlrdata, file = here::here(\"data\", \"mld.rda\"))\n",
                "mlrdata  <- base::readRDS(url(\"https://slcladal.github.io/data/mld.rda\", \"rb\"))\n"
            ]
        },
        {
            "cell_type": "markdown",
            "metadata": {},
            "source": "\n"
        },
        {
            "cell_type": "code",
            "execution_count": null,
            "metadata": {},
            "outputs": [],
            "source": [
                "# load data\n",
                "#blrdata <- read.table(\"https://slcladal.github.io/data/blrdata.txt\",\n",
                "#                      comment.char = \"\",  # data does not contain comments\n",
                "#                      quote = \"\",         # data does not contain quotes\n",
                "#                      sep = \"\\t\",         # data is tab separated\n",
                "#                      header = T)         # variables have headers\n",
                "#base::saveRDS(blrdata, file = here::here(\"data\", \"bld.rda\"))\n",
                "blrdata  <- base::readRDS(url(\"https://slcladal.github.io/data/bld.rda\", \"rb\"))\n"
            ]
        },
        {
            "cell_type": "markdown",
            "metadata": {},
            "source": [
                "\n",
                "\n"
            ]
        },
        {
            "cell_type": "code",
            "execution_count": null,
            "metadata": {},
            "outputs": [],
            "source": [
                "# load data\n",
                "#ordata <- read.delim(\"https://slcladal.github.io/data/ordinaldata.txt\", \n",
                "#                     sep = \"\\t\", header = T)\n",
                "#base::saveRDS(ordata, file = here::here(\"data\", \"ord.rda\"))\n",
                "ordata  <- base::readRDS(url(\"https://slcladal.github.io/data/ord.rda\", \"rb\")) %>%\n",
                "  dplyr::rename(Recommend = 1, \n",
                "              Internal = 2, \n",
                "              Exchange = 3, \n",
                "              FinalScore = 4) %>%\n",
                "  dplyr::mutate(FinalScore = round(FinalScore, 2))\n"
            ]
        },
        {
            "cell_type": "markdown",
            "metadata": {},
            "source": [
                "\n",
                "\n"
            ]
        },
        {
            "cell_type": "code",
            "execution_count": null,
            "metadata": {},
            "outputs": [],
            "source": [
                "# load data\n",
                "#poissondata <- read.delim(\"https://slcladal.github.io/data/posdata.txt\", sep = \"\\t\", header = T, skipNul = T, quote = \"\")\n",
                "#base::saveRDS(poissondata, file = here::here(\"data\", \"prd.rda\"))\n",
                "poissondata  <- base::readRDS(url(\"https://slcladal.github.io/data/prd.rda\", \"rb\"))\n"
            ]
        },
        {
            "cell_type": "markdown",
            "metadata": {},
            "source": [
                "\n",
                "\n"
            ]
        },
        {
            "cell_type": "code",
            "execution_count": null,
            "metadata": {},
            "outputs": [],
            "source": [
                "# load data\n",
                "#robustdata <- read.delim(\"https://slcladal.github.io/data/mlrdata.txt\", sep = \"\\t\", header = T)\n",
                "#base::saveRDS(robustdata, file = here::here(\"data\", \"mld.rda\"))\n",
                "robustdata  <- base::readRDS(url(\"https://slcladal.github.io/data/mld.rda\", \"rb\"))\n"
            ]
        },
        {
            "cell_type": "markdown",
            "metadata": {},
            "source": "\n"
        },
        {
            "cell_type": "code",
            "execution_count": null,
            "metadata": {},
            "outputs": [],
            "source": [
                "# read in data\n",
                "#lmmdata <- read.delim(\"https://slcladal.github.io/data/lmmdata.txt\", header = TRUE)\n",
                "#base::saveRDS(lmmdata, file = here::here(\"data\", \"lmd.rda\"))\n",
                "lmmdata  <- base::readRDS(url(\"https://slcladal.github.io/data/lmd.rda\", \"rb\")) %>%\n",
                "  # convert date into a numeric variable\n",
                "  dplyr::mutate(Date = as.numeric(Date))\n"
            ]
        },
        {
            "cell_type": "markdown",
            "metadata": {},
            "source": "\n"
        },
        {
            "cell_type": "code",
            "execution_count": null,
            "metadata": {},
            "outputs": [],
            "source": [
                "# load data\n",
                "#mblrdata <- read.table(\"https://slcladal.github.io/data/mblrdata.txt\", \n",
                "#                       comment.char = \"\",# data does not contain comments\n",
                "#                       quote = \"\",       # data does not contain quotes\n",
                "#                       sep = \"\\t\",       # data is tab separated\n",
                "#                       header = T)       # data has column names\n",
                "#base::saveRDS(mblrdata, file = here::here(\"data\", \"mbd.rda\"))\n",
                "mblrdata  <- base::readRDS(url(\"https://slcladal.github.io/data/mbd.rda\", \"rb\"))\n"
            ]
        },
        {
            "cell_type": "markdown",
            "metadata": {},
            "source": "\n"
        },
        {
            "cell_type": "code",
            "execution_count": null,
            "metadata": {},
            "outputs": [],
            "source": [
                "# load data\n",
                "#countdata <- read.table(\"https://slcladal.github.io/data/countdata.txt\", \n",
                "#                       comment.char = \"\",quote = \"\", sep = \"\\t\", header = T) \n",
                "#base::saveRDS(countdata, file = here::here(\"data\", \"cld.rda\"))\n",
                "countdata  <- base::readRDS(url(\"https://slcladal.github.io/data/cld.rda\", \"rb\"))\n"
            ]
        },
        {
            "cell_type": "markdown",
            "metadata": {},
            "source": "\n"
        },
        {
            "cell_type": "code",
            "execution_count": null,
            "metadata": {},
            "outputs": [],
            "source": [
                "# load data\n",
                "#slrdata <- read.delim(\"https://slcladal.github.io/data/lmmdata.txt\", header = TRUE)\n",
                "#base::saveRDS(slrdata, file = here::here(\"data\", \"sld.rda\"))\n",
                "slrdata  <- base::readRDS(url(\"https://slcladal.github.io/data/sld.rda\", \"rb\"))\n"
            ]
        },
        {
            "cell_type": "markdown",
            "metadata": {},
            "source": "\n"
        },
        {
            "cell_type": "code",
            "execution_count": null,
            "metadata": {},
            "outputs": [],
            "source": [
                "# vector space data\n",
                "cdo <- readLines(\"https://slcladal.github.io/data/origindarwin.txt\")\n",
                "base::saveRDS(cdo, file = here::here(\"data\", \"cdo.rda\"))\n",
                "cdo  <- base::readRDS(url(\"https://slcladal.github.io/data/cdo.rda\", \"rb\"))\n"
            ]
        },
        {
            "cell_type": "markdown",
            "metadata": {},
            "source": [
                "\n",
                "\n"
            ]
        },
        {
            "cell_type": "code",
            "execution_count": null,
            "metadata": {},
            "outputs": [],
            "source": [
                "ordata <- read.delim(\"https://slcladal.github.io/data/ordinaldata.txt\", sep = \"\\t\", header = T)\n",
                "colnames(ordata) <- c(\"Recommend\", \"Internal\", \"Exchange\", \"FinalScore\")\n",
                "base::saveRDS(ordata, file = here::here(\"data\", \"oda.rda\"))\n",
                "ordata  <- base::readRDS(url(\"https://slcladal.github.io/data/oda.rda\", \"rb\"))\n"
            ]
        },
        {
            "cell_type": "markdown",
            "metadata": {},
            "source": [
                "\n",
                "\n"
            ]
        },
        {
            "cell_type": "code",
            "execution_count": null,
            "metadata": {},
            "outputs": [],
            "source": [
                "airports <- read.delim(\"https://slcladal.github.io/data/airports.txt\", sep = \"\\t\", header = T)\n",
                "base::saveRDS(airports, file = here::here(\"data\", \"apd.rda\"))\n",
                "airports  <- base::readRDS(url(\"https://slcladal.github.io/data/apd.rda\", \"rb\"))\n"
            ]
        },
        {
            "cell_type": "markdown",
            "metadata": {},
            "source": "\n"
        },
        {
            "cell_type": "code",
            "execution_count": null,
            "metadata": {},
            "outputs": [],
            "source": [
                "routes <- read.delim(\"https://slcladal.github.io/data/routes.txt\", sep = \"\\t\", header = T)\n",
                "base::saveRDS(routes, file = here::here(\"data\", \"ard.rda\"))\n",
                "routes  <- base::readRDS(url(\"https://slcladal.github.io/data/ard.rda\", \"rb\"))\n"
            ]
        },
        {
            "cell_type": "markdown",
            "metadata": {},
            "source": "\n"
        },
        {
            "cell_type": "code",
            "execution_count": null,
            "metadata": {},
            "outputs": [],
            "source": [
                "visited <- read.delim(\"https://slcladal.github.io/data/visited.txt\", sep = \"\\t\", header = T)\n",
                "base::saveRDS(visited, file = here::here(\"data\", \"vst.rda\"))\n",
                "routes  <- base::readRDS(url(\"https://slcladal.github.io/data/vst.rda\", \"rb\"))\n"
            ]
        },
        {
            "cell_type": "markdown",
            "metadata": {},
            "source": "\n"
        },
        {
            "cell_type": "code",
            "execution_count": null,
            "metadata": {},
            "outputs": [],
            "source": [
                "# load data\n",
                "pdat <- base::readRDS(url(\"https://slcladal.github.io/data/lmm.rda\", \"rb\")) %>%\n",
                "  dplyr::mutate(GenreRedux = case_when(str_detect(.$Genre, \"Letter\") ~ \"Conversational\",\n",
                "                                Genre == \"Diary\" ~ \"Conversational\",\n",
                "                                Genre == \"Bible\"|Genre == \"Sermon\" ~ \"Religious\",\n",
                "                                Genre == \"Law\"|Genre == \"TrialProceeding\" ~ \"Legal\",\n",
                "                                Genre == \"Fiction\" ~ \"Fiction\",\n",
                "                                TRUE ~ \"NonFiction\")) %>%\n",
                "  dplyr::mutate(DateRedux = case_when(Date < 1500 ~ \"1150-1499\",\n",
                "                               Date < 1600 ~ \"1500-1599\",\n",
                "                               Date < 1700 ~ \"1600-1699\",\n",
                "                               Date < 1800 ~ \"1700-1799\",\n",
                "                               TRUE ~ \"1800-1913\")) %>%\n",
                "  dplyr::mutate_if(is.character, factor)\n",
                "base::saveRDS(pdat, file = here::here(\"data\", \"pvd.rda\"))\n",
                "pdat  <- base::readRDS(url(\"https://slcladal.github.io/data/pvd.rda\", \"rb\"))\n"
            ]
        },
        {
            "cell_type": "markdown",
            "metadata": {},
            "source": [
                "\n",
                "\n"
            ]
        },
        {
            "cell_type": "code",
            "execution_count": null,
            "metadata": {},
            "outputs": [],
            "source": [
                "coocdata <- read.delim(\"https://slcladal.github.io/data/collex_decade.txt\", sep = \"\\t\")\n",
                "base::saveRDS(coocdata, file = here::here(\"data\", \"coo.rda\"))\n",
                "#coocdata  <- base::readRDS(url(\"https://slcladal.github.io/data/coo.rda\", \"rb\"))\n"
            ]
        },
        {
            "cell_type": "markdown",
            "metadata": {},
            "source": [
                "\n",
                "\n"
            ]
        },
        {
            "cell_type": "code",
            "execution_count": null,
            "metadata": {},
            "outputs": [],
            "source": [
                "test <- base::readRDS(url(\"https://slcladal.github.io/data/mdata.rda\", \"rb\"))\n",
                "str(test)\n"
            ]
        },
        {
            "cell_type": "markdown",
            "metadata": {},
            "source": "\n"
        },
        {
            "cell_type": "code",
            "execution_count": null,
            "metadata": {},
            "outputs": [],
            "source": [
                "melville <- readLines(\"https://slcladal.github.io/data/melvillemobydick.txt\")\n",
                "base::saveRDS(melville, file = here::here(\"data\", \"melville.rda\"))\n",
                "#melville  <- base::readRDS(url(\"https://slcladal.github.io/data/melville.rda\", \"rb\"))\n"
            ]
        },
        {
            "cell_type": "markdown",
            "metadata": {},
            "source": "\n"
        },
        {
            "cell_type": "code",
            "execution_count": null,
            "metadata": {},
            "outputs": [],
            "source": [
                "darwin <- readLines(\"https://slcladal.github.io/data/origindarwin.txt\")\n",
                "base::saveRDS(darwin, file = here::here(\"data\", \"darwin.rda\"))\n",
                "#darwin  <- base::readRDS(url(\"https://slcladal.github.io/data/darwin.rda\", \"rb\"))\n"
            ]
        },
        {
            "cell_type": "markdown",
            "metadata": {},
            "source": [
                "\n",
                "\n"
            ]
        }
    ],
    "metadata": {
        "anaconda-cloud": "",
        "kernelspec": {
            "display_name": "R",
            "langauge": "R",
            "name": "ir"
        },
        "language_info": {
            "codemirror_mode": "r",
            "file_extension": ".r",
            "mimetype": "text/x-r-source",
            "name": "R",
            "pygments_lexer": "r",
            "version": "3.4.1"
        }
    },
    "nbformat": 4,
    "nbformat_minor": 1
}
