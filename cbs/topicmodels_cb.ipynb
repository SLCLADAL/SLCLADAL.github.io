{
    "cells": [
        {
            "cell_type": "markdown",
            "metadata": {},
            "source": [
                "![An interactive LADAL notebook](https://slcladal.github.io/images/uq1.jpg)\n",
                "\n",
                "# Topic Modeling with R\n",
                "\n",
                "This tutorial is the interactive Jupyter notebook accompanying the [*Language Technology and Data Analysis Laboratory* (LADAL) tutorial *Topic Modeling with R*](https://ladal.edu.au/topicmodels.html). \n",
                "\n",
                "**Preparation and session set up**\n",
                "\n",
                "We set up our session by activating the packages we need for this tutorial. \n"
            ]
        },
        {
            "cell_type": "code",
            "execution_count": null,
            "metadata": {},
            "outputs": [],
            "source": [
                "# load packages\n",
                "library(tm)\n",
                "library(topicmodels)\n",
                "library(reshape2)\n",
                "library(ggplot2)\n",
                "library(wordcloud)\n",
                "library(pals)\n",
                "library(SnowballC)\n",
                "library(lda)\n",
                "library(ldatuning)\n"
            ]
        },
        {
            "cell_type": "markdown",
            "metadata": {},
            "source": [
                "Once you have initiated the session by executing the code shown above, you are good to go.\n",
                "\n",
                "If you are using this notebook on your own computer and you have not already installed the R packages listed above, you need to install them. You can install them by replacing the `library` command with `install.packages` and putting the name of the package into quotation marks like this: `install.packages(\"dplyr\")`. Then, you simply run this command and R will install the package you specified.\n",
                "\n",
                "\n",
                "# Getting started\n",
                "\n",
                "The process starts as usual with the reading of the corpus data. For this tutorial we will analyze *State of the Union Addresses* (SOTU) by US presidents and investigate how the topics that were addressed in the SOTU speeches changeover time. The 231 SOTU addresses are rather long documents. Documents lengths clearly affects the results of topic modeling. For very short texts (e.g. Twitter posts) or very long texts (e.g. books), it can make sense to concatenate/split single documents to receive longer/shorter textual units for modeling.\n",
                "\n",
                "For the SOTU speeches for instance, we infer the model based on paragraphs instead of entire speeches. By manual inspection / qualitative inspection of the results you can check if this procedure yields better (interpretable) topics. In `sotu_paragraphs.csv`, we provide a paragraph separated version of the speeches.\n",
                "\n",
                "For text preprocessing, we remove stopwords, since they tend to occur as \"noise\" in the estimated topics of the LDA model.\n"
            ]
        },
        {
            "cell_type": "code",
            "execution_count": null,
            "metadata": {},
            "outputs": [],
            "source": [
                "# load data\n",
                "textdata <- base::readRDS(url(\"https://slcladal.github.io/data/sotu_paragraphs.rda\", \"rb\"))\n",
                "# load stopwords\n",
                "english_stopwords <- readLines(\"https://slcladal.github.io/resources/stopwords_en.txt\", encoding = \"UTF-8\")\n",
                "# create corpus object\n",
                "corpus <- Corpus(DataframeSource(textdata))\n",
                "# Preprocessing chain\n",
                "processedCorpus <- tm_map(corpus, content_transformer(tolower))\n",
                "processedCorpus <- tm_map(processedCorpus, removeWords, english_stopwords)\n",
                "processedCorpus <- tm_map(processedCorpus, removePunctuation, preserve_intra_word_dashes = TRUE)\n",
                "processedCorpus <- tm_map(processedCorpus, removeNumbers)\n",
                "processedCorpus <- tm_map(processedCorpus, stemDocument, language = \"en\")\n",
                "processedCorpus <- tm_map(processedCorpus, stripWhitespace)\n"
            ]
        },
        {
            "cell_type": "markdown",
            "metadata": {},
            "source": [
                "***\n",
                "\n",
                "## Using your own data\n",
                "\n",
                "While the tutorial uses data from the LADAL website, you can also use your own data. You can see below what you need to do to upload and use your own data.\n",
                "\n",
                "The code chunk below allows you to upload two files from your own computer. To be able to load your own data, you need to click on the folder symbol to the left of the screen:\n",
                "\n",
                "![Binder Folder Symbol](https://slcladal.github.io/images/binderfolder.JPG)\n",
                "\n",
                "\n",
                "Then on the upload symbol.\n",
                "\n",
                "![Binder Upload Symbol](https://slcladal.github.io/images/binderupload.JPG)\n",
                "\n",
                "Next, upload the files you want to analyze and then the respective files names in the file argument of the scan function. When you then execute the code (like to code chunk below, you will upload your own data.\n"
            ]
        },
        {
            "cell_type": "code",
            "execution_count": null,
            "metadata": {},
            "outputs": [],
            "source": [
                "mytext1 <- scan(file = \"linguistics01.txt\",\n",
                "            what = \"char\", \n",
                "            sep = \"\", \n",
                "            quote = \"\", \n",
                "            quiet = T, \n",
                "            skipNul = T) %>%\n",
                "            paste0(collapse = \" \")\n",
                "mytext2 <- scan(file = \"linguistics02.txt\",\n",
                "            what = \"char\", \n",
                "            sep = \"\", \n",
                "            quote = \"\", \n",
                "            quiet = T, \n",
                "            skipNul = T) %>%\n",
                "            paste0(collapse = \" \")\n",
                "# inspect\n",
                "mytext1; mytext2\n"
            ]
        },
        {
            "cell_type": "markdown",
            "metadata": {},
            "source": [
                "**Keep in mind though that you need to adapt the names of the texts in the code chunks below so that the code below work on your own texts!**\n",
                "\n",
                "***\n",
                "\n",
                "\n",
                "\n",
                "## Model calculation\n",
                "\n",
                "After the preprocessing, we have two corpus objects: `processedCorpus`, on which we calculate an LDA topic model (Blei, Ng, and Jordan 2003). To this end, *stopwords*, i.e. function words that have relational rather than content meaning,  were removed, words were stemmed and converted to lowercase letters and special characters were removed. The second corpus object `corpus` serves to be able to view the original texts and thus to facilitate a qualitative control of the topic model results.\n",
                "\n",
                "We now calculate a topic model on the `processedCorpus`. For this purpose, a DTM of the corpus is created. In this case, we only want to consider terms that occur with a certain minimum frequency in the body. This is primarily used to speed up the model calculation.\n"
            ]
        },
        {
            "cell_type": "code",
            "execution_count": null,
            "metadata": {},
            "outputs": [],
            "source": [
                "# compute document term matrix with terms >= minimumFrequency\n",
                "minimumFrequency <- 5\n",
                "DTM <- DocumentTermMatrix(processedCorpus, control = list(bounds = list(global = c(minimumFrequency, Inf))))\n",
                "# have a look at the number of documents and terms in the matrix\n",
                "dim(DTM)\n",
                "# due to vocabulary pruning, we have empty rows in our DTM\n",
                "# LDA does not like this. So we remove those docs from the\n",
                "# DTM and the metadata\n",
                "sel_idx <- slam::row_sums(DTM) > 0\n",
                "DTM <- DTM[sel_idx, ]\n",
                "textdata <- textdata[sel_idx, ]\n"
            ]
        },
        {
            "cell_type": "markdown",
            "metadata": {},
            "source": [
                "As an unsupervised machine learning method, topic models are suitable for the exploration of data. The calculation of topic models aims to determine the proportionate composition of a fixed number of topics in the documents of a collection. It is useful to experiment with different parameters in order to find the most suitable parameters for your own analysis needs.\n",
                "\n",
                "For parameterized models such as Latent Dirichlet Allocation (LDA), the number of topics `K` is the most important parameter to define in advance. How an optimal `K` should be selected depends on various factors. If `K` is too small, the collection is divided into a few very general semantic contexts. If `K` is too large, the collection is divided into too many topics of which some may overlap and others are hardly interpretable.\n",
                "\n",
                "An alternative to deciding on a set number of topics is to extract parameters form a models using a rage of number of topics. This approach can be useful when the number of topics is not theoretically motivated or based on closer, qualitative inspection of the data. In the example below, the determination of the optimal number of topics follows Murzintcev (2020), but we only use two metrics (*CaoJuan2009* and *Deveaud2014*) - it is highly recommendable to inspect the results of the four metrics available for the `FindTopicsNumber` function (*Griffiths2004*, *CaoJuan2009*, *Arun2010*, and *Deveaud2014*). \n"
            ]
        },
        {
            "cell_type": "code",
            "execution_count": null,
            "metadata": {},
            "outputs": [],
            "source": [
                "# create models with different number of topics\n",
                "result <- ldatuning::FindTopicsNumber(\n",
                "  DTM,\n",
                "  topics = seq(from = 2, to = 20, by = 1),\n",
                "  metrics = c(\"CaoJuan2009\",  \"Deveaud2014\"),\n",
                "  method = \"Gibbs\",\n",
                "  control = list(seed = 77),\n",
                "  verbose = TRUE\n",
                ")\n"
            ]
        },
        {
            "cell_type": "markdown",
            "metadata": {},
            "source": [
                "We can now plot the results. In this case, we have only use two methods *CaoJuan2009* and *Griffith2004*. The best number of topics shows low values for *CaoJuan2009* and high values for *Griffith2004* (optimally, several methods should converge and show peaks and dips respectively for a certain number of topics).\n",
                "\n"
            ]
        },
        {
            "cell_type": "code",
            "execution_count": null,
            "metadata": {},
            "outputs": [],
            "source": [
                "FindTopicsNumber_plot(result)\n",
                "\n"
            ]
        },
        {
            "cell_type": "markdown",
            "metadata": {},
            "source": [
                "For our first analysis, however, we choose a thematic \"resolution\" of `K = 20` topics. In contrast to a resolution of 100 or more, this number of topics can be evaluated qualitatively very easy.\n",
                "\n"
            ]
        },
        {
            "cell_type": "code",
            "execution_count": null,
            "metadata": {},
            "outputs": [],
            "source": [
                "# number of topics\n",
                "K <- 20\n",
                "# set random number generator seed\n",
                "set.seed(9161)\n",
                "# compute the LDA model, inference via 1000 iterations of Gibbs sampling\n",
                "topicModel <- LDA(DTM, K, method=\"Gibbs\", control=list(iter = 500, verbose = 25))\n"
            ]
        },
        {
            "cell_type": "markdown",
            "metadata": {},
            "source": [
                "Depending on the size of the vocabulary, the collection size and the number K, the inference of topic models can take a very long time. This calculation may take several minutes. If it takes too long, reduce the vocabulary in the DTM by increasing the minimum frequency in the previous step.\n",
                "\n",
                "The topic model inference results in two (approximate) posterior probability distributions: a distribution `theta` over K topics within each document and a distribution `beta` over V terms within each topic, where V represents the length of the vocabulary of the collection (V = `r nTerms(DTM)`). Let's take a closer look at these results:\n"
            ]
        },
        {
            "cell_type": "code",
            "execution_count": null,
            "metadata": {},
            "outputs": [],
            "source": [
                "# have a look a some of the results (posterior distributions)\n",
                "tmResult <- posterior(topicModel)\n",
                "# format of the resulting object\n",
                "attributes(tmResult)\n",
                "nTerms(DTM)              # lengthOfVocab\n",
                "# topics are probability distributions over the entire vocabulary\n",
                "beta <- tmResult$terms   # get beta from results\n",
                "dim(beta)                # K distributions over nTerms(DTM) terms\n",
                "rowSums(beta)            # rows in beta sum to 1\n",
                "nDocs(DTM)               # size of collection\n",
                "# for every document we have a probability distribution of its contained topics\n",
                "theta <- tmResult$topics \n",
                "dim(theta)               # nDocs(DTM) distributions over K topics\n",
                "rowSums(theta)[1:10]     # rows in theta sum to 1\n"
            ]
        },
        {
            "cell_type": "markdown",
            "metadata": {},
            "source": [
                "Let's take a look at the 10 most likely terms within the term probabilities `beta` of the inferred topics (only the first 8 are shown below).\n",
                "\n"
            ]
        },
        {
            "cell_type": "code",
            "execution_count": null,
            "metadata": {},
            "outputs": [],
            "source": [
                "terms(topicModel, 10)\n",
                "\n"
            ]
        },
        {
            "cell_type": "markdown",
            "metadata": {},
            "source": "\n"
        },
        {
            "cell_type": "code",
            "execution_count": null,
            "metadata": {},
            "outputs": [],
            "source": [
                "exampleTermData <- terms(topicModel, 10)\n",
                "exampleTermData[, 1:8]\n"
            ]
        },
        {
            "cell_type": "markdown",
            "metadata": {},
            "source": [
                "For the next steps, we want to give the topics more descriptive names than just numbers. Therefore, we simply concatenate the five most likely terms of each topic to a string that represents a pseudo-name for each topic.\n",
                "\n"
            ]
        },
        {
            "cell_type": "code",
            "execution_count": null,
            "metadata": {},
            "outputs": [],
            "source": [
                "top5termsPerTopic <- terms(topicModel, 5)\n",
                "topicNames <- apply(top5termsPerTopic, 2, paste, collapse=\" \")\n"
            ]
        },
        {
            "cell_type": "markdown",
            "metadata": {},
            "source": [
                "## Visualization of Words and Topics\n",
                "\n",
                "Although wordclouds may not be optimal for scientific purposes they can provide a quick visual overview of a set of terms. Let's look at some topics as wordcloud.\n",
                "\n",
                "In the following code, you can change the variable **topicToViz** with values between 1 and 20 to display other topics.\n"
            ]
        },
        {
            "cell_type": "code",
            "execution_count": null,
            "metadata": {},
            "outputs": [],
            "source": [
                "# visualize topics as word cloud\n",
                "topicToViz <- 11 # change for your own topic of interest\n",
                "topicToViz <- grep('mexico', topicNames)[1] # Or select a topic by a term contained in its name\n",
                "# select to 40 most probable terms from the topic by sorting the term-topic-probability vector in decreasing order\n",
                "top40terms <- sort(tmResult$terms[topicToViz,], decreasing=TRUE)[1:40]\n",
                "words <- names(top40terms)\n",
                "# extract the probabilites of each of the 40 terms\n",
                "probabilities <- sort(tmResult$terms[topicToViz,], decreasing=TRUE)[1:40]\n",
                "# visualize the terms as wordcloud\n",
                "mycolors <- brewer.pal(8, \"Dark2\")\n",
                "wordcloud(words, probabilities, random.order = FALSE, color = mycolors)\n"
            ]
        },
        {
            "cell_type": "markdown",
            "metadata": {},
            "source": [
                "Let us now look more closely at the distribution of topics within individual documents. To this end, we visualize the distribution in 3 sample documents.\n",
                "\n",
                "Let us first take a look at the contents of three sample documents:\n"
            ]
        },
        {
            "cell_type": "code",
            "execution_count": null,
            "metadata": {},
            "outputs": [],
            "source": [
                "exampleIds <- c(2, 100, 200)\n",
                "lapply(corpus[exampleIds], as.character)\n"
            ]
        },
        {
            "cell_type": "markdown",
            "metadata": {},
            "source": "\n"
        },
        {
            "cell_type": "code",
            "execution_count": null,
            "metadata": {},
            "outputs": [],
            "source": [
                "exampleIds <- c(2, 100, 200)\n",
                "print(paste0(exampleIds[1], \": \", substr(content(corpus[[exampleIds[1]]]), 0, 400), '...'))\n",
                "print(paste0(exampleIds[2], \": \", substr(content(corpus[[exampleIds[2]]]), 0, 400), '...'))\n",
                "print(paste0(exampleIds[3], \": \", substr(content(corpus[[exampleIds[3]]]), 0, 400), '...'))\n"
            ]
        },
        {
            "cell_type": "markdown",
            "metadata": {},
            "source": [
                "After looking into the documents, we visualize the topic distributions within the documents.\n",
                "\n"
            ]
        },
        {
            "cell_type": "code",
            "execution_count": null,
            "metadata": {},
            "outputs": [],
            "source": [
                "N <- length(exampleIds)\n",
                "# get topic proportions form example documents\n",
                "topicProportionExamples <- theta[exampleIds,]\n",
                "colnames(topicProportionExamples) <- topicNames\n",
                "vizDataFrame <- melt(cbind(data.frame(topicProportionExamples), document = factor(1:N)), variable.name = \"topic\", id.vars = \"document\")  \n",
                "ggplot(data = vizDataFrame, aes(topic, value, fill = document), ylab = \"proportion\") + \n",
                "  geom_bar(stat=\"identity\") +\n",
                "  theme(axis.text.x = element_text(angle = 90, hjust = 1)) +  \n",
                "  coord_flip() +\n",
                "  facet_wrap(~ document, ncol = N)\n"
            ]
        },
        {
            "cell_type": "markdown",
            "metadata": {},
            "source": [
                "## Topic distributions\n",
                "\n",
                "The figure above shows how topics within a document are distributed according to the model. In the current model all three documents show at least a small percentage of each topic. However, two to three topics dominate each document.\n",
                "\n",
                "The topic distribution within a document can be controlled with the *Alpha*-parameter of the model. Higher alpha priors for topics result in an even distribution of topics within a document. Low alpha priors ensure that the inference process distributes the probability mass on a few topics for each document. \n",
                "\n",
                "In the previous model calculation the alpha-prior was automatically estimated in order to fit to the data (highest overall probability of the model). However, this automatic estimate does not necessarily correspond to the results that one would like to have as an analyst. Depending on our analysis interest, we might be interested in a more peaky/more even distribution of topics in the model. \n",
                "\n",
                "Now let us change the alpha prior to a lower value to see how this affects the topic distributions in the model.\n"
            ]
        },
        {
            "cell_type": "code",
            "execution_count": null,
            "metadata": {},
            "outputs": [],
            "source": [
                "# see alpha from previous model\n",
                "attr(topicModel, \"alpha\") \n"
            ]
        },
        {
            "cell_type": "markdown",
            "metadata": {},
            "source": "\n"
        },
        {
            "cell_type": "code",
            "execution_count": null,
            "metadata": {},
            "outputs": [],
            "source": [
                "topicModel2 <- LDA(DTM, K, method=\"Gibbs\", control=list(iter = 500, verbose = 25, alpha = 0.2))\n",
                "tmResult <- posterior(topicModel2)\n",
                "theta <- tmResult$topics\n",
                "beta <- tmResult$terms\n",
                "topicNames <- apply(terms(topicModel2, 5), 2, paste, collapse = \" \")  # reset topicnames\n"
            ]
        },
        {
            "cell_type": "markdown",
            "metadata": {},
            "source": [
                "Now visualize the topic distributions in the three documents again. What are the differences in the distribution structure?\n",
                "\n"
            ]
        },
        {
            "cell_type": "code",
            "execution_count": null,
            "metadata": {},
            "outputs": [],
            "source": [
                "# get topic proportions form example documents\n",
                "topicProportionExamples <- theta[exampleIds,]\n",
                "colnames(topicProportionExamples) <- topicNames\n",
                "vizDataFrame <- melt(cbind(data.frame(topicProportionExamples), document = factor(1:N)), variable.name = \"topic\", id.vars = \"document\")  \n",
                "ggplot(data = vizDataFrame, aes(topic, value, fill = document), ylab = \"proportion\") + \n",
                "  geom_bar(stat=\"identity\") +\n",
                "  theme(axis.text.x = element_text(angle = 90, hjust = 1)) +  \n",
                "  coord_flip() +\n",
                "  facet_wrap(~ document, ncol = N)\n"
            ]
        },
        {
            "cell_type": "markdown",
            "metadata": {},
            "source": [
                "## Topic ranking\n",
                "\n",
                "First, we try to get a more meaningful order of top terms per topic by re-ranking them with a specific score (Chang et al. 2009). The idea of re-ranking terms is similar to the idea of TF-IDF. The more a term appears in top levels w.r.t. its probability, the less meaningful it is to describe the topic. Hence, the scoring advanced favors terms to describe a topic.\n"
            ]
        },
        {
            "cell_type": "code",
            "execution_count": null,
            "metadata": {},
            "outputs": [],
            "source": [
                "# re-rank top topic terms for topic names\n",
                "topicNames <- apply(lda::top.topic.words(beta, 5, by.score = T), 2, paste, collapse = \" \")\n"
            ]
        },
        {
            "cell_type": "markdown",
            "metadata": {},
            "source": [
                "What are the defining topics within a collection? There are different approaches to find out which can be used to bring the topics into a certain order.\n",
                "\n",
                "### Approach 1\n",
                "\n",
                "We sort topics according to their probability within the entire collection:\n"
            ]
        },
        {
            "cell_type": "code",
            "execution_count": null,
            "metadata": {},
            "outputs": [],
            "source": [
                "# What are the most probable topics in the entire collection?\n",
                "topicProportions <- colSums(theta) / nDocs(DTM)  # mean probabilities over all paragraphs\n",
                "names(topicProportions) <- topicNames     # assign the topic names we created before\n",
                "sort(topicProportions, decreasing = TRUE) # show summed proportions in decreased order\n"
            ]
        },
        {
            "cell_type": "markdown",
            "metadata": {},
            "source": [
                "\n",
                "\n"
            ]
        },
        {
            "cell_type": "code",
            "execution_count": null,
            "metadata": {},
            "outputs": [],
            "source": [
                "soP <- sort(topicProportions, decreasing = TRUE)\n",
                "paste(round(soP, 5), \":\", names(soP))\n"
            ]
        },
        {
            "cell_type": "markdown",
            "metadata": {},
            "source": [
                "We recognize some topics that are way more likely to occur in the corpus than others. These describe rather general thematic coherence. Other topics correspond more to specific contents. \n",
                "\n",
                "### Approach 2\n",
                "\n",
                "We count how often a topic appears as a primary topic within a paragraph This method is also called Rank-1.\n"
            ]
        },
        {
            "cell_type": "code",
            "execution_count": null,
            "metadata": {},
            "outputs": [],
            "source": [
                "countsOfPrimaryTopics <- rep(0, K)\n",
                "names(countsOfPrimaryTopics) <- topicNames\n",
                "for (i in 1:nDocs(DTM)) {\n",
                "  topicsPerDoc <- theta[i, ] # select topic distribution for document i\n",
                "  # get first element position from ordered list\n",
                "  primaryTopic <- order(topicsPerDoc, decreasing = TRUE)[1] \n",
                "  countsOfPrimaryTopics[primaryTopic] <- countsOfPrimaryTopics[primaryTopic] + 1\n",
                "}\n",
                "sort(countsOfPrimaryTopics, decreasing = TRUE)\n"
            ]
        },
        {
            "cell_type": "markdown",
            "metadata": {},
            "source": [
                "\n",
                "\n"
            ]
        },
        {
            "cell_type": "code",
            "execution_count": null,
            "metadata": {},
            "outputs": [],
            "source": [
                "so <- sort(countsOfPrimaryTopics, decreasing = TRUE)\n",
                "paste(so, \":\", names(so))\n"
            ]
        },
        {
            "cell_type": "markdown",
            "metadata": {},
            "source": [
                "We see that sorting topics by the  Rank-1 method places topics with rather specific thematic coherences in upper ranks of the list. \n",
                "\n",
                "This sorting of topics can be used for further analysis steps such as the semantic interpretation of topics found in the collection, the analysis of time series of the most important topics or the filtering of the original collection based on specific sub-topics.\n",
                "\n",
                "## Filtering documents\n",
                "\n",
                "The fact that a topic model conveys of topic probabilities for each document, resp. paragraph in our case, makes it possible to use it for thematic filtering of a collection. AS filter we select only those documents which exceed a certain threshold of their probability value for certain topics (for example, each document which contains topic `X` to more than 20 percent).\n",
                "\n",
                "In the following, we will select documents based on their topic content and display the resulting document quantity over time.\n"
            ]
        },
        {
            "cell_type": "code",
            "execution_count": null,
            "metadata": {},
            "outputs": [],
            "source": [
                "topicToFilter <- 6  # you can set this manually ...\n",
                "# ... or have it selected by a term in the topic name (e.g. 'children')\n",
                "topicToFilter <- grep('children', topicNames)[1] \n",
                "topicThreshold <- 0.2\n",
                "selectedDocumentIndexes <- which(theta[, topicToFilter] >= topicThreshold)\n",
                "filteredCorpus <- corpus[selectedDocumentIndexes]\n",
                "# show length of filtered corpus\n",
                "filteredCorpus\n"
            ]
        },
        {
            "cell_type": "markdown",
            "metadata": {},
            "source": [
                "Our filtered corpus contains `r length(filteredCorpus)` documents related to the topic `r topicToFilter` to at least 20 %.\n",
                "\n",
                "## Topic proportions over time\n",
                "\n",
                "In a last step, we provide a distant view on the topics in the data over time. For this, we aggregate mean topic proportions per decade of all SOTU speeches. These aggregated topic proportions can then be visualized, e.g. as a bar plot. \n"
            ]
        },
        {
            "cell_type": "code",
            "execution_count": null,
            "metadata": {},
            "outputs": [],
            "source": [
                "# append decade information for aggregation\n",
                "textdata$decade <- paste0(substr(textdata$date, 0, 3), \"0\")\n",
                "# get mean topic proportions per decade\n",
                "topic_proportion_per_decade <- aggregate(theta, by = list(decade = textdata$decade), mean)\n",
                "# set topic names to aggregated columns\n",
                "colnames(topic_proportion_per_decade)[2:(K+1)] <- topicNames\n",
                "# reshape data frame\n",
                "vizDataFrame <- melt(topic_proportion_per_decade, id.vars = \"decade\")\n",
                "# plot topic proportions per decade as bar plot\n",
                "ggplot(vizDataFrame, aes(x=decade, y=value, fill=variable)) + \n",
                "  geom_bar(stat = \"identity\") + ylab(\"proportion\") + \n",
                "  scale_fill_manual(values = paste0(alphabet(20), \"FF\"), name = \"decade\") + \n",
                "  theme(axis.text.x = element_text(angle = 90, hjust = 1))\n"
            ]
        },
        {
            "cell_type": "markdown",
            "metadata": {},
            "source": [
                "The visualization shows that topics around the relation between the federal government and the states as well as inner conflicts clearly dominate the first decades. Security issues and the economy are the most important topics of recent SOTU addresses.\n",
                "\n",
                "\n",
                "***\n",
                "\n",
                "[Back to LADAL](https://ladal.edu.au/topicmodels.html)\n",
                "\n",
                "***\n",
                "\n",
                "# References\n",
                "\n",
                "Blei, David M., Andrew Y. Ng, and Michael I. Jordan. 2003. Latent Dirichlet Allocation. *Journal of Machine Learning Research* 3 (3): 993–1022.\n",
                "\n",
                "Chang, Jonathan, Sean Gerrish, Chong Wang, Jordan L. Boyd-graber, and David M. Blei. 2009. “Reading Tea Leaves: How Humans Interpret Topic Models.” In  Yoshua Bengio, Dale Schuurmans, John D. Lafferty, Christopher K. Williams, and Aron Culotta (eds.), *Advances in Neural Information Processing Systems 22*, 288–96. Curran. http://papers.nips.cc/paper/3700-reading-tea-leaves-how-humans-interpret-topic-models.pdf.\n",
                "\n",
                "Murzintcev, Nikita. 2020 “Select Number of Topics for Lda Model.” https://cran.r-project.org/web/packages/ldatuning/vignettes/topics.html.\n",
                "\n",
                "Silge, Julia, and David Robinson. 2017. *Text Mining with R: A Tidy Approach*. O’Reilly Media, Inc.\n",
                "\n",
                "Wiedemann, Gregor, and Andreas Niekler. 2017. Hands-on: A Five Day Text Mining Course for Humanists and Social Scientists in R. In *Proceedings of the Workshop on Teaching NLP for Digital Humanities (Teach4DH)*, Berlin, Germany, September 12, 2017., 57–65. http://ceur-ws.org/Vol-1918/wiedemann.pdf.\n"
            ]
        }
    ],
    "metadata": {
        "anaconda-cloud": "",
        "kernelspec": {
            "display_name": "R",
            "langauge": "R",
            "name": "ir"
        },
        "language_info": {
            "codemirror_mode": "r",
            "file_extension": ".r",
            "mimetype": "text/x-r-source",
            "name": "R",
            "pygments_lexer": "r",
            "version": "3.4.1"
        }
    },
    "nbformat": 4,
    "nbformat_minor": 1
}
