{
    "cells": [
        {
            "cell_type": "markdown",
            "metadata": {},
            "source": [
                "![An interactive LADAL notebook](https://slcladal.github.io/images/uq1.jpg)\n",
                "\n",
                "# Semantic Vector Space Models in R\n",
                "\n",
                "This tutorial is the interactive Jupyter notebook accompanying the [*Language Technology and Data Analysis Laboratory* (LADAL) tutorial *Semantic Vector Space Models in R*](https://ladal.edu.au/svm.html). The tutorial provides more details and background information while this interactive notebook focuses strictly on practical aspects.\n",
                "\n",
                "\n",
                "**Preparation and session set up**\n",
                "\n",
                "We set up our session by activating the packages we need for this tutorial. \n"
            ]
        },
        {
            "cell_type": "code",
            "execution_count": null,
            "metadata": {},
            "outputs": [],
            "source": [
                "# activate packages\n",
                "library(coop)\n",
                "library(dplyr)\n",
                "library(tm)\n",
                "library(cluster)\n"
            ]
        },
        {
            "cell_type": "markdown",
            "metadata": {},
            "source": [
                "Once you have initiated the session by executing the code shown above, you are good to go.\n",
                "\n",
                "If you are using this notebook on your own computer and you have not already installed the R packages listed above, you need to install them. You can install them by replacing the `library` command with `install.packages` and putting the name of the package into quotation marks like this: `install.packages(\"dplyr\")`. Then, you simply run this command and R will install the package you specified.\n",
                "\n",
                "\n",
                "***\n",
                "\n",
                "## Using your own data\n",
                "\n",
                "While the tutorial uses data from the LADAL website, you can also use your own data. You can see below what you need to do to upload and use your own data.\n",
                "\n",
                "The code chunk below allows you to upload two files from your own computer. To be able to load your own data, you need to click on the folder symbol to the left of the screen:\n",
                "\n",
                "![Binder Folder Symbol](https://slcladal.github.io/images/binderfolder.JPG)\n",
                "\n",
                "\n",
                "Then on the upload symbol.\n",
                "\n",
                "![Binder Upload Symbol](https://slcladal.github.io/images/binderupload.JPG)\n",
                "\n",
                "Next, upload the files you want to analyze and then the respective files names in the file argument of the scan function. When you then execute the code (like to code chunk below, you will upload your own data.\n"
            ]
        },
        {
            "cell_type": "code",
            "execution_count": null,
            "metadata": {},
            "outputs": [],
            "source": [
                "mytable1 <- openxlsx::read.xlsx(\"testdata1.xlsx\", sheet = 1)\n",
                "# inspect\n",
                "mytable1\n"
            ]
        },
        {
            "cell_type": "markdown",
            "metadata": {},
            "source": [
                "**Keep in mind though that you need to adapt the names of the files in the code chunks below so that the code below work on your own data!**\n",
                "\n",
                "***\n",
                "\n",
                "# Example: Similarity among adjective amplifiers\n",
                "\n",
                "Adjective amplifiers are degree adverbs such as *very*, *really*, or *awfully* as those shown in 1. to 5.\n",
                "\n",
                "1. The *very*~amplifier~ *nice*~adjective~ man.\n",
                "2. A *truely*~amplifier~ *remarkable*~adjective~ woman. \n",
                "2. He was *really*~amplifier~ *hesitant*~adjective~.\n",
                "4. The child was *awefully*~amplifier~ *loud*~adjective~.\n",
                "5. The festival was *so*~amplifier~ *amazing*~adjective~!\n",
                "\n",
                "We start by loading an already existing data set containing amplifer-adjective bigrams.\n"
            ]
        },
        {
            "cell_type": "code",
            "execution_count": null,
            "metadata": {},
            "outputs": [],
            "source": [
                "# load data\n",
                "vsmdata <- read.delim(\"https://slcladal.github.io/data/vsmdata.txt\",\n",
                "                      sep = \"\\t\", header = T)\n",
                "# inspect\n",
                "head(vsmdata)\n"
            ]
        },
        {
            "cell_type": "markdown",
            "metadata": {},
            "source": [
                "For this tutorial, we remove adjectives that were not amplified (as well as adjectives modified by *much* or *many*) and collapse all adjectives that occur less than 10 times into a bin category (*other*).\n",
                "\n"
            ]
        },
        {
            "cell_type": "code",
            "execution_count": null,
            "metadata": {},
            "outputs": [],
            "source": [
                "# simplify data\n",
                "vsmdata_simp <- vsmdata %>%\n",
                "  # remove non-amplifier adjectives\n",
                "  dplyr::filter(Amplifier != 0,\n",
                "         Adjective != \"many\",\n",
                "         Adjective != \"much\") %>%\n",
                "  # collapse infrequent adjectives\n",
                "  dplyr::group_by(Adjective) %>%\n",
                "  dplyr::mutate(AdjFreq = dplyr::n()) %>%\n",
                "  dplyr::ungroup() %>%\n",
                "  dplyr::mutate(Adjective = ifelse(AdjFreq > 10, Adjective, \"other\")) %>%\n",
                "  dplyr::filter(Adjective != \"other\") %>%\n",
                "  dplyr::select(-AdjFreq)\n",
                "# inspect\n",
                "head(vsmdata_simp)\n"
            ]
        },
        {
            "cell_type": "markdown",
            "metadata": {},
            "source": [
                "In a next step, we create a text-document matrix or tdm.\n",
                "\n"
            ]
        },
        {
            "cell_type": "code",
            "execution_count": null,
            "metadata": {},
            "outputs": [],
            "source": [
                "# tabulate data (create term-document matrix)\n",
                "tdm <- ftable(vsmdata_simp$Adjective, vsmdata_simp$Amplifier)\n",
                "# extract amplifiers and adjectives \n",
                "amplifiers <- as.vector(unlist(attr(tdm, \"col.vars\")[1]))\n",
                "adjectives <- as.vector(unlist(attr(tdm, \"row.vars\")[1]))\n",
                "# attach row and column names to tdm\n",
                "rownames(tdm) <- adjectives\n",
                "colnames(tdm) <- amplifiers\n",
                "# inspect data\n",
                "tdm[1:5, 1:5]\n"
            ]
        },
        {
            "cell_type": "markdown",
            "metadata": {},
            "source": [
                "Now that we have a term document matrix, we want to remove adjectives that were never amplified. \n",
                "\n"
            ]
        },
        {
            "cell_type": "code",
            "execution_count": null,
            "metadata": {},
            "outputs": [],
            "source": [
                "# convert frequencies greater than 1 into 1\n",
                "tdm <- t(apply(tdm, 1, function(x){ifelse(x > 1, 1, x)}))\n",
                "# remove adjectives that we never amplified\n",
                "tdm <- tdm[which(rowSums(tdm) > 1),]\n",
                "# inspect data\n",
                "tdm[1:5, 1:5]\n"
            ]
        },
        {
            "cell_type": "markdown",
            "metadata": {},
            "source": [
                "In a next step, we extract the expected values of the co-occurrences if the amplifiers were distributed homogeneously and calculate the *Pointwise Mutual Information* (PMI) score and use that to then calculate the *Positive Pointwise Mutual Information* (PPMI) scores. \n",
                "\n"
            ]
        },
        {
            "cell_type": "code",
            "execution_count": null,
            "metadata": {},
            "outputs": [],
            "source": [
                "# compute expected values\n",
                "tdm.exp <- chisq.test(tdm)$expected\n",
                "# calculate PMI and PPMI\n",
                "PMI <- log2(tdm/tdm.exp)\n",
                "PPMI <- ifelse(PMI < 0, 0, PMI)\n",
                "# calculate cosine similarity\n",
                "cosinesimilarity <- cosine(PPMI)\n",
                "# inspect cosine values\n",
                "cosinesimilarity[1:5, 1:5]\n"
            ]
        },
        {
            "cell_type": "markdown",
            "metadata": {},
            "source": [
                "As we have now obtained a similarity measure, we can go ahead and perform a cluster analysis on these similarity values. However, as we have to extract the maximum values in the similarity matrix that is not 1 as we will use this to create a distance matrix.\n",
                "\n"
            ]
        },
        {
            "cell_type": "code",
            "execution_count": null,
            "metadata": {},
            "outputs": [],
            "source": [
                "# find max value that is not 1\n",
                "cosinesimilarity.test <- apply(cosinesimilarity, 1, function(x){\n",
                "  x <- ifelse(x == 1, 0, x) } )\n",
                "maxval <- max(cosinesimilarity.test)\n",
                "# create distance matrix\n",
                "amplifier.dist <- 1 - (cosinesimilarity/maxval)\n",
                "clustd <- as.dist(amplifier.dist)\n"
            ]
        },
        {
            "cell_type": "markdown",
            "metadata": {},
            "source": [
                "In a next step, we want to determine the optimal number of clusters. \n",
                "\n"
            ]
        },
        {
            "cell_type": "code",
            "execution_count": null,
            "metadata": {},
            "outputs": [],
            "source": [
                "# find optimal number of clusters\n",
                "asw <- as.vector(unlist(sapply(2:nrow(tdm)-1, function(x) pam(clustd, k = x)$silinfo$avg.width)))\n",
                "# determine the optimal number of clusters (max width is optimal)\n",
                "optclust <- which(asw == max(asw))+1 # optimal number of clusters\n",
                "# inspect clustering with optimal number of clusters\n",
                "amplifier.clusters <- pam(clustd, optclust)\n",
                "# inspect cluster solution\n",
                "amplifier.clusters$clustering\n"
            ]
        },
        {
            "cell_type": "markdown",
            "metadata": {},
            "source": [
                "In a next step, we visualize the results of the semantic vector space model as a dendrogram.\n",
                "\n"
            ]
        },
        {
            "cell_type": "code",
            "execution_count": null,
            "metadata": {},
            "outputs": [],
            "source": [
                "# create cluster object\n",
                "cd <- hclust(clustd, method=\"ward.D\")    \n",
                "# plot cluster object\n",
                "plot(cd, main = \"\", sub = \"\", yaxt = \"n\", ylab = \"\", xlab = \"\", cex = .8)\n",
                "# add colored rectangles around clusters\n",
                "rect.hclust(cd, k = 6, border = \"gray60\")\n"
            ]
        },
        {
            "cell_type": "markdown",
            "metadata": {},
            "source": [
                "The clustering solution shows that,  \n",
                "\n",
                "* *really*, *so*, and *very*  \n",
                "* *completely* and *totally*  \n",
                "* *enourmously* and *extremely*  \n",
                "* *abundantly* and *real*  \n",
                "* *bloody* and *particularly*  \n",
                "* *pretty* (by itself)\n",
                "\n",
                "form clusters and are thus more similar in their collocational profile to each other compared to amplifiers in different clusters. Also, this suggests that amplifiers in the same cluster are more interchangable compared with amplifiers in different clusters.\n",
                "\n",
                "\n",
                "***\n",
                "\n",
                "[Back to LADAL](https://ladal.edu.au/llr.html)\n",
                "\n",
                "***\n"
            ]
        }
    ],
    "metadata": {
        "anaconda-cloud": "",
        "kernelspec": {
            "display_name": "R",
            "langauge": "R",
            "name": "ir"
        },
        "language_info": {
            "codemirror_mode": "r",
            "file_extension": ".r",
            "mimetype": "text/x-r-source",
            "name": "R",
            "pygments_lexer": "r",
            "version": "3.4.1"
        }
    },
    "nbformat": 4,
    "nbformat_minor": 1
}
