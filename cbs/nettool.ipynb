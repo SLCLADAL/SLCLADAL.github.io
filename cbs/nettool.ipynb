{
    "cells": [
        {
            "cell_type": "markdown",
            "metadata": {},
            "source": [
                "![An interactive LADAL notebook](https://slcladal.github.io/images/uq1.jpg)\n",
                "\n",
                "\n",
                "This notebook-based tool accompanies the [Language Technology and Data Analysis Laboratory (LADAL) tutorial *Network Analysis using R*](https://ladal.edu.au/net.html). \n",
                "\n",
                "## Using your own data\n",
                "\n",
                "The data should be an MS excel spread sheet with three columns called \n",
                "\n",
                "  + `from` (start of the edge)   \n",
                "  + `to`  (end of the edge)   \n",
                "  + `s` (width / strength of the edge)  \n",
                "\n",
                "If you do not want to use this column, simply insert `1` for all cells in that column.\n",
                "\n",
                "The data should have the same structure as the example below:\n",
                "\n",
                "![Data format required for this notebook](https://slcladal.github.io/images/netdata.png)\n",
                "\n",
                "\n",
                "## Using your own data\n",
                "\n",
                "<div class=\"warning\" style='padding:0.1em; background-color: rgba(215,209,204,.3); color:#51247a'>\n",
                "<span>\n",
                "<p style='margin-top:1em; text-align:center'>\n",
                "To <b>use your own data<\/b>, click on the folder called <b>`MyTables`<\/b> (it is in the menu to the left of the screen) and then simply drag and drop your xlsx-file into the folder. <br>When you then execute the code chunk below, you will upload your own data and you can then use it in this notebook.<br>You can upload <b>only xlsx-files<\/b>! ! \n",
                "<br>\n",
                "<\/p>\n",
                "<p style='margin-left:1em;'>\n",
                "<\/p><\/span>\n",
                "<\/div>\n",
                "\n",
                "<br>\n"
            ]
        },
        {
            "cell_type": "code",
            "execution_count": null,
            "metadata": {},
            "outputs": [],
            "source": [
                "# load function that loads xlsx data\n",
                "source(\"https://slcladal.github.io/rscripts/loadnetdata.R\")\n",
                "# load texts\n",
                "ed <- loadnetdata(\"notebooks/MyTables\")\n",
                "# inspect the structure of the data\n",
                "ed\n"
            ]
        },
        {
            "cell_type": "markdown",
            "metadata": {},
            "source": [
                "We generate the network with the `netplot` function. This function has the following arguments: \n",
                "\n",
                "\n",
                "+ `x`: a data frame with the columns `from`, to`, and `s`  \n",
                "+ `edge_col`: color of the edges (default = `gray80`),  \n",
                "+ `edge_curv`: curvature of the edges that ranges from 0 (no curvature) to 1 (extreme curvature) (default = 0.2),  \n",
                "+ `node_tran`: node transparency that ranges from from 0 (absolute transparency) to 1 (no transparency) (default = 0.2),  \n",
                "+ `n_min`: minimum label size (default = 5),   \n",
                "+ `n_max`: maximum label size (default = 10),  \n",
                "+ `n_col`: node color (default = `gray10`),\n"
            ]
        },
        {
            "cell_type": "code",
            "execution_count": null,
            "metadata": {},
            "outputs": [],
            "source": [
                "# load function that generates a network graph\n",
                "source(\"https://slcladal.github.io/rscripts/netplot.R\")\n",
                "# plot the network\n",
                "netplot(x = ed, edge_col = \"gray80\", edge_curv= .2, node_tran = .2, n_min = 5, n_max = 10, n_col = \"gray10\")\n"
            ]
        },
        {
            "cell_type": "markdown",
            "metadata": {},
            "source": [
                "## Exporting images\n",
                "\n",
                "To export network graph as an png-file, we use `ggsave`. Be aware that we use the `here` function to save the file in the `MyOutput` folder.\n",
                "\n",
                "The `ggsave` function has the following main arguments:\n",
                "\n",
                "+ `filename`: File name to create on disk.    \n",
                "+ `device`: Device to use. Can either be a device function (e.g. png), or one of \"eps\", \"ps\", \"tex\" (pictex), \"pdf\", \"jpeg\", \"tiff\", \"png\", \"bmp\", \"svg\" or \"wmf\" (windows only). If NULL (default), the device is guessed based on the filename extension  \n",
                "+ `path`: Path of the directory to save plot to: path and filename are combined to create the fully qualified file name. Defaults to the working directory.  \n",
                "+ `width, height`: Plot size in units expressed by the units argument. If not supplied, uses the size of the current graphics device.  \n",
                "+ `units`: One of the following units in which the width and height arguments are expressed: \"in\", \"cm\", \"mm\" or \"px\".  \n",
                "+ `dpi`: Plot resolution. Also accepts a string input: \"retina\" (320), \"print\" (300), or \"screen\" (72). Applies only to raster output types.  \n",
                "+ `bg`: Background colour. If NULL, uses the plot.background fill value from the plot theme.  \n"
            ]
        },
        {
            "cell_type": "code",
            "execution_count": null,
            "metadata": {},
            "outputs": [],
            "source": [
                "# save network graph for MyOutput folder\n",
                "ggsave(here::here(\"notebooks/MyOutput/image_01.png\"), bg = \"white\")\n"
            ]
        },
        {
            "cell_type": "markdown",
            "metadata": {},
            "source": [
                "<div class=\"warning\" style='padding:0.1em; background-color: rgba(215,209,204,.3); color:#51247a'>\n",
                "<span>\n",
                "<p style='margin-top:1em; text-align:center'>\n",
                "<b>You will find the image-file named *image_01.png* in the `MyOutput` folder (located on the left side of the screen).<\/b> <br><br>Simply double-click the `MyOutput` folder icon, then right-click on the *image_01.png* file, and choose Download from the dropdown menu to download the file. <br>\n",
                "<\/p>\n",
                "<p style='margin-left:1em;'>\n",
                "<\/p><\/span>\n",
                "<\/div>\n",
                "\n",
                "<br>\n",
                "\n",
                "\n",
                "\n",
                "***\n",
                "\n",
                "# Citation & Session Info\n",
                "\n",
                "Schweinberger, Martin. (2024)` *LADAL Network-Analysis Tool*. Brisbane: The University of Queensland. url: https://ladal.edu.au/tools.html (Version 2024.04.21).\n"
            ]
        },
        {
            "cell_type": "code",
            "execution_count": null,
            "metadata": {},
            "outputs": [],
            "source": [
                "@manual{schweinberger2024nettool,\n",
                "  author = {Schweinberger, Martin},\n",
                "  title = {LADAL Network-Analysis Tool},\n",
                "  note = {https://ladal.edu.au/tools.html},\n",
                "  year = {2024},\n",
                "  organization = {The University of Queensland, School of Languages and Cultures},\n",
                "  address = {Brisbane},\n",
                "  edition = {2024.04.21}\n",
                "}\n"
            ]
        },
        {
            "cell_type": "markdown",
            "metadata": {},
            "source": [
                "[Back to LADAL](https://ladal.edu.au/net.html)\n",
                "\n",
                "***\n"
            ]
        },
        {
            "cell_type": "code",
            "execution_count": null,
            "metadata": {},
            "outputs": [],
            "source": [
                "sessionInfo()\n",
                "\n"
            ]
        },
        {
            "cell_type": "markdown",
            "metadata": {},
            "source": [
                "\n",
                "\n"
            ]
        }
    ],
    "metadata": {
        "anaconda-cloud": "",
        "kernelspec": {
            "display_name": "R",
            "langauge": "R",
            "name": "ir"
        },
        "language_info": {
            "codemirror_mode": "r",
            "file_extension": ".r",
            "mimetype": "text/x-r-source",
            "name": "R",
            "pygments_lexer": "r",
            "version": "3.4.1"
        }
    },
    "nbformat": 4,
    "nbformat_minor": 1
}
