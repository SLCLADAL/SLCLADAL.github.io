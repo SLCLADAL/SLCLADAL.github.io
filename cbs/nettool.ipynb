{
    "cells": [
        {
            "cell_type": "markdown",
            "metadata": {},
            "source": [
                "![An interactive LADAL notebook](https://slcladal.github.io/images/uq1.jpg)\n",
                "\n",
                "\n",
                "This notebook-based tool accompanies the [Language Technology and Data Analysis Laboratory (LADAL) tutorial *Network Analysis using R*](https://ladal.edu.au/net.html). \n",
                "\n",
                "**Preparation and session set up**\n",
                "\n",
                "We set up our session by activating the packages we need for this tutorial. \n"
            ]
        },
        {
            "cell_type": "code",
            "execution_count": null,
            "metadata": {},
            "outputs": [],
            "source": [
                "# set options\n",
                "options(warn=-1)  # do not show warnings or messages\n",
                "# activate packages\n",
                "library(dplyr)    # for table processing\n",
                "library(openxlsx) # for reading and saving xlsx files\n",
                "library(quanteda) # for generating dfm and fcm\n",
                "library(quanteda.textplots)  # for generating network graphs \n",
                "library(ggplot2)  # for visualization\n",
                "library(stringr)  # for text processing\n",
                "library(tidyr)    # for table processing\n"
            ]
        },
        {
            "cell_type": "markdown",
            "metadata": {},
            "source": [
                "## Using your own data\n",
                "\n",
                "The data should be \n",
                "\n",
                "+ a symmetric co-occurrence matrix  \n",
                "\n",
                "+ no column containing row names\n",
                "\n",
                "+ the column names should the same that the row names would be (if there were row names)\n",
                "\n",
                "+ the diagonal is 0s\n",
                "\n",
                "The data should have the same structure as the example below:\n",
                "\n",
                "![Data format required for this notebook](https://slcladal.github.io/images/netdata.png)\n",
                "\n",
                "\n",
                "## Using your own data\n",
                "\n",
                "<div class=\"warning\" style='padding:0.1em; background-color: rgba(215,209,204,.3); color:#51247a'>\n",
                "<span>\n",
                "<p style='margin-top:1em; text-align:center'>\n",
                "To <b>use your own data<\/b>, click on the folder called <b>`MyTables`<\/b> (it is in the menu to the left of the screen) and then simply drag and drop your xlsx-file into the folder. <br>When you then execute the code chunk below, you will upload your own data and you can then use it in this notebook.<br>You can upload <b>only xlsx-files<\/b>! ! \n",
                "<br>\n",
                "<\/p>\n",
                "<p style='margin-left:1em;'>\n",
                "<\/p><\/span>\n",
                "<\/div>\n",
                "\n",
                "<br>\n"
            ]
        },
        {
            "cell_type": "code",
            "execution_count": null,
            "metadata": {},
            "outputs": [],
            "source": [
                "# load function that helps loading the xlsx data\n",
                "source(\"https://slcladal.github.io/rscripts/loadnetdata.R\")\n",
                "# load texts\n",
                "netdata <- loadnetdata(\"notebooks/MyTables\")\n",
                "# inspect the structure of the data\n",
                "netdata[1:5, 1:5]\n"
            ]
        },
        {
            "cell_type": "markdown",
            "metadata": {},
            "source": [
                "# Quanteda Networks \n",
                "\n",
                "We generate a first network using the `quanteda` package which contains the `textplot_network` function which provides a very handy way to display networks.    \n",
                "\n",
                "In a first step, we transform the data into a document-feature matrix using the `dfm ` function. \n"
            ]
        },
        {
            "cell_type": "code",
            "execution_count": null,
            "metadata": {},
            "outputs": [],
            "source": [
                "# create a document feature matrix \n",
                "quanteda::as.dfm(netdata) -> dat_dfm\n",
                "  # create feature co-occurrence matrix and save result as `dat_fcm`\n",
                "  quanteda::fcm(dat_dfm) -> dat_fcm\n",
                "# inspect data\n",
                "head(dat_fcm)\n"
            ]
        },
        {
            "cell_type": "markdown",
            "metadata": {},
            "source": [
                "We feed the resulting feature-co-occurrence matrix into the `textplot_network` function that generates a nice network graph. \n",
                "\n",
                "Now we generate a network graph using the `textplot_network` function from the `quanteda.textplots` package. This function has the following arguments: \n",
                "\n",
                "+ `x`: a fcm or dfm object  \n",
                "+ `min_freq`: a frequency count threshold or proportion for co-occurrence frequencies of features to be included (default = 0.5),  \n",
                "+ `omit_isolated`: if TRUE, features do not occur more frequent than min_freq will be omitted (default = TRUE),  \n",
                "+ `edge_color`: color of edges that connect vertices (default = \"#1F78B4\"),\n",
                "+ `edge_alpha`: opacity of edges ranging from 0 to 1.0 (default = 0.5),\n",
                "+ `edge_size`: size of edges for most frequent co-occurrence (default = 2),\n",
                "+ `vertex_color`: color of vertices (default = \"#4D4D4D\"),\n",
                "+ `vertex_size`: size of vertices (default = 2),\n",
                "+ `vertex_labelcolor`: color of texts. Defaults to the same as vertex_color,\n",
                "+ `vertex_labelfont`: font-family of texts,\n",
                "+ `vertex_labelsize`: size of vertex labels in mm. Defaults to size 5. Supports both integer values and vector values (default = 5),\n",
                "+ `offset`: if NULL (default), the distance between vertices and texts are determined automatically,\n"
            ]
        },
        {
            "cell_type": "code",
            "execution_count": null,
            "metadata": {},
            "outputs": [],
            "source": [
                "quanteda.textplots::textplot_network(\n",
                "  x = dat_fcm,                    # a fcm or dfm object\n",
                "  min_freq = 0.5,                   # frequency count threshold or proportion for co-occurrence frequencies (default = 0.5)\n",
                "  edge_alpha = 0.5,                 # opacity of edges ranging from 0 to 1.0 (default = 0.5)\n",
                "  edge_color = \"gray\",            # color of edges that connect vertices (default = \"#1F78B4\")\n",
                "  edge_size = 2,                    # size of edges for most frequent co-occurrence (default = 2)\n",
                "# calculate the size of vertex labels for the network plot\n",
                "vertex_labelsize = dat_dfm %>%\n",
                "  # convert the dfm object to a data frame\n",
                "  as.data.frame() %>% \n",
                "  # exclude the 'doc_id' column\n",
                "  dplyr::select(-doc_id) %>%\n",
                "  # calculate the sum of row values for each row\n",
                "  rowSums() %>%\n",
                "  # apply the natural logarithm to the resulting sums\n",
                "  log(),\n",
                "  vertex_color = \"#4D4D4D\",         # color of vertices (default = \"#4D4D4D\")\n",
                "  vertex_size = 2                   # size of vertices (default = 2)\n",
                ")\n"
            ]
        },
        {
            "cell_type": "markdown",
            "metadata": {},
            "source": [
                "## Exporting images\n",
                "\n",
                "To export network graph as an png-file, we use `ggsave`. Be aware that we use the `here` function to save the file in the `MyOutput` folder.\n",
                "\n",
                "The `ggsave` function has the following main arguments:\n",
                "\n",
                "+ `filename`: File name to create on disk.    \n",
                "+ `device`: Device to use. Can either be a device function (e.g. png), or one of \"eps\", \"ps\", \"tex\" (pictex), \"pdf\", \"jpeg\", \"tiff\", \"png\", \"bmp\", \"svg\" or \"wmf\" (windows only). If NULL (default), the device is guessed based on the filename extension  \n",
                "+ `path`: Path of the directory to save plot to: path and filename are combined to create the fully qualified file name. Defaults to the working directory.  \n",
                "+ `width, height`: Plot size in units expressed by the units argument. If not supplied, uses the size of the current graphics device.  \n",
                "+ `units`: One of the following units in which the width and height arguments are expressed: \"in\", \"cm\", \"mm\" or \"px\".  \n",
                "+ `dpi`: Plot resolution. Also accepts a string input: \"retina\" (320), \"print\" (300), or \"screen\" (72). Applies only to raster output types.  \n",
                "+ `bg`: Background colour. If NULL, uses the plot.background fill value from the plot theme.  \n"
            ]
        },
        {
            "cell_type": "code",
            "execution_count": null,
            "metadata": {},
            "outputs": [],
            "source": [
                "# save network graph for MyOutput folder\n",
                "ggsave(here::here(\"notebooks/MyOutput/image_01.png\"), bg = \"white\")\n"
            ]
        },
        {
            "cell_type": "markdown",
            "metadata": {},
            "source": [
                "<div class=\"warning\" style='padding:0.1em; background-color: rgba(215,209,204,.3); color:#51247a'>\n",
                "<span>\n",
                "<p style='margin-top:1em; text-align:center'>\n",
                "<b>You will find the image-file named *image_01.png* in the `MyOutput` folder (located on the left side of the screen).<\/b> <br><br>Simply double-click the `MyOutput` folder icon, then right-click on the *image_01.png* file, and choose Download from the dropdown menu to download the file. <br>\n",
                "<\/p>\n",
                "<p style='margin-left:1em;'>\n",
                "<\/p><\/span>\n",
                "<\/div>\n",
                "\n",
                "<br>\n",
                "\n",
                "\n",
                "***\n",
                "\n",
                "[Back to LADAL](https://ladal.edu.au/net.html)\n",
                "\n",
                "***\n"
            ]
        }
    ],
    "metadata": {
        "anaconda-cloud": "",
        "kernelspec": {
            "display_name": "R",
            "langauge": "R",
            "name": "ir"
        },
        "language_info": {
            "codemirror_mode": "r",
            "file_extension": ".r",
            "mimetype": "text/x-r-source",
            "name": "R",
            "pygments_lexer": "r",
            "version": "3.4.1"
        }
    },
    "nbformat": 4,
    "nbformat_minor": 1
}
