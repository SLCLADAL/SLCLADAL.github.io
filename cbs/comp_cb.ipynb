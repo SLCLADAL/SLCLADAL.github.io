{
    "cells": [
        {
            "cell_type": "markdown",
            "metadata": {},
            "source": [
                "<!--html_preserve-->\n",
                "<!-- Global site tag (gtag.js) - Google Analytics -->\n",
                "<script async src=\"https://www.googletagmanager.com/gtag/js?id=UA-130562131-1\"><\/script>\n",
                "<script>\n",
                "  window.dataLayer = window.dataLayer || [];\n",
                "  function gtag(){dataLayer.push(arguments);}\n",
                "  gtag('js', new Date());\n",
                "\n",
                "  gtag('config', 'UA-130562131-1');\n",
                "<\/script>\n",
                "<!--/html_preserve-->\n"
            ]
        },
        {
            "cell_type": "code",
            "execution_count": null,
            "metadata": {},
            "outputs": [],
            "source": [
                "knitr::include_graphics(\"https://slcladal.github.io/images/uq1.jpg\")\n",
                "\n"
            ]
        },
        {
            "cell_type": "markdown",
            "metadata": {},
            "source": [
                "# Introduction{-}\n",
                "\n",
                "Most people work with computers on a daily basis but almost nobody has been taught how to organize files and folders, how to manage data, and how to avoid data loss. The idea behind this tutorial is to address this issue and provide advice and offer general tips on how to keep your computer clean and running smoothly. In addition, we will have a look at how to organize files and folders. Finally, the tutorial will give some pointers about how to deal with and organize data so that they are stored safely and orderly. \n"
            ]
        },
        {
            "cell_type": "code",
            "execution_count": null,
            "metadata": {},
            "outputs": [],
            "source": [
                "knitr::include_graphics(\"https://slcladal.github.io/images/hapcom.png\")\n",
                "\n"
            ]
        },
        {
            "cell_type": "markdown",
            "metadata": {},
            "source": [
                "Thus, this tutorial will address what to do if...\n",
                "\n",
                "* your computer is very slow and gets very hot\n",
                "\n",
                "* your filing system is a mess and you want to tidy it up\n",
                "\n",
                "* you want to secure your files from someone else being able to access them\n",
                "\n",
                "* you want to work more efficiently with tabulated data \n",
                "\n",
                "\n",
                "This tutorial focuses on Windows machines and is intended for anybody - especially for those of us who are less computer savvy. For this reason, we will not go over manually optimizing *Windows* and system options (for those that are more computer savvy, a video on how to optimize you *Windows* and system options for maximum performance can be found [here](https://www.youtube.com/watch?v=ttiA0zRbzko)).\n",
                "\n",
                "Some of the contents of this tutorial build on the [*Digital Essentials module*](https://web.library.uq.edu.au/research-tools-techniques/digital-essentials) that is offered by the UQ library, the *Reproducible Research resources* (created by Griffith University’s Library and eResearch Services), and on Amanda Miotto's [Reproducible Reseach Things](https://github.com/amandamiotto/Reproducible-Research-Things). You can find additional information on all things relating to computers, the digital world, and computer safety in the [*Digital Essentials* course](https://web.library.uq.edu.au/research-tools-techniques/digital-essentials) that is part of UQ's library resources.\n",
                "\n",
                "\n",
                "\n",
                "# General tips about using computers{-} \n",
                "\n",
                "In the following, we will go over some tips that prevent computers from slowing down or getting hot. These tips are also useful if you want to increase the speed of your computer. If cared for, even older machines can handle most of our everyday tasks and fulfill most of our computational needs.\n",
                "\n",
                "## Restart your computer regularly{-}\n",
                "\n",
                "* While it can be very handy to use sleep mode repeatedly, you should shut down and restart your computer regularly. This is necessary to install already downloaded updates and it also allows your computer to dump a lot of data that accumulates when it keeps running. So, rather than using sleep mode, shut down and restart your computer on a regular basis (at least once per week) so automatic software updates can be installed. If there’s a high security risk, you may be forced to restart your computer immediately because updates often close gaps in the security of either specific programs or your operating system. \n",
                "\n",
                "## Keep your computer up-to-date{-}\n",
                "\n",
                "* One thing you can do to keep your computer running smoothly is to keep your computer up-to-date by checking for updates. In fact, outdated software is not updated with the latest security features and puts your computer at risk.\n",
                "\n",
                "* Updates can be annoying but they also help to close security gaps and improve the functionality of the software that you are using. If you do not know how to check if updates are available, you can find a step-by-step tutorial [here](https://www.howtogeek.com/howto/5529/how-to-keep-your-new-windows-7-computer-updated-and-secure/).\n",
                "\n",
                "\n",
                "## Look out for leeches and malware{-}\n",
                "\n",
                "* When you download software, it is quite common that, in addition to the software you are looking for, other additional software will be downloaded and installed as a default. To avoid this, make sure to uncheck such options when installing the software that you want. This does simply require that you pay attention and read the options that you can check or uncheck during the installation when installing software.\n",
                "\n",
                "## Use anti-virus software{-}\n",
                "\n",
                "* Antivirus software checks if any software on your computer has been reported as malware or if your software differs from what it should look like if it were not infected.\n",
                "\n",
                "* *Symantec Endpoint Protection* (SEP) is an anti-virus software that is installed on all UQ computers. This software protects your computer from malware but also checks if your computer is already \"infected\". Such checks are performed regularly but to run such a check manually, you can simply click on the antivirus software icon in the lower right corner of your PC and follow the instructions. While *Symantec Endpoint Protection* is not free and you have to pay a fee if you want to install it on a private PC, UQ has a deal with the manufacturer that gives UQ members a discount. \n",
                "\n",
                "* There are also free alternatives available such as the free version of [Avira](https://www.avira.com) in case you do not want to pay for anti-virus software. Both the free and the commercial versions of [Avira](https://www.avira.com) have the advantage that they also allow you to check if the performance of your PC can be improved (in addition to merely protecting your computer) and - depending on the version - they can also implement these improvements. \n",
                "\n",
                "* Another option that helps to detect software on your computer is [Malwarebytes](https://malwarebytes.com/) which also has a free version and which has the most up-to-date data base of malware which means that it is able to detect even very \"fresh\" malware.\n"
            ]
        },
        {
            "cell_type": "code",
            "execution_count": null,
            "metadata": {},
            "outputs": [],
            "source": [
                "knitr::include_graphics(\"https://slcladal.github.io/images/futnet.jpeg\")\n",
                "\n"
            ]
        },
        {
            "cell_type": "markdown",
            "metadata": {},
            "source": [
                "## No data on Desktop or C-drive{-}\n",
                "\n",
                "* When you start your computer, different parts of the computer are started at different times with different priorities. The Desktop is always started with the highest priority which means that if you have a lot of stuff on your desktop, then the computer will load all that stuff once it kicks into action (which will cause it to work quite heavily at each start and also slow down quite dramatically). \n",
                "\n",
                "* This means that you should avoid storing data on any part of your system that is activated routinely. Rather, try to separate things that need to be loaded from things that only need to be loaded if they are actually used. For this reason, you should also avoid storing data on your C-drive. In fact, the C-drive should only contain programs as it is activated automatically at each start. \n",
                "\n",
                "* You can, for example, store all your projects on your D-Drive or, even better, on *OneDrive*, Google's *MyDrive*, or in *Dropbox* where it is only started once you actively click and open a folder. If you use cloud-based storage options (*OneDrive*, Google's *MyDrive*, or *Dropbox*) the files are also backed up automatically. However, you should not use either of these for sensitive data (sensitive data should be stored on your PC, an external hard drive and [UQ's RDM](https://research.uq.edu.au/rmbt/uqrdm).)  \n",
                "\n",
                "* If you want to have data accessible via your desktop, you can still do so by using links (also called short-cuts): place a link to your data (stored on another drive) on your desktop and you can load your data easily without it being activated at every start.\n",
                "\n",
                "## Tidy your room!{-}\n",
                "\n",
                "* Just like in real life, you should clean your computer. Full bins, for instance, will slow down your computer so you should empty it regularly. In addition, your computer will store and collect files when it is running. These files (temp files, cookies, etc.) also slow your computer down. As such files are redundant, they should be deleted regularly. You can remove such files manually using the *msconfig* prompt (you find a video tutorial on how to do this [here](https://www.youtube.com/watch?v=DGlAuJXWTJk)). If you want to optimize your computer manually via the *msconfig* prompt, simply enter *msconfig* in the Window's search box in the lower left corner of your PC (or search for it in the search box that opens when you click on the Window's symbol). However, an easier way is to use software to help you with cleaning your computer. \n",
                "\n",
                "## Software to clean your computer{-}\n",
                "\n",
                "* While UQ provides [various software applications that keep your computer secure](https://my.uq.edu.au/information-and-services/information-technology/cyber-security/cyber-security-uq/protecting-your-uq-computer), it does not have any specific recommendations for software to keep your computer digitally clean. \n",
                "\n",
                "* Luckily, there are numerous software applications that can help you with keeping your computer clean and up-to-date (you will find a list of software options for PCs [here](https://blogs.systweak.com/10-best-pc-cleaner-software-to-optimize-your-system/)). We will only look at two options here (The two applications we will discuss are [CCleaner](https://www.ccleaner.com) and [Avira](https://www.avira.com)) but a quick Google search will provide you with many different alternatives.\n",
                "\n",
                "* The most widely used program to clean your computer (if you have a PC rather than a Mac) is [CCleaner](https://www.ccleaner.com). There are different versions of *CCleaner* but the free version suffices to delete any superfluous files and junk from your computer. When using this program, you should, however, be careful not to remove information that is useful. For instance, I like to keep all tabs of my current session in my browser and I therefore have to change the default options in *CCleaner* to avoid having to reopen all my tabs when I next open my browser. [Here](https://www.youtube.com/watch?v=L0SVQeai5OA) is a short video tutorial on how to use the *CCleaner*.\n",
                "\n",
                "* In addition, the free version of [Avira](https://www.avira.com) also has a function that you can use to clean your computer. In fact, *Avira* will also inform you about any software that is out-of-date and other issues. [Here](https://www.youtube.com/watch?v=Co3z5cSGG9E) is a short video tutorial on how to use the *Avira* for cleaning your computer and performing an anti-virus scan. \n",
                "\n",
                "\n",
                "## Encryption and Computer Security{-}\n",
                "\n",
                "Ensuring that your computer and network are secured means that you have far less a chance of a data breach or hack. \n",
                "\n",
                "As some information is sensitive (especially when it comes to exams and attendance in courses), I encrypt folders and files that contain such information. To encrypt a file or folder I right-click on the file or folder and go to properties > advanced, the I check *encrypt contents to secure data* and confirm the changes by checking *OK*. Then I back-up the encryption key where I check *enable certificate privacy* and create password and store the encrypted file in the original folder. You can find a step-by-step guide on how to encrypt files in this [video](https://www.youtube.com/watch?v=Y0pN0rN8MEM).\n",
                "\n",
                "You can also encrypt your entire computer. Information about how to do this can be found [here](https://www.griffith.edu.au/about-griffith/cybersecurity/data-protection) and tips specific for \n",
                "\n",
                "* Macs can be found [here](https://support.apple.com/en-au/HT204837)\n",
                "\n",
                "* Windows 10 can be found [here](https://www.windowscentral.com/how-use-bitlocker-encryption-windows-10)\n",
                "\n",
                "* Windows 7 can be found [here](https://www.microsoft.com/en-au/download/details.aspx?id=4794)\n",
                "\n",
                "It is also recommendable to use or create strong passwords. Here are some tips for creating secure passwords:\n",
                "\n",
                "* Don't just use one password - use a different password for every account\n",
                "\n",
                "* Use a pass phrase - instead of a singular word, try a sequence of words for instance, *DogsandCatsareawesome* (Do not use this as your password)\n",
                "\n",
                "* Include numbers, capital letters and symbols\n",
                "\n",
                "* The longer the password, the better\n",
                "\n",
                "* Don't write passwords down\n",
                "\n",
                "* Turn on two-factor authentication\n",
                "\n",
                "An alternative is to use a [password manager](https://www.lastpass.com/business-password-manager). Again, the Digital Essentials module has a lot of information about [password management](https://web.library.uq.edu.au/research-tools-techniques/digital-essentials/password-management) (password managers explained in detail in section 4). \n",
                "\n",
                "Password managers provide a similar level of convenience to \"Login with Facebook\" but are much safer. Password managers create an encrypted database of all your usernames and passwords, that only you can access with a master password. This means you only need to remember one password to have access to all of your accounts. Most password managers will include the ability to generate secure passwords that you can use for new or existing account logins. Because you only need to remember one master password, you can generate and store complex passwords for your needs. This way, you are not relying on your memory and easy passwords to remember many different account login details.\n",
                "\n",
                "Also, to find out if your email has been compromised, you can check this [here](https://haveibeenpwned.com/)\n",
                "\n",
                "Recently, UQ has adopted Multi-Factor Authentication which is more secure than simple authentication. You should use it when the option is available (Signing in with a password and an email to your account with a pin).\n",
                "\n",
                "As a general tip, avoid unsecured wifi and, if its available, Eduroam is usually a better option than free wifi/cafe wifi.\n",
                "\n",
                "**For Beginners**\n",
                "\n",
                "* Have good strong passwords and encrypt your computer's hard drive\n",
                "\n",
                "**For Intermediates**\n",
                "\n",
                "* Get set up on a password manager\n",
                "\n",
                "**For Advanced passwordists**\n",
                "\n",
                "* Try to ensure that your team/cluster is encrypted and practicing safe habits.\n",
                "\n",
                "# Citation & Session Info {-}\n",
                "\n",
                "Schweinberger, Martin. `r format(Sys.time(), '%Y')`. *Working with Computers: Tips and Tricks*. Brisbane: The University of Queensland. url: https://slcladal.github.io/comp.html (Version `r format(Sys.time(), '%Y.%m.%d')`).\n"
            ]
        },
        {
            "cell_type": "code",
            "execution_count": null,
            "metadata": {},
            "outputs": [],
            "source": [
                "@manual{schweinberger`r format(Sys.time(), '%Y')`comp,\n",
                "  author = {Schweinberger, Martin},\n",
                "  title = {Working with Computers: Tips and Tricks},\n",
                "  note = {https://slcladal.github.io/comp.html},\n",
                "  year = {`r format(Sys.time(), '%Y')`},\n",
                "  organization = \"The University of Queensland, School of Languages and Cultures},\n",
                "  address = {Brisbane},\n",
                "  edition = {`r format(Sys.time(), '%Y.%m.%d')`}\n",
                "}\n"
            ]
        },
        {
            "cell_type": "markdown",
            "metadata": {},
            "source": "\n"
        },
        {
            "cell_type": "code",
            "execution_count": null,
            "metadata": {},
            "outputs": [],
            "source": [
                "sessionInfo()\n",
                "\n"
            ]
        },
        {
            "cell_type": "markdown",
            "metadata": {},
            "source": [
                "***\n",
                "\n",
                "[Back to top](#introduction)\n",
                "\n",
                "[Back to HOME](https://slcladal.github.io/index.html)\n",
                "\n",
                "***\n"
            ]
        }
    ],
    "metadata": {
        "anaconda-cloud": "",
        "kernelspec": {
            "display_name": "R",
            "langauge": "R",
            "name": "ir"
        },
        "language_info": {
            "codemirror_mode": "r",
            "file_extension": ".r",
            "mimetype": "text/x-r-source",
            "name": "R",
            "pygments_lexer": "r",
            "version": "3.4.1"
        }
    },
    "nbformat": 4,
    "nbformat_minor": 1
}
