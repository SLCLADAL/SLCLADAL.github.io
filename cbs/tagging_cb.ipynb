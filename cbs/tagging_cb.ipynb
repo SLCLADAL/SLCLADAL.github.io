{
    "cells": [
        {
            "cell_type": "markdown",
            "metadata": {},
            "source": "\n"
        },
        {
            "cell_type": "code",
            "execution_count": null,
            "metadata": {},
            "outputs": [],
            "source": [
                "![uq](https://slcladal.github.io/images/uq1.jpg)\n",
                "\n",
                "# Introduction\n",
                "\n",
                "This tutorial introduces part-of-speech tagging and syntactic parsing using R. The entire R markdown document for this tutorial can be downloaded [here](https://slcladal.github.io/tagging.Rmd). Another highly recommendable tutorial on part-of-speech tagging in R produced by Andreas Niekler and Gregor Wiedemann can be found [here](https://tm4ss.github.io/docs/Tutorial_8_NER_POS.html)  [see @WN17].\n",
                "\n",
                "# Part-Of-Speech Tagging\n",
                "\n",
                "Many analyses of language data require that we distinguish different parts of speech. In order to determine the word class of a certain word, we use a procedure which is called part-of-speech tagging (commonly referred to as pos-, pos-, or PoS-tagging). pos-tagging is a common procedure when working with natural language data. Despite being used quite frequently, it is a rather complex issue that requires the application of statistical methods that are quite advanced. In the following, we will explore different options for pos-tagging and syntactic parsing. \n",
                "\n",
                "Parts-of-speech, or word categories, refer to the grammatical nature or category of a lexical item, e.g. in the sentence *Jane likes the girl* each lexical item can be classified according to whether it belongs to the group of determiners, verbs, nouns, etc.  pos-tagging refers to a (computation) process in which information is added to existing text. This process is also called *annotation*. Annotation can be very different depending on the task at hand. The most common type of annotation when it comes to language data is part-of-speech tagging where the word class is determined for each word in a text and the word class is then added to the word as a tag. However, there are many different ways to tag or annotate texts. \n",
                "\n",
                "Pos–tagging assigns part-of-speech tags to character strings (these represent mostly words, of course, but also encompass punctuation marks and other elements). This means that pos–tagging is one specific type of annotation, i.e. adding information to data (either by directly adding information to the data itself or by storing information in e.g. a list which is linked to the data). It is important to note that annotation encompasses various types of information such as pauses, overlap, etc. pos–tagging is just one of these many ways in which corpus data can be *enriched*. Sentiment Analysis, for instance, also annotates texts or words with respect to its or their emotional value or polarity. \n",
                "\n",
                "Annotation is required in many machine-learning contexts because annotated texts are commonly used as training sets on which machine learning or deep learning models are trained that then predict, for unknown words or texts, what values they would most likely be assigned if the annotation were done manually. Also, it should be mentioned that  by many online services offer pos-tagging (e.g. [here](http://www.infogistics.com/posdemo.htm) or [here](https://linguakit.com/en/part-of-speech-tagging).\n",
                "\n",
                "When pos–tagged, the example sentence could look like the example below.\n",
                "\n",
                "1. Jane/NNP likes/VBZ the/DT girl/NN\n",
                "\n",
                "In the example above, `NNP` stands for proper noun (singular), `VBZ` stands for 3rd person singular present tense verb, `DT` for determiner, and `NN` for noun(singular or mass). The pos-tags used by the `openNLPpackage` are the [Penn English Treebank pos-tags](https://dpdearing.com/posts/2011/12/opennlp-part-of-speech-pos-tags-penn-english-treebank/). A more elaborate description of the tags can be found here which is summarised below:\n"
            ]
        },
        {
            "cell_type": "markdown",
            "metadata": {},
            "source": [
                "library(DT)\n",
                "Tag <- c(\"CC\", \"CD\", \"DT\", \"EX\", \"FW\", \"IN\", \"JJ\", \"JJR\", \"JJS\", \"LS\", \"MD\", \"NN\", \"NNS\", \"NNP\", \"NNPS\", \"PDT\", \"POS\", \"PRP\", \"PRP$\", \"RB\", \"RBR\", \"RBS\", \"RP\", \"SYM\", \"TO\", \"UH\", \"VB\", \"VBD\", \"VBG\", \"VBN\", \"VBP\", \"VBZ\", \"WDT\", \"WP\", \"WP$\", \"WRB\")\n",
                "Description <- c(\"Coordinating conjunction\", \"Cardinal number\", \"Determiner\", \"Existential there\", \"Foreign word\", \"Preposition or subordinating con\", \"Adjective\", \"Adjective, comparative\", \"Adjective, superlative\", \"List item marker\", \"Modal\", \"Noun, singular or mass\", \"Noun, plural\", \"Proper noun, singular\", \"Proper noun, plural\", \"Predeterminer\", \"Possessive ending\", \"Personal pronoun\", \"Possessive pronoun\", \"Adverb\", \"Adverb, comparative\", \"Adverb, superlative\", \"Particle\", \"Symbol\", \"to\", \"Interjection\", \"Verb, base form\", \"Verb, past tense\", \"Verb, gerund or present particip\", \"Verb, past participle\", \"Verb, non-3rd person singular pr\", \"Verb, 3rd person singular presen\", \"Wh-determiner\", \"Wh-pronoun\", \"Possessive wh-pronoun\", \"Wh-adverb\")\n",
                "Examples <- c(\"and, or, but\", \"one, two, three\", \"a, the\", \"There/EX was a party in progress\", \"persona/FW non/FW grata/FW\", \"uh, well, yes\", \"good, bad, ugly\", \"better, nicer\", \"best, nicest\", \"a., b., 1., 2.\", \"can, would, will\", \"tree, chair\", \"trees, chairs\", \"John, Paul, CIA\", \"Johns, Pauls, CIAs\", \"all/PDT this marble, many/PDT a soul\", \"John/NNP 's/POS, the parentss/NNP '/POS distress\", \"I, you, he\", \"mine, yours\", \"evry, enough, not\", \"later\", \"latest\", \"RP\", \"CO2\", \"to\", \"uhm, uh\", \"go, walk\", \"walked, saw\", \"walking, seeing\", \"walked, thought\", \"walk, think\", \"walks, thinks\", \"which, that\", \"what, who, whom (wh-pronoun)\", \"whose, who (wh-words)\", \"how, where, why (wh-adverb)\")\n",
                "tags <- data.frame(Tag, Description, Examples)\n",
                "# inspect results\n",
                "datatable(tags, rownames = FALSE, options = list(pageLength = 10, scrollX=T), filter = \"none\")\n"
            ]
        },
        {
            "cell_type": "code",
            "execution_count": null,
            "metadata": {},
            "outputs": [],
            "source": [
                "Assigning these pos-tags to words appears to be rather straight forward. However, pos-tagging is quite complex and there are various ways by which a computer can be trained to assign pos-tags. For example, one could use orthographic or morphological information to devise rules such as. . .\n",
                "\n",
                "* If a word ends in *ment*, assign the pos-tag `NN` (for common noun)\n",
                "\n",
                "* If a word does not occur at the beginning of a sentence but is capitalized, assign the pos-tag `NNP` (for proper noun)\n",
                "\n",
                "Using such rules has the disadvantage that pos-tags can only be assigned to a relatively small number of words as most words will be ambiguous – think of the similarity of the English plural and the English past tense morpheme,for instance, which are orthographically identical.Another option would be to use a dictionary in which each word is as-signed a certain pos-tag and a program could assign the pos-tag if the word occurs in a given text. This procedure has the disadvantage that most words belong to more than one word class and pos-tagging would thus have to rely on additional information.The problem of words that belong to more than one word class can partly be remedied by including contextual information such as. . \n",
                "\n",
                "* If the previous word is a determiner and the following word is a common noun, assign the pos-tag `JJ` (for a common adjective)\n",
                "\n",
                "This procedure works quite well but there are still better options.The best way to pos-tag a text is to create a manually annotated training set which resembles the language variety at hand. Based on the frequency of the association between a given word and the pos-tags it is assigned in the training data, it is possible to tag a word with the pos-tag that is most often assigned to the given word in the training data.All of the above methods can and should be optimized by combining them and additionally including pos–n–grams, i.e. determining a pos-tag of an unknown word based on which sequence of pos-tags is most similar to the sequence at hand and also most common in the training data.This introduction is extremely superficial and only intends to scratch some of the basic procedures that pos-tagging relies on. The interested reader is referred to introductions on machine learning and pos-tagging such as e.g.https://class.coursera.org/nlp/lecture/149.\n",
                "\n",
                "There are several different R packages that assist with pos-tagging texts [see @kumar2016mastering]. In this tutorial, we will use the `openNLP`, the `corNLP`, and the `TreeTagger` packages. Each of these has advantages and shortcomings and it is advantageous to try which result best matches one's needs.\n",
                "\n",
                "**Preparation and session set up**\n",
                "\n",
                "This tutorial is based on R. If you have not installed R or are new to it, you will find an introduction to and more information how to use R [here](https://slcladal.github.io/intror.html). For this tutorials, we need to install certain *packages* from an R *library* so that the scripts shown below are executed without errors. Before turning to the code below, please install the packages by running the code below this paragraph. If you have already installed the packages mentioned below, then you can skip ahead ignore this section. To install the necessary packages, simply run the following code - it may take some time (between 1 and 5 minutes to install all of the libraries so you do not need to worry if it takes some time).\n"
            ]
        },
        {
            "cell_type": "markdown",
            "metadata": {},
            "source": [
                "# install packages\n",
                "install.packages(\"tidyverse\")\n",
                "install.packages(\"igraph\")\n",
                "install.packages(\"tm\")\n",
                "install.packages(\"NLP\")\n",
                "install.packages(\"openNLP\")\n",
                "install.packages(\"openNLPdata\")\n",
                "install.packages(\"coreNLP\")\n",
                "install.packages(\"koRpus\")\n",
                "install.packages(\"koRpus.lang.en\", repos=\"https://undocumeantit.github.io/repos/l10n/\")\n",
                "install.packages(\"koRpus.lang.de\", repos=\"https://undocumeantit.github.io/repos/l10n/\")\n",
                "install.packages(\"koRpus.lang.es\", repos=\"https://undocumeantit.github.io/repos/l10n/\")\n",
                "install.packages(\"koRpus.lang.nl\", repos=\"https://undocumeantit.github.io/repos/l10n/\")\n",
                "install.packages(\"koRpus.lang.it\", repos=\"https://undocumeantit.github.io/repos/l10n/\")\n",
                "install.packages(\"koRpus.lang.fr\", repos=\"https://undocumeantit.github.io/repos/l10n/\")\n",
                "install.packages(\"koRpus.lang.pt\", repos=\"https://undocumeantit.github.io/repos/l10n/\")\n",
                "install.packages(\"koRpus.lang.ru\", repos=\"https://undocumeantit.github.io/repos/l10n/\")\n",
                "install.packages(\"flextable\")\n",
                "# install phrasemachine\n",
                "phrasemachineurl <- \"https://cran.r-project.org/src/contrib/Archive/phrasemachine/phrasemachine_1.1.2.tar.gz\"\n",
                "install.packages(phrasemachineurl, repos=NULL, type=\"source\")\n",
                "# install parsent\n",
                "pacman::p_load_gh(c(\"trinker/textshape\", \"trinker/parsent\"))\n",
                "# install klippy for copy-to-clipboard button in code chunks\n",
                "remotes::install_github(\"rlesur/klippy\")\n"
            ]
        },
        {
            "cell_type": "code",
            "execution_count": null,
            "metadata": {},
            "outputs": [],
            "source": [
                "***\n",
                "\n",
                "<div class=\"warning\" style='padding:0.1em; background-color:#51247a; color:#f2f2f2'>\n",
                "<span>\n",
                "<p style='margin-top:1em; text-align:center'>\n",
                "<b>NOTE<\/b><br>Downloading and installing the jar files for CoreNLP will take quite long (between 5 and 10 minutes!). The installation will also require data from your plan (the files are app. 350 MB) - it is thus recommendable to be logged into an institutional network that has a decent connectivity and download rate (e.g., a university network).<\/p>\n",
                "<p style='margin-left:1em;'>\n",
                "<\/p><\/span>\n",
                "<\/div>\n",
                "\n",
                "***\n"
            ]
        },
        {
            "cell_type": "markdown",
            "metadata": {},
            "source": [
                "# download java files for CoreNLP\n",
                "downloadCoreNLP()\n"
            ]
        },
        {
            "cell_type": "code",
            "execution_count": null,
            "metadata": {},
            "outputs": [],
            "source": [
                "Now that we have installed the packages, we activate them as shown below.\n",
                "\n"
            ]
        },
        {
            "cell_type": "markdown",
            "metadata": {},
            "source": [
                "# set options\n",
                "options(stringsAsFactors = F)         # no automatic data transformation\n",
                "options(\"scipen\" = 100, \"digits\" = 4) # suppress math annotation\n",
                "# load packages\n",
                "library(tidyverse)\n",
                "library(igraph)\n",
                "library(tm)\n",
                "library(NLP)\n",
                "library(openNLP)\n",
                "library(openNLPdata)\n",
                "library(coreNLP)\n",
                "library(koRpus)\n",
                "library(koRpus.lang.en)\n",
                "library(koRpus.lang.de)\n",
                "library(koRpus.lang.es)\n",
                "library(koRpus.lang.nl)\n",
                "library(koRpus.lang.it)\n",
                "library(koRpus.lang.fr)\n",
                "library(koRpus.lang.pt)\n",
                "library(koRpus.lang.ru)\n",
                "library(phrasemachine)\n",
                "library(flextable)\n",
                "# load function for pos-tagging objects in R\n",
                "source(\"https://slcladal.github.io/rscripts/POStagObject.r\") \n",
                "# syntax tree drawing function\n",
                "source(\"https://slcladal.github.io/rscripts/parsetgraph.R\")\n",
                "# activate klippy for copy-to-clipboard button\n",
                "klippy::klippy()\n"
            ]
        },
        {
            "cell_type": "code",
            "execution_count": null,
            "metadata": {},
            "outputs": [],
            "source": [
                "Once you have installed R and RStudio and initiated the session by executing the code shown above, you are good to go.\n",
                "\n",
                "# POS-Tagging with openNLP\n",
                "\n",
                "In R we can pos–tag large amounts of text by various means. This section explores pos-tagging using the `openNLP` package. Using the `openNLP` package for pos-tagging works particularly well when the aim is to pos-tag newspaper texts as the `openNLP` package implements the *Apache OpenNLPMaxent Part of Speech tagger* and it comes with pre-trained models. Ideally, pos-taggers should be trained on data resembling the data to be pos-tagged.However, I do not know how to trained the *Apache openNLP pos-tagger* via R and it would be great if someone would provide a tutorial on how to do that. Using pre-trained models has the advantage that we do not need to train the pos-tagger ourselves. However, it also means that one has to rely on models trained on data that may not really resemble the data a at hand.This implies that using it for texts that differ from newspaper texts, i.e.the language the models have been trained on, does not work as well, as the model applies the probabilities of newspaper language to the language variety at hand. pos-tagging with the `openNLP` requires the `NLP` package and installing the models on which the `openNLP` package is based.\n",
                "\n",
                "To pos-tag a text, we start by loading an example text into R.\n"
            ]
        },
        {
            "cell_type": "markdown",
            "metadata": {},
            "source": [
                "# load corpus data\n",
                "text <- readLines(\"https://slcladal.github.io/data/testcorpus/linguistics07.txt\", skipNul = T)\n",
                "# clean data\n",
                "text <- text %>%\n",
                " str_squish() \n"
            ]
        },
        {
            "cell_type": "code",
            "execution_count": null,
            "metadata": {},
            "outputs": [],
            "source": [
                "\n",
                "\n"
            ]
        },
        {
            "cell_type": "markdown",
            "metadata": {},
            "source": [
                "# inspect data\n",
                "text %>%\n",
                "  as.data.frame() %>%\n",
                "  flextable::flextable() %>%\n",
                "  flextable::set_table_properties(width = .95, layout = \"autofit\") %>%\n",
                "  flextable::theme_zebra() %>%\n",
                "  flextable::fontsize(size = 12) %>%\n",
                "  flextable::fontsize(size = 12, part = \"header\") %>%\n",
                "  flextable::align_text_col(align = \"center\") %>%\n",
                "  flextable::set_caption(caption = \"Example text.\")  %>%\n",
                "  flextable::border_outer()\n"
            ]
        },
        {
            "cell_type": "code",
            "execution_count": null,
            "metadata": {},
            "outputs": [],
            "source": [
                "Now that the text data has been read into R, we can proceed with the part-of-speech tagging. To perform the pos-tagging, we load the function for pos-tagging, load the `NLP` and `openNLP` packages.\n",
                "\n",
                "***\n",
                "\n",
                "<div class=\"warning\" style='padding:0.1em; background-color:#51247a; color:#f2f2f2'>\n",
                "<span>\n",
                "<p style='margin-top:1em; text-align:center'>\n",
                "<b>NOTE<\/b><br>You need to change the path that is used in the code below and include the path to `en-pos-maxent.bin` on your computer!<\/p>\n",
                "<p style='margin-left:1em;'>\n",
                "<\/p><\/span>\n",
                "<\/div>\n",
                "\n",
                "***\n"
            ]
        },
        {
            "cell_type": "markdown",
            "metadata": {},
            "source": [
                "POStag <- function(object){\n",
                "  require(\"stringr\")\n",
                "  require(\"NLP\")\n",
                "  require(\"openNLP\")\n",
                "  require(\"openNLPdata\")\n",
                "  # define paths to corpus files\n",
                "  corpus.tmp <- object\n",
                "  # define sentence annotator\n",
                "  sent_token_annotator <- openNLP::Maxent_Sent_Token_Annotator()\n",
                "  # define word annotator\n",
                "  word_token_annotator <- openNLP::Maxent_Word_Token_Annotator()\n",
                "  # define pos annotator\n",
                "  pos_tag_annotator <- openNLP::Maxent_POS_Tag_Annotator(language = \"en\", probs = FALSE, \n",
                "    # WARNING: YOU NEED TO INCLUDE YOUR OWN PATH HERE!                                            \n",
                "    model = \"C:\\\\Users\\\\marti\\\\OneDrive\\\\Dokumente\\\\R\\\\win-library\\\\4.1\\\\openNLPdata\\\\models\\\\en-pos-maxent.bin\")\n",
                "  # convert all file content to strings\n",
                "  Corpus <- lapply(corpus.tmp, function(x){\n",
                "    x <- as.String(x)  }  )\n",
                "  # loop over file contents\n",
                "  lapply(Corpus, function(x){\n",
                "    y1 <- NLP::annotate(x, list(sent_token_annotator, word_token_annotator))\n",
                "    y2<- NLP::annotate(x, pos_tag_annotator, y1)\n",
                "    y2w <- subset(y2, type == \"word\")\n",
                "    tags <- sapply(y2w$features, '[[', \"POS\")\n",
                "    r1 <- sprintf(\"%s/%s\", x[y2w], tags)\n",
                "    r2 <- paste(r1, collapse = \" \")\n",
                "    return(r2)  }  )\n",
                "  }\n"
            ]
        },
        {
            "cell_type": "code",
            "execution_count": null,
            "metadata": {},
            "outputs": [],
            "source": [
                "We now apply this function to our text.\n",
                "\n"
            ]
        },
        {
            "cell_type": "markdown",
            "metadata": {},
            "source": [
                "# pos tagging data\n",
                "textpos <- POStag(object = text)\n"
            ]
        },
        {
            "cell_type": "code",
            "execution_count": null,
            "metadata": {},
            "outputs": [],
            "source": [
                "\n",
                "\n"
            ]
        },
        {
            "cell_type": "markdown",
            "metadata": {},
            "source": [
                "# inspect data\n",
                "textpos %>%\n",
                "  unlist() %>%\n",
                "  as.data.frame() %>%\n",
                "  flextable::flextable() %>%\n",
                "  flextable::set_header_labels(values = list(\".\")) %>%\n",
                "  flextable::set_table_properties(width = .95, layout = \"autofit\") %>%\n",
                "  flextable::theme_zebra() %>%\n",
                "  flextable::fontsize(size = 12) %>%\n",
                "  flextable::fontsize(size = 12, part = \"header\") %>%\n",
                "  flextable::align_text_col(align = \"center\") %>%\n",
                "  flextable::set_caption(caption = \"Pos-tagged text.\")  %>%\n",
                "  flextable::border_outer()\n"
            ]
        },
        {
            "cell_type": "code",
            "execution_count": null,
            "metadata": {},
            "outputs": [],
            "source": [
                "The resulting vector contains the part-of-speech tagged text and shows that the function fulfills its purpose in automatically pos-tagging the text. The pos-tagged text could now be processed further, e.g. by extracting all  adjectives in the text or by creating concordances of nouns ending in *ment*.\n",
                "\n",
                "## POS-Tagging non-English texts\n",
                "\n",
                "By default, `openNLP` is only able to handle English text. However, the functionality of `openNLP` can be extended to languages other than English. In order to extend `openNLP`'s functionality, you need to download the available language models from http://opennlp.sourceforge.net/models-1.5/ and save them in the `models` folder of the `openNLPdata` package in your R library. \n",
                "\n",
                "To ease the implementation of openNLP-based pos-tagging, we will write functions for pos-tagging that we can then apply to the texts that we want to tag rather than executing a piping of commands. \n",
                "\n",
                "### POS-Tagging a Dutch text\n",
                "\n",
                "One of the languages that openNLP can handle is Dutch. To pos-tag Dutch texts, we write a function that we can then apply to the Dutch text in order to pos-tag it.\n"
            ]
        },
        {
            "cell_type": "markdown",
            "metadata": {},
            "source": [
                "postag_nl <- function(object){\n",
                "  require(\"stringr\")\n",
                "  require(\"NLP\")\n",
                "  require(\"openNLP\")\n",
                "  require(\"openNLPdata\")\n",
                "  # define sentence annotator\n",
                "  sent_token_annotator <- openNLP::Maxent_Sent_Token_Annotator()\n",
                "  # define word annotator\n",
                "  word_token_annotator <- openNLP::Maxent_Word_Token_Annotator()\n",
                "  # define pos annotator\n",
                "  pos_tag_annotator <- openNLP::Maxent_POS_Tag_Annotator(language = \"nl\", probs = FALSE,                                    model = \"C:\\\\Users\\\\marti\\\\OneDrive\\\\Dokumente\\\\R\\\\win-library\\\\4.1\\\\openNLPmodels.nl\\\\models\\\\nl-pos-maxent.bin\")\n",
                "  # convert all file content to strings\n",
                "  Corpus <- lapply(object, function(x){\n",
                "    x <- as.String(x)  }  )\n",
                "  # loop over file contents\n",
                "  lapply(Corpus, function(x){\n",
                "    y1 <- NLP::annotate(x, list(sent_token_annotator, word_token_annotator))\n",
                "    y2<- NLP::annotate(x, pos_tag_annotator, y1)\n",
                "    y2w <- subset(y2, type == \"word\")\n",
                "    tags <- sapply(y2w$features, '[[', \"POS\")\n",
                "    r1 <- sprintf(\"%s/%s\", x[y2w], tags)\n",
                "    r2 <- paste(r1, collapse = \" \")\n",
                "    return(r2)  }  )\n",
                "  }\n"
            ]
        },
        {
            "cell_type": "code",
            "execution_count": null,
            "metadata": {},
            "outputs": [],
            "source": [
                "We now apply this function to our text.\n",
                "\n"
            ]
        },
        {
            "cell_type": "markdown",
            "metadata": {},
            "source": [
                "dutchtext <- readLines(\"D:\\\\Uni\\\\UQ\\\\SLC\\\\LADAL\\\\SLCLADAL.github.io\\\\data/dutch.txt\")\n",
                "# pos tagging data\n",
                "textpos_nl <- postag_nl(object = dutchtext)\n"
            ]
        },
        {
            "cell_type": "code",
            "execution_count": null,
            "metadata": {},
            "outputs": [],
            "source": [
                "\n",
                "\n"
            ]
        },
        {
            "cell_type": "markdown",
            "metadata": {},
            "source": [
                "# inspect data\n",
                "textpos_nl %>%\n",
                "  unlist() %>%\n",
                "  as.data.frame() %>%\n",
                "  flextable::flextable() %>%\n",
                "  flextable::set_table_properties(width = .95, layout = \"autofit\") %>%\n",
                "  flextable::theme_zebra() %>%\n",
                "  flextable::fontsize(size = 12) %>%\n",
                "  flextable::fontsize(size = 12, part = \"header\") %>%\n",
                "  flextable::align_text_col(align = \"center\") %>%\n",
                "  flextable::set_caption(caption = \"Pos-tagged textpos_nl.\")  %>%\n",
                "  flextable::border_outer()\n"
            ]
        },
        {
            "cell_type": "code",
            "execution_count": null,
            "metadata": {},
            "outputs": [],
            "source": [
                "### POS-Tagging a German text\n",
                "\n"
            ]
        },
        {
            "cell_type": "markdown",
            "metadata": {},
            "source": [
                "postag_de <- function(object){\n",
                "  require(\"stringr\")\n",
                "  require(\"NLP\")\n",
                "  require(\"openNLP\")\n",
                "  require(\"openNLPdata\")\n",
                "  # define sentence annotator\n",
                "  sent_token_annotator <- openNLP::Maxent_Sent_Token_Annotator()\n",
                "  # define word annotator\n",
                "  word_token_annotator <- openNLP::Maxent_Word_Token_Annotator()\n",
                "  # define pos annotator\n",
                "  pos_tag_annotator <- openNLP::Maxent_POS_Tag_Annotator(language = \"de\", probs = FALSE,                                    model = \"C:\\\\Users\\\\marti\\\\OneDrive\\\\Dokumente\\\\R\\\\win-library\\\\4.1\\\\openNLPmodels.de\\\\models/de-pos-maxent.bin\")\n",
                "  # convert all file content to strings\n",
                "  Corpus <- lapply(object, function(x){\n",
                "    x <- as.String(x)  }  )\n",
                "  # loop over file contents\n",
                "  lapply(Corpus, function(x){\n",
                "    y1 <- NLP::annotate(x, list(sent_token_annotator, word_token_annotator))\n",
                "    y2<- NLP::annotate(x, pos_tag_annotator, y1)\n",
                "    y2w <- subset(y2, type == \"word\")\n",
                "    tags <- sapply(y2w$features, '[[', \"POS\")\n",
                "    r1 <- sprintf(\"%s/%s\", x[y2w], tags)\n",
                "    r2 <- paste(r1, collapse = \" \")\n",
                "    return(r2)  }  )\n",
                "  }\n"
            ]
        },
        {
            "cell_type": "code",
            "execution_count": null,
            "metadata": {},
            "outputs": [],
            "source": [
                "We now apply this function to our text.\n",
                "\n"
            ]
        },
        {
            "cell_type": "markdown",
            "metadata": {},
            "source": [
                "gertext <- readLines(\"D:\\\\Uni\\\\UQ\\\\SLC\\\\LADAL\\\\SLCLADAL.github.io\\\\data/german.txt\")\n",
                "# pos tagging data\n",
                "textpos_de <- postag_de(object = gertext)\n"
            ]
        },
        {
            "cell_type": "code",
            "execution_count": null,
            "metadata": {},
            "outputs": [],
            "source": [
                "\n",
                "\n"
            ]
        },
        {
            "cell_type": "markdown",
            "metadata": {},
            "source": [
                "# inspect data\n",
                "textpos_de %>%\n",
                "  unlist() %>%\n",
                "  as.data.frame() %>%\n",
                "  flextable::flextable() %>%\n",
                "  flextable::set_table_properties(width = .95, layout = \"autofit\") %>%\n",
                "  flextable::theme_zebra() %>%\n",
                "  flextable::fontsize(size = 12) %>%\n",
                "  flextable::fontsize(size = 12, part = \"header\") %>%\n",
                "  flextable::align_text_col(align = \"center\") %>%\n",
                "  flextable::set_caption(caption = \"Pos-tagged textpos_de.\")  %>%\n",
                "  flextable::border_outer()\n"
            ]
        },
        {
            "cell_type": "code",
            "execution_count": null,
            "metadata": {},
            "outputs": [],
            "source": [
                "***\n",
                "\n",
                "<div class=\"warning\" style='padding:0.1em; background-color:#51247a; color:#f2f2f2'>\n",
                "<span>\n",
                "<p style='margin-top:1em; text-align:center'>\n",
                "<b>NOTE<\/b><br>You need to change the path that is used in the code below and include the path to `en-pos-maxent.bin` on your computer!<\/p>\n",
                "<p style='margin-left:1em;'>\n",
                "<\/p><\/span>\n",
                "<\/div>\n",
                "\n",
                "***\n"
            ]
        },
        {
            "cell_type": "markdown",
            "metadata": {},
            "source": [
                "#### pos-tagging texts from different languages\n",
                "\n",
                "postag_lang <- function(text, language){\n",
                "  require(\"dplyr\")\n",
                "  require(\"stringr\")\n",
                "  require(\"NLP\")\n",
                "  require(\"openNLP\")\n",
                "  require(\"openNLPdata\")\n",
                "  # define sentence annotator\n",
                "  sent_token_annotator <- openNLP::Maxent_Sent_Token_Annotator()\n",
                "  # define word annotator\n",
                "  word_token_annotator <- openNLP::Maxent_Word_Token_Annotator()\n",
                "  # define pos annotator\n",
                "  pos_tag_annotator_en <- openNLP::Maxent_POS_Tag_Annotator(language = \"en\", probs = FALSE, \n",
                "  model = \"C:\\\\Users\\\\marti\\\\OneDrive\\\\Dokumente\\\\R\\\\win-library\\\\4.1\\\\openNLPdata\\\\models\\\\en-pos-maxent.bin\")\n",
                "  pos_tag_annotator_da <- openNLP::Maxent_POS_Tag_Annotator(language = \"da\", probs = FALSE,                                      model = \"C:\\\\Users\\\\marti\\\\OneDrive\\\\Dokumente\\\\R\\\\win-library\\\\4.1\\\\openNLPmodels.da\\\\models\\\\da-pos-maxent.bin\")\n",
                "  pos_tag_annotator_nl <- openNLP::Maxent_POS_Tag_Annotator(language = \"nl\", probs = FALSE,                                    model = \"C:\\\\Users\\\\marti\\\\OneDrive\\\\Dokumente\\\\R\\\\win-library\\\\4.1\\\\openNLPmodels.nl\\\\models\\\\nl-pos-maxent.bin\")\n",
                "  pos_tag_annotator_pt <- openNLP::Maxent_POS_Tag_Annotator(language = \"pt\", probs = FALSE,                                    model = \"C:\\\\Users\\\\marti\\\\OneDrive\\\\Dokumente\\\\R\\\\win-library\\\\4.1\\\\openNLPmodels.pt\\\\models\\\\pt-pos-maxent.bin\")\n",
                "  pos_tag_annotator_de <- openNLP::Maxent_POS_Tag_Annotator(language = \"dt\", probs = FALSE,                                      model = \"C:\\\\Users\\\\marti\\\\OneDrive\\\\Dokumente\\\\R\\\\win-library\\\\4.1\\\\openNLPmodels.de\\\\models\\\\de-pos-maxent.bin\")\n",
                "  pos_tag_annotator_es <- openNLP::Maxent_POS_Tag_Annotator(language = \"es\", probs = FALSE,                                      model = \"C:\\\\Users\\\\marti\\\\OneDrive\\\\Dokumente\\\\R\\\\win-library\\\\4.1\\\\openNLPmodels.es\\\\models\\\\es-pos-maxent.bin\")\n",
                "  pos_tag_annotator_it <- openNLP::Maxent_POS_Tag_Annotator(language = \"it\", probs = FALSE,                                      model = \"C:\\\\Users\\\\marti\\\\OneDrive\\\\Dokumente\\\\R\\\\win-library\\\\4.1\\\\openNLPmodels.it\\\\models\\\\it-pos-maxent.bin\")\n",
                "  pos_tag_annotator_sv <- openNLP::Maxent_POS_Tag_Annotator(language = \"sv\", probs = FALSE,                                      model = \"C:\\\\Users\\\\marti\\\\OneDrive\\\\Dokumente\\\\R\\\\win-library\\\\4.1\\\\openNLPmodels.sv\\\\models\\\\sv-pos-maxent.bin\")\n",
                "  case_when(language == \"de\" ~ pos_tag_annotator_de -> pos_tag_annotator,\n",
                "            language == \"pt\" ~ pos_tag_annotator_pt -> pos_tag_annotator,\n",
                "            language == \"nl\" ~ pos_tag_annotator_nl -> pos_tag_annotator,\n",
                "            language == \"en\" ~ pos_tag_annotator_en -> pos_tag_annotator,\n",
                "            language == \"es\" ~ pos_tag_annotator_es -> pos_tag_annotator,\n",
                "            language == \"da\" ~ pos_tag_annotator_da -> pos_tag_annotator,\n",
                "            language == \"it\" ~ pos_tag_annotator_it -> pos_tag_annotator,\n",
                "            language == \"fr\" ~ pos_tag_annotator_fr -> pos_tag_annotator,\n",
                "            language == \"sv\" ~ pos_tag_annotator_sv -> pos_tag_annotator,\n",
                "            FALSE ~ cat(\"Define language as either\\nen, es, de, fr, it, pt, sv, or nl!\"))\n",
                "  # convert all file content to strings\n",
                "  Corpus <- lapply(text, function(x){\n",
                "    x <- as.String(x)  }  )\n",
                "  # loop over file contents\n",
                "  lapply(Corpus, function(x){\n",
                "    y1 <- NLP::annotate(x, list(sent_token_annotator, word_token_annotator))\n",
                "    y2<- NLP::annotate(x, pos_tag_annotator, y1)\n",
                "    y2w <- subset(y2, type == \"word\")\n",
                "    tags <- sapply(y2w$features, '[[', \"POS\")\n",
                "    r1 <- sprintf(\"%s/%s\", x[y2w], tags)\n",
                "    r2 <- paste(r1, collapse = \" \")\n",
                "    return(r2)  }  )\n",
                "  }\n",
                "\n",
                "# pos tagging data\n",
                "textpos_de2 <- postag_lang(text = gertext, language = \"de\")\n"
            ]
        },
        {
            "cell_type": "code",
            "execution_count": null,
            "metadata": {},
            "outputs": [],
            "source": [
                "\n",
                "\n"
            ]
        },
        {
            "cell_type": "markdown",
            "metadata": {},
            "source": [
                "# inspect data\n",
                "textpos_de2 %>%\n",
                "  unlist() %>%\n",
                "  as.data.frame() %>%\n",
                "  flextable::flextable() %>%\n",
                "  flextable::set_table_properties(width = .95, layout = \"autofit\") %>%\n",
                "  flextable::theme_zebra() %>%\n",
                "  flextable::fontsize(size = 12) %>%\n",
                "  flextable::fontsize(size = 12, part = \"header\") %>%\n",
                "  flextable::align_text_col(align = \"center\") %>%\n",
                "  flextable::set_caption(caption = \"Pos-tagged textpos_de2.\")  %>%\n",
                "  flextable::border_outer()\n"
            ]
        },
        {
            "cell_type": "code",
            "execution_count": null,
            "metadata": {},
            "outputs": [],
            "source": [
                "# POS-Tagging with TreeTagger\n",
                "\n",
                "An alternative to `openNLP` for pos-tagging texts in R is the `koRpus` package. The `koRpus` package uses the [TreeTagger](cf.http://www.cis.uni-muenchen.de/~schmid/tools/TreeTagger/) which means that the TreeTagger has to be installed prior to pos-tagging based on `koRpus` package. The `koRpus` package simply accesses the TreeTagger via R. The fact that the the implementation of the TreeTagger requires software outside of R that has to be installed separately and prior to being able to use the `koRpus` package and its functions in R represents a major disadvantage compared to the `openNLP` approach (which also relies on external software but this is contained within the `openNLP` package). In addition, the installation of the TreeTagger can  be  quite  tedious  to  implement  (in case you are running a Windows machine as I do). On the other hand, the `koRpus` package has the advantage that the TreeTagger encompasses more languages than the `openNLP` package and the TreeTagger can be relatively easily modified and trained on new data.\n",
                "\n",
                "## Installation on Windows\n",
                "\n",
                "As the installation of the TreeTagger can be somewhat tedious and time consuming, I would like to expand on what I did to get it going as this might save you some time and frustration.\n",
                "\n",
                "1. The first thing you should do is to install or re-install a Perl interpreter. You can simply do so by clicking [here](http://www.activestate.com/activeperl/) and following the installation instructions. \n",
                "\n",
                "2. Download the TreeTagger (click [here](https://www.cis.uni-muenchen.de/~schmid/tools/TreeTagger/data/tree-tagger-windows-3.2.3.zip) for a Windows-64 version and [here](https://www.cis.uni-muenchen.de/~schmid/tools/TreeTagger/data/tree-tagger-windows32-3.2.3.zip) for a Windows-32 version). Move the zip-file to the root directory on your C-drive (C:/) and extract the zip file.\n",
                "\n",
                "3. Download the parameter files for the languages you need (you will find the parameters files under *Parameter files* [here](https://www.cis.uni-muenchen.de/~schmid/tools/TreeTagger/#Windows)). Then decompress the parameter files and move them to the sub-directory `TreeTagger/lib`. Rename the parameter files to `<language>-utf8.par`. For example, rename the file `french-par-linux-3.2-utf8.bin` as `french-utf8.par`.\n",
                "\n",
                "4. Now you need to set a path variable. You need to add the path `C:\\TreeTagger\\bin` to the `PATH` environment variable. How to do this differs across Windows versions. You can find a video tutorial on how to change path variables in Windows 10 [here](https://www.youtube.com/watch?v=Frrlv_5rGhY). If you have a different Windows version, e.g. Windows 7, I recommend you search for *Set path variable in Windows 7* on YouTube and follow the instructions. \n",
                "   \n",
                "5. Next, open a command prompt window and type the command:\n"
            ]
        },
        {
            "cell_type": "markdown",
            "metadata": {},
            "source": "set PATH=C:\\TreeTagger\\bin;%PATH%\n"
        },
        {
            "cell_type": "code",
            "execution_count": null,
            "metadata": {},
            "outputs": [],
            "source": [
                "6. Then, go to the directory C:\\TreeTagger by typing the command:\n",
                "\n"
            ]
        },
        {
            "cell_type": "markdown",
            "metadata": {},
            "source": "cd c:\\TreeTagger\n"
        },
        {
            "cell_type": "code",
            "execution_count": null,
            "metadata": {},
            "outputs": [],
            "source": [
                "7. Now, everything should be running and you can test the tagger, e.g. by pos-tagging the TreeTagger installation file. To do this, type the command:\n",
                "\n"
            ]
        },
        {
            "cell_type": "markdown",
            "metadata": {},
            "source": "tag-english INSTALL.txt\n"
        },
        {
            "cell_type": "code",
            "execution_count": null,
            "metadata": {},
            "outputs": [],
            "source": [
                "If you do not get the pos-tagged results after a few seconds, restart your computer and repeat steps 1 to 7. \n",
                "   \n",
                "If you install the TreeTagger in a different directory, you have to modify the first path in the batch files tag-*.bat using an editor such as `Wordpad`.\n",
                "\n",
                "The main issues that occurred during my installation was that I had to re-install Java but once I had done so, it finally worked.  \n",
                "\n",
                "## Using the TreeTagger\n",
                "\n",
                "In this example, we simply implement the TreeTagger without training it!  This is in fact not a good practice and should be avoided as I have no way of knowing how good the performance is or what I could do to improve its performance!\n"
            ]
        },
        {
            "cell_type": "markdown",
            "metadata": {},
            "source": [
                "# perform  POS  tagging\n",
                "set.kRp.env(TT.cmd=\"C:\\\\TreeTagger\\\\bin\\\\tag-english.bat\", lang=\"en\") \n",
                "postagged <- treetag(\"D:\\\\Uni\\\\UQ\\\\SLC\\\\LADAL\\\\SLCLADAL.github.io\\\\data\\\\testcorpus/linguistics07.txt\")\n"
            ]
        },
        {
            "cell_type": "code",
            "execution_count": null,
            "metadata": {},
            "outputs": [],
            "source": [
                "\n",
                "\n"
            ]
        },
        {
            "cell_type": "markdown",
            "metadata": {},
            "source": [
                "# inspect data\n",
                "postagged@tokens %>%\n",
                "  as.data.frame() %>%\n",
                "  head(10) %>%\n",
                "  flextable::flextable() %>%\n",
                "  flextable::set_table_properties(width = .95, layout = \"autofit\") %>%\n",
                "  flextable::theme_zebra() %>%\n",
                "  flextable::fontsize(size = 12) %>%\n",
                "  flextable::fontsize(size = 12, part = \"header\") %>%\n",
                "  flextable::align_text_col(align = \"center\") %>%\n",
                "  flextable::set_caption(caption = \"First 10 rows of the output.\")  %>%\n",
                "  flextable::border_outer()\n"
            ]
        },
        {
            "cell_type": "code",
            "execution_count": null,
            "metadata": {},
            "outputs": [],
            "source": [
                "We can now paste the text and the pos-tags together using the `paste` function from base R.\n",
                "\n"
            ]
        },
        {
            "cell_type": "markdown",
            "metadata": {},
            "source": "postaggedtext <- paste(postagged@tokens$token, postagged@tokens$tag, sep = \"/\", collapse = \" \")\n"
        },
        {
            "cell_type": "code",
            "execution_count": null,
            "metadata": {},
            "outputs": [],
            "source": [
                "\n",
                "\n"
            ]
        },
        {
            "cell_type": "markdown",
            "metadata": {},
            "source": [
                "# inspect data\n",
                "postaggedtext %>%\n",
                "  as.data.frame() %>%\n",
                "  flextable::flextable() %>%\n",
                "  flextable::set_table_properties(width = .95, layout = \"autofit\") %>%\n",
                "  flextable::theme_zebra() %>%\n",
                "  flextable::fontsize(size = 12) %>%\n",
                "  flextable::fontsize(size = 12, part = \"header\") %>%\n",
                "  flextable::align_text_col(align = \"center\") %>%\n",
                "  flextable::set_caption(caption = \"TreeTagger pos-tagged text.\")  %>%\n",
                "  flextable::border_outer()\n"
            ]
        },
        {
            "cell_type": "code",
            "execution_count": null,
            "metadata": {},
            "outputs": [],
            "source": [
                "## POS-Tagging multiple files\n",
                "\n",
                "To pos-tag several files at once you need to create a list of paths and then apply the `treetagger` to each of the path elements. Once we have done so, we inspect the structure of the resulting vector which now holds the pos-tagged texts.\n"
            ]
        },
        {
            "cell_type": "markdown",
            "metadata": {},
            "source": [
                "corpuspath <- here::here(\"data/testcorpus\")\n",
                "# generate list of corpus files\n",
                "corpusfiles <- list.files(corpuspath)\n",
                "cfiles <- paste0(corpuspath, \"/\", corpusfiles, sep = \"\")\n",
                "# apply treetagger to each file in corpus\n",
                "postagged_files <- sapply(cfiles, function(x){\n",
                "  set.kRp.env(TT.cmd=\"C:\\\\TreeTagger\\\\bin\\\\tag-english.bat\", lang=\"en\") \n",
                "  x <- treetag(x)\n",
                "  x <- paste(x@tokens$token, x@tokens$tag, sep = \"/\", collapse = \" \")\n",
                "})\n",
                "# inspect  text.tagged\n",
                "str(postagged_files)\n"
            ]
        },
        {
            "cell_type": "code",
            "execution_count": null,
            "metadata": {},
            "outputs": [],
            "source": [
                "The first pos-tagged corpus file looks like this.\n",
                "\n"
            ]
        },
        {
            "cell_type": "markdown",
            "metadata": {},
            "source": [
                "# inspect data\n",
                "postagged_files[1] %>%\n",
                "  as.data.frame() %>%\n",
                "  flextable::flextable() %>%\n",
                "  flextable::set_table_properties(width = .95, layout = \"autofit\") %>%\n",
                "  flextable::theme_zebra() %>%\n",
                "  flextable::fontsize(size = 12) %>%\n",
                "  flextable::fontsize(size = 12, part = \"header\") %>%\n",
                "  flextable::align_text_col(align = \"center\") %>%\n",
                "  flextable::set_caption(caption = \"First 10 rows of the output.\")  %>%\n",
                "  flextable::border_outer()\n"
            ]
        },
        {
            "cell_type": "code",
            "execution_count": null,
            "metadata": {},
            "outputs": [],
            "source": [
                "Note that the tag set used for the pos-tagging above differs slightly from the Penn Treebank Tag set. For example, the end of sentences are tagged as `SENT` rather as `PUNC`. \n",
                "\n",
                "## POS-Tagging non-English texts\n",
                "\n",
                "In addition to being very flexible, the TreeTagger is appealing because it supports a comparatively large sample of languages. Here is the list of languages (or varieties) that are currently supported: Bulgarian, Catalan, Chinese, Coptic, Czech, Danish, Dutch, English, Estonian, Finnish, French, Spoken French, Old French, Galician, German, Spoken German, Middle High German, Greek, Ancient Greek, Hausa, Italian, Korean, Latin, Mongolian, Norwegian (Bokmaal), Polish, Portuguese, Romanian, Russian, Slovak, Slovenian, Spanish, Swahili, Swedish. \n",
                "\n",
                "Unfortunately, not all of these language models are available for R. Currently only language support for English, German, French, Spanish, Italian, and Dutch is currently available via the `koRpus` package. To be able to use the existing pos-tagging models, you need to download the parameter files as described above and then stored in the `lib` folder of the TreeTagger folder at the root of your `C:/`- drive as well as install the respective `koRpus.lang` models (see below). These models then have to be activated using the `library` function.\n",
                "\n",
                "### POS-Tagging a German text\n"
            ]
        },
        {
            "cell_type": "markdown",
            "metadata": {},
            "source": [
                "# perform  POS  tagging\n",
                "set.kRp.env(TT.cmd=\"C:\\\\TreeTagger\\\\bin\\\\tag-german.bat\", lang=\"de\") \n",
                "postagged_german <- treetag(here::here(\"data\", \"german.txt\"))\n"
            ]
        },
        {
            "cell_type": "code",
            "execution_count": null,
            "metadata": {},
            "outputs": [],
            "source": [
                "\n",
                "\n"
            ]
        },
        {
            "cell_type": "markdown",
            "metadata": {},
            "source": [
                "# inspect data\n",
                "postagged_german@tokens %>%\n",
                "  as.data.frame() %>%\n",
                "  head(10) %>%\n",
                "  flextable::flextable() %>%\n",
                "  flextable::set_table_properties(width = .95, layout = \"autofit\") %>%\n",
                "  flextable::theme_zebra() %>%\n",
                "  flextable::fontsize(size = 12) %>%\n",
                "  flextable::fontsize(size = 12, part = \"header\") %>%\n",
                "  flextable::align_text_col(align = \"center\") %>%\n",
                "  flextable::set_caption(caption = \"First 10 rows of the postagged_german output.\")  %>%\n",
                "  flextable::border_outer()\n"
            ]
        },
        {
            "cell_type": "code",
            "execution_count": null,
            "metadata": {},
            "outputs": [],
            "source": [
                "The German annotation uses the [Stuttgart-Tuebingen tag set](https://www.cis.uni-muenchen.de/~schmid/tools/TreeTagger/data/STTS-Tagset.pdf) (STTS) which is described in great detail [here](http://www.sfs.uni-tuebingen.de/resources/stts-1999.pdf).\n",
                "\n",
                "### POS-Tagging a French text\n"
            ]
        },
        {
            "cell_type": "markdown",
            "metadata": {},
            "source": [
                "# perform  POS  tagging\n",
                "set.kRp.env(TT.cmd=\"C:\\\\TreeTagger\\\\bin\\\\tag-french.bat\", lang=\"fr\") \n",
                "postagged_french <- treetag(here::here(\"data\", \"french.txt\"))\n"
            ]
        },
        {
            "cell_type": "code",
            "execution_count": null,
            "metadata": {},
            "outputs": [],
            "source": [
                "\n",
                "\n"
            ]
        },
        {
            "cell_type": "markdown",
            "metadata": {},
            "source": [
                "# inspect data\n",
                "postagged_french@tokens %>%\n",
                "  as.data.frame() %>%\n",
                "  head(10) %>%\n",
                "  flextable::flextable() %>%\n",
                "  flextable::set_table_properties(width = .95, layout = \"autofit\") %>%\n",
                "  flextable::theme_zebra() %>%\n",
                "  flextable::fontsize(size = 12) %>%\n",
                "  flextable::fontsize(size = 12, part = \"header\") %>%\n",
                "  flextable::align_text_col(align = \"center\") %>%\n",
                "  flextable::set_caption(caption = \"First 10 rows of the postagged_french output.\")  %>%\n",
                "  flextable::border_outer()\n"
            ]
        },
        {
            "cell_type": "code",
            "execution_count": null,
            "metadata": {},
            "outputs": [],
            "source": [
                "The tag set used for pos-tagging French texts is described here and summarized below.\n",
                "\n"
            ]
        },
        {
            "cell_type": "markdown",
            "metadata": {},
            "source": [
                "Tag <- c(\"BR\",  \"ADJ\",  \"ADV\",  \"DET:ART\",  \"DET:POS\",  \"INT\",  \"KON\",  \"NAM\",  \"NOM\",  \"NUM\",  \"PRO\",  \"PRO:DEM\",  \"PRO:IND\",  \"PRO:PER\",  \"PRO:POS\",  \"PRO:REL\",  \"PRP\",  \"PRP:det\",  \"PUN\",  \"PUN:cit\",  \"SENT\",  \"SYM\",  \"VER:cond\", \"VER:futu\", \"VER:impe\", \"VER:impf\", \"VER:infi\", \"VER:pper\", \"VER:ppre\", \"VER:pres\", \"VER:simp\", \"VER:subi\", \"VER:subp\")\n",
                "Description <- c(\"abreviation\", \"adjective\", \"adverb\", \"article\", \"possessive pronoun (ma, ta, ...)\", \"interjection\", \"conjunction\", \"proper name\", \"noun\", \"numeral\", \"pronoun\", \"demonstrative pronoun\", \"indefinite pronoun\", \"personal pronoun\", \"possessive pronoun (mien, tien, ...)\", \"relative pronoun\", \"preposition\", \"preposition plus article (au,du,aux,des)\", \"punctuation\", \"punctuation citation\", \"sentence tag\", \"symbol\", \"verb conditional\", \"verb futur\", \"verb imperative\", \"verb imperfect\", \"verb infinitive\", \"verb past participle\", \"verb present participle\", \"verb present\", \"verb simple past\", \"verb subjunctive imperfect\", \"verb subjunctive present\")\n",
                "tagfr <- data.frame(Tag, Description)\n",
                "# inspect  results\n",
                "datatable(tagfr, rownames = FALSE, options = list(pageLength = 5, scrollX=T), filter = \"none\")\n"
            ]
        },
        {
            "cell_type": "code",
            "execution_count": null,
            "metadata": {},
            "outputs": [],
            "source": [
                "### POS-Tagging a Spanish text\n",
                "\n"
            ]
        },
        {
            "cell_type": "markdown",
            "metadata": {},
            "source": [
                "# perform  POS  tagging\n",
                "set.kRp.env(TT.cmd=\"C:\\\\TreeTagger\\\\bin\\\\tag-spanish.bat\", lang=\"es\") \n",
                "postagged_spanish <- treetag(here::here(\"data\", \"spanish.txt\"))\n"
            ]
        },
        {
            "cell_type": "code",
            "execution_count": null,
            "metadata": {},
            "outputs": [],
            "source": [
                "\n",
                "\n"
            ]
        },
        {
            "cell_type": "markdown",
            "metadata": {},
            "source": [
                "# inspect data\n",
                "postagged_spanish@tokens %>%\n",
                "  as.data.frame() %>%\n",
                "  head(10) %>%\n",
                "  flextable::flextable() %>%\n",
                "  flextable::set_table_properties(width = .95, layout = \"autofit\") %>%\n",
                "  flextable::theme_zebra() %>%\n",
                "  flextable::fontsize(size = 12) %>%\n",
                "  flextable::fontsize(size = 12, part = \"header\") %>%\n",
                "  flextable::align_text_col(align = \"center\") %>%\n",
                "  flextable::set_caption(caption = \"First 10 rows of the postagged_spanish output.\")  %>%\n",
                "  flextable::border_outer()\n"
            ]
        },
        {
            "cell_type": "code",
            "execution_count": null,
            "metadata": {},
            "outputs": [],
            "source": [
                "The tag set used for pos-tagging Spanish texts is described [here](https://www.cis.uni-muenchen.de/~schmid/tools/TreeTagger/data/french-tagset.html) and summarized below.\n",
                "\n"
            ]
        },
        {
            "cell_type": "markdown",
            "metadata": {},
            "source": [
                "Tag <- c(\"ACRNM\", \"ADJ\", \"ADV\", \"ALFP\", \"ALFS\", \"ART\", \"BACKSLAS\", \"CARD\", \"CC\", \"CCAD\", \"CCNEG\", \"CM\", \"CODE\", \"COLON\", \"CQUE\", \"CSUBF\", \"CSUBI\", \"CSUBX\", \"DASH\", \"DM\", \"DOTS\", \"FO\", \"FS\", \"INT\", \"ITJN\", \"LP\", \"NC\", \"NEG\", \"NMEA\", \"NMON\", \"NP\", \"ORD\", \"PAL\", \"PDEL\", \"PE\", \"PERCT\", \"PNC\", \"PPC\", \"PPO\", \"PPX\", \"PREP\", \"PREP\", \"PREP/DEL\", \"QT\", \"QU\", \"REL\", \"RP\", \"SE\", \"SEMICOLON\", \"SLASH\", \"SYM\", \"UMMX\", \"VCLIger\", \"VCLIinf\", \"VCLIfin\", \"VEadj\", \"VEfin\", \"VEger\", \"VEinf\", \"VHadj\", \"VHfin\", \"VHger\", \"VHinf\", \"VLadj\", \"VLfin\", \"VLger\", \"VLinf\", \"VMadj\", \"VMfin\", \"VMger\", \"VMinf\", \"VSadj\", \"VSfin\", \"VSger\", \"VSinf\")\n",
                "Description <- c(\"acronym (ISO, CEI)\", \"Adjectives (mayores, mayor)\", \"Adverbs (muy, demasiado, cómo)\", \"Plural letter of the alphabet (As/Aes, bes)\", \"Singular letter of the alphabet (A, b)\", \"Articles (un, las, la, unas)\", \"H backslash\", \"Cardinals\", \"Coordinating conjunction (y, o)\", \"Adversative coordinating conjunction (pero)\", \"Negative coordinating conjunction (ni)\", \"comma (,)\", \"Alphanumeric code\", \"colon (:)\", \"que (as conjunction)\", \"Subordinating conjunction that introduces finite clauses (apenas)\", \"Subordinating conjunction that introduces infinite clauses (al)\", \"Subordinating conjunction underspecified for subord-type (aunque)\", \"dash (-)\", \"Demonstrative pronouns (ésas, ése, esta)\", \"pos-tag for ...\", \"Formula\", \"Full stop punctuation marks\", \"Interrogative pronouns (quiénes, cuántas, cuánto)\", \"Interjection (oh, ja)\", \"left parenthesis\", \"Common nouns (mesas, mesa, libro, ordenador)\", \"Negation\", \"measure noun (metros, litros)\", \"month name\", \"Proper nouns\", \"Ordinals (primer, primeras, primera)\", \"Portmanteau word formed by a and el\", \"Portmanteau word formed by de and el\", \"Foreign word\", \"percent sign\", \"Unclassified word\", \"Clitic personal pronoun (le, les)\", \"Possessive pronouns (mi, su, sus)\", \"Clitics and personal pronouns (nos, me, nosotras, te, sí)\", \"Negative preposition (sin)\", \"Preposition\", \"Complex preposition despues del\", \"quotation symbol\", \"Quantifiers (sendas, cada)\", \"Relative pronouns (cuyas, cuyo)\", \"right parenthesis\", \"Se (as particle)\", \"semicolon\", \"slash\", \"Symbols\", \"measure unit (MHz, km, mA)\", \"clitic gerund verb\", \"clitic infinitive verb\", \"clitic finite verb\", \"Verb estar. Past participle\", \"Verb estar. Finite\", \"Verb estar. Gerund\", \"Verb estar. Infinitive\", \"Verb haber. Past participle\", \"Verb haber. Finite\", \"Verb haber. Gerund\", \"Verb haber. Infinitive\", \"Lexical verb. Past participle\", \"Lexical verb. Finite\", \"Lexical verb. Gerund\", \"Lexical verb. Infinitive\", \"Modal verb. Past participle\", \"Modal verb. Finite\", \"Modal verb. Gerund\", \"Modal verb. Infinitive\", \"Verb ser. Past participle\", \"Verb ser. Finite\", \"Verb ser. Gerund\", \"Verb ser. Infinitive\")\n",
                "tagfr <- data.frame(Tag, Description)\n",
                "# inspect  results\n",
                "datatable(tagfr, rownames = FALSE, options = list(pageLength = 10, scrollX=T), filter = \"none\")\n"
            ]
        },
        {
            "cell_type": "code",
            "execution_count": null,
            "metadata": {},
            "outputs": [],
            "source": [
                "### POS-Tagging an Italian text\n",
                "\n"
            ]
        },
        {
            "cell_type": "markdown",
            "metadata": {},
            "source": [
                "# perform  POS  tagging\n",
                "set.kRp.env(TT.cmd=\"C:\\\\TreeTagger\\\\bin\\\\tag-italian.bat\", lang=\"it\") \n",
                "postagged_italian <- treetag(here::here(\"data\", \"italian.txt\"))\n"
            ]
        },
        {
            "cell_type": "code",
            "execution_count": null,
            "metadata": {},
            "outputs": [],
            "source": [
                "\n",
                "\n"
            ]
        },
        {
            "cell_type": "markdown",
            "metadata": {},
            "source": [
                "# inspect data\n",
                "postagged_italian@tokens %>%\n",
                "  as.data.frame() %>%\n",
                "  head(10) %>%\n",
                "  flextable::flextable() %>%\n",
                "  flextable::set_table_properties(width = .95, layout = \"autofit\") %>%\n",
                "  flextable::theme_zebra() %>%\n",
                "  flextable::fontsize(size = 12) %>%\n",
                "  flextable::fontsize(size = 12, part = \"header\") %>%\n",
                "  flextable::align_text_col(align = \"center\") %>%\n",
                "  flextable::set_caption(caption = \"First 10 rows of the postagged_italian output.\")  %>%\n",
                "  flextable::border_outer()\n"
            ]
        },
        {
            "cell_type": "code",
            "execution_count": null,
            "metadata": {},
            "outputs": [],
            "source": [
                "The tag set used for pos-tagging Italian texts is described [here](https://www.cis.uni-muenchen.de/~schmid/tools/TreeTagger/data/italian-tagset.txt) and summarized below.\n",
                "\n"
            ]
        },
        {
            "cell_type": "markdown",
            "metadata": {},
            "source": [
                "Tag <- c(\"ABR\", \"ADJ\", \"ADV\", \"CON\", \"DET:def\", \"DET:indef\", \"FW\", \"INT\", \"LS\", \"NOM\", \"NPR\", \"NUM\", \"PON\", \"PRE\", \"PRE:det\", \"PRO\", \"PRO:demo\", \"PRO:indef\", \"PRO:inter\", \"PRO:pers\", \"PRO:poss\", \"PRO:refl\", \"PRO:rela\", \"SENT\", \"SYM\", \"VER:cimp\", \"VER:cond\", \"VER:cpre\", \"VER:futu\", \"VER:geru\", \"VER:impe\", \"VER:impf\", \"VER:infi\", \"VER:pper\", \"VER:ppre\", \"VER:pres\", \"VER:refl:infi\", \"VER:remo\")\n",
                "Description <- c(\"abbreviation\", \"adjective\", \"adverb\", \"conjunction\", \"definite article\", \"indefinite article\", \"foreign word\", \"interjection\", \"list symbol\", \"noun\", \"name\", \"numeral\", \"punctuation\", \"preposition\", \"preposition+article\", \"pronoun\", \"demonstrative pronoun\", \"indefinite pronoun\", \"interrogative pronoun\", \"personal pronoun\", \"possessive pronoun\", \"reflexive pronoun\", \"relative pronoun\", \"sentence marker\", \"symbol\", \"verb conjunctive imperfect\", \"verb conditional\", \"verb conjunctive present\", \"verb future tense\", \"verb gerund\", \"verb imperative\", \"verb imperfect\", \"verb infinitive\", \"verb participle perfect\", \"verb participle present\", \"verb present\", \"verb reflexive infinitive\", \"verb simple past\")\n",
                "tagfr <- data.frame(Tag, Description)\n",
                "# inspect  results\n",
                "datatable(tagfr, rownames = FALSE, options = list(pageLength = 10, scrollX=T), filter = \"none\")\n"
            ]
        },
        {
            "cell_type": "code",
            "execution_count": null,
            "metadata": {},
            "outputs": [],
            "source": [
                "### POS-Tagging a Dutch text\n",
                "\n"
            ]
        },
        {
            "cell_type": "markdown",
            "metadata": {},
            "source": [
                "# perform  POS  tagging\n",
                "set.kRp.env(TT.cmd=\"C:\\\\TreeTagger\\\\bin\\\\tag-dutch.bat\", lang=\"nl\") \n",
                "postagged_dutch <- treetag(here::here(\"data\", \"dutch.txt\"))\n"
            ]
        },
        {
            "cell_type": "code",
            "execution_count": null,
            "metadata": {},
            "outputs": [],
            "source": [
                "\n",
                "\n"
            ]
        },
        {
            "cell_type": "markdown",
            "metadata": {},
            "source": [
                "# inspect data\n",
                "postagged_dutch@tokens %>%\n",
                "  as.data.frame() %>%\n",
                "  head(10) %>%\n",
                "  flextable::flextable() %>%\n",
                "  flextable::set_table_properties(width = .95, layout = \"autofit\") %>%\n",
                "  flextable::theme_zebra() %>%\n",
                "  flextable::fontsize(size = 12) %>%\n",
                "  flextable::fontsize(size = 12, part = \"header\") %>%\n",
                "  flextable::align_text_col(align = \"center\") %>%\n",
                "  flextable::set_caption(caption = \"First 10 rows of the postagged_dutch output.\")  %>%\n",
                "  flextable::border_outer()\n"
            ]
        },
        {
            "cell_type": "code",
            "execution_count": null,
            "metadata": {},
            "outputs": [],
            "source": [
                "The tag set used for pos-tagging Dutch texts is available  [here](https://www.cis.uni-muenchen.de/~schmid/tools/TreeTagger/data/dutch-tagset.txt) and summarized below.\n",
                "\n"
            ]
        },
        {
            "cell_type": "markdown",
            "metadata": {},
            "source": [
                "Tag <- c(\"$.\", \"adj\", \"adj*kop\", \"adjabbr\", \"adv\", \"advabbr\", \"conjcoord\", \"conjsubo\", \"det__art\", \"det__demo\", \"det__indef\", \"det__poss\", \"det__quest\", \"det__rel\", \"int\", \"noun*kop\", \"nounabbr\", \"nounpl\", \"nounprop\", \"nounsg\", \"num__card\", \"num__ord\", \"partte\", \"prep\", \"prepabbr\", \"pronadv\", \"prondemo\", \"pronindef\", \"pronpers\", \"pronposs\", \"pronquest\", \"pronrefl\", \"pronrel\", \"punc\", \"verbinf\", \"verbpapa\", \"verbpastpl\", \"verbpastsg\", \"verbpresp\", \"verbprespl\", \"verbpressg\")\n",
                "Description <- c(\"sentence-final punctuation\", \"adjective\", \"truncated adjective\", \"abbreviated adjective\", \"adverb\", \"abbreviated adverb\", \"coordinating conjunction\", \"subordinating conjunction\", \"article\", \"attributively used demonstrative pronoun\", \"attributively used indefinite pronoun\", \"attributively used possessive pronoun\", \"attributively used question pronoun\", \"attributively used relative pronoun\", \"interjection\", \"truncated noun\", \"abbreviated noun\", \"plural noun\", \"proper name\", \"singular noun\", \"cardinal number\", \"ordinal number\", \"particle te\", \"preposition\", \"abbreviated preposition\", \"pronomial adverb\", \"demonstrative pronoun (used substitutively)\", \"indefined pronoun\", \"personal pronoun\", \"possessive pronoun\", \"question pronoun\", \"reflexive pronoun\", \"relative pronoun\", \"(non-sentential) punctuation\", \"infinitival verb\", \"past participle verb\", \"plural past tense verb\", \"singular past tense verb\", \"present participle verb\", \"plural present tense verb\", \"singular present tense verb\")\n",
                "tagfr <- data.frame(Tag, Description)\n",
                "# inspect  results\n",
                "datatable(tagfr, rownames = FALSE, options = list(pageLength = 10, scrollX=T), filter = \"none\")\n"
            ]
        },
        {
            "cell_type": "code",
            "execution_count": null,
            "metadata": {},
            "outputs": [],
            "source": [
                "# POS-Tagging with coreNLP\n",
                "\n",
                "Another package that is very handy when it comes to pos-tagging but more importantly syntactic parsing is the `coreNLP` package [see @arnold2015humanities]. \n",
                "\n",
                "***\n",
                "\n",
                "<div class=\"warning\" style='padding:0.1em; background-color:#51247a; color:#f2f2f2'>\n",
                "<span>\n",
                "<p style='margin-top:1em; text-align:center'>\n",
                "<b>NOTE<\/b><br>Unfortunately, we cannot use it at this point as my machine runs out of memory when I try running the code below.<\/p>\n",
                "<p style='margin-left:1em;'>\n",
                "<\/p><\/span>\n",
                "<\/div>\n",
                "\n",
                "***\n"
            ]
        },
        {
            "cell_type": "markdown",
            "metadata": {},
            "source": [
                "options(java.parameters = \"-Xmx4096m\")\n",
                "initCoreNLP(mem = \"8g\")\n",
                "# annotate\n",
                "annotation <- annotateString(text)\n",
                "annotation\n"
            ]
        },
        {
            "cell_type": "code",
            "execution_count": null,
            "metadata": {},
            "outputs": [],
            "source": [
                "# Syntactic Parsing\n",
                "\n",
                "Parsing refers to another type of annotation in which either structural information (as in the case of XML documents) or syntactic relations are added to text. As syntactic parsing is commonly more relevant in the language sciences, the following will focus only on syntactic parsing. syntactic parsing builds on pos-tagging and allows drawing syntactic trees or dependencies. Unfortunately, syntactic parsing still has relatively high error rates when dealing with language that is not very formal. However, syntactic parsing is very reliable when dealing with written language.\n"
            ]
        },
        {
            "cell_type": "markdown",
            "metadata": {},
            "source": [
                "text <- readLines(\"https://slcladal.github.io/data/english.txt\")\n",
                "# convert character to string\n",
                "s <- as.String(text)\n",
                "# define sentence and word token annotator\n",
                "sent_token_annotator <- openNLP::Maxent_Sent_Token_Annotator()\n",
                "word_token_annotator <- openNLP::Maxent_Word_Token_Annotator()\n",
                "# apply sentence and word annotator\n",
                "a2 <- NLP::annotate(s, list(sent_token_annotator, word_token_annotator))\n",
                "# define syntactic parsing annotator\n",
                "parse_annotator <- openNLP::Parse_Annotator()\n",
                "# apply parser\n",
                "p <- parse_annotator(s, a2)\n",
                "# extract parsed information\n",
                "ptexts <- sapply(p$features, '[[', \"parse\")\n",
                "ptexts\n"
            ]
        },
        {
            "cell_type": "code",
            "execution_count": null,
            "metadata": {},
            "outputs": [],
            "source": [
                "\n",
                "\n"
            ]
        },
        {
            "cell_type": "markdown",
            "metadata": {},
            "source": [
                "# read into NLP Tree objects.\n",
                "ptrees <- lapply(ptexts, Tree_parse)\n",
                "# show frist tree\n",
                "ptrees[[1]]\n"
            ]
        },
        {
            "cell_type": "code",
            "execution_count": null,
            "metadata": {},
            "outputs": [],
            "source": [
                "These trees can, of course, also be shown visually, for instance, in the form of a syntax trees (or tree dendrogram). \n",
                "\n"
            ]
        },
        {
            "cell_type": "markdown",
            "metadata": {},
            "source": [
                "# generate syntax tree\n",
                "parse2graph(ptexts[1], leaf.color='red',\n",
                "            # to put sentence in title (not advisable for long sentences)\n",
                "            #title = stringr::str_squish(stringr::str_remove_all(ptexts[1], \"\\\\(\\\\,{0,1}[A-Z]{0,4}|\\\\)\")), \n",
                "            margin=-0.05,\n",
                "            vertex.color=NA,\n",
                "            vertex.frame.color=NA, \n",
                "            vertex.label.font=2,\n",
                "            vertex.label.cex=.75,  \n",
                "            asp=.8,\n",
                "            edge.width=.5, \n",
                "            edge.color='gray', \n",
                "            edge.arrow.size=0)\n"
            ]
        },
        {
            "cell_type": "code",
            "execution_count": null,
            "metadata": {},
            "outputs": [],
            "source": [
                "Syntax trees are very handy because the allow us to check how reliable the parser performed. \n",
                "\n",
                "We can use the `get_phrase_type_regex` function from the `parsent` package written by Tyler Rinker\n",
                "to extract phrases from the parsed tree.\n"
            ]
        },
        {
            "cell_type": "markdown",
            "metadata": {},
            "source": [
                "pacman::p_load_gh(c(\"trinker/textshape\", \"trinker/parsent\"))\n",
                "nps <- get_phrase_type_regex(ptexts[1], \"NP\") %>%\n",
                "  unlist()\n",
                "# inspect\n",
                "nps\n"
            ]
        },
        {
            "cell_type": "code",
            "execution_count": null,
            "metadata": {},
            "outputs": [],
            "source": [
                "We can now extract the leaves from the text to get the parsed object.\n",
                "\n"
            ]
        },
        {
            "cell_type": "markdown",
            "metadata": {},
            "source": [
                "nps_text <- stringr::str_squish(stringr::str_remove_all(nps, \"\\\\(\\\\,{0,1}[A-Z]{0,4}|\\\\)\"))\n",
                "# inspect\n",
                "nps_text\n"
            ]
        },
        {
            "cell_type": "code",
            "execution_count": null,
            "metadata": {},
            "outputs": [],
            "source": [
                "Unfortunately, we can only extract top level phrases (the NPs with the NPs are npt extracted separately).\n",
                "\n",
                "In order to extract all phrases, we can use the `phrasemachine` from the CRAN archive. \n",
                "\n",
                "We now load the  `phrasemachine` package and pos-tag the text(s) (we will simply re-use the English text we pos-tagged before.)\n"
            ]
        },
        {
            "cell_type": "markdown",
            "metadata": {},
            "source": [
                "# pos tag text\n",
                "tagged_documents <- phrasemachine::POS_tag_documents(text)\n",
                "# inspect\n",
                "tagged_documents\n"
            ]
        },
        {
            "cell_type": "code",
            "execution_count": null,
            "metadata": {},
            "outputs": [],
            "source": [
                "In a next step, we can use the `extract_phrases` function to extract phrases.\n",
                "\n"
            ]
        },
        {
            "cell_type": "markdown",
            "metadata": {},
            "source": [
                "#extract phrases\n",
                "phrases <- phrasemachine::extract_phrases(tagged_documents,\n",
                "                                          regex = \"(A|N)*N(PD*(A|N)*N)*\",\n",
                "                                          maximum_ngram_length = 8,\n",
                "                                          minimum_ngram_length = 1)\n",
                "# inspect\n",
                "phrases\n"
            ]
        },
        {
            "cell_type": "code",
            "execution_count": null,
            "metadata": {},
            "outputs": [],
            "source": [
                "Now, we have all noun phrases that occur in the English sample text.\n",
                "\n",
                "# Citation & Session Info \n",
                "\n",
                "Schweinberger, Martin. `r format(Sys.time(), '%Y')`. *POS-Tagging and Syntactic Parsing with R*. Brisbane: The University of Queensland. url: https://slcladal.github.io/tagging.html (Version `r format(Sys.time(), '%Y.%m.%d')`).\n"
            ]
        },
        {
            "cell_type": "markdown",
            "metadata": {},
            "source": [
                "@manual{schweinberger`r format(Sys.time(), '%Y')`pos,\n",
                "  author = {Schweinberger, Martin},\n",
                "  title = {pos-Tagging and Syntactic Parsing with R},\n",
                "  note = {https://slcladal.github.io/tagging.html},\n",
                "  year = {`r format(Sys.time(), '%Y')`},\n",
                "  organization = \"The University of Queensland, School of Languages and Cultures},\n",
                "  address = {Brisbane},\n",
                "  edition = {`r format(Sys.time(), '%Y.%m.%d')`}\n",
                "}\n"
            ]
        },
        {
            "cell_type": "code",
            "execution_count": null,
            "metadata": {},
            "outputs": [],
            "source": [
                "\n",
                "\n"
            ]
        },
        {
            "cell_type": "markdown",
            "metadata": {},
            "source": "sessionInfo()\n"
        },
        {
            "cell_type": "code",
            "execution_count": null,
            "metadata": {},
            "outputs": [],
            "source": [
                "***\n",
                "\n",
                "[Back to top](#introduction)\n",
                "\n",
                "[Back to HOME](https://slcladal.github.io/index.html)\n",
                "\n",
                "***\n",
                "\n",
                "# References\n"
            ]
        }
    ],
    "metadata": {
        "anaconda-cloud": "",
        "kernelspec": {
            "display_name": "R",
            "langauge": "R",
            "name": "ir"
        },
        "language_info": {
            "codemirror_mode": "r",
            "file_extension": ".r",
            "mimetype": "text/x-r-source",
            "name": "R",
            "pygments_lexer": "r",
            "version": "3.4.1"
        }
    },
    "nbformat": 4,
    "nbformat_minor": 1
}
