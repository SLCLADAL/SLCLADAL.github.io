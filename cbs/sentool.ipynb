{
    "cells": [
        {
            "cell_type": "markdown",
            "metadata": {},
            "source": [
                "![An interactive LADAL notebook](https://slcladal.github.io/images/uq1.jpg)\n",
                "\n",
                "\n",
                "This notebook-based tool accompanies the [Language Technology and Data Analysis Laboratory (LADAL) tutorial *Sentiment Analysis with R*](https://ladal.edu.au/sentiment.html). \n",
                "\n",
                "<div class=\"warning\" style='padding:0.1em; background-color: rgba(215,209,204,.3); color:#51247a'>\n",
                "<span>\n",
                "<p style='margin-top:1em; text-align:center'>\n",
                "<b>The code chunks below allow you to perform a sentiment analysis on your own data and to download the results in an MS Excel speradsheet. <\/b> \n",
                "<br>\n",
                "<\/p>\n",
                "<\/span>\n",
                "<\/div>\n",
                "\n",
                "<br>\n",
                "\n",
                "\n",
                "\n",
                "\n",
                "## Using your own data\n",
                "\n",
                "<div class=\"warning\" style='padding:0.1em; background-color: rgba(215,209,204,.3); color:#51247a'>\n",
                "<span>\n",
                "<p style='margin-top:1em; text-align:center'>\n",
                "To <b>use your own data<\/b>, click on the folder called <b>`MyTexts`<\/b> (it is in the menu to the left of the screen) and then simply drag and drop your txt-files into the folder. <br>When you then execute the code chunk below, you will upload your own data and you can then use it in this notebook.<br>You can upload <b>only txt-files<\/b> (simple unformatted files created in or saved by a text editor)! <br>The notebook assumes that you upload some form of text data - not tabular data! \n",
                "<br>\n",
                "<\/p>\n",
                "<p style='margin-left:1em;'>\n",
                "<\/p><\/span>\n",
                "<\/div>\n",
                "\n",
                "<br>\n"
            ]
        },
        {
            "cell_type": "code",
            "execution_count": null,
            "metadata": {},
            "outputs": [],
            "source": [
                "# load function that helps loading texts\n",
                "source(\"https://slcladal.github.io/rscripts/loadtxts.R\")\n",
                "# load texts\n",
                "text <- loadtxts(\"notebooks/MyTexts\")\n",
                "# inspect the structure of the text object\n",
                "str(text)\n"
            ]
        },
        {
            "cell_type": "markdown",
            "metadata": {},
            "source": [
                "Now, we reformat the data and combine it with the *Word-Emotion Association Lexicon* (Mohammad and Turney 2013). As this step uses this external dictionary, please cite the dictionary in addition to the tool (the reference for the dictionary is provided below at the end of this notebook).\n",
                "\n"
            ]
        },
        {
            "cell_type": "code",
            "execution_count": null,
            "metadata": {},
            "outputs": [],
            "source": [
                "# load function that helps prepare the texts for a sentiment analysis\n",
                "source(\"https://slcladal.github.io/rscripts/prepsenti.R\")\n",
                "# prepare texts\n",
                "senti <- prepsenti(text)\n",
                "# inspect\n",
                "head(senti)\n"
            ]
        },
        {
            "cell_type": "markdown",
            "metadata": {},
            "source": [
                "Next, we generate an overview table. You can choose to download the table shown or the table produced below depending on what you need.\n",
                "\n"
            ]
        },
        {
            "cell_type": "code",
            "execution_count": null,
            "metadata": {},
            "outputs": [],
            "source": [
                "# load function that helps summarise the sentiment analysis\n",
                "source(\"https://slcladal.github.io/rscripts/sumsenti.R\")\n",
                "# summarise the results\n",
                "senti_sum <- sumsenti(senti)\n",
                "# inspect\n",
                "head(senti_sum)\n"
            ]
        },
        {
            "cell_type": "markdown",
            "metadata": {},
            "source": [
                "## Exporting the results\n",
                "\n",
                "To export the table with the results as an MS Excel spreadsheet, we use `write_xlsx`. Be aware that we use the `here` function to  save the file in the current working directory.\n"
            ]
        },
        {
            "cell_type": "code",
            "execution_count": null,
            "metadata": {},
            "outputs": [],
            "source": [
                "# save data for MyOutput folder\n",
                "write_xlsx(senti_sum, here::here(\"notebooks/MyOutput/senti_sum.xlsx\"))\n"
            ]
        },
        {
            "cell_type": "markdown",
            "metadata": {},
            "source": [
                "<div class=\"warning\" style='padding:0.1em; background-color: rgba(215,209,204,.3); color:#51247a'>\n",
                "<span>\n",
                "<p style='margin-top:1em; text-align:center'>\n",
                "<b>You will find the generated MS Excel spreadsheet named *senti_sum.xlsx* in the `MyOutput` folder (located on the left side of the screen).<\/b> <br><br>Simply double-click the `MyOutput` folder icon, then right-click on the *senti_sum.xlsx* file, and choose Download from the dropdown menu to download the file. <br>\n",
                "<\/p>\n",
                "<p style='margin-left:1em;'>\n",
                "<\/p><\/span>\n",
                "<\/div>\n",
                "\n",
                "<br>\n",
                "\n",
                "## Visualising sentiments\n",
                "\n",
                "Here you can use the code below to generate a simple bar plot to visualize the sentiments by file. \n"
            ]
        },
        {
            "cell_type": "code",
            "execution_count": null,
            "metadata": {},
            "outputs": [],
            "source": [
                "# plot the results of the sentiment analysis\n",
                "senti_sum %>%\n",
                "  dplyr::filter(sentiment != \"positive\",\n",
                "                sentiment != \"negative\") %>%\n",
                "  ggplot(aes(file, percentage, fill = sentiment)) +    \n",
                "  geom_bar(stat=\"identity\",   \n",
                "           position=position_dodge()) + \n",
                "  scale_fill_brewer(palette = \"RdBu\") +\n",
                "  theme_bw() +\n",
                "  theme(legend.position = \"top\")\n"
            ]
        },
        {
            "cell_type": "markdown",
            "metadata": {},
            "source": [
                "## Exporting images\n",
                "\n",
                "To export network graph as an png-file, we use `ggsave`. Be aware that we use the `here` function to save the file in the `MyOutput` folder.\n",
                "\n",
                "The `ggsave` function has the following main arguments:\n",
                "\n",
                "+ `filename`: File name to create on disk.    \n",
                "+ `device`: Device to use. Can either be a device function (e.g. png), or one of \"eps\", \"ps\", \"tex\" (pictex), \"pdf\", \"jpeg\", \"tiff\", \"png\", \"bmp\", \"svg\" or \"wmf\" (windows only). If NULL (default), the device is guessed based on the filename extension  \n",
                "+ `path`: Path of the directory to save plot to: path and filename are combined to create the fully qualified file name. Defaults to the working directory.  \n",
                "+ `width, height`: Plot size in units expressed by the units argument. If not supplied, uses the size of the current graphics device.  \n",
                "+ `units`: One of the following units in which the width and height arguments are expressed: \"in\", \"cm\", \"mm\" or \"px\".  \n",
                "+ `dpi`: Plot resolution. Also accepts a string input: \"retina\" (320), \"print\" (300), or \"screen\" (72). Applies only to raster output types.  \n",
                "+ `bg`: Background colour. If NULL, uses the plot.background fill value from the plot theme.  \n"
            ]
        },
        {
            "cell_type": "code",
            "execution_count": null,
            "metadata": {},
            "outputs": [],
            "source": [
                "# save network graph for MyOutput folder\n",
                "ggsave(here::here(\"notebooks/MyOutput/image_01.png\"), bg = \"white\")\n"
            ]
        },
        {
            "cell_type": "markdown",
            "metadata": {},
            "source": [
                "<div class=\"warning\" style='padding:0.1em; background-color: rgba(215,209,204,.3); color:#51247a'>\n",
                "<span>\n",
                "<p style='margin-top:1em; text-align:center'>\n",
                "<b>You will find the image-file named *image_01.png* in the `MyOutput` folder (located on the left side of the screen).<\/b> <br><br>Simply double-click the `MyOutput` folder icon, then right-click on the *image_01.png* file, and choose Download from the dropdown menu to download the file. <br>\n",
                "<\/p>\n",
                "<p style='margin-left:1em;'>\n",
                "<\/p><\/span>\n",
                "<\/div>\n",
                "\n",
                "<br>\n",
                "\n",
                "\n",
                "***\n",
                "\n",
                "# Citation & Session Info \n",
                "\n",
                "Mohammad, Saif M, and Peter D Turney. 2013. Crowdsourcing a Word-Emotion Association Lexicon. *Computational Intelligence* 29 (3): 436–65. \n",
                "\n",
                "Schweinberger, Martin. (2024)` *LADAL Sentiment-Analysis Tool*. Brisbane: The University of Queensland. url: https://ladal.edu.au/tools.html (Version 2024.04.21).\n"
            ]
        },
        {
            "cell_type": "code",
            "execution_count": null,
            "metadata": {},
            "outputs": [],
            "source": [
                "@manual{schweinberger2024sentool,\n",
                "  author = {Schweinberger, Martin},\n",
                "  title = {LADAL Sentiment-Analysis Tool},\n",
                "  note = {https://ladal.edu.au/tools.html},\n",
                "  year = {2024},\n",
                "  organization = {The University of Queensland, School of Languages and Cultures},\n",
                "  address = {Brisbane},\n",
                "  edition = {2024.04.21}\n",
                "}\n"
            ]
        },
        {
            "cell_type": "markdown",
            "metadata": {},
            "source": [
                "[Back to LADAL](https://ladal.edu.au/sentiment.html)\n",
                "\n",
                "***\n"
            ]
        },
        {
            "cell_type": "code",
            "execution_count": null,
            "metadata": {},
            "outputs": [],
            "source": [
                "sessionInfo()\n",
                "\n"
            ]
        },
        {
            "cell_type": "markdown",
            "metadata": {},
            "source": [
                "\n",
                "\n"
            ]
        }
    ],
    "metadata": {
        "anaconda-cloud": "",
        "kernelspec": {
            "display_name": "R",
            "langauge": "R",
            "name": "ir"
        },
        "language_info": {
            "codemirror_mode": "r",
            "file_extension": ".r",
            "mimetype": "text/x-r-source",
            "name": "R",
            "pygments_lexer": "r",
            "version": "3.4.1"
        }
    },
    "nbformat": 4,
    "nbformat_minor": 1
}
