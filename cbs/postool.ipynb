{
    "cells": [
        {
            "cell_type": "markdown",
            "metadata": {},
            "source": [
                "![An interactive LADAL notebook](https://slcladal.github.io/images/uq1.jpg)\n",
                "\n",
                "# Pos-tagging tool\n",
                "\n",
                "This notebook-based tool accompanies the [*Language Technology and Data Analysis Laboratory* (LADAL) tutorial **Part-of-Speech Tagging and Dependency Parsing with R**](https://ladal.edu.au/postag.html). \n",
                "\n",
                "\n",
                "## Using your own data\n",
                "\n",
                "<div class=\"warning\" style='padding:0.1em; background-color: rgba(215,209,204,.3); color:#51247a'>\n",
                "<span>\n",
                "<p style='margin-top:1em; text-align:center'>\n",
                "To <b>use your own data<\/b>, click on the folder called <b>`MyTexts`<\/b> (it is in the menu to the left of the screen) and then simply drag and drop your txt-files into the folder. <br>When you then execute the code chunk below, you will upload your own data and you can then use it in this notebook.<br>You can upload <b>only txt-files<\/b> (simple unformatted files created in or saved by a text editor)! <br>The notebook assumes that you upload some form of text data - not tabular data! \n",
                "<br>\n",
                "<\/p>\n",
                "<p style='margin-left:1em;'>\n",
                "<\/p><\/span>\n",
                "<\/div>\n",
                "\n",
                "<br>\n"
            ]
        },
        {
            "cell_type": "code",
            "execution_count": null,
            "metadata": {},
            "outputs": [],
            "source": [
                "# load function that helps loading texts\n",
                "source(\"https://slcladal.github.io/rscripts/loadtxts.R\")\n",
                "# load texts\n",
                "text <- loadtxts(\"notebooks/MyTexts\")\n",
                "# inspect the structure of the text object\n",
                "str(text)\n"
            ]
        },
        {
            "cell_type": "markdown",
            "metadata": {},
            "source": [
                "## Pos tagging\n",
                "\n",
                "Now we can pos-tag the text using the `postag` function. This function has the following arguments: \n",
                "\n",
                "+ `x`: a text or collection of texts.  \n",
                "+ `language`: the language model used for pos-tagging (these are the availabel pre-trained models models: \"afrikaans-afribooms\", \"ancient_greek-perseus\", \"ancient_greek-proiel\",\n",
                "    \"arabic-padt\", \"armenian-armtdp\", \"basque-bdt\", \"belarusian-hse\", \"bulgarian-btb\",\n",
                "    \"buryat-bdt\", \"catalan-ancora\", \"chinese-gsd\", \"chinese-gsdsimp\",\n",
                "    \"classical_chinese-kyoto\", \"coptic-scriptorium\", \"croatian-set\", \"czech-cac\",\n",
                "    \"czech-cltt\", \"czech-fictree\", \"czech-pdt\", \"danish-ddt\", \"dutch-alpino\",\n",
                "    \"dutch-lassysmall\", \"english-ewt\", \"english-gum\", \"english-lines\", \"english-partut\",\n",
                "    \"estonian-edt\", \"estonian-ewt\", \"finnish-ftb\",      \"finnish-tdt\", \"french-gsd\",\n",
                "    \"french-partut\", \"french-sequoia\", \"french-spoken\", \"galician-ctg\",\n",
                "    \"galician-treegal\", \"german-gsd\", \"german-hdt\", \"gothic-proiel\", \"greek-gdt\",\n",
                "    \"hebrew-htb\", \"hindi-hdtb\", \"hungarian-szeged\", \"indonesian-gsd\", \"irish-idt\",\n",
                "    \"italian-isdt\", \"italian-partut\", \"italian-postwita\", \"italian-twittiro\",\n",
                "    \"italian-vit\", \"japanese-gsd\", \"kazakh-ktb\", \"korean-gsd\", \"korean-kaist\",\n",
                "    \"kurmanji-mg\", \"latin-ittb\", \"latin-perseus\", \"latin-proiel\", \"latvian-lvtb\",\n",
                "    \"lithuanian-alksnis\",      \"lithuanian-hse\", \"maltese-mudt\", \"marathi-ufal\",\n",
                "    \"north_sami-giella\", \"norwegian-bokmaal\", \"norwegian-nynorsk\",\n",
                "    \"norwegian-nynorsklia\", \"old_church_slavonic-proiel\", \"old_french-srcmf\",\n",
                "    \"old_russian-torot\", \"persian-seraji\", \"polish-lfg\", \"polish-pdb\", \"polish-sz\",\n",
                "    \"portuguese-bosque\", \"portuguese-br\", \"portuguese-gsd\", \"romanian-nonstandard\",\n",
                "    \"romanian-rrt\", \"russian-gsd\", \"russian-syntagrus\", \"russian-taiga\", \"sanskrit-ufal\",\n",
                "    \"scottish_gaelic-arcosg\", \"serbian-set\", \"slovak-snk\", \"slovenian-ssj\",     \n",
                "    \"slovenian-sst\", \"spanish-ancora\", \"spanish-gsd\", \"swedish-lines\",\n",
                "    \"swedish-talbanken\", \"tamil-ttb\", \"telugu-mtg\", \"turkish-imst\", \"ukrainian-iu\",\n",
                "    \"upper_sorbian-ufal\", \"urdu-udtb\", \"uyghur-udt\", \"vietnamese-vtb\", \"wolof-wtb\"))  \n",
                "\n",
                "\n",
                "<div class=\"warning\" style='padding:0.1em; background-color: rgba(215,209,204,.3); color:#51247a'>\n",
                "<span>\n",
                "<p style='margin-top:1em; text-align:center'>\n",
                "The code chunk below assumes that you want to pos-tag English text(s). <br> If you want to pos-tag text in another language, replace \"english-ext\" with another pre-trained language model,<br> e.g. \"german-gsd\" for pos-tagging a German text (see above for available models).\n",
                "<br>\n",
                "<\/p>\n",
                "<p style='margin-left:1em;'>\n",
                "<\/p><\/span>\n",
                "<\/div>\n",
                "\n",
                "<br>\n"
            ]
        },
        {
            "cell_type": "code",
            "execution_count": null,
            "metadata": {},
            "outputs": [],
            "source": [
                "# load function that pos-tags text\n",
                "source(\"https://slcladal.github.io/rscripts/postag.R\")\n",
                "\n",
                "# perform pos-tagging\n",
                "postagged <- postag(text, language = \"english-ewt\")\n",
                "\n",
                "# inspect result\n",
                "str(postagged)\n"
            ]
        },
        {
            "cell_type": "markdown",
            "metadata": {},
            "source": [
                "## Saving to MyOutput\n",
                "\n",
                "As a concluding step, we save the outcomes – the three files housing our cleaned texts – in the 'MyOutput' folder, conveniently visible on the left side of the screen.\n"
            ]
        },
        {
            "cell_type": "code",
            "execution_count": null,
            "metadata": {},
            "outputs": [],
            "source": [
                "# load function that helps loading texts\n",
                "source(\"https://slcladal.github.io/rscripts/savetxts.R\")\n",
                "savetxts(postagged)\n"
            ]
        },
        {
            "cell_type": "markdown",
            "metadata": {},
            "source": [
                "<div class=\"warning\" style='padding:0.1em; background-color: rgba(215,209,204,.3); color:#51247a'>\n",
                "<span>\n",
                "<p style='margin-top:1em; text-align:center'>\n",
                "<b>You will find the txt-files in the `MyOutput` folder (located on the left side of the screen).<\/b> <br><br>Simply double-click the `MyOutput` folder icon, then highlight the files, and choose *Download* from the dropdown menu to download the files. <br>\n",
                "<\/p>\n",
                "<p style='margin-left:1em;'>\n",
                "<\/p><\/span>\n",
                "<\/div>\n",
                "\n",
                "<br>\n",
                "\n",
                "\n",
                "\n",
                "***\n",
                "\n",
                "[Back to LADAL](https://ladal.edu.au/postag.html)\n",
                "\n",
                "***\n"
            ]
        }
    ],
    "metadata": {
        "anaconda-cloud": "",
        "kernelspec": {
            "display_name": "R",
            "langauge": "R",
            "name": "ir"
        },
        "language_info": {
            "codemirror_mode": "r",
            "file_extension": ".r",
            "mimetype": "text/x-r-source",
            "name": "R",
            "pygments_lexer": "r",
            "version": "3.4.1"
        }
    },
    "nbformat": 4,
    "nbformat_minor": 1
}
