{
    "cells": [
        {
            "cell_type": "markdown",
            "metadata": {},
            "source": [
                "![An interactive LADAL notebook](https://slcladal.github.io/images/uq1.jpg)\n",
                "\n",
                "\n",
                "This notebook-based tool accompanies the [Language Technology and Data Analysis Laboratory (LADAL) tutorial *Analyzing Collocations, N-grams, and Keywords in R*](https://ladal.edu.au/coll.html). \n",
                "\n",
                "<div class=\"warning\" style='padding:0.1em; background-color: rgba(215,209,204,.3); color:#51247a'>\n",
                "<span>\n",
                "<p style='margin-top:1em; text-align:center'>\n",
                "<b>The code chunks below calculate association measures that represent the collocational strength between two words. <\/b>! \n",
                "<br>\n",
                "<\/p>\n",
                "<p style='margin-left:1em;'>\n",
                "<\/p><\/span>\n",
                "<\/div>\n",
                "\n",
                "<br>\n",
                "\n",
                "We set up our session by activating necessary packages. \n"
            ]
        },
        {
            "cell_type": "code",
            "execution_count": null,
            "metadata": {},
            "outputs": [],
            "source": [
                "# set options\n",
                "options(warn=-1)  # do not show warnings or messages\n",
                "# activate packages\n",
                "library(dplyr)    # for table processing\n",
                "library(writexl)  # for saving xlsx files\n"
            ]
        },
        {
            "cell_type": "markdown",
            "metadata": {},
            "source": [
                "## Using your own data\n",
                "\n",
                "There are two options when uploading your data (you need to choose one!). \n",
                "\n",
                "1) You can upload a table with the co-occurrence of a specific word pair. If you upload this format, your data should be a spreadsheet  with\n",
                "\n",
                "+ a column called `w1` with the first word of interest (*word1*) in rows 1 and 2 and the term *other* in rows 3 and 4\n",
                "\n",
                "+ a column called `w2` with the co-occurring word (*word2*) in rows 1 and 3 and the term *other* in rows 2 and 4\n",
                "\n",
                "+ a column called `O11` with co-occurrence frequency of word 1 with word 2 in row 1 and the frequency off all other words in row 2 (together, these frequencies should represent the total corpus size).\n",
                "\n",
                "The data should have the same structure as the example below:\n",
                "\n",
                "![Data format required for this notebook](https://slcladal.github.io/images/colltb_0.png)\n",
                "\n",
                "\n",
                "2) You can upload a table with **all** co-occurrences in a corpus. If you upload this format, your data should be a spreadsheet  with\n",
                "\n",
                "+ a column called `w1` with all word types in a corpus (*word1*)\n",
                "\n",
                "+ a column called `w2` with all co-occurring word types in a corpus  (*word2*)\n",
                "\n",
                "+ a column called `O11` with co-occurrence frequency of word 1 with word 2\n",
                "\n",
                "The data should have the same structure as the example below:\n",
                "\n",
                "![Data format required for this notebook](https://slcladal.github.io/images/colltb_1.png)\n",
                "\n",
                "\n",
                "## Using your own data\n",
                "\n",
                "<div class=\"warning\" style='padding:0.1em; background-color: rgba(215,209,204,.3); color:#51247a'>\n",
                "<span>\n",
                "<p style='margin-top:1em; text-align:center'>\n",
                "To <b>use your own data<\/b>, click on the folder called <b>`MyTables`<\/b> (it is in the menu to the left of the screen) and then simply drag and drop your xlsx-file into the folder. <br>When you then execute the code chunk below, you will upload your own data and you can then use it in this notebook.<br>You can upload <b>only xlsx-files<\/b>! ! \n",
                "<br>\n",
                "<\/p>\n",
                "<p style='margin-left:1em;'>\n",
                "<\/p><\/span>\n",
                "<\/div>\n",
                "\n",
                "<br>\n"
            ]
        },
        {
            "cell_type": "code",
            "execution_count": null,
            "metadata": {},
            "outputs": [],
            "source": [
                "# load function that helps loading the xlsx data\n",
                "source(\"https://slcladal.github.io/rscripts/loadtable.R\")\n",
                "# load texts\n",
                "mytable <- loadtable(\"notebooks/MyTables\")\n",
                "# inspect first 10 rows of the data\n",
                "head(mytable, 10)\n"
            ]
        },
        {
            "cell_type": "markdown",
            "metadata": {},
            "source": [
                "We now prepare the table so that we can extract the association measures.\n",
                "\n"
            ]
        },
        {
            "cell_type": "code",
            "execution_count": null,
            "metadata": {},
            "outputs": [],
            "source": [
                "# load function that extract association measures\n",
                "source(\"https://slcladal.github.io/rscripts/prepam.R\")\n",
                "# load texts\n",
                "colldf <- prepam(mytable)\n",
                "# inspect first 10 rows of the data\n",
                "head(colldf, 10)\n"
            ]
        },
        {
            "cell_type": "markdown",
            "metadata": {},
            "source": [
                "Now, we extract the association measures (if the table has many rows, this may take a few minutes).\n",
                "\n"
            ]
        },
        {
            "cell_type": "code",
            "execution_count": null,
            "metadata": {},
            "outputs": [],
            "source": [
                "# load function that extract association measures\n",
                "source(\"https://slcladal.github.io/rscripts/assocstats.R\")\n",
                "# calculate collocation statistics\n",
                "assocs <- assocstats(colldf) \n",
                "# inspect first 10 rows of the data\n",
                "head(assocs, 10)\n"
            ]
        },
        {
            "cell_type": "markdown",
            "metadata": {},
            "source": [
                "## Exporting the association table\n",
                "\n",
                "To export the table with the association measures as an MS Excel spreadsheet, we use `write_xlsx`. Be aware that we use the `here` function to  save the file in the current working directory.\n"
            ]
        },
        {
            "cell_type": "code",
            "execution_count": null,
            "metadata": {},
            "outputs": [],
            "source": [
                "# save data for MyOutput folder\n",
                "write_xlsx(assocs, here::here(\"notebooks/MyOutput/assocs.xlsx\"))\n"
            ]
        },
        {
            "cell_type": "markdown",
            "metadata": {},
            "source": [
                "<div class=\"warning\" style='padding:0.1em; background-color: rgba(215,209,204,.3); color:#51247a'>\n",
                "<span>\n",
                "<p style='margin-top:1em; text-align:center'>\n",
                "<b>You will find the generated MS Excel spreadsheet named *assocs.xlsx* in the `MyOutput` folder (located on the left side of the screen).<\/b> <br><br>Simply double-click the `MyOutput` folder icon, then right-click on the *assocs.xlsx* file, and choose Download from the dropdown menu to download the file. <br>\n",
                "<\/p>\n",
                "<p style='margin-left:1em;'>\n",
                "<\/p><\/span>\n",
                "<\/div>\n",
                "\n",
                "<br>\n",
                "\n",
                "\n",
                "\n",
                "***\n",
                "\n",
                "[Back to LADAL](https://ladal.edu.au/coll.html)\n",
                "\n",
                "***\n"
            ]
        }
    ],
    "metadata": {
        "anaconda-cloud": "",
        "kernelspec": {
            "display_name": "R",
            "langauge": "R",
            "name": "ir"
        },
        "language_info": {
            "codemirror_mode": "r",
            "file_extension": ".r",
            "mimetype": "text/x-r-source",
            "name": "R",
            "pygments_lexer": "r",
            "version": "3.4.1"
        }
    },
    "nbformat": 4,
    "nbformat_minor": 1
}
