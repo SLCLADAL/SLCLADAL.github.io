{
    "cells": [
        {
            "cell_type": "markdown",
            "metadata": {},
            "source": [
                " \n",
                " \n",
                " \n",
                " \n"
            ]
        },
        {
            "cell_type": "code",
            "execution_count": null,
            "metadata": {},
            "outputs": [],
            "source": [
                "knitr::include_graphics(\"https://slcladal.github.io/images/news.jpg\")\n",
                "\n"
            ]
        },
        {
            "cell_type": "markdown",
            "metadata": {},
            "source": [
                "<br> \n",
                "\n",
                "Keep up to date with the current developments at LADAL!\n",
                "\n",
                "Below you will find information on and links to the latest developments at LADAL such as updates to the LADAL website, upcoming workshops and presentations, planned events, and links to resources. \n",
                "\n",
                "<br> <br>\n",
                "\n",
                "***\n",
                "\n",
                "<div class=\"warning\" style='padding:0.1em; background-color:#f2f2f2; color:#51247a'>\n",
                "<span>\n",
                "<p style='margin-top:1em; text-align:center'>\n",
                "<b>USER STORIES<\/b><br>We are currently looking for **user stories** (also known as **testimonials**) to see and show what people use LADAL resources for. If you have used LADAL resources - be it by simply copying some code, attending a workshop, learning about a method using a tutorial, or in any other way - we would be extremely grateful, if you would send us your user story! <br><br>To submit your user story, simply write up a paragraph describing how you have used LADAL resources and what you have used them for and send it to slcladal\\@uq.edu.au. We really appreciate any feedback from you about this!<\/p>\n",
                "<p style='margin-left:1em;'>\n",
                "<\/p><\/span>\n",
                "<\/div>\n",
                "\n",
                "***\n",
                "\n",
                "# ANNOUNCEMENTS\n",
                "\n",
                "***\n",
                "\n",
                "### 2021/09/02: Media Research Methods Lab collab!\n"
            ]
        },
        {
            "cell_type": "code",
            "execution_count": null,
            "metadata": {},
            "outputs": [],
            "source": [
                "knitr::include_graphics(\"https://slcladal.github.io/images/LogoHBI.jpg\")\n",
                "\n"
            ]
        },
        {
            "cell_type": "markdown",
            "metadata": {},
            "source": [
                "[Gregor Wiedemann](https://leibniz-hbi.de/en/staff/gregor-wiedemann) who is co-directing the [Media Research Methods Lab (MRML)](https://leibniz-hbi.de/en/research/research-programmes/media-research-methods-lab) at the [Leibniz Institute for Media Research │ Hans Bredow Institute (HBI)](https://leibniz-hbi.de/en) has agreed to collaborate with LADAL. We are extremely happy about this here at LADAL given that the MRML is designed as a method-oriented lab, which focuses on linking established social science methods (surveys, observations, content analysis, experiments) with new digital methods from the field of computational social science (e.g. automated content analysis, network analysis, log data analysis, experience sampling) across topics and disciplines.\n",
                "\n",
                "<br>\n",
                "\n",
                "### 2021/06/03: LADAL Opening \n",
                "\n",
                "<details>\n",
                "<summary>LADAL Opening Webinar Series 2021\n"
            ]
        },
        {
            "cell_type": "code",
            "execution_count": null,
            "metadata": {},
            "outputs": [],
            "source": [
                "knitr::include_graphics(\"https://slcladal.github.io/images/fireworks.jpg\")\n",
                "\n"
            ]
        },
        {
            "cell_type": "markdown",
            "metadata": {},
            "source": [
                "**FINALLY! We are really happy to announce that LADAL will have its [OFFICIAL OPENING EVENT](https://slcladal.github.io/opening.html)!**\n",
                "\n",
                "The **[LADAL Opening](https://slcladal.github.io/opening.html)** event will consist of weekly presentations from eminent figures in linguistics, data science, and computational humanities and will cover a wide range of topics related to LADAL-relevant issues!\n",
                "\n",
                "The first event of the LADAL Opening is a presentation by [Stefan Th. Gries](http://www.stgries.info/) on MuPADRF (*Multifactorial Prediction and Deviation Analysis Using Regression/Random Forests*) on **June 3, 2021, 5pm Brisbane time** (9am CET). The event will take place on Zoom (the Zoom link will be announced here, on Twitter, and via our collaborators). \n"
            ]
        },
        {
            "cell_type": "code",
            "execution_count": null,
            "metadata": {},
            "outputs": [],
            "source": [
                "knitr::include_graphics(\"https://slcladal.github.io/images/LadalGrey.png\")\n",
                "\n"
            ]
        },
        {
            "cell_type": "markdown",
            "metadata": {},
            "source": [
                "  \n",
                "\n",
                "*Click [**HERE**](https://slcladal.github.io/opening.html) for more information about the weekly LADAL Opening presentations*\n",
                "<\/summary>\n",
                "<\/details>\n",
                "\n",
                "<br><br>\n",
                "\n",
                "### 2020/12/15: Statistical excellence - Stefan Th. Gries\n",
                "\n",
                "<details>\n",
                "<summary>Stefan Th. Gries affiliates with LADAL!\n"
            ]
        },
        {
            "cell_type": "code",
            "execution_count": null,
            "metadata": {},
            "outputs": [],
            "source": [
                "knitr::include_graphics(\"https://slcladal.github.io/images/STG.jpg\")\n",
                "\n"
            ]
        },
        {
            "cell_type": "markdown",
            "metadata": {},
            "source": [
                "We are really pound and feel both honored and privileged that [Stefan Th. Gries](http://www.stgries.info/) has agreed to contribute to LADAL! Stefan has played an outstanding role in promoting statistical and computational skills in the language sciences. Stefan's textbooks [Statistics for Linguistics with R – A Practical Introduction](https://www.degruyter.com/view/title/300775) and [Quantitative Corpus Linguistics with R: A Practical Introduction](https://www.routledge.com/Quantitative-Corpus-Linguistics-with-R-A-Practical-Introduction/Gries/p/book/9781138816282), but also with his research output and bootcamps have had a tremendous influence on many linguists working with empirical data!\n",
                "<\/summary>\n",
                "\n",
                "### 2020/12/02: Summer Scholar program support for LADAL\n",
                "\n",
                "<details>\n",
                "<summary>LADAL get summer scholars<\/summary>\n",
                "  \n",
                "[UQ's summer research program](https://employability.uq.edu.au/summer-winter-research) supports LADAL: four junior academics will assist LADAL, acquire new skills, and produce new materials. A very warm welcome to the summer scholars and we hope that they get as much as possible out of the program and provide great new materials!\n",
                "\n",
                "### 2020/10/09: VARIENG - LADAL becomes more Finlandish\n",
                "\n",
                "<details>\n",
                "<summary>Collaboration with VARIENG<\/summary>\n"
            ]
        },
        {
            "cell_type": "code",
            "execution_count": null,
            "metadata": {},
            "outputs": [],
            "source": [
                "knitr::include_graphics(\"https://slcladal.github.io/images/varieng.png\")\n",
                "\n"
            ]
        },
        {
            "cell_type": "markdown",
            "metadata": {},
            "source": [
                "  \n",
                "The [VARIENG](https://www.helsinki.fi/en/researchgroups/varieng) at the [University of Helsinki](https://www.helsinki.fi/en) has agreed to affiliate with LADAL! VARIENG is a perfect affiliate due to the similarity in the outlook and the alignment of aims of both VARIENG and LADAL. In addition, we are super happy to have VARIENG as an affiliate institution because of their extremely high scientific merit!\n",
                "\n",
                "### 2020/10/07: DDL expertism and Phylolygisms\n",
                "\n",
                "<details>\n",
                "<summary>Erich Round and Peter Crosthwaite affiliate with LADAL!<\/summary>\n"
            ]
        },
        {
            "cell_type": "code",
            "execution_count": null,
            "metadata": {},
            "outputs": [],
            "source": [
                "knitr::include_graphics(\"https://slcladal.github.io/images/clust_erich.png\")\n",
                "\n"
            ]
        },
        {
            "cell_type": "markdown",
            "metadata": {},
            "source": [
                "[Erich Round](https://researchers.uq.edu.au/researcher/1761) - director of the *Ancient Languages Lab* and world-reknowned phylogenetics expert as well as recipient of the [British Academy Global Professorship](https://languages-cultures.uq.edu.au/article/2020/07/dr-erich-round-awarded-british-academy-global-professorship) - is now officially a contributor to LADAL! His expertise in R and phylogentics fantastically complement our skill set here and we are more than going crazy for having him on board!\n",
                "\n"
            ]
        },
        {
            "cell_type": "code",
            "execution_count": null,
            "metadata": {},
            "outputs": [],
            "source": [
                "knitr::include_graphics(\"https://slcladal.github.io/images/ddl.jpg\")\n",
                "\n"
            ]
        },
        {
            "cell_type": "markdown",
            "metadata": {},
            "source": [
                "<br>\n",
                "\n",
                "Also - and on an equally enthusiastic note - [Peter Crosthwaite](http://researchers.uq.edu.au/researcher/18390), the foremost proponent on Data Driven Learning in Australia, has agreed to be a LADAL affiliate! Peter is not only a fantastic  second language acquisition scholar but he has probably one of the best overviews of existing software in this domain and is amazingly well versed in finding the right applications to do awesome research!\n",
                "\n",
                "Welcome on board!\n",
                "\n",
                "### 2020/10/05: Big in Japan\n",
                "\n",
                "<details>\n",
                "<summary>Laurence Anthony affiliates with LADAL!<\/summary>\n"
            ]
        },
        {
            "cell_type": "code",
            "execution_count": null,
            "metadata": {},
            "outputs": [],
            "source": [
                "knitr::include_graphics(\"https://slcladal.github.io/images/japan.jpg\")\n",
                "\n"
            ]
        },
        {
            "cell_type": "markdown",
            "metadata": {},
            "source": [
                "Laurence Anthony - [the royal highness of AntConc empire](https://www.laurenceanthony.net/software/antconc/) - has agreed to be an affiliate of LADAL! We are so glad to have him on board as Laurence is not only tech savvy as few others in Corpus Linguistics but also because Laurence is overall wholesome and a fantastic promoter of computation in HASS research!\n",
                "\n",
                "### 2020/10/02: Library Excellence!\n",
                "\n",
                "<details>\n",
                "<summary>Stephane Guillou has agreed to be a contributor and affiliate of LADAL!<\/summary>\n",
                "\n",
                "Stephane Guillou has agreed to be a contributor and affiliate of LADAL! That is really fantastic not only because Stephane is all-around awesome and a true R wiz but Stephane is also directing the upskilling efforts in R, Python, and Git at the UQ library and thus brings along a fantastic skill-set!\n",
                "\n",
                "### 2020/09/29: Syndey Corpus Lab collab!\n",
                "\n",
                "<details>\n",
                "<summary>Collaboration with the Sydney Corpus Lab!<\/summary>\n"
            ]
        },
        {
            "cell_type": "code",
            "execution_count": null,
            "metadata": {},
            "outputs": [],
            "source": [
                "knitr::include_graphics(\"https://slcladal.github.io/images/scl.png\")\n",
                "\n"
            ]
        },
        {
            "cell_type": "markdown",
            "metadata": {},
            "source": [
                "[Monika Bednarek](https://www.sydney.edu.au/arts/about/our-people/academic-staff/monika-bednarek.html) who is running the [Sydney Corpus Lab](https://sydneycorpuslab.com/) at the University of Sydney, has agreed to be an affiliate member of LADAL. This is perfect for LADAL given Monika's expertise and excellent research in Corpus Linguistics as well as the close alignment of the Sydney Corpus Lab with LADAL!\n",
                "\n",
                "### 2020/09/25: LADAL goes Finland!\n",
                "\n",
                "<details>\n",
                "<summary>LADAL goes to Finland!<\/summary>\n"
            ]
        },
        {
            "cell_type": "code",
            "execution_count": null,
            "metadata": {},
            "outputs": [],
            "source": [
                "knitr::include_graphics(\"https://slcladal.github.io/images/reindeer.jpg\")\n",
                "\n"
            ]
        },
        {
            "cell_type": "markdown",
            "metadata": {},
            "source": [
                "The news that LADAL exists has reached the other side of the globe: Martin was invited by [Mikko Laitinen from the University of Eastern Finland](https://uefconnect.uef.fi/en/person/mikko.laitinen/) to give a guest lecture about his experiences in establishing LADAL in the context of an event about developing support infrastructures for computational social sciences and humanities research.\n",
                "\n"
            ]
        },
        {
            "cell_type": "code",
            "execution_count": null,
            "metadata": {},
            "outputs": [],
            "source": [
                "knitr::include_graphics(\"https://slcladal.github.io/images/binder.png\")\n",
                "\n"
            ]
        },
        {
            "cell_type": "markdown",
            "metadata": {},
            "source": [
                "### 2020/09/22: Interaction!\n",
                "\n",
                "<details>\n",
                "<summary>Aiming at interactivity using Binder!<\/summary>\n",
                "\n",
                "We have decided to include interactive exercises into our tutorials and we are currently looking into different options how to achieve this. Currently [Binder](https://mybinder.org/) appears to be a viable pathway forward. \n",
                "\n",
                "### 2020/09/15: They multiply!\n",
                "\n",
                "<details>\n",
                "<summary>\n",
                "The LADAL team is expanding!<\/summary>\n",
                "\n",
                "We are delighted to announce that Katy McHugh, Stephen Clark, and Restuadi Restuadi have joined the LADAL team!\n",
                "\n",
                "Katy, Stephen, and Restuadi will be involved in the restructuring, professionalizing, and revamping the LADAL webpage. We would like to extend our warmest welcome to them and express our gratutude to the School of Languages and Cultures at UQ for providing the funding for the RA positions.\n"
            ]
        },
        {
            "cell_type": "code",
            "execution_count": null,
            "metadata": {},
            "outputs": [],
            "source": [
                "knitr::include_graphics(\"https://slcladal.github.io/images/katyrestustephen.png\")\n",
                "\n"
            ]
        },
        {
            "cell_type": "markdown",
            "metadata": {},
            "source": [
                "<\/details>\n",
                "\n",
                "***\n",
                "\n",
                "# EVENTS\n",
                "\n",
                "***\n",
                "\n",
                "The LADAL team organizes workshops and LADAL members present their research or information relevant to LADAL at conferences. Below are links to upcoming events (conferences/workshops/presentations) and presentations containing information about LADAL or research based on LADAL.\n",
                "\n",
                "*** \n",
                "\n",
                "# UPCOMING\n",
                "\n",
                "*** \n",
                "\n",
                "### LADAL Opening Event\n",
                "\n",
                "The **[LADAL Opening](https://slcladal.github.io/opening.html)** event signifies the official kick off for LADAL. Originally this kick-off was planned for June 2020 as a 5-day conference with an invited speaker ([Stefan Gries](http://www.stgries.info/)), workshops on data science, and social events. Unfortunately, this kick-off had to be postponed due to COVID19 and will be held as an online event.\n",
                "\n",
                "**[HERE](https://slcladal.github.io/opening.html)** you will find updates and the current state of plans relating to the LADAL opening. \n",
                "\n",
                "*** \n",
                "\n",
                "# PAST EVENTS\n",
                "\n",
                "***\n",
                "\n",
                "### Best Practices in Corpus Linguistics – What lessons should we take from the Replication Crisis and how can we guarantee high quality in our research?\n",
                "\n",
                "<details>\n",
                "<summary>Speaker: Martin Schweinberger\n"
            ]
        },
        {
            "cell_type": "code",
            "execution_count": null,
            "metadata": {},
            "outputs": [],
            "source": [
                "knitr::include_graphics(\"https://slcladal.github.io/images/icame41heidelberg.png\")\n",
                "\n"
            ]
        },
        {
            "cell_type": "markdown",
            "metadata": {},
            "source": [
                "Date: 20–24 May 2020\n",
                "\n",
                "Presentation at ICAME 41 (41th Meeting of the International Computer Archive of Modern and Medieval English). Heidelberg, Germany.<\/summary>\n",
                "\n",
                "Materials: [slides](http://martinschweinberger.de/docs/ppt/schweinberger-ppt-heidelberg-2020-05-21.pdf), [video](http://martinschweinberger.de/docs/materials/SchweinbergerBestPractices_ICAME41.mp4)\n",
                "\n",
                "**Abstract**: This paper addresses issues relating to best practices in Data Management and Data Analysis in Corpus Linguistics (CL) and offers guidelines for compiling, storing, handling, and analysing data according to best practices which guarantee transparency and high quality in CL. \n",
                "\n",
                "Open Data and Best Practices in Data Science are increasingly attracting attention as a result of the so-called Replication Crisis (RC) which is an ongoing methodological crisis primarily affecting parts of the social and life sciences that began in the early 2010s (Diener & Biswas-Diener 2019). The RC has contributed to the loss of trust that the Humanities and Social Science have been experienced over the past two decades (Yong 2018). While a discussion about Best Practices in CL has recently begun (Berez-Kroeker et al. 2018) more attention has to be placed on the causes of the RC and the lessons that can be learnt from it. \n",
                "\n",
                "CL is somewhat disjunct from current developments in Data Science due to a lack of communication and unawareness of existing resources. This talk aims to raise awareness in CL about existing resources and problematic practices that are still common in CL, and it proposes solutions that are easily implemented and can guarantee transparency, replicability, and high quality of research outputs in CL. \n",
                "\n",
                "The solutions that this talk focuses on encompass \n",
                "\n",
                "*\tbeing aware and following the FAIR principles (Findable, Accessible, Interoperable, and Reusable) in data management; \n",
                "\n",
                "*\tthe recognition of corpora as research outputs which allows corpora to be uniquely indexed (DOIs) and thereby enabling corpus compilers to profit from making corpora accessible as these can be cited like other publications which increases citation scores and visibility;\n",
                "\n",
                "*\tthe use of Git to share code and data which is an easy way to share resources free of charge by utilizing existing research infrastructure;\n",
                "\n",
                "* the use of R Notebooks to document analyses and making them available to the community and reviewers to enable full replicability and reproducibility;\n",
                "\n",
                "*\tmaking use of documentation and policy protocols in departments, schools and institutes to ease onboarding procedures and prevent data loss and corruption. \n",
                "\n",
                "The talk thus offers relevant information for authors as well as editors and publishers to enable replication, avoid “bad” research practices, and increase the quality of research.\n",
                "\n",
                "**References**\n",
                "\n",
                "Berez-Kroeker, A. L., L. Gawne, S. S. Kung, B. F. Kelly, T. Heston, G. Holton, P. Pulsifer, D. I. Beaver, S. Chelliah, S. Dubinsky, et al. (2018). Reproducible research in linguistics: A position statement on data citation and attribution in our field. *Linguistics* 56(1), 1–18. \n",
                "\n",
                "Diener, Edward and Biswas-Diener, Robert (2019). The Replication Crisis in Psychology. [NOBA Project]( https://nobaproject.com/modules/the-replication-crisis-in-psychology).\n",
                "\n",
                "Yong, Ed (2018). Psychology’s Replication Crisis Is Running Out of Excuses. Another big project has found that only half of studies can be repeated. And this time, the usual explanations fall flat. [The Atlantic](https://www.theatlantic.com/science/archive/2018/11/psychologys-replication-crisis-real/576223/).\n",
                "\n",
                "<\/details>\n",
                "\n",
                "***\n",
                "\n",
                "### Implementing school-based support infrastructure for digital humanities research at UQ - The Language Technology and Data Analysis Laboratory (LADAL)\n"
            ]
        },
        {
            "cell_type": "code",
            "execution_count": null,
            "metadata": {},
            "outputs": [],
            "source": [
                "knitr::include_graphics(\"https://slcladal.github.io/images/ardcskilledworkforce.png\")\n",
                "\n"
            ]
        },
        {
            "cell_type": "markdown",
            "metadata": {},
            "source": [
                "<details>\n",
                "<summary>Date: 30 October 2019\n",
                " \n",
                "Speaker: Michael Haugh & Martin Schweinberger\n",
                "\n",
                "Presentation at the Australian Research Data Commons (ARDC): The Australian eResearch Skilled Workforce Summit. Sydney, Australia, 29-30/7/2019.\n",
                "\n",
                "<\/summary>\n",
                "\n",
                "Materials: [slides](http://martinschweinberger.de/docs/ppt/HaughSchweinberger_eResearchSummit_20190730.pptx)\n",
                "\n",
                "**Abstract**: This presentation introduces the Language Technology and Data Analysis Laboratory (LADAL), and discusses the implications of our experiences to date in establishing it for broader efforts to develop researcher capacity in the digital humanities. \n",
                "\n",
                "The LADAL is school-based support infrastructure for digital humanities researchers. It aims to assist staff and postgraduate students within the UQ School of Languages and Cultures to learn how to use data analytics, digital research tools, and other forms of technology to enhance their existing research programs, as well as offer pathways to new research possibilities. It complements the more generic resources and training in digital humanities methods offered by libraries (e.g. the Digital Scholars Hub at UQ) with the more specialised training/support in particular digital research methods and technologies that are required by researchers working on specific languages and cultures. \n",
                "\n",
                "The LADAL consists of a specialist computing lab for language-based computational and experimental work (the Computational and Experimental Workshop) and an online virtual lab. With respect to web-based materials, the LADAL website (https://slcladal.github.io/index.html) offers self-guided study materials and hands-on tutorials on topics relating to digital tools, computational methods for data extraction and processing, data visualization, statistical analyses of language data, and provides links to further resources and short descriptions of digital tools relevant for digital HASS research. \n",
                "\n",
                "In addition, the LADAL offers face-to-face consultations and specialized workshops. UQ researchers are encouraged to contact LADAL staff for advice and guidance on matters relating to digital research tools, data visualization, various statistical procedures, and text analytics. \n",
                "\n",
                "Staff feedback during face-to-face consultations and workshop attendance confirms there is substantial demand for the kind of digital humanities infrastructure offered by LADAL. It also suggests that support and training for researchers in the digital humanities should be conceptualized on a continuum from more generic through to more localized support. \n",
                "\n",
                "<\/details>\n",
                "\n",
                "<br><br>\n",
                "\n",
                "***\n",
                "\n",
                "### Using R for Corpus Linguistics – an Introduction and Discussion Note on Sustainability and Replicability in Corpus Linguistics\n"
            ]
        },
        {
            "cell_type": "code",
            "execution_count": null,
            "metadata": {},
            "outputs": [],
            "source": [
                "knitr::include_graphics(\"https://slcladal.github.io/images/coedl.jpg\")\n",
                "\n"
            ]
        },
        {
            "cell_type": "markdown",
            "metadata": {},
            "source": [
                "<details>\n",
                "<summary>Date: 2 April 2019\n",
                " \n",
                "Speaker: Martin Schweinberger\n",
                "\n",
                "Presentation at the *Center of Excellence for the Dynamics of Language (CoEDL) Corpus Workshop*. Melbourne, Australia, 2–3/4/2019.\n",
                "\n",
                "<\/summary>\n",
                "\n",
                "Materials: [slides](https://slcladal.github.io/resources/CoEDLCorpusWorkshop2019.pdf)\n",
                "\n",
                "<\/details>\n",
                "\n",
                "<br><br>\n",
                "\n",
                "*** \n",
                "\n",
                "# WORKSHOPS\n",
                "\n",
                "***\n",
                "\n",
                "Below are links to additional resources, workshops, and presentations. \n",
                "\n",
                "### Workshop materials\n",
                "\n",
                "<br>\n"
            ]
        },
        {
            "cell_type": "code",
            "execution_count": null,
            "metadata": {},
            "outputs": [],
            "source": [
                "knitr::include_graphics(\"https://slcladal.github.io/images/happycomputer.png\")\n",
                "\n"
            ]
        },
        {
            "cell_type": "markdown",
            "metadata": {},
            "source": [
                "+ [Getting started with R for (absolute) beginners](https://slcladal.github.io/intror.html): This workshop focused on why you should use R, what you can do with R, and how you can use it for your data analysis. \n",
                "\n",
                "+ [Statistics – Analyzing Survey and Questionnaire Data](https://slcladal.github.io/surveys.html): This workshop introduced basic visualizations and statistical tests for analyzing survey and questionnaire data. \n",
                "\n",
                "+ [Happy Computer, Happy Me!](https://slcladal.github.io/comp.html): This workshop shows ways to keep your computer happy and your data clean by providing simple tips and tricks for computer maintenance that keep your computer running at optimum speed and reliability. \n",
                "\n",
                "***\n",
                "\n",
                "[Back to top](#announcements)\n",
                "\n",
                "[Back to HOME](https://slcladal.github.io/index.html)\n",
                "\n",
                "*** \n"
            ]
        }
    ],
    "metadata": {
        "anaconda-cloud": "",
        "kernelspec": {
            "display_name": "R",
            "langauge": "R",
            "name": "ir"
        },
        "language_info": {
            "codemirror_mode": "r",
            "file_extension": ".r",
            "mimetype": "text/x-r-source",
            "name": "R",
            "pygments_lexer": "r",
            "version": "3.4.1"
        }
    },
    "nbformat": 4,
    "nbformat_minor": 1
}
