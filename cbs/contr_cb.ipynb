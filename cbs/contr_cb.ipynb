{
    "cells": [
        {
            "cell_type": "markdown",
            "metadata": {},
            "source": "\n"
        },
        {
            "cell_type": "code",
            "execution_count": null,
            "metadata": {},
            "outputs": [],
            "source": [
                "![uq](https://slcladal.github.io/images/uq1.jpg)\n",
                "\n",
                "# Introduction\n",
                "\n",
                "You have found a mistake or an error in one of our tutorials or you have an idea for a tutorial and would like us to integrate it into LADAL? No worries! You can report the error or even fix it yourself without much hustle and you can even become a contributor to LADAL if you like! \n",
                "\n",
                "In this tutorial, we show how you can report and even fix errors and it shows how you can become a LADAL contributor! And, as always, the entire R markdown document for this tutorial can be downloaded [here](https://slcladal.github.io/contr.Rmd). \n",
                "\n",
                "# Reporting and Fixing Errors\n",
                "\n",
                "Depending on how tech savvy you are and how much time or willingness to contribute you have, there are different options for point out out errors or even correcting them. Below you find descriptions of how you can report and fix bugs on the LADAL pages.\n"
            ]
        },
        {
            "cell_type": "markdown",
            "metadata": {},
            "source": "knitr::include_graphics(\"https://slcladal.github.io/images/email.jpg\")\n"
        },
        {
            "cell_type": "code",
            "execution_count": null,
            "metadata": {},
            "outputs": [],
            "source": [
                "## Reporting errors via Email\n",
                "\n",
                "If you simply want to report an error, you can contact the LADAL team via **ladal\\@uq.edu.au** or you can contact Martin via **m.schweinberger\\@uq.edu.au**. \n",
                "\n",
                "It may take some time until we manage to check and fix the bug, but we try to be as swift as possible and we will get to it eventually. \n",
                "\n",
                "## Fixing bugs on GitHub\n",
                "\n",
                "An even better option than reporting an error is to fix the bug via GitHub. That way, we receive an email that someone found an error and has submitted a fix which we can then review and accept (or decline). Below is a detailed description of how exactly you can do that.\n",
                "\n",
                "To be able to correct errors via GitHub, you need a GitHub account (you can register and sign in [here](https://github.com/)). \n",
                "\n",
                "You then \n",
                "\n",
                "# Becoming a LADAL contributor\n",
                "\n",
                "If you have an idea for a tutorial, you can download this [skeleton Rmd](https://slcladal.github.io/base.Rmd) and write your own LADAL tutorial. You can then send us the Rmd file (with any additional files we need to knit the document) and we will then check it. Once your tutorial has been approved, it will be published asa proper LADAL tutorial. \n",
                "\n",
                "***\n",
                "\n",
                "[Back to top](#introduction)\n",
                "\n",
                "[Back to HOME](https://slcladal.github.io/index.html)\n",
                "\n",
                "***\n",
                "\n",
                "# References \n"
            ]
        }
    ],
    "metadata": {
        "anaconda-cloud": "",
        "kernelspec": {
            "display_name": "R",
            "langauge": "R",
            "name": "ir"
        },
        "language_info": {
            "codemirror_mode": "r",
            "file_extension": ".r",
            "mimetype": "text/x-r-source",
            "name": "R",
            "pygments_lexer": "r",
            "version": "3.4.1"
        }
    },
    "nbformat": 4,
    "nbformat_minor": 1
}
