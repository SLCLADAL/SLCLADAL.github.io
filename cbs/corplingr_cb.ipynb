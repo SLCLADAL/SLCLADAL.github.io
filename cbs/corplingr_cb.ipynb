{
    "cells": [
        {
            "cell_type": "markdown",
            "metadata": {},
            "source": [
                "![An interactive LADAL notebook](https://slcladal.github.io/images/uq1.jpg)\n",
                "\n",
                "# Corpus Linguistics with R\n",
                "\n",
                "This tutorial is the interactive Jupyter notebook accompanying the [*Language Technology and Data Analysis Laboratory* (LADAL) tutorial *Corpus Linguistics with R*](https://ladal.edu.au/corplingr.html). The tutorial provides more details and background information while this interactive notebook focuses strictly on practical aspects.\n",
                "\n",
                "\n",
                "***\n",
                "\n",
                "\n",
                "**Preparation and session set up**\n",
                "\n",
                "We set up our session by activating the packages we need for this tutorial.\n"
            ]
        },
        {
            "cell_type": "code",
            "execution_count": null,
            "metadata": {},
            "outputs": [],
            "source": [
                "# activate packages\n",
                "library(dplyr)\n",
                "library(stringr)\n",
                "library(ggplot2)\n",
                "library(quanteda)\n",
                "library(cfa)\n"
            ]
        },
        {
            "cell_type": "markdown",
            "metadata": {},
            "source": [
                "Once you have initiated the session by executing the code shown above, you are good to go.\n",
                "\n",
                "If you are using this notebook on your own computer and you have not already installed the R packages listed above, you need to install them. You can install them by replacing the `library` command with `install.packages` and putting the name of the package into quotation marks like this: `install.packages(\"quanteda\")`. Then, you simply run this command and R will install the package you specified.\n",
                "\n",
                "\n",
                "# Studying First Language Acquisiton\n",
                "\n",
                "This case study shows how you can use and analyze the *Child Language Data Exchange System* (CHILDES) [@macwhinney1996childes] data base using R to show case how you can use it in your own studies. \n",
                "\n",
                "## Data processing\n",
                "\n",
                "We now load the data and inspect its structure using the `str` function - as the HSLLD has many files, we will only check the first 3.\n",
                "\n",
                "We start by loading the data into R.\n"
            ]
        },
        {
            "cell_type": "code",
            "execution_count": null,
            "metadata": {},
            "outputs": [],
            "source": [
                "hslld <- base::readRDS(url(\"https://slcladal.github.io/data/hslld.rda\", \"rb\"))\n",
                "# inspect\n",
                "str(hslld[1:3])\n"
            ]
        },
        {
            "cell_type": "markdown",
            "metadata": {},
            "source": [
                "***\n",
                "\n",
                "## Using your own data\n",
                "\n",
                "While the tutorial uses data from the LADAL website, you can also use your own data. You can see below what you need to do to upload and use your own data.\n",
                "\n",
                "The code chunk below allows you to upload two files from your own computer. To be able to load your own data, you need to click on the folder symbol to the left of the screen:\n",
                "\n",
                "![Binder Folder Symbol](https://slcladal.github.io/images/binderfolder.JPG)\n",
                "\n",
                "\n",
                "Then on the upload symbol.\n",
                "\n",
                "![Binder Upload Symbol](https://slcladal.github.io/images/binderupload.JPG)\n",
                "\n",
                "Next, upload the files you want to analyze and then the respective files names in the file argument of the scan function. When you then execute the code (like to code chunk below, you will upload your own data.\n"
            ]
        },
        {
            "cell_type": "code",
            "execution_count": null,
            "metadata": {},
            "outputs": [],
            "source": [
                "mytext1 <- scan(file = \"linguistics01.txt\",\n",
                "            what = \"char\", \n",
                "            sep = \"\", \n",
                "            quote = \"\", \n",
                "            quiet = T, \n",
                "            skipNul = T) %>%\n",
                "            paste0(collapse = \" \")\n",
                "mytext2 <- scan(file = \"linguistics02.txt\",\n",
                "            what = \"char\", \n",
                "            sep = \"\", \n",
                "            quote = \"\", \n",
                "            quiet = T, \n",
                "            skipNul = T) %>%\n",
                "            paste0(collapse = \" \")\n",
                "# inspect\n",
                "mytext1; mytext2\n"
            ]
        },
        {
            "cell_type": "markdown",
            "metadata": {},
            "source": [
                "**Keep in mind though that you need to adapt the names of the texts in the code chunks below so that the code below work on your own texts!**\n",
                "\n",
                "***\n",
                "\n",
                "We continue and split the data up into files. The `sapply` function loops each element in the `hslld` object and performs specified actions on the (here, loading the content via the `scan` function, getting rid of white spaces and splitting the files when it finds the following sequences `*ABC1:` or `%ABC:`)\n"
            ]
        },
        {
            "cell_type": "code",
            "execution_count": null,
            "metadata": {},
            "outputs": [],
            "source": [
                "# create version of corpus fit for concordancing\n",
                "corpus <- sapply(hslld, function(x) {\n",
                "  # clean data\n",
                "  x <- stringr::str_trim(x, side = \"both\") # remove superfluous white spaces at the edges of strings\n",
                "  x <- stringr::str_squish(x)              # remove superfluous white spaces within strings\n",
                "  x <- paste0(x, collapse = \" \")           # paste all utterances in a file together\n",
                "  # split files into individual utterances\n",
                "  x <- strsplit(gsub(\"([%|*][a-z|A-Z]{2,4}[0-9]{0,1}:)\", \"~~~\\\\1\", x), \"~~~\")\n",
                "})\n",
                "# inspect results\n",
                "str(corpus[1:3])\n"
            ]
        },
        {
            "cell_type": "markdown",
            "metadata": {},
            "source": [
                "We have now loaded the files into R, but the format is not yet structured in a way that we can use it - remember: we want the data to be in a tabular format.\n",
                "\n",
                "**Extract file information**\n",
                "\n",
                "Now, we extract information about the recording, e.g., the participants, the age of the child, the date of the recording etc. For this, we extract the first element of each file (because this first element contains all the relevant information bout the recording). To do this, we again use the `sapply` function (which is our looping function) and then tell R that it shall only retain the first element of each element (`x <- x[1]`).\n"
            ]
        },
        {
            "cell_type": "code",
            "execution_count": null,
            "metadata": {},
            "outputs": [],
            "source": [
                "# extract file info for each file\n",
                "fileinfo <- sapply(corpus, function(x){ \n",
                "  # extract first element of each corpus file because this contains the file info\n",
                "  x <- x[1]\n",
                "  })\n",
                "#inspect\n",
                "fileinfo[1:3]\n"
            ]
        },
        {
            "cell_type": "markdown",
            "metadata": {},
            "source": [
                "Now, we have one element for each file that contains all the relevant information about the file, like when the recording took place, how old the target child was, how was present during the recording etc.\n",
                "\n",
                "**Extract file content**\n",
                "\n",
                "Now, we extract the raw content from which we will extract the speaker, the utterance, the pos-tagged utterance, and any comments.Here, we loop over the `corpus` object with the `sapply` function and we remove the first element in each list (and we retain the second to last element of each element (`x <- x[2:length(x)]`)), then we paste everything else together using the `paste0` function and then, we split the whole conversation into utterances that start with a speaker id (e.g. `*MOT:`). The latter is done by the sequence `stringr::str_split(stringr::str_replace_all(x, \"(\\\\*[A-Z])\", \"~~~\\\\1\"), \"~~~\")`.\n",
                "\n",
                "  \n"
            ]
        },
        {
            "cell_type": "code",
            "execution_count": null,
            "metadata": {},
            "outputs": [],
            "source": [
                "content <- sapply(corpus, function(x){\n",
                "  x <- x[2:length(x)]\n",
                "  x <- paste0(x, collapse = \" \")\n",
                "  x <- stringr::str_split(stringr::str_replace_all(x, \"(\\\\*[A-Z])\", \"~~~\\\\1\"), \"~~~\")\n",
                "})\n",
                "# inspect data\n",
                "content[[1]][1:6]\n"
            ]
        },
        {
            "cell_type": "markdown",
            "metadata": {},
            "source": [
                "The data now consists of utterances but also the pos-tagged utterances and any comments. However, we use this form of the data to extract the clean utterances, the pos-tagged utterances and the comments and store them in different columns. \n",
                "\n",
                "\n",
                "**Extract information**\n",
                "\n",
                "Now, we extract how many elements (or utterances) there are in each file by looping over the `content` object and extracting the number of elements within each element of the `content` object by using the `lenght` function. \n"
            ]
        },
        {
            "cell_type": "code",
            "execution_count": null,
            "metadata": {},
            "outputs": [],
            "source": [
                "elements <- sapply(content, function(x){\n",
                "  x <- length(x)\n",
                "})\n",
                "# inspect\n",
                "head(elements)\n"
            ]
        },
        {
            "cell_type": "markdown",
            "metadata": {},
            "source": [
                "**Generate table**\n",
                "\n",
                "We now have the file names, the metadata for each file, and the content of each file (that is split into utterances). We use this information to generate a first table which holds the file name in one column, the file information in one column, and the raw file content in another column. To combine these three pieces of information though, we need to repeat the file names and the file information as often as there are utterances in each file. We perform this repetition using the `rep` function. Once we have as many file names and file information as there are utterances in each file, we can combine these three vectors into a table using the `data.frame` function. \n"
            ]
        },
        {
            "cell_type": "code",
            "execution_count": null,
            "metadata": {},
            "outputs": [],
            "source": [
                "files <- rep(names(elements), elements)\n",
                "fileinfo <- rep(fileinfo, elements)\n",
                "rawcontent <- as.vector(unlist(content))\n",
                "chitb <- data.frame(1:length(rawcontent),\n",
                "                    files,\n",
                "                    fileinfo,\n",
                "                    rawcontent)\n",
                "# inspect\n",
                "head(chitb, 3)\n"
            ]
        },
        {
            "cell_type": "markdown",
            "metadata": {},
            "source": [
                "The table in its current form  has three columns: the first column holds the path to each file, the second contains the file information, and the third the utterances.\n",
                "\n",
                "**Process table**\n",
                "\n",
                "We can now use the information in the two last columns to extract specific pieces of information from the data (which we will store in additional columns that we add to the table). But first, we rename the `id` column (which is simply an index of each utterance) using the `rename` function from the `dplyr` package. Then, we clean the file name column (called `files`) so that it only contains the name of the file, so we remove the rest of the path information that we do not need anymore. We do this by using the `mutate` function from the `dplyr` package  (which changes columns or creates new columns). Within the `mutate` function, we use the `gsub` function which substitutes something with something else: here the full path is replaced with on that part of the path that contains the file name. The `gsub` function has the following form\n",
                "\n",
                "<br>\n",
                "`gsub(*look for pattern*, *replacement of the pattern*, object)`\n",
                "<br>\n",
                "\n",
                "This means that the `gsub` function needs an object and in that object it looks for a pattern and then replaces instances f that pattern with something.\n",
                "\n",
                "In our case, that what we look for is the file name which is located between the symbol `/` and the file ending (`.cha`). So, we extract everything that comes between a `/` and a `.cha` in the path and keep that what is between the `/` and a `.cha`  in R's memory (this is done by placing something in round brackets in a regular expression). Then, we paste that what we have extracted back (and which is stored in memory) by using the `\\\\1` which grabs the first element that is in memory and puts it into the *replace with* part of the `gsub` function. \n"
            ]
        },
        {
            "cell_type": "code",
            "execution_count": null,
            "metadata": {},
            "outputs": [],
            "source": [
                "hslld <- chitb %>%\n",
                "  # rename id column\n",
                "  dplyr::rename(id = colnames(chitb)[1]) %>%\n",
                "  # clean file names\n",
                "  dplyr::mutate(files = gsub(\".*/(.*?).cha\", \"\\\\1\", files))\n",
                "# inspect data\n",
                "head(hslld)\n"
            ]
        },
        {
            "cell_type": "markdown",
            "metadata": {},
            "source": [
                "We now continue in the same manner (by remove what is before what interests us and what comes after) and thereby extract pieces of information that we store in new columns.\n",
                "\n",
                "Creating a speaker column. We create a new column called `speaker` using the `mutate` function from the `dplyr` package. Then, we use the `str_replace_all` function from the `stringr` package to remove everything that comes after a `:`. *Everything that comes after* can be defined by a regular expression - in this case the sequence `.*`. The `.` is a regular expression that stands for *any symbol* - be it a letter, or a number, or any punctuation symbol, or a white space. The `*` is a numerating regular expression that tells R how many times the regular expression (the `.`) is repeated - in our case, the `*` stands for *zero to an infinite number*. So the sequence `.*` stands for any symbol, repeated zero to an infinite number of times. In combination, the sequence `:.*` stands for *look for a colon and anything that comes after. And because we have put this into the `str_replace_all` function, the colon and everything that comes after is removed.\n"
            ]
        },
        {
            "cell_type": "code",
            "execution_count": null,
            "metadata": {},
            "outputs": [],
            "source": [
                "hslld <- hslld %>%  \n",
                "  dplyr::mutate(speaker = stringr::str_remove_all(rawcontent, \":.*\"),\n",
                "                speaker = stringr::str_remove_all(speaker, \"\\\\W\"))\n"
            ]
        },
        {
            "cell_type": "markdown",
            "metadata": {},
            "source": [
                "In the following, we will create many different columns, but we will always follow the same scheme: generate a new column using the `mutate` function from the `dplyr` package and then remove stuff that we do not need by using the `str_remove_all` function from the `stringr` package or just the `gsub` function - which is a simple replacement function. We can also use `str_squish` to get rid of superfluous white spaces. We will always remove sequences that are defined by a string (a sequence of characters and a regular expression consisting of the regular expression that determines what type of symbol R is supposed to look for and a numerator which tells R how many times that symbol can occur). For example, `%mor:.*` tells R to look for the sequence `%mor:` and any symbol, repeated between zero and an infinite number of times, that comes after the `%mor:` sequence. As this is put into the `str_replace_all` function and applied to the `rawcontent` file, it will replace everything that comes after `%mor:` and the sequence `%mor:` itself.\n",
                "\n",
                "Creating an utterance column.\n"
            ]
        },
        {
            "cell_type": "code",
            "execution_count": null,
            "metadata": {},
            "outputs": [],
            "source": [
                "hslld <- hslld %>%  \n",
                "  dplyr::mutate(utterance = stringr::str_remove_all(rawcontent, \"%mor:.*\"),\n",
                "                utterance = stringr::str_remove_all(utterance, \"%.*\"),\n",
                "                utterance = stringr::str_remove_all(utterance, \"\\\\*\\\\w{2,6}:\"),\n",
                "                utterance = stringr::str_squish(utterance))\n"
            ]
        },
        {
            "cell_type": "markdown",
            "metadata": {},
            "source": [
                "Creating a column with the pos-tagged utterances.\n",
                "\n"
            ]
        },
        {
            "cell_type": "code",
            "execution_count": null,
            "metadata": {},
            "outputs": [],
            "source": [
                "hslld <- hslld %>%  \n",
                "  dplyr::mutate(postag = stringr::str_remove_all(rawcontent, \".*%mor:\"),\n",
                "                postag = stringr::str_remove_all(postag, \"%.*\"),\n",
                "                postag = stringr::str_remove_all(postag, \"\\\\*\\\\w{2,6}:\"),\n",
                "                postag = stringr::str_squish(postag))\n"
            ]
        },
        {
            "cell_type": "markdown",
            "metadata": {},
            "source": [
                "Creating a  column with comments. In the following chunk, we use the `?` in combination with `.*`. In this case, the `?` does not mean the literal symbol `?` but it tells R to be what is called *non-greedy* which means that R will look for something until the first occurrence of something. So the sequence `.*?%` tells R to look for any symbol repeated between zero and an infinite number of times until *the first occurrence*(!) of the symbol `%`. If we did not include the `?`, R would look until the last (not the first) occurrence of `%`.\n",
                "\n"
            ]
        },
        {
            "cell_type": "code",
            "execution_count": null,
            "metadata": {},
            "outputs": [],
            "source": [
                "hslld <- hslld %>%  \n",
                "  dplyr::mutate(comment = stringr::str_remove_all(rawcontent, \".*%mor:\"),\n",
                "                comment = stringr::str_remove(comment, \".*?%\"),\n",
                "                comment = stringr::str_remove_all(comment, \".*|.*\"),\n",
                "                comment = stringr::str_squish(comment))\n"
            ]
        },
        {
            "cell_type": "markdown",
            "metadata": {},
            "source": [
                "Creating a  column with the participants that were present during the recording.\n",
                "\n"
            ]
        },
        {
            "cell_type": "code",
            "execution_count": null,
            "metadata": {},
            "outputs": [],
            "source": [
                "hslld <- hslld %>%  \n",
                "  dplyr::mutate(participants = gsub(\".*@Participants:(.*?)@.*\", \"\\\\1\", fileinfo))\n"
            ]
        },
        {
            "cell_type": "markdown",
            "metadata": {},
            "source": [
                "Creating a  column with the age of the target child. In the following, the sequence `[0-9]{1,3}` means look for any sequence containing between 1 and 3 (this is defined by the `{1,3}`) numbers (the numbers are defined by the `[0-9]` part). Also, when we put `\\\\` before something, then we tell R that this refers to the actual symbol and not its meaning as a regular expression. For example, the symbol `|` is a regular expression that means *or* as in *You can paint my walls blue OR orange*, but if we put `\\\\` before `|`, we tell R that we really mean the symbol `|`.\n",
                "\n"
            ]
        },
        {
            "cell_type": "code",
            "execution_count": null,
            "metadata": {},
            "outputs": [],
            "source": [
                "hslld <- hslld %>%\n",
                "  dplyr::mutate(age_targetchild = gsub(\".*\\\\|([0-9]{1,3};[0-9]{1,3}\\\\.[0-9]{1,3})\\\\|.*\", \"\\\\1\", fileinfo)) \n"
            ]
        },
        {
            "cell_type": "markdown",
            "metadata": {},
            "source": [
                "Creating a  column with the age of the target child in years.\n",
                "\n"
            ]
        },
        {
            "cell_type": "code",
            "execution_count": null,
            "metadata": {},
            "outputs": [],
            "source": [
                "hslld <- hslld %>%\n",
                "  dplyr::mutate(age_years_targetchild = stringr::str_remove_all(age_targetchild, \";.*\")) \n"
            ]
        },
        {
            "cell_type": "markdown",
            "metadata": {},
            "source": [
                "Creating a  column with the gender of the target child.\n",
                "\n"
            ]
        },
        {
            "cell_type": "code",
            "execution_count": null,
            "metadata": {},
            "outputs": [],
            "source": [
                "hslld <- hslld %>%\n",
                "  dplyr::mutate(gender_targetchild = gsub(\".*\\\\|([female]{4,6})\\\\|.*\", \"\\\\1\", fileinfo))\n"
            ]
        },
        {
            "cell_type": "markdown",
            "metadata": {},
            "source": [
                "Creating columns with the date-of-birth of the target child, more comments, and the date of the recording.\n",
                "\n"
            ]
        },
        {
            "cell_type": "code",
            "execution_count": null,
            "metadata": {},
            "outputs": [],
            "source": [
                "hslld <- hslld %>%  \n",
                "  # create dob_targetchild column\n",
                "  dplyr::mutate(dob_targetchild = gsub(\".*@Birth of CHI:(.*?)@.*\",\"\\\\1\", fileinfo)) %>%\n",
                "  # create comment_file column\n",
                "  dplyr::mutate(comment_file = gsub(\".*@Comment: (.*?)@.*\", \"\\\\1\", fileinfo)) %>%\n",
                "  # create date column\n",
                "  dplyr::mutate(date = gsub(\".*@Date: (.*?)@.*\", \"\\\\1\", fileinfo))\n"
            ]
        },
        {
            "cell_type": "markdown",
            "metadata": {},
            "source": [
                "Creating columns with the location where the recording took place and the situation type of the recording.\n",
                "\n"
            ]
        },
        {
            "cell_type": "code",
            "execution_count": null,
            "metadata": {},
            "outputs": [],
            "source": [
                "hslld <- hslld %>%  \n",
                "  # create location column,\n",
                "  dplyr::mutate(location = gsub(\".*@Location: (.*?)@.*\", \"\\\\1\", fileinfo)) %>%\n",
                "  # create situation column\n",
                "  dplyr::mutate(situation = gsub(\".*@Situation: (.*?)@.*\", \"\\\\1\", fileinfo))\n"
            ]
        },
        {
            "cell_type": "markdown",
            "metadata": {},
            "source": [
                "Creating columns with the activity during the recording and the home-visit number.\n",
                "\n"
            ]
        },
        {
            "cell_type": "code",
            "execution_count": null,
            "metadata": {},
            "outputs": [],
            "source": [
                "hslld <- hslld %>%  \n",
                "  # create homevisit_activity column\n",
                "  dplyr::mutate(homevisit_activity = stringr::str_remove_all(situation, \";.*\")) %>%\n",
                "  # create activity column\n",
                "  dplyr::mutate(activity = gsub(\".*@Activities: (.*?)@.*\", \"\\\\1\", fileinfo)) %>%\n",
                "  # create homevisit column\n",
                "  dplyr::mutate(homevisit = stringr::str_sub(files, 4, 6))\n"
            ]
        },
        {
            "cell_type": "markdown",
            "metadata": {},
            "source": [
                "Creating a column with the number of words in each utterance.\n",
                "\n"
            ]
        },
        {
            "cell_type": "code",
            "execution_count": null,
            "metadata": {},
            "outputs": [],
            "source": [
                "hslld <- hslld %>%  \n",
                "  # create words column\n",
                "  dplyr::mutate(words = stringr::str_replace_all(utterance, \"\\\\W\", \" \"),\n",
                "                words = stringr::str_squish(words),\n",
                "                words = stringr::str_count(words, \"\\\\w+\"))\n"
            ]
        },
        {
            "cell_type": "markdown",
            "metadata": {},
            "source": [
                "Cleaning the data: removing rows without speakers, rows where the age of the target child was incorrect, and removing superfluous columns.\n",
                "\n"
            ]
        },
        {
            "cell_type": "code",
            "execution_count": null,
            "metadata": {},
            "outputs": [],
            "source": [
                "hslld <- hslld %>%  \n",
                "  # remove rows without speakers (contain only metadata)\n",
                "  dplyr::filter(speaker != \"\") %>%\n",
                "  # remove rows with incorrect age of child\n",
                "  dplyr::filter(nchar(age_years_targetchild) < 5) %>%\n",
                "  # remove superfluous columns\n",
                "  dplyr::select(-fileinfo, -rawcontent, -situation)  %>%\n",
                "  # create words column\n",
                "  dplyr::mutate(collection = \"EngNA\",\n",
                "                corpus = \"HSLLD\") %>%\n",
                "  dplyr::rename(transcript_id = files) %>%\n",
                "    # code activity\n",
                "  dplyr::mutate(visit = substr(transcript_id, 6, 6)) %>%\n",
                "  dplyr::mutate(situation = substr(transcript_id, 4, 5),\n",
                "                situation = str_replace_all(situation, \"br\", \"Book reading\"),\n",
                "                situation = str_replace_all(situation, \"er\", \"Elicited report\"),\n",
                "                situation = str_replace_all(situation, \"et\", \"Experimental task\"),\n",
                "                situation = str_replace_all(situation, \"lw\", \"Letter writing\"),\n",
                "                situation = str_replace_all(situation, \"md\", \"Mother defined situation\"),\n",
                "                situation = str_replace_all(situation, \"mt\", \"Meal time\"),\n",
                "                situation = str_replace_all(situation, \"re\", \"Reading\"),\n",
                "                situation = str_replace_all(situation, \"tp\", \"Toy play\"))\n",
                "# inspect data\n",
                "head(hslld)\n"
            ]
        },
        {
            "cell_type": "markdown",
            "metadata": {},
            "source": [
                "Now that we have the data in a format that we can use, we can use this table to continue with our case studies.\n",
                "\n",
                "## Case study 1: Use of NO \n",
                "\n",
                "To extract all instances of a single word, in this example the word *no*, that are uttered by a specific interlocutor we filter by speaker and define that we only want rows where the speaker is equal to `CHI` (target child).\n"
            ]
        },
        {
            "cell_type": "code",
            "execution_count": null,
            "metadata": {},
            "outputs": [],
            "source": [
                "no <- hslld %>%\n",
                "  dplyr::filter(speaker == \"CHI\") %>%\n",
                "  dplyr::filter(stringr::str_detect(utterance, \"\\\\b[Nn][Oo]\\\\b\")) \n",
                "# inspect data\n",
                "head(no)\n"
            ]
        },
        {
            "cell_type": "markdown",
            "metadata": {},
            "source": [
                "We summarize the results in a table. \n",
                "\n"
            ]
        },
        {
            "cell_type": "code",
            "execution_count": null,
            "metadata": {},
            "outputs": [],
            "source": [
                "no_no <- no %>%\n",
                "  dplyr::group_by(transcript_id, gender_targetchild, age_years_targetchild) %>%\n",
                "  dplyr::summarise(nos = nrow(.))\n",
                "head(no_no)\n"
            ]
        },
        {
            "cell_type": "markdown",
            "metadata": {},
            "source": [
                "We can also extract the number of words uttered by children to check if the use of *no* shows a relative increase or decrease over time.\n",
                "\n"
            ]
        },
        {
            "cell_type": "code",
            "execution_count": null,
            "metadata": {},
            "outputs": [],
            "source": [
                "no_words <- hslld %>%\n",
                "  dplyr::filter(speaker == \"CHI\") %>%\n",
                "  dplyr::group_by(transcript_id, gender_targetchild, age_years_targetchild) %>%\n",
                "  dplyr::mutate(nos = stringr::str_detect(utterance, \"\\\\b[Nn][Oo]\\\\b\")) %>%\n",
                "  dplyr::summarise(nos = sum(nos),\n",
                "                   words = sum(words)) %>%\n",
                "  # add relative frequency\n",
                "  dplyr::mutate(freq = round(nos/words*1000, 3))\n",
                "# inspect data\n",
                "head(no_words)\n"
            ]
        },
        {
            "cell_type": "markdown",
            "metadata": {},
            "source": [
                "We can also visualize the trends using the `ggplot` function . To learn how to visualize data in R see [this tutorial](https://slcladal.github.io/dviz.html).\n",
                "\n"
            ]
        },
        {
            "cell_type": "code",
            "execution_count": null,
            "metadata": {},
            "outputs": [],
            "source": [
                "no_words %>%\n",
                "  dplyr::mutate(age_years_targetchild = as.numeric(age_years_targetchild)) %>%\n",
                "  ggplot(aes(x = age_years_targetchild, y = freq)) +\n",
                "  geom_smooth() +\n",
                "  theme_bw() +\n",
                "  labs(x = \"Age of target child\", y = \"Relative frequency of NOs \\n (per 1,000 words)\")\n"
            ]
        },
        {
            "cell_type": "markdown",
            "metadata": {},
            "source": [
                "## Case study 2: extracting questions \n",
                "\n",
                "Here, we want to extract all questions uttered by mothers. We operationalize questions as utterances containing a question mark.\n"
            ]
        },
        {
            "cell_type": "code",
            "execution_count": null,
            "metadata": {},
            "outputs": [],
            "source": [
                "questions <- hslld %>%\n",
                "  dplyr::filter(speaker == \"MOT\") %>%\n",
                "  dplyr::filter(stringr::str_detect(utterance, \"\\\\?\"))\n",
                "# inspect data\n",
                "head(questions)\n"
            ]
        },
        {
            "cell_type": "markdown",
            "metadata": {},
            "source": [
                "We could now check if the rate of questions changes over time.\n",
                "\n"
            ]
        },
        {
            "cell_type": "code",
            "execution_count": null,
            "metadata": {},
            "outputs": [],
            "source": [
                "qmot <- hslld %>%\n",
                "  dplyr::filter(speaker == \"MOT\") %>%\n",
                "  dplyr::mutate(questions = ifelse(stringr::str_detect(utterance, \"\\\\?\") == T, 1,0),\n",
                "                utterances = 1) %>%\n",
                "  dplyr::group_by(age_years_targetchild) %>%\n",
                "  dplyr::summarise(utterances = sum(utterances),\n",
                "                questions = sum(questions),\n",
                "                percent = round(questions/utterances*100, 2))\n",
                "# inspect data\n",
                "head(qmot)\n"
            ]
        },
        {
            "cell_type": "markdown",
            "metadata": {},
            "source": "\n"
        },
        {
            "cell_type": "code",
            "execution_count": null,
            "metadata": {},
            "outputs": [],
            "source": [
                "qmot %>%\n",
                "  dplyr::mutate(age_years_targetchild = as.numeric(age_years_targetchild)) %>%\n",
                "  ggplot(aes(x = age_years_targetchild, y = percent)) +\n",
                "  geom_smooth() +\n",
                "  theme_bw() +\n",
                "  labs(x = \"Age of target child\", y = \"Percent \\n (questions)\")\n"
            ]
        },
        {
            "cell_type": "markdown",
            "metadata": {},
            "source": [
                "## Case study 3: extracting aux + parts \n",
                "\n",
                "Here we want to extract all occurrences of an auxiliary plus a participle (e.g. *is swimming*) produced by mothers.\n"
            ]
        },
        {
            "cell_type": "code",
            "execution_count": null,
            "metadata": {},
            "outputs": [],
            "source": [
                "auxv <- hslld %>%\n",
                "  dplyr::filter(speaker == \"MOT\") %>%\n",
                "  dplyr::filter(stringr::str_detect(postag, \"aux\\\\|\\\\S{1,} part\\\\|\"))\n",
                "# inspect data\n",
                "head(auxv)\n"
            ]
        },
        {
            "cell_type": "markdown",
            "metadata": {},
            "source": [
                "We can now extract all the particle forms from the pos-tagged utterance\n",
                "\n"
            ]
        },
        {
            "cell_type": "code",
            "execution_count": null,
            "metadata": {},
            "outputs": [],
            "source": [
                "auxv_verbs <- auxv %>%\n",
                "  dplyr::mutate(participle = gsub(\".*part\\\\|(\\\\w{1,})-.*\", \"\\\\1\", postag)) %>%\n",
                "  dplyr::pull(participle)\n",
                "head(auxv_verbs)\n"
            ]
        },
        {
            "cell_type": "markdown",
            "metadata": {},
            "source": "\n"
        },
        {
            "cell_type": "code",
            "execution_count": null,
            "metadata": {},
            "outputs": [],
            "source": [
                "auxv_verbs_df <- auxv_verbs %>%\n",
                "  as.data.frame(.)  %>%\n",
                "  dplyr::rename(\"verb\" = colnames(.)[1]) %>%\n",
                "  dplyr::group_by(verb) %>%\n",
                "  dplyr::summarise(freq = n()) %>%\n",
                "  dplyr::arrange(-freq) %>%\n",
                "  head(20)\n",
                "# inspect\n",
                "head(auxv_verbs_df)\n"
            ]
        },
        {
            "cell_type": "markdown",
            "metadata": {},
            "source": [
                "We can again visualize the results. In this case, we create a bar plot (see the `geom_bar`).\n",
                "\n"
            ]
        },
        {
            "cell_type": "code",
            "execution_count": null,
            "metadata": {},
            "outputs": [],
            "source": [
                "auxv_verbs_df %>%\n",
                "  ggplot(aes(x = reorder(verb, -freq), y = freq)) +\n",
                "  geom_bar(stat = \"identity\") +\n",
                "  theme_bw() +\n",
                "  labs(x = \"Verb\", y = \"Frequency\") +\n",
                "  theme(axis.text.x = element_text(angle = 90))\n"
            ]
        },
        {
            "cell_type": "markdown",
            "metadata": {},
            "source": [
                "## Case study 4: ratio of verbs to words \n",
                "\n",
                "Here we extract all lexical verbs and words uttered by children by year and then see if the rate of verbs changes over time.\n"
            ]
        },
        {
            "cell_type": "code",
            "execution_count": null,
            "metadata": {},
            "outputs": [],
            "source": [
                "nverbs <- hslld %>%\n",
                "  dplyr::filter(speaker == \"CHI\") %>%\n",
                "  dplyr::mutate(nverbs = stringr::str_count(postag, \"^v\\\\|| v\\\\|\"),\n",
                "  age_years_targetchild = as.numeric(age_years_targetchild)) %>%\n",
                "  dplyr::group_by(age_years_targetchild) %>%\n",
                "  dplyr::summarise(words = sum(words),\n",
                "                verbs = sum(nverbs)) %>%\n",
                "  dplyr::mutate(verb.word.ratio = round(verbs/words, 3))\n",
                "# inspect data\n",
                "nverbs\n"
            ]
        },
        {
            "cell_type": "markdown",
            "metadata": {},
            "source": [
                "We can also visualize the results to show any changes over time. \n",
                "\n"
            ]
        },
        {
            "cell_type": "code",
            "execution_count": null,
            "metadata": {},
            "outputs": [],
            "source": [
                "nverbs %>%\n",
                "  ggplot(aes(x = age_years_targetchild, y = verb.word.ratio)) +\n",
                "  geom_line() +\n",
                "  coord_cartesian(ylim = c(0, 0.2)) +\n",
                "  theme_bw() +\n",
                "  labs(x = \"Age of target child\", y = \"Verb-Word Ratio\")\n"
            ]
        },
        {
            "cell_type": "markdown",
            "metadata": {},
            "source": [
                "## Case study 5: type-token ratio over time \n",
                "\n",
                "Here we extract all tokens (words with repetition) and types (words without repetition) uttered by children by year and then see if the type-token ratio changes over time.\n",
                "\n",
                "In a first step, we create a table with the age of the children in years, we then collapse all utterances of the children into one long utterance and then clean this long utterance by removing digits and superfluous white spaces.\n",
                "\n",
                "***\n",
                "\n",
                "<div class=\"warning\" style='padding:0.1em; background-color:#f2f2f2; color:#51247a'>\n",
                "<span>\n",
                "<p style='margin-top:1em; text-align:center'>\n",
                "<b>TIP<\/b><br><br>A more accurate way of doing this would be to create one utterance for each child per home visit as this would give us a distribution of type-token ratios rather than a single value.<\/p>\n",
                "<p style='margin-left:1em;'>\n",
                "<\/p><\/span>\n",
                "<\/div>\n",
                "\n",
                "***\n"
            ]
        },
        {
            "cell_type": "code",
            "execution_count": null,
            "metadata": {},
            "outputs": [],
            "source": [
                "utterance_tb <- hslld %>%\n",
                "  dplyr::filter(speaker == \"CHI\") %>%\n",
                "  dplyr::group_by(age_years_targetchild) %>%\n",
                "  dplyr::summarise(allutts = paste0(utterance, collapse = \" \")) %>%\n",
                "  dplyr::ungroup() %>%\n",
                "  dplyr::mutate(age_years_targetchild = as.numeric(age_years_targetchild),\n",
                "                # clean utterance\n",
                "                allutts = stringr::str_replace_all(allutts, \"\\\\W\", \" \"),\n",
                "                allutts = stringr::str_replace_all(allutts, \"\\\\d\", \" \"),\n",
                "                allutts = stringr::str_remove_all(allutts, \"xxx\"),\n",
                "                allutts = stringr::str_remove_all(allutts, \"zzz\"),\n",
                "                allutts = tolower(allutts)) %>%\n",
                "  # remove superfluous white spaces\n",
                "  dplyr::mutate(allutts = gsub(\" {2,}\", \" \", allutts)) %>%\n",
                "  dplyr::mutate(allutts = stringr::str_squish(allutts))\n",
                "# inspect data\n",
                "head(utterance_tb)\n"
            ]
        },
        {
            "cell_type": "markdown",
            "metadata": {},
            "source": [
                "Extract the number of tokens, the number of types and calculating the type-token ratio.\n",
                "\n"
            ]
        },
        {
            "cell_type": "code",
            "execution_count": null,
            "metadata": {},
            "outputs": [],
            "source": [
                "tokens <- stringr::str_count(utterance_tb$allutts, \" \") +1\n",
                "types <- stringr::str_split(utterance_tb$allutts, \" \")\n",
                "types <- sapply(types, function(x){\n",
                "  x <- length(names(table(x)))\n",
                "})\n",
                "ttr <- utterance_tb %>%\n",
                "  dplyr::mutate(tokens = tokens,\n",
                "                types = types) %>%\n",
                "  dplyr::select(-allutts) %>%\n",
                "  dplyr::mutate(TypeTokenRatio = round(types/tokens, 3))\n",
                "# inspect \n",
                "ttr\n"
            ]
        },
        {
            "cell_type": "markdown",
            "metadata": {},
            "source": [
                "Plot the type-token ratio against age of the target child.\n",
                "\n"
            ]
        },
        {
            "cell_type": "code",
            "execution_count": null,
            "metadata": {},
            "outputs": [],
            "source": [
                "ttr %>%\n",
                "  ggplot(aes(x = age_years_targetchild, y = TypeTokenRatio)) +\n",
                "  geom_line() +\n",
                "  coord_cartesian(ylim = c(0, 0.75)) +\n",
                "  theme_bw() +\n",
                "  labs(x = \"Age of target child\", y = \"Type-Token Ratio\")\n"
            ]
        },
        {
            "cell_type": "markdown",
            "metadata": {},
            "source": [
                "# Studying Sociolinguistic Variation\n",
                "\n",
                "This case study represents a corpus-based study of sociolinguistic variation that aims to answer if swearing differs across social groups. In particular, this case study analyzes if speakers coming from different age groups and genders, i.e. whether old or young or men or women swear more, differ in their use of swear words based on a sub-sample of the Irish component of the [International Corpus of English (ICE)](https://www.ice-corpora.uzh.ch/en.html). The case study represents a simplified version of the analysis of [paper](https://www.sciencedirect.com/science/article/pii/S0024384117304357) [@schweinberger2018swearing].\n",
                "\n",
                "## Data processing\n",
                "\n",
                "In a first step, we load the load the data into R. The way that the corpus data is loaded in this example is somewhat awkward because the data is in a server directory rather than on a hard drive on a simple PC. If the corpus data is not stored in a directory of a server, then you should not use the code shown immediately below but code in the window following the code immediately below.  \n"
            ]
        },
        {
            "cell_type": "code",
            "execution_count": null,
            "metadata": {},
            "outputs": [],
            "source": [
                "# load txt tidyr style\n",
                "tbl <- list.files(pattern = \"*.txt\") %>% \n",
                "        map_chr(~ read_file(.)) %>% \n",
                "        data_frame(text = .)\n"
            ]
        },
        {
            "cell_type": "markdown",
            "metadata": {},
            "source": "\n"
        },
        {
            "cell_type": "code",
            "execution_count": null,
            "metadata": {},
            "outputs": [],
            "source": [
                "# define path to corpus\n",
                "corpuspath <- \"https://slcladal.github.io/data/ICEIrelandSample/\"\n",
                "# define corpusfiles\n",
                "files <- paste(corpuspath, \"S1A-00\", 1:20, \".txt\", sep = \"\")\n",
                "files <- gsub(\"[0-9]([0-9][0-9][0-9])\", \"\\\\1\", files)\n",
                "# load corpus files\n",
                "corpus <- sapply(files, function(x){\n",
                "  x <- readLines(x)\n",
                "  x <- paste(x, collapse = \" \")\n",
                "  x <- tolower(x)\n",
                "})\n",
                "# inspect corpus\n",
                "str(corpus)\n"
            ]
        },
        {
            "cell_type": "markdown",
            "metadata": {},
            "source": [
                "If the corpus data is stored on your own computer (on not on a serves as is the case in the present example), you need to adapt the path though as the code below only works on my computer. Just exchange the `corpuspath` with the path to the data on your computer (e.g. with `\"D:\\\\Uni\\\\UQ\\\\LADAL\\\\SLCLADAL.github.io\\\\data\\\\ICEIrelandSample\"`).\n",
                "\n",
                "\n",
                "**Data processing and extraction**\n",
                "\n",
                "Now that the corpus data is loaded, we can prepare the searches by defining the search patterns. We will use regular expressions to retrieve all variants of the swear words. The sequence `\\\\b` denotes word boundaries while the sequence `[a-z]{0,3}` means that the sequences *ass* can be followed by a string consisting of any character symbol that is maximally three characters long (so that the search would also retrieve *asses*). We separate the search patters by `|` as this means *or*.\n"
            ]
        },
        {
            "cell_type": "code",
            "execution_count": null,
            "metadata": {},
            "outputs": [],
            "source": [
                "searchpatterns <- c(\"\\\\bass[ingedholes]{0,6}\\\\b|\\\\bbitch[a-z]{0,3}\\\\b|\\\\b[a-z]{0,}fuck[a-z]{0,3}\\\\b|\\\\bshit[a-z]{0,3}\\\\b|\\\\bcock[a-z]{0,3}\\\\b|\\\\bwanker[a-z]{0,3}\\\\b|\\\\bboll[io]{1,1}[a-z]{0,3}\\\\b|\\\\bcrap[a-z]{0,3}\\\\b|\\\\bbugger[a-z]{0,3}\\\\b|\\\\bcunt[a-z]{0,3}\\\\b\")\n",
                "\n"
            ]
        },
        {
            "cell_type": "markdown",
            "metadata": {},
            "source": [
                "After defining the search pattern(s), we extract the kwics (keyword(s) in context) of the swear words. \n",
                "\n"
            ]
        },
        {
            "cell_type": "code",
            "execution_count": null,
            "metadata": {},
            "outputs": [],
            "source": [
                "# extract kwic\n",
                "kwicswears <- quanteda::kwic(corpus, searchpatterns,window = 10, valuetype = \"regex\")\n",
                "# inspect data\n",
                "head(kwicswears)\n"
            ]
        },
        {
            "cell_type": "markdown",
            "metadata": {},
            "source": [
                "We now clean the kwic so that it is easier to see the relevant information.\n",
                "\n"
            ]
        },
        {
            "cell_type": "code",
            "execution_count": null,
            "metadata": {},
            "outputs": [],
            "source": [
                "kwicswearsclean <- kwicswears %>%\n",
                "  as.data.frame() %>%\n",
                "  dplyr::rename(\"File\" = colnames(.)[1], \n",
                "                \"StartPosition\" = colnames(.)[2], \n",
                "                \"EndPosition\" = colnames(.)[3], \n",
                "                \"PreviousContext\" = colnames(.)[4], \n",
                "                \"Token\" = colnames(.)[5], \n",
                "                \"FollowingContext\" = colnames(.)[6], \n",
                "                \"SearchPattern\" = colnames(.)[7]) %>%\n",
                "  dplyr::select(-StartPosition, -EndPosition, -SearchPattern) %>%\n",
                "  dplyr::mutate(File = str_remove_all(File, \".*/\"),\n",
                "                File = stringr::str_remove_all(File, \".txt\"))\n",
                "# inspect data\n",
                "head(kwicswearsclean)\n"
            ]
        },
        {
            "cell_type": "markdown",
            "metadata": {},
            "source": [
                "We now create another kwic but with much more context because we want to extract the speaker that has uttered the swear word. To this end, we remove everything that proceeds the `$` symbol as the speakers are identified by characters that follow the `$` symbol, remove everything that follows the `>` symbol which end the speaker identification sequence, remove remaining white spaces, and convert the remaining character to upper case. \n",
                "\n"
            ]
        },
        {
            "cell_type": "code",
            "execution_count": null,
            "metadata": {},
            "outputs": [],
            "source": [
                "# extract kwic\n",
                "kwiclong <- kwic(corpus, searchpatterns,window = 1000, valuetype = \"regex\")\n",
                "kwiclong <- as.data.frame(kwiclong)\n",
                "colnames(kwiclong) <- c(\"File\", \"StartPosition\", \"EndPosition\", \"PreviousContext\", \"Token\", \"FollowingContext\", \"SearchPattern\")\n",
                "kwiclong <- kwiclong %>%\n",
                "  dplyr::select(-StartPosition, -EndPosition, -SearchPattern) %>%\n",
                "  dplyr::mutate(File = str_remove_all(File, \".*/\"),\n",
                "         File = str_remove_all(File, \".txt\"),\n",
                "         Speaker = str_remove_all(PreviousContext, \".*\\\\$\"),\n",
                "         Speaker = str_remove_all(Speaker, \">.*\"),\n",
                "         Speaker = str_squish(Speaker),\n",
                "         Speaker = toupper(Speaker)) %>%\n",
                "  dplyr::select(Speaker)\n",
                "# inspect results\n",
                "head(kwiclong)\n"
            ]
        },
        {
            "cell_type": "markdown",
            "metadata": {},
            "source": [
                "We now add the Speaker to our initial kwic. This way, we combine the swear word kwic with the speaker and as we already have the file, we can use the file plus speaker identification to check if the speaker was a man or a woman.\n",
                "\n"
            ]
        },
        {
            "cell_type": "code",
            "execution_count": null,
            "metadata": {},
            "outputs": [],
            "source": [
                "swire <- cbind(kwicswearsclean, kwiclong)\n",
                "# inspect data\n",
                "head(swire)\n"
            ]
        },
        {
            "cell_type": "markdown",
            "metadata": {},
            "source": [
                "Now, we inspect the extracted swear word tokens to check if our search strings have indeed captured swear words. \n",
                "\n"
            ]
        },
        {
            "cell_type": "code",
            "execution_count": null,
            "metadata": {},
            "outputs": [],
            "source": [
                "# convert tokens to lower case\n",
                "swire$Token <- tolower(swire$Token)\n",
                "# inspect tokens\n",
                "table(swire$Token)\n"
            ]
        },
        {
            "cell_type": "markdown",
            "metadata": {},
            "source": [
                "FUCK and its variants is by far the most common swear word in our corpus. However, we do not need the type of swear word to answer our research question and we thus summarize the table to show which speaker in which files has used how many swear words.\n",
                "\n"
            ]
        },
        {
            "cell_type": "code",
            "execution_count": null,
            "metadata": {},
            "outputs": [],
            "source": [
                "swire <- swire %>%\n",
                "  dplyr::group_by(File, Speaker) %>%\n",
                "  dplyr::summarise(Swearwords = n())\n",
                "# inspect data\n",
                "head(swire)\n"
            ]
        },
        {
            "cell_type": "markdown",
            "metadata": {},
            "source": [
                "Now that we extract how many swear words the speakers in the corpus have used, we can load the biodata of the speakers.\n",
                "\n"
            ]
        },
        {
            "cell_type": "code",
            "execution_count": null,
            "metadata": {},
            "outputs": [],
            "source": [
                "# load bio data\n",
                "bio <- base::readRDS(url(\"https://slcladal.github.io/data/d01.rda\", \"rb\"))\n",
                "# inspect data\n",
                "head(bio)\n"
            ]
        },
        {
            "cell_type": "markdown",
            "metadata": {},
            "source": [
                "\n",
                "\n"
            ]
        },
        {
            "cell_type": "code",
            "execution_count": null,
            "metadata": {},
            "outputs": [],
            "source": [
                "bio <- bio %>%\n",
                "  dplyr::rename(File = text.id, \n",
                "         Speaker = spk.ref,\n",
                "         Gender = sex,\n",
                "         Age = age,\n",
                "         Words = word.count) %>%\n",
                "  dplyr::select(File, Speaker, Gender, Age, Words)\n",
                "# inspect data\n",
                "head(bio, 10)\n"
            ]
        },
        {
            "cell_type": "markdown",
            "metadata": {},
            "source": [
                "In a next step, we combine the table with the speaker information with the table showing the swear word use.\n",
                "\n"
            ]
        },
        {
            "cell_type": "code",
            "execution_count": null,
            "metadata": {},
            "outputs": [],
            "source": [
                "# combine frequencies and biodata\n",
                "swire <- dplyr::left_join(bio, swire, by = c(\"File\", \"Speaker\")) %>%\n",
                "  # replace NA with 0\n",
                "  dplyr::mutate(Swearwords = ifelse(is.na(Swearwords), 0, Swearwords),\n",
                "                File = factor(File),\n",
                "                Speaker = factor(Speaker),\n",
                "                Gender = factor(Gender),\n",
                "                Age = factor(Age))\n",
                "# inspect data\n",
                "head(swire, 10)\n"
            ]
        },
        {
            "cell_type": "markdown",
            "metadata": {},
            "source": [
                "We now clean the table by removing speakers for which we do not have any information on their age and gender. Also, we summarize the table to extract the mean frequencies of swear words (per 1,000 words) by age and gender.\n",
                "\n"
            ]
        },
        {
            "cell_type": "code",
            "execution_count": null,
            "metadata": {},
            "outputs": [],
            "source": [
                "# clean data\n",
                "swire <- swire %>%\n",
                "  dplyr::filter(is.na(Gender) == F,\n",
                "         is.na(Age) == F) %>%\n",
                "  dplyr::group_by(Age, Gender) %>%\n",
                "  dplyr::mutate(SumWords = sum(Words),\n",
                "                SumSwearwords = sum(Swearwords),\n",
                "                FrequencySwearwords = round(SumSwearwords/SumWords*1000, 3)) \n",
                "# inspect data\n",
                "head(swire, 10)\n"
            ]
        },
        {
            "cell_type": "markdown",
            "metadata": {},
            "source": [
                "**Tabulating and visualizing the data**\n",
                "\n",
                "We now summarize and visualize the data and exclude speakers between the ages of 0 and 18 as there are too few speakers within that age range to be representative.\n"
            ]
        },
        {
            "cell_type": "code",
            "execution_count": null,
            "metadata": {},
            "outputs": [],
            "source": [
                "swire %>%\n",
                "  dplyr::filter(Age != \"0-18\") %>%\n",
                "  dplyr::group_by(Age, Gender) %>%\n",
                "  dplyr::summarise(Swears_ptw = SumSwearwords/SumWords*1000) %>%\n",
                "  unique() %>%\n",
                "  tidyr::spread(Gender, Swears_ptw)\n"
            ]
        },
        {
            "cell_type": "markdown",
            "metadata": {},
            "source": [
                "Now that we have prepared our data, we can plot swear word use by gender. \n",
                "\n"
            ]
        },
        {
            "cell_type": "code",
            "execution_count": null,
            "metadata": {},
            "outputs": [],
            "source": [
                "swire %>%\n",
                "  dplyr::filter(Age != \"0-18\") %>%\n",
                "  dplyr::group_by(Age, Gender) %>%\n",
                "  dplyr::summarise(Swears_ptw = SumSwearwords/SumWords*1000) %>%\n",
                "  unique() %>%\n",
                "ggplot(aes(x = Age, y = Swears_ptw, group = Gender, fill = Gender)) +\n",
                "  geom_bar(stat = \"identity\", position = position_dodge()) +\n",
                "  theme_bw() +\n",
                "  scale_fill_manual(values = c(\"orange\", \"darkgrey\")) +\n",
                "  labs(y = \"Relative frequency \\n swear words per 1,000 words\")\n"
            ]
        },
        {
            "cell_type": "markdown",
            "metadata": {},
            "source": [
                "The graph suggests that the genders do not differ in their use of swear words except for the age bracket from 26 to 41: men swear more among speakers aged between 26 and 33 while women swear more between 34 and 41 years of age. \n",
                "\n",
                "## Statistical analysis\n",
                "\n",
                "We  now perform a statistical test, e.g. a Configural Frequency Analysis (CFA)  to check if specifically which groups in the data significantly over and under-use swearwords.\n"
            ]
        },
        {
            "cell_type": "code",
            "execution_count": null,
            "metadata": {},
            "outputs": [],
            "source": [
                "cfa_swear <- swire %>%\n",
                "  dplyr::group_by(Gender, Age) %>%\n",
                "  dplyr::summarise(Words = sum(Words),\n",
                "                   Swearwords = sum(Swearwords)) %>%\n",
                "  dplyr::mutate(Words = Words - Swearwords) %>%\n",
                "  tidyr::gather(Type, Frequency,Words:Swearwords) %>%\n",
                "  dplyr::filter(Age != \"0-18\")\n"
            ]
        },
        {
            "cell_type": "markdown",
            "metadata": {},
            "source": [
                "After transforming the data, it has the following format.\n",
                "\n"
            ]
        },
        {
            "cell_type": "code",
            "execution_count": null,
            "metadata": {},
            "outputs": [],
            "source": [
                "# inspect data\n",
                "head(cfa_swear, 20) \n"
            ]
        },
        {
            "cell_type": "markdown",
            "metadata": {},
            "source": "\n"
        },
        {
            "cell_type": "code",
            "execution_count": null,
            "metadata": {},
            "outputs": [],
            "source": [
                "# define configurations\n",
                "configs <- cfa_swear %>%\n",
                "  dplyr::select(Age, Gender, Type)\n",
                "# define counts\n",
                "counts <- cfa_swear$Frequency\n"
            ]
        },
        {
            "cell_type": "markdown",
            "metadata": {},
            "source": [
                "Now that configurations and counts are separated, we can perform the configural frequency analysis.\n",
                "\n"
            ]
        },
        {
            "cell_type": "code",
            "execution_count": null,
            "metadata": {},
            "outputs": [],
            "source": [
                "# perform cfa\n",
                "cfa(configs,counts)$table %>%\n",
                "  as.data.frame() %>%\n",
                "  dplyr::filter(p.chisq < .1,\n",
                "                stringr::str_detect(label, \"Swear\")) %>%\n",
                "  dplyr::select(-z, -p.z, -sig.z, -sig.chisq, -Q)\n"
            ]
        },
        {
            "cell_type": "markdown",
            "metadata": {},
            "source": [
                "After filtering out significant over use of non-swear words from the results of the CFA, we find that men and women in the age bracket 26 to 33 use significantly more swear words and other groups in the data.\n",
                "\n",
                "It has to be borne in mind, though, that this is merely a case study and that a more fine-grained analysis on a substantially larger data set were necessary to get a more reliable impression.\n",
                "\n",
                "\n",
                "***\n",
                "\n",
                "[Back to LADAL](https://ladal.edu.au/corplingr.html)\n",
                "\n",
                "***\n"
            ]
        }
    ],
    "metadata": {
        "anaconda-cloud": "",
        "kernelspec": {
            "display_name": "R",
            "langauge": "R",
            "name": "ir"
        },
        "language_info": {
            "codemirror_mode": "r",
            "file_extension": ".r",
            "mimetype": "text/x-r-source",
            "name": "R",
            "pygments_lexer": "r",
            "version": "3.4.1"
        }
    },
    "nbformat": 4,
    "nbformat_minor": 1
}
