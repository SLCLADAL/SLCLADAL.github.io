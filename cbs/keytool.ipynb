{
    "cells": [
        {
            "cell_type": "markdown",
            "metadata": {},
            "source": [
                "![An interactive LADAL notebook](https://slcladal.github.io/images/uq1.jpg)\n",
                "\n",
                "\n",
                "This notebook-based tool accompanies the [Language Technology and Data Analysis Laboratory (LADAL) tutorial *Analyzing Collocations, N-grams, and Keywords in R*](https://ladal.edu.au/coll.html). \n",
                "\n",
                "<div class=\"warning\" style='padding:0.1em; background-color: rgba(215,209,204,.3); color:#51247a'>\n",
                "<span>\n",
                "<p style='margin-top:1em; text-align:center'>\n",
                "<b>The code chunks below calculate keyness statistics that represent how characteristic words are for a text or corpus. <\/b>! \n",
                "<br>\n",
                "<\/p>\n",
                "<p style='margin-left:1em;'>\n",
                "<\/p><\/span>\n",
                "<\/div>\n",
                "\n",
                "<br>\n",
                "\n",
                "We set up our session by activating necessary packages. \n"
            ]
        },
        {
            "cell_type": "code",
            "execution_count": null,
            "metadata": {},
            "outputs": [],
            "source": [
                "# set options\n",
                "options(warn=-1)  # do not show warnings or messages\n",
                "# activate packages\n",
                "library(dplyr)    # for table processing\n",
                "library(writexl)  # for saving xlsx files\n"
            ]
        },
        {
            "cell_type": "markdown",
            "metadata": {},
            "source": [
                "## Using your own data\n",
                "\n",
                "The table you upload should be a spreadsheet  with\n",
                "\n",
                "+ a column called `token` containing the word type\n",
                "\n",
                "+ a column called `text1` with the frequency of the word type in the target text/corpus\n",
                "\n",
                "+ a column called `text2` with the frequency of the word type in the reference text/corpus (together, these frequencies should represent the total corpus size).\n",
                "\n",
                "The sums of `text1` and `text2` should represent the size of the texts/corpora. \n",
                "\n",
                "The data should have the same structure as the example below:\n",
                "\n",
                "![Data format required for this notebook](https://slcladal.github.io/images/keytb.png)\n",
                "\n",
                "\n",
                "\n",
                "## Using your own data\n",
                "\n",
                "<div class=\"warning\" style='padding:0.1em; background-color: rgba(215,209,204,.3); color:#51247a'>\n",
                "<span>\n",
                "<p style='margin-top:1em; text-align:center'>\n",
                "To <b>use your own data<\/b>, click on the folder called <b>`MyTables`<\/b> (it is in the menu to the left of the screen) and then simply drag and drop your xlsx-file into the folder. <br>When you then execute the code chunk below, you will upload your own data and you can then use it in this notebook.<br>You can upload <b>only xlsx-files<\/b>! ! \n",
                "<br>\n",
                "<\/p>\n",
                "<p style='margin-left:1em;'>\n",
                "<\/p><\/span>\n",
                "<\/div>\n",
                "\n",
                "<br>\n"
            ]
        },
        {
            "cell_type": "code",
            "execution_count": null,
            "metadata": {},
            "outputs": [],
            "source": [
                "# load function that helps loading the xlsx data\n",
                "source(\"https://slcladal.github.io/rscripts/loadtable.R\")\n",
                "# load texts\n",
                "mytable <- loadtable(\"notebooks/MyTables\")\n",
                "# inspect first 10 rows of the data\n",
                "head(mytable, 10)\n"
            ]
        },
        {
            "cell_type": "markdown",
            "metadata": {},
            "source": [
                "Now, we extract the association measures (if the table has many rows, this may take a few minutes).\n",
                "\n"
            ]
        },
        {
            "cell_type": "code",
            "execution_count": null,
            "metadata": {},
            "outputs": [],
            "source": [
                "# load function that extract association measures\n",
                "source(\"https://slcladal.github.io/rscripts/keystats.R\")\n",
                "# load texts\n",
                "keys <- keystats(mytable)\n",
                "# inspect first 10 rows of the data\n",
                "head(keys, 10)\n"
            ]
        },
        {
            "cell_type": "markdown",
            "metadata": {},
            "source": [
                "## Exporting the association table\n",
                "\n",
                "To export the table with the association measures as an MS Excel spreadsheet, we use `write_xlsx`. Be aware that we use the `here` function to  save the file in the current working directory.\n"
            ]
        },
        {
            "cell_type": "code",
            "execution_count": null,
            "metadata": {},
            "outputs": [],
            "source": [
                "# save data for MyOutput folder\n",
                "write_xlsx(keys, here::here(\"notebooks/MyOutput/keys.xlsx\"))\n"
            ]
        },
        {
            "cell_type": "markdown",
            "metadata": {},
            "source": [
                "<div class=\"warning\" style='padding:0.1em; background-color: rgba(215,209,204,.3); color:#51247a'>\n",
                "<span>\n",
                "<p style='margin-top:1em; text-align:center'>\n",
                "<b>You will find the generated MS Excel spreadsheet named *keys.xlsx* in the `MyOutput` folder (located on the left side of the screen).<\/b> <br><br>Simply double-click the `MyOutput` folder icon, then right-click on the *keys.xlsx* file, and choose Download from the dropdown menu to download the file. <br>\n",
                "<\/p>\n",
                "<p style='margin-left:1em;'>\n",
                "<\/p><\/span>\n",
                "<\/div>\n",
                "\n",
                "<br>\n",
                "\n",
                "\n",
                "\n",
                "***\n",
                "\n",
                "[Back to LADAL](https://ladal.edu.au/coll.html)\n",
                "\n",
                "***\n"
            ]
        }
    ],
    "metadata": {
        "anaconda-cloud": "",
        "kernelspec": {
            "display_name": "R",
            "langauge": "R",
            "name": "ir"
        },
        "language_info": {
            "codemirror_mode": "r",
            "file_extension": ".r",
            "mimetype": "text/x-r-source",
            "name": "R",
            "pygments_lexer": "r",
            "version": "3.4.1"
        }
    },
    "nbformat": 4,
    "nbformat_minor": 1
}
