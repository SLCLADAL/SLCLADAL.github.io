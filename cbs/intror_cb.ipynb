{
    "cells": [
        {
            "cell_type": "markdown",
            "metadata": {},
            "source": [
                "![This is an interactive notebook that introduces R produced by the AcqVA Aurora Centre.](https://slcladal.github.io/images/acqva.jpg)\n",
                "\n",
                "***\n",
                "\n",
                "Please copy this Jupyter notebook so that you are able to edit it.\n",
                "\n",
                "Simply go to: File > Save a copy in Drive.\n",
                "\n",
                "If you want to run this notebook on your own computer, you need to do 2 things:\n",
                "\n",
                "1. Make sure that you have R installed.\n",
                "\n",
                "2. You need to download the [bibliography file](https://slcladal.github.io/bibliography.bib) and store it in the same folder where you store the Rmd file.\n",
                "\n",
                "Once you have done that, you are good to go.\n",
                "\n",
                "***\n",
                "\n",
                "# A practical introduction to R\n",
                "\n",
                "This tutorial shows how to get started with R and it specifically focuses on R for analyzing language data. The R markdown document for this tutorial can be downloaded [here](https://slcladal.github.io/intror.Rmd). If you already have experience with R, both Wickham (2016) (see [here](https://r4ds.had.co.nz/)) and  Gillespie and Lovelace (2016) (see [here](https://bookdown.org/csgillespie/efficientR/)) are highly recommendable and excellent resources for improving your coding abilities and workflows in R.\n",
                "\n",
                "## Goals of this tutorial\n",
                "\n",
                "The goals of this tutorial are:\n",
                "\n",
                "- How to get started with R \n",
                "- How to orient yourself to R and RStudio\n",
                "- How to create and work in R projects\n",
                "- How to know where to look for help and to learn more about R\n",
                "- Understand the basics of working with data: load data, save data, working with tables, create a simple plot\n",
                "- Learn some best practices for using R scripts, using data, and projects \n",
                "- Understand the basics of objects, functions, and indexing\n",
                "\n",
                "## Audience\n",
                "\n",
                "The intended audience for this tutorial is beginner-level, with no previous experience using R. Thus, no prior knowledge of R is required.\n",
                "\n",
                "If you want to know more, would like to get some more practice, or would like to have another approach to R, please check out the various online resources available to learn R (you can check out a very recommendable introduction [here](https://uvastatlab.github.io/phdplus/intror.html)). \n",
                "\n",
                "## Installing R and RStudio\n",
                "\n",
                "* You have NOT yet installed **R** on your computer? \n",
                "\n",
                "  + You have a Windows computer? Then click [here](https://cran.r-project.org/bin/windows/base/R-4.0.2-win.exe) for downloading and installing R\n",
                "\n",
                "  + You have a Mac? Then click [here](https://cran.r-project.org/bin/macosx/R-4.0.2.pkg) for downloading and installing R\n",
                "\n",
                "* You have NOT yet installed **RStudio** on your computer?\n",
                "\n",
                "  + Click [here](https://rstudio.com/products/rstudio/download/#download) for downloading and installing RStudio.\n",
                "\n",
                "* You have NOT yet downloaded the **materials** for this workshop?\n",
                "\n",
                "  + Click [here](https://slcladal.github.io/data/data.zip) to download the data for this session\n",
                "\n",
                "  + Click [here](https://slcladal.github.io/cbs/intror_cb.Rmd) to download the Rmd-file of this workshop\n",
                "\n",
                "You can find a more elaborate explanation of how to download and install R and RStudio [here](https://gitlab.com/stragu/DSH/blob/master/R/Installation.md).\n",
                "\n",
                "### How to use the workshop materials\n",
                "\n",
                "You can follow this workshop in different ways based on your preferences as well as prior experience and knowledge of R (the suggestions listed below are ordered from less engaged/easy/no knowledge required to more engaged/more complex/more knowledge is required)\n",
                "\n",
                "* You can simply **sit back and follow** the workshop\n",
                "\n",
                "* You can load the Rmd-file in RStudio and **execute the code snippets** in this Rmd-file as we go (we will talk about what Rmd-file are, how they work, and how to work in RStudio below)\n",
                "  \n",
                "  + If you decide on doing this, then I suggest, that you use a section of your screen for Zoom (to see what I do) and another section of your screen to work within your own R project (we will see what an R project is below)\n",
                "\n",
                "* You can load the Rmd-file in RStudio, **create a new Rmd-file** (or RNotebook) and then copy and paste the code snippets in this new Rmd-file and execute them as we go.\n",
                "\n",
                "  + This option requires some knowledge of R and RStudio\n",
                "  \n",
                "  + If you decide on doing this, then I suggest, that you use a section of your screen for Zoom (to see what I do) and another section of your screen to work within your own R project (as with the previous option)\n",
                "\n",
                "Future workshops will be interactive and allow you to write your own code into code boxes on the website - unfortunately, I was not able to integrate that for this workshop.\n",
                "\n",
                "# Preparation\n",
                "\n",
                "Before you actually open R or RStudio, there things to consider that make working in R much easier and give your workflow a better structure. \n",
                "\n",
                "Imagine it like this: when you want to write a book, you could simply take pen and paper and start writing *or* you could think about what you want to write about, what different chapters your book would consist of, which chapters to write first, what these chapters will deal with, etc. The same is true for R: you could simply open R and start writing code *or* you can prepare you session and structure what you will be doing.\n",
                "\n",
                "## Folder Structure and R projects\n",
                "\n",
                "Before actually starting with writing code, you should prepare the session by going through the following steps:\n",
                "\n",
                "### 1. Create a folder for your project\n",
                "\n",
                "In that folder, create the following sub-folders (you can, of course, adapt this folder template to match your needs)\n",
                "\n",
                "  - data (you do not create this folder for the present workshop as you can simply use the data folder that you downloaded for this workshop instead)\n",
                "  - images\n",
                "  - tables\n",
                "  - docs\n",
                "\n",
                "The folder for your project could look like the the one shown below.\n",
                "\n",
                "![New folder](https://slcladal.github.io/images/RStudio_newfolder.png)\n",
                "\n",
                "Once you have created your project folder, you can go ahead with RStudio.\n",
                "\n",
                "### 3. Open RStudio\n",
                "\n",
                "This is what RStudio looks like when you first open it: \n",
                "\n",
                "![RStudio: first time](https://slcladal.github.io/images/RStudio_empty.png)\n",
                "\n",
                "In RStudio, click on `File` \n",
                "  \n",
                "![RStudio: new file](https://slcladal.github.io/images/RStudio_file.png)\n",
                "\n",
                "You can use the drop-down menu to create a `R project`\n",
                "\n",
                "### 4. R Projects\n",
                "\n",
                "In RStudio, click on `New Project`\n",
                "  \n",
                "![RStudio: new project](https://slcladal.github.io/images/RStudio_newfile.png)\n",
                "\n",
                "  \n",
                "Next, confirm by clicking `OK` and select `Existing Directory`.\n",
                "\n",
                "Then, navigate to where you have just created the project folder for this workshop.\n",
                "  \n",
                "![RStudio: existing directory](https://slcladal.github.io/images/RStudio_existingdirectory.png)\n",
                "\n",
                "  \n",
                "Once you click on `Open`, you have created a new `R project` \n",
                "  \n",
                "### 5. RNotebooks\n",
                "  \n",
                "In this project, click on `File`\n",
                "  \n",
                "![RStudio: new file](https://slcladal.github.io/images/RStudio_file.png)\n",
                "  \n",
                "Click on `New File` and then on `RNotebook` as shown below.\n",
                "\n",
                "![RStudio: R Notebook](https://slcladal.github.io/images/RStudio_newnotebook.png)\n",
                "\n",
                "This `RNotebook` will be the file in which you do all your work.\n",
                "\n",
                "### 6. Getting started with RNotebooks\n",
                "\n",
                "You can now start writing in this RNotebook. For instance, you could start by changing the title of the RNotebook and describe what you are doing (what this Notebook contains).\n",
                "\n",
                "Below is a picture of what this document looked like when I started writing it.\n",
                "\n",
                "![RStudio: first R Notebook](https://slcladal.github.io/images/RStudio_editMD.png)\n",
                " \n",
                "\n",
                "When you write in the RNotebook, you use what is called `R Markdown` which is explained below.\n",
                "\n",
                "## R Markdown\n",
                "\n",
                "The Notebook is an [R Markdown document](http://rmarkdown.rstudio.com/): a Rmd (R Markdown) file is more than a flat text document: it's a program that you can run in R and which allows you to combine prose and code, so readers can see the technical aspects of your work while reading about their interpretive significance. \n",
                "\n",
                "You can get a nice and short overview of the formatting options in R Markdown (Rmd) files [here](https://rstudio.com/wp-content/uploads/2015/02/rmarkdown-cheatsheet.pdf).\n",
                "\n",
                "R Markdown allows you to make your research fully transparent and reproducible! If a couple of years down the line another researcher or a journal editor asked you how you have done your analysis, you can simply send them the Notebook or even the entire R-project folder. \n",
                "\n",
                "As such, Rmd files are a type of document that allows to \n",
                "\n",
                "+ include snippets of code (and any outputs such as tables or graphs) in plain text while \n",
                "\n",
                "+ encoding the *structure* of your document by using simple typographical symbols to encode formatting (rather than HTML tags or format types such as *Main header* or *Header level 1* in Word).  \n",
                "\n",
                "Markdown is really quite simple to learn and these resources may help:\n",
                "\n",
                "+ The [Markdown Wikipedia page](https://en.wikipedia.org/wiki/Markdown) includes a very handy chart of the syntax.\n",
                "\n",
                "+ John Gruber developed Markdown and his [introduction to the syntax](https://daringfireball.net/projects/markdown/syntax) is worth browsing.\n",
                "\n",
                "+ This [interactive Markdown tutorial](http://www.markdowntutorial.com/) will teach you the syntax in a few minutes.\n",
                "\n",
                "# R and RStudio Basics\n",
                "\n",
                "RStudio is a so-called IDE - Integrated Development Environment. The interface provides easy access to R. The advantage of this application is that R programs and files as well as a project directory can be managed easily. The environment is capable of editing and running program code, viewing outputs and rendering graphics. Furthermore, it is possible to view variables and data objects of an R-script directly in the interface. \n",
                "\n",
                "## RStudio: Panes\n",
                "\n",
                "The GUI - Graphical User Interface - that RStudio provides divides the screen into four areas that are called **panes**:\n",
                "\n",
                "1. File editor\n",
                "2. Environment variables\n",
                "3. R console\n",
                "4. Management panes (File browser, plots, help display and R packages).\n",
                "\n",
                "The two most important are the R console (bottom left) and the File editor (or Script in the top left).\n",
                "The Environment variables and Management panes are on the right of the screen and they contain: \n",
                "\n",
                "* **Environment** (top): Lists all currently defined objects and data sets\n",
                "* **History** (top): Lists all commands recently used or associated with a project\n",
                "* **Plots** (bottom): Graphical output goes here\n",
                "* **Help** (bottom): Find help for R packages and functions.  Don't forget you can type `?` before a function name in the console to get info in the Help section. \n",
                "* **Files** (bottom): Shows the files available to you in your working directory\n",
                "\n",
                "These RStudio panes are shown below.\n",
                "\n",
                "![RStudio: panes](https://slcladal.github.io/images/RStudioscreenshot.png)\n",
                "\n",
                "\n",
                "### R Console (bottom left pane)\n",
                "\n",
                "The console pane allows you to quickly and immediately execute R code. You can experiment with functions here, or quickly print data for viewing. \n",
                "\n",
                "Type next to the `>` and press `Enter` to execute. \n",
                "\n",
                "Here, the plus sign is the **operator**.  Operators are symbols that represent some sort of action.  However, R is, of course, much more than a simple calculator.  To use R more fully, we need to understand **objects**, **functions**, and **indexing** - which we will learn about as we go.\n",
                "\n",
                "For now, think of *objects as nouns* and *functions as verbs*. \n",
                "\n",
                "## Running commands from a script\n",
                "\n",
                "To run code from a script, insert your cursor on a line with a command, and press `CTRL/CMD+Enter`.\n",
                "\n",
                "Or highlight some code to only run certain sections of the command, then press `CTRL/CMD+Enter` to run.\n",
                "\n",
                "Alternatively, use the `Run` button at the top of the pane to execute the current line or selection (see below).\n",
                "\n",
                "![RStudio: run code](https://slcladal.github.io/images/RStudio_run.png)\n",
                "  \n",
                "\n",
                "### Script Editor (top left pane)\n",
                "\n",
                "In contrast to the R console, which quickly runs code, the Script Editor (in the top left) does not automatically execute code. The Script Editor allows you to save the code essential to your analysis.  You can re-use that code in the moment, refer back to it later, or publish it for replication.  \n",
                "\n",
                "Now, that we have explored RStudio, we are ready to get started with R!\n",
                "\n",
                "# Getting started with R\n",
                "\n",
                "This section introduces some basic concepts and procedures that help optimize your workflow in R. \n",
                "\n",
                "## Setting up an R session\n",
                "\n",
                "At the beginning of a session, it is common practice to define some basic parameters. This is not required or even necessary, but it may just help further down the line. This session preparation may include specifying options. In the present case, we \n",
                "\n",
                "+ want R to show numbers as numbers up to 100 decimal points (and not show them in mathematical notation (in mathematical notation, 0.007 would be represented as 0.7e^-3^))\n",
                "\n",
                "+ want R to show maximally 100 results (otherwise, it can happen that R prints out pages-after-pages of some numbers).\n",
                "\n",
                "Again, the session preparation is not required or necessary but it can help avoid errors. \n"
            ]
        },
        {
            "cell_type": "code",
            "execution_count": null,
            "metadata": {},
            "outputs": [],
            "source": [
                "# set options\n",
                "options(stringsAsFactors = F)                           \n",
                "options(scipen = 100) \n",
                "options(max.print=100) \n"
            ]
        },
        {
            "cell_type": "markdown",
            "metadata": {},
            "source": [
                "In script editor pane of RStudio, this would look like this:\n",
                "\n",
                "![RStudio: scrit editor](https://slcladal.github.io/images/RStudio_preparation.png)\n",
                "\n",
                "## Packages\n",
                "\n",
                "When using R, most of the functions are not loaded or even installing automatically. Instead, most functions are in contained in what are called **packages**. \n",
                "\n",
                "R comes with about 30 packages (\"base R\").  There are over 10,000 user-contributed packages; you can discover these packages online.  A prevalent collection of packages is the Tidyverse, which includes ggplot2, a package for making graphics. \n",
                "\n",
                "Before being able to use a package, we need to install the package (using the `install.packages` function) and load the package (using the `library` function). However, a package only needs to be installed once(!) and can then simply be loaded. When you install a package, this will likely install several other packages it depends on.  You should have already installed tidyverse before the workshop. \n",
                "\n",
                "You must load the package in any new R session where you want to use that package.    Below I show what you need to type when you want to install the `tidyverse`, the `tidytext`,  the `quanteda`, the `readxl`, and the `tm` packages (which are the packages that we will need in this workshop).\n"
            ]
        },
        {
            "cell_type": "code",
            "execution_count": null,
            "metadata": {},
            "outputs": [],
            "source": [
                "# install packages\n",
                "install.packages(\"tidyverse\")\n",
                "install.packages(\"tidytext\")\n",
                "install.packages(\"quanteda\")\n",
                "install.packages(\"readxl\")\n",
                "install.packages(\"tm\")\n",
                "install.packages(\"here\")\n"
            ]
        },
        {
            "cell_type": "markdown",
            "metadata": {},
            "source": [
                "To load these packages, use the `library` function which takes the package name as its main argument.\n",
                "\n"
            ]
        },
        {
            "cell_type": "code",
            "execution_count": null,
            "metadata": {},
            "outputs": [],
            "source": [
                "# load packages from library\n",
                "library(tidyverse)\n",
                "library(tidytext)\n",
                "library(quanteda)\n",
                "library(readxl)\n",
                "library(tm)\n",
                "library(tokenizers)\n",
                "library(here)\n"
            ]
        },
        {
            "cell_type": "markdown",
            "metadata": {},
            "source": [
                "The session preparation section of your Rmd file will thus also state which packages a script relies on.\n",
                "\n",
                "In script editor pane of RStudio, the code blocks that install and activate packages would look like this:\n",
                "\n",
                "![RStudio: install packages](https://slcladal.github.io/images/RStudio_packages.png)\n",
                " \n",
                "\n",
                "## Getting help\n",
                "\n",
                "When working with R, you will encounter issues and face challenges. A very good thing about R is that it provides various ways to get help or find information about the issues you face.\n",
                "\n",
                "### Finding help within R\n",
                "\n",
                "To get help regrading what functions a package contains, which arguments a function takes or to get information about how to use a function, you can use the `help` function or the `apropos`. function or you can simply type a `?` before the package or two `??` if this does not give you any answers. \n"
            ]
        },
        {
            "cell_type": "code",
            "execution_count": null,
            "metadata": {},
            "outputs": [],
            "source": [
                "help(tidyverse) \n",
                "apropos(\"tidyverse\")\n",
                "?require\n"
            ]
        },
        {
            "cell_type": "markdown",
            "metadata": {},
            "source": [
                "There are also other \"official\" help resources from R/RStudio. \n",
                "\n",
                "* Read official package documentation, see vignettes, e.g., Tidyverse <https://cran.r-project.org/package=tidyverse>\n",
                "\n",
                "* Use the RStudio Cheat Sheets at <https://www.rstudio.com/resources/cheatsheets/>\n",
                "\n",
                "* Use the RStudio Help viewer by typing `?` before a function or package\n",
                "\n",
                "* Check out the keyboard shortcuts `Help` under `Tools` in RStudio for some good tips \n",
                "\n",
                "### Finding help online\n",
                "\n",
                "One great thing about R is that you can very often find an answer to your question online.\n",
                "\n",
                "* Google your error! See <http://r4ds.had.co.nz/introduction.html#getting-help-and-learning-more> for excellent suggestions on how to find help for a specific question online.\n",
                "\n",
                "# Working with tables\n",
                "\n",
                "We will now start working with data in R. As most of the data that we work with comes in tables, we will focus on this first before moving on to working with text data.\n",
                "\n",
                "## Loading data from the web\n",
                "\n",
                "To show, how data can be downloaded from the web, we will download a tab-separated txt-file. Translated to prose, the code below means *Create an object called *icebio *and in that object, store the result of the `read.delim` function*. \n",
                "\n",
                "`read.delim` stands for *read delimited file* and it takes the URL from which to load the data (or the path to the data on your computer) as its first argument. The `sep` stand for separator and the `\\t` stands for tab-separated and represents the second argument that the `read.delim` function takes. The third argument, `header`, can take either T(RUE) or F(ALSE) and it tells R if the data has column names (headers) or not. \n",
                "\n",
                "## Functions and Objects\n",
                "\n",
                "In R, functions always have the following form: `function(argument1, argument2, ..., argumentN)`. Typically a function does something to an object (e.g. a table), so that the first argument typically specifies the data to which the function is applied. Other arguments then allow to add some information. Just as a side note, functions are also objects that do not contain data but instructions.\n",
                "\n",
                "To assign content to an object, we use `<-` or `=` so that the we provide a name for an object, and then assign some content to it. For example, `MyObject <- 1:3` means *Create an object called `MyObject`. this object should contain the numbers 1 to 3*.\n"
            ]
        },
        {
            "cell_type": "code",
            "execution_count": null,
            "metadata": {},
            "outputs": [],
            "source": [
                "# load data\n",
                "icebio <- read.delim(\"https://slcladal.github.io/data/BiodataIceIreland.txt\", \n",
                "                      sep = \"\\t\", header = T)\n"
            ]
        },
        {
            "cell_type": "markdown",
            "metadata": {},
            "source": [
                "## Inspecting data\n",
                "\n",
                "There are many ways to inspect data. We will briefly go over the most common ways to inspect data.\n",
                "\n",
                "The `head` function takes the data-object as its first argument and automatically shows the first 6 elements of an object (or rows if the data-object has a table format).\n"
            ]
        },
        {
            "cell_type": "code",
            "execution_count": null,
            "metadata": {},
            "outputs": [],
            "source": [
                "head(icebio)\n",
                "\n"
            ]
        },
        {
            "cell_type": "markdown",
            "metadata": {},
            "source": [
                "We can also use the `head` function to inspect more or less elements and we can specify the number of elements (or rows) that we want to inspect as a second argument. In the example below, the `4` tells R that we only want to see the first 4 rows of the data.\n",
                "\n"
            ]
        },
        {
            "cell_type": "code",
            "execution_count": null,
            "metadata": {},
            "outputs": [],
            "source": [
                "head(icebio, 4)\n",
                "\n"
            ]
        },
        {
            "cell_type": "markdown",
            "metadata": {},
            "source": [
                "## Accessing individual cells in a table\n",
                "\n",
                "If you want to access specific cells in a table, you can do so by typing the name of the object and then specify the rows and columns in square brackets (i.e. **data[row, column]**). For example, `icebio[2, 4]` would show the value of the cell in the second row and fourth column of the object `icebio`. We can also use the colon to define a range (as shown below, where 1:5 means from 1 to 5 and 1:3 means from 1 to 3) The command `icebio[1:5, 1:3]` thus means:\n",
                "\n",
                "*Show me the first 5 rows and the first 3 columns of the data-object that is called icebio*. \n",
                " \n"
            ]
        },
        {
            "cell_type": "code",
            "execution_count": null,
            "metadata": {},
            "outputs": [],
            "source": [
                "icebio[1:5, 1:3]\n",
                "\n"
            ]
        },
        {
            "cell_type": "markdown",
            "metadata": {},
            "source": [
                "**Inspecting the structure of data**\n",
                "\n",
                "You can use the `str` function to inspect the structure of a data set. This means that this function will show the number of observations (rows) and variables (columns) and tell you what type of variables the data consists of \n",
                "\n",
                "- **int** = integer\n",
                "- **chr** = character string\n",
                "- **num** = numeric\n",
                "- **fct** = factor\n"
            ]
        },
        {
            "cell_type": "code",
            "execution_count": null,
            "metadata": {},
            "outputs": [],
            "source": [
                "str(icebio)\n",
                "\n"
            ]
        },
        {
            "cell_type": "markdown",
            "metadata": {},
            "source": [
                "The `summary` function summarizes the data.\n",
                "\n"
            ]
        },
        {
            "cell_type": "code",
            "execution_count": null,
            "metadata": {},
            "outputs": [],
            "source": [
                "summary(icebio)\n",
                "\n"
            ]
        },
        {
            "cell_type": "markdown",
            "metadata": {},
            "source": [
                "## Tabulating data\n",
                "\n",
                "We can use the `table` function to create basic tables that extract raw frequency information. The following command tells us how many instances there are of each level of the variable `date` in the `icebio`. \n"
            ]
        },
        {
            "cell_type": "code",
            "execution_count": null,
            "metadata": {},
            "outputs": [],
            "source": [
                "table(icebio$date) \n",
                "\n"
            ]
        },
        {
            "cell_type": "markdown",
            "metadata": {},
            "source": [
                "Alternatively, you could, of course, index the column by using its position in the data set like this: `icebio[, 6]` - the result of `table(icebio[, 6])` and `table(icebio$date)` are the same! Also note that here we leave out indexes for rows to tell R that we want all rows.\n",
                "\n",
                "When you want to cross-tabulate columns, it is often better to use the `ftable` function (`ftable` stands for *frequency table*). \n"
            ]
        },
        {
            "cell_type": "code",
            "execution_count": null,
            "metadata": {},
            "outputs": [],
            "source": [
                "ftable(icebio$age, icebio$sex)\n",
                "\n"
            ]
        },
        {
            "cell_type": "markdown",
            "metadata": {},
            "source": [
                "## Saving data to your computer\n",
                "\n",
                "To save tabular data on your computer, you can use the `write.table`  function. \n",
                "\n",
                "**WARNING**: This only works on your own computer and if you have a data-folder in the project folder.\n",
                "\n",
                "This function requires the data that you want to save as its first argument, the location where you want to save the data as the second argument and the type of delimiter as the third argument. \n",
                "\n",
                "The command to save the data on your disc would be `write.table(icebio, here::here(\"data\", \"icebio.txt\"), sep = \"\\t\")`. However, in Google Colab, we need to use a slightly different command (shown below).\n"
            ]
        },
        {
            "cell_type": "code",
            "execution_count": null,
            "metadata": {},
            "outputs": [],
            "source": [
                "write.table(icebio, file = \"icebio.txt\", sep = \"\\t\")\n",
                "\n"
            ]
        },
        {
            "cell_type": "markdown",
            "metadata": {},
            "source": [
                "**A word about paths**\n",
                "\n",
                "In the code chunk above, the sequence `here::here(\"data\", \"icebio.txt\")` is a handy way to define a path. A path is simply the location where a file is stored on your computer or on the internet (which typically is a server - which is just a fancy term for a computer - somewhere on the globe). The `here` function from the`here` package allows to simply state in which folder a certain file is and what file you are talking about. \n",
                "\n",
                "In this case, we want to access the file `icebio` (which is a `txt` file and thus has the appendix `.txt`) in the `data` folder. R will always start looking in the folder in which your project is stored. If you want to access a file that is stored somewhere else on your computer, you can also define the full path to the folder in which the file is. In my case, this would be `D:/UiT/Workshop/IntroR/data`. However, as the `data` folder in in the folder where my Rproj file is, I only need to specify that the file is in the `data` folder within the folder in which my Rproj file is located.\n",
                "\n",
                "**A word about package naming**\n",
                "\n",
                "Another thing that is notable in the sequence `here::here(\"data\", \"icebio.txt\")` is that I specified that the `here` function is part of the `here` package. This is what I meant by writing `here::here` which simply means use the `here` function from `here` package (`package::function`). This may appear to be somewhat redundant but it happens quite frequently, that different packages have functions that have the same names. In such cases, R will simply choose the function from the package that was loaded last. To prevent R from using the wrong function, it makes sense to specify the package AND the function (as I did in the sequence `here::here`). I only use functions without specify the package if the function is part of base R.\n",
                "\n",
                "## Loading data from your computer\n",
                "\n",
                " To load tabular data from within your project folder (if it is in a tab-separated txt-file) you can also use the `read.delim` function. The only difference to loading from the web is that you use a path instead of a URL. If the txt-file is in the folder called *data* in your project folder, you would load the data as shown below. \n",
                " \n",
                "**WARNING**: This only works on your own computer and if you have a data-folder in the project folder.\n",
                "\n",
                "The command to read data from your disc would be `icebio <- read.delim(here::here(\"data\", \"icebio.txt\"), sep = \"\\t\", header = T)`. However, in Google Colab, we need to use a slightly different command (shown below).\n"
            ]
        },
        {
            "cell_type": "code",
            "execution_count": null,
            "metadata": {},
            "outputs": [],
            "source": [
                "icebio <- read.delim(\"icebio.txt\", sep = \"\\t\", header = T)\n",
                "\n"
            ]
        },
        {
            "cell_type": "markdown",
            "metadata": {},
            "source": [
                "To if this has worked, we will use the `head` function to see first 6 rows of the data\n",
                "\n"
            ]
        },
        {
            "cell_type": "code",
            "execution_count": null,
            "metadata": {},
            "outputs": [],
            "source": [
                "head(icebio)\n",
                "\n"
            ]
        },
        {
            "cell_type": "markdown",
            "metadata": {},
            "source": [
                "## Renaming, Piping, and Filtering \n",
                "\n",
                "To rename existing columns in a table, you can use the `rename` command which takes the table as the first argument, the new name as the second argument, the an equal sign (=), and finally, the old name es the third argument. For example, renaming a column *OldName* as *NewName* in a table called *MyTable* would look like this: `rename(MyTable, NewName = OldName)`.  \n",
                "\n",
                "Piping is done using the `%>%` sequence and it can be translated as **and then**. In the example below, we create a new object (icebio_edit) from the existing object (icebio) *and then* we rename the columns in the new object. When we use piping, we do not need to name the data we are using as this is provided by the previous step.\n"
            ]
        },
        {
            "cell_type": "code",
            "execution_count": null,
            "metadata": {},
            "outputs": [],
            "source": [
                "icebio_edit <- icebio %>%\n",
                "  dplyr::rename(Id = id,\n",
                "         FileSpeakerId = file.speaker.id,\n",
                "         File = colnames(icebio)[3],\n",
                "         Speaker = colnames(icebio)[4])\n",
                "# inspect data\n",
                "icebio_edit[1:5, 1:6]\n"
            ]
        },
        {
            "cell_type": "markdown",
            "metadata": {},
            "source": [
                "A very handy way to rename many columns simultaneously, you can use the `str_to_title` function which capitalizes first letter of a word. In the example below, we capitalize all first letters of the column names of our current data.\n",
                "\n"
            ]
        },
        {
            "cell_type": "code",
            "execution_count": null,
            "metadata": {},
            "outputs": [],
            "source": [
                "colnames(icebio_edit) <- stringr::str_to_title(colnames(icebio_edit))\n",
                "# inpsect data\n",
                "icebio_edit[1:5, 1:6]\n"
            ]
        },
        {
            "cell_type": "markdown",
            "metadata": {},
            "source": [
                "To remove rows based on values in columns you can use the `filter` function.\n",
                "\n"
            ]
        },
        {
            "cell_type": "code",
            "execution_count": null,
            "metadata": {},
            "outputs": [],
            "source": [
                "icebio_edit2 <- icebio_edit %>%\n",
                "  dplyr::filter(Speaker != \"?\",\n",
                "                Zone != is.na(Zone),\n",
                "                Date == \"2002-2005\",\n",
                "                Word.count > 5)\n",
                "# inspect data\n",
                "head(icebio_edit2)\n"
            ]
        },
        {
            "cell_type": "markdown",
            "metadata": {},
            "source": [
                "To select specific columns you can use the `select` function.\n",
                "\n"
            ]
        },
        {
            "cell_type": "code",
            "execution_count": null,
            "metadata": {},
            "outputs": [],
            "source": [
                "icebio_selection <- icebio_edit2 %>%\n",
                "  dplyr::select(File, Speaker, Word.count)\n",
                "# inspect data\n",
                "head(icebio_selection)\n"
            ]
        },
        {
            "cell_type": "markdown",
            "metadata": {},
            "source": [
                "You can also use the `select` function to remove specific columns.\n",
                "\n"
            ]
        },
        {
            "cell_type": "code",
            "execution_count": null,
            "metadata": {},
            "outputs": [],
            "source": [
                "icebio_selection2 <- icebio_edit2 %>%\n",
                "  dplyr::select(-Id, -File, -Speaker, -Date, -Zone, -Age)\n",
                "# inspect data\n",
                "head(icebio_selection2)\n"
            ]
        },
        {
            "cell_type": "markdown",
            "metadata": {},
            "source": [
                "## Ordering data\n",
                "\n",
                "To order data, for instance, in ascending order according to a specific column you can use the `arrange` function.\n"
            ]
        },
        {
            "cell_type": "code",
            "execution_count": null,
            "metadata": {},
            "outputs": [],
            "source": [
                "icebio_ordered_asc <- icebio_selection2 %>%\n",
                "  dplyr::arrange(Word.count)\n",
                "# inspect data\n",
                "head(icebio_ordered_asc)\n"
            ]
        },
        {
            "cell_type": "markdown",
            "metadata": {},
            "source": [
                "To order data in descending order you can also use the `arrange` function and simply add a - before the column according to which you want to order the data.\n",
                "\n"
            ]
        },
        {
            "cell_type": "code",
            "execution_count": null,
            "metadata": {},
            "outputs": [],
            "source": [
                "icebio_ordered_desc <- icebio_selection2 %>%\n",
                "  dplyr::arrange(-Word.count)\n",
                "# inspect data\n",
                "head(icebio_ordered_desc)\n"
            ]
        },
        {
            "cell_type": "markdown",
            "metadata": {},
            "source": [
                "The output shows that the female speaker in file S2A-005 with the speaker identity A has the highest word count with 2,355 words. \n",
                "\n",
                "\n",
                "## Creating and changing variables\n",
                "\n",
                "New columns are created, and existing columns can be changed, by using the `mutate` function. The `mutate` function takes two arguments (if the data does not have to be specified): the first argument is the (new) name of column that you want to create and the second is what you want to store in that column. The = tells R that the new column will contain the result of the second argument.\n",
                "\n",
                "In the example below, we create a new column called *Texttype*. \n",
                "\n",
                "This new column should contains \n",
                "\n",
                "  + the value *PrivateDialoge* if *Filespeakerid* contains the sequence *S1A*, \n",
                "  \n",
                "  + the value *PublicDialogue* if *Filespeakerid* contains the sequence *S1B*, \n",
                "  \n",
                "  + the value *UnscriptedMonologue* if *Filespeakerid* contains the sequence *S2A*, \n",
                "  \n",
                "  + the value *ScriptedMonologue* if *Filespeakerid* contains the sequence *S2B*, \n",
                "  \n",
                "  + the value of *Filespeakerid* if *Filespeakerid* neither contains *S1A*, *S1B*, *S2A*, nor *S2B*.\n"
            ]
        },
        {
            "cell_type": "code",
            "execution_count": null,
            "metadata": {},
            "outputs": [],
            "source": [
                "icebio_texttype <- icebio_selection2 %>%\n",
                "  dplyr::mutate(Texttype = \n",
                "                  dplyr::case_when(str_detect(Filespeakerid ,\"S1A\") ~ \"PrivateDialoge\",\n",
                "                                   str_detect(Filespeakerid ,\"S1B\") ~ \"PublicDialogue\",\n",
                "                                   str_detect(Filespeakerid ,\"S2A\") ~ \"UnscriptedMonologue\",\n",
                "                                   str_detect(Filespeakerid ,\"S2B\") ~ \"ScriptedMonologue\",\n",
                "                                   TRUE ~ Filespeakerid))\n",
                "# inspect data\n",
                "head(icebio_texttype)\n"
            ]
        },
        {
            "cell_type": "markdown",
            "metadata": {},
            "source": [
                "## If-statements\n",
                "\n",
                "We should briefly talk about if-statements (or `case_when` in the present case). The `case_when` function is both very powerful and extremely helpful as it allows you to assign values based on a test. As such, `case_when`-statements can be read as:\n",
                "\n",
                "*When/If X is the case, then do A and if X is not the case do B!* (When/If -> Then -> Else)\n",
                "\n",
                "The nice thing about `ifelse` or `case_when`-statements is that they can be used in succession as we have done above. This can then be read as:\n",
                "\n",
                "*If X is the case, then do A, if Y is the case, then do B, else do Z* \n",
                "\n",
                "\n",
                "\n",
                "## Summarizing data\n",
                "\n",
                "Summarizing is really helpful and can be done using the `summarise` function.\n"
            ]
        },
        {
            "cell_type": "code",
            "execution_count": null,
            "metadata": {},
            "outputs": [],
            "source": [
                "icebio_summary1 <- icebio_texttype %>%\n",
                "  dplyr::summarise(Words = sum(Word.count))\n",
                "# inspect data\n",
                "head(icebio_summary1)\n"
            ]
        },
        {
            "cell_type": "markdown",
            "metadata": {},
            "source": [
                "To get summaries of sub-groups or by variable level, we can use the `group_by` function and then use the `summarise` function.\n",
                "\n"
            ]
        },
        {
            "cell_type": "code",
            "execution_count": null,
            "metadata": {},
            "outputs": [],
            "source": [
                "icebio_summary2 <- icebio_texttype %>%\n",
                "  dplyr::group_by(Texttype, Sex) %>%\n",
                "  dplyr::summarise(Speakers = n(),\n",
                "            Words = sum(Word.count))\n",
                "# inspect data\n",
                "head(icebio_summary2)\n"
            ]
        },
        {
            "cell_type": "markdown",
            "metadata": {},
            "source": [
                "## Gathering and spreading data\n",
                "\n",
                "The `tidyr` package has two very useful functions for gathering and spreading data that can be sued to transform data to long and wide formats (you will see what this means below). The functions are called `gather` and `spread`.\n",
                "\n",
                "We will use the data set called `icebio_summary2`, which we created above, to demonstrate how this works.\n",
                "\n",
                "We will first check out the `spread`-function to create different columns for women and men that show how many of them are represented in the different text types. \n"
            ]
        },
        {
            "cell_type": "code",
            "execution_count": null,
            "metadata": {},
            "outputs": [],
            "source": [
                "icebio_summary_wide <- icebio_summary2 %>%\n",
                "  dplyr::select(-Words) %>%\n",
                "  tidyr::spread(Sex, Speakers)\n",
                "# inspect\n",
                "icebio_summary_wide\n"
            ]
        },
        {
            "cell_type": "markdown",
            "metadata": {},
            "source": [
                "The data is now in what is called a `wide`-format as values are distributed across columns.\n",
                "\n",
                "To reformat this back to a `long`-format where each column represents exactly one variable, we use the `gather`-function:\n"
            ]
        },
        {
            "cell_type": "code",
            "execution_count": null,
            "metadata": {},
            "outputs": [],
            "source": [
                "icebio_summary_long <- icebio_summary_wide %>%\n",
                "  tidyr::gather(Sex, Speakers, female:male)\n",
                "# inspect\n",
                "icebio_summary_long\n"
            ]
        },
        {
            "cell_type": "markdown",
            "metadata": {},
            "source": [
                "# More on working with text\n",
                "\n",
                "We have now worked though how to load, save, and edit tabulated data. However, R is also perfectly equipped for working with textual data which is what we going to concentrate on now. \n",
                "\n",
                "## Loading text data\n",
                "\n",
                "To load text data from the web, we can use the `read_file` function which takes the URL of the text as its first argument. In this case will will load the 2016 rally speeches Donald Trump.\n"
            ]
        },
        {
            "cell_type": "code",
            "execution_count": null,
            "metadata": {},
            "outputs": [],
            "source": [
                "Trump <-base::readRDS(url(\"https://slcladal.github.io/data/Trump.rda\", \"rb\"))\n",
                "# inspect data\n",
                "str(Trump)\n"
            ]
        },
        {
            "cell_type": "markdown",
            "metadata": {},
            "source": [
                "It is very easy to extract frequency information and to create frequency lists. We can do this by first using the `unnest_tokens`  function which splits texts into individual words, an then use the `count` function to get the raw frequencies of all word types in a text.\n",
                "\n"
            ]
        },
        {
            "cell_type": "code",
            "execution_count": null,
            "metadata": {},
            "outputs": [],
            "source": [
                "Trump %>%\n",
                "  tibble(text = SPEECH) %>%\n",
                "  unnest_tokens(word, text) %>%\n",
                "  dplyr::count(word, sort=T)\n"
            ]
        },
        {
            "cell_type": "markdown",
            "metadata": {},
            "source": [
                "Extracting N-grams is also very easy as the `unnest_tokens`  function can an argument called `token` in which we can specify that we want to extract n-grams, If we do this, then we need to specify the `n` as a separate argument. Below we specify that we want the frequencies of all 4-grams.\n",
                "\n"
            ]
        },
        {
            "cell_type": "code",
            "execution_count": null,
            "metadata": {},
            "outputs": [],
            "source": [
                "Trump %>%\n",
                "  tibble(text = SPEECH) %>%\n",
                "  unnest_tokens(word, text, token=\"ngrams\", n=4) %>%\n",
                "  dplyr::count(word, sort=T) %>%\n",
                "  head(10)\n"
            ]
        },
        {
            "cell_type": "markdown",
            "metadata": {},
            "source": [
                "## Splitting-up texts\n",
                "\n",
                "We can use the `str_split` function to split texts. However, there are two issues when using this (very useful) function:\n",
                "\n",
                "  + the pattern that we want to split on disappears \n",
                "\n",
                "  + the output is a list (a special type of data format)\n",
                "\n",
                "To remedy these issues, we \n",
                "\n",
                "  + combine the `str_split` function with the `unlist` function \n",
                "\n",
                "  + add something right at the beginning of the pattern that we use to split the text. \n",
                "To add something to the beginning of the pattern that we want to split the text by, we use the `str_replace_all` function. The `str_replace_all` function takes three arguments, 1. the **text**, 2. the **pattern** that should be replaced, 3. the **replacement**. In the example below, we add `~~~` to the sequence `SPEECH` and then split on the `~~~` rather than on the sequence \"SPEECH\" (in other words, we replace `SPEECH` with `~~~SPEECH` and then split on `~~~`).\n"
            ]
        },
        {
            "cell_type": "code",
            "execution_count": null,
            "metadata": {},
            "outputs": [],
            "source": [
                "Trump_split <- unlist(str_split(\n",
                "  stringr::str_replace_all(Trump, \"SPEECH\", \"~~~SPEECH\"),\n",
                "  pattern = \"~~~\"))\n",
                "# inspect data\n",
                "nchar(Trump_split) \n"
            ]
        },
        {
            "cell_type": "markdown",
            "metadata": {},
            "source": [
                "Let's alos have a look at the structure of the `Trump_split` object.\n",
                "\n"
            ]
        },
        {
            "cell_type": "code",
            "execution_count": null,
            "metadata": {},
            "outputs": [],
            "source": [
                "str(Trump_split)\n",
                "\n"
            ]
        },
        {
            "cell_type": "markdown",
            "metadata": {},
            "source": [
                "## Cleaning texts\n",
                "\n",
                "When working with texts, we usually need to clean the data. Below, we do some very basic cleaning using a pipeline.\n"
            ]
        },
        {
            "cell_type": "code",
            "execution_count": null,
            "metadata": {},
            "outputs": [],
            "source": [
                "Trump_split_clean <- Trump_split %>%\n",
                "  # replace elements\n",
                "  stringr::str_replace_all(fixed(\"\\n\"), \" \") %>%\n",
                "  # remove strange symbols\n",
                "  stringr::str_replace_all(\"[^[:alnum:][:punct:]]+\", \" \") %>%\n",
                "  # remove \\\"\n",
                "  stringr::str_remove_all(\"\\\"\") %>%\n",
                "  # remove superfluous white spaces\n",
                "  stringr::str_squish()\n",
                "# remove very short elements\n",
                "Trump_split_clean <- Trump_split_clean[nchar(Trump_split_clean) > 5]\n",
                "# inspect data\n",
                "nchar(Trump_split_clean)\n"
            ]
        },
        {
            "cell_type": "markdown",
            "metadata": {},
            "source": [
                "Inspect text\n",
                "\n"
            ]
        },
        {
            "cell_type": "code",
            "execution_count": null,
            "metadata": {},
            "outputs": [],
            "source": [
                "Trump_split_clean[5]\n",
                "\n"
            ]
        },
        {
            "cell_type": "markdown",
            "metadata": {},
            "source": [
                "## Concordancing and KWICs\n",
                "\n",
                "Creating concordances or key-word-in-context displays is one of the most common practices when dealing with text data. Fortunately, there exist ready-made functions that make this a very easy task in R. We will use the `kwic` function from the `quanteda` package to create kwics here. \n"
            ]
        },
        {
            "cell_type": "code",
            "execution_count": null,
            "metadata": {},
            "outputs": [],
            "source": [
                "kwic_multiple <- quanteda::kwic(Trump_split_clean, \n",
                "       pattern = phrase(\"great again\"),\n",
                "       window = 3, \n",
                "       valuetype = \"regex\") %>%\n",
                "  as.data.frame()\n",
                "# inspect data\n",
                "head(kwic_multiple)\n"
            ]
        },
        {
            "cell_type": "markdown",
            "metadata": {},
            "source": [
                "We can now also select concordances based on specific features. For example, we only want those instances of \"great again\" if the preceding word was \"America\". \n",
                "\n"
            ]
        },
        {
            "cell_type": "code",
            "execution_count": null,
            "metadata": {},
            "outputs": [],
            "source": [
                "kwic_multiple_select <- kwic_multiple %>%\n",
                "  # last element before search term is \"America\"\n",
                "  dplyr::filter(str_detect(pre, \"America$\"))\n",
                "# inspect data\n",
                "head(kwic_multiple_select)\n"
            ]
        },
        {
            "cell_type": "markdown",
            "metadata": {},
            "source": [
                "Again, we can use the `write.table` function to save our kwics to disc.\n",
                "\n",
                "**WARNING**: This only works on your own computer and if you have a data-folder in the project folder.\n",
                "\n",
                "The command to save the data on your disc would be `write.table(kwic_multiple_select, here::here(\"data\", \"kwic_multiple_select.txt\"), sep = \"\\t\")`. However, in Google Colab, we need to use a slightly different command (shown below).\n"
            ]
        },
        {
            "cell_type": "code",
            "execution_count": null,
            "metadata": {},
            "outputs": [],
            "source": [
                "write.table(kwic_multiple_select, file = \"kwic_multiple_select.txt\", sep = \"\\t\")\n",
                "\n"
            ]
        },
        {
            "cell_type": "markdown",
            "metadata": {},
            "source": [
                "## Tokenization and counting words\n",
                "\n",
                "We will now use the `tokenize_words` function from the tokenizer package to find out how many words are in each file. Before we count the words, however, we will clean the data by removing everything between pointy brackets (e.g. <#>) as well as all punctuation.\n",
                " \n"
            ]
        },
        {
            "cell_type": "code",
            "execution_count": null,
            "metadata": {},
            "outputs": [],
            "source": [
                "words <- as.vector(sapply(Trump_split_clean, function(x){\n",
                "  x <- tm::removeNumbers(x)\n",
                "  x <- tm::removePunctuation(x)\n",
                "  x <- unlist(tokenize_words(x))\n",
                "  x <- length(x)}))\n",
                "words\n"
            ]
        },
        {
            "cell_type": "markdown",
            "metadata": {},
            "source": [
                "The nice thing about the tokenizer package is that it also allows to split texts into sentences.\n",
                "To show this, we return to the rally speeches by Donald Trump and split the first of his rally speeches into sentences.\n"
            ]
        },
        {
            "cell_type": "code",
            "execution_count": null,
            "metadata": {},
            "outputs": [],
            "source": [
                "Sentences <- unlist(tokenize_sentences(Trump_split_clean[6]))\n",
                "# inspect\n",
                "head(Sentences)\n"
            ]
        },
        {
            "cell_type": "markdown",
            "metadata": {},
            "source": [
                "We now turn to data visualization basics.\n",
                "\n",
                "# Working with figures\n",
                "\n",
                "There are numerous function in R that we can use to visualize data. We will use the `ggplot` function from the `ggplot2` package here to visualize the data. \n",
                "\n",
                "The `ggplot2` package was developed by Hadley Wickham in 2005 and it implements the graphics scheme described in the book *The Grammar of Graphics* by Leland Wilkinson.\n",
                "\n",
                "The idea behind the  *Grammar of Graphics* can be boiled down to 5 bullet points (see Wickham 2016: 4):\n",
                "\n",
                "- a statistical graphic is a mapping from data to **aes**thetic attributes (location, color, shape, size) of **geom**etric objects (points, lines, bars). \n",
                "\n",
                "- the geometric objects are drawn in a specific **coord**inate system.\n",
                "\n",
                "- **scale**s control the mapping from data to aesthetics and provide tools to read the plot (ie, axes and legends).\n",
                "\n",
                "- the plot may also contain **stat**istical transformations of the data (means, medians, bins of data, trend lines).\n",
                "\n",
                "- **facet**ing can be used to generate the same plot for different subsets of the data.\n",
                "\n",
                "## Basics of ggplot2 syntax \n",
                "\n",
                "**Specify data, aesthetics and geometric shapes** \n",
                "\n",
                "`ggplot(data, aes(x=, y=, color=, shape=, size=)) +`   \n",
                "`geom_point()`, or `geom_histogram()`, or `geom_boxplot()`, etc.   \n",
                "\n",
                "- This combination is very effective for exploratory graphs. \n",
                "\n",
                "- The data must be a data frame.\n",
                "\n",
                "- The `aes()` function maps columns of the data frame to aesthetic properties of geometric shapes to be plotted.\n",
                "\n",
                "- `ggplot()` defines the plot; the `geoms` show the data; each component is added with `+` \n",
                "\n",
                "- Some examples should make this clear\n",
                "\n",
                "## Practical examples  \n",
                "\n",
                "We will now create some basic visualizations or plots.\n",
                "\n",
                "Before we start plotting, we will create data that we want to plot. In this case, we will extract the mean word counts by gender and age.\n"
            ]
        },
        {
            "cell_type": "code",
            "execution_count": null,
            "metadata": {},
            "outputs": [],
            "source": [
                "plotdata <- ICE_Ire %>%\n",
                "  # only private dialogue\n",
                "  dplyr::filter(stringr::str_detect(File, \"S1A\"),\n",
                "         # without speaker younger than 19\n",
                "         Age != \"0-18\",\n",
                "         Age != \"NA\") %>%\n",
                "  dplyr::group_by(Sex, Age) %>%\n",
                "  dplyr::summarise(Words = mean(Word.count))\n",
                "# inspect\n",
                "head(plotdata)\n"
            ]
        },
        {
            "cell_type": "markdown",
            "metadata": {},
            "source": [
                "In the example below, we specify that we want to visualize the `plotdata` and that the x-axis should represent `Age` and the y-axis `Words`(the mean frequency of words). We also tell R that we want to group the data by `Sex` (i.e. that we want to distinguish between men and women). Then, we add `geom_line` which tells R that we want a line graph. The result of this is shown below. \n",
                "\n"
            ]
        },
        {
            "cell_type": "code",
            "execution_count": null,
            "metadata": {},
            "outputs": [],
            "source": [
                "ggplot(plotdata, aes(x = Age, y = Words, color = Sex, group = Sex)) +\n",
                "  geom_line()\n"
            ]
        },
        {
            "cell_type": "markdown",
            "metadata": {},
            "source": [
                "Once you have a basic plot like the one above, you can prettify the plot. For example, you can \n",
                "\n",
                "+ change the width of the lines (`size = 1.25`)\n",
                "\n",
                "+ change the y-axis limits (`coord_cartesian(ylim = c(0, 1000)) `)\n",
                "\n",
                "+ use a different theme (`theme_bw()` means black and white theme)\n",
                "\n",
                "+ move the legend to the top\n",
                "\n",
                "+ change the default colors to colors you like (*scale_color_manual ...`)\n",
                "\n",
                "+ change the linetype (`scale_linetype_manual ...`)\n"
            ]
        },
        {
            "cell_type": "code",
            "execution_count": null,
            "metadata": {},
            "outputs": [],
            "source": [
                "ggplot(plotdata, aes(x = Age, y = Words,\n",
                "                     color = Sex, \n",
                "                     group = Sex, \n",
                "                     linetype = Sex)) +\n",
                "  geom_line(size = 1.25) +\n",
                "  coord_cartesian(ylim = c(0, 1500)) +\n",
                "  theme_bw() + \n",
                "  theme(legend.position = \"top\") + \n",
                "  scale_color_manual(breaks = c(\"female\", \"male\"),\n",
                "                     values = c(\"gray20\", \"gray50\")) +\n",
                "  scale_linetype_manual(breaks = c(\"female\", \"male\"),\n",
                "                        values = c(\"solid\", \"dotted\"))\n"
            ]
        },
        {
            "cell_type": "markdown",
            "metadata": {},
            "source": [
                "An additional and very handy feature of this way of producing graphs is that you \n",
                "\n",
                "+ can integrate them into pipes \n",
                "\n",
                "+ can easily combine plots.\n"
            ]
        },
        {
            "cell_type": "code",
            "execution_count": null,
            "metadata": {},
            "outputs": [],
            "source": [
                "ICE_Ire %>%\n",
                "  dplyr::filter(Sex != \"NA\",\n",
                "         Age != \"NA\",\n",
                "         is.na(Sex) == F,\n",
                "         is.na(Age) == F) %>%\n",
                "  dplyr::mutate(Age = factor(Age),\n",
                "         Sex = factor(Sex)) %>%\n",
                "  ggplot(aes(x = Age, \n",
                "             y = Word.count,\n",
                "             color = Sex,\n",
                "             linetype = Sex)) +\n",
                "  geom_point() +\n",
                "  stat_summary(fun=mean, geom=\"line\", aes(group=Sex)) +\n",
                "  coord_cartesian(ylim = c(0, 2000)) +\n",
                "  theme_bw() + \n",
                "  theme(legend.position = \"top\") + \n",
                "  scale_color_manual(breaks = c(\"female\", \"male\"),\n",
                "                     values = c(\"indianred\", \"darkblue\")) +\n",
                "  scale_linetype_manual(breaks = c(\"female\", \"male\"),\n",
                "                        values = c(\"solid\", \"dotted\"))\n"
            ]
        },
        {
            "cell_type": "markdown",
            "metadata": {},
            "source": [
                "You can also create different types of graphs very easily and split them into different facets.\n",
                "\n"
            ]
        },
        {
            "cell_type": "code",
            "execution_count": null,
            "metadata": {},
            "outputs": [],
            "source": [
                "ICE_Ire %>%\n",
                "  drop_na() %>%\n",
                "  dplyr::filter(Age != \"NA\") %>%\n",
                "  dplyr::mutate(Date = factor(Date)) %>%\n",
                "  ggplot(aes(x = Age, \n",
                "             y = Word.count, \n",
                "             fill = Sex)) +\n",
                "  facet_grid(vars(Date)) +\n",
                "  geom_boxplot() +\n",
                "  coord_cartesian(ylim = c(0, 2000)) +\n",
                "  theme_bw() + \n",
                "  theme(legend.position = \"top\") + \n",
                "  scale_fill_manual(breaks = c(\"female\", \"male\"),\n",
                "                     values = c(\"#E69F00\", \"#56B4E9\"))\n"
            ]
        },
        {
            "cell_type": "markdown",
            "metadata": {},
            "source": [
                "# Ending R sessions\n",
                "\n",
                "At the end of each session, you can extract information about the session itself (e.g. which R version you used and which versions of packages). This can help others (or even your future self) to reproduce the analysis that you have done.\n",
                "\n",
                "## Extracting session information\n",
                "\n",
                "You can extract the session information by running the `sessionInfo` function (without any arguments)\n"
            ]
        },
        {
            "cell_type": "code",
            "execution_count": null,
            "metadata": {},
            "outputs": [],
            "source": [
                "sessionInfo()\n",
                "\n"
            ]
        },
        {
            "cell_type": "markdown",
            "metadata": {},
            "source": [
                "# Going further\n",
                "\n",
                "If you want to know more, would like to get some more practice, or would like to have another approach to R, please check out the workshops and resources on R provided by the [UQ library](https://web.library.uq.edu.au/library-services/training). In addition, there are various online resources available to learn R (you can check out a very recommendable introduction [here](https://uvastatlab.github.io/phdplus/intror.html)). \n",
                "\n",
                "Here are also some additional resources that you may find helpful:\n",
                "\n",
                "* Grolemund. G., and Wickham, H., [*R 4 Data Science*](http://r4ds.had.co.nz/), 2017.\n",
                "    + Highly recommended! (especially chapters 1, 2, 4, 6, and 8)\n",
                "* Stat545 - Data wrangling, exploration, and analysis with R. University of British Columbia.  <http://stat545.com/>\n",
                "* Swirlstats, a package that teaches you R and statistics within R: <https://swirlstats.com/>\n",
                "* DataCamp's (free) *Intro to R* interactive tutorial: <https://www.datacamp.com/courses/free-introduction-to-r>\n",
                "    + DataCamp's advanced R tutorials require a subscription.\n",
                "*Twitter: \n",
                "    + Explore RStudio Tips https://twitter.com/rstudiotips \n",
                "    + Explore #rstats, #rstudioconf\n",
                "\n",
                "# Citation & Session Info \n",
                "\n",
                "Schweinberger, Martin. 2021. *A practical introduction to R*. Tromsø: Arctic University of Norway. url: https://slcladal.github.io/intror.html \n"
            ]
        },
        {
            "cell_type": "code",
            "execution_count": null,
            "metadata": {},
            "outputs": [],
            "source": [
                "sessionInfo()\n",
                "\n"
            ]
        },
        {
            "cell_type": "markdown",
            "metadata": {},
            "source": [
                "***\n",
                "\n",
                "# References \n",
                "\n",
                "\n",
                "Gillespie, Colin, and Robin Lovelace. 2016. *Efficient R Programming: A Practical Guide to Smarter Programming*. O’Reilly Media, Inc.\n",
                "\n",
                "Wickham, Hadley, and Garrett Grolemund. 2016. *R for Data Science: Import, Tidy, Transform, Visualize, and Model Data*. O’Reilly Media, Inc.\n"
            ]
        }
    ],
    "metadata": {
        "anaconda-cloud": "",
        "kernelspec": {
            "display_name": "R",
            "langauge": "R",
            "name": "ir"
        },
        "language_info": {
            "codemirror_mode": "r",
            "file_extension": ".r",
            "mimetype": "text/x-r-source",
            "name": "R",
            "pygments_lexer": "r",
            "version": "3.4.1"
        }
    },
    "nbformat": 4,
    "nbformat_minor": 1
}
