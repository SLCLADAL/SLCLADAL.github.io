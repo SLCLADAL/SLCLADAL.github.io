{
    "cells": [
        {
            "cell_type": "markdown",
            "metadata": {},
            "source": "\n"
        },
        {
            "cell_type": "code",
            "execution_count": null,
            "metadata": {},
            "outputs": [],
            "source": [
                "![uq](https://slcladal.github.io/images/uq1.jpg)\n",
                "\n",
                "# Introduction\n",
                "\n",
                "This tutorial shows how to get started with R and it specifically focuses on R for analyzing language data. The R markdown document for this tutorial can be downloaded [here](https://slcladal.github.io/intror.Rmd). If you already have experience with R, both @wickham2016r (see [here](https://r4ds.had.co.nz/)) and  @gillespie2016efficient (see [here](https://bookdown.org/csgillespie/efficientR/)) are highly recommendable and excellent resources for improving your coding abilities and workflows in R.\n",
                "\n",
                "## Goals of this tutorial\n",
                "\n",
                "The goals of this tutorial are:\n",
                "\n",
                "- How to get started with R \n",
                "- How to orient yourself to R and RStudio\n",
                "- How to create and work in R projects\n",
                "- How to know where to look for help and to learn more about R\n",
                "- Understand the basics of working with data: load data, save data, working with tables, create a simple plot\n",
                "- Learn some best practices for using R scripts, using data, and projects \n",
                "- Understand the basics of objects, functions, and indexing\n",
                "\n",
                "## Audience\n",
                "\n",
                "The intended audience for this tutorial is beginner-level, with no previous experience using R. Thus, no prior knowledge of R is required.\n",
                "\n",
                "If you want to know more, would like to get some more practice, or would like to have another approach to R, please check out the workshops and resources on R provided by the [UQ library](https://web.library.uq.edu.au/library-services/training). In addition, there are various online resources available to learn R (you can check out a very recommendable introduction [here](https://uvastatlab.github.io/phdplus/intror.html)). \n",
                "\n",
                "## Installing R and RStudio\n",
                "\n",
                "* You have NOT yet installed **R** on your computer? \n",
                "\n",
                "  + You have a Windows computer? Then click [here](https://cran.r-project.org/bin/windows/base/R-4.0.2-win.exe) for downloading and installing R\n",
                "\n",
                "  + You have a Mac? Then click [here](https://cran.r-project.org/bin/macosx/R-4.0.2.pkg) for downloading and installing R\n",
                "\n",
                "* You have NOT yet installed **RStudio** on your computer?\n",
                "\n",
                "  + Click [here](https://rstudio.com/products/rstudio/download/#download) for downloading and installing RStudio.\n",
                "\n",
                "* You have NOT yet downloaded the **materials** for this workshop?\n",
                "\n",
                "  + Click [here](https://slcladal.github.io/data/data.zip) to download the data for this session\n",
                "\n",
                "  + Click [here](https://slcladal.github.io/intror.Rmd) to download the Rmd-file of this workshop\n",
                "\n",
                "You can find a more elaborate explanation of how to download and install R and RStudio [here](https://gitlab.com/stragu/DSH/blob/master/R/Installation.md) that was created by the UQ library.\n",
                "\n",
                "### How to use the workshop materials\n",
                "\n",
                "You can follow this workshop in different ways based on your preferences as well as prior experience and knowledge of R (the suggestions listed below are ordered from less engaged/easy/no knowledge required to more engaged/more complex/more knowledge is required)\n",
                "\n",
                "* You can simply **sit back and follow** the workshop\n",
                "\n",
                "* You can load the Rmd-file in RStudio and **execute the code snippets** in this Rmd-file as we go (we will talk about what Rmd-file are, how they work, and how to work in RStudio below)\n",
                "  \n",
                "  + If you decide on doing this, then I suggest, that you use a section of your screen for Zoom (to see what I do) and another section of your screen to work within your own R project (we will see what an R project is below)\n",
                "\n",
                "* You can load the Rmd-file in RStudio, **create a new Rmd-file** (oRNotebook) and then copy and paste the code snippets in this new Rmd-file and execute them as we go.\n",
                "\n",
                "  + This option requires some knowledge of R and RStudio\n",
                "  \n",
                "  + If you decide on doing this, then I suggest, that you use a section of your screen for Zoom (to see what I do) and another section of your screen to work within your own R project (as with the previous option)\n",
                "\n",
                "Future workshops will be interactive and allow you to write your own code into code boxes on the website - unfortunately, I was not able to integrate that for this workshop.\n",
                "\n",
                "# Preparation\n",
                "\n",
                "Before you actually open R or RStudio, there things to consider that make working in R much easier and give your workflow a better structure. \n",
                "\n",
                "Imagine it like this: when you want to write a book, you could simply take pen and paper and start writing *or* you could think about what you want to write about, what different chapters your book would consist of, which chapters to write first, what these chapters will deal with, etc. The same is true for R: you could simply open R and start writing code *or* you can prepare you session and structure what you will be doing.\n",
                "\n",
                "## Folder Structure and R projects\n",
                "\n",
                "Before actually starting with writing code, you should prepare the session by going through the following steps:\n",
                "\n",
                "### 1. Create a folder for your project\n",
                "\n",
                "In that folder, create the following sub-folders (you can, of course, adapt this folder template to match your needs)\n",
                "\n",
                "  - data (you do not create this folder for the present workshop as you can simply use the data folder that you downloaded for this workshop instead)\n",
                "  - images\n",
                "  - tables\n",
                "  - docs\n",
                "\n",
                "The folder for your project could look like the the one shown below.\n"
            ]
        },
        {
            "cell_type": "markdown",
            "metadata": {},
            "source": "knitr::include_graphics(\"https://slcladal.github.io/images/RStudio_newfolder.png\")\n"
        },
        {
            "cell_type": "code",
            "execution_count": null,
            "metadata": {},
            "outputs": [],
            "source": [
                "Once you have created your project folder, you can go ahead with RStudio.\n",
                "\n",
                "### 3. Open RStudio\n",
                "\n",
                "This is what RStudio looks like when you first open it: \n"
            ]
        },
        {
            "cell_type": "markdown",
            "metadata": {},
            "source": "knitr::include_graphics(\"https://slcladal.github.io/images/RStudio_empty.png\")\n"
        },
        {
            "cell_type": "code",
            "execution_count": null,
            "metadata": {},
            "outputs": [],
            "source": [
                "In RStudio, click on `File` \n",
                "  \n"
            ]
        },
        {
            "cell_type": "markdown",
            "metadata": {},
            "source": "knitr::include_graphics(\"https://slcladal.github.io/images/RStudio_file.png\")\n"
        },
        {
            "cell_type": "code",
            "execution_count": null,
            "metadata": {},
            "outputs": [],
            "source": [
                "You can use the drop-down menu to create a `R project`\n",
                "\n",
                "### 4. R Projects\n",
                "\n",
                "In RStudio, click on `New Project`\n",
                "  \n"
            ]
        },
        {
            "cell_type": "markdown",
            "metadata": {},
            "source": "knitr::include_graphics(\"https://slcladal.github.io/images/RStudio_newfile.png\")\n"
        },
        {
            "cell_type": "code",
            "execution_count": null,
            "metadata": {},
            "outputs": [],
            "source": [
                "  \n",
                "Next, confirm by clicking `OK` and select `Existing Directory`.\n",
                "\n",
                "Then, navigate to where you have just created the project folder for this workshop.\n",
                "  \n"
            ]
        },
        {
            "cell_type": "markdown",
            "metadata": {},
            "source": "knitr::include_graphics(\"https://slcladal.github.io/images/RStudio_existingdirectory.png\")\n"
        },
        {
            "cell_type": "code",
            "execution_count": null,
            "metadata": {},
            "outputs": [],
            "source": [
                "  \n",
                "Once you click on `Open`, you have created a new `R project` \n",
                "  \n",
                "### 5. RNotebooks\n",
                "  \n",
                "In this project, click on `File`\n",
                "  \n"
            ]
        },
        {
            "cell_type": "markdown",
            "metadata": {},
            "source": "knitr::include_graphics(\"https://slcladal.github.io/images/RStudio_file.png\")\n"
        },
        {
            "cell_type": "code",
            "execution_count": null,
            "metadata": {},
            "outputs": [],
            "source": [
                "  \n",
                "Click on `New File` and then on `RNotebook` as shown below.\n"
            ]
        },
        {
            "cell_type": "markdown",
            "metadata": {},
            "source": "knitr::include_graphics(\"https://slcladal.github.io/images/RStudio_newnotebook.png\")\n"
        },
        {
            "cell_type": "code",
            "execution_count": null,
            "metadata": {},
            "outputs": [],
            "source": [
                "This `RNotebook` will be the file in which you do all your work.\n",
                "\n",
                "### 6. Getting started with RNotebooks\n",
                "\n",
                "You can now start writing in this RNotebook. For instance, you could start by changing the title of the RNotebook and describe what you are doing (what this Notebook contains).\n",
                "\n",
                "Below is a picture of what this document looked like when I started writing it.\n"
            ]
        },
        {
            "cell_type": "markdown",
            "metadata": {},
            "source": "knitr::include_graphics(\"https://slcladal.github.io/images/RStudio_editMD.png\")\n"
        },
        {
            "cell_type": "code",
            "execution_count": null,
            "metadata": {},
            "outputs": [],
            "source": [
                "When you write in the RNotebook, you use what is called `R Markdown` which is explained below.\n",
                "\n",
                "## R Markdown\n",
                "\n",
                "The Notebook is an [R Markdown document](http://rmarkdown.rstudio.com/): a Rmd (R Markdown) file is more than a flat text document: it's a program that you can run in R and which allows you to combine prose and code, so readers can see the technical aspects of your work while reading about their interpretive significance. \n",
                "\n",
                "You can get a nice and short overview of the formatting options in R Markdown (Rmd) files [here](https://rstudio.com/wp-content/uploads/2015/02/rmarkdown-cheatsheet.pdf).\n",
                "\n",
                "R Markdown allows you to make your research fully transparent and reproducible! If a couple of years down the line another researcher or a journal editor asked you how you have done your analysis, you can simply send them the Notebook or even the entire R-project folder. \n",
                "\n",
                "As such, Rmd files are a type of document that allows to \n",
                "\n",
                "+ include snippets of code (and any outputs such as tables or graphs) in plain text while \n",
                "\n",
                "+ encoding the *structure* of your document by using simple typographical symbols to encode formatting (rather than HTML tags or format types such as *Main header* or *Header level 1* in Word).  \n",
                "\n",
                "Markdown is really quite simple to learn and these resources may help:\n",
                "\n",
                "+ The [Markdown Wikipedia page](https://en.wikipedia.org/wiki/Markdown) includes a very handy chart of the syntax.\n",
                "\n",
                "+ John Gruber developed Markdown and his [introduction to the syntax](https://daringfireball.net/projects/markdown/syntax) is worth browsing.\n",
                "\n",
                "+ This [interactive Markdown tutorial](http://www.markdowntutorial.com/) will teach you the syntax in a few minutes.\n",
                "\n",
                "# R and RStudio Basics\n",
                "\n",
                "RStudio is a so-called IDE - Integrated Development Environment. The interface provides easy access to R. The advantage of this application is that R programs and files as well as a project directory can be managed easily. The environment is capable of editing and running program code, viewing outputs and rendering graphics. Furthermore, it is possible to view variables and data objects of an R-script directly in the interface. \n",
                "\n",
                "## RStudio: Panes\n",
                "\n",
                "The GUI - Graphical User Interface - that RStudio provides divides the screen into four areas that are called **panes**:\n",
                "\n",
                "1. File editor\n",
                "2. Environment variables\n",
                "3. R console\n",
                "4. Management panes (File browser, plots, help display and R packages).\n",
                "\n",
                "The two most important are the R console (bottom left) and the File editor (or Script in the top left).\n",
                "The Environment variables and Management panes are on the right of the screen and they contain: \n",
                "\n",
                "* **Environment** (top): Lists all currently defined objects and data sets\n",
                "* **History** (top): Lists all commands recently used or associated with a project\n",
                "* **Plots** (bottom): Graphical output goes here\n",
                "* **Help** (bottom): Find help for R packages and functions.  Don't forget you can type `?` before a function name in the console to get info in the Help section. \n",
                "* **Files** (bottom): Shows the files available to you in your working directory\n",
                "\n",
                "These RStudio panes are shown below.\n"
            ]
        },
        {
            "cell_type": "markdown",
            "metadata": {},
            "source": "knitr::include_graphics(\"https://slcladal.github.io/images/RStudioscreenshot.png\")\n"
        },
        {
            "cell_type": "code",
            "execution_count": null,
            "metadata": {},
            "outputs": [],
            "source": [
                "### R Console (bottom left pane)\n",
                "\n",
                "The console pane allows you to quickly and immediately execute R code. You can experiment with functions here, or quickly print data for viewing. \n",
                "\n",
                "Type next to the `>` and press `Enter` to execute. \n",
                "\n",
                "***\n",
                "\n",
                "<div class=\"warning\" style='padding:0.1em; background-color:#51247a; color:#f2f2f2'>\n",
                "<span>\n",
                "<p style='margin-top:1em; text-align:center'>\n",
                "<b>EXERCISE TIME!<\/b><\/p>\n",
                "<p style='margin-left:1em;'>\n",
                "<\/p><\/span>\n",
                "<\/div>\n",
                "\n",
                "<div class=\"question\">` \n",
                "\n",
                "1. You can use R like a calculator.  Try typing `2+8` into the **R console**.\n",
                "\n",
                "<details>\n",
                "  <summary>Answer<\/summary>\n",
                "  ```{r calculator}\n",
                "  2+8\n",
                "  ```\n",
                "  \n",
                "<\/details>\n",
                "\n",
                "<\/div>`\n",
                "\n",
                "***\n",
                "\n",
                "Here, the plus sign is the **operator**.  Operators are symbols that represent some sort of action.  However, R is, of course, much more than a simple calculator.  To use R more fully, we need to understand **objects**, **functions**, and **indexing** - which we will learn about as we go.\n",
                "\n",
                "For now, think of *objects as nouns* and *functions as verbs*. \n",
                "\n",
                "## Running commands from a script\n",
                "\n",
                "To run code from a script, insert your cursor on a line with a command, and press `CTRL/CMD+Enter`.\n",
                "\n",
                "Or highlight some code to only run certain sections of the command, then press `CTRL/CMD+Enter` to run.\n",
                "\n",
                "Alternatively, use the `Run` button at the top of the pane to execute the current line or selection (see below).\n"
            ]
        },
        {
            "cell_type": "markdown",
            "metadata": {},
            "source": "knitr::include_graphics(\"https://slcladal.github.io/images/RStudio_run.png\")\n"
        },
        {
            "cell_type": "code",
            "execution_count": null,
            "metadata": {},
            "outputs": [],
            "source": [
                "### Script Editor (top left pane)\n",
                "\n",
                "In contrast to the R console, which quickly runs code, the Script Editor (in the top left) does not automatically execute code. The Script Editor allows you to save the code essential to your analysis.  You can re-use that code in the moment, refer back to it later, or publish it for replication.  \n",
                "\n",
                "Now, that we have explored RStudio, we are ready to get started with R!\n",
                "\n",
                "# Getting started with R\n",
                "\n",
                "This section introduces some basic concepts and procedures that help optimize your workflow in R. \n",
                "\n",
                "## Setting up an R session\n",
                "\n",
                "At the beginning of a session, it is common practice to define some basic parameters. This is not required or even necessary, but it may just help further down the line. This session preparation may include specifying options. In the present case, we \n",
                "\n",
                "+ want R to show numbers as numbers up to 100 decimal points (and not show them in mathematical notation (in mathematical notation, 0.007 would be represented as 0.7e^-3^))\n",
                "\n",
                "+ want R to show maximally 100 results (otherwise, it can happen that R prints out pages-after-pages of some numbers).\n",
                "\n",
                "Again, the session preparation is not required or necessary but it can help avoid errors. \n"
            ]
        },
        {
            "cell_type": "markdown",
            "metadata": {},
            "source": [
                "# set options\n",
                "options(stringsAsFactors = F)                           \n",
                "options(scipen = 100) \n",
                "options(max.print=100) \n"
            ]
        },
        {
            "cell_type": "code",
            "execution_count": null,
            "metadata": {},
            "outputs": [],
            "source": [
                "In script editor pane of RStudio, this would look like this:\n",
                "\n"
            ]
        },
        {
            "cell_type": "markdown",
            "metadata": {},
            "source": "knitr::include_graphics(\"https://slcladal.github.io/images/RStudio_preparation.png\")\n"
        },
        {
            "cell_type": "code",
            "execution_count": null,
            "metadata": {},
            "outputs": [],
            "source": [
                "## Packages\n",
                "\n",
                "When using R, most of the functions are not loaded or even installing automatically. Instead, most functions are in contained in what are called **packages**. \n",
                "\n",
                "R comes with about 30 packages (\"base R\").  There are over 10,000 user-contributed packages; you can discover these packages online.  A prevalent collection of packages is the Tidyverse, which includes ggplot2, a package for making graphics. \n",
                "\n",
                "Before being able to use a package, we need to install the package (using the `install.packages` function) and load the package (using the `library` function). However, a package only needs to be installed once(!) and can then simply be loaded. When you install a package, this will likely install several other packages it depends on.  You should have already installed tidyverse before the workshop. \n",
                "\n",
                "You must load the package in any new R session where you want to use that package.    Below I show what you need to type when you want to install the `tidyverse`, the `tidytext`,  the `quanteda`, the `readxl`, and the `tm` packages (which are the packages that we will need in this workshop).\n"
            ]
        },
        {
            "cell_type": "markdown",
            "metadata": {},
            "source": [
                "install.packages(\"tidyverse\")\n",
                "install.packages(\"tidytext\")\n",
                "install.packages(\"quanteda\")\n",
                "install.packages(\"readxl\")\n",
                "install.packages(\"tm\")\n",
                "install.packages(\"tokenizers\")\n",
                "install.packages(\"here\")\n",
                "# install klippy for copy-to-clipboard button in code chunks\n",
                "remotes::install_github(\"rlesur/klippy\")\n"
            ]
        },
        {
            "cell_type": "code",
            "execution_count": null,
            "metadata": {},
            "outputs": [],
            "source": [
                "To load these packages, use the `library` function which takes the package name as its main argument.\n",
                "\n"
            ]
        },
        {
            "cell_type": "markdown",
            "metadata": {},
            "source": [
                "library(tidyverse)\n",
                "library(tidytext)\n",
                "library(quanteda)\n",
                "library(readxl)\n",
                "library(tm)\n",
                "library(tokenizers)\n",
                "library(here)\n",
                "library(flextable)\n",
                "# activate klippy for copy-to-clipboard button\n",
                "klippy::klippy()\n"
            ]
        },
        {
            "cell_type": "code",
            "execution_count": null,
            "metadata": {},
            "outputs": [],
            "source": [
                "The session preparation section of your Rmd file will thus also state which packages a script relies on.\n",
                "\n",
                "In script editor pane of RStudio, the code blocks that install and activate packages would look like this:\n"
            ]
        },
        {
            "cell_type": "markdown",
            "metadata": {},
            "source": "knitr::include_graphics(\"https://slcladal.github.io/images/RStudio_packages.png\")\n"
        },
        {
            "cell_type": "code",
            "execution_count": null,
            "metadata": {},
            "outputs": [],
            "source": [
                "## Getting help\n",
                "\n",
                "When working with R, you will encounter issues and face challenges. A very good thing about R is that it provides various ways to get help or find information about the issues you face.\n",
                "\n",
                "### Finding help within R\n",
                "\n",
                "To get help regrading what functions a package contains, which arguments a function takes or to get information about how to use a function, you can use the `help` function or the `apropos`. function or you can simply type a `?` before the package or two `??` if this does not give you any answers. \n"
            ]
        },
        {
            "cell_type": "markdown",
            "metadata": {},
            "source": [
                "help(tidyverse) \n",
                "apropos(\"tidyverse\")\n",
                "?require\n"
            ]
        },
        {
            "cell_type": "code",
            "execution_count": null,
            "metadata": {},
            "outputs": [],
            "source": [
                "There are also other \"official\" help resources from R/RStudio. \n",
                "\n",
                "* Read official package documentation, see vignettes, e.g., Tidyverse <https://cran.r-project.org/package=tidyverse>\n",
                "\n",
                "* Use the RStudio Cheat Sheets at <https://www.rstudio.com/resources/cheatsheets/>\n",
                "\n",
                "* Use the RStudio Help viewer by typing `?` before a function or package\n",
                "\n",
                "* Check out the keyboard shortcuts `Help` under `Tools` in RStudio for some good tips \n",
                "\n",
                "### Finding help online\n",
                "\n",
                "One great thing about R is that you can very often find an answer to your question online.\n",
                "\n",
                "* Google your error! See <http://r4ds.had.co.nz/introduction.html#getting-help-and-learning-more> for excellent suggestions on how to find help for a specific question online.\n",
                "\n",
                "# Working with tables\n",
                "\n",
                "We will now start working with data in R. As most of the data that we work with comes in tables, we will focus on this first before moving on to working with text data.\n",
                "\n",
                "## Loading data from the web\n",
                "\n",
                "To show, how data can be downloaded from the web, we will download a tab-separated txt-file. Translated to prose, the code below means *Create an object called *icebio *and in that object, store the result of the `read.delim` function*. \n",
                "\n",
                "`read.delim` stands for *read delimited file* and it takes the URL from which to load the data (or the path to the data on your computer) as its first argument. The `sep` stand for separator and the `\\t` stands for tab-separated and represents the second argument that the `read.delim` function takes. The third argument, `header`, can take either T(RUE) or F(ALSE) and it tells R if the data has column names (headers) or not. \n",
                "\n",
                "## Functions and Objects\n",
                "\n",
                "In R, functions always have the following form: `function(argument1, argument2, ..., argumentN)`. Typically a function does something to an object (e.g. a table), so that the first argument typically specifies the data to which the function is applied. Other arguments then allow to add some information. Just as a side note, functions are also objects that do not contain data but instructions.\n",
                "\n",
                "To assign content to an object, we use `<-` or `=` so that the we provide a name for an object, and then assign some content to it. For example, `MyObject <- 1:3` means *Create an object called `MyObject`. this object should contain the numbers 1 to 3*.\n"
            ]
        },
        {
            "cell_type": "markdown",
            "metadata": {},
            "source": [
                "# load data\n",
                "icebio <- read.delim(\"https://slcladal.github.io/data/BiodataIceIreland.txt\", \n",
                "                      sep = \"\\t\", header = T)\n"
            ]
        },
        {
            "cell_type": "code",
            "execution_count": null,
            "metadata": {},
            "outputs": [],
            "source": [
                "## Inspecting data\n",
                "\n",
                "There are many ways to inspect data. We will briefly go over the most common ways to inspect data.\n",
                "\n",
                "The `head` function takes the data-object as its first argument and automatically shows the first 6 elements of an object (or rows if the data-object has a table format).\n"
            ]
        },
        {
            "cell_type": "markdown",
            "metadata": {},
            "source": "head(icebio)\n"
        },
        {
            "cell_type": "code",
            "execution_count": null,
            "metadata": {},
            "outputs": [],
            "source": [
                "We can also use the `head` function to inspect more or less elements and we can specify the number of elements (or rows) that we want to inspect as a second argument. In the example below, the `4` tells R that we only want to see the first 4 rows of the data.\n",
                "\n"
            ]
        },
        {
            "cell_type": "markdown",
            "metadata": {},
            "source": "head(icebio, 4)\n"
        },
        {
            "cell_type": "code",
            "execution_count": null,
            "metadata": {},
            "outputs": [],
            "source": [
                "***\n",
                "\n",
                "<div class=\"warning\" style='padding:0.1em; background-color:#51247a; color:#f2f2f2'>\n",
                "<span>\n",
                "<p style='margin-top:1em; text-align:center'>\n",
                "<b>EXERCISE TIME!<\/b><\/p>\n",
                "<p style='margin-left:1em;'>\n",
                "<\/p><\/span>\n",
                "<\/div>\n",
                "\n",
                "<div class=\"question\">` \n",
                "\n",
                "1. Download and inspect the first 7 rows of the data set that you can find under this URL: `https://slcladal.github.io/data/lmmdata.txt`. Can you guess what the data is about?\n",
                "\n",
                "<details>\n",
                "  <summary>Answer<\/summary>\n",
                "  ```{r loadtext}\n",
                "  ex1data <- read.delim(\"https://slcladal.github.io/data/lmmdata.txt\", sep = \"\\t\")\n",
                "  head(ex1data, 7)\n",
                "  ```\n",
                "  The data is about texts and the different columns provide information about the texts such as  when the texts were written (`Date`), the genre the etxts represent (`Genre`), the name of the texts (`Text`), the relative frequencies of prepositions the texts contain (`Prepositions`), and the region where the author was from (`Region`).\n",
                "<\/details>\n",
                "\n",
                "<\/div>`\n",
                "\n",
                "***\n",
                "\n",
                "## Accessing individual cells in a table\n",
                "\n",
                "If you want to access specific cells in a table, you can do so by typing the name of the object and then specify the rows and columns in square brackets (i.e. **data[row, column]**). For example, `icebio[2, 4]` would show the value of the cell in the second row and fourth column of the object `icebio`. We can also use the colon to define a range (as shown below, where 1:5 means from 1 to 5 and 1:3 means from 1 to 3) The command `icebio[1:5, 1:3]` thus means:\n",
                "\n",
                "*Show me the first 5 rows and the first 3 columns of the data-object that is called icebio*. \n",
                " \n"
            ]
        },
        {
            "cell_type": "markdown",
            "metadata": {},
            "source": "icebio[1:5, 1:3]\n"
        },
        {
            "cell_type": "code",
            "execution_count": null,
            "metadata": {},
            "outputs": [],
            "source": [
                "***\n",
                "\n",
                "<div class=\"warning\" style='padding:0.1em; background-color:#51247a; color:#f2f2f2'>\n",
                "<span>\n",
                "<p style='margin-top:1em; text-align:center'>\n",
                "<b>EXERCISE TIME!<\/b><\/p>\n",
                "<p style='margin-left:1em;'>\n",
                "<\/p><\/span>\n",
                "<\/div>\n",
                "\n",
                "<div class=\"question\">` \n",
                "\n",
                "1. How would you inspect the content of the cells in 4^th^ column, rows 3 to 5 of the `icebio` data set?\n",
                "\n",
                "<details>\n",
                "  <summary>Answer<\/summary>\n",
                "  ```{r}\n",
                "  icebio[3:5, 4]\n",
                "  ```\n",
                "<\/details>\n",
                "\n",
                "<\/div>`\n",
                "\n",
                "***\n",
                "\n",
                "**Inspecting the structure of data**\n",
                "\n",
                "You can use the `str` function to inspect the structure of a data set. This means that this function will show the number of observations (rows) and variables (columns) and tell you what type of variables the data consists of \n",
                "\n",
                "- **int** = integer\n",
                "- **chr** = character string\n",
                "- **num** = numeric\n",
                "- **fct** = factor\n"
            ]
        },
        {
            "cell_type": "markdown",
            "metadata": {},
            "source": "str(icebio)\n"
        },
        {
            "cell_type": "code",
            "execution_count": null,
            "metadata": {},
            "outputs": [],
            "source": [
                "The `summary` function summarizes the data.\n",
                "\n"
            ]
        },
        {
            "cell_type": "markdown",
            "metadata": {},
            "source": "summary(icebio)\n"
        },
        {
            "cell_type": "code",
            "execution_count": null,
            "metadata": {},
            "outputs": [],
            "source": [
                "## Tabulating data\n",
                "\n",
                "We can use the `table` function to create basic tables that extract raw frequency information. The following command tells us how many instances there are of each level of the variable `date` in the `icebio`. \n",
                "\n",
                "***\n",
                "\n",
                "<div class=\"warning\" style='padding:0.1em; background-color:#51247a; color:#f2f2f2'>\n",
                "<span>\n",
                "<p style='margin-top:1em; text-align:center'>\n",
                "<b>TIP<\/b><\/p>\n",
                "<p style='margin-left:1em;'>\n",
                "<\/p><\/span>\n",
                "<\/div>\n",
                "\n",
                "<div class=\"question\">` \n",
                "\n",
                "In order to access specific columns of a data frame, you can first type the name of the data set followed by a `$` symbol and then the name of the column (or variable).\n",
                "\n",
                "<\/div>`\n",
                "\n",
                "***\n"
            ]
        },
        {
            "cell_type": "markdown",
            "metadata": {},
            "source": "table(icebio$date) \n"
        },
        {
            "cell_type": "code",
            "execution_count": null,
            "metadata": {},
            "outputs": [],
            "source": [
                "Alternatively, you could, of course, index the column by using its position in the data set like this: `icebio[, 6]` - the result of `table(icebio[, 6])` and `table(icebio$date)` are the same! Also note that here we leave out indexes for rows to tell R that we want all rows.\n",
                "\n",
                "When you want to cross-tabulate columns, it is often better to use the `ftable` function (`ftable` stands for *frequency table*). \n"
            ]
        },
        {
            "cell_type": "markdown",
            "metadata": {},
            "source": "ftable(icebio$age, icebio$sex)\n"
        },
        {
            "cell_type": "code",
            "execution_count": null,
            "metadata": {},
            "outputs": [],
            "source": [
                "***\n",
                "\n",
                "<div class=\"warning\" style='padding:0.1em; background-color:#51247a; color:#f2f2f2'>\n",
                "<span>\n",
                "<p style='margin-top:1em; text-align:center'>\n",
                "<b>EXERCISE TIME!<\/b><\/p>\n",
                "<p style='margin-left:1em;'>\n",
                "<\/p><\/span>\n",
                "<\/div>\n",
                "\n",
                "<div class=\"question\">` \n",
                "\n",
                "1. Using the `table` function, how many women are in the data collected between 2002 and 2005?\n",
                "\n",
                "<details>\n",
                "  <summary>Answer<\/summary>\n",
                "  ```{r}\n",
                "  table(icebio$date, icebio$sex)\n",
                "  ```\n",
                "<\/details>\n",
                "\n",
                "2. Using the `ftable` function, how many men are are from northern Ireland in the data collected between 1990 and 1994?\n",
                "\n",
                "<details>\n",
                "  <summary>Answer<\/summary>\n",
                "  ```{r}\n",
                "  ftable(icebio$date, icebio$zone, icebio$sex)\n",
                "  ```\n",
                "<\/details>\n",
                "\n",
                "<\/div>`\n",
                "\n",
                "***\n",
                "\n",
                "## Saving data to your computer\n",
                "\n",
                "To save tabular data on your computer, you can use the `write.table`  function. This function requires the data that you want to save as its first argument, the location where you want to save the data as the second argument and the type of delimiter as the third argument. \n"
            ]
        },
        {
            "cell_type": "markdown",
            "metadata": {},
            "source": "write.table(icebio, here::here(\"data\", \"icebio.txt\"), sep = \"\\t\") \n"
        },
        {
            "cell_type": "code",
            "execution_count": null,
            "metadata": {},
            "outputs": [],
            "source": [
                "**A word about paths**\n",
                "\n",
                "In the code chunk above, the sequence `here::here(\"data\", \"icebio.txt\")` is a handy way to define a path. A path is simply the location where a file is stored on your computer or on the internet (which typically is a server - which is just a fancy term for a computer - somewhere on the globe). The `here` function from the`here` package allows to simply state in which folder a certain file is and what file you are talking about. \n",
                "\n",
                "In this case, we want to access the file `icebio` (which is a `txt` file and thus has the appendix `.txt`) in the `data` folder. R will always start looking in the folder in which your project is stored. If you want to access a file that is stored somewhere else on your computer, you can also define the full path to the folder in which the file is. In my case, this would be `D:/Uni/UQ/SLC/LADAL/SLCLADAL.github.io/data`. However, as the `data` folder in in the folder where my Rproj file is, I only need to specify that the file is in the `data` folder within the folder in which my Rproj file is located.\n",
                "\n",
                "**A word about package naming**\n",
                "\n",
                "Another thing that is notable in the sequence `here::here(\"data\", \"icebio.txt\")` is that I specified that the `here` function is part of the `here` package. This is what I meant by writing `here::here` which simply means use the `here` function from `here` package (`package::function`). This may appear to be somewhat redundant but it happens quite frequently, that different packages have functions that have the same names. In such cases, R will simply choose the function from the package that was loaded last. To prevent R from using the wrong function, it makes sense to specify the package AND the function (as I did in the sequence `here::here`). I only use functions without specify the package if the function is part of base R.\n",
                "\n",
                "## Loading data from your computer\n",
                "\n",
                " To load tabular data from within your project folder (if it is in a tab-separated txt-file) you can also use the `read.delim` function. The only difference to loading from the web is that you use a path instead of a URL. If the txt-file is in the folder called *data* in your project folder, you would load the data as shown below. \n"
            ]
        },
        {
            "cell_type": "markdown",
            "metadata": {},
            "source": "icebio <- read.delim(here::here(\"data\", \"icebio.txt\"), sep = \"\\t\", header = T)\n"
        },
        {
            "cell_type": "code",
            "execution_count": null,
            "metadata": {},
            "outputs": [],
            "source": [
                "However, you can always just use the full path (and you must do this is the data is not in your project folder).\n",
                "\n",
                "***\n",
                "\n",
                "<div class=\"warning\" style='padding:0.1em; background-color:#51247a; color:#f2f2f2'>\n",
                "<span>\n",
                "<p style='margin-top:1em; text-align:center'>\n",
                "<b>NOTE<\/b><br>You may have to change the path to the data!<\/p>\n",
                "<p style='margin-left:1em;'>\n",
                "<\/p><\/span>\n",
                "<\/div>\n",
                "\n",
                "***\n"
            ]
        },
        {
            "cell_type": "markdown",
            "metadata": {},
            "source": [
                "icebio <- read.delim(here::here(\"data\", \"icebio.txt\"), \n",
                "                      sep = \"\\t\", header = T)\n"
            ]
        },
        {
            "cell_type": "code",
            "execution_count": null,
            "metadata": {},
            "outputs": [],
            "source": [
                "To if this has worked, we will use the `head` function to see first 6 rows of the data\n",
                "\n"
            ]
        },
        {
            "cell_type": "markdown",
            "metadata": {},
            "source": "head(icebio)\n"
        },
        {
            "cell_type": "code",
            "execution_count": null,
            "metadata": {},
            "outputs": [],
            "source": [
                "## Loading Excel data\n",
                "\n",
                "To load Excel spreadsheets, you can use the `read_excel` function from the `readxl` package as shown below. However, it may be necessary to install and activate the `readxl` package first. \n"
            ]
        },
        {
            "cell_type": "markdown",
            "metadata": {},
            "source": "icebio <- readxl::read_excel(here::here(\"data\", \"ICEdata.xlsx\"))\n"
        },
        {
            "cell_type": "code",
            "execution_count": null,
            "metadata": {},
            "outputs": [],
            "source": [
                "We now briefly check column names to see if the loading of the data has worked.\n",
                "\n"
            ]
        },
        {
            "cell_type": "markdown",
            "metadata": {},
            "source": "colnames(icebio)\n"
        },
        {
            "cell_type": "code",
            "execution_count": null,
            "metadata": {},
            "outputs": [],
            "source": [
                "## Loading text data\n",
                "\n",
                "There are many functions that we can use to load text data into R. For example, we can use the `readLines` function as shown below.\n"
            ]
        },
        {
            "cell_type": "markdown",
            "metadata": {},
            "source": [
                "text <- readLines(here::here(\"data\", \"text2.txt\"))\n",
                "# inspect first text element\n",
                "text[1]\n"
            ]
        },
        {
            "cell_type": "code",
            "execution_count": null,
            "metadata": {},
            "outputs": [],
            "source": [
                "To load many texts, we can use a loop to read all texts in a folder as shown below. In a first step, we define the paths of the texts and then, we use the `sapply` function to loop over the paths and read them into R.\n",
                "\n"
            ]
        },
        {
            "cell_type": "markdown",
            "metadata": {},
            "source": [
                "# define paths\n",
                "paths <- list.files(here::here(\"data/testcorpus\"), full.names = T)\n",
                "# load texts\n",
                "texts <- sapply(paths, function(x){ readLines(x) })\n",
                "# inspect first text element\n",
                "texts[1]\n"
            ]
        },
        {
            "cell_type": "code",
            "execution_count": null,
            "metadata": {},
            "outputs": [],
            "source": [
                "A method achieving the same result which uses piping (more on what that is below) and tidyverse R code is shown below.\n",
                "\n"
            ]
        },
        {
            "cell_type": "markdown",
            "metadata": {},
            "source": [
                "# define paths\n",
                "texts <- list.files(here::here(\"data/testcorpus\"), full.names = T, pattern = \".*txt\") %>%\n",
                "  purrr::map_chr(~ readr::read_file(.))\n",
                "# inspect first text element\n",
                "texts[1]\n"
            ]
        },
        {
            "cell_type": "code",
            "execution_count": null,
            "metadata": {},
            "outputs": [],
            "source": [
                "## Renaming, Piping, and Filtering \n",
                "\n",
                "To rename existing columns in a table, you can use the `rename` command which takes the table as the first argument, the new name as the second argument, the an equal sign (=), and finally, the old name es the third argument. For example, renaming a column *OldName* as *NewName* in a table called *MyTable* would look like this: `rename(MyTable, NewName = OldName)`.  \n",
                "\n",
                "Piping is done using the `%>%` sequence and it can be translated as **and then**. In the example below, we create a new object (icebio_edit) from the existing object (icebio) *and then* we rename the columns in the new object. When we use piping, we do not need to name the data we are using as this is provided by the previous step.\n"
            ]
        },
        {
            "cell_type": "markdown",
            "metadata": {},
            "source": [
                "icebio_edit <- icebio %>%\n",
                "  dplyr::rename(Id = id,\n",
                "         FileSpeakerId = file.speaker.id,\n",
                "         File = colnames(icebio)[3],\n",
                "         Speaker = colnames(icebio)[4])\n",
                "# inspect data\n",
                "icebio_edit[1:5, 1:6]\n"
            ]
        },
        {
            "cell_type": "code",
            "execution_count": null,
            "metadata": {},
            "outputs": [],
            "source": [
                "A very handy way to rename many columns simultaneously, you can use the `str_to_title` function which capitalizes first letter of a word. In the example below, we capitalize all first letters of the column names of our current data.\n",
                "\n"
            ]
        },
        {
            "cell_type": "markdown",
            "metadata": {},
            "source": [
                "colnames(icebio_edit) <- stringr::str_to_title(colnames(icebio_edit))\n",
                "# inpsect data\n",
                "icebio_edit[1:5, 1:6]\n"
            ]
        },
        {
            "cell_type": "code",
            "execution_count": null,
            "metadata": {},
            "outputs": [],
            "source": [
                "To remove rows based on values in columns you can use the `filter` function.\n",
                "\n"
            ]
        },
        {
            "cell_type": "markdown",
            "metadata": {},
            "source": [
                "icebio_edit2 <- icebio_edit %>%\n",
                "  dplyr::filter(Speaker != \"?\",\n",
                "         Zone != is.na(Zone),\n",
                "         Date == \"2002-2005\",\n",
                "         Word.count > 5)\n",
                "# inspect data\n",
                "head(icebio_edit2)\n"
            ]
        },
        {
            "cell_type": "code",
            "execution_count": null,
            "metadata": {},
            "outputs": [],
            "source": [
                "To select specific columns you can use the `select` function.\n",
                "\n"
            ]
        },
        {
            "cell_type": "markdown",
            "metadata": {},
            "source": [
                "icebio_selection <- icebio_edit2 %>%\n",
                "  dplyr::select(File, Speaker, Word.count)\n",
                "# inspect data\n",
                "head(icebio_selection)\n"
            ]
        },
        {
            "cell_type": "code",
            "execution_count": null,
            "metadata": {},
            "outputs": [],
            "source": [
                "You can also use the `select` function to remove specific columns.\n",
                "\n"
            ]
        },
        {
            "cell_type": "markdown",
            "metadata": {},
            "source": [
                "icebio_selection2 <- icebio_edit2 %>%\n",
                "  dplyr::select(-Id, -File, -Speaker, -Date, -Zone, -Age)\n",
                "# inspect data\n",
                "head(icebio_selection2)\n"
            ]
        },
        {
            "cell_type": "code",
            "execution_count": null,
            "metadata": {},
            "outputs": [],
            "source": [
                "## Ordering data\n",
                "\n",
                "To order data, for instance, in ascending order according to a specific column you can use the `arrange` function.\n"
            ]
        },
        {
            "cell_type": "markdown",
            "metadata": {},
            "source": [
                "icebio_ordered_asc <- icebio_selection2 %>%\n",
                "  dplyr::arrange(Word.count)\n",
                "# inspect data\n",
                "head(icebio_ordered_asc)\n"
            ]
        },
        {
            "cell_type": "code",
            "execution_count": null,
            "metadata": {},
            "outputs": [],
            "source": [
                "To order data in descending order you can also use the `arrange` function and simply add a - before the column according to which you want to order the data.\n",
                "\n"
            ]
        },
        {
            "cell_type": "markdown",
            "metadata": {},
            "source": [
                "icebio_ordered_desc <- icebio_selection2 %>%\n",
                "  dplyr::arrange(-Word.count)\n",
                "# inspect data\n",
                "head(icebio_ordered_desc)\n"
            ]
        },
        {
            "cell_type": "code",
            "execution_count": null,
            "metadata": {},
            "outputs": [],
            "source": [
                "The output shows that the female speaker in file S2A-005 with the speaker identity A has the highest word count with 2,355 words. \n",
                "\n",
                "***\n",
                "\n",
                "<div class=\"warning\" style='padding:0.1em; background-color:#51247a; color:#f2f2f2'>\n",
                "<span>\n",
                "<p style='margin-top:1em; text-align:center'>\n",
                "<b>EXERCISE TIME!<\/b><\/p>\n",
                "<p style='margin-left:1em;'>\n",
                "<\/p><\/span>\n",
                "<\/div>\n",
                "\n",
                "<div class=\"question\">` \n",
                "\n",
                "1. Using the data called `icebio`, create a new data set called `ICE_Ire_ordered` and arrange the data in descending order by the number of words that each speaker has uttered. Who is the speaker with the highest word count?\n",
                "\n",
                "<details>\n",
                "  <summary>Answer<\/summary>\n",
                "  ```{r}\n",
                "  ICE_Ire_ordered <- icebio %>%\n",
                "  dplyr::arrange(-word.count)\n",
                "  # inspect data\n",
                "  head(ICE_Ire_ordered)\n",
                "  ```\n",
                "<\/details>\n",
                "\n",
                "<\/div>`\n",
                "\n",
                "***\n",
                "\n",
                "## Creating and changing variables\n",
                "\n",
                "New columns are created, and existing columns can be changed, by using the `mutate` function. The `mutate` function takes two arguments (if the data does not have to be specified): the first argument is the (new) name of column that you want to create and the second is what you want to store in that column. The = tells R that the new column will contain the result of the second argument.\n",
                "\n",
                "In the example below, we create a new column called *Texttype*. \n",
                "\n",
                "This new column should contains \n",
                "\n",
                "  + the value *PrivateDialoge* if *Filespeakerid* contains the sequence *S1A*, \n",
                "  \n",
                "  + the value *PublicDialogue* if *Filespeakerid* contains the sequence *S1B*, \n",
                "  \n",
                "  + the value *UnscriptedMonologue* if *Filespeakerid* contains the sequence *S2A*, \n",
                "  \n",
                "  + the value *ScriptedMonologue* if *Filespeakerid* contains the sequence *S2B*, \n",
                "  \n",
                "  + the value of *Filespeakerid* if *Filespeakerid* neither contains *S1A*, *S1B*, *S2A*, nor *S2B*.\n"
            ]
        },
        {
            "cell_type": "markdown",
            "metadata": {},
            "source": [
                "icebio_texttype <- icebio_selection2 %>%\n",
                "  dplyr::mutate(Texttype = \n",
                "                  dplyr::case_when(stringr::str_detect(Filespeakerid ,\"S1A\") ~ \"PrivateDialoge\",\n",
                "                                   stringr::str_detect(Filespeakerid ,\"S1B\") ~ \"PublicDialogue\",\n",
                "                                   stringr::str_detect(Filespeakerid ,\"S2A\") ~ \"UnscriptedMonologue\",\n",
                "                                   stringr::str_detect(Filespeakerid ,\"S2B\") ~ \"ScriptedMonologue\",\n",
                "                                   TRUE ~ Filespeakerid))\n",
                "# inspect data\n",
                "head(icebio_texttype)\n"
            ]
        },
        {
            "cell_type": "code",
            "execution_count": null,
            "metadata": {},
            "outputs": [],
            "source": [
                "## If-statements\n",
                "\n",
                "We should briefly talk about if-statements (or `case_when` in the present case). The `case_when` function is both very powerful and extremely helpful as it allows you to assign values based on a test. As such, `case_when`-statements can be read as:\n",
                "\n",
                "*When/If X is the case, then do A and if X is not the case do B!* (When/If -> Then -> Else)\n",
                "\n",
                "The nice thing about `ifelse` or `case_when`-statements is that they can be used in succession as we have done above. This can then be read as:\n",
                "\n",
                "*If X is the case, then do A, if Y is the case, then do B, else do Z* \n",
                "\n",
                "***\n",
                "\n",
                "<div class=\"warning\" style='padding:0.1em; background-color:#51247a; color:#f2f2f2'>\n",
                "<span>\n",
                "<p style='margin-top:1em; text-align:center'>\n",
                "<b>EXERCISE TIME!<\/b><\/p>\n",
                "<p style='margin-left:1em;'>\n",
                "<\/p><\/span>\n",
                "<\/div>\n",
                "\n",
                "<div class=\"question\">` \n",
                "\n",
                "1.Using the data called `icebio`, create a new data set called `ICE_Ire_AgeGroup` in which you create a column called `AgeGroup` where all speakers who are younger than 42 have the value *young* and all speakers aged 42 and over *old*. \n",
                "\n",
                "**Tip**: use if-statements to assign the *old* and *young* values.\n",
                "\n",
                "<details>\n",
                "  <summary>Answer<\/summary>\n",
                "  ```{r}\n",
                "  ICE_Ire_AgeGroup <- icebio %>%\n",
                "  dplyr::mutate(AgeGroup = dplyr::case_when(age == \"42-49\" ~ \"old\",\n",
                "                                            age == \"50+\" ~ \"old\", \n",
                "                                            age == \"0-18\" ~ \"young\",\n",
                "                                            age == \"19-25\" ~ \"young\",\n",
                "                                            age == \"26-33\" ~ \"young\",\n",
                "                                            age == \"34-41\" ~ \"young\", \n",
                "                                            TRUE ~age))\n",
                "  # inspect data\n",
                "  head(ICE_Ire_AgeGroup); table(ICE_Ire_AgeGroup$AgeGroup)\n",
                "  ```\n",
                "<\/details>\n",
                "\n",
                "<\/div>`\n",
                "\n",
                "***\n",
                "\n",
                "## Summarizing data\n",
                "\n",
                "Summarizing is really helpful and can be done using the `summarise` function.\n"
            ]
        },
        {
            "cell_type": "markdown",
            "metadata": {},
            "source": [
                "icebio_summary1 <- icebio_texttype %>%\n",
                "  dplyr::summarise(Words = sum(Word.count))\n",
                "# inspect data\n",
                "head(icebio_summary1)\n"
            ]
        },
        {
            "cell_type": "code",
            "execution_count": null,
            "metadata": {},
            "outputs": [],
            "source": [
                "To get summaries of sub-groups or by variable level, we can use the `group_by` function and then use the `summarise` function.\n",
                "\n"
            ]
        },
        {
            "cell_type": "markdown",
            "metadata": {},
            "source": [
                "icebio_summary2 <- icebio_texttype %>%\n",
                "  dplyr::group_by(Texttype, Sex) %>%\n",
                "  dplyr::summarise(Speakers = n(),\n",
                "            Words = sum(Word.count))\n",
                "# inspect data\n",
                "head(icebio_summary2)\n"
            ]
        },
        {
            "cell_type": "code",
            "execution_count": null,
            "metadata": {},
            "outputs": [],
            "source": [
                "***\n",
                "\n",
                "<div class=\"warning\" style='padding:0.1em; background-color:#51247a; color:#f2f2f2'>\n",
                "<span>\n",
                "<p style='margin-top:1em; text-align:center'>\n",
                "<b>EXERCISE TIME!<\/b><\/p>\n",
                "<p style='margin-left:1em;'>\n",
                "<\/p><\/span>\n",
                "<\/div>\n",
                "\n",
                "<div class=\"question\">` \n",
                "\n",
                "1. Use the `icebio` and determine the number of words uttered by female speakers from Northern Ireland above an age of 50.\n",
                "\n",
                "<details>\n",
                "  <summary>Answer<\/summary>\n",
                "  ```{r}\n",
                "  words_fni50 <- icebio %>%\n",
                "  dplyr::select(zone, sex, age, word.count) %>%\n",
                "  dplyr::group_by(zone, sex, age) %>%\n",
                "  dplyr::summarize(Words = sum(word.count)) %>%\n",
                "  dplyr::filter(sex == \"female\",\n",
                "         age == \"50+\",\n",
                "         zone == \"northern ireland\")\n",
                "  # inspect data\n",
                "  words_fni50\n",
                "  ```\n",
                "<\/details>\n",
                "\n",
                "2. Load the file *exercisedata.txt* and determine the mean scores of groups A and B.\n",
                "\n",
                "**Tip**: to extract the mean, combine the `summary` function with the `mean` function. \n",
                "\n",
                "<details>\n",
                "  <summary>Answer<\/summary>\n",
                "  ```{r}\n",
                "  exercisedata <- read.delim(\"data/exercisedata.txt\", sep = \"\\t\", header = T) %>%\n",
                "  dplyr::group_by(Group) %>%\n",
                "  dplyr::summarize(Mean = mean(Score))\n",
                "  # inspect data\n",
                "  exercisedata\n",
                "  ```\n",
                "<\/details>\n",
                "\n",
                "<\/div>`\n",
                "\n",
                "***\n",
                "\n",
                "## Gathering and spreading data\n",
                "\n",
                "The `tidyr` package has two very useful functions for gathering and spreading data that can be sued to transform data to long and wide formats (you will see what this means below). The functions are called `gather` and `spread`.\n",
                "\n",
                "We will use the data set called `icebio_summary2`, which we created above, to demonstrate how this works.\n",
                "\n",
                "We will first check out the `spread`-function to create different columns for women and men that show how many of them are represented in the different text types. \n"
            ]
        },
        {
            "cell_type": "markdown",
            "metadata": {},
            "source": [
                "icebio_summary_wide <- icebio_summary2 %>%\n",
                "  dplyr::select(-Words) %>%\n",
                "  tidyr::spread(Sex, Speakers)\n",
                "# inspect\n",
                "icebio_summary_wide\n"
            ]
        },
        {
            "cell_type": "code",
            "execution_count": null,
            "metadata": {},
            "outputs": [],
            "source": [
                "The data is now in what is called a `wide`-format as values are distributed across columns.\n",
                "\n",
                "To reformat this back to a `long`-format where each column represents exactly one variable, we use the `gather`-function:\n"
            ]
        },
        {
            "cell_type": "markdown",
            "metadata": {},
            "source": [
                "icebio_summary_long <- icebio_summary_wide %>%\n",
                "  tidyr::gather(Sex, Speakers, female:male)\n",
                "# inspect\n",
                "icebio_summary_long\n"
            ]
        },
        {
            "cell_type": "code",
            "execution_count": null,
            "metadata": {},
            "outputs": [],
            "source": [
                "# More on working with text\n",
                "\n",
                "We have now worked though how to load, save, and edit tabulated data. However, R is also perfectly equipped for working with textual data which is what we going to concentrate on now. \n",
                "\n",
                "## Loading text data\n",
                "\n",
                "To load text data from the web, we can use the `read_file` function which takes the URL of the text as its first argument. In this case will will load the 2016 rally speeches Donald Trump.\n"
            ]
        },
        {
            "cell_type": "markdown",
            "metadata": {},
            "source": [
                "Trump <-base::readRDS(url(\"https://slcladal.github.io/data/Trump.rda\", \"rb\"))\n",
                "# inspect data\n",
                "str(Trump)\n"
            ]
        },
        {
            "cell_type": "code",
            "execution_count": null,
            "metadata": {},
            "outputs": [],
            "source": [
                "It is very easy to extract frequency information and to create frequency lists. We can do this by first using the `unnest_tokens`  function which splits texts into individual words, an then use the `count` function to get the raw frequencies of all word types in a text.\n",
                "\n"
            ]
        },
        {
            "cell_type": "markdown",
            "metadata": {},
            "source": [
                "Trump %>%\n",
                "  tibble(text = SPEECH) %>%\n",
                "  unnest_tokens(word, text) %>%\n",
                "  dplyr::count(word, sort=T)\n"
            ]
        },
        {
            "cell_type": "code",
            "execution_count": null,
            "metadata": {},
            "outputs": [],
            "source": [
                "Extracting N-grams is also very easy as the `unnest_tokens`  function can an argument called `token` in which we can specify that we want to extract n-grams, If we do this, then we need to specify the `n` as a separate argument. Below we specify that we want the frequencies of all 4-grams.\n",
                "\n"
            ]
        },
        {
            "cell_type": "markdown",
            "metadata": {},
            "source": [
                "Trump %>%\n",
                "  tibble(text = SPEECH) %>%\n",
                "  unnest_tokens(word, text, token=\"ngrams\", n=4) %>%\n",
                "  dplyr::count(word, sort=T) %>%\n",
                "  head(10)\n"
            ]
        },
        {
            "cell_type": "code",
            "execution_count": null,
            "metadata": {},
            "outputs": [],
            "source": [
                "## Splitting-up texts\n",
                "\n",
                "We can use the `str_split` function to split texts. However, there are two issues when using this (very useful) function:\n",
                "\n",
                "  + the pattern that we want to split on disappears \n",
                "\n",
                "  + the output is a list (a special type of data format)\n",
                "\n",
                "To remedy these issues, we \n",
                "\n",
                "  + combine the `str_split` function with the `unlist` function \n",
                "\n",
                "  + add something right at the beginning of the pattern that we use to split the text. \n",
                "To add something to the beginning of the pattern that we want to split the text by, we use the `str_replace_all` function. The `str_replace_all` function takes three arguments, 1. the **text**, 2. the **pattern** that should be replaced, 3. the **replacement**. In the example below, we add `~~~` to the sequence `SPEECH` and then split on the `~~~` rather than on the sequence \"SPEECH\" (in other words, we replace `SPEECH` with `~~~SPEECH` and then split on `~~~`).\n"
            ]
        },
        {
            "cell_type": "markdown",
            "metadata": {},
            "source": [
                "Trump_split <- unlist(str_split(\n",
                "  stringr::str_replace_all(Trump, \"SPEECH\", \"~~~SPEECH\"),\n",
                "  pattern = \"~~~\"))\n",
                "# inspect data\n",
                "nchar(Trump_split)#; str(Trump_split)\n"
            ]
        },
        {
            "cell_type": "code",
            "execution_count": null,
            "metadata": {},
            "outputs": [],
            "source": [
                "## Cleaning texts\n",
                "\n",
                "When working with texts, we usually need to clean the data. Below, we do some very basic cleaning using a pipeline.\n"
            ]
        },
        {
            "cell_type": "markdown",
            "metadata": {},
            "source": [
                "Trump_split_clean <- Trump_split %>%\n",
                "  # replace elements\n",
                "  stringr::str_replace_all(fixed(\"\\n\"), \" \") %>%\n",
                "  # remove strange symbols\n",
                "  stringr::str_replace_all(\"[^[:alnum:][:punct:]]+\", \" \") %>%\n",
                "  # combine contractions\n",
                "  stringr::str_replace_all(\" re \", \"'re \") %>%\n",
                "  stringr::str_replace_all(\" ll \", \"'ll \") %>%\n",
                "  stringr::str_replace_all(\" d \", \"'d \") %>%\n",
                "  stringr::str_replace_all(\" m \", \"'m \") %>%\n",
                "  stringr::str_replace_all(\" s \", \"'s \") %>%\n",
                "  stringr::str_replace_all(\"n t \", \"n't \") %>%\n",
                "  # remove \\\"\n",
                "  stringr::str_remove_all(\"\\\"\") %>%\n",
                "  # remove superfuous white spaces\n",
                "  stringr::str_squish()\n",
                "# remove very short elements\n",
                "Trump_split_clean <- Trump_split_clean[nchar(Trump_split_clean) > 5]\n",
                "# inspect data\n",
                "nchar(Trump_split_clean)\n"
            ]
        },
        {
            "cell_type": "code",
            "execution_count": null,
            "metadata": {},
            "outputs": [],
            "source": [
                "Inspect text\n",
                "\n"
            ]
        },
        {
            "cell_type": "markdown",
            "metadata": {},
            "source": "Trump_split_clean[5]\n"
        },
        {
            "cell_type": "code",
            "execution_count": null,
            "metadata": {},
            "outputs": [],
            "source": [
                "## Concordancing and KWICs\n",
                "\n",
                "Creating concordances or key-word-in-context displays is one of the most common practices when dealing with text data. Fortunately, there exist ready-made functions that make this a very easy task in R. We will use the `kwic` function from the `quanteda` package to create kwics here. \n"
            ]
        },
        {
            "cell_type": "markdown",
            "metadata": {},
            "source": [
                "kwic_multiple <- quanteda::kwic(Trump_split_clean, \n",
                "       pattern = phrase(\"great again\"),\n",
                "       window = 3, \n",
                "       valuetype = \"regex\") %>%\n",
                "  as.data.frame()\n",
                "# inspect data\n",
                "head(kwic_multiple)\n"
            ]
        },
        {
            "cell_type": "code",
            "execution_count": null,
            "metadata": {},
            "outputs": [],
            "source": [
                "We can now also select concordances based on specific features. For example, we only want those instances of \"great again\" if the preceding word was \"america\". \n",
                "\n"
            ]
        },
        {
            "cell_type": "markdown",
            "metadata": {},
            "source": [
                "kwic_multiple_select <- kwic_multiple %>%\n",
                "  # last element before search term is \"america\"\n",
                "  dplyr::filter(str_detect(pre, \"america$\"))\n",
                "# inspect data\n",
                "head(kwic_multiple_select)\n"
            ]
        },
        {
            "cell_type": "code",
            "execution_count": null,
            "metadata": {},
            "outputs": [],
            "source": [
                "Again, we can use the `write.table` function to save our kwics to disc.\n",
                "\n"
            ]
        },
        {
            "cell_type": "markdown",
            "metadata": {},
            "source": "write.table(kwic_multiple_select, here::here(\"data\", \"kwic_multiple_select.txt\"), sep = \"\\t\")\n"
        },
        {
            "cell_type": "code",
            "execution_count": null,
            "metadata": {},
            "outputs": [],
            "source": [
                "As most of the data that we use is on out computers (rather than being somewhere on the web), we now load files with text from your computer. It is important to note that you need to use `\\\\` when you want to load data from a Windows PC (rather than single `\\`). \n",
                "\n",
                "To load many files, we first create a list of all files in a the directory that we want to load data from and then use the `sapply` function (which works just like a loop). The `sapply` function takes a a vector of elements and then performs a sequence of steps on each of these elements. In the example below, we feed the file locations to the `sapply` function and then we scan each text (i.e. we read it into R), then we paste all the content of one file together.\n",
                "\n",
                "***\n",
                "\n",
                "<div class=\"warning\" style='padding:0.1em; background-color:#51247a; color:#f2f2f2'>\n",
                "<span>\n",
                "<p style='margin-top:1em; text-align:center'>\n",
                "<b>NOTE<\/b><br>You may have to change the path to the data!<\/p>\n",
                "<p style='margin-left:1em;'>\n",
                "<\/p><\/span>\n",
                "<\/div>\n",
                "\n",
                "***\n"
            ]
        },
        {
            "cell_type": "markdown",
            "metadata": {},
            "source": [
                "files <- list.files(here::here(\"data\", \"ICEIrelandSample\"),\n",
                "                    pattern = \".txt\", full.names = T)\n",
                "ICE_Ire_sample <- sapply(files, function(x) {\n",
                "  x <- scan(x, what = \"char\")\n",
                "  x <- paste(x, sep = \" \", collapse = \" \")\n",
                "  })\n",
                "# inspect data\n",
                "str(ICE_Ire_sample)\n"
            ]
        },
        {
            "cell_type": "code",
            "execution_count": null,
            "metadata": {},
            "outputs": [],
            "source": [
                "As the texts do not have column names (but simply names), we can clean these by removing everything before a `/` and by removing the .txt.\n",
                "\n"
            ]
        },
        {
            "cell_type": "markdown",
            "metadata": {},
            "source": [
                "names(ICE_Ire_sample) <- names(ICE_Ire_sample) %>%\n",
                "  stringr::str_remove_all(\".*/\") %>%\n",
                "  stringr::str_remove_all(\".txt\")\n",
                "# inspect\n",
                "names(ICE_Ire_sample)\n"
            ]
        },
        {
            "cell_type": "code",
            "execution_count": null,
            "metadata": {},
            "outputs": [],
            "source": [
                "## Further splitting of texts\n",
                "\n",
                "To split the texts into speech units where each speech unit begins with the speaker that has uttered it, we again use the `sapply` function.\n"
            ]
        },
        {
            "cell_type": "markdown",
            "metadata": {},
            "source": [
                "ICE_Ire_split <- as.vector(unlist(sapply(ICE_Ire_sample, function(x){\n",
                " x <- as.vector(str_split(str_replace_all(x, \"(<S1A-)\", \"~~~\\\\1\"), \"~~~\"))  \n",
                "})))\n",
                "# inspect\n",
                "head(ICE_Ire_split)\n"
            ]
        },
        {
            "cell_type": "code",
            "execution_count": null,
            "metadata": {},
            "outputs": [],
            "source": [
                "## Basics of regular expressions\n",
                "\n",
                "Next, we extract the File and the Speaker and combine Text, File, and Speaker in a table.\n",
                "\n",
                "We use this to show the power of **regular expressions** (to learn more about regular expression, have a look at this very recommendable  [tutorial](https://stringr.tidyverse.org/articles/regular-expressions.html)). Regular expressions are symbols or sequences of symbols that stand for \n",
                "\n",
                "  + symbols or patterns (e.g. `[a-z]` stands for any lowercase character)\n",
                "  + the frequency of symbols or patterns (e.g. `{1,3}` stands for between 1 and 3)\n",
                "  + classes of symbols (e.g. `[:punct:]` stands for any punctuation symbol)\n",
                "  + structural properties (e.g. `[^[:blank:]]` stands for any non-space character, `\\t` stands for tab-stop and `\\n` stands for a line break)\n",
                "  \n",
                "We can not go into any detail here and only touch upon the power of regular expressions. \n",
                "\n",
                "The symbol `.` is one of the most powerful and most universal regular expressions as it represents (literally) any symbol or character and it thus stands for a pattern. The `*` is a regular expression that refers to the frequency of a pattern and it stands for 0 to an infinite number of instances. Thus, `.*` stands for 0 to an infinite number of any character. You can find an overview of the regular expressions that you can use in R [here](https://slcladal.github.io/regularexpressions.html).\n",
                "\n",
                "Also, if you put patterns in round brackets, R will remember the sequence within brackets and you can paste it back into a string from memory when you replace something. \n",
                "\n",
                "When referring to symbols that are used a regular expressions such as `\\` or `\\$`, you need to inform R that you actually mean the real symbol and not the regular expression and you do that by typing two `\\\\` before the sequence in question. Have a look at the example below and try to see what the regular expressions (`.*(S1A-[0-9]{3,3}).*`, `\\n`, and `.*\\\\$([A-Z]{1,2}\\\\?{0,1})>.*`) stand for. \n"
            ]
        },
        {
            "cell_type": "markdown",
            "metadata": {},
            "source": [
                "ICE_Ire_split_tb <- ICE_Ire_split %>%\n",
                "  as.data.frame()\n",
                "# add columnn names\n",
                "colnames(ICE_Ire_split_tb)[1] <- \"Text\"\n",
                "# add file and speaker\n",
                "ICE_Ire_split_tb <- ICE_Ire_split_tb %>%\n",
                "  dplyr::filter(!str_detect(Text, \"<I>\"),\n",
                "         Text != \"\") %>%\n",
                "  dplyr::mutate(File = str_replace_all(Text, \".*(S1A-[0-9]{3,3}).*\", \"\\\\1\"),\n",
                "         File = str_remove_all(File, \"\\\\\\n\"),\n",
                "         Speaker = str_replace_all(Text, \".*\\\\$([A-Z]{1,2}\\\\?{0,1})>.*\", \"\\\\1\"),\n",
                "         Speaker = str_remove_all(Speaker, \"\\\\\\n\"))\n"
            ]
        },
        {
            "cell_type": "code",
            "execution_count": null,
            "metadata": {},
            "outputs": [],
            "source": [
                "\n",
                "\n"
            ]
        },
        {
            "cell_type": "markdown",
            "metadata": {},
            "source": [
                "# inspect data\n",
                "ICE_Ire_split_tb %>%\n",
                "  as.data.frame() %>%\n",
                "  head(10) %>%\n",
                "  flextable() %>%\n",
                "  flextable::set_table_properties(width = .95, layout = \"autofit\") %>%\n",
                "  flextable::theme_zebra() %>%\n",
                "  flextable::fontsize(size = 12) %>%\n",
                "  flextable::fontsize(size = 12, part = \"header\") %>%\n",
                "  flextable::align_text_col(align = \"center\") %>%\n",
                "  flextable::set_caption(caption = \"\")  %>%\n",
                "  flextable::border_outer()\n"
            ]
        },
        {
            "cell_type": "code",
            "execution_count": null,
            "metadata": {},
            "outputs": [],
            "source": [
                "## Combining tables\n",
                "\n",
                "We often want to combine different tables. This is very easy in R and we will show how it can be done by combining our bio data about speakers that are represented in the ICE Ireland corpus with the texts themselves so that we get a table which holds both the text as well as the speaker information.\n",
                "\n",
                "Thus, we now join the text data with the bio data by using the `left_join` function. We join the text with the bio data based on the contents of the File and the Speaker columns. In contract to `right_join`, and `full_join`, `left_join` will drop all rows from the *right* table that are not present in *left* table (and vice verse for `right_join`. In contrast, `full_join` will retain all rows from both the left and the right table.\n"
            ]
        },
        {
            "cell_type": "markdown",
            "metadata": {},
            "source": "ICE_Ire <- dplyr::left_join(ICE_Ire_split_tb, icebio_edit, by = c(\"File\", \"Speaker\"))\n"
        },
        {
            "cell_type": "code",
            "execution_count": null,
            "metadata": {},
            "outputs": [],
            "source": [
                "\n",
                "\n"
            ]
        },
        {
            "cell_type": "markdown",
            "metadata": {},
            "source": [
                "# inspect data\n",
                "ICE_Ire %>%\n",
                "  as.data.frame() %>%\n",
                "  head(10) %>%\n",
                "  flextable() %>%\n",
                "  flextable::set_table_properties(width = .95, layout = \"autofit\") %>%\n",
                "  flextable::theme_zebra() %>%\n",
                "  flextable::fontsize(size = 12) %>%\n",
                "  flextable::fontsize(size = 12, part = \"header\") %>%\n",
                "  flextable::align_text_col(align = \"center\") %>%\n",
                "  flextable::set_caption(caption = \"\")  %>%\n",
                "  flextable::border_outer()\n"
            ]
        },
        {
            "cell_type": "code",
            "execution_count": null,
            "metadata": {},
            "outputs": [],
            "source": [
                "You can then perform concordancing on the Text column in the table.\n",
                "\n"
            ]
        },
        {
            "cell_type": "markdown",
            "metadata": {},
            "source": [
                "kwic_iceire <- quanteda::kwic(ICE_Ire$Text,\n",
                "                 pattern = phrase(\"Irish\"),\n",
                "                 window = 5, \n",
                "                 valuetype = \"regex\") %>%\n",
                "  as.data.frame()\n"
            ]
        },
        {
            "cell_type": "code",
            "execution_count": null,
            "metadata": {},
            "outputs": [],
            "source": [
                "\n",
                "\n"
            ]
        },
        {
            "cell_type": "markdown",
            "metadata": {},
            "source": [
                "# inspect data\n",
                "kwic_iceire %>%\n",
                "  as.data.frame() %>%\n",
                "  head(10) %>%\n",
                "  flextable() %>%\n",
                "  flextable::set_table_properties(width = .95, layout = \"autofit\") %>%\n",
                "  flextable::theme_zebra() %>%\n",
                "  flextable::fontsize(size = 12) %>%\n",
                "  flextable::fontsize(size = 12, part = \"header\") %>%\n",
                "  flextable::align_text_col(align = \"center\") %>%\n",
                "  flextable::set_caption(caption = \"\")  %>%\n",
                "  flextable::border_outer()\n"
            ]
        },
        {
            "cell_type": "code",
            "execution_count": null,
            "metadata": {},
            "outputs": [],
            "source": [
                "## Tokenization and counting words\n",
                "\n",
                "We will now use the `tokenize_words` function from the tokenizer package to find out how many words are in each file. Before we count the words, however, we will clean the data by removing everything between pointy brackets (e.g. <#>) as well as all punctuation.\n",
                " \n"
            ]
        },
        {
            "cell_type": "markdown",
            "metadata": {},
            "source": [
                "words <- as.vector(sapply(Trump_split_clean, function(x){\n",
                "  x <- tm::removeNumbers(x)\n",
                "  x <- tm::removePunctuation(x)\n",
                "  x <- unlist(tokenize_words(x))\n",
                "  x <- length(x)}))\n",
                "words\n"
            ]
        },
        {
            "cell_type": "code",
            "execution_count": null,
            "metadata": {},
            "outputs": [],
            "source": [
                "The nice thing about the tokenizer package is that it also allows to split texts into sentences.\n",
                "To show this, we return to the rally speeches by Donald Trump and split the first of his rally speeches into sentences.\n"
            ]
        },
        {
            "cell_type": "markdown",
            "metadata": {},
            "source": [
                "Sentences <- unlist(tokenize_sentences(Trump_split_clean[6]))\n",
                "# inspect\n",
                "head(Sentences)\n"
            ]
        },
        {
            "cell_type": "code",
            "execution_count": null,
            "metadata": {},
            "outputs": [],
            "source": [
                "We now want to find associations between words. To do this, we convert all characters to lower case, remove (some) non lexical words (also called stop words), remove punctuation, and superfluous white spaces and then create a  document-term-matrix (DTM) which shows how often any word occurs in any of the sentences (in this case, the sentences are treated as documents).\n",
                "\n",
                "Once we have a DTM, we can then use the `findAssocs` function to see which words associate most strongly with target words that we want to investigate. We can use the argument \"corlimit\" to show the terms that are most strongly associated with our target words.\n"
            ]
        },
        {
            "cell_type": "markdown",
            "metadata": {},
            "source": [
                "# clean sentences\n",
                "Sentences <- Sentences %>%\n",
                "  # convert to lowercase\n",
                "  tolower() %>%\n",
                "  # remove stop words\n",
                "  tm::removeWords(stopwords(\"english\")) %>%\n",
                "  # remove punctiation\n",
                "  tm::removePunctuation() %>%\n",
                "  # remove numbers\n",
                "  tm::removeNumbers() %>%\n",
                "  # remove superfuous white spaces\n",
                "  stringr::str_squish()\n",
                "# create DTM\n",
                "DTM <- DocumentTermMatrix(VCorpus(VectorSource(Sentences)))\n",
                "findAssocs(DTM, c(\"problems\", \"america\"), corlimit = c(.5, .5))\n"
            ]
        },
        {
            "cell_type": "code",
            "execution_count": null,
            "metadata": {},
            "outputs": [],
            "source": [
                "We now turn to data visualization basics.\n",
                "\n",
                "# Working with figures\n",
                "\n",
                "There are numerous function in R that we can use to visualize data. We will use the `ggplot` function from the `ggplot2` package here to visualize the data. \n",
                "\n",
                "The `ggplot2` package was developed by Hadley Wickham in 2005 and it implements the graphics scheme described in the book *The Grammar of Graphics* by Leland Wilkinson.\n",
                "\n",
                "The idea behind the  *Grammar of Graphics* can be boiled down to 5 bullet points (see Wickham 2016: 4):\n",
                "\n",
                "- a statistical graphic is a mapping from data to **aes**thetic attributes (location, color, shape, size) of **geom**etric objects (points, lines, bars). \n",
                "\n",
                "- the geometric objects are drawn in a specific **coord**inate system.\n",
                "\n",
                "- **scale**s control the mapping from data to aesthetics and provide tools to read the plot (ie, axes and legends).\n",
                "\n",
                "- the plot may also contain **stat**istical transformations of the data (means, medians, bins of data, trend lines).\n",
                "\n",
                "- **facet**ing can be used to generate the same plot for different subsets of the data.\n",
                "\n",
                "## Basics of ggplot2 syntax \n",
                "\n",
                "**Specify data, aesthetics and geometric shapes** \n",
                "\n",
                "`ggplot(data, aes(x=, y=, color=, shape=, size=)) +`   \n",
                "`geom_point()`, or `geom_histogram()`, or `geom_boxplot()`, etc.   \n",
                "\n",
                "- This combination is very effective for exploratory graphs. \n",
                "\n",
                "- The data must be a data frame.\n",
                "\n",
                "- The `aes()` function maps columns of the data frame to aesthetic properties of geometric shapes to be plotted.\n",
                "\n",
                "- `ggplot()` defines the plot; the `geoms` show the data; each component is added with `+` \n",
                "\n",
                "- Some examples should make this clear\n",
                "\n",
                "## Practical examples  \n",
                "\n",
                "We will now create some basic visualizations or plots.\n",
                "\n",
                "Before we start plotting, we will create data that we want to plot. In this case, we will extract the mean word counts by gender and age.\n"
            ]
        },
        {
            "cell_type": "markdown",
            "metadata": {},
            "source": [
                "plotdata <- ICE_Ire %>%\n",
                "  # only private dialogue\n",
                "  dplyr::filter(stringr::str_detect(File, \"S1A\"),\n",
                "         # without speaker younger than 19\n",
                "         Age != \"0-18\",\n",
                "         Age != \"NA\") %>%\n",
                "  dplyr::group_by(Sex, Age) %>%\n",
                "  dplyr::summarise(Words = mean(Word.count))\n",
                "# inspect\n",
                "head(plotdata)\n"
            ]
        },
        {
            "cell_type": "code",
            "execution_count": null,
            "metadata": {},
            "outputs": [],
            "source": [
                "In the example below, we specify that we want to visualize the `plotdata` and that the x-axis should represent `Age` and the y-axis `Words`(the mean frequency of words). We also tell R that we want to group the data by `Sex` (i.e. that we want to distinguish between men and women). Then, we add `geom_line` which tells R that we want a line graph. The result of this is shown below. \n",
                "\n"
            ]
        },
        {
            "cell_type": "markdown",
            "metadata": {},
            "source": [
                "ggplot(plotdata, aes(x = Age, y = Words, color = Sex, group = Sex)) +\n",
                "  geom_line()\n"
            ]
        },
        {
            "cell_type": "code",
            "execution_count": null,
            "metadata": {},
            "outputs": [],
            "source": [
                "Once you have a basic plot like the one above, you can prettify the plot. For example, you can \n",
                "\n",
                "+ change the width of the lines (`size = 1.25`)\n",
                "\n",
                "+ change the y-axis limits (`coord_cartesian(ylim = c(0, 1000)) `)\n",
                "\n",
                "+ use a different theme (`theme_bw()` means black and white theme)\n",
                "\n",
                "+ move the legend to the top\n",
                "\n",
                "+ change the default colors to colors you like (*scale_color_manual ...`)\n",
                "\n",
                "+ change the linetype (`scale_linetype_manual ...`)\n"
            ]
        },
        {
            "cell_type": "markdown",
            "metadata": {},
            "source": [
                "ggplot(plotdata, aes(x = Age, y = Words,\n",
                "                     color = Sex, \n",
                "                     group = Sex, \n",
                "                     linetype = Sex)) +\n",
                "  geom_line(size = 1.25) +\n",
                "  coord_cartesian(ylim = c(0, 1500)) +\n",
                "  theme_bw() + \n",
                "  theme(legend.position = \"top\") + \n",
                "  scale_color_manual(breaks = c(\"female\", \"male\"),\n",
                "                     values = c(\"gray20\", \"gray50\")) +\n",
                "  scale_linetype_manual(breaks = c(\"female\", \"male\"),\n",
                "                        values = c(\"solid\", \"dotted\"))\n"
            ]
        },
        {
            "cell_type": "code",
            "execution_count": null,
            "metadata": {},
            "outputs": [],
            "source": [
                "An additional and very handy feature of this way of producing graphs is that you \n",
                "\n",
                "+ can integrate them into pipes \n",
                "\n",
                "+ can easily combine plots.\n"
            ]
        },
        {
            "cell_type": "markdown",
            "metadata": {},
            "source": [
                "ICE_Ire %>%\n",
                "  dplyr::filter(Sex != \"NA\",\n",
                "         Age != \"NA\",\n",
                "         is.na(Sex) == F,\n",
                "         is.na(Age) == F) %>%\n",
                "  dplyr::mutate(Age = factor(Age),\n",
                "         Sex = factor(Sex)) %>%\n",
                "  ggplot(aes(x = Age, \n",
                "             y = Word.count,\n",
                "             color = Sex,\n",
                "             linetype = Sex)) +\n",
                "  geom_point() +\n",
                "  stat_summary(fun=mean, geom=\"line\", aes(group=Sex)) +\n",
                "  coord_cartesian(ylim = c(0, 2000)) +\n",
                "  theme_bw() + \n",
                "  theme(legend.position = \"top\") + \n",
                "  scale_color_manual(breaks = c(\"female\", \"male\"),\n",
                "                     values = c(\"indianred\", \"darkblue\")) +\n",
                "  scale_linetype_manual(breaks = c(\"female\", \"male\"),\n",
                "                        values = c(\"solid\", \"dotted\"))\n"
            ]
        },
        {
            "cell_type": "code",
            "execution_count": null,
            "metadata": {},
            "outputs": [],
            "source": [
                "You can also create different types of graphs very easily and split them into different facets.\n",
                "\n"
            ]
        },
        {
            "cell_type": "markdown",
            "metadata": {},
            "source": [
                "ICE_Ire %>%\n",
                "  drop_na() %>%\n",
                "  dplyr::filter(Age != \"NA\") %>%\n",
                "  dplyr::mutate(Date = factor(Date)) %>%\n",
                "  ggplot(aes(x = Age, \n",
                "             y = Word.count, \n",
                "             fill = Sex)) +\n",
                "  facet_grid(vars(Date)) +\n",
                "  geom_boxplot() +\n",
                "  coord_cartesian(ylim = c(0, 2000)) +\n",
                "  theme_bw() + \n",
                "  theme(legend.position = \"top\") + \n",
                "  scale_fill_manual(breaks = c(\"female\", \"male\"),\n",
                "                     values = c(\"#E69F00\", \"#56B4E9\"))\n"
            ]
        },
        {
            "cell_type": "code",
            "execution_count": null,
            "metadata": {},
            "outputs": [],
            "source": [
                "***\n",
                "\n",
                "<div class=\"warning\" style='padding:0.1em; background-color:#51247a; color:#f2f2f2'>\n",
                "<span>\n",
                "<p style='margin-top:1em; text-align:center'>\n",
                "<b>EXERCISE TIME!<\/b><\/p>\n",
                "<p style='margin-left:1em;'>\n",
                "<\/p><\/span>\n",
                "<\/div>\n",
                "\n",
                "<div class=\"question\">` \n",
                "\n",
                "1. Create a box plot showing the `Date` on the x-axis and the words uttered by speakers on the y-axis and group by `Sex`.\n",
                "\n",
                "<details>\n",
                "  <summary>Answer<\/summary>\n",
                "  ```{r}\n",
                "  ICE_Ire %>%\n",
                "  drop_na() %>%\n",
                "  dplyr::filter(Sex != \"NA\") %>%\n",
                "  dplyr::mutate(Date = factor(Date)) %>%\n",
                "  ggplot(aes(x = Date, \n",
                "             y = Word.count, \n",
                "             fill = Sex)) +\n",
                "  geom_boxplot() +\n",
                "  coord_cartesian(ylim = c(0, 2000)) +\n",
                "  theme_bw() + \n",
                "  theme(legend.position = \"top\") + \n",
                "  scale_fill_manual(breaks = c(\"female\", \"male\"),\n",
                "                     values = c(\"#E69F00\", \"#56B4E9\"))\n",
                "  ```\n",
                "<\/details>\n",
                "\n",
                "2. Create a scatter plot showing the `Date` on the x-axis and the words uttered by speakers on the y-axis and create different facets for `Sex`.\n",
                "\n",
                "<details>\n",
                "  <summary>Answer<\/summary>\n",
                "  ```{r}\n",
                "  ICE_Ire %>%\n",
                "  drop_na() %>%\n",
                "  dplyr::filter(Sex != \"NA\",\n",
                "         Date != \"NA\") %>%\n",
                "  dplyr::mutate(Date = factor(Date),\n",
                "         Sex = factor(Sex)) %>%\n",
                "  ggplot(aes(Date, Word.count,\n",
                "         color = Date)) +\n",
                "  facet_wrap(vars(Sex), ncol = 2) +\n",
                "  geom_point() +\n",
                "  coord_cartesian(ylim = c(0, 2000)) +\n",
                "  theme_bw() + \n",
                "  scale_color_manual(breaks = c(\"1990-1994\", \"2002-2005\"),\n",
                "                     values = c(\"#E69F00\", \"#56B4E9\"))\n",
                "  ```\n",
                "<\/details>\n",
                "\n",
                "<\/div>`\n",
                "\n",
                "***\n",
                "\n",
                "**Advanced**\n",
                "\n",
                "Create a bar plot showing the number of men and women by `Date`.\n",
                "\n",
                "<details>\n",
                "<summary> <span style=\"color: purple;\"> Solution <\/span> <\/summary>\n"
            ]
        },
        {
            "cell_type": "markdown",
            "metadata": {},
            "source": [
                "ICE_Ire %>%\n",
                "  drop_na() %>%\n",
                "  dplyr::select(Date, Sex, File) %>%\n",
                "  unique() %>%\n",
                "  dplyr::filter(Sex != \"NA\",\n",
                "         Date != \"NA\") %>%\n",
                "  dplyr::group_by(Date, Sex) %>%\n",
                "  dplyr::summarize(NumberOfSpeakers = n()) %>%\n",
                "  ggplot(aes(Date, NumberOfSpeakers,\n",
                "         fill = Date)) +\n",
                "  facet_wrap(vars(Sex), ncol = 2) +\n",
                "  geom_bar(stat = \"identity\") +\n",
                "  coord_cartesian(ylim = c(0, 20)) +\n",
                "  theme_bw() + \n",
                "  scale_fill_manual(breaks = c(\"1990-1994\", \"2002-2005\"),\n",
                "                     values = c(\"#E69F00\", \"#56B4E9\"))\n"
            ]
        },
        {
            "cell_type": "code",
            "execution_count": null,
            "metadata": {},
            "outputs": [],
            "source": [
                "<\/details>\n",
                "\n",
                "***\n",
                "\n",
                "# Ending R sessions\n",
                "\n",
                "At the end of each session, you can extract information about the session itself (e.g. which R version you used and which versions of packages). This can help others (or even your future self) to reproduce the analysis that you have done.\n",
                "\n",
                "## Extracting session information\n",
                "\n",
                "You can extract the session information by running the `sessionInfo` function (without any arguments)\n"
            ]
        },
        {
            "cell_type": "markdown",
            "metadata": {},
            "source": "sessionInfo()\n"
        },
        {
            "cell_type": "code",
            "execution_count": null,
            "metadata": {},
            "outputs": [],
            "source": [
                "# Going further\n",
                "\n",
                "If you want to know more, would like to get some more practice, or would like to have another approach to R, please check out the workshops and resources on R provided by the [UQ library](https://web.library.uq.edu.au/library-services/training). In addition, there are various online resources available to learn R (you can check out a very recommendable introduction [here](https://uvastatlab.github.io/phdplus/intror.html)). \n",
                "\n",
                "Here are also some additional resources that you may find helpful:\n",
                "\n",
                "* Grolemund. G., and Wickham, H., [*R 4 Data Science*](http://r4ds.had.co.nz/), 2017.\n",
                "    + Highly recommended! (especially chapters 1, 2, 4, 6, and 8)\n",
                "* Stat545 - Data wrangling, exploration, and analysis with R. University of British Columbia.  <http://stat545.com/>\n",
                "* Swirlstats, a package that teaches you R and statistics within R: <https://swirlstats.com/>\n",
                "* DataCamp's (free) *Intro to R* interactive tutorial: <https://www.datacamp.com/courses/free-introduction-to-r>\n",
                "    + DataCamp's advanced R tutorials require a subscription.\n",
                "*Twitter: \n",
                "    + Explore RStudio Tips https://twitter.com/rstudiotips \n",
                "    + Explore #rstats, #rstudioconf\n",
                "\n",
                "# Citation & Session Info \n",
                "\n",
                "Schweinberger, Martin. 2021. *Getting started with R - for (absolute) beginners*. Brisbane: The University of Queensland. url: https://slcladal.github.io/intror.html  (Version `r format(Sys.time(), '%Y.%m.%d')`).\n"
            ]
        },
        {
            "cell_type": "markdown",
            "metadata": {},
            "source": [
                "@manual{schweinberger2021intr,\n",
                "  author = {Schweinberger, Martin},\n",
                "  title = {Getting started with R - for (absolute) beginners},\n",
                "  note = {https://slcladal.github.io/intror.html},\n",
                "  year = {2021},\n",
                "  organization = \"The University of Queensland, School of Languages and Cultures},\n",
                "  address = {Brisbane},\n",
                "  edition = {`r format(Sys.time(), '%Y.%m.%d')`}\n",
                "}\n"
            ]
        },
        {
            "cell_type": "code",
            "execution_count": null,
            "metadata": {},
            "outputs": [],
            "source": [
                "\n",
                "\n"
            ]
        },
        {
            "cell_type": "markdown",
            "metadata": {},
            "source": "sessionInfo()\n"
        },
        {
            "cell_type": "code",
            "execution_count": null,
            "metadata": {},
            "outputs": [],
            "source": [
                "***\n",
                "\n",
                "[Back to top](#introduction)\n",
                "\n",
                "[Back to HOME](https://slcladal.github.io/index.html)\n",
                "\n",
                "***\n",
                "\n",
                "# References \n"
            ]
        }
    ],
    "metadata": {
        "anaconda-cloud": "",
        "kernelspec": {
            "display_name": "R",
            "langauge": "R",
            "name": "ir"
        },
        "language_info": {
            "codemirror_mode": "r",
            "file_extension": ".r",
            "mimetype": "text/x-r-source",
            "name": "R",
            "pygments_lexer": "r",
            "version": "3.4.1"
        }
    },
    "nbformat": 4,
    "nbformat_minor": 1
}
