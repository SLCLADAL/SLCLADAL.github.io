{
    "cells": [
        {
            "cell_type": "markdown",
            "metadata": {},
            "source": [
                "![An interactive LADAL notebook](https://slcladal.github.io/images/uq1.jpg)\n",
                "\n",
                "\n",
                "This tutorial is the interactive Jupyter notebook accompanying the [*Language Technology and Data Analysis Laboratory* (LADAL) tutorial *Handling tables in R*](https://ladal.edu.au/table.html). \n",
                "\n",
                "\n",
                "**Preparation and session set up**\n",
                "\n",
                "We set up our session by activating the packages we need for this tutorial. \n"
            ]
        },
        {
            "cell_type": "code",
            "execution_count": null,
            "metadata": {},
            "outputs": [],
            "source": [
                "# activate packages\n",
                "library(dplyr)\n",
                "library(tidyr)\n",
                "library(openxlsx)\n"
            ]
        },
        {
            "cell_type": "markdown",
            "metadata": {},
            "source": [
                "Once you have initiated the session by executing the code shown above, you are good to go.\n",
                "\n",
                "If you are using this notebook on your own computer and you have not already installed the R packages listed above, you need to install them. You can install them by replacing the `library` command with `install.packages` and putting the name of the package into quotation marks like this: `install.packages(\"quanteda\")`. Then, you simply run this command and R will install the package you specified.\n",
                "\n",
                "\n",
                "# Getting started\n",
                "\n",
                "Tables are one of the most common and important ways to process, handle, and describe data. This tutorial introduces different types of tables, how to load and save different types of tables, as well as how to modify and process tables and tabulated data.\n",
                "\n",
                "When working with R, there are different kinds or types of tables that have different characteristics. The most common types of tables in R are:\n",
                "\n",
                "* matrices\n",
                "* data frames\n",
                "* tibbles\n",
                "\n",
                "Matrices can only contain one type of data and all data points will be converted to the type of scale with the lowest information value. For instance, if at least one variables in a table represents characters (or strings), then all other variables are also converted into characters (although they may be numbers). \n",
                "\n",
                "Data frames can contain different types of scales and variables are not converted automatically. In this sense, data frames are more flexible and are preferable over matrices.\n",
                "\n",
                "Tibbles are the tidyverse equivalent of data frames which offer new functions and possibilities of handling and inspecting the data. . \n",
                "\n",
                "# Loading tables into R\n",
                "\n",
                "There are several different functions that allow us to read tabulated data into R. In our case, we use the `readRDS` function which loads Rdata sets. \n"
            ]
        },
        {
            "cell_type": "code",
            "execution_count": null,
            "metadata": {},
            "outputs": [],
            "source": [
                "# load data with read.delim\n",
                "mytable <- base::readRDS(url(\"https://slcladal.github.io/data/mld.rda\", \"rb\"))\n",
                "# inspect data\n",
                "mytable %>%\n",
                "  head() \n"
            ]
        },
        {
            "cell_type": "markdown",
            "metadata": {},
            "source": [
                "If  the data is stored as a txt-file, there are various functions to read in the data. The most common functions are `read.delim` and `read.table`. \n",
                "\n"
            ]
        },
        {
            "cell_type": "code",
            "execution_count": null,
            "metadata": {},
            "outputs": [],
            "source": [
                "# load data with read.delim\n",
                "tab1 <- read.delim(\"https://slcladal.github.io/data/mlrdata.txt\", \n",
                "                   sep = \"\\t\", header = TRUE)\n",
                "tab2 <- read.table(\"https://slcladal.github.io/data/mlrdata.txt\", header = TRUE)\n"
            ]
        },
        {
            "cell_type": "markdown",
            "metadata": {},
            "source": [
                "To load excel data from the web, you can use the `read.xlsx` function from the `openxlsx` package.\n",
                "\n"
            ]
        },
        {
            "cell_type": "code",
            "execution_count": null,
            "metadata": {},
            "outputs": [],
            "source": [
                "# load data\n",
                "exceldata <- openxlsx::read.xlsx(\"https://slcladal.github.io/data/testdata1.xlsx\", \n",
                "                                 sheet = 1)\n",
                "# inspect data\n",
                "exceldata %>%\n",
                "  head() \n"
            ]
        },
        {
            "cell_type": "markdown",
            "metadata": {},
            "source": [
                "To load excel data from your own computer, you can use the `read_excel` function from the `readxl` package (which is part of the tidyverse and thus does not need to be installed separately.\n",
                "\n",
                "\n",
                "***\n",
                "\n",
                "## Using your own data\n",
                "\n",
                "While the tutorial uses data from the LADAL website, you can also use your own data. You can see below what you need to do to upload and use your own data.\n",
                "\n",
                "The code chunk below allows you to upload two files from your own computer. To be able to load your own data, you need to click on the folder symbol to the left of the screen:\n",
                "\n",
                "![Binder Folder Symbol](https://slcladal.github.io/images/binderfolder.JPG)\n",
                "\n",
                "\n",
                "Then on the upload symbol.\n",
                "\n",
                "![Binder Upload Symbol](https://slcladal.github.io/images/binderupload.JPG)\n",
                "\n",
                "Next, upload the files you want to analyze and then the respective files names in the file argument of the scan function. When you then execute the code (like to code chunk below, you will upload your own data.\n"
            ]
        },
        {
            "cell_type": "code",
            "execution_count": null,
            "metadata": {},
            "outputs": [],
            "source": [
                "mytable1 <- openxlsx::read.xlsx(\"testdata1.xlsx\", sheet = 1)\n",
                "# inspect\n",
                "mytable1\n"
            ]
        },
        {
            "cell_type": "markdown",
            "metadata": {},
            "source": [
                "**Keep in mind though that you need to adapt the names of the texts in the code chunks below so that the code below work on your own texts!**\n",
                "\n",
                "***\n",
                "\n",
                "\n",
                "# Inspecting tables\n",
                "\n",
                "The most common functions that are used to inspect tabular data are the `head()` and the `str()` functions. The `head()` function shows the first 6 lines (by default) but we can also specify the number of rows. The `str()` function provides a summary of the structure of the data.\n",
                "\n",
                "\n",
                "Inspecting the first 6 rows of a table.\n"
            ]
        },
        {
            "cell_type": "code",
            "execution_count": null,
            "metadata": {},
            "outputs": [],
            "source": [
                "head(mytable)\n",
                "\n"
            ]
        },
        {
            "cell_type": "markdown",
            "metadata": {},
            "source": [
                "Inspecting the first 10 rows of a table.\n",
                "\n"
            ]
        },
        {
            "cell_type": "code",
            "execution_count": null,
            "metadata": {},
            "outputs": [],
            "source": [
                "head(mytable, 10)\n",
                "\n"
            ]
        },
        {
            "cell_type": "markdown",
            "metadata": {},
            "source": [
                "Checking the structure of tabulated data.\n",
                "\n"
            ]
        },
        {
            "cell_type": "code",
            "execution_count": null,
            "metadata": {},
            "outputs": [],
            "source": [
                "str(mytable)\n",
                "\n"
            ]
        },
        {
            "cell_type": "markdown",
            "metadata": {},
            "source": [
                "The following section shows how to access and manipulate tables. \n",
                "\n",
                "# Processing tabular data\n",
                "\n",
                "The tidyverse is a specific way of writing R code that builds on a family of libraries designed for efficient data science work flows which were developed initially by Hadley Wickham. This new way of writing R code builds on a shared and underlying design philosophy and grammar. Due to its popularity and ease of use, the tidyverse way to write R code is becoming increasingly popular and we will use it in the following to handle and manipulate tabulated data. \n",
                "\n",
                "If you have already loaded data into R and now want to process the data, you typically have to modify the data in some form or another to get the information or format you need. The tidyverse offers very user-friendly, intuitive, and handy functions for processing the data to match the needs of your analysis. To have access to the tidyverse functions for data processing, we load the `tidyverse` package and load and inspect another set of data using the `read.delim` function. The new data is stored as a txt file and has 100 observations (rows) and 3 variables (*status*, *attraction*, and *money*). The data set represents how much money people have spend in someone they were interested in or not (attraction: *Interested* versus *NotInterested*) and their own relationship status (status: *Single* versus *Relationship*).\n"
            ]
        },
        {
            "cell_type": "code",
            "execution_count": null,
            "metadata": {},
            "outputs": [],
            "source": [
                "# load new data\n",
                "newdata <- base::readRDS(url(\"https://slcladal.github.io/data/mld.rda\", \"rb\"))\n",
                "# inspect\n",
                "newdata %>%\n",
                "  head() \n"
            ]
        },
        {
            "cell_type": "markdown",
            "metadata": {},
            "source": [
                "The table represents 3 variables (status, attraction, and money) and each row contains information on the relationship status of 100 people and how much money these people would spend on a gift to someone of the opposite sex who they are or are not interested in. We will now check out different ways and functions to process this data. \n",
                "\n",
                "## Piping\n",
                "\n",
                "Piping, done with the sequence `%>%`, is a very easy, intuitive, quick, and handy way to process data. Essentially piping means that we take an element that is to the left of the piping symbol and then do something to it; that way, the piping symbol can be translated as *and then*. \n",
                "\n",
                "We could, for example, load data and then capitalize the column names and then group the data by status and attraction and then get the mean of money spend on deleting all observations except for the first one. A more formal way to write this would be:\n",
                "\n",
                "> load %>% capitalize %>% group %>% summarize.\n",
                "\n",
                "In R this command would look like this:\n"
            ]
        },
        {
            "cell_type": "code",
            "execution_count": null,
            "metadata": {},
            "outputs": [],
            "source": [
                "# example of a data processing pipeline\n",
                "pipeddata <- base::readRDS(url(\"https://slcladal.github.io/data/mld.rda\", \"rb\")) %>%\n",
                "  dplyr::rename(Status = status, Attraction = attraction, Money = money) %>%\n",
                "  dplyr::group_by(Status, Attraction) %>%\n",
                "  dplyr::summarise(Mean = mean(Money))\n",
                "# inspect summarized data\n",
                "pipeddata\n"
            ]
        },
        {
            "cell_type": "markdown",
            "metadata": {},
            "source": [
                "The pipe has worked and we get the resulting summary which shows the mean of the money spend based on  Attraction and Status.\n",
                "\n",
                "## Selecting and filtering\n",
                "\n",
                "Among the most frequent procedures in data processing is selecting certain columns or extracting rows based on variable levels. In the tidyverse, this is done by using the `select` and `filter` functions. While `select` allows to extract columns, `filter` is used to extract rows, e.g. to get only observations that have a certain feature. Have a look at the example below.\n"
            ]
        },
        {
            "cell_type": "code",
            "execution_count": null,
            "metadata": {},
            "outputs": [],
            "source": [
                "# select and filter\n",
                "reduceddata <- newdata %>%\n",
                "  # select the columns attraction and money\n",
                "  dplyr::select(attraction, money) %>%\n",
                "  # extract rows which represent cases where the person was interested in someone\n",
                "  dplyr::filter(attraction == \"Interested\")\n",
                "# inspect new table\n",
                "nrow(reduceddata); table(reduceddata$attraction)\n"
            ]
        },
        {
            "cell_type": "markdown",
            "metadata": {},
            "source": [
                "We have now reduced the data by excluding status (we have only selected attraction and money) and we have removed those 50 data rows of people who were not interested. The `select` function (like most other tidyverse functions) can also be used together with a minus sign which causes a column to be removed, thus `dplyr::select(-money)` would remove the money column (see below).\n",
                "\n"
            ]
        },
        {
            "cell_type": "code",
            "execution_count": null,
            "metadata": {},
            "outputs": [],
            "source": [
                "# select and filter\n",
                "datawithoutmoney <- newdata %>%\n",
                "  # remove money\n",
                "  dplyr::select(-money) \n",
                "# inspect data\n",
                "head(datawithoutmoney)\n"
            ]
        },
        {
            "cell_type": "markdown",
            "metadata": {},
            "source": [
                "Selecting and filtering are extremely powerful functions that can also be combined with other functions. But before we discuss more complex issues, we will have a look at how we can change columns.\n",
                "\n",
                "## Changing data and adding columns\n",
                "\n",
                "Changing and adding data is done with the `mutate` function. The `mutate` functions requires that we specify a column name - if we use the same name as the column we are changing, then we change the column but if we specify another column name, then a new column is created. \n",
                "\n",
                "We will now create a new column (Spendalot) in which we encode if the person has spend a lot of money (100 AUD or more) on the present or not (less than 100 AUD).\n"
            ]
        },
        {
            "cell_type": "code",
            "execution_count": null,
            "metadata": {},
            "outputs": [],
            "source": [
                "# creating a new column\n",
                "newdata <- newdata %>%\n",
                "  dplyr::mutate(Spendalot = ifelse(money >= 100, \"Alot\", \"Alittle\")) \n",
                "# inspect data\n",
                "head(newdata)\n"
            ]
        },
        {
            "cell_type": "markdown",
            "metadata": {},
            "source": [
                "The table now has a new column (Spendalot) because we have specified a column name that did not exist yet - had we written `dplyr::mutate(money = ifelse(money >= 100, \"Alot\", \"Alittle\"))` then we would have changed the money column and replaced the money values with the labels *Alot* and *Alittle*.\n",
                "\n",
                "## Renaming columns\n",
                "\n",
                "Oftentimes, column names are not really meaningful or incoherent which makes it easier to wrap your head around what the values in a column refer to. The easiest way around this is rename columns which is, fortunately very simple in the tidyverse. While the column names of our example table are meaningful, I want to capitalize the first letter of each column name. This can be done as follows.\n"
            ]
        },
        {
            "cell_type": "code",
            "execution_count": null,
            "metadata": {},
            "outputs": [],
            "source": [
                "# renaming columns\n",
                "newdata <- newdata  %>%\n",
                "  dplyr::rename(Status = status, Attraction = attraction, Money = money)\n",
                "# inspect data\n",
                "head(newdata)\n"
            ]
        },
        {
            "cell_type": "markdown",
            "metadata": {},
            "source": [
                "The renaming was successful as all column names now begin with a capital letter.\n",
                "\n",
                "## Grouping and summarising\n",
                "\n",
                "In contrast to mutate, which retains the number of rows, summarizing creates new columns but collapses rows and only provides the summary value (or values if more than one summary is specified). Also, columns that are not  grouping variables are removed. \n",
                "\n",
                "Summarizing is particularly useful when we want to get summaries of groups. We will modify the example from above and extract the mean and the standard deviation of the money spend on presents by relationship status and whether the giver was attracted to the giv-ee. \n"
            ]
        },
        {
            "cell_type": "code",
            "execution_count": null,
            "metadata": {},
            "outputs": [],
            "source": [
                "#grouping and summarizing data \n",
                "datasummary <- newdata %>%\n",
                "  dplyr::group_by(Status, Attraction) %>%\n",
                "  dplyr::summarise(Mean = round(mean(Money), 2), SD = round(sd(Money), 1))\n",
                "# inspect summarized data\n",
                "datasummary\n"
            ]
        },
        {
            "cell_type": "markdown",
            "metadata": {},
            "source": [
                "## Gathering and Spreading\n",
                "\n",
                "One very common problem is that data - or at least parts of it - have to be transformed from long to wide format or vice versa. In the tidyverse, this is done using the `gather` and `spread` function. We will convert the summary table shown above into a wide format (we also remove the SD column as it is no longer needed) \n"
            ]
        },
        {
            "cell_type": "code",
            "execution_count": null,
            "metadata": {},
            "outputs": [],
            "source": [
                "# converting data to wide format \n",
                "widedata <- datasummary %>%\n",
                "  # remove SD column\n",
                "  dplyr::select(-SD) %>% \n",
                "  # convert into wide format\n",
                "  tidyr::spread(Attraction, Mean)\n",
                "# inspect wide data\n",
                "widedata\n"
            ]
        },
        {
            "cell_type": "markdown",
            "metadata": {},
            "source": [
                "We can re-convert the wide into a long format using the `gather` function. \n",
                "\n"
            ]
        },
        {
            "cell_type": "code",
            "execution_count": null,
            "metadata": {},
            "outputs": [],
            "source": [
                "# converting data to long format \n",
                "longdata <- widedata %>%\n",
                "  # convert into long format\n",
                "  tidyr::gather(Attraction, Money, Interested:NotInterested)\n",
                "# inspect wide data\n",
                "longdata\n"
            ]
        },
        {
            "cell_type": "markdown",
            "metadata": {},
            "source": [
                "There are many more useful functions for processing, handling, and summarizing tables but this should suffice to get you started.\n",
                "\n",
                "\n",
                "***\n",
                "\n",
                "[Back to LADAL](https://ladal.edu.au/table.html)\n",
                "\n",
                "***\n"
            ]
        }
    ],
    "metadata": {
        "anaconda-cloud": "",
        "kernelspec": {
            "display_name": "R",
            "langauge": "R",
            "name": "ir"
        },
        "language_info": {
            "codemirror_mode": "r",
            "file_extension": ".r",
            "mimetype": "text/x-r-source",
            "name": "R",
            "pygments_lexer": "r",
            "version": "3.4.1"
        }
    },
    "nbformat": 4,
    "nbformat_minor": 1
}
