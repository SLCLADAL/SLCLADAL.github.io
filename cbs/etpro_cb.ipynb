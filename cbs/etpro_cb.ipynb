{
    "cells": [
        {
            "cell_type": "markdown",
            "metadata": {},
            "source": [
                "# Introduction{-}\n",
                "\n",
                "This document contains a shortened version of the processing chain that was shown in the workshop *Processing and Analyzing Eye-Tracking Data in R* in the AcqVA Aurora Center at the Arctic University of Norway, Tromsø. The R Markdown document for the tutorial can be downloaded [here](https://slcladal.github.io/etpro.Rmd) and the bib library [here](https://slcladal.github.io/bibliography.bib). You will find very helpful and detailed tutorials on how to perform analyses and visualize eye-tracking data using `eyetrackeR` [here](http://www.eyetracking-r.com/).\n",
                "\n",
                "## Preparation\n"
            ]
        },
        {
            "cell_type": "code",
            "execution_count": null,
            "metadata": {},
            "outputs": [],
            "source": [
                "install.packages(c(\"tidyverse\", \"eyetrackingR\", \"data.table\", \"itsadug\", \"sjPlot\", \"lme4\")\n",
                "\n"
            ]
        },
        {
            "cell_type": "markdown",
            "metadata": {},
            "source": "\n"
        },
        {
            "cell_type": "code",
            "execution_count": null,
            "metadata": {},
            "outputs": [],
            "source": [
                "# set options\n",
                "options(stringsAsFactors = F)          # no automatic data transformation\n",
                "options(\"scipen\" = 100, \"digits\" = 10) # suppress math annotation\n",
                "# load packages\n",
                "library(tidyverse)\n",
                "library(eyetrackingR)\n",
                "library(data.table)\n",
                "library(itsadug)\n",
                "library(lme4)\n",
                "library(sjPlot)\n"
            ]
        },
        {
            "cell_type": "markdown",
            "metadata": {},
            "source": "\n"
        },
        {
            "cell_type": "code",
            "execution_count": null,
            "metadata": {},
            "outputs": [],
            "source": [
                "# load packages for website\n",
                "library(knitr) \n",
                "library(kableExtra) \n",
                "library(DT)\n"
            ]
        },
        {
            "cell_type": "markdown",
            "metadata": {},
            "source": [
                "# Data processing\n",
                "\n",
                "## Define paths{-}\n"
            ]
        },
        {
            "cell_type": "code",
            "execution_count": null,
            "metadata": {},
            "outputs": [],
            "source": [
                "datapath <- here::here(\"data/data_exp_50674-v2\", \"uploads\")\n",
                "masterpath <- here::here(\"data/data_exp_50674-v2\", \"data_exp_50674-v2_task-etfm.csv\")\n"
            ]
        },
        {
            "cell_type": "markdown",
            "metadata": {},
            "source": [
                "## Load data{-}\n",
                "\n"
            ]
        },
        {
            "cell_type": "code",
            "execution_count": null,
            "metadata": {},
            "outputs": [],
            "source": [
                "# get list of spreadsheets\n",
                "fls <- list.files(datapath, full.names = T)\n",
                "fls <- fls[2:length(fls)]\n",
                "# create list of tables\n",
                "datls <- lapply(fls, function(x){\n",
                "  name <- x\n",
                "  x <- readxl::read_xlsx(x) %>%\n",
                "    dplyr::mutate(idname = name) %>%\n",
                "    dplyr::mutate(trial = stringr::str_remove_all(name, \".*collection-\"))  %>%\n",
                "    dplyr::mutate(trial = stringr::str_remove_all(trial, \"-.*\"))\n",
                "  })\n",
                "# combine spreadsheets into a single data frame\n",
                "edat <- data.table::rbindlist(datls) %>%\n",
                "  dplyr::mutate(id = 1:nrow(.)) %>%\n",
                "  dplyr::mutate(participant_id = factor(participant_id),\n",
                "                trial = factor(trial))\n",
                "# extract boundary data\n",
                "ibs <- edat %>%\n",
                "  dplyr::select(participant_id, trial, zone_name, zone_x, zone_y,zone_width, zone_height) %>%\n",
                "  # get rid of superfluous rows\n",
                "  dplyr::filter(zone_name == \"Right\"|zone_name == \"Left\") %>%\n",
                "  na.omit() %>%\n",
                "  # define image boundaries\n",
                "  dplyr::mutate(top = zone_y,\n",
                "                bottom = zone_y + zone_width,\n",
                "                left = zone_x,\n",
                "                right = zone_x + zone_width) %>%\n",
                "  # remove superfluous columns\n",
                "  dplyr::select(-zone_x, -zone_y, -zone_width, -zone_height) %>%\n",
                "  dplyr::mutate(position = tolower(zone_name)) %>%\n",
                "  tidyr::gather(edge, coordinate, top:right) %>%\n",
                "  dplyr::mutate(position_edge = paste0(position, \"_\", edge, \"edge\")) %>%\n",
                "  dplyr::select(-zone_name, -position, -edge) %>%\n",
                "  tidyr::spread(position_edge, coordinate) %>%\n",
                "  dplyr::group_by(participant_id, trial) %>%\n",
                "  # create aoi\n",
                "  dplyr::summarise(left_bottomedge = left_bottomedge,\n",
                "                   left_leftedge = left_leftedge,\n",
                "                   left_rightedge = left_rightedge,\n",
                "                   left_topedge = left_topedge,\n",
                "                   right_bottomedge = right_bottomedge,\n",
                "                   right_leftedge = right_leftedge,\n",
                "                   right_rightedge = right_rightedge,\n",
                "                   right_topedge = right_topedge)\n"
            ]
        },
        {
            "cell_type": "markdown",
            "metadata": {},
            "source": [
                "## Process master file{-}\n",
                "\n"
            ]
        },
        {
            "cell_type": "code",
            "execution_count": null,
            "metadata": {},
            "outputs": [],
            "source": [
                "mstr <- read_csv(masterpath) %>%\n",
                "  # create participant column that matches the participant column in the data \n",
                "  dplyr::mutate(participant_id = `Participant Private ID`)\n",
                "# create reduced master file (no superfluous columns)\n",
                "mstr_redux <- mstr %>%\n",
                "  # select columns you need\n",
                "  dplyr::select(participant_id, `trial number`, condition, target_gender, \n",
                "                target_position, `Zone Type`, Response, Correct, target_item) %>%\n",
                "  # filter unique \n",
                "  unique() %>%\n",
                "  # remove rows containing NA\n",
                "  na.omit() %>%\n",
                "  # filter out superfluous rows\n",
                "  dplyr::filter(`Zone Type` == \"response_button_image\") %>%\n",
                "  dplyr::rename(trial = `trial number`) %>%\n",
                "  dplyr::mutate(trial = as.character(trial)) %>%\n",
                "  # convert participant_id and trial into factors\n",
                "  dplyr::mutate(participant_id = factor(participant_id),\n",
                "                trial = factor(trial))\n"
            ]
        },
        {
            "cell_type": "markdown",
            "metadata": {},
            "source": [
                "## Join data and masterfile{-}\n",
                "\n"
            ]
        },
        {
            "cell_type": "code",
            "execution_count": null,
            "metadata": {},
            "outputs": [],
            "source": [
                "edat <- edat %>%\n",
                "  # remove superfluous columns\n",
                "  dplyr::select(-`0`, -filename, -spreadsheet_row, -time_stamp, -screen_index, \n",
                "                -convergence, -zone_x, -zone_y, -zone_width,\n",
                "                -zone_height, -zone_x_normalised, -zone_y_normalised, -zone_width_normalised,\n",
                "                -zone_height_normalised, -idname, \n",
                "                \n",
                "                # WARNING: If you work with normalized values, REPLACE the following \n",
                "                # with their non-normalized counterparts!\n",
                "                \n",
                "                -x_pred_normalised, -y_pred_normalised) %>%\n",
                "  # convert participant_id and trial into factors\n",
                "  dplyr::mutate(participant_id = factor(participant_id),\n",
                "                trial = factor(trial)) %>%\n",
                "  # remove rows without gaze information\n",
                "  dplyr::filter(x_pred != 0,\n",
                "                y_pred != 0)\n",
                "edatibs <- left_join(edat, ibs, by = c(\"participant_id\", \"trial\"))\n",
                "edatibs <- edatibs %>%\n",
                "  # filter imprecise data points\n",
                "  dplyr::filter(face_conf >= .5)\n"
            ]
        },
        {
            "cell_type": "markdown",
            "metadata": {},
            "source": [
                "## Combining the data and metadata{-}\n",
                "\n",
                "Now we combine the collected data (`edatibs` = `edat` plus image boundaries `ibs`) with the metadata (the information from the reduced master file `mstr_redux`)\n"
            ]
        },
        {
            "cell_type": "code",
            "execution_count": null,
            "metadata": {},
            "outputs": [],
            "source": [
                "dat <- dplyr::left_join(edatibs, mstr_redux, by = c(\"participant_id\", \"trial\"))  %>%\n",
                "  # determine if participant's gaze was in AOI\n",
                "  dplyr::mutate(AOI = ifelse(\n",
                "    # if target is left image\n",
                "    target_position == \"left\" &\n",
                "      y_pred > left_topedge & \n",
                "      y_pred < left_bottomedge & \n",
                "      x_pred > left_leftedge & \n",
                "      x_pred < left_rightedge, 1,\n",
                "    # if target is right image\n",
                "    ifelse(target_position == \"right\" &\n",
                "             y_pred > right_topedge   & \n",
                "             y_pred < right_bottomedge &\n",
                "             x_pred  > right_leftedge & \n",
                "             x_pred <  right_rightedge, 1,\n",
                "           0)))\n"
            ]
        },
        {
            "cell_type": "markdown",
            "metadata": {},
            "source": [
                "## Binning{-}\n",
                "\n",
                "Define time bins (here 100 ms)\n"
            ]
        },
        {
            "cell_type": "code",
            "execution_count": null,
            "metadata": {},
            "outputs": [],
            "source": [
                "dat <- dat %>%\n",
                "  # arrange by participant, trial, and time\n",
                "  dplyr::arrange(participant_id, trial, time_elapsed) %>%\n",
                "  # bin times into .2 time bins\n",
                "  dplyr::mutate(TimeBin = itsadug::timeBins(time_elapsed, 100, pos=0))\n"
            ]
        },
        {
            "cell_type": "markdown",
            "metadata": {},
            "source": [
                "## Cleaning{-}\n",
                "\n"
            ]
        },
        {
            "cell_type": "code",
            "execution_count": null,
            "metadata": {},
            "outputs": [],
            "source": [
                "dat <- dat %>%\n",
                "  # clean condition (spelling error!)\n",
                "  dplyr::mutate(condition = dplyr::case_when(condition == \"color\" ~ \"color\",\n",
                "                                             condition == \"same\" ~ \"same\",\n",
                "                                             condition == \"different\" ~ \"different\",\n",
                "                                             condition == \"differernt\" ~ \"different\",\n",
                "                                             TRUE ~ condition)) %>%\n",
                "  # change correct from 0 vs 1 into correct vs incorrect\n",
                "  dplyr::mutate(Correct = ifelse(Correct == 1, \"Correct\",\n",
                "                                 ifelse(Correct == 0, \"Incorrect\", Correct)),\n",
                "                Correct = factor(Correct))\n"
            ]
        },
        {
            "cell_type": "markdown",
            "metadata": {},
            "source": [
                "## Getting rid of incorrect observations\n",
                "\n"
            ]
        },
        {
            "cell_type": "code",
            "execution_count": null,
            "metadata": {},
            "outputs": [],
            "source": [
                "dat <- dat %>%\n",
                "  dplyr::filter(Correct != \"Incorrect\")\n"
            ]
        },
        {
            "cell_type": "markdown",
            "metadata": {},
            "source": [
                "# Inspect processed data\n",
                "\n"
            ]
        },
        {
            "cell_type": "code",
            "execution_count": null,
            "metadata": {},
            "outputs": [],
            "source": [
                "dat %>%\n",
                "  head(10) %>%\n",
                "  kable(caption = \"First 10 rows of dat.\") %>%\n",
                "  kableExtra::kable_styling(bootstrap_options = c(\"striped\", \"hover\", \"condensed\", \"responsive\"), \n",
                "                            full_width = F)\n"
            ]
        },
        {
            "cell_type": "markdown",
            "metadata": {},
            "source": [
                "# Saving the data\n",
                "\n",
                "You can now save the data in your `data` folder, if you like.\n"
            ]
        },
        {
            "cell_type": "code",
            "execution_count": null,
            "metadata": {},
            "outputs": [],
            "source": [
                "write.table(dat, here::here(\"data\", \"dat.txt\"), sep = \"\\t\", row.names = F)\n",
                "\n"
            ]
        },
        {
            "cell_type": "markdown",
            "metadata": {},
            "source": [
                "To re-load this data, you would have use the following command:\n",
                "\n"
            ]
        },
        {
            "cell_type": "code",
            "execution_count": null,
            "metadata": {},
            "outputs": [],
            "source": [
                "dat <- read.delim(here::here(\"data\", \"dat.txt\"), sep = \"\\t\")\n",
                "\n"
            ]
        },
        {
            "cell_type": "markdown",
            "metadata": {},
            "source": [
                "# Citation & Session Info {-}\n",
                "\n",
                "Schweinberger, Martin. `r format(Sys.time(), '%Y')`. *AcqVA Aurora Guide to Processing Eye-Tracking Data in R*. Tromsø: The Artic University of Norway. url: https://slcladal.github.io/etpro.html (Version `r format(Sys.time(), '%Y.%m.%d')`).\n"
            ]
        },
        {
            "cell_type": "code",
            "execution_count": null,
            "metadata": {},
            "outputs": [],
            "source": [
                "@manual{schweinberger`r format(Sys.time(), '%Y')`etpro,\n",
                "  author = {Schweinberger, Martin},\n",
                "  title = {AcqVA Aurora Guide to Processing Eye-Tracking Data in R},\n",
                "  note = {https://slcladal.github.io/eyews.html},\n",
                "  year = {2021},\n",
                "  organization = \"Arctic University of Norway, AcqVA Aurora Center},\n",
                "  address = {Tromsø},\n",
                "  edition = {`r format(Sys.time(), '%Y.%m.%d')`}\n",
                "}\n"
            ]
        },
        {
            "cell_type": "markdown",
            "metadata": {},
            "source": [
                "***\n",
                "\n",
                "[Back to top](#introduction)\n",
                "\n",
                "***\n"
            ]
        }
    ],
    "metadata": {
        "anaconda-cloud": "",
        "kernelspec": {
            "display_name": "R",
            "langauge": "R",
            "name": "ir"
        },
        "language_info": {
            "codemirror_mode": "r",
            "file_extension": ".r",
            "mimetype": "text/x-r-source",
            "name": "R",
            "pygments_lexer": "r",
            "version": "3.4.1"
        }
    },
    "nbformat": 4,
    "nbformat_minor": 1
}
