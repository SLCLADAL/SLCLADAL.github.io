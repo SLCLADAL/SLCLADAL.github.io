{
    "cells": [
        {
            "cell_type": "markdown",
            "metadata": {},
            "source": [
                "<!--html_preserve-->\n",
                "<!-- Global site tag (gtag.js) - Google Analytics -->\n",
                "<script async src=\"https://www.googletagmanager.com/gtag/js?id=UA-130562131-1\"><\/script>\n",
                "<script>\n",
                "  window.dataLayer = window.dataLayer || [];\n",
                "  function gtag(){dataLayer.push(arguments);}\n",
                "  gtag('js', new Date());\n",
                "\n",
                "  gtag('config', 'UA-130562131-1');\n",
                "<\/script>\n",
                "<!--/html_preserve-->\n"
            ]
        },
        {
            "cell_type": "code",
            "execution_count": null,
            "metadata": {},
            "outputs": [],
            "source": [
                "knitr::include_graphics(\"https://slcladal.github.io/images/uq1.jpg\")\n",
                "\n"
            ]
        },
        {
            "cell_type": "markdown",
            "metadata": {},
            "source": [
                "# Introduction{-}\n",
                "\n",
                "This tutorial introduces string processing and this can be used when working with language data. The entire code for the sections below can be downloaded [here](https://slcladal.github.io/string.Rmd).\n",
                "\n",
                "## Preparation and session set up{-}\n",
                "\n",
                "This tutorial is based on R. If you have not installed R or are new to it, you will find an introduction to and more information how to use R [here](https://slcladal.github.io/intror.html). For this tutorials, we need to install certain *packages* from an R *library* so that the scripts shown below are executed without errors. Before turning to the code below, please install the packages by running the code below this paragraph. If you have already installed the packages mentioned below, then you can skip ahead ignore this section. To install the necessary packages, simply run the following code - it may take some time (between 1 and 5 minutes to install all of the packages so you do not need to worry if it takes some time).\n"
            ]
        },
        {
            "cell_type": "code",
            "execution_count": null,
            "metadata": {},
            "outputs": [],
            "source": [
                "# install packages\n",
                "install.packages(\"tidyverse\")\n",
                "# install klippy for copy-to-clipboard button in code chunks\n",
                "remotes::install_github(\"rlesur/klippy\")\n"
            ]
        },
        {
            "cell_type": "markdown",
            "metadata": {},
            "source": [
                "Now that we have installed the packages, we can activate them as shown below.\n",
                "\n"
            ]
        },
        {
            "cell_type": "code",
            "execution_count": null,
            "metadata": {},
            "outputs": [],
            "source": [
                "# set options\n",
                "options(stringsAsFactors = F)         # no automatic data transformation\n",
                "options(\"scipen\" = 100, \"digits\" = 4) # suppress math annotation\n",
                "# load packages for website\n",
                "library(tidyverse)\n",
                "# activate klippy for copy-to-clipboard button\n",
                "klippy::klippy()\n"
            ]
        },
        {
            "cell_type": "markdown",
            "metadata": {},
            "source": [
                "Once you have installed RStudio and initiated the session by executing the code shown above, you are good to go.\n",
                "\n",
                "# Base String Processing{-}\n",
                "\n",
                "Before we start with string processing, we will load some example texts on which we will perform the processing. \n"
            ]
        },
        {
            "cell_type": "code",
            "execution_count": null,
            "metadata": {},
            "outputs": [],
            "source": [
                "# read in text\n",
                "exampletext  <- base::readRDS(url(\"https://slcladal.github.io/data/tx1.rda\", \"rb\"))\n",
                "# inspect\n",
                "exampletext\n"
            ]
        },
        {
            "cell_type": "markdown",
            "metadata": {},
            "source": [
                "This first example text represents a paragraph about grammar.\n",
                "\n"
            ]
        },
        {
            "cell_type": "code",
            "execution_count": null,
            "metadata": {},
            "outputs": [],
            "source": [
                "# read in text\n",
                "splitexampletext  <- base::readRDS(url(\"https://slcladal.github.io/data/tx2.rda\", \"rb\"))\n",
                "# inspect\n",
                "splitexampletext\n"
            ]
        },
        {
            "cell_type": "markdown",
            "metadata": {},
            "source": [
                "This second example text represents the same paragraph about grammar, but split into individual sentences.\n",
                "\n"
            ]
        },
        {
            "cell_type": "code",
            "execution_count": null,
            "metadata": {},
            "outputs": [],
            "source": [
                "additionaltext  <- base::readRDS(url(\"https://slcladal.github.io/data/tx3.rda\", \"rb\"))\n",
                "# inspect\n",
                "additionaltext\n"
            ]
        },
        {
            "cell_type": "markdown",
            "metadata": {},
            "source": [
                "The third example text represents a paragraph about Ferdinand de Saussure - the founder of modern linguistics. \n",
                "\n"
            ]
        },
        {
            "cell_type": "code",
            "execution_count": null,
            "metadata": {},
            "outputs": [],
            "source": [
                "sentences  <- base::readRDS(url(\"https://slcladal.github.io/data/tx4.rda\", \"rb\"))\n",
                "# inspect\n",
                "sentences\n"
            ]
        },
        {
            "cell_type": "markdown",
            "metadata": {},
            "source": [
                "The third example text consist of 3 short plain sentences. \n",
                "\n",
                "In the following, we will perform various operations on the example text using only in-build, or `base`, functions.\n",
                "\n",
                "The function `substr` extracts a substring from the text by position (position is the character position, i.e. the first character has position 1, the second character position 2, etc.).\n"
            ]
        },
        {
            "cell_type": "code",
            "execution_count": null,
            "metadata": {},
            "outputs": [],
            "source": [
                "# extract substring by position\n",
                "substr(exampletext, start=14, stop=30)\n"
            ]
        },
        {
            "cell_type": "markdown",
            "metadata": {},
            "source": [
                "The function `grep` informs whether a pattern is present in a text (or in a series of texts) with 1 indicating *yes* and 0 indicating *no*.\n",
                "\n"
            ]
        },
        {
            "cell_type": "code",
            "execution_count": null,
            "metadata": {},
            "outputs": [],
            "source": [
                "# find substring\n",
                "grep(\"language\", splitexampletext, value=FALSE, ignore.case=FALSE, fixed=FALSE)\n"
            ]
        },
        {
            "cell_type": "markdown",
            "metadata": {},
            "source": [
                "When the argument `value` is set to `TRUE`, grep returns the element in which the match occurs but not the elements in which is does not occur.\n",
                "\n"
            ]
        },
        {
            "cell_type": "code",
            "execution_count": null,
            "metadata": {},
            "outputs": [],
            "source": [
                "# find substring\n",
                "grep(\"language\", splitexampletext, value=TRUE, ignore.case=FALSE, fixed=FALSE)\n"
            ]
        },
        {
            "cell_type": "markdown",
            "metadata": {},
            "source": [
                "The function `grepl` returns a logical vector with `TRUE` if the pattern occurs in the string and `FALSE` if the pattern does not occur in the string.\n",
                "\n"
            ]
        },
        {
            "cell_type": "code",
            "execution_count": null,
            "metadata": {},
            "outputs": [],
            "source": [
                "# find substring\n",
                "grepl(\"language\", splitexampletext, ignore.case=FALSE, fixed=FALSE)\n"
            ]
        },
        {
            "cell_type": "markdown",
            "metadata": {},
            "source": [
                "The function `sub` replaces the first(!) occurrence of a pattern with another pattern in a given text.\n",
                "\n"
            ]
        },
        {
            "cell_type": "code",
            "execution_count": null,
            "metadata": {},
            "outputs": [],
            "source": [
                "sub(\"and\", \"AND\", exampletext, ignore.case=FALSE, fixed=FALSE)\n",
                "\n"
            ]
        },
        {
            "cell_type": "markdown",
            "metadata": {},
            "source": [
                "The function `gsub` replaces all occurrences of a pattern with another pattern in a given text.\n",
                "\n"
            ]
        },
        {
            "cell_type": "code",
            "execution_count": null,
            "metadata": {},
            "outputs": [],
            "source": [
                "gsub(\"and\", \"AND\", exampletext, ignore.case=FALSE, fixed=FALSE)\n",
                "\n"
            ]
        },
        {
            "cell_type": "markdown",
            "metadata": {},
            "source": [
                "The function `gregexpr` informs about if a pattern is present in a text and if so where the pattern begins and how long it is.\n",
                "\n"
            ]
        },
        {
            "cell_type": "code",
            "execution_count": null,
            "metadata": {},
            "outputs": [],
            "source": [
                "gregexpr(\"and\", exampletext, ignore.case=FALSE, perl=FALSE,\n",
                "fixed=FALSE)\n"
            ]
        },
        {
            "cell_type": "markdown",
            "metadata": {},
            "source": [
                "The function `strsplit` splits a text if a pattern occurs. The pattern itself is then no longer present in the result (the . is no longer present in the result).\n",
                "\n"
            ]
        },
        {
            "cell_type": "code",
            "execution_count": null,
            "metadata": {},
            "outputs": [],
            "source": [
                "strsplit(exampletext, \"\\\\. \")\n",
                "\n"
            ]
        },
        {
            "cell_type": "markdown",
            "metadata": {},
            "source": [
                "On way to get around this is to first replace the pattern with some sequence that does not occur in the text the `gsub` function and then splitting on the newly introduced sequence. This way, the original text remains intact. \n",
                "\n"
            ]
        },
        {
            "cell_type": "code",
            "execution_count": null,
            "metadata": {},
            "outputs": [],
            "source": [
                "strsplit(gsub(\"(\\\\.) \", \"\\\\1somestring\", exampletext), \"somestring\")\n",
                "\n"
            ]
        },
        {
            "cell_type": "markdown",
            "metadata": {},
            "source": [
                "The function `paste` combines texts and the arguments `sep` and `collapse` are there to specify what should occur *between* the combined texts. \n",
                "\n"
            ]
        },
        {
            "cell_type": "code",
            "execution_count": null,
            "metadata": {},
            "outputs": [],
            "source": [
                "paste(splitexampletext, sep=\" \", collapse= \" \")\n",
                "\n"
            ]
        },
        {
            "cell_type": "markdown",
            "metadata": {},
            "source": [
                "The function `toupper` converts text characters to upper case. \n",
                "\n"
            ]
        },
        {
            "cell_type": "code",
            "execution_count": null,
            "metadata": {},
            "outputs": [],
            "source": [
                "toupper(exampletext)\n",
                "\n"
            ]
        },
        {
            "cell_type": "markdown",
            "metadata": {},
            "source": [
                "The function `tolower` converts text characters to lower case. \n",
                "\n"
            ]
        },
        {
            "cell_type": "code",
            "execution_count": null,
            "metadata": {},
            "outputs": [],
            "source": [
                "tolower(exampletext)\n",
                "\n"
            ]
        },
        {
            "cell_type": "markdown",
            "metadata": {},
            "source": [
                "The function `nchar` provides the number of characters of a text. \n",
                "\n"
            ]
        },
        {
            "cell_type": "code",
            "execution_count": null,
            "metadata": {},
            "outputs": [],
            "source": [
                "nchar(exampletext)\n",
                "\n"
            ]
        },
        {
            "cell_type": "markdown",
            "metadata": {},
            "source": [
                "***\n",
                "\n",
                "<div class=\"warning\" style='padding:0.1em; background-color:#51247a; color:#f2f2f2'>\n",
                "<span>\n",
                "<p style='margin-top:1em; text-align:center'>\n",
                "<b>EXERCISE TIME!<\/b><\/p>\n",
                "<p style='margin-left:1em;'>\n",
                "<\/p><\/span>\n",
                "<\/div>\n",
                "\n",
                "<div class=\"question\">` \n",
                "\n",
                "1. Load the text `linguistics04`. How many words does the text consist of?\n",
                "\n",
                "<details>\n",
                "  <summary>Answer<\/summary>\n",
                "  ```{r message=FALSE, warning=FALSE}\n",
                "  readLines(\"https://slcladal.github.io/data/testcorpus/linguistics04.txt\") %>%\n",
                "  paste0(collapse = \" \") %>%\n",
                "  strsplit(\" \") %>%\n",
                "  unlist() %>%\n",
                "  length()\n",
                "  ```\n",
                "<\/details>\n",
                "\n",
                "2. How many characters does the text consist of?\n",
                "\n",
                "<details>\n",
                "  <summary>Answer<\/summary>\n",
                "  ```{r message=FALSE, warning=FALSE}\n",
                "  readLines(\"https://slcladal.github.io/data/testcorpus/linguistics04.txt\") %>%\n",
                "  paste0(collapse = \" \") %>%\n",
                "  strsplit(\"\") %>%\n",
                "  unlist() %>%\n",
                "  length()\n",
                "  ```\n",
                "<\/details>\n",
                "\n",
                "<\/div>`\n",
                "\n",
                "***\n",
                "\n",
                "These are the most common `base` functions for string operations is R. We will now turn to string operating functions in the `stringr` package. \n",
                "\n",
                "# Tidy String Processing{-}\n",
                "\n",
                "The package `stringr` is part of the so-called *tidyverse* - a collection of packages that allows to write R code in a readable manner - and it is the most widely used package for string processing in . The advantage of using `stringr` is that it makes string processing very easy. All `stringr` functions share a common structure:\n",
                "\n",
                "`str_function(string, pattern)`\n",
                "\n",
                "The two arguments in the structure of `stringr` functions are:  *string* which is the character string to be processed and a pattern which is either a simple sequence of characters, a regular expression, or a combination of both. Because the *string* comes first, the `stringr` functions are ideal for piping and thus use in tidyverse style R. \n",
                "\n",
                "All function names of `stringr` begin with str, then an underscore and then the name of the action to be performed.  For example, to replace the first occurrence of a pattern in a string, we should use `str_replace()`. In the following, we will use `stringr` functions to perform various operations on the example text. As we have already loaded the `tidyverse` package, we can start right away with using `stringr` functions as shown below.\n",
                "\n",
                "Like `nchar` in `base`, `str_count` provides the number of characters of a text.\n"
            ]
        },
        {
            "cell_type": "code",
            "execution_count": null,
            "metadata": {},
            "outputs": [],
            "source": [
                "str_count(splitexampletext)\n",
                "\n"
            ]
        },
        {
            "cell_type": "markdown",
            "metadata": {},
            "source": [
                "The function `str_detect` informs about whether a pattern is present in a text and outputs a logical vector with *TRUE* if the pattern occurs and *FALSE* if it does not.\n",
                "\n"
            ]
        },
        {
            "cell_type": "code",
            "execution_count": null,
            "metadata": {},
            "outputs": [],
            "source": [
                "str_detect(splitexampletext, \"and\")\n",
                "\n"
            ]
        },
        {
            "cell_type": "markdown",
            "metadata": {},
            "source": [
                "The function `str_extract` extracts the first occurrence of a pattern, if that pattern is present in a text.\n",
                "\n"
            ]
        },
        {
            "cell_type": "code",
            "execution_count": null,
            "metadata": {},
            "outputs": [],
            "source": [
                "str_extract(exampletext, \"and\")\n",
                "\n"
            ]
        },
        {
            "cell_type": "markdown",
            "metadata": {},
            "source": [
                "The function `str_extract_all` extracts all occurrences of a pattern, if that pattern is present in a text.\n",
                "\n"
            ]
        },
        {
            "cell_type": "code",
            "execution_count": null,
            "metadata": {},
            "outputs": [],
            "source": [
                "str_extract_all(exampletext, \"and\")\n",
                "\n"
            ]
        },
        {
            "cell_type": "markdown",
            "metadata": {},
            "source": [
                "The function `str_locate` provides the start and end position of the match of the pattern in a text.\n",
                "\n"
            ]
        },
        {
            "cell_type": "code",
            "execution_count": null,
            "metadata": {},
            "outputs": [],
            "source": [
                "str_locate(exampletext, \"and\") \n",
                "\n"
            ]
        },
        {
            "cell_type": "markdown",
            "metadata": {},
            "source": [
                "The function `str_locate_all` provides the start and end positions of the match of the pattern in a text and displays the result in matrix-form.\n",
                "\n"
            ]
        },
        {
            "cell_type": "code",
            "execution_count": null,
            "metadata": {},
            "outputs": [],
            "source": [
                "str_locate_all(exampletext, \"and\")\n",
                "\n"
            ]
        },
        {
            "cell_type": "markdown",
            "metadata": {},
            "source": [
                "The function `str_match` extracts the first occurrence of the pattern in a text.\n",
                "\n"
            ]
        },
        {
            "cell_type": "code",
            "execution_count": null,
            "metadata": {},
            "outputs": [],
            "source": [
                "str_match(exampletext, \"and\") \n",
                "\n"
            ]
        },
        {
            "cell_type": "markdown",
            "metadata": {},
            "source": [
                "The function `str_match_all` extracts the all occurrences of the pattern from a text.\n",
                "\n"
            ]
        },
        {
            "cell_type": "code",
            "execution_count": null,
            "metadata": {},
            "outputs": [],
            "source": [
                "str_match_all(exampletext, \"and\")\n",
                "\n"
            ]
        },
        {
            "cell_type": "markdown",
            "metadata": {},
            "source": [
                "The function `str_remove` removes the first occurrence of a pattern in a text.\n",
                "\n"
            ]
        },
        {
            "cell_type": "code",
            "execution_count": null,
            "metadata": {},
            "outputs": [],
            "source": [
                "str_remove(exampletext, \"and\") \n",
                "\n"
            ]
        },
        {
            "cell_type": "markdown",
            "metadata": {},
            "source": [
                "The function `str_remove_all` removes all occurrences of a pattern from a text.\n",
                "\n"
            ]
        },
        {
            "cell_type": "code",
            "execution_count": null,
            "metadata": {},
            "outputs": [],
            "source": [
                "str_remove_all(exampletext, \"and\")\n",
                "\n"
            ]
        },
        {
            "cell_type": "markdown",
            "metadata": {},
            "source": [
                "The function `str_replace` replaces the first occurrence of a pattern with something else in a text.\n",
                "\n"
            ]
        },
        {
            "cell_type": "code",
            "execution_count": null,
            "metadata": {},
            "outputs": [],
            "source": [
                "str_replace(exampletext, \"and\", \"AND\")\n",
                "\n"
            ]
        },
        {
            "cell_type": "markdown",
            "metadata": {},
            "source": [
                "The function `str_replace_all` replaces all occurrences of a pattern with something else in a text.\n",
                "\n"
            ]
        },
        {
            "cell_type": "code",
            "execution_count": null,
            "metadata": {},
            "outputs": [],
            "source": [
                "str_replace_all(exampletext, \"and\", \"AND\")\n",
                "\n"
            ]
        },
        {
            "cell_type": "markdown",
            "metadata": {},
            "source": [
                "The function `str_starts` tests whether a given text begins with a certain pattern and outputs a logical vector.\n",
                "\n"
            ]
        },
        {
            "cell_type": "code",
            "execution_count": null,
            "metadata": {},
            "outputs": [],
            "source": [
                "str_starts(exampletext, \"and\") \n",
                "\n"
            ]
        },
        {
            "cell_type": "markdown",
            "metadata": {},
            "source": [
                "The function `str_ends` tests whether a text ends with a certain pattern and outputs a logical vector.\n",
                "\n"
            ]
        },
        {
            "cell_type": "code",
            "execution_count": null,
            "metadata": {},
            "outputs": [],
            "source": [
                "str_ends(exampletext, \"and\")\n",
                "\n"
            ]
        },
        {
            "cell_type": "markdown",
            "metadata": {},
            "source": [
                "Like `strsplit`, the function `str_split` splits a text when a given pattern occurs. If no pattern is provided, then the text is split into individual symbols.\n",
                "\n"
            ]
        },
        {
            "cell_type": "code",
            "execution_count": null,
            "metadata": {},
            "outputs": [],
            "source": [
                "str_split(exampletext, \"and\") \n",
                "\n"
            ]
        },
        {
            "cell_type": "markdown",
            "metadata": {},
            "source": [
                "The function `str_split_fixed` splits a text when a given pattern occurs but only so often as is indicated by the argument `n`. So, even if the patter occur more often than `n`, `str_split_fixed` will only split the text `n` times.\n",
                "\n"
            ]
        },
        {
            "cell_type": "code",
            "execution_count": null,
            "metadata": {},
            "outputs": [],
            "source": [
                "str_split_fixed(exampletext, \"and\", n = 3)\n",
                "\n"
            ]
        },
        {
            "cell_type": "markdown",
            "metadata": {},
            "source": [
                "The function `str_subset` extracts those subsets of a text that contain a certain pattern.  \n",
                "\n"
            ]
        },
        {
            "cell_type": "code",
            "execution_count": null,
            "metadata": {},
            "outputs": [],
            "source": [
                "str_subset(splitexampletext, \"and\") \n",
                "\n"
            ]
        },
        {
            "cell_type": "markdown",
            "metadata": {},
            "source": [
                "The function `str_which` provides a vector with the indices of the texts that contain a certain pattern. \n",
                "\n"
            ]
        },
        {
            "cell_type": "code",
            "execution_count": null,
            "metadata": {},
            "outputs": [],
            "source": [
                "str_which(splitexampletext, \"and\")\n",
                "\n"
            ]
        },
        {
            "cell_type": "markdown",
            "metadata": {},
            "source": [
                "The function `str_view` shows the locations of the first instances of a pattern in a text or vector of texts.\n",
                "\n"
            ]
        },
        {
            "cell_type": "code",
            "execution_count": null,
            "metadata": {},
            "outputs": [],
            "source": [
                "str_view(splitexampletext, \"and\")\n",
                "\n"
            ]
        },
        {
            "cell_type": "markdown",
            "metadata": {},
            "source": [
                "The function `str_view_all` shows the locations of all instances of a pattern in a text or vector of texts.\n",
                "\n"
            ]
        },
        {
            "cell_type": "code",
            "execution_count": null,
            "metadata": {},
            "outputs": [],
            "source": [
                "str_view_all(exampletext, \"and\")\n",
                "\n"
            ]
        },
        {
            "cell_type": "markdown",
            "metadata": {},
            "source": [
                "The function `str_pad` adds white spaces to a text or vector of texts so that they reach a given number of symbols.\n",
                "\n"
            ]
        },
        {
            "cell_type": "code",
            "execution_count": null,
            "metadata": {},
            "outputs": [],
            "source": [
                "# cretae text with white spaces\n",
                "text <- \" this    is a    text   \"\n",
                "str_pad(text, width = 30)\n"
            ]
        },
        {
            "cell_type": "markdown",
            "metadata": {},
            "source": [
                "The function `str_trim` removes white spaces from the beginning(s) and end(s) of a text or vector of texts.\n",
                "\n"
            ]
        },
        {
            "cell_type": "code",
            "execution_count": null,
            "metadata": {},
            "outputs": [],
            "source": [
                "str_trim(text) \n",
                "\n"
            ]
        },
        {
            "cell_type": "markdown",
            "metadata": {},
            "source": [
                "The function `str_squish` removes white spaces that occur within a text or vector of texts.\n",
                "\n"
            ]
        },
        {
            "cell_type": "code",
            "execution_count": null,
            "metadata": {},
            "outputs": [],
            "source": [
                "str_squish(text)\n",
                "\n"
            ]
        },
        {
            "cell_type": "markdown",
            "metadata": {},
            "source": [
                "The function `str_wrap` removes white spaces  from the beginning(s) and end(s) of a text or vector of texts and also those white spaces that occur within a text or vector of texts.\n",
                "\n"
            ]
        },
        {
            "cell_type": "code",
            "execution_count": null,
            "metadata": {},
            "outputs": [],
            "source": [
                "str_wrap(text)\n",
                "\n"
            ]
        },
        {
            "cell_type": "markdown",
            "metadata": {},
            "source": [
                "The function `str_order` provides a vector that represents the order of a vector of texts according to the lengths of texts in that vector.\n",
                "\n"
            ]
        },
        {
            "cell_type": "code",
            "execution_count": null,
            "metadata": {},
            "outputs": [],
            "source": [
                "str_order(splitexampletext)\n",
                "\n"
            ]
        },
        {
            "cell_type": "markdown",
            "metadata": {},
            "source": [
                "The function `str_sort` orders of a vector of texts according to the lengths of texts in that vector.\n",
                "\n"
            ]
        },
        {
            "cell_type": "code",
            "execution_count": null,
            "metadata": {},
            "outputs": [],
            "source": [
                "str_sort(splitexampletext)\n",
                "\n"
            ]
        },
        {
            "cell_type": "markdown",
            "metadata": {},
            "source": [
                "The function `str_to_upper` converts all symbols in a text or vector of texts to upper case.\n",
                "\n"
            ]
        },
        {
            "cell_type": "code",
            "execution_count": null,
            "metadata": {},
            "outputs": [],
            "source": [
                "str_to_upper(exampletext) \n",
                "\n"
            ]
        },
        {
            "cell_type": "markdown",
            "metadata": {},
            "source": [
                "The function `str_to_lower` converts all symbols in a text or vector of texts to lower case.\n",
                "\n"
            ]
        },
        {
            "cell_type": "code",
            "execution_count": null,
            "metadata": {},
            "outputs": [],
            "source": [
                "str_to_lower(exampletext) \n",
                "\n"
            ]
        },
        {
            "cell_type": "markdown",
            "metadata": {},
            "source": [
                "The function `str_c` combines texts into one text\n",
                "\n"
            ]
        },
        {
            "cell_type": "code",
            "execution_count": null,
            "metadata": {},
            "outputs": [],
            "source": [
                "str_c(exampletext, additionaltext)\n",
                "\n"
            ]
        },
        {
            "cell_type": "markdown",
            "metadata": {},
            "source": [
                "The function `str_conv` converts a text into a certain type of encoding, e.g. into `UTF-8` or `Latin1`.\n",
                "\n"
            ]
        },
        {
            "cell_type": "code",
            "execution_count": null,
            "metadata": {},
            "outputs": [],
            "source": [
                "str_conv(exampletext, encoding = \"UTF-8\")\n",
                "\n"
            ]
        },
        {
            "cell_type": "markdown",
            "metadata": {},
            "source": [
                "The function `str_dup` reduplicates a text or a vector of texts n times.\n",
                "\n"
            ]
        },
        {
            "cell_type": "code",
            "execution_count": null,
            "metadata": {},
            "outputs": [],
            "source": [
                "str_dup(exampletext, times=2)\n",
                "\n"
            ]
        },
        {
            "cell_type": "markdown",
            "metadata": {},
            "source": [
                "The function `str_flatten` combines a vector of texts into one text. The argument `collapse` defines the symbol that occurs between the combined texts. If the argument `collapse` is left out, the texts will be combined without any symbol between the combined texts.\n",
                "\n"
            ]
        },
        {
            "cell_type": "code",
            "execution_count": null,
            "metadata": {},
            "outputs": [],
            "source": [
                "str_flatten(sentences, collapse = \" \")\n",
                "\n"
            ]
        },
        {
            "cell_type": "markdown",
            "metadata": {},
            "source": [
                " If the argument `collapse` is left out, the texts will be combined without any symbol between the combined texts.\n",
                "\n"
            ]
        },
        {
            "cell_type": "code",
            "execution_count": null,
            "metadata": {},
            "outputs": [],
            "source": [
                "str_flatten(sentences)\n",
                "\n"
            ]
        },
        {
            "cell_type": "markdown",
            "metadata": {},
            "source": [
                "The function `str_length` provides the length of texts in characters.\n",
                "\n"
            ]
        },
        {
            "cell_type": "code",
            "execution_count": null,
            "metadata": {},
            "outputs": [],
            "source": [
                "str_length(exampletext)\n",
                "\n"
            ]
        },
        {
            "cell_type": "markdown",
            "metadata": {},
            "source": [
                "The function `str_replace_na` replaces NA in texts. It is important to note that NA, if it occurs within a string, is considered to be the literal string `NA`.\n",
                "\n"
            ]
        },
        {
            "cell_type": "code",
            "execution_count": null,
            "metadata": {},
            "outputs": [],
            "source": [
                "# create sentences with NA\n",
                "sentencesna <- c(\"Some text\", NA, \"Some more text\", \"Some NA text\")\n",
                "# apply str_replace_na function\n",
                "str_replace_na(sentencesna, replacement = \"Something new\")\n"
            ]
        },
        {
            "cell_type": "markdown",
            "metadata": {},
            "source": [
                "The function `str_trunc` ends strings with ... after a certain number of characters.\n",
                "\n"
            ]
        },
        {
            "cell_type": "code",
            "execution_count": null,
            "metadata": {},
            "outputs": [],
            "source": [
                "str_trunc(sentences, width = 20)\n",
                "\n"
            ]
        },
        {
            "cell_type": "markdown",
            "metadata": {},
            "source": [
                "The function `str_sub` extracts a string from a text from a start location to an end position (expressed as character positions).\n",
                "\n"
            ]
        },
        {
            "cell_type": "code",
            "execution_count": null,
            "metadata": {},
            "outputs": [],
            "source": [
                "str_sub(exampletext, 5, 25)\n",
                "\n"
            ]
        },
        {
            "cell_type": "markdown",
            "metadata": {},
            "source": [
                "The function `word` extracts words from a text (expressed as word positions).\n",
                "\n"
            ]
        },
        {
            "cell_type": "code",
            "execution_count": null,
            "metadata": {},
            "outputs": [],
            "source": [
                "word(exampletext, 2:7)\n",
                "\n"
            ]
        },
        {
            "cell_type": "markdown",
            "metadata": {},
            "source": [
                "The function `str_glue` combines strings and allows to input variables.\n",
                "\n"
            ]
        },
        {
            "cell_type": "code",
            "execution_count": null,
            "metadata": {},
            "outputs": [],
            "source": [
                "name <- \"Fred\"\n",
                "age <- 50\n",
                "anniversary <- as.Date(\"1991-10-12\")\n",
                "str_glue(\n",
                "  \"My name is {name}, \",\n",
                "  \"my age next year is {age + 1}, \",\n",
                "  \"and my anniversary is {format(anniversary, '%A, %B %d, %Y')}.\"\n",
                ")\n"
            ]
        },
        {
            "cell_type": "markdown",
            "metadata": {},
            "source": [
                "The function `str_glue_data` is particularly useful when it is used in data pipelines. The data set `mtcars` is a build in data set that is loaded automatically when starting R.\n",
                "\n"
            ]
        },
        {
            "cell_type": "code",
            "execution_count": null,
            "metadata": {},
            "outputs": [],
            "source": [
                "mtcars %>% \n",
                "  str_glue_data(\"{rownames(.)} has {hp} hp\")\n"
            ]
        },
        {
            "cell_type": "markdown",
            "metadata": {},
            "source": [
                "***\n",
                "\n",
                "<div class=\"warning\" style='padding:0.1em; background-color:#51247a; color:#f2f2f2'>\n",
                "<span>\n",
                "<p style='margin-top:1em; text-align:center'>\n",
                "<b>EXERCISE TIME!<\/b><\/p>\n",
                "<p style='margin-left:1em;'>\n",
                "<\/p><\/span>\n",
                "<\/div>\n",
                "\n",
                "<div class=\"question\">` \n",
                "\n",
                "1. Load the text `linguistics04`. How many words does the text consist of?\n",
                "\n",
                "<details>\n",
                "  <summary>Answer<\/summary>\n",
                "  ```{r message=FALSE, warning=FALSE}\n",
                "  readLines(\"https://slcladal.github.io/data/testcorpus/linguistics04.txt\") %>%\n",
                "  paste0(collapse = \" \") %>%\n",
                "  strsplit(\" \") %>%\n",
                "  unlist() %>%\n",
                "  length()\n",
                "  ```\n",
                "<\/details>\n",
                "\n",
                "2. How many characters does the text consist of?\n",
                "\n",
                "<details>\n",
                "  <summary>Answer<\/summary>\n",
                "  ```{r message=FALSE, warning=FALSE}\n",
                "  readLines(\"https://slcladal.github.io/data/testcorpus/linguistics04.txt\") %>%\n",
                "  paste0(collapse = \" \") %>%\n",
                "  strsplit(\"\") %>%\n",
                "  unlist() %>%\n",
                "  length()\n",
                "  ```\n",
                "<\/details>\n",
                "\n",
                "<\/div>`\n",
                "\n",
                "***\n",
                "\n",
                "\n",
                "# Citation & Session Info {-}\n",
                "\n",
                "Schweinberger, Martin. `r format(Sys.time(), '%Y')`. *String processing in R*. Brisbane: The University of Queensland. url: https://slcladal.github.io/string.html (Version `r format(Sys.time(), '%Y.%m.%d')`).\n"
            ]
        },
        {
            "cell_type": "code",
            "execution_count": null,
            "metadata": {},
            "outputs": [],
            "source": [
                "@manual{schweinberger`r format(Sys.time(), '%Y')`string,\n",
                "  author = {Schweinberger, Martin},\n",
                "  title = {String processing in R},\n",
                "  note = {https://slcladal.github.io/string.html},\n",
                "  year = {`r format(Sys.time(), '%Y')`},\n",
                "  organization = {The University of Queensland, School of Languages and Cultures},\n",
                "  address = {Brisbane},\n",
                "  edition = {`r format(Sys.time(), '%Y.%m.%d')`}\n",
                "}\n"
            ]
        },
        {
            "cell_type": "markdown",
            "metadata": {},
            "source": [
                "\n",
                "\n"
            ]
        },
        {
            "cell_type": "code",
            "execution_count": null,
            "metadata": {},
            "outputs": [],
            "source": [
                "sessionInfo()\n",
                "\n"
            ]
        },
        {
            "cell_type": "markdown",
            "metadata": {},
            "source": [
                "***\n",
                "\n",
                "[Back to top](#introduction)\n",
                "\n",
                "[Back to HOME](https://slcladal.github.io/index.html)\n",
                "\n",
                "***\n",
                "\n",
                "\n",
                "# References{-}\n"
            ]
        }
    ],
    "metadata": {
        "anaconda-cloud": "",
        "kernelspec": {
            "display_name": "R",
            "langauge": "R",
            "name": "ir"
        },
        "language_info": {
            "codemirror_mode": "r",
            "file_extension": ".r",
            "mimetype": "text/x-r-source",
            "name": "R",
            "pygments_lexer": "r",
            "version": "3.4.1"
        }
    },
    "nbformat": 4,
    "nbformat_minor": 1
}
