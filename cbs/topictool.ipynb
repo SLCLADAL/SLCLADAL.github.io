{
    "cells": [
        {
            "cell_type": "markdown",
            "metadata": {},
            "source": [
                "![An interactive LADAL notebook](https://slcladal.github.io/images/uq1.jpg)\n",
                "\n",
                "# Topic-Model Tool\n",
                "\n",
                "This notebook-based tool accompanies the [Language Technology and Data Analysis Laboratory (LADAL) tutorial *Topic Modelling R*](https://ladal.edu.au/topicmodels.html). \n",
                "\n",
                "## Using your own data\n",
                "\n",
                "<div class=\"warning\" style='padding:0.1em; background-color: rgba(215,209,204,.3); color:#51247a'>\n",
                "<span>\n",
                "<p style='margin-top:1em; text-align:center'>\n",
                "To <b>use your own data<\/b>, click on the folder called <b>`MyTexts`<\/b> (it is in the menu to the left of the screen) and then simply drag and drop your txt-files into the folder. <br>When you then execute the code chunk below, you will upload your own data and you can then use it in this notebook.<br>You can upload <b>only txt-files<\/b> (simple unformatted files created in or saved by a text editor)! <br>The notebook assumes that you upload some form of text data - not tabular data!<br><br>\n",
                "<b>IMPORTANT: topic modeling works best if the texts are neither too short nor too long. Typically  paragraphs work best (texts above sentence level and below article length).<\/b>\n",
                "<br>\n",
                "<\/p>\n",
                "<p style='margin-left:1em;'>\n",
                "<\/p><\/span>\n",
                "<\/div>\n",
                "\n",
                "<br>\n"
            ]
        },
        {
            "cell_type": "code",
            "execution_count": null,
            "metadata": {},
            "outputs": [],
            "source": [
                "# load function that helps loading texts\n",
                "source(\"https://slcladal.github.io/rscripts/loadtxts.R\")\n",
                "# load texts\n",
                "corpus <- loadtxts(\"notebooks/MyTexts\")\n",
                "# inspect the structure of the text object\n",
                "str(corpus)\n"
            ]
        },
        {
            "cell_type": "markdown",
            "metadata": {},
            "source": [
                "## Cleaning and tokenising\n",
                "\n",
                "We start by cleaning the corpus data (by removing tags, artefacts and non-alpha-numeric characters) and then splitting the clean corpora into individual words.\n"
            ]
        },
        {
            "cell_type": "code",
            "execution_count": null,
            "metadata": {},
            "outputs": [],
            "source": [
                "# load function that helps loading texts\n",
                "source(\"https://slcladal.github.io/rscripts/preptop.R\")\n",
                "# clean corpus\n",
                "clean_dfm <- preptop(corpus)\n"
            ]
        },
        {
            "cell_type": "markdown",
            "metadata": {},
            "source": [
                "## Unsupervised LDA\n",
                "\n",
                "Now that we have cleaned the data, we can perform the topic modelling. This consists of two steps:\n",
                "\n",
                "1. First, we perform an unsupervised LDA. We do this to check what topics are in our corpus. \n",
                "\n",
                "2. Then, we perform a supervised LDA (based on the results of the unsupervised LDA) to identify meaningful topics in our data. For the supervised LDA, we define so-called *seed terms* that help in generating coherent topics.\n",
                "\n",
                "\n",
                "<div class=\"warning\" style='padding:0.1em; background-color: rgba(215,209,204,.3); color:#51247a'>\n",
                "<span>\n",
                "<p style='margin-top:1em; text-align:center'>\n",
                "<b>In the code below, the default is to look for 10 topics but you will need to vary and adapt the number of topics (k) for your data and check what topics are in your data.<\/b>\n",
                "<br>\n",
                "<\/p><\/span>\n",
                "<\/div>\n",
                "\n",
                "<br>\n"
            ]
        },
        {
            "cell_type": "code",
            "execution_count": null,
            "metadata": {},
            "outputs": [],
            "source": [
                "# generate model: change k to different numbers, e.g. 5 or 15 and look for consistencies in the keywords for the topics below.\n",
                "tmlda <- topicmodels::LDA(clean_dfm, k = 10, control = list(seed = 1234))\n"
            ]
        },
        {
            "cell_type": "markdown",
            "metadata": {},
            "source": [
                "Now that the topic model has been generated, you can inspect it. The code chunk below will show the top 10 terms for each topic.\n",
                "\n"
            ]
        },
        {
            "cell_type": "code",
            "execution_count": null,
            "metadata": {},
            "outputs": [],
            "source": [
                "# load function that tabulates top terms of topics\n",
                "source(\"https://slcladal.github.io/rscripts/tabtop.R\")\n",
                "# inspect\n",
                "tabtop(tmlda, 10)\n"
            ]
        },
        {
            "cell_type": "markdown",
            "metadata": {},
            "source": [
                "## Supervised LDA\n",
                "\n",
                "Now, we perform a supervised LDA. Here we use the keywords extracted based on the unsupervised LDA as *seed terms* for topics to create coherent topics.\n",
                "\n",
                "<div class=\"warning\" style='padding:0.1em; background-color: rgba(215,209,204,.3); color:#51247a'>\n",
                "<span>\n",
                "<p style='margin-top:1em; text-align:center'>\n",
                "<b>IMPORTANT: you need to change and adapt the topics and keywords defined below <\/b> <br>Simply replace the topics and seed terms with your own topics and seed terms (based on the results of the unsupervised LDA!). \n",
                "<br>\n",
                "<\/p>\n",
                "<\/span>\n",
                "<\/div>\n",
                "\n",
                "<br>\n"
            ]
        },
        {
            "cell_type": "code",
            "execution_count": null,
            "metadata": {},
            "outputs": [],
            "source": [
                "# semisupervised LDA\n",
                "dict <- dictionary(list(Computer = c(\"computers\", \"information\", \"machine\", \"computer\"),\n",
                "                        Education = c(\"students\", \"courses\", \"education\", \"university\"),\n",
                "                        Movies = c(\"movie\", \"film\", \"commercial\", \"watch\")))\n",
                "tmod_slda <- seededlda::textmodel_seededlda(clean_dfm, \n",
                "                                            dict, \n",
                "                                            residual = TRUE, \n",
                "                                            min_termfreq = 5)\n",
                "terms(tmod_slda)\n"
            ]
        },
        {
            "cell_type": "markdown",
            "metadata": {},
            "source": [
                "Now, we extract files and create a data frame of topics and documents. This shows what topic is dominant in which file in tabular form.  \n",
                "\n"
            ]
        },
        {
            "cell_type": "code",
            "execution_count": null,
            "metadata": {},
            "outputs": [],
            "source": [
                "files <- stringr::str_replace_all(names(topics(tmod_slda)), \".*/(.*?).txt\", \"\\\\1\")\n",
                "cleancontent <- corpus\n",
                "topics <- topics(tmod_slda)\n",
                "# generate data frame\n",
                "df <- data.frame(files, cleancontent, topics) %>%\n",
                "  dplyr::mutate_if(is.character, factor)\n",
                "# inspect\n",
                "head(df)\n"
            ]
        },
        {
            "cell_type": "markdown",
            "metadata": {},
            "source": [
                "## Exporting data\n",
                "\n",
                "To export a data frame as an MS Excel spreadsheet, we use `write_xlsx`. Be aware that we use the `here` function to  save the file in the current working directory.\n"
            ]
        },
        {
            "cell_type": "code",
            "execution_count": null,
            "metadata": {},
            "outputs": [],
            "source": [
                "# save data for MyOutput folder\n",
                "write_xlsx(dfp, here::here(\"notebooks/MyOutput/df.xlsx\"))\n"
            ]
        },
        {
            "cell_type": "markdown",
            "metadata": {},
            "source": [
                "<div class=\"warning\" style='padding:0.1em; background-color: rgba(215,209,204,.3); color:#51247a'>\n",
                "<span>\n",
                "<p style='margin-top:1em; text-align:center'>\n",
                "<b>You will find the generated MS Excel spreadsheet named \"df.xlsx\" in the `MyOutput` folder (located on the left side of the screen).<\/b> <br><br>Simply double-click the `MyOutput` folder icon, then right-click on the \"df.xlsx\" file, and choose Download from the dropdown menu to download the file. <br>\n",
                "<\/p>\n",
                "<p style='margin-left:1em;'>\n",
                "<\/p><\/span>\n",
                "<\/div>\n",
                "\n",
                "<br>\n",
                "\n",
                "\n",
                "***\n",
                "\n",
                "# Citation & Session Info\n",
                "\n",
                "Schweinberger, Martin. (2024)` *LADAL Topic-Model Tool*. Brisbane: The University of Queensland. url: https://ladal.edu.au/tools.html (Version 2024.04.21).\n"
            ]
        },
        {
            "cell_type": "code",
            "execution_count": null,
            "metadata": {},
            "outputs": [],
            "source": [
                "@manual{schweinberger2024topictool,\n",
                "  author = {Schweinberger, Martin},\n",
                "  title = {LADAL Topic-Model Tool},\n",
                "  note = {https://ladal.edu.au/tools.html},\n",
                "  year = {2024},\n",
                "  organization = {The University of Queensland, School of Languages and Cultures},\n",
                "  address = {Brisbane},\n",
                "  edition = {2024.04.21}\n",
                "}\n"
            ]
        },
        {
            "cell_type": "markdown",
            "metadata": {},
            "source": [
                "[Back to LADAL](https://ladal.edu.au/topicmodels.html)\n",
                "\n",
                "***\n"
            ]
        },
        {
            "cell_type": "code",
            "execution_count": null,
            "metadata": {},
            "outputs": [],
            "source": [
                "sessionInfo()\n",
                "\n"
            ]
        }
    ],
    "metadata": {
        "anaconda-cloud": "",
        "kernelspec": {
            "display_name": "R",
            "langauge": "R",
            "name": "ir"
        },
        "language_info": {
            "codemirror_mode": "r",
            "file_extension": ".r",
            "mimetype": "text/x-r-source",
            "name": "R",
            "pygments_lexer": "r",
            "version": "3.4.1"
        }
    },
    "nbformat": 4,
    "nbformat_minor": 1
}
